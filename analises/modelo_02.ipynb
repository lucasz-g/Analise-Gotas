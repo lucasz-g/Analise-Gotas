{
 "cells": [
  {
   "cell_type": "markdown",
   "metadata": {},
   "source": [
    "### 1. **Objetivos**\n",
    "\n",
    "**Objetivo do Modelo**:  \n",
    "O modelo tem como objetivo principal prever três fatores cruciais para otimizar a produção:\n",
    "\n",
    "1. **Duração recomendada da nova ordem**, estimando a quantidade de dias necessária para produzir a quantidade de frascos solicitada pelo cliente, levando em consideração o total produzido (incluindo os frascos defeituosos).\n",
    "\n",
    "2. **Total de defeitos esperados** para uma nova ordem de produção, com base em medidas físicas (peso, comprimento e diâmetro) e duração da produção.\n",
    "\n",
    "3. **Distribuição dos defeitos por dia**, prevendo o total esperado de defeitos para cada dia de produção, possibilitando a identificação de dias críticos com maior probabilidade de problemas.\n",
    "\n",
    "4. **Total Produzido Esperado**, considerando a quantidade de frascos solicitados pelo cliente e o total de defeitos previstos. O modelo estima o total necessário para garantir que a quantidade entregue ao cliente seja a solicitada, incluindo os frascos defeituosos.\n",
    "\n",
    "\n",
    "### 2. **Solução**\n",
    "\n",
    "**Solução Proposta**:  \n",
    "- Para prever o **total de defeitos**, foi desenvolvido um modelo de **regressão**, utilizando dados históricos sobre medidas físicas (peso, comprimento e diâmetro) e os defeitos observados em ordens anteriores.\n",
    "- O modelo também prevê a **duração recomendada da nova ordem**, com base no total de frascos solicitados pelo cliente e nas características das gotas. Ele considera que, para atender à demanda de frascos entregáveis, é necessário produzir uma quantidade maior de frascos, devido aos defeitos esperados.\n",
    "- Além disso, foi realizada uma análise de sazonalidade para identificar os **dias críticos de defeitos**, ou seja, os dias da produção em que o número de defeitos tende a ser maior.\n",
    "- O modelo também prevê o **total produzido esperado**, ou seja, a quantidade total necessária de frascos para que a quantidade solicitada pelo cliente seja entregue, incluindo os frascos defeituosos.\n",
    "\n",
    "#### **Importante**:  \n",
    "O **total de frascos produzidos** refere-se à quantidade total necessária para atender ao pedido do cliente, incluindo os frascos defeituosos, que não serão entregues. **Exemplo**: Para entregar ***x*** frascos, precisamos produzir/cortar ***(x + n)*** frascos/gotas, onde ***n*** representa o número estimado de defeitos previstos. O **total produzido esperado** leva em consideração essa soma de defeitos previstos.\n",
    "\n",
    "\n",
    "### 3. **Como o Modelo Vai Funcionar (Inputs e Outputs)**\n",
    "\n",
    "**Inputs (Entradas do Modelo)**:  \n",
    "- **Medidas da Ordem**:\n",
    "  - Peso médio (g)\n",
    "  - Comprimento médio (mm)\n",
    "  - Diâmetro\n",
    "- **Total de Frascos Solicitados**:\n",
    "  - Quantidade pedida pelo cliente.\n",
    "- **Dados Históricos**:\n",
    "  - Características das ordens passadas, duração da produção e número de defeitos registrados.\n",
    "\n",
    "**Outputs (Saídas do Modelo)**:\n",
    "- **Previsão do Total de Defeitos**: Quantidade de defeitos esperada para a nova ordem, com base nas características fornecidas.\n",
    "- **Duração Recomendada da Ordem**: Estimativa do número de dias necessários para produzir a quantidade pedida pelo cliente, considerando os defeitos esperados.\n",
    "- **Previsão dos Dias Críticos de Defeitos**: Identificação dos dias da produção com maior probabilidade de apresentar defeitos.\n",
    "- **Total Produzido Esperado**: Quantidade total de frascos a serem produzidos para atender ao pedido do cliente, incluindo os defeitos previstos.\n",
    "\n",
    "\n",
    "### 4. **Conclusão**\n",
    "\n",
    "- **Benefícios**:\n",
    "  - **Planejamento mais eficiente**: O modelo ajuda a determinar não apenas o total de defeitos, mas também a duração recomendada da produção para atender à demanda com menor desperdício e maior precisão no total produzido.\n",
    "  - **Ação preventiva**: A previsão de dias críticos de defeitos permite que a produção se prepare para possíveis problemas e otimize os processos.\n",
    "  - **Redução de erros**: Com mais dados e ajustes contínuos, o modelo pode melhorar significativamente a precisão das previsões, ajudando a reduzir os custos relacionados a defeitos.\n",
    "\n",
    "\n",
    "### 5. **Próximos Passos**\n",
    "\n",
    "1. **Coleta e Análise de Mais Dados**:  \n",
    "   - Incluir dados históricos mais detalhados sobre o comportamento dos defeitos, considerando diferentes tipos de defeitos, condições ambientais e ajustes na linha de produção.  \n",
    "   - Incorporar informações sobre a relação entre **quantidade solicitada** (X) e **quantidade necessária para produção** (Y), para atender ao pedido do cliente, levando em conta os defeitos.\n",
    "\n",
    "2. **Melhorar a Previsão da Duração**:  \n",
    "   - Ajustar o modelo para prever com maior precisão a duração necessária, considerando não apenas os defeitos, mas também a eficiência da linha de produção em diferentes cenários.\n",
    "\n",
    "3. **Previsão Detalhada de Defeitos**:  \n",
    "   - Aperfeiçoar o modelo para prever a quantidade de defeitos diária com maior granularidade, incluindo sazonalidade e variáveis adicionais.\n",
    "\n",
    "4. **Iteração e Validação Contínua**:  \n",
    "   - Realizar ajustes regulares no modelo com novos dados para garantir maior precisão e confiabilidade, aplicando validação cruzada e técnicas de otimização.\n"
   ]
  },
  {
   "cell_type": "code",
   "execution_count": 140,
   "metadata": {},
   "outputs": [],
   "source": [
    "import pandas as pd"
   ]
  },
  {
   "cell_type": "code",
   "execution_count": 141,
   "metadata": {},
   "outputs": [],
   "source": [
    "dados = pd.read_csv('../dados_modelo.csv')\n",
    "df = pd.DataFrame(dados)"
   ]
  },
  {
   "cell_type": "code",
   "execution_count": 142,
   "metadata": {},
   "outputs": [
    {
     "data": {
      "text/html": [
       "<div>\n",
       "<style scoped>\n",
       "    .dataframe tbody tr th:only-of-type {\n",
       "        vertical-align: middle;\n",
       "    }\n",
       "\n",
       "    .dataframe tbody tr th {\n",
       "        vertical-align: top;\n",
       "    }\n",
       "\n",
       "    .dataframe thead th {\n",
       "        text-align: right;\n",
       "    }\n",
       "</style>\n",
       "<table border=\"1\" class=\"dataframe\">\n",
       "  <thead>\n",
       "    <tr style=\"text-align: right;\">\n",
       "      <th></th>\n",
       "      <th>Ordem de prod</th>\n",
       "      <th>Ref. do Artigo</th>\n",
       "      <th>Duração da ordem</th>\n",
       "      <th>Temperatura (F°)</th>\n",
       "      <th>Peso médio (g)</th>\n",
       "      <th>Comprimento médio (mm)</th>\n",
       "      <th>Diâmetro (mm)</th>\n",
       "      <th>Gotas cortadas (toneladas)</th>\n",
       "      <th>Total de Frascos</th>\n",
       "      <th>Total de Defeitos</th>\n",
       "      <th>Sujo de óleo</th>\n",
       "      <th>Aderido</th>\n",
       "      <th>Dobra</th>\n",
       "      <th>Trinca por choque térmico</th>\n",
       "      <th>Ombro mal cheio</th>\n",
       "      <th>Racho na terminação</th>\n",
       "      <th>Lascado em produção</th>\n",
       "      <th>Frio</th>\n",
       "    </tr>\n",
       "  </thead>\n",
       "  <tbody>\n",
       "    <tr>\n",
       "      <th>0</th>\n",
       "      <td>192970</td>\n",
       "      <td>C0516.0000R</td>\n",
       "      <td>9</td>\n",
       "      <td>2125.51</td>\n",
       "      <td>169.91</td>\n",
       "      <td>125.51</td>\n",
       "      <td>30.97</td>\n",
       "      <td>178.79</td>\n",
       "      <td>1052031</td>\n",
       "      <td>2148</td>\n",
       "      <td>437</td>\n",
       "      <td>2</td>\n",
       "      <td>77</td>\n",
       "      <td>176</td>\n",
       "      <td>68</td>\n",
       "      <td>28</td>\n",
       "      <td>12</td>\n",
       "      <td>7</td>\n",
       "    </tr>\n",
       "    <tr>\n",
       "      <th>1</th>\n",
       "      <td>193112</td>\n",
       "      <td>C1164.0000R</td>\n",
       "      <td>3</td>\n",
       "      <td>2173.68</td>\n",
       "      <td>168.17</td>\n",
       "      <td>88.73</td>\n",
       "      <td>38.57</td>\n",
       "      <td>44.73</td>\n",
       "      <td>265727</td>\n",
       "      <td>584</td>\n",
       "      <td>259</td>\n",
       "      <td>0</td>\n",
       "      <td>35</td>\n",
       "      <td>22</td>\n",
       "      <td>0</td>\n",
       "      <td>9</td>\n",
       "      <td>2</td>\n",
       "      <td>0</td>\n",
       "    </tr>\n",
       "    <tr>\n",
       "      <th>2</th>\n",
       "      <td>193164</td>\n",
       "      <td>C1280.0000R</td>\n",
       "      <td>12</td>\n",
       "      <td>2119.41</td>\n",
       "      <td>147.47</td>\n",
       "      <td>100.12</td>\n",
       "      <td>35.43</td>\n",
       "      <td>236.13</td>\n",
       "      <td>1600487</td>\n",
       "      <td>2661</td>\n",
       "      <td>851</td>\n",
       "      <td>2</td>\n",
       "      <td>43</td>\n",
       "      <td>129</td>\n",
       "      <td>0</td>\n",
       "      <td>220</td>\n",
       "      <td>33</td>\n",
       "      <td>19</td>\n",
       "    </tr>\n",
       "    <tr>\n",
       "      <th>3</th>\n",
       "      <td>193206</td>\n",
       "      <td>C1284.0000R</td>\n",
       "      <td>4</td>\n",
       "      <td>2170.66</td>\n",
       "      <td>171.15</td>\n",
       "      <td>90.40</td>\n",
       "      <td>36.88</td>\n",
       "      <td>74.31</td>\n",
       "      <td>433842</td>\n",
       "      <td>1041</td>\n",
       "      <td>245</td>\n",
       "      <td>0</td>\n",
       "      <td>26</td>\n",
       "      <td>6</td>\n",
       "      <td>0</td>\n",
       "      <td>65</td>\n",
       "      <td>10</td>\n",
       "      <td>0</td>\n",
       "    </tr>\n",
       "    <tr>\n",
       "      <th>4</th>\n",
       "      <td>193207</td>\n",
       "      <td>C1298.0000R</td>\n",
       "      <td>10</td>\n",
       "      <td>2139.29</td>\n",
       "      <td>170.87</td>\n",
       "      <td>98.23</td>\n",
       "      <td>36.56</td>\n",
       "      <td>136.92</td>\n",
       "      <td>801014</td>\n",
       "      <td>2130</td>\n",
       "      <td>754</td>\n",
       "      <td>0</td>\n",
       "      <td>27</td>\n",
       "      <td>87</td>\n",
       "      <td>0</td>\n",
       "      <td>79</td>\n",
       "      <td>45</td>\n",
       "      <td>4</td>\n",
       "    </tr>\n",
       "  </tbody>\n",
       "</table>\n",
       "</div>"
      ],
      "text/plain": [
       "   Ordem de prod Ref. do Artigo  Duração da ordem  Temperatura (F°)  \\\n",
       "0         192970    C0516.0000R                 9           2125.51   \n",
       "1         193112    C1164.0000R                 3           2173.68   \n",
       "2         193164    C1280.0000R                12           2119.41   \n",
       "3         193206    C1284.0000R                 4           2170.66   \n",
       "4         193207    C1298.0000R                10           2139.29   \n",
       "\n",
       "   Peso médio (g)  Comprimento médio (mm)  Diâmetro (mm)  \\\n",
       "0          169.91                  125.51          30.97   \n",
       "1          168.17                   88.73          38.57   \n",
       "2          147.47                  100.12          35.43   \n",
       "3          171.15                   90.40          36.88   \n",
       "4          170.87                   98.23          36.56   \n",
       "\n",
       "   Gotas cortadas (toneladas)  Total de Frascos  Total de Defeitos  \\\n",
       "0                      178.79           1052031               2148   \n",
       "1                       44.73            265727                584   \n",
       "2                      236.13           1600487               2661   \n",
       "3                       74.31            433842               1041   \n",
       "4                      136.92            801014               2130   \n",
       "\n",
       "   Sujo de óleo  Aderido  Dobra  Trinca por choque térmico  Ombro mal cheio  \\\n",
       "0           437        2     77                        176               68   \n",
       "1           259        0     35                         22                0   \n",
       "2           851        2     43                        129                0   \n",
       "3           245        0     26                          6                0   \n",
       "4           754        0     27                         87                0   \n",
       "\n",
       "   Racho na terminação  Lascado em produção  Frio  \n",
       "0                   28                   12     7  \n",
       "1                    9                    2     0  \n",
       "2                  220                   33    19  \n",
       "3                   65                   10     0  \n",
       "4                   79                   45     4  "
      ]
     },
     "execution_count": 142,
     "metadata": {},
     "output_type": "execute_result"
    }
   ],
   "source": [
    "df.head().round(2)"
   ]
  },
  {
   "cell_type": "markdown",
   "metadata": {},
   "source": [
    "### Trabalhando com defeitos por dia "
   ]
  },
  {
   "cell_type": "code",
   "execution_count": 143,
   "metadata": {},
   "outputs": [],
   "source": [
    "dados_dias = pd.read_csv('../dados_dias_modelo.csv')\n",
    "df_dias = pd.DataFrame(dados_dias)"
   ]
  },
  {
   "cell_type": "code",
   "execution_count": 144,
   "metadata": {},
   "outputs": [
    {
     "data": {
      "text/html": [
       "<div>\n",
       "<style scoped>\n",
       "    .dataframe tbody tr th:only-of-type {\n",
       "        vertical-align: middle;\n",
       "    }\n",
       "\n",
       "    .dataframe tbody tr th {\n",
       "        vertical-align: top;\n",
       "    }\n",
       "\n",
       "    .dataframe thead th {\n",
       "        text-align: right;\n",
       "    }\n",
       "</style>\n",
       "<table border=\"1\" class=\"dataframe\">\n",
       "  <thead>\n",
       "    <tr style=\"text-align: right;\">\n",
       "      <th></th>\n",
       "      <th>Ordem de prod</th>\n",
       "      <th>Dia Contado</th>\n",
       "      <th>Dias de Duração</th>\n",
       "      <th>Dia Normalizado</th>\n",
       "      <th>Total de Defeitos no Dia</th>\n",
       "    </tr>\n",
       "  </thead>\n",
       "  <tbody>\n",
       "    <tr>\n",
       "      <th>0</th>\n",
       "      <td>192970</td>\n",
       "      <td>1</td>\n",
       "      <td>9</td>\n",
       "      <td>0.111111</td>\n",
       "      <td>222</td>\n",
       "    </tr>\n",
       "    <tr>\n",
       "      <th>1</th>\n",
       "      <td>192970</td>\n",
       "      <td>2</td>\n",
       "      <td>9</td>\n",
       "      <td>0.222222</td>\n",
       "      <td>249</td>\n",
       "    </tr>\n",
       "    <tr>\n",
       "      <th>2</th>\n",
       "      <td>192970</td>\n",
       "      <td>3</td>\n",
       "      <td>9</td>\n",
       "      <td>0.333333</td>\n",
       "      <td>268</td>\n",
       "    </tr>\n",
       "    <tr>\n",
       "      <th>3</th>\n",
       "      <td>192970</td>\n",
       "      <td>4</td>\n",
       "      <td>9</td>\n",
       "      <td>0.444444</td>\n",
       "      <td>242</td>\n",
       "    </tr>\n",
       "    <tr>\n",
       "      <th>4</th>\n",
       "      <td>192970</td>\n",
       "      <td>5</td>\n",
       "      <td>9</td>\n",
       "      <td>0.555556</td>\n",
       "      <td>232</td>\n",
       "    </tr>\n",
       "  </tbody>\n",
       "</table>\n",
       "</div>"
      ],
      "text/plain": [
       "   Ordem de prod  Dia Contado  Dias de Duração  Dia Normalizado  \\\n",
       "0         192970            1                9         0.111111   \n",
       "1         192970            2                9         0.222222   \n",
       "2         192970            3                9         0.333333   \n",
       "3         192970            4                9         0.444444   \n",
       "4         192970            5                9         0.555556   \n",
       "\n",
       "   Total de Defeitos no Dia  \n",
       "0                       222  \n",
       "1                       249  \n",
       "2                       268  \n",
       "3                       242  \n",
       "4                       232  "
      ]
     },
     "execution_count": 144,
     "metadata": {},
     "output_type": "execute_result"
    }
   ],
   "source": [
    "df_dias.head()"
   ]
  },
  {
   "cell_type": "markdown",
   "metadata": {},
   "source": [
    "### Visualização"
   ]
  },
  {
   "cell_type": "markdown",
   "metadata": {},
   "source": [
    "Defeitos por dia contado"
   ]
  },
  {
   "cell_type": "code",
   "execution_count": 145,
   "metadata": {},
   "outputs": [],
   "source": [
    "defeitos_por_dia_contado = df_dias.groupby('Dia Contado')[['Total de Defeitos no Dia']].mean().reset_index()\n",
    "defeitos_por_dia_contado.columns = ['Dia Contado', 'Média de Defeitos']"
   ]
  },
  {
   "cell_type": "code",
   "execution_count": 146,
   "metadata": {},
   "outputs": [
    {
     "data": {
      "application/vnd.plotly.v1+json": {
       "config": {
        "plotlyServerURL": "https://plot.ly"
       },
       "data": [
        {
         "line": {
          "color": "red"
         },
         "marker": {
          "size": 10
         },
         "mode": "lines+markers",
         "name": "Média de Defeitos",
         "type": "scatter",
         "x": [
          1,
          2,
          3,
          4,
          5,
          6,
          7,
          8,
          9,
          10,
          11,
          12,
          13,
          14,
          15,
          16,
          17,
          18,
          19,
          20
         ],
         "y": [
          218.9142857142857,
          240.77142857142857,
          210.8181818181818,
          216.52380952380952,
          211.1764705882353,
          209.46153846153845,
          183.91666666666666,
          197,
          210.16666666666666,
          188.8,
          226.25,
          188,
          161,
          162,
          135,
          184,
          189,
          156,
          177,
          143
         ]
        }
       ],
       "layout": {
        "template": {
         "data": {
          "bar": [
           {
            "error_x": {
             "color": "#2a3f5f"
            },
            "error_y": {
             "color": "#2a3f5f"
            },
            "marker": {
             "line": {
              "color": "#E5ECF6",
              "width": 0.5
             },
             "pattern": {
              "fillmode": "overlay",
              "size": 10,
              "solidity": 0.2
             }
            },
            "type": "bar"
           }
          ],
          "barpolar": [
           {
            "marker": {
             "line": {
              "color": "#E5ECF6",
              "width": 0.5
             },
             "pattern": {
              "fillmode": "overlay",
              "size": 10,
              "solidity": 0.2
             }
            },
            "type": "barpolar"
           }
          ],
          "carpet": [
           {
            "aaxis": {
             "endlinecolor": "#2a3f5f",
             "gridcolor": "white",
             "linecolor": "white",
             "minorgridcolor": "white",
             "startlinecolor": "#2a3f5f"
            },
            "baxis": {
             "endlinecolor": "#2a3f5f",
             "gridcolor": "white",
             "linecolor": "white",
             "minorgridcolor": "white",
             "startlinecolor": "#2a3f5f"
            },
            "type": "carpet"
           }
          ],
          "choropleth": [
           {
            "colorbar": {
             "outlinewidth": 0,
             "ticks": ""
            },
            "type": "choropleth"
           }
          ],
          "contour": [
           {
            "colorbar": {
             "outlinewidth": 0,
             "ticks": ""
            },
            "colorscale": [
             [
              0,
              "#0d0887"
             ],
             [
              0.1111111111111111,
              "#46039f"
             ],
             [
              0.2222222222222222,
              "#7201a8"
             ],
             [
              0.3333333333333333,
              "#9c179e"
             ],
             [
              0.4444444444444444,
              "#bd3786"
             ],
             [
              0.5555555555555556,
              "#d8576b"
             ],
             [
              0.6666666666666666,
              "#ed7953"
             ],
             [
              0.7777777777777778,
              "#fb9f3a"
             ],
             [
              0.8888888888888888,
              "#fdca26"
             ],
             [
              1,
              "#f0f921"
             ]
            ],
            "type": "contour"
           }
          ],
          "contourcarpet": [
           {
            "colorbar": {
             "outlinewidth": 0,
             "ticks": ""
            },
            "type": "contourcarpet"
           }
          ],
          "heatmap": [
           {
            "colorbar": {
             "outlinewidth": 0,
             "ticks": ""
            },
            "colorscale": [
             [
              0,
              "#0d0887"
             ],
             [
              0.1111111111111111,
              "#46039f"
             ],
             [
              0.2222222222222222,
              "#7201a8"
             ],
             [
              0.3333333333333333,
              "#9c179e"
             ],
             [
              0.4444444444444444,
              "#bd3786"
             ],
             [
              0.5555555555555556,
              "#d8576b"
             ],
             [
              0.6666666666666666,
              "#ed7953"
             ],
             [
              0.7777777777777778,
              "#fb9f3a"
             ],
             [
              0.8888888888888888,
              "#fdca26"
             ],
             [
              1,
              "#f0f921"
             ]
            ],
            "type": "heatmap"
           }
          ],
          "heatmapgl": [
           {
            "colorbar": {
             "outlinewidth": 0,
             "ticks": ""
            },
            "colorscale": [
             [
              0,
              "#0d0887"
             ],
             [
              0.1111111111111111,
              "#46039f"
             ],
             [
              0.2222222222222222,
              "#7201a8"
             ],
             [
              0.3333333333333333,
              "#9c179e"
             ],
             [
              0.4444444444444444,
              "#bd3786"
             ],
             [
              0.5555555555555556,
              "#d8576b"
             ],
             [
              0.6666666666666666,
              "#ed7953"
             ],
             [
              0.7777777777777778,
              "#fb9f3a"
             ],
             [
              0.8888888888888888,
              "#fdca26"
             ],
             [
              1,
              "#f0f921"
             ]
            ],
            "type": "heatmapgl"
           }
          ],
          "histogram": [
           {
            "marker": {
             "pattern": {
              "fillmode": "overlay",
              "size": 10,
              "solidity": 0.2
             }
            },
            "type": "histogram"
           }
          ],
          "histogram2d": [
           {
            "colorbar": {
             "outlinewidth": 0,
             "ticks": ""
            },
            "colorscale": [
             [
              0,
              "#0d0887"
             ],
             [
              0.1111111111111111,
              "#46039f"
             ],
             [
              0.2222222222222222,
              "#7201a8"
             ],
             [
              0.3333333333333333,
              "#9c179e"
             ],
             [
              0.4444444444444444,
              "#bd3786"
             ],
             [
              0.5555555555555556,
              "#d8576b"
             ],
             [
              0.6666666666666666,
              "#ed7953"
             ],
             [
              0.7777777777777778,
              "#fb9f3a"
             ],
             [
              0.8888888888888888,
              "#fdca26"
             ],
             [
              1,
              "#f0f921"
             ]
            ],
            "type": "histogram2d"
           }
          ],
          "histogram2dcontour": [
           {
            "colorbar": {
             "outlinewidth": 0,
             "ticks": ""
            },
            "colorscale": [
             [
              0,
              "#0d0887"
             ],
             [
              0.1111111111111111,
              "#46039f"
             ],
             [
              0.2222222222222222,
              "#7201a8"
             ],
             [
              0.3333333333333333,
              "#9c179e"
             ],
             [
              0.4444444444444444,
              "#bd3786"
             ],
             [
              0.5555555555555556,
              "#d8576b"
             ],
             [
              0.6666666666666666,
              "#ed7953"
             ],
             [
              0.7777777777777778,
              "#fb9f3a"
             ],
             [
              0.8888888888888888,
              "#fdca26"
             ],
             [
              1,
              "#f0f921"
             ]
            ],
            "type": "histogram2dcontour"
           }
          ],
          "mesh3d": [
           {
            "colorbar": {
             "outlinewidth": 0,
             "ticks": ""
            },
            "type": "mesh3d"
           }
          ],
          "parcoords": [
           {
            "line": {
             "colorbar": {
              "outlinewidth": 0,
              "ticks": ""
             }
            },
            "type": "parcoords"
           }
          ],
          "pie": [
           {
            "automargin": true,
            "type": "pie"
           }
          ],
          "scatter": [
           {
            "fillpattern": {
             "fillmode": "overlay",
             "size": 10,
             "solidity": 0.2
            },
            "type": "scatter"
           }
          ],
          "scatter3d": [
           {
            "line": {
             "colorbar": {
              "outlinewidth": 0,
              "ticks": ""
             }
            },
            "marker": {
             "colorbar": {
              "outlinewidth": 0,
              "ticks": ""
             }
            },
            "type": "scatter3d"
           }
          ],
          "scattercarpet": [
           {
            "marker": {
             "colorbar": {
              "outlinewidth": 0,
              "ticks": ""
             }
            },
            "type": "scattercarpet"
           }
          ],
          "scattergeo": [
           {
            "marker": {
             "colorbar": {
              "outlinewidth": 0,
              "ticks": ""
             }
            },
            "type": "scattergeo"
           }
          ],
          "scattergl": [
           {
            "marker": {
             "colorbar": {
              "outlinewidth": 0,
              "ticks": ""
             }
            },
            "type": "scattergl"
           }
          ],
          "scattermapbox": [
           {
            "marker": {
             "colorbar": {
              "outlinewidth": 0,
              "ticks": ""
             }
            },
            "type": "scattermapbox"
           }
          ],
          "scatterpolar": [
           {
            "marker": {
             "colorbar": {
              "outlinewidth": 0,
              "ticks": ""
             }
            },
            "type": "scatterpolar"
           }
          ],
          "scatterpolargl": [
           {
            "marker": {
             "colorbar": {
              "outlinewidth": 0,
              "ticks": ""
             }
            },
            "type": "scatterpolargl"
           }
          ],
          "scatterternary": [
           {
            "marker": {
             "colorbar": {
              "outlinewidth": 0,
              "ticks": ""
             }
            },
            "type": "scatterternary"
           }
          ],
          "surface": [
           {
            "colorbar": {
             "outlinewidth": 0,
             "ticks": ""
            },
            "colorscale": [
             [
              0,
              "#0d0887"
             ],
             [
              0.1111111111111111,
              "#46039f"
             ],
             [
              0.2222222222222222,
              "#7201a8"
             ],
             [
              0.3333333333333333,
              "#9c179e"
             ],
             [
              0.4444444444444444,
              "#bd3786"
             ],
             [
              0.5555555555555556,
              "#d8576b"
             ],
             [
              0.6666666666666666,
              "#ed7953"
             ],
             [
              0.7777777777777778,
              "#fb9f3a"
             ],
             [
              0.8888888888888888,
              "#fdca26"
             ],
             [
              1,
              "#f0f921"
             ]
            ],
            "type": "surface"
           }
          ],
          "table": [
           {
            "cells": {
             "fill": {
              "color": "#EBF0F8"
             },
             "line": {
              "color": "white"
             }
            },
            "header": {
             "fill": {
              "color": "#C8D4E3"
             },
             "line": {
              "color": "white"
             }
            },
            "type": "table"
           }
          ]
         },
         "layout": {
          "annotationdefaults": {
           "arrowcolor": "#2a3f5f",
           "arrowhead": 0,
           "arrowwidth": 1
          },
          "autotypenumbers": "strict",
          "coloraxis": {
           "colorbar": {
            "outlinewidth": 0,
            "ticks": ""
           }
          },
          "colorscale": {
           "diverging": [
            [
             0,
             "#8e0152"
            ],
            [
             0.1,
             "#c51b7d"
            ],
            [
             0.2,
             "#de77ae"
            ],
            [
             0.3,
             "#f1b6da"
            ],
            [
             0.4,
             "#fde0ef"
            ],
            [
             0.5,
             "#f7f7f7"
            ],
            [
             0.6,
             "#e6f5d0"
            ],
            [
             0.7,
             "#b8e186"
            ],
            [
             0.8,
             "#7fbc41"
            ],
            [
             0.9,
             "#4d9221"
            ],
            [
             1,
             "#276419"
            ]
           ],
           "sequential": [
            [
             0,
             "#0d0887"
            ],
            [
             0.1111111111111111,
             "#46039f"
            ],
            [
             0.2222222222222222,
             "#7201a8"
            ],
            [
             0.3333333333333333,
             "#9c179e"
            ],
            [
             0.4444444444444444,
             "#bd3786"
            ],
            [
             0.5555555555555556,
             "#d8576b"
            ],
            [
             0.6666666666666666,
             "#ed7953"
            ],
            [
             0.7777777777777778,
             "#fb9f3a"
            ],
            [
             0.8888888888888888,
             "#fdca26"
            ],
            [
             1,
             "#f0f921"
            ]
           ],
           "sequentialminus": [
            [
             0,
             "#0d0887"
            ],
            [
             0.1111111111111111,
             "#46039f"
            ],
            [
             0.2222222222222222,
             "#7201a8"
            ],
            [
             0.3333333333333333,
             "#9c179e"
            ],
            [
             0.4444444444444444,
             "#bd3786"
            ],
            [
             0.5555555555555556,
             "#d8576b"
            ],
            [
             0.6666666666666666,
             "#ed7953"
            ],
            [
             0.7777777777777778,
             "#fb9f3a"
            ],
            [
             0.8888888888888888,
             "#fdca26"
            ],
            [
             1,
             "#f0f921"
            ]
           ]
          },
          "colorway": [
           "#636efa",
           "#EF553B",
           "#00cc96",
           "#ab63fa",
           "#FFA15A",
           "#19d3f3",
           "#FF6692",
           "#B6E880",
           "#FF97FF",
           "#FECB52"
          ],
          "font": {
           "color": "#2a3f5f"
          },
          "geo": {
           "bgcolor": "white",
           "lakecolor": "white",
           "landcolor": "#E5ECF6",
           "showlakes": true,
           "showland": true,
           "subunitcolor": "white"
          },
          "hoverlabel": {
           "align": "left"
          },
          "hovermode": "closest",
          "mapbox": {
           "style": "light"
          },
          "paper_bgcolor": "white",
          "plot_bgcolor": "#E5ECF6",
          "polar": {
           "angularaxis": {
            "gridcolor": "white",
            "linecolor": "white",
            "ticks": ""
           },
           "bgcolor": "#E5ECF6",
           "radialaxis": {
            "gridcolor": "white",
            "linecolor": "white",
            "ticks": ""
           }
          },
          "scene": {
           "xaxis": {
            "backgroundcolor": "#E5ECF6",
            "gridcolor": "white",
            "gridwidth": 2,
            "linecolor": "white",
            "showbackground": true,
            "ticks": "",
            "zerolinecolor": "white"
           },
           "yaxis": {
            "backgroundcolor": "#E5ECF6",
            "gridcolor": "white",
            "gridwidth": 2,
            "linecolor": "white",
            "showbackground": true,
            "ticks": "",
            "zerolinecolor": "white"
           },
           "zaxis": {
            "backgroundcolor": "#E5ECF6",
            "gridcolor": "white",
            "gridwidth": 2,
            "linecolor": "white",
            "showbackground": true,
            "ticks": "",
            "zerolinecolor": "white"
           }
          },
          "shapedefaults": {
           "line": {
            "color": "#2a3f5f"
           }
          },
          "ternary": {
           "aaxis": {
            "gridcolor": "white",
            "linecolor": "white",
            "ticks": ""
           },
           "baxis": {
            "gridcolor": "white",
            "linecolor": "white",
            "ticks": ""
           },
           "bgcolor": "#E5ECF6",
           "caxis": {
            "gridcolor": "white",
            "linecolor": "white",
            "ticks": ""
           }
          },
          "title": {
           "x": 0.05
          },
          "xaxis": {
           "automargin": true,
           "gridcolor": "white",
           "linecolor": "white",
           "ticks": "",
           "title": {
            "standoff": 15
           },
           "zerolinecolor": "white",
           "zerolinewidth": 2
          },
          "yaxis": {
           "automargin": true,
           "gridcolor": "white",
           "linecolor": "white",
           "ticks": "",
           "title": {
            "standoff": 15
           },
           "zerolinecolor": "white",
           "zerolinewidth": 2
          }
         }
        },
        "title": {
         "font": {
          "size": 16
         },
         "text": "Média de Defeitos por Dia Contado"
        },
        "xaxis": {
         "title": {
          "font": {
           "size": 14
          },
          "text": "Dia Contado"
         }
        },
        "yaxis": {
         "title": {
          "font": {
           "size": 14
          },
          "text": "Média de Defeitos"
         }
        }
       }
      }
     },
     "metadata": {},
     "output_type": "display_data"
    }
   ],
   "source": [
    "import plotly.graph_objects as go\n",
    "\n",
    "fig = go.Figure()\n",
    "\n",
    "fig.add_trace(go.Scatter(x=defeitos_por_dia_contado['Dia Contado'],\n",
    "                         y=defeitos_por_dia_contado['Média de Defeitos'],\n",
    "                         mode='lines+markers', \n",
    "                         marker=dict(size=10),\n",
    "                         line=dict(color='red'),\n",
    "                         name='Média de Defeitos'))\n",
    "\n",
    "fig.update_layout(\n",
    "    title='Média de Defeitos por Dia Contado',\n",
    "    title_font_size=16,\n",
    "    xaxis_title='Dia Contado',\n",
    "    xaxis_title_font_size=14,\n",
    "    yaxis_title='Média de Defeitos',\n",
    "    yaxis_title_font_size=14\n",
    ")\n",
    "\n",
    "fig.show()"
   ]
  },
  {
   "cell_type": "markdown",
   "metadata": {},
   "source": [
    "## Implementando Modelo"
   ]
  },
  {
   "cell_type": "markdown",
   "metadata": {},
   "source": [
    "### Definindo variáveis e teste"
   ]
  },
  {
   "cell_type": "code",
   "execution_count": 147,
   "metadata": {},
   "outputs": [],
   "source": [
    "from sklearn.model_selection import train_test_split\n",
    "\n",
    "# Selecionando as variáveis de entrada e saída\n",
    "X = df[['Peso médio (g)', 'Comprimento médio (mm)', \n",
    "        'Diâmetro (mm)', 'Total de Frascos']]\n",
    "y = df[['Duração da ordem', 'Total de Defeitos']]\n",
    "\n",
    "# Divisão em treino e teste\n",
    "X_train, X_test, y_train, y_test = train_test_split(X, y, test_size=0.2, random_state=42)"
   ]
  },
  {
   "cell_type": "code",
   "execution_count": 148,
   "metadata": {},
   "outputs": [
    {
     "name": "stdout",
     "output_type": "stream",
     "text": [
      "Mean Squared Error (Duração da ordem): 0.56\n",
      "R² Score (Duração da ordem): 0.77\n",
      "Mean Squared Error (Total de Defeitos): 28057.65\n",
      "R² Score (Total de Defeitos): 0.61\n"
     ]
    }
   ],
   "source": [
    "from sklearn.ensemble import RandomForestRegressor\n",
    "from sklearn.metrics import mean_squared_error, r2_score\n",
    "import math\n",
    "\n",
    "# Instanciando o modelo\n",
    "model = RandomForestRegressor(random_state=42, n_estimators=100)\n",
    "\n",
    "# Treinando o modelo\n",
    "model.fit(X_train, y_train)\n",
    "\n",
    "# Fazendo previsões\n",
    "y_pred = model.predict(X_test)\n",
    "\n",
    "# Separando previsões para 'Duração da ordem' e 'Total de Defeitos'\n",
    "y_test_duracao = y_test['Duração da ordem']\n",
    "y_test_defeitos = y_test['Total de Defeitos']\n",
    "y_pred_duracao = y_pred[:, 0]\n",
    "y_pred_defeitos = y_pred[:, 1]\n",
    "\n",
    "# Avaliação do modelo\n",
    "print(f\"Mean Squared Error (Duração da ordem): {mean_squared_error(y_test_duracao, y_pred_duracao):.2f}\")\n",
    "print(f\"R² Score (Duração da ordem): {r2_score(y_test_duracao, y_pred_duracao):.2f}\")\n",
    "print(f\"Mean Squared Error (Total de Defeitos): {mean_squared_error(y_test_defeitos, y_pred_defeitos):.2f}\")\n",
    "print(f\"R² Score (Total de Defeitos): {r2_score(y_test_defeitos, y_pred_defeitos):.2f}\")"
   ]
  },
  {
   "cell_type": "markdown",
   "metadata": {},
   "source": [
    "### Testando Modelo"
   ]
  },
  {
   "cell_type": "code",
   "execution_count": 149,
   "metadata": {},
   "outputs": [
    {
     "name": "stdout",
     "output_type": "stream",
     "text": [
      "Duração prevista da ordem: 9.00 dias\n",
      "Total de defeitos previstos: 1893.56\n"
     ]
    },
    {
     "name": "stderr",
     "output_type": "stream",
     "text": [
      "c:\\Users\\evosystem02.ti\\AppData\\Local\\anaconda3\\Lib\\site-packages\\sklearn\\base.py:493: UserWarning:\n",
      "\n",
      "X does not have valid feature names, but RandomForestRegressor was fitted with feature names\n",
      "\n"
     ]
    }
   ],
   "source": [
    "# Dados de uma nova ordem\n",
    "nova_ordem = [[169.3, 40.2, 12.5, 1123456]]\n",
    "\n",
    "# Fazendo a previsão\n",
    "nova_predicao = model.predict(nova_ordem)\n",
    "\n",
    "# Extraindo as previsões\n",
    "nova_duracao_prevista = math.ceil(nova_predicao[0][0])  # Previsão da duração\n",
    "novo_total_defeitos_previsto = nova_predicao[0][1]  # Previsão do total de defeitos\n",
    "\n",
    "print(f\"Duração prevista da ordem: {nova_duracao_prevista:.2f} dias\")\n",
    "print(f\"Total de defeitos previstos: {novo_total_defeitos_previsto:.2f}\")"
   ]
  },
  {
   "cell_type": "markdown",
   "metadata": {},
   "source": [
    "**`math.ceil()`**:\n",
    "   - Garante que `nova_duracao_prevista` seja arredondada sempre para cima.\n",
    "   - Por exemplo: `2.50` será arredondado para `3`, e `3.01` também será arredondado para `4`.\n"
   ]
  },
  {
   "cell_type": "markdown",
   "metadata": {},
   "source": [
    "> Arredondar para o próximo número inteiro (em vez de truncar) torna o cálculo mais conservador, especialmente em cenários onde o tempo de duração deve ser superestimado para evitar problemas."
   ]
  },
  {
   "cell_type": "markdown",
   "metadata": {},
   "source": [
    "### Como seria a soma com o total solicitado: \n",
    "\n",
    "O total produzido esperado é a soma do número de frascos solicitados pelo cliente e os defeitos previstos."
   ]
  },
  {
   "cell_type": "code",
   "execution_count": 150,
   "metadata": {},
   "outputs": [],
   "source": [
    "# Calculando o total produzido esperado\n",
    "total_frascos_solicitados = nova_ordem[0][3]  # Total solicitado (ex.: 123456)\n",
    "total_produzido_esperado = total_frascos_solicitados + math.ceil(novo_total_defeitos_previsto)"
   ]
  },
  {
   "cell_type": "code",
   "execution_count": 151,
   "metadata": {},
   "outputs": [
    {
     "name": "stdout",
     "output_type": "stream",
     "text": [
      "Total solicitados: 1123456 frascos\n",
      "Total produzido esperado: 1125350 frascos\n"
     ]
    }
   ],
   "source": [
    "print(f\"Total solicitados: {total_frascos_solicitados} frascos\")\n",
    "print(f\"Total produzido esperado: {total_produzido_esperado} frascos\")"
   ]
  },
  {
   "cell_type": "markdown",
   "metadata": {},
   "source": [
    "### Distribuição dos defeitos"
   ]
  },
  {
   "cell_type": "markdown",
   "metadata": {},
   "source": [
    "Distribuindo os defeitos previstos proporcionalmente com base na média histórica:"
   ]
  },
  {
   "cell_type": "code",
   "execution_count": 152,
   "metadata": {},
   "outputs": [],
   "source": [
    "# Soma total das médias de defeitos\n",
    "total_medio_defeitos = defeitos_por_dia_contado['Média de Defeitos'].sum()\n",
    "\n",
    "# Calcula os defeitos previstos proporcionalmente\n",
    "defeitos_por_dia_contado['Defeitos Previstos'] = (\n",
    "    (defeitos_por_dia_contado['Média de Defeitos'] / total_medio_defeitos) * novo_total_defeitos_previsto\n",
    ")"
   ]
  },
  {
   "cell_type": "markdown",
   "metadata": {},
   "source": [
    "Garantimos que apenas os dias que correspondem à duração prevista da nova ordem sejam considerados:"
   ]
  },
  {
   "cell_type": "code",
   "execution_count": 153,
   "metadata": {},
   "outputs": [],
   "source": [
    "# Seleciona apenas os dias da nova ordem\n",
    "df_dias_duracao = defeitos_por_dia_contado.head(nova_duracao_prevista).copy()"
   ]
  },
  {
   "cell_type": "markdown",
   "metadata": {},
   "source": [
    "Certificando que a soma total dos defeitos para os dias selecionados seja igual ao total de defeitos esperado"
   ]
  },
  {
   "cell_type": "code",
   "execution_count": 154,
   "metadata": {},
   "outputs": [],
   "source": [
    "# Soma dos defeitos previstos para os dias selecionados\n",
    "soma_defeitos_dia = df_dias_duracao['Defeitos Previstos'].sum()\n",
    "\n",
    "# Calcula o fator de ajuste\n",
    "ajuste_fator = novo_total_defeitos_previsto / soma_defeitos_dia\n",
    "\n",
    "# Aplica o ajuste nos defeitos previstos\n",
    "df_dias_duracao.loc[:, 'Defeitos Previstos'] *= ajuste_fator"
   ]
  },
  {
   "cell_type": "markdown",
   "metadata": {},
   "source": [
    "Visualização"
   ]
  },
  {
   "cell_type": "code",
   "execution_count": 155,
   "metadata": {},
   "outputs": [
    {
     "name": "stdout",
     "output_type": "stream",
     "text": [
      "Duração prevista da ordem: 9.00 dias\n",
      "Total de defeitos previstos: 1893.56\n"
     ]
    },
    {
     "data": {
      "application/vnd.plotly.v1+json": {
       "config": {
        "plotlyServerURL": "https://plot.ly"
       },
       "data": [
        {
         "line": {
          "color": "green"
         },
         "marker": {
          "size": 10
         },
         "mode": "lines+markers",
         "name": "Defeitos Previstos",
         "type": "scatter",
         "x": [
          1,
          2,
          3,
          4,
          5,
          6,
          7,
          8,
          9
         ],
         "y": [
          218.31601985076136,
          240.11342982019917,
          210.24204161252754,
          215.93207653819977,
          210.5993512233649,
          208.8891057956028,
          183.41404499882603,
          196.461623188593,
          209.59230697192538
         ]
        }
       ],
       "layout": {
        "template": {
         "data": {
          "bar": [
           {
            "error_x": {
             "color": "#2a3f5f"
            },
            "error_y": {
             "color": "#2a3f5f"
            },
            "marker": {
             "line": {
              "color": "#E5ECF6",
              "width": 0.5
             },
             "pattern": {
              "fillmode": "overlay",
              "size": 10,
              "solidity": 0.2
             }
            },
            "type": "bar"
           }
          ],
          "barpolar": [
           {
            "marker": {
             "line": {
              "color": "#E5ECF6",
              "width": 0.5
             },
             "pattern": {
              "fillmode": "overlay",
              "size": 10,
              "solidity": 0.2
             }
            },
            "type": "barpolar"
           }
          ],
          "carpet": [
           {
            "aaxis": {
             "endlinecolor": "#2a3f5f",
             "gridcolor": "white",
             "linecolor": "white",
             "minorgridcolor": "white",
             "startlinecolor": "#2a3f5f"
            },
            "baxis": {
             "endlinecolor": "#2a3f5f",
             "gridcolor": "white",
             "linecolor": "white",
             "minorgridcolor": "white",
             "startlinecolor": "#2a3f5f"
            },
            "type": "carpet"
           }
          ],
          "choropleth": [
           {
            "colorbar": {
             "outlinewidth": 0,
             "ticks": ""
            },
            "type": "choropleth"
           }
          ],
          "contour": [
           {
            "colorbar": {
             "outlinewidth": 0,
             "ticks": ""
            },
            "colorscale": [
             [
              0,
              "#0d0887"
             ],
             [
              0.1111111111111111,
              "#46039f"
             ],
             [
              0.2222222222222222,
              "#7201a8"
             ],
             [
              0.3333333333333333,
              "#9c179e"
             ],
             [
              0.4444444444444444,
              "#bd3786"
             ],
             [
              0.5555555555555556,
              "#d8576b"
             ],
             [
              0.6666666666666666,
              "#ed7953"
             ],
             [
              0.7777777777777778,
              "#fb9f3a"
             ],
             [
              0.8888888888888888,
              "#fdca26"
             ],
             [
              1,
              "#f0f921"
             ]
            ],
            "type": "contour"
           }
          ],
          "contourcarpet": [
           {
            "colorbar": {
             "outlinewidth": 0,
             "ticks": ""
            },
            "type": "contourcarpet"
           }
          ],
          "heatmap": [
           {
            "colorbar": {
             "outlinewidth": 0,
             "ticks": ""
            },
            "colorscale": [
             [
              0,
              "#0d0887"
             ],
             [
              0.1111111111111111,
              "#46039f"
             ],
             [
              0.2222222222222222,
              "#7201a8"
             ],
             [
              0.3333333333333333,
              "#9c179e"
             ],
             [
              0.4444444444444444,
              "#bd3786"
             ],
             [
              0.5555555555555556,
              "#d8576b"
             ],
             [
              0.6666666666666666,
              "#ed7953"
             ],
             [
              0.7777777777777778,
              "#fb9f3a"
             ],
             [
              0.8888888888888888,
              "#fdca26"
             ],
             [
              1,
              "#f0f921"
             ]
            ],
            "type": "heatmap"
           }
          ],
          "heatmapgl": [
           {
            "colorbar": {
             "outlinewidth": 0,
             "ticks": ""
            },
            "colorscale": [
             [
              0,
              "#0d0887"
             ],
             [
              0.1111111111111111,
              "#46039f"
             ],
             [
              0.2222222222222222,
              "#7201a8"
             ],
             [
              0.3333333333333333,
              "#9c179e"
             ],
             [
              0.4444444444444444,
              "#bd3786"
             ],
             [
              0.5555555555555556,
              "#d8576b"
             ],
             [
              0.6666666666666666,
              "#ed7953"
             ],
             [
              0.7777777777777778,
              "#fb9f3a"
             ],
             [
              0.8888888888888888,
              "#fdca26"
             ],
             [
              1,
              "#f0f921"
             ]
            ],
            "type": "heatmapgl"
           }
          ],
          "histogram": [
           {
            "marker": {
             "pattern": {
              "fillmode": "overlay",
              "size": 10,
              "solidity": 0.2
             }
            },
            "type": "histogram"
           }
          ],
          "histogram2d": [
           {
            "colorbar": {
             "outlinewidth": 0,
             "ticks": ""
            },
            "colorscale": [
             [
              0,
              "#0d0887"
             ],
             [
              0.1111111111111111,
              "#46039f"
             ],
             [
              0.2222222222222222,
              "#7201a8"
             ],
             [
              0.3333333333333333,
              "#9c179e"
             ],
             [
              0.4444444444444444,
              "#bd3786"
             ],
             [
              0.5555555555555556,
              "#d8576b"
             ],
             [
              0.6666666666666666,
              "#ed7953"
             ],
             [
              0.7777777777777778,
              "#fb9f3a"
             ],
             [
              0.8888888888888888,
              "#fdca26"
             ],
             [
              1,
              "#f0f921"
             ]
            ],
            "type": "histogram2d"
           }
          ],
          "histogram2dcontour": [
           {
            "colorbar": {
             "outlinewidth": 0,
             "ticks": ""
            },
            "colorscale": [
             [
              0,
              "#0d0887"
             ],
             [
              0.1111111111111111,
              "#46039f"
             ],
             [
              0.2222222222222222,
              "#7201a8"
             ],
             [
              0.3333333333333333,
              "#9c179e"
             ],
             [
              0.4444444444444444,
              "#bd3786"
             ],
             [
              0.5555555555555556,
              "#d8576b"
             ],
             [
              0.6666666666666666,
              "#ed7953"
             ],
             [
              0.7777777777777778,
              "#fb9f3a"
             ],
             [
              0.8888888888888888,
              "#fdca26"
             ],
             [
              1,
              "#f0f921"
             ]
            ],
            "type": "histogram2dcontour"
           }
          ],
          "mesh3d": [
           {
            "colorbar": {
             "outlinewidth": 0,
             "ticks": ""
            },
            "type": "mesh3d"
           }
          ],
          "parcoords": [
           {
            "line": {
             "colorbar": {
              "outlinewidth": 0,
              "ticks": ""
             }
            },
            "type": "parcoords"
           }
          ],
          "pie": [
           {
            "automargin": true,
            "type": "pie"
           }
          ],
          "scatter": [
           {
            "fillpattern": {
             "fillmode": "overlay",
             "size": 10,
             "solidity": 0.2
            },
            "type": "scatter"
           }
          ],
          "scatter3d": [
           {
            "line": {
             "colorbar": {
              "outlinewidth": 0,
              "ticks": ""
             }
            },
            "marker": {
             "colorbar": {
              "outlinewidth": 0,
              "ticks": ""
             }
            },
            "type": "scatter3d"
           }
          ],
          "scattercarpet": [
           {
            "marker": {
             "colorbar": {
              "outlinewidth": 0,
              "ticks": ""
             }
            },
            "type": "scattercarpet"
           }
          ],
          "scattergeo": [
           {
            "marker": {
             "colorbar": {
              "outlinewidth": 0,
              "ticks": ""
             }
            },
            "type": "scattergeo"
           }
          ],
          "scattergl": [
           {
            "marker": {
             "colorbar": {
              "outlinewidth": 0,
              "ticks": ""
             }
            },
            "type": "scattergl"
           }
          ],
          "scattermapbox": [
           {
            "marker": {
             "colorbar": {
              "outlinewidth": 0,
              "ticks": ""
             }
            },
            "type": "scattermapbox"
           }
          ],
          "scatterpolar": [
           {
            "marker": {
             "colorbar": {
              "outlinewidth": 0,
              "ticks": ""
             }
            },
            "type": "scatterpolar"
           }
          ],
          "scatterpolargl": [
           {
            "marker": {
             "colorbar": {
              "outlinewidth": 0,
              "ticks": ""
             }
            },
            "type": "scatterpolargl"
           }
          ],
          "scatterternary": [
           {
            "marker": {
             "colorbar": {
              "outlinewidth": 0,
              "ticks": ""
             }
            },
            "type": "scatterternary"
           }
          ],
          "surface": [
           {
            "colorbar": {
             "outlinewidth": 0,
             "ticks": ""
            },
            "colorscale": [
             [
              0,
              "#0d0887"
             ],
             [
              0.1111111111111111,
              "#46039f"
             ],
             [
              0.2222222222222222,
              "#7201a8"
             ],
             [
              0.3333333333333333,
              "#9c179e"
             ],
             [
              0.4444444444444444,
              "#bd3786"
             ],
             [
              0.5555555555555556,
              "#d8576b"
             ],
             [
              0.6666666666666666,
              "#ed7953"
             ],
             [
              0.7777777777777778,
              "#fb9f3a"
             ],
             [
              0.8888888888888888,
              "#fdca26"
             ],
             [
              1,
              "#f0f921"
             ]
            ],
            "type": "surface"
           }
          ],
          "table": [
           {
            "cells": {
             "fill": {
              "color": "#EBF0F8"
             },
             "line": {
              "color": "white"
             }
            },
            "header": {
             "fill": {
              "color": "#C8D4E3"
             },
             "line": {
              "color": "white"
             }
            },
            "type": "table"
           }
          ]
         },
         "layout": {
          "annotationdefaults": {
           "arrowcolor": "#2a3f5f",
           "arrowhead": 0,
           "arrowwidth": 1
          },
          "autotypenumbers": "strict",
          "coloraxis": {
           "colorbar": {
            "outlinewidth": 0,
            "ticks": ""
           }
          },
          "colorscale": {
           "diverging": [
            [
             0,
             "#8e0152"
            ],
            [
             0.1,
             "#c51b7d"
            ],
            [
             0.2,
             "#de77ae"
            ],
            [
             0.3,
             "#f1b6da"
            ],
            [
             0.4,
             "#fde0ef"
            ],
            [
             0.5,
             "#f7f7f7"
            ],
            [
             0.6,
             "#e6f5d0"
            ],
            [
             0.7,
             "#b8e186"
            ],
            [
             0.8,
             "#7fbc41"
            ],
            [
             0.9,
             "#4d9221"
            ],
            [
             1,
             "#276419"
            ]
           ],
           "sequential": [
            [
             0,
             "#0d0887"
            ],
            [
             0.1111111111111111,
             "#46039f"
            ],
            [
             0.2222222222222222,
             "#7201a8"
            ],
            [
             0.3333333333333333,
             "#9c179e"
            ],
            [
             0.4444444444444444,
             "#bd3786"
            ],
            [
             0.5555555555555556,
             "#d8576b"
            ],
            [
             0.6666666666666666,
             "#ed7953"
            ],
            [
             0.7777777777777778,
             "#fb9f3a"
            ],
            [
             0.8888888888888888,
             "#fdca26"
            ],
            [
             1,
             "#f0f921"
            ]
           ],
           "sequentialminus": [
            [
             0,
             "#0d0887"
            ],
            [
             0.1111111111111111,
             "#46039f"
            ],
            [
             0.2222222222222222,
             "#7201a8"
            ],
            [
             0.3333333333333333,
             "#9c179e"
            ],
            [
             0.4444444444444444,
             "#bd3786"
            ],
            [
             0.5555555555555556,
             "#d8576b"
            ],
            [
             0.6666666666666666,
             "#ed7953"
            ],
            [
             0.7777777777777778,
             "#fb9f3a"
            ],
            [
             0.8888888888888888,
             "#fdca26"
            ],
            [
             1,
             "#f0f921"
            ]
           ]
          },
          "colorway": [
           "#636efa",
           "#EF553B",
           "#00cc96",
           "#ab63fa",
           "#FFA15A",
           "#19d3f3",
           "#FF6692",
           "#B6E880",
           "#FF97FF",
           "#FECB52"
          ],
          "font": {
           "color": "#2a3f5f"
          },
          "geo": {
           "bgcolor": "white",
           "lakecolor": "white",
           "landcolor": "#E5ECF6",
           "showlakes": true,
           "showland": true,
           "subunitcolor": "white"
          },
          "hoverlabel": {
           "align": "left"
          },
          "hovermode": "closest",
          "mapbox": {
           "style": "light"
          },
          "paper_bgcolor": "white",
          "plot_bgcolor": "#E5ECF6",
          "polar": {
           "angularaxis": {
            "gridcolor": "white",
            "linecolor": "white",
            "ticks": ""
           },
           "bgcolor": "#E5ECF6",
           "radialaxis": {
            "gridcolor": "white",
            "linecolor": "white",
            "ticks": ""
           }
          },
          "scene": {
           "xaxis": {
            "backgroundcolor": "#E5ECF6",
            "gridcolor": "white",
            "gridwidth": 2,
            "linecolor": "white",
            "showbackground": true,
            "ticks": "",
            "zerolinecolor": "white"
           },
           "yaxis": {
            "backgroundcolor": "#E5ECF6",
            "gridcolor": "white",
            "gridwidth": 2,
            "linecolor": "white",
            "showbackground": true,
            "ticks": "",
            "zerolinecolor": "white"
           },
           "zaxis": {
            "backgroundcolor": "#E5ECF6",
            "gridcolor": "white",
            "gridwidth": 2,
            "linecolor": "white",
            "showbackground": true,
            "ticks": "",
            "zerolinecolor": "white"
           }
          },
          "shapedefaults": {
           "line": {
            "color": "#2a3f5f"
           }
          },
          "ternary": {
           "aaxis": {
            "gridcolor": "white",
            "linecolor": "white",
            "ticks": ""
           },
           "baxis": {
            "gridcolor": "white",
            "linecolor": "white",
            "ticks": ""
           },
           "bgcolor": "#E5ECF6",
           "caxis": {
            "gridcolor": "white",
            "linecolor": "white",
            "ticks": ""
           }
          },
          "title": {
           "x": 0.05
          },
          "xaxis": {
           "automargin": true,
           "gridcolor": "white",
           "linecolor": "white",
           "ticks": "",
           "title": {
            "standoff": 15
           },
           "zerolinecolor": "white",
           "zerolinewidth": 2
          },
          "yaxis": {
           "automargin": true,
           "gridcolor": "white",
           "linecolor": "white",
           "ticks": "",
           "title": {
            "standoff": 15
           },
           "zerolinecolor": "white",
           "zerolinewidth": 2
          }
         }
        },
        "title": {
         "font": {
          "size": 16
         },
         "text": "Previsão de Defeitos ao Longo dos 9 Dias da Nova Ordem"
        },
        "xaxis": {
         "title": {
          "font": {
           "size": 14
          },
          "text": "Dia de Produção"
         }
        },
        "yaxis": {
         "title": {
          "font": {
           "size": 14
          },
          "text": "Defeitos Previstos"
         }
        }
       }
      }
     },
     "metadata": {},
     "output_type": "display_data"
    },
    {
     "data": {
      "text/html": [
       "<div>\n",
       "<style scoped>\n",
       "    .dataframe tbody tr th:only-of-type {\n",
       "        vertical-align: middle;\n",
       "    }\n",
       "\n",
       "    .dataframe tbody tr th {\n",
       "        vertical-align: top;\n",
       "    }\n",
       "\n",
       "    .dataframe thead th {\n",
       "        text-align: right;\n",
       "    }\n",
       "</style>\n",
       "<table border=\"1\" class=\"dataframe\">\n",
       "  <thead>\n",
       "    <tr style=\"text-align: right;\">\n",
       "      <th></th>\n",
       "      <th>Defeitos Previstos</th>\n",
       "    </tr>\n",
       "    <tr>\n",
       "      <th>Dia Contado</th>\n",
       "      <th></th>\n",
       "    </tr>\n",
       "  </thead>\n",
       "  <tbody>\n",
       "    <tr>\n",
       "      <th>1</th>\n",
       "      <td>218.316020</td>\n",
       "    </tr>\n",
       "    <tr>\n",
       "      <th>2</th>\n",
       "      <td>240.113430</td>\n",
       "    </tr>\n",
       "    <tr>\n",
       "      <th>3</th>\n",
       "      <td>210.242042</td>\n",
       "    </tr>\n",
       "    <tr>\n",
       "      <th>4</th>\n",
       "      <td>215.932077</td>\n",
       "    </tr>\n",
       "    <tr>\n",
       "      <th>5</th>\n",
       "      <td>210.599351</td>\n",
       "    </tr>\n",
       "    <tr>\n",
       "      <th>6</th>\n",
       "      <td>208.889106</td>\n",
       "    </tr>\n",
       "    <tr>\n",
       "      <th>7</th>\n",
       "      <td>183.414045</td>\n",
       "    </tr>\n",
       "    <tr>\n",
       "      <th>8</th>\n",
       "      <td>196.461623</td>\n",
       "    </tr>\n",
       "    <tr>\n",
       "      <th>9</th>\n",
       "      <td>209.592307</td>\n",
       "    </tr>\n",
       "  </tbody>\n",
       "</table>\n",
       "</div>"
      ],
      "text/plain": [
       "             Defeitos Previstos\n",
       "Dia Contado                    \n",
       "1                    218.316020\n",
       "2                    240.113430\n",
       "3                    210.242042\n",
       "4                    215.932077\n",
       "5                    210.599351\n",
       "6                    208.889106\n",
       "7                    183.414045\n",
       "8                    196.461623\n",
       "9                    209.592307"
      ]
     },
     "execution_count": 155,
     "metadata": {},
     "output_type": "execute_result"
    }
   ],
   "source": [
    "# Gráfico de previsão de defeitos\n",
    "fig = go.Figure()\n",
    "\n",
    "fig.add_trace(go.Scatter(\n",
    "    x=df_dias_duracao['Dia Contado'],\n",
    "    y=df_dias_duracao['Defeitos Previstos'],\n",
    "    mode='lines+markers',\n",
    "    marker=dict(size=10),\n",
    "    line=dict(color='green'),\n",
    "    name='Defeitos Previstos'\n",
    "))\n",
    "\n",
    "fig.update_layout(\n",
    "    title=f'Previsão de Defeitos ao Longo dos {nova_duracao_prevista} Dias da Nova Ordem',\n",
    "    title_font_size=16,\n",
    "    xaxis_title='Dia de Produção',\n",
    "    xaxis_title_font_size=14,\n",
    "    yaxis_title='Defeitos Previstos',\n",
    "    yaxis_title_font_size=14\n",
    ")\n",
    "\n",
    "print(f\"Duração prevista da ordem: {nova_duracao_prevista:.2f} dias\")\n",
    "print(f\"Total de defeitos previstos: {novo_total_defeitos_previsto:.2f}\")\n",
    "\n",
    "fig.show()\n",
    "\n",
    "df_dias_duracao[['Dia Contado', 'Defeitos Previstos']].set_index('Dia Contado')"
   ]
  }
 ],
 "metadata": {
  "kernelspec": {
   "display_name": "base",
   "language": "python",
   "name": "python3"
  },
  "language_info": {
   "codemirror_mode": {
    "name": "ipython",
    "version": 3
   },
   "file_extension": ".py",
   "mimetype": "text/x-python",
   "name": "python",
   "nbconvert_exporter": "python",
   "pygments_lexer": "ipython3",
   "version": "3.12.7"
  }
 },
 "nbformat": 4,
 "nbformat_minor": 2
}
