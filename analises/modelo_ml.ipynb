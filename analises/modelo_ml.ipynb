{
 "cells": [
  {
   "cell_type": "markdown",
   "metadata": {},
   "source": [
    "## Implementação do Modelo"
   ]
  },
  {
   "cell_type": "markdown",
   "metadata": {},
   "source": [
    "### Importando bibliotecas"
   ]
  },
  {
   "cell_type": "code",
   "execution_count": 2,
   "metadata": {},
   "outputs": [],
   "source": [
    "import pandas as pd\n",
    "import numpy as np\n",
    "from sklearn.ensemble import GradientBoostingRegressor\n",
    "from sklearn.model_selection import train_test_split\n",
    "from sklearn.metrics import mean_squared_error, r2_score\n",
    "from sklearn.preprocessing import StandardScaler\n",
    "import plotly.express as px\n",
    "import plotly.graph_objects as go"
   ]
  },
  {
   "cell_type": "markdown",
   "metadata": {},
   "source": [
    "### Importando dataset"
   ]
  },
  {
   "cell_type": "code",
   "execution_count": 3,
   "metadata": {},
   "outputs": [],
   "source": [
    "dados = pd.read_csv('../dados/medidas_geral_e_defeitos.csv')\n",
    "df = pd.DataFrame(dados)"
   ]
  },
  {
   "cell_type": "markdown",
   "metadata": {},
   "source": [
    "### Definindo multiíndice"
   ]
  },
  {
   "cell_type": "code",
   "execution_count": 4,
   "metadata": {},
   "outputs": [],
   "source": [
    "df = df.set_index(['Ordem de prod', 'Ref. do Artigo', 'Data de prod'])"
   ]
  },
  {
   "cell_type": "code",
   "execution_count": 5,
   "metadata": {},
   "outputs": [
    {
     "data": {
      "text/html": [
       "<div>\n",
       "<style scoped>\n",
       "    .dataframe tbody tr th:only-of-type {\n",
       "        vertical-align: middle;\n",
       "    }\n",
       "\n",
       "    .dataframe tbody tr th {\n",
       "        vertical-align: top;\n",
       "    }\n",
       "\n",
       "    .dataframe thead th {\n",
       "        text-align: right;\n",
       "    }\n",
       "</style>\n",
       "<table border=\"1\" class=\"dataframe\">\n",
       "  <thead>\n",
       "    <tr style=\"text-align: right;\">\n",
       "      <th></th>\n",
       "      <th></th>\n",
       "      <th></th>\n",
       "      <th>Temperatura (F°)</th>\n",
       "      <th>Peso médio (g)</th>\n",
       "      <th>Comprimento médio (mm)</th>\n",
       "      <th>Diâmetro</th>\n",
       "      <th>Gotas cortadas (toneladas)</th>\n",
       "      <th>Total de Defeitos no Dia</th>\n",
       "      <th>Defeito Mais Frequente do Dia</th>\n",
       "      <th>Sujo de óleo</th>\n",
       "      <th>Rugas</th>\n",
       "      <th>Racho na terminação</th>\n",
       "      <th>...</th>\n",
       "      <th>Bolha aberta interna</th>\n",
       "      <th>Cascão cortante</th>\n",
       "      <th>Espessura abaixo do mínimo</th>\n",
       "      <th>Fundo deformado</th>\n",
       "      <th>Bolha na alça</th>\n",
       "      <th>Ferrugem no corpo</th>\n",
       "      <th>Fagulha</th>\n",
       "      <th>Alça deformada</th>\n",
       "      <th>Instabilidade</th>\n",
       "      <th>Crú</th>\n",
       "    </tr>\n",
       "    <tr>\n",
       "      <th>Ordem de prod</th>\n",
       "      <th>Ref. do Artigo</th>\n",
       "      <th>Data de prod</th>\n",
       "      <th></th>\n",
       "      <th></th>\n",
       "      <th></th>\n",
       "      <th></th>\n",
       "      <th></th>\n",
       "      <th></th>\n",
       "      <th></th>\n",
       "      <th></th>\n",
       "      <th></th>\n",
       "      <th></th>\n",
       "      <th></th>\n",
       "      <th></th>\n",
       "      <th></th>\n",
       "      <th></th>\n",
       "      <th></th>\n",
       "      <th></th>\n",
       "      <th></th>\n",
       "      <th></th>\n",
       "      <th></th>\n",
       "      <th></th>\n",
       "      <th></th>\n",
       "    </tr>\n",
       "  </thead>\n",
       "  <tbody>\n",
       "    <tr>\n",
       "      <th rowspan=\"5\" valign=\"top\">192970</th>\n",
       "      <th rowspan=\"5\" valign=\"top\">C0516.0000R</th>\n",
       "      <th>2024-01-03</th>\n",
       "      <td>2126.97</td>\n",
       "      <td>169.3</td>\n",
       "      <td>110.4</td>\n",
       "      <td>32.5</td>\n",
       "      <td>20.948</td>\n",
       "      <td>222</td>\n",
       "      <td>Sujo de óleo</td>\n",
       "      <td>31</td>\n",
       "      <td>23</td>\n",
       "      <td>1</td>\n",
       "      <td>...</td>\n",
       "      <td>0</td>\n",
       "      <td>0</td>\n",
       "      <td>0</td>\n",
       "      <td>0</td>\n",
       "      <td>0</td>\n",
       "      <td>0</td>\n",
       "      <td>0</td>\n",
       "      <td>0</td>\n",
       "      <td>0</td>\n",
       "      <td>0</td>\n",
       "    </tr>\n",
       "    <tr>\n",
       "      <th>2024-01-04</th>\n",
       "      <td>2118.92</td>\n",
       "      <td>169.7</td>\n",
       "      <td>85.6</td>\n",
       "      <td>18.1</td>\n",
       "      <td>21.022</td>\n",
       "      <td>249</td>\n",
       "      <td>Sujo de óleo</td>\n",
       "      <td>49</td>\n",
       "      <td>15</td>\n",
       "      <td>6</td>\n",
       "      <td>...</td>\n",
       "      <td>0</td>\n",
       "      <td>0</td>\n",
       "      <td>0</td>\n",
       "      <td>0</td>\n",
       "      <td>0</td>\n",
       "      <td>0</td>\n",
       "      <td>0</td>\n",
       "      <td>0</td>\n",
       "      <td>0</td>\n",
       "      <td>0</td>\n",
       "    </tr>\n",
       "    <tr>\n",
       "      <th>2024-01-05</th>\n",
       "      <td>2125.00</td>\n",
       "      <td>173.6</td>\n",
       "      <td>140.5</td>\n",
       "      <td>32.9</td>\n",
       "      <td>21.449</td>\n",
       "      <td>268</td>\n",
       "      <td>Sujo de óleo</td>\n",
       "      <td>49</td>\n",
       "      <td>25</td>\n",
       "      <td>3</td>\n",
       "      <td>...</td>\n",
       "      <td>0</td>\n",
       "      <td>0</td>\n",
       "      <td>0</td>\n",
       "      <td>0</td>\n",
       "      <td>0</td>\n",
       "      <td>0</td>\n",
       "      <td>0</td>\n",
       "      <td>0</td>\n",
       "      <td>0</td>\n",
       "      <td>0</td>\n",
       "    </tr>\n",
       "    <tr>\n",
       "      <th>2024-01-06</th>\n",
       "      <td>2125.40</td>\n",
       "      <td>170.2</td>\n",
       "      <td>144.7</td>\n",
       "      <td>32.7</td>\n",
       "      <td>21.526</td>\n",
       "      <td>242</td>\n",
       "      <td>Sujo de óleo</td>\n",
       "      <td>73</td>\n",
       "      <td>20</td>\n",
       "      <td>5</td>\n",
       "      <td>...</td>\n",
       "      <td>0</td>\n",
       "      <td>0</td>\n",
       "      <td>0</td>\n",
       "      <td>0</td>\n",
       "      <td>0</td>\n",
       "      <td>0</td>\n",
       "      <td>0</td>\n",
       "      <td>0</td>\n",
       "      <td>0</td>\n",
       "      <td>0</td>\n",
       "    </tr>\n",
       "    <tr>\n",
       "      <th>2024-01-07</th>\n",
       "      <td>2126.76</td>\n",
       "      <td>171.7</td>\n",
       "      <td>141.5</td>\n",
       "      <td>30.2</td>\n",
       "      <td>21.439</td>\n",
       "      <td>232</td>\n",
       "      <td>Sujo de óleo</td>\n",
       "      <td>49</td>\n",
       "      <td>24</td>\n",
       "      <td>0</td>\n",
       "      <td>...</td>\n",
       "      <td>0</td>\n",
       "      <td>0</td>\n",
       "      <td>0</td>\n",
       "      <td>0</td>\n",
       "      <td>0</td>\n",
       "      <td>0</td>\n",
       "      <td>0</td>\n",
       "      <td>0</td>\n",
       "      <td>0</td>\n",
       "      <td>0</td>\n",
       "    </tr>\n",
       "    <tr>\n",
       "      <th>...</th>\n",
       "      <th>...</th>\n",
       "      <th>...</th>\n",
       "      <td>...</td>\n",
       "      <td>...</td>\n",
       "      <td>...</td>\n",
       "      <td>...</td>\n",
       "      <td>...</td>\n",
       "      <td>...</td>\n",
       "      <td>...</td>\n",
       "      <td>...</td>\n",
       "      <td>...</td>\n",
       "      <td>...</td>\n",
       "      <td>...</td>\n",
       "      <td>...</td>\n",
       "      <td>...</td>\n",
       "      <td>...</td>\n",
       "      <td>...</td>\n",
       "      <td>...</td>\n",
       "      <td>...</td>\n",
       "      <td>...</td>\n",
       "      <td>...</td>\n",
       "      <td>...</td>\n",
       "      <td>...</td>\n",
       "    </tr>\n",
       "    <tr>\n",
       "      <th rowspan=\"5\" valign=\"top\">194121</th>\n",
       "      <th rowspan=\"5\" valign=\"top\">C0516.0000R</th>\n",
       "      <th>2024-06-26</th>\n",
       "      <td>2154.44</td>\n",
       "      <td>169.0</td>\n",
       "      <td>124.3</td>\n",
       "      <td>32.6</td>\n",
       "      <td>21.412</td>\n",
       "      <td>258</td>\n",
       "      <td>Sujo de óleo</td>\n",
       "      <td>40</td>\n",
       "      <td>39</td>\n",
       "      <td>9</td>\n",
       "      <td>...</td>\n",
       "      <td>1</td>\n",
       "      <td>0</td>\n",
       "      <td>0</td>\n",
       "      <td>0</td>\n",
       "      <td>0</td>\n",
       "      <td>0</td>\n",
       "      <td>0</td>\n",
       "      <td>0</td>\n",
       "      <td>0</td>\n",
       "      <td>0</td>\n",
       "    </tr>\n",
       "    <tr>\n",
       "      <th>2024-06-27</th>\n",
       "      <td>2152.32</td>\n",
       "      <td>168.9</td>\n",
       "      <td>120.2</td>\n",
       "      <td>33.6</td>\n",
       "      <td>21.447</td>\n",
       "      <td>218</td>\n",
       "      <td>Sujo de óleo</td>\n",
       "      <td>75</td>\n",
       "      <td>33</td>\n",
       "      <td>4</td>\n",
       "      <td>...</td>\n",
       "      <td>0</td>\n",
       "      <td>0</td>\n",
       "      <td>0</td>\n",
       "      <td>0</td>\n",
       "      <td>0</td>\n",
       "      <td>0</td>\n",
       "      <td>0</td>\n",
       "      <td>0</td>\n",
       "      <td>0</td>\n",
       "      <td>0</td>\n",
       "    </tr>\n",
       "    <tr>\n",
       "      <th>2024-06-28</th>\n",
       "      <td>2145.60</td>\n",
       "      <td>169.3</td>\n",
       "      <td>124.1</td>\n",
       "      <td>34.2</td>\n",
       "      <td>21.491</td>\n",
       "      <td>218</td>\n",
       "      <td>Sujo de óleo</td>\n",
       "      <td>54</td>\n",
       "      <td>15</td>\n",
       "      <td>19</td>\n",
       "      <td>...</td>\n",
       "      <td>0</td>\n",
       "      <td>0</td>\n",
       "      <td>0</td>\n",
       "      <td>0</td>\n",
       "      <td>0</td>\n",
       "      <td>0</td>\n",
       "      <td>0</td>\n",
       "      <td>0</td>\n",
       "      <td>0</td>\n",
       "      <td>0</td>\n",
       "    </tr>\n",
       "    <tr>\n",
       "      <th>2024-06-29</th>\n",
       "      <td>2145.60</td>\n",
       "      <td>168.8</td>\n",
       "      <td>120.0</td>\n",
       "      <td>33.5</td>\n",
       "      <td>21.419</td>\n",
       "      <td>213</td>\n",
       "      <td>Sujo de óleo</td>\n",
       "      <td>54</td>\n",
       "      <td>27</td>\n",
       "      <td>20</td>\n",
       "      <td>...</td>\n",
       "      <td>0</td>\n",
       "      <td>0</td>\n",
       "      <td>0</td>\n",
       "      <td>0</td>\n",
       "      <td>0</td>\n",
       "      <td>0</td>\n",
       "      <td>1</td>\n",
       "      <td>0</td>\n",
       "      <td>0</td>\n",
       "      <td>0</td>\n",
       "    </tr>\n",
       "    <tr>\n",
       "      <th>2024-06-30</th>\n",
       "      <td>2148.00</td>\n",
       "      <td>169.2</td>\n",
       "      <td>122.9</td>\n",
       "      <td>34.6</td>\n",
       "      <td>21.548</td>\n",
       "      <td>256</td>\n",
       "      <td>Sujo de óleo</td>\n",
       "      <td>58</td>\n",
       "      <td>25</td>\n",
       "      <td>29</td>\n",
       "      <td>...</td>\n",
       "      <td>0</td>\n",
       "      <td>0</td>\n",
       "      <td>0</td>\n",
       "      <td>0</td>\n",
       "      <td>0</td>\n",
       "      <td>0</td>\n",
       "      <td>0</td>\n",
       "      <td>0</td>\n",
       "      <td>0</td>\n",
       "      <td>0</td>\n",
       "    </tr>\n",
       "  </tbody>\n",
       "</table>\n",
       "<p>200 rows × 134 columns</p>\n",
       "</div>"
      ],
      "text/plain": [
       "                                           Temperatura (F°)  Peso médio (g)  \\\n",
       "Ordem de prod Ref. do Artigo Data de prod                                     \n",
       "192970        C0516.0000R    2024-01-03             2126.97           169.3   \n",
       "                             2024-01-04             2118.92           169.7   \n",
       "                             2024-01-05             2125.00           173.6   \n",
       "                             2024-01-06             2125.40           170.2   \n",
       "                             2024-01-07             2126.76           171.7   \n",
       "...                                                     ...             ...   \n",
       "194121        C0516.0000R    2024-06-26             2154.44           169.0   \n",
       "                             2024-06-27             2152.32           168.9   \n",
       "                             2024-06-28             2145.60           169.3   \n",
       "                             2024-06-29             2145.60           168.8   \n",
       "                             2024-06-30             2148.00           169.2   \n",
       "\n",
       "                                           Comprimento médio (mm)  Diâmetro  \\\n",
       "Ordem de prod Ref. do Artigo Data de prod                                     \n",
       "192970        C0516.0000R    2024-01-03                     110.4      32.5   \n",
       "                             2024-01-04                      85.6      18.1   \n",
       "                             2024-01-05                     140.5      32.9   \n",
       "                             2024-01-06                     144.7      32.7   \n",
       "                             2024-01-07                     141.5      30.2   \n",
       "...                                                           ...       ...   \n",
       "194121        C0516.0000R    2024-06-26                     124.3      32.6   \n",
       "                             2024-06-27                     120.2      33.6   \n",
       "                             2024-06-28                     124.1      34.2   \n",
       "                             2024-06-29                     120.0      33.5   \n",
       "                             2024-06-30                     122.9      34.6   \n",
       "\n",
       "                                           Gotas cortadas (toneladas)  \\\n",
       "Ordem de prod Ref. do Artigo Data de prod                               \n",
       "192970        C0516.0000R    2024-01-03                        20.948   \n",
       "                             2024-01-04                        21.022   \n",
       "                             2024-01-05                        21.449   \n",
       "                             2024-01-06                        21.526   \n",
       "                             2024-01-07                        21.439   \n",
       "...                                                               ...   \n",
       "194121        C0516.0000R    2024-06-26                        21.412   \n",
       "                             2024-06-27                        21.447   \n",
       "                             2024-06-28                        21.491   \n",
       "                             2024-06-29                        21.419   \n",
       "                             2024-06-30                        21.548   \n",
       "\n",
       "                                           Total de Defeitos no Dia  \\\n",
       "Ordem de prod Ref. do Artigo Data de prod                             \n",
       "192970        C0516.0000R    2024-01-03                         222   \n",
       "                             2024-01-04                         249   \n",
       "                             2024-01-05                         268   \n",
       "                             2024-01-06                         242   \n",
       "                             2024-01-07                         232   \n",
       "...                                                             ...   \n",
       "194121        C0516.0000R    2024-06-26                         258   \n",
       "                             2024-06-27                         218   \n",
       "                             2024-06-28                         218   \n",
       "                             2024-06-29                         213   \n",
       "                             2024-06-30                         256   \n",
       "\n",
       "                                          Defeito Mais Frequente do Dia  \\\n",
       "Ordem de prod Ref. do Artigo Data de prod                                 \n",
       "192970        C0516.0000R    2024-01-03                    Sujo de óleo   \n",
       "                             2024-01-04                    Sujo de óleo   \n",
       "                             2024-01-05                    Sujo de óleo   \n",
       "                             2024-01-06                    Sujo de óleo   \n",
       "                             2024-01-07                    Sujo de óleo   \n",
       "...                                                                 ...   \n",
       "194121        C0516.0000R    2024-06-26                    Sujo de óleo   \n",
       "                             2024-06-27                    Sujo de óleo   \n",
       "                             2024-06-28                    Sujo de óleo   \n",
       "                             2024-06-29                    Sujo de óleo   \n",
       "                             2024-06-30                    Sujo de óleo   \n",
       "\n",
       "                                           Sujo de óleo  Rugas  \\\n",
       "Ordem de prod Ref. do Artigo Data de prod                        \n",
       "192970        C0516.0000R    2024-01-03              31     23   \n",
       "                             2024-01-04              49     15   \n",
       "                             2024-01-05              49     25   \n",
       "                             2024-01-06              73     20   \n",
       "                             2024-01-07              49     24   \n",
       "...                                                 ...    ...   \n",
       "194121        C0516.0000R    2024-06-26              40     39   \n",
       "                             2024-06-27              75     33   \n",
       "                             2024-06-28              54     15   \n",
       "                             2024-06-29              54     27   \n",
       "                             2024-06-30              58     25   \n",
       "\n",
       "                                           Racho na terminação  ...  \\\n",
       "Ordem de prod Ref. do Artigo Data de prod                       ...   \n",
       "192970        C0516.0000R    2024-01-03                      1  ...   \n",
       "                             2024-01-04                      6  ...   \n",
       "                             2024-01-05                      3  ...   \n",
       "                             2024-01-06                      5  ...   \n",
       "                             2024-01-07                      0  ...   \n",
       "...                                                        ...  ...   \n",
       "194121        C0516.0000R    2024-06-26                      9  ...   \n",
       "                             2024-06-27                      4  ...   \n",
       "                             2024-06-28                     19  ...   \n",
       "                             2024-06-29                     20  ...   \n",
       "                             2024-06-30                     29  ...   \n",
       "\n",
       "                                           Bolha aberta interna  \\\n",
       "Ordem de prod Ref. do Artigo Data de prod                         \n",
       "192970        C0516.0000R    2024-01-03                       0   \n",
       "                             2024-01-04                       0   \n",
       "                             2024-01-05                       0   \n",
       "                             2024-01-06                       0   \n",
       "                             2024-01-07                       0   \n",
       "...                                                         ...   \n",
       "194121        C0516.0000R    2024-06-26                       1   \n",
       "                             2024-06-27                       0   \n",
       "                             2024-06-28                       0   \n",
       "                             2024-06-29                       0   \n",
       "                             2024-06-30                       0   \n",
       "\n",
       "                                           Cascão cortante  \\\n",
       "Ordem de prod Ref. do Artigo Data de prod                    \n",
       "192970        C0516.0000R    2024-01-03                  0   \n",
       "                             2024-01-04                  0   \n",
       "                             2024-01-05                  0   \n",
       "                             2024-01-06                  0   \n",
       "                             2024-01-07                  0   \n",
       "...                                                    ...   \n",
       "194121        C0516.0000R    2024-06-26                  0   \n",
       "                             2024-06-27                  0   \n",
       "                             2024-06-28                  0   \n",
       "                             2024-06-29                  0   \n",
       "                             2024-06-30                  0   \n",
       "\n",
       "                                           Espessura abaixo do mínimo  \\\n",
       "Ordem de prod Ref. do Artigo Data de prod                               \n",
       "192970        C0516.0000R    2024-01-03                             0   \n",
       "                             2024-01-04                             0   \n",
       "                             2024-01-05                             0   \n",
       "                             2024-01-06                             0   \n",
       "                             2024-01-07                             0   \n",
       "...                                                               ...   \n",
       "194121        C0516.0000R    2024-06-26                             0   \n",
       "                             2024-06-27                             0   \n",
       "                             2024-06-28                             0   \n",
       "                             2024-06-29                             0   \n",
       "                             2024-06-30                             0   \n",
       "\n",
       "                                           Fundo deformado  Bolha na alça  \\\n",
       "Ordem de prod Ref. do Artigo Data de prod                                   \n",
       "192970        C0516.0000R    2024-01-03                  0              0   \n",
       "                             2024-01-04                  0              0   \n",
       "                             2024-01-05                  0              0   \n",
       "                             2024-01-06                  0              0   \n",
       "                             2024-01-07                  0              0   \n",
       "...                                                    ...            ...   \n",
       "194121        C0516.0000R    2024-06-26                  0              0   \n",
       "                             2024-06-27                  0              0   \n",
       "                             2024-06-28                  0              0   \n",
       "                             2024-06-29                  0              0   \n",
       "                             2024-06-30                  0              0   \n",
       "\n",
       "                                           Ferrugem no corpo  Fagulha  \\\n",
       "Ordem de prod Ref. do Artigo Data de prod                               \n",
       "192970        C0516.0000R    2024-01-03                    0        0   \n",
       "                             2024-01-04                    0        0   \n",
       "                             2024-01-05                    0        0   \n",
       "                             2024-01-06                    0        0   \n",
       "                             2024-01-07                    0        0   \n",
       "...                                                      ...      ...   \n",
       "194121        C0516.0000R    2024-06-26                    0        0   \n",
       "                             2024-06-27                    0        0   \n",
       "                             2024-06-28                    0        0   \n",
       "                             2024-06-29                    0        1   \n",
       "                             2024-06-30                    0        0   \n",
       "\n",
       "                                           Alça deformada  Instabilidade  Crú  \n",
       "Ordem de prod Ref. do Artigo Data de prod                                      \n",
       "192970        C0516.0000R    2024-01-03                 0              0    0  \n",
       "                             2024-01-04                 0              0    0  \n",
       "                             2024-01-05                 0              0    0  \n",
       "                             2024-01-06                 0              0    0  \n",
       "                             2024-01-07                 0              0    0  \n",
       "...                                                   ...            ...  ...  \n",
       "194121        C0516.0000R    2024-06-26                 0              0    0  \n",
       "                             2024-06-27                 0              0    0  \n",
       "                             2024-06-28                 0              0    0  \n",
       "                             2024-06-29                 0              0    0  \n",
       "                             2024-06-30                 0              0    0  \n",
       "\n",
       "[200 rows x 134 columns]"
      ]
     },
     "execution_count": 5,
     "metadata": {},
     "output_type": "execute_result"
    }
   ],
   "source": [
    "df"
   ]
  },
  {
   "cell_type": "markdown",
   "metadata": {},
   "source": [
    "### Verificando se o dataframe está limpo e padronizado"
   ]
  },
  {
   "cell_type": "code",
   "execution_count": 6,
   "metadata": {},
   "outputs": [
    {
     "name": "stdout",
     "output_type": "stream",
     "text": [
      "<class 'pandas.core.frame.DataFrame'>\n",
      "MultiIndex: 200 entries, (192970, 'C0516.0000R', '2024-01-03') to (194121, 'C0516.0000R', '2024-06-30')\n",
      "Columns: 134 entries, Temperatura (F°) to Crú\n",
      "dtypes: float64(5), int64(128), object(1)\n",
      "memory usage: 217.8+ KB\n"
     ]
    }
   ],
   "source": [
    "df.info()"
   ]
  },
  {
   "cell_type": "code",
   "execution_count": 7,
   "metadata": {},
   "outputs": [
    {
     "data": {
      "text/plain": [
       "Temperatura (F°)              0\n",
       "Peso médio (g)                0\n",
       "Comprimento médio (mm)        0\n",
       "Diâmetro                      0\n",
       "Gotas cortadas (toneladas)    0\n",
       "                             ..\n",
       "Ferrugem no corpo             0\n",
       "Fagulha                       0\n",
       "Alça deformada                0\n",
       "Instabilidade                 0\n",
       "Crú                           0\n",
       "Length: 134, dtype: int64"
      ]
     },
     "execution_count": 7,
     "metadata": {},
     "output_type": "execute_result"
    }
   ],
   "source": [
    "df.isnull().sum()"
   ]
  },
  {
   "cell_type": "markdown",
   "metadata": {},
   "source": [
    "### Criando Dataframe sem índice"
   ]
  },
  {
   "cell_type": "code",
   "execution_count": 8,
   "metadata": {},
   "outputs": [],
   "source": [
    "df_reset = df.reset_index()"
   ]
  },
  {
   "cell_type": "markdown",
   "metadata": {},
   "source": [
    "### Variância dos defeitos por dia"
   ]
  },
  {
   "cell_type": "code",
   "execution_count": 9,
   "metadata": {},
   "outputs": [
    {
     "data": {
      "application/vnd.plotly.v1+json": {
       "config": {
        "plotlyServerURL": "https://plot.ly"
       },
       "data": [
        {
         "alignmentgroup": "True",
         "boxpoints": "all",
         "hovertemplate": "Total de Defeitos no Dia=%{y}<extra></extra>",
         "legendgroup": "",
         "marker": {
          "color": "#636EFA"
         },
         "name": "",
         "notched": false,
         "offsetgroup": "",
         "orientation": "v",
         "showlegend": false,
         "type": "box",
         "x0": " ",
         "xaxis": "x",
         "y": [
          222,
          249,
          268,
          242,
          232,
          229,
          191,
          222,
          293,
          159,
          203,
          222,
          293,
          240,
          171,
          231,
          229,
          231,
          198,
          215,
          212,
          224,
          224,
          193,
          208,
          255,
          287,
          291,
          291,
          243,
          201,
          229,
          201,
          220,
          187,
          201,
          191,
          166,
          127,
          242,
          242,
          305,
          276,
          277,
          280,
          305,
          122,
          180,
          296,
          217,
          211,
          198,
          170,
          195,
          177,
          191,
          168,
          192,
          183,
          161,
          162,
          135,
          184,
          189,
          156,
          177,
          143,
          122,
          254,
          249,
          229,
          212,
          218,
          180,
          143,
          189,
          173,
          298,
          265,
          230,
          256,
          192,
          173,
          188,
          197,
          203,
          206,
          185,
          169,
          162,
          175,
          206,
          179,
          192,
          184,
          169,
          175,
          200,
          249,
          244,
          195,
          317,
          288,
          113,
          192,
          212,
          188,
          154,
          166,
          176,
          216,
          113,
          240,
          214,
          191,
          205,
          205,
          206,
          190,
          175,
          234,
          226,
          295,
          200,
          182,
          234,
          295,
          328,
          249,
          195,
          266,
          211,
          211,
          198,
          199,
          183,
          210,
          228,
          352,
          214,
          212,
          264,
          203,
          231,
          196,
          179,
          198,
          261,
          210,
          353,
          324,
          218,
          192,
          190,
          190,
          184,
          182,
          148,
          158,
          195,
          188,
          228,
          261,
          210,
          178,
          231,
          243,
          303,
          239,
          198,
          189,
          171,
          179,
          195,
          242,
          243,
          212,
          167,
          277,
          243,
          242,
          204,
          152,
          204,
          167,
          209,
          206,
          239,
          193,
          196,
          79,
          203,
          234,
          273,
          273,
          258,
          218,
          218,
          213,
          256
         ],
         "y0": " ",
         "yaxis": "y"
        }
       ],
       "layout": {
        "boxmode": "group",
        "font": {
         "size": 12
        },
        "height": 600,
        "legend": {
         "tracegroupgap": 0
        },
        "margin": {
         "b": 50,
         "l": 50,
         "r": 50,
         "t": 50
        },
        "template": {
         "data": {
          "bar": [
           {
            "error_x": {
             "color": "#2a3f5f"
            },
            "error_y": {
             "color": "#2a3f5f"
            },
            "marker": {
             "line": {
              "color": "#E5ECF6",
              "width": 0.5
             },
             "pattern": {
              "fillmode": "overlay",
              "size": 10,
              "solidity": 0.2
             }
            },
            "type": "bar"
           }
          ],
          "barpolar": [
           {
            "marker": {
             "line": {
              "color": "#E5ECF6",
              "width": 0.5
             },
             "pattern": {
              "fillmode": "overlay",
              "size": 10,
              "solidity": 0.2
             }
            },
            "type": "barpolar"
           }
          ],
          "carpet": [
           {
            "aaxis": {
             "endlinecolor": "#2a3f5f",
             "gridcolor": "white",
             "linecolor": "white",
             "minorgridcolor": "white",
             "startlinecolor": "#2a3f5f"
            },
            "baxis": {
             "endlinecolor": "#2a3f5f",
             "gridcolor": "white",
             "linecolor": "white",
             "minorgridcolor": "white",
             "startlinecolor": "#2a3f5f"
            },
            "type": "carpet"
           }
          ],
          "choropleth": [
           {
            "colorbar": {
             "outlinewidth": 0,
             "ticks": ""
            },
            "type": "choropleth"
           }
          ],
          "contour": [
           {
            "colorbar": {
             "outlinewidth": 0,
             "ticks": ""
            },
            "colorscale": [
             [
              0,
              "#0d0887"
             ],
             [
              0.1111111111111111,
              "#46039f"
             ],
             [
              0.2222222222222222,
              "#7201a8"
             ],
             [
              0.3333333333333333,
              "#9c179e"
             ],
             [
              0.4444444444444444,
              "#bd3786"
             ],
             [
              0.5555555555555556,
              "#d8576b"
             ],
             [
              0.6666666666666666,
              "#ed7953"
             ],
             [
              0.7777777777777778,
              "#fb9f3a"
             ],
             [
              0.8888888888888888,
              "#fdca26"
             ],
             [
              1,
              "#f0f921"
             ]
            ],
            "type": "contour"
           }
          ],
          "contourcarpet": [
           {
            "colorbar": {
             "outlinewidth": 0,
             "ticks": ""
            },
            "type": "contourcarpet"
           }
          ],
          "heatmap": [
           {
            "colorbar": {
             "outlinewidth": 0,
             "ticks": ""
            },
            "colorscale": [
             [
              0,
              "#0d0887"
             ],
             [
              0.1111111111111111,
              "#46039f"
             ],
             [
              0.2222222222222222,
              "#7201a8"
             ],
             [
              0.3333333333333333,
              "#9c179e"
             ],
             [
              0.4444444444444444,
              "#bd3786"
             ],
             [
              0.5555555555555556,
              "#d8576b"
             ],
             [
              0.6666666666666666,
              "#ed7953"
             ],
             [
              0.7777777777777778,
              "#fb9f3a"
             ],
             [
              0.8888888888888888,
              "#fdca26"
             ],
             [
              1,
              "#f0f921"
             ]
            ],
            "type": "heatmap"
           }
          ],
          "heatmapgl": [
           {
            "colorbar": {
             "outlinewidth": 0,
             "ticks": ""
            },
            "colorscale": [
             [
              0,
              "#0d0887"
             ],
             [
              0.1111111111111111,
              "#46039f"
             ],
             [
              0.2222222222222222,
              "#7201a8"
             ],
             [
              0.3333333333333333,
              "#9c179e"
             ],
             [
              0.4444444444444444,
              "#bd3786"
             ],
             [
              0.5555555555555556,
              "#d8576b"
             ],
             [
              0.6666666666666666,
              "#ed7953"
             ],
             [
              0.7777777777777778,
              "#fb9f3a"
             ],
             [
              0.8888888888888888,
              "#fdca26"
             ],
             [
              1,
              "#f0f921"
             ]
            ],
            "type": "heatmapgl"
           }
          ],
          "histogram": [
           {
            "marker": {
             "pattern": {
              "fillmode": "overlay",
              "size": 10,
              "solidity": 0.2
             }
            },
            "type": "histogram"
           }
          ],
          "histogram2d": [
           {
            "colorbar": {
             "outlinewidth": 0,
             "ticks": ""
            },
            "colorscale": [
             [
              0,
              "#0d0887"
             ],
             [
              0.1111111111111111,
              "#46039f"
             ],
             [
              0.2222222222222222,
              "#7201a8"
             ],
             [
              0.3333333333333333,
              "#9c179e"
             ],
             [
              0.4444444444444444,
              "#bd3786"
             ],
             [
              0.5555555555555556,
              "#d8576b"
             ],
             [
              0.6666666666666666,
              "#ed7953"
             ],
             [
              0.7777777777777778,
              "#fb9f3a"
             ],
             [
              0.8888888888888888,
              "#fdca26"
             ],
             [
              1,
              "#f0f921"
             ]
            ],
            "type": "histogram2d"
           }
          ],
          "histogram2dcontour": [
           {
            "colorbar": {
             "outlinewidth": 0,
             "ticks": ""
            },
            "colorscale": [
             [
              0,
              "#0d0887"
             ],
             [
              0.1111111111111111,
              "#46039f"
             ],
             [
              0.2222222222222222,
              "#7201a8"
             ],
             [
              0.3333333333333333,
              "#9c179e"
             ],
             [
              0.4444444444444444,
              "#bd3786"
             ],
             [
              0.5555555555555556,
              "#d8576b"
             ],
             [
              0.6666666666666666,
              "#ed7953"
             ],
             [
              0.7777777777777778,
              "#fb9f3a"
             ],
             [
              0.8888888888888888,
              "#fdca26"
             ],
             [
              1,
              "#f0f921"
             ]
            ],
            "type": "histogram2dcontour"
           }
          ],
          "mesh3d": [
           {
            "colorbar": {
             "outlinewidth": 0,
             "ticks": ""
            },
            "type": "mesh3d"
           }
          ],
          "parcoords": [
           {
            "line": {
             "colorbar": {
              "outlinewidth": 0,
              "ticks": ""
             }
            },
            "type": "parcoords"
           }
          ],
          "pie": [
           {
            "automargin": true,
            "type": "pie"
           }
          ],
          "scatter": [
           {
            "fillpattern": {
             "fillmode": "overlay",
             "size": 10,
             "solidity": 0.2
            },
            "type": "scatter"
           }
          ],
          "scatter3d": [
           {
            "line": {
             "colorbar": {
              "outlinewidth": 0,
              "ticks": ""
             }
            },
            "marker": {
             "colorbar": {
              "outlinewidth": 0,
              "ticks": ""
             }
            },
            "type": "scatter3d"
           }
          ],
          "scattercarpet": [
           {
            "marker": {
             "colorbar": {
              "outlinewidth": 0,
              "ticks": ""
             }
            },
            "type": "scattercarpet"
           }
          ],
          "scattergeo": [
           {
            "marker": {
             "colorbar": {
              "outlinewidth": 0,
              "ticks": ""
             }
            },
            "type": "scattergeo"
           }
          ],
          "scattergl": [
           {
            "marker": {
             "colorbar": {
              "outlinewidth": 0,
              "ticks": ""
             }
            },
            "type": "scattergl"
           }
          ],
          "scattermapbox": [
           {
            "marker": {
             "colorbar": {
              "outlinewidth": 0,
              "ticks": ""
             }
            },
            "type": "scattermapbox"
           }
          ],
          "scatterpolar": [
           {
            "marker": {
             "colorbar": {
              "outlinewidth": 0,
              "ticks": ""
             }
            },
            "type": "scatterpolar"
           }
          ],
          "scatterpolargl": [
           {
            "marker": {
             "colorbar": {
              "outlinewidth": 0,
              "ticks": ""
             }
            },
            "type": "scatterpolargl"
           }
          ],
          "scatterternary": [
           {
            "marker": {
             "colorbar": {
              "outlinewidth": 0,
              "ticks": ""
             }
            },
            "type": "scatterternary"
           }
          ],
          "surface": [
           {
            "colorbar": {
             "outlinewidth": 0,
             "ticks": ""
            },
            "colorscale": [
             [
              0,
              "#0d0887"
             ],
             [
              0.1111111111111111,
              "#46039f"
             ],
             [
              0.2222222222222222,
              "#7201a8"
             ],
             [
              0.3333333333333333,
              "#9c179e"
             ],
             [
              0.4444444444444444,
              "#bd3786"
             ],
             [
              0.5555555555555556,
              "#d8576b"
             ],
             [
              0.6666666666666666,
              "#ed7953"
             ],
             [
              0.7777777777777778,
              "#fb9f3a"
             ],
             [
              0.8888888888888888,
              "#fdca26"
             ],
             [
              1,
              "#f0f921"
             ]
            ],
            "type": "surface"
           }
          ],
          "table": [
           {
            "cells": {
             "fill": {
              "color": "#EBF0F8"
             },
             "line": {
              "color": "white"
             }
            },
            "header": {
             "fill": {
              "color": "#C8D4E3"
             },
             "line": {
              "color": "white"
             }
            },
            "type": "table"
           }
          ]
         },
         "layout": {
          "annotationdefaults": {
           "arrowcolor": "#2a3f5f",
           "arrowhead": 0,
           "arrowwidth": 1
          },
          "autotypenumbers": "strict",
          "coloraxis": {
           "colorbar": {
            "outlinewidth": 0,
            "ticks": ""
           }
          },
          "colorscale": {
           "diverging": [
            [
             0,
             "#8e0152"
            ],
            [
             0.1,
             "#c51b7d"
            ],
            [
             0.2,
             "#de77ae"
            ],
            [
             0.3,
             "#f1b6da"
            ],
            [
             0.4,
             "#fde0ef"
            ],
            [
             0.5,
             "#f7f7f7"
            ],
            [
             0.6,
             "#e6f5d0"
            ],
            [
             0.7,
             "#b8e186"
            ],
            [
             0.8,
             "#7fbc41"
            ],
            [
             0.9,
             "#4d9221"
            ],
            [
             1,
             "#276419"
            ]
           ],
           "sequential": [
            [
             0,
             "#0d0887"
            ],
            [
             0.1111111111111111,
             "#46039f"
            ],
            [
             0.2222222222222222,
             "#7201a8"
            ],
            [
             0.3333333333333333,
             "#9c179e"
            ],
            [
             0.4444444444444444,
             "#bd3786"
            ],
            [
             0.5555555555555556,
             "#d8576b"
            ],
            [
             0.6666666666666666,
             "#ed7953"
            ],
            [
             0.7777777777777778,
             "#fb9f3a"
            ],
            [
             0.8888888888888888,
             "#fdca26"
            ],
            [
             1,
             "#f0f921"
            ]
           ],
           "sequentialminus": [
            [
             0,
             "#0d0887"
            ],
            [
             0.1111111111111111,
             "#46039f"
            ],
            [
             0.2222222222222222,
             "#7201a8"
            ],
            [
             0.3333333333333333,
             "#9c179e"
            ],
            [
             0.4444444444444444,
             "#bd3786"
            ],
            [
             0.5555555555555556,
             "#d8576b"
            ],
            [
             0.6666666666666666,
             "#ed7953"
            ],
            [
             0.7777777777777778,
             "#fb9f3a"
            ],
            [
             0.8888888888888888,
             "#fdca26"
            ],
            [
             1,
             "#f0f921"
            ]
           ]
          },
          "colorway": [
           "#636efa",
           "#EF553B",
           "#00cc96",
           "#ab63fa",
           "#FFA15A",
           "#19d3f3",
           "#FF6692",
           "#B6E880",
           "#FF97FF",
           "#FECB52"
          ],
          "font": {
           "color": "#2a3f5f"
          },
          "geo": {
           "bgcolor": "white",
           "lakecolor": "white",
           "landcolor": "#E5ECF6",
           "showlakes": true,
           "showland": true,
           "subunitcolor": "white"
          },
          "hoverlabel": {
           "align": "left"
          },
          "hovermode": "closest",
          "mapbox": {
           "style": "light"
          },
          "paper_bgcolor": "white",
          "plot_bgcolor": "#E5ECF6",
          "polar": {
           "angularaxis": {
            "gridcolor": "white",
            "linecolor": "white",
            "ticks": ""
           },
           "bgcolor": "#E5ECF6",
           "radialaxis": {
            "gridcolor": "white",
            "linecolor": "white",
            "ticks": ""
           }
          },
          "scene": {
           "xaxis": {
            "backgroundcolor": "#E5ECF6",
            "gridcolor": "white",
            "gridwidth": 2,
            "linecolor": "white",
            "showbackground": true,
            "ticks": "",
            "zerolinecolor": "white"
           },
           "yaxis": {
            "backgroundcolor": "#E5ECF6",
            "gridcolor": "white",
            "gridwidth": 2,
            "linecolor": "white",
            "showbackground": true,
            "ticks": "",
            "zerolinecolor": "white"
           },
           "zaxis": {
            "backgroundcolor": "#E5ECF6",
            "gridcolor": "white",
            "gridwidth": 2,
            "linecolor": "white",
            "showbackground": true,
            "ticks": "",
            "zerolinecolor": "white"
           }
          },
          "shapedefaults": {
           "line": {
            "color": "#2a3f5f"
           }
          },
          "ternary": {
           "aaxis": {
            "gridcolor": "white",
            "linecolor": "white",
            "ticks": ""
           },
           "baxis": {
            "gridcolor": "white",
            "linecolor": "white",
            "ticks": ""
           },
           "bgcolor": "#E5ECF6",
           "caxis": {
            "gridcolor": "white",
            "linecolor": "white",
            "ticks": ""
           }
          },
          "title": {
           "x": 0.05
          },
          "xaxis": {
           "automargin": true,
           "gridcolor": "white",
           "linecolor": "white",
           "ticks": "",
           "title": {
            "standoff": 15
           },
           "zerolinecolor": "white",
           "zerolinewidth": 2
          },
          "yaxis": {
           "automargin": true,
           "gridcolor": "white",
           "linecolor": "white",
           "ticks": "",
           "title": {
            "standoff": 15
           },
           "zerolinecolor": "white",
           "zerolinewidth": 2
          }
         }
        },
        "title": {
         "font": {
          "size": 18
         },
         "text": "Distribuição de Total de Defeitos no Dia"
        },
        "width": 800,
        "xaxis": {
         "anchor": "y",
         "domain": [
          0,
          1
         ],
         "title": {
          "text": ""
         }
        },
        "yaxis": {
         "anchor": "x",
         "domain": [
          0,
          1
         ],
         "title": {
          "text": "Total de Defeitos no Dia"
         }
        }
       }
      }
     },
     "metadata": {},
     "output_type": "display_data"
    }
   ],
   "source": [
    "fig = px.box(\n",
    "    df_reset,\n",
    "    y='Total de Defeitos no Dia',\n",
    "    title='Distribuição de Total de Defeitos no Dia',\n",
    "    points='all',\n",
    "    color_discrete_sequence=['#636EFA']\n",
    ")\n",
    "\n",
    "# Ajustar layout\n",
    "fig.update_layout(\n",
    "    yaxis_title=\"Total de Defeitos no Dia\",\n",
    "    xaxis_title=\"\",\n",
    "    title_font=dict(size=18),\n",
    "    font=dict(size=12),\n",
    "    height=600,\n",
    "    width=800,\n",
    "    margin=dict(t=50, l=50, r=50, b=50)\n",
    ")\n",
    "\n",
    "# Exibir o gráfico\n",
    "fig.show()"
   ]
  },
  {
   "cell_type": "markdown",
   "metadata": {},
   "source": [
    "### Calculando total de frascos no dia"
   ]
  },
  {
   "cell_type": "code",
   "execution_count": 10,
   "metadata": {},
   "outputs": [],
   "source": [
    "df_reset['Total de Frascos no Dia (unidade)'] = (df_reset['Gotas cortadas (toneladas)'] * 1000000) / df_reset['Peso médio (g)']\n",
    "df_reset['Total de Frascos no Dia (unidade)'] = df_reset['Total de Frascos no Dia (unidade)'].astype(int)"
   ]
  },
  {
   "cell_type": "code",
   "execution_count": 11,
   "metadata": {},
   "outputs": [
    {
     "data": {
      "text/html": [
       "<div>\n",
       "<style scoped>\n",
       "    .dataframe tbody tr th:only-of-type {\n",
       "        vertical-align: middle;\n",
       "    }\n",
       "\n",
       "    .dataframe tbody tr th {\n",
       "        vertical-align: top;\n",
       "    }\n",
       "\n",
       "    .dataframe thead th {\n",
       "        text-align: right;\n",
       "    }\n",
       "</style>\n",
       "<table border=\"1\" class=\"dataframe\">\n",
       "  <thead>\n",
       "    <tr style=\"text-align: right;\">\n",
       "      <th></th>\n",
       "      <th>Ordem de prod</th>\n",
       "      <th>Ref. do Artigo</th>\n",
       "      <th>Data de prod</th>\n",
       "      <th>Temperatura (F°)</th>\n",
       "      <th>Peso médio (g)</th>\n",
       "      <th>Comprimento médio (mm)</th>\n",
       "      <th>Diâmetro</th>\n",
       "      <th>Gotas cortadas (toneladas)</th>\n",
       "      <th>Total de Defeitos no Dia</th>\n",
       "      <th>Defeito Mais Frequente do Dia</th>\n",
       "      <th>...</th>\n",
       "      <th>Cascão cortante</th>\n",
       "      <th>Espessura abaixo do mínimo</th>\n",
       "      <th>Fundo deformado</th>\n",
       "      <th>Bolha na alça</th>\n",
       "      <th>Ferrugem no corpo</th>\n",
       "      <th>Fagulha</th>\n",
       "      <th>Alça deformada</th>\n",
       "      <th>Instabilidade</th>\n",
       "      <th>Crú</th>\n",
       "      <th>Total de Frascos no Dia (unidade)</th>\n",
       "    </tr>\n",
       "  </thead>\n",
       "  <tbody>\n",
       "    <tr>\n",
       "      <th>0</th>\n",
       "      <td>192970</td>\n",
       "      <td>C0516.0000R</td>\n",
       "      <td>2024-01-03</td>\n",
       "      <td>2126.97</td>\n",
       "      <td>169.3</td>\n",
       "      <td>110.4</td>\n",
       "      <td>32.5</td>\n",
       "      <td>20.948</td>\n",
       "      <td>222</td>\n",
       "      <td>Sujo de óleo</td>\n",
       "      <td>...</td>\n",
       "      <td>0</td>\n",
       "      <td>0</td>\n",
       "      <td>0</td>\n",
       "      <td>0</td>\n",
       "      <td>0</td>\n",
       "      <td>0</td>\n",
       "      <td>0</td>\n",
       "      <td>0</td>\n",
       "      <td>0</td>\n",
       "      <td>123733</td>\n",
       "    </tr>\n",
       "    <tr>\n",
       "      <th>1</th>\n",
       "      <td>192970</td>\n",
       "      <td>C0516.0000R</td>\n",
       "      <td>2024-01-04</td>\n",
       "      <td>2118.92</td>\n",
       "      <td>169.7</td>\n",
       "      <td>85.6</td>\n",
       "      <td>18.1</td>\n",
       "      <td>21.022</td>\n",
       "      <td>249</td>\n",
       "      <td>Sujo de óleo</td>\n",
       "      <td>...</td>\n",
       "      <td>0</td>\n",
       "      <td>0</td>\n",
       "      <td>0</td>\n",
       "      <td>0</td>\n",
       "      <td>0</td>\n",
       "      <td>0</td>\n",
       "      <td>0</td>\n",
       "      <td>0</td>\n",
       "      <td>0</td>\n",
       "      <td>123877</td>\n",
       "    </tr>\n",
       "    <tr>\n",
       "      <th>2</th>\n",
       "      <td>192970</td>\n",
       "      <td>C0516.0000R</td>\n",
       "      <td>2024-01-05</td>\n",
       "      <td>2125.00</td>\n",
       "      <td>173.6</td>\n",
       "      <td>140.5</td>\n",
       "      <td>32.9</td>\n",
       "      <td>21.449</td>\n",
       "      <td>268</td>\n",
       "      <td>Sujo de óleo</td>\n",
       "      <td>...</td>\n",
       "      <td>0</td>\n",
       "      <td>0</td>\n",
       "      <td>0</td>\n",
       "      <td>0</td>\n",
       "      <td>0</td>\n",
       "      <td>0</td>\n",
       "      <td>0</td>\n",
       "      <td>0</td>\n",
       "      <td>0</td>\n",
       "      <td>123554</td>\n",
       "    </tr>\n",
       "    <tr>\n",
       "      <th>3</th>\n",
       "      <td>192970</td>\n",
       "      <td>C0516.0000R</td>\n",
       "      <td>2024-01-06</td>\n",
       "      <td>2125.40</td>\n",
       "      <td>170.2</td>\n",
       "      <td>144.7</td>\n",
       "      <td>32.7</td>\n",
       "      <td>21.526</td>\n",
       "      <td>242</td>\n",
       "      <td>Sujo de óleo</td>\n",
       "      <td>...</td>\n",
       "      <td>0</td>\n",
       "      <td>0</td>\n",
       "      <td>0</td>\n",
       "      <td>0</td>\n",
       "      <td>0</td>\n",
       "      <td>0</td>\n",
       "      <td>0</td>\n",
       "      <td>0</td>\n",
       "      <td>0</td>\n",
       "      <td>126474</td>\n",
       "    </tr>\n",
       "    <tr>\n",
       "      <th>4</th>\n",
       "      <td>192970</td>\n",
       "      <td>C0516.0000R</td>\n",
       "      <td>2024-01-07</td>\n",
       "      <td>2126.76</td>\n",
       "      <td>171.7</td>\n",
       "      <td>141.5</td>\n",
       "      <td>30.2</td>\n",
       "      <td>21.439</td>\n",
       "      <td>232</td>\n",
       "      <td>Sujo de óleo</td>\n",
       "      <td>...</td>\n",
       "      <td>0</td>\n",
       "      <td>0</td>\n",
       "      <td>0</td>\n",
       "      <td>0</td>\n",
       "      <td>0</td>\n",
       "      <td>0</td>\n",
       "      <td>0</td>\n",
       "      <td>0</td>\n",
       "      <td>0</td>\n",
       "      <td>124863</td>\n",
       "    </tr>\n",
       "    <tr>\n",
       "      <th>5</th>\n",
       "      <td>192970</td>\n",
       "      <td>C0516.0000R</td>\n",
       "      <td>2024-01-08</td>\n",
       "      <td>2126.76</td>\n",
       "      <td>166.5</td>\n",
       "      <td>140.6</td>\n",
       "      <td>32.5</td>\n",
       "      <td>21.506</td>\n",
       "      <td>229</td>\n",
       "      <td>Sujo de óleo</td>\n",
       "      <td>...</td>\n",
       "      <td>0</td>\n",
       "      <td>0</td>\n",
       "      <td>0</td>\n",
       "      <td>0</td>\n",
       "      <td>0</td>\n",
       "      <td>0</td>\n",
       "      <td>0</td>\n",
       "      <td>0</td>\n",
       "      <td>0</td>\n",
       "      <td>129165</td>\n",
       "    </tr>\n",
       "    <tr>\n",
       "      <th>6</th>\n",
       "      <td>192970</td>\n",
       "      <td>C0516.0000R</td>\n",
       "      <td>2024-01-09</td>\n",
       "      <td>2126.60</td>\n",
       "      <td>169.6</td>\n",
       "      <td>128.4</td>\n",
       "      <td>32.9</td>\n",
       "      <td>21.524</td>\n",
       "      <td>191</td>\n",
       "      <td>Sujo de óleo</td>\n",
       "      <td>...</td>\n",
       "      <td>0</td>\n",
       "      <td>0</td>\n",
       "      <td>0</td>\n",
       "      <td>0</td>\n",
       "      <td>0</td>\n",
       "      <td>0</td>\n",
       "      <td>0</td>\n",
       "      <td>0</td>\n",
       "      <td>0</td>\n",
       "      <td>126910</td>\n",
       "    </tr>\n",
       "    <tr>\n",
       "      <th>7</th>\n",
       "      <td>192970</td>\n",
       "      <td>C0516.0000R</td>\n",
       "      <td>2024-01-10</td>\n",
       "      <td>2126.60</td>\n",
       "      <td>169.4</td>\n",
       "      <td>127.0</td>\n",
       "      <td>33.0</td>\n",
       "      <td>21.427</td>\n",
       "      <td>222</td>\n",
       "      <td>Sujo de óleo</td>\n",
       "      <td>...</td>\n",
       "      <td>0</td>\n",
       "      <td>0</td>\n",
       "      <td>0</td>\n",
       "      <td>0</td>\n",
       "      <td>0</td>\n",
       "      <td>0</td>\n",
       "      <td>0</td>\n",
       "      <td>0</td>\n",
       "      <td>0</td>\n",
       "      <td>126487</td>\n",
       "    </tr>\n",
       "    <tr>\n",
       "      <th>8</th>\n",
       "      <td>192970</td>\n",
       "      <td>C0516.0000R</td>\n",
       "      <td>2024-01-11</td>\n",
       "      <td>2126.60</td>\n",
       "      <td>169.2</td>\n",
       "      <td>110.9</td>\n",
       "      <td>33.9</td>\n",
       "      <td>7.947</td>\n",
       "      <td>293</td>\n",
       "      <td>Parada de Máquina em Troca</td>\n",
       "      <td>...</td>\n",
       "      <td>0</td>\n",
       "      <td>0</td>\n",
       "      <td>0</td>\n",
       "      <td>0</td>\n",
       "      <td>0</td>\n",
       "      <td>0</td>\n",
       "      <td>0</td>\n",
       "      <td>0</td>\n",
       "      <td>0</td>\n",
       "      <td>46968</td>\n",
       "    </tr>\n",
       "    <tr>\n",
       "      <th>9</th>\n",
       "      <td>193112</td>\n",
       "      <td>C1164.0000R</td>\n",
       "      <td>2024-01-01</td>\n",
       "      <td>2189.40</td>\n",
       "      <td>168.4</td>\n",
       "      <td>78.2</td>\n",
       "      <td>41.6</td>\n",
       "      <td>21.890</td>\n",
       "      <td>159</td>\n",
       "      <td>Sujo de óleo</td>\n",
       "      <td>...</td>\n",
       "      <td>0</td>\n",
       "      <td>0</td>\n",
       "      <td>0</td>\n",
       "      <td>0</td>\n",
       "      <td>0</td>\n",
       "      <td>0</td>\n",
       "      <td>0</td>\n",
       "      <td>0</td>\n",
       "      <td>0</td>\n",
       "      <td>129988</td>\n",
       "    </tr>\n",
       "  </tbody>\n",
       "</table>\n",
       "<p>10 rows × 138 columns</p>\n",
       "</div>"
      ],
      "text/plain": [
       "   Ordem de prod Ref. do Artigo Data de prod  Temperatura (F°)  \\\n",
       "0         192970    C0516.0000R   2024-01-03           2126.97   \n",
       "1         192970    C0516.0000R   2024-01-04           2118.92   \n",
       "2         192970    C0516.0000R   2024-01-05           2125.00   \n",
       "3         192970    C0516.0000R   2024-01-06           2125.40   \n",
       "4         192970    C0516.0000R   2024-01-07           2126.76   \n",
       "5         192970    C0516.0000R   2024-01-08           2126.76   \n",
       "6         192970    C0516.0000R   2024-01-09           2126.60   \n",
       "7         192970    C0516.0000R   2024-01-10           2126.60   \n",
       "8         192970    C0516.0000R   2024-01-11           2126.60   \n",
       "9         193112    C1164.0000R   2024-01-01           2189.40   \n",
       "\n",
       "   Peso médio (g)  Comprimento médio (mm)  Diâmetro  \\\n",
       "0           169.3                   110.4      32.5   \n",
       "1           169.7                    85.6      18.1   \n",
       "2           173.6                   140.5      32.9   \n",
       "3           170.2                   144.7      32.7   \n",
       "4           171.7                   141.5      30.2   \n",
       "5           166.5                   140.6      32.5   \n",
       "6           169.6                   128.4      32.9   \n",
       "7           169.4                   127.0      33.0   \n",
       "8           169.2                   110.9      33.9   \n",
       "9           168.4                    78.2      41.6   \n",
       "\n",
       "   Gotas cortadas (toneladas)  Total de Defeitos no Dia  \\\n",
       "0                      20.948                       222   \n",
       "1                      21.022                       249   \n",
       "2                      21.449                       268   \n",
       "3                      21.526                       242   \n",
       "4                      21.439                       232   \n",
       "5                      21.506                       229   \n",
       "6                      21.524                       191   \n",
       "7                      21.427                       222   \n",
       "8                       7.947                       293   \n",
       "9                      21.890                       159   \n",
       "\n",
       "  Defeito Mais Frequente do Dia  ...  Cascão cortante  \\\n",
       "0                  Sujo de óleo  ...                0   \n",
       "1                  Sujo de óleo  ...                0   \n",
       "2                  Sujo de óleo  ...                0   \n",
       "3                  Sujo de óleo  ...                0   \n",
       "4                  Sujo de óleo  ...                0   \n",
       "5                  Sujo de óleo  ...                0   \n",
       "6                  Sujo de óleo  ...                0   \n",
       "7                  Sujo de óleo  ...                0   \n",
       "8    Parada de Máquina em Troca  ...                0   \n",
       "9                  Sujo de óleo  ...                0   \n",
       "\n",
       "   Espessura abaixo do mínimo  Fundo deformado  Bolha na alça  \\\n",
       "0                           0                0              0   \n",
       "1                           0                0              0   \n",
       "2                           0                0              0   \n",
       "3                           0                0              0   \n",
       "4                           0                0              0   \n",
       "5                           0                0              0   \n",
       "6                           0                0              0   \n",
       "7                           0                0              0   \n",
       "8                           0                0              0   \n",
       "9                           0                0              0   \n",
       "\n",
       "   Ferrugem no corpo  Fagulha  Alça deformada  Instabilidade  Crú  \\\n",
       "0                  0        0               0              0    0   \n",
       "1                  0        0               0              0    0   \n",
       "2                  0        0               0              0    0   \n",
       "3                  0        0               0              0    0   \n",
       "4                  0        0               0              0    0   \n",
       "5                  0        0               0              0    0   \n",
       "6                  0        0               0              0    0   \n",
       "7                  0        0               0              0    0   \n",
       "8                  0        0               0              0    0   \n",
       "9                  0        0               0              0    0   \n",
       "\n",
       "   Total de Frascos no Dia (unidade)  \n",
       "0                             123733  \n",
       "1                             123877  \n",
       "2                             123554  \n",
       "3                             126474  \n",
       "4                             124863  \n",
       "5                             129165  \n",
       "6                             126910  \n",
       "7                             126487  \n",
       "8                              46968  \n",
       "9                             129988  \n",
       "\n",
       "[10 rows x 138 columns]"
      ]
     },
     "execution_count": 11,
     "metadata": {},
     "output_type": "execute_result"
    }
   ],
   "source": [
    "df_reset.head(10)"
   ]
  },
  {
   "cell_type": "code",
   "execution_count": 12,
   "metadata": {},
   "outputs": [],
   "source": [
    "df_medidas_totais_por_ordem = df_reset.groupby(['Ordem de prod', 'Ref. do Artigo']).agg({'Data de prod': 'nunique', \n",
    "                                        'Temperatura (F°)' : 'mean', \n",
    "                                        'Peso médio (g)' : 'mean', \n",
    "                                        'Comprimento médio (mm)' : 'mean', \n",
    "                                        'Diâmetro' : 'mean', \n",
    "                                        'Gotas cortadas (toneladas)' : 'sum', \n",
    "                                        'Total de Frascos no Dia (unidade)' : 'sum', \n",
    "                                        'Total de Defeitos no Dia':'sum', \n",
    "                                        'Sujo de óleo': 'sum',\n",
    "                                        'Aderido': 'sum', \n",
    "                                        'Dobra': 'sum', \n",
    "                                        'Trinca por choque térmico': 'sum',\n",
    "                                        'Ombro mal cheio': 'sum', \n",
    "                                        'Racho na terminação': 'sum',\n",
    "                                        'Lascado em produção': 'sum',\n",
    "                                        'Frio': 'sum'}).reset_index()"
   ]
  },
  {
   "cell_type": "code",
   "execution_count": 13,
   "metadata": {},
   "outputs": [],
   "source": [
    "df_medidas_totais_por_ordem.rename(columns={'Data de prod': 'Duração da ordem', 'Total de Frascos no Dia (unidade)':'Total de Frascos', 'Total de Defeitos no Dia': 'Total de Defeitos', 'Diâmetro': 'Diâmetro (mm)'}, inplace=True)"
   ]
  },
  {
   "cell_type": "code",
   "execution_count": 14,
   "metadata": {},
   "outputs": [
    {
     "data": {
      "text/html": [
       "<div>\n",
       "<style scoped>\n",
       "    .dataframe tbody tr th:only-of-type {\n",
       "        vertical-align: middle;\n",
       "    }\n",
       "\n",
       "    .dataframe tbody tr th {\n",
       "        vertical-align: top;\n",
       "    }\n",
       "\n",
       "    .dataframe thead th {\n",
       "        text-align: right;\n",
       "    }\n",
       "</style>\n",
       "<table border=\"1\" class=\"dataframe\">\n",
       "  <thead>\n",
       "    <tr style=\"text-align: right;\">\n",
       "      <th></th>\n",
       "      <th>Ordem de prod</th>\n",
       "      <th>Ref. do Artigo</th>\n",
       "      <th>Duração da ordem</th>\n",
       "      <th>Temperatura (F°)</th>\n",
       "      <th>Peso médio (g)</th>\n",
       "      <th>Comprimento médio (mm)</th>\n",
       "      <th>Diâmetro (mm)</th>\n",
       "      <th>Gotas cortadas (toneladas)</th>\n",
       "      <th>Total de Frascos</th>\n",
       "      <th>Total de Defeitos</th>\n",
       "      <th>Sujo de óleo</th>\n",
       "      <th>Aderido</th>\n",
       "      <th>Dobra</th>\n",
       "      <th>Trinca por choque térmico</th>\n",
       "      <th>Ombro mal cheio</th>\n",
       "      <th>Racho na terminação</th>\n",
       "      <th>Lascado em produção</th>\n",
       "      <th>Frio</th>\n",
       "    </tr>\n",
       "  </thead>\n",
       "  <tbody>\n",
       "    <tr>\n",
       "      <th>7</th>\n",
       "      <td>193342</td>\n",
       "      <td>C0516.0000R</td>\n",
       "      <td>20</td>\n",
       "      <td>2125.33</td>\n",
       "      <td>169.96</td>\n",
       "      <td>114.87</td>\n",
       "      <td>33.44</td>\n",
       "      <td>408.76</td>\n",
       "      <td>2405338</td>\n",
       "      <td>3685</td>\n",
       "      <td>1158</td>\n",
       "      <td>8</td>\n",
       "      <td>123</td>\n",
       "      <td>506</td>\n",
       "      <td>92</td>\n",
       "      <td>122</td>\n",
       "      <td>247</td>\n",
       "      <td>0</td>\n",
       "    </tr>\n",
       "    <tr>\n",
       "      <th>2</th>\n",
       "      <td>193164</td>\n",
       "      <td>C1280.0000R</td>\n",
       "      <td>12</td>\n",
       "      <td>2119.41</td>\n",
       "      <td>147.47</td>\n",
       "      <td>100.12</td>\n",
       "      <td>35.43</td>\n",
       "      <td>236.13</td>\n",
       "      <td>1600487</td>\n",
       "      <td>2661</td>\n",
       "      <td>851</td>\n",
       "      <td>2</td>\n",
       "      <td>43</td>\n",
       "      <td>129</td>\n",
       "      <td>0</td>\n",
       "      <td>220</td>\n",
       "      <td>33</td>\n",
       "      <td>19</td>\n",
       "    </tr>\n",
       "    <tr>\n",
       "      <th>4</th>\n",
       "      <td>193207</td>\n",
       "      <td>C1298.0000R</td>\n",
       "      <td>10</td>\n",
       "      <td>2139.29</td>\n",
       "      <td>170.87</td>\n",
       "      <td>98.23</td>\n",
       "      <td>36.56</td>\n",
       "      <td>136.92</td>\n",
       "      <td>801014</td>\n",
       "      <td>2130</td>\n",
       "      <td>754</td>\n",
       "      <td>0</td>\n",
       "      <td>27</td>\n",
       "      <td>87</td>\n",
       "      <td>0</td>\n",
       "      <td>79</td>\n",
       "      <td>45</td>\n",
       "      <td>4</td>\n",
       "    </tr>\n",
       "    <tr>\n",
       "      <th>0</th>\n",
       "      <td>192970</td>\n",
       "      <td>C0516.0000R</td>\n",
       "      <td>9</td>\n",
       "      <td>2125.51</td>\n",
       "      <td>169.91</td>\n",
       "      <td>125.51</td>\n",
       "      <td>30.97</td>\n",
       "      <td>178.79</td>\n",
       "      <td>1052031</td>\n",
       "      <td>2148</td>\n",
       "      <td>437</td>\n",
       "      <td>2</td>\n",
       "      <td>77</td>\n",
       "      <td>176</td>\n",
       "      <td>68</td>\n",
       "      <td>28</td>\n",
       "      <td>12</td>\n",
       "      <td>7</td>\n",
       "    </tr>\n",
       "    <tr>\n",
       "      <th>6</th>\n",
       "      <td>193209</td>\n",
       "      <td>C0509.0000R</td>\n",
       "      <td>7</td>\n",
       "      <td>2131.82</td>\n",
       "      <td>191.36</td>\n",
       "      <td>44.37</td>\n",
       "      <td>12.19</td>\n",
       "      <td>121.81</td>\n",
       "      <td>636428</td>\n",
       "      <td>1807</td>\n",
       "      <td>366</td>\n",
       "      <td>0</td>\n",
       "      <td>130</td>\n",
       "      <td>92</td>\n",
       "      <td>2</td>\n",
       "      <td>30</td>\n",
       "      <td>35</td>\n",
       "      <td>27</td>\n",
       "    </tr>\n",
       "    <tr>\n",
       "      <th>8</th>\n",
       "      <td>193368</td>\n",
       "      <td>C1137.0000R</td>\n",
       "      <td>7</td>\n",
       "      <td>2158.78</td>\n",
       "      <td>171.59</td>\n",
       "      <td>77.51</td>\n",
       "      <td>33.83</td>\n",
       "      <td>147.66</td>\n",
       "      <td>860417</td>\n",
       "      <td>1464</td>\n",
       "      <td>439</td>\n",
       "      <td>0</td>\n",
       "      <td>13</td>\n",
       "      <td>28</td>\n",
       "      <td>0</td>\n",
       "      <td>146</td>\n",
       "      <td>9</td>\n",
       "      <td>0</td>\n",
       "    </tr>\n",
       "    <tr>\n",
       "      <th>3</th>\n",
       "      <td>193206</td>\n",
       "      <td>C1284.0000R</td>\n",
       "      <td>4</td>\n",
       "      <td>2170.66</td>\n",
       "      <td>171.15</td>\n",
       "      <td>90.40</td>\n",
       "      <td>36.88</td>\n",
       "      <td>74.31</td>\n",
       "      <td>433842</td>\n",
       "      <td>1041</td>\n",
       "      <td>245</td>\n",
       "      <td>0</td>\n",
       "      <td>26</td>\n",
       "      <td>6</td>\n",
       "      <td>0</td>\n",
       "      <td>65</td>\n",
       "      <td>10</td>\n",
       "      <td>0</td>\n",
       "    </tr>\n",
       "    <tr>\n",
       "      <th>1</th>\n",
       "      <td>193112</td>\n",
       "      <td>C1164.0000R</td>\n",
       "      <td>3</td>\n",
       "      <td>2173.68</td>\n",
       "      <td>168.17</td>\n",
       "      <td>88.73</td>\n",
       "      <td>38.57</td>\n",
       "      <td>44.73</td>\n",
       "      <td>265727</td>\n",
       "      <td>584</td>\n",
       "      <td>259</td>\n",
       "      <td>0</td>\n",
       "      <td>35</td>\n",
       "      <td>22</td>\n",
       "      <td>0</td>\n",
       "      <td>9</td>\n",
       "      <td>2</td>\n",
       "      <td>0</td>\n",
       "    </tr>\n",
       "    <tr>\n",
       "      <th>9</th>\n",
       "      <td>193459</td>\n",
       "      <td>C0068.0000R</td>\n",
       "      <td>3</td>\n",
       "      <td>2148.19</td>\n",
       "      <td>190.83</td>\n",
       "      <td>96.67</td>\n",
       "      <td>37.57</td>\n",
       "      <td>37.59</td>\n",
       "      <td>197769</td>\n",
       "      <td>505</td>\n",
       "      <td>104</td>\n",
       "      <td>0</td>\n",
       "      <td>6</td>\n",
       "      <td>31</td>\n",
       "      <td>0</td>\n",
       "      <td>13</td>\n",
       "      <td>5</td>\n",
       "      <td>1</td>\n",
       "    </tr>\n",
       "    <tr>\n",
       "      <th>5</th>\n",
       "      <td>193208</td>\n",
       "      <td>C0104.0000R</td>\n",
       "      <td>2</td>\n",
       "      <td>2176.32</td>\n",
       "      <td>122.10</td>\n",
       "      <td>61.00</td>\n",
       "      <td>27.45</td>\n",
       "      <td>19.74</td>\n",
       "      <td>161756</td>\n",
       "      <td>369</td>\n",
       "      <td>48</td>\n",
       "      <td>2</td>\n",
       "      <td>4</td>\n",
       "      <td>17</td>\n",
       "      <td>0</td>\n",
       "      <td>3</td>\n",
       "      <td>2</td>\n",
       "      <td>0</td>\n",
       "    </tr>\n",
       "  </tbody>\n",
       "</table>\n",
       "</div>"
      ],
      "text/plain": [
       "   Ordem de prod Ref. do Artigo  Duração da ordem  Temperatura (F°)  \\\n",
       "7         193342    C0516.0000R                20           2125.33   \n",
       "2         193164    C1280.0000R                12           2119.41   \n",
       "4         193207    C1298.0000R                10           2139.29   \n",
       "0         192970    C0516.0000R                 9           2125.51   \n",
       "6         193209    C0509.0000R                 7           2131.82   \n",
       "8         193368    C1137.0000R                 7           2158.78   \n",
       "3         193206    C1284.0000R                 4           2170.66   \n",
       "1         193112    C1164.0000R                 3           2173.68   \n",
       "9         193459    C0068.0000R                 3           2148.19   \n",
       "5         193208    C0104.0000R                 2           2176.32   \n",
       "\n",
       "   Peso médio (g)  Comprimento médio (mm)  Diâmetro (mm)  \\\n",
       "7          169.96                  114.87          33.44   \n",
       "2          147.47                  100.12          35.43   \n",
       "4          170.87                   98.23          36.56   \n",
       "0          169.91                  125.51          30.97   \n",
       "6          191.36                   44.37          12.19   \n",
       "8          171.59                   77.51          33.83   \n",
       "3          171.15                   90.40          36.88   \n",
       "1          168.17                   88.73          38.57   \n",
       "9          190.83                   96.67          37.57   \n",
       "5          122.10                   61.00          27.45   \n",
       "\n",
       "   Gotas cortadas (toneladas)  Total de Frascos  Total de Defeitos  \\\n",
       "7                      408.76           2405338               3685   \n",
       "2                      236.13           1600487               2661   \n",
       "4                      136.92            801014               2130   \n",
       "0                      178.79           1052031               2148   \n",
       "6                      121.81            636428               1807   \n",
       "8                      147.66            860417               1464   \n",
       "3                       74.31            433842               1041   \n",
       "1                       44.73            265727                584   \n",
       "9                       37.59            197769                505   \n",
       "5                       19.74            161756                369   \n",
       "\n",
       "   Sujo de óleo  Aderido  Dobra  Trinca por choque térmico  Ombro mal cheio  \\\n",
       "7          1158        8    123                        506               92   \n",
       "2           851        2     43                        129                0   \n",
       "4           754        0     27                         87                0   \n",
       "0           437        2     77                        176               68   \n",
       "6           366        0    130                         92                2   \n",
       "8           439        0     13                         28                0   \n",
       "3           245        0     26                          6                0   \n",
       "1           259        0     35                         22                0   \n",
       "9           104        0      6                         31                0   \n",
       "5            48        2      4                         17                0   \n",
       "\n",
       "   Racho na terminação  Lascado em produção  Frio  \n",
       "7                  122                  247     0  \n",
       "2                  220                   33    19  \n",
       "4                   79                   45     4  \n",
       "0                   28                   12     7  \n",
       "6                   30                   35    27  \n",
       "8                  146                    9     0  \n",
       "3                   65                   10     0  \n",
       "1                    9                    2     0  \n",
       "9                   13                    5     1  \n",
       "5                    3                    2     0  "
      ]
     },
     "execution_count": 14,
     "metadata": {},
     "output_type": "execute_result"
    }
   ],
   "source": [
    "df_medidas_totais_por_ordem.head(10).round(2).sort_values('Duração da ordem', ascending=False)"
   ]
  },
  {
   "cell_type": "code",
   "execution_count": 15,
   "metadata": {},
   "outputs": [],
   "source": [
    "df_medidas_totais_por_ordem['Ordem de prod'] = df_medidas_totais_por_ordem['Ordem de prod'].astype(str)"
   ]
  },
  {
   "cell_type": "code",
   "execution_count": 16,
   "metadata": {},
   "outputs": [
    {
     "data": {
      "text/plain": [
       "Index(['Ordem de prod', 'Ref. do Artigo', 'Duração da ordem',\n",
       "       'Temperatura (F°)', 'Peso médio (g)', 'Comprimento médio (mm)',\n",
       "       'Diâmetro (mm)', 'Gotas cortadas (toneladas)', 'Total de Frascos',\n",
       "       'Total de Defeitos', 'Sujo de óleo', 'Aderido', 'Dobra',\n",
       "       'Trinca por choque térmico', 'Ombro mal cheio', 'Racho na terminação',\n",
       "       'Lascado em produção', 'Frio'],\n",
       "      dtype='object')"
      ]
     },
     "execution_count": 16,
     "metadata": {},
     "output_type": "execute_result"
    }
   ],
   "source": [
    "df_medidas_totais_por_ordem.columns"
   ]
  },
  {
   "cell_type": "code",
   "execution_count": 17,
   "metadata": {},
   "outputs": [],
   "source": [
    "df_medidas_totais_por_ordem.to_csv('../dados_modelo.csv', index=False)"
   ]
  },
  {
   "cell_type": "markdown",
   "metadata": {},
   "source": [
    "### Relação Gotas Cortadas e Total de Defeitos"
   ]
  },
  {
   "cell_type": "code",
   "execution_count": 18,
   "metadata": {},
   "outputs": [
    {
     "data": {
      "application/vnd.plotly.v1+json": {
       "config": {
        "plotlyServerURL": "https://plot.ly"
       },
       "data": [
        {
         "hovertemplate": "Gotas cortadas (toneladas)=%{marker.color}<br>Total de Defeitos no Dia=%{marker.size}<extra></extra>",
         "legendgroup": "",
         "marker": {
          "color": [
           20.948,
           21.022,
           21.449,
           21.526,
           21.439,
           21.506,
           21.524,
           21.427,
           7.947,
           21.89,
           21.857,
           0.985,
           12.494,
           20.045,
           20.287,
           20.121,
           20.261,
           20.403,
           20.4,
           20.429,
           20.464,
           20.353,
           20.422,
           20.447,
           22.406,
           21.226,
           22.082,
           8.598,
           8.823,
           14.741,
           14.685,
           14.851,
           14.783,
           14.169,
           14.749,
           14.777,
           14.787,
           10.55,
           14.451,
           5.292,
           13.213,
           21.495,
           21.441,
           21.508,
           21.535,
           21.507,
           1.114,
           21.061,
           21.936,
           21.52,
           21.562,
           21.593,
           21.55,
           21.376,
           21.454,
           21.427,
           21.466,
           21.519,
           20.581,
           20.58,
           21.427,
           21.506,
           21.527,
           20.64,
           21.464,
           21.496,
           3.07,
           22.992,
           24.699,
           24.736,
           24.646,
           24.655,
           24.646,
           1.288,
           14.47,
           16.788,
           6.33,
           22.28,
           22.363,
           22.356,
           21.49,
           2.495,
           9.195,
           14.932,
           14.934,
           14.951,
           14.912,
           14.907,
           14.862,
           10.703,
           15.236,
           24.909,
           24.93,
           24.984,
           24.963,
           24.959,
           24.943,
           3.047,
           19.33,
           20.743,
           7.94,
           25.13,
           24.459,
           1.199,
           17.406,
           19.785,
           19.792,
           18.963,
           19.744,
           18.91,
           14.049,
           23.172,
           23.387,
           24.446,
           24.421,
           12.19,
           8.055,
           16.654,
           15.971,
           6.347,
           17.925,
           18.973,
           2.821,
           18.936,
           21.786,
           1.003,
           20.809,
           24.65,
           1.456,
           13.336,
           21.752,
           8.413,
           13.71,
           22.696,
           22.697,
           22.776,
           8.889,
           15.193,
           18.689,
           18.957,
           19.006,
           19.024,
           19.006,
           19.215,
           19.085,
           19.084,
           19.156,
           0.737,
           15.76,
           26.052,
           18.324,
           18.785,
           18.807,
           18.816,
           18.844,
           18.79,
           18.743,
           18.728,
           18.935,
           18.901,
           18.842,
           2.965,
           20.22,
           21.192,
           21.209,
           21.154,
           2.352,
           21.545,
           21.608,
           21.603,
           21.607,
           21.724,
           21.513,
           21.65,
           1.579,
           18.987,
           20.936,
           7.621,
           24.919,
           19.679,
           23.153,
           24.899,
           24.791,
           19.663,
           15.161,
           24.218,
           24.244,
           17.633,
           22.024,
           22.022,
           22.194,
           17.61,
           18.188,
           1.329,
           19.708,
           21.412,
           21.447,
           21.491,
           21.419,
           21.548
          ],
          "coloraxis": "coloraxis",
          "size": [
           222,
           249,
           268,
           242,
           232,
           229,
           191,
           222,
           293,
           159,
           203,
           222,
           293,
           240,
           171,
           231,
           229,
           231,
           198,
           215,
           212,
           224,
           224,
           193,
           208,
           255,
           287,
           291,
           291,
           243,
           201,
           229,
           201,
           220,
           187,
           201,
           191,
           166,
           127,
           242,
           242,
           305,
           276,
           277,
           280,
           305,
           122,
           180,
           296,
           217,
           211,
           198,
           170,
           195,
           177,
           191,
           168,
           192,
           183,
           161,
           162,
           135,
           184,
           189,
           156,
           177,
           143,
           122,
           254,
           249,
           229,
           212,
           218,
           180,
           143,
           189,
           173,
           298,
           265,
           230,
           256,
           192,
           173,
           188,
           197,
           203,
           206,
           185,
           169,
           162,
           175,
           206,
           179,
           192,
           184,
           169,
           175,
           200,
           249,
           244,
           195,
           317,
           288,
           113,
           192,
           212,
           188,
           154,
           166,
           176,
           216,
           113,
           240,
           214,
           191,
           205,
           205,
           206,
           190,
           175,
           234,
           226,
           295,
           200,
           182,
           234,
           295,
           328,
           249,
           195,
           266,
           211,
           211,
           198,
           199,
           183,
           210,
           228,
           352,
           214,
           212,
           264,
           203,
           231,
           196,
           179,
           198,
           261,
           210,
           353,
           324,
           218,
           192,
           190,
           190,
           184,
           182,
           148,
           158,
           195,
           188,
           228,
           261,
           210,
           178,
           231,
           243,
           303,
           239,
           198,
           189,
           171,
           179,
           195,
           242,
           243,
           212,
           167,
           277,
           243,
           242,
           204,
           152,
           204,
           167,
           209,
           206,
           239,
           193,
           196,
           79,
           203,
           234,
           273,
           273,
           258,
           218,
           218,
           213,
           256
          ],
          "sizemode": "area",
          "sizeref": 0.8825,
          "symbol": "circle"
         },
         "mode": "markers",
         "name": "",
         "orientation": "v",
         "showlegend": false,
         "type": "scatter",
         "x": [
          20.948,
          21.022,
          21.449,
          21.526,
          21.439,
          21.506,
          21.524,
          21.427,
          7.947,
          21.89,
          21.857,
          0.985,
          12.494,
          20.045,
          20.287,
          20.121,
          20.261,
          20.403,
          20.4,
          20.429,
          20.464,
          20.353,
          20.422,
          20.447,
          22.406,
          21.226,
          22.082,
          8.598,
          8.823,
          14.741,
          14.685,
          14.851,
          14.783,
          14.169,
          14.749,
          14.777,
          14.787,
          10.55,
          14.451,
          5.292,
          13.213,
          21.495,
          21.441,
          21.508,
          21.535,
          21.507,
          1.114,
          21.061,
          21.936,
          21.52,
          21.562,
          21.593,
          21.55,
          21.376,
          21.454,
          21.427,
          21.466,
          21.519,
          20.581,
          20.58,
          21.427,
          21.506,
          21.527,
          20.64,
          21.464,
          21.496,
          3.07,
          22.992,
          24.699,
          24.736,
          24.646,
          24.655,
          24.646,
          1.288,
          14.47,
          16.788,
          6.33,
          22.28,
          22.363,
          22.356,
          21.49,
          2.495,
          9.195,
          14.932,
          14.934,
          14.951,
          14.912,
          14.907,
          14.862,
          10.703,
          15.236,
          24.909,
          24.93,
          24.984,
          24.963,
          24.959,
          24.943,
          3.047,
          19.33,
          20.743,
          7.94,
          25.13,
          24.459,
          1.199,
          17.406,
          19.785,
          19.792,
          18.963,
          19.744,
          18.91,
          14.049,
          23.172,
          23.387,
          24.446,
          24.421,
          12.19,
          8.055,
          16.654,
          15.971,
          6.347,
          17.925,
          18.973,
          2.821,
          18.936,
          21.786,
          1.003,
          20.809,
          24.65,
          1.456,
          13.336,
          21.752,
          8.413,
          13.71,
          22.696,
          22.697,
          22.776,
          8.889,
          15.193,
          18.689,
          18.957,
          19.006,
          19.024,
          19.006,
          19.215,
          19.085,
          19.084,
          19.156,
          0.737,
          15.76,
          26.052,
          18.324,
          18.785,
          18.807,
          18.816,
          18.844,
          18.79,
          18.743,
          18.728,
          18.935,
          18.901,
          18.842,
          2.965,
          20.22,
          21.192,
          21.209,
          21.154,
          2.352,
          21.545,
          21.608,
          21.603,
          21.607,
          21.724,
          21.513,
          21.65,
          1.579,
          18.987,
          20.936,
          7.621,
          24.919,
          19.679,
          23.153,
          24.899,
          24.791,
          19.663,
          15.161,
          24.218,
          24.244,
          17.633,
          22.024,
          22.022,
          22.194,
          17.61,
          18.188,
          1.329,
          19.708,
          21.412,
          21.447,
          21.491,
          21.419,
          21.548
         ],
         "xaxis": "x",
         "y": [
          222,
          249,
          268,
          242,
          232,
          229,
          191,
          222,
          293,
          159,
          203,
          222,
          293,
          240,
          171,
          231,
          229,
          231,
          198,
          215,
          212,
          224,
          224,
          193,
          208,
          255,
          287,
          291,
          291,
          243,
          201,
          229,
          201,
          220,
          187,
          201,
          191,
          166,
          127,
          242,
          242,
          305,
          276,
          277,
          280,
          305,
          122,
          180,
          296,
          217,
          211,
          198,
          170,
          195,
          177,
          191,
          168,
          192,
          183,
          161,
          162,
          135,
          184,
          189,
          156,
          177,
          143,
          122,
          254,
          249,
          229,
          212,
          218,
          180,
          143,
          189,
          173,
          298,
          265,
          230,
          256,
          192,
          173,
          188,
          197,
          203,
          206,
          185,
          169,
          162,
          175,
          206,
          179,
          192,
          184,
          169,
          175,
          200,
          249,
          244,
          195,
          317,
          288,
          113,
          192,
          212,
          188,
          154,
          166,
          176,
          216,
          113,
          240,
          214,
          191,
          205,
          205,
          206,
          190,
          175,
          234,
          226,
          295,
          200,
          182,
          234,
          295,
          328,
          249,
          195,
          266,
          211,
          211,
          198,
          199,
          183,
          210,
          228,
          352,
          214,
          212,
          264,
          203,
          231,
          196,
          179,
          198,
          261,
          210,
          353,
          324,
          218,
          192,
          190,
          190,
          184,
          182,
          148,
          158,
          195,
          188,
          228,
          261,
          210,
          178,
          231,
          243,
          303,
          239,
          198,
          189,
          171,
          179,
          195,
          242,
          243,
          212,
          167,
          277,
          243,
          242,
          204,
          152,
          204,
          167,
          209,
          206,
          239,
          193,
          196,
          79,
          203,
          234,
          273,
          273,
          258,
          218,
          218,
          213,
          256
         ],
         "yaxis": "y"
        }
       ],
       "layout": {
        "coloraxis": {
         "colorbar": {
          "title": {
           "text": "Gotas cortadas (toneladas)"
          }
         },
         "colorscale": [
          [
           0,
           "rgb(253, 224, 197)"
          ],
          [
           0.16666666666666666,
           "rgb(250, 203, 166)"
          ],
          [
           0.3333333333333333,
           "rgb(248, 181, 139)"
          ],
          [
           0.5,
           "rgb(245, 158, 114)"
          ],
          [
           0.6666666666666666,
           "rgb(242, 133, 93)"
          ],
          [
           0.8333333333333334,
           "rgb(239, 106, 76)"
          ],
          [
           1,
           "rgb(235, 74, 64)"
          ]
         ]
        },
        "legend": {
         "itemsizing": "constant",
         "tracegroupgap": 0
        },
        "margin": {
         "t": 60
        },
        "template": {
         "data": {
          "bar": [
           {
            "error_x": {
             "color": "#2a3f5f"
            },
            "error_y": {
             "color": "#2a3f5f"
            },
            "marker": {
             "line": {
              "color": "#E5ECF6",
              "width": 0.5
             },
             "pattern": {
              "fillmode": "overlay",
              "size": 10,
              "solidity": 0.2
             }
            },
            "type": "bar"
           }
          ],
          "barpolar": [
           {
            "marker": {
             "line": {
              "color": "#E5ECF6",
              "width": 0.5
             },
             "pattern": {
              "fillmode": "overlay",
              "size": 10,
              "solidity": 0.2
             }
            },
            "type": "barpolar"
           }
          ],
          "carpet": [
           {
            "aaxis": {
             "endlinecolor": "#2a3f5f",
             "gridcolor": "white",
             "linecolor": "white",
             "minorgridcolor": "white",
             "startlinecolor": "#2a3f5f"
            },
            "baxis": {
             "endlinecolor": "#2a3f5f",
             "gridcolor": "white",
             "linecolor": "white",
             "minorgridcolor": "white",
             "startlinecolor": "#2a3f5f"
            },
            "type": "carpet"
           }
          ],
          "choropleth": [
           {
            "colorbar": {
             "outlinewidth": 0,
             "ticks": ""
            },
            "type": "choropleth"
           }
          ],
          "contour": [
           {
            "colorbar": {
             "outlinewidth": 0,
             "ticks": ""
            },
            "colorscale": [
             [
              0,
              "#0d0887"
             ],
             [
              0.1111111111111111,
              "#46039f"
             ],
             [
              0.2222222222222222,
              "#7201a8"
             ],
             [
              0.3333333333333333,
              "#9c179e"
             ],
             [
              0.4444444444444444,
              "#bd3786"
             ],
             [
              0.5555555555555556,
              "#d8576b"
             ],
             [
              0.6666666666666666,
              "#ed7953"
             ],
             [
              0.7777777777777778,
              "#fb9f3a"
             ],
             [
              0.8888888888888888,
              "#fdca26"
             ],
             [
              1,
              "#f0f921"
             ]
            ],
            "type": "contour"
           }
          ],
          "contourcarpet": [
           {
            "colorbar": {
             "outlinewidth": 0,
             "ticks": ""
            },
            "type": "contourcarpet"
           }
          ],
          "heatmap": [
           {
            "colorbar": {
             "outlinewidth": 0,
             "ticks": ""
            },
            "colorscale": [
             [
              0,
              "#0d0887"
             ],
             [
              0.1111111111111111,
              "#46039f"
             ],
             [
              0.2222222222222222,
              "#7201a8"
             ],
             [
              0.3333333333333333,
              "#9c179e"
             ],
             [
              0.4444444444444444,
              "#bd3786"
             ],
             [
              0.5555555555555556,
              "#d8576b"
             ],
             [
              0.6666666666666666,
              "#ed7953"
             ],
             [
              0.7777777777777778,
              "#fb9f3a"
             ],
             [
              0.8888888888888888,
              "#fdca26"
             ],
             [
              1,
              "#f0f921"
             ]
            ],
            "type": "heatmap"
           }
          ],
          "heatmapgl": [
           {
            "colorbar": {
             "outlinewidth": 0,
             "ticks": ""
            },
            "colorscale": [
             [
              0,
              "#0d0887"
             ],
             [
              0.1111111111111111,
              "#46039f"
             ],
             [
              0.2222222222222222,
              "#7201a8"
             ],
             [
              0.3333333333333333,
              "#9c179e"
             ],
             [
              0.4444444444444444,
              "#bd3786"
             ],
             [
              0.5555555555555556,
              "#d8576b"
             ],
             [
              0.6666666666666666,
              "#ed7953"
             ],
             [
              0.7777777777777778,
              "#fb9f3a"
             ],
             [
              0.8888888888888888,
              "#fdca26"
             ],
             [
              1,
              "#f0f921"
             ]
            ],
            "type": "heatmapgl"
           }
          ],
          "histogram": [
           {
            "marker": {
             "pattern": {
              "fillmode": "overlay",
              "size": 10,
              "solidity": 0.2
             }
            },
            "type": "histogram"
           }
          ],
          "histogram2d": [
           {
            "colorbar": {
             "outlinewidth": 0,
             "ticks": ""
            },
            "colorscale": [
             [
              0,
              "#0d0887"
             ],
             [
              0.1111111111111111,
              "#46039f"
             ],
             [
              0.2222222222222222,
              "#7201a8"
             ],
             [
              0.3333333333333333,
              "#9c179e"
             ],
             [
              0.4444444444444444,
              "#bd3786"
             ],
             [
              0.5555555555555556,
              "#d8576b"
             ],
             [
              0.6666666666666666,
              "#ed7953"
             ],
             [
              0.7777777777777778,
              "#fb9f3a"
             ],
             [
              0.8888888888888888,
              "#fdca26"
             ],
             [
              1,
              "#f0f921"
             ]
            ],
            "type": "histogram2d"
           }
          ],
          "histogram2dcontour": [
           {
            "colorbar": {
             "outlinewidth": 0,
             "ticks": ""
            },
            "colorscale": [
             [
              0,
              "#0d0887"
             ],
             [
              0.1111111111111111,
              "#46039f"
             ],
             [
              0.2222222222222222,
              "#7201a8"
             ],
             [
              0.3333333333333333,
              "#9c179e"
             ],
             [
              0.4444444444444444,
              "#bd3786"
             ],
             [
              0.5555555555555556,
              "#d8576b"
             ],
             [
              0.6666666666666666,
              "#ed7953"
             ],
             [
              0.7777777777777778,
              "#fb9f3a"
             ],
             [
              0.8888888888888888,
              "#fdca26"
             ],
             [
              1,
              "#f0f921"
             ]
            ],
            "type": "histogram2dcontour"
           }
          ],
          "mesh3d": [
           {
            "colorbar": {
             "outlinewidth": 0,
             "ticks": ""
            },
            "type": "mesh3d"
           }
          ],
          "parcoords": [
           {
            "line": {
             "colorbar": {
              "outlinewidth": 0,
              "ticks": ""
             }
            },
            "type": "parcoords"
           }
          ],
          "pie": [
           {
            "automargin": true,
            "type": "pie"
           }
          ],
          "scatter": [
           {
            "fillpattern": {
             "fillmode": "overlay",
             "size": 10,
             "solidity": 0.2
            },
            "type": "scatter"
           }
          ],
          "scatter3d": [
           {
            "line": {
             "colorbar": {
              "outlinewidth": 0,
              "ticks": ""
             }
            },
            "marker": {
             "colorbar": {
              "outlinewidth": 0,
              "ticks": ""
             }
            },
            "type": "scatter3d"
           }
          ],
          "scattercarpet": [
           {
            "marker": {
             "colorbar": {
              "outlinewidth": 0,
              "ticks": ""
             }
            },
            "type": "scattercarpet"
           }
          ],
          "scattergeo": [
           {
            "marker": {
             "colorbar": {
              "outlinewidth": 0,
              "ticks": ""
             }
            },
            "type": "scattergeo"
           }
          ],
          "scattergl": [
           {
            "marker": {
             "colorbar": {
              "outlinewidth": 0,
              "ticks": ""
             }
            },
            "type": "scattergl"
           }
          ],
          "scattermapbox": [
           {
            "marker": {
             "colorbar": {
              "outlinewidth": 0,
              "ticks": ""
             }
            },
            "type": "scattermapbox"
           }
          ],
          "scatterpolar": [
           {
            "marker": {
             "colorbar": {
              "outlinewidth": 0,
              "ticks": ""
             }
            },
            "type": "scatterpolar"
           }
          ],
          "scatterpolargl": [
           {
            "marker": {
             "colorbar": {
              "outlinewidth": 0,
              "ticks": ""
             }
            },
            "type": "scatterpolargl"
           }
          ],
          "scatterternary": [
           {
            "marker": {
             "colorbar": {
              "outlinewidth": 0,
              "ticks": ""
             }
            },
            "type": "scatterternary"
           }
          ],
          "surface": [
           {
            "colorbar": {
             "outlinewidth": 0,
             "ticks": ""
            },
            "colorscale": [
             [
              0,
              "#0d0887"
             ],
             [
              0.1111111111111111,
              "#46039f"
             ],
             [
              0.2222222222222222,
              "#7201a8"
             ],
             [
              0.3333333333333333,
              "#9c179e"
             ],
             [
              0.4444444444444444,
              "#bd3786"
             ],
             [
              0.5555555555555556,
              "#d8576b"
             ],
             [
              0.6666666666666666,
              "#ed7953"
             ],
             [
              0.7777777777777778,
              "#fb9f3a"
             ],
             [
              0.8888888888888888,
              "#fdca26"
             ],
             [
              1,
              "#f0f921"
             ]
            ],
            "type": "surface"
           }
          ],
          "table": [
           {
            "cells": {
             "fill": {
              "color": "#EBF0F8"
             },
             "line": {
              "color": "white"
             }
            },
            "header": {
             "fill": {
              "color": "#C8D4E3"
             },
             "line": {
              "color": "white"
             }
            },
            "type": "table"
           }
          ]
         },
         "layout": {
          "annotationdefaults": {
           "arrowcolor": "#2a3f5f",
           "arrowhead": 0,
           "arrowwidth": 1
          },
          "autotypenumbers": "strict",
          "coloraxis": {
           "colorbar": {
            "outlinewidth": 0,
            "ticks": ""
           }
          },
          "colorscale": {
           "diverging": [
            [
             0,
             "#8e0152"
            ],
            [
             0.1,
             "#c51b7d"
            ],
            [
             0.2,
             "#de77ae"
            ],
            [
             0.3,
             "#f1b6da"
            ],
            [
             0.4,
             "#fde0ef"
            ],
            [
             0.5,
             "#f7f7f7"
            ],
            [
             0.6,
             "#e6f5d0"
            ],
            [
             0.7,
             "#b8e186"
            ],
            [
             0.8,
             "#7fbc41"
            ],
            [
             0.9,
             "#4d9221"
            ],
            [
             1,
             "#276419"
            ]
           ],
           "sequential": [
            [
             0,
             "#0d0887"
            ],
            [
             0.1111111111111111,
             "#46039f"
            ],
            [
             0.2222222222222222,
             "#7201a8"
            ],
            [
             0.3333333333333333,
             "#9c179e"
            ],
            [
             0.4444444444444444,
             "#bd3786"
            ],
            [
             0.5555555555555556,
             "#d8576b"
            ],
            [
             0.6666666666666666,
             "#ed7953"
            ],
            [
             0.7777777777777778,
             "#fb9f3a"
            ],
            [
             0.8888888888888888,
             "#fdca26"
            ],
            [
             1,
             "#f0f921"
            ]
           ],
           "sequentialminus": [
            [
             0,
             "#0d0887"
            ],
            [
             0.1111111111111111,
             "#46039f"
            ],
            [
             0.2222222222222222,
             "#7201a8"
            ],
            [
             0.3333333333333333,
             "#9c179e"
            ],
            [
             0.4444444444444444,
             "#bd3786"
            ],
            [
             0.5555555555555556,
             "#d8576b"
            ],
            [
             0.6666666666666666,
             "#ed7953"
            ],
            [
             0.7777777777777778,
             "#fb9f3a"
            ],
            [
             0.8888888888888888,
             "#fdca26"
            ],
            [
             1,
             "#f0f921"
            ]
           ]
          },
          "colorway": [
           "#636efa",
           "#EF553B",
           "#00cc96",
           "#ab63fa",
           "#FFA15A",
           "#19d3f3",
           "#FF6692",
           "#B6E880",
           "#FF97FF",
           "#FECB52"
          ],
          "font": {
           "color": "#2a3f5f"
          },
          "geo": {
           "bgcolor": "white",
           "lakecolor": "white",
           "landcolor": "#E5ECF6",
           "showlakes": true,
           "showland": true,
           "subunitcolor": "white"
          },
          "hoverlabel": {
           "align": "left"
          },
          "hovermode": "closest",
          "mapbox": {
           "style": "light"
          },
          "paper_bgcolor": "white",
          "plot_bgcolor": "#E5ECF6",
          "polar": {
           "angularaxis": {
            "gridcolor": "white",
            "linecolor": "white",
            "ticks": ""
           },
           "bgcolor": "#E5ECF6",
           "radialaxis": {
            "gridcolor": "white",
            "linecolor": "white",
            "ticks": ""
           }
          },
          "scene": {
           "xaxis": {
            "backgroundcolor": "#E5ECF6",
            "gridcolor": "white",
            "gridwidth": 2,
            "linecolor": "white",
            "showbackground": true,
            "ticks": "",
            "zerolinecolor": "white"
           },
           "yaxis": {
            "backgroundcolor": "#E5ECF6",
            "gridcolor": "white",
            "gridwidth": 2,
            "linecolor": "white",
            "showbackground": true,
            "ticks": "",
            "zerolinecolor": "white"
           },
           "zaxis": {
            "backgroundcolor": "#E5ECF6",
            "gridcolor": "white",
            "gridwidth": 2,
            "linecolor": "white",
            "showbackground": true,
            "ticks": "",
            "zerolinecolor": "white"
           }
          },
          "shapedefaults": {
           "line": {
            "color": "#2a3f5f"
           }
          },
          "ternary": {
           "aaxis": {
            "gridcolor": "white",
            "linecolor": "white",
            "ticks": ""
           },
           "baxis": {
            "gridcolor": "white",
            "linecolor": "white",
            "ticks": ""
           },
           "bgcolor": "#E5ECF6",
           "caxis": {
            "gridcolor": "white",
            "linecolor": "white",
            "ticks": ""
           }
          },
          "title": {
           "x": 0.05
          },
          "xaxis": {
           "automargin": true,
           "gridcolor": "white",
           "linecolor": "white",
           "ticks": "",
           "title": {
            "standoff": 15
           },
           "zerolinecolor": "white",
           "zerolinewidth": 2
          },
          "yaxis": {
           "automargin": true,
           "gridcolor": "white",
           "linecolor": "white",
           "ticks": "",
           "title": {
            "standoff": 15
           },
           "zerolinecolor": "white",
           "zerolinewidth": 2
          }
         }
        },
        "xaxis": {
         "anchor": "y",
         "domain": [
          0,
          1
         ],
         "title": {
          "text": "Gotas cortadas (toneladas)"
         }
        },
        "yaxis": {
         "anchor": "x",
         "domain": [
          0,
          1
         ],
         "title": {
          "text": "Total de Defeitos no Dia"
         }
        }
       }
      }
     },
     "metadata": {},
     "output_type": "display_data"
    }
   ],
   "source": [
    "px.scatter(data_frame=df_reset, \n",
    "           x='Gotas cortadas (toneladas)', \n",
    "           y='Total de Defeitos no Dia', \n",
    "           color='Gotas cortadas (toneladas)', \n",
    "           color_continuous_scale='peach', \n",
    "           size='Total de Defeitos no Dia')"
   ]
  },
  {
   "cell_type": "markdown",
   "metadata": {},
   "source": [
    "### Correlação das medidas com gotas cortadas"
   ]
  },
  {
   "cell_type": "code",
   "execution_count": 19,
   "metadata": {},
   "outputs": [],
   "source": [
    "df_corr_medidas = df_reset[['Temperatura (F°)', 'Peso médio (g)', 'Comprimento médio (mm)', 'Diâmetro', 'Gotas cortadas (toneladas)', 'Sujo de óleo']]"
   ]
  },
  {
   "cell_type": "code",
   "execution_count": 20,
   "metadata": {},
   "outputs": [],
   "source": [
    "correlacao_medidas = df_corr_medidas.corr()"
   ]
  },
  {
   "cell_type": "code",
   "execution_count": 21,
   "metadata": {},
   "outputs": [
    {
     "data": {
      "application/vnd.plotly.v1+json": {
       "config": {
        "plotlyServerURL": "https://plot.ly"
       },
       "data": [
        {
         "dimensions": [
          {
           "axis": {
            "matches": true
           },
           "label": "Temperatura (F°)",
           "values": [
            2126.9699999999984,
            2118.92,
            2124.999999999999,
            2125.399999999999,
            2126.759999999999,
            2126.759999999999,
            2126.599999999999,
            2126.599999999999,
            2126.599999999999,
            2189.399999999999,
            2189.0799999999986,
            2142.5599999999995,
            2126.599999999999,
            2128.9199999999987,
            2128.9999999999995,
            2127.3199999999983,
            2124.74,
            2123.9999999999995,
            2123.9999999999995,
            2123.6799999999994,
            2119.999999999998,
            2119.999999999998,
            2117.5199999999986,
            2067.1599999999994,
            2195.0499999999997,
            2177.3699999999994,
            2160.1899999999987,
            2150.039999999999,
            2148.029999999999,
            2144.1099999999988,
            2137.6299999999987,
            2137.6299999999987,
            2136.579999999999,
            2137.1099999999988,
            2137.0499999999997,
            2137.0499999999997,
            2137.0499999999997,
            2140.679999999998,
            2180.7699999999995,
            2171.8799999999987,
            2167.7699999999995,
            2128.059999999999,
            2116.1699999999987,
            2110.369999999999,
            2122.179999999999,
            2126.2,
            2151.9799999999987,
            2138.0399999999995,
            2126.3199999999997,
            2128.559999999999,
            2128.2999999999984,
            2127.9499999999985,
            2127.699999999998,
            2128.149999999999,
            2123.6099999999983,
            2123.47,
            2114.099999999999,
            2114.3299999999995,
            2122.499999999999,
            2122.3499999999985,
            2124.2099999999987,
            2125.6099999999988,
            2123.329999999999,
            2123.359999999999,
            2124.1499999999983,
            2123.599999999999,
            2137.029999999999,
            2150.6199999999985,
            2158.4499999999985,
            2163.649999999999,
            2163.4999999999995,
            2163.0999999999995,
            2162.97,
            2149.1599999999994,
            2137.029999999999,
            2147.7899999999986,
            2159.75,
            2176.8399999999983,
            2173.719999999999,
            2165.4299999999985,
            2165.969999999999,
            2160.439999999999,
            2159.75,
            2175.439999999999,
            2177.729999999998,
            2184.049999999998,
            2184.0999999999995,
            2184.0999999999995,
            2184.039999999998,
            2184.2599999999998,
            2131.179999999999,
            2140.099999999999,
            2140.5999999999985,
            2140.8499999999976,
            2140.049999999998,
            2140.249999999998,
            2124.599999999999,
            2106.659999999999,
            2148.299999999999,
            2155.369999999999,
            2160.2599999999998,
            2191.0999999999995,
            2179.729999999999,
            2137.64,
            2162.7599999999984,
            2151.1699999999987,
            2145.199999999999,
            2144.969999999999,
            2144.8799999999987,
            2144.969999999999,
            2147.9199999999983,
            2144.94,
            2132.429999999999,
            2132.069999999999,
            2131.0699999999997,
            2130.739999999999,
            2130.6499999999987,
            2131.8999999999983,
            2134.0499999999997,
            2131.179999999999,
            2133.499999999998,
            2149.1499999999987,
            2135.78,
            2102.3599999999983,
            2113.8499999999995,
            2131.8599999999988,
            2135.78,
            2150.729999999998,
            2148.299999999999,
            2160.2599999999998,
            2191.449999999999,
            2191.029999999999,
            2191.029999999999,
            2187.909999999999,
            2187.749999999999,
            2187.65,
            2175.1099999999983,
            2147.1299999999987,
            2179.119999999999,
            2155.999999999998,
            2155.999999999998,
            2155.679999999999,
            2155.9799999999987,
            2155.999999999998,
            2155.999999999998,
            2155.999999999998,
            2157.759999999999,
            2129.789999999999,
            2175.1099999999983,
            2155.1599999999985,
            2160.059999999999,
            2141.009999999999,
            2139.609999999998,
            2141.76,
            2142.64,
            2136.5999999999985,
            2129.599999999999,
            2129.599999999999,
            2129.599999999999,
            2129.599999999999,
            2129.599999999999,
            2147.1299999999987,
            2129.789999999999,
            2107.999999999998,
            2107.999999999998,
            2107.999999999998,
            2129.989999999998,
            2142.7899999999986,
            2139.949999999998,
            2142.0199999999986,
            2142.699999999999,
            2142.22,
            2141.899999999999,
            2130.5999999999995,
            2130.519999999998,
            2129.989999999998,
            2140.999999999998,
            2139.999999999999,
            2142.64,
            2138.819999999999,
            2130.519999999998,
            2130.999999999998,
            2130.999999999998,
            2139.999999999998,
            2144.749999999998,
            2142.999999999999,
            2143.749999999998,
            2146.659999999999,
            2148.42,
            2175.049999999999,
            2151.8399999999983,
            2190.0599999999995,
            2156.24,
            2150.7699999999986,
            2150.7699999999986,
            2154.4399999999987,
            2152.3199999999997,
            2145.5999999999985,
            2145.5999999999985,
            2147.999999999998
           ]
          },
          {
           "axis": {
            "matches": true
           },
           "label": "Peso médio (g)",
           "values": [
            169.3,
            169.7,
            173.6,
            170.2,
            171.7,
            166.5,
            169.6,
            169.4,
            169.2,
            168.4,
            168.3,
            167.8,
            145.3,
            148.5,
            148.5,
            145.9,
            146.6,
            147.1,
            147.2,
            148.1,
            147.8,
            147.5,
            148.2,
            148.9,
            172.5,
            171.2,
            170.5,
            170.4,
            169.6,
            170.6,
            170.1,
            171.7,
            171.5,
            171,
            171.3,
            171.1,
            171,
            170.8,
            122,
            122.2,
            191.6,
            191,
            190.9,
            191.5,
            191.7,
            191.8,
            191,
            170.3,
            171.2,
            170.5,
            169.8,
            170.5,
            170.4,
            170.3,
            169.6,
            169.2,
            169.6,
            169.5,
            169.5,
            169.6,
            169.6,
            169.5,
            170.1,
            170.3,
            169.5,
            169.7,
            170.4,
            171.5,
            171.7,
            171.9,
            171.5,
            171.6,
            171.5,
            171.4,
            183.6,
            194.2,
            194.7,
            171.8,
            172.6,
            172.2,
            172.6,
            173,
            171.4,
            169.5,
            171.6,
            173,
            173.3,
            172.9,
            172.8,
            173.1,
            195.7,
            196.6,
            196.9,
            197,
            196.4,
            197.1,
            197.1,
            196.7,
            116.4,
            116.3,
            116.6,
            173.6,
            174,
            174.1,
            171.4,
            171.8,
            171.9,
            171.9,
            171.9,
            171.7,
            172.1,
            192.1,
            193.2,
            191.4,
            193,
            193.2,
            192.9,
            192.7,
            193.2,
            193.3,
            124,
            123.9,
            124.4,
            203,
            202.3,
            202.1,
            161.7,
            161.3,
            162.3,
            158.5,
            157.6,
            158,
            150.3,
            151.1,
            151.4,
            152.4,
            150.9,
            129.4,
            130.6,
            132.4,
            132.9,
            132.5,
            132.5,
            133.2,
            133.1,
            132.9,
            132.8,
            132.8,
            188.5,
            188.6,
            188.9,
            174,
            174.6,
            174.5,
            174.8,
            174.3,
            174.1,
            173.5,
            174.4,
            174.8,
            174.8,
            174.9,
            198.8,
            198.2,
            199.1,
            198.4,
            198.1,
            136.6,
            136.3,
            136.6,
            136.5,
            136.9,
            136.2,
            136.8,
            136.4,
            172.3,
            173.6,
            173.5,
            175.1,
            172.8,
            196.4,
            196.1,
            196.4,
            196.6,
            180.3,
            180.5,
            179.9,
            179.3,
            169.6,
            169.5,
            168.5,
            122,
            121.7,
            120.1,
            168.1,
            169,
            168.9,
            169.3,
            168.8,
            169.2
           ]
          },
          {
           "axis": {
            "matches": true
           },
           "label": "Comprimento médio (mm)",
           "values": [
            110.4,
            85.6,
            140.5,
            144.7,
            141.5,
            140.6,
            128.4,
            127,
            110.9,
            78.2,
            77.6,
            110.4,
            110.9,
            95.2,
            87.4,
            98,
            99.6,
            98.3,
            96.7,
            96.6,
            97.5,
            108.6,
            107.7,
            104.9,
            82.2,
            91.9,
            91.2,
            96.3,
            96.3,
            99.8,
            94.8,
            102.9,
            101.5,
            99.5,
            99.7,
            100.7,
            99.4,
            87.7,
            75.3,
            46.7,
            46.7,
            87.3,
            141.6,
            11,
            0,
            0,
            24,
            73,
            107.6,
            133.5,
            131.4,
            127.1,
            123.9,
            86.3,
            121.2,
            119.9,
            124,
            122.7,
            123.2,
            120.2,
            116.5,
            115,
            113.8,
            114.2,
            114.6,
            113.2,
            96.1,
            24,
            91.3,
            91.1,
            88.9,
            88,
            86.3,
            73,
            96.1,
            95.9,
            98,
            91.8,
            86,
            81.9,
            83.1,
            87.6,
            98,
            89,
            93.8,
            97.4,
            96.4,
            92.5,
            93.2,
            88.8,
            93.8,
            98.4,
            100.1,
            101.9,
            99.3,
            98.4,
            99.5,
            88.7,
            83.4,
            83.4,
            85.2,
            82.1,
            81.4,
            79.6,
            87.6,
            88.9,
            91.1,
            90.6,
            95.1,
            89.8,
            92.1,
            79.6,
            99.6,
            102.1,
            103.6,
            102.8,
            102.8,
            100,
            96.5,
            93.8,
            57.2,
            42.7,
            91.8,
            88.7,
            83.8,
            57.2,
            91.8,
            117.8,
            83.4,
            85.2,
            91.7,
            90.8,
            90.8,
            83.6,
            86.1,
            85.4,
            94.9,
            79.4,
            68.5,
            78.4,
            79.7,
            79.1,
            66.8,
            67.7,
            68.8,
            69.7,
            70.5,
            83.1,
            94.9,
            117.7,
            110.8,
            80.9,
            85.5,
            89.3,
            92.1,
            92.9,
            93.1,
            93.7,
            97.4,
            102.4,
            106.1,
            79.4,
            83.1,
            95.3,
            96.8,
            96.2,
            86.4,
            80.4,
            73.8,
            73.9,
            77.9,
            78.2,
            76.7,
            76.8,
            69.1,
            86.4,
            98.5,
            102.4,
            82.1,
            65.9,
            69.1,
            118.4,
            117.6,
            116.4,
            102.4,
            104.1,
            102.9,
            97.7,
            80,
            79.3,
            29.3,
            62.1,
            74.6,
            92.5,
            92.5,
            124.3,
            120.2,
            124.1,
            120,
            122.9
           ]
          },
          {
           "axis": {
            "matches": true
           },
           "label": "Diâmetro",
           "values": [
            32.5,
            18.1,
            32.9,
            32.7,
            30.2,
            32.5,
            32.9,
            33,
            33.9,
            41.6,
            41.6,
            32.5,
            33.9,
            35.7,
            34,
            37.6,
            36.2,
            36.5,
            36,
            36.2,
            36.4,
            34.2,
            34,
            34.5,
            32.3,
            38.6,
            39,
            37.6,
            37.6,
            37.1,
            35,
            36.6,
            36.8,
            37.1,
            37,
            36.8,
            37,
            34.6,
            34.2,
            20.7,
            20.7,
            18.6,
            33.4,
            2.9,
            0,
            0,
            9.7,
            25.7,
            28.1,
            33.2,
            33.7,
            34.4,
            34.7,
            25.2,
            35.3,
            35.7,
            34.8,
            34.2,
            34.1,
            34.2,
            34.7,
            35,
            35.1,
            35.2,
            35.3,
            35.3,
            34.8,
            9.7,
            39.8,
            39.5,
            40.2,
            40.8,
            41.1,
            25.7,
            34.8,
            40.1,
            37.8,
            40.3,
            40.4,
            41.3,
            41.4,
            37.6,
            37.8,
            40.2,
            39.5,
            38.7,
            38.7,
            39.4,
            39.3,
            36.4,
            36.2,
            32.8,
            39.1,
            39,
            39.4,
            39.7,
            39.8,
            40.1,
            31.2,
            34.5,
            35.1,
            39.8,
            39.7,
            39.1,
            37.6,
            39.7,
            39.1,
            39.8,
            39.4,
            40.3,
            39.2,
            39.1,
            39.2,
            39.5,
            39.6,
            38.9,
            38.9,
            38.6,
            39,
            36.2,
            31.5,
            29.3,
            36.2,
            40.1,
            42.8,
            31.5,
            36.2,
            35,
            31.2,
            35.1,
            38,
            37,
            37,
            37.8,
            37.8,
            37.5,
            36.1,
            38.2,
            39,
            36.9,
            37,
            36.3,
            40.1,
            39.5,
            38.8,
            38.2,
            38.2,
            39.6,
            36.1,
            36.8,
            34.1,
            37.5,
            40,
            39.5,
            39.4,
            39.1,
            39.2,
            39.3,
            39.4,
            39.7,
            39.7,
            38.2,
            39.6,
            40.6,
            40.6,
            40.6,
            34.4,
            34.9,
            38.7,
            38,
            39.1,
            39.4,
            39.6,
            37.9,
            32.6,
            34.4,
            37.1,
            36.7,
            41.6,
            34.5,
            32.6,
            38.7,
            39.4,
            39.9,
            36.7,
            38,
            38.7,
            37.3,
            39.5,
            42.2,
            15.9,
            27.8,
            38,
            31.7,
            31.7,
            32.6,
            33.6,
            34.2,
            33.5,
            34.6
           ]
          },
          {
           "axis": {
            "matches": true
           },
           "label": "Gotas cortadas (toneladas)",
           "values": [
            20.948,
            21.022,
            21.449,
            21.526,
            21.439,
            21.506,
            21.524,
            21.427,
            7.947,
            21.89,
            21.857,
            0.985,
            12.494,
            20.045,
            20.287,
            20.121,
            20.261,
            20.403,
            20.4,
            20.429,
            20.464,
            20.353,
            20.422,
            20.447,
            22.406,
            21.226,
            22.082,
            8.598,
            8.823,
            14.741,
            14.685,
            14.851,
            14.783,
            14.169,
            14.749,
            14.777,
            14.787,
            10.55,
            14.451,
            5.292,
            13.213,
            21.495,
            21.441,
            21.508,
            21.535,
            21.507,
            1.114,
            21.061,
            21.936,
            21.52,
            21.562,
            21.593,
            21.55,
            21.376,
            21.454,
            21.427,
            21.466,
            21.519,
            20.581,
            20.58,
            21.427,
            21.506,
            21.527,
            20.64,
            21.464,
            21.496,
            3.07,
            22.992,
            24.699,
            24.736,
            24.646,
            24.655,
            24.646,
            1.288,
            14.47,
            16.788,
            6.33,
            22.28,
            22.363,
            22.356,
            21.49,
            2.495,
            9.195,
            14.932,
            14.934,
            14.951,
            14.912,
            14.907,
            14.862,
            10.703,
            15.236,
            24.909,
            24.93,
            24.984,
            24.963,
            24.959,
            24.943,
            3.047,
            19.33,
            20.743,
            7.94,
            25.13,
            24.459,
            1.199,
            17.406,
            19.785,
            19.792,
            18.963,
            19.744,
            18.91,
            14.049,
            23.172,
            23.387,
            24.446,
            24.421,
            12.19,
            8.055,
            16.654,
            15.971,
            6.347,
            17.925,
            18.973,
            2.821,
            18.936,
            21.786,
            1.003,
            20.809,
            24.65,
            1.456,
            13.336,
            21.752,
            8.413,
            13.71,
            22.696,
            22.697,
            22.776,
            8.889,
            15.193,
            18.689,
            18.957,
            19.006,
            19.024,
            19.006,
            19.215,
            19.085,
            19.084,
            19.156,
            0.737,
            15.76,
            26.052,
            18.324,
            18.785,
            18.807,
            18.816,
            18.844,
            18.79,
            18.743,
            18.728,
            18.935,
            18.901,
            18.842,
            2.965,
            20.22,
            21.192,
            21.209,
            21.154,
            2.352,
            21.545,
            21.608,
            21.603,
            21.607,
            21.724,
            21.513,
            21.65,
            1.579,
            18.987,
            20.936,
            7.621,
            24.919,
            19.679,
            23.153,
            24.899,
            24.791,
            19.663,
            15.161,
            24.218,
            24.244,
            17.633,
            22.024,
            22.022,
            22.194,
            17.61,
            18.188,
            1.329,
            19.708,
            21.412,
            21.447,
            21.491,
            21.419,
            21.548
           ]
          },
          {
           "axis": {
            "matches": true
           },
           "label": "Sujo de óleo",
           "values": [
            31,
            49,
            49,
            73,
            49,
            52,
            46,
            65,
            23,
            96,
            125,
            38,
            30,
            98,
            38,
            73,
            98,
            75,
            75,
            95,
            52,
            79,
            73,
            65,
            53,
            50,
            94,
            48,
            17,
            63,
            58,
            89,
            51,
            91,
            78,
            139,
            104,
            64,
            19,
            29,
            3,
            65,
            75,
            46,
            54,
            115,
            8,
            24,
            51,
            40,
            64,
            66,
            64,
            35,
            59,
            72,
            65,
            70,
            50,
            45,
            73,
            42,
            77,
            61,
            79,
            89,
            32,
            1,
            79,
            85,
            85,
            73,
            93,
            23,
            9,
            62,
            33,
            28,
            39,
            42,
            46,
            27,
            1,
            72,
            80,
            91,
            119,
            104,
            86,
            66,
            16,
            106,
            84,
            90,
            94,
            75,
            78,
            34,
            31,
            71,
            48,
            61,
            70,
            26,
            29,
            76,
            73,
            56,
            48,
            62,
            60,
            9,
            94,
            101,
            85,
            64,
            8,
            108,
            72,
            56,
            28,
            59,
            45,
            41,
            79,
            36,
            32,
            76,
            20,
            21,
            79,
            42,
            36,
            85,
            94,
            92,
            70,
            14,
            76,
            83,
            95,
            56,
            46,
            83,
            81,
            80,
            82,
            33,
            27,
            71,
            84,
            71,
            91,
            79,
            86,
            88,
            89,
            70,
            81,
            95,
            93,
            29,
            23,
            82,
            103,
            108,
            41,
            35,
            108,
            114,
            97,
            104,
            93,
            101,
            34,
            27,
            83,
            57,
            59,
            90,
            31,
            66,
            41,
            76,
            23,
            79,
            51,
            85,
            93,
            107,
            51,
            9,
            40,
            25,
            10,
            40,
            75,
            54,
            54,
            58
           ]
          }
         ],
         "hovertemplate": "%{xaxis.title.text}=%{x}<br>%{yaxis.title.text}=%{y}<extra></extra>",
         "legendgroup": "",
         "marker": {
          "color": "#636efa",
          "symbol": "circle"
         },
         "name": "",
         "showlegend": false,
         "type": "splom"
        }
       ],
       "layout": {
        "dragmode": "select",
        "height": 800,
        "legend": {
         "tracegroupgap": 0
        },
        "template": {
         "data": {
          "bar": [
           {
            "error_x": {
             "color": "#2a3f5f"
            },
            "error_y": {
             "color": "#2a3f5f"
            },
            "marker": {
             "line": {
              "color": "#E5ECF6",
              "width": 0.5
             },
             "pattern": {
              "fillmode": "overlay",
              "size": 10,
              "solidity": 0.2
             }
            },
            "type": "bar"
           }
          ],
          "barpolar": [
           {
            "marker": {
             "line": {
              "color": "#E5ECF6",
              "width": 0.5
             },
             "pattern": {
              "fillmode": "overlay",
              "size": 10,
              "solidity": 0.2
             }
            },
            "type": "barpolar"
           }
          ],
          "carpet": [
           {
            "aaxis": {
             "endlinecolor": "#2a3f5f",
             "gridcolor": "white",
             "linecolor": "white",
             "minorgridcolor": "white",
             "startlinecolor": "#2a3f5f"
            },
            "baxis": {
             "endlinecolor": "#2a3f5f",
             "gridcolor": "white",
             "linecolor": "white",
             "minorgridcolor": "white",
             "startlinecolor": "#2a3f5f"
            },
            "type": "carpet"
           }
          ],
          "choropleth": [
           {
            "colorbar": {
             "outlinewidth": 0,
             "ticks": ""
            },
            "type": "choropleth"
           }
          ],
          "contour": [
           {
            "colorbar": {
             "outlinewidth": 0,
             "ticks": ""
            },
            "colorscale": [
             [
              0,
              "#0d0887"
             ],
             [
              0.1111111111111111,
              "#46039f"
             ],
             [
              0.2222222222222222,
              "#7201a8"
             ],
             [
              0.3333333333333333,
              "#9c179e"
             ],
             [
              0.4444444444444444,
              "#bd3786"
             ],
             [
              0.5555555555555556,
              "#d8576b"
             ],
             [
              0.6666666666666666,
              "#ed7953"
             ],
             [
              0.7777777777777778,
              "#fb9f3a"
             ],
             [
              0.8888888888888888,
              "#fdca26"
             ],
             [
              1,
              "#f0f921"
             ]
            ],
            "type": "contour"
           }
          ],
          "contourcarpet": [
           {
            "colorbar": {
             "outlinewidth": 0,
             "ticks": ""
            },
            "type": "contourcarpet"
           }
          ],
          "heatmap": [
           {
            "colorbar": {
             "outlinewidth": 0,
             "ticks": ""
            },
            "colorscale": [
             [
              0,
              "#0d0887"
             ],
             [
              0.1111111111111111,
              "#46039f"
             ],
             [
              0.2222222222222222,
              "#7201a8"
             ],
             [
              0.3333333333333333,
              "#9c179e"
             ],
             [
              0.4444444444444444,
              "#bd3786"
             ],
             [
              0.5555555555555556,
              "#d8576b"
             ],
             [
              0.6666666666666666,
              "#ed7953"
             ],
             [
              0.7777777777777778,
              "#fb9f3a"
             ],
             [
              0.8888888888888888,
              "#fdca26"
             ],
             [
              1,
              "#f0f921"
             ]
            ],
            "type": "heatmap"
           }
          ],
          "heatmapgl": [
           {
            "colorbar": {
             "outlinewidth": 0,
             "ticks": ""
            },
            "colorscale": [
             [
              0,
              "#0d0887"
             ],
             [
              0.1111111111111111,
              "#46039f"
             ],
             [
              0.2222222222222222,
              "#7201a8"
             ],
             [
              0.3333333333333333,
              "#9c179e"
             ],
             [
              0.4444444444444444,
              "#bd3786"
             ],
             [
              0.5555555555555556,
              "#d8576b"
             ],
             [
              0.6666666666666666,
              "#ed7953"
             ],
             [
              0.7777777777777778,
              "#fb9f3a"
             ],
             [
              0.8888888888888888,
              "#fdca26"
             ],
             [
              1,
              "#f0f921"
             ]
            ],
            "type": "heatmapgl"
           }
          ],
          "histogram": [
           {
            "marker": {
             "pattern": {
              "fillmode": "overlay",
              "size": 10,
              "solidity": 0.2
             }
            },
            "type": "histogram"
           }
          ],
          "histogram2d": [
           {
            "colorbar": {
             "outlinewidth": 0,
             "ticks": ""
            },
            "colorscale": [
             [
              0,
              "#0d0887"
             ],
             [
              0.1111111111111111,
              "#46039f"
             ],
             [
              0.2222222222222222,
              "#7201a8"
             ],
             [
              0.3333333333333333,
              "#9c179e"
             ],
             [
              0.4444444444444444,
              "#bd3786"
             ],
             [
              0.5555555555555556,
              "#d8576b"
             ],
             [
              0.6666666666666666,
              "#ed7953"
             ],
             [
              0.7777777777777778,
              "#fb9f3a"
             ],
             [
              0.8888888888888888,
              "#fdca26"
             ],
             [
              1,
              "#f0f921"
             ]
            ],
            "type": "histogram2d"
           }
          ],
          "histogram2dcontour": [
           {
            "colorbar": {
             "outlinewidth": 0,
             "ticks": ""
            },
            "colorscale": [
             [
              0,
              "#0d0887"
             ],
             [
              0.1111111111111111,
              "#46039f"
             ],
             [
              0.2222222222222222,
              "#7201a8"
             ],
             [
              0.3333333333333333,
              "#9c179e"
             ],
             [
              0.4444444444444444,
              "#bd3786"
             ],
             [
              0.5555555555555556,
              "#d8576b"
             ],
             [
              0.6666666666666666,
              "#ed7953"
             ],
             [
              0.7777777777777778,
              "#fb9f3a"
             ],
             [
              0.8888888888888888,
              "#fdca26"
             ],
             [
              1,
              "#f0f921"
             ]
            ],
            "type": "histogram2dcontour"
           }
          ],
          "mesh3d": [
           {
            "colorbar": {
             "outlinewidth": 0,
             "ticks": ""
            },
            "type": "mesh3d"
           }
          ],
          "parcoords": [
           {
            "line": {
             "colorbar": {
              "outlinewidth": 0,
              "ticks": ""
             }
            },
            "type": "parcoords"
           }
          ],
          "pie": [
           {
            "automargin": true,
            "type": "pie"
           }
          ],
          "scatter": [
           {
            "fillpattern": {
             "fillmode": "overlay",
             "size": 10,
             "solidity": 0.2
            },
            "type": "scatter"
           }
          ],
          "scatter3d": [
           {
            "line": {
             "colorbar": {
              "outlinewidth": 0,
              "ticks": ""
             }
            },
            "marker": {
             "colorbar": {
              "outlinewidth": 0,
              "ticks": ""
             }
            },
            "type": "scatter3d"
           }
          ],
          "scattercarpet": [
           {
            "marker": {
             "colorbar": {
              "outlinewidth": 0,
              "ticks": ""
             }
            },
            "type": "scattercarpet"
           }
          ],
          "scattergeo": [
           {
            "marker": {
             "colorbar": {
              "outlinewidth": 0,
              "ticks": ""
             }
            },
            "type": "scattergeo"
           }
          ],
          "scattergl": [
           {
            "marker": {
             "colorbar": {
              "outlinewidth": 0,
              "ticks": ""
             }
            },
            "type": "scattergl"
           }
          ],
          "scattermapbox": [
           {
            "marker": {
             "colorbar": {
              "outlinewidth": 0,
              "ticks": ""
             }
            },
            "type": "scattermapbox"
           }
          ],
          "scatterpolar": [
           {
            "marker": {
             "colorbar": {
              "outlinewidth": 0,
              "ticks": ""
             }
            },
            "type": "scatterpolar"
           }
          ],
          "scatterpolargl": [
           {
            "marker": {
             "colorbar": {
              "outlinewidth": 0,
              "ticks": ""
             }
            },
            "type": "scatterpolargl"
           }
          ],
          "scatterternary": [
           {
            "marker": {
             "colorbar": {
              "outlinewidth": 0,
              "ticks": ""
             }
            },
            "type": "scatterternary"
           }
          ],
          "surface": [
           {
            "colorbar": {
             "outlinewidth": 0,
             "ticks": ""
            },
            "colorscale": [
             [
              0,
              "#0d0887"
             ],
             [
              0.1111111111111111,
              "#46039f"
             ],
             [
              0.2222222222222222,
              "#7201a8"
             ],
             [
              0.3333333333333333,
              "#9c179e"
             ],
             [
              0.4444444444444444,
              "#bd3786"
             ],
             [
              0.5555555555555556,
              "#d8576b"
             ],
             [
              0.6666666666666666,
              "#ed7953"
             ],
             [
              0.7777777777777778,
              "#fb9f3a"
             ],
             [
              0.8888888888888888,
              "#fdca26"
             ],
             [
              1,
              "#f0f921"
             ]
            ],
            "type": "surface"
           }
          ],
          "table": [
           {
            "cells": {
             "fill": {
              "color": "#EBF0F8"
             },
             "line": {
              "color": "white"
             }
            },
            "header": {
             "fill": {
              "color": "#C8D4E3"
             },
             "line": {
              "color": "white"
             }
            },
            "type": "table"
           }
          ]
         },
         "layout": {
          "annotationdefaults": {
           "arrowcolor": "#2a3f5f",
           "arrowhead": 0,
           "arrowwidth": 1
          },
          "autotypenumbers": "strict",
          "coloraxis": {
           "colorbar": {
            "outlinewidth": 0,
            "ticks": ""
           }
          },
          "colorscale": {
           "diverging": [
            [
             0,
             "#8e0152"
            ],
            [
             0.1,
             "#c51b7d"
            ],
            [
             0.2,
             "#de77ae"
            ],
            [
             0.3,
             "#f1b6da"
            ],
            [
             0.4,
             "#fde0ef"
            ],
            [
             0.5,
             "#f7f7f7"
            ],
            [
             0.6,
             "#e6f5d0"
            ],
            [
             0.7,
             "#b8e186"
            ],
            [
             0.8,
             "#7fbc41"
            ],
            [
             0.9,
             "#4d9221"
            ],
            [
             1,
             "#276419"
            ]
           ],
           "sequential": [
            [
             0,
             "#0d0887"
            ],
            [
             0.1111111111111111,
             "#46039f"
            ],
            [
             0.2222222222222222,
             "#7201a8"
            ],
            [
             0.3333333333333333,
             "#9c179e"
            ],
            [
             0.4444444444444444,
             "#bd3786"
            ],
            [
             0.5555555555555556,
             "#d8576b"
            ],
            [
             0.6666666666666666,
             "#ed7953"
            ],
            [
             0.7777777777777778,
             "#fb9f3a"
            ],
            [
             0.8888888888888888,
             "#fdca26"
            ],
            [
             1,
             "#f0f921"
            ]
           ],
           "sequentialminus": [
            [
             0,
             "#0d0887"
            ],
            [
             0.1111111111111111,
             "#46039f"
            ],
            [
             0.2222222222222222,
             "#7201a8"
            ],
            [
             0.3333333333333333,
             "#9c179e"
            ],
            [
             0.4444444444444444,
             "#bd3786"
            ],
            [
             0.5555555555555556,
             "#d8576b"
            ],
            [
             0.6666666666666666,
             "#ed7953"
            ],
            [
             0.7777777777777778,
             "#fb9f3a"
            ],
            [
             0.8888888888888888,
             "#fdca26"
            ],
            [
             1,
             "#f0f921"
            ]
           ]
          },
          "colorway": [
           "#636efa",
           "#EF553B",
           "#00cc96",
           "#ab63fa",
           "#FFA15A",
           "#19d3f3",
           "#FF6692",
           "#B6E880",
           "#FF97FF",
           "#FECB52"
          ],
          "font": {
           "color": "#2a3f5f"
          },
          "geo": {
           "bgcolor": "white",
           "lakecolor": "white",
           "landcolor": "#E5ECF6",
           "showlakes": true,
           "showland": true,
           "subunitcolor": "white"
          },
          "hoverlabel": {
           "align": "left"
          },
          "hovermode": "closest",
          "mapbox": {
           "style": "light"
          },
          "paper_bgcolor": "white",
          "plot_bgcolor": "#E5ECF6",
          "polar": {
           "angularaxis": {
            "gridcolor": "white",
            "linecolor": "white",
            "ticks": ""
           },
           "bgcolor": "#E5ECF6",
           "radialaxis": {
            "gridcolor": "white",
            "linecolor": "white",
            "ticks": ""
           }
          },
          "scene": {
           "xaxis": {
            "backgroundcolor": "#E5ECF6",
            "gridcolor": "white",
            "gridwidth": 2,
            "linecolor": "white",
            "showbackground": true,
            "ticks": "",
            "zerolinecolor": "white"
           },
           "yaxis": {
            "backgroundcolor": "#E5ECF6",
            "gridcolor": "white",
            "gridwidth": 2,
            "linecolor": "white",
            "showbackground": true,
            "ticks": "",
            "zerolinecolor": "white"
           },
           "zaxis": {
            "backgroundcolor": "#E5ECF6",
            "gridcolor": "white",
            "gridwidth": 2,
            "linecolor": "white",
            "showbackground": true,
            "ticks": "",
            "zerolinecolor": "white"
           }
          },
          "shapedefaults": {
           "line": {
            "color": "#2a3f5f"
           }
          },
          "ternary": {
           "aaxis": {
            "gridcolor": "white",
            "linecolor": "white",
            "ticks": ""
           },
           "baxis": {
            "gridcolor": "white",
            "linecolor": "white",
            "ticks": ""
           },
           "bgcolor": "#E5ECF6",
           "caxis": {
            "gridcolor": "white",
            "linecolor": "white",
            "ticks": ""
           }
          },
          "title": {
           "x": 0.05
          },
          "xaxis": {
           "automargin": true,
           "gridcolor": "white",
           "linecolor": "white",
           "ticks": "",
           "title": {
            "standoff": 15
           },
           "zerolinecolor": "white",
           "zerolinewidth": 2
          },
          "yaxis": {
           "automargin": true,
           "gridcolor": "white",
           "linecolor": "white",
           "ticks": "",
           "title": {
            "standoff": 15
           },
           "zerolinecolor": "white",
           "zerolinewidth": 2
          }
         }
        },
        "title": {
         "text": "Scatter Matrix das Medidas"
        },
        "width": 800
       }
      }
     },
     "metadata": {},
     "output_type": "display_data"
    }
   ],
   "source": [
    "fig = px.scatter_matrix(\n",
    "    df_corr_medidas,\n",
    "    dimensions=df_corr_medidas.columns,  # Dimensões a serem analisadas\n",
    "    labels={col: col for col in df_corr_medidas.columns},  # Renomeando eixos se necessário\n",
    "    title=\"Scatter Matrix das Medidas\",\n",
    "    height=800,\n",
    "    width=800\n",
    ")\n",
    "\n",
    "# Mostrando o gráfico\n",
    "fig.show()"
   ]
  },
  {
   "cell_type": "markdown",
   "metadata": {},
   "source": [
    "# Solução - Prever o total de defeitos para nova ordem e total defeitos por dia"
   ]
  },
  {
   "cell_type": "markdown",
   "metadata": {},
   "source": [
    "### Agrupar os dados por 'Ordem de prod' e 'Data de prod', somando os defeitos diários\n"
   ]
  },
  {
   "cell_type": "code",
   "execution_count": 22,
   "metadata": {},
   "outputs": [],
   "source": [
    "df_sazonalidade = df_reset.groupby(['Ordem de prod', 'Data de prod'])[['Total de Defeitos no Dia', 'Gotas cortadas (toneladas)']].sum().reset_index()"
   ]
  },
  {
   "cell_type": "markdown",
   "metadata": {},
   "source": [
    "### Converter a coluna 'Data de prod' para o tipo datetime"
   ]
  },
  {
   "cell_type": "code",
   "execution_count": 23,
   "metadata": {},
   "outputs": [
    {
     "name": "stdout",
     "output_type": "stream",
     "text": [
      "<class 'pandas.core.frame.DataFrame'>\n",
      "RangeIndex: 200 entries, 0 to 199\n",
      "Data columns (total 4 columns):\n",
      " #   Column                      Non-Null Count  Dtype  \n",
      "---  ------                      --------------  -----  \n",
      " 0   Ordem de prod               200 non-null    int64  \n",
      " 1   Data de prod                200 non-null    object \n",
      " 2   Total de Defeitos no Dia    200 non-null    int64  \n",
      " 3   Gotas cortadas (toneladas)  200 non-null    float64\n",
      "dtypes: float64(1), int64(2), object(1)\n",
      "memory usage: 6.4+ KB\n"
     ]
    }
   ],
   "source": [
    "df_sazonalidade.info()"
   ]
  },
  {
   "cell_type": "code",
   "execution_count": 24,
   "metadata": {},
   "outputs": [],
   "source": [
    "df_sazonalidade['Data de prod'] = pd.to_datetime(df_sazonalidade['Data de prod'])"
   ]
  },
  {
   "cell_type": "markdown",
   "metadata": {},
   "source": [
    "### Criar novas colunas com informações sobre a data"
   ]
  },
  {
   "cell_type": "code",
   "execution_count": 25,
   "metadata": {},
   "outputs": [],
   "source": [
    "df_sazonalidade['Dia da Semana'] = df_sazonalidade['Data de prod'].dt.day_name()  # Nome do dia da semana\n",
    "df_sazonalidade['Mês'] = df_sazonalidade['Data de prod'].dt.month  # Número do mês\n",
    "df_sazonalidade['Dia do Ano'] = df_sazonalidade['Data de prod'].dt.dayofyear  # Número do dia do ano"
   ]
  },
  {
   "cell_type": "code",
   "execution_count": 26,
   "metadata": {},
   "outputs": [
    {
     "data": {
      "text/html": [
       "<div>\n",
       "<style scoped>\n",
       "    .dataframe tbody tr th:only-of-type {\n",
       "        vertical-align: middle;\n",
       "    }\n",
       "\n",
       "    .dataframe tbody tr th {\n",
       "        vertical-align: top;\n",
       "    }\n",
       "\n",
       "    .dataframe thead th {\n",
       "        text-align: right;\n",
       "    }\n",
       "</style>\n",
       "<table border=\"1\" class=\"dataframe\">\n",
       "  <thead>\n",
       "    <tr style=\"text-align: right;\">\n",
       "      <th></th>\n",
       "      <th>Ordem de prod</th>\n",
       "      <th>Data de prod</th>\n",
       "      <th>Total de Defeitos no Dia</th>\n",
       "      <th>Gotas cortadas (toneladas)</th>\n",
       "      <th>Dia da Semana</th>\n",
       "      <th>Mês</th>\n",
       "      <th>Dia do Ano</th>\n",
       "    </tr>\n",
       "  </thead>\n",
       "  <tbody>\n",
       "    <tr>\n",
       "      <th>0</th>\n",
       "      <td>192970</td>\n",
       "      <td>2024-01-03</td>\n",
       "      <td>222</td>\n",
       "      <td>20.948</td>\n",
       "      <td>Wednesday</td>\n",
       "      <td>1</td>\n",
       "      <td>3</td>\n",
       "    </tr>\n",
       "    <tr>\n",
       "      <th>1</th>\n",
       "      <td>192970</td>\n",
       "      <td>2024-01-04</td>\n",
       "      <td>249</td>\n",
       "      <td>21.022</td>\n",
       "      <td>Thursday</td>\n",
       "      <td>1</td>\n",
       "      <td>4</td>\n",
       "    </tr>\n",
       "    <tr>\n",
       "      <th>2</th>\n",
       "      <td>192970</td>\n",
       "      <td>2024-01-05</td>\n",
       "      <td>268</td>\n",
       "      <td>21.449</td>\n",
       "      <td>Friday</td>\n",
       "      <td>1</td>\n",
       "      <td>5</td>\n",
       "    </tr>\n",
       "    <tr>\n",
       "      <th>3</th>\n",
       "      <td>192970</td>\n",
       "      <td>2024-01-06</td>\n",
       "      <td>242</td>\n",
       "      <td>21.526</td>\n",
       "      <td>Saturday</td>\n",
       "      <td>1</td>\n",
       "      <td>6</td>\n",
       "    </tr>\n",
       "    <tr>\n",
       "      <th>4</th>\n",
       "      <td>192970</td>\n",
       "      <td>2024-01-07</td>\n",
       "      <td>232</td>\n",
       "      <td>21.439</td>\n",
       "      <td>Sunday</td>\n",
       "      <td>1</td>\n",
       "      <td>7</td>\n",
       "    </tr>\n",
       "    <tr>\n",
       "      <th>...</th>\n",
       "      <td>...</td>\n",
       "      <td>...</td>\n",
       "      <td>...</td>\n",
       "      <td>...</td>\n",
       "      <td>...</td>\n",
       "      <td>...</td>\n",
       "      <td>...</td>\n",
       "    </tr>\n",
       "    <tr>\n",
       "      <th>195</th>\n",
       "      <td>194121</td>\n",
       "      <td>2024-06-26</td>\n",
       "      <td>258</td>\n",
       "      <td>21.412</td>\n",
       "      <td>Wednesday</td>\n",
       "      <td>6</td>\n",
       "      <td>178</td>\n",
       "    </tr>\n",
       "    <tr>\n",
       "      <th>196</th>\n",
       "      <td>194121</td>\n",
       "      <td>2024-06-27</td>\n",
       "      <td>218</td>\n",
       "      <td>21.447</td>\n",
       "      <td>Thursday</td>\n",
       "      <td>6</td>\n",
       "      <td>179</td>\n",
       "    </tr>\n",
       "    <tr>\n",
       "      <th>197</th>\n",
       "      <td>194121</td>\n",
       "      <td>2024-06-28</td>\n",
       "      <td>218</td>\n",
       "      <td>21.491</td>\n",
       "      <td>Friday</td>\n",
       "      <td>6</td>\n",
       "      <td>180</td>\n",
       "    </tr>\n",
       "    <tr>\n",
       "      <th>198</th>\n",
       "      <td>194121</td>\n",
       "      <td>2024-06-29</td>\n",
       "      <td>213</td>\n",
       "      <td>21.419</td>\n",
       "      <td>Saturday</td>\n",
       "      <td>6</td>\n",
       "      <td>181</td>\n",
       "    </tr>\n",
       "    <tr>\n",
       "      <th>199</th>\n",
       "      <td>194121</td>\n",
       "      <td>2024-06-30</td>\n",
       "      <td>256</td>\n",
       "      <td>21.548</td>\n",
       "      <td>Sunday</td>\n",
       "      <td>6</td>\n",
       "      <td>182</td>\n",
       "    </tr>\n",
       "  </tbody>\n",
       "</table>\n",
       "<p>200 rows × 7 columns</p>\n",
       "</div>"
      ],
      "text/plain": [
       "     Ordem de prod Data de prod  Total de Defeitos no Dia  \\\n",
       "0           192970   2024-01-03                       222   \n",
       "1           192970   2024-01-04                       249   \n",
       "2           192970   2024-01-05                       268   \n",
       "3           192970   2024-01-06                       242   \n",
       "4           192970   2024-01-07                       232   \n",
       "..             ...          ...                       ...   \n",
       "195         194121   2024-06-26                       258   \n",
       "196         194121   2024-06-27                       218   \n",
       "197         194121   2024-06-28                       218   \n",
       "198         194121   2024-06-29                       213   \n",
       "199         194121   2024-06-30                       256   \n",
       "\n",
       "     Gotas cortadas (toneladas) Dia da Semana  Mês  Dia do Ano  \n",
       "0                        20.948     Wednesday    1           3  \n",
       "1                        21.022      Thursday    1           4  \n",
       "2                        21.449        Friday    1           5  \n",
       "3                        21.526      Saturday    1           6  \n",
       "4                        21.439        Sunday    1           7  \n",
       "..                          ...           ...  ...         ...  \n",
       "195                      21.412     Wednesday    6         178  \n",
       "196                      21.447      Thursday    6         179  \n",
       "197                      21.491        Friday    6         180  \n",
       "198                      21.419      Saturday    6         181  \n",
       "199                      21.548        Sunday    6         182  \n",
       "\n",
       "[200 rows x 7 columns]"
      ]
     },
     "execution_count": 26,
     "metadata": {},
     "output_type": "execute_result"
    }
   ],
   "source": [
    "df_sazonalidade"
   ]
  },
  {
   "cell_type": "markdown",
   "metadata": {},
   "source": [
    "### Calcular a duração de produção (número de dias únicos) por 'Ordem de prod'"
   ]
  },
  {
   "cell_type": "code",
   "execution_count": 27,
   "metadata": {},
   "outputs": [],
   "source": [
    "duracao_por_ordem = df_sazonalidade.groupby('Ordem de prod')['Data de prod'].nunique().reset_index()"
   ]
  },
  {
   "cell_type": "code",
   "execution_count": 28,
   "metadata": {},
   "outputs": [
    {
     "data": {
      "text/html": [
       "<div>\n",
       "<style scoped>\n",
       "    .dataframe tbody tr th:only-of-type {\n",
       "        vertical-align: middle;\n",
       "    }\n",
       "\n",
       "    .dataframe tbody tr th {\n",
       "        vertical-align: top;\n",
       "    }\n",
       "\n",
       "    .dataframe thead th {\n",
       "        text-align: right;\n",
       "    }\n",
       "</style>\n",
       "<table border=\"1\" class=\"dataframe\">\n",
       "  <thead>\n",
       "    <tr style=\"text-align: right;\">\n",
       "      <th></th>\n",
       "      <th>Ordem de prod</th>\n",
       "      <th>Data de prod</th>\n",
       "    </tr>\n",
       "  </thead>\n",
       "  <tbody>\n",
       "    <tr>\n",
       "      <th>0</th>\n",
       "      <td>192970</td>\n",
       "      <td>9</td>\n",
       "    </tr>\n",
       "    <tr>\n",
       "      <th>1</th>\n",
       "      <td>193112</td>\n",
       "      <td>3</td>\n",
       "    </tr>\n",
       "    <tr>\n",
       "      <th>2</th>\n",
       "      <td>193164</td>\n",
       "      <td>12</td>\n",
       "    </tr>\n",
       "    <tr>\n",
       "      <th>3</th>\n",
       "      <td>193206</td>\n",
       "      <td>4</td>\n",
       "    </tr>\n",
       "    <tr>\n",
       "      <th>4</th>\n",
       "      <td>193207</td>\n",
       "      <td>10</td>\n",
       "    </tr>\n",
       "    <tr>\n",
       "      <th>5</th>\n",
       "      <td>193208</td>\n",
       "      <td>2</td>\n",
       "    </tr>\n",
       "    <tr>\n",
       "      <th>6</th>\n",
       "      <td>193209</td>\n",
       "      <td>7</td>\n",
       "    </tr>\n",
       "    <tr>\n",
       "      <th>7</th>\n",
       "      <td>193342</td>\n",
       "      <td>20</td>\n",
       "    </tr>\n",
       "    <tr>\n",
       "      <th>8</th>\n",
       "      <td>193368</td>\n",
       "      <td>7</td>\n",
       "    </tr>\n",
       "    <tr>\n",
       "      <th>9</th>\n",
       "      <td>193459</td>\n",
       "      <td>3</td>\n",
       "    </tr>\n",
       "    <tr>\n",
       "      <th>10</th>\n",
       "      <td>193462</td>\n",
       "      <td>5</td>\n",
       "    </tr>\n",
       "    <tr>\n",
       "      <th>11</th>\n",
       "      <td>193463</td>\n",
       "      <td>8</td>\n",
       "    </tr>\n",
       "    <tr>\n",
       "      <th>12</th>\n",
       "      <td>193533</td>\n",
       "      <td>8</td>\n",
       "    </tr>\n",
       "    <tr>\n",
       "      <th>13</th>\n",
       "      <td>193535</td>\n",
       "      <td>3</td>\n",
       "    </tr>\n",
       "    <tr>\n",
       "      <th>14</th>\n",
       "      <td>193537</td>\n",
       "      <td>3</td>\n",
       "    </tr>\n",
       "    <tr>\n",
       "      <th>15</th>\n",
       "      <td>193594</td>\n",
       "      <td>7</td>\n",
       "    </tr>\n",
       "    <tr>\n",
       "      <th>16</th>\n",
       "      <td>193619</td>\n",
       "      <td>5</td>\n",
       "    </tr>\n",
       "    <tr>\n",
       "      <th>17</th>\n",
       "      <td>193671</td>\n",
       "      <td>4</td>\n",
       "    </tr>\n",
       "    <tr>\n",
       "      <th>18</th>\n",
       "      <td>193686</td>\n",
       "      <td>3</td>\n",
       "    </tr>\n",
       "    <tr>\n",
       "      <th>19</th>\n",
       "      <td>193688</td>\n",
       "      <td>3</td>\n",
       "    </tr>\n",
       "    <tr>\n",
       "      <th>20</th>\n",
       "      <td>193689</td>\n",
       "      <td>3</td>\n",
       "    </tr>\n",
       "    <tr>\n",
       "      <th>21</th>\n",
       "      <td>193692</td>\n",
       "      <td>3</td>\n",
       "    </tr>\n",
       "    <tr>\n",
       "      <th>22</th>\n",
       "      <td>193694</td>\n",
       "      <td>5</td>\n",
       "    </tr>\n",
       "    <tr>\n",
       "      <th>23</th>\n",
       "      <td>193782</td>\n",
       "      <td>11</td>\n",
       "    </tr>\n",
       "    <tr>\n",
       "      <th>24</th>\n",
       "      <td>193783</td>\n",
       "      <td>3</td>\n",
       "    </tr>\n",
       "    <tr>\n",
       "      <th>25</th>\n",
       "      <td>193784</td>\n",
       "      <td>11</td>\n",
       "    </tr>\n",
       "    <tr>\n",
       "      <th>26</th>\n",
       "      <td>193852</td>\n",
       "      <td>5</td>\n",
       "    </tr>\n",
       "    <tr>\n",
       "      <th>27</th>\n",
       "      <td>193882</td>\n",
       "      <td>8</td>\n",
       "    </tr>\n",
       "    <tr>\n",
       "      <th>28</th>\n",
       "      <td>193937</td>\n",
       "      <td>3</td>\n",
       "    </tr>\n",
       "    <tr>\n",
       "      <th>29</th>\n",
       "      <td>193972</td>\n",
       "      <td>2</td>\n",
       "    </tr>\n",
       "    <tr>\n",
       "      <th>30</th>\n",
       "      <td>193973</td>\n",
       "      <td>4</td>\n",
       "    </tr>\n",
       "    <tr>\n",
       "      <th>31</th>\n",
       "      <td>194029</td>\n",
       "      <td>4</td>\n",
       "    </tr>\n",
       "    <tr>\n",
       "      <th>32</th>\n",
       "      <td>194057</td>\n",
       "      <td>3</td>\n",
       "    </tr>\n",
       "    <tr>\n",
       "      <th>33</th>\n",
       "      <td>194113</td>\n",
       "      <td>3</td>\n",
       "    </tr>\n",
       "    <tr>\n",
       "      <th>34</th>\n",
       "      <td>194121</td>\n",
       "      <td>6</td>\n",
       "    </tr>\n",
       "  </tbody>\n",
       "</table>\n",
       "</div>"
      ],
      "text/plain": [
       "    Ordem de prod  Data de prod\n",
       "0          192970             9\n",
       "1          193112             3\n",
       "2          193164            12\n",
       "3          193206             4\n",
       "4          193207            10\n",
       "5          193208             2\n",
       "6          193209             7\n",
       "7          193342            20\n",
       "8          193368             7\n",
       "9          193459             3\n",
       "10         193462             5\n",
       "11         193463             8\n",
       "12         193533             8\n",
       "13         193535             3\n",
       "14         193537             3\n",
       "15         193594             7\n",
       "16         193619             5\n",
       "17         193671             4\n",
       "18         193686             3\n",
       "19         193688             3\n",
       "20         193689             3\n",
       "21         193692             3\n",
       "22         193694             5\n",
       "23         193782            11\n",
       "24         193783             3\n",
       "25         193784            11\n",
       "26         193852             5\n",
       "27         193882             8\n",
       "28         193937             3\n",
       "29         193972             2\n",
       "30         193973             4\n",
       "31         194029             4\n",
       "32         194057             3\n",
       "33         194113             3\n",
       "34         194121             6"
      ]
     },
     "execution_count": 28,
     "metadata": {},
     "output_type": "execute_result"
    }
   ],
   "source": [
    "duracao_por_ordem"
   ]
  },
  {
   "cell_type": "markdown",
   "metadata": {},
   "source": [
    "### Renomear a coluna resultante para 'Dias de Duração'"
   ]
  },
  {
   "cell_type": "code",
   "execution_count": 29,
   "metadata": {},
   "outputs": [],
   "source": [
    "duracao_por_ordem.columns = ['Ordem de prod', 'Dias de Duração']"
   ]
  },
  {
   "cell_type": "markdown",
   "metadata": {},
   "source": [
    "### Agrupar os dados por 'Ordem de prod' e somar os defeitos diários"
   ]
  },
  {
   "cell_type": "code",
   "execution_count": 30,
   "metadata": {},
   "outputs": [],
   "source": [
    "defeitos_por_ordem = df_sazonalidade.groupby('Ordem de prod')[['Total de Defeitos no Dia', 'Gotas cortadas (toneladas)']].sum().reset_index()"
   ]
  },
  {
   "cell_type": "code",
   "execution_count": 31,
   "metadata": {},
   "outputs": [
    {
     "data": {
      "text/html": [
       "<div>\n",
       "<style scoped>\n",
       "    .dataframe tbody tr th:only-of-type {\n",
       "        vertical-align: middle;\n",
       "    }\n",
       "\n",
       "    .dataframe tbody tr th {\n",
       "        vertical-align: top;\n",
       "    }\n",
       "\n",
       "    .dataframe thead th {\n",
       "        text-align: right;\n",
       "    }\n",
       "</style>\n",
       "<table border=\"1\" class=\"dataframe\">\n",
       "  <thead>\n",
       "    <tr style=\"text-align: right;\">\n",
       "      <th></th>\n",
       "      <th>Ordem de prod</th>\n",
       "      <th>Total de Defeitos no Dia</th>\n",
       "      <th>Gotas cortadas (toneladas)</th>\n",
       "    </tr>\n",
       "  </thead>\n",
       "  <tbody>\n",
       "    <tr>\n",
       "      <th>0</th>\n",
       "      <td>192970</td>\n",
       "      <td>2148</td>\n",
       "      <td>178.788</td>\n",
       "    </tr>\n",
       "    <tr>\n",
       "      <th>1</th>\n",
       "      <td>193112</td>\n",
       "      <td>584</td>\n",
       "      <td>44.732</td>\n",
       "    </tr>\n",
       "    <tr>\n",
       "      <th>2</th>\n",
       "      <td>193164</td>\n",
       "      <td>2661</td>\n",
       "      <td>236.126</td>\n",
       "    </tr>\n",
       "    <tr>\n",
       "      <th>3</th>\n",
       "      <td>193206</td>\n",
       "      <td>1041</td>\n",
       "      <td>74.312</td>\n",
       "    </tr>\n",
       "    <tr>\n",
       "      <th>4</th>\n",
       "      <td>193207</td>\n",
       "      <td>2130</td>\n",
       "      <td>136.915</td>\n",
       "    </tr>\n",
       "  </tbody>\n",
       "</table>\n",
       "</div>"
      ],
      "text/plain": [
       "   Ordem de prod  Total de Defeitos no Dia  Gotas cortadas (toneladas)\n",
       "0         192970                      2148                     178.788\n",
       "1         193112                       584                      44.732\n",
       "2         193164                      2661                     236.126\n",
       "3         193206                      1041                      74.312\n",
       "4         193207                      2130                     136.915"
      ]
     },
     "execution_count": 31,
     "metadata": {},
     "output_type": "execute_result"
    }
   ],
   "source": [
    "defeitos_por_ordem.head()"
   ]
  },
  {
   "cell_type": "markdown",
   "metadata": {},
   "source": [
    "### Renomear a coluna resultante para 'Total de Defeitos por Ordem'"
   ]
  },
  {
   "cell_type": "code",
   "execution_count": 32,
   "metadata": {},
   "outputs": [],
   "source": [
    "defeitos_por_ordem.columns = ['Ordem de prod', 'Total de Defeitos por Ordem', 'Gotas cortadas (toneladas)']"
   ]
  },
  {
   "cell_type": "markdown",
   "metadata": {},
   "source": [
    "### Juntar as informações de 'Duracao por Ordem' e 'Defeitos por Ordem' em um único DataFrame"
   ]
  },
  {
   "cell_type": "code",
   "execution_count": 33,
   "metadata": {},
   "outputs": [],
   "source": [
    "duracao_por_ordem = duracao_por_ordem.merge(defeitos_por_ordem, on='Ordem de prod', how='left')"
   ]
  },
  {
   "cell_type": "code",
   "execution_count": 34,
   "metadata": {},
   "outputs": [
    {
     "data": {
      "text/html": [
       "<div>\n",
       "<style scoped>\n",
       "    .dataframe tbody tr th:only-of-type {\n",
       "        vertical-align: middle;\n",
       "    }\n",
       "\n",
       "    .dataframe tbody tr th {\n",
       "        vertical-align: top;\n",
       "    }\n",
       "\n",
       "    .dataframe thead th {\n",
       "        text-align: right;\n",
       "    }\n",
       "</style>\n",
       "<table border=\"1\" class=\"dataframe\">\n",
       "  <thead>\n",
       "    <tr style=\"text-align: right;\">\n",
       "      <th></th>\n",
       "      <th>Ordem de prod</th>\n",
       "      <th>Dias de Duração</th>\n",
       "      <th>Total de Defeitos por Ordem</th>\n",
       "      <th>Gotas cortadas (toneladas)</th>\n",
       "    </tr>\n",
       "  </thead>\n",
       "  <tbody>\n",
       "    <tr>\n",
       "      <th>0</th>\n",
       "      <td>192970</td>\n",
       "      <td>9</td>\n",
       "      <td>2148</td>\n",
       "      <td>178.788</td>\n",
       "    </tr>\n",
       "    <tr>\n",
       "      <th>1</th>\n",
       "      <td>193112</td>\n",
       "      <td>3</td>\n",
       "      <td>584</td>\n",
       "      <td>44.732</td>\n",
       "    </tr>\n",
       "    <tr>\n",
       "      <th>2</th>\n",
       "      <td>193164</td>\n",
       "      <td>12</td>\n",
       "      <td>2661</td>\n",
       "      <td>236.126</td>\n",
       "    </tr>\n",
       "    <tr>\n",
       "      <th>3</th>\n",
       "      <td>193206</td>\n",
       "      <td>4</td>\n",
       "      <td>1041</td>\n",
       "      <td>74.312</td>\n",
       "    </tr>\n",
       "    <tr>\n",
       "      <th>4</th>\n",
       "      <td>193207</td>\n",
       "      <td>10</td>\n",
       "      <td>2130</td>\n",
       "      <td>136.915</td>\n",
       "    </tr>\n",
       "    <tr>\n",
       "      <th>5</th>\n",
       "      <td>193208</td>\n",
       "      <td>2</td>\n",
       "      <td>369</td>\n",
       "      <td>19.743</td>\n",
       "    </tr>\n",
       "    <tr>\n",
       "      <th>6</th>\n",
       "      <td>193209</td>\n",
       "      <td>7</td>\n",
       "      <td>1807</td>\n",
       "      <td>121.813</td>\n",
       "    </tr>\n",
       "    <tr>\n",
       "      <th>7</th>\n",
       "      <td>193342</td>\n",
       "      <td>20</td>\n",
       "      <td>3685</td>\n",
       "      <td>408.755</td>\n",
       "    </tr>\n",
       "    <tr>\n",
       "      <th>8</th>\n",
       "      <td>193368</td>\n",
       "      <td>7</td>\n",
       "      <td>1464</td>\n",
       "      <td>147.662</td>\n",
       "    </tr>\n",
       "    <tr>\n",
       "      <th>9</th>\n",
       "      <td>193459</td>\n",
       "      <td>3</td>\n",
       "      <td>505</td>\n",
       "      <td>37.588</td>\n",
       "    </tr>\n",
       "    <tr>\n",
       "      <th>10</th>\n",
       "      <td>193462</td>\n",
       "      <td>5</td>\n",
       "      <td>1241</td>\n",
       "      <td>90.984</td>\n",
       "    </tr>\n",
       "    <tr>\n",
       "      <th>11</th>\n",
       "      <td>193463</td>\n",
       "      <td>8</td>\n",
       "      <td>1483</td>\n",
       "      <td>109.396</td>\n",
       "    </tr>\n",
       "    <tr>\n",
       "      <th>12</th>\n",
       "      <td>193533</td>\n",
       "      <td>8</td>\n",
       "      <td>1480</td>\n",
       "      <td>167.971</td>\n",
       "    </tr>\n",
       "    <tr>\n",
       "      <th>13</th>\n",
       "      <td>193535</td>\n",
       "      <td>3</td>\n",
       "      <td>688</td>\n",
       "      <td>48.013</td>\n",
       "    </tr>\n",
       "    <tr>\n",
       "      <th>14</th>\n",
       "      <td>193537</td>\n",
       "      <td>3</td>\n",
       "      <td>718</td>\n",
       "      <td>50.788</td>\n",
       "    </tr>\n",
       "    <tr>\n",
       "      <th>15</th>\n",
       "      <td>193594</td>\n",
       "      <td>7</td>\n",
       "      <td>1304</td>\n",
       "      <td>128.649</td>\n",
       "    </tr>\n",
       "    <tr>\n",
       "      <th>16</th>\n",
       "      <td>193619</td>\n",
       "      <td>5</td>\n",
       "      <td>963</td>\n",
       "      <td>107.616</td>\n",
       "    </tr>\n",
       "    <tr>\n",
       "      <th>17</th>\n",
       "      <td>193671</td>\n",
       "      <td>4</td>\n",
       "      <td>776</td>\n",
       "      <td>47.027</td>\n",
       "    </tr>\n",
       "    <tr>\n",
       "      <th>18</th>\n",
       "      <td>193686</td>\n",
       "      <td>3</td>\n",
       "      <td>755</td>\n",
       "      <td>39.719</td>\n",
       "    </tr>\n",
       "    <tr>\n",
       "      <th>19</th>\n",
       "      <td>193688</td>\n",
       "      <td>3</td>\n",
       "      <td>616</td>\n",
       "      <td>41.725</td>\n",
       "    </tr>\n",
       "    <tr>\n",
       "      <th>20</th>\n",
       "      <td>193689</td>\n",
       "      <td>3</td>\n",
       "      <td>872</td>\n",
       "      <td>46.915</td>\n",
       "    </tr>\n",
       "    <tr>\n",
       "      <th>21</th>\n",
       "      <td>193692</td>\n",
       "      <td>3</td>\n",
       "      <td>672</td>\n",
       "      <td>43.501</td>\n",
       "    </tr>\n",
       "    <tr>\n",
       "      <th>22</th>\n",
       "      <td>193694</td>\n",
       "      <td>5</td>\n",
       "      <td>1001</td>\n",
       "      <td>90.768</td>\n",
       "    </tr>\n",
       "    <tr>\n",
       "      <th>23</th>\n",
       "      <td>193782</td>\n",
       "      <td>11</td>\n",
       "      <td>2538</td>\n",
       "      <td>187.152</td>\n",
       "    </tr>\n",
       "    <tr>\n",
       "      <th>24</th>\n",
       "      <td>193783</td>\n",
       "      <td>3</td>\n",
       "      <td>887</td>\n",
       "      <td>60.136</td>\n",
       "    </tr>\n",
       "    <tr>\n",
       "      <th>25</th>\n",
       "      <td>193784</td>\n",
       "      <td>11</td>\n",
       "      <td>2073</td>\n",
       "      <td>191.156</td>\n",
       "    </tr>\n",
       "    <tr>\n",
       "      <th>26</th>\n",
       "      <td>193852</td>\n",
       "      <td>5</td>\n",
       "      <td>1123</td>\n",
       "      <td>86.127</td>\n",
       "    </tr>\n",
       "    <tr>\n",
       "      <th>27</th>\n",
       "      <td>193882</td>\n",
       "      <td>8</td>\n",
       "      <td>1716</td>\n",
       "      <td>152.829</td>\n",
       "    </tr>\n",
       "    <tr>\n",
       "      <th>28</th>\n",
       "      <td>193937</td>\n",
       "      <td>3</td>\n",
       "      <td>622</td>\n",
       "      <td>47.544</td>\n",
       "    </tr>\n",
       "    <tr>\n",
       "      <th>29</th>\n",
       "      <td>193972</td>\n",
       "      <td>2</td>\n",
       "      <td>520</td>\n",
       "      <td>44.598</td>\n",
       "    </tr>\n",
       "    <tr>\n",
       "      <th>30</th>\n",
       "      <td>193973</td>\n",
       "      <td>4</td>\n",
       "      <td>802</td>\n",
       "      <td>92.506</td>\n",
       "    </tr>\n",
       "    <tr>\n",
       "      <th>31</th>\n",
       "      <td>194029</td>\n",
       "      <td>4</td>\n",
       "      <td>821</td>\n",
       "      <td>81.256</td>\n",
       "    </tr>\n",
       "    <tr>\n",
       "      <th>32</th>\n",
       "      <td>194057</td>\n",
       "      <td>3</td>\n",
       "      <td>468</td>\n",
       "      <td>66.240</td>\n",
       "    </tr>\n",
       "    <tr>\n",
       "      <th>33</th>\n",
       "      <td>194113</td>\n",
       "      <td>3</td>\n",
       "      <td>710</td>\n",
       "      <td>37.127</td>\n",
       "    </tr>\n",
       "    <tr>\n",
       "      <th>34</th>\n",
       "      <td>194121</td>\n",
       "      <td>6</td>\n",
       "      <td>1436</td>\n",
       "      <td>127.025</td>\n",
       "    </tr>\n",
       "  </tbody>\n",
       "</table>\n",
       "</div>"
      ],
      "text/plain": [
       "    Ordem de prod  Dias de Duração  Total de Defeitos por Ordem  \\\n",
       "0          192970                9                         2148   \n",
       "1          193112                3                          584   \n",
       "2          193164               12                         2661   \n",
       "3          193206                4                         1041   \n",
       "4          193207               10                         2130   \n",
       "5          193208                2                          369   \n",
       "6          193209                7                         1807   \n",
       "7          193342               20                         3685   \n",
       "8          193368                7                         1464   \n",
       "9          193459                3                          505   \n",
       "10         193462                5                         1241   \n",
       "11         193463                8                         1483   \n",
       "12         193533                8                         1480   \n",
       "13         193535                3                          688   \n",
       "14         193537                3                          718   \n",
       "15         193594                7                         1304   \n",
       "16         193619                5                          963   \n",
       "17         193671                4                          776   \n",
       "18         193686                3                          755   \n",
       "19         193688                3                          616   \n",
       "20         193689                3                          872   \n",
       "21         193692                3                          672   \n",
       "22         193694                5                         1001   \n",
       "23         193782               11                         2538   \n",
       "24         193783                3                          887   \n",
       "25         193784               11                         2073   \n",
       "26         193852                5                         1123   \n",
       "27         193882                8                         1716   \n",
       "28         193937                3                          622   \n",
       "29         193972                2                          520   \n",
       "30         193973                4                          802   \n",
       "31         194029                4                          821   \n",
       "32         194057                3                          468   \n",
       "33         194113                3                          710   \n",
       "34         194121                6                         1436   \n",
       "\n",
       "    Gotas cortadas (toneladas)  \n",
       "0                      178.788  \n",
       "1                       44.732  \n",
       "2                      236.126  \n",
       "3                       74.312  \n",
       "4                      136.915  \n",
       "5                       19.743  \n",
       "6                      121.813  \n",
       "7                      408.755  \n",
       "8                      147.662  \n",
       "9                       37.588  \n",
       "10                      90.984  \n",
       "11                     109.396  \n",
       "12                     167.971  \n",
       "13                      48.013  \n",
       "14                      50.788  \n",
       "15                     128.649  \n",
       "16                     107.616  \n",
       "17                      47.027  \n",
       "18                      39.719  \n",
       "19                      41.725  \n",
       "20                      46.915  \n",
       "21                      43.501  \n",
       "22                      90.768  \n",
       "23                     187.152  \n",
       "24                      60.136  \n",
       "25                     191.156  \n",
       "26                      86.127  \n",
       "27                     152.829  \n",
       "28                      47.544  \n",
       "29                      44.598  \n",
       "30                      92.506  \n",
       "31                      81.256  \n",
       "32                      66.240  \n",
       "33                      37.127  \n",
       "34                     127.025  "
      ]
     },
     "execution_count": 34,
     "metadata": {},
     "output_type": "execute_result"
    }
   ],
   "source": [
    "duracao_por_ordem"
   ]
  },
  {
   "cell_type": "markdown",
   "metadata": {},
   "source": [
    "### Gerar um gráfico de dispersão (scatter) com as informações de duração e defeitos"
   ]
  },
  {
   "cell_type": "code",
   "execution_count": 35,
   "metadata": {},
   "outputs": [
    {
     "data": {
      "application/vnd.plotly.v1+json": {
       "config": {
        "plotlyServerURL": "https://plot.ly"
       },
       "data": [
        {
         "hovertemplate": "Dias de Duração=%{x}<br>Total de Defeitos por Ordem=%{marker.color}<extra></extra>",
         "legendgroup": "",
         "marker": {
          "color": [
           2148,
           584,
           2661,
           1041,
           2130,
           369,
           1807,
           3685,
           1464,
           505,
           1241,
           1483,
           1480,
           688,
           718,
           1304,
           963,
           776,
           755,
           616,
           872,
           672,
           1001,
           2538,
           887,
           2073,
           1123,
           1716,
           622,
           520,
           802,
           821,
           468,
           710,
           1436
          ],
          "coloraxis": "coloraxis",
          "size": [
           2148,
           584,
           2661,
           1041,
           2130,
           369,
           1807,
           3685,
           1464,
           505,
           1241,
           1483,
           1480,
           688,
           718,
           1304,
           963,
           776,
           755,
           616,
           872,
           672,
           1001,
           2538,
           887,
           2073,
           1123,
           1716,
           622,
           520,
           802,
           821,
           468,
           710,
           1436
          ],
          "sizemode": "area",
          "sizeref": 9.2125,
          "symbol": "circle"
         },
         "mode": "markers",
         "name": "",
         "orientation": "v",
         "showlegend": false,
         "type": "scatter",
         "x": [
          9,
          3,
          12,
          4,
          10,
          2,
          7,
          20,
          7,
          3,
          5,
          8,
          8,
          3,
          3,
          7,
          5,
          4,
          3,
          3,
          3,
          3,
          5,
          11,
          3,
          11,
          5,
          8,
          3,
          2,
          4,
          4,
          3,
          3,
          6
         ],
         "xaxis": "x",
         "y": [
          2148,
          584,
          2661,
          1041,
          2130,
          369,
          1807,
          3685,
          1464,
          505,
          1241,
          1483,
          1480,
          688,
          718,
          1304,
          963,
          776,
          755,
          616,
          872,
          672,
          1001,
          2538,
          887,
          2073,
          1123,
          1716,
          622,
          520,
          802,
          821,
          468,
          710,
          1436
         ],
         "yaxis": "y"
        }
       ],
       "layout": {
        "coloraxis": {
         "colorbar": {
          "title": {
           "text": "Total de Defeitos por Ordem"
          }
         },
         "colorscale": [
          [
           0,
           "rgb(253, 224, 197)"
          ],
          [
           0.16666666666666666,
           "rgb(250, 203, 166)"
          ],
          [
           0.3333333333333333,
           "rgb(248, 181, 139)"
          ],
          [
           0.5,
           "rgb(245, 158, 114)"
          ],
          [
           0.6666666666666666,
           "rgb(242, 133, 93)"
          ],
          [
           0.8333333333333334,
           "rgb(239, 106, 76)"
          ],
          [
           1,
           "rgb(235, 74, 64)"
          ]
         ]
        },
        "legend": {
         "itemsizing": "constant",
         "tracegroupgap": 0
        },
        "margin": {
         "t": 60
        },
        "template": {
         "data": {
          "bar": [
           {
            "error_x": {
             "color": "#2a3f5f"
            },
            "error_y": {
             "color": "#2a3f5f"
            },
            "marker": {
             "line": {
              "color": "#E5ECF6",
              "width": 0.5
             },
             "pattern": {
              "fillmode": "overlay",
              "size": 10,
              "solidity": 0.2
             }
            },
            "type": "bar"
           }
          ],
          "barpolar": [
           {
            "marker": {
             "line": {
              "color": "#E5ECF6",
              "width": 0.5
             },
             "pattern": {
              "fillmode": "overlay",
              "size": 10,
              "solidity": 0.2
             }
            },
            "type": "barpolar"
           }
          ],
          "carpet": [
           {
            "aaxis": {
             "endlinecolor": "#2a3f5f",
             "gridcolor": "white",
             "linecolor": "white",
             "minorgridcolor": "white",
             "startlinecolor": "#2a3f5f"
            },
            "baxis": {
             "endlinecolor": "#2a3f5f",
             "gridcolor": "white",
             "linecolor": "white",
             "minorgridcolor": "white",
             "startlinecolor": "#2a3f5f"
            },
            "type": "carpet"
           }
          ],
          "choropleth": [
           {
            "colorbar": {
             "outlinewidth": 0,
             "ticks": ""
            },
            "type": "choropleth"
           }
          ],
          "contour": [
           {
            "colorbar": {
             "outlinewidth": 0,
             "ticks": ""
            },
            "colorscale": [
             [
              0,
              "#0d0887"
             ],
             [
              0.1111111111111111,
              "#46039f"
             ],
             [
              0.2222222222222222,
              "#7201a8"
             ],
             [
              0.3333333333333333,
              "#9c179e"
             ],
             [
              0.4444444444444444,
              "#bd3786"
             ],
             [
              0.5555555555555556,
              "#d8576b"
             ],
             [
              0.6666666666666666,
              "#ed7953"
             ],
             [
              0.7777777777777778,
              "#fb9f3a"
             ],
             [
              0.8888888888888888,
              "#fdca26"
             ],
             [
              1,
              "#f0f921"
             ]
            ],
            "type": "contour"
           }
          ],
          "contourcarpet": [
           {
            "colorbar": {
             "outlinewidth": 0,
             "ticks": ""
            },
            "type": "contourcarpet"
           }
          ],
          "heatmap": [
           {
            "colorbar": {
             "outlinewidth": 0,
             "ticks": ""
            },
            "colorscale": [
             [
              0,
              "#0d0887"
             ],
             [
              0.1111111111111111,
              "#46039f"
             ],
             [
              0.2222222222222222,
              "#7201a8"
             ],
             [
              0.3333333333333333,
              "#9c179e"
             ],
             [
              0.4444444444444444,
              "#bd3786"
             ],
             [
              0.5555555555555556,
              "#d8576b"
             ],
             [
              0.6666666666666666,
              "#ed7953"
             ],
             [
              0.7777777777777778,
              "#fb9f3a"
             ],
             [
              0.8888888888888888,
              "#fdca26"
             ],
             [
              1,
              "#f0f921"
             ]
            ],
            "type": "heatmap"
           }
          ],
          "heatmapgl": [
           {
            "colorbar": {
             "outlinewidth": 0,
             "ticks": ""
            },
            "colorscale": [
             [
              0,
              "#0d0887"
             ],
             [
              0.1111111111111111,
              "#46039f"
             ],
             [
              0.2222222222222222,
              "#7201a8"
             ],
             [
              0.3333333333333333,
              "#9c179e"
             ],
             [
              0.4444444444444444,
              "#bd3786"
             ],
             [
              0.5555555555555556,
              "#d8576b"
             ],
             [
              0.6666666666666666,
              "#ed7953"
             ],
             [
              0.7777777777777778,
              "#fb9f3a"
             ],
             [
              0.8888888888888888,
              "#fdca26"
             ],
             [
              1,
              "#f0f921"
             ]
            ],
            "type": "heatmapgl"
           }
          ],
          "histogram": [
           {
            "marker": {
             "pattern": {
              "fillmode": "overlay",
              "size": 10,
              "solidity": 0.2
             }
            },
            "type": "histogram"
           }
          ],
          "histogram2d": [
           {
            "colorbar": {
             "outlinewidth": 0,
             "ticks": ""
            },
            "colorscale": [
             [
              0,
              "#0d0887"
             ],
             [
              0.1111111111111111,
              "#46039f"
             ],
             [
              0.2222222222222222,
              "#7201a8"
             ],
             [
              0.3333333333333333,
              "#9c179e"
             ],
             [
              0.4444444444444444,
              "#bd3786"
             ],
             [
              0.5555555555555556,
              "#d8576b"
             ],
             [
              0.6666666666666666,
              "#ed7953"
             ],
             [
              0.7777777777777778,
              "#fb9f3a"
             ],
             [
              0.8888888888888888,
              "#fdca26"
             ],
             [
              1,
              "#f0f921"
             ]
            ],
            "type": "histogram2d"
           }
          ],
          "histogram2dcontour": [
           {
            "colorbar": {
             "outlinewidth": 0,
             "ticks": ""
            },
            "colorscale": [
             [
              0,
              "#0d0887"
             ],
             [
              0.1111111111111111,
              "#46039f"
             ],
             [
              0.2222222222222222,
              "#7201a8"
             ],
             [
              0.3333333333333333,
              "#9c179e"
             ],
             [
              0.4444444444444444,
              "#bd3786"
             ],
             [
              0.5555555555555556,
              "#d8576b"
             ],
             [
              0.6666666666666666,
              "#ed7953"
             ],
             [
              0.7777777777777778,
              "#fb9f3a"
             ],
             [
              0.8888888888888888,
              "#fdca26"
             ],
             [
              1,
              "#f0f921"
             ]
            ],
            "type": "histogram2dcontour"
           }
          ],
          "mesh3d": [
           {
            "colorbar": {
             "outlinewidth": 0,
             "ticks": ""
            },
            "type": "mesh3d"
           }
          ],
          "parcoords": [
           {
            "line": {
             "colorbar": {
              "outlinewidth": 0,
              "ticks": ""
             }
            },
            "type": "parcoords"
           }
          ],
          "pie": [
           {
            "automargin": true,
            "type": "pie"
           }
          ],
          "scatter": [
           {
            "fillpattern": {
             "fillmode": "overlay",
             "size": 10,
             "solidity": 0.2
            },
            "type": "scatter"
           }
          ],
          "scatter3d": [
           {
            "line": {
             "colorbar": {
              "outlinewidth": 0,
              "ticks": ""
             }
            },
            "marker": {
             "colorbar": {
              "outlinewidth": 0,
              "ticks": ""
             }
            },
            "type": "scatter3d"
           }
          ],
          "scattercarpet": [
           {
            "marker": {
             "colorbar": {
              "outlinewidth": 0,
              "ticks": ""
             }
            },
            "type": "scattercarpet"
           }
          ],
          "scattergeo": [
           {
            "marker": {
             "colorbar": {
              "outlinewidth": 0,
              "ticks": ""
             }
            },
            "type": "scattergeo"
           }
          ],
          "scattergl": [
           {
            "marker": {
             "colorbar": {
              "outlinewidth": 0,
              "ticks": ""
             }
            },
            "type": "scattergl"
           }
          ],
          "scattermapbox": [
           {
            "marker": {
             "colorbar": {
              "outlinewidth": 0,
              "ticks": ""
             }
            },
            "type": "scattermapbox"
           }
          ],
          "scatterpolar": [
           {
            "marker": {
             "colorbar": {
              "outlinewidth": 0,
              "ticks": ""
             }
            },
            "type": "scatterpolar"
           }
          ],
          "scatterpolargl": [
           {
            "marker": {
             "colorbar": {
              "outlinewidth": 0,
              "ticks": ""
             }
            },
            "type": "scatterpolargl"
           }
          ],
          "scatterternary": [
           {
            "marker": {
             "colorbar": {
              "outlinewidth": 0,
              "ticks": ""
             }
            },
            "type": "scatterternary"
           }
          ],
          "surface": [
           {
            "colorbar": {
             "outlinewidth": 0,
             "ticks": ""
            },
            "colorscale": [
             [
              0,
              "#0d0887"
             ],
             [
              0.1111111111111111,
              "#46039f"
             ],
             [
              0.2222222222222222,
              "#7201a8"
             ],
             [
              0.3333333333333333,
              "#9c179e"
             ],
             [
              0.4444444444444444,
              "#bd3786"
             ],
             [
              0.5555555555555556,
              "#d8576b"
             ],
             [
              0.6666666666666666,
              "#ed7953"
             ],
             [
              0.7777777777777778,
              "#fb9f3a"
             ],
             [
              0.8888888888888888,
              "#fdca26"
             ],
             [
              1,
              "#f0f921"
             ]
            ],
            "type": "surface"
           }
          ],
          "table": [
           {
            "cells": {
             "fill": {
              "color": "#EBF0F8"
             },
             "line": {
              "color": "white"
             }
            },
            "header": {
             "fill": {
              "color": "#C8D4E3"
             },
             "line": {
              "color": "white"
             }
            },
            "type": "table"
           }
          ]
         },
         "layout": {
          "annotationdefaults": {
           "arrowcolor": "#2a3f5f",
           "arrowhead": 0,
           "arrowwidth": 1
          },
          "autotypenumbers": "strict",
          "coloraxis": {
           "colorbar": {
            "outlinewidth": 0,
            "ticks": ""
           }
          },
          "colorscale": {
           "diverging": [
            [
             0,
             "#8e0152"
            ],
            [
             0.1,
             "#c51b7d"
            ],
            [
             0.2,
             "#de77ae"
            ],
            [
             0.3,
             "#f1b6da"
            ],
            [
             0.4,
             "#fde0ef"
            ],
            [
             0.5,
             "#f7f7f7"
            ],
            [
             0.6,
             "#e6f5d0"
            ],
            [
             0.7,
             "#b8e186"
            ],
            [
             0.8,
             "#7fbc41"
            ],
            [
             0.9,
             "#4d9221"
            ],
            [
             1,
             "#276419"
            ]
           ],
           "sequential": [
            [
             0,
             "#0d0887"
            ],
            [
             0.1111111111111111,
             "#46039f"
            ],
            [
             0.2222222222222222,
             "#7201a8"
            ],
            [
             0.3333333333333333,
             "#9c179e"
            ],
            [
             0.4444444444444444,
             "#bd3786"
            ],
            [
             0.5555555555555556,
             "#d8576b"
            ],
            [
             0.6666666666666666,
             "#ed7953"
            ],
            [
             0.7777777777777778,
             "#fb9f3a"
            ],
            [
             0.8888888888888888,
             "#fdca26"
            ],
            [
             1,
             "#f0f921"
            ]
           ],
           "sequentialminus": [
            [
             0,
             "#0d0887"
            ],
            [
             0.1111111111111111,
             "#46039f"
            ],
            [
             0.2222222222222222,
             "#7201a8"
            ],
            [
             0.3333333333333333,
             "#9c179e"
            ],
            [
             0.4444444444444444,
             "#bd3786"
            ],
            [
             0.5555555555555556,
             "#d8576b"
            ],
            [
             0.6666666666666666,
             "#ed7953"
            ],
            [
             0.7777777777777778,
             "#fb9f3a"
            ],
            [
             0.8888888888888888,
             "#fdca26"
            ],
            [
             1,
             "#f0f921"
            ]
           ]
          },
          "colorway": [
           "#636efa",
           "#EF553B",
           "#00cc96",
           "#ab63fa",
           "#FFA15A",
           "#19d3f3",
           "#FF6692",
           "#B6E880",
           "#FF97FF",
           "#FECB52"
          ],
          "font": {
           "color": "#2a3f5f"
          },
          "geo": {
           "bgcolor": "white",
           "lakecolor": "white",
           "landcolor": "#E5ECF6",
           "showlakes": true,
           "showland": true,
           "subunitcolor": "white"
          },
          "hoverlabel": {
           "align": "left"
          },
          "hovermode": "closest",
          "mapbox": {
           "style": "light"
          },
          "paper_bgcolor": "white",
          "plot_bgcolor": "#E5ECF6",
          "polar": {
           "angularaxis": {
            "gridcolor": "white",
            "linecolor": "white",
            "ticks": ""
           },
           "bgcolor": "#E5ECF6",
           "radialaxis": {
            "gridcolor": "white",
            "linecolor": "white",
            "ticks": ""
           }
          },
          "scene": {
           "xaxis": {
            "backgroundcolor": "#E5ECF6",
            "gridcolor": "white",
            "gridwidth": 2,
            "linecolor": "white",
            "showbackground": true,
            "ticks": "",
            "zerolinecolor": "white"
           },
           "yaxis": {
            "backgroundcolor": "#E5ECF6",
            "gridcolor": "white",
            "gridwidth": 2,
            "linecolor": "white",
            "showbackground": true,
            "ticks": "",
            "zerolinecolor": "white"
           },
           "zaxis": {
            "backgroundcolor": "#E5ECF6",
            "gridcolor": "white",
            "gridwidth": 2,
            "linecolor": "white",
            "showbackground": true,
            "ticks": "",
            "zerolinecolor": "white"
           }
          },
          "shapedefaults": {
           "line": {
            "color": "#2a3f5f"
           }
          },
          "ternary": {
           "aaxis": {
            "gridcolor": "white",
            "linecolor": "white",
            "ticks": ""
           },
           "baxis": {
            "gridcolor": "white",
            "linecolor": "white",
            "ticks": ""
           },
           "bgcolor": "#E5ECF6",
           "caxis": {
            "gridcolor": "white",
            "linecolor": "white",
            "ticks": ""
           }
          },
          "title": {
           "x": 0.05
          },
          "xaxis": {
           "automargin": true,
           "gridcolor": "white",
           "linecolor": "white",
           "ticks": "",
           "title": {
            "standoff": 15
           },
           "zerolinecolor": "white",
           "zerolinewidth": 2
          },
          "yaxis": {
           "automargin": true,
           "gridcolor": "white",
           "linecolor": "white",
           "ticks": "",
           "title": {
            "standoff": 15
           },
           "zerolinecolor": "white",
           "zerolinewidth": 2
          }
         }
        },
        "xaxis": {
         "anchor": "y",
         "domain": [
          0,
          1
         ],
         "title": {
          "text": "Dias de Duração"
         }
        },
        "yaxis": {
         "anchor": "x",
         "domain": [
          0,
          1
         ],
         "title": {
          "text": "Total de Defeitos por Ordem"
         }
        }
       }
      }
     },
     "metadata": {},
     "output_type": "display_data"
    }
   ],
   "source": [
    "px.scatter(data_frame=duracao_por_ordem, \n",
    "           x='Dias de Duração', \n",
    "           y='Total de Defeitos por Ordem', \n",
    "           color='Total de Defeitos por Ordem', \n",
    "           color_continuous_scale='peach', \n",
    "           size='Total de Defeitos por Ordem')"
   ]
  },
  {
   "cell_type": "markdown",
   "metadata": {},
   "source": [
    "### Adicionar as informações de 'Duração por Ordem' no DataFrame original 'df_sazonalidade'"
   ]
  },
  {
   "cell_type": "code",
   "execution_count": 36,
   "metadata": {},
   "outputs": [],
   "source": [
    "df_sazonalidade = df_sazonalidade.merge(duracao_por_ordem, on='Ordem de prod', how='left')"
   ]
  },
  {
   "cell_type": "code",
   "execution_count": 37,
   "metadata": {},
   "outputs": [
    {
     "data": {
      "text/html": [
       "<div>\n",
       "<style scoped>\n",
       "    .dataframe tbody tr th:only-of-type {\n",
       "        vertical-align: middle;\n",
       "    }\n",
       "\n",
       "    .dataframe tbody tr th {\n",
       "        vertical-align: top;\n",
       "    }\n",
       "\n",
       "    .dataframe thead th {\n",
       "        text-align: right;\n",
       "    }\n",
       "</style>\n",
       "<table border=\"1\" class=\"dataframe\">\n",
       "  <thead>\n",
       "    <tr style=\"text-align: right;\">\n",
       "      <th></th>\n",
       "      <th>Ordem de prod</th>\n",
       "      <th>Data de prod</th>\n",
       "      <th>Total de Defeitos no Dia</th>\n",
       "      <th>Gotas cortadas (toneladas)_x</th>\n",
       "      <th>Dia da Semana</th>\n",
       "      <th>Mês</th>\n",
       "      <th>Dia do Ano</th>\n",
       "      <th>Dias de Duração</th>\n",
       "      <th>Total de Defeitos por Ordem</th>\n",
       "      <th>Gotas cortadas (toneladas)_y</th>\n",
       "    </tr>\n",
       "  </thead>\n",
       "  <tbody>\n",
       "    <tr>\n",
       "      <th>0</th>\n",
       "      <td>192970</td>\n",
       "      <td>2024-01-03</td>\n",
       "      <td>222</td>\n",
       "      <td>20.948</td>\n",
       "      <td>Wednesday</td>\n",
       "      <td>1</td>\n",
       "      <td>3</td>\n",
       "      <td>9</td>\n",
       "      <td>2148</td>\n",
       "      <td>178.788</td>\n",
       "    </tr>\n",
       "    <tr>\n",
       "      <th>1</th>\n",
       "      <td>192970</td>\n",
       "      <td>2024-01-04</td>\n",
       "      <td>249</td>\n",
       "      <td>21.022</td>\n",
       "      <td>Thursday</td>\n",
       "      <td>1</td>\n",
       "      <td>4</td>\n",
       "      <td>9</td>\n",
       "      <td>2148</td>\n",
       "      <td>178.788</td>\n",
       "    </tr>\n",
       "    <tr>\n",
       "      <th>2</th>\n",
       "      <td>192970</td>\n",
       "      <td>2024-01-05</td>\n",
       "      <td>268</td>\n",
       "      <td>21.449</td>\n",
       "      <td>Friday</td>\n",
       "      <td>1</td>\n",
       "      <td>5</td>\n",
       "      <td>9</td>\n",
       "      <td>2148</td>\n",
       "      <td>178.788</td>\n",
       "    </tr>\n",
       "    <tr>\n",
       "      <th>3</th>\n",
       "      <td>192970</td>\n",
       "      <td>2024-01-06</td>\n",
       "      <td>242</td>\n",
       "      <td>21.526</td>\n",
       "      <td>Saturday</td>\n",
       "      <td>1</td>\n",
       "      <td>6</td>\n",
       "      <td>9</td>\n",
       "      <td>2148</td>\n",
       "      <td>178.788</td>\n",
       "    </tr>\n",
       "    <tr>\n",
       "      <th>4</th>\n",
       "      <td>192970</td>\n",
       "      <td>2024-01-07</td>\n",
       "      <td>232</td>\n",
       "      <td>21.439</td>\n",
       "      <td>Sunday</td>\n",
       "      <td>1</td>\n",
       "      <td>7</td>\n",
       "      <td>9</td>\n",
       "      <td>2148</td>\n",
       "      <td>178.788</td>\n",
       "    </tr>\n",
       "    <tr>\n",
       "      <th>...</th>\n",
       "      <td>...</td>\n",
       "      <td>...</td>\n",
       "      <td>...</td>\n",
       "      <td>...</td>\n",
       "      <td>...</td>\n",
       "      <td>...</td>\n",
       "      <td>...</td>\n",
       "      <td>...</td>\n",
       "      <td>...</td>\n",
       "      <td>...</td>\n",
       "    </tr>\n",
       "    <tr>\n",
       "      <th>195</th>\n",
       "      <td>194121</td>\n",
       "      <td>2024-06-26</td>\n",
       "      <td>258</td>\n",
       "      <td>21.412</td>\n",
       "      <td>Wednesday</td>\n",
       "      <td>6</td>\n",
       "      <td>178</td>\n",
       "      <td>6</td>\n",
       "      <td>1436</td>\n",
       "      <td>127.025</td>\n",
       "    </tr>\n",
       "    <tr>\n",
       "      <th>196</th>\n",
       "      <td>194121</td>\n",
       "      <td>2024-06-27</td>\n",
       "      <td>218</td>\n",
       "      <td>21.447</td>\n",
       "      <td>Thursday</td>\n",
       "      <td>6</td>\n",
       "      <td>179</td>\n",
       "      <td>6</td>\n",
       "      <td>1436</td>\n",
       "      <td>127.025</td>\n",
       "    </tr>\n",
       "    <tr>\n",
       "      <th>197</th>\n",
       "      <td>194121</td>\n",
       "      <td>2024-06-28</td>\n",
       "      <td>218</td>\n",
       "      <td>21.491</td>\n",
       "      <td>Friday</td>\n",
       "      <td>6</td>\n",
       "      <td>180</td>\n",
       "      <td>6</td>\n",
       "      <td>1436</td>\n",
       "      <td>127.025</td>\n",
       "    </tr>\n",
       "    <tr>\n",
       "      <th>198</th>\n",
       "      <td>194121</td>\n",
       "      <td>2024-06-29</td>\n",
       "      <td>213</td>\n",
       "      <td>21.419</td>\n",
       "      <td>Saturday</td>\n",
       "      <td>6</td>\n",
       "      <td>181</td>\n",
       "      <td>6</td>\n",
       "      <td>1436</td>\n",
       "      <td>127.025</td>\n",
       "    </tr>\n",
       "    <tr>\n",
       "      <th>199</th>\n",
       "      <td>194121</td>\n",
       "      <td>2024-06-30</td>\n",
       "      <td>256</td>\n",
       "      <td>21.548</td>\n",
       "      <td>Sunday</td>\n",
       "      <td>6</td>\n",
       "      <td>182</td>\n",
       "      <td>6</td>\n",
       "      <td>1436</td>\n",
       "      <td>127.025</td>\n",
       "    </tr>\n",
       "  </tbody>\n",
       "</table>\n",
       "<p>200 rows × 10 columns</p>\n",
       "</div>"
      ],
      "text/plain": [
       "     Ordem de prod Data de prod  Total de Defeitos no Dia  \\\n",
       "0           192970   2024-01-03                       222   \n",
       "1           192970   2024-01-04                       249   \n",
       "2           192970   2024-01-05                       268   \n",
       "3           192970   2024-01-06                       242   \n",
       "4           192970   2024-01-07                       232   \n",
       "..             ...          ...                       ...   \n",
       "195         194121   2024-06-26                       258   \n",
       "196         194121   2024-06-27                       218   \n",
       "197         194121   2024-06-28                       218   \n",
       "198         194121   2024-06-29                       213   \n",
       "199         194121   2024-06-30                       256   \n",
       "\n",
       "     Gotas cortadas (toneladas)_x Dia da Semana  Mês  Dia do Ano  \\\n",
       "0                          20.948     Wednesday    1           3   \n",
       "1                          21.022      Thursday    1           4   \n",
       "2                          21.449        Friday    1           5   \n",
       "3                          21.526      Saturday    1           6   \n",
       "4                          21.439        Sunday    1           7   \n",
       "..                            ...           ...  ...         ...   \n",
       "195                        21.412     Wednesday    6         178   \n",
       "196                        21.447      Thursday    6         179   \n",
       "197                        21.491        Friday    6         180   \n",
       "198                        21.419      Saturday    6         181   \n",
       "199                        21.548        Sunday    6         182   \n",
       "\n",
       "     Dias de Duração  Total de Defeitos por Ordem  \\\n",
       "0                  9                         2148   \n",
       "1                  9                         2148   \n",
       "2                  9                         2148   \n",
       "3                  9                         2148   \n",
       "4                  9                         2148   \n",
       "..               ...                          ...   \n",
       "195                6                         1436   \n",
       "196                6                         1436   \n",
       "197                6                         1436   \n",
       "198                6                         1436   \n",
       "199                6                         1436   \n",
       "\n",
       "     Gotas cortadas (toneladas)_y  \n",
       "0                         178.788  \n",
       "1                         178.788  \n",
       "2                         178.788  \n",
       "3                         178.788  \n",
       "4                         178.788  \n",
       "..                            ...  \n",
       "195                       127.025  \n",
       "196                       127.025  \n",
       "197                       127.025  \n",
       "198                       127.025  \n",
       "199                       127.025  \n",
       "\n",
       "[200 rows x 10 columns]"
      ]
     },
     "execution_count": 37,
     "metadata": {},
     "output_type": "execute_result"
    }
   ],
   "source": [
    "# Exibir o DataFrame final\n",
    "df_sazonalidade"
   ]
  },
  {
   "cell_type": "markdown",
   "metadata": {},
   "source": [
    "### Criando Dataframe agrupado por ordem de produção, com operações diferentes"
   ]
  },
  {
   "cell_type": "code",
   "execution_count": 38,
   "metadata": {},
   "outputs": [],
   "source": [
    "defeitos_por_duracao = df_sazonalidade.groupby('Ordem de prod').agg({'Total de Defeitos no Dia': 'sum', 'Dias de Duração': 'first'})"
   ]
  },
  {
   "cell_type": "markdown",
   "metadata": {},
   "source": [
    "### Renomear a coluna 'Total de Defeitos no Dia' para 'Total de Defeitos por Ordem'"
   ]
  },
  {
   "cell_type": "code",
   "execution_count": 39,
   "metadata": {},
   "outputs": [],
   "source": [
    "defeitos_por_duracao.rename(columns={'Total de Defeitos no Dia': 'Total de Defeitos por Ordem'}, inplace=True)"
   ]
  },
  {
   "cell_type": "code",
   "execution_count": 40,
   "metadata": {},
   "outputs": [
    {
     "data": {
      "text/html": [
       "<div>\n",
       "<style scoped>\n",
       "    .dataframe tbody tr th:only-of-type {\n",
       "        vertical-align: middle;\n",
       "    }\n",
       "\n",
       "    .dataframe tbody tr th {\n",
       "        vertical-align: top;\n",
       "    }\n",
       "\n",
       "    .dataframe thead th {\n",
       "        text-align: right;\n",
       "    }\n",
       "</style>\n",
       "<table border=\"1\" class=\"dataframe\">\n",
       "  <thead>\n",
       "    <tr style=\"text-align: right;\">\n",
       "      <th></th>\n",
       "      <th>Total de Defeitos por Ordem</th>\n",
       "      <th>Dias de Duração</th>\n",
       "    </tr>\n",
       "    <tr>\n",
       "      <th>Ordem de prod</th>\n",
       "      <th></th>\n",
       "      <th></th>\n",
       "    </tr>\n",
       "  </thead>\n",
       "  <tbody>\n",
       "    <tr>\n",
       "      <th>192970</th>\n",
       "      <td>2148</td>\n",
       "      <td>9</td>\n",
       "    </tr>\n",
       "    <tr>\n",
       "      <th>193112</th>\n",
       "      <td>584</td>\n",
       "      <td>3</td>\n",
       "    </tr>\n",
       "    <tr>\n",
       "      <th>193164</th>\n",
       "      <td>2661</td>\n",
       "      <td>12</td>\n",
       "    </tr>\n",
       "    <tr>\n",
       "      <th>193206</th>\n",
       "      <td>1041</td>\n",
       "      <td>4</td>\n",
       "    </tr>\n",
       "    <tr>\n",
       "      <th>193207</th>\n",
       "      <td>2130</td>\n",
       "      <td>10</td>\n",
       "    </tr>\n",
       "    <tr>\n",
       "      <th>193208</th>\n",
       "      <td>369</td>\n",
       "      <td>2</td>\n",
       "    </tr>\n",
       "    <tr>\n",
       "      <th>193209</th>\n",
       "      <td>1807</td>\n",
       "      <td>7</td>\n",
       "    </tr>\n",
       "    <tr>\n",
       "      <th>193342</th>\n",
       "      <td>3685</td>\n",
       "      <td>20</td>\n",
       "    </tr>\n",
       "    <tr>\n",
       "      <th>193368</th>\n",
       "      <td>1464</td>\n",
       "      <td>7</td>\n",
       "    </tr>\n",
       "    <tr>\n",
       "      <th>193459</th>\n",
       "      <td>505</td>\n",
       "      <td>3</td>\n",
       "    </tr>\n",
       "    <tr>\n",
       "      <th>193462</th>\n",
       "      <td>1241</td>\n",
       "      <td>5</td>\n",
       "    </tr>\n",
       "    <tr>\n",
       "      <th>193463</th>\n",
       "      <td>1483</td>\n",
       "      <td>8</td>\n",
       "    </tr>\n",
       "    <tr>\n",
       "      <th>193533</th>\n",
       "      <td>1480</td>\n",
       "      <td>8</td>\n",
       "    </tr>\n",
       "    <tr>\n",
       "      <th>193535</th>\n",
       "      <td>688</td>\n",
       "      <td>3</td>\n",
       "    </tr>\n",
       "    <tr>\n",
       "      <th>193537</th>\n",
       "      <td>718</td>\n",
       "      <td>3</td>\n",
       "    </tr>\n",
       "    <tr>\n",
       "      <th>193594</th>\n",
       "      <td>1304</td>\n",
       "      <td>7</td>\n",
       "    </tr>\n",
       "    <tr>\n",
       "      <th>193619</th>\n",
       "      <td>963</td>\n",
       "      <td>5</td>\n",
       "    </tr>\n",
       "    <tr>\n",
       "      <th>193671</th>\n",
       "      <td>776</td>\n",
       "      <td>4</td>\n",
       "    </tr>\n",
       "    <tr>\n",
       "      <th>193686</th>\n",
       "      <td>755</td>\n",
       "      <td>3</td>\n",
       "    </tr>\n",
       "    <tr>\n",
       "      <th>193688</th>\n",
       "      <td>616</td>\n",
       "      <td>3</td>\n",
       "    </tr>\n",
       "    <tr>\n",
       "      <th>193689</th>\n",
       "      <td>872</td>\n",
       "      <td>3</td>\n",
       "    </tr>\n",
       "    <tr>\n",
       "      <th>193692</th>\n",
       "      <td>672</td>\n",
       "      <td>3</td>\n",
       "    </tr>\n",
       "    <tr>\n",
       "      <th>193694</th>\n",
       "      <td>1001</td>\n",
       "      <td>5</td>\n",
       "    </tr>\n",
       "    <tr>\n",
       "      <th>193782</th>\n",
       "      <td>2538</td>\n",
       "      <td>11</td>\n",
       "    </tr>\n",
       "    <tr>\n",
       "      <th>193783</th>\n",
       "      <td>887</td>\n",
       "      <td>3</td>\n",
       "    </tr>\n",
       "    <tr>\n",
       "      <th>193784</th>\n",
       "      <td>2073</td>\n",
       "      <td>11</td>\n",
       "    </tr>\n",
       "    <tr>\n",
       "      <th>193852</th>\n",
       "      <td>1123</td>\n",
       "      <td>5</td>\n",
       "    </tr>\n",
       "    <tr>\n",
       "      <th>193882</th>\n",
       "      <td>1716</td>\n",
       "      <td>8</td>\n",
       "    </tr>\n",
       "    <tr>\n",
       "      <th>193937</th>\n",
       "      <td>622</td>\n",
       "      <td>3</td>\n",
       "    </tr>\n",
       "    <tr>\n",
       "      <th>193972</th>\n",
       "      <td>520</td>\n",
       "      <td>2</td>\n",
       "    </tr>\n",
       "    <tr>\n",
       "      <th>193973</th>\n",
       "      <td>802</td>\n",
       "      <td>4</td>\n",
       "    </tr>\n",
       "    <tr>\n",
       "      <th>194029</th>\n",
       "      <td>821</td>\n",
       "      <td>4</td>\n",
       "    </tr>\n",
       "    <tr>\n",
       "      <th>194057</th>\n",
       "      <td>468</td>\n",
       "      <td>3</td>\n",
       "    </tr>\n",
       "    <tr>\n",
       "      <th>194113</th>\n",
       "      <td>710</td>\n",
       "      <td>3</td>\n",
       "    </tr>\n",
       "    <tr>\n",
       "      <th>194121</th>\n",
       "      <td>1436</td>\n",
       "      <td>6</td>\n",
       "    </tr>\n",
       "  </tbody>\n",
       "</table>\n",
       "</div>"
      ],
      "text/plain": [
       "               Total de Defeitos por Ordem  Dias de Duração\n",
       "Ordem de prod                                              \n",
       "192970                                2148                9\n",
       "193112                                 584                3\n",
       "193164                                2661               12\n",
       "193206                                1041                4\n",
       "193207                                2130               10\n",
       "193208                                 369                2\n",
       "193209                                1807                7\n",
       "193342                                3685               20\n",
       "193368                                1464                7\n",
       "193459                                 505                3\n",
       "193462                                1241                5\n",
       "193463                                1483                8\n",
       "193533                                1480                8\n",
       "193535                                 688                3\n",
       "193537                                 718                3\n",
       "193594                                1304                7\n",
       "193619                                 963                5\n",
       "193671                                 776                4\n",
       "193686                                 755                3\n",
       "193688                                 616                3\n",
       "193689                                 872                3\n",
       "193692                                 672                3\n",
       "193694                                1001                5\n",
       "193782                                2538               11\n",
       "193783                                 887                3\n",
       "193784                                2073               11\n",
       "193852                                1123                5\n",
       "193882                                1716                8\n",
       "193937                                 622                3\n",
       "193972                                 520                2\n",
       "193973                                 802                4\n",
       "194029                                 821                4\n",
       "194057                                 468                3\n",
       "194113                                 710                3\n",
       "194121                                1436                6"
      ]
     },
     "execution_count": 40,
     "metadata": {},
     "output_type": "execute_result"
    }
   ],
   "source": [
    "defeitos_por_duracao"
   ]
  },
  {
   "cell_type": "markdown",
   "metadata": {},
   "source": [
    "## Média de defeitos por dias da semana"
   ]
  },
  {
   "cell_type": "markdown",
   "metadata": {},
   "source": [
    "### Agrupando dados por 'Dia da Semana' e calculando médias"
   ]
  },
  {
   "cell_type": "code",
   "execution_count": 41,
   "metadata": {},
   "outputs": [],
   "source": [
    "df_medias_dia_semana = df_sazonalidade.groupby('Dia da Semana')[['Total de Defeitos no Dia']].mean().sort_values('Total de Defeitos no Dia', ascending=False).round(2)"
   ]
  },
  {
   "cell_type": "code",
   "execution_count": 42,
   "metadata": {},
   "outputs": [
    {
     "data": {
      "application/vnd.plotly.v1+json": {
       "config": {
        "plotlyServerURL": "https://plot.ly"
       },
       "data": [
        {
         "alignmentgroup": "True",
         "hovertemplate": "Dia da Semana=%{x}<br>Total de Defeitos no Dia=%{marker.color}<extra></extra>",
         "legendgroup": "",
         "marker": {
          "color": [
           225.93,
           219.36,
           219.23,
           216.45,
           216.35,
           203.55,
           195.06
          ],
          "coloraxis": "coloraxis",
          "pattern": {
           "shape": ""
          }
         },
         "name": "",
         "offsetgroup": "",
         "orientation": "v",
         "showlegend": false,
         "text": [
          225.93,
          219.36,
          219.23,
          216.45,
          216.35,
          203.55,
          195.06
         ],
         "textfont": {
          "color": "black",
          "size": 14
         },
         "textposition": "outside",
         "texttemplate": "%{text}",
         "type": "bar",
         "x": [
          "Saturday",
          "Friday",
          "Sunday",
          "Thursday",
          "Tuesday",
          "Monday",
          "Wednesday"
         ],
         "xaxis": "x",
         "y": [
          225.93,
          219.36,
          219.23,
          216.45,
          216.35,
          203.55,
          195.06
         ],
         "yaxis": "y"
        }
       ],
       "layout": {
        "barmode": "relative",
        "coloraxis": {
         "colorbar": {
          "title": {
           "text": "Total de Defeitos no Dia"
          }
         },
         "colorscale": [
          [
           0,
           "rgb(253, 224, 197)"
          ],
          [
           0.16666666666666666,
           "rgb(250, 203, 166)"
          ],
          [
           0.3333333333333333,
           "rgb(248, 181, 139)"
          ],
          [
           0.5,
           "rgb(245, 158, 114)"
          ],
          [
           0.6666666666666666,
           "rgb(242, 133, 93)"
          ],
          [
           0.8333333333333334,
           "rgb(239, 106, 76)"
          ],
          [
           1,
           "rgb(235, 74, 64)"
          ]
         ]
        },
        "legend": {
         "tracegroupgap": 0
        },
        "margin": {
         "t": 60
        },
        "template": {
         "data": {
          "bar": [
           {
            "error_x": {
             "color": "#2a3f5f"
            },
            "error_y": {
             "color": "#2a3f5f"
            },
            "marker": {
             "line": {
              "color": "#E5ECF6",
              "width": 0.5
             },
             "pattern": {
              "fillmode": "overlay",
              "size": 10,
              "solidity": 0.2
             }
            },
            "type": "bar"
           }
          ],
          "barpolar": [
           {
            "marker": {
             "line": {
              "color": "#E5ECF6",
              "width": 0.5
             },
             "pattern": {
              "fillmode": "overlay",
              "size": 10,
              "solidity": 0.2
             }
            },
            "type": "barpolar"
           }
          ],
          "carpet": [
           {
            "aaxis": {
             "endlinecolor": "#2a3f5f",
             "gridcolor": "white",
             "linecolor": "white",
             "minorgridcolor": "white",
             "startlinecolor": "#2a3f5f"
            },
            "baxis": {
             "endlinecolor": "#2a3f5f",
             "gridcolor": "white",
             "linecolor": "white",
             "minorgridcolor": "white",
             "startlinecolor": "#2a3f5f"
            },
            "type": "carpet"
           }
          ],
          "choropleth": [
           {
            "colorbar": {
             "outlinewidth": 0,
             "ticks": ""
            },
            "type": "choropleth"
           }
          ],
          "contour": [
           {
            "colorbar": {
             "outlinewidth": 0,
             "ticks": ""
            },
            "colorscale": [
             [
              0,
              "#0d0887"
             ],
             [
              0.1111111111111111,
              "#46039f"
             ],
             [
              0.2222222222222222,
              "#7201a8"
             ],
             [
              0.3333333333333333,
              "#9c179e"
             ],
             [
              0.4444444444444444,
              "#bd3786"
             ],
             [
              0.5555555555555556,
              "#d8576b"
             ],
             [
              0.6666666666666666,
              "#ed7953"
             ],
             [
              0.7777777777777778,
              "#fb9f3a"
             ],
             [
              0.8888888888888888,
              "#fdca26"
             ],
             [
              1,
              "#f0f921"
             ]
            ],
            "type": "contour"
           }
          ],
          "contourcarpet": [
           {
            "colorbar": {
             "outlinewidth": 0,
             "ticks": ""
            },
            "type": "contourcarpet"
           }
          ],
          "heatmap": [
           {
            "colorbar": {
             "outlinewidth": 0,
             "ticks": ""
            },
            "colorscale": [
             [
              0,
              "#0d0887"
             ],
             [
              0.1111111111111111,
              "#46039f"
             ],
             [
              0.2222222222222222,
              "#7201a8"
             ],
             [
              0.3333333333333333,
              "#9c179e"
             ],
             [
              0.4444444444444444,
              "#bd3786"
             ],
             [
              0.5555555555555556,
              "#d8576b"
             ],
             [
              0.6666666666666666,
              "#ed7953"
             ],
             [
              0.7777777777777778,
              "#fb9f3a"
             ],
             [
              0.8888888888888888,
              "#fdca26"
             ],
             [
              1,
              "#f0f921"
             ]
            ],
            "type": "heatmap"
           }
          ],
          "heatmapgl": [
           {
            "colorbar": {
             "outlinewidth": 0,
             "ticks": ""
            },
            "colorscale": [
             [
              0,
              "#0d0887"
             ],
             [
              0.1111111111111111,
              "#46039f"
             ],
             [
              0.2222222222222222,
              "#7201a8"
             ],
             [
              0.3333333333333333,
              "#9c179e"
             ],
             [
              0.4444444444444444,
              "#bd3786"
             ],
             [
              0.5555555555555556,
              "#d8576b"
             ],
             [
              0.6666666666666666,
              "#ed7953"
             ],
             [
              0.7777777777777778,
              "#fb9f3a"
             ],
             [
              0.8888888888888888,
              "#fdca26"
             ],
             [
              1,
              "#f0f921"
             ]
            ],
            "type": "heatmapgl"
           }
          ],
          "histogram": [
           {
            "marker": {
             "pattern": {
              "fillmode": "overlay",
              "size": 10,
              "solidity": 0.2
             }
            },
            "type": "histogram"
           }
          ],
          "histogram2d": [
           {
            "colorbar": {
             "outlinewidth": 0,
             "ticks": ""
            },
            "colorscale": [
             [
              0,
              "#0d0887"
             ],
             [
              0.1111111111111111,
              "#46039f"
             ],
             [
              0.2222222222222222,
              "#7201a8"
             ],
             [
              0.3333333333333333,
              "#9c179e"
             ],
             [
              0.4444444444444444,
              "#bd3786"
             ],
             [
              0.5555555555555556,
              "#d8576b"
             ],
             [
              0.6666666666666666,
              "#ed7953"
             ],
             [
              0.7777777777777778,
              "#fb9f3a"
             ],
             [
              0.8888888888888888,
              "#fdca26"
             ],
             [
              1,
              "#f0f921"
             ]
            ],
            "type": "histogram2d"
           }
          ],
          "histogram2dcontour": [
           {
            "colorbar": {
             "outlinewidth": 0,
             "ticks": ""
            },
            "colorscale": [
             [
              0,
              "#0d0887"
             ],
             [
              0.1111111111111111,
              "#46039f"
             ],
             [
              0.2222222222222222,
              "#7201a8"
             ],
             [
              0.3333333333333333,
              "#9c179e"
             ],
             [
              0.4444444444444444,
              "#bd3786"
             ],
             [
              0.5555555555555556,
              "#d8576b"
             ],
             [
              0.6666666666666666,
              "#ed7953"
             ],
             [
              0.7777777777777778,
              "#fb9f3a"
             ],
             [
              0.8888888888888888,
              "#fdca26"
             ],
             [
              1,
              "#f0f921"
             ]
            ],
            "type": "histogram2dcontour"
           }
          ],
          "mesh3d": [
           {
            "colorbar": {
             "outlinewidth": 0,
             "ticks": ""
            },
            "type": "mesh3d"
           }
          ],
          "parcoords": [
           {
            "line": {
             "colorbar": {
              "outlinewidth": 0,
              "ticks": ""
             }
            },
            "type": "parcoords"
           }
          ],
          "pie": [
           {
            "automargin": true,
            "type": "pie"
           }
          ],
          "scatter": [
           {
            "fillpattern": {
             "fillmode": "overlay",
             "size": 10,
             "solidity": 0.2
            },
            "type": "scatter"
           }
          ],
          "scatter3d": [
           {
            "line": {
             "colorbar": {
              "outlinewidth": 0,
              "ticks": ""
             }
            },
            "marker": {
             "colorbar": {
              "outlinewidth": 0,
              "ticks": ""
             }
            },
            "type": "scatter3d"
           }
          ],
          "scattercarpet": [
           {
            "marker": {
             "colorbar": {
              "outlinewidth": 0,
              "ticks": ""
             }
            },
            "type": "scattercarpet"
           }
          ],
          "scattergeo": [
           {
            "marker": {
             "colorbar": {
              "outlinewidth": 0,
              "ticks": ""
             }
            },
            "type": "scattergeo"
           }
          ],
          "scattergl": [
           {
            "marker": {
             "colorbar": {
              "outlinewidth": 0,
              "ticks": ""
             }
            },
            "type": "scattergl"
           }
          ],
          "scattermapbox": [
           {
            "marker": {
             "colorbar": {
              "outlinewidth": 0,
              "ticks": ""
             }
            },
            "type": "scattermapbox"
           }
          ],
          "scatterpolar": [
           {
            "marker": {
             "colorbar": {
              "outlinewidth": 0,
              "ticks": ""
             }
            },
            "type": "scatterpolar"
           }
          ],
          "scatterpolargl": [
           {
            "marker": {
             "colorbar": {
              "outlinewidth": 0,
              "ticks": ""
             }
            },
            "type": "scatterpolargl"
           }
          ],
          "scatterternary": [
           {
            "marker": {
             "colorbar": {
              "outlinewidth": 0,
              "ticks": ""
             }
            },
            "type": "scatterternary"
           }
          ],
          "surface": [
           {
            "colorbar": {
             "outlinewidth": 0,
             "ticks": ""
            },
            "colorscale": [
             [
              0,
              "#0d0887"
             ],
             [
              0.1111111111111111,
              "#46039f"
             ],
             [
              0.2222222222222222,
              "#7201a8"
             ],
             [
              0.3333333333333333,
              "#9c179e"
             ],
             [
              0.4444444444444444,
              "#bd3786"
             ],
             [
              0.5555555555555556,
              "#d8576b"
             ],
             [
              0.6666666666666666,
              "#ed7953"
             ],
             [
              0.7777777777777778,
              "#fb9f3a"
             ],
             [
              0.8888888888888888,
              "#fdca26"
             ],
             [
              1,
              "#f0f921"
             ]
            ],
            "type": "surface"
           }
          ],
          "table": [
           {
            "cells": {
             "fill": {
              "color": "#EBF0F8"
             },
             "line": {
              "color": "white"
             }
            },
            "header": {
             "fill": {
              "color": "#C8D4E3"
             },
             "line": {
              "color": "white"
             }
            },
            "type": "table"
           }
          ]
         },
         "layout": {
          "annotationdefaults": {
           "arrowcolor": "#2a3f5f",
           "arrowhead": 0,
           "arrowwidth": 1
          },
          "autotypenumbers": "strict",
          "coloraxis": {
           "colorbar": {
            "outlinewidth": 0,
            "ticks": ""
           }
          },
          "colorscale": {
           "diverging": [
            [
             0,
             "#8e0152"
            ],
            [
             0.1,
             "#c51b7d"
            ],
            [
             0.2,
             "#de77ae"
            ],
            [
             0.3,
             "#f1b6da"
            ],
            [
             0.4,
             "#fde0ef"
            ],
            [
             0.5,
             "#f7f7f7"
            ],
            [
             0.6,
             "#e6f5d0"
            ],
            [
             0.7,
             "#b8e186"
            ],
            [
             0.8,
             "#7fbc41"
            ],
            [
             0.9,
             "#4d9221"
            ],
            [
             1,
             "#276419"
            ]
           ],
           "sequential": [
            [
             0,
             "#0d0887"
            ],
            [
             0.1111111111111111,
             "#46039f"
            ],
            [
             0.2222222222222222,
             "#7201a8"
            ],
            [
             0.3333333333333333,
             "#9c179e"
            ],
            [
             0.4444444444444444,
             "#bd3786"
            ],
            [
             0.5555555555555556,
             "#d8576b"
            ],
            [
             0.6666666666666666,
             "#ed7953"
            ],
            [
             0.7777777777777778,
             "#fb9f3a"
            ],
            [
             0.8888888888888888,
             "#fdca26"
            ],
            [
             1,
             "#f0f921"
            ]
           ],
           "sequentialminus": [
            [
             0,
             "#0d0887"
            ],
            [
             0.1111111111111111,
             "#46039f"
            ],
            [
             0.2222222222222222,
             "#7201a8"
            ],
            [
             0.3333333333333333,
             "#9c179e"
            ],
            [
             0.4444444444444444,
             "#bd3786"
            ],
            [
             0.5555555555555556,
             "#d8576b"
            ],
            [
             0.6666666666666666,
             "#ed7953"
            ],
            [
             0.7777777777777778,
             "#fb9f3a"
            ],
            [
             0.8888888888888888,
             "#fdca26"
            ],
            [
             1,
             "#f0f921"
            ]
           ]
          },
          "colorway": [
           "#636efa",
           "#EF553B",
           "#00cc96",
           "#ab63fa",
           "#FFA15A",
           "#19d3f3",
           "#FF6692",
           "#B6E880",
           "#FF97FF",
           "#FECB52"
          ],
          "font": {
           "color": "#2a3f5f"
          },
          "geo": {
           "bgcolor": "white",
           "lakecolor": "white",
           "landcolor": "#E5ECF6",
           "showlakes": true,
           "showland": true,
           "subunitcolor": "white"
          },
          "hoverlabel": {
           "align": "left"
          },
          "hovermode": "closest",
          "mapbox": {
           "style": "light"
          },
          "paper_bgcolor": "white",
          "plot_bgcolor": "#E5ECF6",
          "polar": {
           "angularaxis": {
            "gridcolor": "white",
            "linecolor": "white",
            "ticks": ""
           },
           "bgcolor": "#E5ECF6",
           "radialaxis": {
            "gridcolor": "white",
            "linecolor": "white",
            "ticks": ""
           }
          },
          "scene": {
           "xaxis": {
            "backgroundcolor": "#E5ECF6",
            "gridcolor": "white",
            "gridwidth": 2,
            "linecolor": "white",
            "showbackground": true,
            "ticks": "",
            "zerolinecolor": "white"
           },
           "yaxis": {
            "backgroundcolor": "#E5ECF6",
            "gridcolor": "white",
            "gridwidth": 2,
            "linecolor": "white",
            "showbackground": true,
            "ticks": "",
            "zerolinecolor": "white"
           },
           "zaxis": {
            "backgroundcolor": "#E5ECF6",
            "gridcolor": "white",
            "gridwidth": 2,
            "linecolor": "white",
            "showbackground": true,
            "ticks": "",
            "zerolinecolor": "white"
           }
          },
          "shapedefaults": {
           "line": {
            "color": "#2a3f5f"
           }
          },
          "ternary": {
           "aaxis": {
            "gridcolor": "white",
            "linecolor": "white",
            "ticks": ""
           },
           "baxis": {
            "gridcolor": "white",
            "linecolor": "white",
            "ticks": ""
           },
           "bgcolor": "#E5ECF6",
           "caxis": {
            "gridcolor": "white",
            "linecolor": "white",
            "ticks": ""
           }
          },
          "title": {
           "x": 0.05
          },
          "xaxis": {
           "automargin": true,
           "gridcolor": "white",
           "linecolor": "white",
           "ticks": "",
           "title": {
            "standoff": 15
           },
           "zerolinecolor": "white",
           "zerolinewidth": 2
          },
          "yaxis": {
           "automargin": true,
           "gridcolor": "white",
           "linecolor": "white",
           "ticks": "",
           "title": {
            "standoff": 15
           },
           "zerolinecolor": "white",
           "zerolinewidth": 2
          }
         }
        },
        "xaxis": {
         "anchor": "y",
         "domain": [
          0,
          1
         ],
         "title": {
          "text": "Dia da Semana"
         }
        },
        "yaxis": {
         "anchor": "x",
         "domain": [
          0,
          1
         ],
         "title": {
          "text": "Total de Defeitos no Dia"
         }
        }
       }
      }
     },
     "metadata": {},
     "output_type": "display_data"
    }
   ],
   "source": [
    "fig = px.bar(df_medias_dia_semana.reset_index(), \n",
    "             x='Dia da Semana', y='Total de Defeitos no Dia',\n",
    "             text='Total de Defeitos no Dia',\n",
    "             color='Total de Defeitos no Dia',\n",
    "             color_continuous_scale='peach')\n",
    "\n",
    "fig.update_traces(textposition='outside', texttemplate='%{text}', \n",
    "                  textfont_size=14, textfont_color='black')\n",
    "\n",
    "fig.show()"
   ]
  },
  {
   "cell_type": "markdown",
   "metadata": {},
   "source": [
    "## Média de defeitos por dia de produção"
   ]
  },
  {
   "cell_type": "markdown",
   "metadata": {},
   "source": [
    "### Calcular a duração total de cada ordem"
   ]
  },
  {
   "cell_type": "code",
   "execution_count": 43,
   "metadata": {},
   "outputs": [],
   "source": [
    "duracao_por_ordem = df_sazonalidade.groupby('Ordem de prod')['Data de prod'].nunique().reset_index()\n",
    "duracao_por_ordem.columns = ['Ordem de prod', 'Dias de Duração']"
   ]
  },
  {
   "cell_type": "markdown",
   "metadata": {},
   "source": [
    "### Merge com o DataFrame original"
   ]
  },
  {
   "cell_type": "code",
   "execution_count": 44,
   "metadata": {},
   "outputs": [],
   "source": [
    "df_sazonalidade = df_sazonalidade.merge(duracao_por_ordem, on='Ordem de prod', how='left')"
   ]
  },
  {
   "cell_type": "markdown",
   "metadata": {},
   "source": [
    "### Remover a coluna duplicada (se já havia 'Dias de Duração' no DataFrame original)"
   ]
  },
  {
   "cell_type": "code",
   "execution_count": 45,
   "metadata": {},
   "outputs": [],
   "source": [
    "df_sazonalidade = df_sazonalidade.drop(columns=['Dias de Duração_x'])"
   ]
  },
  {
   "cell_type": "markdown",
   "metadata": {},
   "source": [
    "### Renomear a coluna restante, se necessário"
   ]
  },
  {
   "cell_type": "code",
   "execution_count": 46,
   "metadata": {},
   "outputs": [],
   "source": [
    "df_sazonalidade = df_sazonalidade.rename(columns={'Dias de Duração_y': 'Dias de Duração'})"
   ]
  },
  {
   "cell_type": "markdown",
   "metadata": {},
   "source": [
    "### Padronizando a duração das ordens"
   ]
  },
  {
   "cell_type": "markdown",
   "metadata": {},
   "source": [
    "Calcular o Dia Contado por Ordem"
   ]
  },
  {
   "cell_type": "code",
   "execution_count": 47,
   "metadata": {},
   "outputs": [],
   "source": [
    "df_sazonalidade['Dia Contado'] = df_sazonalidade.groupby('Ordem de prod').cumcount() + 1"
   ]
  },
  {
   "cell_type": "markdown",
   "metadata": {},
   "source": [
    "`.cumcount()`: Gera uma contagem cumulativa para cada linha dentro de cada grupo. A contagem começa em 0 para a primeira linha de cada grupo, 1 para a segunda linha, e assim por diante.\n",
    "\n",
    "\n",
    "`+ 1`: Incrementa a contagem para começar em 1 em vez de 0 (como o \"primeiro dia\" de produção em vez de \"dia 0\")."
   ]
  },
  {
   "cell_type": "code",
   "execution_count": 48,
   "metadata": {},
   "outputs": [
    {
     "data": {
      "text/html": [
       "<div>\n",
       "<style scoped>\n",
       "    .dataframe tbody tr th:only-of-type {\n",
       "        vertical-align: middle;\n",
       "    }\n",
       "\n",
       "    .dataframe tbody tr th {\n",
       "        vertical-align: top;\n",
       "    }\n",
       "\n",
       "    .dataframe thead th {\n",
       "        text-align: right;\n",
       "    }\n",
       "</style>\n",
       "<table border=\"1\" class=\"dataframe\">\n",
       "  <thead>\n",
       "    <tr style=\"text-align: right;\">\n",
       "      <th></th>\n",
       "      <th>Ordem de prod</th>\n",
       "      <th>Data de prod</th>\n",
       "      <th>Dia Contado</th>\n",
       "    </tr>\n",
       "  </thead>\n",
       "  <tbody>\n",
       "    <tr>\n",
       "      <th>0</th>\n",
       "      <td>192970</td>\n",
       "      <td>2024-01-03</td>\n",
       "      <td>1</td>\n",
       "    </tr>\n",
       "    <tr>\n",
       "      <th>1</th>\n",
       "      <td>192970</td>\n",
       "      <td>2024-01-04</td>\n",
       "      <td>2</td>\n",
       "    </tr>\n",
       "    <tr>\n",
       "      <th>2</th>\n",
       "      <td>192970</td>\n",
       "      <td>2024-01-05</td>\n",
       "      <td>3</td>\n",
       "    </tr>\n",
       "    <tr>\n",
       "      <th>3</th>\n",
       "      <td>192970</td>\n",
       "      <td>2024-01-06</td>\n",
       "      <td>4</td>\n",
       "    </tr>\n",
       "    <tr>\n",
       "      <th>4</th>\n",
       "      <td>192970</td>\n",
       "      <td>2024-01-07</td>\n",
       "      <td>5</td>\n",
       "    </tr>\n",
       "    <tr>\n",
       "      <th>...</th>\n",
       "      <td>...</td>\n",
       "      <td>...</td>\n",
       "      <td>...</td>\n",
       "    </tr>\n",
       "    <tr>\n",
       "      <th>195</th>\n",
       "      <td>194121</td>\n",
       "      <td>2024-06-26</td>\n",
       "      <td>2</td>\n",
       "    </tr>\n",
       "    <tr>\n",
       "      <th>196</th>\n",
       "      <td>194121</td>\n",
       "      <td>2024-06-27</td>\n",
       "      <td>3</td>\n",
       "    </tr>\n",
       "    <tr>\n",
       "      <th>197</th>\n",
       "      <td>194121</td>\n",
       "      <td>2024-06-28</td>\n",
       "      <td>4</td>\n",
       "    </tr>\n",
       "    <tr>\n",
       "      <th>198</th>\n",
       "      <td>194121</td>\n",
       "      <td>2024-06-29</td>\n",
       "      <td>5</td>\n",
       "    </tr>\n",
       "    <tr>\n",
       "      <th>199</th>\n",
       "      <td>194121</td>\n",
       "      <td>2024-06-30</td>\n",
       "      <td>6</td>\n",
       "    </tr>\n",
       "  </tbody>\n",
       "</table>\n",
       "<p>200 rows × 3 columns</p>\n",
       "</div>"
      ],
      "text/plain": [
       "     Ordem de prod Data de prod  Dia Contado\n",
       "0           192970   2024-01-03            1\n",
       "1           192970   2024-01-04            2\n",
       "2           192970   2024-01-05            3\n",
       "3           192970   2024-01-06            4\n",
       "4           192970   2024-01-07            5\n",
       "..             ...          ...          ...\n",
       "195         194121   2024-06-26            2\n",
       "196         194121   2024-06-27            3\n",
       "197         194121   2024-06-28            4\n",
       "198         194121   2024-06-29            5\n",
       "199         194121   2024-06-30            6\n",
       "\n",
       "[200 rows x 3 columns]"
      ]
     },
     "execution_count": 48,
     "metadata": {},
     "output_type": "execute_result"
    }
   ],
   "source": [
    "df_sazonalidade[['Ordem de prod', 'Data de prod', 'Dia Contado']]"
   ]
  },
  {
   "cell_type": "markdown",
   "metadata": {},
   "source": [
    "Calcular o Dia Normalizado"
   ]
  },
  {
   "cell_type": "code",
   "execution_count": 49,
   "metadata": {},
   "outputs": [],
   "source": [
    "df_sazonalidade['Dia Normalizado'] = df_sazonalidade['Dia Contado'] / df_sazonalidade['Dias de Duração']"
   ]
  },
  {
   "cell_type": "markdown",
   "metadata": {},
   "source": [
    "`Dia Contado`: Representa o dia específico dentro de uma ordem de produção (e.g., dia 1, dia 2...).\n",
    "\n",
    "`Dias de Duração`: É o número total de dias necessários para completar a ordem de produção.\n",
    "\n",
    "`Dia Contado `/ `Dias de Duração`: Faz com que cada dia seja representado como uma fração do ciclo total de produção."
   ]
  },
  {
   "cell_type": "markdown",
   "metadata": {},
   "source": [
    "Visualização"
   ]
  },
  {
   "cell_type": "code",
   "execution_count": 50,
   "metadata": {},
   "outputs": [
    {
     "data": {
      "text/html": [
       "<div>\n",
       "<style scoped>\n",
       "    .dataframe tbody tr th:only-of-type {\n",
       "        vertical-align: middle;\n",
       "    }\n",
       "\n",
       "    .dataframe tbody tr th {\n",
       "        vertical-align: top;\n",
       "    }\n",
       "\n",
       "    .dataframe thead th {\n",
       "        text-align: right;\n",
       "    }\n",
       "</style>\n",
       "<table border=\"1\" class=\"dataframe\">\n",
       "  <thead>\n",
       "    <tr style=\"text-align: right;\">\n",
       "      <th></th>\n",
       "      <th>Ordem de prod</th>\n",
       "      <th>Dia Contado</th>\n",
       "      <th>Dias de Duração</th>\n",
       "      <th>Dia Normalizado</th>\n",
       "      <th>Total de Defeitos no Dia</th>\n",
       "    </tr>\n",
       "  </thead>\n",
       "  <tbody>\n",
       "    <tr>\n",
       "      <th>0</th>\n",
       "      <td>192970</td>\n",
       "      <td>1</td>\n",
       "      <td>9</td>\n",
       "      <td>0.111111</td>\n",
       "      <td>222</td>\n",
       "    </tr>\n",
       "    <tr>\n",
       "      <th>1</th>\n",
       "      <td>192970</td>\n",
       "      <td>2</td>\n",
       "      <td>9</td>\n",
       "      <td>0.222222</td>\n",
       "      <td>249</td>\n",
       "    </tr>\n",
       "    <tr>\n",
       "      <th>2</th>\n",
       "      <td>192970</td>\n",
       "      <td>3</td>\n",
       "      <td>9</td>\n",
       "      <td>0.333333</td>\n",
       "      <td>268</td>\n",
       "    </tr>\n",
       "    <tr>\n",
       "      <th>3</th>\n",
       "      <td>192970</td>\n",
       "      <td>4</td>\n",
       "      <td>9</td>\n",
       "      <td>0.444444</td>\n",
       "      <td>242</td>\n",
       "    </tr>\n",
       "    <tr>\n",
       "      <th>4</th>\n",
       "      <td>192970</td>\n",
       "      <td>5</td>\n",
       "      <td>9</td>\n",
       "      <td>0.555556</td>\n",
       "      <td>232</td>\n",
       "    </tr>\n",
       "    <tr>\n",
       "      <th>...</th>\n",
       "      <td>...</td>\n",
       "      <td>...</td>\n",
       "      <td>...</td>\n",
       "      <td>...</td>\n",
       "      <td>...</td>\n",
       "    </tr>\n",
       "    <tr>\n",
       "      <th>195</th>\n",
       "      <td>194121</td>\n",
       "      <td>2</td>\n",
       "      <td>6</td>\n",
       "      <td>0.333333</td>\n",
       "      <td>258</td>\n",
       "    </tr>\n",
       "    <tr>\n",
       "      <th>196</th>\n",
       "      <td>194121</td>\n",
       "      <td>3</td>\n",
       "      <td>6</td>\n",
       "      <td>0.500000</td>\n",
       "      <td>218</td>\n",
       "    </tr>\n",
       "    <tr>\n",
       "      <th>197</th>\n",
       "      <td>194121</td>\n",
       "      <td>4</td>\n",
       "      <td>6</td>\n",
       "      <td>0.666667</td>\n",
       "      <td>218</td>\n",
       "    </tr>\n",
       "    <tr>\n",
       "      <th>198</th>\n",
       "      <td>194121</td>\n",
       "      <td>5</td>\n",
       "      <td>6</td>\n",
       "      <td>0.833333</td>\n",
       "      <td>213</td>\n",
       "    </tr>\n",
       "    <tr>\n",
       "      <th>199</th>\n",
       "      <td>194121</td>\n",
       "      <td>6</td>\n",
       "      <td>6</td>\n",
       "      <td>1.000000</td>\n",
       "      <td>256</td>\n",
       "    </tr>\n",
       "  </tbody>\n",
       "</table>\n",
       "<p>200 rows × 5 columns</p>\n",
       "</div>"
      ],
      "text/plain": [
       "     Ordem de prod  Dia Contado  Dias de Duração  Dia Normalizado  \\\n",
       "0           192970            1                9         0.111111   \n",
       "1           192970            2                9         0.222222   \n",
       "2           192970            3                9         0.333333   \n",
       "3           192970            4                9         0.444444   \n",
       "4           192970            5                9         0.555556   \n",
       "..             ...          ...              ...              ...   \n",
       "195         194121            2                6         0.333333   \n",
       "196         194121            3                6         0.500000   \n",
       "197         194121            4                6         0.666667   \n",
       "198         194121            5                6         0.833333   \n",
       "199         194121            6                6         1.000000   \n",
       "\n",
       "     Total de Defeitos no Dia  \n",
       "0                         222  \n",
       "1                         249  \n",
       "2                         268  \n",
       "3                         242  \n",
       "4                         232  \n",
       "..                        ...  \n",
       "195                       258  \n",
       "196                       218  \n",
       "197                       218  \n",
       "198                       213  \n",
       "199                       256  \n",
       "\n",
       "[200 rows x 5 columns]"
      ]
     },
     "execution_count": 50,
     "metadata": {},
     "output_type": "execute_result"
    }
   ],
   "source": [
    "df_sazonalidade[['Ordem de prod', 'Dia Contado', 'Dias de Duração', 'Dia Normalizado', 'Total de Defeitos no Dia']]"
   ]
  },
  {
   "cell_type": "markdown",
   "metadata": {},
   "source": [
    "- Isso é útil para comparar dados de ordens de diferentes durações. Sem essa normalização, ordens mais curtas ou mais longas não seriam diretamente comparáveis.\n",
    "\n",
    "- O resultado da coluna 'Dia Normalizado' estará sempre entre 0 e 1, onde:\n",
    "\n",
    "`0`: Representa o início da produção (primeiro dia).\n",
    "\n",
    "`1`: Representa o final da produção (último dia).\n",
    "\n",
    "Valores intermediários (e.g., 0.5) indicam a posição relativa no ciclo."
   ]
  },
  {
   "cell_type": "markdown",
   "metadata": {},
   "source": [
    "Exportando dataframe"
   ]
  },
  {
   "cell_type": "code",
   "execution_count": 51,
   "metadata": {},
   "outputs": [],
   "source": [
    "df_sazonalidade_dias_ordem  = df_sazonalidade[['Ordem de prod', 'Dia Contado', 'Dias de Duração', 'Dia Normalizado', 'Total de Defeitos no Dia']]\n",
    "df_sazonalidade_dias_ordem.to_csv('../dados_dias_modelo.csv', index=False)"
   ]
  },
  {
   "cell_type": "markdown",
   "metadata": {},
   "source": [
    "### Calcular a média de defeitos por Dia Normalizado"
   ]
  },
  {
   "cell_type": "code",
   "execution_count": 52,
   "metadata": {},
   "outputs": [],
   "source": [
    "defeitos_por_dia_normalizado = df_sazonalidade.groupby('Dia Normalizado')[['Total de Defeitos no Dia']].mean().reset_index()\n",
    "defeitos_por_dia_normalizado.columns = ['Dia Normalizado', 'Média de Defeitos']"
   ]
  },
  {
   "cell_type": "markdown",
   "metadata": {},
   "source": [
    "Visualização"
   ]
  },
  {
   "cell_type": "code",
   "execution_count": 53,
   "metadata": {},
   "outputs": [
    {
     "data": {
      "application/vnd.plotly.v1+json": {
       "config": {
        "plotlyServerURL": "https://plot.ly"
       },
       "data": [
        {
         "line": {
          "color": "red"
         },
         "marker": {
          "size": 10
         },
         "mode": "lines+markers",
         "name": "Média de Defeitos",
         "type": "scatter",
         "x": [
          0.05,
          0.08333333333333333,
          0.09090909090909091,
          0.1,
          0.1111111111111111,
          0.125,
          0.14285714285714285,
          0.15,
          0.16666666666666666,
          0.18181818181818182,
          0.2,
          0.2222222222222222,
          0.25,
          0.2727272727272727,
          0.2857142857142857,
          0.3,
          0.3333333333333333,
          0.35,
          0.36363636363636365,
          0.375,
          0.4,
          0.4166666666666667,
          0.42857142857142855,
          0.4444444444444444,
          0.45,
          0.45454545454545453,
          0.5,
          0.5454545454545454,
          0.55,
          0.5555555555555556,
          0.5714285714285714,
          0.5833333333333334,
          0.6,
          0.625,
          0.6363636363636364,
          0.65,
          0.6666666666666666,
          0.7,
          0.7142857142857143,
          0.7272727272727273,
          0.75,
          0.7777777777777778,
          0.8,
          0.8181818181818182,
          0.8333333333333334,
          0.85,
          0.8571428571428571,
          0.875,
          0.8888888888888888,
          0.9,
          0.9090909090909091,
          0.9166666666666666,
          0.95,
          1
         ],
         "y": [
          180,
          293,
          223,
          293.5,
          222,
          217,
          185.33333333333334,
          217,
          256.5,
          272,
          222.83333333333334,
          249,
          202.66666666666666,
          202,
          257,
          185.5,
          226.53333333333333,
          195,
          201,
          191.33333333333334,
          219.83333333333334,
          229,
          237.66666666666666,
          242,
          191,
          224,
          206.15384615384616,
          192.5,
          192,
          232,
          220,
          198,
          204,
          187,
          189.5,
          161,
          238.86666666666667,
          174.5,
          219.33333333333334,
          177,
          190.55555555555554,
          191,
          207.66666666666666,
          187,
          218.5,
          189,
          233,
          179.66666666666666,
          222,
          173.5,
          193,
          224,
          177,
          212.6
         ]
        }
       ],
       "layout": {
        "template": {
         "data": {
          "bar": [
           {
            "error_x": {
             "color": "#2a3f5f"
            },
            "error_y": {
             "color": "#2a3f5f"
            },
            "marker": {
             "line": {
              "color": "#E5ECF6",
              "width": 0.5
             },
             "pattern": {
              "fillmode": "overlay",
              "size": 10,
              "solidity": 0.2
             }
            },
            "type": "bar"
           }
          ],
          "barpolar": [
           {
            "marker": {
             "line": {
              "color": "#E5ECF6",
              "width": 0.5
             },
             "pattern": {
              "fillmode": "overlay",
              "size": 10,
              "solidity": 0.2
             }
            },
            "type": "barpolar"
           }
          ],
          "carpet": [
           {
            "aaxis": {
             "endlinecolor": "#2a3f5f",
             "gridcolor": "white",
             "linecolor": "white",
             "minorgridcolor": "white",
             "startlinecolor": "#2a3f5f"
            },
            "baxis": {
             "endlinecolor": "#2a3f5f",
             "gridcolor": "white",
             "linecolor": "white",
             "minorgridcolor": "white",
             "startlinecolor": "#2a3f5f"
            },
            "type": "carpet"
           }
          ],
          "choropleth": [
           {
            "colorbar": {
             "outlinewidth": 0,
             "ticks": ""
            },
            "type": "choropleth"
           }
          ],
          "contour": [
           {
            "colorbar": {
             "outlinewidth": 0,
             "ticks": ""
            },
            "colorscale": [
             [
              0,
              "#0d0887"
             ],
             [
              0.1111111111111111,
              "#46039f"
             ],
             [
              0.2222222222222222,
              "#7201a8"
             ],
             [
              0.3333333333333333,
              "#9c179e"
             ],
             [
              0.4444444444444444,
              "#bd3786"
             ],
             [
              0.5555555555555556,
              "#d8576b"
             ],
             [
              0.6666666666666666,
              "#ed7953"
             ],
             [
              0.7777777777777778,
              "#fb9f3a"
             ],
             [
              0.8888888888888888,
              "#fdca26"
             ],
             [
              1,
              "#f0f921"
             ]
            ],
            "type": "contour"
           }
          ],
          "contourcarpet": [
           {
            "colorbar": {
             "outlinewidth": 0,
             "ticks": ""
            },
            "type": "contourcarpet"
           }
          ],
          "heatmap": [
           {
            "colorbar": {
             "outlinewidth": 0,
             "ticks": ""
            },
            "colorscale": [
             [
              0,
              "#0d0887"
             ],
             [
              0.1111111111111111,
              "#46039f"
             ],
             [
              0.2222222222222222,
              "#7201a8"
             ],
             [
              0.3333333333333333,
              "#9c179e"
             ],
             [
              0.4444444444444444,
              "#bd3786"
             ],
             [
              0.5555555555555556,
              "#d8576b"
             ],
             [
              0.6666666666666666,
              "#ed7953"
             ],
             [
              0.7777777777777778,
              "#fb9f3a"
             ],
             [
              0.8888888888888888,
              "#fdca26"
             ],
             [
              1,
              "#f0f921"
             ]
            ],
            "type": "heatmap"
           }
          ],
          "heatmapgl": [
           {
            "colorbar": {
             "outlinewidth": 0,
             "ticks": ""
            },
            "colorscale": [
             [
              0,
              "#0d0887"
             ],
             [
              0.1111111111111111,
              "#46039f"
             ],
             [
              0.2222222222222222,
              "#7201a8"
             ],
             [
              0.3333333333333333,
              "#9c179e"
             ],
             [
              0.4444444444444444,
              "#bd3786"
             ],
             [
              0.5555555555555556,
              "#d8576b"
             ],
             [
              0.6666666666666666,
              "#ed7953"
             ],
             [
              0.7777777777777778,
              "#fb9f3a"
             ],
             [
              0.8888888888888888,
              "#fdca26"
             ],
             [
              1,
              "#f0f921"
             ]
            ],
            "type": "heatmapgl"
           }
          ],
          "histogram": [
           {
            "marker": {
             "pattern": {
              "fillmode": "overlay",
              "size": 10,
              "solidity": 0.2
             }
            },
            "type": "histogram"
           }
          ],
          "histogram2d": [
           {
            "colorbar": {
             "outlinewidth": 0,
             "ticks": ""
            },
            "colorscale": [
             [
              0,
              "#0d0887"
             ],
             [
              0.1111111111111111,
              "#46039f"
             ],
             [
              0.2222222222222222,
              "#7201a8"
             ],
             [
              0.3333333333333333,
              "#9c179e"
             ],
             [
              0.4444444444444444,
              "#bd3786"
             ],
             [
              0.5555555555555556,
              "#d8576b"
             ],
             [
              0.6666666666666666,
              "#ed7953"
             ],
             [
              0.7777777777777778,
              "#fb9f3a"
             ],
             [
              0.8888888888888888,
              "#fdca26"
             ],
             [
              1,
              "#f0f921"
             ]
            ],
            "type": "histogram2d"
           }
          ],
          "histogram2dcontour": [
           {
            "colorbar": {
             "outlinewidth": 0,
             "ticks": ""
            },
            "colorscale": [
             [
              0,
              "#0d0887"
             ],
             [
              0.1111111111111111,
              "#46039f"
             ],
             [
              0.2222222222222222,
              "#7201a8"
             ],
             [
              0.3333333333333333,
              "#9c179e"
             ],
             [
              0.4444444444444444,
              "#bd3786"
             ],
             [
              0.5555555555555556,
              "#d8576b"
             ],
             [
              0.6666666666666666,
              "#ed7953"
             ],
             [
              0.7777777777777778,
              "#fb9f3a"
             ],
             [
              0.8888888888888888,
              "#fdca26"
             ],
             [
              1,
              "#f0f921"
             ]
            ],
            "type": "histogram2dcontour"
           }
          ],
          "mesh3d": [
           {
            "colorbar": {
             "outlinewidth": 0,
             "ticks": ""
            },
            "type": "mesh3d"
           }
          ],
          "parcoords": [
           {
            "line": {
             "colorbar": {
              "outlinewidth": 0,
              "ticks": ""
             }
            },
            "type": "parcoords"
           }
          ],
          "pie": [
           {
            "automargin": true,
            "type": "pie"
           }
          ],
          "scatter": [
           {
            "fillpattern": {
             "fillmode": "overlay",
             "size": 10,
             "solidity": 0.2
            },
            "type": "scatter"
           }
          ],
          "scatter3d": [
           {
            "line": {
             "colorbar": {
              "outlinewidth": 0,
              "ticks": ""
             }
            },
            "marker": {
             "colorbar": {
              "outlinewidth": 0,
              "ticks": ""
             }
            },
            "type": "scatter3d"
           }
          ],
          "scattercarpet": [
           {
            "marker": {
             "colorbar": {
              "outlinewidth": 0,
              "ticks": ""
             }
            },
            "type": "scattercarpet"
           }
          ],
          "scattergeo": [
           {
            "marker": {
             "colorbar": {
              "outlinewidth": 0,
              "ticks": ""
             }
            },
            "type": "scattergeo"
           }
          ],
          "scattergl": [
           {
            "marker": {
             "colorbar": {
              "outlinewidth": 0,
              "ticks": ""
             }
            },
            "type": "scattergl"
           }
          ],
          "scattermapbox": [
           {
            "marker": {
             "colorbar": {
              "outlinewidth": 0,
              "ticks": ""
             }
            },
            "type": "scattermapbox"
           }
          ],
          "scatterpolar": [
           {
            "marker": {
             "colorbar": {
              "outlinewidth": 0,
              "ticks": ""
             }
            },
            "type": "scatterpolar"
           }
          ],
          "scatterpolargl": [
           {
            "marker": {
             "colorbar": {
              "outlinewidth": 0,
              "ticks": ""
             }
            },
            "type": "scatterpolargl"
           }
          ],
          "scatterternary": [
           {
            "marker": {
             "colorbar": {
              "outlinewidth": 0,
              "ticks": ""
             }
            },
            "type": "scatterternary"
           }
          ],
          "surface": [
           {
            "colorbar": {
             "outlinewidth": 0,
             "ticks": ""
            },
            "colorscale": [
             [
              0,
              "#0d0887"
             ],
             [
              0.1111111111111111,
              "#46039f"
             ],
             [
              0.2222222222222222,
              "#7201a8"
             ],
             [
              0.3333333333333333,
              "#9c179e"
             ],
             [
              0.4444444444444444,
              "#bd3786"
             ],
             [
              0.5555555555555556,
              "#d8576b"
             ],
             [
              0.6666666666666666,
              "#ed7953"
             ],
             [
              0.7777777777777778,
              "#fb9f3a"
             ],
             [
              0.8888888888888888,
              "#fdca26"
             ],
             [
              1,
              "#f0f921"
             ]
            ],
            "type": "surface"
           }
          ],
          "table": [
           {
            "cells": {
             "fill": {
              "color": "#EBF0F8"
             },
             "line": {
              "color": "white"
             }
            },
            "header": {
             "fill": {
              "color": "#C8D4E3"
             },
             "line": {
              "color": "white"
             }
            },
            "type": "table"
           }
          ]
         },
         "layout": {
          "annotationdefaults": {
           "arrowcolor": "#2a3f5f",
           "arrowhead": 0,
           "arrowwidth": 1
          },
          "autotypenumbers": "strict",
          "coloraxis": {
           "colorbar": {
            "outlinewidth": 0,
            "ticks": ""
           }
          },
          "colorscale": {
           "diverging": [
            [
             0,
             "#8e0152"
            ],
            [
             0.1,
             "#c51b7d"
            ],
            [
             0.2,
             "#de77ae"
            ],
            [
             0.3,
             "#f1b6da"
            ],
            [
             0.4,
             "#fde0ef"
            ],
            [
             0.5,
             "#f7f7f7"
            ],
            [
             0.6,
             "#e6f5d0"
            ],
            [
             0.7,
             "#b8e186"
            ],
            [
             0.8,
             "#7fbc41"
            ],
            [
             0.9,
             "#4d9221"
            ],
            [
             1,
             "#276419"
            ]
           ],
           "sequential": [
            [
             0,
             "#0d0887"
            ],
            [
             0.1111111111111111,
             "#46039f"
            ],
            [
             0.2222222222222222,
             "#7201a8"
            ],
            [
             0.3333333333333333,
             "#9c179e"
            ],
            [
             0.4444444444444444,
             "#bd3786"
            ],
            [
             0.5555555555555556,
             "#d8576b"
            ],
            [
             0.6666666666666666,
             "#ed7953"
            ],
            [
             0.7777777777777778,
             "#fb9f3a"
            ],
            [
             0.8888888888888888,
             "#fdca26"
            ],
            [
             1,
             "#f0f921"
            ]
           ],
           "sequentialminus": [
            [
             0,
             "#0d0887"
            ],
            [
             0.1111111111111111,
             "#46039f"
            ],
            [
             0.2222222222222222,
             "#7201a8"
            ],
            [
             0.3333333333333333,
             "#9c179e"
            ],
            [
             0.4444444444444444,
             "#bd3786"
            ],
            [
             0.5555555555555556,
             "#d8576b"
            ],
            [
             0.6666666666666666,
             "#ed7953"
            ],
            [
             0.7777777777777778,
             "#fb9f3a"
            ],
            [
             0.8888888888888888,
             "#fdca26"
            ],
            [
             1,
             "#f0f921"
            ]
           ]
          },
          "colorway": [
           "#636efa",
           "#EF553B",
           "#00cc96",
           "#ab63fa",
           "#FFA15A",
           "#19d3f3",
           "#FF6692",
           "#B6E880",
           "#FF97FF",
           "#FECB52"
          ],
          "font": {
           "color": "#2a3f5f"
          },
          "geo": {
           "bgcolor": "white",
           "lakecolor": "white",
           "landcolor": "#E5ECF6",
           "showlakes": true,
           "showland": true,
           "subunitcolor": "white"
          },
          "hoverlabel": {
           "align": "left"
          },
          "hovermode": "closest",
          "mapbox": {
           "style": "light"
          },
          "paper_bgcolor": "white",
          "plot_bgcolor": "#E5ECF6",
          "polar": {
           "angularaxis": {
            "gridcolor": "white",
            "linecolor": "white",
            "ticks": ""
           },
           "bgcolor": "#E5ECF6",
           "radialaxis": {
            "gridcolor": "white",
            "linecolor": "white",
            "ticks": ""
           }
          },
          "scene": {
           "xaxis": {
            "backgroundcolor": "#E5ECF6",
            "gridcolor": "white",
            "gridwidth": 2,
            "linecolor": "white",
            "showbackground": true,
            "ticks": "",
            "zerolinecolor": "white"
           },
           "yaxis": {
            "backgroundcolor": "#E5ECF6",
            "gridcolor": "white",
            "gridwidth": 2,
            "linecolor": "white",
            "showbackground": true,
            "ticks": "",
            "zerolinecolor": "white"
           },
           "zaxis": {
            "backgroundcolor": "#E5ECF6",
            "gridcolor": "white",
            "gridwidth": 2,
            "linecolor": "white",
            "showbackground": true,
            "ticks": "",
            "zerolinecolor": "white"
           }
          },
          "shapedefaults": {
           "line": {
            "color": "#2a3f5f"
           }
          },
          "ternary": {
           "aaxis": {
            "gridcolor": "white",
            "linecolor": "white",
            "ticks": ""
           },
           "baxis": {
            "gridcolor": "white",
            "linecolor": "white",
            "ticks": ""
           },
           "bgcolor": "#E5ECF6",
           "caxis": {
            "gridcolor": "white",
            "linecolor": "white",
            "ticks": ""
           }
          },
          "title": {
           "x": 0.05
          },
          "xaxis": {
           "automargin": true,
           "gridcolor": "white",
           "linecolor": "white",
           "ticks": "",
           "title": {
            "standoff": 15
           },
           "zerolinecolor": "white",
           "zerolinewidth": 2
          },
          "yaxis": {
           "automargin": true,
           "gridcolor": "white",
           "linecolor": "white",
           "ticks": "",
           "title": {
            "standoff": 15
           },
           "zerolinecolor": "white",
           "zerolinewidth": 2
          }
         }
        },
        "title": {
         "font": {
          "size": 16
         },
         "text": "Média de Defeitos por Dia Normalizado"
        },
        "xaxis": {
         "title": {
          "font": {
           "size": 14
          },
          "text": "Dia Normalizado"
         }
        },
        "yaxis": {
         "title": {
          "font": {
           "size": 14
          },
          "text": "Média de Defeitos"
         }
        }
       }
      }
     },
     "metadata": {},
     "output_type": "display_data"
    }
   ],
   "source": [
    "fig = go.Figure()\n",
    "\n",
    "fig.add_trace(go.Scatter(x=defeitos_por_dia_normalizado['Dia Normalizado'],\n",
    "                         y=defeitos_por_dia_normalizado['Média de Defeitos'],\n",
    "                         mode='lines+markers', \n",
    "                         marker=dict(size=10),\n",
    "                         line=dict(color='red'),\n",
    "                         name='Média de Defeitos'))\n",
    "\n",
    "fig.update_layout(\n",
    "    title='Média de Defeitos por Dia Normalizado',\n",
    "    title_font_size=16,\n",
    "    xaxis_title='Dia Normalizado',\n",
    "    xaxis_title_font_size=14,\n",
    "    yaxis_title='Média de Defeitos',\n",
    "    yaxis_title_font_size=14\n",
    ")\n",
    "\n",
    "fig.show()"
   ]
  },
  {
   "cell_type": "markdown",
   "metadata": {},
   "source": [
    "### Calcular a média de defeitos por Dia Contado"
   ]
  },
  {
   "cell_type": "markdown",
   "metadata": {},
   "source": [
    "Agrupar pelos valores inteiros de Dia Contado"
   ]
  },
  {
   "cell_type": "code",
   "execution_count": 54,
   "metadata": {},
   "outputs": [],
   "source": [
    "defeitos_por_dia_contado = df_sazonalidade.groupby('Dia Contado')[['Total de Defeitos no Dia']].mean().reset_index()\n",
    "defeitos_por_dia_contado.columns = ['Dia Contado', 'Média de Defeitos']"
   ]
  },
  {
   "cell_type": "markdown",
   "metadata": {},
   "source": [
    "Visualização"
   ]
  },
  {
   "cell_type": "code",
   "execution_count": 55,
   "metadata": {},
   "outputs": [
    {
     "data": {
      "application/vnd.plotly.v1+json": {
       "config": {
        "plotlyServerURL": "https://plot.ly"
       },
       "data": [
        {
         "line": {
          "color": "red"
         },
         "marker": {
          "size": 10
         },
         "mode": "lines+markers",
         "name": "Média de Defeitos",
         "type": "scatter",
         "x": [
          1,
          2,
          3,
          4,
          5,
          6,
          7,
          8,
          9,
          10,
          11,
          12,
          13,
          14,
          15,
          16,
          17,
          18,
          19,
          20
         ],
         "y": [
          218.9142857142857,
          240.77142857142857,
          210.8181818181818,
          216.52380952380952,
          211.1764705882353,
          209.46153846153845,
          183.91666666666666,
          197,
          210.16666666666666,
          188.8,
          226.25,
          188,
          161,
          162,
          135,
          184,
          189,
          156,
          177,
          143
         ]
        }
       ],
       "layout": {
        "template": {
         "data": {
          "bar": [
           {
            "error_x": {
             "color": "#2a3f5f"
            },
            "error_y": {
             "color": "#2a3f5f"
            },
            "marker": {
             "line": {
              "color": "#E5ECF6",
              "width": 0.5
             },
             "pattern": {
              "fillmode": "overlay",
              "size": 10,
              "solidity": 0.2
             }
            },
            "type": "bar"
           }
          ],
          "barpolar": [
           {
            "marker": {
             "line": {
              "color": "#E5ECF6",
              "width": 0.5
             },
             "pattern": {
              "fillmode": "overlay",
              "size": 10,
              "solidity": 0.2
             }
            },
            "type": "barpolar"
           }
          ],
          "carpet": [
           {
            "aaxis": {
             "endlinecolor": "#2a3f5f",
             "gridcolor": "white",
             "linecolor": "white",
             "minorgridcolor": "white",
             "startlinecolor": "#2a3f5f"
            },
            "baxis": {
             "endlinecolor": "#2a3f5f",
             "gridcolor": "white",
             "linecolor": "white",
             "minorgridcolor": "white",
             "startlinecolor": "#2a3f5f"
            },
            "type": "carpet"
           }
          ],
          "choropleth": [
           {
            "colorbar": {
             "outlinewidth": 0,
             "ticks": ""
            },
            "type": "choropleth"
           }
          ],
          "contour": [
           {
            "colorbar": {
             "outlinewidth": 0,
             "ticks": ""
            },
            "colorscale": [
             [
              0,
              "#0d0887"
             ],
             [
              0.1111111111111111,
              "#46039f"
             ],
             [
              0.2222222222222222,
              "#7201a8"
             ],
             [
              0.3333333333333333,
              "#9c179e"
             ],
             [
              0.4444444444444444,
              "#bd3786"
             ],
             [
              0.5555555555555556,
              "#d8576b"
             ],
             [
              0.6666666666666666,
              "#ed7953"
             ],
             [
              0.7777777777777778,
              "#fb9f3a"
             ],
             [
              0.8888888888888888,
              "#fdca26"
             ],
             [
              1,
              "#f0f921"
             ]
            ],
            "type": "contour"
           }
          ],
          "contourcarpet": [
           {
            "colorbar": {
             "outlinewidth": 0,
             "ticks": ""
            },
            "type": "contourcarpet"
           }
          ],
          "heatmap": [
           {
            "colorbar": {
             "outlinewidth": 0,
             "ticks": ""
            },
            "colorscale": [
             [
              0,
              "#0d0887"
             ],
             [
              0.1111111111111111,
              "#46039f"
             ],
             [
              0.2222222222222222,
              "#7201a8"
             ],
             [
              0.3333333333333333,
              "#9c179e"
             ],
             [
              0.4444444444444444,
              "#bd3786"
             ],
             [
              0.5555555555555556,
              "#d8576b"
             ],
             [
              0.6666666666666666,
              "#ed7953"
             ],
             [
              0.7777777777777778,
              "#fb9f3a"
             ],
             [
              0.8888888888888888,
              "#fdca26"
             ],
             [
              1,
              "#f0f921"
             ]
            ],
            "type": "heatmap"
           }
          ],
          "heatmapgl": [
           {
            "colorbar": {
             "outlinewidth": 0,
             "ticks": ""
            },
            "colorscale": [
             [
              0,
              "#0d0887"
             ],
             [
              0.1111111111111111,
              "#46039f"
             ],
             [
              0.2222222222222222,
              "#7201a8"
             ],
             [
              0.3333333333333333,
              "#9c179e"
             ],
             [
              0.4444444444444444,
              "#bd3786"
             ],
             [
              0.5555555555555556,
              "#d8576b"
             ],
             [
              0.6666666666666666,
              "#ed7953"
             ],
             [
              0.7777777777777778,
              "#fb9f3a"
             ],
             [
              0.8888888888888888,
              "#fdca26"
             ],
             [
              1,
              "#f0f921"
             ]
            ],
            "type": "heatmapgl"
           }
          ],
          "histogram": [
           {
            "marker": {
             "pattern": {
              "fillmode": "overlay",
              "size": 10,
              "solidity": 0.2
             }
            },
            "type": "histogram"
           }
          ],
          "histogram2d": [
           {
            "colorbar": {
             "outlinewidth": 0,
             "ticks": ""
            },
            "colorscale": [
             [
              0,
              "#0d0887"
             ],
             [
              0.1111111111111111,
              "#46039f"
             ],
             [
              0.2222222222222222,
              "#7201a8"
             ],
             [
              0.3333333333333333,
              "#9c179e"
             ],
             [
              0.4444444444444444,
              "#bd3786"
             ],
             [
              0.5555555555555556,
              "#d8576b"
             ],
             [
              0.6666666666666666,
              "#ed7953"
             ],
             [
              0.7777777777777778,
              "#fb9f3a"
             ],
             [
              0.8888888888888888,
              "#fdca26"
             ],
             [
              1,
              "#f0f921"
             ]
            ],
            "type": "histogram2d"
           }
          ],
          "histogram2dcontour": [
           {
            "colorbar": {
             "outlinewidth": 0,
             "ticks": ""
            },
            "colorscale": [
             [
              0,
              "#0d0887"
             ],
             [
              0.1111111111111111,
              "#46039f"
             ],
             [
              0.2222222222222222,
              "#7201a8"
             ],
             [
              0.3333333333333333,
              "#9c179e"
             ],
             [
              0.4444444444444444,
              "#bd3786"
             ],
             [
              0.5555555555555556,
              "#d8576b"
             ],
             [
              0.6666666666666666,
              "#ed7953"
             ],
             [
              0.7777777777777778,
              "#fb9f3a"
             ],
             [
              0.8888888888888888,
              "#fdca26"
             ],
             [
              1,
              "#f0f921"
             ]
            ],
            "type": "histogram2dcontour"
           }
          ],
          "mesh3d": [
           {
            "colorbar": {
             "outlinewidth": 0,
             "ticks": ""
            },
            "type": "mesh3d"
           }
          ],
          "parcoords": [
           {
            "line": {
             "colorbar": {
              "outlinewidth": 0,
              "ticks": ""
             }
            },
            "type": "parcoords"
           }
          ],
          "pie": [
           {
            "automargin": true,
            "type": "pie"
           }
          ],
          "scatter": [
           {
            "fillpattern": {
             "fillmode": "overlay",
             "size": 10,
             "solidity": 0.2
            },
            "type": "scatter"
           }
          ],
          "scatter3d": [
           {
            "line": {
             "colorbar": {
              "outlinewidth": 0,
              "ticks": ""
             }
            },
            "marker": {
             "colorbar": {
              "outlinewidth": 0,
              "ticks": ""
             }
            },
            "type": "scatter3d"
           }
          ],
          "scattercarpet": [
           {
            "marker": {
             "colorbar": {
              "outlinewidth": 0,
              "ticks": ""
             }
            },
            "type": "scattercarpet"
           }
          ],
          "scattergeo": [
           {
            "marker": {
             "colorbar": {
              "outlinewidth": 0,
              "ticks": ""
             }
            },
            "type": "scattergeo"
           }
          ],
          "scattergl": [
           {
            "marker": {
             "colorbar": {
              "outlinewidth": 0,
              "ticks": ""
             }
            },
            "type": "scattergl"
           }
          ],
          "scattermapbox": [
           {
            "marker": {
             "colorbar": {
              "outlinewidth": 0,
              "ticks": ""
             }
            },
            "type": "scattermapbox"
           }
          ],
          "scatterpolar": [
           {
            "marker": {
             "colorbar": {
              "outlinewidth": 0,
              "ticks": ""
             }
            },
            "type": "scatterpolar"
           }
          ],
          "scatterpolargl": [
           {
            "marker": {
             "colorbar": {
              "outlinewidth": 0,
              "ticks": ""
             }
            },
            "type": "scatterpolargl"
           }
          ],
          "scatterternary": [
           {
            "marker": {
             "colorbar": {
              "outlinewidth": 0,
              "ticks": ""
             }
            },
            "type": "scatterternary"
           }
          ],
          "surface": [
           {
            "colorbar": {
             "outlinewidth": 0,
             "ticks": ""
            },
            "colorscale": [
             [
              0,
              "#0d0887"
             ],
             [
              0.1111111111111111,
              "#46039f"
             ],
             [
              0.2222222222222222,
              "#7201a8"
             ],
             [
              0.3333333333333333,
              "#9c179e"
             ],
             [
              0.4444444444444444,
              "#bd3786"
             ],
             [
              0.5555555555555556,
              "#d8576b"
             ],
             [
              0.6666666666666666,
              "#ed7953"
             ],
             [
              0.7777777777777778,
              "#fb9f3a"
             ],
             [
              0.8888888888888888,
              "#fdca26"
             ],
             [
              1,
              "#f0f921"
             ]
            ],
            "type": "surface"
           }
          ],
          "table": [
           {
            "cells": {
             "fill": {
              "color": "#EBF0F8"
             },
             "line": {
              "color": "white"
             }
            },
            "header": {
             "fill": {
              "color": "#C8D4E3"
             },
             "line": {
              "color": "white"
             }
            },
            "type": "table"
           }
          ]
         },
         "layout": {
          "annotationdefaults": {
           "arrowcolor": "#2a3f5f",
           "arrowhead": 0,
           "arrowwidth": 1
          },
          "autotypenumbers": "strict",
          "coloraxis": {
           "colorbar": {
            "outlinewidth": 0,
            "ticks": ""
           }
          },
          "colorscale": {
           "diverging": [
            [
             0,
             "#8e0152"
            ],
            [
             0.1,
             "#c51b7d"
            ],
            [
             0.2,
             "#de77ae"
            ],
            [
             0.3,
             "#f1b6da"
            ],
            [
             0.4,
             "#fde0ef"
            ],
            [
             0.5,
             "#f7f7f7"
            ],
            [
             0.6,
             "#e6f5d0"
            ],
            [
             0.7,
             "#b8e186"
            ],
            [
             0.8,
             "#7fbc41"
            ],
            [
             0.9,
             "#4d9221"
            ],
            [
             1,
             "#276419"
            ]
           ],
           "sequential": [
            [
             0,
             "#0d0887"
            ],
            [
             0.1111111111111111,
             "#46039f"
            ],
            [
             0.2222222222222222,
             "#7201a8"
            ],
            [
             0.3333333333333333,
             "#9c179e"
            ],
            [
             0.4444444444444444,
             "#bd3786"
            ],
            [
             0.5555555555555556,
             "#d8576b"
            ],
            [
             0.6666666666666666,
             "#ed7953"
            ],
            [
             0.7777777777777778,
             "#fb9f3a"
            ],
            [
             0.8888888888888888,
             "#fdca26"
            ],
            [
             1,
             "#f0f921"
            ]
           ],
           "sequentialminus": [
            [
             0,
             "#0d0887"
            ],
            [
             0.1111111111111111,
             "#46039f"
            ],
            [
             0.2222222222222222,
             "#7201a8"
            ],
            [
             0.3333333333333333,
             "#9c179e"
            ],
            [
             0.4444444444444444,
             "#bd3786"
            ],
            [
             0.5555555555555556,
             "#d8576b"
            ],
            [
             0.6666666666666666,
             "#ed7953"
            ],
            [
             0.7777777777777778,
             "#fb9f3a"
            ],
            [
             0.8888888888888888,
             "#fdca26"
            ],
            [
             1,
             "#f0f921"
            ]
           ]
          },
          "colorway": [
           "#636efa",
           "#EF553B",
           "#00cc96",
           "#ab63fa",
           "#FFA15A",
           "#19d3f3",
           "#FF6692",
           "#B6E880",
           "#FF97FF",
           "#FECB52"
          ],
          "font": {
           "color": "#2a3f5f"
          },
          "geo": {
           "bgcolor": "white",
           "lakecolor": "white",
           "landcolor": "#E5ECF6",
           "showlakes": true,
           "showland": true,
           "subunitcolor": "white"
          },
          "hoverlabel": {
           "align": "left"
          },
          "hovermode": "closest",
          "mapbox": {
           "style": "light"
          },
          "paper_bgcolor": "white",
          "plot_bgcolor": "#E5ECF6",
          "polar": {
           "angularaxis": {
            "gridcolor": "white",
            "linecolor": "white",
            "ticks": ""
           },
           "bgcolor": "#E5ECF6",
           "radialaxis": {
            "gridcolor": "white",
            "linecolor": "white",
            "ticks": ""
           }
          },
          "scene": {
           "xaxis": {
            "backgroundcolor": "#E5ECF6",
            "gridcolor": "white",
            "gridwidth": 2,
            "linecolor": "white",
            "showbackground": true,
            "ticks": "",
            "zerolinecolor": "white"
           },
           "yaxis": {
            "backgroundcolor": "#E5ECF6",
            "gridcolor": "white",
            "gridwidth": 2,
            "linecolor": "white",
            "showbackground": true,
            "ticks": "",
            "zerolinecolor": "white"
           },
           "zaxis": {
            "backgroundcolor": "#E5ECF6",
            "gridcolor": "white",
            "gridwidth": 2,
            "linecolor": "white",
            "showbackground": true,
            "ticks": "",
            "zerolinecolor": "white"
           }
          },
          "shapedefaults": {
           "line": {
            "color": "#2a3f5f"
           }
          },
          "ternary": {
           "aaxis": {
            "gridcolor": "white",
            "linecolor": "white",
            "ticks": ""
           },
           "baxis": {
            "gridcolor": "white",
            "linecolor": "white",
            "ticks": ""
           },
           "bgcolor": "#E5ECF6",
           "caxis": {
            "gridcolor": "white",
            "linecolor": "white",
            "ticks": ""
           }
          },
          "title": {
           "x": 0.05
          },
          "xaxis": {
           "automargin": true,
           "gridcolor": "white",
           "linecolor": "white",
           "ticks": "",
           "title": {
            "standoff": 15
           },
           "zerolinecolor": "white",
           "zerolinewidth": 2
          },
          "yaxis": {
           "automargin": true,
           "gridcolor": "white",
           "linecolor": "white",
           "ticks": "",
           "title": {
            "standoff": 15
           },
           "zerolinecolor": "white",
           "zerolinewidth": 2
          }
         }
        },
        "title": {
         "font": {
          "size": 16
         },
         "text": "Média de Defeitos por Dia Contado"
        },
        "xaxis": {
         "title": {
          "font": {
           "size": 14
          },
          "text": "Dia Contado"
         }
        },
        "yaxis": {
         "title": {
          "font": {
           "size": 14
          },
          "text": "Média de Defeitos"
         }
        }
       }
      }
     },
     "metadata": {},
     "output_type": "display_data"
    }
   ],
   "source": [
    "fig = go.Figure()\n",
    "\n",
    "fig.add_trace(go.Scatter(x=defeitos_por_dia_contado['Dia Contado'],\n",
    "                         y=defeitos_por_dia_contado['Média de Defeitos'],\n",
    "                         mode='lines+markers', \n",
    "                         marker=dict(size=10),\n",
    "                         line=dict(color='red'),\n",
    "                         name='Média de Defeitos'))\n",
    "\n",
    "fig.update_layout(\n",
    "    title='Média de Defeitos por Dia Contado',\n",
    "    title_font_size=16,\n",
    "    xaxis_title='Dia Contado',\n",
    "    xaxis_title_font_size=14,\n",
    "    yaxis_title='Média de Defeitos',\n",
    "    yaxis_title_font_size=14\n",
    ")\n",
    "\n",
    "fig.show()"
   ]
  },
  {
   "cell_type": "markdown",
   "metadata": {},
   "source": [
    "## Implementação do Modelo de Regressão"
   ]
  },
  {
   "cell_type": "markdown",
   "metadata": {},
   "source": [
    "### Resetando index"
   ]
  },
  {
   "cell_type": "code",
   "execution_count": 56,
   "metadata": {},
   "outputs": [],
   "source": [
    "df_total_duracao_reset = defeitos_por_duracao.reset_index()"
   ]
  },
  {
   "cell_type": "code",
   "execution_count": 57,
   "metadata": {},
   "outputs": [
    {
     "data": {
      "text/html": [
       "<div>\n",
       "<style scoped>\n",
       "    .dataframe tbody tr th:only-of-type {\n",
       "        vertical-align: middle;\n",
       "    }\n",
       "\n",
       "    .dataframe tbody tr th {\n",
       "        vertical-align: top;\n",
       "    }\n",
       "\n",
       "    .dataframe thead th {\n",
       "        text-align: right;\n",
       "    }\n",
       "</style>\n",
       "<table border=\"1\" class=\"dataframe\">\n",
       "  <thead>\n",
       "    <tr style=\"text-align: right;\">\n",
       "      <th></th>\n",
       "      <th>Ordem de prod</th>\n",
       "      <th>Total de Defeitos por Ordem</th>\n",
       "      <th>Dias de Duração</th>\n",
       "    </tr>\n",
       "  </thead>\n",
       "  <tbody>\n",
       "    <tr>\n",
       "      <th>0</th>\n",
       "      <td>192970</td>\n",
       "      <td>2148</td>\n",
       "      <td>9</td>\n",
       "    </tr>\n",
       "    <tr>\n",
       "      <th>1</th>\n",
       "      <td>193112</td>\n",
       "      <td>584</td>\n",
       "      <td>3</td>\n",
       "    </tr>\n",
       "    <tr>\n",
       "      <th>2</th>\n",
       "      <td>193164</td>\n",
       "      <td>2661</td>\n",
       "      <td>12</td>\n",
       "    </tr>\n",
       "    <tr>\n",
       "      <th>3</th>\n",
       "      <td>193206</td>\n",
       "      <td>1041</td>\n",
       "      <td>4</td>\n",
       "    </tr>\n",
       "    <tr>\n",
       "      <th>4</th>\n",
       "      <td>193207</td>\n",
       "      <td>2130</td>\n",
       "      <td>10</td>\n",
       "    </tr>\n",
       "  </tbody>\n",
       "</table>\n",
       "</div>"
      ],
      "text/plain": [
       "   Ordem de prod  Total de Defeitos por Ordem  Dias de Duração\n",
       "0         192970                         2148                9\n",
       "1         193112                          584                3\n",
       "2         193164                         2661               12\n",
       "3         193206                         1041                4\n",
       "4         193207                         2130               10"
      ]
     },
     "execution_count": 57,
     "metadata": {},
     "output_type": "execute_result"
    }
   ],
   "source": [
    "df_total_duracao_reset.head()"
   ]
  },
  {
   "cell_type": "markdown",
   "metadata": {},
   "source": [
    "### Passo 1: Preparar os dados para o total de defeitos e a duração da ordem"
   ]
  },
  {
   "cell_type": "code",
   "execution_count": 58,
   "metadata": {},
   "outputs": [],
   "source": [
    "df_combined = df_reset.merge(df_total_duracao_reset[['Ordem de prod', 'Total de Defeitos por Ordem', 'Dias de Duração']], on='Ordem de prod', how='left')"
   ]
  },
  {
   "cell_type": "markdown",
   "metadata": {},
   "source": [
    "### Passo 2: Separar variáveis independentes (medidas e duração) e dependente (total de defeitos)"
   ]
  },
  {
   "cell_type": "code",
   "execution_count": 59,
   "metadata": {},
   "outputs": [],
   "source": [
    "X = df_combined[['Peso médio (g)', 'Comprimento médio (mm)', 'Diâmetro', 'Dias de Duração']]\n",
    "y = df_combined['Total de Defeitos por Ordem']"
   ]
  },
  {
   "cell_type": "markdown",
   "metadata": {},
   "source": [
    "### Passo 3: Dividir os dados em treino e teste"
   ]
  },
  {
   "cell_type": "code",
   "execution_count": 60,
   "metadata": {},
   "outputs": [],
   "source": [
    "X_train, X_test, y_train, y_test = train_test_split(X, y, test_size=0.2, random_state=42)"
   ]
  },
  {
   "cell_type": "markdown",
   "metadata": {},
   "source": [
    "### Passo 4: Normalizar os dados"
   ]
  },
  {
   "cell_type": "code",
   "execution_count": 61,
   "metadata": {},
   "outputs": [],
   "source": [
    "scaler = StandardScaler()\n",
    "X_train_scaled = scaler.fit_transform(X_train)\n",
    "X_test_scaled = scaler.transform(X_test)"
   ]
  },
  {
   "cell_type": "markdown",
   "metadata": {},
   "source": [
    "### Passo 5: Treinar o modelo para prever o total de defeitos"
   ]
  },
  {
   "cell_type": "code",
   "execution_count": 62,
   "metadata": {},
   "outputs": [
    {
     "data": {
      "text/html": [
       "<style>#sk-container-id-1 {\n",
       "  /* Definition of color scheme common for light and dark mode */\n",
       "  --sklearn-color-text: black;\n",
       "  --sklearn-color-line: gray;\n",
       "  /* Definition of color scheme for unfitted estimators */\n",
       "  --sklearn-color-unfitted-level-0: #fff5e6;\n",
       "  --sklearn-color-unfitted-level-1: #f6e4d2;\n",
       "  --sklearn-color-unfitted-level-2: #ffe0b3;\n",
       "  --sklearn-color-unfitted-level-3: chocolate;\n",
       "  /* Definition of color scheme for fitted estimators */\n",
       "  --sklearn-color-fitted-level-0: #f0f8ff;\n",
       "  --sklearn-color-fitted-level-1: #d4ebff;\n",
       "  --sklearn-color-fitted-level-2: #b3dbfd;\n",
       "  --sklearn-color-fitted-level-3: cornflowerblue;\n",
       "\n",
       "  /* Specific color for light theme */\n",
       "  --sklearn-color-text-on-default-background: var(--sg-text-color, var(--theme-code-foreground, var(--jp-content-font-color1, black)));\n",
       "  --sklearn-color-background: var(--sg-background-color, var(--theme-background, var(--jp-layout-color0, white)));\n",
       "  --sklearn-color-border-box: var(--sg-text-color, var(--theme-code-foreground, var(--jp-content-font-color1, black)));\n",
       "  --sklearn-color-icon: #696969;\n",
       "\n",
       "  @media (prefers-color-scheme: dark) {\n",
       "    /* Redefinition of color scheme for dark theme */\n",
       "    --sklearn-color-text-on-default-background: var(--sg-text-color, var(--theme-code-foreground, var(--jp-content-font-color1, white)));\n",
       "    --sklearn-color-background: var(--sg-background-color, var(--theme-background, var(--jp-layout-color0, #111)));\n",
       "    --sklearn-color-border-box: var(--sg-text-color, var(--theme-code-foreground, var(--jp-content-font-color1, white)));\n",
       "    --sklearn-color-icon: #878787;\n",
       "  }\n",
       "}\n",
       "\n",
       "#sk-container-id-1 {\n",
       "  color: var(--sklearn-color-text);\n",
       "}\n",
       "\n",
       "#sk-container-id-1 pre {\n",
       "  padding: 0;\n",
       "}\n",
       "\n",
       "#sk-container-id-1 input.sk-hidden--visually {\n",
       "  border: 0;\n",
       "  clip: rect(1px 1px 1px 1px);\n",
       "  clip: rect(1px, 1px, 1px, 1px);\n",
       "  height: 1px;\n",
       "  margin: -1px;\n",
       "  overflow: hidden;\n",
       "  padding: 0;\n",
       "  position: absolute;\n",
       "  width: 1px;\n",
       "}\n",
       "\n",
       "#sk-container-id-1 div.sk-dashed-wrapped {\n",
       "  border: 1px dashed var(--sklearn-color-line);\n",
       "  margin: 0 0.4em 0.5em 0.4em;\n",
       "  box-sizing: border-box;\n",
       "  padding-bottom: 0.4em;\n",
       "  background-color: var(--sklearn-color-background);\n",
       "}\n",
       "\n",
       "#sk-container-id-1 div.sk-container {\n",
       "  /* jupyter's `normalize.less` sets `[hidden] { display: none; }`\n",
       "     but bootstrap.min.css set `[hidden] { display: none !important; }`\n",
       "     so we also need the `!important` here to be able to override the\n",
       "     default hidden behavior on the sphinx rendered scikit-learn.org.\n",
       "     See: https://github.com/scikit-learn/scikit-learn/issues/21755 */\n",
       "  display: inline-block !important;\n",
       "  position: relative;\n",
       "}\n",
       "\n",
       "#sk-container-id-1 div.sk-text-repr-fallback {\n",
       "  display: none;\n",
       "}\n",
       "\n",
       "div.sk-parallel-item,\n",
       "div.sk-serial,\n",
       "div.sk-item {\n",
       "  /* draw centered vertical line to link estimators */\n",
       "  background-image: linear-gradient(var(--sklearn-color-text-on-default-background), var(--sklearn-color-text-on-default-background));\n",
       "  background-size: 2px 100%;\n",
       "  background-repeat: no-repeat;\n",
       "  background-position: center center;\n",
       "}\n",
       "\n",
       "/* Parallel-specific style estimator block */\n",
       "\n",
       "#sk-container-id-1 div.sk-parallel-item::after {\n",
       "  content: \"\";\n",
       "  width: 100%;\n",
       "  border-bottom: 2px solid var(--sklearn-color-text-on-default-background);\n",
       "  flex-grow: 1;\n",
       "}\n",
       "\n",
       "#sk-container-id-1 div.sk-parallel {\n",
       "  display: flex;\n",
       "  align-items: stretch;\n",
       "  justify-content: center;\n",
       "  background-color: var(--sklearn-color-background);\n",
       "  position: relative;\n",
       "}\n",
       "\n",
       "#sk-container-id-1 div.sk-parallel-item {\n",
       "  display: flex;\n",
       "  flex-direction: column;\n",
       "}\n",
       "\n",
       "#sk-container-id-1 div.sk-parallel-item:first-child::after {\n",
       "  align-self: flex-end;\n",
       "  width: 50%;\n",
       "}\n",
       "\n",
       "#sk-container-id-1 div.sk-parallel-item:last-child::after {\n",
       "  align-self: flex-start;\n",
       "  width: 50%;\n",
       "}\n",
       "\n",
       "#sk-container-id-1 div.sk-parallel-item:only-child::after {\n",
       "  width: 0;\n",
       "}\n",
       "\n",
       "/* Serial-specific style estimator block */\n",
       "\n",
       "#sk-container-id-1 div.sk-serial {\n",
       "  display: flex;\n",
       "  flex-direction: column;\n",
       "  align-items: center;\n",
       "  background-color: var(--sklearn-color-background);\n",
       "  padding-right: 1em;\n",
       "  padding-left: 1em;\n",
       "}\n",
       "\n",
       "\n",
       "/* Toggleable style: style used for estimator/Pipeline/ColumnTransformer box that is\n",
       "clickable and can be expanded/collapsed.\n",
       "- Pipeline and ColumnTransformer use this feature and define the default style\n",
       "- Estimators will overwrite some part of the style using the `sk-estimator` class\n",
       "*/\n",
       "\n",
       "/* Pipeline and ColumnTransformer style (default) */\n",
       "\n",
       "#sk-container-id-1 div.sk-toggleable {\n",
       "  /* Default theme specific background. It is overwritten whether we have a\n",
       "  specific estimator or a Pipeline/ColumnTransformer */\n",
       "  background-color: var(--sklearn-color-background);\n",
       "}\n",
       "\n",
       "/* Toggleable label */\n",
       "#sk-container-id-1 label.sk-toggleable__label {\n",
       "  cursor: pointer;\n",
       "  display: block;\n",
       "  width: 100%;\n",
       "  margin-bottom: 0;\n",
       "  padding: 0.5em;\n",
       "  box-sizing: border-box;\n",
       "  text-align: center;\n",
       "}\n",
       "\n",
       "#sk-container-id-1 label.sk-toggleable__label-arrow:before {\n",
       "  /* Arrow on the left of the label */\n",
       "  content: \"▸\";\n",
       "  float: left;\n",
       "  margin-right: 0.25em;\n",
       "  color: var(--sklearn-color-icon);\n",
       "}\n",
       "\n",
       "#sk-container-id-1 label.sk-toggleable__label-arrow:hover:before {\n",
       "  color: var(--sklearn-color-text);\n",
       "}\n",
       "\n",
       "/* Toggleable content - dropdown */\n",
       "\n",
       "#sk-container-id-1 div.sk-toggleable__content {\n",
       "  max-height: 0;\n",
       "  max-width: 0;\n",
       "  overflow: hidden;\n",
       "  text-align: left;\n",
       "  /* unfitted */\n",
       "  background-color: var(--sklearn-color-unfitted-level-0);\n",
       "}\n",
       "\n",
       "#sk-container-id-1 div.sk-toggleable__content.fitted {\n",
       "  /* fitted */\n",
       "  background-color: var(--sklearn-color-fitted-level-0);\n",
       "}\n",
       "\n",
       "#sk-container-id-1 div.sk-toggleable__content pre {\n",
       "  margin: 0.2em;\n",
       "  border-radius: 0.25em;\n",
       "  color: var(--sklearn-color-text);\n",
       "  /* unfitted */\n",
       "  background-color: var(--sklearn-color-unfitted-level-0);\n",
       "}\n",
       "\n",
       "#sk-container-id-1 div.sk-toggleable__content.fitted pre {\n",
       "  /* unfitted */\n",
       "  background-color: var(--sklearn-color-fitted-level-0);\n",
       "}\n",
       "\n",
       "#sk-container-id-1 input.sk-toggleable__control:checked~div.sk-toggleable__content {\n",
       "  /* Expand drop-down */\n",
       "  max-height: 200px;\n",
       "  max-width: 100%;\n",
       "  overflow: auto;\n",
       "}\n",
       "\n",
       "#sk-container-id-1 input.sk-toggleable__control:checked~label.sk-toggleable__label-arrow:before {\n",
       "  content: \"▾\";\n",
       "}\n",
       "\n",
       "/* Pipeline/ColumnTransformer-specific style */\n",
       "\n",
       "#sk-container-id-1 div.sk-label input.sk-toggleable__control:checked~label.sk-toggleable__label {\n",
       "  color: var(--sklearn-color-text);\n",
       "  background-color: var(--sklearn-color-unfitted-level-2);\n",
       "}\n",
       "\n",
       "#sk-container-id-1 div.sk-label.fitted input.sk-toggleable__control:checked~label.sk-toggleable__label {\n",
       "  background-color: var(--sklearn-color-fitted-level-2);\n",
       "}\n",
       "\n",
       "/* Estimator-specific style */\n",
       "\n",
       "/* Colorize estimator box */\n",
       "#sk-container-id-1 div.sk-estimator input.sk-toggleable__control:checked~label.sk-toggleable__label {\n",
       "  /* unfitted */\n",
       "  background-color: var(--sklearn-color-unfitted-level-2);\n",
       "}\n",
       "\n",
       "#sk-container-id-1 div.sk-estimator.fitted input.sk-toggleable__control:checked~label.sk-toggleable__label {\n",
       "  /* fitted */\n",
       "  background-color: var(--sklearn-color-fitted-level-2);\n",
       "}\n",
       "\n",
       "#sk-container-id-1 div.sk-label label.sk-toggleable__label,\n",
       "#sk-container-id-1 div.sk-label label {\n",
       "  /* The background is the default theme color */\n",
       "  color: var(--sklearn-color-text-on-default-background);\n",
       "}\n",
       "\n",
       "/* On hover, darken the color of the background */\n",
       "#sk-container-id-1 div.sk-label:hover label.sk-toggleable__label {\n",
       "  color: var(--sklearn-color-text);\n",
       "  background-color: var(--sklearn-color-unfitted-level-2);\n",
       "}\n",
       "\n",
       "/* Label box, darken color on hover, fitted */\n",
       "#sk-container-id-1 div.sk-label.fitted:hover label.sk-toggleable__label.fitted {\n",
       "  color: var(--sklearn-color-text);\n",
       "  background-color: var(--sklearn-color-fitted-level-2);\n",
       "}\n",
       "\n",
       "/* Estimator label */\n",
       "\n",
       "#sk-container-id-1 div.sk-label label {\n",
       "  font-family: monospace;\n",
       "  font-weight: bold;\n",
       "  display: inline-block;\n",
       "  line-height: 1.2em;\n",
       "}\n",
       "\n",
       "#sk-container-id-1 div.sk-label-container {\n",
       "  text-align: center;\n",
       "}\n",
       "\n",
       "/* Estimator-specific */\n",
       "#sk-container-id-1 div.sk-estimator {\n",
       "  font-family: monospace;\n",
       "  border: 1px dotted var(--sklearn-color-border-box);\n",
       "  border-radius: 0.25em;\n",
       "  box-sizing: border-box;\n",
       "  margin-bottom: 0.5em;\n",
       "  /* unfitted */\n",
       "  background-color: var(--sklearn-color-unfitted-level-0);\n",
       "}\n",
       "\n",
       "#sk-container-id-1 div.sk-estimator.fitted {\n",
       "  /* fitted */\n",
       "  background-color: var(--sklearn-color-fitted-level-0);\n",
       "}\n",
       "\n",
       "/* on hover */\n",
       "#sk-container-id-1 div.sk-estimator:hover {\n",
       "  /* unfitted */\n",
       "  background-color: var(--sklearn-color-unfitted-level-2);\n",
       "}\n",
       "\n",
       "#sk-container-id-1 div.sk-estimator.fitted:hover {\n",
       "  /* fitted */\n",
       "  background-color: var(--sklearn-color-fitted-level-2);\n",
       "}\n",
       "\n",
       "/* Specification for estimator info (e.g. \"i\" and \"?\") */\n",
       "\n",
       "/* Common style for \"i\" and \"?\" */\n",
       "\n",
       ".sk-estimator-doc-link,\n",
       "a:link.sk-estimator-doc-link,\n",
       "a:visited.sk-estimator-doc-link {\n",
       "  float: right;\n",
       "  font-size: smaller;\n",
       "  line-height: 1em;\n",
       "  font-family: monospace;\n",
       "  background-color: var(--sklearn-color-background);\n",
       "  border-radius: 1em;\n",
       "  height: 1em;\n",
       "  width: 1em;\n",
       "  text-decoration: none !important;\n",
       "  margin-left: 1ex;\n",
       "  /* unfitted */\n",
       "  border: var(--sklearn-color-unfitted-level-1) 1pt solid;\n",
       "  color: var(--sklearn-color-unfitted-level-1);\n",
       "}\n",
       "\n",
       ".sk-estimator-doc-link.fitted,\n",
       "a:link.sk-estimator-doc-link.fitted,\n",
       "a:visited.sk-estimator-doc-link.fitted {\n",
       "  /* fitted */\n",
       "  border: var(--sklearn-color-fitted-level-1) 1pt solid;\n",
       "  color: var(--sklearn-color-fitted-level-1);\n",
       "}\n",
       "\n",
       "/* On hover */\n",
       "div.sk-estimator:hover .sk-estimator-doc-link:hover,\n",
       ".sk-estimator-doc-link:hover,\n",
       "div.sk-label-container:hover .sk-estimator-doc-link:hover,\n",
       ".sk-estimator-doc-link:hover {\n",
       "  /* unfitted */\n",
       "  background-color: var(--sklearn-color-unfitted-level-3);\n",
       "  color: var(--sklearn-color-background);\n",
       "  text-decoration: none;\n",
       "}\n",
       "\n",
       "div.sk-estimator.fitted:hover .sk-estimator-doc-link.fitted:hover,\n",
       ".sk-estimator-doc-link.fitted:hover,\n",
       "div.sk-label-container:hover .sk-estimator-doc-link.fitted:hover,\n",
       ".sk-estimator-doc-link.fitted:hover {\n",
       "  /* fitted */\n",
       "  background-color: var(--sklearn-color-fitted-level-3);\n",
       "  color: var(--sklearn-color-background);\n",
       "  text-decoration: none;\n",
       "}\n",
       "\n",
       "/* Span, style for the box shown on hovering the info icon */\n",
       ".sk-estimator-doc-link span {\n",
       "  display: none;\n",
       "  z-index: 9999;\n",
       "  position: relative;\n",
       "  font-weight: normal;\n",
       "  right: .2ex;\n",
       "  padding: .5ex;\n",
       "  margin: .5ex;\n",
       "  width: min-content;\n",
       "  min-width: 20ex;\n",
       "  max-width: 50ex;\n",
       "  color: var(--sklearn-color-text);\n",
       "  box-shadow: 2pt 2pt 4pt #999;\n",
       "  /* unfitted */\n",
       "  background: var(--sklearn-color-unfitted-level-0);\n",
       "  border: .5pt solid var(--sklearn-color-unfitted-level-3);\n",
       "}\n",
       "\n",
       ".sk-estimator-doc-link.fitted span {\n",
       "  /* fitted */\n",
       "  background: var(--sklearn-color-fitted-level-0);\n",
       "  border: var(--sklearn-color-fitted-level-3);\n",
       "}\n",
       "\n",
       ".sk-estimator-doc-link:hover span {\n",
       "  display: block;\n",
       "}\n",
       "\n",
       "/* \"?\"-specific style due to the `<a>` HTML tag */\n",
       "\n",
       "#sk-container-id-1 a.estimator_doc_link {\n",
       "  float: right;\n",
       "  font-size: 1rem;\n",
       "  line-height: 1em;\n",
       "  font-family: monospace;\n",
       "  background-color: var(--sklearn-color-background);\n",
       "  border-radius: 1rem;\n",
       "  height: 1rem;\n",
       "  width: 1rem;\n",
       "  text-decoration: none;\n",
       "  /* unfitted */\n",
       "  color: var(--sklearn-color-unfitted-level-1);\n",
       "  border: var(--sklearn-color-unfitted-level-1) 1pt solid;\n",
       "}\n",
       "\n",
       "#sk-container-id-1 a.estimator_doc_link.fitted {\n",
       "  /* fitted */\n",
       "  border: var(--sklearn-color-fitted-level-1) 1pt solid;\n",
       "  color: var(--sklearn-color-fitted-level-1);\n",
       "}\n",
       "\n",
       "/* On hover */\n",
       "#sk-container-id-1 a.estimator_doc_link:hover {\n",
       "  /* unfitted */\n",
       "  background-color: var(--sklearn-color-unfitted-level-3);\n",
       "  color: var(--sklearn-color-background);\n",
       "  text-decoration: none;\n",
       "}\n",
       "\n",
       "#sk-container-id-1 a.estimator_doc_link.fitted:hover {\n",
       "  /* fitted */\n",
       "  background-color: var(--sklearn-color-fitted-level-3);\n",
       "}\n",
       "</style><div id=\"sk-container-id-1\" class=\"sk-top-container\"><div class=\"sk-text-repr-fallback\"><pre>GradientBoostingRegressor(random_state=42)</pre><b>In a Jupyter environment, please rerun this cell to show the HTML representation or trust the notebook. <br />On GitHub, the HTML representation is unable to render, please try loading this page with nbviewer.org.</b></div><div class=\"sk-container\" hidden><div class=\"sk-item\"><div class=\"sk-estimator fitted sk-toggleable\"><input class=\"sk-toggleable__control sk-hidden--visually\" id=\"sk-estimator-id-1\" type=\"checkbox\" checked><label for=\"sk-estimator-id-1\" class=\"sk-toggleable__label fitted sk-toggleable__label-arrow fitted\">&nbsp;&nbsp;GradientBoostingRegressor<a class=\"sk-estimator-doc-link fitted\" rel=\"noreferrer\" target=\"_blank\" href=\"https://scikit-learn.org/1.5/modules/generated/sklearn.ensemble.GradientBoostingRegressor.html\">?<span>Documentation for GradientBoostingRegressor</span></a><span class=\"sk-estimator-doc-link fitted\">i<span>Fitted</span></span></label><div class=\"sk-toggleable__content fitted\"><pre>GradientBoostingRegressor(random_state=42)</pre></div> </div></div></div></div>"
      ],
      "text/plain": [
       "GradientBoostingRegressor(random_state=42)"
      ]
     },
     "execution_count": 62,
     "metadata": {},
     "output_type": "execute_result"
    }
   ],
   "source": [
    "gb_model = GradientBoostingRegressor(random_state=42)\n",
    "gb_model.fit(X_train_scaled, y_train)"
   ]
  },
  {
   "cell_type": "markdown",
   "metadata": {},
   "source": [
    "### Passo 6: Previsões de total de defeitos"
   ]
  },
  {
   "cell_type": "code",
   "execution_count": 63,
   "metadata": {},
   "outputs": [],
   "source": [
    "y_pred_gb = gb_model.predict(X_test_scaled)"
   ]
  },
  {
   "cell_type": "markdown",
   "metadata": {},
   "source": [
    "### Passo 7: Avaliar a performance do modelo"
   ]
  },
  {
   "cell_type": "code",
   "execution_count": 64,
   "metadata": {},
   "outputs": [
    {
     "name": "stdout",
     "output_type": "stream",
     "text": [
      "Gradient Boosting - Mean Squared Error (MSE): 7698.757546270441\n",
      "Gradient Boosting - R² Score: 0.9918282458806885\n"
     ]
    }
   ],
   "source": [
    "mse_gb = mean_squared_error(y_test, y_pred_gb)\n",
    "r2_gb = r2_score(y_test, y_pred_gb)\n",
    "\n",
    "print(f\"Gradient Boosting - Mean Squared Error (MSE): {mse_gb}\")\n",
    "print(f\"Gradient Boosting - R² Score: {r2_gb}\")"
   ]
  },
  {
   "cell_type": "markdown",
   "metadata": {},
   "source": [
    "- **Mean Squared Error (MSE)**: Mede o erro médio ao quadrado entre os valores previstos pelo modelo e os valores reais. No caso, um MSE de 7698,76 indica que, em média, o modelo apresenta esse nível de erro nas previsões, o que pode ser considerado aceitável dependendo da escala dos defeitos totais.\n",
    "\n",
    "\n",
    "- **R² Score**: Representa o quanto do comportamento dos dados o modelo consegue explicar, com valores próximos de 1,0 indicando alta precisão. Aqui, o R² de 0,99 mostra que o modelo explica 99% da variação nos defeitos totais, o que reflete um excelente ajuste aos dados."
   ]
  },
  {
   "cell_type": "markdown",
   "metadata": {},
   "source": [
    "> Meu modelo de Gradient Boosting está com um R² de 0,99, o que indica alta precisão nas previsões, embora haja sinais de ***overfitting*** devido ao impacto significativo da ***duração*** da ordem nos defeitos ***totais***. Apesar disso, o diferencial da solução está na capacidade de ***distribuir*** os defeitos totais previstos ao longo dos dias da nova ordem, permitindo identificar os dias críticos e agir preventivamente para otimizar a produção. "
   ]
  },
  {
   "cell_type": "markdown",
   "metadata": {},
   "source": [
    "## Testando modelo"
   ]
  },
  {
   "cell_type": "markdown",
   "metadata": {},
   "source": [
    "### Criando nova ordem e prevendo com o modelo"
   ]
  },
  {
   "cell_type": "code",
   "execution_count": 65,
   "metadata": {},
   "outputs": [
    {
     "name": "stdout",
     "output_type": "stream",
     "text": [
      "Total de defeitos previsto para a nova ordem: 2331.3429814026454\n"
     ]
    }
   ],
   "source": [
    "nova_ordem = {\n",
    "    'Peso médio (g)': 160,\n",
    "    'Comprimento médio (mm)': 120,\n",
    "    'Diâmetro': 30.2,\n",
    "    'Dias de Duração': 15\n",
    "}\n",
    "\n",
    "X_nova_ordem = scaler.transform(pd.DataFrame([nova_ordem])) \n",
    "total_defeitos_previsto = gb_model.predict(X_nova_ordem)\n",
    "print(f\"Total de defeitos previsto para a nova ordem: {total_defeitos_previsto[0]}\")"
   ]
  },
  {
   "cell_type": "markdown",
   "metadata": {},
   "source": [
    "### Calcular a soma total dos defeitos para garantir que a soma seja igual ao total esperado"
   ]
  },
  {
   "cell_type": "code",
   "execution_count": 66,
   "metadata": {},
   "outputs": [],
   "source": [
    "total_medio_defeitos = defeitos_por_dia_contado['Média de Defeitos'].sum()"
   ]
  },
  {
   "cell_type": "markdown",
   "metadata": {},
   "source": [
    "- O que faz: Calcula a soma total da coluna 'Média de Defeitos', ou seja, o valor agregado da média de defeitos registrados por dia.\n",
    "\n",
    "- Por que isso é útil: Este valor será usado para determinar a contribuição proporcional de cada dia na previsão do total de defeitos."
   ]
  },
  {
   "cell_type": "markdown",
   "metadata": {},
   "source": [
    "### Garantir que a soma dos defeitos seja proporcionalmente ajustada ao total de defeitos previsto"
   ]
  },
  {
   "cell_type": "code",
   "execution_count": 67,
   "metadata": {},
   "outputs": [],
   "source": [
    "defeitos_por_dia_contado['Defeitos Previstos'] = (defeitos_por_dia_contado['Média de Defeitos'] / total_medio_defeitos) * total_defeitos_previsto"
   ]
  },
  {
   "cell_type": "markdown",
   "metadata": {},
   "source": [
    "- O que faz: Estima a quantidade de defeitos previstos para cada dia com base na média de defeitos já registrada e o valor total de defeitos previstos.\n",
    "\n",
    "**Passo a passo do cálculo**:\n",
    "\n",
    "1.  `defeitos_por_dia_contado['Média de Defeitos']` / `total_medio_defeitos`: Calcula a proporção de defeitos de cada dia em relação ao total médio de defeitos.\n",
    "\n",
    "2. Multiplica essa proporção pelo `total_defeitos_previsto` para distribuir os defeitos previstos entre os dias, proporcionalmente à média de defeitos observada.\n",
    "\n",
    "- Por que isso é útil: Permite projetar o total de defeitos em cada dia com base em dados históricos."
   ]
  },
  {
   "cell_type": "markdown",
   "metadata": {},
   "source": [
    "### Recalcular a distribuição dos defeitos considerando o número de dias de duração"
   ]
  },
  {
   "cell_type": "code",
   "execution_count": 68,
   "metadata": {},
   "outputs": [],
   "source": [
    "dias_duracao = nova_ordem['Dias de Duração']"
   ]
  },
  {
   "cell_type": "markdown",
   "metadata": {},
   "source": [
    "### Selecionar as previsões apenas para os dias da nova ordem"
   ]
  },
  {
   "cell_type": "code",
   "execution_count": 69,
   "metadata": {},
   "outputs": [],
   "source": [
    "df_dias_duracao = defeitos_por_dia_contado.head(dias_duracao).copy()  # Usando .copy() para evitar aviso"
   ]
  },
  {
   "cell_type": "markdown",
   "metadata": {},
   "source": [
    "### Garantir que a soma dos defeitos nos dias da nova ordem seja igual ao total de defeitos previsto\n",
    "\n",
    "\n",
    "Ajustar a distribuição proporcionalmente para que a soma dos defeitos seja igual ao `total_defeitos_previsto`"
   ]
  },
  {
   "cell_type": "code",
   "execution_count": 70,
   "metadata": {},
   "outputs": [],
   "source": [
    "soma_defeitos_dia = df_dias_duracao['Defeitos Previstos'].sum()\n",
    "ajuste_fator = total_defeitos_previsto / soma_defeitos_dia\n",
    "\n",
    "# Ajustar os defeitos previstos diretamente no DataFrame com .loc[]\n",
    "df_dias_duracao.loc[:, 'Defeitos Previstos'] = df_dias_duracao['Defeitos Previstos'] * ajuste_fator"
   ]
  },
  {
   "cell_type": "markdown",
   "metadata": {},
   "source": [
    "- O que faz:\n",
    "\n",
    "`soma_defeitos_dia`: Soma os valores da coluna 'Defeitos Previstos' no DataFrame `df_dias_duracao`.\n",
    "\n",
    "`ajuste_fator`: Calcula o fator necessário para ajustar a soma total dos defeitos previstos ao valor exato de `total_defeitos_previsto`.\n",
    "\n",
    "Multiplica cada valor da coluna 'Defeitos Previstos' pelo `ajuste_fator` para garantir que a soma total da coluna corresponda ao valor exato de `total_defeitos_previsto`.\n",
    "\n",
    "- Por que isso é útil: Durante o cálculo inicial de `'Defeitos Previstos'`, pode haver pequenas discrepâncias de arredondamento que fazem com que a soma dos valores não corresponda exatamente ao `total_defeitos_previsto`. Esse ajuste corrige isso."
   ]
  },
  {
   "cell_type": "markdown",
   "metadata": {},
   "source": [
    "### Visualização Geral"
   ]
  },
  {
   "cell_type": "code",
   "execution_count": 71,
   "metadata": {},
   "outputs": [
    {
     "name": "stdout",
     "output_type": "stream",
     "text": [
      "Total de defeitos previsto para a nova ordem: 2331.34\n"
     ]
    },
    {
     "data": {
      "application/vnd.plotly.v1+json": {
       "config": {
        "plotlyServerURL": "https://plot.ly"
       },
       "data": [
        {
         "line": {
          "color": "green"
         },
         "marker": {
          "size": 10
         },
         "mode": "lines+markers",
         "name": "Defeitos Previstos",
         "type": "scatter",
         "x": [
          1,
          2,
          3,
          4,
          5,
          6,
          7,
          8,
          9,
          10,
          11,
          12,
          13,
          14,
          15
         ],
         "y": [
          172.43207232996886,
          189.648273756806,
          166.05501946633825,
          170.54916751160889,
          166.33723254764217,
          164.98643308041363,
          144.8655206117685,
          155.1708612261988,
          165.54184095282292,
          148.7119725863266,
          178.21018960623084,
          148.08183710926588,
          126.81476475846704,
          127.60243410479292,
          106.3353617539941
         ]
        }
       ],
       "layout": {
        "template": {
         "data": {
          "bar": [
           {
            "error_x": {
             "color": "#2a3f5f"
            },
            "error_y": {
             "color": "#2a3f5f"
            },
            "marker": {
             "line": {
              "color": "#E5ECF6",
              "width": 0.5
             },
             "pattern": {
              "fillmode": "overlay",
              "size": 10,
              "solidity": 0.2
             }
            },
            "type": "bar"
           }
          ],
          "barpolar": [
           {
            "marker": {
             "line": {
              "color": "#E5ECF6",
              "width": 0.5
             },
             "pattern": {
              "fillmode": "overlay",
              "size": 10,
              "solidity": 0.2
             }
            },
            "type": "barpolar"
           }
          ],
          "carpet": [
           {
            "aaxis": {
             "endlinecolor": "#2a3f5f",
             "gridcolor": "white",
             "linecolor": "white",
             "minorgridcolor": "white",
             "startlinecolor": "#2a3f5f"
            },
            "baxis": {
             "endlinecolor": "#2a3f5f",
             "gridcolor": "white",
             "linecolor": "white",
             "minorgridcolor": "white",
             "startlinecolor": "#2a3f5f"
            },
            "type": "carpet"
           }
          ],
          "choropleth": [
           {
            "colorbar": {
             "outlinewidth": 0,
             "ticks": ""
            },
            "type": "choropleth"
           }
          ],
          "contour": [
           {
            "colorbar": {
             "outlinewidth": 0,
             "ticks": ""
            },
            "colorscale": [
             [
              0,
              "#0d0887"
             ],
             [
              0.1111111111111111,
              "#46039f"
             ],
             [
              0.2222222222222222,
              "#7201a8"
             ],
             [
              0.3333333333333333,
              "#9c179e"
             ],
             [
              0.4444444444444444,
              "#bd3786"
             ],
             [
              0.5555555555555556,
              "#d8576b"
             ],
             [
              0.6666666666666666,
              "#ed7953"
             ],
             [
              0.7777777777777778,
              "#fb9f3a"
             ],
             [
              0.8888888888888888,
              "#fdca26"
             ],
             [
              1,
              "#f0f921"
             ]
            ],
            "type": "contour"
           }
          ],
          "contourcarpet": [
           {
            "colorbar": {
             "outlinewidth": 0,
             "ticks": ""
            },
            "type": "contourcarpet"
           }
          ],
          "heatmap": [
           {
            "colorbar": {
             "outlinewidth": 0,
             "ticks": ""
            },
            "colorscale": [
             [
              0,
              "#0d0887"
             ],
             [
              0.1111111111111111,
              "#46039f"
             ],
             [
              0.2222222222222222,
              "#7201a8"
             ],
             [
              0.3333333333333333,
              "#9c179e"
             ],
             [
              0.4444444444444444,
              "#bd3786"
             ],
             [
              0.5555555555555556,
              "#d8576b"
             ],
             [
              0.6666666666666666,
              "#ed7953"
             ],
             [
              0.7777777777777778,
              "#fb9f3a"
             ],
             [
              0.8888888888888888,
              "#fdca26"
             ],
             [
              1,
              "#f0f921"
             ]
            ],
            "type": "heatmap"
           }
          ],
          "heatmapgl": [
           {
            "colorbar": {
             "outlinewidth": 0,
             "ticks": ""
            },
            "colorscale": [
             [
              0,
              "#0d0887"
             ],
             [
              0.1111111111111111,
              "#46039f"
             ],
             [
              0.2222222222222222,
              "#7201a8"
             ],
             [
              0.3333333333333333,
              "#9c179e"
             ],
             [
              0.4444444444444444,
              "#bd3786"
             ],
             [
              0.5555555555555556,
              "#d8576b"
             ],
             [
              0.6666666666666666,
              "#ed7953"
             ],
             [
              0.7777777777777778,
              "#fb9f3a"
             ],
             [
              0.8888888888888888,
              "#fdca26"
             ],
             [
              1,
              "#f0f921"
             ]
            ],
            "type": "heatmapgl"
           }
          ],
          "histogram": [
           {
            "marker": {
             "pattern": {
              "fillmode": "overlay",
              "size": 10,
              "solidity": 0.2
             }
            },
            "type": "histogram"
           }
          ],
          "histogram2d": [
           {
            "colorbar": {
             "outlinewidth": 0,
             "ticks": ""
            },
            "colorscale": [
             [
              0,
              "#0d0887"
             ],
             [
              0.1111111111111111,
              "#46039f"
             ],
             [
              0.2222222222222222,
              "#7201a8"
             ],
             [
              0.3333333333333333,
              "#9c179e"
             ],
             [
              0.4444444444444444,
              "#bd3786"
             ],
             [
              0.5555555555555556,
              "#d8576b"
             ],
             [
              0.6666666666666666,
              "#ed7953"
             ],
             [
              0.7777777777777778,
              "#fb9f3a"
             ],
             [
              0.8888888888888888,
              "#fdca26"
             ],
             [
              1,
              "#f0f921"
             ]
            ],
            "type": "histogram2d"
           }
          ],
          "histogram2dcontour": [
           {
            "colorbar": {
             "outlinewidth": 0,
             "ticks": ""
            },
            "colorscale": [
             [
              0,
              "#0d0887"
             ],
             [
              0.1111111111111111,
              "#46039f"
             ],
             [
              0.2222222222222222,
              "#7201a8"
             ],
             [
              0.3333333333333333,
              "#9c179e"
             ],
             [
              0.4444444444444444,
              "#bd3786"
             ],
             [
              0.5555555555555556,
              "#d8576b"
             ],
             [
              0.6666666666666666,
              "#ed7953"
             ],
             [
              0.7777777777777778,
              "#fb9f3a"
             ],
             [
              0.8888888888888888,
              "#fdca26"
             ],
             [
              1,
              "#f0f921"
             ]
            ],
            "type": "histogram2dcontour"
           }
          ],
          "mesh3d": [
           {
            "colorbar": {
             "outlinewidth": 0,
             "ticks": ""
            },
            "type": "mesh3d"
           }
          ],
          "parcoords": [
           {
            "line": {
             "colorbar": {
              "outlinewidth": 0,
              "ticks": ""
             }
            },
            "type": "parcoords"
           }
          ],
          "pie": [
           {
            "automargin": true,
            "type": "pie"
           }
          ],
          "scatter": [
           {
            "fillpattern": {
             "fillmode": "overlay",
             "size": 10,
             "solidity": 0.2
            },
            "type": "scatter"
           }
          ],
          "scatter3d": [
           {
            "line": {
             "colorbar": {
              "outlinewidth": 0,
              "ticks": ""
             }
            },
            "marker": {
             "colorbar": {
              "outlinewidth": 0,
              "ticks": ""
             }
            },
            "type": "scatter3d"
           }
          ],
          "scattercarpet": [
           {
            "marker": {
             "colorbar": {
              "outlinewidth": 0,
              "ticks": ""
             }
            },
            "type": "scattercarpet"
           }
          ],
          "scattergeo": [
           {
            "marker": {
             "colorbar": {
              "outlinewidth": 0,
              "ticks": ""
             }
            },
            "type": "scattergeo"
           }
          ],
          "scattergl": [
           {
            "marker": {
             "colorbar": {
              "outlinewidth": 0,
              "ticks": ""
             }
            },
            "type": "scattergl"
           }
          ],
          "scattermapbox": [
           {
            "marker": {
             "colorbar": {
              "outlinewidth": 0,
              "ticks": ""
             }
            },
            "type": "scattermapbox"
           }
          ],
          "scatterpolar": [
           {
            "marker": {
             "colorbar": {
              "outlinewidth": 0,
              "ticks": ""
             }
            },
            "type": "scatterpolar"
           }
          ],
          "scatterpolargl": [
           {
            "marker": {
             "colorbar": {
              "outlinewidth": 0,
              "ticks": ""
             }
            },
            "type": "scatterpolargl"
           }
          ],
          "scatterternary": [
           {
            "marker": {
             "colorbar": {
              "outlinewidth": 0,
              "ticks": ""
             }
            },
            "type": "scatterternary"
           }
          ],
          "surface": [
           {
            "colorbar": {
             "outlinewidth": 0,
             "ticks": ""
            },
            "colorscale": [
             [
              0,
              "#0d0887"
             ],
             [
              0.1111111111111111,
              "#46039f"
             ],
             [
              0.2222222222222222,
              "#7201a8"
             ],
             [
              0.3333333333333333,
              "#9c179e"
             ],
             [
              0.4444444444444444,
              "#bd3786"
             ],
             [
              0.5555555555555556,
              "#d8576b"
             ],
             [
              0.6666666666666666,
              "#ed7953"
             ],
             [
              0.7777777777777778,
              "#fb9f3a"
             ],
             [
              0.8888888888888888,
              "#fdca26"
             ],
             [
              1,
              "#f0f921"
             ]
            ],
            "type": "surface"
           }
          ],
          "table": [
           {
            "cells": {
             "fill": {
              "color": "#EBF0F8"
             },
             "line": {
              "color": "white"
             }
            },
            "header": {
             "fill": {
              "color": "#C8D4E3"
             },
             "line": {
              "color": "white"
             }
            },
            "type": "table"
           }
          ]
         },
         "layout": {
          "annotationdefaults": {
           "arrowcolor": "#2a3f5f",
           "arrowhead": 0,
           "arrowwidth": 1
          },
          "autotypenumbers": "strict",
          "coloraxis": {
           "colorbar": {
            "outlinewidth": 0,
            "ticks": ""
           }
          },
          "colorscale": {
           "diverging": [
            [
             0,
             "#8e0152"
            ],
            [
             0.1,
             "#c51b7d"
            ],
            [
             0.2,
             "#de77ae"
            ],
            [
             0.3,
             "#f1b6da"
            ],
            [
             0.4,
             "#fde0ef"
            ],
            [
             0.5,
             "#f7f7f7"
            ],
            [
             0.6,
             "#e6f5d0"
            ],
            [
             0.7,
             "#b8e186"
            ],
            [
             0.8,
             "#7fbc41"
            ],
            [
             0.9,
             "#4d9221"
            ],
            [
             1,
             "#276419"
            ]
           ],
           "sequential": [
            [
             0,
             "#0d0887"
            ],
            [
             0.1111111111111111,
             "#46039f"
            ],
            [
             0.2222222222222222,
             "#7201a8"
            ],
            [
             0.3333333333333333,
             "#9c179e"
            ],
            [
             0.4444444444444444,
             "#bd3786"
            ],
            [
             0.5555555555555556,
             "#d8576b"
            ],
            [
             0.6666666666666666,
             "#ed7953"
            ],
            [
             0.7777777777777778,
             "#fb9f3a"
            ],
            [
             0.8888888888888888,
             "#fdca26"
            ],
            [
             1,
             "#f0f921"
            ]
           ],
           "sequentialminus": [
            [
             0,
             "#0d0887"
            ],
            [
             0.1111111111111111,
             "#46039f"
            ],
            [
             0.2222222222222222,
             "#7201a8"
            ],
            [
             0.3333333333333333,
             "#9c179e"
            ],
            [
             0.4444444444444444,
             "#bd3786"
            ],
            [
             0.5555555555555556,
             "#d8576b"
            ],
            [
             0.6666666666666666,
             "#ed7953"
            ],
            [
             0.7777777777777778,
             "#fb9f3a"
            ],
            [
             0.8888888888888888,
             "#fdca26"
            ],
            [
             1,
             "#f0f921"
            ]
           ]
          },
          "colorway": [
           "#636efa",
           "#EF553B",
           "#00cc96",
           "#ab63fa",
           "#FFA15A",
           "#19d3f3",
           "#FF6692",
           "#B6E880",
           "#FF97FF",
           "#FECB52"
          ],
          "font": {
           "color": "#2a3f5f"
          },
          "geo": {
           "bgcolor": "white",
           "lakecolor": "white",
           "landcolor": "#E5ECF6",
           "showlakes": true,
           "showland": true,
           "subunitcolor": "white"
          },
          "hoverlabel": {
           "align": "left"
          },
          "hovermode": "closest",
          "mapbox": {
           "style": "light"
          },
          "paper_bgcolor": "white",
          "plot_bgcolor": "#E5ECF6",
          "polar": {
           "angularaxis": {
            "gridcolor": "white",
            "linecolor": "white",
            "ticks": ""
           },
           "bgcolor": "#E5ECF6",
           "radialaxis": {
            "gridcolor": "white",
            "linecolor": "white",
            "ticks": ""
           }
          },
          "scene": {
           "xaxis": {
            "backgroundcolor": "#E5ECF6",
            "gridcolor": "white",
            "gridwidth": 2,
            "linecolor": "white",
            "showbackground": true,
            "ticks": "",
            "zerolinecolor": "white"
           },
           "yaxis": {
            "backgroundcolor": "#E5ECF6",
            "gridcolor": "white",
            "gridwidth": 2,
            "linecolor": "white",
            "showbackground": true,
            "ticks": "",
            "zerolinecolor": "white"
           },
           "zaxis": {
            "backgroundcolor": "#E5ECF6",
            "gridcolor": "white",
            "gridwidth": 2,
            "linecolor": "white",
            "showbackground": true,
            "ticks": "",
            "zerolinecolor": "white"
           }
          },
          "shapedefaults": {
           "line": {
            "color": "#2a3f5f"
           }
          },
          "ternary": {
           "aaxis": {
            "gridcolor": "white",
            "linecolor": "white",
            "ticks": ""
           },
           "baxis": {
            "gridcolor": "white",
            "linecolor": "white",
            "ticks": ""
           },
           "bgcolor": "#E5ECF6",
           "caxis": {
            "gridcolor": "white",
            "linecolor": "white",
            "ticks": ""
           }
          },
          "title": {
           "x": 0.05
          },
          "xaxis": {
           "automargin": true,
           "gridcolor": "white",
           "linecolor": "white",
           "ticks": "",
           "title": {
            "standoff": 15
           },
           "zerolinecolor": "white",
           "zerolinewidth": 2
          },
          "yaxis": {
           "automargin": true,
           "gridcolor": "white",
           "linecolor": "white",
           "ticks": "",
           "title": {
            "standoff": 15
           },
           "zerolinecolor": "white",
           "zerolinewidth": 2
          }
         }
        },
        "title": {
         "font": {
          "size": 16
         },
         "text": "Previsão de Defeitos ao Longo dos 15 Dias da Nova Ordem"
        },
        "xaxis": {
         "title": {
          "font": {
           "size": 14
          },
          "text": "Dia de Produção"
         }
        },
        "yaxis": {
         "title": {
          "font": {
           "size": 14
          },
          "text": "Defeitos Previstos"
         }
        }
       }
      }
     },
     "metadata": {},
     "output_type": "display_data"
    },
    {
     "data": {
      "text/html": [
       "<div>\n",
       "<style scoped>\n",
       "    .dataframe tbody tr th:only-of-type {\n",
       "        vertical-align: middle;\n",
       "    }\n",
       "\n",
       "    .dataframe tbody tr th {\n",
       "        vertical-align: top;\n",
       "    }\n",
       "\n",
       "    .dataframe thead th {\n",
       "        text-align: right;\n",
       "    }\n",
       "</style>\n",
       "<table border=\"1\" class=\"dataframe\">\n",
       "  <thead>\n",
       "    <tr style=\"text-align: right;\">\n",
       "      <th></th>\n",
       "      <th>Defeitos Previstos</th>\n",
       "    </tr>\n",
       "    <tr>\n",
       "      <th>Dia Contado</th>\n",
       "      <th></th>\n",
       "    </tr>\n",
       "  </thead>\n",
       "  <tbody>\n",
       "    <tr>\n",
       "      <th>1</th>\n",
       "      <td>172.432072</td>\n",
       "    </tr>\n",
       "    <tr>\n",
       "      <th>2</th>\n",
       "      <td>189.648274</td>\n",
       "    </tr>\n",
       "    <tr>\n",
       "      <th>3</th>\n",
       "      <td>166.055019</td>\n",
       "    </tr>\n",
       "    <tr>\n",
       "      <th>4</th>\n",
       "      <td>170.549168</td>\n",
       "    </tr>\n",
       "    <tr>\n",
       "      <th>5</th>\n",
       "      <td>166.337233</td>\n",
       "    </tr>\n",
       "    <tr>\n",
       "      <th>6</th>\n",
       "      <td>164.986433</td>\n",
       "    </tr>\n",
       "    <tr>\n",
       "      <th>7</th>\n",
       "      <td>144.865521</td>\n",
       "    </tr>\n",
       "    <tr>\n",
       "      <th>8</th>\n",
       "      <td>155.170861</td>\n",
       "    </tr>\n",
       "    <tr>\n",
       "      <th>9</th>\n",
       "      <td>165.541841</td>\n",
       "    </tr>\n",
       "    <tr>\n",
       "      <th>10</th>\n",
       "      <td>148.711973</td>\n",
       "    </tr>\n",
       "    <tr>\n",
       "      <th>11</th>\n",
       "      <td>178.210190</td>\n",
       "    </tr>\n",
       "    <tr>\n",
       "      <th>12</th>\n",
       "      <td>148.081837</td>\n",
       "    </tr>\n",
       "    <tr>\n",
       "      <th>13</th>\n",
       "      <td>126.814765</td>\n",
       "    </tr>\n",
       "    <tr>\n",
       "      <th>14</th>\n",
       "      <td>127.602434</td>\n",
       "    </tr>\n",
       "    <tr>\n",
       "      <th>15</th>\n",
       "      <td>106.335362</td>\n",
       "    </tr>\n",
       "  </tbody>\n",
       "</table>\n",
       "</div>"
      ],
      "text/plain": [
       "             Defeitos Previstos\n",
       "Dia Contado                    \n",
       "1                    172.432072\n",
       "2                    189.648274\n",
       "3                    166.055019\n",
       "4                    170.549168\n",
       "5                    166.337233\n",
       "6                    164.986433\n",
       "7                    144.865521\n",
       "8                    155.170861\n",
       "9                    165.541841\n",
       "10                   148.711973\n",
       "11                   178.210190\n",
       "12                   148.081837\n",
       "13                   126.814765\n",
       "14                   127.602434\n",
       "15                   106.335362"
      ]
     },
     "execution_count": 71,
     "metadata": {},
     "output_type": "execute_result"
    }
   ],
   "source": [
    "print(f\"Total de defeitos previsto para a nova ordem: {total_defeitos_previsto[0]:.2f}\")\n",
    "\n",
    "fig = go.Figure()\n",
    "\n",
    "fig.add_trace(go.Scatter(x=df_dias_duracao['Dia Contado'],\n",
    "                         y=df_dias_duracao['Defeitos Previstos'],\n",
    "                         mode='lines+markers',\n",
    "                         marker=dict(size=10),\n",
    "                         line=dict(color='green'),\n",
    "                         name='Defeitos Previstos'))\n",
    "\n",
    "fig.update_layout(\n",
    "    title=f'Previsão de Defeitos ao Longo dos {dias_duracao} Dias da Nova Ordem',\n",
    "    title_font_size=16,\n",
    "    xaxis_title='Dia de Produção',\n",
    "    xaxis_title_font_size=14,\n",
    "    yaxis_title='Defeitos Previstos',\n",
    "    yaxis_title_font_size=14\n",
    ")\n",
    "\n",
    "fig.show()\n",
    "\n",
    "df_dias_duracao[['Dia Contado', 'Defeitos Previstos']].set_index('Dia Contado')"
   ]
  }
 ],
 "metadata": {
  "kernelspec": {
   "display_name": "base",
   "language": "python",
   "name": "python3"
  },
  "language_info": {
   "codemirror_mode": {
    "name": "ipython",
    "version": 3
   },
   "file_extension": ".py",
   "mimetype": "text/x-python",
   "name": "python",
   "nbconvert_exporter": "python",
   "pygments_lexer": "ipython3",
   "version": "3.12.7"
  }
 },
 "nbformat": 4,
 "nbformat_minor": 2
}
