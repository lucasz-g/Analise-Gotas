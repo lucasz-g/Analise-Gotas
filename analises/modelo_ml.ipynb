{
 "cells": [
  {
   "cell_type": "markdown",
   "metadata": {},
   "source": [
    "\n",
    "### 1. **Objetivos**\n",
    "\n",
    "**Objetivo do Modelo**:\n",
    "- O objetivo deste modelo é prever dois fatores críticos para a produção:\n",
    "  \n",
    "  1. **Total de defeitos** esperados para uma nova ordem de produção, com base em medidas físicas (peso, comprimento e diâmetro).\n",
    "  \n",
    "  2. **Dias críticos de defeitos**, ou seja, prever em qual dia da produção será mais provável ocorrer o maior número de defeitos.\n",
    "\n",
    "Essas previsões serão usadas para:\n",
    "- Melhorar a **qualidade da produção**, permitindo ações preventivas em dias críticos.\n",
    "- **Otimizar o processo de produção**, com base no histórico de ordens anteriores.\n",
    "- **Ajudar o time de vendas e orçamento** a planejar e dimensionar ordens de forma mais eficiente, antecipando o comportamento de defeitos com base nas características do pedido e na duração da ordem.\n",
    "\n",
    "### 2. **Solução**\n",
    "\n",
    "**Solução Proposta**:\n",
    "- Para prever o **total de defeitos**, usaremos um modelo de regressão, que será treinado com dados históricos sobre medidas físicas (peso, comprimento e diâmetro) e o total de defeitos observados em ordens anteriores.\n",
    "- Para prever os **dias críticos de defeitos**, utilizaremos uma análise de sazonalidade, que considera o padrão de defeitos ao longo dos dias de produção de cada ordem. Isso nos ajudará a identificar quais dias (por exemplo, dia 2) têm maior chance de apresentar defeitos.\n",
    "- Além disso, a **duração da ordem** (quantidade de dias de produção) será um parâmetro importante para ajustar as previsões. Ordens mais longas tendem a ter mais defeitos, e a duração influencia o comportamento dos defeitos ao longo dos dias.\n",
    "\n",
    "**Modelo Utilizado**:\n",
    "- **Regressão (ex: Gradient Boosting)**: Para prever o **total de defeitos** com base nas características do pedido e a duração da ordem.\n",
    "- **Análise de série temporal**: Para identificar **quais dias** terão maior probabilidade de defeitos ao longo da produção.\n",
    "\n",
    "### 3. **Como o Modelo Vai Funcionar (Inputs e Outputs)**\n",
    "\n",
    "#### Exemplo:\n",
    "**Inputs (Entradas do Modelo)**:\n",
    "- **Medidas da Ordem**:\n",
    "  - Peso médio (g)\n",
    "  - Comprimento médio (mm)\n",
    "  - Diâmetro\n",
    "- **Duração da Ordem**:\n",
    "  - Número de dias que a produção vai durar (fornecido pelo time de vendas ou orçamento).\n",
    "- **Dados Históricos**: O modelo é treinado com ordens passadas, suas medidas e os defeitos observados.\n",
    "\n",
    "**Processamento**:\n",
    "- O modelo será treinado com essas entradas para aprender os padrões que relacionam as **medidas físicas** e a **duração** com os **defeitos** observados em ordens passadas.\n",
    "- O modelo ajustará as previsões com base nos padrões de **sazonalidade** dos defeitos, observando quais dias em ordens passadas têm mais defeitos.\n",
    "\n",
    "**Outputs (Saídas do Modelo)**:\n",
    "- **Previsão do Total de Defeitos**: Para uma nova ordem, o modelo preverá o total de defeitos, com base nas novas medidas fornecidas.\n",
    "- **Previsão dos Dias Críticos de Defeitos**: O modelo também preverá os dias críticos de defeitos, ou seja, os dias específicos em que a ordem pode apresentar mais defeitos, com base no histórico de ordens anteriores e sua sazonalidade.\n",
    "\n",
    "#### Exemplo de como isso pode ser explicado em termos simples:\n",
    "- **Input**: Você fornecerá ao modelo as **medidas físicas** de uma nova ordem (peso, comprimento, diâmetro) e o **número de dias de produção** (duração).\n",
    "- **Output**: O modelo retornará dois tipos de informações:\n",
    "  \n",
    "  1. **O total de defeitos esperados** para essa ordem.\n",
    "  \n",
    "  2. **Quais dias da ordem** terão maior probabilidade de defeitos, ajudando a identificar **o dia crítico** de defeitos.\n",
    "\n",
    "### Exemplo de Diagrama ou Fluxograma:\n",
    "Você também pode usar um fluxograma simples para ilustrar o processo de previsão do modelo, como por exemplo:\n",
    "\n",
    "1. **Input**: Medidas da ordem (peso, comprimento, diâmetro, duração da ordem)\n",
    "\n",
    "2. **Processamento**:\n",
    "   - Treinamento com dados históricos (medidas + defeitos + duração + sazonalidade).\n",
    "   - Ajuste de previsões com base na duração e no padrão de defeitos.\n",
    "\n",
    "3. **Output**:\n",
    "   - Previsão do total de defeitos.\n",
    "   - Previsão dos dias críticos de defeitos.\n",
    "\n",
    "### 4. **Conclusão**\n",
    "\n",
    "- **Benefícios**:\n",
    "  \n",
    "  - **Previsões mais precisas** de defeitos, com base em dados reais e a duração de cada ordem.\n",
    "  \n",
    "  - **Ação preventiva**: Saber antecipadamente quais dias têm mais chance de defeitos pode otimizar os processos de produção.\n",
    "  \n",
    "  - **Apoio à decisão**: Ajudar os times de produção e vendas a planejar melhor as ordens e a controlar a qualidade da produção."
   ]
  },
  {
   "cell_type": "markdown",
   "metadata": {},
   "source": [
    "## Implementação do Modelo"
   ]
  },
  {
   "cell_type": "markdown",
   "metadata": {},
   "source": [
    "### Importando bibliotecas"
   ]
  },
  {
   "cell_type": "code",
   "execution_count": 513,
   "metadata": {},
   "outputs": [],
   "source": [
    "import pandas as pd\n",
    "import numpy as np\n",
    "from sklearn.ensemble import GradientBoostingRegressor\n",
    "from sklearn.model_selection import train_test_split, GridSearchCV, cross_val_score\n",
    "from sklearn.metrics import mean_squared_error, r2_score\n",
    "from sklearn.preprocessing import StandardScaler\n",
    "import matplotlib.pyplot as plt\n",
    "import plotly.express as px\n",
    "import plotly.graph_objects as go"
   ]
  },
  {
   "cell_type": "markdown",
   "metadata": {},
   "source": [
    "### Importando dataset"
   ]
  },
  {
   "cell_type": "code",
   "execution_count": 514,
   "metadata": {},
   "outputs": [],
   "source": [
    "dados = pd.read_csv('../dados/medidas_geral_e_defeitos.csv')\n",
    "df = pd.DataFrame(dados)"
   ]
  },
  {
   "cell_type": "code",
   "execution_count": 515,
   "metadata": {},
   "outputs": [],
   "source": [
    "df = df.set_index(['Ordem de prod', 'Ref. do Artigo', 'Data de prod'])"
   ]
  },
  {
   "cell_type": "code",
   "execution_count": 516,
   "metadata": {},
   "outputs": [
    {
     "data": {
      "text/html": [
       "<div>\n",
       "<style scoped>\n",
       "    .dataframe tbody tr th:only-of-type {\n",
       "        vertical-align: middle;\n",
       "    }\n",
       "\n",
       "    .dataframe tbody tr th {\n",
       "        vertical-align: top;\n",
       "    }\n",
       "\n",
       "    .dataframe thead th {\n",
       "        text-align: right;\n",
       "    }\n",
       "</style>\n",
       "<table border=\"1\" class=\"dataframe\">\n",
       "  <thead>\n",
       "    <tr style=\"text-align: right;\">\n",
       "      <th></th>\n",
       "      <th></th>\n",
       "      <th></th>\n",
       "      <th>Temperatura (F°)</th>\n",
       "      <th>Peso médio (g)</th>\n",
       "      <th>Comprimento médio (mm)</th>\n",
       "      <th>Diâmetro</th>\n",
       "      <th>Total de Defeitos no Dia</th>\n",
       "      <th>Defeito Mais Frequente do Dia</th>\n",
       "      <th>Sujo de óleo</th>\n",
       "      <th>Rugas</th>\n",
       "      <th>Racho na terminação</th>\n",
       "      <th>Trinca por choque térmico</th>\n",
       "      <th>...</th>\n",
       "      <th>Bolha aberta interna</th>\n",
       "      <th>Cascão cortante</th>\n",
       "      <th>Espessura abaixo do mínimo</th>\n",
       "      <th>Fundo deformado</th>\n",
       "      <th>Bolha na alça</th>\n",
       "      <th>Ferrugem no corpo</th>\n",
       "      <th>Fagulha</th>\n",
       "      <th>Alça deformada</th>\n",
       "      <th>Instabilidade</th>\n",
       "      <th>Crú</th>\n",
       "    </tr>\n",
       "    <tr>\n",
       "      <th>Ordem de prod</th>\n",
       "      <th>Ref. do Artigo</th>\n",
       "      <th>Data de prod</th>\n",
       "      <th></th>\n",
       "      <th></th>\n",
       "      <th></th>\n",
       "      <th></th>\n",
       "      <th></th>\n",
       "      <th></th>\n",
       "      <th></th>\n",
       "      <th></th>\n",
       "      <th></th>\n",
       "      <th></th>\n",
       "      <th></th>\n",
       "      <th></th>\n",
       "      <th></th>\n",
       "      <th></th>\n",
       "      <th></th>\n",
       "      <th></th>\n",
       "      <th></th>\n",
       "      <th></th>\n",
       "      <th></th>\n",
       "      <th></th>\n",
       "      <th></th>\n",
       "    </tr>\n",
       "  </thead>\n",
       "  <tbody>\n",
       "    <tr>\n",
       "      <th rowspan=\"5\" valign=\"top\">192970</th>\n",
       "      <th rowspan=\"5\" valign=\"top\">C0516.0000R</th>\n",
       "      <th>2024-01-03</th>\n",
       "      <td>2126.97</td>\n",
       "      <td>169.3</td>\n",
       "      <td>110.4</td>\n",
       "      <td>32.5</td>\n",
       "      <td>222</td>\n",
       "      <td>Sujo de óleo</td>\n",
       "      <td>31</td>\n",
       "      <td>23</td>\n",
       "      <td>1</td>\n",
       "      <td>5</td>\n",
       "      <td>...</td>\n",
       "      <td>0</td>\n",
       "      <td>0</td>\n",
       "      <td>0</td>\n",
       "      <td>0</td>\n",
       "      <td>0</td>\n",
       "      <td>0</td>\n",
       "      <td>0</td>\n",
       "      <td>0</td>\n",
       "      <td>0</td>\n",
       "      <td>0</td>\n",
       "    </tr>\n",
       "    <tr>\n",
       "      <th>2024-01-04</th>\n",
       "      <td>2118.92</td>\n",
       "      <td>169.7</td>\n",
       "      <td>85.6</td>\n",
       "      <td>18.1</td>\n",
       "      <td>249</td>\n",
       "      <td>Sujo de óleo</td>\n",
       "      <td>49</td>\n",
       "      <td>15</td>\n",
       "      <td>6</td>\n",
       "      <td>14</td>\n",
       "      <td>...</td>\n",
       "      <td>0</td>\n",
       "      <td>0</td>\n",
       "      <td>0</td>\n",
       "      <td>0</td>\n",
       "      <td>0</td>\n",
       "      <td>0</td>\n",
       "      <td>0</td>\n",
       "      <td>0</td>\n",
       "      <td>0</td>\n",
       "      <td>0</td>\n",
       "    </tr>\n",
       "    <tr>\n",
       "      <th>2024-01-05</th>\n",
       "      <td>2125.00</td>\n",
       "      <td>173.6</td>\n",
       "      <td>140.5</td>\n",
       "      <td>32.9</td>\n",
       "      <td>268</td>\n",
       "      <td>Sujo de óleo</td>\n",
       "      <td>49</td>\n",
       "      <td>25</td>\n",
       "      <td>3</td>\n",
       "      <td>16</td>\n",
       "      <td>...</td>\n",
       "      <td>0</td>\n",
       "      <td>0</td>\n",
       "      <td>0</td>\n",
       "      <td>0</td>\n",
       "      <td>0</td>\n",
       "      <td>0</td>\n",
       "      <td>0</td>\n",
       "      <td>0</td>\n",
       "      <td>0</td>\n",
       "      <td>0</td>\n",
       "    </tr>\n",
       "    <tr>\n",
       "      <th>2024-01-06</th>\n",
       "      <td>2125.40</td>\n",
       "      <td>170.2</td>\n",
       "      <td>144.7</td>\n",
       "      <td>32.7</td>\n",
       "      <td>242</td>\n",
       "      <td>Sujo de óleo</td>\n",
       "      <td>73</td>\n",
       "      <td>20</td>\n",
       "      <td>5</td>\n",
       "      <td>20</td>\n",
       "      <td>...</td>\n",
       "      <td>0</td>\n",
       "      <td>0</td>\n",
       "      <td>0</td>\n",
       "      <td>0</td>\n",
       "      <td>0</td>\n",
       "      <td>0</td>\n",
       "      <td>0</td>\n",
       "      <td>0</td>\n",
       "      <td>0</td>\n",
       "      <td>0</td>\n",
       "    </tr>\n",
       "    <tr>\n",
       "      <th>2024-01-07</th>\n",
       "      <td>2126.76</td>\n",
       "      <td>171.7</td>\n",
       "      <td>141.5</td>\n",
       "      <td>30.2</td>\n",
       "      <td>232</td>\n",
       "      <td>Sujo de óleo</td>\n",
       "      <td>49</td>\n",
       "      <td>24</td>\n",
       "      <td>0</td>\n",
       "      <td>8</td>\n",
       "      <td>...</td>\n",
       "      <td>0</td>\n",
       "      <td>0</td>\n",
       "      <td>0</td>\n",
       "      <td>0</td>\n",
       "      <td>0</td>\n",
       "      <td>0</td>\n",
       "      <td>0</td>\n",
       "      <td>0</td>\n",
       "      <td>0</td>\n",
       "      <td>0</td>\n",
       "    </tr>\n",
       "    <tr>\n",
       "      <th>...</th>\n",
       "      <th>...</th>\n",
       "      <th>...</th>\n",
       "      <td>...</td>\n",
       "      <td>...</td>\n",
       "      <td>...</td>\n",
       "      <td>...</td>\n",
       "      <td>...</td>\n",
       "      <td>...</td>\n",
       "      <td>...</td>\n",
       "      <td>...</td>\n",
       "      <td>...</td>\n",
       "      <td>...</td>\n",
       "      <td>...</td>\n",
       "      <td>...</td>\n",
       "      <td>...</td>\n",
       "      <td>...</td>\n",
       "      <td>...</td>\n",
       "      <td>...</td>\n",
       "      <td>...</td>\n",
       "      <td>...</td>\n",
       "      <td>...</td>\n",
       "      <td>...</td>\n",
       "      <td>...</td>\n",
       "    </tr>\n",
       "    <tr>\n",
       "      <th rowspan=\"5\" valign=\"top\">194121</th>\n",
       "      <th rowspan=\"5\" valign=\"top\">C0516.0000R</th>\n",
       "      <th>2024-06-26</th>\n",
       "      <td>2154.44</td>\n",
       "      <td>169.0</td>\n",
       "      <td>124.3</td>\n",
       "      <td>32.6</td>\n",
       "      <td>258</td>\n",
       "      <td>Sujo de óleo</td>\n",
       "      <td>40</td>\n",
       "      <td>39</td>\n",
       "      <td>9</td>\n",
       "      <td>15</td>\n",
       "      <td>...</td>\n",
       "      <td>1</td>\n",
       "      <td>0</td>\n",
       "      <td>0</td>\n",
       "      <td>0</td>\n",
       "      <td>0</td>\n",
       "      <td>0</td>\n",
       "      <td>0</td>\n",
       "      <td>0</td>\n",
       "      <td>0</td>\n",
       "      <td>0</td>\n",
       "    </tr>\n",
       "    <tr>\n",
       "      <th>2024-06-27</th>\n",
       "      <td>2152.32</td>\n",
       "      <td>168.9</td>\n",
       "      <td>120.2</td>\n",
       "      <td>33.6</td>\n",
       "      <td>218</td>\n",
       "      <td>Sujo de óleo</td>\n",
       "      <td>75</td>\n",
       "      <td>33</td>\n",
       "      <td>4</td>\n",
       "      <td>11</td>\n",
       "      <td>...</td>\n",
       "      <td>0</td>\n",
       "      <td>0</td>\n",
       "      <td>0</td>\n",
       "      <td>0</td>\n",
       "      <td>0</td>\n",
       "      <td>0</td>\n",
       "      <td>0</td>\n",
       "      <td>0</td>\n",
       "      <td>0</td>\n",
       "      <td>0</td>\n",
       "    </tr>\n",
       "    <tr>\n",
       "      <th>2024-06-28</th>\n",
       "      <td>2145.60</td>\n",
       "      <td>169.3</td>\n",
       "      <td>124.1</td>\n",
       "      <td>34.2</td>\n",
       "      <td>218</td>\n",
       "      <td>Sujo de óleo</td>\n",
       "      <td>54</td>\n",
       "      <td>15</td>\n",
       "      <td>19</td>\n",
       "      <td>16</td>\n",
       "      <td>...</td>\n",
       "      <td>0</td>\n",
       "      <td>0</td>\n",
       "      <td>0</td>\n",
       "      <td>0</td>\n",
       "      <td>0</td>\n",
       "      <td>0</td>\n",
       "      <td>0</td>\n",
       "      <td>0</td>\n",
       "      <td>0</td>\n",
       "      <td>0</td>\n",
       "    </tr>\n",
       "    <tr>\n",
       "      <th>2024-06-29</th>\n",
       "      <td>2145.60</td>\n",
       "      <td>168.8</td>\n",
       "      <td>120.0</td>\n",
       "      <td>33.5</td>\n",
       "      <td>213</td>\n",
       "      <td>Sujo de óleo</td>\n",
       "      <td>54</td>\n",
       "      <td>27</td>\n",
       "      <td>20</td>\n",
       "      <td>19</td>\n",
       "      <td>...</td>\n",
       "      <td>0</td>\n",
       "      <td>0</td>\n",
       "      <td>0</td>\n",
       "      <td>0</td>\n",
       "      <td>0</td>\n",
       "      <td>0</td>\n",
       "      <td>1</td>\n",
       "      <td>0</td>\n",
       "      <td>0</td>\n",
       "      <td>0</td>\n",
       "    </tr>\n",
       "    <tr>\n",
       "      <th>2024-06-30</th>\n",
       "      <td>2148.00</td>\n",
       "      <td>169.2</td>\n",
       "      <td>122.9</td>\n",
       "      <td>34.6</td>\n",
       "      <td>256</td>\n",
       "      <td>Sujo de óleo</td>\n",
       "      <td>58</td>\n",
       "      <td>25</td>\n",
       "      <td>29</td>\n",
       "      <td>17</td>\n",
       "      <td>...</td>\n",
       "      <td>0</td>\n",
       "      <td>0</td>\n",
       "      <td>0</td>\n",
       "      <td>0</td>\n",
       "      <td>0</td>\n",
       "      <td>0</td>\n",
       "      <td>0</td>\n",
       "      <td>0</td>\n",
       "      <td>0</td>\n",
       "      <td>0</td>\n",
       "    </tr>\n",
       "  </tbody>\n",
       "</table>\n",
       "<p>200 rows × 133 columns</p>\n",
       "</div>"
      ],
      "text/plain": [
       "                                           Temperatura (F°)  Peso médio (g)  \\\n",
       "Ordem de prod Ref. do Artigo Data de prod                                     \n",
       "192970        C0516.0000R    2024-01-03             2126.97           169.3   \n",
       "                             2024-01-04             2118.92           169.7   \n",
       "                             2024-01-05             2125.00           173.6   \n",
       "                             2024-01-06             2125.40           170.2   \n",
       "                             2024-01-07             2126.76           171.7   \n",
       "...                                                     ...             ...   \n",
       "194121        C0516.0000R    2024-06-26             2154.44           169.0   \n",
       "                             2024-06-27             2152.32           168.9   \n",
       "                             2024-06-28             2145.60           169.3   \n",
       "                             2024-06-29             2145.60           168.8   \n",
       "                             2024-06-30             2148.00           169.2   \n",
       "\n",
       "                                           Comprimento médio (mm)  Diâmetro  \\\n",
       "Ordem de prod Ref. do Artigo Data de prod                                     \n",
       "192970        C0516.0000R    2024-01-03                     110.4      32.5   \n",
       "                             2024-01-04                      85.6      18.1   \n",
       "                             2024-01-05                     140.5      32.9   \n",
       "                             2024-01-06                     144.7      32.7   \n",
       "                             2024-01-07                     141.5      30.2   \n",
       "...                                                           ...       ...   \n",
       "194121        C0516.0000R    2024-06-26                     124.3      32.6   \n",
       "                             2024-06-27                     120.2      33.6   \n",
       "                             2024-06-28                     124.1      34.2   \n",
       "                             2024-06-29                     120.0      33.5   \n",
       "                             2024-06-30                     122.9      34.6   \n",
       "\n",
       "                                           Total de Defeitos no Dia  \\\n",
       "Ordem de prod Ref. do Artigo Data de prod                             \n",
       "192970        C0516.0000R    2024-01-03                         222   \n",
       "                             2024-01-04                         249   \n",
       "                             2024-01-05                         268   \n",
       "                             2024-01-06                         242   \n",
       "                             2024-01-07                         232   \n",
       "...                                                             ...   \n",
       "194121        C0516.0000R    2024-06-26                         258   \n",
       "                             2024-06-27                         218   \n",
       "                             2024-06-28                         218   \n",
       "                             2024-06-29                         213   \n",
       "                             2024-06-30                         256   \n",
       "\n",
       "                                          Defeito Mais Frequente do Dia  \\\n",
       "Ordem de prod Ref. do Artigo Data de prod                                 \n",
       "192970        C0516.0000R    2024-01-03                    Sujo de óleo   \n",
       "                             2024-01-04                    Sujo de óleo   \n",
       "                             2024-01-05                    Sujo de óleo   \n",
       "                             2024-01-06                    Sujo de óleo   \n",
       "                             2024-01-07                    Sujo de óleo   \n",
       "...                                                                 ...   \n",
       "194121        C0516.0000R    2024-06-26                    Sujo de óleo   \n",
       "                             2024-06-27                    Sujo de óleo   \n",
       "                             2024-06-28                    Sujo de óleo   \n",
       "                             2024-06-29                    Sujo de óleo   \n",
       "                             2024-06-30                    Sujo de óleo   \n",
       "\n",
       "                                           Sujo de óleo  Rugas  \\\n",
       "Ordem de prod Ref. do Artigo Data de prod                        \n",
       "192970        C0516.0000R    2024-01-03              31     23   \n",
       "                             2024-01-04              49     15   \n",
       "                             2024-01-05              49     25   \n",
       "                             2024-01-06              73     20   \n",
       "                             2024-01-07              49     24   \n",
       "...                                                 ...    ...   \n",
       "194121        C0516.0000R    2024-06-26              40     39   \n",
       "                             2024-06-27              75     33   \n",
       "                             2024-06-28              54     15   \n",
       "                             2024-06-29              54     27   \n",
       "                             2024-06-30              58     25   \n",
       "\n",
       "                                           Racho na terminação  \\\n",
       "Ordem de prod Ref. do Artigo Data de prod                        \n",
       "192970        C0516.0000R    2024-01-03                      1   \n",
       "                             2024-01-04                      6   \n",
       "                             2024-01-05                      3   \n",
       "                             2024-01-06                      5   \n",
       "                             2024-01-07                      0   \n",
       "...                                                        ...   \n",
       "194121        C0516.0000R    2024-06-26                      9   \n",
       "                             2024-06-27                      4   \n",
       "                             2024-06-28                     19   \n",
       "                             2024-06-29                     20   \n",
       "                             2024-06-30                     29   \n",
       "\n",
       "                                           Trinca por choque térmico  ...  \\\n",
       "Ordem de prod Ref. do Artigo Data de prod                             ...   \n",
       "192970        C0516.0000R    2024-01-03                            5  ...   \n",
       "                             2024-01-04                           14  ...   \n",
       "                             2024-01-05                           16  ...   \n",
       "                             2024-01-06                           20  ...   \n",
       "                             2024-01-07                            8  ...   \n",
       "...                                                              ...  ...   \n",
       "194121        C0516.0000R    2024-06-26                           15  ...   \n",
       "                             2024-06-27                           11  ...   \n",
       "                             2024-06-28                           16  ...   \n",
       "                             2024-06-29                           19  ...   \n",
       "                             2024-06-30                           17  ...   \n",
       "\n",
       "                                           Bolha aberta interna  \\\n",
       "Ordem de prod Ref. do Artigo Data de prod                         \n",
       "192970        C0516.0000R    2024-01-03                       0   \n",
       "                             2024-01-04                       0   \n",
       "                             2024-01-05                       0   \n",
       "                             2024-01-06                       0   \n",
       "                             2024-01-07                       0   \n",
       "...                                                         ...   \n",
       "194121        C0516.0000R    2024-06-26                       1   \n",
       "                             2024-06-27                       0   \n",
       "                             2024-06-28                       0   \n",
       "                             2024-06-29                       0   \n",
       "                             2024-06-30                       0   \n",
       "\n",
       "                                           Cascão cortante  \\\n",
       "Ordem de prod Ref. do Artigo Data de prod                    \n",
       "192970        C0516.0000R    2024-01-03                  0   \n",
       "                             2024-01-04                  0   \n",
       "                             2024-01-05                  0   \n",
       "                             2024-01-06                  0   \n",
       "                             2024-01-07                  0   \n",
       "...                                                    ...   \n",
       "194121        C0516.0000R    2024-06-26                  0   \n",
       "                             2024-06-27                  0   \n",
       "                             2024-06-28                  0   \n",
       "                             2024-06-29                  0   \n",
       "                             2024-06-30                  0   \n",
       "\n",
       "                                           Espessura abaixo do mínimo  \\\n",
       "Ordem de prod Ref. do Artigo Data de prod                               \n",
       "192970        C0516.0000R    2024-01-03                             0   \n",
       "                             2024-01-04                             0   \n",
       "                             2024-01-05                             0   \n",
       "                             2024-01-06                             0   \n",
       "                             2024-01-07                             0   \n",
       "...                                                               ...   \n",
       "194121        C0516.0000R    2024-06-26                             0   \n",
       "                             2024-06-27                             0   \n",
       "                             2024-06-28                             0   \n",
       "                             2024-06-29                             0   \n",
       "                             2024-06-30                             0   \n",
       "\n",
       "                                           Fundo deformado  Bolha na alça  \\\n",
       "Ordem de prod Ref. do Artigo Data de prod                                   \n",
       "192970        C0516.0000R    2024-01-03                  0              0   \n",
       "                             2024-01-04                  0              0   \n",
       "                             2024-01-05                  0              0   \n",
       "                             2024-01-06                  0              0   \n",
       "                             2024-01-07                  0              0   \n",
       "...                                                    ...            ...   \n",
       "194121        C0516.0000R    2024-06-26                  0              0   \n",
       "                             2024-06-27                  0              0   \n",
       "                             2024-06-28                  0              0   \n",
       "                             2024-06-29                  0              0   \n",
       "                             2024-06-30                  0              0   \n",
       "\n",
       "                                           Ferrugem no corpo  Fagulha  \\\n",
       "Ordem de prod Ref. do Artigo Data de prod                               \n",
       "192970        C0516.0000R    2024-01-03                    0        0   \n",
       "                             2024-01-04                    0        0   \n",
       "                             2024-01-05                    0        0   \n",
       "                             2024-01-06                    0        0   \n",
       "                             2024-01-07                    0        0   \n",
       "...                                                      ...      ...   \n",
       "194121        C0516.0000R    2024-06-26                    0        0   \n",
       "                             2024-06-27                    0        0   \n",
       "                             2024-06-28                    0        0   \n",
       "                             2024-06-29                    0        1   \n",
       "                             2024-06-30                    0        0   \n",
       "\n",
       "                                           Alça deformada  Instabilidade  Crú  \n",
       "Ordem de prod Ref. do Artigo Data de prod                                      \n",
       "192970        C0516.0000R    2024-01-03                 0              0    0  \n",
       "                             2024-01-04                 0              0    0  \n",
       "                             2024-01-05                 0              0    0  \n",
       "                             2024-01-06                 0              0    0  \n",
       "                             2024-01-07                 0              0    0  \n",
       "...                                                   ...            ...  ...  \n",
       "194121        C0516.0000R    2024-06-26                 0              0    0  \n",
       "                             2024-06-27                 0              0    0  \n",
       "                             2024-06-28                 0              0    0  \n",
       "                             2024-06-29                 0              0    0  \n",
       "                             2024-06-30                 0              0    0  \n",
       "\n",
       "[200 rows x 133 columns]"
      ]
     },
     "execution_count": 516,
     "metadata": {},
     "output_type": "execute_result"
    }
   ],
   "source": [
    "df"
   ]
  },
  {
   "cell_type": "markdown",
   "metadata": {},
   "source": [
    "### Verificando se o dataframe está limpo e padronizado"
   ]
  },
  {
   "cell_type": "code",
   "execution_count": 517,
   "metadata": {},
   "outputs": [
    {
     "name": "stdout",
     "output_type": "stream",
     "text": [
      "<class 'pandas.core.frame.DataFrame'>\n",
      "MultiIndex: 200 entries, (192970, 'C0516.0000R', '2024-01-03') to (194121, 'C0516.0000R', '2024-06-30')\n",
      "Columns: 133 entries, Temperatura (F°) to Crú\n",
      "dtypes: float64(4), int64(128), object(1)\n",
      "memory usage: 216.2+ KB\n"
     ]
    }
   ],
   "source": [
    "df.info()"
   ]
  },
  {
   "cell_type": "code",
   "execution_count": 518,
   "metadata": {},
   "outputs": [
    {
     "data": {
      "text/plain": [
       "Temperatura (F°)            0\n",
       "Peso médio (g)              0\n",
       "Comprimento médio (mm)      0\n",
       "Diâmetro                    0\n",
       "Total de Defeitos no Dia    0\n",
       "                           ..\n",
       "Ferrugem no corpo           0\n",
       "Fagulha                     0\n",
       "Alça deformada              0\n",
       "Instabilidade               0\n",
       "Crú                         0\n",
       "Length: 133, dtype: int64"
      ]
     },
     "execution_count": 518,
     "metadata": {},
     "output_type": "execute_result"
    }
   ],
   "source": [
    "df.isnull().sum()"
   ]
  },
  {
   "cell_type": "code",
   "execution_count": 519,
   "metadata": {},
   "outputs": [],
   "source": [
    "df_reset = df.reset_index()"
   ]
  },
  {
   "cell_type": "code",
   "execution_count": 520,
   "metadata": {},
   "outputs": [
    {
     "data": {
      "text/html": [
       "<div>\n",
       "<style scoped>\n",
       "    .dataframe tbody tr th:only-of-type {\n",
       "        vertical-align: middle;\n",
       "    }\n",
       "\n",
       "    .dataframe tbody tr th {\n",
       "        vertical-align: top;\n",
       "    }\n",
       "\n",
       "    .dataframe thead th {\n",
       "        text-align: right;\n",
       "    }\n",
       "</style>\n",
       "<table border=\"1\" class=\"dataframe\">\n",
       "  <thead>\n",
       "    <tr style=\"text-align: right;\">\n",
       "      <th></th>\n",
       "      <th>Ordem de prod</th>\n",
       "      <th>Ref. do Artigo</th>\n",
       "      <th>Data de prod</th>\n",
       "      <th>Temperatura (F°)</th>\n",
       "      <th>Peso médio (g)</th>\n",
       "      <th>Comprimento médio (mm)</th>\n",
       "      <th>Diâmetro</th>\n",
       "      <th>Total de Defeitos no Dia</th>\n",
       "      <th>Defeito Mais Frequente do Dia</th>\n",
       "      <th>Sujo de óleo</th>\n",
       "      <th>...</th>\n",
       "      <th>Bolha aberta interna</th>\n",
       "      <th>Cascão cortante</th>\n",
       "      <th>Espessura abaixo do mínimo</th>\n",
       "      <th>Fundo deformado</th>\n",
       "      <th>Bolha na alça</th>\n",
       "      <th>Ferrugem no corpo</th>\n",
       "      <th>Fagulha</th>\n",
       "      <th>Alça deformada</th>\n",
       "      <th>Instabilidade</th>\n",
       "      <th>Crú</th>\n",
       "    </tr>\n",
       "  </thead>\n",
       "  <tbody>\n",
       "    <tr>\n",
       "      <th>0</th>\n",
       "      <td>192970</td>\n",
       "      <td>C0516.0000R</td>\n",
       "      <td>2024-01-03</td>\n",
       "      <td>2126.97</td>\n",
       "      <td>169.3</td>\n",
       "      <td>110.4</td>\n",
       "      <td>32.5</td>\n",
       "      <td>222</td>\n",
       "      <td>Sujo de óleo</td>\n",
       "      <td>31</td>\n",
       "      <td>...</td>\n",
       "      <td>0</td>\n",
       "      <td>0</td>\n",
       "      <td>0</td>\n",
       "      <td>0</td>\n",
       "      <td>0</td>\n",
       "      <td>0</td>\n",
       "      <td>0</td>\n",
       "      <td>0</td>\n",
       "      <td>0</td>\n",
       "      <td>0</td>\n",
       "    </tr>\n",
       "    <tr>\n",
       "      <th>1</th>\n",
       "      <td>192970</td>\n",
       "      <td>C0516.0000R</td>\n",
       "      <td>2024-01-04</td>\n",
       "      <td>2118.92</td>\n",
       "      <td>169.7</td>\n",
       "      <td>85.6</td>\n",
       "      <td>18.1</td>\n",
       "      <td>249</td>\n",
       "      <td>Sujo de óleo</td>\n",
       "      <td>49</td>\n",
       "      <td>...</td>\n",
       "      <td>0</td>\n",
       "      <td>0</td>\n",
       "      <td>0</td>\n",
       "      <td>0</td>\n",
       "      <td>0</td>\n",
       "      <td>0</td>\n",
       "      <td>0</td>\n",
       "      <td>0</td>\n",
       "      <td>0</td>\n",
       "      <td>0</td>\n",
       "    </tr>\n",
       "    <tr>\n",
       "      <th>2</th>\n",
       "      <td>192970</td>\n",
       "      <td>C0516.0000R</td>\n",
       "      <td>2024-01-05</td>\n",
       "      <td>2125.00</td>\n",
       "      <td>173.6</td>\n",
       "      <td>140.5</td>\n",
       "      <td>32.9</td>\n",
       "      <td>268</td>\n",
       "      <td>Sujo de óleo</td>\n",
       "      <td>49</td>\n",
       "      <td>...</td>\n",
       "      <td>0</td>\n",
       "      <td>0</td>\n",
       "      <td>0</td>\n",
       "      <td>0</td>\n",
       "      <td>0</td>\n",
       "      <td>0</td>\n",
       "      <td>0</td>\n",
       "      <td>0</td>\n",
       "      <td>0</td>\n",
       "      <td>0</td>\n",
       "    </tr>\n",
       "    <tr>\n",
       "      <th>3</th>\n",
       "      <td>192970</td>\n",
       "      <td>C0516.0000R</td>\n",
       "      <td>2024-01-06</td>\n",
       "      <td>2125.40</td>\n",
       "      <td>170.2</td>\n",
       "      <td>144.7</td>\n",
       "      <td>32.7</td>\n",
       "      <td>242</td>\n",
       "      <td>Sujo de óleo</td>\n",
       "      <td>73</td>\n",
       "      <td>...</td>\n",
       "      <td>0</td>\n",
       "      <td>0</td>\n",
       "      <td>0</td>\n",
       "      <td>0</td>\n",
       "      <td>0</td>\n",
       "      <td>0</td>\n",
       "      <td>0</td>\n",
       "      <td>0</td>\n",
       "      <td>0</td>\n",
       "      <td>0</td>\n",
       "    </tr>\n",
       "    <tr>\n",
       "      <th>4</th>\n",
       "      <td>192970</td>\n",
       "      <td>C0516.0000R</td>\n",
       "      <td>2024-01-07</td>\n",
       "      <td>2126.76</td>\n",
       "      <td>171.7</td>\n",
       "      <td>141.5</td>\n",
       "      <td>30.2</td>\n",
       "      <td>232</td>\n",
       "      <td>Sujo de óleo</td>\n",
       "      <td>49</td>\n",
       "      <td>...</td>\n",
       "      <td>0</td>\n",
       "      <td>0</td>\n",
       "      <td>0</td>\n",
       "      <td>0</td>\n",
       "      <td>0</td>\n",
       "      <td>0</td>\n",
       "      <td>0</td>\n",
       "      <td>0</td>\n",
       "      <td>0</td>\n",
       "      <td>0</td>\n",
       "    </tr>\n",
       "    <tr>\n",
       "      <th>...</th>\n",
       "      <td>...</td>\n",
       "      <td>...</td>\n",
       "      <td>...</td>\n",
       "      <td>...</td>\n",
       "      <td>...</td>\n",
       "      <td>...</td>\n",
       "      <td>...</td>\n",
       "      <td>...</td>\n",
       "      <td>...</td>\n",
       "      <td>...</td>\n",
       "      <td>...</td>\n",
       "      <td>...</td>\n",
       "      <td>...</td>\n",
       "      <td>...</td>\n",
       "      <td>...</td>\n",
       "      <td>...</td>\n",
       "      <td>...</td>\n",
       "      <td>...</td>\n",
       "      <td>...</td>\n",
       "      <td>...</td>\n",
       "      <td>...</td>\n",
       "    </tr>\n",
       "    <tr>\n",
       "      <th>195</th>\n",
       "      <td>194121</td>\n",
       "      <td>C0516.0000R</td>\n",
       "      <td>2024-06-26</td>\n",
       "      <td>2154.44</td>\n",
       "      <td>169.0</td>\n",
       "      <td>124.3</td>\n",
       "      <td>32.6</td>\n",
       "      <td>258</td>\n",
       "      <td>Sujo de óleo</td>\n",
       "      <td>40</td>\n",
       "      <td>...</td>\n",
       "      <td>1</td>\n",
       "      <td>0</td>\n",
       "      <td>0</td>\n",
       "      <td>0</td>\n",
       "      <td>0</td>\n",
       "      <td>0</td>\n",
       "      <td>0</td>\n",
       "      <td>0</td>\n",
       "      <td>0</td>\n",
       "      <td>0</td>\n",
       "    </tr>\n",
       "    <tr>\n",
       "      <th>196</th>\n",
       "      <td>194121</td>\n",
       "      <td>C0516.0000R</td>\n",
       "      <td>2024-06-27</td>\n",
       "      <td>2152.32</td>\n",
       "      <td>168.9</td>\n",
       "      <td>120.2</td>\n",
       "      <td>33.6</td>\n",
       "      <td>218</td>\n",
       "      <td>Sujo de óleo</td>\n",
       "      <td>75</td>\n",
       "      <td>...</td>\n",
       "      <td>0</td>\n",
       "      <td>0</td>\n",
       "      <td>0</td>\n",
       "      <td>0</td>\n",
       "      <td>0</td>\n",
       "      <td>0</td>\n",
       "      <td>0</td>\n",
       "      <td>0</td>\n",
       "      <td>0</td>\n",
       "      <td>0</td>\n",
       "    </tr>\n",
       "    <tr>\n",
       "      <th>197</th>\n",
       "      <td>194121</td>\n",
       "      <td>C0516.0000R</td>\n",
       "      <td>2024-06-28</td>\n",
       "      <td>2145.60</td>\n",
       "      <td>169.3</td>\n",
       "      <td>124.1</td>\n",
       "      <td>34.2</td>\n",
       "      <td>218</td>\n",
       "      <td>Sujo de óleo</td>\n",
       "      <td>54</td>\n",
       "      <td>...</td>\n",
       "      <td>0</td>\n",
       "      <td>0</td>\n",
       "      <td>0</td>\n",
       "      <td>0</td>\n",
       "      <td>0</td>\n",
       "      <td>0</td>\n",
       "      <td>0</td>\n",
       "      <td>0</td>\n",
       "      <td>0</td>\n",
       "      <td>0</td>\n",
       "    </tr>\n",
       "    <tr>\n",
       "      <th>198</th>\n",
       "      <td>194121</td>\n",
       "      <td>C0516.0000R</td>\n",
       "      <td>2024-06-29</td>\n",
       "      <td>2145.60</td>\n",
       "      <td>168.8</td>\n",
       "      <td>120.0</td>\n",
       "      <td>33.5</td>\n",
       "      <td>213</td>\n",
       "      <td>Sujo de óleo</td>\n",
       "      <td>54</td>\n",
       "      <td>...</td>\n",
       "      <td>0</td>\n",
       "      <td>0</td>\n",
       "      <td>0</td>\n",
       "      <td>0</td>\n",
       "      <td>0</td>\n",
       "      <td>0</td>\n",
       "      <td>1</td>\n",
       "      <td>0</td>\n",
       "      <td>0</td>\n",
       "      <td>0</td>\n",
       "    </tr>\n",
       "    <tr>\n",
       "      <th>199</th>\n",
       "      <td>194121</td>\n",
       "      <td>C0516.0000R</td>\n",
       "      <td>2024-06-30</td>\n",
       "      <td>2148.00</td>\n",
       "      <td>169.2</td>\n",
       "      <td>122.9</td>\n",
       "      <td>34.6</td>\n",
       "      <td>256</td>\n",
       "      <td>Sujo de óleo</td>\n",
       "      <td>58</td>\n",
       "      <td>...</td>\n",
       "      <td>0</td>\n",
       "      <td>0</td>\n",
       "      <td>0</td>\n",
       "      <td>0</td>\n",
       "      <td>0</td>\n",
       "      <td>0</td>\n",
       "      <td>0</td>\n",
       "      <td>0</td>\n",
       "      <td>0</td>\n",
       "      <td>0</td>\n",
       "    </tr>\n",
       "  </tbody>\n",
       "</table>\n",
       "<p>200 rows × 136 columns</p>\n",
       "</div>"
      ],
      "text/plain": [
       "     Ordem de prod Ref. do Artigo Data de prod  Temperatura (F°)  \\\n",
       "0           192970    C0516.0000R   2024-01-03           2126.97   \n",
       "1           192970    C0516.0000R   2024-01-04           2118.92   \n",
       "2           192970    C0516.0000R   2024-01-05           2125.00   \n",
       "3           192970    C0516.0000R   2024-01-06           2125.40   \n",
       "4           192970    C0516.0000R   2024-01-07           2126.76   \n",
       "..             ...            ...          ...               ...   \n",
       "195         194121    C0516.0000R   2024-06-26           2154.44   \n",
       "196         194121    C0516.0000R   2024-06-27           2152.32   \n",
       "197         194121    C0516.0000R   2024-06-28           2145.60   \n",
       "198         194121    C0516.0000R   2024-06-29           2145.60   \n",
       "199         194121    C0516.0000R   2024-06-30           2148.00   \n",
       "\n",
       "     Peso médio (g)  Comprimento médio (mm)  Diâmetro  \\\n",
       "0             169.3                   110.4      32.5   \n",
       "1             169.7                    85.6      18.1   \n",
       "2             173.6                   140.5      32.9   \n",
       "3             170.2                   144.7      32.7   \n",
       "4             171.7                   141.5      30.2   \n",
       "..              ...                     ...       ...   \n",
       "195           169.0                   124.3      32.6   \n",
       "196           168.9                   120.2      33.6   \n",
       "197           169.3                   124.1      34.2   \n",
       "198           168.8                   120.0      33.5   \n",
       "199           169.2                   122.9      34.6   \n",
       "\n",
       "     Total de Defeitos no Dia Defeito Mais Frequente do Dia  Sujo de óleo  \\\n",
       "0                         222                  Sujo de óleo            31   \n",
       "1                         249                  Sujo de óleo            49   \n",
       "2                         268                  Sujo de óleo            49   \n",
       "3                         242                  Sujo de óleo            73   \n",
       "4                         232                  Sujo de óleo            49   \n",
       "..                        ...                           ...           ...   \n",
       "195                       258                  Sujo de óleo            40   \n",
       "196                       218                  Sujo de óleo            75   \n",
       "197                       218                  Sujo de óleo            54   \n",
       "198                       213                  Sujo de óleo            54   \n",
       "199                       256                  Sujo de óleo            58   \n",
       "\n",
       "     ...  Bolha aberta interna  Cascão cortante  Espessura abaixo do mínimo  \\\n",
       "0    ...                     0                0                           0   \n",
       "1    ...                     0                0                           0   \n",
       "2    ...                     0                0                           0   \n",
       "3    ...                     0                0                           0   \n",
       "4    ...                     0                0                           0   \n",
       "..   ...                   ...              ...                         ...   \n",
       "195  ...                     1                0                           0   \n",
       "196  ...                     0                0                           0   \n",
       "197  ...                     0                0                           0   \n",
       "198  ...                     0                0                           0   \n",
       "199  ...                     0                0                           0   \n",
       "\n",
       "     Fundo deformado  Bolha na alça  Ferrugem no corpo  Fagulha  \\\n",
       "0                  0              0                  0        0   \n",
       "1                  0              0                  0        0   \n",
       "2                  0              0                  0        0   \n",
       "3                  0              0                  0        0   \n",
       "4                  0              0                  0        0   \n",
       "..               ...            ...                ...      ...   \n",
       "195                0              0                  0        0   \n",
       "196                0              0                  0        0   \n",
       "197                0              0                  0        0   \n",
       "198                0              0                  0        1   \n",
       "199                0              0                  0        0   \n",
       "\n",
       "     Alça deformada  Instabilidade  Crú  \n",
       "0                 0              0    0  \n",
       "1                 0              0    0  \n",
       "2                 0              0    0  \n",
       "3                 0              0    0  \n",
       "4                 0              0    0  \n",
       "..              ...            ...  ...  \n",
       "195               0              0    0  \n",
       "196               0              0    0  \n",
       "197               0              0    0  \n",
       "198               0              0    0  \n",
       "199               0              0    0  \n",
       "\n",
       "[200 rows x 136 columns]"
      ]
     },
     "execution_count": 520,
     "metadata": {},
     "output_type": "execute_result"
    }
   ],
   "source": [
    "df_reset"
   ]
  },
  {
   "cell_type": "markdown",
   "metadata": {},
   "source": [
    "# Solução - Prever total de defeitos e defeitos por dia"
   ]
  },
  {
   "cell_type": "markdown",
   "metadata": {},
   "source": [
    "## 1. Complementar a previsão de defeitos\n",
    "O modelo pode ser alimentado não apenas pelas características do pedido (medidas), mas também pela duração da ordem para calcular mais precisamente o total de defeitos.\n",
    "Depoi de analisar, ordens mais longas tendem a ter mais defeitos. Portanto, a duração poderia atuar como um fator adicional importante, ajudando o modelo a ajustar sua previsão de defeitos com base na duração real da ordem.\n",
    "\n",
    "## 2. Prever o total de defeitos, defeitos por dia e dia crítico \n",
    "Com a duração da ordem fornecida, podemos ajustar a sazonalidade dos defeitos. A ideia seria usar a duração para:\n",
    "\n",
    "Mapear quais dias da ordem têm maior probabilidade de defeitos, mesmo antes da produção começar. Ou seja, o modelo pode indicar se a ordem tende a ter mais defeitos nos primeiros dias ou se a distribuição dos defeitos será mais uniforme ao longo da produção.\n",
    "Com ordens de duração maior, a previsão de defeitos poderia ser ajustada para mostrar que mais defeitos podem ocorrer nos dias intermediários ou finais.\n",
    "\n",
    "### Padrões Cíclicos: \n",
    "Se, por exemplo, o Dia 2 costuma ter um número elevado de defeitos, isso pode sugerir problemas recorrentes ou características intrínsecas do processo nesse estágio.\n",
    "\n",
    "### Comparação Escalável: \n",
    "Como as ordens têm durações diferentes, é difícil compará-las diretamente. Normalizar os dias cria um padrão comum que facilita a análise.\n",
    "\n",
    "### Previsibilidade: \n",
    "A partir dessa análise, você pode prever que, em uma nova ordem, o Dia 2 (ou qualquer outro dia normalizado) tem maior probabilidade de apresentar mais defeitos.\n",
    "\n",
    "## 3. Modelagem ajustada pela duração\n",
    "Criar uma lógica que leva em consideração a duração da ordem:\n",
    "\n",
    "**Entradas**: Receberia não apenas as medidas físicas (peso, comprimento, diâmetro) e a duração da ordem, mas também a data de início ou a quantidade de dias de produção.\n",
    "\n",
    "**Processamento**: Com a duração, o modelo poderia ajustar a previsão de defeitos, utilizando o padrão de sazonalidade (dias de maior probabilidade de defeitos).\n",
    "\n",
    "**Saída**: O modelo retornaria tanto o total de defeitos estimados quanto os dias críticos de defeitos (e.g., o segundo dia da ordem, conforme você observou, com maior chance de defeitos).\n"
   ]
  },
  {
   "cell_type": "code",
   "execution_count": 521,
   "metadata": {},
   "outputs": [],
   "source": [
    "df_sazonalidade = df_reset.groupby(['Ordem de prod', 'Data de prod'])[['Total de Defeitos no Dia']].sum().reset_index()"
   ]
  },
  {
   "cell_type": "code",
   "execution_count": 522,
   "metadata": {},
   "outputs": [],
   "source": [
    "df_sazonalidade['Data de prod'] = pd.to_datetime(df_sazonalidade['Data de prod'])"
   ]
  },
  {
   "cell_type": "code",
   "execution_count": 523,
   "metadata": {},
   "outputs": [],
   "source": [
    "df_sazonalidade['Dia da Semana'] = df_sazonalidade['Data de prod'].dt.day_name()\n",
    "df_sazonalidade['Mês'] = df_sazonalidade['Data de prod'].dt.month\n",
    "df_sazonalidade['Dia do Ano'] = df_sazonalidade['Data de prod'].dt.dayofyear"
   ]
  },
  {
   "cell_type": "code",
   "execution_count": 524,
   "metadata": {},
   "outputs": [
    {
     "data": {
      "text/html": [
       "<div>\n",
       "<style scoped>\n",
       "    .dataframe tbody tr th:only-of-type {\n",
       "        vertical-align: middle;\n",
       "    }\n",
       "\n",
       "    .dataframe tbody tr th {\n",
       "        vertical-align: top;\n",
       "    }\n",
       "\n",
       "    .dataframe thead th {\n",
       "        text-align: right;\n",
       "    }\n",
       "</style>\n",
       "<table border=\"1\" class=\"dataframe\">\n",
       "  <thead>\n",
       "    <tr style=\"text-align: right;\">\n",
       "      <th></th>\n",
       "      <th>Ordem de prod</th>\n",
       "      <th>Dias de Duração</th>\n",
       "    </tr>\n",
       "  </thead>\n",
       "  <tbody>\n",
       "    <tr>\n",
       "      <th>0</th>\n",
       "      <td>192970</td>\n",
       "      <td>9</td>\n",
       "    </tr>\n",
       "    <tr>\n",
       "      <th>1</th>\n",
       "      <td>193112</td>\n",
       "      <td>3</td>\n",
       "    </tr>\n",
       "    <tr>\n",
       "      <th>2</th>\n",
       "      <td>193164</td>\n",
       "      <td>12</td>\n",
       "    </tr>\n",
       "    <tr>\n",
       "      <th>3</th>\n",
       "      <td>193206</td>\n",
       "      <td>4</td>\n",
       "    </tr>\n",
       "    <tr>\n",
       "      <th>4</th>\n",
       "      <td>193207</td>\n",
       "      <td>10</td>\n",
       "    </tr>\n",
       "    <tr>\n",
       "      <th>5</th>\n",
       "      <td>193208</td>\n",
       "      <td>2</td>\n",
       "    </tr>\n",
       "    <tr>\n",
       "      <th>6</th>\n",
       "      <td>193209</td>\n",
       "      <td>7</td>\n",
       "    </tr>\n",
       "    <tr>\n",
       "      <th>7</th>\n",
       "      <td>193342</td>\n",
       "      <td>20</td>\n",
       "    </tr>\n",
       "    <tr>\n",
       "      <th>8</th>\n",
       "      <td>193368</td>\n",
       "      <td>7</td>\n",
       "    </tr>\n",
       "    <tr>\n",
       "      <th>9</th>\n",
       "      <td>193459</td>\n",
       "      <td>3</td>\n",
       "    </tr>\n",
       "    <tr>\n",
       "      <th>10</th>\n",
       "      <td>193462</td>\n",
       "      <td>5</td>\n",
       "    </tr>\n",
       "    <tr>\n",
       "      <th>11</th>\n",
       "      <td>193463</td>\n",
       "      <td>8</td>\n",
       "    </tr>\n",
       "    <tr>\n",
       "      <th>12</th>\n",
       "      <td>193533</td>\n",
       "      <td>8</td>\n",
       "    </tr>\n",
       "    <tr>\n",
       "      <th>13</th>\n",
       "      <td>193535</td>\n",
       "      <td>3</td>\n",
       "    </tr>\n",
       "    <tr>\n",
       "      <th>14</th>\n",
       "      <td>193537</td>\n",
       "      <td>3</td>\n",
       "    </tr>\n",
       "    <tr>\n",
       "      <th>15</th>\n",
       "      <td>193594</td>\n",
       "      <td>7</td>\n",
       "    </tr>\n",
       "    <tr>\n",
       "      <th>16</th>\n",
       "      <td>193619</td>\n",
       "      <td>5</td>\n",
       "    </tr>\n",
       "    <tr>\n",
       "      <th>17</th>\n",
       "      <td>193671</td>\n",
       "      <td>4</td>\n",
       "    </tr>\n",
       "    <tr>\n",
       "      <th>18</th>\n",
       "      <td>193686</td>\n",
       "      <td>3</td>\n",
       "    </tr>\n",
       "    <tr>\n",
       "      <th>19</th>\n",
       "      <td>193688</td>\n",
       "      <td>3</td>\n",
       "    </tr>\n",
       "    <tr>\n",
       "      <th>20</th>\n",
       "      <td>193689</td>\n",
       "      <td>3</td>\n",
       "    </tr>\n",
       "    <tr>\n",
       "      <th>21</th>\n",
       "      <td>193692</td>\n",
       "      <td>3</td>\n",
       "    </tr>\n",
       "    <tr>\n",
       "      <th>22</th>\n",
       "      <td>193694</td>\n",
       "      <td>5</td>\n",
       "    </tr>\n",
       "    <tr>\n",
       "      <th>23</th>\n",
       "      <td>193782</td>\n",
       "      <td>11</td>\n",
       "    </tr>\n",
       "    <tr>\n",
       "      <th>24</th>\n",
       "      <td>193783</td>\n",
       "      <td>3</td>\n",
       "    </tr>\n",
       "    <tr>\n",
       "      <th>25</th>\n",
       "      <td>193784</td>\n",
       "      <td>11</td>\n",
       "    </tr>\n",
       "    <tr>\n",
       "      <th>26</th>\n",
       "      <td>193852</td>\n",
       "      <td>5</td>\n",
       "    </tr>\n",
       "    <tr>\n",
       "      <th>27</th>\n",
       "      <td>193882</td>\n",
       "      <td>8</td>\n",
       "    </tr>\n",
       "    <tr>\n",
       "      <th>28</th>\n",
       "      <td>193937</td>\n",
       "      <td>3</td>\n",
       "    </tr>\n",
       "    <tr>\n",
       "      <th>29</th>\n",
       "      <td>193972</td>\n",
       "      <td>2</td>\n",
       "    </tr>\n",
       "    <tr>\n",
       "      <th>30</th>\n",
       "      <td>193973</td>\n",
       "      <td>4</td>\n",
       "    </tr>\n",
       "    <tr>\n",
       "      <th>31</th>\n",
       "      <td>194029</td>\n",
       "      <td>4</td>\n",
       "    </tr>\n",
       "    <tr>\n",
       "      <th>32</th>\n",
       "      <td>194057</td>\n",
       "      <td>3</td>\n",
       "    </tr>\n",
       "    <tr>\n",
       "      <th>33</th>\n",
       "      <td>194113</td>\n",
       "      <td>3</td>\n",
       "    </tr>\n",
       "    <tr>\n",
       "      <th>34</th>\n",
       "      <td>194121</td>\n",
       "      <td>6</td>\n",
       "    </tr>\n",
       "  </tbody>\n",
       "</table>\n",
       "</div>"
      ],
      "text/plain": [
       "    Ordem de prod  Dias de Duração\n",
       "0          192970                9\n",
       "1          193112                3\n",
       "2          193164               12\n",
       "3          193206                4\n",
       "4          193207               10\n",
       "5          193208                2\n",
       "6          193209                7\n",
       "7          193342               20\n",
       "8          193368                7\n",
       "9          193459                3\n",
       "10         193462                5\n",
       "11         193463                8\n",
       "12         193533                8\n",
       "13         193535                3\n",
       "14         193537                3\n",
       "15         193594                7\n",
       "16         193619                5\n",
       "17         193671                4\n",
       "18         193686                3\n",
       "19         193688                3\n",
       "20         193689                3\n",
       "21         193692                3\n",
       "22         193694                5\n",
       "23         193782               11\n",
       "24         193783                3\n",
       "25         193784               11\n",
       "26         193852                5\n",
       "27         193882                8\n",
       "28         193937                3\n",
       "29         193972                2\n",
       "30         193973                4\n",
       "31         194029                4\n",
       "32         194057                3\n",
       "33         194113                3\n",
       "34         194121                6"
      ]
     },
     "execution_count": 524,
     "metadata": {},
     "output_type": "execute_result"
    }
   ],
   "source": [
    "duracao_por_ordem = df_sazonalidade.groupby('Ordem de prod')['Data de prod'].nunique().reset_index()\n",
    "duracao_por_ordem.columns = ['Ordem de prod', 'Dias de Duração']\n",
    "\n",
    "duracao_por_ordem"
   ]
  },
  {
   "cell_type": "code",
   "execution_count": 525,
   "metadata": {},
   "outputs": [],
   "source": [
    "defeitos_por_ordem = df_sazonalidade.groupby('Ordem de prod')['Total de Defeitos no Dia'].sum().reset_index()\n",
    "defeitos_por_ordem.columns = ['Ordem de prod', 'Total de Defeitos por Ordem']"
   ]
  },
  {
   "cell_type": "code",
   "execution_count": 526,
   "metadata": {},
   "outputs": [],
   "source": [
    "duracao_por_ordem = duracao_por_ordem.merge(defeitos_por_ordem, on='Ordem de prod', how='left')"
   ]
  },
  {
   "cell_type": "code",
   "execution_count": 527,
   "metadata": {},
   "outputs": [
    {
     "data": {
      "application/vnd.plotly.v1+json": {
       "config": {
        "plotlyServerURL": "https://plot.ly"
       },
       "data": [
        {
         "hovertemplate": "Dias de Duração=%{x}<br>Total de Defeitos por Ordem=%{marker.color}<extra></extra>",
         "legendgroup": "",
         "marker": {
          "color": [
           2148,
           584,
           2661,
           1041,
           2130,
           369,
           1807,
           3685,
           1464,
           505,
           1241,
           1483,
           1480,
           688,
           718,
           1304,
           963,
           776,
           755,
           616,
           872,
           672,
           1001,
           2538,
           887,
           2073,
           1123,
           1716,
           622,
           520,
           802,
           821,
           468,
           710,
           1436
          ],
          "coloraxis": "coloraxis",
          "size": [
           2148,
           584,
           2661,
           1041,
           2130,
           369,
           1807,
           3685,
           1464,
           505,
           1241,
           1483,
           1480,
           688,
           718,
           1304,
           963,
           776,
           755,
           616,
           872,
           672,
           1001,
           2538,
           887,
           2073,
           1123,
           1716,
           622,
           520,
           802,
           821,
           468,
           710,
           1436
          ],
          "sizemode": "area",
          "sizeref": 9.2125,
          "symbol": "circle"
         },
         "mode": "markers",
         "name": "",
         "orientation": "v",
         "showlegend": false,
         "type": "scatter",
         "x": [
          9,
          3,
          12,
          4,
          10,
          2,
          7,
          20,
          7,
          3,
          5,
          8,
          8,
          3,
          3,
          7,
          5,
          4,
          3,
          3,
          3,
          3,
          5,
          11,
          3,
          11,
          5,
          8,
          3,
          2,
          4,
          4,
          3,
          3,
          6
         ],
         "xaxis": "x",
         "y": [
          2148,
          584,
          2661,
          1041,
          2130,
          369,
          1807,
          3685,
          1464,
          505,
          1241,
          1483,
          1480,
          688,
          718,
          1304,
          963,
          776,
          755,
          616,
          872,
          672,
          1001,
          2538,
          887,
          2073,
          1123,
          1716,
          622,
          520,
          802,
          821,
          468,
          710,
          1436
         ],
         "yaxis": "y"
        }
       ],
       "layout": {
        "coloraxis": {
         "colorbar": {
          "title": {
           "text": "Total de Defeitos por Ordem"
          }
         },
         "colorscale": [
          [
           0,
           "rgb(253, 224, 197)"
          ],
          [
           0.16666666666666666,
           "rgb(250, 203, 166)"
          ],
          [
           0.3333333333333333,
           "rgb(248, 181, 139)"
          ],
          [
           0.5,
           "rgb(245, 158, 114)"
          ],
          [
           0.6666666666666666,
           "rgb(242, 133, 93)"
          ],
          [
           0.8333333333333334,
           "rgb(239, 106, 76)"
          ],
          [
           1,
           "rgb(235, 74, 64)"
          ]
         ]
        },
        "legend": {
         "itemsizing": "constant",
         "tracegroupgap": 0
        },
        "margin": {
         "t": 60
        },
        "template": {
         "data": {
          "bar": [
           {
            "error_x": {
             "color": "#2a3f5f"
            },
            "error_y": {
             "color": "#2a3f5f"
            },
            "marker": {
             "line": {
              "color": "#E5ECF6",
              "width": 0.5
             },
             "pattern": {
              "fillmode": "overlay",
              "size": 10,
              "solidity": 0.2
             }
            },
            "type": "bar"
           }
          ],
          "barpolar": [
           {
            "marker": {
             "line": {
              "color": "#E5ECF6",
              "width": 0.5
             },
             "pattern": {
              "fillmode": "overlay",
              "size": 10,
              "solidity": 0.2
             }
            },
            "type": "barpolar"
           }
          ],
          "carpet": [
           {
            "aaxis": {
             "endlinecolor": "#2a3f5f",
             "gridcolor": "white",
             "linecolor": "white",
             "minorgridcolor": "white",
             "startlinecolor": "#2a3f5f"
            },
            "baxis": {
             "endlinecolor": "#2a3f5f",
             "gridcolor": "white",
             "linecolor": "white",
             "minorgridcolor": "white",
             "startlinecolor": "#2a3f5f"
            },
            "type": "carpet"
           }
          ],
          "choropleth": [
           {
            "colorbar": {
             "outlinewidth": 0,
             "ticks": ""
            },
            "type": "choropleth"
           }
          ],
          "contour": [
           {
            "colorbar": {
             "outlinewidth": 0,
             "ticks": ""
            },
            "colorscale": [
             [
              0,
              "#0d0887"
             ],
             [
              0.1111111111111111,
              "#46039f"
             ],
             [
              0.2222222222222222,
              "#7201a8"
             ],
             [
              0.3333333333333333,
              "#9c179e"
             ],
             [
              0.4444444444444444,
              "#bd3786"
             ],
             [
              0.5555555555555556,
              "#d8576b"
             ],
             [
              0.6666666666666666,
              "#ed7953"
             ],
             [
              0.7777777777777778,
              "#fb9f3a"
             ],
             [
              0.8888888888888888,
              "#fdca26"
             ],
             [
              1,
              "#f0f921"
             ]
            ],
            "type": "contour"
           }
          ],
          "contourcarpet": [
           {
            "colorbar": {
             "outlinewidth": 0,
             "ticks": ""
            },
            "type": "contourcarpet"
           }
          ],
          "heatmap": [
           {
            "colorbar": {
             "outlinewidth": 0,
             "ticks": ""
            },
            "colorscale": [
             [
              0,
              "#0d0887"
             ],
             [
              0.1111111111111111,
              "#46039f"
             ],
             [
              0.2222222222222222,
              "#7201a8"
             ],
             [
              0.3333333333333333,
              "#9c179e"
             ],
             [
              0.4444444444444444,
              "#bd3786"
             ],
             [
              0.5555555555555556,
              "#d8576b"
             ],
             [
              0.6666666666666666,
              "#ed7953"
             ],
             [
              0.7777777777777778,
              "#fb9f3a"
             ],
             [
              0.8888888888888888,
              "#fdca26"
             ],
             [
              1,
              "#f0f921"
             ]
            ],
            "type": "heatmap"
           }
          ],
          "heatmapgl": [
           {
            "colorbar": {
             "outlinewidth": 0,
             "ticks": ""
            },
            "colorscale": [
             [
              0,
              "#0d0887"
             ],
             [
              0.1111111111111111,
              "#46039f"
             ],
             [
              0.2222222222222222,
              "#7201a8"
             ],
             [
              0.3333333333333333,
              "#9c179e"
             ],
             [
              0.4444444444444444,
              "#bd3786"
             ],
             [
              0.5555555555555556,
              "#d8576b"
             ],
             [
              0.6666666666666666,
              "#ed7953"
             ],
             [
              0.7777777777777778,
              "#fb9f3a"
             ],
             [
              0.8888888888888888,
              "#fdca26"
             ],
             [
              1,
              "#f0f921"
             ]
            ],
            "type": "heatmapgl"
           }
          ],
          "histogram": [
           {
            "marker": {
             "pattern": {
              "fillmode": "overlay",
              "size": 10,
              "solidity": 0.2
             }
            },
            "type": "histogram"
           }
          ],
          "histogram2d": [
           {
            "colorbar": {
             "outlinewidth": 0,
             "ticks": ""
            },
            "colorscale": [
             [
              0,
              "#0d0887"
             ],
             [
              0.1111111111111111,
              "#46039f"
             ],
             [
              0.2222222222222222,
              "#7201a8"
             ],
             [
              0.3333333333333333,
              "#9c179e"
             ],
             [
              0.4444444444444444,
              "#bd3786"
             ],
             [
              0.5555555555555556,
              "#d8576b"
             ],
             [
              0.6666666666666666,
              "#ed7953"
             ],
             [
              0.7777777777777778,
              "#fb9f3a"
             ],
             [
              0.8888888888888888,
              "#fdca26"
             ],
             [
              1,
              "#f0f921"
             ]
            ],
            "type": "histogram2d"
           }
          ],
          "histogram2dcontour": [
           {
            "colorbar": {
             "outlinewidth": 0,
             "ticks": ""
            },
            "colorscale": [
             [
              0,
              "#0d0887"
             ],
             [
              0.1111111111111111,
              "#46039f"
             ],
             [
              0.2222222222222222,
              "#7201a8"
             ],
             [
              0.3333333333333333,
              "#9c179e"
             ],
             [
              0.4444444444444444,
              "#bd3786"
             ],
             [
              0.5555555555555556,
              "#d8576b"
             ],
             [
              0.6666666666666666,
              "#ed7953"
             ],
             [
              0.7777777777777778,
              "#fb9f3a"
             ],
             [
              0.8888888888888888,
              "#fdca26"
             ],
             [
              1,
              "#f0f921"
             ]
            ],
            "type": "histogram2dcontour"
           }
          ],
          "mesh3d": [
           {
            "colorbar": {
             "outlinewidth": 0,
             "ticks": ""
            },
            "type": "mesh3d"
           }
          ],
          "parcoords": [
           {
            "line": {
             "colorbar": {
              "outlinewidth": 0,
              "ticks": ""
             }
            },
            "type": "parcoords"
           }
          ],
          "pie": [
           {
            "automargin": true,
            "type": "pie"
           }
          ],
          "scatter": [
           {
            "fillpattern": {
             "fillmode": "overlay",
             "size": 10,
             "solidity": 0.2
            },
            "type": "scatter"
           }
          ],
          "scatter3d": [
           {
            "line": {
             "colorbar": {
              "outlinewidth": 0,
              "ticks": ""
             }
            },
            "marker": {
             "colorbar": {
              "outlinewidth": 0,
              "ticks": ""
             }
            },
            "type": "scatter3d"
           }
          ],
          "scattercarpet": [
           {
            "marker": {
             "colorbar": {
              "outlinewidth": 0,
              "ticks": ""
             }
            },
            "type": "scattercarpet"
           }
          ],
          "scattergeo": [
           {
            "marker": {
             "colorbar": {
              "outlinewidth": 0,
              "ticks": ""
             }
            },
            "type": "scattergeo"
           }
          ],
          "scattergl": [
           {
            "marker": {
             "colorbar": {
              "outlinewidth": 0,
              "ticks": ""
             }
            },
            "type": "scattergl"
           }
          ],
          "scattermapbox": [
           {
            "marker": {
             "colorbar": {
              "outlinewidth": 0,
              "ticks": ""
             }
            },
            "type": "scattermapbox"
           }
          ],
          "scatterpolar": [
           {
            "marker": {
             "colorbar": {
              "outlinewidth": 0,
              "ticks": ""
             }
            },
            "type": "scatterpolar"
           }
          ],
          "scatterpolargl": [
           {
            "marker": {
             "colorbar": {
              "outlinewidth": 0,
              "ticks": ""
             }
            },
            "type": "scatterpolargl"
           }
          ],
          "scatterternary": [
           {
            "marker": {
             "colorbar": {
              "outlinewidth": 0,
              "ticks": ""
             }
            },
            "type": "scatterternary"
           }
          ],
          "surface": [
           {
            "colorbar": {
             "outlinewidth": 0,
             "ticks": ""
            },
            "colorscale": [
             [
              0,
              "#0d0887"
             ],
             [
              0.1111111111111111,
              "#46039f"
             ],
             [
              0.2222222222222222,
              "#7201a8"
             ],
             [
              0.3333333333333333,
              "#9c179e"
             ],
             [
              0.4444444444444444,
              "#bd3786"
             ],
             [
              0.5555555555555556,
              "#d8576b"
             ],
             [
              0.6666666666666666,
              "#ed7953"
             ],
             [
              0.7777777777777778,
              "#fb9f3a"
             ],
             [
              0.8888888888888888,
              "#fdca26"
             ],
             [
              1,
              "#f0f921"
             ]
            ],
            "type": "surface"
           }
          ],
          "table": [
           {
            "cells": {
             "fill": {
              "color": "#EBF0F8"
             },
             "line": {
              "color": "white"
             }
            },
            "header": {
             "fill": {
              "color": "#C8D4E3"
             },
             "line": {
              "color": "white"
             }
            },
            "type": "table"
           }
          ]
         },
         "layout": {
          "annotationdefaults": {
           "arrowcolor": "#2a3f5f",
           "arrowhead": 0,
           "arrowwidth": 1
          },
          "autotypenumbers": "strict",
          "coloraxis": {
           "colorbar": {
            "outlinewidth": 0,
            "ticks": ""
           }
          },
          "colorscale": {
           "diverging": [
            [
             0,
             "#8e0152"
            ],
            [
             0.1,
             "#c51b7d"
            ],
            [
             0.2,
             "#de77ae"
            ],
            [
             0.3,
             "#f1b6da"
            ],
            [
             0.4,
             "#fde0ef"
            ],
            [
             0.5,
             "#f7f7f7"
            ],
            [
             0.6,
             "#e6f5d0"
            ],
            [
             0.7,
             "#b8e186"
            ],
            [
             0.8,
             "#7fbc41"
            ],
            [
             0.9,
             "#4d9221"
            ],
            [
             1,
             "#276419"
            ]
           ],
           "sequential": [
            [
             0,
             "#0d0887"
            ],
            [
             0.1111111111111111,
             "#46039f"
            ],
            [
             0.2222222222222222,
             "#7201a8"
            ],
            [
             0.3333333333333333,
             "#9c179e"
            ],
            [
             0.4444444444444444,
             "#bd3786"
            ],
            [
             0.5555555555555556,
             "#d8576b"
            ],
            [
             0.6666666666666666,
             "#ed7953"
            ],
            [
             0.7777777777777778,
             "#fb9f3a"
            ],
            [
             0.8888888888888888,
             "#fdca26"
            ],
            [
             1,
             "#f0f921"
            ]
           ],
           "sequentialminus": [
            [
             0,
             "#0d0887"
            ],
            [
             0.1111111111111111,
             "#46039f"
            ],
            [
             0.2222222222222222,
             "#7201a8"
            ],
            [
             0.3333333333333333,
             "#9c179e"
            ],
            [
             0.4444444444444444,
             "#bd3786"
            ],
            [
             0.5555555555555556,
             "#d8576b"
            ],
            [
             0.6666666666666666,
             "#ed7953"
            ],
            [
             0.7777777777777778,
             "#fb9f3a"
            ],
            [
             0.8888888888888888,
             "#fdca26"
            ],
            [
             1,
             "#f0f921"
            ]
           ]
          },
          "colorway": [
           "#636efa",
           "#EF553B",
           "#00cc96",
           "#ab63fa",
           "#FFA15A",
           "#19d3f3",
           "#FF6692",
           "#B6E880",
           "#FF97FF",
           "#FECB52"
          ],
          "font": {
           "color": "#2a3f5f"
          },
          "geo": {
           "bgcolor": "white",
           "lakecolor": "white",
           "landcolor": "#E5ECF6",
           "showlakes": true,
           "showland": true,
           "subunitcolor": "white"
          },
          "hoverlabel": {
           "align": "left"
          },
          "hovermode": "closest",
          "mapbox": {
           "style": "light"
          },
          "paper_bgcolor": "white",
          "plot_bgcolor": "#E5ECF6",
          "polar": {
           "angularaxis": {
            "gridcolor": "white",
            "linecolor": "white",
            "ticks": ""
           },
           "bgcolor": "#E5ECF6",
           "radialaxis": {
            "gridcolor": "white",
            "linecolor": "white",
            "ticks": ""
           }
          },
          "scene": {
           "xaxis": {
            "backgroundcolor": "#E5ECF6",
            "gridcolor": "white",
            "gridwidth": 2,
            "linecolor": "white",
            "showbackground": true,
            "ticks": "",
            "zerolinecolor": "white"
           },
           "yaxis": {
            "backgroundcolor": "#E5ECF6",
            "gridcolor": "white",
            "gridwidth": 2,
            "linecolor": "white",
            "showbackground": true,
            "ticks": "",
            "zerolinecolor": "white"
           },
           "zaxis": {
            "backgroundcolor": "#E5ECF6",
            "gridcolor": "white",
            "gridwidth": 2,
            "linecolor": "white",
            "showbackground": true,
            "ticks": "",
            "zerolinecolor": "white"
           }
          },
          "shapedefaults": {
           "line": {
            "color": "#2a3f5f"
           }
          },
          "ternary": {
           "aaxis": {
            "gridcolor": "white",
            "linecolor": "white",
            "ticks": ""
           },
           "baxis": {
            "gridcolor": "white",
            "linecolor": "white",
            "ticks": ""
           },
           "bgcolor": "#E5ECF6",
           "caxis": {
            "gridcolor": "white",
            "linecolor": "white",
            "ticks": ""
           }
          },
          "title": {
           "x": 0.05
          },
          "xaxis": {
           "automargin": true,
           "gridcolor": "white",
           "linecolor": "white",
           "ticks": "",
           "title": {
            "standoff": 15
           },
           "zerolinecolor": "white",
           "zerolinewidth": 2
          },
          "yaxis": {
           "automargin": true,
           "gridcolor": "white",
           "linecolor": "white",
           "ticks": "",
           "title": {
            "standoff": 15
           },
           "zerolinecolor": "white",
           "zerolinewidth": 2
          }
         }
        },
        "xaxis": {
         "anchor": "y",
         "domain": [
          0,
          1
         ],
         "title": {
          "text": "Dias de Duração"
         }
        },
        "yaxis": {
         "anchor": "x",
         "domain": [
          0,
          1
         ],
         "title": {
          "text": "Total de Defeitos por Ordem"
         }
        }
       }
      }
     },
     "metadata": {},
     "output_type": "display_data"
    }
   ],
   "source": [
    "px.scatter(data_frame=duracao_por_ordem, \n",
    "           x='Dias de Duração', \n",
    "           y='Total de Defeitos por Ordem', \n",
    "           color='Total de Defeitos por Ordem', \n",
    "           color_continuous_scale='peach', \n",
    "           size='Total de Defeitos por Ordem')"
   ]
  },
  {
   "cell_type": "code",
   "execution_count": 528,
   "metadata": {},
   "outputs": [],
   "source": [
    "df_sazonalidade = df_sazonalidade.merge(duracao_por_ordem, on='Ordem de prod', how='left')"
   ]
  },
  {
   "cell_type": "code",
   "execution_count": 529,
   "metadata": {},
   "outputs": [
    {
     "data": {
      "text/html": [
       "<div>\n",
       "<style scoped>\n",
       "    .dataframe tbody tr th:only-of-type {\n",
       "        vertical-align: middle;\n",
       "    }\n",
       "\n",
       "    .dataframe tbody tr th {\n",
       "        vertical-align: top;\n",
       "    }\n",
       "\n",
       "    .dataframe thead th {\n",
       "        text-align: right;\n",
       "    }\n",
       "</style>\n",
       "<table border=\"1\" class=\"dataframe\">\n",
       "  <thead>\n",
       "    <tr style=\"text-align: right;\">\n",
       "      <th></th>\n",
       "      <th>Ordem de prod</th>\n",
       "      <th>Data de prod</th>\n",
       "      <th>Total de Defeitos no Dia</th>\n",
       "      <th>Dia da Semana</th>\n",
       "      <th>Mês</th>\n",
       "      <th>Dia do Ano</th>\n",
       "      <th>Dias de Duração</th>\n",
       "      <th>Total de Defeitos por Ordem</th>\n",
       "    </tr>\n",
       "  </thead>\n",
       "  <tbody>\n",
       "    <tr>\n",
       "      <th>0</th>\n",
       "      <td>192970</td>\n",
       "      <td>2024-01-03</td>\n",
       "      <td>222</td>\n",
       "      <td>Wednesday</td>\n",
       "      <td>1</td>\n",
       "      <td>3</td>\n",
       "      <td>9</td>\n",
       "      <td>2148</td>\n",
       "    </tr>\n",
       "    <tr>\n",
       "      <th>1</th>\n",
       "      <td>192970</td>\n",
       "      <td>2024-01-04</td>\n",
       "      <td>249</td>\n",
       "      <td>Thursday</td>\n",
       "      <td>1</td>\n",
       "      <td>4</td>\n",
       "      <td>9</td>\n",
       "      <td>2148</td>\n",
       "    </tr>\n",
       "    <tr>\n",
       "      <th>2</th>\n",
       "      <td>192970</td>\n",
       "      <td>2024-01-05</td>\n",
       "      <td>268</td>\n",
       "      <td>Friday</td>\n",
       "      <td>1</td>\n",
       "      <td>5</td>\n",
       "      <td>9</td>\n",
       "      <td>2148</td>\n",
       "    </tr>\n",
       "    <tr>\n",
       "      <th>3</th>\n",
       "      <td>192970</td>\n",
       "      <td>2024-01-06</td>\n",
       "      <td>242</td>\n",
       "      <td>Saturday</td>\n",
       "      <td>1</td>\n",
       "      <td>6</td>\n",
       "      <td>9</td>\n",
       "      <td>2148</td>\n",
       "    </tr>\n",
       "    <tr>\n",
       "      <th>4</th>\n",
       "      <td>192970</td>\n",
       "      <td>2024-01-07</td>\n",
       "      <td>232</td>\n",
       "      <td>Sunday</td>\n",
       "      <td>1</td>\n",
       "      <td>7</td>\n",
       "      <td>9</td>\n",
       "      <td>2148</td>\n",
       "    </tr>\n",
       "    <tr>\n",
       "      <th>...</th>\n",
       "      <td>...</td>\n",
       "      <td>...</td>\n",
       "      <td>...</td>\n",
       "      <td>...</td>\n",
       "      <td>...</td>\n",
       "      <td>...</td>\n",
       "      <td>...</td>\n",
       "      <td>...</td>\n",
       "    </tr>\n",
       "    <tr>\n",
       "      <th>195</th>\n",
       "      <td>194121</td>\n",
       "      <td>2024-06-26</td>\n",
       "      <td>258</td>\n",
       "      <td>Wednesday</td>\n",
       "      <td>6</td>\n",
       "      <td>178</td>\n",
       "      <td>6</td>\n",
       "      <td>1436</td>\n",
       "    </tr>\n",
       "    <tr>\n",
       "      <th>196</th>\n",
       "      <td>194121</td>\n",
       "      <td>2024-06-27</td>\n",
       "      <td>218</td>\n",
       "      <td>Thursday</td>\n",
       "      <td>6</td>\n",
       "      <td>179</td>\n",
       "      <td>6</td>\n",
       "      <td>1436</td>\n",
       "    </tr>\n",
       "    <tr>\n",
       "      <th>197</th>\n",
       "      <td>194121</td>\n",
       "      <td>2024-06-28</td>\n",
       "      <td>218</td>\n",
       "      <td>Friday</td>\n",
       "      <td>6</td>\n",
       "      <td>180</td>\n",
       "      <td>6</td>\n",
       "      <td>1436</td>\n",
       "    </tr>\n",
       "    <tr>\n",
       "      <th>198</th>\n",
       "      <td>194121</td>\n",
       "      <td>2024-06-29</td>\n",
       "      <td>213</td>\n",
       "      <td>Saturday</td>\n",
       "      <td>6</td>\n",
       "      <td>181</td>\n",
       "      <td>6</td>\n",
       "      <td>1436</td>\n",
       "    </tr>\n",
       "    <tr>\n",
       "      <th>199</th>\n",
       "      <td>194121</td>\n",
       "      <td>2024-06-30</td>\n",
       "      <td>256</td>\n",
       "      <td>Sunday</td>\n",
       "      <td>6</td>\n",
       "      <td>182</td>\n",
       "      <td>6</td>\n",
       "      <td>1436</td>\n",
       "    </tr>\n",
       "  </tbody>\n",
       "</table>\n",
       "<p>200 rows × 8 columns</p>\n",
       "</div>"
      ],
      "text/plain": [
       "     Ordem de prod Data de prod  Total de Defeitos no Dia Dia da Semana  Mês  \\\n",
       "0           192970   2024-01-03                       222     Wednesday    1   \n",
       "1           192970   2024-01-04                       249      Thursday    1   \n",
       "2           192970   2024-01-05                       268        Friday    1   \n",
       "3           192970   2024-01-06                       242      Saturday    1   \n",
       "4           192970   2024-01-07                       232        Sunday    1   \n",
       "..             ...          ...                       ...           ...  ...   \n",
       "195         194121   2024-06-26                       258     Wednesday    6   \n",
       "196         194121   2024-06-27                       218      Thursday    6   \n",
       "197         194121   2024-06-28                       218        Friday    6   \n",
       "198         194121   2024-06-29                       213      Saturday    6   \n",
       "199         194121   2024-06-30                       256        Sunday    6   \n",
       "\n",
       "     Dia do Ano  Dias de Duração  Total de Defeitos por Ordem  \n",
       "0             3                9                         2148  \n",
       "1             4                9                         2148  \n",
       "2             5                9                         2148  \n",
       "3             6                9                         2148  \n",
       "4             7                9                         2148  \n",
       "..          ...              ...                          ...  \n",
       "195         178                6                         1436  \n",
       "196         179                6                         1436  \n",
       "197         180                6                         1436  \n",
       "198         181                6                         1436  \n",
       "199         182                6                         1436  \n",
       "\n",
       "[200 rows x 8 columns]"
      ]
     },
     "execution_count": 529,
     "metadata": {},
     "output_type": "execute_result"
    }
   ],
   "source": [
    "df_sazonalidade"
   ]
  },
  {
   "cell_type": "markdown",
   "metadata": {},
   "source": [
    "### Criando Dataframe agrupado por ordem de produção, com operações diferentes"
   ]
  },
  {
   "cell_type": "code",
   "execution_count": 530,
   "metadata": {},
   "outputs": [],
   "source": [
    "defeitos_por_duracao = df_sazonalidade.groupby('Ordem de prod').agg({'Total de Defeitos no Dia': 'sum', 'Dias de Duração': 'first'})"
   ]
  },
  {
   "cell_type": "markdown",
   "metadata": {},
   "source": [
    "### Renomear a coluna 'Total de Defeitos no Dia' para 'Total de Defeitos por Ordem'"
   ]
  },
  {
   "cell_type": "code",
   "execution_count": 531,
   "metadata": {},
   "outputs": [],
   "source": [
    "defeitos_por_duracao.rename(columns={'Total de Defeitos no Dia': 'Total de Defeitos por Ordem'}, inplace=True)"
   ]
  },
  {
   "cell_type": "code",
   "execution_count": 532,
   "metadata": {},
   "outputs": [
    {
     "data": {
      "text/html": [
       "<div>\n",
       "<style scoped>\n",
       "    .dataframe tbody tr th:only-of-type {\n",
       "        vertical-align: middle;\n",
       "    }\n",
       "\n",
       "    .dataframe tbody tr th {\n",
       "        vertical-align: top;\n",
       "    }\n",
       "\n",
       "    .dataframe thead th {\n",
       "        text-align: right;\n",
       "    }\n",
       "</style>\n",
       "<table border=\"1\" class=\"dataframe\">\n",
       "  <thead>\n",
       "    <tr style=\"text-align: right;\">\n",
       "      <th></th>\n",
       "      <th>Total de Defeitos por Ordem</th>\n",
       "      <th>Dias de Duração</th>\n",
       "    </tr>\n",
       "    <tr>\n",
       "      <th>Ordem de prod</th>\n",
       "      <th></th>\n",
       "      <th></th>\n",
       "    </tr>\n",
       "  </thead>\n",
       "  <tbody>\n",
       "    <tr>\n",
       "      <th>192970</th>\n",
       "      <td>2148</td>\n",
       "      <td>9</td>\n",
       "    </tr>\n",
       "    <tr>\n",
       "      <th>193112</th>\n",
       "      <td>584</td>\n",
       "      <td>3</td>\n",
       "    </tr>\n",
       "    <tr>\n",
       "      <th>193164</th>\n",
       "      <td>2661</td>\n",
       "      <td>12</td>\n",
       "    </tr>\n",
       "    <tr>\n",
       "      <th>193206</th>\n",
       "      <td>1041</td>\n",
       "      <td>4</td>\n",
       "    </tr>\n",
       "    <tr>\n",
       "      <th>193207</th>\n",
       "      <td>2130</td>\n",
       "      <td>10</td>\n",
       "    </tr>\n",
       "    <tr>\n",
       "      <th>193208</th>\n",
       "      <td>369</td>\n",
       "      <td>2</td>\n",
       "    </tr>\n",
       "    <tr>\n",
       "      <th>193209</th>\n",
       "      <td>1807</td>\n",
       "      <td>7</td>\n",
       "    </tr>\n",
       "    <tr>\n",
       "      <th>193342</th>\n",
       "      <td>3685</td>\n",
       "      <td>20</td>\n",
       "    </tr>\n",
       "    <tr>\n",
       "      <th>193368</th>\n",
       "      <td>1464</td>\n",
       "      <td>7</td>\n",
       "    </tr>\n",
       "    <tr>\n",
       "      <th>193459</th>\n",
       "      <td>505</td>\n",
       "      <td>3</td>\n",
       "    </tr>\n",
       "    <tr>\n",
       "      <th>193462</th>\n",
       "      <td>1241</td>\n",
       "      <td>5</td>\n",
       "    </tr>\n",
       "    <tr>\n",
       "      <th>193463</th>\n",
       "      <td>1483</td>\n",
       "      <td>8</td>\n",
       "    </tr>\n",
       "    <tr>\n",
       "      <th>193533</th>\n",
       "      <td>1480</td>\n",
       "      <td>8</td>\n",
       "    </tr>\n",
       "    <tr>\n",
       "      <th>193535</th>\n",
       "      <td>688</td>\n",
       "      <td>3</td>\n",
       "    </tr>\n",
       "    <tr>\n",
       "      <th>193537</th>\n",
       "      <td>718</td>\n",
       "      <td>3</td>\n",
       "    </tr>\n",
       "    <tr>\n",
       "      <th>193594</th>\n",
       "      <td>1304</td>\n",
       "      <td>7</td>\n",
       "    </tr>\n",
       "    <tr>\n",
       "      <th>193619</th>\n",
       "      <td>963</td>\n",
       "      <td>5</td>\n",
       "    </tr>\n",
       "    <tr>\n",
       "      <th>193671</th>\n",
       "      <td>776</td>\n",
       "      <td>4</td>\n",
       "    </tr>\n",
       "    <tr>\n",
       "      <th>193686</th>\n",
       "      <td>755</td>\n",
       "      <td>3</td>\n",
       "    </tr>\n",
       "    <tr>\n",
       "      <th>193688</th>\n",
       "      <td>616</td>\n",
       "      <td>3</td>\n",
       "    </tr>\n",
       "    <tr>\n",
       "      <th>193689</th>\n",
       "      <td>872</td>\n",
       "      <td>3</td>\n",
       "    </tr>\n",
       "    <tr>\n",
       "      <th>193692</th>\n",
       "      <td>672</td>\n",
       "      <td>3</td>\n",
       "    </tr>\n",
       "    <tr>\n",
       "      <th>193694</th>\n",
       "      <td>1001</td>\n",
       "      <td>5</td>\n",
       "    </tr>\n",
       "    <tr>\n",
       "      <th>193782</th>\n",
       "      <td>2538</td>\n",
       "      <td>11</td>\n",
       "    </tr>\n",
       "    <tr>\n",
       "      <th>193783</th>\n",
       "      <td>887</td>\n",
       "      <td>3</td>\n",
       "    </tr>\n",
       "    <tr>\n",
       "      <th>193784</th>\n",
       "      <td>2073</td>\n",
       "      <td>11</td>\n",
       "    </tr>\n",
       "    <tr>\n",
       "      <th>193852</th>\n",
       "      <td>1123</td>\n",
       "      <td>5</td>\n",
       "    </tr>\n",
       "    <tr>\n",
       "      <th>193882</th>\n",
       "      <td>1716</td>\n",
       "      <td>8</td>\n",
       "    </tr>\n",
       "    <tr>\n",
       "      <th>193937</th>\n",
       "      <td>622</td>\n",
       "      <td>3</td>\n",
       "    </tr>\n",
       "    <tr>\n",
       "      <th>193972</th>\n",
       "      <td>520</td>\n",
       "      <td>2</td>\n",
       "    </tr>\n",
       "    <tr>\n",
       "      <th>193973</th>\n",
       "      <td>802</td>\n",
       "      <td>4</td>\n",
       "    </tr>\n",
       "    <tr>\n",
       "      <th>194029</th>\n",
       "      <td>821</td>\n",
       "      <td>4</td>\n",
       "    </tr>\n",
       "    <tr>\n",
       "      <th>194057</th>\n",
       "      <td>468</td>\n",
       "      <td>3</td>\n",
       "    </tr>\n",
       "    <tr>\n",
       "      <th>194113</th>\n",
       "      <td>710</td>\n",
       "      <td>3</td>\n",
       "    </tr>\n",
       "    <tr>\n",
       "      <th>194121</th>\n",
       "      <td>1436</td>\n",
       "      <td>6</td>\n",
       "    </tr>\n",
       "  </tbody>\n",
       "</table>\n",
       "</div>"
      ],
      "text/plain": [
       "               Total de Defeitos por Ordem  Dias de Duração\n",
       "Ordem de prod                                              \n",
       "192970                                2148                9\n",
       "193112                                 584                3\n",
       "193164                                2661               12\n",
       "193206                                1041                4\n",
       "193207                                2130               10\n",
       "193208                                 369                2\n",
       "193209                                1807                7\n",
       "193342                                3685               20\n",
       "193368                                1464                7\n",
       "193459                                 505                3\n",
       "193462                                1241                5\n",
       "193463                                1483                8\n",
       "193533                                1480                8\n",
       "193535                                 688                3\n",
       "193537                                 718                3\n",
       "193594                                1304                7\n",
       "193619                                 963                5\n",
       "193671                                 776                4\n",
       "193686                                 755                3\n",
       "193688                                 616                3\n",
       "193689                                 872                3\n",
       "193692                                 672                3\n",
       "193694                                1001                5\n",
       "193782                                2538               11\n",
       "193783                                 887                3\n",
       "193784                                2073               11\n",
       "193852                                1123                5\n",
       "193882                                1716                8\n",
       "193937                                 622                3\n",
       "193972                                 520                2\n",
       "193973                                 802                4\n",
       "194029                                 821                4\n",
       "194057                                 468                3\n",
       "194113                                 710                3\n",
       "194121                                1436                6"
      ]
     },
     "execution_count": 532,
     "metadata": {},
     "output_type": "execute_result"
    }
   ],
   "source": [
    "defeitos_por_duracao"
   ]
  },
  {
   "cell_type": "markdown",
   "metadata": {},
   "source": [
    "## Média de defeitos por dias da semana"
   ]
  },
  {
   "cell_type": "code",
   "execution_count": 533,
   "metadata": {},
   "outputs": [],
   "source": [
    "df_medias_dia_semana = df_sazonalidade.groupby('Dia da Semana')[['Total de Defeitos no Dia']].mean().sort_values('Total de Defeitos no Dia', ascending=False).round(2)"
   ]
  },
  {
   "cell_type": "code",
   "execution_count": 534,
   "metadata": {},
   "outputs": [
    {
     "data": {
      "application/vnd.plotly.v1+json": {
       "config": {
        "plotlyServerURL": "https://plot.ly"
       },
       "data": [
        {
         "alignmentgroup": "True",
         "hovertemplate": "Dia da Semana=%{x}<br>Total de Defeitos no Dia=%{text}<extra></extra>",
         "legendgroup": "",
         "marker": {
          "color": "#636efa",
          "pattern": {
           "shape": ""
          }
         },
         "name": "",
         "offsetgroup": "",
         "orientation": "v",
         "showlegend": false,
         "text": [
          225.93,
          219.36,
          219.23,
          216.45,
          216.35,
          203.55,
          195.06
         ],
         "textfont": {
          "color": "black",
          "size": 14
         },
         "textposition": "outside",
         "texttemplate": "%{text}",
         "type": "bar",
         "x": [
          "Saturday",
          "Friday",
          "Sunday",
          "Thursday",
          "Tuesday",
          "Monday",
          "Wednesday"
         ],
         "xaxis": "x",
         "y": [
          225.93,
          219.36,
          219.23,
          216.45,
          216.35,
          203.55,
          195.06
         ],
         "yaxis": "y"
        }
       ],
       "layout": {
        "barmode": "relative",
        "legend": {
         "tracegroupgap": 0
        },
        "margin": {
         "t": 60
        },
        "template": {
         "data": {
          "bar": [
           {
            "error_x": {
             "color": "#2a3f5f"
            },
            "error_y": {
             "color": "#2a3f5f"
            },
            "marker": {
             "line": {
              "color": "#E5ECF6",
              "width": 0.5
             },
             "pattern": {
              "fillmode": "overlay",
              "size": 10,
              "solidity": 0.2
             }
            },
            "type": "bar"
           }
          ],
          "barpolar": [
           {
            "marker": {
             "line": {
              "color": "#E5ECF6",
              "width": 0.5
             },
             "pattern": {
              "fillmode": "overlay",
              "size": 10,
              "solidity": 0.2
             }
            },
            "type": "barpolar"
           }
          ],
          "carpet": [
           {
            "aaxis": {
             "endlinecolor": "#2a3f5f",
             "gridcolor": "white",
             "linecolor": "white",
             "minorgridcolor": "white",
             "startlinecolor": "#2a3f5f"
            },
            "baxis": {
             "endlinecolor": "#2a3f5f",
             "gridcolor": "white",
             "linecolor": "white",
             "minorgridcolor": "white",
             "startlinecolor": "#2a3f5f"
            },
            "type": "carpet"
           }
          ],
          "choropleth": [
           {
            "colorbar": {
             "outlinewidth": 0,
             "ticks": ""
            },
            "type": "choropleth"
           }
          ],
          "contour": [
           {
            "colorbar": {
             "outlinewidth": 0,
             "ticks": ""
            },
            "colorscale": [
             [
              0,
              "#0d0887"
             ],
             [
              0.1111111111111111,
              "#46039f"
             ],
             [
              0.2222222222222222,
              "#7201a8"
             ],
             [
              0.3333333333333333,
              "#9c179e"
             ],
             [
              0.4444444444444444,
              "#bd3786"
             ],
             [
              0.5555555555555556,
              "#d8576b"
             ],
             [
              0.6666666666666666,
              "#ed7953"
             ],
             [
              0.7777777777777778,
              "#fb9f3a"
             ],
             [
              0.8888888888888888,
              "#fdca26"
             ],
             [
              1,
              "#f0f921"
             ]
            ],
            "type": "contour"
           }
          ],
          "contourcarpet": [
           {
            "colorbar": {
             "outlinewidth": 0,
             "ticks": ""
            },
            "type": "contourcarpet"
           }
          ],
          "heatmap": [
           {
            "colorbar": {
             "outlinewidth": 0,
             "ticks": ""
            },
            "colorscale": [
             [
              0,
              "#0d0887"
             ],
             [
              0.1111111111111111,
              "#46039f"
             ],
             [
              0.2222222222222222,
              "#7201a8"
             ],
             [
              0.3333333333333333,
              "#9c179e"
             ],
             [
              0.4444444444444444,
              "#bd3786"
             ],
             [
              0.5555555555555556,
              "#d8576b"
             ],
             [
              0.6666666666666666,
              "#ed7953"
             ],
             [
              0.7777777777777778,
              "#fb9f3a"
             ],
             [
              0.8888888888888888,
              "#fdca26"
             ],
             [
              1,
              "#f0f921"
             ]
            ],
            "type": "heatmap"
           }
          ],
          "heatmapgl": [
           {
            "colorbar": {
             "outlinewidth": 0,
             "ticks": ""
            },
            "colorscale": [
             [
              0,
              "#0d0887"
             ],
             [
              0.1111111111111111,
              "#46039f"
             ],
             [
              0.2222222222222222,
              "#7201a8"
             ],
             [
              0.3333333333333333,
              "#9c179e"
             ],
             [
              0.4444444444444444,
              "#bd3786"
             ],
             [
              0.5555555555555556,
              "#d8576b"
             ],
             [
              0.6666666666666666,
              "#ed7953"
             ],
             [
              0.7777777777777778,
              "#fb9f3a"
             ],
             [
              0.8888888888888888,
              "#fdca26"
             ],
             [
              1,
              "#f0f921"
             ]
            ],
            "type": "heatmapgl"
           }
          ],
          "histogram": [
           {
            "marker": {
             "pattern": {
              "fillmode": "overlay",
              "size": 10,
              "solidity": 0.2
             }
            },
            "type": "histogram"
           }
          ],
          "histogram2d": [
           {
            "colorbar": {
             "outlinewidth": 0,
             "ticks": ""
            },
            "colorscale": [
             [
              0,
              "#0d0887"
             ],
             [
              0.1111111111111111,
              "#46039f"
             ],
             [
              0.2222222222222222,
              "#7201a8"
             ],
             [
              0.3333333333333333,
              "#9c179e"
             ],
             [
              0.4444444444444444,
              "#bd3786"
             ],
             [
              0.5555555555555556,
              "#d8576b"
             ],
             [
              0.6666666666666666,
              "#ed7953"
             ],
             [
              0.7777777777777778,
              "#fb9f3a"
             ],
             [
              0.8888888888888888,
              "#fdca26"
             ],
             [
              1,
              "#f0f921"
             ]
            ],
            "type": "histogram2d"
           }
          ],
          "histogram2dcontour": [
           {
            "colorbar": {
             "outlinewidth": 0,
             "ticks": ""
            },
            "colorscale": [
             [
              0,
              "#0d0887"
             ],
             [
              0.1111111111111111,
              "#46039f"
             ],
             [
              0.2222222222222222,
              "#7201a8"
             ],
             [
              0.3333333333333333,
              "#9c179e"
             ],
             [
              0.4444444444444444,
              "#bd3786"
             ],
             [
              0.5555555555555556,
              "#d8576b"
             ],
             [
              0.6666666666666666,
              "#ed7953"
             ],
             [
              0.7777777777777778,
              "#fb9f3a"
             ],
             [
              0.8888888888888888,
              "#fdca26"
             ],
             [
              1,
              "#f0f921"
             ]
            ],
            "type": "histogram2dcontour"
           }
          ],
          "mesh3d": [
           {
            "colorbar": {
             "outlinewidth": 0,
             "ticks": ""
            },
            "type": "mesh3d"
           }
          ],
          "parcoords": [
           {
            "line": {
             "colorbar": {
              "outlinewidth": 0,
              "ticks": ""
             }
            },
            "type": "parcoords"
           }
          ],
          "pie": [
           {
            "automargin": true,
            "type": "pie"
           }
          ],
          "scatter": [
           {
            "fillpattern": {
             "fillmode": "overlay",
             "size": 10,
             "solidity": 0.2
            },
            "type": "scatter"
           }
          ],
          "scatter3d": [
           {
            "line": {
             "colorbar": {
              "outlinewidth": 0,
              "ticks": ""
             }
            },
            "marker": {
             "colorbar": {
              "outlinewidth": 0,
              "ticks": ""
             }
            },
            "type": "scatter3d"
           }
          ],
          "scattercarpet": [
           {
            "marker": {
             "colorbar": {
              "outlinewidth": 0,
              "ticks": ""
             }
            },
            "type": "scattercarpet"
           }
          ],
          "scattergeo": [
           {
            "marker": {
             "colorbar": {
              "outlinewidth": 0,
              "ticks": ""
             }
            },
            "type": "scattergeo"
           }
          ],
          "scattergl": [
           {
            "marker": {
             "colorbar": {
              "outlinewidth": 0,
              "ticks": ""
             }
            },
            "type": "scattergl"
           }
          ],
          "scattermapbox": [
           {
            "marker": {
             "colorbar": {
              "outlinewidth": 0,
              "ticks": ""
             }
            },
            "type": "scattermapbox"
           }
          ],
          "scatterpolar": [
           {
            "marker": {
             "colorbar": {
              "outlinewidth": 0,
              "ticks": ""
             }
            },
            "type": "scatterpolar"
           }
          ],
          "scatterpolargl": [
           {
            "marker": {
             "colorbar": {
              "outlinewidth": 0,
              "ticks": ""
             }
            },
            "type": "scatterpolargl"
           }
          ],
          "scatterternary": [
           {
            "marker": {
             "colorbar": {
              "outlinewidth": 0,
              "ticks": ""
             }
            },
            "type": "scatterternary"
           }
          ],
          "surface": [
           {
            "colorbar": {
             "outlinewidth": 0,
             "ticks": ""
            },
            "colorscale": [
             [
              0,
              "#0d0887"
             ],
             [
              0.1111111111111111,
              "#46039f"
             ],
             [
              0.2222222222222222,
              "#7201a8"
             ],
             [
              0.3333333333333333,
              "#9c179e"
             ],
             [
              0.4444444444444444,
              "#bd3786"
             ],
             [
              0.5555555555555556,
              "#d8576b"
             ],
             [
              0.6666666666666666,
              "#ed7953"
             ],
             [
              0.7777777777777778,
              "#fb9f3a"
             ],
             [
              0.8888888888888888,
              "#fdca26"
             ],
             [
              1,
              "#f0f921"
             ]
            ],
            "type": "surface"
           }
          ],
          "table": [
           {
            "cells": {
             "fill": {
              "color": "#EBF0F8"
             },
             "line": {
              "color": "white"
             }
            },
            "header": {
             "fill": {
              "color": "#C8D4E3"
             },
             "line": {
              "color": "white"
             }
            },
            "type": "table"
           }
          ]
         },
         "layout": {
          "annotationdefaults": {
           "arrowcolor": "#2a3f5f",
           "arrowhead": 0,
           "arrowwidth": 1
          },
          "autotypenumbers": "strict",
          "coloraxis": {
           "colorbar": {
            "outlinewidth": 0,
            "ticks": ""
           }
          },
          "colorscale": {
           "diverging": [
            [
             0,
             "#8e0152"
            ],
            [
             0.1,
             "#c51b7d"
            ],
            [
             0.2,
             "#de77ae"
            ],
            [
             0.3,
             "#f1b6da"
            ],
            [
             0.4,
             "#fde0ef"
            ],
            [
             0.5,
             "#f7f7f7"
            ],
            [
             0.6,
             "#e6f5d0"
            ],
            [
             0.7,
             "#b8e186"
            ],
            [
             0.8,
             "#7fbc41"
            ],
            [
             0.9,
             "#4d9221"
            ],
            [
             1,
             "#276419"
            ]
           ],
           "sequential": [
            [
             0,
             "#0d0887"
            ],
            [
             0.1111111111111111,
             "#46039f"
            ],
            [
             0.2222222222222222,
             "#7201a8"
            ],
            [
             0.3333333333333333,
             "#9c179e"
            ],
            [
             0.4444444444444444,
             "#bd3786"
            ],
            [
             0.5555555555555556,
             "#d8576b"
            ],
            [
             0.6666666666666666,
             "#ed7953"
            ],
            [
             0.7777777777777778,
             "#fb9f3a"
            ],
            [
             0.8888888888888888,
             "#fdca26"
            ],
            [
             1,
             "#f0f921"
            ]
           ],
           "sequentialminus": [
            [
             0,
             "#0d0887"
            ],
            [
             0.1111111111111111,
             "#46039f"
            ],
            [
             0.2222222222222222,
             "#7201a8"
            ],
            [
             0.3333333333333333,
             "#9c179e"
            ],
            [
             0.4444444444444444,
             "#bd3786"
            ],
            [
             0.5555555555555556,
             "#d8576b"
            ],
            [
             0.6666666666666666,
             "#ed7953"
            ],
            [
             0.7777777777777778,
             "#fb9f3a"
            ],
            [
             0.8888888888888888,
             "#fdca26"
            ],
            [
             1,
             "#f0f921"
            ]
           ]
          },
          "colorway": [
           "#636efa",
           "#EF553B",
           "#00cc96",
           "#ab63fa",
           "#FFA15A",
           "#19d3f3",
           "#FF6692",
           "#B6E880",
           "#FF97FF",
           "#FECB52"
          ],
          "font": {
           "color": "#2a3f5f"
          },
          "geo": {
           "bgcolor": "white",
           "lakecolor": "white",
           "landcolor": "#E5ECF6",
           "showlakes": true,
           "showland": true,
           "subunitcolor": "white"
          },
          "hoverlabel": {
           "align": "left"
          },
          "hovermode": "closest",
          "mapbox": {
           "style": "light"
          },
          "paper_bgcolor": "white",
          "plot_bgcolor": "#E5ECF6",
          "polar": {
           "angularaxis": {
            "gridcolor": "white",
            "linecolor": "white",
            "ticks": ""
           },
           "bgcolor": "#E5ECF6",
           "radialaxis": {
            "gridcolor": "white",
            "linecolor": "white",
            "ticks": ""
           }
          },
          "scene": {
           "xaxis": {
            "backgroundcolor": "#E5ECF6",
            "gridcolor": "white",
            "gridwidth": 2,
            "linecolor": "white",
            "showbackground": true,
            "ticks": "",
            "zerolinecolor": "white"
           },
           "yaxis": {
            "backgroundcolor": "#E5ECF6",
            "gridcolor": "white",
            "gridwidth": 2,
            "linecolor": "white",
            "showbackground": true,
            "ticks": "",
            "zerolinecolor": "white"
           },
           "zaxis": {
            "backgroundcolor": "#E5ECF6",
            "gridcolor": "white",
            "gridwidth": 2,
            "linecolor": "white",
            "showbackground": true,
            "ticks": "",
            "zerolinecolor": "white"
           }
          },
          "shapedefaults": {
           "line": {
            "color": "#2a3f5f"
           }
          },
          "ternary": {
           "aaxis": {
            "gridcolor": "white",
            "linecolor": "white",
            "ticks": ""
           },
           "baxis": {
            "gridcolor": "white",
            "linecolor": "white",
            "ticks": ""
           },
           "bgcolor": "#E5ECF6",
           "caxis": {
            "gridcolor": "white",
            "linecolor": "white",
            "ticks": ""
           }
          },
          "title": {
           "x": 0.05
          },
          "xaxis": {
           "automargin": true,
           "gridcolor": "white",
           "linecolor": "white",
           "ticks": "",
           "title": {
            "standoff": 15
           },
           "zerolinecolor": "white",
           "zerolinewidth": 2
          },
          "yaxis": {
           "automargin": true,
           "gridcolor": "white",
           "linecolor": "white",
           "ticks": "",
           "title": {
            "standoff": 15
           },
           "zerolinecolor": "white",
           "zerolinewidth": 2
          }
         }
        },
        "xaxis": {
         "anchor": "y",
         "domain": [
          0,
          1
         ],
         "title": {
          "text": "Dia da Semana"
         }
        },
        "yaxis": {
         "anchor": "x",
         "domain": [
          0,
          1
         ],
         "title": {
          "text": "Total de Defeitos no Dia"
         }
        }
       }
      }
     },
     "metadata": {},
     "output_type": "display_data"
    }
   ],
   "source": [
    "fig = px.bar(df_medias_dia_semana.reset_index(), \n",
    "             x='Dia da Semana', y='Total de Defeitos no Dia',\n",
    "             text='Total de Defeitos no Dia')\n",
    "\n",
    "fig.update_traces(textposition='outside', texttemplate='%{text}', \n",
    "                  textfont_size=14, textfont_color='black')\n",
    "\n",
    "fig.show()"
   ]
  },
  {
   "cell_type": "markdown",
   "metadata": {},
   "source": [
    "## Média de defeitos por dia de produção"
   ]
  },
  {
   "cell_type": "markdown",
   "metadata": {},
   "source": [
    "### Calcular a duração total de cada ordem"
   ]
  },
  {
   "cell_type": "code",
   "execution_count": 535,
   "metadata": {},
   "outputs": [],
   "source": [
    "duracao_por_ordem = df_sazonalidade.groupby('Ordem de prod')['Data de prod'].nunique().reset_index()\n",
    "duracao_por_ordem.columns = ['Ordem de prod', 'Dias de Duração']"
   ]
  },
  {
   "cell_type": "markdown",
   "metadata": {},
   "source": [
    "### Merge com o DataFrame original"
   ]
  },
  {
   "cell_type": "code",
   "execution_count": 536,
   "metadata": {},
   "outputs": [],
   "source": [
    "df_sazonalidade = df_sazonalidade.merge(duracao_por_ordem, on='Ordem de prod', how='left')"
   ]
  },
  {
   "cell_type": "markdown",
   "metadata": {},
   "source": [
    "### Remover a coluna duplicada (se já havia 'Dias de Duração' no DataFrame original)"
   ]
  },
  {
   "cell_type": "code",
   "execution_count": 537,
   "metadata": {},
   "outputs": [],
   "source": [
    "df_sazonalidade = df_sazonalidade.drop(columns=['Dias de Duração_x'])"
   ]
  },
  {
   "cell_type": "markdown",
   "metadata": {},
   "source": [
    "### Renomear a coluna restante, se necessário"
   ]
  },
  {
   "cell_type": "code",
   "execution_count": 538,
   "metadata": {},
   "outputs": [],
   "source": [
    "df_sazonalidade = df_sazonalidade.rename(columns={'Dias de Duração_y': 'Dias de Duração'})"
   ]
  },
  {
   "cell_type": "markdown",
   "metadata": {},
   "source": [
    "### Criar a coluna 'Dia Normalizado'"
   ]
  },
  {
   "cell_type": "markdown",
   "metadata": {},
   "source": [
    "Calcular o Dia Contado por Ordem"
   ]
  },
  {
   "cell_type": "code",
   "execution_count": 539,
   "metadata": {},
   "outputs": [],
   "source": [
    "df_sazonalidade['Dia Contado'] = df_sazonalidade.groupby('Ordem de prod').cumcount() + 1"
   ]
  },
  {
   "cell_type": "markdown",
   "metadata": {},
   "source": [
    "Calcular o Dia Normalizado"
   ]
  },
  {
   "cell_type": "code",
   "execution_count": 540,
   "metadata": {},
   "outputs": [],
   "source": [
    "df_sazonalidade['Dia Normalizado'] = df_sazonalidade['Dia Contado'] / df_sazonalidade['Dias de Duração']"
   ]
  },
  {
   "cell_type": "markdown",
   "metadata": {},
   "source": [
    "Visualização"
   ]
  },
  {
   "cell_type": "code",
   "execution_count": 541,
   "metadata": {},
   "outputs": [
    {
     "data": {
      "text/html": [
       "<div>\n",
       "<style scoped>\n",
       "    .dataframe tbody tr th:only-of-type {\n",
       "        vertical-align: middle;\n",
       "    }\n",
       "\n",
       "    .dataframe tbody tr th {\n",
       "        vertical-align: top;\n",
       "    }\n",
       "\n",
       "    .dataframe thead th {\n",
       "        text-align: right;\n",
       "    }\n",
       "</style>\n",
       "<table border=\"1\" class=\"dataframe\">\n",
       "  <thead>\n",
       "    <tr style=\"text-align: right;\">\n",
       "      <th></th>\n",
       "      <th>Ordem de prod</th>\n",
       "      <th>Dia Contado</th>\n",
       "      <th>Dias de Duração</th>\n",
       "      <th>Dia Normalizado</th>\n",
       "    </tr>\n",
       "  </thead>\n",
       "  <tbody>\n",
       "    <tr>\n",
       "      <th>0</th>\n",
       "      <td>192970</td>\n",
       "      <td>1</td>\n",
       "      <td>9</td>\n",
       "      <td>0.111111</td>\n",
       "    </tr>\n",
       "    <tr>\n",
       "      <th>1</th>\n",
       "      <td>192970</td>\n",
       "      <td>2</td>\n",
       "      <td>9</td>\n",
       "      <td>0.222222</td>\n",
       "    </tr>\n",
       "    <tr>\n",
       "      <th>2</th>\n",
       "      <td>192970</td>\n",
       "      <td>3</td>\n",
       "      <td>9</td>\n",
       "      <td>0.333333</td>\n",
       "    </tr>\n",
       "    <tr>\n",
       "      <th>3</th>\n",
       "      <td>192970</td>\n",
       "      <td>4</td>\n",
       "      <td>9</td>\n",
       "      <td>0.444444</td>\n",
       "    </tr>\n",
       "    <tr>\n",
       "      <th>4</th>\n",
       "      <td>192970</td>\n",
       "      <td>5</td>\n",
       "      <td>9</td>\n",
       "      <td>0.555556</td>\n",
       "    </tr>\n",
       "    <tr>\n",
       "      <th>...</th>\n",
       "      <td>...</td>\n",
       "      <td>...</td>\n",
       "      <td>...</td>\n",
       "      <td>...</td>\n",
       "    </tr>\n",
       "    <tr>\n",
       "      <th>195</th>\n",
       "      <td>194121</td>\n",
       "      <td>2</td>\n",
       "      <td>6</td>\n",
       "      <td>0.333333</td>\n",
       "    </tr>\n",
       "    <tr>\n",
       "      <th>196</th>\n",
       "      <td>194121</td>\n",
       "      <td>3</td>\n",
       "      <td>6</td>\n",
       "      <td>0.500000</td>\n",
       "    </tr>\n",
       "    <tr>\n",
       "      <th>197</th>\n",
       "      <td>194121</td>\n",
       "      <td>4</td>\n",
       "      <td>6</td>\n",
       "      <td>0.666667</td>\n",
       "    </tr>\n",
       "    <tr>\n",
       "      <th>198</th>\n",
       "      <td>194121</td>\n",
       "      <td>5</td>\n",
       "      <td>6</td>\n",
       "      <td>0.833333</td>\n",
       "    </tr>\n",
       "    <tr>\n",
       "      <th>199</th>\n",
       "      <td>194121</td>\n",
       "      <td>6</td>\n",
       "      <td>6</td>\n",
       "      <td>1.000000</td>\n",
       "    </tr>\n",
       "  </tbody>\n",
       "</table>\n",
       "<p>200 rows × 4 columns</p>\n",
       "</div>"
      ],
      "text/plain": [
       "     Ordem de prod  Dia Contado  Dias de Duração  Dia Normalizado\n",
       "0           192970            1                9         0.111111\n",
       "1           192970            2                9         0.222222\n",
       "2           192970            3                9         0.333333\n",
       "3           192970            4                9         0.444444\n",
       "4           192970            5                9         0.555556\n",
       "..             ...          ...              ...              ...\n",
       "195         194121            2                6         0.333333\n",
       "196         194121            3                6         0.500000\n",
       "197         194121            4                6         0.666667\n",
       "198         194121            5                6         0.833333\n",
       "199         194121            6                6         1.000000\n",
       "\n",
       "[200 rows x 4 columns]"
      ]
     },
     "execution_count": 541,
     "metadata": {},
     "output_type": "execute_result"
    }
   ],
   "source": [
    "df_sazonalidade[['Ordem de prod', 'Dia Contado', 'Dias de Duração', 'Dia Normalizado']]"
   ]
  },
  {
   "cell_type": "markdown",
   "metadata": {},
   "source": [
    "### Calcular a média de defeitos por Dia Normalizado"
   ]
  },
  {
   "cell_type": "code",
   "execution_count": 542,
   "metadata": {},
   "outputs": [],
   "source": [
    "defeitos_por_dia_normalizado = df_sazonalidade.groupby('Dia Normalizado')[['Total de Defeitos no Dia']].mean().reset_index()\n",
    "defeitos_por_dia_normalizado.columns = ['Dia Normalizado', 'Média de Defeitos']"
   ]
  },
  {
   "cell_type": "markdown",
   "metadata": {},
   "source": [
    "Visualização"
   ]
  },
  {
   "cell_type": "code",
   "execution_count": 585,
   "metadata": {},
   "outputs": [
    {
     "data": {
      "application/vnd.plotly.v1+json": {
       "config": {
        "plotlyServerURL": "https://plot.ly"
       },
       "data": [
        {
         "line": {
          "color": "red"
         },
         "marker": {
          "size": 10
         },
         "mode": "lines+markers",
         "name": "Média de Defeitos",
         "type": "scatter",
         "x": [
          0.05,
          0.08333333333333333,
          0.09090909090909091,
          0.1,
          0.1111111111111111,
          0.125,
          0.14285714285714285,
          0.15,
          0.16666666666666666,
          0.18181818181818182,
          0.2,
          0.2222222222222222,
          0.25,
          0.2727272727272727,
          0.2857142857142857,
          0.3,
          0.3333333333333333,
          0.35,
          0.36363636363636365,
          0.375,
          0.4,
          0.4166666666666667,
          0.42857142857142855,
          0.4444444444444444,
          0.45,
          0.45454545454545453,
          0.5,
          0.5454545454545454,
          0.55,
          0.5555555555555556,
          0.5714285714285714,
          0.5833333333333334,
          0.6,
          0.625,
          0.6363636363636364,
          0.65,
          0.6666666666666666,
          0.7,
          0.7142857142857143,
          0.7272727272727273,
          0.75,
          0.7777777777777778,
          0.8,
          0.8181818181818182,
          0.8333333333333334,
          0.85,
          0.8571428571428571,
          0.875,
          0.8888888888888888,
          0.9,
          0.9090909090909091,
          0.9166666666666666,
          0.95,
          1
         ],
         "y": [
          180,
          293,
          223,
          293.5,
          222,
          217,
          185.33333333333334,
          217,
          256.5,
          272,
          222.83333333333334,
          249,
          202.66666666666666,
          202,
          257,
          185.5,
          226.53333333333333,
          195,
          201,
          191.33333333333334,
          219.83333333333334,
          229,
          237.66666666666666,
          242,
          191,
          224,
          206.15384615384616,
          192.5,
          192,
          232,
          220,
          198,
          204,
          187,
          189.5,
          161,
          238.86666666666667,
          174.5,
          219.33333333333334,
          177,
          190.55555555555554,
          191,
          207.66666666666666,
          187,
          218.5,
          189,
          233,
          179.66666666666666,
          222,
          173.5,
          193,
          224,
          177,
          212.6
         ]
        }
       ],
       "layout": {
        "template": {
         "data": {
          "bar": [
           {
            "error_x": {
             "color": "#2a3f5f"
            },
            "error_y": {
             "color": "#2a3f5f"
            },
            "marker": {
             "line": {
              "color": "#E5ECF6",
              "width": 0.5
             },
             "pattern": {
              "fillmode": "overlay",
              "size": 10,
              "solidity": 0.2
             }
            },
            "type": "bar"
           }
          ],
          "barpolar": [
           {
            "marker": {
             "line": {
              "color": "#E5ECF6",
              "width": 0.5
             },
             "pattern": {
              "fillmode": "overlay",
              "size": 10,
              "solidity": 0.2
             }
            },
            "type": "barpolar"
           }
          ],
          "carpet": [
           {
            "aaxis": {
             "endlinecolor": "#2a3f5f",
             "gridcolor": "white",
             "linecolor": "white",
             "minorgridcolor": "white",
             "startlinecolor": "#2a3f5f"
            },
            "baxis": {
             "endlinecolor": "#2a3f5f",
             "gridcolor": "white",
             "linecolor": "white",
             "minorgridcolor": "white",
             "startlinecolor": "#2a3f5f"
            },
            "type": "carpet"
           }
          ],
          "choropleth": [
           {
            "colorbar": {
             "outlinewidth": 0,
             "ticks": ""
            },
            "type": "choropleth"
           }
          ],
          "contour": [
           {
            "colorbar": {
             "outlinewidth": 0,
             "ticks": ""
            },
            "colorscale": [
             [
              0,
              "#0d0887"
             ],
             [
              0.1111111111111111,
              "#46039f"
             ],
             [
              0.2222222222222222,
              "#7201a8"
             ],
             [
              0.3333333333333333,
              "#9c179e"
             ],
             [
              0.4444444444444444,
              "#bd3786"
             ],
             [
              0.5555555555555556,
              "#d8576b"
             ],
             [
              0.6666666666666666,
              "#ed7953"
             ],
             [
              0.7777777777777778,
              "#fb9f3a"
             ],
             [
              0.8888888888888888,
              "#fdca26"
             ],
             [
              1,
              "#f0f921"
             ]
            ],
            "type": "contour"
           }
          ],
          "contourcarpet": [
           {
            "colorbar": {
             "outlinewidth": 0,
             "ticks": ""
            },
            "type": "contourcarpet"
           }
          ],
          "heatmap": [
           {
            "colorbar": {
             "outlinewidth": 0,
             "ticks": ""
            },
            "colorscale": [
             [
              0,
              "#0d0887"
             ],
             [
              0.1111111111111111,
              "#46039f"
             ],
             [
              0.2222222222222222,
              "#7201a8"
             ],
             [
              0.3333333333333333,
              "#9c179e"
             ],
             [
              0.4444444444444444,
              "#bd3786"
             ],
             [
              0.5555555555555556,
              "#d8576b"
             ],
             [
              0.6666666666666666,
              "#ed7953"
             ],
             [
              0.7777777777777778,
              "#fb9f3a"
             ],
             [
              0.8888888888888888,
              "#fdca26"
             ],
             [
              1,
              "#f0f921"
             ]
            ],
            "type": "heatmap"
           }
          ],
          "heatmapgl": [
           {
            "colorbar": {
             "outlinewidth": 0,
             "ticks": ""
            },
            "colorscale": [
             [
              0,
              "#0d0887"
             ],
             [
              0.1111111111111111,
              "#46039f"
             ],
             [
              0.2222222222222222,
              "#7201a8"
             ],
             [
              0.3333333333333333,
              "#9c179e"
             ],
             [
              0.4444444444444444,
              "#bd3786"
             ],
             [
              0.5555555555555556,
              "#d8576b"
             ],
             [
              0.6666666666666666,
              "#ed7953"
             ],
             [
              0.7777777777777778,
              "#fb9f3a"
             ],
             [
              0.8888888888888888,
              "#fdca26"
             ],
             [
              1,
              "#f0f921"
             ]
            ],
            "type": "heatmapgl"
           }
          ],
          "histogram": [
           {
            "marker": {
             "pattern": {
              "fillmode": "overlay",
              "size": 10,
              "solidity": 0.2
             }
            },
            "type": "histogram"
           }
          ],
          "histogram2d": [
           {
            "colorbar": {
             "outlinewidth": 0,
             "ticks": ""
            },
            "colorscale": [
             [
              0,
              "#0d0887"
             ],
             [
              0.1111111111111111,
              "#46039f"
             ],
             [
              0.2222222222222222,
              "#7201a8"
             ],
             [
              0.3333333333333333,
              "#9c179e"
             ],
             [
              0.4444444444444444,
              "#bd3786"
             ],
             [
              0.5555555555555556,
              "#d8576b"
             ],
             [
              0.6666666666666666,
              "#ed7953"
             ],
             [
              0.7777777777777778,
              "#fb9f3a"
             ],
             [
              0.8888888888888888,
              "#fdca26"
             ],
             [
              1,
              "#f0f921"
             ]
            ],
            "type": "histogram2d"
           }
          ],
          "histogram2dcontour": [
           {
            "colorbar": {
             "outlinewidth": 0,
             "ticks": ""
            },
            "colorscale": [
             [
              0,
              "#0d0887"
             ],
             [
              0.1111111111111111,
              "#46039f"
             ],
             [
              0.2222222222222222,
              "#7201a8"
             ],
             [
              0.3333333333333333,
              "#9c179e"
             ],
             [
              0.4444444444444444,
              "#bd3786"
             ],
             [
              0.5555555555555556,
              "#d8576b"
             ],
             [
              0.6666666666666666,
              "#ed7953"
             ],
             [
              0.7777777777777778,
              "#fb9f3a"
             ],
             [
              0.8888888888888888,
              "#fdca26"
             ],
             [
              1,
              "#f0f921"
             ]
            ],
            "type": "histogram2dcontour"
           }
          ],
          "mesh3d": [
           {
            "colorbar": {
             "outlinewidth": 0,
             "ticks": ""
            },
            "type": "mesh3d"
           }
          ],
          "parcoords": [
           {
            "line": {
             "colorbar": {
              "outlinewidth": 0,
              "ticks": ""
             }
            },
            "type": "parcoords"
           }
          ],
          "pie": [
           {
            "automargin": true,
            "type": "pie"
           }
          ],
          "scatter": [
           {
            "fillpattern": {
             "fillmode": "overlay",
             "size": 10,
             "solidity": 0.2
            },
            "type": "scatter"
           }
          ],
          "scatter3d": [
           {
            "line": {
             "colorbar": {
              "outlinewidth": 0,
              "ticks": ""
             }
            },
            "marker": {
             "colorbar": {
              "outlinewidth": 0,
              "ticks": ""
             }
            },
            "type": "scatter3d"
           }
          ],
          "scattercarpet": [
           {
            "marker": {
             "colorbar": {
              "outlinewidth": 0,
              "ticks": ""
             }
            },
            "type": "scattercarpet"
           }
          ],
          "scattergeo": [
           {
            "marker": {
             "colorbar": {
              "outlinewidth": 0,
              "ticks": ""
             }
            },
            "type": "scattergeo"
           }
          ],
          "scattergl": [
           {
            "marker": {
             "colorbar": {
              "outlinewidth": 0,
              "ticks": ""
             }
            },
            "type": "scattergl"
           }
          ],
          "scattermapbox": [
           {
            "marker": {
             "colorbar": {
              "outlinewidth": 0,
              "ticks": ""
             }
            },
            "type": "scattermapbox"
           }
          ],
          "scatterpolar": [
           {
            "marker": {
             "colorbar": {
              "outlinewidth": 0,
              "ticks": ""
             }
            },
            "type": "scatterpolar"
           }
          ],
          "scatterpolargl": [
           {
            "marker": {
             "colorbar": {
              "outlinewidth": 0,
              "ticks": ""
             }
            },
            "type": "scatterpolargl"
           }
          ],
          "scatterternary": [
           {
            "marker": {
             "colorbar": {
              "outlinewidth": 0,
              "ticks": ""
             }
            },
            "type": "scatterternary"
           }
          ],
          "surface": [
           {
            "colorbar": {
             "outlinewidth": 0,
             "ticks": ""
            },
            "colorscale": [
             [
              0,
              "#0d0887"
             ],
             [
              0.1111111111111111,
              "#46039f"
             ],
             [
              0.2222222222222222,
              "#7201a8"
             ],
             [
              0.3333333333333333,
              "#9c179e"
             ],
             [
              0.4444444444444444,
              "#bd3786"
             ],
             [
              0.5555555555555556,
              "#d8576b"
             ],
             [
              0.6666666666666666,
              "#ed7953"
             ],
             [
              0.7777777777777778,
              "#fb9f3a"
             ],
             [
              0.8888888888888888,
              "#fdca26"
             ],
             [
              1,
              "#f0f921"
             ]
            ],
            "type": "surface"
           }
          ],
          "table": [
           {
            "cells": {
             "fill": {
              "color": "#EBF0F8"
             },
             "line": {
              "color": "white"
             }
            },
            "header": {
             "fill": {
              "color": "#C8D4E3"
             },
             "line": {
              "color": "white"
             }
            },
            "type": "table"
           }
          ]
         },
         "layout": {
          "annotationdefaults": {
           "arrowcolor": "#2a3f5f",
           "arrowhead": 0,
           "arrowwidth": 1
          },
          "autotypenumbers": "strict",
          "coloraxis": {
           "colorbar": {
            "outlinewidth": 0,
            "ticks": ""
           }
          },
          "colorscale": {
           "diverging": [
            [
             0,
             "#8e0152"
            ],
            [
             0.1,
             "#c51b7d"
            ],
            [
             0.2,
             "#de77ae"
            ],
            [
             0.3,
             "#f1b6da"
            ],
            [
             0.4,
             "#fde0ef"
            ],
            [
             0.5,
             "#f7f7f7"
            ],
            [
             0.6,
             "#e6f5d0"
            ],
            [
             0.7,
             "#b8e186"
            ],
            [
             0.8,
             "#7fbc41"
            ],
            [
             0.9,
             "#4d9221"
            ],
            [
             1,
             "#276419"
            ]
           ],
           "sequential": [
            [
             0,
             "#0d0887"
            ],
            [
             0.1111111111111111,
             "#46039f"
            ],
            [
             0.2222222222222222,
             "#7201a8"
            ],
            [
             0.3333333333333333,
             "#9c179e"
            ],
            [
             0.4444444444444444,
             "#bd3786"
            ],
            [
             0.5555555555555556,
             "#d8576b"
            ],
            [
             0.6666666666666666,
             "#ed7953"
            ],
            [
             0.7777777777777778,
             "#fb9f3a"
            ],
            [
             0.8888888888888888,
             "#fdca26"
            ],
            [
             1,
             "#f0f921"
            ]
           ],
           "sequentialminus": [
            [
             0,
             "#0d0887"
            ],
            [
             0.1111111111111111,
             "#46039f"
            ],
            [
             0.2222222222222222,
             "#7201a8"
            ],
            [
             0.3333333333333333,
             "#9c179e"
            ],
            [
             0.4444444444444444,
             "#bd3786"
            ],
            [
             0.5555555555555556,
             "#d8576b"
            ],
            [
             0.6666666666666666,
             "#ed7953"
            ],
            [
             0.7777777777777778,
             "#fb9f3a"
            ],
            [
             0.8888888888888888,
             "#fdca26"
            ],
            [
             1,
             "#f0f921"
            ]
           ]
          },
          "colorway": [
           "#636efa",
           "#EF553B",
           "#00cc96",
           "#ab63fa",
           "#FFA15A",
           "#19d3f3",
           "#FF6692",
           "#B6E880",
           "#FF97FF",
           "#FECB52"
          ],
          "font": {
           "color": "#2a3f5f"
          },
          "geo": {
           "bgcolor": "white",
           "lakecolor": "white",
           "landcolor": "#E5ECF6",
           "showlakes": true,
           "showland": true,
           "subunitcolor": "white"
          },
          "hoverlabel": {
           "align": "left"
          },
          "hovermode": "closest",
          "mapbox": {
           "style": "light"
          },
          "paper_bgcolor": "white",
          "plot_bgcolor": "#E5ECF6",
          "polar": {
           "angularaxis": {
            "gridcolor": "white",
            "linecolor": "white",
            "ticks": ""
           },
           "bgcolor": "#E5ECF6",
           "radialaxis": {
            "gridcolor": "white",
            "linecolor": "white",
            "ticks": ""
           }
          },
          "scene": {
           "xaxis": {
            "backgroundcolor": "#E5ECF6",
            "gridcolor": "white",
            "gridwidth": 2,
            "linecolor": "white",
            "showbackground": true,
            "ticks": "",
            "zerolinecolor": "white"
           },
           "yaxis": {
            "backgroundcolor": "#E5ECF6",
            "gridcolor": "white",
            "gridwidth": 2,
            "linecolor": "white",
            "showbackground": true,
            "ticks": "",
            "zerolinecolor": "white"
           },
           "zaxis": {
            "backgroundcolor": "#E5ECF6",
            "gridcolor": "white",
            "gridwidth": 2,
            "linecolor": "white",
            "showbackground": true,
            "ticks": "",
            "zerolinecolor": "white"
           }
          },
          "shapedefaults": {
           "line": {
            "color": "#2a3f5f"
           }
          },
          "ternary": {
           "aaxis": {
            "gridcolor": "white",
            "linecolor": "white",
            "ticks": ""
           },
           "baxis": {
            "gridcolor": "white",
            "linecolor": "white",
            "ticks": ""
           },
           "bgcolor": "#E5ECF6",
           "caxis": {
            "gridcolor": "white",
            "linecolor": "white",
            "ticks": ""
           }
          },
          "title": {
           "x": 0.05
          },
          "xaxis": {
           "automargin": true,
           "gridcolor": "white",
           "linecolor": "white",
           "ticks": "",
           "title": {
            "standoff": 15
           },
           "zerolinecolor": "white",
           "zerolinewidth": 2
          },
          "yaxis": {
           "automargin": true,
           "gridcolor": "white",
           "linecolor": "white",
           "ticks": "",
           "title": {
            "standoff": 15
           },
           "zerolinecolor": "white",
           "zerolinewidth": 2
          }
         }
        },
        "title": {
         "font": {
          "size": 16
         },
         "text": "Média de Defeitos por Dia Normalizado"
        },
        "xaxis": {
         "title": {
          "font": {
           "size": 14
          },
          "text": "Dia Normalizado"
         }
        },
        "yaxis": {
         "title": {
          "font": {
           "size": 14
          },
          "text": "Média de Defeitos"
         }
        }
       }
      }
     },
     "metadata": {},
     "output_type": "display_data"
    }
   ],
   "source": [
    "fig = go.Figure()\n",
    "\n",
    "fig.add_trace(go.Scatter(x=defeitos_por_dia_normalizado['Dia Normalizado'],\n",
    "                         y=defeitos_por_dia_normalizado['Média de Defeitos'],\n",
    "                         mode='lines+markers', \n",
    "                         marker=dict(size=10),\n",
    "                         line=dict(color='red'),\n",
    "                         name='Média de Defeitos'))\n",
    "\n",
    "fig.update_layout(\n",
    "    title='Média de Defeitos por Dia Normalizado',\n",
    "    title_font_size=16,\n",
    "    xaxis_title='Dia Normalizado',\n",
    "    xaxis_title_font_size=14,\n",
    "    yaxis_title='Média de Defeitos',\n",
    "    yaxis_title_font_size=14\n",
    ")\n",
    "\n",
    "fig.show()"
   ]
  },
  {
   "cell_type": "markdown",
   "metadata": {},
   "source": [
    "### Calcular a média de defeitos por Dia Contado"
   ]
  },
  {
   "cell_type": "markdown",
   "metadata": {},
   "source": [
    "Agrupar pelos valores inteiros de Dia Contado"
   ]
  },
  {
   "cell_type": "code",
   "execution_count": 544,
   "metadata": {},
   "outputs": [],
   "source": [
    "defeitos_por_dia_contado = df_sazonalidade.groupby('Dia Contado')[['Total de Defeitos no Dia']].mean().reset_index()\n",
    "defeitos_por_dia_contado.columns = ['Dia Contado', 'Média de Defeitos']"
   ]
  },
  {
   "cell_type": "markdown",
   "metadata": {},
   "source": [
    "Visualização"
   ]
  },
  {
   "cell_type": "code",
   "execution_count": 593,
   "metadata": {},
   "outputs": [
    {
     "data": {
      "application/vnd.plotly.v1+json": {
       "config": {
        "plotlyServerURL": "https://plot.ly"
       },
       "data": [
        {
         "line": {
          "color": "red"
         },
         "marker": {
          "size": 10
         },
         "mode": "lines+markers",
         "name": "Média de Defeitos",
         "type": "scatter",
         "x": [
          1,
          2,
          3,
          4,
          5,
          6,
          7,
          8,
          9,
          10,
          11,
          12,
          13,
          14,
          15,
          16,
          17,
          18,
          19,
          20
         ],
         "y": [
          218.9142857142857,
          240.77142857142857,
          210.8181818181818,
          216.52380952380952,
          211.1764705882353,
          209.46153846153845,
          183.91666666666666,
          197,
          210.16666666666666,
          188.8,
          226.25,
          188,
          161,
          162,
          135,
          184,
          189,
          156,
          177,
          143
         ]
        }
       ],
       "layout": {
        "template": {
         "data": {
          "bar": [
           {
            "error_x": {
             "color": "#2a3f5f"
            },
            "error_y": {
             "color": "#2a3f5f"
            },
            "marker": {
             "line": {
              "color": "#E5ECF6",
              "width": 0.5
             },
             "pattern": {
              "fillmode": "overlay",
              "size": 10,
              "solidity": 0.2
             }
            },
            "type": "bar"
           }
          ],
          "barpolar": [
           {
            "marker": {
             "line": {
              "color": "#E5ECF6",
              "width": 0.5
             },
             "pattern": {
              "fillmode": "overlay",
              "size": 10,
              "solidity": 0.2
             }
            },
            "type": "barpolar"
           }
          ],
          "carpet": [
           {
            "aaxis": {
             "endlinecolor": "#2a3f5f",
             "gridcolor": "white",
             "linecolor": "white",
             "minorgridcolor": "white",
             "startlinecolor": "#2a3f5f"
            },
            "baxis": {
             "endlinecolor": "#2a3f5f",
             "gridcolor": "white",
             "linecolor": "white",
             "minorgridcolor": "white",
             "startlinecolor": "#2a3f5f"
            },
            "type": "carpet"
           }
          ],
          "choropleth": [
           {
            "colorbar": {
             "outlinewidth": 0,
             "ticks": ""
            },
            "type": "choropleth"
           }
          ],
          "contour": [
           {
            "colorbar": {
             "outlinewidth": 0,
             "ticks": ""
            },
            "colorscale": [
             [
              0,
              "#0d0887"
             ],
             [
              0.1111111111111111,
              "#46039f"
             ],
             [
              0.2222222222222222,
              "#7201a8"
             ],
             [
              0.3333333333333333,
              "#9c179e"
             ],
             [
              0.4444444444444444,
              "#bd3786"
             ],
             [
              0.5555555555555556,
              "#d8576b"
             ],
             [
              0.6666666666666666,
              "#ed7953"
             ],
             [
              0.7777777777777778,
              "#fb9f3a"
             ],
             [
              0.8888888888888888,
              "#fdca26"
             ],
             [
              1,
              "#f0f921"
             ]
            ],
            "type": "contour"
           }
          ],
          "contourcarpet": [
           {
            "colorbar": {
             "outlinewidth": 0,
             "ticks": ""
            },
            "type": "contourcarpet"
           }
          ],
          "heatmap": [
           {
            "colorbar": {
             "outlinewidth": 0,
             "ticks": ""
            },
            "colorscale": [
             [
              0,
              "#0d0887"
             ],
             [
              0.1111111111111111,
              "#46039f"
             ],
             [
              0.2222222222222222,
              "#7201a8"
             ],
             [
              0.3333333333333333,
              "#9c179e"
             ],
             [
              0.4444444444444444,
              "#bd3786"
             ],
             [
              0.5555555555555556,
              "#d8576b"
             ],
             [
              0.6666666666666666,
              "#ed7953"
             ],
             [
              0.7777777777777778,
              "#fb9f3a"
             ],
             [
              0.8888888888888888,
              "#fdca26"
             ],
             [
              1,
              "#f0f921"
             ]
            ],
            "type": "heatmap"
           }
          ],
          "heatmapgl": [
           {
            "colorbar": {
             "outlinewidth": 0,
             "ticks": ""
            },
            "colorscale": [
             [
              0,
              "#0d0887"
             ],
             [
              0.1111111111111111,
              "#46039f"
             ],
             [
              0.2222222222222222,
              "#7201a8"
             ],
             [
              0.3333333333333333,
              "#9c179e"
             ],
             [
              0.4444444444444444,
              "#bd3786"
             ],
             [
              0.5555555555555556,
              "#d8576b"
             ],
             [
              0.6666666666666666,
              "#ed7953"
             ],
             [
              0.7777777777777778,
              "#fb9f3a"
             ],
             [
              0.8888888888888888,
              "#fdca26"
             ],
             [
              1,
              "#f0f921"
             ]
            ],
            "type": "heatmapgl"
           }
          ],
          "histogram": [
           {
            "marker": {
             "pattern": {
              "fillmode": "overlay",
              "size": 10,
              "solidity": 0.2
             }
            },
            "type": "histogram"
           }
          ],
          "histogram2d": [
           {
            "colorbar": {
             "outlinewidth": 0,
             "ticks": ""
            },
            "colorscale": [
             [
              0,
              "#0d0887"
             ],
             [
              0.1111111111111111,
              "#46039f"
             ],
             [
              0.2222222222222222,
              "#7201a8"
             ],
             [
              0.3333333333333333,
              "#9c179e"
             ],
             [
              0.4444444444444444,
              "#bd3786"
             ],
             [
              0.5555555555555556,
              "#d8576b"
             ],
             [
              0.6666666666666666,
              "#ed7953"
             ],
             [
              0.7777777777777778,
              "#fb9f3a"
             ],
             [
              0.8888888888888888,
              "#fdca26"
             ],
             [
              1,
              "#f0f921"
             ]
            ],
            "type": "histogram2d"
           }
          ],
          "histogram2dcontour": [
           {
            "colorbar": {
             "outlinewidth": 0,
             "ticks": ""
            },
            "colorscale": [
             [
              0,
              "#0d0887"
             ],
             [
              0.1111111111111111,
              "#46039f"
             ],
             [
              0.2222222222222222,
              "#7201a8"
             ],
             [
              0.3333333333333333,
              "#9c179e"
             ],
             [
              0.4444444444444444,
              "#bd3786"
             ],
             [
              0.5555555555555556,
              "#d8576b"
             ],
             [
              0.6666666666666666,
              "#ed7953"
             ],
             [
              0.7777777777777778,
              "#fb9f3a"
             ],
             [
              0.8888888888888888,
              "#fdca26"
             ],
             [
              1,
              "#f0f921"
             ]
            ],
            "type": "histogram2dcontour"
           }
          ],
          "mesh3d": [
           {
            "colorbar": {
             "outlinewidth": 0,
             "ticks": ""
            },
            "type": "mesh3d"
           }
          ],
          "parcoords": [
           {
            "line": {
             "colorbar": {
              "outlinewidth": 0,
              "ticks": ""
             }
            },
            "type": "parcoords"
           }
          ],
          "pie": [
           {
            "automargin": true,
            "type": "pie"
           }
          ],
          "scatter": [
           {
            "fillpattern": {
             "fillmode": "overlay",
             "size": 10,
             "solidity": 0.2
            },
            "type": "scatter"
           }
          ],
          "scatter3d": [
           {
            "line": {
             "colorbar": {
              "outlinewidth": 0,
              "ticks": ""
             }
            },
            "marker": {
             "colorbar": {
              "outlinewidth": 0,
              "ticks": ""
             }
            },
            "type": "scatter3d"
           }
          ],
          "scattercarpet": [
           {
            "marker": {
             "colorbar": {
              "outlinewidth": 0,
              "ticks": ""
             }
            },
            "type": "scattercarpet"
           }
          ],
          "scattergeo": [
           {
            "marker": {
             "colorbar": {
              "outlinewidth": 0,
              "ticks": ""
             }
            },
            "type": "scattergeo"
           }
          ],
          "scattergl": [
           {
            "marker": {
             "colorbar": {
              "outlinewidth": 0,
              "ticks": ""
             }
            },
            "type": "scattergl"
           }
          ],
          "scattermapbox": [
           {
            "marker": {
             "colorbar": {
              "outlinewidth": 0,
              "ticks": ""
             }
            },
            "type": "scattermapbox"
           }
          ],
          "scatterpolar": [
           {
            "marker": {
             "colorbar": {
              "outlinewidth": 0,
              "ticks": ""
             }
            },
            "type": "scatterpolar"
           }
          ],
          "scatterpolargl": [
           {
            "marker": {
             "colorbar": {
              "outlinewidth": 0,
              "ticks": ""
             }
            },
            "type": "scatterpolargl"
           }
          ],
          "scatterternary": [
           {
            "marker": {
             "colorbar": {
              "outlinewidth": 0,
              "ticks": ""
             }
            },
            "type": "scatterternary"
           }
          ],
          "surface": [
           {
            "colorbar": {
             "outlinewidth": 0,
             "ticks": ""
            },
            "colorscale": [
             [
              0,
              "#0d0887"
             ],
             [
              0.1111111111111111,
              "#46039f"
             ],
             [
              0.2222222222222222,
              "#7201a8"
             ],
             [
              0.3333333333333333,
              "#9c179e"
             ],
             [
              0.4444444444444444,
              "#bd3786"
             ],
             [
              0.5555555555555556,
              "#d8576b"
             ],
             [
              0.6666666666666666,
              "#ed7953"
             ],
             [
              0.7777777777777778,
              "#fb9f3a"
             ],
             [
              0.8888888888888888,
              "#fdca26"
             ],
             [
              1,
              "#f0f921"
             ]
            ],
            "type": "surface"
           }
          ],
          "table": [
           {
            "cells": {
             "fill": {
              "color": "#EBF0F8"
             },
             "line": {
              "color": "white"
             }
            },
            "header": {
             "fill": {
              "color": "#C8D4E3"
             },
             "line": {
              "color": "white"
             }
            },
            "type": "table"
           }
          ]
         },
         "layout": {
          "annotationdefaults": {
           "arrowcolor": "#2a3f5f",
           "arrowhead": 0,
           "arrowwidth": 1
          },
          "autotypenumbers": "strict",
          "coloraxis": {
           "colorbar": {
            "outlinewidth": 0,
            "ticks": ""
           }
          },
          "colorscale": {
           "diverging": [
            [
             0,
             "#8e0152"
            ],
            [
             0.1,
             "#c51b7d"
            ],
            [
             0.2,
             "#de77ae"
            ],
            [
             0.3,
             "#f1b6da"
            ],
            [
             0.4,
             "#fde0ef"
            ],
            [
             0.5,
             "#f7f7f7"
            ],
            [
             0.6,
             "#e6f5d0"
            ],
            [
             0.7,
             "#b8e186"
            ],
            [
             0.8,
             "#7fbc41"
            ],
            [
             0.9,
             "#4d9221"
            ],
            [
             1,
             "#276419"
            ]
           ],
           "sequential": [
            [
             0,
             "#0d0887"
            ],
            [
             0.1111111111111111,
             "#46039f"
            ],
            [
             0.2222222222222222,
             "#7201a8"
            ],
            [
             0.3333333333333333,
             "#9c179e"
            ],
            [
             0.4444444444444444,
             "#bd3786"
            ],
            [
             0.5555555555555556,
             "#d8576b"
            ],
            [
             0.6666666666666666,
             "#ed7953"
            ],
            [
             0.7777777777777778,
             "#fb9f3a"
            ],
            [
             0.8888888888888888,
             "#fdca26"
            ],
            [
             1,
             "#f0f921"
            ]
           ],
           "sequentialminus": [
            [
             0,
             "#0d0887"
            ],
            [
             0.1111111111111111,
             "#46039f"
            ],
            [
             0.2222222222222222,
             "#7201a8"
            ],
            [
             0.3333333333333333,
             "#9c179e"
            ],
            [
             0.4444444444444444,
             "#bd3786"
            ],
            [
             0.5555555555555556,
             "#d8576b"
            ],
            [
             0.6666666666666666,
             "#ed7953"
            ],
            [
             0.7777777777777778,
             "#fb9f3a"
            ],
            [
             0.8888888888888888,
             "#fdca26"
            ],
            [
             1,
             "#f0f921"
            ]
           ]
          },
          "colorway": [
           "#636efa",
           "#EF553B",
           "#00cc96",
           "#ab63fa",
           "#FFA15A",
           "#19d3f3",
           "#FF6692",
           "#B6E880",
           "#FF97FF",
           "#FECB52"
          ],
          "font": {
           "color": "#2a3f5f"
          },
          "geo": {
           "bgcolor": "white",
           "lakecolor": "white",
           "landcolor": "#E5ECF6",
           "showlakes": true,
           "showland": true,
           "subunitcolor": "white"
          },
          "hoverlabel": {
           "align": "left"
          },
          "hovermode": "closest",
          "mapbox": {
           "style": "light"
          },
          "paper_bgcolor": "white",
          "plot_bgcolor": "#E5ECF6",
          "polar": {
           "angularaxis": {
            "gridcolor": "white",
            "linecolor": "white",
            "ticks": ""
           },
           "bgcolor": "#E5ECF6",
           "radialaxis": {
            "gridcolor": "white",
            "linecolor": "white",
            "ticks": ""
           }
          },
          "scene": {
           "xaxis": {
            "backgroundcolor": "#E5ECF6",
            "gridcolor": "white",
            "gridwidth": 2,
            "linecolor": "white",
            "showbackground": true,
            "ticks": "",
            "zerolinecolor": "white"
           },
           "yaxis": {
            "backgroundcolor": "#E5ECF6",
            "gridcolor": "white",
            "gridwidth": 2,
            "linecolor": "white",
            "showbackground": true,
            "ticks": "",
            "zerolinecolor": "white"
           },
           "zaxis": {
            "backgroundcolor": "#E5ECF6",
            "gridcolor": "white",
            "gridwidth": 2,
            "linecolor": "white",
            "showbackground": true,
            "ticks": "",
            "zerolinecolor": "white"
           }
          },
          "shapedefaults": {
           "line": {
            "color": "#2a3f5f"
           }
          },
          "ternary": {
           "aaxis": {
            "gridcolor": "white",
            "linecolor": "white",
            "ticks": ""
           },
           "baxis": {
            "gridcolor": "white",
            "linecolor": "white",
            "ticks": ""
           },
           "bgcolor": "#E5ECF6",
           "caxis": {
            "gridcolor": "white",
            "linecolor": "white",
            "ticks": ""
           }
          },
          "title": {
           "x": 0.05
          },
          "xaxis": {
           "automargin": true,
           "gridcolor": "white",
           "linecolor": "white",
           "ticks": "",
           "title": {
            "standoff": 15
           },
           "zerolinecolor": "white",
           "zerolinewidth": 2
          },
          "yaxis": {
           "automargin": true,
           "gridcolor": "white",
           "linecolor": "white",
           "ticks": "",
           "title": {
            "standoff": 15
           },
           "zerolinecolor": "white",
           "zerolinewidth": 2
          }
         }
        },
        "title": {
         "font": {
          "size": 16
         },
         "text": "Média de Defeitos por Dia Contado"
        },
        "xaxis": {
         "title": {
          "font": {
           "size": 14
          },
          "text": "Dia Contado"
         }
        },
        "yaxis": {
         "title": {
          "font": {
           "size": 14
          },
          "text": "Média de Defeitos"
         }
        }
       }
      }
     },
     "metadata": {},
     "output_type": "display_data"
    }
   ],
   "source": [
    "fig = go.Figure()\n",
    "\n",
    "fig.add_trace(go.Scatter(x=defeitos_por_dia_contado['Dia Contado'],\n",
    "                         y=defeitos_por_dia_contado['Média de Defeitos'],\n",
    "                         mode='lines+markers', \n",
    "                         marker=dict(size=10),\n",
    "                         line=dict(color='red'),\n",
    "                         name='Média de Defeitos'))\n",
    "\n",
    "fig.update_layout(\n",
    "    title='Média de Defeitos por Dia Contado',\n",
    "    title_font_size=16,\n",
    "    xaxis_title='Dia Contado',\n",
    "    xaxis_title_font_size=14,\n",
    "    yaxis_title='Média de Defeitos',\n",
    "    yaxis_title_font_size=14\n",
    ")\n",
    "\n",
    "fig.show()"
   ]
  },
  {
   "cell_type": "markdown",
   "metadata": {},
   "source": [
    "## Implementação do Modelo de Regressão"
   ]
  },
  {
   "cell_type": "markdown",
   "metadata": {},
   "source": [
    "### Resetando index"
   ]
  },
  {
   "cell_type": "code",
   "execution_count": 546,
   "metadata": {},
   "outputs": [],
   "source": [
    "df_total_duracao_reset = defeitos_por_duracao.reset_index()"
   ]
  },
  {
   "cell_type": "code",
   "execution_count": 547,
   "metadata": {},
   "outputs": [
    {
     "data": {
      "text/html": [
       "<div>\n",
       "<style scoped>\n",
       "    .dataframe tbody tr th:only-of-type {\n",
       "        vertical-align: middle;\n",
       "    }\n",
       "\n",
       "    .dataframe tbody tr th {\n",
       "        vertical-align: top;\n",
       "    }\n",
       "\n",
       "    .dataframe thead th {\n",
       "        text-align: right;\n",
       "    }\n",
       "</style>\n",
       "<table border=\"1\" class=\"dataframe\">\n",
       "  <thead>\n",
       "    <tr style=\"text-align: right;\">\n",
       "      <th></th>\n",
       "      <th>Ordem de prod</th>\n",
       "      <th>Total de Defeitos por Ordem</th>\n",
       "      <th>Dias de Duração</th>\n",
       "    </tr>\n",
       "  </thead>\n",
       "  <tbody>\n",
       "    <tr>\n",
       "      <th>0</th>\n",
       "      <td>192970</td>\n",
       "      <td>2148</td>\n",
       "      <td>9</td>\n",
       "    </tr>\n",
       "    <tr>\n",
       "      <th>1</th>\n",
       "      <td>193112</td>\n",
       "      <td>584</td>\n",
       "      <td>3</td>\n",
       "    </tr>\n",
       "    <tr>\n",
       "      <th>2</th>\n",
       "      <td>193164</td>\n",
       "      <td>2661</td>\n",
       "      <td>12</td>\n",
       "    </tr>\n",
       "    <tr>\n",
       "      <th>3</th>\n",
       "      <td>193206</td>\n",
       "      <td>1041</td>\n",
       "      <td>4</td>\n",
       "    </tr>\n",
       "    <tr>\n",
       "      <th>4</th>\n",
       "      <td>193207</td>\n",
       "      <td>2130</td>\n",
       "      <td>10</td>\n",
       "    </tr>\n",
       "    <tr>\n",
       "      <th>5</th>\n",
       "      <td>193208</td>\n",
       "      <td>369</td>\n",
       "      <td>2</td>\n",
       "    </tr>\n",
       "    <tr>\n",
       "      <th>6</th>\n",
       "      <td>193209</td>\n",
       "      <td>1807</td>\n",
       "      <td>7</td>\n",
       "    </tr>\n",
       "    <tr>\n",
       "      <th>7</th>\n",
       "      <td>193342</td>\n",
       "      <td>3685</td>\n",
       "      <td>20</td>\n",
       "    </tr>\n",
       "    <tr>\n",
       "      <th>8</th>\n",
       "      <td>193368</td>\n",
       "      <td>1464</td>\n",
       "      <td>7</td>\n",
       "    </tr>\n",
       "    <tr>\n",
       "      <th>9</th>\n",
       "      <td>193459</td>\n",
       "      <td>505</td>\n",
       "      <td>3</td>\n",
       "    </tr>\n",
       "    <tr>\n",
       "      <th>10</th>\n",
       "      <td>193462</td>\n",
       "      <td>1241</td>\n",
       "      <td>5</td>\n",
       "    </tr>\n",
       "    <tr>\n",
       "      <th>11</th>\n",
       "      <td>193463</td>\n",
       "      <td>1483</td>\n",
       "      <td>8</td>\n",
       "    </tr>\n",
       "    <tr>\n",
       "      <th>12</th>\n",
       "      <td>193533</td>\n",
       "      <td>1480</td>\n",
       "      <td>8</td>\n",
       "    </tr>\n",
       "    <tr>\n",
       "      <th>13</th>\n",
       "      <td>193535</td>\n",
       "      <td>688</td>\n",
       "      <td>3</td>\n",
       "    </tr>\n",
       "    <tr>\n",
       "      <th>14</th>\n",
       "      <td>193537</td>\n",
       "      <td>718</td>\n",
       "      <td>3</td>\n",
       "    </tr>\n",
       "    <tr>\n",
       "      <th>15</th>\n",
       "      <td>193594</td>\n",
       "      <td>1304</td>\n",
       "      <td>7</td>\n",
       "    </tr>\n",
       "    <tr>\n",
       "      <th>16</th>\n",
       "      <td>193619</td>\n",
       "      <td>963</td>\n",
       "      <td>5</td>\n",
       "    </tr>\n",
       "    <tr>\n",
       "      <th>17</th>\n",
       "      <td>193671</td>\n",
       "      <td>776</td>\n",
       "      <td>4</td>\n",
       "    </tr>\n",
       "    <tr>\n",
       "      <th>18</th>\n",
       "      <td>193686</td>\n",
       "      <td>755</td>\n",
       "      <td>3</td>\n",
       "    </tr>\n",
       "    <tr>\n",
       "      <th>19</th>\n",
       "      <td>193688</td>\n",
       "      <td>616</td>\n",
       "      <td>3</td>\n",
       "    </tr>\n",
       "    <tr>\n",
       "      <th>20</th>\n",
       "      <td>193689</td>\n",
       "      <td>872</td>\n",
       "      <td>3</td>\n",
       "    </tr>\n",
       "    <tr>\n",
       "      <th>21</th>\n",
       "      <td>193692</td>\n",
       "      <td>672</td>\n",
       "      <td>3</td>\n",
       "    </tr>\n",
       "    <tr>\n",
       "      <th>22</th>\n",
       "      <td>193694</td>\n",
       "      <td>1001</td>\n",
       "      <td>5</td>\n",
       "    </tr>\n",
       "    <tr>\n",
       "      <th>23</th>\n",
       "      <td>193782</td>\n",
       "      <td>2538</td>\n",
       "      <td>11</td>\n",
       "    </tr>\n",
       "    <tr>\n",
       "      <th>24</th>\n",
       "      <td>193783</td>\n",
       "      <td>887</td>\n",
       "      <td>3</td>\n",
       "    </tr>\n",
       "    <tr>\n",
       "      <th>25</th>\n",
       "      <td>193784</td>\n",
       "      <td>2073</td>\n",
       "      <td>11</td>\n",
       "    </tr>\n",
       "    <tr>\n",
       "      <th>26</th>\n",
       "      <td>193852</td>\n",
       "      <td>1123</td>\n",
       "      <td>5</td>\n",
       "    </tr>\n",
       "    <tr>\n",
       "      <th>27</th>\n",
       "      <td>193882</td>\n",
       "      <td>1716</td>\n",
       "      <td>8</td>\n",
       "    </tr>\n",
       "    <tr>\n",
       "      <th>28</th>\n",
       "      <td>193937</td>\n",
       "      <td>622</td>\n",
       "      <td>3</td>\n",
       "    </tr>\n",
       "    <tr>\n",
       "      <th>29</th>\n",
       "      <td>193972</td>\n",
       "      <td>520</td>\n",
       "      <td>2</td>\n",
       "    </tr>\n",
       "    <tr>\n",
       "      <th>30</th>\n",
       "      <td>193973</td>\n",
       "      <td>802</td>\n",
       "      <td>4</td>\n",
       "    </tr>\n",
       "    <tr>\n",
       "      <th>31</th>\n",
       "      <td>194029</td>\n",
       "      <td>821</td>\n",
       "      <td>4</td>\n",
       "    </tr>\n",
       "    <tr>\n",
       "      <th>32</th>\n",
       "      <td>194057</td>\n",
       "      <td>468</td>\n",
       "      <td>3</td>\n",
       "    </tr>\n",
       "    <tr>\n",
       "      <th>33</th>\n",
       "      <td>194113</td>\n",
       "      <td>710</td>\n",
       "      <td>3</td>\n",
       "    </tr>\n",
       "    <tr>\n",
       "      <th>34</th>\n",
       "      <td>194121</td>\n",
       "      <td>1436</td>\n",
       "      <td>6</td>\n",
       "    </tr>\n",
       "  </tbody>\n",
       "</table>\n",
       "</div>"
      ],
      "text/plain": [
       "    Ordem de prod  Total de Defeitos por Ordem  Dias de Duração\n",
       "0          192970                         2148                9\n",
       "1          193112                          584                3\n",
       "2          193164                         2661               12\n",
       "3          193206                         1041                4\n",
       "4          193207                         2130               10\n",
       "5          193208                          369                2\n",
       "6          193209                         1807                7\n",
       "7          193342                         3685               20\n",
       "8          193368                         1464                7\n",
       "9          193459                          505                3\n",
       "10         193462                         1241                5\n",
       "11         193463                         1483                8\n",
       "12         193533                         1480                8\n",
       "13         193535                          688                3\n",
       "14         193537                          718                3\n",
       "15         193594                         1304                7\n",
       "16         193619                          963                5\n",
       "17         193671                          776                4\n",
       "18         193686                          755                3\n",
       "19         193688                          616                3\n",
       "20         193689                          872                3\n",
       "21         193692                          672                3\n",
       "22         193694                         1001                5\n",
       "23         193782                         2538               11\n",
       "24         193783                          887                3\n",
       "25         193784                         2073               11\n",
       "26         193852                         1123                5\n",
       "27         193882                         1716                8\n",
       "28         193937                          622                3\n",
       "29         193972                          520                2\n",
       "30         193973                          802                4\n",
       "31         194029                          821                4\n",
       "32         194057                          468                3\n",
       "33         194113                          710                3\n",
       "34         194121                         1436                6"
      ]
     },
     "execution_count": 547,
     "metadata": {},
     "output_type": "execute_result"
    }
   ],
   "source": [
    "df_total_duracao_reset"
   ]
  },
  {
   "cell_type": "markdown",
   "metadata": {},
   "source": [
    "### Passo 1: Preparar os dados para o total de defeitos e a duração da ordem"
   ]
  },
  {
   "cell_type": "code",
   "execution_count": 548,
   "metadata": {},
   "outputs": [],
   "source": [
    "df_combined = df_reset.merge(df_total_duracao_reset[['Ordem de prod', 'Total de Defeitos por Ordem', 'Dias de Duração']], on='Ordem de prod', how='left')"
   ]
  },
  {
   "cell_type": "markdown",
   "metadata": {},
   "source": [
    "### Passo 2: Separar variáveis independentes (medidas e duração) e dependente (total de defeitos)"
   ]
  },
  {
   "cell_type": "code",
   "execution_count": 549,
   "metadata": {},
   "outputs": [],
   "source": [
    "X = df_combined[['Peso médio (g)', 'Comprimento médio (mm)', 'Diâmetro', 'Dias de Duração']]\n",
    "y = df_combined['Total de Defeitos por Ordem']"
   ]
  },
  {
   "cell_type": "markdown",
   "metadata": {},
   "source": [
    "### Passo 3: Dividir os dados em treino e teste"
   ]
  },
  {
   "cell_type": "code",
   "execution_count": 550,
   "metadata": {},
   "outputs": [],
   "source": [
    "X_train, X_test, y_train, y_test = train_test_split(X, y, test_size=0.2, random_state=42)"
   ]
  },
  {
   "cell_type": "markdown",
   "metadata": {},
   "source": [
    "### Passo 4: Normalizar os dados"
   ]
  },
  {
   "cell_type": "code",
   "execution_count": 551,
   "metadata": {},
   "outputs": [],
   "source": [
    "scaler = StandardScaler()\n",
    "X_train_scaled = scaler.fit_transform(X_train)\n",
    "X_test_scaled = scaler.transform(X_test)"
   ]
  },
  {
   "cell_type": "markdown",
   "metadata": {},
   "source": [
    "### Passo 5: Treinar o modelo para prever o total de defeitos"
   ]
  },
  {
   "cell_type": "code",
   "execution_count": 552,
   "metadata": {},
   "outputs": [
    {
     "data": {
      "text/html": [
       "<style>#sk-container-id-8 {\n",
       "  /* Definition of color scheme common for light and dark mode */\n",
       "  --sklearn-color-text: black;\n",
       "  --sklearn-color-line: gray;\n",
       "  /* Definition of color scheme for unfitted estimators */\n",
       "  --sklearn-color-unfitted-level-0: #fff5e6;\n",
       "  --sklearn-color-unfitted-level-1: #f6e4d2;\n",
       "  --sklearn-color-unfitted-level-2: #ffe0b3;\n",
       "  --sklearn-color-unfitted-level-3: chocolate;\n",
       "  /* Definition of color scheme for fitted estimators */\n",
       "  --sklearn-color-fitted-level-0: #f0f8ff;\n",
       "  --sklearn-color-fitted-level-1: #d4ebff;\n",
       "  --sklearn-color-fitted-level-2: #b3dbfd;\n",
       "  --sklearn-color-fitted-level-3: cornflowerblue;\n",
       "\n",
       "  /* Specific color for light theme */\n",
       "  --sklearn-color-text-on-default-background: var(--sg-text-color, var(--theme-code-foreground, var(--jp-content-font-color1, black)));\n",
       "  --sklearn-color-background: var(--sg-background-color, var(--theme-background, var(--jp-layout-color0, white)));\n",
       "  --sklearn-color-border-box: var(--sg-text-color, var(--theme-code-foreground, var(--jp-content-font-color1, black)));\n",
       "  --sklearn-color-icon: #696969;\n",
       "\n",
       "  @media (prefers-color-scheme: dark) {\n",
       "    /* Redefinition of color scheme for dark theme */\n",
       "    --sklearn-color-text-on-default-background: var(--sg-text-color, var(--theme-code-foreground, var(--jp-content-font-color1, white)));\n",
       "    --sklearn-color-background: var(--sg-background-color, var(--theme-background, var(--jp-layout-color0, #111)));\n",
       "    --sklearn-color-border-box: var(--sg-text-color, var(--theme-code-foreground, var(--jp-content-font-color1, white)));\n",
       "    --sklearn-color-icon: #878787;\n",
       "  }\n",
       "}\n",
       "\n",
       "#sk-container-id-8 {\n",
       "  color: var(--sklearn-color-text);\n",
       "}\n",
       "\n",
       "#sk-container-id-8 pre {\n",
       "  padding: 0;\n",
       "}\n",
       "\n",
       "#sk-container-id-8 input.sk-hidden--visually {\n",
       "  border: 0;\n",
       "  clip: rect(1px 1px 1px 1px);\n",
       "  clip: rect(1px, 1px, 1px, 1px);\n",
       "  height: 1px;\n",
       "  margin: -1px;\n",
       "  overflow: hidden;\n",
       "  padding: 0;\n",
       "  position: absolute;\n",
       "  width: 1px;\n",
       "}\n",
       "\n",
       "#sk-container-id-8 div.sk-dashed-wrapped {\n",
       "  border: 1px dashed var(--sklearn-color-line);\n",
       "  margin: 0 0.4em 0.5em 0.4em;\n",
       "  box-sizing: border-box;\n",
       "  padding-bottom: 0.4em;\n",
       "  background-color: var(--sklearn-color-background);\n",
       "}\n",
       "\n",
       "#sk-container-id-8 div.sk-container {\n",
       "  /* jupyter's `normalize.less` sets `[hidden] { display: none; }`\n",
       "     but bootstrap.min.css set `[hidden] { display: none !important; }`\n",
       "     so we also need the `!important` here to be able to override the\n",
       "     default hidden behavior on the sphinx rendered scikit-learn.org.\n",
       "     See: https://github.com/scikit-learn/scikit-learn/issues/21755 */\n",
       "  display: inline-block !important;\n",
       "  position: relative;\n",
       "}\n",
       "\n",
       "#sk-container-id-8 div.sk-text-repr-fallback {\n",
       "  display: none;\n",
       "}\n",
       "\n",
       "div.sk-parallel-item,\n",
       "div.sk-serial,\n",
       "div.sk-item {\n",
       "  /* draw centered vertical line to link estimators */\n",
       "  background-image: linear-gradient(var(--sklearn-color-text-on-default-background), var(--sklearn-color-text-on-default-background));\n",
       "  background-size: 2px 100%;\n",
       "  background-repeat: no-repeat;\n",
       "  background-position: center center;\n",
       "}\n",
       "\n",
       "/* Parallel-specific style estimator block */\n",
       "\n",
       "#sk-container-id-8 div.sk-parallel-item::after {\n",
       "  content: \"\";\n",
       "  width: 100%;\n",
       "  border-bottom: 2px solid var(--sklearn-color-text-on-default-background);\n",
       "  flex-grow: 1;\n",
       "}\n",
       "\n",
       "#sk-container-id-8 div.sk-parallel {\n",
       "  display: flex;\n",
       "  align-items: stretch;\n",
       "  justify-content: center;\n",
       "  background-color: var(--sklearn-color-background);\n",
       "  position: relative;\n",
       "}\n",
       "\n",
       "#sk-container-id-8 div.sk-parallel-item {\n",
       "  display: flex;\n",
       "  flex-direction: column;\n",
       "}\n",
       "\n",
       "#sk-container-id-8 div.sk-parallel-item:first-child::after {\n",
       "  align-self: flex-end;\n",
       "  width: 50%;\n",
       "}\n",
       "\n",
       "#sk-container-id-8 div.sk-parallel-item:last-child::after {\n",
       "  align-self: flex-start;\n",
       "  width: 50%;\n",
       "}\n",
       "\n",
       "#sk-container-id-8 div.sk-parallel-item:only-child::after {\n",
       "  width: 0;\n",
       "}\n",
       "\n",
       "/* Serial-specific style estimator block */\n",
       "\n",
       "#sk-container-id-8 div.sk-serial {\n",
       "  display: flex;\n",
       "  flex-direction: column;\n",
       "  align-items: center;\n",
       "  background-color: var(--sklearn-color-background);\n",
       "  padding-right: 1em;\n",
       "  padding-left: 1em;\n",
       "}\n",
       "\n",
       "\n",
       "/* Toggleable style: style used for estimator/Pipeline/ColumnTransformer box that is\n",
       "clickable and can be expanded/collapsed.\n",
       "- Pipeline and ColumnTransformer use this feature and define the default style\n",
       "- Estimators will overwrite some part of the style using the `sk-estimator` class\n",
       "*/\n",
       "\n",
       "/* Pipeline and ColumnTransformer style (default) */\n",
       "\n",
       "#sk-container-id-8 div.sk-toggleable {\n",
       "  /* Default theme specific background. It is overwritten whether we have a\n",
       "  specific estimator or a Pipeline/ColumnTransformer */\n",
       "  background-color: var(--sklearn-color-background);\n",
       "}\n",
       "\n",
       "/* Toggleable label */\n",
       "#sk-container-id-8 label.sk-toggleable__label {\n",
       "  cursor: pointer;\n",
       "  display: block;\n",
       "  width: 100%;\n",
       "  margin-bottom: 0;\n",
       "  padding: 0.5em;\n",
       "  box-sizing: border-box;\n",
       "  text-align: center;\n",
       "}\n",
       "\n",
       "#sk-container-id-8 label.sk-toggleable__label-arrow:before {\n",
       "  /* Arrow on the left of the label */\n",
       "  content: \"▸\";\n",
       "  float: left;\n",
       "  margin-right: 0.25em;\n",
       "  color: var(--sklearn-color-icon);\n",
       "}\n",
       "\n",
       "#sk-container-id-8 label.sk-toggleable__label-arrow:hover:before {\n",
       "  color: var(--sklearn-color-text);\n",
       "}\n",
       "\n",
       "/* Toggleable content - dropdown */\n",
       "\n",
       "#sk-container-id-8 div.sk-toggleable__content {\n",
       "  max-height: 0;\n",
       "  max-width: 0;\n",
       "  overflow: hidden;\n",
       "  text-align: left;\n",
       "  /* unfitted */\n",
       "  background-color: var(--sklearn-color-unfitted-level-0);\n",
       "}\n",
       "\n",
       "#sk-container-id-8 div.sk-toggleable__content.fitted {\n",
       "  /* fitted */\n",
       "  background-color: var(--sklearn-color-fitted-level-0);\n",
       "}\n",
       "\n",
       "#sk-container-id-8 div.sk-toggleable__content pre {\n",
       "  margin: 0.2em;\n",
       "  border-radius: 0.25em;\n",
       "  color: var(--sklearn-color-text);\n",
       "  /* unfitted */\n",
       "  background-color: var(--sklearn-color-unfitted-level-0);\n",
       "}\n",
       "\n",
       "#sk-container-id-8 div.sk-toggleable__content.fitted pre {\n",
       "  /* unfitted */\n",
       "  background-color: var(--sklearn-color-fitted-level-0);\n",
       "}\n",
       "\n",
       "#sk-container-id-8 input.sk-toggleable__control:checked~div.sk-toggleable__content {\n",
       "  /* Expand drop-down */\n",
       "  max-height: 200px;\n",
       "  max-width: 100%;\n",
       "  overflow: auto;\n",
       "}\n",
       "\n",
       "#sk-container-id-8 input.sk-toggleable__control:checked~label.sk-toggleable__label-arrow:before {\n",
       "  content: \"▾\";\n",
       "}\n",
       "\n",
       "/* Pipeline/ColumnTransformer-specific style */\n",
       "\n",
       "#sk-container-id-8 div.sk-label input.sk-toggleable__control:checked~label.sk-toggleable__label {\n",
       "  color: var(--sklearn-color-text);\n",
       "  background-color: var(--sklearn-color-unfitted-level-2);\n",
       "}\n",
       "\n",
       "#sk-container-id-8 div.sk-label.fitted input.sk-toggleable__control:checked~label.sk-toggleable__label {\n",
       "  background-color: var(--sklearn-color-fitted-level-2);\n",
       "}\n",
       "\n",
       "/* Estimator-specific style */\n",
       "\n",
       "/* Colorize estimator box */\n",
       "#sk-container-id-8 div.sk-estimator input.sk-toggleable__control:checked~label.sk-toggleable__label {\n",
       "  /* unfitted */\n",
       "  background-color: var(--sklearn-color-unfitted-level-2);\n",
       "}\n",
       "\n",
       "#sk-container-id-8 div.sk-estimator.fitted input.sk-toggleable__control:checked~label.sk-toggleable__label {\n",
       "  /* fitted */\n",
       "  background-color: var(--sklearn-color-fitted-level-2);\n",
       "}\n",
       "\n",
       "#sk-container-id-8 div.sk-label label.sk-toggleable__label,\n",
       "#sk-container-id-8 div.sk-label label {\n",
       "  /* The background is the default theme color */\n",
       "  color: var(--sklearn-color-text-on-default-background);\n",
       "}\n",
       "\n",
       "/* On hover, darken the color of the background */\n",
       "#sk-container-id-8 div.sk-label:hover label.sk-toggleable__label {\n",
       "  color: var(--sklearn-color-text);\n",
       "  background-color: var(--sklearn-color-unfitted-level-2);\n",
       "}\n",
       "\n",
       "/* Label box, darken color on hover, fitted */\n",
       "#sk-container-id-8 div.sk-label.fitted:hover label.sk-toggleable__label.fitted {\n",
       "  color: var(--sklearn-color-text);\n",
       "  background-color: var(--sklearn-color-fitted-level-2);\n",
       "}\n",
       "\n",
       "/* Estimator label */\n",
       "\n",
       "#sk-container-id-8 div.sk-label label {\n",
       "  font-family: monospace;\n",
       "  font-weight: bold;\n",
       "  display: inline-block;\n",
       "  line-height: 1.2em;\n",
       "}\n",
       "\n",
       "#sk-container-id-8 div.sk-label-container {\n",
       "  text-align: center;\n",
       "}\n",
       "\n",
       "/* Estimator-specific */\n",
       "#sk-container-id-8 div.sk-estimator {\n",
       "  font-family: monospace;\n",
       "  border: 1px dotted var(--sklearn-color-border-box);\n",
       "  border-radius: 0.25em;\n",
       "  box-sizing: border-box;\n",
       "  margin-bottom: 0.5em;\n",
       "  /* unfitted */\n",
       "  background-color: var(--sklearn-color-unfitted-level-0);\n",
       "}\n",
       "\n",
       "#sk-container-id-8 div.sk-estimator.fitted {\n",
       "  /* fitted */\n",
       "  background-color: var(--sklearn-color-fitted-level-0);\n",
       "}\n",
       "\n",
       "/* on hover */\n",
       "#sk-container-id-8 div.sk-estimator:hover {\n",
       "  /* unfitted */\n",
       "  background-color: var(--sklearn-color-unfitted-level-2);\n",
       "}\n",
       "\n",
       "#sk-container-id-8 div.sk-estimator.fitted:hover {\n",
       "  /* fitted */\n",
       "  background-color: var(--sklearn-color-fitted-level-2);\n",
       "}\n",
       "\n",
       "/* Specification for estimator info (e.g. \"i\" and \"?\") */\n",
       "\n",
       "/* Common style for \"i\" and \"?\" */\n",
       "\n",
       ".sk-estimator-doc-link,\n",
       "a:link.sk-estimator-doc-link,\n",
       "a:visited.sk-estimator-doc-link {\n",
       "  float: right;\n",
       "  font-size: smaller;\n",
       "  line-height: 1em;\n",
       "  font-family: monospace;\n",
       "  background-color: var(--sklearn-color-background);\n",
       "  border-radius: 1em;\n",
       "  height: 1em;\n",
       "  width: 1em;\n",
       "  text-decoration: none !important;\n",
       "  margin-left: 1ex;\n",
       "  /* unfitted */\n",
       "  border: var(--sklearn-color-unfitted-level-1) 1pt solid;\n",
       "  color: var(--sklearn-color-unfitted-level-1);\n",
       "}\n",
       "\n",
       ".sk-estimator-doc-link.fitted,\n",
       "a:link.sk-estimator-doc-link.fitted,\n",
       "a:visited.sk-estimator-doc-link.fitted {\n",
       "  /* fitted */\n",
       "  border: var(--sklearn-color-fitted-level-1) 1pt solid;\n",
       "  color: var(--sklearn-color-fitted-level-1);\n",
       "}\n",
       "\n",
       "/* On hover */\n",
       "div.sk-estimator:hover .sk-estimator-doc-link:hover,\n",
       ".sk-estimator-doc-link:hover,\n",
       "div.sk-label-container:hover .sk-estimator-doc-link:hover,\n",
       ".sk-estimator-doc-link:hover {\n",
       "  /* unfitted */\n",
       "  background-color: var(--sklearn-color-unfitted-level-3);\n",
       "  color: var(--sklearn-color-background);\n",
       "  text-decoration: none;\n",
       "}\n",
       "\n",
       "div.sk-estimator.fitted:hover .sk-estimator-doc-link.fitted:hover,\n",
       ".sk-estimator-doc-link.fitted:hover,\n",
       "div.sk-label-container:hover .sk-estimator-doc-link.fitted:hover,\n",
       ".sk-estimator-doc-link.fitted:hover {\n",
       "  /* fitted */\n",
       "  background-color: var(--sklearn-color-fitted-level-3);\n",
       "  color: var(--sklearn-color-background);\n",
       "  text-decoration: none;\n",
       "}\n",
       "\n",
       "/* Span, style for the box shown on hovering the info icon */\n",
       ".sk-estimator-doc-link span {\n",
       "  display: none;\n",
       "  z-index: 9999;\n",
       "  position: relative;\n",
       "  font-weight: normal;\n",
       "  right: .2ex;\n",
       "  padding: .5ex;\n",
       "  margin: .5ex;\n",
       "  width: min-content;\n",
       "  min-width: 20ex;\n",
       "  max-width: 50ex;\n",
       "  color: var(--sklearn-color-text);\n",
       "  box-shadow: 2pt 2pt 4pt #999;\n",
       "  /* unfitted */\n",
       "  background: var(--sklearn-color-unfitted-level-0);\n",
       "  border: .5pt solid var(--sklearn-color-unfitted-level-3);\n",
       "}\n",
       "\n",
       ".sk-estimator-doc-link.fitted span {\n",
       "  /* fitted */\n",
       "  background: var(--sklearn-color-fitted-level-0);\n",
       "  border: var(--sklearn-color-fitted-level-3);\n",
       "}\n",
       "\n",
       ".sk-estimator-doc-link:hover span {\n",
       "  display: block;\n",
       "}\n",
       "\n",
       "/* \"?\"-specific style due to the `<a>` HTML tag */\n",
       "\n",
       "#sk-container-id-8 a.estimator_doc_link {\n",
       "  float: right;\n",
       "  font-size: 1rem;\n",
       "  line-height: 1em;\n",
       "  font-family: monospace;\n",
       "  background-color: var(--sklearn-color-background);\n",
       "  border-radius: 1rem;\n",
       "  height: 1rem;\n",
       "  width: 1rem;\n",
       "  text-decoration: none;\n",
       "  /* unfitted */\n",
       "  color: var(--sklearn-color-unfitted-level-1);\n",
       "  border: var(--sklearn-color-unfitted-level-1) 1pt solid;\n",
       "}\n",
       "\n",
       "#sk-container-id-8 a.estimator_doc_link.fitted {\n",
       "  /* fitted */\n",
       "  border: var(--sklearn-color-fitted-level-1) 1pt solid;\n",
       "  color: var(--sklearn-color-fitted-level-1);\n",
       "}\n",
       "\n",
       "/* On hover */\n",
       "#sk-container-id-8 a.estimator_doc_link:hover {\n",
       "  /* unfitted */\n",
       "  background-color: var(--sklearn-color-unfitted-level-3);\n",
       "  color: var(--sklearn-color-background);\n",
       "  text-decoration: none;\n",
       "}\n",
       "\n",
       "#sk-container-id-8 a.estimator_doc_link.fitted:hover {\n",
       "  /* fitted */\n",
       "  background-color: var(--sklearn-color-fitted-level-3);\n",
       "}\n",
       "</style><div id=\"sk-container-id-8\" class=\"sk-top-container\"><div class=\"sk-text-repr-fallback\"><pre>GradientBoostingRegressor(random_state=42)</pre><b>In a Jupyter environment, please rerun this cell to show the HTML representation or trust the notebook. <br />On GitHub, the HTML representation is unable to render, please try loading this page with nbviewer.org.</b></div><div class=\"sk-container\" hidden><div class=\"sk-item\"><div class=\"sk-estimator fitted sk-toggleable\"><input class=\"sk-toggleable__control sk-hidden--visually\" id=\"sk-estimator-id-8\" type=\"checkbox\" checked><label for=\"sk-estimator-id-8\" class=\"sk-toggleable__label fitted sk-toggleable__label-arrow fitted\">&nbsp;&nbsp;GradientBoostingRegressor<a class=\"sk-estimator-doc-link fitted\" rel=\"noreferrer\" target=\"_blank\" href=\"https://scikit-learn.org/1.5/modules/generated/sklearn.ensemble.GradientBoostingRegressor.html\">?<span>Documentation for GradientBoostingRegressor</span></a><span class=\"sk-estimator-doc-link fitted\">i<span>Fitted</span></span></label><div class=\"sk-toggleable__content fitted\"><pre>GradientBoostingRegressor(random_state=42)</pre></div> </div></div></div></div>"
      ],
      "text/plain": [
       "GradientBoostingRegressor(random_state=42)"
      ]
     },
     "execution_count": 552,
     "metadata": {},
     "output_type": "execute_result"
    }
   ],
   "source": [
    "gb_model = GradientBoostingRegressor(random_state=42)\n",
    "gb_model.fit(X_train_scaled, y_train)"
   ]
  },
  {
   "cell_type": "markdown",
   "metadata": {},
   "source": [
    "### Passo 6: Previsões de total de defeitos"
   ]
  },
  {
   "cell_type": "code",
   "execution_count": 553,
   "metadata": {},
   "outputs": [],
   "source": [
    "y_pred_gb = gb_model.predict(X_test_scaled)"
   ]
  },
  {
   "cell_type": "markdown",
   "metadata": {},
   "source": [
    "### Passo 7: Avaliar a performance do modelo"
   ]
  },
  {
   "cell_type": "code",
   "execution_count": 554,
   "metadata": {},
   "outputs": [
    {
     "name": "stdout",
     "output_type": "stream",
     "text": [
      "Gradient Boosting - Mean Squared Error (MSE): 7698.757546270441\n",
      "Gradient Boosting - R² Score: 0.9918282458806885\n"
     ]
    }
   ],
   "source": [
    "mse_gb = mean_squared_error(y_test, y_pred_gb)\n",
    "r2_gb = r2_score(y_test, y_pred_gb)\n",
    "\n",
    "print(f\"Gradient Boosting - Mean Squared Error (MSE): {mse_gb}\")\n",
    "print(f\"Gradient Boosting - R² Score: {r2_gb}\")"
   ]
  },
  {
   "cell_type": "markdown",
   "metadata": {},
   "source": [
    "## Testando modelo"
   ]
  },
  {
   "cell_type": "markdown",
   "metadata": {},
   "source": [
    "### Criando nova ordem e prevendo com o modelo"
   ]
  },
  {
   "cell_type": "code",
   "execution_count": 555,
   "metadata": {},
   "outputs": [],
   "source": [
    "nova_ordem = {\n",
    "    'Peso médio (g)': 160,\n",
    "    'Comprimento médio (mm)': 29,\n",
    "    'Diâmetro': 15.9,\n",
    "    'Dias de Duração': 9\n",
    "}\n",
    "\n",
    "X_nova_ordem = scaler.transform(pd.DataFrame([nova_ordem])) \n",
    "total_defeitos_previsto = gb_model.predict(X_nova_ordem)"
   ]
  },
  {
   "cell_type": "markdown",
   "metadata": {},
   "source": [
    "### Calcular a soma total dos defeitos para garantir que a soma seja igual ao total esperado"
   ]
  },
  {
   "cell_type": "code",
   "execution_count": 556,
   "metadata": {},
   "outputs": [],
   "source": [
    "total_medio_defeitos = defeitos_por_dia_contado['Média de Defeitos'].sum()"
   ]
  },
  {
   "cell_type": "markdown",
   "metadata": {},
   "source": [
    "### Garantir que a soma dos defeitos seja proporcionalmente ajustada ao total de defeitos previsto"
   ]
  },
  {
   "cell_type": "code",
   "execution_count": 557,
   "metadata": {},
   "outputs": [],
   "source": [
    "defeitos_por_dia_contado['Defeitos Previstos'] = (defeitos_por_dia_contado['Média de Defeitos'] / total_medio_defeitos) * total_defeitos_previsto"
   ]
  },
  {
   "cell_type": "markdown",
   "metadata": {},
   "source": [
    "### Recalcular a distribuição dos defeitos considerando o número de dias de duração"
   ]
  },
  {
   "cell_type": "code",
   "execution_count": 558,
   "metadata": {},
   "outputs": [],
   "source": [
    "dias_duracao = nova_ordem['Dias de Duração']"
   ]
  },
  {
   "cell_type": "markdown",
   "metadata": {},
   "source": [
    "### Selecionar as previsões apenas para os dias da nova ordem"
   ]
  },
  {
   "cell_type": "code",
   "execution_count": 559,
   "metadata": {},
   "outputs": [],
   "source": [
    "df_dias_duracao = defeitos_por_dia_contado.head(dias_duracao).copy()  # Usando .copy() para evitar aviso"
   ]
  },
  {
   "cell_type": "markdown",
   "metadata": {},
   "source": [
    "### Garantir que a soma dos defeitos nos dias da nova ordem seja igual ao total de defeitos previsto\n",
    "\n",
    "\n",
    "Ajustar a distribuição proporcionalmente para que a soma dos defeitos seja igual ao total_defeitos_previsto"
   ]
  },
  {
   "cell_type": "code",
   "execution_count": 560,
   "metadata": {},
   "outputs": [],
   "source": [
    "soma_defeitos_dia = df_dias_duracao['Defeitos Previstos'].sum()\n",
    "ajuste_fator = total_defeitos_previsto / soma_defeitos_dia\n",
    "\n",
    "# Ajustar os defeitos previstos diretamente no DataFrame com .loc[]\n",
    "df_dias_duracao.loc[:, 'Defeitos Previstos'] = df_dias_duracao['Defeitos Previstos'] * ajuste_fator"
   ]
  },
  {
   "cell_type": "markdown",
   "metadata": {},
   "source": [
    "### Visualização Geral"
   ]
  },
  {
   "cell_type": "code",
   "execution_count": 587,
   "metadata": {},
   "outputs": [
    {
     "name": "stdout",
     "output_type": "stream",
     "text": [
      "Total de defeitos previsto para a nova ordem: 2130.1742127476737\n"
     ]
    },
    {
     "data": {
      "application/vnd.plotly.v1+json": {
       "config": {
        "plotlyServerURL": "https://plot.ly"
       },
       "data": [
        {
         "line": {
          "color": "green"
         },
         "marker": {
          "size": 10
         },
         "mode": "lines+markers",
         "name": "Defeitos Previstos",
         "type": "scatter",
         "x": [
          1,
          2,
          3,
          4,
          5,
          6,
          7,
          8,
          9
         ],
         "y": [
          245.5962080503396,
          270.117364296556,
          236.51332700227587,
          242.9143735327796,
          236.91528507013354,
          234.99133193018108,
          206.33297540729666,
          221.01094420609394,
          235.7824032520173
         ]
        }
       ],
       "layout": {
        "template": {
         "data": {
          "bar": [
           {
            "error_x": {
             "color": "#2a3f5f"
            },
            "error_y": {
             "color": "#2a3f5f"
            },
            "marker": {
             "line": {
              "color": "#E5ECF6",
              "width": 0.5
             },
             "pattern": {
              "fillmode": "overlay",
              "size": 10,
              "solidity": 0.2
             }
            },
            "type": "bar"
           }
          ],
          "barpolar": [
           {
            "marker": {
             "line": {
              "color": "#E5ECF6",
              "width": 0.5
             },
             "pattern": {
              "fillmode": "overlay",
              "size": 10,
              "solidity": 0.2
             }
            },
            "type": "barpolar"
           }
          ],
          "carpet": [
           {
            "aaxis": {
             "endlinecolor": "#2a3f5f",
             "gridcolor": "white",
             "linecolor": "white",
             "minorgridcolor": "white",
             "startlinecolor": "#2a3f5f"
            },
            "baxis": {
             "endlinecolor": "#2a3f5f",
             "gridcolor": "white",
             "linecolor": "white",
             "minorgridcolor": "white",
             "startlinecolor": "#2a3f5f"
            },
            "type": "carpet"
           }
          ],
          "choropleth": [
           {
            "colorbar": {
             "outlinewidth": 0,
             "ticks": ""
            },
            "type": "choropleth"
           }
          ],
          "contour": [
           {
            "colorbar": {
             "outlinewidth": 0,
             "ticks": ""
            },
            "colorscale": [
             [
              0,
              "#0d0887"
             ],
             [
              0.1111111111111111,
              "#46039f"
             ],
             [
              0.2222222222222222,
              "#7201a8"
             ],
             [
              0.3333333333333333,
              "#9c179e"
             ],
             [
              0.4444444444444444,
              "#bd3786"
             ],
             [
              0.5555555555555556,
              "#d8576b"
             ],
             [
              0.6666666666666666,
              "#ed7953"
             ],
             [
              0.7777777777777778,
              "#fb9f3a"
             ],
             [
              0.8888888888888888,
              "#fdca26"
             ],
             [
              1,
              "#f0f921"
             ]
            ],
            "type": "contour"
           }
          ],
          "contourcarpet": [
           {
            "colorbar": {
             "outlinewidth": 0,
             "ticks": ""
            },
            "type": "contourcarpet"
           }
          ],
          "heatmap": [
           {
            "colorbar": {
             "outlinewidth": 0,
             "ticks": ""
            },
            "colorscale": [
             [
              0,
              "#0d0887"
             ],
             [
              0.1111111111111111,
              "#46039f"
             ],
             [
              0.2222222222222222,
              "#7201a8"
             ],
             [
              0.3333333333333333,
              "#9c179e"
             ],
             [
              0.4444444444444444,
              "#bd3786"
             ],
             [
              0.5555555555555556,
              "#d8576b"
             ],
             [
              0.6666666666666666,
              "#ed7953"
             ],
             [
              0.7777777777777778,
              "#fb9f3a"
             ],
             [
              0.8888888888888888,
              "#fdca26"
             ],
             [
              1,
              "#f0f921"
             ]
            ],
            "type": "heatmap"
           }
          ],
          "heatmapgl": [
           {
            "colorbar": {
             "outlinewidth": 0,
             "ticks": ""
            },
            "colorscale": [
             [
              0,
              "#0d0887"
             ],
             [
              0.1111111111111111,
              "#46039f"
             ],
             [
              0.2222222222222222,
              "#7201a8"
             ],
             [
              0.3333333333333333,
              "#9c179e"
             ],
             [
              0.4444444444444444,
              "#bd3786"
             ],
             [
              0.5555555555555556,
              "#d8576b"
             ],
             [
              0.6666666666666666,
              "#ed7953"
             ],
             [
              0.7777777777777778,
              "#fb9f3a"
             ],
             [
              0.8888888888888888,
              "#fdca26"
             ],
             [
              1,
              "#f0f921"
             ]
            ],
            "type": "heatmapgl"
           }
          ],
          "histogram": [
           {
            "marker": {
             "pattern": {
              "fillmode": "overlay",
              "size": 10,
              "solidity": 0.2
             }
            },
            "type": "histogram"
           }
          ],
          "histogram2d": [
           {
            "colorbar": {
             "outlinewidth": 0,
             "ticks": ""
            },
            "colorscale": [
             [
              0,
              "#0d0887"
             ],
             [
              0.1111111111111111,
              "#46039f"
             ],
             [
              0.2222222222222222,
              "#7201a8"
             ],
             [
              0.3333333333333333,
              "#9c179e"
             ],
             [
              0.4444444444444444,
              "#bd3786"
             ],
             [
              0.5555555555555556,
              "#d8576b"
             ],
             [
              0.6666666666666666,
              "#ed7953"
             ],
             [
              0.7777777777777778,
              "#fb9f3a"
             ],
             [
              0.8888888888888888,
              "#fdca26"
             ],
             [
              1,
              "#f0f921"
             ]
            ],
            "type": "histogram2d"
           }
          ],
          "histogram2dcontour": [
           {
            "colorbar": {
             "outlinewidth": 0,
             "ticks": ""
            },
            "colorscale": [
             [
              0,
              "#0d0887"
             ],
             [
              0.1111111111111111,
              "#46039f"
             ],
             [
              0.2222222222222222,
              "#7201a8"
             ],
             [
              0.3333333333333333,
              "#9c179e"
             ],
             [
              0.4444444444444444,
              "#bd3786"
             ],
             [
              0.5555555555555556,
              "#d8576b"
             ],
             [
              0.6666666666666666,
              "#ed7953"
             ],
             [
              0.7777777777777778,
              "#fb9f3a"
             ],
             [
              0.8888888888888888,
              "#fdca26"
             ],
             [
              1,
              "#f0f921"
             ]
            ],
            "type": "histogram2dcontour"
           }
          ],
          "mesh3d": [
           {
            "colorbar": {
             "outlinewidth": 0,
             "ticks": ""
            },
            "type": "mesh3d"
           }
          ],
          "parcoords": [
           {
            "line": {
             "colorbar": {
              "outlinewidth": 0,
              "ticks": ""
             }
            },
            "type": "parcoords"
           }
          ],
          "pie": [
           {
            "automargin": true,
            "type": "pie"
           }
          ],
          "scatter": [
           {
            "fillpattern": {
             "fillmode": "overlay",
             "size": 10,
             "solidity": 0.2
            },
            "type": "scatter"
           }
          ],
          "scatter3d": [
           {
            "line": {
             "colorbar": {
              "outlinewidth": 0,
              "ticks": ""
             }
            },
            "marker": {
             "colorbar": {
              "outlinewidth": 0,
              "ticks": ""
             }
            },
            "type": "scatter3d"
           }
          ],
          "scattercarpet": [
           {
            "marker": {
             "colorbar": {
              "outlinewidth": 0,
              "ticks": ""
             }
            },
            "type": "scattercarpet"
           }
          ],
          "scattergeo": [
           {
            "marker": {
             "colorbar": {
              "outlinewidth": 0,
              "ticks": ""
             }
            },
            "type": "scattergeo"
           }
          ],
          "scattergl": [
           {
            "marker": {
             "colorbar": {
              "outlinewidth": 0,
              "ticks": ""
             }
            },
            "type": "scattergl"
           }
          ],
          "scattermapbox": [
           {
            "marker": {
             "colorbar": {
              "outlinewidth": 0,
              "ticks": ""
             }
            },
            "type": "scattermapbox"
           }
          ],
          "scatterpolar": [
           {
            "marker": {
             "colorbar": {
              "outlinewidth": 0,
              "ticks": ""
             }
            },
            "type": "scatterpolar"
           }
          ],
          "scatterpolargl": [
           {
            "marker": {
             "colorbar": {
              "outlinewidth": 0,
              "ticks": ""
             }
            },
            "type": "scatterpolargl"
           }
          ],
          "scatterternary": [
           {
            "marker": {
             "colorbar": {
              "outlinewidth": 0,
              "ticks": ""
             }
            },
            "type": "scatterternary"
           }
          ],
          "surface": [
           {
            "colorbar": {
             "outlinewidth": 0,
             "ticks": ""
            },
            "colorscale": [
             [
              0,
              "#0d0887"
             ],
             [
              0.1111111111111111,
              "#46039f"
             ],
             [
              0.2222222222222222,
              "#7201a8"
             ],
             [
              0.3333333333333333,
              "#9c179e"
             ],
             [
              0.4444444444444444,
              "#bd3786"
             ],
             [
              0.5555555555555556,
              "#d8576b"
             ],
             [
              0.6666666666666666,
              "#ed7953"
             ],
             [
              0.7777777777777778,
              "#fb9f3a"
             ],
             [
              0.8888888888888888,
              "#fdca26"
             ],
             [
              1,
              "#f0f921"
             ]
            ],
            "type": "surface"
           }
          ],
          "table": [
           {
            "cells": {
             "fill": {
              "color": "#EBF0F8"
             },
             "line": {
              "color": "white"
             }
            },
            "header": {
             "fill": {
              "color": "#C8D4E3"
             },
             "line": {
              "color": "white"
             }
            },
            "type": "table"
           }
          ]
         },
         "layout": {
          "annotationdefaults": {
           "arrowcolor": "#2a3f5f",
           "arrowhead": 0,
           "arrowwidth": 1
          },
          "autotypenumbers": "strict",
          "coloraxis": {
           "colorbar": {
            "outlinewidth": 0,
            "ticks": ""
           }
          },
          "colorscale": {
           "diverging": [
            [
             0,
             "#8e0152"
            ],
            [
             0.1,
             "#c51b7d"
            ],
            [
             0.2,
             "#de77ae"
            ],
            [
             0.3,
             "#f1b6da"
            ],
            [
             0.4,
             "#fde0ef"
            ],
            [
             0.5,
             "#f7f7f7"
            ],
            [
             0.6,
             "#e6f5d0"
            ],
            [
             0.7,
             "#b8e186"
            ],
            [
             0.8,
             "#7fbc41"
            ],
            [
             0.9,
             "#4d9221"
            ],
            [
             1,
             "#276419"
            ]
           ],
           "sequential": [
            [
             0,
             "#0d0887"
            ],
            [
             0.1111111111111111,
             "#46039f"
            ],
            [
             0.2222222222222222,
             "#7201a8"
            ],
            [
             0.3333333333333333,
             "#9c179e"
            ],
            [
             0.4444444444444444,
             "#bd3786"
            ],
            [
             0.5555555555555556,
             "#d8576b"
            ],
            [
             0.6666666666666666,
             "#ed7953"
            ],
            [
             0.7777777777777778,
             "#fb9f3a"
            ],
            [
             0.8888888888888888,
             "#fdca26"
            ],
            [
             1,
             "#f0f921"
            ]
           ],
           "sequentialminus": [
            [
             0,
             "#0d0887"
            ],
            [
             0.1111111111111111,
             "#46039f"
            ],
            [
             0.2222222222222222,
             "#7201a8"
            ],
            [
             0.3333333333333333,
             "#9c179e"
            ],
            [
             0.4444444444444444,
             "#bd3786"
            ],
            [
             0.5555555555555556,
             "#d8576b"
            ],
            [
             0.6666666666666666,
             "#ed7953"
            ],
            [
             0.7777777777777778,
             "#fb9f3a"
            ],
            [
             0.8888888888888888,
             "#fdca26"
            ],
            [
             1,
             "#f0f921"
            ]
           ]
          },
          "colorway": [
           "#636efa",
           "#EF553B",
           "#00cc96",
           "#ab63fa",
           "#FFA15A",
           "#19d3f3",
           "#FF6692",
           "#B6E880",
           "#FF97FF",
           "#FECB52"
          ],
          "font": {
           "color": "#2a3f5f"
          },
          "geo": {
           "bgcolor": "white",
           "lakecolor": "white",
           "landcolor": "#E5ECF6",
           "showlakes": true,
           "showland": true,
           "subunitcolor": "white"
          },
          "hoverlabel": {
           "align": "left"
          },
          "hovermode": "closest",
          "mapbox": {
           "style": "light"
          },
          "paper_bgcolor": "white",
          "plot_bgcolor": "#E5ECF6",
          "polar": {
           "angularaxis": {
            "gridcolor": "white",
            "linecolor": "white",
            "ticks": ""
           },
           "bgcolor": "#E5ECF6",
           "radialaxis": {
            "gridcolor": "white",
            "linecolor": "white",
            "ticks": ""
           }
          },
          "scene": {
           "xaxis": {
            "backgroundcolor": "#E5ECF6",
            "gridcolor": "white",
            "gridwidth": 2,
            "linecolor": "white",
            "showbackground": true,
            "ticks": "",
            "zerolinecolor": "white"
           },
           "yaxis": {
            "backgroundcolor": "#E5ECF6",
            "gridcolor": "white",
            "gridwidth": 2,
            "linecolor": "white",
            "showbackground": true,
            "ticks": "",
            "zerolinecolor": "white"
           },
           "zaxis": {
            "backgroundcolor": "#E5ECF6",
            "gridcolor": "white",
            "gridwidth": 2,
            "linecolor": "white",
            "showbackground": true,
            "ticks": "",
            "zerolinecolor": "white"
           }
          },
          "shapedefaults": {
           "line": {
            "color": "#2a3f5f"
           }
          },
          "ternary": {
           "aaxis": {
            "gridcolor": "white",
            "linecolor": "white",
            "ticks": ""
           },
           "baxis": {
            "gridcolor": "white",
            "linecolor": "white",
            "ticks": ""
           },
           "bgcolor": "#E5ECF6",
           "caxis": {
            "gridcolor": "white",
            "linecolor": "white",
            "ticks": ""
           }
          },
          "title": {
           "x": 0.05
          },
          "xaxis": {
           "automargin": true,
           "gridcolor": "white",
           "linecolor": "white",
           "ticks": "",
           "title": {
            "standoff": 15
           },
           "zerolinecolor": "white",
           "zerolinewidth": 2
          },
          "yaxis": {
           "automargin": true,
           "gridcolor": "white",
           "linecolor": "white",
           "ticks": "",
           "title": {
            "standoff": 15
           },
           "zerolinecolor": "white",
           "zerolinewidth": 2
          }
         }
        },
        "title": {
         "font": {
          "size": 16
         },
         "text": "Previsão de Defeitos ao Longo dos 9 Dias da Nova Ordem"
        },
        "xaxis": {
         "title": {
          "font": {
           "size": 14
          },
          "text": "Dia de Produção"
         }
        },
        "yaxis": {
         "title": {
          "font": {
           "size": 14
          },
          "text": "Defeitos Previstos"
         }
        }
       }
      }
     },
     "metadata": {},
     "output_type": "display_data"
    },
    {
     "data": {
      "text/html": [
       "<div>\n",
       "<style scoped>\n",
       "    .dataframe tbody tr th:only-of-type {\n",
       "        vertical-align: middle;\n",
       "    }\n",
       "\n",
       "    .dataframe tbody tr th {\n",
       "        vertical-align: top;\n",
       "    }\n",
       "\n",
       "    .dataframe thead th {\n",
       "        text-align: right;\n",
       "    }\n",
       "</style>\n",
       "<table border=\"1\" class=\"dataframe\">\n",
       "  <thead>\n",
       "    <tr style=\"text-align: right;\">\n",
       "      <th></th>\n",
       "      <th>Defeitos Previstos</th>\n",
       "    </tr>\n",
       "    <tr>\n",
       "      <th>Dia Contado</th>\n",
       "      <th></th>\n",
       "    </tr>\n",
       "  </thead>\n",
       "  <tbody>\n",
       "    <tr>\n",
       "      <th>1</th>\n",
       "      <td>245.596208</td>\n",
       "    </tr>\n",
       "    <tr>\n",
       "      <th>2</th>\n",
       "      <td>270.117364</td>\n",
       "    </tr>\n",
       "    <tr>\n",
       "      <th>3</th>\n",
       "      <td>236.513327</td>\n",
       "    </tr>\n",
       "    <tr>\n",
       "      <th>4</th>\n",
       "      <td>242.914374</td>\n",
       "    </tr>\n",
       "    <tr>\n",
       "      <th>5</th>\n",
       "      <td>236.915285</td>\n",
       "    </tr>\n",
       "    <tr>\n",
       "      <th>6</th>\n",
       "      <td>234.991332</td>\n",
       "    </tr>\n",
       "    <tr>\n",
       "      <th>7</th>\n",
       "      <td>206.332975</td>\n",
       "    </tr>\n",
       "    <tr>\n",
       "      <th>8</th>\n",
       "      <td>221.010944</td>\n",
       "    </tr>\n",
       "    <tr>\n",
       "      <th>9</th>\n",
       "      <td>235.782403</td>\n",
       "    </tr>\n",
       "  </tbody>\n",
       "</table>\n",
       "</div>"
      ],
      "text/plain": [
       "             Defeitos Previstos\n",
       "Dia Contado                    \n",
       "1                    245.596208\n",
       "2                    270.117364\n",
       "3                    236.513327\n",
       "4                    242.914374\n",
       "5                    236.915285\n",
       "6                    234.991332\n",
       "7                    206.332975\n",
       "8                    221.010944\n",
       "9                    235.782403"
      ]
     },
     "execution_count": 587,
     "metadata": {},
     "output_type": "execute_result"
    }
   ],
   "source": [
    "print(f\"Total de defeitos previsto para a nova ordem: {total_defeitos_previsto[0]}\")\n",
    "\n",
    "fig = go.Figure()\n",
    "\n",
    "fig.add_trace(go.Scatter(x=df_dias_duracao['Dia Contado'],\n",
    "                         y=df_dias_duracao['Defeitos Previstos'],\n",
    "                         mode='lines+markers',\n",
    "                         marker=dict(size=10),\n",
    "                         line=dict(color='green'),\n",
    "                         name='Defeitos Previstos'))\n",
    "\n",
    "fig.update_layout(\n",
    "    title=f'Previsão de Defeitos ao Longo dos {dias_duracao} Dias da Nova Ordem',\n",
    "    title_font_size=16,\n",
    "    xaxis_title='Dia de Produção',\n",
    "    xaxis_title_font_size=14,\n",
    "    yaxis_title='Defeitos Previstos',\n",
    "    yaxis_title_font_size=14\n",
    ")\n",
    "\n",
    "fig.show()\n",
    "\n",
    "df_dias_duracao[['Dia Contado', 'Defeitos Previstos']].set_index('Dia Contado')"
   ]
  },
  {
   "cell_type": "markdown",
   "metadata": {},
   "source": [
    "# Analisando 2º dia de produção das ordens"
   ]
  },
  {
   "cell_type": "code",
   "execution_count": 562,
   "metadata": {},
   "outputs": [
    {
     "data": {
      "text/html": [
       "<div>\n",
       "<style scoped>\n",
       "    .dataframe tbody tr th:only-of-type {\n",
       "        vertical-align: middle;\n",
       "    }\n",
       "\n",
       "    .dataframe tbody tr th {\n",
       "        vertical-align: top;\n",
       "    }\n",
       "\n",
       "    .dataframe thead th {\n",
       "        text-align: right;\n",
       "    }\n",
       "</style>\n",
       "<table border=\"1\" class=\"dataframe\">\n",
       "  <thead>\n",
       "    <tr style=\"text-align: right;\">\n",
       "      <th></th>\n",
       "      <th>Ordem de prod</th>\n",
       "      <th>Ref. do Artigo</th>\n",
       "      <th>Data de prod</th>\n",
       "      <th>Temperatura (F°)</th>\n",
       "      <th>Peso médio (g)</th>\n",
       "      <th>Comprimento médio (mm)</th>\n",
       "      <th>Diâmetro</th>\n",
       "      <th>Total de Defeitos no Dia</th>\n",
       "      <th>Defeito Mais Frequente do Dia</th>\n",
       "      <th>Sujo de óleo</th>\n",
       "      <th>...</th>\n",
       "      <th>Espessura abaixo do mínimo</th>\n",
       "      <th>Fundo deformado</th>\n",
       "      <th>Bolha na alça</th>\n",
       "      <th>Ferrugem no corpo</th>\n",
       "      <th>Fagulha</th>\n",
       "      <th>Alça deformada</th>\n",
       "      <th>Instabilidade</th>\n",
       "      <th>Crú</th>\n",
       "      <th>Dias de Duração</th>\n",
       "      <th>Dia Contado</th>\n",
       "    </tr>\n",
       "  </thead>\n",
       "  <tbody>\n",
       "    <tr>\n",
       "      <th>0</th>\n",
       "      <td>192970</td>\n",
       "      <td>C0516.0000R</td>\n",
       "      <td>2024-01-03</td>\n",
       "      <td>2126.97</td>\n",
       "      <td>169.3</td>\n",
       "      <td>110.4</td>\n",
       "      <td>32.5</td>\n",
       "      <td>222</td>\n",
       "      <td>Sujo de óleo</td>\n",
       "      <td>31</td>\n",
       "      <td>...</td>\n",
       "      <td>0</td>\n",
       "      <td>0</td>\n",
       "      <td>0</td>\n",
       "      <td>0</td>\n",
       "      <td>0</td>\n",
       "      <td>0</td>\n",
       "      <td>0</td>\n",
       "      <td>0</td>\n",
       "      <td>9</td>\n",
       "      <td>1</td>\n",
       "    </tr>\n",
       "    <tr>\n",
       "      <th>1</th>\n",
       "      <td>192970</td>\n",
       "      <td>C0516.0000R</td>\n",
       "      <td>2024-01-04</td>\n",
       "      <td>2118.92</td>\n",
       "      <td>169.7</td>\n",
       "      <td>85.6</td>\n",
       "      <td>18.1</td>\n",
       "      <td>249</td>\n",
       "      <td>Sujo de óleo</td>\n",
       "      <td>49</td>\n",
       "      <td>...</td>\n",
       "      <td>0</td>\n",
       "      <td>0</td>\n",
       "      <td>0</td>\n",
       "      <td>0</td>\n",
       "      <td>0</td>\n",
       "      <td>0</td>\n",
       "      <td>0</td>\n",
       "      <td>0</td>\n",
       "      <td>9</td>\n",
       "      <td>2</td>\n",
       "    </tr>\n",
       "    <tr>\n",
       "      <th>2</th>\n",
       "      <td>192970</td>\n",
       "      <td>C0516.0000R</td>\n",
       "      <td>2024-01-05</td>\n",
       "      <td>2125.00</td>\n",
       "      <td>173.6</td>\n",
       "      <td>140.5</td>\n",
       "      <td>32.9</td>\n",
       "      <td>268</td>\n",
       "      <td>Sujo de óleo</td>\n",
       "      <td>49</td>\n",
       "      <td>...</td>\n",
       "      <td>0</td>\n",
       "      <td>0</td>\n",
       "      <td>0</td>\n",
       "      <td>0</td>\n",
       "      <td>0</td>\n",
       "      <td>0</td>\n",
       "      <td>0</td>\n",
       "      <td>0</td>\n",
       "      <td>9</td>\n",
       "      <td>3</td>\n",
       "    </tr>\n",
       "    <tr>\n",
       "      <th>3</th>\n",
       "      <td>192970</td>\n",
       "      <td>C0516.0000R</td>\n",
       "      <td>2024-01-06</td>\n",
       "      <td>2125.40</td>\n",
       "      <td>170.2</td>\n",
       "      <td>144.7</td>\n",
       "      <td>32.7</td>\n",
       "      <td>242</td>\n",
       "      <td>Sujo de óleo</td>\n",
       "      <td>73</td>\n",
       "      <td>...</td>\n",
       "      <td>0</td>\n",
       "      <td>0</td>\n",
       "      <td>0</td>\n",
       "      <td>0</td>\n",
       "      <td>0</td>\n",
       "      <td>0</td>\n",
       "      <td>0</td>\n",
       "      <td>0</td>\n",
       "      <td>9</td>\n",
       "      <td>4</td>\n",
       "    </tr>\n",
       "    <tr>\n",
       "      <th>4</th>\n",
       "      <td>192970</td>\n",
       "      <td>C0516.0000R</td>\n",
       "      <td>2024-01-07</td>\n",
       "      <td>2126.76</td>\n",
       "      <td>171.7</td>\n",
       "      <td>141.5</td>\n",
       "      <td>30.2</td>\n",
       "      <td>232</td>\n",
       "      <td>Sujo de óleo</td>\n",
       "      <td>49</td>\n",
       "      <td>...</td>\n",
       "      <td>0</td>\n",
       "      <td>0</td>\n",
       "      <td>0</td>\n",
       "      <td>0</td>\n",
       "      <td>0</td>\n",
       "      <td>0</td>\n",
       "      <td>0</td>\n",
       "      <td>0</td>\n",
       "      <td>9</td>\n",
       "      <td>5</td>\n",
       "    </tr>\n",
       "    <tr>\n",
       "      <th>...</th>\n",
       "      <td>...</td>\n",
       "      <td>...</td>\n",
       "      <td>...</td>\n",
       "      <td>...</td>\n",
       "      <td>...</td>\n",
       "      <td>...</td>\n",
       "      <td>...</td>\n",
       "      <td>...</td>\n",
       "      <td>...</td>\n",
       "      <td>...</td>\n",
       "      <td>...</td>\n",
       "      <td>...</td>\n",
       "      <td>...</td>\n",
       "      <td>...</td>\n",
       "      <td>...</td>\n",
       "      <td>...</td>\n",
       "      <td>...</td>\n",
       "      <td>...</td>\n",
       "      <td>...</td>\n",
       "      <td>...</td>\n",
       "      <td>...</td>\n",
       "    </tr>\n",
       "    <tr>\n",
       "      <th>195</th>\n",
       "      <td>194121</td>\n",
       "      <td>C0516.0000R</td>\n",
       "      <td>2024-06-26</td>\n",
       "      <td>2154.44</td>\n",
       "      <td>169.0</td>\n",
       "      <td>124.3</td>\n",
       "      <td>32.6</td>\n",
       "      <td>258</td>\n",
       "      <td>Sujo de óleo</td>\n",
       "      <td>40</td>\n",
       "      <td>...</td>\n",
       "      <td>0</td>\n",
       "      <td>0</td>\n",
       "      <td>0</td>\n",
       "      <td>0</td>\n",
       "      <td>0</td>\n",
       "      <td>0</td>\n",
       "      <td>0</td>\n",
       "      <td>0</td>\n",
       "      <td>6</td>\n",
       "      <td>2</td>\n",
       "    </tr>\n",
       "    <tr>\n",
       "      <th>196</th>\n",
       "      <td>194121</td>\n",
       "      <td>C0516.0000R</td>\n",
       "      <td>2024-06-27</td>\n",
       "      <td>2152.32</td>\n",
       "      <td>168.9</td>\n",
       "      <td>120.2</td>\n",
       "      <td>33.6</td>\n",
       "      <td>218</td>\n",
       "      <td>Sujo de óleo</td>\n",
       "      <td>75</td>\n",
       "      <td>...</td>\n",
       "      <td>0</td>\n",
       "      <td>0</td>\n",
       "      <td>0</td>\n",
       "      <td>0</td>\n",
       "      <td>0</td>\n",
       "      <td>0</td>\n",
       "      <td>0</td>\n",
       "      <td>0</td>\n",
       "      <td>6</td>\n",
       "      <td>3</td>\n",
       "    </tr>\n",
       "    <tr>\n",
       "      <th>197</th>\n",
       "      <td>194121</td>\n",
       "      <td>C0516.0000R</td>\n",
       "      <td>2024-06-28</td>\n",
       "      <td>2145.60</td>\n",
       "      <td>169.3</td>\n",
       "      <td>124.1</td>\n",
       "      <td>34.2</td>\n",
       "      <td>218</td>\n",
       "      <td>Sujo de óleo</td>\n",
       "      <td>54</td>\n",
       "      <td>...</td>\n",
       "      <td>0</td>\n",
       "      <td>0</td>\n",
       "      <td>0</td>\n",
       "      <td>0</td>\n",
       "      <td>0</td>\n",
       "      <td>0</td>\n",
       "      <td>0</td>\n",
       "      <td>0</td>\n",
       "      <td>6</td>\n",
       "      <td>4</td>\n",
       "    </tr>\n",
       "    <tr>\n",
       "      <th>198</th>\n",
       "      <td>194121</td>\n",
       "      <td>C0516.0000R</td>\n",
       "      <td>2024-06-29</td>\n",
       "      <td>2145.60</td>\n",
       "      <td>168.8</td>\n",
       "      <td>120.0</td>\n",
       "      <td>33.5</td>\n",
       "      <td>213</td>\n",
       "      <td>Sujo de óleo</td>\n",
       "      <td>54</td>\n",
       "      <td>...</td>\n",
       "      <td>0</td>\n",
       "      <td>0</td>\n",
       "      <td>0</td>\n",
       "      <td>0</td>\n",
       "      <td>1</td>\n",
       "      <td>0</td>\n",
       "      <td>0</td>\n",
       "      <td>0</td>\n",
       "      <td>6</td>\n",
       "      <td>5</td>\n",
       "    </tr>\n",
       "    <tr>\n",
       "      <th>199</th>\n",
       "      <td>194121</td>\n",
       "      <td>C0516.0000R</td>\n",
       "      <td>2024-06-30</td>\n",
       "      <td>2148.00</td>\n",
       "      <td>169.2</td>\n",
       "      <td>122.9</td>\n",
       "      <td>34.6</td>\n",
       "      <td>256</td>\n",
       "      <td>Sujo de óleo</td>\n",
       "      <td>58</td>\n",
       "      <td>...</td>\n",
       "      <td>0</td>\n",
       "      <td>0</td>\n",
       "      <td>0</td>\n",
       "      <td>0</td>\n",
       "      <td>0</td>\n",
       "      <td>0</td>\n",
       "      <td>0</td>\n",
       "      <td>0</td>\n",
       "      <td>6</td>\n",
       "      <td>6</td>\n",
       "    </tr>\n",
       "  </tbody>\n",
       "</table>\n",
       "<p>200 rows × 138 columns</p>\n",
       "</div>"
      ],
      "text/plain": [
       "     Ordem de prod Ref. do Artigo Data de prod  Temperatura (F°)  \\\n",
       "0           192970    C0516.0000R   2024-01-03           2126.97   \n",
       "1           192970    C0516.0000R   2024-01-04           2118.92   \n",
       "2           192970    C0516.0000R   2024-01-05           2125.00   \n",
       "3           192970    C0516.0000R   2024-01-06           2125.40   \n",
       "4           192970    C0516.0000R   2024-01-07           2126.76   \n",
       "..             ...            ...          ...               ...   \n",
       "195         194121    C0516.0000R   2024-06-26           2154.44   \n",
       "196         194121    C0516.0000R   2024-06-27           2152.32   \n",
       "197         194121    C0516.0000R   2024-06-28           2145.60   \n",
       "198         194121    C0516.0000R   2024-06-29           2145.60   \n",
       "199         194121    C0516.0000R   2024-06-30           2148.00   \n",
       "\n",
       "     Peso médio (g)  Comprimento médio (mm)  Diâmetro  \\\n",
       "0             169.3                   110.4      32.5   \n",
       "1             169.7                    85.6      18.1   \n",
       "2             173.6                   140.5      32.9   \n",
       "3             170.2                   144.7      32.7   \n",
       "4             171.7                   141.5      30.2   \n",
       "..              ...                     ...       ...   \n",
       "195           169.0                   124.3      32.6   \n",
       "196           168.9                   120.2      33.6   \n",
       "197           169.3                   124.1      34.2   \n",
       "198           168.8                   120.0      33.5   \n",
       "199           169.2                   122.9      34.6   \n",
       "\n",
       "     Total de Defeitos no Dia Defeito Mais Frequente do Dia  Sujo de óleo  \\\n",
       "0                         222                  Sujo de óleo            31   \n",
       "1                         249                  Sujo de óleo            49   \n",
       "2                         268                  Sujo de óleo            49   \n",
       "3                         242                  Sujo de óleo            73   \n",
       "4                         232                  Sujo de óleo            49   \n",
       "..                        ...                           ...           ...   \n",
       "195                       258                  Sujo de óleo            40   \n",
       "196                       218                  Sujo de óleo            75   \n",
       "197                       218                  Sujo de óleo            54   \n",
       "198                       213                  Sujo de óleo            54   \n",
       "199                       256                  Sujo de óleo            58   \n",
       "\n",
       "     ...  Espessura abaixo do mínimo  Fundo deformado  Bolha na alça  \\\n",
       "0    ...                           0                0              0   \n",
       "1    ...                           0                0              0   \n",
       "2    ...                           0                0              0   \n",
       "3    ...                           0                0              0   \n",
       "4    ...                           0                0              0   \n",
       "..   ...                         ...              ...            ...   \n",
       "195  ...                           0                0              0   \n",
       "196  ...                           0                0              0   \n",
       "197  ...                           0                0              0   \n",
       "198  ...                           0                0              0   \n",
       "199  ...                           0                0              0   \n",
       "\n",
       "     Ferrugem no corpo  Fagulha  Alça deformada  Instabilidade  Crú  \\\n",
       "0                    0        0               0              0    0   \n",
       "1                    0        0               0              0    0   \n",
       "2                    0        0               0              0    0   \n",
       "3                    0        0               0              0    0   \n",
       "4                    0        0               0              0    0   \n",
       "..                 ...      ...             ...            ...  ...   \n",
       "195                  0        0               0              0    0   \n",
       "196                  0        0               0              0    0   \n",
       "197                  0        0               0              0    0   \n",
       "198                  0        1               0              0    0   \n",
       "199                  0        0               0              0    0   \n",
       "\n",
       "     Dias de Duração  Dia Contado  \n",
       "0                  9            1  \n",
       "1                  9            2  \n",
       "2                  9            3  \n",
       "3                  9            4  \n",
       "4                  9            5  \n",
       "..               ...          ...  \n",
       "195                6            2  \n",
       "196                6            3  \n",
       "197                6            4  \n",
       "198                6            5  \n",
       "199                6            6  \n",
       "\n",
       "[200 rows x 138 columns]"
      ]
     },
     "execution_count": 562,
     "metadata": {},
     "output_type": "execute_result"
    }
   ],
   "source": [
    "# Fazer o merge entre o df_reset e o duracao_por_ordem com base na 'Ordem de prod'\n",
    "df_reset_merged = df_reset.merge(duracao_por_ordem, on='Ordem de prod', how='left')\n",
    "\n",
    "# Garantir que 'Data de prod' seja do tipo datetime\n",
    "df_reset_merged['Data de prod'] = pd.to_datetime(df_reset_merged['Data de prod'])\n",
    "\n",
    "# Agrupar por 'Ordem de prod' e calcular o 'Dia Contado' para cada grupo\n",
    "df_reset_merged['Dia Contado'] = df_reset_merged.groupby('Ordem de prod')['Data de prod'].transform(lambda x: (x - x.min()).dt.days + 1)\n",
    "\n",
    "# Verificar o resultado\n",
    "df_reset_merged"
   ]
  },
  {
   "cell_type": "code",
   "execution_count": 564,
   "metadata": {},
   "outputs": [],
   "source": [
    "dia_contado_agrupado = df_reset_merged.groupby('Dia Contado')[['Temperatura (F°)', 'Peso médio (g)', 'Comprimento médio (mm)', 'Diâmetro']].mean()"
   ]
  },
  {
   "cell_type": "code",
   "execution_count": 565,
   "metadata": {},
   "outputs": [
    {
     "data": {
      "application/vnd.plotly.v1+json": {
       "config": {
        "plotlyServerURL": "https://plot.ly"
       },
       "data": [
        {
         "hovertemplate": "Dia Contado=%{x}<br>Comprimento médio (mm)=%{y}<extra></extra>",
         "legendgroup": "",
         "line": {
          "color": "#636efa",
          "dash": "solid"
         },
         "marker": {
          "symbol": "circle"
         },
         "mode": "lines",
         "name": "",
         "orientation": "v",
         "showlegend": false,
         "type": "scatter",
         "x": [
          1,
          2,
          3,
          4,
          5,
          6,
          7,
          8,
          9,
          10,
          11,
          12,
          13,
          14,
          15,
          16,
          17,
          18,
          19,
          20
         ],
         "xaxis": "x",
         "y": [
          83.40571428571428,
          89.684375,
          94.615625,
          95.76818181818182,
          94.21764705882353,
          91.90714285714286,
          86.55833333333334,
          93.03636363636363,
          99.96666666666668,
          99.38,
          98.225,
          114.05000000000001,
          120.2,
          116.5,
          115,
          113.8,
          114.2,
          114.6,
          113.2,
          96.1
         ],
         "yaxis": "y"
        }
       ],
       "layout": {
        "legend": {
         "tracegroupgap": 0
        },
        "margin": {
         "t": 60
        },
        "template": {
         "data": {
          "bar": [
           {
            "error_x": {
             "color": "#2a3f5f"
            },
            "error_y": {
             "color": "#2a3f5f"
            },
            "marker": {
             "line": {
              "color": "#E5ECF6",
              "width": 0.5
             },
             "pattern": {
              "fillmode": "overlay",
              "size": 10,
              "solidity": 0.2
             }
            },
            "type": "bar"
           }
          ],
          "barpolar": [
           {
            "marker": {
             "line": {
              "color": "#E5ECF6",
              "width": 0.5
             },
             "pattern": {
              "fillmode": "overlay",
              "size": 10,
              "solidity": 0.2
             }
            },
            "type": "barpolar"
           }
          ],
          "carpet": [
           {
            "aaxis": {
             "endlinecolor": "#2a3f5f",
             "gridcolor": "white",
             "linecolor": "white",
             "minorgridcolor": "white",
             "startlinecolor": "#2a3f5f"
            },
            "baxis": {
             "endlinecolor": "#2a3f5f",
             "gridcolor": "white",
             "linecolor": "white",
             "minorgridcolor": "white",
             "startlinecolor": "#2a3f5f"
            },
            "type": "carpet"
           }
          ],
          "choropleth": [
           {
            "colorbar": {
             "outlinewidth": 0,
             "ticks": ""
            },
            "type": "choropleth"
           }
          ],
          "contour": [
           {
            "colorbar": {
             "outlinewidth": 0,
             "ticks": ""
            },
            "colorscale": [
             [
              0,
              "#0d0887"
             ],
             [
              0.1111111111111111,
              "#46039f"
             ],
             [
              0.2222222222222222,
              "#7201a8"
             ],
             [
              0.3333333333333333,
              "#9c179e"
             ],
             [
              0.4444444444444444,
              "#bd3786"
             ],
             [
              0.5555555555555556,
              "#d8576b"
             ],
             [
              0.6666666666666666,
              "#ed7953"
             ],
             [
              0.7777777777777778,
              "#fb9f3a"
             ],
             [
              0.8888888888888888,
              "#fdca26"
             ],
             [
              1,
              "#f0f921"
             ]
            ],
            "type": "contour"
           }
          ],
          "contourcarpet": [
           {
            "colorbar": {
             "outlinewidth": 0,
             "ticks": ""
            },
            "type": "contourcarpet"
           }
          ],
          "heatmap": [
           {
            "colorbar": {
             "outlinewidth": 0,
             "ticks": ""
            },
            "colorscale": [
             [
              0,
              "#0d0887"
             ],
             [
              0.1111111111111111,
              "#46039f"
             ],
             [
              0.2222222222222222,
              "#7201a8"
             ],
             [
              0.3333333333333333,
              "#9c179e"
             ],
             [
              0.4444444444444444,
              "#bd3786"
             ],
             [
              0.5555555555555556,
              "#d8576b"
             ],
             [
              0.6666666666666666,
              "#ed7953"
             ],
             [
              0.7777777777777778,
              "#fb9f3a"
             ],
             [
              0.8888888888888888,
              "#fdca26"
             ],
             [
              1,
              "#f0f921"
             ]
            ],
            "type": "heatmap"
           }
          ],
          "heatmapgl": [
           {
            "colorbar": {
             "outlinewidth": 0,
             "ticks": ""
            },
            "colorscale": [
             [
              0,
              "#0d0887"
             ],
             [
              0.1111111111111111,
              "#46039f"
             ],
             [
              0.2222222222222222,
              "#7201a8"
             ],
             [
              0.3333333333333333,
              "#9c179e"
             ],
             [
              0.4444444444444444,
              "#bd3786"
             ],
             [
              0.5555555555555556,
              "#d8576b"
             ],
             [
              0.6666666666666666,
              "#ed7953"
             ],
             [
              0.7777777777777778,
              "#fb9f3a"
             ],
             [
              0.8888888888888888,
              "#fdca26"
             ],
             [
              1,
              "#f0f921"
             ]
            ],
            "type": "heatmapgl"
           }
          ],
          "histogram": [
           {
            "marker": {
             "pattern": {
              "fillmode": "overlay",
              "size": 10,
              "solidity": 0.2
             }
            },
            "type": "histogram"
           }
          ],
          "histogram2d": [
           {
            "colorbar": {
             "outlinewidth": 0,
             "ticks": ""
            },
            "colorscale": [
             [
              0,
              "#0d0887"
             ],
             [
              0.1111111111111111,
              "#46039f"
             ],
             [
              0.2222222222222222,
              "#7201a8"
             ],
             [
              0.3333333333333333,
              "#9c179e"
             ],
             [
              0.4444444444444444,
              "#bd3786"
             ],
             [
              0.5555555555555556,
              "#d8576b"
             ],
             [
              0.6666666666666666,
              "#ed7953"
             ],
             [
              0.7777777777777778,
              "#fb9f3a"
             ],
             [
              0.8888888888888888,
              "#fdca26"
             ],
             [
              1,
              "#f0f921"
             ]
            ],
            "type": "histogram2d"
           }
          ],
          "histogram2dcontour": [
           {
            "colorbar": {
             "outlinewidth": 0,
             "ticks": ""
            },
            "colorscale": [
             [
              0,
              "#0d0887"
             ],
             [
              0.1111111111111111,
              "#46039f"
             ],
             [
              0.2222222222222222,
              "#7201a8"
             ],
             [
              0.3333333333333333,
              "#9c179e"
             ],
             [
              0.4444444444444444,
              "#bd3786"
             ],
             [
              0.5555555555555556,
              "#d8576b"
             ],
             [
              0.6666666666666666,
              "#ed7953"
             ],
             [
              0.7777777777777778,
              "#fb9f3a"
             ],
             [
              0.8888888888888888,
              "#fdca26"
             ],
             [
              1,
              "#f0f921"
             ]
            ],
            "type": "histogram2dcontour"
           }
          ],
          "mesh3d": [
           {
            "colorbar": {
             "outlinewidth": 0,
             "ticks": ""
            },
            "type": "mesh3d"
           }
          ],
          "parcoords": [
           {
            "line": {
             "colorbar": {
              "outlinewidth": 0,
              "ticks": ""
             }
            },
            "type": "parcoords"
           }
          ],
          "pie": [
           {
            "automargin": true,
            "type": "pie"
           }
          ],
          "scatter": [
           {
            "fillpattern": {
             "fillmode": "overlay",
             "size": 10,
             "solidity": 0.2
            },
            "type": "scatter"
           }
          ],
          "scatter3d": [
           {
            "line": {
             "colorbar": {
              "outlinewidth": 0,
              "ticks": ""
             }
            },
            "marker": {
             "colorbar": {
              "outlinewidth": 0,
              "ticks": ""
             }
            },
            "type": "scatter3d"
           }
          ],
          "scattercarpet": [
           {
            "marker": {
             "colorbar": {
              "outlinewidth": 0,
              "ticks": ""
             }
            },
            "type": "scattercarpet"
           }
          ],
          "scattergeo": [
           {
            "marker": {
             "colorbar": {
              "outlinewidth": 0,
              "ticks": ""
             }
            },
            "type": "scattergeo"
           }
          ],
          "scattergl": [
           {
            "marker": {
             "colorbar": {
              "outlinewidth": 0,
              "ticks": ""
             }
            },
            "type": "scattergl"
           }
          ],
          "scattermapbox": [
           {
            "marker": {
             "colorbar": {
              "outlinewidth": 0,
              "ticks": ""
             }
            },
            "type": "scattermapbox"
           }
          ],
          "scatterpolar": [
           {
            "marker": {
             "colorbar": {
              "outlinewidth": 0,
              "ticks": ""
             }
            },
            "type": "scatterpolar"
           }
          ],
          "scatterpolargl": [
           {
            "marker": {
             "colorbar": {
              "outlinewidth": 0,
              "ticks": ""
             }
            },
            "type": "scatterpolargl"
           }
          ],
          "scatterternary": [
           {
            "marker": {
             "colorbar": {
              "outlinewidth": 0,
              "ticks": ""
             }
            },
            "type": "scatterternary"
           }
          ],
          "surface": [
           {
            "colorbar": {
             "outlinewidth": 0,
             "ticks": ""
            },
            "colorscale": [
             [
              0,
              "#0d0887"
             ],
             [
              0.1111111111111111,
              "#46039f"
             ],
             [
              0.2222222222222222,
              "#7201a8"
             ],
             [
              0.3333333333333333,
              "#9c179e"
             ],
             [
              0.4444444444444444,
              "#bd3786"
             ],
             [
              0.5555555555555556,
              "#d8576b"
             ],
             [
              0.6666666666666666,
              "#ed7953"
             ],
             [
              0.7777777777777778,
              "#fb9f3a"
             ],
             [
              0.8888888888888888,
              "#fdca26"
             ],
             [
              1,
              "#f0f921"
             ]
            ],
            "type": "surface"
           }
          ],
          "table": [
           {
            "cells": {
             "fill": {
              "color": "#EBF0F8"
             },
             "line": {
              "color": "white"
             }
            },
            "header": {
             "fill": {
              "color": "#C8D4E3"
             },
             "line": {
              "color": "white"
             }
            },
            "type": "table"
           }
          ]
         },
         "layout": {
          "annotationdefaults": {
           "arrowcolor": "#2a3f5f",
           "arrowhead": 0,
           "arrowwidth": 1
          },
          "autotypenumbers": "strict",
          "coloraxis": {
           "colorbar": {
            "outlinewidth": 0,
            "ticks": ""
           }
          },
          "colorscale": {
           "diverging": [
            [
             0,
             "#8e0152"
            ],
            [
             0.1,
             "#c51b7d"
            ],
            [
             0.2,
             "#de77ae"
            ],
            [
             0.3,
             "#f1b6da"
            ],
            [
             0.4,
             "#fde0ef"
            ],
            [
             0.5,
             "#f7f7f7"
            ],
            [
             0.6,
             "#e6f5d0"
            ],
            [
             0.7,
             "#b8e186"
            ],
            [
             0.8,
             "#7fbc41"
            ],
            [
             0.9,
             "#4d9221"
            ],
            [
             1,
             "#276419"
            ]
           ],
           "sequential": [
            [
             0,
             "#0d0887"
            ],
            [
             0.1111111111111111,
             "#46039f"
            ],
            [
             0.2222222222222222,
             "#7201a8"
            ],
            [
             0.3333333333333333,
             "#9c179e"
            ],
            [
             0.4444444444444444,
             "#bd3786"
            ],
            [
             0.5555555555555556,
             "#d8576b"
            ],
            [
             0.6666666666666666,
             "#ed7953"
            ],
            [
             0.7777777777777778,
             "#fb9f3a"
            ],
            [
             0.8888888888888888,
             "#fdca26"
            ],
            [
             1,
             "#f0f921"
            ]
           ],
           "sequentialminus": [
            [
             0,
             "#0d0887"
            ],
            [
             0.1111111111111111,
             "#46039f"
            ],
            [
             0.2222222222222222,
             "#7201a8"
            ],
            [
             0.3333333333333333,
             "#9c179e"
            ],
            [
             0.4444444444444444,
             "#bd3786"
            ],
            [
             0.5555555555555556,
             "#d8576b"
            ],
            [
             0.6666666666666666,
             "#ed7953"
            ],
            [
             0.7777777777777778,
             "#fb9f3a"
            ],
            [
             0.8888888888888888,
             "#fdca26"
            ],
            [
             1,
             "#f0f921"
            ]
           ]
          },
          "colorway": [
           "#636efa",
           "#EF553B",
           "#00cc96",
           "#ab63fa",
           "#FFA15A",
           "#19d3f3",
           "#FF6692",
           "#B6E880",
           "#FF97FF",
           "#FECB52"
          ],
          "font": {
           "color": "#2a3f5f"
          },
          "geo": {
           "bgcolor": "white",
           "lakecolor": "white",
           "landcolor": "#E5ECF6",
           "showlakes": true,
           "showland": true,
           "subunitcolor": "white"
          },
          "hoverlabel": {
           "align": "left"
          },
          "hovermode": "closest",
          "mapbox": {
           "style": "light"
          },
          "paper_bgcolor": "white",
          "plot_bgcolor": "#E5ECF6",
          "polar": {
           "angularaxis": {
            "gridcolor": "white",
            "linecolor": "white",
            "ticks": ""
           },
           "bgcolor": "#E5ECF6",
           "radialaxis": {
            "gridcolor": "white",
            "linecolor": "white",
            "ticks": ""
           }
          },
          "scene": {
           "xaxis": {
            "backgroundcolor": "#E5ECF6",
            "gridcolor": "white",
            "gridwidth": 2,
            "linecolor": "white",
            "showbackground": true,
            "ticks": "",
            "zerolinecolor": "white"
           },
           "yaxis": {
            "backgroundcolor": "#E5ECF6",
            "gridcolor": "white",
            "gridwidth": 2,
            "linecolor": "white",
            "showbackground": true,
            "ticks": "",
            "zerolinecolor": "white"
           },
           "zaxis": {
            "backgroundcolor": "#E5ECF6",
            "gridcolor": "white",
            "gridwidth": 2,
            "linecolor": "white",
            "showbackground": true,
            "ticks": "",
            "zerolinecolor": "white"
           }
          },
          "shapedefaults": {
           "line": {
            "color": "#2a3f5f"
           }
          },
          "ternary": {
           "aaxis": {
            "gridcolor": "white",
            "linecolor": "white",
            "ticks": ""
           },
           "baxis": {
            "gridcolor": "white",
            "linecolor": "white",
            "ticks": ""
           },
           "bgcolor": "#E5ECF6",
           "caxis": {
            "gridcolor": "white",
            "linecolor": "white",
            "ticks": ""
           }
          },
          "title": {
           "x": 0.05
          },
          "xaxis": {
           "automargin": true,
           "gridcolor": "white",
           "linecolor": "white",
           "ticks": "",
           "title": {
            "standoff": 15
           },
           "zerolinecolor": "white",
           "zerolinewidth": 2
          },
          "yaxis": {
           "automargin": true,
           "gridcolor": "white",
           "linecolor": "white",
           "ticks": "",
           "title": {
            "standoff": 15
           },
           "zerolinecolor": "white",
           "zerolinewidth": 2
          }
         }
        },
        "xaxis": {
         "anchor": "y",
         "domain": [
          0,
          1
         ],
         "title": {
          "text": "Dia Contado"
         }
        },
        "yaxis": {
         "anchor": "x",
         "domain": [
          0,
          1
         ],
         "title": {
          "text": "Comprimento médio (mm)"
         }
        }
       }
      }
     },
     "metadata": {},
     "output_type": "display_data"
    }
   ],
   "source": [
    "dia_contado_agrupado_reset = dia_contado_agrupado.reset_index()\n",
    "\n",
    "px.line(data_frame=dia_contado_agrupado_reset, x='Dia Contado', y='Comprimento médio (mm)')"
   ]
  },
  {
   "cell_type": "code",
   "execution_count": 566,
   "metadata": {},
   "outputs": [],
   "source": [
    "ordens_dia_2 = df_reset_merged.loc[df_reset_merged['Dia Contado' ] == 2, :]"
   ]
  },
  {
   "cell_type": "code",
   "execution_count": 567,
   "metadata": {},
   "outputs": [
    {
     "data": {
      "text/html": [
       "<div>\n",
       "<style scoped>\n",
       "    .dataframe tbody tr th:only-of-type {\n",
       "        vertical-align: middle;\n",
       "    }\n",
       "\n",
       "    .dataframe tbody tr th {\n",
       "        vertical-align: top;\n",
       "    }\n",
       "\n",
       "    .dataframe thead th {\n",
       "        text-align: right;\n",
       "    }\n",
       "</style>\n",
       "<table border=\"1\" class=\"dataframe\">\n",
       "  <thead>\n",
       "    <tr style=\"text-align: right;\">\n",
       "      <th></th>\n",
       "      <th>Ordem de prod</th>\n",
       "      <th>Ref. do Artigo</th>\n",
       "      <th>Data de prod</th>\n",
       "      <th>Temperatura (F°)</th>\n",
       "      <th>Peso médio (g)</th>\n",
       "      <th>Comprimento médio (mm)</th>\n",
       "      <th>Diâmetro</th>\n",
       "      <th>Total de Defeitos no Dia</th>\n",
       "      <th>Defeito Mais Frequente do Dia</th>\n",
       "      <th>Sujo de óleo</th>\n",
       "      <th>...</th>\n",
       "      <th>Espessura abaixo do mínimo</th>\n",
       "      <th>Fundo deformado</th>\n",
       "      <th>Bolha na alça</th>\n",
       "      <th>Ferrugem no corpo</th>\n",
       "      <th>Fagulha</th>\n",
       "      <th>Alça deformada</th>\n",
       "      <th>Instabilidade</th>\n",
       "      <th>Crú</th>\n",
       "      <th>Dias de Duração</th>\n",
       "      <th>Dia Contado</th>\n",
       "    </tr>\n",
       "  </thead>\n",
       "  <tbody>\n",
       "    <tr>\n",
       "      <th>1</th>\n",
       "      <td>192970</td>\n",
       "      <td>C0516.0000R</td>\n",
       "      <td>2024-01-04</td>\n",
       "      <td>2118.92</td>\n",
       "      <td>169.7</td>\n",
       "      <td>85.6</td>\n",
       "      <td>18.1</td>\n",
       "      <td>249</td>\n",
       "      <td>Sujo de óleo</td>\n",
       "      <td>49</td>\n",
       "      <td>...</td>\n",
       "      <td>0</td>\n",
       "      <td>0</td>\n",
       "      <td>0</td>\n",
       "      <td>0</td>\n",
       "      <td>0</td>\n",
       "      <td>0</td>\n",
       "      <td>0</td>\n",
       "      <td>0</td>\n",
       "      <td>9</td>\n",
       "      <td>2</td>\n",
       "    </tr>\n",
       "    <tr>\n",
       "      <th>10</th>\n",
       "      <td>193112</td>\n",
       "      <td>C1164.0000R</td>\n",
       "      <td>2024-01-02</td>\n",
       "      <td>2189.08</td>\n",
       "      <td>168.3</td>\n",
       "      <td>77.6</td>\n",
       "      <td>41.6</td>\n",
       "      <td>203</td>\n",
       "      <td>Sujo de óleo</td>\n",
       "      <td>125</td>\n",
       "      <td>...</td>\n",
       "      <td>0</td>\n",
       "      <td>0</td>\n",
       "      <td>0</td>\n",
       "      <td>0</td>\n",
       "      <td>0</td>\n",
       "      <td>0</td>\n",
       "      <td>0</td>\n",
       "      <td>0</td>\n",
       "      <td>3</td>\n",
       "      <td>2</td>\n",
       "    </tr>\n",
       "    <tr>\n",
       "      <th>13</th>\n",
       "      <td>193164</td>\n",
       "      <td>C1280.0000R</td>\n",
       "      <td>2024-01-12</td>\n",
       "      <td>2128.92</td>\n",
       "      <td>148.5</td>\n",
       "      <td>95.2</td>\n",
       "      <td>35.7</td>\n",
       "      <td>240</td>\n",
       "      <td>Sujo de óleo</td>\n",
       "      <td>98</td>\n",
       "      <td>...</td>\n",
       "      <td>0</td>\n",
       "      <td>0</td>\n",
       "      <td>0</td>\n",
       "      <td>0</td>\n",
       "      <td>0</td>\n",
       "      <td>0</td>\n",
       "      <td>0</td>\n",
       "      <td>0</td>\n",
       "      <td>12</td>\n",
       "      <td>2</td>\n",
       "    </tr>\n",
       "    <tr>\n",
       "      <th>25</th>\n",
       "      <td>193206</td>\n",
       "      <td>C1284.0000R</td>\n",
       "      <td>2024-01-26</td>\n",
       "      <td>2177.37</td>\n",
       "      <td>171.2</td>\n",
       "      <td>91.9</td>\n",
       "      <td>38.6</td>\n",
       "      <td>255</td>\n",
       "      <td>Sujo de óleo</td>\n",
       "      <td>50</td>\n",
       "      <td>...</td>\n",
       "      <td>0</td>\n",
       "      <td>0</td>\n",
       "      <td>0</td>\n",
       "      <td>0</td>\n",
       "      <td>0</td>\n",
       "      <td>0</td>\n",
       "      <td>0</td>\n",
       "      <td>0</td>\n",
       "      <td>4</td>\n",
       "      <td>2</td>\n",
       "    </tr>\n",
       "    <tr>\n",
       "      <th>29</th>\n",
       "      <td>193207</td>\n",
       "      <td>C1298.0000R</td>\n",
       "      <td>2024-01-29</td>\n",
       "      <td>2144.11</td>\n",
       "      <td>170.6</td>\n",
       "      <td>99.8</td>\n",
       "      <td>37.1</td>\n",
       "      <td>243</td>\n",
       "      <td>Falta de seção</td>\n",
       "      <td>63</td>\n",
       "      <td>...</td>\n",
       "      <td>0</td>\n",
       "      <td>0</td>\n",
       "      <td>0</td>\n",
       "      <td>0</td>\n",
       "      <td>0</td>\n",
       "      <td>0</td>\n",
       "      <td>0</td>\n",
       "      <td>0</td>\n",
       "      <td>10</td>\n",
       "      <td>2</td>\n",
       "    </tr>\n",
       "    <tr>\n",
       "      <th>39</th>\n",
       "      <td>193208</td>\n",
       "      <td>C0104.0000R</td>\n",
       "      <td>2024-02-08</td>\n",
       "      <td>2171.88</td>\n",
       "      <td>122.2</td>\n",
       "      <td>46.7</td>\n",
       "      <td>20.7</td>\n",
       "      <td>242</td>\n",
       "      <td>Fora de cor</td>\n",
       "      <td>29</td>\n",
       "      <td>...</td>\n",
       "      <td>0</td>\n",
       "      <td>0</td>\n",
       "      <td>0</td>\n",
       "      <td>0</td>\n",
       "      <td>0</td>\n",
       "      <td>0</td>\n",
       "      <td>0</td>\n",
       "      <td>0</td>\n",
       "      <td>2</td>\n",
       "      <td>2</td>\n",
       "    </tr>\n",
       "    <tr>\n",
       "      <th>41</th>\n",
       "      <td>193209</td>\n",
       "      <td>C0509.0000R</td>\n",
       "      <td>2024-02-09</td>\n",
       "      <td>2128.06</td>\n",
       "      <td>191.0</td>\n",
       "      <td>87.3</td>\n",
       "      <td>18.6</td>\n",
       "      <td>305</td>\n",
       "      <td>Sujo de óleo</td>\n",
       "      <td>65</td>\n",
       "      <td>...</td>\n",
       "      <td>0</td>\n",
       "      <td>0</td>\n",
       "      <td>0</td>\n",
       "      <td>0</td>\n",
       "      <td>0</td>\n",
       "      <td>0</td>\n",
       "      <td>0</td>\n",
       "      <td>0</td>\n",
       "      <td>7</td>\n",
       "      <td>2</td>\n",
       "    </tr>\n",
       "    <tr>\n",
       "      <th>48</th>\n",
       "      <td>193342</td>\n",
       "      <td>C0516.0000R</td>\n",
       "      <td>2024-02-22</td>\n",
       "      <td>2126.32</td>\n",
       "      <td>171.2</td>\n",
       "      <td>107.6</td>\n",
       "      <td>28.1</td>\n",
       "      <td>296</td>\n",
       "      <td>Sujo de óleo</td>\n",
       "      <td>51</td>\n",
       "      <td>...</td>\n",
       "      <td>0</td>\n",
       "      <td>0</td>\n",
       "      <td>0</td>\n",
       "      <td>0</td>\n",
       "      <td>0</td>\n",
       "      <td>0</td>\n",
       "      <td>0</td>\n",
       "      <td>0</td>\n",
       "      <td>20</td>\n",
       "      <td>2</td>\n",
       "    </tr>\n",
       "    <tr>\n",
       "      <th>75</th>\n",
       "      <td>193459</td>\n",
       "      <td>C0068.0000R</td>\n",
       "      <td>2024-03-12</td>\n",
       "      <td>2147.79</td>\n",
       "      <td>194.2</td>\n",
       "      <td>95.9</td>\n",
       "      <td>40.1</td>\n",
       "      <td>189</td>\n",
       "      <td>Sujo de óleo</td>\n",
       "      <td>62</td>\n",
       "      <td>...</td>\n",
       "      <td>0</td>\n",
       "      <td>0</td>\n",
       "      <td>0</td>\n",
       "      <td>0</td>\n",
       "      <td>0</td>\n",
       "      <td>0</td>\n",
       "      <td>0</td>\n",
       "      <td>0</td>\n",
       "      <td>3</td>\n",
       "      <td>2</td>\n",
       "    </tr>\n",
       "    <tr>\n",
       "      <th>78</th>\n",
       "      <td>193462</td>\n",
       "      <td>C1284.0000R</td>\n",
       "      <td>2024-03-22</td>\n",
       "      <td>2173.72</td>\n",
       "      <td>172.6</td>\n",
       "      <td>86.0</td>\n",
       "      <td>40.4</td>\n",
       "      <td>265</td>\n",
       "      <td>Trinca por choque térmico</td>\n",
       "      <td>39</td>\n",
       "      <td>...</td>\n",
       "      <td>0</td>\n",
       "      <td>0</td>\n",
       "      <td>0</td>\n",
       "      <td>0</td>\n",
       "      <td>0</td>\n",
       "      <td>0</td>\n",
       "      <td>0</td>\n",
       "      <td>0</td>\n",
       "      <td>5</td>\n",
       "      <td>2</td>\n",
       "    </tr>\n",
       "    <tr>\n",
       "      <th>83</th>\n",
       "      <td>193463</td>\n",
       "      <td>C1298.0000R</td>\n",
       "      <td>2024-03-14</td>\n",
       "      <td>2175.44</td>\n",
       "      <td>169.5</td>\n",
       "      <td>89.0</td>\n",
       "      <td>40.2</td>\n",
       "      <td>188</td>\n",
       "      <td>Sujo de óleo</td>\n",
       "      <td>72</td>\n",
       "      <td>...</td>\n",
       "      <td>0</td>\n",
       "      <td>0</td>\n",
       "      <td>0</td>\n",
       "      <td>0</td>\n",
       "      <td>0</td>\n",
       "      <td>0</td>\n",
       "      <td>0</td>\n",
       "      <td>0</td>\n",
       "      <td>8</td>\n",
       "      <td>2</td>\n",
       "    </tr>\n",
       "    <tr>\n",
       "      <th>91</th>\n",
       "      <td>193533</td>\n",
       "      <td>C1165.0000R</td>\n",
       "      <td>2024-04-12</td>\n",
       "      <td>2140.10</td>\n",
       "      <td>196.6</td>\n",
       "      <td>98.4</td>\n",
       "      <td>32.8</td>\n",
       "      <td>206</td>\n",
       "      <td>Sujo de óleo</td>\n",
       "      <td>106</td>\n",
       "      <td>...</td>\n",
       "      <td>0</td>\n",
       "      <td>0</td>\n",
       "      <td>0</td>\n",
       "      <td>0</td>\n",
       "      <td>0</td>\n",
       "      <td>0</td>\n",
       "      <td>0</td>\n",
       "      <td>0</td>\n",
       "      <td>8</td>\n",
       "      <td>2</td>\n",
       "    </tr>\n",
       "    <tr>\n",
       "      <th>99</th>\n",
       "      <td>193535</td>\n",
       "      <td>C1332.0000V</td>\n",
       "      <td>2024-04-25</td>\n",
       "      <td>2155.37</td>\n",
       "      <td>116.3</td>\n",
       "      <td>83.4</td>\n",
       "      <td>34.5</td>\n",
       "      <td>244</td>\n",
       "      <td>Sujo de óleo</td>\n",
       "      <td>71</td>\n",
       "      <td>...</td>\n",
       "      <td>0</td>\n",
       "      <td>0</td>\n",
       "      <td>0</td>\n",
       "      <td>0</td>\n",
       "      <td>0</td>\n",
       "      <td>0</td>\n",
       "      <td>0</td>\n",
       "      <td>0</td>\n",
       "      <td>3</td>\n",
       "      <td>2</td>\n",
       "    </tr>\n",
       "    <tr>\n",
       "      <th>102</th>\n",
       "      <td>193537</td>\n",
       "      <td>C1203.0000R</td>\n",
       "      <td>2024-04-03</td>\n",
       "      <td>2179.73</td>\n",
       "      <td>174.0</td>\n",
       "      <td>81.4</td>\n",
       "      <td>39.7</td>\n",
       "      <td>288</td>\n",
       "      <td>Sujo de óleo</td>\n",
       "      <td>70</td>\n",
       "      <td>...</td>\n",
       "      <td>0</td>\n",
       "      <td>0</td>\n",
       "      <td>0</td>\n",
       "      <td>0</td>\n",
       "      <td>0</td>\n",
       "      <td>0</td>\n",
       "      <td>0</td>\n",
       "      <td>0</td>\n",
       "      <td>3</td>\n",
       "      <td>2</td>\n",
       "    </tr>\n",
       "    <tr>\n",
       "      <th>105</th>\n",
       "      <td>193594</td>\n",
       "      <td>C1137.0000R</td>\n",
       "      <td>2024-03-26</td>\n",
       "      <td>2151.17</td>\n",
       "      <td>171.8</td>\n",
       "      <td>88.9</td>\n",
       "      <td>39.7</td>\n",
       "      <td>212</td>\n",
       "      <td>Sujo de óleo</td>\n",
       "      <td>76</td>\n",
       "      <td>...</td>\n",
       "      <td>0</td>\n",
       "      <td>0</td>\n",
       "      <td>0</td>\n",
       "      <td>0</td>\n",
       "      <td>0</td>\n",
       "      <td>0</td>\n",
       "      <td>0</td>\n",
       "      <td>0</td>\n",
       "      <td>7</td>\n",
       "      <td>2</td>\n",
       "    </tr>\n",
       "    <tr>\n",
       "      <th>112</th>\n",
       "      <td>193619</td>\n",
       "      <td>C0121.0000R</td>\n",
       "      <td>2024-04-05</td>\n",
       "      <td>2132.43</td>\n",
       "      <td>193.2</td>\n",
       "      <td>99.6</td>\n",
       "      <td>39.2</td>\n",
       "      <td>240</td>\n",
       "      <td>Sujo de óleo</td>\n",
       "      <td>94</td>\n",
       "      <td>...</td>\n",
       "      <td>0</td>\n",
       "      <td>0</td>\n",
       "      <td>0</td>\n",
       "      <td>0</td>\n",
       "      <td>0</td>\n",
       "      <td>0</td>\n",
       "      <td>0</td>\n",
       "      <td>0</td>\n",
       "      <td>5</td>\n",
       "      <td>2</td>\n",
       "    </tr>\n",
       "    <tr>\n",
       "      <th>117</th>\n",
       "      <td>193671</td>\n",
       "      <td>C0593.0000R</td>\n",
       "      <td>2024-04-09</td>\n",
       "      <td>2131.90</td>\n",
       "      <td>192.7</td>\n",
       "      <td>100.0</td>\n",
       "      <td>38.6</td>\n",
       "      <td>206</td>\n",
       "      <td>Sujo de óleo</td>\n",
       "      <td>108</td>\n",
       "      <td>...</td>\n",
       "      <td>0</td>\n",
       "      <td>0</td>\n",
       "      <td>0</td>\n",
       "      <td>0</td>\n",
       "      <td>0</td>\n",
       "      <td>0</td>\n",
       "      <td>1</td>\n",
       "      <td>0</td>\n",
       "      <td>4</td>\n",
       "      <td>2</td>\n",
       "    </tr>\n",
       "    <tr>\n",
       "      <th>121</th>\n",
       "      <td>193686</td>\n",
       "      <td>C1239.0000V</td>\n",
       "      <td>2024-04-21</td>\n",
       "      <td>2149.15</td>\n",
       "      <td>123.9</td>\n",
       "      <td>42.7</td>\n",
       "      <td>29.3</td>\n",
       "      <td>226</td>\n",
       "      <td>Dobra</td>\n",
       "      <td>59</td>\n",
       "      <td>...</td>\n",
       "      <td>0</td>\n",
       "      <td>0</td>\n",
       "      <td>0</td>\n",
       "      <td>0</td>\n",
       "      <td>0</td>\n",
       "      <td>0</td>\n",
       "      <td>0</td>\n",
       "      <td>0</td>\n",
       "      <td>3</td>\n",
       "      <td>2</td>\n",
       "    </tr>\n",
       "    <tr>\n",
       "      <th>124</th>\n",
       "      <td>193688</td>\n",
       "      <td>C1349.0000V</td>\n",
       "      <td>2024-04-19</td>\n",
       "      <td>2113.85</td>\n",
       "      <td>202.3</td>\n",
       "      <td>83.8</td>\n",
       "      <td>42.8</td>\n",
       "      <td>182</td>\n",
       "      <td>Sujo de óleo</td>\n",
       "      <td>79</td>\n",
       "      <td>...</td>\n",
       "      <td>0</td>\n",
       "      <td>0</td>\n",
       "      <td>0</td>\n",
       "      <td>0</td>\n",
       "      <td>0</td>\n",
       "      <td>0</td>\n",
       "      <td>0</td>\n",
       "      <td>0</td>\n",
       "      <td>3</td>\n",
       "      <td>2</td>\n",
       "    </tr>\n",
       "    <tr>\n",
       "      <th>127</th>\n",
       "      <td>193689</td>\n",
       "      <td>C1299.0000R</td>\n",
       "      <td>2024-04-23</td>\n",
       "      <td>2150.73</td>\n",
       "      <td>161.3</td>\n",
       "      <td>117.8</td>\n",
       "      <td>35.0</td>\n",
       "      <td>328</td>\n",
       "      <td>Sujo de óleo</td>\n",
       "      <td>76</td>\n",
       "      <td>...</td>\n",
       "      <td>0</td>\n",
       "      <td>0</td>\n",
       "      <td>1</td>\n",
       "      <td>0</td>\n",
       "      <td>0</td>\n",
       "      <td>0</td>\n",
       "      <td>0</td>\n",
       "      <td>0</td>\n",
       "      <td>3</td>\n",
       "      <td>2</td>\n",
       "    </tr>\n",
       "    <tr>\n",
       "      <th>130</th>\n",
       "      <td>193692</td>\n",
       "      <td>C0139.0000R</td>\n",
       "      <td>2024-04-27</td>\n",
       "      <td>2191.45</td>\n",
       "      <td>157.6</td>\n",
       "      <td>91.7</td>\n",
       "      <td>38.0</td>\n",
       "      <td>266</td>\n",
       "      <td>Sujo de óleo</td>\n",
       "      <td>79</td>\n",
       "      <td>...</td>\n",
       "      <td>0</td>\n",
       "      <td>0</td>\n",
       "      <td>0</td>\n",
       "      <td>0</td>\n",
       "      <td>0</td>\n",
       "      <td>0</td>\n",
       "      <td>0</td>\n",
       "      <td>0</td>\n",
       "      <td>3</td>\n",
       "      <td>2</td>\n",
       "    </tr>\n",
       "    <tr>\n",
       "      <th>133</th>\n",
       "      <td>193694</td>\n",
       "      <td>C0529.0000R</td>\n",
       "      <td>2024-04-29</td>\n",
       "      <td>2187.91</td>\n",
       "      <td>151.1</td>\n",
       "      <td>83.6</td>\n",
       "      <td>37.8</td>\n",
       "      <td>198</td>\n",
       "      <td>Sujo de óleo</td>\n",
       "      <td>85</td>\n",
       "      <td>...</td>\n",
       "      <td>0</td>\n",
       "      <td>0</td>\n",
       "      <td>0</td>\n",
       "      <td>0</td>\n",
       "      <td>0</td>\n",
       "      <td>0</td>\n",
       "      <td>0</td>\n",
       "      <td>0</td>\n",
       "      <td>5</td>\n",
       "      <td>2</td>\n",
       "    </tr>\n",
       "    <tr>\n",
       "      <th>138</th>\n",
       "      <td>193782</td>\n",
       "      <td>C1265.0000R</td>\n",
       "      <td>2024-05-16</td>\n",
       "      <td>2179.12</td>\n",
       "      <td>130.6</td>\n",
       "      <td>68.5</td>\n",
       "      <td>39.0</td>\n",
       "      <td>352</td>\n",
       "      <td>Dobra</td>\n",
       "      <td>76</td>\n",
       "      <td>...</td>\n",
       "      <td>0</td>\n",
       "      <td>0</td>\n",
       "      <td>0</td>\n",
       "      <td>0</td>\n",
       "      <td>0</td>\n",
       "      <td>0</td>\n",
       "      <td>0</td>\n",
       "      <td>0</td>\n",
       "      <td>11</td>\n",
       "      <td>2</td>\n",
       "    </tr>\n",
       "    <tr>\n",
       "      <th>149</th>\n",
       "      <td>193783</td>\n",
       "      <td>C1215.0000R</td>\n",
       "      <td>2024-05-03</td>\n",
       "      <td>2155.16</td>\n",
       "      <td>188.6</td>\n",
       "      <td>117.7</td>\n",
       "      <td>36.8</td>\n",
       "      <td>353</td>\n",
       "      <td>Sujo de óleo</td>\n",
       "      <td>71</td>\n",
       "      <td>...</td>\n",
       "      <td>0</td>\n",
       "      <td>0</td>\n",
       "      <td>0</td>\n",
       "      <td>0</td>\n",
       "      <td>0</td>\n",
       "      <td>0</td>\n",
       "      <td>0</td>\n",
       "      <td>0</td>\n",
       "      <td>3</td>\n",
       "      <td>2</td>\n",
       "    </tr>\n",
       "    <tr>\n",
       "      <th>152</th>\n",
       "      <td>193784</td>\n",
       "      <td>C1203.0000R</td>\n",
       "      <td>2024-05-06</td>\n",
       "      <td>2139.61</td>\n",
       "      <td>174.6</td>\n",
       "      <td>85.5</td>\n",
       "      <td>40.0</td>\n",
       "      <td>192</td>\n",
       "      <td>Sujo de óleo</td>\n",
       "      <td>91</td>\n",
       "      <td>...</td>\n",
       "      <td>0</td>\n",
       "      <td>0</td>\n",
       "      <td>0</td>\n",
       "      <td>0</td>\n",
       "      <td>0</td>\n",
       "      <td>0</td>\n",
       "      <td>0</td>\n",
       "      <td>0</td>\n",
       "      <td>11</td>\n",
       "      <td>2</td>\n",
       "    </tr>\n",
       "    <tr>\n",
       "      <th>168</th>\n",
       "      <td>193882</td>\n",
       "      <td>C1268.0000R</td>\n",
       "      <td>2024-06-09</td>\n",
       "      <td>2139.95</td>\n",
       "      <td>136.3</td>\n",
       "      <td>73.8</td>\n",
       "      <td>38.7</td>\n",
       "      <td>239</td>\n",
       "      <td>Sujo de óleo</td>\n",
       "      <td>108</td>\n",
       "      <td>...</td>\n",
       "      <td>1</td>\n",
       "      <td>0</td>\n",
       "      <td>0</td>\n",
       "      <td>0</td>\n",
       "      <td>0</td>\n",
       "      <td>0</td>\n",
       "      <td>0</td>\n",
       "      <td>0</td>\n",
       "      <td>8</td>\n",
       "      <td>2</td>\n",
       "    </tr>\n",
       "    <tr>\n",
       "      <th>176</th>\n",
       "      <td>193937</td>\n",
       "      <td>C1172.0000R</td>\n",
       "      <td>2024-06-01</td>\n",
       "      <td>2141.00</td>\n",
       "      <td>173.6</td>\n",
       "      <td>98.5</td>\n",
       "      <td>37.1</td>\n",
       "      <td>212</td>\n",
       "      <td>Sujo de óleo</td>\n",
       "      <td>83</td>\n",
       "      <td>...</td>\n",
       "      <td>0</td>\n",
       "      <td>0</td>\n",
       "      <td>0</td>\n",
       "      <td>0</td>\n",
       "      <td>0</td>\n",
       "      <td>0</td>\n",
       "      <td>0</td>\n",
       "      <td>0</td>\n",
       "      <td>3</td>\n",
       "      <td>2</td>\n",
       "    </tr>\n",
       "    <tr>\n",
       "      <th>179</th>\n",
       "      <td>193972</td>\n",
       "      <td>C1203.0000R</td>\n",
       "      <td>2024-06-07</td>\n",
       "      <td>2138.82</td>\n",
       "      <td>172.8</td>\n",
       "      <td>65.9</td>\n",
       "      <td>34.5</td>\n",
       "      <td>243</td>\n",
       "      <td>Sujo de óleo</td>\n",
       "      <td>90</td>\n",
       "      <td>...</td>\n",
       "      <td>0</td>\n",
       "      <td>0</td>\n",
       "      <td>0</td>\n",
       "      <td>0</td>\n",
       "      <td>0</td>\n",
       "      <td>0</td>\n",
       "      <td>0</td>\n",
       "      <td>0</td>\n",
       "      <td>2</td>\n",
       "      <td>2</td>\n",
       "    </tr>\n",
       "    <tr>\n",
       "      <th>181</th>\n",
       "      <td>193973</td>\n",
       "      <td>C1165.0000R</td>\n",
       "      <td>2024-06-16</td>\n",
       "      <td>2131.00</td>\n",
       "      <td>196.1</td>\n",
       "      <td>118.4</td>\n",
       "      <td>38.7</td>\n",
       "      <td>204</td>\n",
       "      <td>Sujo de óleo</td>\n",
       "      <td>66</td>\n",
       "      <td>...</td>\n",
       "      <td>0</td>\n",
       "      <td>0</td>\n",
       "      <td>0</td>\n",
       "      <td>0</td>\n",
       "      <td>0</td>\n",
       "      <td>0</td>\n",
       "      <td>0</td>\n",
       "      <td>0</td>\n",
       "      <td>4</td>\n",
       "      <td>2</td>\n",
       "    </tr>\n",
       "    <tr>\n",
       "      <th>185</th>\n",
       "      <td>194029</td>\n",
       "      <td>C0132.0000R</td>\n",
       "      <td>2024-06-03</td>\n",
       "      <td>2143.00</td>\n",
       "      <td>180.5</td>\n",
       "      <td>104.1</td>\n",
       "      <td>38.0</td>\n",
       "      <td>209</td>\n",
       "      <td>Sujo de óleo</td>\n",
       "      <td>79</td>\n",
       "      <td>...</td>\n",
       "      <td>0</td>\n",
       "      <td>0</td>\n",
       "      <td>0</td>\n",
       "      <td>0</td>\n",
       "      <td>0</td>\n",
       "      <td>0</td>\n",
       "      <td>0</td>\n",
       "      <td>0</td>\n",
       "      <td>4</td>\n",
       "      <td>2</td>\n",
       "    </tr>\n",
       "    <tr>\n",
       "      <th>189</th>\n",
       "      <td>194057</td>\n",
       "      <td>C1164.0000R</td>\n",
       "      <td>2024-06-20</td>\n",
       "      <td>2175.05</td>\n",
       "      <td>169.5</td>\n",
       "      <td>79.3</td>\n",
       "      <td>42.2</td>\n",
       "      <td>196</td>\n",
       "      <td>Sujo de óleo</td>\n",
       "      <td>107</td>\n",
       "      <td>...</td>\n",
       "      <td>0</td>\n",
       "      <td>0</td>\n",
       "      <td>0</td>\n",
       "      <td>0</td>\n",
       "      <td>0</td>\n",
       "      <td>0</td>\n",
       "      <td>0</td>\n",
       "      <td>0</td>\n",
       "      <td>3</td>\n",
       "      <td>2</td>\n",
       "    </tr>\n",
       "    <tr>\n",
       "      <th>195</th>\n",
       "      <td>194121</td>\n",
       "      <td>C0516.0000R</td>\n",
       "      <td>2024-06-26</td>\n",
       "      <td>2154.44</td>\n",
       "      <td>169.0</td>\n",
       "      <td>124.3</td>\n",
       "      <td>32.6</td>\n",
       "      <td>258</td>\n",
       "      <td>Sujo de óleo</td>\n",
       "      <td>40</td>\n",
       "      <td>...</td>\n",
       "      <td>0</td>\n",
       "      <td>0</td>\n",
       "      <td>0</td>\n",
       "      <td>0</td>\n",
       "      <td>0</td>\n",
       "      <td>0</td>\n",
       "      <td>0</td>\n",
       "      <td>0</td>\n",
       "      <td>6</td>\n",
       "      <td>2</td>\n",
       "    </tr>\n",
       "  </tbody>\n",
       "</table>\n",
       "<p>32 rows × 138 columns</p>\n",
       "</div>"
      ],
      "text/plain": [
       "     Ordem de prod Ref. do Artigo Data de prod  Temperatura (F°)  \\\n",
       "1           192970    C0516.0000R   2024-01-04           2118.92   \n",
       "10          193112    C1164.0000R   2024-01-02           2189.08   \n",
       "13          193164    C1280.0000R   2024-01-12           2128.92   \n",
       "25          193206    C1284.0000R   2024-01-26           2177.37   \n",
       "29          193207    C1298.0000R   2024-01-29           2144.11   \n",
       "39          193208    C0104.0000R   2024-02-08           2171.88   \n",
       "41          193209    C0509.0000R   2024-02-09           2128.06   \n",
       "48          193342    C0516.0000R   2024-02-22           2126.32   \n",
       "75          193459    C0068.0000R   2024-03-12           2147.79   \n",
       "78          193462    C1284.0000R   2024-03-22           2173.72   \n",
       "83          193463    C1298.0000R   2024-03-14           2175.44   \n",
       "91          193533    C1165.0000R   2024-04-12           2140.10   \n",
       "99          193535    C1332.0000V   2024-04-25           2155.37   \n",
       "102         193537    C1203.0000R   2024-04-03           2179.73   \n",
       "105         193594    C1137.0000R   2024-03-26           2151.17   \n",
       "112         193619    C0121.0000R   2024-04-05           2132.43   \n",
       "117         193671    C0593.0000R   2024-04-09           2131.90   \n",
       "121         193686    C1239.0000V   2024-04-21           2149.15   \n",
       "124         193688    C1349.0000V   2024-04-19           2113.85   \n",
       "127         193689    C1299.0000R   2024-04-23           2150.73   \n",
       "130         193692    C0139.0000R   2024-04-27           2191.45   \n",
       "133         193694    C0529.0000R   2024-04-29           2187.91   \n",
       "138         193782    C1265.0000R   2024-05-16           2179.12   \n",
       "149         193783    C1215.0000R   2024-05-03           2155.16   \n",
       "152         193784    C1203.0000R   2024-05-06           2139.61   \n",
       "168         193882    C1268.0000R   2024-06-09           2139.95   \n",
       "176         193937    C1172.0000R   2024-06-01           2141.00   \n",
       "179         193972    C1203.0000R   2024-06-07           2138.82   \n",
       "181         193973    C1165.0000R   2024-06-16           2131.00   \n",
       "185         194029    C0132.0000R   2024-06-03           2143.00   \n",
       "189         194057    C1164.0000R   2024-06-20           2175.05   \n",
       "195         194121    C0516.0000R   2024-06-26           2154.44   \n",
       "\n",
       "     Peso médio (g)  Comprimento médio (mm)  Diâmetro  \\\n",
       "1             169.7                    85.6      18.1   \n",
       "10            168.3                    77.6      41.6   \n",
       "13            148.5                    95.2      35.7   \n",
       "25            171.2                    91.9      38.6   \n",
       "29            170.6                    99.8      37.1   \n",
       "39            122.2                    46.7      20.7   \n",
       "41            191.0                    87.3      18.6   \n",
       "48            171.2                   107.6      28.1   \n",
       "75            194.2                    95.9      40.1   \n",
       "78            172.6                    86.0      40.4   \n",
       "83            169.5                    89.0      40.2   \n",
       "91            196.6                    98.4      32.8   \n",
       "99            116.3                    83.4      34.5   \n",
       "102           174.0                    81.4      39.7   \n",
       "105           171.8                    88.9      39.7   \n",
       "112           193.2                    99.6      39.2   \n",
       "117           192.7                   100.0      38.6   \n",
       "121           123.9                    42.7      29.3   \n",
       "124           202.3                    83.8      42.8   \n",
       "127           161.3                   117.8      35.0   \n",
       "130           157.6                    91.7      38.0   \n",
       "133           151.1                    83.6      37.8   \n",
       "138           130.6                    68.5      39.0   \n",
       "149           188.6                   117.7      36.8   \n",
       "152           174.6                    85.5      40.0   \n",
       "168           136.3                    73.8      38.7   \n",
       "176           173.6                    98.5      37.1   \n",
       "179           172.8                    65.9      34.5   \n",
       "181           196.1                   118.4      38.7   \n",
       "185           180.5                   104.1      38.0   \n",
       "189           169.5                    79.3      42.2   \n",
       "195           169.0                   124.3      32.6   \n",
       "\n",
       "     Total de Defeitos no Dia Defeito Mais Frequente do Dia  Sujo de óleo  \\\n",
       "1                         249                  Sujo de óleo            49   \n",
       "10                        203                  Sujo de óleo           125   \n",
       "13                        240                  Sujo de óleo            98   \n",
       "25                        255                  Sujo de óleo            50   \n",
       "29                        243                Falta de seção            63   \n",
       "39                        242                   Fora de cor            29   \n",
       "41                        305                  Sujo de óleo            65   \n",
       "48                        296                  Sujo de óleo            51   \n",
       "75                        189                  Sujo de óleo            62   \n",
       "78                        265     Trinca por choque térmico            39   \n",
       "83                        188                  Sujo de óleo            72   \n",
       "91                        206                  Sujo de óleo           106   \n",
       "99                        244                  Sujo de óleo            71   \n",
       "102                       288                  Sujo de óleo            70   \n",
       "105                       212                  Sujo de óleo            76   \n",
       "112                       240                  Sujo de óleo            94   \n",
       "117                       206                  Sujo de óleo           108   \n",
       "121                       226                         Dobra            59   \n",
       "124                       182                  Sujo de óleo            79   \n",
       "127                       328                  Sujo de óleo            76   \n",
       "130                       266                  Sujo de óleo            79   \n",
       "133                       198                  Sujo de óleo            85   \n",
       "138                       352                         Dobra            76   \n",
       "149                       353                  Sujo de óleo            71   \n",
       "152                       192                  Sujo de óleo            91   \n",
       "168                       239                  Sujo de óleo           108   \n",
       "176                       212                  Sujo de óleo            83   \n",
       "179                       243                  Sujo de óleo            90   \n",
       "181                       204                  Sujo de óleo            66   \n",
       "185                       209                  Sujo de óleo            79   \n",
       "189                       196                  Sujo de óleo           107   \n",
       "195                       258                  Sujo de óleo            40   \n",
       "\n",
       "     ...  Espessura abaixo do mínimo  Fundo deformado  Bolha na alça  \\\n",
       "1    ...                           0                0              0   \n",
       "10   ...                           0                0              0   \n",
       "13   ...                           0                0              0   \n",
       "25   ...                           0                0              0   \n",
       "29   ...                           0                0              0   \n",
       "39   ...                           0                0              0   \n",
       "41   ...                           0                0              0   \n",
       "48   ...                           0                0              0   \n",
       "75   ...                           0                0              0   \n",
       "78   ...                           0                0              0   \n",
       "83   ...                           0                0              0   \n",
       "91   ...                           0                0              0   \n",
       "99   ...                           0                0              0   \n",
       "102  ...                           0                0              0   \n",
       "105  ...                           0                0              0   \n",
       "112  ...                           0                0              0   \n",
       "117  ...                           0                0              0   \n",
       "121  ...                           0                0              0   \n",
       "124  ...                           0                0              0   \n",
       "127  ...                           0                0              1   \n",
       "130  ...                           0                0              0   \n",
       "133  ...                           0                0              0   \n",
       "138  ...                           0                0              0   \n",
       "149  ...                           0                0              0   \n",
       "152  ...                           0                0              0   \n",
       "168  ...                           1                0              0   \n",
       "176  ...                           0                0              0   \n",
       "179  ...                           0                0              0   \n",
       "181  ...                           0                0              0   \n",
       "185  ...                           0                0              0   \n",
       "189  ...                           0                0              0   \n",
       "195  ...                           0                0              0   \n",
       "\n",
       "     Ferrugem no corpo  Fagulha  Alça deformada  Instabilidade  Crú  \\\n",
       "1                    0        0               0              0    0   \n",
       "10                   0        0               0              0    0   \n",
       "13                   0        0               0              0    0   \n",
       "25                   0        0               0              0    0   \n",
       "29                   0        0               0              0    0   \n",
       "39                   0        0               0              0    0   \n",
       "41                   0        0               0              0    0   \n",
       "48                   0        0               0              0    0   \n",
       "75                   0        0               0              0    0   \n",
       "78                   0        0               0              0    0   \n",
       "83                   0        0               0              0    0   \n",
       "91                   0        0               0              0    0   \n",
       "99                   0        0               0              0    0   \n",
       "102                  0        0               0              0    0   \n",
       "105                  0        0               0              0    0   \n",
       "112                  0        0               0              0    0   \n",
       "117                  0        0               0              1    0   \n",
       "121                  0        0               0              0    0   \n",
       "124                  0        0               0              0    0   \n",
       "127                  0        0               0              0    0   \n",
       "130                  0        0               0              0    0   \n",
       "133                  0        0               0              0    0   \n",
       "138                  0        0               0              0    0   \n",
       "149                  0        0               0              0    0   \n",
       "152                  0        0               0              0    0   \n",
       "168                  0        0               0              0    0   \n",
       "176                  0        0               0              0    0   \n",
       "179                  0        0               0              0    0   \n",
       "181                  0        0               0              0    0   \n",
       "185                  0        0               0              0    0   \n",
       "189                  0        0               0              0    0   \n",
       "195                  0        0               0              0    0   \n",
       "\n",
       "     Dias de Duração  Dia Contado  \n",
       "1                  9            2  \n",
       "10                 3            2  \n",
       "13                12            2  \n",
       "25                 4            2  \n",
       "29                10            2  \n",
       "39                 2            2  \n",
       "41                 7            2  \n",
       "48                20            2  \n",
       "75                 3            2  \n",
       "78                 5            2  \n",
       "83                 8            2  \n",
       "91                 8            2  \n",
       "99                 3            2  \n",
       "102                3            2  \n",
       "105                7            2  \n",
       "112                5            2  \n",
       "117                4            2  \n",
       "121                3            2  \n",
       "124                3            2  \n",
       "127                3            2  \n",
       "130                3            2  \n",
       "133                5            2  \n",
       "138               11            2  \n",
       "149                3            2  \n",
       "152               11            2  \n",
       "168                8            2  \n",
       "176                3            2  \n",
       "179                2            2  \n",
       "181                4            2  \n",
       "185                4            2  \n",
       "189                3            2  \n",
       "195                6            2  \n",
       "\n",
       "[32 rows x 138 columns]"
      ]
     },
     "execution_count": 567,
     "metadata": {},
     "output_type": "execute_result"
    }
   ],
   "source": [
    "ordens_dia_2"
   ]
  }
 ],
 "metadata": {
  "kernelspec": {
   "display_name": "base",
   "language": "python",
   "name": "python3"
  },
  "language_info": {
   "codemirror_mode": {
    "name": "ipython",
    "version": 3
   },
   "file_extension": ".py",
   "mimetype": "text/x-python",
   "name": "python",
   "nbconvert_exporter": "python",
   "pygments_lexer": "ipython3",
   "version": "3.12.7"
  }
 },
 "nbformat": 4,
 "nbformat_minor": 2
}
