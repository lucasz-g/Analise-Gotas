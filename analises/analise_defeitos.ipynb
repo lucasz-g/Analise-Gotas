{
 "cells": [
  {
   "cell_type": "code",
   "execution_count": 441,
   "metadata": {},
   "outputs": [],
   "source": [
    "import pandas as pd\n",
    "import matplotlib.pyplot  as plt\n",
    "import numpy as np\n",
    "import plotly.express as px"
   ]
  },
  {
   "cell_type": "markdown",
   "metadata": {},
   "source": [
    "# Importando Excel de defeitos e transformando para Dataframe Pandas"
   ]
  },
  {
   "cell_type": "code",
   "execution_count": 442,
   "metadata": {},
   "outputs": [],
   "source": [
    "dados = pd.read_excel('../dados/SetoutDefect_20250103_142537_734275983 (1).xlsx', nrows=38625)\n",
    "df = pd.DataFrame(dados)"
   ]
  },
  {
   "cell_type": "code",
   "execution_count": 443,
   "metadata": {},
   "outputs": [
    {
     "data": {
      "text/html": [
       "<div>\n",
       "<style scoped>\n",
       "    .dataframe tbody tr th:only-of-type {\n",
       "        vertical-align: middle;\n",
       "    }\n",
       "\n",
       "    .dataframe tbody tr th {\n",
       "        vertical-align: top;\n",
       "    }\n",
       "\n",
       "    .dataframe thead th {\n",
       "        text-align: right;\n",
       "    }\n",
       "</style>\n",
       "<table border=\"1\" class=\"dataframe\">\n",
       "  <thead>\n",
       "    <tr style=\"text-align: right;\">\n",
       "      <th></th>\n",
       "      <th>Fábrica</th>\n",
       "      <th>Fabrica – Linha</th>\n",
       "      <th>Linha</th>\n",
       "      <th>Máquina de produção</th>\n",
       "      <th>Ordem de trabalhos</th>\n",
       "      <th>Ref. do artigo</th>\n",
       "      <th>Artigo</th>\n",
       "      <th>Ordem de sub-trabalho</th>\n",
       "      <th>Produto final</th>\n",
       "      <th>Lote</th>\n",
       "      <th>...</th>\n",
       "      <th>Nqa</th>\n",
       "      <th>Estado</th>\n",
       "      <th>A verificar</th>\n",
       "      <th>Comentário</th>\n",
       "      <th>Data de criação</th>\n",
       "      <th>Chave primária</th>\n",
       "      <th>Definir dia</th>\n",
       "      <th>Dia de criação</th>\n",
       "      <th>Turno</th>\n",
       "      <th>Definir chave primária</th>\n",
       "    </tr>\n",
       "  </thead>\n",
       "  <tbody>\n",
       "    <tr>\n",
       "      <th>0</th>\n",
       "      <td>Wheaton</td>\n",
       "      <td>Wheaton - B1</td>\n",
       "      <td>B1</td>\n",
       "      <td>Máquina IS</td>\n",
       "      <td>193112</td>\n",
       "      <td>C1164.0000R</td>\n",
       "      <td>MB -1527-N1 | F | NH | C | LISO</td>\n",
       "      <td>NaN</td>\n",
       "      <td>NaN</td>\n",
       "      <td>NaN</td>\n",
       "      <td>...</td>\n",
       "      <td>0.0</td>\n",
       "      <td>0</td>\n",
       "      <td>0</td>\n",
       "      <td>NaN</td>\n",
       "      <td>2024-01-01 06:03:07</td>\n",
       "      <td>2517600</td>\n",
       "      <td>2024-01-01</td>\n",
       "      <td>2024-01-01</td>\n",
       "      <td>1</td>\n",
       "      <td>872218</td>\n",
       "    </tr>\n",
       "    <tr>\n",
       "      <th>1</th>\n",
       "      <td>Wheaton</td>\n",
       "      <td>Wheaton - B1</td>\n",
       "      <td>B1</td>\n",
       "      <td>Máquina IS</td>\n",
       "      <td>193112</td>\n",
       "      <td>C1164.0000R</td>\n",
       "      <td>MB -1527-N1 | F | NH | C | LISO</td>\n",
       "      <td>NaN</td>\n",
       "      <td>NaN</td>\n",
       "      <td>NaN</td>\n",
       "      <td>...</td>\n",
       "      <td>0.0</td>\n",
       "      <td>0</td>\n",
       "      <td>0</td>\n",
       "      <td>NaN</td>\n",
       "      <td>2024-01-01 06:03:07</td>\n",
       "      <td>2517601</td>\n",
       "      <td>2024-01-01</td>\n",
       "      <td>2024-01-01</td>\n",
       "      <td>1</td>\n",
       "      <td>872218</td>\n",
       "    </tr>\n",
       "    <tr>\n",
       "      <th>2</th>\n",
       "      <td>Wheaton</td>\n",
       "      <td>Wheaton - B1</td>\n",
       "      <td>B1</td>\n",
       "      <td>Máquina IS</td>\n",
       "      <td>193112</td>\n",
       "      <td>C1164.0000R</td>\n",
       "      <td>MB -1527-N1 | F | NH | C | LISO</td>\n",
       "      <td>NaN</td>\n",
       "      <td>NaN</td>\n",
       "      <td>NaN</td>\n",
       "      <td>...</td>\n",
       "      <td>0.0</td>\n",
       "      <td>0</td>\n",
       "      <td>0</td>\n",
       "      <td>NaN</td>\n",
       "      <td>2024-01-01 06:57:09</td>\n",
       "      <td>2517738</td>\n",
       "      <td>2024-01-01</td>\n",
       "      <td>2024-01-01</td>\n",
       "      <td>1</td>\n",
       "      <td>872263</td>\n",
       "    </tr>\n",
       "    <tr>\n",
       "      <th>3</th>\n",
       "      <td>Wheaton</td>\n",
       "      <td>Wheaton - B1</td>\n",
       "      <td>B1</td>\n",
       "      <td>Máquina IS</td>\n",
       "      <td>193112</td>\n",
       "      <td>C1164.0000R</td>\n",
       "      <td>MB -1527-N1 | F | NH | C | LISO</td>\n",
       "      <td>NaN</td>\n",
       "      <td>NaN</td>\n",
       "      <td>NaN</td>\n",
       "      <td>...</td>\n",
       "      <td>0.0</td>\n",
       "      <td>0</td>\n",
       "      <td>0</td>\n",
       "      <td>NaN</td>\n",
       "      <td>2024-01-01 06:57:09</td>\n",
       "      <td>2517739</td>\n",
       "      <td>2024-01-01</td>\n",
       "      <td>2024-01-01</td>\n",
       "      <td>1</td>\n",
       "      <td>872263</td>\n",
       "    </tr>\n",
       "    <tr>\n",
       "      <th>4</th>\n",
       "      <td>Wheaton</td>\n",
       "      <td>Wheaton - B1</td>\n",
       "      <td>B1</td>\n",
       "      <td>Máquina IS</td>\n",
       "      <td>193112</td>\n",
       "      <td>C1164.0000R</td>\n",
       "      <td>MB -1527-N1 | F | NH | C | LISO</td>\n",
       "      <td>NaN</td>\n",
       "      <td>NaN</td>\n",
       "      <td>NaN</td>\n",
       "      <td>...</td>\n",
       "      <td>0.0</td>\n",
       "      <td>0</td>\n",
       "      <td>0</td>\n",
       "      <td>NaN</td>\n",
       "      <td>2024-01-01 06:57:09</td>\n",
       "      <td>2517740</td>\n",
       "      <td>2024-01-01</td>\n",
       "      <td>2024-01-01</td>\n",
       "      <td>1</td>\n",
       "      <td>872263</td>\n",
       "    </tr>\n",
       "  </tbody>\n",
       "</table>\n",
       "<p>5 rows × 45 columns</p>\n",
       "</div>"
      ],
      "text/plain": [
       "   Fábrica Fabrica – Linha Linha Máquina de produção  Ordem de trabalhos  \\\n",
       "0  Wheaton    Wheaton - B1    B1          Máquina IS              193112   \n",
       "1  Wheaton    Wheaton - B1    B1          Máquina IS              193112   \n",
       "2  Wheaton    Wheaton - B1    B1          Máquina IS              193112   \n",
       "3  Wheaton    Wheaton - B1    B1          Máquina IS              193112   \n",
       "4  Wheaton    Wheaton - B1    B1          Máquina IS              193112   \n",
       "\n",
       "  Ref. do artigo                           Artigo  Ordem de sub-trabalho  \\\n",
       "0    C1164.0000R  MB -1527-N1 | F | NH | C | LISO                    NaN   \n",
       "1    C1164.0000R  MB -1527-N1 | F | NH | C | LISO                    NaN   \n",
       "2    C1164.0000R  MB -1527-N1 | F | NH | C | LISO                    NaN   \n",
       "3    C1164.0000R  MB -1527-N1 | F | NH | C | LISO                    NaN   \n",
       "4    C1164.0000R  MB -1527-N1 | F | NH | C | LISO                    NaN   \n",
       "\n",
       "  Produto final  Lote  ...  Nqa Estado A verificar  Comentário  \\\n",
       "0           NaN   NaN  ...  0.0      0           0         NaN   \n",
       "1           NaN   NaN  ...  0.0      0           0         NaN   \n",
       "2           NaN   NaN  ...  0.0      0           0         NaN   \n",
       "3           NaN   NaN  ...  0.0      0           0         NaN   \n",
       "4           NaN   NaN  ...  0.0      0           0         NaN   \n",
       "\n",
       "      Data de criação  Chave primária  Definir dia Dia de criação  Turno  \\\n",
       "0 2024-01-01 06:03:07         2517600   2024-01-01     2024-01-01      1   \n",
       "1 2024-01-01 06:03:07         2517601   2024-01-01     2024-01-01      1   \n",
       "2 2024-01-01 06:57:09         2517738   2024-01-01     2024-01-01      1   \n",
       "3 2024-01-01 06:57:09         2517739   2024-01-01     2024-01-01      1   \n",
       "4 2024-01-01 06:57:09         2517740   2024-01-01     2024-01-01      1   \n",
       "\n",
       "   Definir chave primária  \n",
       "0                  872218  \n",
       "1                  872218  \n",
       "2                  872263  \n",
       "3                  872263  \n",
       "4                  872263  \n",
       "\n",
       "[5 rows x 45 columns]"
      ]
     },
     "execution_count": 443,
     "metadata": {},
     "output_type": "execute_result"
    }
   ],
   "source": [
    "df.head()"
   ]
  },
  {
   "cell_type": "code",
   "execution_count": 444,
   "metadata": {},
   "outputs": [
    {
     "name": "stdout",
     "output_type": "stream",
     "text": [
      "<class 'pandas.core.frame.DataFrame'>\n",
      "RangeIndex: 38625 entries, 0 to 38624\n",
      "Data columns (total 45 columns):\n",
      " #   Column                         Non-Null Count  Dtype         \n",
      "---  ------                         --------------  -----         \n",
      " 0   Fábrica                        38625 non-null  object        \n",
      " 1   Fabrica – Linha                38625 non-null  object        \n",
      " 2   Linha                          38625 non-null  object        \n",
      " 3   Máquina de produção            37740 non-null  object        \n",
      " 4   Ordem de trabalhos             38625 non-null  int64         \n",
      " 5   Ref. do artigo                 38625 non-null  object        \n",
      " 6   Artigo                         38625 non-null  object        \n",
      " 7   Ordem de sub-trabalho          885 non-null    float64       \n",
      " 8   Produto final                  885 non-null    object        \n",
      " 9   Lote                           885 non-null    float64       \n",
      " 10  Pallet n.º                     885 non-null    float64       \n",
      " 11  Definir data                   38625 non-null  datetime64[ns]\n",
      " 12  Localização                    38625 non-null  object        \n",
      " 13  Localização do setout          0 non-null      float64       \n",
      " 14  Bloquear                       38625 non-null  int64         \n",
      " 15  S                              38625 non-null  int64         \n",
      " 16  Gota                           38625 non-null  int64         \n",
      " 17  Gota0                          38625 non-null  object        \n",
      " 18  Macho                          0 non-null      float64       \n",
      " 19  n.º de defeitos                38625 non-null  int64         \n",
      " 20  Defeito repetitivo             38625 non-null  int64         \n",
      " 21  Amostra n.º                    38625 non-null  int64         \n",
      " 22  % de defeitos                  38625 non-null  float64       \n",
      " 23  Ref. do molde                  35516 non-null  object        \n",
      " 24  Número de série                35516 non-null  object        \n",
      " 25  Molde                          38625 non-null  int64         \n",
      " 26  Camada                         653 non-null    float64       \n",
      " 27  Número de defeitos por camada  653 non-null    float64       \n",
      " 28  Código                         38625 non-null  int64         \n",
      " 29  Defeito                        38625 non-null  object        \n",
      " 30  Cor                            38625 non-null  int64         \n",
      " 31  Criticidade                    38625 non-null  object        \n",
      " 32  Criticidade1                   38625 non-null  int64         \n",
      " 33  Equipe                         0 non-null      float64       \n",
      " 34  Operador                       38625 non-null  object        \n",
      " 35  Nqa                            38625 non-null  float64       \n",
      " 36  Estado                         38625 non-null  int64         \n",
      " 37  A verificar                    38625 non-null  int64         \n",
      " 38  Comentário                     589 non-null    object        \n",
      " 39  Data de criação                38625 non-null  datetime64[ns]\n",
      " 40  Chave primária                 38625 non-null  int64         \n",
      " 41  Definir dia                    38625 non-null  datetime64[ns]\n",
      " 42  Dia de criação                 38625 non-null  datetime64[ns]\n",
      " 43  Turno                          38625 non-null  int64         \n",
      " 44  Definir chave primária         38625 non-null  int64         \n",
      "dtypes: datetime64[ns](4), float64(10), int64(16), object(15)\n",
      "memory usage: 13.3+ MB\n"
     ]
    }
   ],
   "source": [
    "df.info()"
   ]
  },
  {
   "cell_type": "code",
   "execution_count": 445,
   "metadata": {},
   "outputs": [
    {
     "data": {
      "text/html": [
       "<div>\n",
       "<style scoped>\n",
       "    .dataframe tbody tr th:only-of-type {\n",
       "        vertical-align: middle;\n",
       "    }\n",
       "\n",
       "    .dataframe tbody tr th {\n",
       "        vertical-align: top;\n",
       "    }\n",
       "\n",
       "    .dataframe thead th {\n",
       "        text-align: right;\n",
       "    }\n",
       "</style>\n",
       "<table border=\"1\" class=\"dataframe\">\n",
       "  <thead>\n",
       "    <tr style=\"text-align: right;\">\n",
       "      <th></th>\n",
       "      <th>Fábrica</th>\n",
       "      <th>Fabrica – Linha</th>\n",
       "      <th>Linha</th>\n",
       "      <th>Máquina de produção</th>\n",
       "      <th>Ordem de trabalhos</th>\n",
       "      <th>Ref. do artigo</th>\n",
       "      <th>Artigo</th>\n",
       "      <th>Ordem de sub-trabalho</th>\n",
       "      <th>Produto final</th>\n",
       "      <th>Lote</th>\n",
       "      <th>...</th>\n",
       "      <th>Nqa</th>\n",
       "      <th>Estado</th>\n",
       "      <th>A verificar</th>\n",
       "      <th>Comentário</th>\n",
       "      <th>Data de criação</th>\n",
       "      <th>Chave primária</th>\n",
       "      <th>Definir dia</th>\n",
       "      <th>Dia de criação</th>\n",
       "      <th>Turno</th>\n",
       "      <th>Definir chave primária</th>\n",
       "    </tr>\n",
       "  </thead>\n",
       "  <tbody>\n",
       "  </tbody>\n",
       "</table>\n",
       "<p>0 rows × 45 columns</p>\n",
       "</div>"
      ],
      "text/plain": [
       "Empty DataFrame\n",
       "Columns: [Fábrica, Fabrica – Linha, Linha, Máquina de produção, Ordem de trabalhos, Ref. do artigo, Artigo, Ordem de sub-trabalho, Produto final, Lote, Pallet n.º, Definir data, Localização, Localização do setout, Bloquear, S, Gota, Gota0, Macho, n.º de defeitos, Defeito repetitivo, Amostra n.º, % de defeitos, Ref. do molde, Número de série, Molde, Camada, Número de defeitos por camada, Código, Defeito, Cor, Criticidade, Criticidade1, Equipe, Operador, Nqa, Estado, A verificar, Comentário, Data de criação, Chave primária, Definir dia, Dia de criação, Turno, Definir chave primária]\n",
       "Index: []\n",
       "\n",
       "[0 rows x 45 columns]"
      ]
     },
     "execution_count": 445,
     "metadata": {},
     "output_type": "execute_result"
    }
   ],
   "source": [
    "artigos_nuniques_ordem = df[df.groupby('Ordem de trabalhos')['Ref. do artigo'].transform('nunique') > 1]\n",
    "artigos_nuniques_ordem"
   ]
  },
  {
   "cell_type": "code",
   "execution_count": 446,
   "metadata": {},
   "outputs": [
    {
     "data": {
      "text/plain": [
       "Ordem de trabalhos\n",
       "192970    [C0516.0000R]\n",
       "193112    [C1164.0000R]\n",
       "193164    [C1280.0000R]\n",
       "193206    [C1284.0000R]\n",
       "193207    [C1298.0000R]\n",
       "193208    [C0104.0000R]\n",
       "193209    [C0509.0000R]\n",
       "193342    [C0516.0000R]\n",
       "193368    [C1137.0000R]\n",
       "193459    [C0068.0000R]\n",
       "193462    [C1284.0000R]\n",
       "193463    [C1298.0000R]\n",
       "193533    [C1165.0000R]\n",
       "193535    [C1332.0000V]\n",
       "193537    [C1203.0000R]\n",
       "193594    [C1137.0000R]\n",
       "193619    [C0121.0000R]\n",
       "193671    [C0593.0000R]\n",
       "193686    [C1239.0000V]\n",
       "193688    [C1349.0000V]\n",
       "193689    [C1299.0000R]\n",
       "193692    [C0139.0000R]\n",
       "193694    [C0529.0000R]\n",
       "193782    [C1265.0000R]\n",
       "193783    [C1215.0000R]\n",
       "193784    [C1203.0000R]\n",
       "193852    [C1267.0000R]\n",
       "193882    [C1268.0000R]\n",
       "193937    [C1172.0000R]\n",
       "193972    [C1203.0000R]\n",
       "193973    [C1165.0000R]\n",
       "194029    [C0132.0000R]\n",
       "194057    [C1164.0000R]\n",
       "194113    [C0104.0000R]\n",
       "194121    [C0516.0000R]\n",
       "Name: Ref. do artigo, dtype: object"
      ]
     },
     "execution_count": 446,
     "metadata": {},
     "output_type": "execute_result"
    }
   ],
   "source": [
    "artigos_ordem = df.groupby('Ordem de trabalhos')['Ref. do artigo'].unique()\n",
    "artigos_ordem"
   ]
  },
  {
   "cell_type": "markdown",
   "metadata": {},
   "source": [
    "# Criando novo Dataframe para trabalhar com os defeitos por data"
   ]
  },
  {
   "cell_type": "markdown",
   "metadata": {},
   "source": [
    "### Criando coluna ``Data``, somente com data, sem o horário do registro"
   ]
  },
  {
   "cell_type": "code",
   "execution_count": 447,
   "metadata": {},
   "outputs": [
    {
     "data": {
      "text/html": [
       "<div>\n",
       "<style scoped>\n",
       "    .dataframe tbody tr th:only-of-type {\n",
       "        vertical-align: middle;\n",
       "    }\n",
       "\n",
       "    .dataframe tbody tr th {\n",
       "        vertical-align: top;\n",
       "    }\n",
       "\n",
       "    .dataframe thead th {\n",
       "        text-align: right;\n",
       "    }\n",
       "</style>\n",
       "<table border=\"1\" class=\"dataframe\">\n",
       "  <thead>\n",
       "    <tr style=\"text-align: right;\">\n",
       "      <th></th>\n",
       "      <th></th>\n",
       "      <th></th>\n",
       "      <th>Defeito</th>\n",
       "    </tr>\n",
       "    <tr>\n",
       "      <th>Ordem de trabalhos</th>\n",
       "      <th>Ref. do artigo</th>\n",
       "      <th>Data</th>\n",
       "      <th></th>\n",
       "    </tr>\n",
       "  </thead>\n",
       "  <tbody>\n",
       "    <tr>\n",
       "      <th rowspan=\"5\" valign=\"top\">192970</th>\n",
       "      <th rowspan=\"5\" valign=\"top\">C0516.0000R</th>\n",
       "      <th>2024-01-03</th>\n",
       "      <td>162</td>\n",
       "    </tr>\n",
       "    <tr>\n",
       "      <th>2024-01-04</th>\n",
       "      <td>249</td>\n",
       "    </tr>\n",
       "    <tr>\n",
       "      <th>2024-01-05</th>\n",
       "      <td>268</td>\n",
       "    </tr>\n",
       "    <tr>\n",
       "      <th>2024-01-06</th>\n",
       "      <td>242</td>\n",
       "    </tr>\n",
       "    <tr>\n",
       "      <th>2024-01-07</th>\n",
       "      <td>232</td>\n",
       "    </tr>\n",
       "    <tr>\n",
       "      <th>...</th>\n",
       "      <th>...</th>\n",
       "      <th>...</th>\n",
       "      <td>...</td>\n",
       "    </tr>\n",
       "    <tr>\n",
       "      <th rowspan=\"5\" valign=\"top\">194121</th>\n",
       "      <th rowspan=\"5\" valign=\"top\">C0516.0000R</th>\n",
       "      <th>2024-06-27</th>\n",
       "      <td>218</td>\n",
       "    </tr>\n",
       "    <tr>\n",
       "      <th>2024-06-28</th>\n",
       "      <td>218</td>\n",
       "    </tr>\n",
       "    <tr>\n",
       "      <th>2024-06-29</th>\n",
       "      <td>213</td>\n",
       "    </tr>\n",
       "    <tr>\n",
       "      <th>2024-06-30</th>\n",
       "      <td>256</td>\n",
       "    </tr>\n",
       "    <tr>\n",
       "      <th>2024-07-01</th>\n",
       "      <td>1</td>\n",
       "    </tr>\n",
       "  </tbody>\n",
       "</table>\n",
       "<p>211 rows × 1 columns</p>\n",
       "</div>"
      ],
      "text/plain": [
       "                                              Defeito\n",
       "Ordem de trabalhos Ref. do artigo Data               \n",
       "192970             C0516.0000R    2024-01-03      162\n",
       "                                  2024-01-04      249\n",
       "                                  2024-01-05      268\n",
       "                                  2024-01-06      242\n",
       "                                  2024-01-07      232\n",
       "...                                               ...\n",
       "194121             C0516.0000R    2024-06-27      218\n",
       "                                  2024-06-28      218\n",
       "                                  2024-06-29      213\n",
       "                                  2024-06-30      256\n",
       "                                  2024-07-01        1\n",
       "\n",
       "[211 rows x 1 columns]"
      ]
     },
     "execution_count": 447,
     "metadata": {},
     "output_type": "execute_result"
    }
   ],
   "source": [
    "df_por_data = df.copy()\n",
    "\n",
    "df_por_data['Data'] = df_por_data['Data de criação'].dt.date\n",
    "\n",
    "df_por_data.groupby(['Ordem de trabalhos', 'Ref. do artigo','Data'])[['Defeito']].count()"
   ]
  },
  {
   "cell_type": "markdown",
   "metadata": {},
   "source": [
    "### Criando Dataframe multiíndice, agrupado por `Ordem de trabalhos`, `Data` e `Defeito`, contando a frequência de cada defeito "
   ]
  },
  {
   "cell_type": "code",
   "execution_count": 448,
   "metadata": {},
   "outputs": [
    {
     "data": {
      "text/html": [
       "<div>\n",
       "<style scoped>\n",
       "    .dataframe tbody tr th:only-of-type {\n",
       "        vertical-align: middle;\n",
       "    }\n",
       "\n",
       "    .dataframe tbody tr th {\n",
       "        vertical-align: top;\n",
       "    }\n",
       "\n",
       "    .dataframe thead th {\n",
       "        text-align: right;\n",
       "    }\n",
       "</style>\n",
       "<table border=\"1\" class=\"dataframe\">\n",
       "  <thead>\n",
       "    <tr style=\"text-align: right;\">\n",
       "      <th></th>\n",
       "      <th></th>\n",
       "      <th></th>\n",
       "      <th></th>\n",
       "      <th>Quantidade</th>\n",
       "    </tr>\n",
       "    <tr>\n",
       "      <th>Ordem de trabalhos</th>\n",
       "      <th>Ref. do artigo</th>\n",
       "      <th>Data</th>\n",
       "      <th>Defeito</th>\n",
       "      <th></th>\n",
       "    </tr>\n",
       "  </thead>\n",
       "  <tbody>\n",
       "    <tr>\n",
       "      <th rowspan=\"5\" valign=\"top\">192970</th>\n",
       "      <th rowspan=\"5\" valign=\"top\">C0516.0000R</th>\n",
       "      <th rowspan=\"5\" valign=\"top\">2024-01-03</th>\n",
       "      <th>Cava no ombro</th>\n",
       "      <td>10</td>\n",
       "    </tr>\n",
       "    <tr>\n",
       "      <th>Corpo torto</th>\n",
       "      <td>6</td>\n",
       "    </tr>\n",
       "    <tr>\n",
       "      <th>Costura</th>\n",
       "      <td>3</td>\n",
       "    </tr>\n",
       "    <tr>\n",
       "      <th>Costura desencontrada</th>\n",
       "      <td>7</td>\n",
       "    </tr>\n",
       "    <tr>\n",
       "      <th>Dobra</th>\n",
       "      <td>10</td>\n",
       "    </tr>\n",
       "    <tr>\n",
       "      <th>...</th>\n",
       "      <th>...</th>\n",
       "      <th>...</th>\n",
       "      <th>...</th>\n",
       "      <td>...</td>\n",
       "    </tr>\n",
       "    <tr>\n",
       "      <th rowspan=\"5\" valign=\"top\">194121</th>\n",
       "      <th rowspan=\"5\" valign=\"top\">C0516.0000R</th>\n",
       "      <th rowspan=\"4\" valign=\"top\">2024-06-30</th>\n",
       "      <th>Sujo de óleo</th>\n",
       "      <td>58</td>\n",
       "    </tr>\n",
       "    <tr>\n",
       "      <th>Terminação deformada</th>\n",
       "      <td>1</td>\n",
       "    </tr>\n",
       "    <tr>\n",
       "      <th>Terminação suja</th>\n",
       "      <td>5</td>\n",
       "    </tr>\n",
       "    <tr>\n",
       "      <th>Trinca por choque térmico</th>\n",
       "      <td>17</td>\n",
       "    </tr>\n",
       "    <tr>\n",
       "      <th>2024-07-01</th>\n",
       "      <th>Bolha</th>\n",
       "      <td>1</td>\n",
       "    </tr>\n",
       "  </tbody>\n",
       "</table>\n",
       "<p>4687 rows × 1 columns</p>\n",
       "</div>"
      ],
      "text/plain": [
       "                                                                        Quantidade\n",
       "Ordem de trabalhos Ref. do artigo Data       Defeito                              \n",
       "192970             C0516.0000R    2024-01-03 Cava no ombro                      10\n",
       "                                             Corpo torto                         6\n",
       "                                             Costura                             3\n",
       "                                             Costura desencontrada               7\n",
       "                                             Dobra                              10\n",
       "...                                                                            ...\n",
       "194121             C0516.0000R    2024-06-30 Sujo de óleo                       58\n",
       "                                             Terminação deformada                1\n",
       "                                             Terminação suja                     5\n",
       "                                             Trinca por choque térmico          17\n",
       "                                  2024-07-01 Bolha                               1\n",
       "\n",
       "[4687 rows x 1 columns]"
      ]
     },
     "execution_count": 448,
     "metadata": {},
     "output_type": "execute_result"
    }
   ],
   "source": [
    "frequencia_defeitos = df_por_data.groupby(['Ordem de trabalhos', 'Ref. do artigo', 'Data', 'Defeito']).size().reset_index(name='Quantidade')\n",
    "frequencia_defeitos = frequencia_defeitos.set_index(['Ordem de trabalhos', 'Ref. do artigo', 'Data', 'Defeito'])\n",
    "frequencia_defeitos = frequencia_defeitos.sort_index()\n",
    "\n",
    "frequencia_defeitos"
   ]
  },
  {
   "cell_type": "markdown",
   "metadata": {},
   "source": [
    "# Criando um Dataframe resumo de defeitos"
   ]
  },
  {
   "cell_type": "markdown",
   "metadata": {},
   "source": [
    "## Calculando o total de defeitos por cada ``Ordem`` e qual o defeito mais frequente de cada ``Ordem``"
   ]
  },
  {
   "cell_type": "markdown",
   "metadata": {},
   "source": [
    "### Criando colunas `Data_Inicio` e `Data_Fim` para monitorar produtividades "
   ]
  },
  {
   "cell_type": "code",
   "execution_count": 449,
   "metadata": {},
   "outputs": [],
   "source": [
    "frequencia_defeitos_reset = frequencia_defeitos.reset_index()\n",
    "\n",
    "inicio_fim_ordem = frequencia_defeitos_reset.groupby('Ordem de trabalhos').agg(\n",
    "    Data_Inicio=('Data', 'min'),\n",
    "    Data_Fim=('Data', 'max')\n",
    ")"
   ]
  },
  {
   "cell_type": "markdown",
   "metadata": {},
   "source": [
    "### Calculando a Quantidade e Frequência"
   ]
  },
  {
   "cell_type": "code",
   "execution_count": 450,
   "metadata": {},
   "outputs": [
    {
     "data": {
      "text/html": [
       "<div>\n",
       "<style scoped>\n",
       "    .dataframe tbody tr th:only-of-type {\n",
       "        vertical-align: middle;\n",
       "    }\n",
       "\n",
       "    .dataframe tbody tr th {\n",
       "        vertical-align: top;\n",
       "    }\n",
       "\n",
       "    .dataframe thead th {\n",
       "        text-align: right;\n",
       "    }\n",
       "</style>\n",
       "<table border=\"1\" class=\"dataframe\">\n",
       "  <thead>\n",
       "    <tr style=\"text-align: right;\">\n",
       "      <th></th>\n",
       "      <th></th>\n",
       "      <th>Total de Defeitos</th>\n",
       "      <th>Defeito Mais Frequente</th>\n",
       "      <th>Data_Inicio</th>\n",
       "      <th>Data_Fim</th>\n",
       "    </tr>\n",
       "    <tr>\n",
       "      <th>Ordem de trabalhos</th>\n",
       "      <th>Ref. do Artigo</th>\n",
       "      <th></th>\n",
       "      <th></th>\n",
       "      <th></th>\n",
       "      <th></th>\n",
       "    </tr>\n",
       "  </thead>\n",
       "  <tbody>\n",
       "    <tr>\n",
       "      <th>193342</th>\n",
       "      <th>C0516.0000R</th>\n",
       "      <td>3568</td>\n",
       "      <td>Sujo de óleo</td>\n",
       "      <td>2024-02-21</td>\n",
       "      <td>2024-03-11</td>\n",
       "    </tr>\n",
       "    <tr>\n",
       "      <th>193164</th>\n",
       "      <th>C1280.0000R</th>\n",
       "      <td>2574</td>\n",
       "      <td>Sujo de óleo</td>\n",
       "      <td>2024-01-11</td>\n",
       "      <td>2024-01-23</td>\n",
       "    </tr>\n",
       "    <tr>\n",
       "      <th>193782</th>\n",
       "      <th>C1265.0000R</th>\n",
       "      <td>2263</td>\n",
       "      <td>Dobra</td>\n",
       "      <td>2024-05-15</td>\n",
       "      <td>2024-05-25</td>\n",
       "    </tr>\n",
       "    <tr>\n",
       "      <th>193207</th>\n",
       "      <th>C1298.0000R</th>\n",
       "      <td>1953</td>\n",
       "      <td>Sujo de óleo</td>\n",
       "      <td>2024-01-28</td>\n",
       "      <td>2024-02-06</td>\n",
       "    </tr>\n",
       "    <tr>\n",
       "      <th>192970</th>\n",
       "      <th>C0516.0000R</th>\n",
       "      <td>1941</td>\n",
       "      <td>Sujo de óleo</td>\n",
       "      <td>2024-01-03</td>\n",
       "      <td>2024-01-11</td>\n",
       "    </tr>\n",
       "    <tr>\n",
       "      <th>193784</th>\n",
       "      <th>C1203.0000R</th>\n",
       "      <td>1930</td>\n",
       "      <td>Sujo de óleo</td>\n",
       "      <td>2024-05-04</td>\n",
       "      <td>2024-05-15</td>\n",
       "    </tr>\n",
       "    <tr>\n",
       "      <th>193209</th>\n",
       "      <th>C0509.0000R</th>\n",
       "      <td>1663</td>\n",
       "      <td>Sujo de óleo</td>\n",
       "      <td>2024-02-08</td>\n",
       "      <td>2024-02-14</td>\n",
       "    </tr>\n",
       "    <tr>\n",
       "      <th>193368</th>\n",
       "      <th>C1137.0000R</th>\n",
       "      <td>1581</td>\n",
       "      <td>Sujo de óleo</td>\n",
       "      <td>2024-02-14</td>\n",
       "      <td>2024-02-21</td>\n",
       "    </tr>\n",
       "    <tr>\n",
       "      <th>193882</th>\n",
       "      <th>C1268.0000R</th>\n",
       "      <td>1521</td>\n",
       "      <td>Sujo de óleo</td>\n",
       "      <td>2024-06-08</td>\n",
       "      <td>2024-06-15</td>\n",
       "    </tr>\n",
       "    <tr>\n",
       "      <th>193594</th>\n",
       "      <th>C1137.0000R</th>\n",
       "      <td>1401</td>\n",
       "      <td>Sujo de óleo</td>\n",
       "      <td>2024-03-25</td>\n",
       "      <td>2024-04-01</td>\n",
       "    </tr>\n",
       "    <tr>\n",
       "      <th>193463</th>\n",
       "      <th>C1298.0000R</th>\n",
       "      <td>1388</td>\n",
       "      <td>Sujo de óleo</td>\n",
       "      <td>2024-03-13</td>\n",
       "      <td>2024-03-20</td>\n",
       "    </tr>\n",
       "    <tr>\n",
       "      <th>194121</th>\n",
       "      <th>C0516.0000R</th>\n",
       "      <td>1380</td>\n",
       "      <td>Sujo de óleo</td>\n",
       "      <td>2024-06-25</td>\n",
       "      <td>2024-07-01</td>\n",
       "    </tr>\n",
       "    <tr>\n",
       "      <th>193852</th>\n",
       "      <th>C1267.0000R</th>\n",
       "      <td>1370</td>\n",
       "      <td>Sujo de óleo</td>\n",
       "      <td>2024-05-25</td>\n",
       "      <td>2024-05-31</td>\n",
       "    </tr>\n",
       "    <tr>\n",
       "      <th>193533</th>\n",
       "      <th>C1165.0000R</th>\n",
       "      <td>1228</td>\n",
       "      <td>Sujo de óleo</td>\n",
       "      <td>2024-04-11</td>\n",
       "      <td>2024-04-18</td>\n",
       "    </tr>\n",
       "    <tr>\n",
       "      <th>193462</th>\n",
       "      <th>C1284.0000R</th>\n",
       "      <td>1133</td>\n",
       "      <td>Trinca por choque térmico</td>\n",
       "      <td>2024-03-21</td>\n",
       "      <td>2024-03-25</td>\n",
       "    </tr>\n",
       "    <tr>\n",
       "      <th>193206</th>\n",
       "      <th>C1284.0000R</th>\n",
       "      <td>927</td>\n",
       "      <td>Sujo de óleo</td>\n",
       "      <td>2024-01-25</td>\n",
       "      <td>2024-01-28</td>\n",
       "    </tr>\n",
       "    <tr>\n",
       "      <th>193619</th>\n",
       "      <th>C0121.0000R</th>\n",
       "      <td>840</td>\n",
       "      <td>Sujo de óleo</td>\n",
       "      <td>2024-04-04</td>\n",
       "      <td>2024-04-08</td>\n",
       "    </tr>\n",
       "    <tr>\n",
       "      <th>194113</th>\n",
       "      <th>C0104.0000R</th>\n",
       "      <td>777</td>\n",
       "      <td>Fora de cor</td>\n",
       "      <td>2024-06-22</td>\n",
       "      <td>2024-06-25</td>\n",
       "    </tr>\n",
       "    <tr>\n",
       "      <th>193694</th>\n",
       "      <th>C0529.0000R</th>\n",
       "      <td>770</td>\n",
       "      <td>Sujo de óleo</td>\n",
       "      <td>2024-04-28</td>\n",
       "      <td>2024-05-02</td>\n",
       "    </tr>\n",
       "    <tr>\n",
       "      <th>193973</th>\n",
       "      <th>C1165.0000R</th>\n",
       "      <td>757</td>\n",
       "      <td>Parada de Máquina em Troca</td>\n",
       "      <td>2024-06-15</td>\n",
       "      <td>2024-06-19</td>\n",
       "    </tr>\n",
       "    <tr>\n",
       "      <th>193783</th>\n",
       "      <th>C1215.0000R</th>\n",
       "      <td>750</td>\n",
       "      <td>Sujo de óleo</td>\n",
       "      <td>2024-05-02</td>\n",
       "      <td>2024-05-04</td>\n",
       "    </tr>\n",
       "    <tr>\n",
       "      <th>194029</th>\n",
       "      <th>C0132.0000R</th>\n",
       "      <td>708</td>\n",
       "      <td>Sujo de óleo</td>\n",
       "      <td>2024-06-02</td>\n",
       "      <td>2024-06-05</td>\n",
       "    </tr>\n",
       "    <tr>\n",
       "      <th>193537</th>\n",
       "      <th>C1203.0000R</th>\n",
       "      <td>682</td>\n",
       "      <td>Sujo de óleo</td>\n",
       "      <td>2024-04-01</td>\n",
       "      <td>2024-04-04</td>\n",
       "    </tr>\n",
       "    <tr>\n",
       "      <th>193689</th>\n",
       "      <th>C1299.0000R</th>\n",
       "      <td>619</td>\n",
       "      <td>Sujo de óleo</td>\n",
       "      <td>2024-04-22</td>\n",
       "      <td>2024-04-24</td>\n",
       "    </tr>\n",
       "    <tr>\n",
       "      <th>193671</th>\n",
       "      <th>C0593.0000R</th>\n",
       "      <td>538</td>\n",
       "      <td>Sujo de óleo</td>\n",
       "      <td>2024-04-08</td>\n",
       "      <td>2024-04-11</td>\n",
       "    </tr>\n",
       "    <tr>\n",
       "      <th>193535</th>\n",
       "      <th>C1332.0000V</th>\n",
       "      <td>538</td>\n",
       "      <td>Sujo de óleo</td>\n",
       "      <td>2024-04-24</td>\n",
       "      <td>2024-04-26</td>\n",
       "    </tr>\n",
       "    <tr>\n",
       "      <th>193972</th>\n",
       "      <th>C1203.0000R</th>\n",
       "      <td>528</td>\n",
       "      <td>Sujo de óleo</td>\n",
       "      <td>2024-06-06</td>\n",
       "      <td>2024-06-08</td>\n",
       "    </tr>\n",
       "    <tr>\n",
       "      <th>193686</th>\n",
       "      <th>C1239.0000V</th>\n",
       "      <td>492</td>\n",
       "      <td>Dobra</td>\n",
       "      <td>2024-04-20</td>\n",
       "      <td>2024-04-22</td>\n",
       "    </tr>\n",
       "    <tr>\n",
       "      <th>193937</th>\n",
       "      <th>C1172.0000R</th>\n",
       "      <td>483</td>\n",
       "      <td>Sujo de óleo</td>\n",
       "      <td>2024-05-31</td>\n",
       "      <td>2024-06-02</td>\n",
       "    </tr>\n",
       "    <tr>\n",
       "      <th>193692</th>\n",
       "      <th>C0139.0000R</th>\n",
       "      <td>476</td>\n",
       "      <td>Sujo de óleo</td>\n",
       "      <td>2024-04-26</td>\n",
       "      <td>2024-04-28</td>\n",
       "    </tr>\n",
       "    <tr>\n",
       "      <th>194057</th>\n",
       "      <th>C1164.0000R</th>\n",
       "      <td>458</td>\n",
       "      <td>Sujo de óleo</td>\n",
       "      <td>2024-06-19</td>\n",
       "      <td>2024-06-21</td>\n",
       "    </tr>\n",
       "    <tr>\n",
       "      <th>193112</th>\n",
       "      <th>C1164.0000R</th>\n",
       "      <td>422</td>\n",
       "      <td>Sujo de óleo</td>\n",
       "      <td>2024-01-01</td>\n",
       "      <td>2024-01-03</td>\n",
       "    </tr>\n",
       "    <tr>\n",
       "      <th>193688</th>\n",
       "      <th>C1349.0000V</th>\n",
       "      <td>390</td>\n",
       "      <td>Sujo de óleo</td>\n",
       "      <td>2024-04-18</td>\n",
       "      <td>2024-04-20</td>\n",
       "    </tr>\n",
       "    <tr>\n",
       "      <th>193459</th>\n",
       "      <th>C0068.0000R</th>\n",
       "      <td>357</td>\n",
       "      <td>Sujo de óleo</td>\n",
       "      <td>2024-03-11</td>\n",
       "      <td>2024-03-13</td>\n",
       "    </tr>\n",
       "    <tr>\n",
       "      <th>193208</th>\n",
       "      <th>C0104.0000R</th>\n",
       "      <td>219</td>\n",
       "      <td>Sujo de óleo</td>\n",
       "      <td>2024-02-07</td>\n",
       "      <td>2024-02-08</td>\n",
       "    </tr>\n",
       "  </tbody>\n",
       "</table>\n",
       "</div>"
      ],
      "text/plain": [
       "                                   Total de Defeitos  \\\n",
       "Ordem de trabalhos Ref. do Artigo                      \n",
       "193342             C0516.0000R                  3568   \n",
       "193164             C1280.0000R                  2574   \n",
       "193782             C1265.0000R                  2263   \n",
       "193207             C1298.0000R                  1953   \n",
       "192970             C0516.0000R                  1941   \n",
       "193784             C1203.0000R                  1930   \n",
       "193209             C0509.0000R                  1663   \n",
       "193368             C1137.0000R                  1581   \n",
       "193882             C1268.0000R                  1521   \n",
       "193594             C1137.0000R                  1401   \n",
       "193463             C1298.0000R                  1388   \n",
       "194121             C0516.0000R                  1380   \n",
       "193852             C1267.0000R                  1370   \n",
       "193533             C1165.0000R                  1228   \n",
       "193462             C1284.0000R                  1133   \n",
       "193206             C1284.0000R                   927   \n",
       "193619             C0121.0000R                   840   \n",
       "194113             C0104.0000R                   777   \n",
       "193694             C0529.0000R                   770   \n",
       "193973             C1165.0000R                   757   \n",
       "193783             C1215.0000R                   750   \n",
       "194029             C0132.0000R                   708   \n",
       "193537             C1203.0000R                   682   \n",
       "193689             C1299.0000R                   619   \n",
       "193671             C0593.0000R                   538   \n",
       "193535             C1332.0000V                   538   \n",
       "193972             C1203.0000R                   528   \n",
       "193686             C1239.0000V                   492   \n",
       "193937             C1172.0000R                   483   \n",
       "193692             C0139.0000R                   476   \n",
       "194057             C1164.0000R                   458   \n",
       "193112             C1164.0000R                   422   \n",
       "193688             C1349.0000V                   390   \n",
       "193459             C0068.0000R                   357   \n",
       "193208             C0104.0000R                   219   \n",
       "\n",
       "                                       Defeito Mais Frequente Data_Inicio  \\\n",
       "Ordem de trabalhos Ref. do Artigo                                           \n",
       "193342             C0516.0000R                   Sujo de óleo  2024-02-21   \n",
       "193164             C1280.0000R                   Sujo de óleo  2024-01-11   \n",
       "193782             C1265.0000R                          Dobra  2024-05-15   \n",
       "193207             C1298.0000R                   Sujo de óleo  2024-01-28   \n",
       "192970             C0516.0000R                   Sujo de óleo  2024-01-03   \n",
       "193784             C1203.0000R                   Sujo de óleo  2024-05-04   \n",
       "193209             C0509.0000R                   Sujo de óleo  2024-02-08   \n",
       "193368             C1137.0000R                   Sujo de óleo  2024-02-14   \n",
       "193882             C1268.0000R                   Sujo de óleo  2024-06-08   \n",
       "193594             C1137.0000R                   Sujo de óleo  2024-03-25   \n",
       "193463             C1298.0000R                   Sujo de óleo  2024-03-13   \n",
       "194121             C0516.0000R                   Sujo de óleo  2024-06-25   \n",
       "193852             C1267.0000R                   Sujo de óleo  2024-05-25   \n",
       "193533             C1165.0000R                   Sujo de óleo  2024-04-11   \n",
       "193462             C1284.0000R      Trinca por choque térmico  2024-03-21   \n",
       "193206             C1284.0000R                   Sujo de óleo  2024-01-25   \n",
       "193619             C0121.0000R                   Sujo de óleo  2024-04-04   \n",
       "194113             C0104.0000R                    Fora de cor  2024-06-22   \n",
       "193694             C0529.0000R                   Sujo de óleo  2024-04-28   \n",
       "193973             C1165.0000R     Parada de Máquina em Troca  2024-06-15   \n",
       "193783             C1215.0000R                   Sujo de óleo  2024-05-02   \n",
       "194029             C0132.0000R                   Sujo de óleo  2024-06-02   \n",
       "193537             C1203.0000R                   Sujo de óleo  2024-04-01   \n",
       "193689             C1299.0000R                   Sujo de óleo  2024-04-22   \n",
       "193671             C0593.0000R                   Sujo de óleo  2024-04-08   \n",
       "193535             C1332.0000V                   Sujo de óleo  2024-04-24   \n",
       "193972             C1203.0000R                   Sujo de óleo  2024-06-06   \n",
       "193686             C1239.0000V                          Dobra  2024-04-20   \n",
       "193937             C1172.0000R                   Sujo de óleo  2024-05-31   \n",
       "193692             C0139.0000R                   Sujo de óleo  2024-04-26   \n",
       "194057             C1164.0000R                   Sujo de óleo  2024-06-19   \n",
       "193112             C1164.0000R                   Sujo de óleo  2024-01-01   \n",
       "193688             C1349.0000V                   Sujo de óleo  2024-04-18   \n",
       "193459             C0068.0000R                   Sujo de óleo  2024-03-11   \n",
       "193208             C0104.0000R                   Sujo de óleo  2024-02-07   \n",
       "\n",
       "                                     Data_Fim  \n",
       "Ordem de trabalhos Ref. do Artigo              \n",
       "193342             C0516.0000R     2024-03-11  \n",
       "193164             C1280.0000R     2024-01-23  \n",
       "193782             C1265.0000R     2024-05-25  \n",
       "193207             C1298.0000R     2024-02-06  \n",
       "192970             C0516.0000R     2024-01-11  \n",
       "193784             C1203.0000R     2024-05-15  \n",
       "193209             C0509.0000R     2024-02-14  \n",
       "193368             C1137.0000R     2024-02-21  \n",
       "193882             C1268.0000R     2024-06-15  \n",
       "193594             C1137.0000R     2024-04-01  \n",
       "193463             C1298.0000R     2024-03-20  \n",
       "194121             C0516.0000R     2024-07-01  \n",
       "193852             C1267.0000R     2024-05-31  \n",
       "193533             C1165.0000R     2024-04-18  \n",
       "193462             C1284.0000R     2024-03-25  \n",
       "193206             C1284.0000R     2024-01-28  \n",
       "193619             C0121.0000R     2024-04-08  \n",
       "194113             C0104.0000R     2024-06-25  \n",
       "193694             C0529.0000R     2024-05-02  \n",
       "193973             C1165.0000R     2024-06-19  \n",
       "193783             C1215.0000R     2024-05-04  \n",
       "194029             C0132.0000R     2024-06-05  \n",
       "193537             C1203.0000R     2024-04-04  \n",
       "193689             C1299.0000R     2024-04-24  \n",
       "193671             C0593.0000R     2024-04-11  \n",
       "193535             C1332.0000V     2024-04-26  \n",
       "193972             C1203.0000R     2024-06-08  \n",
       "193686             C1239.0000V     2024-04-22  \n",
       "193937             C1172.0000R     2024-06-02  \n",
       "193692             C0139.0000R     2024-04-28  \n",
       "194057             C1164.0000R     2024-06-21  \n",
       "193112             C1164.0000R     2024-01-03  \n",
       "193688             C1349.0000V     2024-04-20  \n",
       "193459             C0068.0000R     2024-03-13  \n",
       "193208             C0104.0000R     2024-02-08  "
      ]
     },
     "execution_count": 450,
     "metadata": {},
     "output_type": "execute_result"
    }
   ],
   "source": [
    "frequencia_defeitos_reset = frequencia_defeitos.reset_index()\n",
    "\n",
    "ref_artigo_por_ordem = frequencia_defeitos_reset.groupby('Ordem de trabalhos')['Ref. do artigo'].agg(lambda x: ', '.join(x.unique()))\n",
    "\n",
    "total_defeitos_por_ordem = frequencia_defeitos.groupby('Ordem de trabalhos')['Quantidade'].sum()\n",
    "\n",
    "defeito_mais_frequente_por_ordem = frequencia_defeitos.groupby('Ordem de trabalhos')['Quantidade'].idxmax().map(lambda x: x[3])\n",
    "\n",
    "resumo_defeitos_por_ordem = pd.DataFrame({\n",
    "    'Ref. do Artigo': ref_artigo_por_ordem,\n",
    "    'Total de Defeitos': total_defeitos_por_ordem,\n",
    "    'Defeito Mais Frequente': defeito_mais_frequente_por_ordem\n",
    "})\n",
    "\n",
    "resumo_defeitos_por_ordem = resumo_defeitos_por_ordem.join(inicio_fim_ordem)\n",
    "\n",
    "resumo_defeitos_por_ordem.sort_values('Total de Defeitos', ascending=False, inplace=True)\n",
    "\n",
    "resumo_defeitos_por_ordem_reset = resumo_defeitos_por_ordem.reset_index()\n",
    "resumo_defeitos_por_ordem_reset.set_index(['Ordem de trabalhos', 'Ref. do Artigo'])"
   ]
  },
  {
   "cell_type": "markdown",
   "metadata": {},
   "source": [
    "### Criando coluna para visualizar a quantidade de dias da ordem "
   ]
  },
  {
   "cell_type": "code",
   "execution_count": 451,
   "metadata": {},
   "outputs": [
    {
     "data": {
      "text/html": [
       "<div>\n",
       "<style scoped>\n",
       "    .dataframe tbody tr th:only-of-type {\n",
       "        vertical-align: middle;\n",
       "    }\n",
       "\n",
       "    .dataframe tbody tr th {\n",
       "        vertical-align: top;\n",
       "    }\n",
       "\n",
       "    .dataframe thead th {\n",
       "        text-align: right;\n",
       "    }\n",
       "</style>\n",
       "<table border=\"1\" class=\"dataframe\">\n",
       "  <thead>\n",
       "    <tr style=\"text-align: right;\">\n",
       "      <th></th>\n",
       "      <th>Ref. do Artigo</th>\n",
       "      <th>Total de Defeitos</th>\n",
       "      <th>Defeito Mais Frequente</th>\n",
       "      <th>Data_Inicio</th>\n",
       "      <th>Data_Fim</th>\n",
       "      <th>Dias de Ordem</th>\n",
       "    </tr>\n",
       "    <tr>\n",
       "      <th>Ordem de trabalhos</th>\n",
       "      <th></th>\n",
       "      <th></th>\n",
       "      <th></th>\n",
       "      <th></th>\n",
       "      <th></th>\n",
       "      <th></th>\n",
       "    </tr>\n",
       "  </thead>\n",
       "  <tbody>\n",
       "    <tr>\n",
       "      <th>193342</th>\n",
       "      <td>C0516.0000R</td>\n",
       "      <td>3568</td>\n",
       "      <td>Sujo de óleo</td>\n",
       "      <td>2024-02-21</td>\n",
       "      <td>2024-03-11</td>\n",
       "      <td>19</td>\n",
       "    </tr>\n",
       "    <tr>\n",
       "      <th>193164</th>\n",
       "      <td>C1280.0000R</td>\n",
       "      <td>2574</td>\n",
       "      <td>Sujo de óleo</td>\n",
       "      <td>2024-01-11</td>\n",
       "      <td>2024-01-23</td>\n",
       "      <td>12</td>\n",
       "    </tr>\n",
       "    <tr>\n",
       "      <th>193782</th>\n",
       "      <td>C1265.0000R</td>\n",
       "      <td>2263</td>\n",
       "      <td>Dobra</td>\n",
       "      <td>2024-05-15</td>\n",
       "      <td>2024-05-25</td>\n",
       "      <td>10</td>\n",
       "    </tr>\n",
       "    <tr>\n",
       "      <th>193207</th>\n",
       "      <td>C1298.0000R</td>\n",
       "      <td>1953</td>\n",
       "      <td>Sujo de óleo</td>\n",
       "      <td>2024-01-28</td>\n",
       "      <td>2024-02-06</td>\n",
       "      <td>9</td>\n",
       "    </tr>\n",
       "    <tr>\n",
       "      <th>192970</th>\n",
       "      <td>C0516.0000R</td>\n",
       "      <td>1941</td>\n",
       "      <td>Sujo de óleo</td>\n",
       "      <td>2024-01-03</td>\n",
       "      <td>2024-01-11</td>\n",
       "      <td>8</td>\n",
       "    </tr>\n",
       "    <tr>\n",
       "      <th>193784</th>\n",
       "      <td>C1203.0000R</td>\n",
       "      <td>1930</td>\n",
       "      <td>Sujo de óleo</td>\n",
       "      <td>2024-05-04</td>\n",
       "      <td>2024-05-15</td>\n",
       "      <td>11</td>\n",
       "    </tr>\n",
       "    <tr>\n",
       "      <th>193209</th>\n",
       "      <td>C0509.0000R</td>\n",
       "      <td>1663</td>\n",
       "      <td>Sujo de óleo</td>\n",
       "      <td>2024-02-08</td>\n",
       "      <td>2024-02-14</td>\n",
       "      <td>6</td>\n",
       "    </tr>\n",
       "    <tr>\n",
       "      <th>193368</th>\n",
       "      <td>C1137.0000R</td>\n",
       "      <td>1581</td>\n",
       "      <td>Sujo de óleo</td>\n",
       "      <td>2024-02-14</td>\n",
       "      <td>2024-02-21</td>\n",
       "      <td>7</td>\n",
       "    </tr>\n",
       "    <tr>\n",
       "      <th>193882</th>\n",
       "      <td>C1268.0000R</td>\n",
       "      <td>1521</td>\n",
       "      <td>Sujo de óleo</td>\n",
       "      <td>2024-06-08</td>\n",
       "      <td>2024-06-15</td>\n",
       "      <td>7</td>\n",
       "    </tr>\n",
       "    <tr>\n",
       "      <th>193594</th>\n",
       "      <td>C1137.0000R</td>\n",
       "      <td>1401</td>\n",
       "      <td>Sujo de óleo</td>\n",
       "      <td>2024-03-25</td>\n",
       "      <td>2024-04-01</td>\n",
       "      <td>7</td>\n",
       "    </tr>\n",
       "    <tr>\n",
       "      <th>193463</th>\n",
       "      <td>C1298.0000R</td>\n",
       "      <td>1388</td>\n",
       "      <td>Sujo de óleo</td>\n",
       "      <td>2024-03-13</td>\n",
       "      <td>2024-03-20</td>\n",
       "      <td>7</td>\n",
       "    </tr>\n",
       "    <tr>\n",
       "      <th>194121</th>\n",
       "      <td>C0516.0000R</td>\n",
       "      <td>1380</td>\n",
       "      <td>Sujo de óleo</td>\n",
       "      <td>2024-06-25</td>\n",
       "      <td>2024-07-01</td>\n",
       "      <td>6</td>\n",
       "    </tr>\n",
       "    <tr>\n",
       "      <th>193852</th>\n",
       "      <td>C1267.0000R</td>\n",
       "      <td>1370</td>\n",
       "      <td>Sujo de óleo</td>\n",
       "      <td>2024-05-25</td>\n",
       "      <td>2024-05-31</td>\n",
       "      <td>6</td>\n",
       "    </tr>\n",
       "    <tr>\n",
       "      <th>193533</th>\n",
       "      <td>C1165.0000R</td>\n",
       "      <td>1228</td>\n",
       "      <td>Sujo de óleo</td>\n",
       "      <td>2024-04-11</td>\n",
       "      <td>2024-04-18</td>\n",
       "      <td>7</td>\n",
       "    </tr>\n",
       "    <tr>\n",
       "      <th>193462</th>\n",
       "      <td>C1284.0000R</td>\n",
       "      <td>1133</td>\n",
       "      <td>Trinca por choque térmico</td>\n",
       "      <td>2024-03-21</td>\n",
       "      <td>2024-03-25</td>\n",
       "      <td>4</td>\n",
       "    </tr>\n",
       "    <tr>\n",
       "      <th>193206</th>\n",
       "      <td>C1284.0000R</td>\n",
       "      <td>927</td>\n",
       "      <td>Sujo de óleo</td>\n",
       "      <td>2024-01-25</td>\n",
       "      <td>2024-01-28</td>\n",
       "      <td>3</td>\n",
       "    </tr>\n",
       "    <tr>\n",
       "      <th>193619</th>\n",
       "      <td>C0121.0000R</td>\n",
       "      <td>840</td>\n",
       "      <td>Sujo de óleo</td>\n",
       "      <td>2024-04-04</td>\n",
       "      <td>2024-04-08</td>\n",
       "      <td>4</td>\n",
       "    </tr>\n",
       "    <tr>\n",
       "      <th>194113</th>\n",
       "      <td>C0104.0000R</td>\n",
       "      <td>777</td>\n",
       "      <td>Fora de cor</td>\n",
       "      <td>2024-06-22</td>\n",
       "      <td>2024-06-25</td>\n",
       "      <td>3</td>\n",
       "    </tr>\n",
       "    <tr>\n",
       "      <th>193694</th>\n",
       "      <td>C0529.0000R</td>\n",
       "      <td>770</td>\n",
       "      <td>Sujo de óleo</td>\n",
       "      <td>2024-04-28</td>\n",
       "      <td>2024-05-02</td>\n",
       "      <td>4</td>\n",
       "    </tr>\n",
       "    <tr>\n",
       "      <th>193973</th>\n",
       "      <td>C1165.0000R</td>\n",
       "      <td>757</td>\n",
       "      <td>Parada de Máquina em Troca</td>\n",
       "      <td>2024-06-15</td>\n",
       "      <td>2024-06-19</td>\n",
       "      <td>4</td>\n",
       "    </tr>\n",
       "    <tr>\n",
       "      <th>193783</th>\n",
       "      <td>C1215.0000R</td>\n",
       "      <td>750</td>\n",
       "      <td>Sujo de óleo</td>\n",
       "      <td>2024-05-02</td>\n",
       "      <td>2024-05-04</td>\n",
       "      <td>2</td>\n",
       "    </tr>\n",
       "    <tr>\n",
       "      <th>194029</th>\n",
       "      <td>C0132.0000R</td>\n",
       "      <td>708</td>\n",
       "      <td>Sujo de óleo</td>\n",
       "      <td>2024-06-02</td>\n",
       "      <td>2024-06-05</td>\n",
       "      <td>3</td>\n",
       "    </tr>\n",
       "    <tr>\n",
       "      <th>193537</th>\n",
       "      <td>C1203.0000R</td>\n",
       "      <td>682</td>\n",
       "      <td>Sujo de óleo</td>\n",
       "      <td>2024-04-01</td>\n",
       "      <td>2024-04-04</td>\n",
       "      <td>3</td>\n",
       "    </tr>\n",
       "    <tr>\n",
       "      <th>193689</th>\n",
       "      <td>C1299.0000R</td>\n",
       "      <td>619</td>\n",
       "      <td>Sujo de óleo</td>\n",
       "      <td>2024-04-22</td>\n",
       "      <td>2024-04-24</td>\n",
       "      <td>2</td>\n",
       "    </tr>\n",
       "    <tr>\n",
       "      <th>193671</th>\n",
       "      <td>C0593.0000R</td>\n",
       "      <td>538</td>\n",
       "      <td>Sujo de óleo</td>\n",
       "      <td>2024-04-08</td>\n",
       "      <td>2024-04-11</td>\n",
       "      <td>3</td>\n",
       "    </tr>\n",
       "    <tr>\n",
       "      <th>193535</th>\n",
       "      <td>C1332.0000V</td>\n",
       "      <td>538</td>\n",
       "      <td>Sujo de óleo</td>\n",
       "      <td>2024-04-24</td>\n",
       "      <td>2024-04-26</td>\n",
       "      <td>2</td>\n",
       "    </tr>\n",
       "    <tr>\n",
       "      <th>193972</th>\n",
       "      <td>C1203.0000R</td>\n",
       "      <td>528</td>\n",
       "      <td>Sujo de óleo</td>\n",
       "      <td>2024-06-06</td>\n",
       "      <td>2024-06-08</td>\n",
       "      <td>2</td>\n",
       "    </tr>\n",
       "    <tr>\n",
       "      <th>193686</th>\n",
       "      <td>C1239.0000V</td>\n",
       "      <td>492</td>\n",
       "      <td>Dobra</td>\n",
       "      <td>2024-04-20</td>\n",
       "      <td>2024-04-22</td>\n",
       "      <td>2</td>\n",
       "    </tr>\n",
       "    <tr>\n",
       "      <th>193937</th>\n",
       "      <td>C1172.0000R</td>\n",
       "      <td>483</td>\n",
       "      <td>Sujo de óleo</td>\n",
       "      <td>2024-05-31</td>\n",
       "      <td>2024-06-02</td>\n",
       "      <td>2</td>\n",
       "    </tr>\n",
       "    <tr>\n",
       "      <th>193692</th>\n",
       "      <td>C0139.0000R</td>\n",
       "      <td>476</td>\n",
       "      <td>Sujo de óleo</td>\n",
       "      <td>2024-04-26</td>\n",
       "      <td>2024-04-28</td>\n",
       "      <td>2</td>\n",
       "    </tr>\n",
       "    <tr>\n",
       "      <th>194057</th>\n",
       "      <td>C1164.0000R</td>\n",
       "      <td>458</td>\n",
       "      <td>Sujo de óleo</td>\n",
       "      <td>2024-06-19</td>\n",
       "      <td>2024-06-21</td>\n",
       "      <td>2</td>\n",
       "    </tr>\n",
       "    <tr>\n",
       "      <th>193112</th>\n",
       "      <td>C1164.0000R</td>\n",
       "      <td>422</td>\n",
       "      <td>Sujo de óleo</td>\n",
       "      <td>2024-01-01</td>\n",
       "      <td>2024-01-03</td>\n",
       "      <td>2</td>\n",
       "    </tr>\n",
       "    <tr>\n",
       "      <th>193688</th>\n",
       "      <td>C1349.0000V</td>\n",
       "      <td>390</td>\n",
       "      <td>Sujo de óleo</td>\n",
       "      <td>2024-04-18</td>\n",
       "      <td>2024-04-20</td>\n",
       "      <td>2</td>\n",
       "    </tr>\n",
       "    <tr>\n",
       "      <th>193459</th>\n",
       "      <td>C0068.0000R</td>\n",
       "      <td>357</td>\n",
       "      <td>Sujo de óleo</td>\n",
       "      <td>2024-03-11</td>\n",
       "      <td>2024-03-13</td>\n",
       "      <td>2</td>\n",
       "    </tr>\n",
       "    <tr>\n",
       "      <th>193208</th>\n",
       "      <td>C0104.0000R</td>\n",
       "      <td>219</td>\n",
       "      <td>Sujo de óleo</td>\n",
       "      <td>2024-02-07</td>\n",
       "      <td>2024-02-08</td>\n",
       "      <td>1</td>\n",
       "    </tr>\n",
       "  </tbody>\n",
       "</table>\n",
       "</div>"
      ],
      "text/plain": [
       "                   Ref. do Artigo  Total de Defeitos  \\\n",
       "Ordem de trabalhos                                     \n",
       "193342                C0516.0000R               3568   \n",
       "193164                C1280.0000R               2574   \n",
       "193782                C1265.0000R               2263   \n",
       "193207                C1298.0000R               1953   \n",
       "192970                C0516.0000R               1941   \n",
       "193784                C1203.0000R               1930   \n",
       "193209                C0509.0000R               1663   \n",
       "193368                C1137.0000R               1581   \n",
       "193882                C1268.0000R               1521   \n",
       "193594                C1137.0000R               1401   \n",
       "193463                C1298.0000R               1388   \n",
       "194121                C0516.0000R               1380   \n",
       "193852                C1267.0000R               1370   \n",
       "193533                C1165.0000R               1228   \n",
       "193462                C1284.0000R               1133   \n",
       "193206                C1284.0000R                927   \n",
       "193619                C0121.0000R                840   \n",
       "194113                C0104.0000R                777   \n",
       "193694                C0529.0000R                770   \n",
       "193973                C1165.0000R                757   \n",
       "193783                C1215.0000R                750   \n",
       "194029                C0132.0000R                708   \n",
       "193537                C1203.0000R                682   \n",
       "193689                C1299.0000R                619   \n",
       "193671                C0593.0000R                538   \n",
       "193535                C1332.0000V                538   \n",
       "193972                C1203.0000R                528   \n",
       "193686                C1239.0000V                492   \n",
       "193937                C1172.0000R                483   \n",
       "193692                C0139.0000R                476   \n",
       "194057                C1164.0000R                458   \n",
       "193112                C1164.0000R                422   \n",
       "193688                C1349.0000V                390   \n",
       "193459                C0068.0000R                357   \n",
       "193208                C0104.0000R                219   \n",
       "\n",
       "                        Defeito Mais Frequente Data_Inicio   Data_Fim  \\\n",
       "Ordem de trabalhos                                                      \n",
       "193342                            Sujo de óleo  2024-02-21 2024-03-11   \n",
       "193164                            Sujo de óleo  2024-01-11 2024-01-23   \n",
       "193782                                   Dobra  2024-05-15 2024-05-25   \n",
       "193207                            Sujo de óleo  2024-01-28 2024-02-06   \n",
       "192970                            Sujo de óleo  2024-01-03 2024-01-11   \n",
       "193784                            Sujo de óleo  2024-05-04 2024-05-15   \n",
       "193209                            Sujo de óleo  2024-02-08 2024-02-14   \n",
       "193368                            Sujo de óleo  2024-02-14 2024-02-21   \n",
       "193882                            Sujo de óleo  2024-06-08 2024-06-15   \n",
       "193594                            Sujo de óleo  2024-03-25 2024-04-01   \n",
       "193463                            Sujo de óleo  2024-03-13 2024-03-20   \n",
       "194121                            Sujo de óleo  2024-06-25 2024-07-01   \n",
       "193852                            Sujo de óleo  2024-05-25 2024-05-31   \n",
       "193533                            Sujo de óleo  2024-04-11 2024-04-18   \n",
       "193462               Trinca por choque térmico  2024-03-21 2024-03-25   \n",
       "193206                            Sujo de óleo  2024-01-25 2024-01-28   \n",
       "193619                            Sujo de óleo  2024-04-04 2024-04-08   \n",
       "194113                             Fora de cor  2024-06-22 2024-06-25   \n",
       "193694                            Sujo de óleo  2024-04-28 2024-05-02   \n",
       "193973              Parada de Máquina em Troca  2024-06-15 2024-06-19   \n",
       "193783                            Sujo de óleo  2024-05-02 2024-05-04   \n",
       "194029                            Sujo de óleo  2024-06-02 2024-06-05   \n",
       "193537                            Sujo de óleo  2024-04-01 2024-04-04   \n",
       "193689                            Sujo de óleo  2024-04-22 2024-04-24   \n",
       "193671                            Sujo de óleo  2024-04-08 2024-04-11   \n",
       "193535                            Sujo de óleo  2024-04-24 2024-04-26   \n",
       "193972                            Sujo de óleo  2024-06-06 2024-06-08   \n",
       "193686                                   Dobra  2024-04-20 2024-04-22   \n",
       "193937                            Sujo de óleo  2024-05-31 2024-06-02   \n",
       "193692                            Sujo de óleo  2024-04-26 2024-04-28   \n",
       "194057                            Sujo de óleo  2024-06-19 2024-06-21   \n",
       "193112                            Sujo de óleo  2024-01-01 2024-01-03   \n",
       "193688                            Sujo de óleo  2024-04-18 2024-04-20   \n",
       "193459                            Sujo de óleo  2024-03-11 2024-03-13   \n",
       "193208                            Sujo de óleo  2024-02-07 2024-02-08   \n",
       "\n",
       "                    Dias de Ordem  \n",
       "Ordem de trabalhos                 \n",
       "193342                         19  \n",
       "193164                         12  \n",
       "193782                         10  \n",
       "193207                          9  \n",
       "192970                          8  \n",
       "193784                         11  \n",
       "193209                          6  \n",
       "193368                          7  \n",
       "193882                          7  \n",
       "193594                          7  \n",
       "193463                          7  \n",
       "194121                          6  \n",
       "193852                          6  \n",
       "193533                          7  \n",
       "193462                          4  \n",
       "193206                          3  \n",
       "193619                          4  \n",
       "194113                          3  \n",
       "193694                          4  \n",
       "193973                          4  \n",
       "193783                          2  \n",
       "194029                          3  \n",
       "193537                          3  \n",
       "193689                          2  \n",
       "193671                          3  \n",
       "193535                          2  \n",
       "193972                          2  \n",
       "193686                          2  \n",
       "193937                          2  \n",
       "193692                          2  \n",
       "194057                          2  \n",
       "193112                          2  \n",
       "193688                          2  \n",
       "193459                          2  \n",
       "193208                          1  "
      ]
     },
     "execution_count": 451,
     "metadata": {},
     "output_type": "execute_result"
    }
   ],
   "source": [
    "resumo_defeitos_por_ordem['Data_Inicio'] = pd.to_datetime(resumo_defeitos_por_ordem['Data_Inicio'], errors='coerce')\n",
    "resumo_defeitos_por_ordem['Data_Fim'] = pd.to_datetime(resumo_defeitos_por_ordem['Data_Fim'], errors='coerce')\n",
    "\n",
    "resumo_defeitos_por_ordem['Dias de Ordem'] = (resumo_defeitos_por_ordem['Data_Fim'] - resumo_defeitos_por_ordem['Data_Inicio']).dt.days\n",
    "\n",
    "resumo_defeitos_por_ordem"
   ]
  },
  {
   "cell_type": "markdown",
   "metadata": {},
   "source": [
    "### Gráfico relacionando tempo de ordem e total de defeitos"
   ]
  },
  {
   "cell_type": "code",
   "execution_count": 452,
   "metadata": {},
   "outputs": [
    {
     "data": {
      "application/vnd.plotly.v1+json": {
       "config": {
        "plotlyServerURL": "https://plot.ly"
       },
       "data": [
        {
         "hovertemplate": "Dias de Ordem=%{x}<br>Total de Defeitos=%{y}<extra></extra>",
         "legendgroup": "",
         "marker": {
          "color": "#636efa",
          "symbol": "circle"
         },
         "mode": "markers",
         "name": "",
         "orientation": "v",
         "showlegend": false,
         "type": "scatter",
         "x": [
          19,
          12,
          10,
          9,
          8,
          11,
          6,
          7,
          7,
          7,
          7,
          6,
          6,
          7,
          4,
          3,
          4,
          3,
          4,
          4,
          2,
          3,
          3,
          2,
          3,
          2,
          2,
          2,
          2,
          2,
          2,
          2,
          2,
          2,
          1
         ],
         "xaxis": "x",
         "y": [
          3568,
          2574,
          2263,
          1953,
          1941,
          1930,
          1663,
          1581,
          1521,
          1401,
          1388,
          1380,
          1370,
          1228,
          1133,
          927,
          840,
          777,
          770,
          757,
          750,
          708,
          682,
          619,
          538,
          538,
          528,
          492,
          483,
          476,
          458,
          422,
          390,
          357,
          219
         ],
         "yaxis": "y"
        }
       ],
       "layout": {
        "legend": {
         "tracegroupgap": 0
        },
        "template": {
         "data": {
          "bar": [
           {
            "error_x": {
             "color": "#2a3f5f"
            },
            "error_y": {
             "color": "#2a3f5f"
            },
            "marker": {
             "line": {
              "color": "#E5ECF6",
              "width": 0.5
             },
             "pattern": {
              "fillmode": "overlay",
              "size": 10,
              "solidity": 0.2
             }
            },
            "type": "bar"
           }
          ],
          "barpolar": [
           {
            "marker": {
             "line": {
              "color": "#E5ECF6",
              "width": 0.5
             },
             "pattern": {
              "fillmode": "overlay",
              "size": 10,
              "solidity": 0.2
             }
            },
            "type": "barpolar"
           }
          ],
          "carpet": [
           {
            "aaxis": {
             "endlinecolor": "#2a3f5f",
             "gridcolor": "white",
             "linecolor": "white",
             "minorgridcolor": "white",
             "startlinecolor": "#2a3f5f"
            },
            "baxis": {
             "endlinecolor": "#2a3f5f",
             "gridcolor": "white",
             "linecolor": "white",
             "minorgridcolor": "white",
             "startlinecolor": "#2a3f5f"
            },
            "type": "carpet"
           }
          ],
          "choropleth": [
           {
            "colorbar": {
             "outlinewidth": 0,
             "ticks": ""
            },
            "type": "choropleth"
           }
          ],
          "contour": [
           {
            "colorbar": {
             "outlinewidth": 0,
             "ticks": ""
            },
            "colorscale": [
             [
              0,
              "#0d0887"
             ],
             [
              0.1111111111111111,
              "#46039f"
             ],
             [
              0.2222222222222222,
              "#7201a8"
             ],
             [
              0.3333333333333333,
              "#9c179e"
             ],
             [
              0.4444444444444444,
              "#bd3786"
             ],
             [
              0.5555555555555556,
              "#d8576b"
             ],
             [
              0.6666666666666666,
              "#ed7953"
             ],
             [
              0.7777777777777778,
              "#fb9f3a"
             ],
             [
              0.8888888888888888,
              "#fdca26"
             ],
             [
              1,
              "#f0f921"
             ]
            ],
            "type": "contour"
           }
          ],
          "contourcarpet": [
           {
            "colorbar": {
             "outlinewidth": 0,
             "ticks": ""
            },
            "type": "contourcarpet"
           }
          ],
          "heatmap": [
           {
            "colorbar": {
             "outlinewidth": 0,
             "ticks": ""
            },
            "colorscale": [
             [
              0,
              "#0d0887"
             ],
             [
              0.1111111111111111,
              "#46039f"
             ],
             [
              0.2222222222222222,
              "#7201a8"
             ],
             [
              0.3333333333333333,
              "#9c179e"
             ],
             [
              0.4444444444444444,
              "#bd3786"
             ],
             [
              0.5555555555555556,
              "#d8576b"
             ],
             [
              0.6666666666666666,
              "#ed7953"
             ],
             [
              0.7777777777777778,
              "#fb9f3a"
             ],
             [
              0.8888888888888888,
              "#fdca26"
             ],
             [
              1,
              "#f0f921"
             ]
            ],
            "type": "heatmap"
           }
          ],
          "heatmapgl": [
           {
            "colorbar": {
             "outlinewidth": 0,
             "ticks": ""
            },
            "colorscale": [
             [
              0,
              "#0d0887"
             ],
             [
              0.1111111111111111,
              "#46039f"
             ],
             [
              0.2222222222222222,
              "#7201a8"
             ],
             [
              0.3333333333333333,
              "#9c179e"
             ],
             [
              0.4444444444444444,
              "#bd3786"
             ],
             [
              0.5555555555555556,
              "#d8576b"
             ],
             [
              0.6666666666666666,
              "#ed7953"
             ],
             [
              0.7777777777777778,
              "#fb9f3a"
             ],
             [
              0.8888888888888888,
              "#fdca26"
             ],
             [
              1,
              "#f0f921"
             ]
            ],
            "type": "heatmapgl"
           }
          ],
          "histogram": [
           {
            "marker": {
             "pattern": {
              "fillmode": "overlay",
              "size": 10,
              "solidity": 0.2
             }
            },
            "type": "histogram"
           }
          ],
          "histogram2d": [
           {
            "colorbar": {
             "outlinewidth": 0,
             "ticks": ""
            },
            "colorscale": [
             [
              0,
              "#0d0887"
             ],
             [
              0.1111111111111111,
              "#46039f"
             ],
             [
              0.2222222222222222,
              "#7201a8"
             ],
             [
              0.3333333333333333,
              "#9c179e"
             ],
             [
              0.4444444444444444,
              "#bd3786"
             ],
             [
              0.5555555555555556,
              "#d8576b"
             ],
             [
              0.6666666666666666,
              "#ed7953"
             ],
             [
              0.7777777777777778,
              "#fb9f3a"
             ],
             [
              0.8888888888888888,
              "#fdca26"
             ],
             [
              1,
              "#f0f921"
             ]
            ],
            "type": "histogram2d"
           }
          ],
          "histogram2dcontour": [
           {
            "colorbar": {
             "outlinewidth": 0,
             "ticks": ""
            },
            "colorscale": [
             [
              0,
              "#0d0887"
             ],
             [
              0.1111111111111111,
              "#46039f"
             ],
             [
              0.2222222222222222,
              "#7201a8"
             ],
             [
              0.3333333333333333,
              "#9c179e"
             ],
             [
              0.4444444444444444,
              "#bd3786"
             ],
             [
              0.5555555555555556,
              "#d8576b"
             ],
             [
              0.6666666666666666,
              "#ed7953"
             ],
             [
              0.7777777777777778,
              "#fb9f3a"
             ],
             [
              0.8888888888888888,
              "#fdca26"
             ],
             [
              1,
              "#f0f921"
             ]
            ],
            "type": "histogram2dcontour"
           }
          ],
          "mesh3d": [
           {
            "colorbar": {
             "outlinewidth": 0,
             "ticks": ""
            },
            "type": "mesh3d"
           }
          ],
          "parcoords": [
           {
            "line": {
             "colorbar": {
              "outlinewidth": 0,
              "ticks": ""
             }
            },
            "type": "parcoords"
           }
          ],
          "pie": [
           {
            "automargin": true,
            "type": "pie"
           }
          ],
          "scatter": [
           {
            "fillpattern": {
             "fillmode": "overlay",
             "size": 10,
             "solidity": 0.2
            },
            "type": "scatter"
           }
          ],
          "scatter3d": [
           {
            "line": {
             "colorbar": {
              "outlinewidth": 0,
              "ticks": ""
             }
            },
            "marker": {
             "colorbar": {
              "outlinewidth": 0,
              "ticks": ""
             }
            },
            "type": "scatter3d"
           }
          ],
          "scattercarpet": [
           {
            "marker": {
             "colorbar": {
              "outlinewidth": 0,
              "ticks": ""
             }
            },
            "type": "scattercarpet"
           }
          ],
          "scattergeo": [
           {
            "marker": {
             "colorbar": {
              "outlinewidth": 0,
              "ticks": ""
             }
            },
            "type": "scattergeo"
           }
          ],
          "scattergl": [
           {
            "marker": {
             "colorbar": {
              "outlinewidth": 0,
              "ticks": ""
             }
            },
            "type": "scattergl"
           }
          ],
          "scattermapbox": [
           {
            "marker": {
             "colorbar": {
              "outlinewidth": 0,
              "ticks": ""
             }
            },
            "type": "scattermapbox"
           }
          ],
          "scatterpolar": [
           {
            "marker": {
             "colorbar": {
              "outlinewidth": 0,
              "ticks": ""
             }
            },
            "type": "scatterpolar"
           }
          ],
          "scatterpolargl": [
           {
            "marker": {
             "colorbar": {
              "outlinewidth": 0,
              "ticks": ""
             }
            },
            "type": "scatterpolargl"
           }
          ],
          "scatterternary": [
           {
            "marker": {
             "colorbar": {
              "outlinewidth": 0,
              "ticks": ""
             }
            },
            "type": "scatterternary"
           }
          ],
          "surface": [
           {
            "colorbar": {
             "outlinewidth": 0,
             "ticks": ""
            },
            "colorscale": [
             [
              0,
              "#0d0887"
             ],
             [
              0.1111111111111111,
              "#46039f"
             ],
             [
              0.2222222222222222,
              "#7201a8"
             ],
             [
              0.3333333333333333,
              "#9c179e"
             ],
             [
              0.4444444444444444,
              "#bd3786"
             ],
             [
              0.5555555555555556,
              "#d8576b"
             ],
             [
              0.6666666666666666,
              "#ed7953"
             ],
             [
              0.7777777777777778,
              "#fb9f3a"
             ],
             [
              0.8888888888888888,
              "#fdca26"
             ],
             [
              1,
              "#f0f921"
             ]
            ],
            "type": "surface"
           }
          ],
          "table": [
           {
            "cells": {
             "fill": {
              "color": "#EBF0F8"
             },
             "line": {
              "color": "white"
             }
            },
            "header": {
             "fill": {
              "color": "#C8D4E3"
             },
             "line": {
              "color": "white"
             }
            },
            "type": "table"
           }
          ]
         },
         "layout": {
          "annotationdefaults": {
           "arrowcolor": "#2a3f5f",
           "arrowhead": 0,
           "arrowwidth": 1
          },
          "autotypenumbers": "strict",
          "coloraxis": {
           "colorbar": {
            "outlinewidth": 0,
            "ticks": ""
           }
          },
          "colorscale": {
           "diverging": [
            [
             0,
             "#8e0152"
            ],
            [
             0.1,
             "#c51b7d"
            ],
            [
             0.2,
             "#de77ae"
            ],
            [
             0.3,
             "#f1b6da"
            ],
            [
             0.4,
             "#fde0ef"
            ],
            [
             0.5,
             "#f7f7f7"
            ],
            [
             0.6,
             "#e6f5d0"
            ],
            [
             0.7,
             "#b8e186"
            ],
            [
             0.8,
             "#7fbc41"
            ],
            [
             0.9,
             "#4d9221"
            ],
            [
             1,
             "#276419"
            ]
           ],
           "sequential": [
            [
             0,
             "#0d0887"
            ],
            [
             0.1111111111111111,
             "#46039f"
            ],
            [
             0.2222222222222222,
             "#7201a8"
            ],
            [
             0.3333333333333333,
             "#9c179e"
            ],
            [
             0.4444444444444444,
             "#bd3786"
            ],
            [
             0.5555555555555556,
             "#d8576b"
            ],
            [
             0.6666666666666666,
             "#ed7953"
            ],
            [
             0.7777777777777778,
             "#fb9f3a"
            ],
            [
             0.8888888888888888,
             "#fdca26"
            ],
            [
             1,
             "#f0f921"
            ]
           ],
           "sequentialminus": [
            [
             0,
             "#0d0887"
            ],
            [
             0.1111111111111111,
             "#46039f"
            ],
            [
             0.2222222222222222,
             "#7201a8"
            ],
            [
             0.3333333333333333,
             "#9c179e"
            ],
            [
             0.4444444444444444,
             "#bd3786"
            ],
            [
             0.5555555555555556,
             "#d8576b"
            ],
            [
             0.6666666666666666,
             "#ed7953"
            ],
            [
             0.7777777777777778,
             "#fb9f3a"
            ],
            [
             0.8888888888888888,
             "#fdca26"
            ],
            [
             1,
             "#f0f921"
            ]
           ]
          },
          "colorway": [
           "#636efa",
           "#EF553B",
           "#00cc96",
           "#ab63fa",
           "#FFA15A",
           "#19d3f3",
           "#FF6692",
           "#B6E880",
           "#FF97FF",
           "#FECB52"
          ],
          "font": {
           "color": "#2a3f5f"
          },
          "geo": {
           "bgcolor": "white",
           "lakecolor": "white",
           "landcolor": "#E5ECF6",
           "showlakes": true,
           "showland": true,
           "subunitcolor": "white"
          },
          "hoverlabel": {
           "align": "left"
          },
          "hovermode": "closest",
          "mapbox": {
           "style": "light"
          },
          "paper_bgcolor": "white",
          "plot_bgcolor": "#E5ECF6",
          "polar": {
           "angularaxis": {
            "gridcolor": "white",
            "linecolor": "white",
            "ticks": ""
           },
           "bgcolor": "#E5ECF6",
           "radialaxis": {
            "gridcolor": "white",
            "linecolor": "white",
            "ticks": ""
           }
          },
          "scene": {
           "xaxis": {
            "backgroundcolor": "#E5ECF6",
            "gridcolor": "white",
            "gridwidth": 2,
            "linecolor": "white",
            "showbackground": true,
            "ticks": "",
            "zerolinecolor": "white"
           },
           "yaxis": {
            "backgroundcolor": "#E5ECF6",
            "gridcolor": "white",
            "gridwidth": 2,
            "linecolor": "white",
            "showbackground": true,
            "ticks": "",
            "zerolinecolor": "white"
           },
           "zaxis": {
            "backgroundcolor": "#E5ECF6",
            "gridcolor": "white",
            "gridwidth": 2,
            "linecolor": "white",
            "showbackground": true,
            "ticks": "",
            "zerolinecolor": "white"
           }
          },
          "shapedefaults": {
           "line": {
            "color": "#2a3f5f"
           }
          },
          "ternary": {
           "aaxis": {
            "gridcolor": "white",
            "linecolor": "white",
            "ticks": ""
           },
           "baxis": {
            "gridcolor": "white",
            "linecolor": "white",
            "ticks": ""
           },
           "bgcolor": "#E5ECF6",
           "caxis": {
            "gridcolor": "white",
            "linecolor": "white",
            "ticks": ""
           }
          },
          "title": {
           "x": 0.05
          },
          "xaxis": {
           "automargin": true,
           "gridcolor": "white",
           "linecolor": "white",
           "ticks": "",
           "title": {
            "standoff": 15
           },
           "zerolinecolor": "white",
           "zerolinewidth": 2
          },
          "yaxis": {
           "automargin": true,
           "gridcolor": "white",
           "linecolor": "white",
           "ticks": "",
           "title": {
            "standoff": 15
           },
           "zerolinecolor": "white",
           "zerolinewidth": 2
          }
         }
        },
        "title": {
         "text": "Dias de Ordem vs Total de Defeitos"
        },
        "xaxis": {
         "anchor": "y",
         "domain": [
          0,
          1
         ],
         "title": {
          "text": "Dias de Ordem"
         }
        },
        "yaxis": {
         "anchor": "x",
         "domain": [
          0,
          1
         ],
         "title": {
          "text": "Total de Defeitos"
         }
        }
       }
      }
     },
     "metadata": {},
     "output_type": "display_data"
    }
   ],
   "source": [
    "fig_scatter = px.scatter(resumo_defeitos_por_ordem,\n",
    "                         x='Dias de Ordem',\n",
    "                         y='Total de Defeitos',\n",
    "                         title='Dias de Ordem vs Total de Defeitos',\n",
    "                         labels={'Dias de Ordem': 'Dias de Ordem', 'Total de Defeitos': 'Total de Defeitos'})\n",
    "fig_scatter.show()"
   ]
  },
  {
   "cell_type": "markdown",
   "metadata": {},
   "source": [
    "## Calculando o total de defeitos por cada ``Data`` e qual o defeito mais frequente de cada ``Data``"
   ]
  },
  {
   "cell_type": "code",
   "execution_count": 453,
   "metadata": {},
   "outputs": [
    {
     "data": {
      "text/html": [
       "<div>\n",
       "<style scoped>\n",
       "    .dataframe tbody tr th:only-of-type {\n",
       "        vertical-align: middle;\n",
       "    }\n",
       "\n",
       "    .dataframe tbody tr th {\n",
       "        vertical-align: top;\n",
       "    }\n",
       "\n",
       "    .dataframe thead th {\n",
       "        text-align: right;\n",
       "    }\n",
       "</style>\n",
       "<table border=\"1\" class=\"dataframe\">\n",
       "  <thead>\n",
       "    <tr style=\"text-align: right;\">\n",
       "      <th></th>\n",
       "      <th>Total de Defeitos</th>\n",
       "      <th>Defeito Mais Frequente</th>\n",
       "    </tr>\n",
       "    <tr>\n",
       "      <th>Data</th>\n",
       "      <th></th>\n",
       "      <th></th>\n",
       "    </tr>\n",
       "  </thead>\n",
       "  <tbody>\n",
       "    <tr>\n",
       "      <th>2024-01-01</th>\n",
       "      <td>159</td>\n",
       "      <td>Sujo de óleo</td>\n",
       "    </tr>\n",
       "    <tr>\n",
       "      <th>2024-01-02</th>\n",
       "      <td>203</td>\n",
       "      <td>Sujo de óleo</td>\n",
       "    </tr>\n",
       "    <tr>\n",
       "      <th>2024-01-03</th>\n",
       "      <td>222</td>\n",
       "      <td>Sujo de óleo</td>\n",
       "    </tr>\n",
       "    <tr>\n",
       "      <th>2024-01-04</th>\n",
       "      <td>249</td>\n",
       "      <td>Sujo de óleo</td>\n",
       "    </tr>\n",
       "    <tr>\n",
       "      <th>2024-01-05</th>\n",
       "      <td>268</td>\n",
       "      <td>Sujo de óleo</td>\n",
       "    </tr>\n",
       "    <tr>\n",
       "      <th>...</th>\n",
       "      <td>...</td>\n",
       "      <td>...</td>\n",
       "    </tr>\n",
       "    <tr>\n",
       "      <th>2024-06-27</th>\n",
       "      <td>218</td>\n",
       "      <td>Sujo de óleo</td>\n",
       "    </tr>\n",
       "    <tr>\n",
       "      <th>2024-06-28</th>\n",
       "      <td>218</td>\n",
       "      <td>Sujo de óleo</td>\n",
       "    </tr>\n",
       "    <tr>\n",
       "      <th>2024-06-29</th>\n",
       "      <td>213</td>\n",
       "      <td>Sujo de óleo</td>\n",
       "    </tr>\n",
       "    <tr>\n",
       "      <th>2024-06-30</th>\n",
       "      <td>256</td>\n",
       "      <td>Sujo de óleo</td>\n",
       "    </tr>\n",
       "    <tr>\n",
       "      <th>2024-07-01</th>\n",
       "      <td>1</td>\n",
       "      <td>Bolha</td>\n",
       "    </tr>\n",
       "  </tbody>\n",
       "</table>\n",
       "<p>182 rows × 2 columns</p>\n",
       "</div>"
      ],
      "text/plain": [
       "            Total de Defeitos Defeito Mais Frequente\n",
       "Data                                                \n",
       "2024-01-01                159           Sujo de óleo\n",
       "2024-01-02                203           Sujo de óleo\n",
       "2024-01-03                222           Sujo de óleo\n",
       "2024-01-04                249           Sujo de óleo\n",
       "2024-01-05                268           Sujo de óleo\n",
       "...                       ...                    ...\n",
       "2024-06-27                218           Sujo de óleo\n",
       "2024-06-28                218           Sujo de óleo\n",
       "2024-06-29                213           Sujo de óleo\n",
       "2024-06-30                256           Sujo de óleo\n",
       "2024-07-01                  1                  Bolha\n",
       "\n",
       "[182 rows x 2 columns]"
      ]
     },
     "execution_count": 453,
     "metadata": {},
     "output_type": "execute_result"
    }
   ],
   "source": [
    "frequencia_defeitos_reset = frequencia_defeitos.reset_index()\n",
    "\n",
    "total_defeitos_por_data = frequencia_defeitos.groupby('Data')['Quantidade'].sum()\n",
    "\n",
    "defeito_mais_frequente_por_data_idx = frequencia_defeitos.groupby('Data')['Quantidade'].idxmax()\n",
    "\n",
    "defeito_mais_frequente_por_data = defeito_mais_frequente_por_data_idx.apply(lambda idx: idx[3])\n",
    "\n",
    "resumo_defeitos_por_data = pd.DataFrame({\n",
    "    'Total de Defeitos': total_defeitos_por_data,\n",
    "    'Defeito Mais Frequente': defeito_mais_frequente_por_data,\n",
    "})\n",
    "\n",
    "resumo_defeitos_por_data = resumo_defeitos_por_data.sort_index()\n",
    "\n",
    "resumo_defeitos_por_data"
   ]
  },
  {
   "cell_type": "markdown",
   "metadata": {},
   "source": [
    "# Trabalhando com Dataframe de medidas da gota e Dataframe de defeitos "
   ]
  },
  {
   "cell_type": "markdown",
   "metadata": {},
   "source": [
    "### Importando Dataframe com as medidas de cada ordem"
   ]
  },
  {
   "cell_type": "code",
   "execution_count": 454,
   "metadata": {},
   "outputs": [],
   "source": [
    "medidas_ordem = pd.read_excel('../dados/media_mensal_ordem_completa.xlsx')\n",
    "\n",
    "medidas_ordem.set_index(['Ordem de prod', 'Data de prod'], inplace=True)"
   ]
  },
  {
   "cell_type": "markdown",
   "metadata": {},
   "source": [
    "### Unindo os dois Dataframes com os mesmos índices (`Ordem de prod` e `Data de prod`)"
   ]
  },
  {
   "cell_type": "code",
   "execution_count": null,
   "metadata": {},
   "outputs": [],
   "source": [
    "resumo_defeitos_por_data_reset = resumo_defeitos_por_data.reset_index()\n",
    "\n",
    "resumo_defeitos_por_data_reset.rename(columns={'Data': 'Data de prod'}, inplace=True)\n",
    "\n",
    "medidas_ordem_reset = medidas_ordem.reset_index()\n",
    "\n",
    "medidas_ordem_reset['Data de prod'] = pd.to_datetime(medidas_ordem_reset['Data de prod'])\n",
    "resumo_defeitos_por_data_reset['Data de prod'] = pd.to_datetime(resumo_defeitos_por_data_reset['Data de prod'])\n",
    "\n",
    "resumo_defeitos_por_ordem_reset = resumo_defeitos_por_ordem_reset.set_index('Ordem de trabalhos')\n",
    "\n",
    "df_combinado = pd.merge(\n",
    "    medidas_ordem_reset, \n",
    "    resumo_defeitos_por_data_reset, \n",
    "    on='Data de prod', \n",
    "    how='inner'\n",
    ")\n",
    "\n",
    "df_combinado = pd.merge(\n",
    "    df_combinado, \n",
    "    resumo_defeitos_por_ordem_reset[['Ref. do Artigo']], \n",
    "    left_on='Ordem de prod', \n",
    "    right_index=True, \n",
    "    how='left'\n",
    ")\n",
    "\n",
    "df_combinado = df_combinado.set_index(['Ordem de prod', 'Ref. do Artigo', 'Data de prod'])\n",
    "\n",
    "df_combinado.sort_index(inplace=True)"
   ]
  },
  {
   "cell_type": "code",
   "execution_count": 463,
   "metadata": {},
   "outputs": [
    {
     "data": {
      "text/html": [
       "<div>\n",
       "<style scoped>\n",
       "    .dataframe tbody tr th:only-of-type {\n",
       "        vertical-align: middle;\n",
       "    }\n",
       "\n",
       "    .dataframe tbody tr th {\n",
       "        vertical-align: top;\n",
       "    }\n",
       "\n",
       "    .dataframe thead th {\n",
       "        text-align: right;\n",
       "    }\n",
       "</style>\n",
       "<table border=\"1\" class=\"dataframe\">\n",
       "  <thead>\n",
       "    <tr style=\"text-align: right;\">\n",
       "      <th></th>\n",
       "      <th></th>\n",
       "      <th></th>\n",
       "      <th>Gotas cortadas (toneladas)</th>\n",
       "      <th>Peso médio (g)</th>\n",
       "      <th>Cortes por minuto</th>\n",
       "      <th>Comprimento médio (mm)</th>\n",
       "      <th>Diâmetro</th>\n",
       "      <th>Temperatura (F°)</th>\n",
       "      <th>Tras-PV (F°)</th>\n",
       "      <th>Fritas-PV (F°)</th>\n",
       "      <th>Agit-PV (F°)</th>\n",
       "      <th>Meio-PV (F°)</th>\n",
       "      <th>Frente-PV (F°)</th>\n",
       "      <th>Total de Defeitos</th>\n",
       "      <th>Defeito Mais Frequente</th>\n",
       "    </tr>\n",
       "    <tr>\n",
       "      <th>Ordem de prod</th>\n",
       "      <th>Ref. do Artigo</th>\n",
       "      <th>Data de prod</th>\n",
       "      <th></th>\n",
       "      <th></th>\n",
       "      <th></th>\n",
       "      <th></th>\n",
       "      <th></th>\n",
       "      <th></th>\n",
       "      <th></th>\n",
       "      <th></th>\n",
       "      <th></th>\n",
       "      <th></th>\n",
       "      <th></th>\n",
       "      <th></th>\n",
       "      <th></th>\n",
       "    </tr>\n",
       "  </thead>\n",
       "  <tbody>\n",
       "    <tr>\n",
       "      <th rowspan=\"5\" valign=\"top\">192970</th>\n",
       "      <th rowspan=\"5\" valign=\"top\">C0516.0000R</th>\n",
       "      <th>2024-01-03</th>\n",
       "      <td>20.948</td>\n",
       "      <td>169.3</td>\n",
       "      <td>90.0</td>\n",
       "      <td>110.4</td>\n",
       "      <td>32.5</td>\n",
       "      <td>2505.02</td>\n",
       "      <td>2341.1</td>\n",
       "      <td>2302.9</td>\n",
       "      <td>2258.9</td>\n",
       "      <td>2201.6</td>\n",
       "      <td>2176.4</td>\n",
       "      <td>222</td>\n",
       "      <td>Sujo de óleo</td>\n",
       "    </tr>\n",
       "    <tr>\n",
       "      <th>2024-01-04</th>\n",
       "      <td>21.022</td>\n",
       "      <td>169.7</td>\n",
       "      <td>89.0</td>\n",
       "      <td>85.6</td>\n",
       "      <td>18.1</td>\n",
       "      <td>3094.52</td>\n",
       "      <td>2349.6</td>\n",
       "      <td>2299.8</td>\n",
       "      <td>2249.2</td>\n",
       "      <td>2201.0</td>\n",
       "      <td>2173.0</td>\n",
       "      <td>249</td>\n",
       "      <td>Sujo de óleo</td>\n",
       "    </tr>\n",
       "    <tr>\n",
       "      <th>2024-01-05</th>\n",
       "      <td>21.449</td>\n",
       "      <td>173.6</td>\n",
       "      <td>86.0</td>\n",
       "      <td>140.5</td>\n",
       "      <td>32.9</td>\n",
       "      <td>3369.74</td>\n",
       "      <td>2350.0</td>\n",
       "      <td>2300.0</td>\n",
       "      <td>2250.0</td>\n",
       "      <td>2210.0</td>\n",
       "      <td>2175.0</td>\n",
       "      <td>268</td>\n",
       "      <td>Sujo de óleo</td>\n",
       "    </tr>\n",
       "    <tr>\n",
       "      <th>2024-01-06</th>\n",
       "      <td>21.526</td>\n",
       "      <td>170.2</td>\n",
       "      <td>86.0</td>\n",
       "      <td>144.7</td>\n",
       "      <td>32.7</td>\n",
       "      <td>3335.18</td>\n",
       "      <td>2350.0</td>\n",
       "      <td>2300.0</td>\n",
       "      <td>2250.0</td>\n",
       "      <td>2210.0</td>\n",
       "      <td>2175.5</td>\n",
       "      <td>242</td>\n",
       "      <td>Sujo de óleo</td>\n",
       "    </tr>\n",
       "    <tr>\n",
       "      <th>2024-01-07</th>\n",
       "      <td>21.439</td>\n",
       "      <td>171.7</td>\n",
       "      <td>86.7</td>\n",
       "      <td>141.5</td>\n",
       "      <td>30.2</td>\n",
       "      <td>3340.94</td>\n",
       "      <td>2349.6</td>\n",
       "      <td>2300.0</td>\n",
       "      <td>2250.0</td>\n",
       "      <td>2210.0</td>\n",
       "      <td>2177.0</td>\n",
       "      <td>232</td>\n",
       "      <td>Sujo de óleo</td>\n",
       "    </tr>\n",
       "    <tr>\n",
       "      <th>...</th>\n",
       "      <th>...</th>\n",
       "      <th>...</th>\n",
       "      <td>...</td>\n",
       "      <td>...</td>\n",
       "      <td>...</td>\n",
       "      <td>...</td>\n",
       "      <td>...</td>\n",
       "      <td>...</td>\n",
       "      <td>...</td>\n",
       "      <td>...</td>\n",
       "      <td>...</td>\n",
       "      <td>...</td>\n",
       "      <td>...</td>\n",
       "      <td>...</td>\n",
       "      <td>...</td>\n",
       "    </tr>\n",
       "    <tr>\n",
       "      <th rowspan=\"5\" valign=\"top\">194121</th>\n",
       "      <th rowspan=\"5\" valign=\"top\">C0516.0000R</th>\n",
       "      <th>2024-06-26</th>\n",
       "      <td>21.412</td>\n",
       "      <td>169.0</td>\n",
       "      <td>88.0</td>\n",
       "      <td>124.3</td>\n",
       "      <td>32.6</td>\n",
       "      <td>1940.00</td>\n",
       "      <td>2340.0</td>\n",
       "      <td>2300.0</td>\n",
       "      <td>2270.0</td>\n",
       "      <td>2230.0</td>\n",
       "      <td>2189.3</td>\n",
       "      <td>258</td>\n",
       "      <td>Sujo de óleo</td>\n",
       "    </tr>\n",
       "    <tr>\n",
       "      <th>2024-06-27</th>\n",
       "      <td>21.447</td>\n",
       "      <td>168.9</td>\n",
       "      <td>88.0</td>\n",
       "      <td>120.2</td>\n",
       "      <td>33.6</td>\n",
       "      <td>2056.28</td>\n",
       "      <td>2340.0</td>\n",
       "      <td>2300.0</td>\n",
       "      <td>2269.6</td>\n",
       "      <td>2229.6</td>\n",
       "      <td>2187.0</td>\n",
       "      <td>218</td>\n",
       "      <td>Sujo de óleo</td>\n",
       "    </tr>\n",
       "    <tr>\n",
       "      <th>2024-06-28</th>\n",
       "      <td>21.491</td>\n",
       "      <td>169.3</td>\n",
       "      <td>88.0</td>\n",
       "      <td>124.1</td>\n",
       "      <td>34.2</td>\n",
       "      <td>2015.42</td>\n",
       "      <td>2340.0</td>\n",
       "      <td>2300.0</td>\n",
       "      <td>2260.0</td>\n",
       "      <td>2220.0</td>\n",
       "      <td>2187.0</td>\n",
       "      <td>218</td>\n",
       "      <td>Sujo de óleo</td>\n",
       "    </tr>\n",
       "    <tr>\n",
       "      <th>2024-06-29</th>\n",
       "      <td>21.419</td>\n",
       "      <td>168.8</td>\n",
       "      <td>88.0</td>\n",
       "      <td>120.0</td>\n",
       "      <td>33.5</td>\n",
       "      <td>2020.28</td>\n",
       "      <td>2340.0</td>\n",
       "      <td>2300.0</td>\n",
       "      <td>2260.0</td>\n",
       "      <td>2220.0</td>\n",
       "      <td>2187.0</td>\n",
       "      <td>213</td>\n",
       "      <td>Sujo de óleo</td>\n",
       "    </tr>\n",
       "    <tr>\n",
       "      <th>2024-06-30</th>\n",
       "      <td>21.548</td>\n",
       "      <td>169.2</td>\n",
       "      <td>88.9</td>\n",
       "      <td>122.9</td>\n",
       "      <td>34.6</td>\n",
       "      <td>2055.56</td>\n",
       "      <td>2340.0</td>\n",
       "      <td>2300.0</td>\n",
       "      <td>2260.0</td>\n",
       "      <td>2220.0</td>\n",
       "      <td>2190.0</td>\n",
       "      <td>256</td>\n",
       "      <td>Sujo de óleo</td>\n",
       "    </tr>\n",
       "  </tbody>\n",
       "</table>\n",
       "<p>200 rows × 13 columns</p>\n",
       "</div>"
      ],
      "text/plain": [
       "                                           Gotas cortadas (toneladas)  \\\n",
       "Ordem de prod Ref. do Artigo Data de prod                               \n",
       "192970        C0516.0000R    2024-01-03                        20.948   \n",
       "                             2024-01-04                        21.022   \n",
       "                             2024-01-05                        21.449   \n",
       "                             2024-01-06                        21.526   \n",
       "                             2024-01-07                        21.439   \n",
       "...                                                               ...   \n",
       "194121        C0516.0000R    2024-06-26                        21.412   \n",
       "                             2024-06-27                        21.447   \n",
       "                             2024-06-28                        21.491   \n",
       "                             2024-06-29                        21.419   \n",
       "                             2024-06-30                        21.548   \n",
       "\n",
       "                                           Peso médio (g)  Cortes por minuto  \\\n",
       "Ordem de prod Ref. do Artigo Data de prod                                      \n",
       "192970        C0516.0000R    2024-01-03             169.3               90.0   \n",
       "                             2024-01-04             169.7               89.0   \n",
       "                             2024-01-05             173.6               86.0   \n",
       "                             2024-01-06             170.2               86.0   \n",
       "                             2024-01-07             171.7               86.7   \n",
       "...                                                   ...                ...   \n",
       "194121        C0516.0000R    2024-06-26             169.0               88.0   \n",
       "                             2024-06-27             168.9               88.0   \n",
       "                             2024-06-28             169.3               88.0   \n",
       "                             2024-06-29             168.8               88.0   \n",
       "                             2024-06-30             169.2               88.9   \n",
       "\n",
       "                                           Comprimento médio (mm)  Diâmetro  \\\n",
       "Ordem de prod Ref. do Artigo Data de prod                                     \n",
       "192970        C0516.0000R    2024-01-03                     110.4      32.5   \n",
       "                             2024-01-04                      85.6      18.1   \n",
       "                             2024-01-05                     140.5      32.9   \n",
       "                             2024-01-06                     144.7      32.7   \n",
       "                             2024-01-07                     141.5      30.2   \n",
       "...                                                           ...       ...   \n",
       "194121        C0516.0000R    2024-06-26                     124.3      32.6   \n",
       "                             2024-06-27                     120.2      33.6   \n",
       "                             2024-06-28                     124.1      34.2   \n",
       "                             2024-06-29                     120.0      33.5   \n",
       "                             2024-06-30                     122.9      34.6   \n",
       "\n",
       "                                           Temperatura (F°)  Tras-PV (F°)  \\\n",
       "Ordem de prod Ref. do Artigo Data de prod                                   \n",
       "192970        C0516.0000R    2024-01-03             2505.02        2341.1   \n",
       "                             2024-01-04             3094.52        2349.6   \n",
       "                             2024-01-05             3369.74        2350.0   \n",
       "                             2024-01-06             3335.18        2350.0   \n",
       "                             2024-01-07             3340.94        2349.6   \n",
       "...                                                     ...           ...   \n",
       "194121        C0516.0000R    2024-06-26             1940.00        2340.0   \n",
       "                             2024-06-27             2056.28        2340.0   \n",
       "                             2024-06-28             2015.42        2340.0   \n",
       "                             2024-06-29             2020.28        2340.0   \n",
       "                             2024-06-30             2055.56        2340.0   \n",
       "\n",
       "                                           Fritas-PV (F°)  Agit-PV (F°)  \\\n",
       "Ordem de prod Ref. do Artigo Data de prod                                 \n",
       "192970        C0516.0000R    2024-01-03            2302.9        2258.9   \n",
       "                             2024-01-04            2299.8        2249.2   \n",
       "                             2024-01-05            2300.0        2250.0   \n",
       "                             2024-01-06            2300.0        2250.0   \n",
       "                             2024-01-07            2300.0        2250.0   \n",
       "...                                                   ...           ...   \n",
       "194121        C0516.0000R    2024-06-26            2300.0        2270.0   \n",
       "                             2024-06-27            2300.0        2269.6   \n",
       "                             2024-06-28            2300.0        2260.0   \n",
       "                             2024-06-29            2300.0        2260.0   \n",
       "                             2024-06-30            2300.0        2260.0   \n",
       "\n",
       "                                           Meio-PV (F°)  Frente-PV (F°)  \\\n",
       "Ordem de prod Ref. do Artigo Data de prod                                 \n",
       "192970        C0516.0000R    2024-01-03          2201.6          2176.4   \n",
       "                             2024-01-04          2201.0          2173.0   \n",
       "                             2024-01-05          2210.0          2175.0   \n",
       "                             2024-01-06          2210.0          2175.5   \n",
       "                             2024-01-07          2210.0          2177.0   \n",
       "...                                                 ...             ...   \n",
       "194121        C0516.0000R    2024-06-26          2230.0          2189.3   \n",
       "                             2024-06-27          2229.6          2187.0   \n",
       "                             2024-06-28          2220.0          2187.0   \n",
       "                             2024-06-29          2220.0          2187.0   \n",
       "                             2024-06-30          2220.0          2190.0   \n",
       "\n",
       "                                           Total de Defeitos  \\\n",
       "Ordem de prod Ref. do Artigo Data de prod                      \n",
       "192970        C0516.0000R    2024-01-03                  222   \n",
       "                             2024-01-04                  249   \n",
       "                             2024-01-05                  268   \n",
       "                             2024-01-06                  242   \n",
       "                             2024-01-07                  232   \n",
       "...                                                      ...   \n",
       "194121        C0516.0000R    2024-06-26                  258   \n",
       "                             2024-06-27                  218   \n",
       "                             2024-06-28                  218   \n",
       "                             2024-06-29                  213   \n",
       "                             2024-06-30                  256   \n",
       "\n",
       "                                          Defeito Mais Frequente  \n",
       "Ordem de prod Ref. do Artigo Data de prod                         \n",
       "192970        C0516.0000R    2024-01-03             Sujo de óleo  \n",
       "                             2024-01-04             Sujo de óleo  \n",
       "                             2024-01-05             Sujo de óleo  \n",
       "                             2024-01-06             Sujo de óleo  \n",
       "                             2024-01-07             Sujo de óleo  \n",
       "...                                                          ...  \n",
       "194121        C0516.0000R    2024-06-26             Sujo de óleo  \n",
       "                             2024-06-27             Sujo de óleo  \n",
       "                             2024-06-28             Sujo de óleo  \n",
       "                             2024-06-29             Sujo de óleo  \n",
       "                             2024-06-30             Sujo de óleo  \n",
       "\n",
       "[200 rows x 13 columns]"
      ]
     },
     "execution_count": 463,
     "metadata": {},
     "output_type": "execute_result"
    }
   ],
   "source": [
    "df_combinado"
   ]
  },
  {
   "cell_type": "code",
   "execution_count": 456,
   "metadata": {},
   "outputs": [
    {
     "name": "stdout",
     "output_type": "stream",
     "text": [
      "<class 'pandas.core.frame.DataFrame'>\n",
      "MultiIndex: 200 entries, (192970, 'C0516.0000R', Timestamp('2024-01-03 00:00:00')) to (194121, 'C0516.0000R', Timestamp('2024-06-30 00:00:00'))\n",
      "Data columns (total 13 columns):\n",
      " #   Column                      Non-Null Count  Dtype  \n",
      "---  ------                      --------------  -----  \n",
      " 0   Gotas cortadas (toneladas)  200 non-null    float64\n",
      " 1   Peso médio (g)              200 non-null    float64\n",
      " 2   Cortes por minuto           200 non-null    float64\n",
      " 3   Comprimento médio (mm)      200 non-null    float64\n",
      " 4   Diâmetro                    200 non-null    float64\n",
      " 5   Temperatura (F°)            200 non-null    float64\n",
      " 6   Tras-PV (F°)                200 non-null    float64\n",
      " 7   Fritas-PV (F°)              200 non-null    float64\n",
      " 8   Agit-PV (F°)                200 non-null    float64\n",
      " 9   Meio-PV (F°)                200 non-null    float64\n",
      " 10  Frente-PV (F°)              200 non-null    float64\n",
      " 11  Total de Defeitos           200 non-null    int64  \n",
      " 12  Defeito Mais Frequente      200 non-null    object \n",
      "dtypes: float64(11), int64(1), object(1)\n",
      "memory usage: 28.7+ KB\n"
     ]
    }
   ],
   "source": [
    "df_combinado.info()"
   ]
  }
 ],
 "metadata": {
  "kernelspec": {
   "display_name": "base",
   "language": "python",
   "name": "python3"
  },
  "language_info": {
   "codemirror_mode": {
    "name": "ipython",
    "version": 3
   },
   "file_extension": ".py",
   "mimetype": "text/x-python",
   "name": "python",
   "nbconvert_exporter": "python",
   "pygments_lexer": "ipython3",
   "version": "3.12.7"
  }
 },
 "nbformat": 4,
 "nbformat_minor": 2
}
