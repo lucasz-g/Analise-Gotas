{
 "cells": [
  {
   "cell_type": "code",
   "execution_count": 41,
   "metadata": {},
   "outputs": [],
   "source": [
    "import pandas as pd\n",
    "import matplotlib.pyplot  as plt\n",
    "import numpy as np\n",
    "import plotly.express as px\n",
    "import plotly.graph_objects as go"
   ]
  },
  {
   "cell_type": "markdown",
   "metadata": {},
   "source": [
    "# Importando Excel de defeitos e transformando para Dataframe Pandas"
   ]
  },
  {
   "cell_type": "markdown",
   "metadata": {},
   "source": [
    "### 38625 = Linhas do primeiro semestre"
   ]
  },
  {
   "cell_type": "code",
   "execution_count": 42,
   "metadata": {},
   "outputs": [],
   "source": [
    "dados = pd.read_excel('../dados/SetoutDefect_20250103_142537_734275983 (1).xlsx', nrows=38625)\n",
    "df = pd.DataFrame(dados)"
   ]
  },
  {
   "cell_type": "code",
   "execution_count": 43,
   "metadata": {},
   "outputs": [
    {
     "data": {
      "text/plain": [
       "Index(['Fábrica', 'Fabrica – Linha', 'Linha', 'Máquina de produção',\n",
       "       'Ordem de trabalhos', 'Ref. do artigo', 'Artigo',\n",
       "       'Ordem de sub-trabalho', 'Produto final', 'Lote', 'Pallet n.º',\n",
       "       'Definir data', 'Localização', 'Localização do setout', 'Bloquear', 'S',\n",
       "       'Gota', 'Gota0', 'Macho', 'n.º de defeitos', 'Defeito repetitivo',\n",
       "       'Amostra n.º', '% de defeitos', 'Ref. do molde', 'Número de série',\n",
       "       'Molde', 'Camada', 'Número de defeitos por camada', 'Código', 'Defeito',\n",
       "       'Cor', 'Criticidade', 'Criticidade1', 'Equipe', 'Operador', 'Nqa',\n",
       "       'Estado', 'A verificar', 'Comentário', 'Data de criação',\n",
       "       'Chave primária', 'Definir dia', 'Dia de criação', 'Turno',\n",
       "       'Definir chave primária'],\n",
       "      dtype='object')"
      ]
     },
     "execution_count": 43,
     "metadata": {},
     "output_type": "execute_result"
    }
   ],
   "source": [
    "df.columns"
   ]
  },
  {
   "cell_type": "code",
   "execution_count": 44,
   "metadata": {},
   "outputs": [
    {
     "data": {
      "text/html": [
       "<div>\n",
       "<style scoped>\n",
       "    .dataframe tbody tr th:only-of-type {\n",
       "        vertical-align: middle;\n",
       "    }\n",
       "\n",
       "    .dataframe tbody tr th {\n",
       "        vertical-align: top;\n",
       "    }\n",
       "\n",
       "    .dataframe thead th {\n",
       "        text-align: right;\n",
       "    }\n",
       "</style>\n",
       "<table border=\"1\" class=\"dataframe\">\n",
       "  <thead>\n",
       "    <tr style=\"text-align: right;\">\n",
       "      <th></th>\n",
       "      <th>Fábrica</th>\n",
       "      <th>Fabrica – Linha</th>\n",
       "      <th>Linha</th>\n",
       "      <th>Máquina de produção</th>\n",
       "      <th>Ordem de trabalhos</th>\n",
       "      <th>Ref. do artigo</th>\n",
       "      <th>Artigo</th>\n",
       "      <th>Ordem de sub-trabalho</th>\n",
       "      <th>Produto final</th>\n",
       "      <th>Lote</th>\n",
       "      <th>...</th>\n",
       "      <th>Nqa</th>\n",
       "      <th>Estado</th>\n",
       "      <th>A verificar</th>\n",
       "      <th>Comentário</th>\n",
       "      <th>Data de criação</th>\n",
       "      <th>Chave primária</th>\n",
       "      <th>Definir dia</th>\n",
       "      <th>Dia de criação</th>\n",
       "      <th>Turno</th>\n",
       "      <th>Definir chave primária</th>\n",
       "    </tr>\n",
       "  </thead>\n",
       "  <tbody>\n",
       "    <tr>\n",
       "      <th>0</th>\n",
       "      <td>Wheaton</td>\n",
       "      <td>Wheaton - B1</td>\n",
       "      <td>B1</td>\n",
       "      <td>Máquina IS</td>\n",
       "      <td>193112</td>\n",
       "      <td>C1164.0000R</td>\n",
       "      <td>MB -1527-N1 | F | NH | C | LISO</td>\n",
       "      <td>NaN</td>\n",
       "      <td>NaN</td>\n",
       "      <td>NaN</td>\n",
       "      <td>...</td>\n",
       "      <td>0.0</td>\n",
       "      <td>0</td>\n",
       "      <td>0</td>\n",
       "      <td>NaN</td>\n",
       "      <td>2024-01-01 06:03:07</td>\n",
       "      <td>2517600</td>\n",
       "      <td>2024-01-01</td>\n",
       "      <td>2024-01-01</td>\n",
       "      <td>1</td>\n",
       "      <td>872218</td>\n",
       "    </tr>\n",
       "    <tr>\n",
       "      <th>1</th>\n",
       "      <td>Wheaton</td>\n",
       "      <td>Wheaton - B1</td>\n",
       "      <td>B1</td>\n",
       "      <td>Máquina IS</td>\n",
       "      <td>193112</td>\n",
       "      <td>C1164.0000R</td>\n",
       "      <td>MB -1527-N1 | F | NH | C | LISO</td>\n",
       "      <td>NaN</td>\n",
       "      <td>NaN</td>\n",
       "      <td>NaN</td>\n",
       "      <td>...</td>\n",
       "      <td>0.0</td>\n",
       "      <td>0</td>\n",
       "      <td>0</td>\n",
       "      <td>NaN</td>\n",
       "      <td>2024-01-01 06:03:07</td>\n",
       "      <td>2517601</td>\n",
       "      <td>2024-01-01</td>\n",
       "      <td>2024-01-01</td>\n",
       "      <td>1</td>\n",
       "      <td>872218</td>\n",
       "    </tr>\n",
       "    <tr>\n",
       "      <th>2</th>\n",
       "      <td>Wheaton</td>\n",
       "      <td>Wheaton - B1</td>\n",
       "      <td>B1</td>\n",
       "      <td>Máquina IS</td>\n",
       "      <td>193112</td>\n",
       "      <td>C1164.0000R</td>\n",
       "      <td>MB -1527-N1 | F | NH | C | LISO</td>\n",
       "      <td>NaN</td>\n",
       "      <td>NaN</td>\n",
       "      <td>NaN</td>\n",
       "      <td>...</td>\n",
       "      <td>0.0</td>\n",
       "      <td>0</td>\n",
       "      <td>0</td>\n",
       "      <td>NaN</td>\n",
       "      <td>2024-01-01 06:57:09</td>\n",
       "      <td>2517738</td>\n",
       "      <td>2024-01-01</td>\n",
       "      <td>2024-01-01</td>\n",
       "      <td>1</td>\n",
       "      <td>872263</td>\n",
       "    </tr>\n",
       "    <tr>\n",
       "      <th>3</th>\n",
       "      <td>Wheaton</td>\n",
       "      <td>Wheaton - B1</td>\n",
       "      <td>B1</td>\n",
       "      <td>Máquina IS</td>\n",
       "      <td>193112</td>\n",
       "      <td>C1164.0000R</td>\n",
       "      <td>MB -1527-N1 | F | NH | C | LISO</td>\n",
       "      <td>NaN</td>\n",
       "      <td>NaN</td>\n",
       "      <td>NaN</td>\n",
       "      <td>...</td>\n",
       "      <td>0.0</td>\n",
       "      <td>0</td>\n",
       "      <td>0</td>\n",
       "      <td>NaN</td>\n",
       "      <td>2024-01-01 06:57:09</td>\n",
       "      <td>2517739</td>\n",
       "      <td>2024-01-01</td>\n",
       "      <td>2024-01-01</td>\n",
       "      <td>1</td>\n",
       "      <td>872263</td>\n",
       "    </tr>\n",
       "    <tr>\n",
       "      <th>4</th>\n",
       "      <td>Wheaton</td>\n",
       "      <td>Wheaton - B1</td>\n",
       "      <td>B1</td>\n",
       "      <td>Máquina IS</td>\n",
       "      <td>193112</td>\n",
       "      <td>C1164.0000R</td>\n",
       "      <td>MB -1527-N1 | F | NH | C | LISO</td>\n",
       "      <td>NaN</td>\n",
       "      <td>NaN</td>\n",
       "      <td>NaN</td>\n",
       "      <td>...</td>\n",
       "      <td>0.0</td>\n",
       "      <td>0</td>\n",
       "      <td>0</td>\n",
       "      <td>NaN</td>\n",
       "      <td>2024-01-01 06:57:09</td>\n",
       "      <td>2517740</td>\n",
       "      <td>2024-01-01</td>\n",
       "      <td>2024-01-01</td>\n",
       "      <td>1</td>\n",
       "      <td>872263</td>\n",
       "    </tr>\n",
       "  </tbody>\n",
       "</table>\n",
       "<p>5 rows × 45 columns</p>\n",
       "</div>"
      ],
      "text/plain": [
       "   Fábrica Fabrica – Linha Linha Máquina de produção  Ordem de trabalhos  \\\n",
       "0  Wheaton    Wheaton - B1    B1          Máquina IS              193112   \n",
       "1  Wheaton    Wheaton - B1    B1          Máquina IS              193112   \n",
       "2  Wheaton    Wheaton - B1    B1          Máquina IS              193112   \n",
       "3  Wheaton    Wheaton - B1    B1          Máquina IS              193112   \n",
       "4  Wheaton    Wheaton - B1    B1          Máquina IS              193112   \n",
       "\n",
       "  Ref. do artigo                           Artigo  Ordem de sub-trabalho  \\\n",
       "0    C1164.0000R  MB -1527-N1 | F | NH | C | LISO                    NaN   \n",
       "1    C1164.0000R  MB -1527-N1 | F | NH | C | LISO                    NaN   \n",
       "2    C1164.0000R  MB -1527-N1 | F | NH | C | LISO                    NaN   \n",
       "3    C1164.0000R  MB -1527-N1 | F | NH | C | LISO                    NaN   \n",
       "4    C1164.0000R  MB -1527-N1 | F | NH | C | LISO                    NaN   \n",
       "\n",
       "  Produto final  Lote  ...  Nqa Estado A verificar  Comentário  \\\n",
       "0           NaN   NaN  ...  0.0      0           0         NaN   \n",
       "1           NaN   NaN  ...  0.0      0           0         NaN   \n",
       "2           NaN   NaN  ...  0.0      0           0         NaN   \n",
       "3           NaN   NaN  ...  0.0      0           0         NaN   \n",
       "4           NaN   NaN  ...  0.0      0           0         NaN   \n",
       "\n",
       "      Data de criação  Chave primária  Definir dia Dia de criação  Turno  \\\n",
       "0 2024-01-01 06:03:07         2517600   2024-01-01     2024-01-01      1   \n",
       "1 2024-01-01 06:03:07         2517601   2024-01-01     2024-01-01      1   \n",
       "2 2024-01-01 06:57:09         2517738   2024-01-01     2024-01-01      1   \n",
       "3 2024-01-01 06:57:09         2517739   2024-01-01     2024-01-01      1   \n",
       "4 2024-01-01 06:57:09         2517740   2024-01-01     2024-01-01      1   \n",
       "\n",
       "   Definir chave primária  \n",
       "0                  872218  \n",
       "1                  872218  \n",
       "2                  872263  \n",
       "3                  872263  \n",
       "4                  872263  \n",
       "\n",
       "[5 rows x 45 columns]"
      ]
     },
     "execution_count": 44,
     "metadata": {},
     "output_type": "execute_result"
    }
   ],
   "source": [
    "df.head()"
   ]
  },
  {
   "cell_type": "markdown",
   "metadata": {},
   "source": [
    "### Frequência dos defeitos"
   ]
  },
  {
   "cell_type": "code",
   "execution_count": 45,
   "metadata": {},
   "outputs": [
    {
     "data": {
      "text/plain": [
       "Defeito\n",
       "Sujo de óleo                 12847\n",
       "Rugas                         2852\n",
       "Racho na terminação           2186\n",
       "Trinca por choque térmico     2020\n",
       "Dobra                         1788\n",
       "                             ...  \n",
       "Cascão cortante                  1\n",
       "Fundo deformado                  1\n",
       "Instabilidade                    1\n",
       "Alça deformada                   1\n",
       "Fagulha                          1\n",
       "Name: count, Length: 129, dtype: int64"
      ]
     },
     "execution_count": 45,
     "metadata": {},
     "output_type": "execute_result"
    }
   ],
   "source": [
    "df['Defeito'].value_counts()"
   ]
  },
  {
   "cell_type": "markdown",
   "metadata": {},
   "source": [
    "### Verificando artigos não únicos por ordem"
   ]
  },
  {
   "cell_type": "code",
   "execution_count": 46,
   "metadata": {},
   "outputs": [
    {
     "data": {
      "text/html": [
       "<div>\n",
       "<style scoped>\n",
       "    .dataframe tbody tr th:only-of-type {\n",
       "        vertical-align: middle;\n",
       "    }\n",
       "\n",
       "    .dataframe tbody tr th {\n",
       "        vertical-align: top;\n",
       "    }\n",
       "\n",
       "    .dataframe thead th {\n",
       "        text-align: right;\n",
       "    }\n",
       "</style>\n",
       "<table border=\"1\" class=\"dataframe\">\n",
       "  <thead>\n",
       "    <tr style=\"text-align: right;\">\n",
       "      <th></th>\n",
       "      <th>Fábrica</th>\n",
       "      <th>Fabrica – Linha</th>\n",
       "      <th>Linha</th>\n",
       "      <th>Máquina de produção</th>\n",
       "      <th>Ordem de trabalhos</th>\n",
       "      <th>Ref. do artigo</th>\n",
       "      <th>Artigo</th>\n",
       "      <th>Ordem de sub-trabalho</th>\n",
       "      <th>Produto final</th>\n",
       "      <th>Lote</th>\n",
       "      <th>...</th>\n",
       "      <th>Nqa</th>\n",
       "      <th>Estado</th>\n",
       "      <th>A verificar</th>\n",
       "      <th>Comentário</th>\n",
       "      <th>Data de criação</th>\n",
       "      <th>Chave primária</th>\n",
       "      <th>Definir dia</th>\n",
       "      <th>Dia de criação</th>\n",
       "      <th>Turno</th>\n",
       "      <th>Definir chave primária</th>\n",
       "    </tr>\n",
       "  </thead>\n",
       "  <tbody>\n",
       "  </tbody>\n",
       "</table>\n",
       "<p>0 rows × 45 columns</p>\n",
       "</div>"
      ],
      "text/plain": [
       "Empty DataFrame\n",
       "Columns: [Fábrica, Fabrica – Linha, Linha, Máquina de produção, Ordem de trabalhos, Ref. do artigo, Artigo, Ordem de sub-trabalho, Produto final, Lote, Pallet n.º, Definir data, Localização, Localização do setout, Bloquear, S, Gota, Gota0, Macho, n.º de defeitos, Defeito repetitivo, Amostra n.º, % de defeitos, Ref. do molde, Número de série, Molde, Camada, Número de defeitos por camada, Código, Defeito, Cor, Criticidade, Criticidade1, Equipe, Operador, Nqa, Estado, A verificar, Comentário, Data de criação, Chave primária, Definir dia, Dia de criação, Turno, Definir chave primária]\n",
       "Index: []\n",
       "\n",
       "[0 rows x 45 columns]"
      ]
     },
     "execution_count": 46,
     "metadata": {},
     "output_type": "execute_result"
    }
   ],
   "source": [
    "artigos_nuniques_ordem = df[df.groupby('Ordem de trabalhos')['Ref. do artigo'].transform('nunique') > 1]\n",
    "artigos_nuniques_ordem"
   ]
  },
  {
   "cell_type": "markdown",
   "metadata": {},
   "source": [
    "### Retornando artigos únicos"
   ]
  },
  {
   "cell_type": "code",
   "execution_count": 47,
   "metadata": {},
   "outputs": [
    {
     "data": {
      "text/plain": [
       "Ordem de trabalhos\n",
       "192970    [C0516.0000R]\n",
       "193112    [C1164.0000R]\n",
       "193164    [C1280.0000R]\n",
       "193206    [C1284.0000R]\n",
       "193207    [C1298.0000R]\n",
       "193208    [C0104.0000R]\n",
       "193209    [C0509.0000R]\n",
       "193342    [C0516.0000R]\n",
       "193368    [C1137.0000R]\n",
       "193459    [C0068.0000R]\n",
       "193462    [C1284.0000R]\n",
       "193463    [C1298.0000R]\n",
       "193533    [C1165.0000R]\n",
       "193535    [C1332.0000V]\n",
       "193537    [C1203.0000R]\n",
       "193594    [C1137.0000R]\n",
       "193619    [C0121.0000R]\n",
       "193671    [C0593.0000R]\n",
       "193686    [C1239.0000V]\n",
       "193688    [C1349.0000V]\n",
       "193689    [C1299.0000R]\n",
       "193692    [C0139.0000R]\n",
       "193694    [C0529.0000R]\n",
       "193782    [C1265.0000R]\n",
       "193783    [C1215.0000R]\n",
       "193784    [C1203.0000R]\n",
       "193852    [C1267.0000R]\n",
       "193882    [C1268.0000R]\n",
       "193937    [C1172.0000R]\n",
       "193972    [C1203.0000R]\n",
       "193973    [C1165.0000R]\n",
       "194029    [C0132.0000R]\n",
       "194057    [C1164.0000R]\n",
       "194113    [C0104.0000R]\n",
       "194121    [C0516.0000R]\n",
       "Name: Ref. do artigo, dtype: object"
      ]
     },
     "execution_count": 47,
     "metadata": {},
     "output_type": "execute_result"
    }
   ],
   "source": [
    "artigos_ordem = df.groupby('Ordem de trabalhos')['Ref. do artigo'].unique()\n",
    "artigos_ordem"
   ]
  },
  {
   "cell_type": "markdown",
   "metadata": {},
   "source": [
    "# Criando novo Dataframe para trabalhar com os defeitos por data"
   ]
  },
  {
   "cell_type": "markdown",
   "metadata": {},
   "source": [
    "### Criando coluna ``Data``, somente com data, sem o horário do registro\n",
    "\n",
    "### Agrupando Defeitos por Data, Artigo e Ordem"
   ]
  },
  {
   "cell_type": "code",
   "execution_count": 48,
   "metadata": {},
   "outputs": [
    {
     "data": {
      "text/html": [
       "<div>\n",
       "<style scoped>\n",
       "    .dataframe tbody tr th:only-of-type {\n",
       "        vertical-align: middle;\n",
       "    }\n",
       "\n",
       "    .dataframe tbody tr th {\n",
       "        vertical-align: top;\n",
       "    }\n",
       "\n",
       "    .dataframe thead th {\n",
       "        text-align: right;\n",
       "    }\n",
       "</style>\n",
       "<table border=\"1\" class=\"dataframe\">\n",
       "  <thead>\n",
       "    <tr style=\"text-align: right;\">\n",
       "      <th></th>\n",
       "      <th></th>\n",
       "      <th></th>\n",
       "      <th>Defeito</th>\n",
       "    </tr>\n",
       "    <tr>\n",
       "      <th>Ordem de trabalhos</th>\n",
       "      <th>Ref. do artigo</th>\n",
       "      <th>Data</th>\n",
       "      <th></th>\n",
       "    </tr>\n",
       "  </thead>\n",
       "  <tbody>\n",
       "    <tr>\n",
       "      <th rowspan=\"5\" valign=\"top\">192970</th>\n",
       "      <th rowspan=\"5\" valign=\"top\">C0516.0000R</th>\n",
       "      <th>2024-01-03</th>\n",
       "      <td>162</td>\n",
       "    </tr>\n",
       "    <tr>\n",
       "      <th>2024-01-04</th>\n",
       "      <td>249</td>\n",
       "    </tr>\n",
       "    <tr>\n",
       "      <th>2024-01-05</th>\n",
       "      <td>268</td>\n",
       "    </tr>\n",
       "    <tr>\n",
       "      <th>2024-01-06</th>\n",
       "      <td>242</td>\n",
       "    </tr>\n",
       "    <tr>\n",
       "      <th>2024-01-07</th>\n",
       "      <td>232</td>\n",
       "    </tr>\n",
       "    <tr>\n",
       "      <th>...</th>\n",
       "      <th>...</th>\n",
       "      <th>...</th>\n",
       "      <td>...</td>\n",
       "    </tr>\n",
       "    <tr>\n",
       "      <th rowspan=\"5\" valign=\"top\">194121</th>\n",
       "      <th rowspan=\"5\" valign=\"top\">C0516.0000R</th>\n",
       "      <th>2024-06-27</th>\n",
       "      <td>218</td>\n",
       "    </tr>\n",
       "    <tr>\n",
       "      <th>2024-06-28</th>\n",
       "      <td>218</td>\n",
       "    </tr>\n",
       "    <tr>\n",
       "      <th>2024-06-29</th>\n",
       "      <td>213</td>\n",
       "    </tr>\n",
       "    <tr>\n",
       "      <th>2024-06-30</th>\n",
       "      <td>256</td>\n",
       "    </tr>\n",
       "    <tr>\n",
       "      <th>2024-07-01</th>\n",
       "      <td>1</td>\n",
       "    </tr>\n",
       "  </tbody>\n",
       "</table>\n",
       "<p>211 rows × 1 columns</p>\n",
       "</div>"
      ],
      "text/plain": [
       "                                              Defeito\n",
       "Ordem de trabalhos Ref. do artigo Data               \n",
       "192970             C0516.0000R    2024-01-03      162\n",
       "                                  2024-01-04      249\n",
       "                                  2024-01-05      268\n",
       "                                  2024-01-06      242\n",
       "                                  2024-01-07      232\n",
       "...                                               ...\n",
       "194121             C0516.0000R    2024-06-27      218\n",
       "                                  2024-06-28      218\n",
       "                                  2024-06-29      213\n",
       "                                  2024-06-30      256\n",
       "                                  2024-07-01        1\n",
       "\n",
       "[211 rows x 1 columns]"
      ]
     },
     "execution_count": 48,
     "metadata": {},
     "output_type": "execute_result"
    }
   ],
   "source": [
    "df_por_data = df.copy()\n",
    "\n",
    "df_por_data['Data'] = df_por_data['Data de criação'].dt.date\n",
    "\n",
    "df_por_data.groupby(['Ordem de trabalhos', 'Ref. do artigo','Data'])[['Defeito']].count()"
   ]
  },
  {
   "cell_type": "markdown",
   "metadata": {},
   "source": [
    "### Criando Dataframe multiíndice, agrupado por `Ordem de trabalhos`, `Data` e `Defeito`, contando a frequência de cada defeito "
   ]
  },
  {
   "cell_type": "code",
   "execution_count": 49,
   "metadata": {},
   "outputs": [
    {
     "data": {
      "text/html": [
       "<div>\n",
       "<style scoped>\n",
       "    .dataframe tbody tr th:only-of-type {\n",
       "        vertical-align: middle;\n",
       "    }\n",
       "\n",
       "    .dataframe tbody tr th {\n",
       "        vertical-align: top;\n",
       "    }\n",
       "\n",
       "    .dataframe thead th {\n",
       "        text-align: right;\n",
       "    }\n",
       "</style>\n",
       "<table border=\"1\" class=\"dataframe\">\n",
       "  <thead>\n",
       "    <tr style=\"text-align: right;\">\n",
       "      <th></th>\n",
       "      <th></th>\n",
       "      <th></th>\n",
       "      <th></th>\n",
       "      <th>Quantidade</th>\n",
       "    </tr>\n",
       "    <tr>\n",
       "      <th>Ordem de trabalhos</th>\n",
       "      <th>Ref. do artigo</th>\n",
       "      <th>Data</th>\n",
       "      <th>Defeito</th>\n",
       "      <th></th>\n",
       "    </tr>\n",
       "  </thead>\n",
       "  <tbody>\n",
       "    <tr>\n",
       "      <th rowspan=\"5\" valign=\"top\">192970</th>\n",
       "      <th rowspan=\"5\" valign=\"top\">C0516.0000R</th>\n",
       "      <th rowspan=\"5\" valign=\"top\">2024-01-03</th>\n",
       "      <th>Cava no ombro</th>\n",
       "      <td>10</td>\n",
       "    </tr>\n",
       "    <tr>\n",
       "      <th>Corpo torto</th>\n",
       "      <td>6</td>\n",
       "    </tr>\n",
       "    <tr>\n",
       "      <th>Costura</th>\n",
       "      <td>3</td>\n",
       "    </tr>\n",
       "    <tr>\n",
       "      <th>Costura desencontrada</th>\n",
       "      <td>7</td>\n",
       "    </tr>\n",
       "    <tr>\n",
       "      <th>Dobra</th>\n",
       "      <td>10</td>\n",
       "    </tr>\n",
       "    <tr>\n",
       "      <th>...</th>\n",
       "      <th>...</th>\n",
       "      <th>...</th>\n",
       "      <th>...</th>\n",
       "      <td>...</td>\n",
       "    </tr>\n",
       "    <tr>\n",
       "      <th rowspan=\"5\" valign=\"top\">194121</th>\n",
       "      <th rowspan=\"5\" valign=\"top\">C0516.0000R</th>\n",
       "      <th rowspan=\"4\" valign=\"top\">2024-06-30</th>\n",
       "      <th>Sujo de óleo</th>\n",
       "      <td>58</td>\n",
       "    </tr>\n",
       "    <tr>\n",
       "      <th>Terminação deformada</th>\n",
       "      <td>1</td>\n",
       "    </tr>\n",
       "    <tr>\n",
       "      <th>Terminação suja</th>\n",
       "      <td>5</td>\n",
       "    </tr>\n",
       "    <tr>\n",
       "      <th>Trinca por choque térmico</th>\n",
       "      <td>17</td>\n",
       "    </tr>\n",
       "    <tr>\n",
       "      <th>2024-07-01</th>\n",
       "      <th>Bolha</th>\n",
       "      <td>1</td>\n",
       "    </tr>\n",
       "  </tbody>\n",
       "</table>\n",
       "<p>4687 rows × 1 columns</p>\n",
       "</div>"
      ],
      "text/plain": [
       "                                                                        Quantidade\n",
       "Ordem de trabalhos Ref. do artigo Data       Defeito                              \n",
       "192970             C0516.0000R    2024-01-03 Cava no ombro                      10\n",
       "                                             Corpo torto                         6\n",
       "                                             Costura                             3\n",
       "                                             Costura desencontrada               7\n",
       "                                             Dobra                              10\n",
       "...                                                                            ...\n",
       "194121             C0516.0000R    2024-06-30 Sujo de óleo                       58\n",
       "                                             Terminação deformada                1\n",
       "                                             Terminação suja                     5\n",
       "                                             Trinca por choque térmico          17\n",
       "                                  2024-07-01 Bolha                               1\n",
       "\n",
       "[4687 rows x 1 columns]"
      ]
     },
     "execution_count": 49,
     "metadata": {},
     "output_type": "execute_result"
    }
   ],
   "source": [
    "frequencia_defeitos = df_por_data.groupby(['Ordem de trabalhos', 'Ref. do artigo', 'Data', 'Defeito']).size().reset_index(name='Quantidade')\n",
    "frequencia_defeitos = frequencia_defeitos.set_index(['Ordem de trabalhos', 'Ref. do artigo', 'Data', 'Defeito'])\n",
    "frequencia_defeitos = frequencia_defeitos.sort_index()\n",
    "\n",
    "frequencia_defeitos"
   ]
  },
  {
   "cell_type": "markdown",
   "metadata": {},
   "source": [
    "# Criando um Dataframe resumo de defeitos"
   ]
  },
  {
   "cell_type": "markdown",
   "metadata": {},
   "source": [
    "## Calculando o total de defeitos por cada ``Ordem`` e qual o defeito mais frequente de cada ``Ordem``"
   ]
  },
  {
   "cell_type": "markdown",
   "metadata": {},
   "source": [
    "### Criando colunas `Data_Inicio` e `Data_Fim` para monitorar produtividades "
   ]
  },
  {
   "cell_type": "code",
   "execution_count": 50,
   "metadata": {},
   "outputs": [],
   "source": [
    "frequencia_defeitos_reset = frequencia_defeitos.reset_index()\n",
    "\n",
    "inicio_fim_ordem = frequencia_defeitos_reset.groupby('Ordem de trabalhos').agg(\n",
    "    Data_Inicio=('Data', 'min'),\n",
    "    Data_Fim=('Data', 'max')\n",
    ")"
   ]
  },
  {
   "cell_type": "markdown",
   "metadata": {},
   "source": [
    "### Calculando a Quantidade e Frequência"
   ]
  },
  {
   "cell_type": "code",
   "execution_count": 51,
   "metadata": {},
   "outputs": [
    {
     "data": {
      "text/html": [
       "<div>\n",
       "<style scoped>\n",
       "    .dataframe tbody tr th:only-of-type {\n",
       "        vertical-align: middle;\n",
       "    }\n",
       "\n",
       "    .dataframe tbody tr th {\n",
       "        vertical-align: top;\n",
       "    }\n",
       "\n",
       "    .dataframe thead th {\n",
       "        text-align: right;\n",
       "    }\n",
       "</style>\n",
       "<table border=\"1\" class=\"dataframe\">\n",
       "  <thead>\n",
       "    <tr style=\"text-align: right;\">\n",
       "      <th></th>\n",
       "      <th></th>\n",
       "      <th>Total de Defeitos</th>\n",
       "      <th>Defeito Mais Frequente</th>\n",
       "      <th>Data_Inicio</th>\n",
       "      <th>Data_Fim</th>\n",
       "    </tr>\n",
       "    <tr>\n",
       "      <th>Ordem de trabalhos</th>\n",
       "      <th>Ref. do Artigo</th>\n",
       "      <th></th>\n",
       "      <th></th>\n",
       "      <th></th>\n",
       "      <th></th>\n",
       "    </tr>\n",
       "  </thead>\n",
       "  <tbody>\n",
       "    <tr>\n",
       "      <th>193342</th>\n",
       "      <th>C0516.0000R</th>\n",
       "      <td>3568</td>\n",
       "      <td>Sujo de óleo</td>\n",
       "      <td>2024-02-21</td>\n",
       "      <td>2024-03-11</td>\n",
       "    </tr>\n",
       "    <tr>\n",
       "      <th>193164</th>\n",
       "      <th>C1280.0000R</th>\n",
       "      <td>2574</td>\n",
       "      <td>Sujo de óleo</td>\n",
       "      <td>2024-01-11</td>\n",
       "      <td>2024-01-23</td>\n",
       "    </tr>\n",
       "    <tr>\n",
       "      <th>193782</th>\n",
       "      <th>C1265.0000R</th>\n",
       "      <td>2263</td>\n",
       "      <td>Dobra</td>\n",
       "      <td>2024-05-15</td>\n",
       "      <td>2024-05-25</td>\n",
       "    </tr>\n",
       "    <tr>\n",
       "      <th>193207</th>\n",
       "      <th>C1298.0000R</th>\n",
       "      <td>1953</td>\n",
       "      <td>Sujo de óleo</td>\n",
       "      <td>2024-01-28</td>\n",
       "      <td>2024-02-06</td>\n",
       "    </tr>\n",
       "    <tr>\n",
       "      <th>192970</th>\n",
       "      <th>C0516.0000R</th>\n",
       "      <td>1941</td>\n",
       "      <td>Sujo de óleo</td>\n",
       "      <td>2024-01-03</td>\n",
       "      <td>2024-01-11</td>\n",
       "    </tr>\n",
       "    <tr>\n",
       "      <th>193784</th>\n",
       "      <th>C1203.0000R</th>\n",
       "      <td>1930</td>\n",
       "      <td>Sujo de óleo</td>\n",
       "      <td>2024-05-04</td>\n",
       "      <td>2024-05-15</td>\n",
       "    </tr>\n",
       "    <tr>\n",
       "      <th>193209</th>\n",
       "      <th>C0509.0000R</th>\n",
       "      <td>1663</td>\n",
       "      <td>Sujo de óleo</td>\n",
       "      <td>2024-02-08</td>\n",
       "      <td>2024-02-14</td>\n",
       "    </tr>\n",
       "    <tr>\n",
       "      <th>193368</th>\n",
       "      <th>C1137.0000R</th>\n",
       "      <td>1581</td>\n",
       "      <td>Sujo de óleo</td>\n",
       "      <td>2024-02-14</td>\n",
       "      <td>2024-02-21</td>\n",
       "    </tr>\n",
       "    <tr>\n",
       "      <th>193882</th>\n",
       "      <th>C1268.0000R</th>\n",
       "      <td>1521</td>\n",
       "      <td>Sujo de óleo</td>\n",
       "      <td>2024-06-08</td>\n",
       "      <td>2024-06-15</td>\n",
       "    </tr>\n",
       "    <tr>\n",
       "      <th>193594</th>\n",
       "      <th>C1137.0000R</th>\n",
       "      <td>1401</td>\n",
       "      <td>Sujo de óleo</td>\n",
       "      <td>2024-03-25</td>\n",
       "      <td>2024-04-01</td>\n",
       "    </tr>\n",
       "    <tr>\n",
       "      <th>193463</th>\n",
       "      <th>C1298.0000R</th>\n",
       "      <td>1388</td>\n",
       "      <td>Sujo de óleo</td>\n",
       "      <td>2024-03-13</td>\n",
       "      <td>2024-03-20</td>\n",
       "    </tr>\n",
       "    <tr>\n",
       "      <th>194121</th>\n",
       "      <th>C0516.0000R</th>\n",
       "      <td>1380</td>\n",
       "      <td>Sujo de óleo</td>\n",
       "      <td>2024-06-25</td>\n",
       "      <td>2024-07-01</td>\n",
       "    </tr>\n",
       "    <tr>\n",
       "      <th>193852</th>\n",
       "      <th>C1267.0000R</th>\n",
       "      <td>1370</td>\n",
       "      <td>Sujo de óleo</td>\n",
       "      <td>2024-05-25</td>\n",
       "      <td>2024-05-31</td>\n",
       "    </tr>\n",
       "    <tr>\n",
       "      <th>193533</th>\n",
       "      <th>C1165.0000R</th>\n",
       "      <td>1228</td>\n",
       "      <td>Sujo de óleo</td>\n",
       "      <td>2024-04-11</td>\n",
       "      <td>2024-04-18</td>\n",
       "    </tr>\n",
       "    <tr>\n",
       "      <th>193462</th>\n",
       "      <th>C1284.0000R</th>\n",
       "      <td>1133</td>\n",
       "      <td>Trinca por choque térmico</td>\n",
       "      <td>2024-03-21</td>\n",
       "      <td>2024-03-25</td>\n",
       "    </tr>\n",
       "    <tr>\n",
       "      <th>193206</th>\n",
       "      <th>C1284.0000R</th>\n",
       "      <td>927</td>\n",
       "      <td>Sujo de óleo</td>\n",
       "      <td>2024-01-25</td>\n",
       "      <td>2024-01-28</td>\n",
       "    </tr>\n",
       "    <tr>\n",
       "      <th>193619</th>\n",
       "      <th>C0121.0000R</th>\n",
       "      <td>840</td>\n",
       "      <td>Sujo de óleo</td>\n",
       "      <td>2024-04-04</td>\n",
       "      <td>2024-04-08</td>\n",
       "    </tr>\n",
       "    <tr>\n",
       "      <th>194113</th>\n",
       "      <th>C0104.0000R</th>\n",
       "      <td>777</td>\n",
       "      <td>Fora de cor</td>\n",
       "      <td>2024-06-22</td>\n",
       "      <td>2024-06-25</td>\n",
       "    </tr>\n",
       "    <tr>\n",
       "      <th>193694</th>\n",
       "      <th>C0529.0000R</th>\n",
       "      <td>770</td>\n",
       "      <td>Sujo de óleo</td>\n",
       "      <td>2024-04-28</td>\n",
       "      <td>2024-05-02</td>\n",
       "    </tr>\n",
       "    <tr>\n",
       "      <th>193973</th>\n",
       "      <th>C1165.0000R</th>\n",
       "      <td>757</td>\n",
       "      <td>Parada de Máquina em Troca</td>\n",
       "      <td>2024-06-15</td>\n",
       "      <td>2024-06-19</td>\n",
       "    </tr>\n",
       "    <tr>\n",
       "      <th>193783</th>\n",
       "      <th>C1215.0000R</th>\n",
       "      <td>750</td>\n",
       "      <td>Sujo de óleo</td>\n",
       "      <td>2024-05-02</td>\n",
       "      <td>2024-05-04</td>\n",
       "    </tr>\n",
       "    <tr>\n",
       "      <th>194029</th>\n",
       "      <th>C0132.0000R</th>\n",
       "      <td>708</td>\n",
       "      <td>Sujo de óleo</td>\n",
       "      <td>2024-06-02</td>\n",
       "      <td>2024-06-05</td>\n",
       "    </tr>\n",
       "    <tr>\n",
       "      <th>193537</th>\n",
       "      <th>C1203.0000R</th>\n",
       "      <td>682</td>\n",
       "      <td>Sujo de óleo</td>\n",
       "      <td>2024-04-01</td>\n",
       "      <td>2024-04-04</td>\n",
       "    </tr>\n",
       "    <tr>\n",
       "      <th>193689</th>\n",
       "      <th>C1299.0000R</th>\n",
       "      <td>619</td>\n",
       "      <td>Sujo de óleo</td>\n",
       "      <td>2024-04-22</td>\n",
       "      <td>2024-04-24</td>\n",
       "    </tr>\n",
       "    <tr>\n",
       "      <th>193671</th>\n",
       "      <th>C0593.0000R</th>\n",
       "      <td>538</td>\n",
       "      <td>Sujo de óleo</td>\n",
       "      <td>2024-04-08</td>\n",
       "      <td>2024-04-11</td>\n",
       "    </tr>\n",
       "    <tr>\n",
       "      <th>193535</th>\n",
       "      <th>C1332.0000V</th>\n",
       "      <td>538</td>\n",
       "      <td>Sujo de óleo</td>\n",
       "      <td>2024-04-24</td>\n",
       "      <td>2024-04-26</td>\n",
       "    </tr>\n",
       "    <tr>\n",
       "      <th>193972</th>\n",
       "      <th>C1203.0000R</th>\n",
       "      <td>528</td>\n",
       "      <td>Sujo de óleo</td>\n",
       "      <td>2024-06-06</td>\n",
       "      <td>2024-06-08</td>\n",
       "    </tr>\n",
       "    <tr>\n",
       "      <th>193686</th>\n",
       "      <th>C1239.0000V</th>\n",
       "      <td>492</td>\n",
       "      <td>Dobra</td>\n",
       "      <td>2024-04-20</td>\n",
       "      <td>2024-04-22</td>\n",
       "    </tr>\n",
       "    <tr>\n",
       "      <th>193937</th>\n",
       "      <th>C1172.0000R</th>\n",
       "      <td>483</td>\n",
       "      <td>Sujo de óleo</td>\n",
       "      <td>2024-05-31</td>\n",
       "      <td>2024-06-02</td>\n",
       "    </tr>\n",
       "    <tr>\n",
       "      <th>193692</th>\n",
       "      <th>C0139.0000R</th>\n",
       "      <td>476</td>\n",
       "      <td>Sujo de óleo</td>\n",
       "      <td>2024-04-26</td>\n",
       "      <td>2024-04-28</td>\n",
       "    </tr>\n",
       "    <tr>\n",
       "      <th>194057</th>\n",
       "      <th>C1164.0000R</th>\n",
       "      <td>458</td>\n",
       "      <td>Sujo de óleo</td>\n",
       "      <td>2024-06-19</td>\n",
       "      <td>2024-06-21</td>\n",
       "    </tr>\n",
       "    <tr>\n",
       "      <th>193112</th>\n",
       "      <th>C1164.0000R</th>\n",
       "      <td>422</td>\n",
       "      <td>Sujo de óleo</td>\n",
       "      <td>2024-01-01</td>\n",
       "      <td>2024-01-03</td>\n",
       "    </tr>\n",
       "    <tr>\n",
       "      <th>193688</th>\n",
       "      <th>C1349.0000V</th>\n",
       "      <td>390</td>\n",
       "      <td>Sujo de óleo</td>\n",
       "      <td>2024-04-18</td>\n",
       "      <td>2024-04-20</td>\n",
       "    </tr>\n",
       "    <tr>\n",
       "      <th>193459</th>\n",
       "      <th>C0068.0000R</th>\n",
       "      <td>357</td>\n",
       "      <td>Sujo de óleo</td>\n",
       "      <td>2024-03-11</td>\n",
       "      <td>2024-03-13</td>\n",
       "    </tr>\n",
       "    <tr>\n",
       "      <th>193208</th>\n",
       "      <th>C0104.0000R</th>\n",
       "      <td>219</td>\n",
       "      <td>Sujo de óleo</td>\n",
       "      <td>2024-02-07</td>\n",
       "      <td>2024-02-08</td>\n",
       "    </tr>\n",
       "  </tbody>\n",
       "</table>\n",
       "</div>"
      ],
      "text/plain": [
       "                                   Total de Defeitos  \\\n",
       "Ordem de trabalhos Ref. do Artigo                      \n",
       "193342             C0516.0000R                  3568   \n",
       "193164             C1280.0000R                  2574   \n",
       "193782             C1265.0000R                  2263   \n",
       "193207             C1298.0000R                  1953   \n",
       "192970             C0516.0000R                  1941   \n",
       "193784             C1203.0000R                  1930   \n",
       "193209             C0509.0000R                  1663   \n",
       "193368             C1137.0000R                  1581   \n",
       "193882             C1268.0000R                  1521   \n",
       "193594             C1137.0000R                  1401   \n",
       "193463             C1298.0000R                  1388   \n",
       "194121             C0516.0000R                  1380   \n",
       "193852             C1267.0000R                  1370   \n",
       "193533             C1165.0000R                  1228   \n",
       "193462             C1284.0000R                  1133   \n",
       "193206             C1284.0000R                   927   \n",
       "193619             C0121.0000R                   840   \n",
       "194113             C0104.0000R                   777   \n",
       "193694             C0529.0000R                   770   \n",
       "193973             C1165.0000R                   757   \n",
       "193783             C1215.0000R                   750   \n",
       "194029             C0132.0000R                   708   \n",
       "193537             C1203.0000R                   682   \n",
       "193689             C1299.0000R                   619   \n",
       "193671             C0593.0000R                   538   \n",
       "193535             C1332.0000V                   538   \n",
       "193972             C1203.0000R                   528   \n",
       "193686             C1239.0000V                   492   \n",
       "193937             C1172.0000R                   483   \n",
       "193692             C0139.0000R                   476   \n",
       "194057             C1164.0000R                   458   \n",
       "193112             C1164.0000R                   422   \n",
       "193688             C1349.0000V                   390   \n",
       "193459             C0068.0000R                   357   \n",
       "193208             C0104.0000R                   219   \n",
       "\n",
       "                                       Defeito Mais Frequente Data_Inicio  \\\n",
       "Ordem de trabalhos Ref. do Artigo                                           \n",
       "193342             C0516.0000R                   Sujo de óleo  2024-02-21   \n",
       "193164             C1280.0000R                   Sujo de óleo  2024-01-11   \n",
       "193782             C1265.0000R                          Dobra  2024-05-15   \n",
       "193207             C1298.0000R                   Sujo de óleo  2024-01-28   \n",
       "192970             C0516.0000R                   Sujo de óleo  2024-01-03   \n",
       "193784             C1203.0000R                   Sujo de óleo  2024-05-04   \n",
       "193209             C0509.0000R                   Sujo de óleo  2024-02-08   \n",
       "193368             C1137.0000R                   Sujo de óleo  2024-02-14   \n",
       "193882             C1268.0000R                   Sujo de óleo  2024-06-08   \n",
       "193594             C1137.0000R                   Sujo de óleo  2024-03-25   \n",
       "193463             C1298.0000R                   Sujo de óleo  2024-03-13   \n",
       "194121             C0516.0000R                   Sujo de óleo  2024-06-25   \n",
       "193852             C1267.0000R                   Sujo de óleo  2024-05-25   \n",
       "193533             C1165.0000R                   Sujo de óleo  2024-04-11   \n",
       "193462             C1284.0000R      Trinca por choque térmico  2024-03-21   \n",
       "193206             C1284.0000R                   Sujo de óleo  2024-01-25   \n",
       "193619             C0121.0000R                   Sujo de óleo  2024-04-04   \n",
       "194113             C0104.0000R                    Fora de cor  2024-06-22   \n",
       "193694             C0529.0000R                   Sujo de óleo  2024-04-28   \n",
       "193973             C1165.0000R     Parada de Máquina em Troca  2024-06-15   \n",
       "193783             C1215.0000R                   Sujo de óleo  2024-05-02   \n",
       "194029             C0132.0000R                   Sujo de óleo  2024-06-02   \n",
       "193537             C1203.0000R                   Sujo de óleo  2024-04-01   \n",
       "193689             C1299.0000R                   Sujo de óleo  2024-04-22   \n",
       "193671             C0593.0000R                   Sujo de óleo  2024-04-08   \n",
       "193535             C1332.0000V                   Sujo de óleo  2024-04-24   \n",
       "193972             C1203.0000R                   Sujo de óleo  2024-06-06   \n",
       "193686             C1239.0000V                          Dobra  2024-04-20   \n",
       "193937             C1172.0000R                   Sujo de óleo  2024-05-31   \n",
       "193692             C0139.0000R                   Sujo de óleo  2024-04-26   \n",
       "194057             C1164.0000R                   Sujo de óleo  2024-06-19   \n",
       "193112             C1164.0000R                   Sujo de óleo  2024-01-01   \n",
       "193688             C1349.0000V                   Sujo de óleo  2024-04-18   \n",
       "193459             C0068.0000R                   Sujo de óleo  2024-03-11   \n",
       "193208             C0104.0000R                   Sujo de óleo  2024-02-07   \n",
       "\n",
       "                                     Data_Fim  \n",
       "Ordem de trabalhos Ref. do Artigo              \n",
       "193342             C0516.0000R     2024-03-11  \n",
       "193164             C1280.0000R     2024-01-23  \n",
       "193782             C1265.0000R     2024-05-25  \n",
       "193207             C1298.0000R     2024-02-06  \n",
       "192970             C0516.0000R     2024-01-11  \n",
       "193784             C1203.0000R     2024-05-15  \n",
       "193209             C0509.0000R     2024-02-14  \n",
       "193368             C1137.0000R     2024-02-21  \n",
       "193882             C1268.0000R     2024-06-15  \n",
       "193594             C1137.0000R     2024-04-01  \n",
       "193463             C1298.0000R     2024-03-20  \n",
       "194121             C0516.0000R     2024-07-01  \n",
       "193852             C1267.0000R     2024-05-31  \n",
       "193533             C1165.0000R     2024-04-18  \n",
       "193462             C1284.0000R     2024-03-25  \n",
       "193206             C1284.0000R     2024-01-28  \n",
       "193619             C0121.0000R     2024-04-08  \n",
       "194113             C0104.0000R     2024-06-25  \n",
       "193694             C0529.0000R     2024-05-02  \n",
       "193973             C1165.0000R     2024-06-19  \n",
       "193783             C1215.0000R     2024-05-04  \n",
       "194029             C0132.0000R     2024-06-05  \n",
       "193537             C1203.0000R     2024-04-04  \n",
       "193689             C1299.0000R     2024-04-24  \n",
       "193671             C0593.0000R     2024-04-11  \n",
       "193535             C1332.0000V     2024-04-26  \n",
       "193972             C1203.0000R     2024-06-08  \n",
       "193686             C1239.0000V     2024-04-22  \n",
       "193937             C1172.0000R     2024-06-02  \n",
       "193692             C0139.0000R     2024-04-28  \n",
       "194057             C1164.0000R     2024-06-21  \n",
       "193112             C1164.0000R     2024-01-03  \n",
       "193688             C1349.0000V     2024-04-20  \n",
       "193459             C0068.0000R     2024-03-13  \n",
       "193208             C0104.0000R     2024-02-08  "
      ]
     },
     "execution_count": 51,
     "metadata": {},
     "output_type": "execute_result"
    }
   ],
   "source": [
    "frequencia_defeitos_reset = frequencia_defeitos.reset_index()\n",
    "\n",
    "ref_artigo_por_ordem = frequencia_defeitos_reset.groupby('Ordem de trabalhos')['Ref. do artigo'].agg(lambda x: ', '.join(x.unique()))\n",
    "\n",
    "total_defeitos_por_ordem = frequencia_defeitos.groupby('Ordem de trabalhos')['Quantidade'].sum()\n",
    "\n",
    "defeito_mais_frequente_por_ordem = frequencia_defeitos.groupby('Ordem de trabalhos')['Quantidade'].idxmax().map(lambda x: x[3])\n",
    "\n",
    "resumo_defeitos_por_ordem = pd.DataFrame({\n",
    "    'Ref. do Artigo': ref_artigo_por_ordem,\n",
    "    'Total de Defeitos': total_defeitos_por_ordem,\n",
    "    'Defeito Mais Frequente': defeito_mais_frequente_por_ordem\n",
    "})\n",
    "\n",
    "resumo_defeitos_por_ordem = resumo_defeitos_por_ordem.join(inicio_fim_ordem)\n",
    "\n",
    "resumo_defeitos_por_ordem.sort_values('Total de Defeitos', ascending=False, inplace=True)\n",
    "\n",
    "resumo_defeitos_por_ordem_reset = resumo_defeitos_por_ordem.reset_index()\n",
    "resumo_defeitos_por_ordem_reset.set_index(['Ordem de trabalhos', 'Ref. do Artigo'])"
   ]
  },
  {
   "cell_type": "markdown",
   "metadata": {},
   "source": [
    "## Calculando o total de defeitos por cada ``Data`` e qual o defeito mais frequente de cada ``Data``"
   ]
  },
  {
   "cell_type": "code",
   "execution_count": 52,
   "metadata": {},
   "outputs": [
    {
     "data": {
      "text/html": [
       "<div>\n",
       "<style scoped>\n",
       "    .dataframe tbody tr th:only-of-type {\n",
       "        vertical-align: middle;\n",
       "    }\n",
       "\n",
       "    .dataframe tbody tr th {\n",
       "        vertical-align: top;\n",
       "    }\n",
       "\n",
       "    .dataframe thead th {\n",
       "        text-align: right;\n",
       "    }\n",
       "</style>\n",
       "<table border=\"1\" class=\"dataframe\">\n",
       "  <thead>\n",
       "    <tr style=\"text-align: right;\">\n",
       "      <th></th>\n",
       "      <th>Total de Defeitos</th>\n",
       "      <th>Defeito Mais Frequente</th>\n",
       "    </tr>\n",
       "    <tr>\n",
       "      <th>Data</th>\n",
       "      <th></th>\n",
       "      <th></th>\n",
       "    </tr>\n",
       "  </thead>\n",
       "  <tbody>\n",
       "    <tr>\n",
       "      <th>2024-01-01</th>\n",
       "      <td>159</td>\n",
       "      <td>Sujo de óleo</td>\n",
       "    </tr>\n",
       "    <tr>\n",
       "      <th>2024-01-02</th>\n",
       "      <td>203</td>\n",
       "      <td>Sujo de óleo</td>\n",
       "    </tr>\n",
       "    <tr>\n",
       "      <th>2024-01-03</th>\n",
       "      <td>222</td>\n",
       "      <td>Sujo de óleo</td>\n",
       "    </tr>\n",
       "    <tr>\n",
       "      <th>2024-01-04</th>\n",
       "      <td>249</td>\n",
       "      <td>Sujo de óleo</td>\n",
       "    </tr>\n",
       "    <tr>\n",
       "      <th>2024-01-05</th>\n",
       "      <td>268</td>\n",
       "      <td>Sujo de óleo</td>\n",
       "    </tr>\n",
       "    <tr>\n",
       "      <th>...</th>\n",
       "      <td>...</td>\n",
       "      <td>...</td>\n",
       "    </tr>\n",
       "    <tr>\n",
       "      <th>2024-06-27</th>\n",
       "      <td>218</td>\n",
       "      <td>Sujo de óleo</td>\n",
       "    </tr>\n",
       "    <tr>\n",
       "      <th>2024-06-28</th>\n",
       "      <td>218</td>\n",
       "      <td>Sujo de óleo</td>\n",
       "    </tr>\n",
       "    <tr>\n",
       "      <th>2024-06-29</th>\n",
       "      <td>213</td>\n",
       "      <td>Sujo de óleo</td>\n",
       "    </tr>\n",
       "    <tr>\n",
       "      <th>2024-06-30</th>\n",
       "      <td>256</td>\n",
       "      <td>Sujo de óleo</td>\n",
       "    </tr>\n",
       "    <tr>\n",
       "      <th>2024-07-01</th>\n",
       "      <td>1</td>\n",
       "      <td>Bolha</td>\n",
       "    </tr>\n",
       "  </tbody>\n",
       "</table>\n",
       "<p>182 rows × 2 columns</p>\n",
       "</div>"
      ],
      "text/plain": [
       "            Total de Defeitos Defeito Mais Frequente\n",
       "Data                                                \n",
       "2024-01-01                159           Sujo de óleo\n",
       "2024-01-02                203           Sujo de óleo\n",
       "2024-01-03                222           Sujo de óleo\n",
       "2024-01-04                249           Sujo de óleo\n",
       "2024-01-05                268           Sujo de óleo\n",
       "...                       ...                    ...\n",
       "2024-06-27                218           Sujo de óleo\n",
       "2024-06-28                218           Sujo de óleo\n",
       "2024-06-29                213           Sujo de óleo\n",
       "2024-06-30                256           Sujo de óleo\n",
       "2024-07-01                  1                  Bolha\n",
       "\n",
       "[182 rows x 2 columns]"
      ]
     },
     "execution_count": 52,
     "metadata": {},
     "output_type": "execute_result"
    }
   ],
   "source": [
    "frequencia_defeitos_reset = frequencia_defeitos.reset_index()\n",
    "\n",
    "total_defeitos_por_data = frequencia_defeitos.groupby('Data')['Quantidade'].sum()\n",
    "\n",
    "defeito_mais_frequente_por_data_idx = frequencia_defeitos.groupby('Data')['Quantidade'].idxmax()\n",
    "\n",
    "defeito_mais_frequente_por_data = defeito_mais_frequente_por_data_idx.apply(lambda idx: idx[3])\n",
    "\n",
    "resumo_defeitos_por_data = pd.DataFrame({\n",
    "    'Total de Defeitos': total_defeitos_por_data,\n",
    "    'Defeito Mais Frequente': defeito_mais_frequente_por_data,\n",
    "})\n",
    "\n",
    "resumo_defeitos_por_data = resumo_defeitos_por_data.sort_index()\n",
    "\n",
    "resumo_defeitos_por_data"
   ]
  },
  {
   "cell_type": "markdown",
   "metadata": {},
   "source": [
    "# Trabalhando com Dataframe de `medidas da gota` e Dataframe com `total de defeitos` e `defeito mais frequente` por `Ordem` e `Data`"
   ]
  },
  {
   "cell_type": "markdown",
   "metadata": {},
   "source": [
    "## Importando Dataframe com as medidas da gota de cada ordem"
   ]
  },
  {
   "cell_type": "code",
   "execution_count": 53,
   "metadata": {},
   "outputs": [],
   "source": [
    "medidas_ordem = pd.read_excel('../dados/media_mensal_ordem_completa.xlsx')\n",
    "\n",
    "medidas_ordem.set_index(['Ordem de prod', 'Data de prod'], inplace=True)"
   ]
  },
  {
   "cell_type": "markdown",
   "metadata": {},
   "source": [
    "## Unindo os dois Dataframes"
   ]
  },
  {
   "cell_type": "markdown",
   "metadata": {},
   "source": [
    "### Resetando os índices dos dataframes para união, renomeando coluna `Data` do conjunto `resumo_defeitos_por_data_reset` para o mesmo do conjunto `medidas_ordem`"
   ]
  },
  {
   "cell_type": "code",
   "execution_count": 54,
   "metadata": {},
   "outputs": [],
   "source": [
    "resumo_defeitos_por_data_reset = resumo_defeitos_por_data.reset_index()\n",
    "medidas_ordem_reset = medidas_ordem.reset_index()\n",
    "\n",
    "resumo_defeitos_por_data_reset.rename(columns={'Data': 'Data de prod'}, inplace=True)"
   ]
  },
  {
   "cell_type": "markdown",
   "metadata": {},
   "source": [
    "### Retransformando colunas `Data de prod` para datetime após resetar o index, setando o index do conjunto `resumo_defeitos_por_ordem_reset` para união "
   ]
  },
  {
   "cell_type": "code",
   "execution_count": 55,
   "metadata": {},
   "outputs": [],
   "source": [
    "medidas_ordem_reset['Data de prod'] = pd.to_datetime(medidas_ordem_reset['Data de prod'])\n",
    "resumo_defeitos_por_data_reset['Data de prod'] = pd.to_datetime(resumo_defeitos_por_data_reset['Data de prod'])\n",
    "\n",
    "df_resumo_geral = pd.merge(\n",
    "    medidas_ordem_reset, \n",
    "    resumo_defeitos_por_data_reset, \n",
    "    on='Data de prod', \n",
    "    how='inner'\n",
    ")"
   ]
  },
  {
   "cell_type": "code",
   "execution_count": 56,
   "metadata": {},
   "outputs": [
    {
     "data": {
      "text/html": [
       "<div>\n",
       "<style scoped>\n",
       "    .dataframe tbody tr th:only-of-type {\n",
       "        vertical-align: middle;\n",
       "    }\n",
       "\n",
       "    .dataframe tbody tr th {\n",
       "        vertical-align: top;\n",
       "    }\n",
       "\n",
       "    .dataframe thead th {\n",
       "        text-align: right;\n",
       "    }\n",
       "</style>\n",
       "<table border=\"1\" class=\"dataframe\">\n",
       "  <thead>\n",
       "    <tr style=\"text-align: right;\">\n",
       "      <th></th>\n",
       "      <th>Fábrica</th>\n",
       "      <th>Fabrica – Linha</th>\n",
       "      <th>Linha</th>\n",
       "      <th>Máquina de produção</th>\n",
       "      <th>Ordem de trabalhos</th>\n",
       "      <th>Ref. do artigo</th>\n",
       "      <th>Artigo</th>\n",
       "      <th>Ordem de sub-trabalho</th>\n",
       "      <th>Produto final</th>\n",
       "      <th>Lote</th>\n",
       "      <th>...</th>\n",
       "      <th>Nqa</th>\n",
       "      <th>Estado</th>\n",
       "      <th>A verificar</th>\n",
       "      <th>Comentário</th>\n",
       "      <th>Data de criação</th>\n",
       "      <th>Chave primária</th>\n",
       "      <th>Definir dia</th>\n",
       "      <th>Dia de criação</th>\n",
       "      <th>Turno</th>\n",
       "      <th>Definir chave primária</th>\n",
       "    </tr>\n",
       "  </thead>\n",
       "  <tbody>\n",
       "    <tr>\n",
       "      <th>0</th>\n",
       "      <td>Wheaton</td>\n",
       "      <td>Wheaton - B1</td>\n",
       "      <td>B1</td>\n",
       "      <td>Máquina IS</td>\n",
       "      <td>193112</td>\n",
       "      <td>C1164.0000R</td>\n",
       "      <td>MB -1527-N1 | F | NH | C | LISO</td>\n",
       "      <td>NaN</td>\n",
       "      <td>NaN</td>\n",
       "      <td>NaN</td>\n",
       "      <td>...</td>\n",
       "      <td>0.0</td>\n",
       "      <td>0</td>\n",
       "      <td>0</td>\n",
       "      <td>NaN</td>\n",
       "      <td>2024-01-01 06:03:07</td>\n",
       "      <td>2517600</td>\n",
       "      <td>2024-01-01</td>\n",
       "      <td>2024-01-01</td>\n",
       "      <td>1</td>\n",
       "      <td>872218</td>\n",
       "    </tr>\n",
       "    <tr>\n",
       "      <th>1</th>\n",
       "      <td>Wheaton</td>\n",
       "      <td>Wheaton - B1</td>\n",
       "      <td>B1</td>\n",
       "      <td>Máquina IS</td>\n",
       "      <td>193112</td>\n",
       "      <td>C1164.0000R</td>\n",
       "      <td>MB -1527-N1 | F | NH | C | LISO</td>\n",
       "      <td>NaN</td>\n",
       "      <td>NaN</td>\n",
       "      <td>NaN</td>\n",
       "      <td>...</td>\n",
       "      <td>0.0</td>\n",
       "      <td>0</td>\n",
       "      <td>0</td>\n",
       "      <td>NaN</td>\n",
       "      <td>2024-01-01 06:03:07</td>\n",
       "      <td>2517601</td>\n",
       "      <td>2024-01-01</td>\n",
       "      <td>2024-01-01</td>\n",
       "      <td>1</td>\n",
       "      <td>872218</td>\n",
       "    </tr>\n",
       "    <tr>\n",
       "      <th>2</th>\n",
       "      <td>Wheaton</td>\n",
       "      <td>Wheaton - B1</td>\n",
       "      <td>B1</td>\n",
       "      <td>Máquina IS</td>\n",
       "      <td>193112</td>\n",
       "      <td>C1164.0000R</td>\n",
       "      <td>MB -1527-N1 | F | NH | C | LISO</td>\n",
       "      <td>NaN</td>\n",
       "      <td>NaN</td>\n",
       "      <td>NaN</td>\n",
       "      <td>...</td>\n",
       "      <td>0.0</td>\n",
       "      <td>0</td>\n",
       "      <td>0</td>\n",
       "      <td>NaN</td>\n",
       "      <td>2024-01-01 06:57:09</td>\n",
       "      <td>2517738</td>\n",
       "      <td>2024-01-01</td>\n",
       "      <td>2024-01-01</td>\n",
       "      <td>1</td>\n",
       "      <td>872263</td>\n",
       "    </tr>\n",
       "    <tr>\n",
       "      <th>3</th>\n",
       "      <td>Wheaton</td>\n",
       "      <td>Wheaton - B1</td>\n",
       "      <td>B1</td>\n",
       "      <td>Máquina IS</td>\n",
       "      <td>193112</td>\n",
       "      <td>C1164.0000R</td>\n",
       "      <td>MB -1527-N1 | F | NH | C | LISO</td>\n",
       "      <td>NaN</td>\n",
       "      <td>NaN</td>\n",
       "      <td>NaN</td>\n",
       "      <td>...</td>\n",
       "      <td>0.0</td>\n",
       "      <td>0</td>\n",
       "      <td>0</td>\n",
       "      <td>NaN</td>\n",
       "      <td>2024-01-01 06:57:09</td>\n",
       "      <td>2517739</td>\n",
       "      <td>2024-01-01</td>\n",
       "      <td>2024-01-01</td>\n",
       "      <td>1</td>\n",
       "      <td>872263</td>\n",
       "    </tr>\n",
       "    <tr>\n",
       "      <th>4</th>\n",
       "      <td>Wheaton</td>\n",
       "      <td>Wheaton - B1</td>\n",
       "      <td>B1</td>\n",
       "      <td>Máquina IS</td>\n",
       "      <td>193112</td>\n",
       "      <td>C1164.0000R</td>\n",
       "      <td>MB -1527-N1 | F | NH | C | LISO</td>\n",
       "      <td>NaN</td>\n",
       "      <td>NaN</td>\n",
       "      <td>NaN</td>\n",
       "      <td>...</td>\n",
       "      <td>0.0</td>\n",
       "      <td>0</td>\n",
       "      <td>0</td>\n",
       "      <td>NaN</td>\n",
       "      <td>2024-01-01 06:57:09</td>\n",
       "      <td>2517740</td>\n",
       "      <td>2024-01-01</td>\n",
       "      <td>2024-01-01</td>\n",
       "      <td>1</td>\n",
       "      <td>872263</td>\n",
       "    </tr>\n",
       "    <tr>\n",
       "      <th>...</th>\n",
       "      <td>...</td>\n",
       "      <td>...</td>\n",
       "      <td>...</td>\n",
       "      <td>...</td>\n",
       "      <td>...</td>\n",
       "      <td>...</td>\n",
       "      <td>...</td>\n",
       "      <td>...</td>\n",
       "      <td>...</td>\n",
       "      <td>...</td>\n",
       "      <td>...</td>\n",
       "      <td>...</td>\n",
       "      <td>...</td>\n",
       "      <td>...</td>\n",
       "      <td>...</td>\n",
       "      <td>...</td>\n",
       "      <td>...</td>\n",
       "      <td>...</td>\n",
       "      <td>...</td>\n",
       "      <td>...</td>\n",
       "      <td>...</td>\n",
       "    </tr>\n",
       "    <tr>\n",
       "      <th>38620</th>\n",
       "      <td>Wheaton</td>\n",
       "      <td>Wheaton - B1</td>\n",
       "      <td>B1</td>\n",
       "      <td>Máquina IS</td>\n",
       "      <td>194121</td>\n",
       "      <td>C0516.0000R</td>\n",
       "      <td>MB -1377-N1N | F | NH | B | LISO</td>\n",
       "      <td>NaN</td>\n",
       "      <td>NaN</td>\n",
       "      <td>NaN</td>\n",
       "      <td>...</td>\n",
       "      <td>0.0</td>\n",
       "      <td>0</td>\n",
       "      <td>0</td>\n",
       "      <td>NaN</td>\n",
       "      <td>2024-06-30 23:20:03</td>\n",
       "      <td>3160120</td>\n",
       "      <td>2024-06-30</td>\n",
       "      <td>2024-06-30</td>\n",
       "      <td>3</td>\n",
       "      <td>1091441</td>\n",
       "    </tr>\n",
       "    <tr>\n",
       "      <th>38621</th>\n",
       "      <td>Wheaton</td>\n",
       "      <td>Wheaton - B1</td>\n",
       "      <td>B1</td>\n",
       "      <td>Máquina IS</td>\n",
       "      <td>194121</td>\n",
       "      <td>C0516.0000R</td>\n",
       "      <td>MB -1377-N1N | F | NH | B | LISO</td>\n",
       "      <td>NaN</td>\n",
       "      <td>NaN</td>\n",
       "      <td>NaN</td>\n",
       "      <td>...</td>\n",
       "      <td>0.0</td>\n",
       "      <td>0</td>\n",
       "      <td>0</td>\n",
       "      <td>NaN</td>\n",
       "      <td>2024-06-30 23:20:03</td>\n",
       "      <td>3160126</td>\n",
       "      <td>2024-06-30</td>\n",
       "      <td>2024-06-30</td>\n",
       "      <td>3</td>\n",
       "      <td>1091441</td>\n",
       "    </tr>\n",
       "    <tr>\n",
       "      <th>38622</th>\n",
       "      <td>Wheaton</td>\n",
       "      <td>Wheaton - B1</td>\n",
       "      <td>B1</td>\n",
       "      <td>Máquina IS</td>\n",
       "      <td>194121</td>\n",
       "      <td>C0516.0000R</td>\n",
       "      <td>MB -1377-N1N | F | NH | B | LISO</td>\n",
       "      <td>NaN</td>\n",
       "      <td>NaN</td>\n",
       "      <td>NaN</td>\n",
       "      <td>...</td>\n",
       "      <td>0.0</td>\n",
       "      <td>0</td>\n",
       "      <td>0</td>\n",
       "      <td>NaN</td>\n",
       "      <td>2024-06-30 23:20:03</td>\n",
       "      <td>3160122</td>\n",
       "      <td>2024-06-30</td>\n",
       "      <td>2024-06-30</td>\n",
       "      <td>3</td>\n",
       "      <td>1091441</td>\n",
       "    </tr>\n",
       "    <tr>\n",
       "      <th>38623</th>\n",
       "      <td>Wheaton</td>\n",
       "      <td>Wheaton - B1</td>\n",
       "      <td>B1</td>\n",
       "      <td>Máquina IS</td>\n",
       "      <td>194121</td>\n",
       "      <td>C0516.0000R</td>\n",
       "      <td>MB -1377-N1N | F | NH | B | LISO</td>\n",
       "      <td>NaN</td>\n",
       "      <td>NaN</td>\n",
       "      <td>NaN</td>\n",
       "      <td>...</td>\n",
       "      <td>0.0</td>\n",
       "      <td>0</td>\n",
       "      <td>0</td>\n",
       "      <td>NaN</td>\n",
       "      <td>2024-06-30 23:20:03</td>\n",
       "      <td>3160127</td>\n",
       "      <td>2024-06-30</td>\n",
       "      <td>2024-06-30</td>\n",
       "      <td>3</td>\n",
       "      <td>1091441</td>\n",
       "    </tr>\n",
       "    <tr>\n",
       "      <th>38624</th>\n",
       "      <td>Wheaton</td>\n",
       "      <td>Wheaton - B1</td>\n",
       "      <td>B1</td>\n",
       "      <td>Máquina IS</td>\n",
       "      <td>194121</td>\n",
       "      <td>C0516.0000R</td>\n",
       "      <td>MB -1377-N1N | F | NH | B | LISO</td>\n",
       "      <td>NaN</td>\n",
       "      <td>NaN</td>\n",
       "      <td>NaN</td>\n",
       "      <td>...</td>\n",
       "      <td>0.0</td>\n",
       "      <td>0</td>\n",
       "      <td>0</td>\n",
       "      <td>NaN</td>\n",
       "      <td>2024-07-01 00:05:53</td>\n",
       "      <td>3160215</td>\n",
       "      <td>2024-07-01</td>\n",
       "      <td>2024-07-01</td>\n",
       "      <td>3</td>\n",
       "      <td>1091473</td>\n",
       "    </tr>\n",
       "  </tbody>\n",
       "</table>\n",
       "<p>38625 rows × 45 columns</p>\n",
       "</div>"
      ],
      "text/plain": [
       "       Fábrica Fabrica – Linha Linha Máquina de produção  Ordem de trabalhos  \\\n",
       "0      Wheaton    Wheaton - B1    B1          Máquina IS              193112   \n",
       "1      Wheaton    Wheaton - B1    B1          Máquina IS              193112   \n",
       "2      Wheaton    Wheaton - B1    B1          Máquina IS              193112   \n",
       "3      Wheaton    Wheaton - B1    B1          Máquina IS              193112   \n",
       "4      Wheaton    Wheaton - B1    B1          Máquina IS              193112   \n",
       "...        ...             ...   ...                 ...                 ...   \n",
       "38620  Wheaton    Wheaton - B1    B1          Máquina IS              194121   \n",
       "38621  Wheaton    Wheaton - B1    B1          Máquina IS              194121   \n",
       "38622  Wheaton    Wheaton - B1    B1          Máquina IS              194121   \n",
       "38623  Wheaton    Wheaton - B1    B1          Máquina IS              194121   \n",
       "38624  Wheaton    Wheaton - B1    B1          Máquina IS              194121   \n",
       "\n",
       "      Ref. do artigo                            Artigo  Ordem de sub-trabalho  \\\n",
       "0        C1164.0000R   MB -1527-N1 | F | NH | C | LISO                    NaN   \n",
       "1        C1164.0000R   MB -1527-N1 | F | NH | C | LISO                    NaN   \n",
       "2        C1164.0000R   MB -1527-N1 | F | NH | C | LISO                    NaN   \n",
       "3        C1164.0000R   MB -1527-N1 | F | NH | C | LISO                    NaN   \n",
       "4        C1164.0000R   MB -1527-N1 | F | NH | C | LISO                    NaN   \n",
       "...              ...                               ...                    ...   \n",
       "38620    C0516.0000R  MB -1377-N1N | F | NH | B | LISO                    NaN   \n",
       "38621    C0516.0000R  MB -1377-N1N | F | NH | B | LISO                    NaN   \n",
       "38622    C0516.0000R  MB -1377-N1N | F | NH | B | LISO                    NaN   \n",
       "38623    C0516.0000R  MB -1377-N1N | F | NH | B | LISO                    NaN   \n",
       "38624    C0516.0000R  MB -1377-N1N | F | NH | B | LISO                    NaN   \n",
       "\n",
       "      Produto final  Lote  ...  Nqa Estado A verificar  Comentário  \\\n",
       "0               NaN   NaN  ...  0.0      0           0         NaN   \n",
       "1               NaN   NaN  ...  0.0      0           0         NaN   \n",
       "2               NaN   NaN  ...  0.0      0           0         NaN   \n",
       "3               NaN   NaN  ...  0.0      0           0         NaN   \n",
       "4               NaN   NaN  ...  0.0      0           0         NaN   \n",
       "...             ...   ...  ...  ...    ...         ...         ...   \n",
       "38620           NaN   NaN  ...  0.0      0           0         NaN   \n",
       "38621           NaN   NaN  ...  0.0      0           0         NaN   \n",
       "38622           NaN   NaN  ...  0.0      0           0         NaN   \n",
       "38623           NaN   NaN  ...  0.0      0           0         NaN   \n",
       "38624           NaN   NaN  ...  0.0      0           0         NaN   \n",
       "\n",
       "          Data de criação  Chave primária  Definir dia Dia de criação  Turno  \\\n",
       "0     2024-01-01 06:03:07         2517600   2024-01-01     2024-01-01      1   \n",
       "1     2024-01-01 06:03:07         2517601   2024-01-01     2024-01-01      1   \n",
       "2     2024-01-01 06:57:09         2517738   2024-01-01     2024-01-01      1   \n",
       "3     2024-01-01 06:57:09         2517739   2024-01-01     2024-01-01      1   \n",
       "4     2024-01-01 06:57:09         2517740   2024-01-01     2024-01-01      1   \n",
       "...                   ...             ...          ...            ...    ...   \n",
       "38620 2024-06-30 23:20:03         3160120   2024-06-30     2024-06-30      3   \n",
       "38621 2024-06-30 23:20:03         3160126   2024-06-30     2024-06-30      3   \n",
       "38622 2024-06-30 23:20:03         3160122   2024-06-30     2024-06-30      3   \n",
       "38623 2024-06-30 23:20:03         3160127   2024-06-30     2024-06-30      3   \n",
       "38624 2024-07-01 00:05:53         3160215   2024-07-01     2024-07-01      3   \n",
       "\n",
       "       Definir chave primária  \n",
       "0                      872218  \n",
       "1                      872218  \n",
       "2                      872263  \n",
       "3                      872263  \n",
       "4                      872263  \n",
       "...                       ...  \n",
       "38620                 1091441  \n",
       "38621                 1091441  \n",
       "38622                 1091441  \n",
       "38623                 1091441  \n",
       "38624                 1091473  \n",
       "\n",
       "[38625 rows x 45 columns]"
      ]
     },
     "execution_count": 56,
     "metadata": {},
     "output_type": "execute_result"
    }
   ],
   "source": [
    "df"
   ]
  },
  {
   "cell_type": "markdown",
   "metadata": {},
   "source": [
    "### Adicionando coluna `Ref. do Artigo` e a transformando em índice"
   ]
  },
  {
   "cell_type": "code",
   "execution_count": 57,
   "metadata": {},
   "outputs": [],
   "source": [
    "resumo_defeitos_por_ordem_reset = resumo_defeitos_por_ordem_reset.set_index('Ordem de trabalhos')\n",
    "\n",
    "df_resumo_geral = pd.merge(\n",
    "    df_resumo_geral, \n",
    "    resumo_defeitos_por_ordem_reset[['Ref. do Artigo']], \n",
    "    left_on='Ordem de prod', \n",
    "    right_index=True, \n",
    "    how='left'\n",
    ")\n",
    "\n",
    "df_resumo_geral = df_resumo_geral.set_index(['Ordem de prod', 'Ref. do Artigo', 'Data de prod'])\n",
    "\n",
    "df_resumo_geral.sort_index(inplace=True)"
   ]
  },
  {
   "cell_type": "markdown",
   "metadata": {},
   "source": [
    "### Checando valores nulos e tipos de dados"
   ]
  },
  {
   "cell_type": "code",
   "execution_count": 58,
   "metadata": {},
   "outputs": [
    {
     "name": "stdout",
     "output_type": "stream",
     "text": [
      "<class 'pandas.core.frame.DataFrame'>\n",
      "MultiIndex: 200 entries, (192970, 'C0516.0000R', Timestamp('2024-01-03 00:00:00')) to (194121, 'C0516.0000R', Timestamp('2024-06-30 00:00:00'))\n",
      "Data columns (total 13 columns):\n",
      " #   Column                      Non-Null Count  Dtype  \n",
      "---  ------                      --------------  -----  \n",
      " 0   Gotas cortadas (toneladas)  200 non-null    float64\n",
      " 1   Peso médio (g)              200 non-null    float64\n",
      " 2   Cortes por minuto           200 non-null    float64\n",
      " 3   Comprimento médio (mm)      200 non-null    float64\n",
      " 4   Diâmetro                    200 non-null    float64\n",
      " 5   Temperatura (F°)            200 non-null    float64\n",
      " 6   Tras-PV (F°)                200 non-null    float64\n",
      " 7   Fritas-PV (F°)              200 non-null    float64\n",
      " 8   Agit-PV (F°)                200 non-null    float64\n",
      " 9   Meio-PV (F°)                200 non-null    float64\n",
      " 10  Frente-PV (F°)              200 non-null    float64\n",
      " 11  Total de Defeitos           200 non-null    int64  \n",
      " 12  Defeito Mais Frequente      200 non-null    object \n",
      "dtypes: float64(11), int64(1), object(1)\n",
      "memory usage: 28.7+ KB\n"
     ]
    }
   ],
   "source": [
    "df_resumo_geral.info()"
   ]
  },
  {
   "cell_type": "markdown",
   "metadata": {},
   "source": [
    "### Renomendo colunas para facilitar a visualização"
   ]
  },
  {
   "cell_type": "code",
   "execution_count": 59,
   "metadata": {},
   "outputs": [],
   "source": [
    "df_resumo_geral = df_resumo_geral.rename(columns={'Total de Defeitos': 'Total de Defeitos no Dia', 'Defeito Mais Frequente': 'Defeito Mais Frequente do Dia'})"
   ]
  },
  {
   "cell_type": "markdown",
   "metadata": {},
   "source": [
    "### Dataframe de Total de Defeitos e Defeito Mais Frequente"
   ]
  },
  {
   "cell_type": "code",
   "execution_count": 60,
   "metadata": {},
   "outputs": [
    {
     "data": {
      "text/html": [
       "<div>\n",
       "<style scoped>\n",
       "    .dataframe tbody tr th:only-of-type {\n",
       "        vertical-align: middle;\n",
       "    }\n",
       "\n",
       "    .dataframe tbody tr th {\n",
       "        vertical-align: top;\n",
       "    }\n",
       "\n",
       "    .dataframe thead th {\n",
       "        text-align: right;\n",
       "    }\n",
       "</style>\n",
       "<table border=\"1\" class=\"dataframe\">\n",
       "  <thead>\n",
       "    <tr style=\"text-align: right;\">\n",
       "      <th></th>\n",
       "      <th></th>\n",
       "      <th></th>\n",
       "      <th>Gotas cortadas (toneladas)</th>\n",
       "      <th>Peso médio (g)</th>\n",
       "      <th>Cortes por minuto</th>\n",
       "      <th>Comprimento médio (mm)</th>\n",
       "      <th>Diâmetro</th>\n",
       "      <th>Temperatura (F°)</th>\n",
       "      <th>Tras-PV (F°)</th>\n",
       "      <th>Fritas-PV (F°)</th>\n",
       "      <th>Agit-PV (F°)</th>\n",
       "      <th>Meio-PV (F°)</th>\n",
       "      <th>Frente-PV (F°)</th>\n",
       "      <th>Total de Defeitos no Dia</th>\n",
       "      <th>Defeito Mais Frequente do Dia</th>\n",
       "    </tr>\n",
       "    <tr>\n",
       "      <th>Ordem de prod</th>\n",
       "      <th>Ref. do Artigo</th>\n",
       "      <th>Data de prod</th>\n",
       "      <th></th>\n",
       "      <th></th>\n",
       "      <th></th>\n",
       "      <th></th>\n",
       "      <th></th>\n",
       "      <th></th>\n",
       "      <th></th>\n",
       "      <th></th>\n",
       "      <th></th>\n",
       "      <th></th>\n",
       "      <th></th>\n",
       "      <th></th>\n",
       "      <th></th>\n",
       "    </tr>\n",
       "  </thead>\n",
       "  <tbody>\n",
       "    <tr>\n",
       "      <th rowspan=\"5\" valign=\"top\">192970</th>\n",
       "      <th rowspan=\"5\" valign=\"top\">C0516.0000R</th>\n",
       "      <th>2024-01-03</th>\n",
       "      <td>20.948</td>\n",
       "      <td>169.3</td>\n",
       "      <td>90.0</td>\n",
       "      <td>110.4</td>\n",
       "      <td>32.5</td>\n",
       "      <td>2505.02</td>\n",
       "      <td>2341.1</td>\n",
       "      <td>2302.9</td>\n",
       "      <td>2258.9</td>\n",
       "      <td>2201.6</td>\n",
       "      <td>2176.4</td>\n",
       "      <td>222</td>\n",
       "      <td>Sujo de óleo</td>\n",
       "    </tr>\n",
       "    <tr>\n",
       "      <th>2024-01-04</th>\n",
       "      <td>21.022</td>\n",
       "      <td>169.7</td>\n",
       "      <td>89.0</td>\n",
       "      <td>85.6</td>\n",
       "      <td>18.1</td>\n",
       "      <td>3094.52</td>\n",
       "      <td>2349.6</td>\n",
       "      <td>2299.8</td>\n",
       "      <td>2249.2</td>\n",
       "      <td>2201.0</td>\n",
       "      <td>2173.0</td>\n",
       "      <td>249</td>\n",
       "      <td>Sujo de óleo</td>\n",
       "    </tr>\n",
       "    <tr>\n",
       "      <th>2024-01-05</th>\n",
       "      <td>21.449</td>\n",
       "      <td>173.6</td>\n",
       "      <td>86.0</td>\n",
       "      <td>140.5</td>\n",
       "      <td>32.9</td>\n",
       "      <td>3369.74</td>\n",
       "      <td>2350.0</td>\n",
       "      <td>2300.0</td>\n",
       "      <td>2250.0</td>\n",
       "      <td>2210.0</td>\n",
       "      <td>2175.0</td>\n",
       "      <td>268</td>\n",
       "      <td>Sujo de óleo</td>\n",
       "    </tr>\n",
       "    <tr>\n",
       "      <th>2024-01-06</th>\n",
       "      <td>21.526</td>\n",
       "      <td>170.2</td>\n",
       "      <td>86.0</td>\n",
       "      <td>144.7</td>\n",
       "      <td>32.7</td>\n",
       "      <td>3335.18</td>\n",
       "      <td>2350.0</td>\n",
       "      <td>2300.0</td>\n",
       "      <td>2250.0</td>\n",
       "      <td>2210.0</td>\n",
       "      <td>2175.5</td>\n",
       "      <td>242</td>\n",
       "      <td>Sujo de óleo</td>\n",
       "    </tr>\n",
       "    <tr>\n",
       "      <th>2024-01-07</th>\n",
       "      <td>21.439</td>\n",
       "      <td>171.7</td>\n",
       "      <td>86.7</td>\n",
       "      <td>141.5</td>\n",
       "      <td>30.2</td>\n",
       "      <td>3340.94</td>\n",
       "      <td>2349.6</td>\n",
       "      <td>2300.0</td>\n",
       "      <td>2250.0</td>\n",
       "      <td>2210.0</td>\n",
       "      <td>2177.0</td>\n",
       "      <td>232</td>\n",
       "      <td>Sujo de óleo</td>\n",
       "    </tr>\n",
       "    <tr>\n",
       "      <th>...</th>\n",
       "      <th>...</th>\n",
       "      <th>...</th>\n",
       "      <td>...</td>\n",
       "      <td>...</td>\n",
       "      <td>...</td>\n",
       "      <td>...</td>\n",
       "      <td>...</td>\n",
       "      <td>...</td>\n",
       "      <td>...</td>\n",
       "      <td>...</td>\n",
       "      <td>...</td>\n",
       "      <td>...</td>\n",
       "      <td>...</td>\n",
       "      <td>...</td>\n",
       "      <td>...</td>\n",
       "    </tr>\n",
       "    <tr>\n",
       "      <th rowspan=\"5\" valign=\"top\">194121</th>\n",
       "      <th rowspan=\"5\" valign=\"top\">C0516.0000R</th>\n",
       "      <th>2024-06-26</th>\n",
       "      <td>21.412</td>\n",
       "      <td>169.0</td>\n",
       "      <td>88.0</td>\n",
       "      <td>124.3</td>\n",
       "      <td>32.6</td>\n",
       "      <td>1940.00</td>\n",
       "      <td>2340.0</td>\n",
       "      <td>2300.0</td>\n",
       "      <td>2270.0</td>\n",
       "      <td>2230.0</td>\n",
       "      <td>2189.3</td>\n",
       "      <td>258</td>\n",
       "      <td>Sujo de óleo</td>\n",
       "    </tr>\n",
       "    <tr>\n",
       "      <th>2024-06-27</th>\n",
       "      <td>21.447</td>\n",
       "      <td>168.9</td>\n",
       "      <td>88.0</td>\n",
       "      <td>120.2</td>\n",
       "      <td>33.6</td>\n",
       "      <td>2056.28</td>\n",
       "      <td>2340.0</td>\n",
       "      <td>2300.0</td>\n",
       "      <td>2269.6</td>\n",
       "      <td>2229.6</td>\n",
       "      <td>2187.0</td>\n",
       "      <td>218</td>\n",
       "      <td>Sujo de óleo</td>\n",
       "    </tr>\n",
       "    <tr>\n",
       "      <th>2024-06-28</th>\n",
       "      <td>21.491</td>\n",
       "      <td>169.3</td>\n",
       "      <td>88.0</td>\n",
       "      <td>124.1</td>\n",
       "      <td>34.2</td>\n",
       "      <td>2015.42</td>\n",
       "      <td>2340.0</td>\n",
       "      <td>2300.0</td>\n",
       "      <td>2260.0</td>\n",
       "      <td>2220.0</td>\n",
       "      <td>2187.0</td>\n",
       "      <td>218</td>\n",
       "      <td>Sujo de óleo</td>\n",
       "    </tr>\n",
       "    <tr>\n",
       "      <th>2024-06-29</th>\n",
       "      <td>21.419</td>\n",
       "      <td>168.8</td>\n",
       "      <td>88.0</td>\n",
       "      <td>120.0</td>\n",
       "      <td>33.5</td>\n",
       "      <td>2020.28</td>\n",
       "      <td>2340.0</td>\n",
       "      <td>2300.0</td>\n",
       "      <td>2260.0</td>\n",
       "      <td>2220.0</td>\n",
       "      <td>2187.0</td>\n",
       "      <td>213</td>\n",
       "      <td>Sujo de óleo</td>\n",
       "    </tr>\n",
       "    <tr>\n",
       "      <th>2024-06-30</th>\n",
       "      <td>21.548</td>\n",
       "      <td>169.2</td>\n",
       "      <td>88.9</td>\n",
       "      <td>122.9</td>\n",
       "      <td>34.6</td>\n",
       "      <td>2055.56</td>\n",
       "      <td>2340.0</td>\n",
       "      <td>2300.0</td>\n",
       "      <td>2260.0</td>\n",
       "      <td>2220.0</td>\n",
       "      <td>2190.0</td>\n",
       "      <td>256</td>\n",
       "      <td>Sujo de óleo</td>\n",
       "    </tr>\n",
       "  </tbody>\n",
       "</table>\n",
       "<p>200 rows × 13 columns</p>\n",
       "</div>"
      ],
      "text/plain": [
       "                                           Gotas cortadas (toneladas)  \\\n",
       "Ordem de prod Ref. do Artigo Data de prod                               \n",
       "192970        C0516.0000R    2024-01-03                        20.948   \n",
       "                             2024-01-04                        21.022   \n",
       "                             2024-01-05                        21.449   \n",
       "                             2024-01-06                        21.526   \n",
       "                             2024-01-07                        21.439   \n",
       "...                                                               ...   \n",
       "194121        C0516.0000R    2024-06-26                        21.412   \n",
       "                             2024-06-27                        21.447   \n",
       "                             2024-06-28                        21.491   \n",
       "                             2024-06-29                        21.419   \n",
       "                             2024-06-30                        21.548   \n",
       "\n",
       "                                           Peso médio (g)  Cortes por minuto  \\\n",
       "Ordem de prod Ref. do Artigo Data de prod                                      \n",
       "192970        C0516.0000R    2024-01-03             169.3               90.0   \n",
       "                             2024-01-04             169.7               89.0   \n",
       "                             2024-01-05             173.6               86.0   \n",
       "                             2024-01-06             170.2               86.0   \n",
       "                             2024-01-07             171.7               86.7   \n",
       "...                                                   ...                ...   \n",
       "194121        C0516.0000R    2024-06-26             169.0               88.0   \n",
       "                             2024-06-27             168.9               88.0   \n",
       "                             2024-06-28             169.3               88.0   \n",
       "                             2024-06-29             168.8               88.0   \n",
       "                             2024-06-30             169.2               88.9   \n",
       "\n",
       "                                           Comprimento médio (mm)  Diâmetro  \\\n",
       "Ordem de prod Ref. do Artigo Data de prod                                     \n",
       "192970        C0516.0000R    2024-01-03                     110.4      32.5   \n",
       "                             2024-01-04                      85.6      18.1   \n",
       "                             2024-01-05                     140.5      32.9   \n",
       "                             2024-01-06                     144.7      32.7   \n",
       "                             2024-01-07                     141.5      30.2   \n",
       "...                                                           ...       ...   \n",
       "194121        C0516.0000R    2024-06-26                     124.3      32.6   \n",
       "                             2024-06-27                     120.2      33.6   \n",
       "                             2024-06-28                     124.1      34.2   \n",
       "                             2024-06-29                     120.0      33.5   \n",
       "                             2024-06-30                     122.9      34.6   \n",
       "\n",
       "                                           Temperatura (F°)  Tras-PV (F°)  \\\n",
       "Ordem de prod Ref. do Artigo Data de prod                                   \n",
       "192970        C0516.0000R    2024-01-03             2505.02        2341.1   \n",
       "                             2024-01-04             3094.52        2349.6   \n",
       "                             2024-01-05             3369.74        2350.0   \n",
       "                             2024-01-06             3335.18        2350.0   \n",
       "                             2024-01-07             3340.94        2349.6   \n",
       "...                                                     ...           ...   \n",
       "194121        C0516.0000R    2024-06-26             1940.00        2340.0   \n",
       "                             2024-06-27             2056.28        2340.0   \n",
       "                             2024-06-28             2015.42        2340.0   \n",
       "                             2024-06-29             2020.28        2340.0   \n",
       "                             2024-06-30             2055.56        2340.0   \n",
       "\n",
       "                                           Fritas-PV (F°)  Agit-PV (F°)  \\\n",
       "Ordem de prod Ref. do Artigo Data de prod                                 \n",
       "192970        C0516.0000R    2024-01-03            2302.9        2258.9   \n",
       "                             2024-01-04            2299.8        2249.2   \n",
       "                             2024-01-05            2300.0        2250.0   \n",
       "                             2024-01-06            2300.0        2250.0   \n",
       "                             2024-01-07            2300.0        2250.0   \n",
       "...                                                   ...           ...   \n",
       "194121        C0516.0000R    2024-06-26            2300.0        2270.0   \n",
       "                             2024-06-27            2300.0        2269.6   \n",
       "                             2024-06-28            2300.0        2260.0   \n",
       "                             2024-06-29            2300.0        2260.0   \n",
       "                             2024-06-30            2300.0        2260.0   \n",
       "\n",
       "                                           Meio-PV (F°)  Frente-PV (F°)  \\\n",
       "Ordem de prod Ref. do Artigo Data de prod                                 \n",
       "192970        C0516.0000R    2024-01-03          2201.6          2176.4   \n",
       "                             2024-01-04          2201.0          2173.0   \n",
       "                             2024-01-05          2210.0          2175.0   \n",
       "                             2024-01-06          2210.0          2175.5   \n",
       "                             2024-01-07          2210.0          2177.0   \n",
       "...                                                 ...             ...   \n",
       "194121        C0516.0000R    2024-06-26          2230.0          2189.3   \n",
       "                             2024-06-27          2229.6          2187.0   \n",
       "                             2024-06-28          2220.0          2187.0   \n",
       "                             2024-06-29          2220.0          2187.0   \n",
       "                             2024-06-30          2220.0          2190.0   \n",
       "\n",
       "                                           Total de Defeitos no Dia  \\\n",
       "Ordem de prod Ref. do Artigo Data de prod                             \n",
       "192970        C0516.0000R    2024-01-03                         222   \n",
       "                             2024-01-04                         249   \n",
       "                             2024-01-05                         268   \n",
       "                             2024-01-06                         242   \n",
       "                             2024-01-07                         232   \n",
       "...                                                             ...   \n",
       "194121        C0516.0000R    2024-06-26                         258   \n",
       "                             2024-06-27                         218   \n",
       "                             2024-06-28                         218   \n",
       "                             2024-06-29                         213   \n",
       "                             2024-06-30                         256   \n",
       "\n",
       "                                          Defeito Mais Frequente do Dia  \n",
       "Ordem de prod Ref. do Artigo Data de prod                                \n",
       "192970        C0516.0000R    2024-01-03                    Sujo de óleo  \n",
       "                             2024-01-04                    Sujo de óleo  \n",
       "                             2024-01-05                    Sujo de óleo  \n",
       "                             2024-01-06                    Sujo de óleo  \n",
       "                             2024-01-07                    Sujo de óleo  \n",
       "...                                                                 ...  \n",
       "194121        C0516.0000R    2024-06-26                    Sujo de óleo  \n",
       "                             2024-06-27                    Sujo de óleo  \n",
       "                             2024-06-28                    Sujo de óleo  \n",
       "                             2024-06-29                    Sujo de óleo  \n",
       "                             2024-06-30                    Sujo de óleo  \n",
       "\n",
       "[200 rows x 13 columns]"
      ]
     },
     "execution_count": 60,
     "metadata": {},
     "output_type": "execute_result"
    }
   ],
   "source": [
    "df_resumo_geral"
   ]
  },
  {
   "cell_type": "markdown",
   "metadata": {},
   "source": [
    "### Resetando index"
   ]
  },
  {
   "cell_type": "markdown",
   "metadata": {},
   "source": [
    "Para dar mais flexibilidade nas análises, gráficos, agrupamentos"
   ]
  },
  {
   "cell_type": "code",
   "execution_count": 61,
   "metadata": {},
   "outputs": [],
   "source": [
    "df_resumo_geral_resetado = df_resumo_geral.reset_index()"
   ]
  },
  {
   "cell_type": "markdown",
   "metadata": {},
   "source": [
    "### Criando Dataframe com a duração da ordem"
   ]
  },
  {
   "cell_type": "markdown",
   "metadata": {},
   "source": [
    "`nunique()` retorna o número de valores únicos no grupo. Dias únicos dentro de cada ordem"
   ]
  },
  {
   "cell_type": "code",
   "execution_count": 62,
   "metadata": {},
   "outputs": [
    {
     "data": {
      "text/html": [
       "<div>\n",
       "<style scoped>\n",
       "    .dataframe tbody tr th:only-of-type {\n",
       "        vertical-align: middle;\n",
       "    }\n",
       "\n",
       "    .dataframe tbody tr th {\n",
       "        vertical-align: top;\n",
       "    }\n",
       "\n",
       "    .dataframe thead th {\n",
       "        text-align: right;\n",
       "    }\n",
       "</style>\n",
       "<table border=\"1\" class=\"dataframe\">\n",
       "  <thead>\n",
       "    <tr style=\"text-align: right;\">\n",
       "      <th></th>\n",
       "      <th>Ordem de prod</th>\n",
       "      <th>Data de prod</th>\n",
       "    </tr>\n",
       "  </thead>\n",
       "  <tbody>\n",
       "    <tr>\n",
       "      <th>0</th>\n",
       "      <td>192970</td>\n",
       "      <td>9</td>\n",
       "    </tr>\n",
       "    <tr>\n",
       "      <th>1</th>\n",
       "      <td>193112</td>\n",
       "      <td>3</td>\n",
       "    </tr>\n",
       "    <tr>\n",
       "      <th>2</th>\n",
       "      <td>193164</td>\n",
       "      <td>12</td>\n",
       "    </tr>\n",
       "    <tr>\n",
       "      <th>3</th>\n",
       "      <td>193206</td>\n",
       "      <td>4</td>\n",
       "    </tr>\n",
       "    <tr>\n",
       "      <th>4</th>\n",
       "      <td>193207</td>\n",
       "      <td>10</td>\n",
       "    </tr>\n",
       "    <tr>\n",
       "      <th>5</th>\n",
       "      <td>193208</td>\n",
       "      <td>2</td>\n",
       "    </tr>\n",
       "    <tr>\n",
       "      <th>6</th>\n",
       "      <td>193209</td>\n",
       "      <td>7</td>\n",
       "    </tr>\n",
       "    <tr>\n",
       "      <th>7</th>\n",
       "      <td>193342</td>\n",
       "      <td>20</td>\n",
       "    </tr>\n",
       "    <tr>\n",
       "      <th>8</th>\n",
       "      <td>193368</td>\n",
       "      <td>7</td>\n",
       "    </tr>\n",
       "    <tr>\n",
       "      <th>9</th>\n",
       "      <td>193459</td>\n",
       "      <td>3</td>\n",
       "    </tr>\n",
       "    <tr>\n",
       "      <th>10</th>\n",
       "      <td>193462</td>\n",
       "      <td>5</td>\n",
       "    </tr>\n",
       "    <tr>\n",
       "      <th>11</th>\n",
       "      <td>193463</td>\n",
       "      <td>8</td>\n",
       "    </tr>\n",
       "    <tr>\n",
       "      <th>12</th>\n",
       "      <td>193533</td>\n",
       "      <td>8</td>\n",
       "    </tr>\n",
       "    <tr>\n",
       "      <th>13</th>\n",
       "      <td>193535</td>\n",
       "      <td>3</td>\n",
       "    </tr>\n",
       "    <tr>\n",
       "      <th>14</th>\n",
       "      <td>193537</td>\n",
       "      <td>3</td>\n",
       "    </tr>\n",
       "    <tr>\n",
       "      <th>15</th>\n",
       "      <td>193594</td>\n",
       "      <td>7</td>\n",
       "    </tr>\n",
       "    <tr>\n",
       "      <th>16</th>\n",
       "      <td>193619</td>\n",
       "      <td>5</td>\n",
       "    </tr>\n",
       "    <tr>\n",
       "      <th>17</th>\n",
       "      <td>193671</td>\n",
       "      <td>4</td>\n",
       "    </tr>\n",
       "    <tr>\n",
       "      <th>18</th>\n",
       "      <td>193686</td>\n",
       "      <td>3</td>\n",
       "    </tr>\n",
       "    <tr>\n",
       "      <th>19</th>\n",
       "      <td>193688</td>\n",
       "      <td>3</td>\n",
       "    </tr>\n",
       "    <tr>\n",
       "      <th>20</th>\n",
       "      <td>193689</td>\n",
       "      <td>3</td>\n",
       "    </tr>\n",
       "    <tr>\n",
       "      <th>21</th>\n",
       "      <td>193692</td>\n",
       "      <td>3</td>\n",
       "    </tr>\n",
       "    <tr>\n",
       "      <th>22</th>\n",
       "      <td>193694</td>\n",
       "      <td>5</td>\n",
       "    </tr>\n",
       "    <tr>\n",
       "      <th>23</th>\n",
       "      <td>193782</td>\n",
       "      <td>11</td>\n",
       "    </tr>\n",
       "    <tr>\n",
       "      <th>24</th>\n",
       "      <td>193783</td>\n",
       "      <td>3</td>\n",
       "    </tr>\n",
       "    <tr>\n",
       "      <th>25</th>\n",
       "      <td>193784</td>\n",
       "      <td>11</td>\n",
       "    </tr>\n",
       "    <tr>\n",
       "      <th>26</th>\n",
       "      <td>193852</td>\n",
       "      <td>5</td>\n",
       "    </tr>\n",
       "    <tr>\n",
       "      <th>27</th>\n",
       "      <td>193882</td>\n",
       "      <td>8</td>\n",
       "    </tr>\n",
       "    <tr>\n",
       "      <th>28</th>\n",
       "      <td>193937</td>\n",
       "      <td>3</td>\n",
       "    </tr>\n",
       "    <tr>\n",
       "      <th>29</th>\n",
       "      <td>193972</td>\n",
       "      <td>2</td>\n",
       "    </tr>\n",
       "    <tr>\n",
       "      <th>30</th>\n",
       "      <td>193973</td>\n",
       "      <td>4</td>\n",
       "    </tr>\n",
       "    <tr>\n",
       "      <th>31</th>\n",
       "      <td>194029</td>\n",
       "      <td>4</td>\n",
       "    </tr>\n",
       "    <tr>\n",
       "      <th>32</th>\n",
       "      <td>194057</td>\n",
       "      <td>3</td>\n",
       "    </tr>\n",
       "    <tr>\n",
       "      <th>33</th>\n",
       "      <td>194113</td>\n",
       "      <td>3</td>\n",
       "    </tr>\n",
       "    <tr>\n",
       "      <th>34</th>\n",
       "      <td>194121</td>\n",
       "      <td>6</td>\n",
       "    </tr>\n",
       "  </tbody>\n",
       "</table>\n",
       "</div>"
      ],
      "text/plain": [
       "    Ordem de prod  Data de prod\n",
       "0          192970             9\n",
       "1          193112             3\n",
       "2          193164            12\n",
       "3          193206             4\n",
       "4          193207            10\n",
       "5          193208             2\n",
       "6          193209             7\n",
       "7          193342            20\n",
       "8          193368             7\n",
       "9          193459             3\n",
       "10         193462             5\n",
       "11         193463             8\n",
       "12         193533             8\n",
       "13         193535             3\n",
       "14         193537             3\n",
       "15         193594             7\n",
       "16         193619             5\n",
       "17         193671             4\n",
       "18         193686             3\n",
       "19         193688             3\n",
       "20         193689             3\n",
       "21         193692             3\n",
       "22         193694             5\n",
       "23         193782            11\n",
       "24         193783             3\n",
       "25         193784            11\n",
       "26         193852             5\n",
       "27         193882             8\n",
       "28         193937             3\n",
       "29         193972             2\n",
       "30         193973             4\n",
       "31         194029             4\n",
       "32         194057             3\n",
       "33         194113             3\n",
       "34         194121             6"
      ]
     },
     "execution_count": 62,
     "metadata": {},
     "output_type": "execute_result"
    }
   ],
   "source": [
    "duracao_por_ordem = df_resumo_geral_resetado.groupby('Ordem de prod')['Data de prod'].nunique().reset_index()\n",
    "duracao_por_ordem"
   ]
  },
  {
   "cell_type": "markdown",
   "metadata": {},
   "source": [
    "### Agrupamento das médias das medidas por ordem"
   ]
  },
  {
   "cell_type": "code",
   "execution_count": 63,
   "metadata": {},
   "outputs": [],
   "source": [
    "medidas_por_ordem = df_resumo_geral_resetado.groupby('Ordem de prod')[['Peso médio (g)', 'Comprimento médio (mm)', 'Diâmetro']].mean().round(2).reset_index()"
   ]
  },
  {
   "cell_type": "markdown",
   "metadata": {},
   "source": [
    "### Juntando as medidas com a duração por ordem\n"
   ]
  },
  {
   "cell_type": "code",
   "execution_count": 64,
   "metadata": {},
   "outputs": [],
   "source": [
    "duracao_com_medidas = pd.merge(duracao_por_ordem, medidas_por_ordem, on='Ordem de prod')"
   ]
  },
  {
   "cell_type": "markdown",
   "metadata": {},
   "source": [
    "### Renomeando as colunas para melhor clareza"
   ]
  },
  {
   "cell_type": "code",
   "execution_count": 65,
   "metadata": {},
   "outputs": [],
   "source": [
    "duracao_com_medidas.columns = ['Ordem de Produção', 'Dias de Duração', 'Peso Médio (g)', 'Comprimento Médio (mm)', 'Diâmetro']"
   ]
  },
  {
   "cell_type": "code",
   "execution_count": 66,
   "metadata": {},
   "outputs": [
    {
     "data": {
      "text/html": [
       "<div>\n",
       "<style scoped>\n",
       "    .dataframe tbody tr th:only-of-type {\n",
       "        vertical-align: middle;\n",
       "    }\n",
       "\n",
       "    .dataframe tbody tr th {\n",
       "        vertical-align: top;\n",
       "    }\n",
       "\n",
       "    .dataframe thead th {\n",
       "        text-align: right;\n",
       "    }\n",
       "</style>\n",
       "<table border=\"1\" class=\"dataframe\">\n",
       "  <thead>\n",
       "    <tr style=\"text-align: right;\">\n",
       "      <th></th>\n",
       "      <th>Ordem de Produção</th>\n",
       "      <th>Dias de Duração</th>\n",
       "      <th>Peso Médio (g)</th>\n",
       "      <th>Comprimento Médio (mm)</th>\n",
       "      <th>Diâmetro</th>\n",
       "    </tr>\n",
       "  </thead>\n",
       "  <tbody>\n",
       "    <tr>\n",
       "      <th>0</th>\n",
       "      <td>192970</td>\n",
       "      <td>9</td>\n",
       "      <td>169.91</td>\n",
       "      <td>125.51</td>\n",
       "      <td>30.97</td>\n",
       "    </tr>\n",
       "    <tr>\n",
       "      <th>1</th>\n",
       "      <td>193112</td>\n",
       "      <td>3</td>\n",
       "      <td>168.17</td>\n",
       "      <td>88.73</td>\n",
       "      <td>38.57</td>\n",
       "    </tr>\n",
       "    <tr>\n",
       "      <th>2</th>\n",
       "      <td>193164</td>\n",
       "      <td>12</td>\n",
       "      <td>147.47</td>\n",
       "      <td>100.12</td>\n",
       "      <td>35.43</td>\n",
       "    </tr>\n",
       "    <tr>\n",
       "      <th>3</th>\n",
       "      <td>193206</td>\n",
       "      <td>4</td>\n",
       "      <td>171.15</td>\n",
       "      <td>90.40</td>\n",
       "      <td>36.88</td>\n",
       "    </tr>\n",
       "    <tr>\n",
       "      <th>4</th>\n",
       "      <td>193207</td>\n",
       "      <td>10</td>\n",
       "      <td>170.87</td>\n",
       "      <td>98.23</td>\n",
       "      <td>36.56</td>\n",
       "    </tr>\n",
       "    <tr>\n",
       "      <th>5</th>\n",
       "      <td>193208</td>\n",
       "      <td>2</td>\n",
       "      <td>122.10</td>\n",
       "      <td>61.00</td>\n",
       "      <td>27.45</td>\n",
       "    </tr>\n",
       "    <tr>\n",
       "      <th>6</th>\n",
       "      <td>193209</td>\n",
       "      <td>7</td>\n",
       "      <td>191.36</td>\n",
       "      <td>44.37</td>\n",
       "      <td>12.19</td>\n",
       "    </tr>\n",
       "    <tr>\n",
       "      <th>7</th>\n",
       "      <td>193342</td>\n",
       "      <td>20</td>\n",
       "      <td>169.96</td>\n",
       "      <td>114.87</td>\n",
       "      <td>33.44</td>\n",
       "    </tr>\n",
       "    <tr>\n",
       "      <th>8</th>\n",
       "      <td>193368</td>\n",
       "      <td>7</td>\n",
       "      <td>171.59</td>\n",
       "      <td>77.51</td>\n",
       "      <td>33.83</td>\n",
       "    </tr>\n",
       "    <tr>\n",
       "      <th>9</th>\n",
       "      <td>193459</td>\n",
       "      <td>3</td>\n",
       "      <td>190.83</td>\n",
       "      <td>96.67</td>\n",
       "      <td>37.57</td>\n",
       "    </tr>\n",
       "    <tr>\n",
       "      <th>10</th>\n",
       "      <td>193462</td>\n",
       "      <td>5</td>\n",
       "      <td>172.44</td>\n",
       "      <td>86.08</td>\n",
       "      <td>40.20</td>\n",
       "    </tr>\n",
       "    <tr>\n",
       "      <th>11</th>\n",
       "      <td>193463</td>\n",
       "      <td>8</td>\n",
       "      <td>172.20</td>\n",
       "      <td>93.64</td>\n",
       "      <td>38.75</td>\n",
       "    </tr>\n",
       "    <tr>\n",
       "      <th>12</th>\n",
       "      <td>193533</td>\n",
       "      <td>8</td>\n",
       "      <td>196.69</td>\n",
       "      <td>97.51</td>\n",
       "      <td>38.26</td>\n",
       "    </tr>\n",
       "    <tr>\n",
       "      <th>13</th>\n",
       "      <td>193535</td>\n",
       "      <td>3</td>\n",
       "      <td>116.43</td>\n",
       "      <td>84.00</td>\n",
       "      <td>33.60</td>\n",
       "    </tr>\n",
       "    <tr>\n",
       "      <th>14</th>\n",
       "      <td>193537</td>\n",
       "      <td>3</td>\n",
       "      <td>173.90</td>\n",
       "      <td>81.03</td>\n",
       "      <td>39.53</td>\n",
       "    </tr>\n",
       "    <tr>\n",
       "      <th>15</th>\n",
       "      <td>193594</td>\n",
       "      <td>7</td>\n",
       "      <td>171.81</td>\n",
       "      <td>90.74</td>\n",
       "      <td>39.30</td>\n",
       "    </tr>\n",
       "    <tr>\n",
       "      <th>16</th>\n",
       "      <td>193619</td>\n",
       "      <td>5</td>\n",
       "      <td>192.58</td>\n",
       "      <td>97.54</td>\n",
       "      <td>39.26</td>\n",
       "    </tr>\n",
       "    <tr>\n",
       "      <th>17</th>\n",
       "      <td>193671</td>\n",
       "      <td>4</td>\n",
       "      <td>193.02</td>\n",
       "      <td>98.28</td>\n",
       "      <td>38.17</td>\n",
       "    </tr>\n",
       "    <tr>\n",
       "      <th>18</th>\n",
       "      <td>193686</td>\n",
       "      <td>3</td>\n",
       "      <td>124.10</td>\n",
       "      <td>63.90</td>\n",
       "      <td>32.33</td>\n",
       "    </tr>\n",
       "    <tr>\n",
       "      <th>19</th>\n",
       "      <td>193688</td>\n",
       "      <td>3</td>\n",
       "      <td>202.47</td>\n",
       "      <td>76.57</td>\n",
       "      <td>38.13</td>\n",
       "    </tr>\n",
       "    <tr>\n",
       "      <th>20</th>\n",
       "      <td>193689</td>\n",
       "      <td>3</td>\n",
       "      <td>161.77</td>\n",
       "      <td>97.67</td>\n",
       "      <td>34.13</td>\n",
       "    </tr>\n",
       "    <tr>\n",
       "      <th>21</th>\n",
       "      <td>193692</td>\n",
       "      <td>3</td>\n",
       "      <td>158.03</td>\n",
       "      <td>89.23</td>\n",
       "      <td>36.70</td>\n",
       "    </tr>\n",
       "    <tr>\n",
       "      <th>22</th>\n",
       "      <td>193694</td>\n",
       "      <td>5</td>\n",
       "      <td>151.22</td>\n",
       "      <td>88.16</td>\n",
       "      <td>37.24</td>\n",
       "    </tr>\n",
       "    <tr>\n",
       "      <th>23</th>\n",
       "      <td>193782</td>\n",
       "      <td>11</td>\n",
       "      <td>132.28</td>\n",
       "      <td>73.79</td>\n",
       "      <td>38.35</td>\n",
       "    </tr>\n",
       "    <tr>\n",
       "      <th>24</th>\n",
       "      <td>193783</td>\n",
       "      <td>3</td>\n",
       "      <td>188.67</td>\n",
       "      <td>107.80</td>\n",
       "      <td>35.67</td>\n",
       "    </tr>\n",
       "    <tr>\n",
       "      <th>25</th>\n",
       "      <td>193784</td>\n",
       "      <td>11</td>\n",
       "      <td>174.43</td>\n",
       "      <td>92.07</td>\n",
       "      <td>39.18</td>\n",
       "    </tr>\n",
       "    <tr>\n",
       "      <th>26</th>\n",
       "      <td>193852</td>\n",
       "      <td>5</td>\n",
       "      <td>198.52</td>\n",
       "      <td>91.56</td>\n",
       "      <td>39.16</td>\n",
       "    </tr>\n",
       "    <tr>\n",
       "      <th>27</th>\n",
       "      <td>193882</td>\n",
       "      <td>8</td>\n",
       "      <td>136.54</td>\n",
       "      <td>75.85</td>\n",
       "      <td>37.52</td>\n",
       "    </tr>\n",
       "    <tr>\n",
       "      <th>28</th>\n",
       "      <td>193937</td>\n",
       "      <td>3</td>\n",
       "      <td>173.13</td>\n",
       "      <td>95.77</td>\n",
       "      <td>36.07</td>\n",
       "    </tr>\n",
       "    <tr>\n",
       "      <th>29</th>\n",
       "      <td>193972</td>\n",
       "      <td>2</td>\n",
       "      <td>173.95</td>\n",
       "      <td>74.00</td>\n",
       "      <td>38.05</td>\n",
       "    </tr>\n",
       "    <tr>\n",
       "      <th>30</th>\n",
       "      <td>193973</td>\n",
       "      <td>4</td>\n",
       "      <td>196.38</td>\n",
       "      <td>105.38</td>\n",
       "      <td>37.65</td>\n",
       "    </tr>\n",
       "    <tr>\n",
       "      <th>31</th>\n",
       "      <td>194029</td>\n",
       "      <td>4</td>\n",
       "      <td>180.00</td>\n",
       "      <td>101.78</td>\n",
       "      <td>37.67</td>\n",
       "    </tr>\n",
       "    <tr>\n",
       "      <th>32</th>\n",
       "      <td>194057</td>\n",
       "      <td>3</td>\n",
       "      <td>169.20</td>\n",
       "      <td>62.87</td>\n",
       "      <td>32.53</td>\n",
       "    </tr>\n",
       "    <tr>\n",
       "      <th>33</th>\n",
       "      <td>194113</td>\n",
       "      <td>3</td>\n",
       "      <td>121.27</td>\n",
       "      <td>76.40</td>\n",
       "      <td>32.50</td>\n",
       "    </tr>\n",
       "    <tr>\n",
       "      <th>34</th>\n",
       "      <td>194121</td>\n",
       "      <td>6</td>\n",
       "      <td>168.88</td>\n",
       "      <td>117.33</td>\n",
       "      <td>33.37</td>\n",
       "    </tr>\n",
       "  </tbody>\n",
       "</table>\n",
       "</div>"
      ],
      "text/plain": [
       "    Ordem de Produção  Dias de Duração  Peso Médio (g)  \\\n",
       "0              192970                9          169.91   \n",
       "1              193112                3          168.17   \n",
       "2              193164               12          147.47   \n",
       "3              193206                4          171.15   \n",
       "4              193207               10          170.87   \n",
       "5              193208                2          122.10   \n",
       "6              193209                7          191.36   \n",
       "7              193342               20          169.96   \n",
       "8              193368                7          171.59   \n",
       "9              193459                3          190.83   \n",
       "10             193462                5          172.44   \n",
       "11             193463                8          172.20   \n",
       "12             193533                8          196.69   \n",
       "13             193535                3          116.43   \n",
       "14             193537                3          173.90   \n",
       "15             193594                7          171.81   \n",
       "16             193619                5          192.58   \n",
       "17             193671                4          193.02   \n",
       "18             193686                3          124.10   \n",
       "19             193688                3          202.47   \n",
       "20             193689                3          161.77   \n",
       "21             193692                3          158.03   \n",
       "22             193694                5          151.22   \n",
       "23             193782               11          132.28   \n",
       "24             193783                3          188.67   \n",
       "25             193784               11          174.43   \n",
       "26             193852                5          198.52   \n",
       "27             193882                8          136.54   \n",
       "28             193937                3          173.13   \n",
       "29             193972                2          173.95   \n",
       "30             193973                4          196.38   \n",
       "31             194029                4          180.00   \n",
       "32             194057                3          169.20   \n",
       "33             194113                3          121.27   \n",
       "34             194121                6          168.88   \n",
       "\n",
       "    Comprimento Médio (mm)  Diâmetro  \n",
       "0                   125.51     30.97  \n",
       "1                    88.73     38.57  \n",
       "2                   100.12     35.43  \n",
       "3                    90.40     36.88  \n",
       "4                    98.23     36.56  \n",
       "5                    61.00     27.45  \n",
       "6                    44.37     12.19  \n",
       "7                   114.87     33.44  \n",
       "8                    77.51     33.83  \n",
       "9                    96.67     37.57  \n",
       "10                   86.08     40.20  \n",
       "11                   93.64     38.75  \n",
       "12                   97.51     38.26  \n",
       "13                   84.00     33.60  \n",
       "14                   81.03     39.53  \n",
       "15                   90.74     39.30  \n",
       "16                   97.54     39.26  \n",
       "17                   98.28     38.17  \n",
       "18                   63.90     32.33  \n",
       "19                   76.57     38.13  \n",
       "20                   97.67     34.13  \n",
       "21                   89.23     36.70  \n",
       "22                   88.16     37.24  \n",
       "23                   73.79     38.35  \n",
       "24                  107.80     35.67  \n",
       "25                   92.07     39.18  \n",
       "26                   91.56     39.16  \n",
       "27                   75.85     37.52  \n",
       "28                   95.77     36.07  \n",
       "29                   74.00     38.05  \n",
       "30                  105.38     37.65  \n",
       "31                  101.78     37.67  \n",
       "32                   62.87     32.53  \n",
       "33                   76.40     32.50  \n",
       "34                  117.33     33.37  "
      ]
     },
     "execution_count": 66,
     "metadata": {},
     "output_type": "execute_result"
    }
   ],
   "source": [
    "duracao_com_medidas"
   ]
  },
  {
   "cell_type": "markdown",
   "metadata": {},
   "source": [
    "### Gráficos analisando se as medidas afetam as ordens"
   ]
  },
  {
   "cell_type": "code",
   "execution_count": 67,
   "metadata": {},
   "outputs": [
    {
     "data": {
      "application/vnd.plotly.v1+json": {
       "config": {
        "plotlyServerURL": "https://plot.ly"
       },
       "data": [
        {
         "hovertemplate": "Dias de Duração=%{marker.color}<br>Peso Médio (g)=%{marker.size}<extra></extra>",
         "legendgroup": "",
         "marker": {
          "color": [
           9,
           3,
           12,
           4,
           10,
           2,
           7,
           20,
           7,
           3,
           5,
           8,
           8,
           3,
           3,
           7,
           5,
           4,
           3,
           3,
           3,
           3,
           5,
           11,
           3,
           11,
           5,
           8,
           3,
           2,
           4,
           4,
           3,
           3,
           6
          ],
          "coloraxis": "coloraxis",
          "size": [
           169.91,
           168.17,
           147.47,
           171.15,
           170.87,
           122.1,
           191.36,
           169.96,
           171.59,
           190.83,
           172.44,
           172.2,
           196.69,
           116.43,
           173.9,
           171.81,
           192.58,
           193.02,
           124.1,
           202.47,
           161.77,
           158.03,
           151.22,
           132.28,
           188.67,
           174.43,
           198.52,
           136.54,
           173.13,
           173.95,
           196.38,
           180,
           169.2,
           121.27,
           168.88
          ],
          "sizemode": "area",
          "sizeref": 0.506175,
          "symbol": "circle"
         },
         "mode": "markers",
         "name": "",
         "orientation": "v",
         "showlegend": false,
         "type": "scatter",
         "x": [
          9,
          3,
          12,
          4,
          10,
          2,
          7,
          20,
          7,
          3,
          5,
          8,
          8,
          3,
          3,
          7,
          5,
          4,
          3,
          3,
          3,
          3,
          5,
          11,
          3,
          11,
          5,
          8,
          3,
          2,
          4,
          4,
          3,
          3,
          6
         ],
         "xaxis": "x",
         "y": [
          169.91,
          168.17,
          147.47,
          171.15,
          170.87,
          122.1,
          191.36,
          169.96,
          171.59,
          190.83,
          172.44,
          172.2,
          196.69,
          116.43,
          173.9,
          171.81,
          192.58,
          193.02,
          124.1,
          202.47,
          161.77,
          158.03,
          151.22,
          132.28,
          188.67,
          174.43,
          198.52,
          136.54,
          173.13,
          173.95,
          196.38,
          180,
          169.2,
          121.27,
          168.88
         ],
         "yaxis": "y"
        }
       ],
       "layout": {
        "coloraxis": {
         "colorbar": {
          "title": {
           "text": "Dias de Duração"
          }
         },
         "colorscale": [
          [
           0,
           "rgb(253, 224, 197)"
          ],
          [
           0.16666666666666666,
           "rgb(250, 203, 166)"
          ],
          [
           0.3333333333333333,
           "rgb(248, 181, 139)"
          ],
          [
           0.5,
           "rgb(245, 158, 114)"
          ],
          [
           0.6666666666666666,
           "rgb(242, 133, 93)"
          ],
          [
           0.8333333333333334,
           "rgb(239, 106, 76)"
          ],
          [
           1,
           "rgb(235, 74, 64)"
          ]
         ]
        },
        "legend": {
         "itemsizing": "constant",
         "tracegroupgap": 0
        },
        "margin": {
         "t": 60
        },
        "template": {
         "data": {
          "bar": [
           {
            "error_x": {
             "color": "#2a3f5f"
            },
            "error_y": {
             "color": "#2a3f5f"
            },
            "marker": {
             "line": {
              "color": "#E5ECF6",
              "width": 0.5
             },
             "pattern": {
              "fillmode": "overlay",
              "size": 10,
              "solidity": 0.2
             }
            },
            "type": "bar"
           }
          ],
          "barpolar": [
           {
            "marker": {
             "line": {
              "color": "#E5ECF6",
              "width": 0.5
             },
             "pattern": {
              "fillmode": "overlay",
              "size": 10,
              "solidity": 0.2
             }
            },
            "type": "barpolar"
           }
          ],
          "carpet": [
           {
            "aaxis": {
             "endlinecolor": "#2a3f5f",
             "gridcolor": "white",
             "linecolor": "white",
             "minorgridcolor": "white",
             "startlinecolor": "#2a3f5f"
            },
            "baxis": {
             "endlinecolor": "#2a3f5f",
             "gridcolor": "white",
             "linecolor": "white",
             "minorgridcolor": "white",
             "startlinecolor": "#2a3f5f"
            },
            "type": "carpet"
           }
          ],
          "choropleth": [
           {
            "colorbar": {
             "outlinewidth": 0,
             "ticks": ""
            },
            "type": "choropleth"
           }
          ],
          "contour": [
           {
            "colorbar": {
             "outlinewidth": 0,
             "ticks": ""
            },
            "colorscale": [
             [
              0,
              "#0d0887"
             ],
             [
              0.1111111111111111,
              "#46039f"
             ],
             [
              0.2222222222222222,
              "#7201a8"
             ],
             [
              0.3333333333333333,
              "#9c179e"
             ],
             [
              0.4444444444444444,
              "#bd3786"
             ],
             [
              0.5555555555555556,
              "#d8576b"
             ],
             [
              0.6666666666666666,
              "#ed7953"
             ],
             [
              0.7777777777777778,
              "#fb9f3a"
             ],
             [
              0.8888888888888888,
              "#fdca26"
             ],
             [
              1,
              "#f0f921"
             ]
            ],
            "type": "contour"
           }
          ],
          "contourcarpet": [
           {
            "colorbar": {
             "outlinewidth": 0,
             "ticks": ""
            },
            "type": "contourcarpet"
           }
          ],
          "heatmap": [
           {
            "colorbar": {
             "outlinewidth": 0,
             "ticks": ""
            },
            "colorscale": [
             [
              0,
              "#0d0887"
             ],
             [
              0.1111111111111111,
              "#46039f"
             ],
             [
              0.2222222222222222,
              "#7201a8"
             ],
             [
              0.3333333333333333,
              "#9c179e"
             ],
             [
              0.4444444444444444,
              "#bd3786"
             ],
             [
              0.5555555555555556,
              "#d8576b"
             ],
             [
              0.6666666666666666,
              "#ed7953"
             ],
             [
              0.7777777777777778,
              "#fb9f3a"
             ],
             [
              0.8888888888888888,
              "#fdca26"
             ],
             [
              1,
              "#f0f921"
             ]
            ],
            "type": "heatmap"
           }
          ],
          "heatmapgl": [
           {
            "colorbar": {
             "outlinewidth": 0,
             "ticks": ""
            },
            "colorscale": [
             [
              0,
              "#0d0887"
             ],
             [
              0.1111111111111111,
              "#46039f"
             ],
             [
              0.2222222222222222,
              "#7201a8"
             ],
             [
              0.3333333333333333,
              "#9c179e"
             ],
             [
              0.4444444444444444,
              "#bd3786"
             ],
             [
              0.5555555555555556,
              "#d8576b"
             ],
             [
              0.6666666666666666,
              "#ed7953"
             ],
             [
              0.7777777777777778,
              "#fb9f3a"
             ],
             [
              0.8888888888888888,
              "#fdca26"
             ],
             [
              1,
              "#f0f921"
             ]
            ],
            "type": "heatmapgl"
           }
          ],
          "histogram": [
           {
            "marker": {
             "pattern": {
              "fillmode": "overlay",
              "size": 10,
              "solidity": 0.2
             }
            },
            "type": "histogram"
           }
          ],
          "histogram2d": [
           {
            "colorbar": {
             "outlinewidth": 0,
             "ticks": ""
            },
            "colorscale": [
             [
              0,
              "#0d0887"
             ],
             [
              0.1111111111111111,
              "#46039f"
             ],
             [
              0.2222222222222222,
              "#7201a8"
             ],
             [
              0.3333333333333333,
              "#9c179e"
             ],
             [
              0.4444444444444444,
              "#bd3786"
             ],
             [
              0.5555555555555556,
              "#d8576b"
             ],
             [
              0.6666666666666666,
              "#ed7953"
             ],
             [
              0.7777777777777778,
              "#fb9f3a"
             ],
             [
              0.8888888888888888,
              "#fdca26"
             ],
             [
              1,
              "#f0f921"
             ]
            ],
            "type": "histogram2d"
           }
          ],
          "histogram2dcontour": [
           {
            "colorbar": {
             "outlinewidth": 0,
             "ticks": ""
            },
            "colorscale": [
             [
              0,
              "#0d0887"
             ],
             [
              0.1111111111111111,
              "#46039f"
             ],
             [
              0.2222222222222222,
              "#7201a8"
             ],
             [
              0.3333333333333333,
              "#9c179e"
             ],
             [
              0.4444444444444444,
              "#bd3786"
             ],
             [
              0.5555555555555556,
              "#d8576b"
             ],
             [
              0.6666666666666666,
              "#ed7953"
             ],
             [
              0.7777777777777778,
              "#fb9f3a"
             ],
             [
              0.8888888888888888,
              "#fdca26"
             ],
             [
              1,
              "#f0f921"
             ]
            ],
            "type": "histogram2dcontour"
           }
          ],
          "mesh3d": [
           {
            "colorbar": {
             "outlinewidth": 0,
             "ticks": ""
            },
            "type": "mesh3d"
           }
          ],
          "parcoords": [
           {
            "line": {
             "colorbar": {
              "outlinewidth": 0,
              "ticks": ""
             }
            },
            "type": "parcoords"
           }
          ],
          "pie": [
           {
            "automargin": true,
            "type": "pie"
           }
          ],
          "scatter": [
           {
            "fillpattern": {
             "fillmode": "overlay",
             "size": 10,
             "solidity": 0.2
            },
            "type": "scatter"
           }
          ],
          "scatter3d": [
           {
            "line": {
             "colorbar": {
              "outlinewidth": 0,
              "ticks": ""
             }
            },
            "marker": {
             "colorbar": {
              "outlinewidth": 0,
              "ticks": ""
             }
            },
            "type": "scatter3d"
           }
          ],
          "scattercarpet": [
           {
            "marker": {
             "colorbar": {
              "outlinewidth": 0,
              "ticks": ""
             }
            },
            "type": "scattercarpet"
           }
          ],
          "scattergeo": [
           {
            "marker": {
             "colorbar": {
              "outlinewidth": 0,
              "ticks": ""
             }
            },
            "type": "scattergeo"
           }
          ],
          "scattergl": [
           {
            "marker": {
             "colorbar": {
              "outlinewidth": 0,
              "ticks": ""
             }
            },
            "type": "scattergl"
           }
          ],
          "scattermapbox": [
           {
            "marker": {
             "colorbar": {
              "outlinewidth": 0,
              "ticks": ""
             }
            },
            "type": "scattermapbox"
           }
          ],
          "scatterpolar": [
           {
            "marker": {
             "colorbar": {
              "outlinewidth": 0,
              "ticks": ""
             }
            },
            "type": "scatterpolar"
           }
          ],
          "scatterpolargl": [
           {
            "marker": {
             "colorbar": {
              "outlinewidth": 0,
              "ticks": ""
             }
            },
            "type": "scatterpolargl"
           }
          ],
          "scatterternary": [
           {
            "marker": {
             "colorbar": {
              "outlinewidth": 0,
              "ticks": ""
             }
            },
            "type": "scatterternary"
           }
          ],
          "surface": [
           {
            "colorbar": {
             "outlinewidth": 0,
             "ticks": ""
            },
            "colorscale": [
             [
              0,
              "#0d0887"
             ],
             [
              0.1111111111111111,
              "#46039f"
             ],
             [
              0.2222222222222222,
              "#7201a8"
             ],
             [
              0.3333333333333333,
              "#9c179e"
             ],
             [
              0.4444444444444444,
              "#bd3786"
             ],
             [
              0.5555555555555556,
              "#d8576b"
             ],
             [
              0.6666666666666666,
              "#ed7953"
             ],
             [
              0.7777777777777778,
              "#fb9f3a"
             ],
             [
              0.8888888888888888,
              "#fdca26"
             ],
             [
              1,
              "#f0f921"
             ]
            ],
            "type": "surface"
           }
          ],
          "table": [
           {
            "cells": {
             "fill": {
              "color": "#EBF0F8"
             },
             "line": {
              "color": "white"
             }
            },
            "header": {
             "fill": {
              "color": "#C8D4E3"
             },
             "line": {
              "color": "white"
             }
            },
            "type": "table"
           }
          ]
         },
         "layout": {
          "annotationdefaults": {
           "arrowcolor": "#2a3f5f",
           "arrowhead": 0,
           "arrowwidth": 1
          },
          "autotypenumbers": "strict",
          "coloraxis": {
           "colorbar": {
            "outlinewidth": 0,
            "ticks": ""
           }
          },
          "colorscale": {
           "diverging": [
            [
             0,
             "#8e0152"
            ],
            [
             0.1,
             "#c51b7d"
            ],
            [
             0.2,
             "#de77ae"
            ],
            [
             0.3,
             "#f1b6da"
            ],
            [
             0.4,
             "#fde0ef"
            ],
            [
             0.5,
             "#f7f7f7"
            ],
            [
             0.6,
             "#e6f5d0"
            ],
            [
             0.7,
             "#b8e186"
            ],
            [
             0.8,
             "#7fbc41"
            ],
            [
             0.9,
             "#4d9221"
            ],
            [
             1,
             "#276419"
            ]
           ],
           "sequential": [
            [
             0,
             "#0d0887"
            ],
            [
             0.1111111111111111,
             "#46039f"
            ],
            [
             0.2222222222222222,
             "#7201a8"
            ],
            [
             0.3333333333333333,
             "#9c179e"
            ],
            [
             0.4444444444444444,
             "#bd3786"
            ],
            [
             0.5555555555555556,
             "#d8576b"
            ],
            [
             0.6666666666666666,
             "#ed7953"
            ],
            [
             0.7777777777777778,
             "#fb9f3a"
            ],
            [
             0.8888888888888888,
             "#fdca26"
            ],
            [
             1,
             "#f0f921"
            ]
           ],
           "sequentialminus": [
            [
             0,
             "#0d0887"
            ],
            [
             0.1111111111111111,
             "#46039f"
            ],
            [
             0.2222222222222222,
             "#7201a8"
            ],
            [
             0.3333333333333333,
             "#9c179e"
            ],
            [
             0.4444444444444444,
             "#bd3786"
            ],
            [
             0.5555555555555556,
             "#d8576b"
            ],
            [
             0.6666666666666666,
             "#ed7953"
            ],
            [
             0.7777777777777778,
             "#fb9f3a"
            ],
            [
             0.8888888888888888,
             "#fdca26"
            ],
            [
             1,
             "#f0f921"
            ]
           ]
          },
          "colorway": [
           "#636efa",
           "#EF553B",
           "#00cc96",
           "#ab63fa",
           "#FFA15A",
           "#19d3f3",
           "#FF6692",
           "#B6E880",
           "#FF97FF",
           "#FECB52"
          ],
          "font": {
           "color": "#2a3f5f"
          },
          "geo": {
           "bgcolor": "white",
           "lakecolor": "white",
           "landcolor": "#E5ECF6",
           "showlakes": true,
           "showland": true,
           "subunitcolor": "white"
          },
          "hoverlabel": {
           "align": "left"
          },
          "hovermode": "closest",
          "mapbox": {
           "style": "light"
          },
          "paper_bgcolor": "white",
          "plot_bgcolor": "#E5ECF6",
          "polar": {
           "angularaxis": {
            "gridcolor": "white",
            "linecolor": "white",
            "ticks": ""
           },
           "bgcolor": "#E5ECF6",
           "radialaxis": {
            "gridcolor": "white",
            "linecolor": "white",
            "ticks": ""
           }
          },
          "scene": {
           "xaxis": {
            "backgroundcolor": "#E5ECF6",
            "gridcolor": "white",
            "gridwidth": 2,
            "linecolor": "white",
            "showbackground": true,
            "ticks": "",
            "zerolinecolor": "white"
           },
           "yaxis": {
            "backgroundcolor": "#E5ECF6",
            "gridcolor": "white",
            "gridwidth": 2,
            "linecolor": "white",
            "showbackground": true,
            "ticks": "",
            "zerolinecolor": "white"
           },
           "zaxis": {
            "backgroundcolor": "#E5ECF6",
            "gridcolor": "white",
            "gridwidth": 2,
            "linecolor": "white",
            "showbackground": true,
            "ticks": "",
            "zerolinecolor": "white"
           }
          },
          "shapedefaults": {
           "line": {
            "color": "#2a3f5f"
           }
          },
          "ternary": {
           "aaxis": {
            "gridcolor": "white",
            "linecolor": "white",
            "ticks": ""
           },
           "baxis": {
            "gridcolor": "white",
            "linecolor": "white",
            "ticks": ""
           },
           "bgcolor": "#E5ECF6",
           "caxis": {
            "gridcolor": "white",
            "linecolor": "white",
            "ticks": ""
           }
          },
          "title": {
           "x": 0.05
          },
          "xaxis": {
           "automargin": true,
           "gridcolor": "white",
           "linecolor": "white",
           "ticks": "",
           "title": {
            "standoff": 15
           },
           "zerolinecolor": "white",
           "zerolinewidth": 2
          },
          "yaxis": {
           "automargin": true,
           "gridcolor": "white",
           "linecolor": "white",
           "ticks": "",
           "title": {
            "standoff": 15
           },
           "zerolinecolor": "white",
           "zerolinewidth": 2
          }
         }
        },
        "xaxis": {
         "anchor": "y",
         "domain": [
          0,
          1
         ],
         "title": {
          "text": "Dias de Duração"
         }
        },
        "yaxis": {
         "anchor": "x",
         "domain": [
          0,
          1
         ],
         "title": {
          "text": "Peso Médio (g)"
         }
        }
       }
      }
     },
     "metadata": {},
     "output_type": "display_data"
    }
   ],
   "source": [
    "px.scatter(duracao_com_medidas, x='Dias de Duração', y='Peso Médio (g)', color='Dias de Duração',color_continuous_scale='peach', size='Peso Médio (g)')"
   ]
  },
  {
   "cell_type": "code",
   "execution_count": 68,
   "metadata": {},
   "outputs": [
    {
     "data": {
      "application/vnd.plotly.v1+json": {
       "config": {
        "plotlyServerURL": "https://plot.ly"
       },
       "data": [
        {
         "hovertemplate": "Dias de Duração=%{marker.color}<br>Comprimento Médio (mm)=%{marker.size}<extra></extra>",
         "legendgroup": "",
         "marker": {
          "color": [
           9,
           3,
           12,
           4,
           10,
           2,
           7,
           20,
           7,
           3,
           5,
           8,
           8,
           3,
           3,
           7,
           5,
           4,
           3,
           3,
           3,
           3,
           5,
           11,
           3,
           11,
           5,
           8,
           3,
           2,
           4,
           4,
           3,
           3,
           6
          ],
          "coloraxis": "coloraxis",
          "size": [
           125.51,
           88.73,
           100.12,
           90.4,
           98.23,
           61,
           44.37,
           114.87,
           77.51,
           96.67,
           86.08,
           93.64,
           97.51,
           84,
           81.03,
           90.74,
           97.54,
           98.28,
           63.9,
           76.57,
           97.67,
           89.23,
           88.16,
           73.79,
           107.8,
           92.07,
           91.56,
           75.85,
           95.77,
           74,
           105.38,
           101.78,
           62.87,
           76.4,
           117.33
          ],
          "sizemode": "area",
          "sizeref": 0.313775,
          "symbol": "circle"
         },
         "mode": "markers",
         "name": "",
         "orientation": "v",
         "showlegend": false,
         "type": "scatter",
         "x": [
          9,
          3,
          12,
          4,
          10,
          2,
          7,
          20,
          7,
          3,
          5,
          8,
          8,
          3,
          3,
          7,
          5,
          4,
          3,
          3,
          3,
          3,
          5,
          11,
          3,
          11,
          5,
          8,
          3,
          2,
          4,
          4,
          3,
          3,
          6
         ],
         "xaxis": "x",
         "y": [
          125.51,
          88.73,
          100.12,
          90.4,
          98.23,
          61,
          44.37,
          114.87,
          77.51,
          96.67,
          86.08,
          93.64,
          97.51,
          84,
          81.03,
          90.74,
          97.54,
          98.28,
          63.9,
          76.57,
          97.67,
          89.23,
          88.16,
          73.79,
          107.8,
          92.07,
          91.56,
          75.85,
          95.77,
          74,
          105.38,
          101.78,
          62.87,
          76.4,
          117.33
         ],
         "yaxis": "y"
        }
       ],
       "layout": {
        "coloraxis": {
         "colorbar": {
          "title": {
           "text": "Dias de Duração"
          }
         },
         "colorscale": [
          [
           0,
           "rgb(253, 224, 197)"
          ],
          [
           0.16666666666666666,
           "rgb(250, 203, 166)"
          ],
          [
           0.3333333333333333,
           "rgb(248, 181, 139)"
          ],
          [
           0.5,
           "rgb(245, 158, 114)"
          ],
          [
           0.6666666666666666,
           "rgb(242, 133, 93)"
          ],
          [
           0.8333333333333334,
           "rgb(239, 106, 76)"
          ],
          [
           1,
           "rgb(235, 74, 64)"
          ]
         ]
        },
        "legend": {
         "itemsizing": "constant",
         "tracegroupgap": 0
        },
        "margin": {
         "t": 60
        },
        "template": {
         "data": {
          "bar": [
           {
            "error_x": {
             "color": "#2a3f5f"
            },
            "error_y": {
             "color": "#2a3f5f"
            },
            "marker": {
             "line": {
              "color": "#E5ECF6",
              "width": 0.5
             },
             "pattern": {
              "fillmode": "overlay",
              "size": 10,
              "solidity": 0.2
             }
            },
            "type": "bar"
           }
          ],
          "barpolar": [
           {
            "marker": {
             "line": {
              "color": "#E5ECF6",
              "width": 0.5
             },
             "pattern": {
              "fillmode": "overlay",
              "size": 10,
              "solidity": 0.2
             }
            },
            "type": "barpolar"
           }
          ],
          "carpet": [
           {
            "aaxis": {
             "endlinecolor": "#2a3f5f",
             "gridcolor": "white",
             "linecolor": "white",
             "minorgridcolor": "white",
             "startlinecolor": "#2a3f5f"
            },
            "baxis": {
             "endlinecolor": "#2a3f5f",
             "gridcolor": "white",
             "linecolor": "white",
             "minorgridcolor": "white",
             "startlinecolor": "#2a3f5f"
            },
            "type": "carpet"
           }
          ],
          "choropleth": [
           {
            "colorbar": {
             "outlinewidth": 0,
             "ticks": ""
            },
            "type": "choropleth"
           }
          ],
          "contour": [
           {
            "colorbar": {
             "outlinewidth": 0,
             "ticks": ""
            },
            "colorscale": [
             [
              0,
              "#0d0887"
             ],
             [
              0.1111111111111111,
              "#46039f"
             ],
             [
              0.2222222222222222,
              "#7201a8"
             ],
             [
              0.3333333333333333,
              "#9c179e"
             ],
             [
              0.4444444444444444,
              "#bd3786"
             ],
             [
              0.5555555555555556,
              "#d8576b"
             ],
             [
              0.6666666666666666,
              "#ed7953"
             ],
             [
              0.7777777777777778,
              "#fb9f3a"
             ],
             [
              0.8888888888888888,
              "#fdca26"
             ],
             [
              1,
              "#f0f921"
             ]
            ],
            "type": "contour"
           }
          ],
          "contourcarpet": [
           {
            "colorbar": {
             "outlinewidth": 0,
             "ticks": ""
            },
            "type": "contourcarpet"
           }
          ],
          "heatmap": [
           {
            "colorbar": {
             "outlinewidth": 0,
             "ticks": ""
            },
            "colorscale": [
             [
              0,
              "#0d0887"
             ],
             [
              0.1111111111111111,
              "#46039f"
             ],
             [
              0.2222222222222222,
              "#7201a8"
             ],
             [
              0.3333333333333333,
              "#9c179e"
             ],
             [
              0.4444444444444444,
              "#bd3786"
             ],
             [
              0.5555555555555556,
              "#d8576b"
             ],
             [
              0.6666666666666666,
              "#ed7953"
             ],
             [
              0.7777777777777778,
              "#fb9f3a"
             ],
             [
              0.8888888888888888,
              "#fdca26"
             ],
             [
              1,
              "#f0f921"
             ]
            ],
            "type": "heatmap"
           }
          ],
          "heatmapgl": [
           {
            "colorbar": {
             "outlinewidth": 0,
             "ticks": ""
            },
            "colorscale": [
             [
              0,
              "#0d0887"
             ],
             [
              0.1111111111111111,
              "#46039f"
             ],
             [
              0.2222222222222222,
              "#7201a8"
             ],
             [
              0.3333333333333333,
              "#9c179e"
             ],
             [
              0.4444444444444444,
              "#bd3786"
             ],
             [
              0.5555555555555556,
              "#d8576b"
             ],
             [
              0.6666666666666666,
              "#ed7953"
             ],
             [
              0.7777777777777778,
              "#fb9f3a"
             ],
             [
              0.8888888888888888,
              "#fdca26"
             ],
             [
              1,
              "#f0f921"
             ]
            ],
            "type": "heatmapgl"
           }
          ],
          "histogram": [
           {
            "marker": {
             "pattern": {
              "fillmode": "overlay",
              "size": 10,
              "solidity": 0.2
             }
            },
            "type": "histogram"
           }
          ],
          "histogram2d": [
           {
            "colorbar": {
             "outlinewidth": 0,
             "ticks": ""
            },
            "colorscale": [
             [
              0,
              "#0d0887"
             ],
             [
              0.1111111111111111,
              "#46039f"
             ],
             [
              0.2222222222222222,
              "#7201a8"
             ],
             [
              0.3333333333333333,
              "#9c179e"
             ],
             [
              0.4444444444444444,
              "#bd3786"
             ],
             [
              0.5555555555555556,
              "#d8576b"
             ],
             [
              0.6666666666666666,
              "#ed7953"
             ],
             [
              0.7777777777777778,
              "#fb9f3a"
             ],
             [
              0.8888888888888888,
              "#fdca26"
             ],
             [
              1,
              "#f0f921"
             ]
            ],
            "type": "histogram2d"
           }
          ],
          "histogram2dcontour": [
           {
            "colorbar": {
             "outlinewidth": 0,
             "ticks": ""
            },
            "colorscale": [
             [
              0,
              "#0d0887"
             ],
             [
              0.1111111111111111,
              "#46039f"
             ],
             [
              0.2222222222222222,
              "#7201a8"
             ],
             [
              0.3333333333333333,
              "#9c179e"
             ],
             [
              0.4444444444444444,
              "#bd3786"
             ],
             [
              0.5555555555555556,
              "#d8576b"
             ],
             [
              0.6666666666666666,
              "#ed7953"
             ],
             [
              0.7777777777777778,
              "#fb9f3a"
             ],
             [
              0.8888888888888888,
              "#fdca26"
             ],
             [
              1,
              "#f0f921"
             ]
            ],
            "type": "histogram2dcontour"
           }
          ],
          "mesh3d": [
           {
            "colorbar": {
             "outlinewidth": 0,
             "ticks": ""
            },
            "type": "mesh3d"
           }
          ],
          "parcoords": [
           {
            "line": {
             "colorbar": {
              "outlinewidth": 0,
              "ticks": ""
             }
            },
            "type": "parcoords"
           }
          ],
          "pie": [
           {
            "automargin": true,
            "type": "pie"
           }
          ],
          "scatter": [
           {
            "fillpattern": {
             "fillmode": "overlay",
             "size": 10,
             "solidity": 0.2
            },
            "type": "scatter"
           }
          ],
          "scatter3d": [
           {
            "line": {
             "colorbar": {
              "outlinewidth": 0,
              "ticks": ""
             }
            },
            "marker": {
             "colorbar": {
              "outlinewidth": 0,
              "ticks": ""
             }
            },
            "type": "scatter3d"
           }
          ],
          "scattercarpet": [
           {
            "marker": {
             "colorbar": {
              "outlinewidth": 0,
              "ticks": ""
             }
            },
            "type": "scattercarpet"
           }
          ],
          "scattergeo": [
           {
            "marker": {
             "colorbar": {
              "outlinewidth": 0,
              "ticks": ""
             }
            },
            "type": "scattergeo"
           }
          ],
          "scattergl": [
           {
            "marker": {
             "colorbar": {
              "outlinewidth": 0,
              "ticks": ""
             }
            },
            "type": "scattergl"
           }
          ],
          "scattermapbox": [
           {
            "marker": {
             "colorbar": {
              "outlinewidth": 0,
              "ticks": ""
             }
            },
            "type": "scattermapbox"
           }
          ],
          "scatterpolar": [
           {
            "marker": {
             "colorbar": {
              "outlinewidth": 0,
              "ticks": ""
             }
            },
            "type": "scatterpolar"
           }
          ],
          "scatterpolargl": [
           {
            "marker": {
             "colorbar": {
              "outlinewidth": 0,
              "ticks": ""
             }
            },
            "type": "scatterpolargl"
           }
          ],
          "scatterternary": [
           {
            "marker": {
             "colorbar": {
              "outlinewidth": 0,
              "ticks": ""
             }
            },
            "type": "scatterternary"
           }
          ],
          "surface": [
           {
            "colorbar": {
             "outlinewidth": 0,
             "ticks": ""
            },
            "colorscale": [
             [
              0,
              "#0d0887"
             ],
             [
              0.1111111111111111,
              "#46039f"
             ],
             [
              0.2222222222222222,
              "#7201a8"
             ],
             [
              0.3333333333333333,
              "#9c179e"
             ],
             [
              0.4444444444444444,
              "#bd3786"
             ],
             [
              0.5555555555555556,
              "#d8576b"
             ],
             [
              0.6666666666666666,
              "#ed7953"
             ],
             [
              0.7777777777777778,
              "#fb9f3a"
             ],
             [
              0.8888888888888888,
              "#fdca26"
             ],
             [
              1,
              "#f0f921"
             ]
            ],
            "type": "surface"
           }
          ],
          "table": [
           {
            "cells": {
             "fill": {
              "color": "#EBF0F8"
             },
             "line": {
              "color": "white"
             }
            },
            "header": {
             "fill": {
              "color": "#C8D4E3"
             },
             "line": {
              "color": "white"
             }
            },
            "type": "table"
           }
          ]
         },
         "layout": {
          "annotationdefaults": {
           "arrowcolor": "#2a3f5f",
           "arrowhead": 0,
           "arrowwidth": 1
          },
          "autotypenumbers": "strict",
          "coloraxis": {
           "colorbar": {
            "outlinewidth": 0,
            "ticks": ""
           }
          },
          "colorscale": {
           "diverging": [
            [
             0,
             "#8e0152"
            ],
            [
             0.1,
             "#c51b7d"
            ],
            [
             0.2,
             "#de77ae"
            ],
            [
             0.3,
             "#f1b6da"
            ],
            [
             0.4,
             "#fde0ef"
            ],
            [
             0.5,
             "#f7f7f7"
            ],
            [
             0.6,
             "#e6f5d0"
            ],
            [
             0.7,
             "#b8e186"
            ],
            [
             0.8,
             "#7fbc41"
            ],
            [
             0.9,
             "#4d9221"
            ],
            [
             1,
             "#276419"
            ]
           ],
           "sequential": [
            [
             0,
             "#0d0887"
            ],
            [
             0.1111111111111111,
             "#46039f"
            ],
            [
             0.2222222222222222,
             "#7201a8"
            ],
            [
             0.3333333333333333,
             "#9c179e"
            ],
            [
             0.4444444444444444,
             "#bd3786"
            ],
            [
             0.5555555555555556,
             "#d8576b"
            ],
            [
             0.6666666666666666,
             "#ed7953"
            ],
            [
             0.7777777777777778,
             "#fb9f3a"
            ],
            [
             0.8888888888888888,
             "#fdca26"
            ],
            [
             1,
             "#f0f921"
            ]
           ],
           "sequentialminus": [
            [
             0,
             "#0d0887"
            ],
            [
             0.1111111111111111,
             "#46039f"
            ],
            [
             0.2222222222222222,
             "#7201a8"
            ],
            [
             0.3333333333333333,
             "#9c179e"
            ],
            [
             0.4444444444444444,
             "#bd3786"
            ],
            [
             0.5555555555555556,
             "#d8576b"
            ],
            [
             0.6666666666666666,
             "#ed7953"
            ],
            [
             0.7777777777777778,
             "#fb9f3a"
            ],
            [
             0.8888888888888888,
             "#fdca26"
            ],
            [
             1,
             "#f0f921"
            ]
           ]
          },
          "colorway": [
           "#636efa",
           "#EF553B",
           "#00cc96",
           "#ab63fa",
           "#FFA15A",
           "#19d3f3",
           "#FF6692",
           "#B6E880",
           "#FF97FF",
           "#FECB52"
          ],
          "font": {
           "color": "#2a3f5f"
          },
          "geo": {
           "bgcolor": "white",
           "lakecolor": "white",
           "landcolor": "#E5ECF6",
           "showlakes": true,
           "showland": true,
           "subunitcolor": "white"
          },
          "hoverlabel": {
           "align": "left"
          },
          "hovermode": "closest",
          "mapbox": {
           "style": "light"
          },
          "paper_bgcolor": "white",
          "plot_bgcolor": "#E5ECF6",
          "polar": {
           "angularaxis": {
            "gridcolor": "white",
            "linecolor": "white",
            "ticks": ""
           },
           "bgcolor": "#E5ECF6",
           "radialaxis": {
            "gridcolor": "white",
            "linecolor": "white",
            "ticks": ""
           }
          },
          "scene": {
           "xaxis": {
            "backgroundcolor": "#E5ECF6",
            "gridcolor": "white",
            "gridwidth": 2,
            "linecolor": "white",
            "showbackground": true,
            "ticks": "",
            "zerolinecolor": "white"
           },
           "yaxis": {
            "backgroundcolor": "#E5ECF6",
            "gridcolor": "white",
            "gridwidth": 2,
            "linecolor": "white",
            "showbackground": true,
            "ticks": "",
            "zerolinecolor": "white"
           },
           "zaxis": {
            "backgroundcolor": "#E5ECF6",
            "gridcolor": "white",
            "gridwidth": 2,
            "linecolor": "white",
            "showbackground": true,
            "ticks": "",
            "zerolinecolor": "white"
           }
          },
          "shapedefaults": {
           "line": {
            "color": "#2a3f5f"
           }
          },
          "ternary": {
           "aaxis": {
            "gridcolor": "white",
            "linecolor": "white",
            "ticks": ""
           },
           "baxis": {
            "gridcolor": "white",
            "linecolor": "white",
            "ticks": ""
           },
           "bgcolor": "#E5ECF6",
           "caxis": {
            "gridcolor": "white",
            "linecolor": "white",
            "ticks": ""
           }
          },
          "title": {
           "x": 0.05
          },
          "xaxis": {
           "automargin": true,
           "gridcolor": "white",
           "linecolor": "white",
           "ticks": "",
           "title": {
            "standoff": 15
           },
           "zerolinecolor": "white",
           "zerolinewidth": 2
          },
          "yaxis": {
           "automargin": true,
           "gridcolor": "white",
           "linecolor": "white",
           "ticks": "",
           "title": {
            "standoff": 15
           },
           "zerolinecolor": "white",
           "zerolinewidth": 2
          }
         }
        },
        "xaxis": {
         "anchor": "y",
         "domain": [
          0,
          1
         ],
         "title": {
          "text": "Dias de Duração"
         }
        },
        "yaxis": {
         "anchor": "x",
         "domain": [
          0,
          1
         ],
         "title": {
          "text": "Comprimento Médio (mm)"
         }
        }
       }
      }
     },
     "metadata": {},
     "output_type": "display_data"
    }
   ],
   "source": [
    "px.scatter(duracao_com_medidas, x='Dias de Duração', y='Comprimento Médio (mm)',  color='Dias de Duração',color_continuous_scale='peach', size='Comprimento Médio (mm)')"
   ]
  },
  {
   "cell_type": "code",
   "execution_count": 69,
   "metadata": {},
   "outputs": [
    {
     "data": {
      "application/vnd.plotly.v1+json": {
       "config": {
        "plotlyServerURL": "https://plot.ly"
       },
       "data": [
        {
         "hovertemplate": "Dias de Duração=%{marker.color}<br>Diâmetro=%{marker.size}<extra></extra>",
         "legendgroup": "",
         "marker": {
          "color": [
           9,
           3,
           12,
           4,
           10,
           2,
           7,
           20,
           7,
           3,
           5,
           8,
           8,
           3,
           3,
           7,
           5,
           4,
           3,
           3,
           3,
           3,
           5,
           11,
           3,
           11,
           5,
           8,
           3,
           2,
           4,
           4,
           3,
           3,
           6
          ],
          "coloraxis": "coloraxis",
          "size": [
           30.97,
           38.57,
           35.43,
           36.88,
           36.56,
           27.45,
           12.19,
           33.44,
           33.83,
           37.57,
           40.2,
           38.75,
           38.26,
           33.6,
           39.53,
           39.3,
           39.26,
           38.17,
           32.33,
           38.13,
           34.13,
           36.7,
           37.24,
           38.35,
           35.67,
           39.18,
           39.16,
           37.52,
           36.07,
           38.05,
           37.65,
           37.67,
           32.53,
           32.5,
           33.37
          ],
          "sizemode": "area",
          "sizeref": 0.1005,
          "symbol": "circle"
         },
         "mode": "markers",
         "name": "",
         "orientation": "v",
         "showlegend": false,
         "type": "scatter",
         "x": [
          9,
          3,
          12,
          4,
          10,
          2,
          7,
          20,
          7,
          3,
          5,
          8,
          8,
          3,
          3,
          7,
          5,
          4,
          3,
          3,
          3,
          3,
          5,
          11,
          3,
          11,
          5,
          8,
          3,
          2,
          4,
          4,
          3,
          3,
          6
         ],
         "xaxis": "x",
         "y": [
          30.97,
          38.57,
          35.43,
          36.88,
          36.56,
          27.45,
          12.19,
          33.44,
          33.83,
          37.57,
          40.2,
          38.75,
          38.26,
          33.6,
          39.53,
          39.3,
          39.26,
          38.17,
          32.33,
          38.13,
          34.13,
          36.7,
          37.24,
          38.35,
          35.67,
          39.18,
          39.16,
          37.52,
          36.07,
          38.05,
          37.65,
          37.67,
          32.53,
          32.5,
          33.37
         ],
         "yaxis": "y"
        }
       ],
       "layout": {
        "coloraxis": {
         "colorbar": {
          "title": {
           "text": "Dias de Duração"
          }
         },
         "colorscale": [
          [
           0,
           "rgb(253, 224, 197)"
          ],
          [
           0.16666666666666666,
           "rgb(250, 203, 166)"
          ],
          [
           0.3333333333333333,
           "rgb(248, 181, 139)"
          ],
          [
           0.5,
           "rgb(245, 158, 114)"
          ],
          [
           0.6666666666666666,
           "rgb(242, 133, 93)"
          ],
          [
           0.8333333333333334,
           "rgb(239, 106, 76)"
          ],
          [
           1,
           "rgb(235, 74, 64)"
          ]
         ]
        },
        "legend": {
         "itemsizing": "constant",
         "tracegroupgap": 0
        },
        "margin": {
         "t": 60
        },
        "template": {
         "data": {
          "bar": [
           {
            "error_x": {
             "color": "#2a3f5f"
            },
            "error_y": {
             "color": "#2a3f5f"
            },
            "marker": {
             "line": {
              "color": "#E5ECF6",
              "width": 0.5
             },
             "pattern": {
              "fillmode": "overlay",
              "size": 10,
              "solidity": 0.2
             }
            },
            "type": "bar"
           }
          ],
          "barpolar": [
           {
            "marker": {
             "line": {
              "color": "#E5ECF6",
              "width": 0.5
             },
             "pattern": {
              "fillmode": "overlay",
              "size": 10,
              "solidity": 0.2
             }
            },
            "type": "barpolar"
           }
          ],
          "carpet": [
           {
            "aaxis": {
             "endlinecolor": "#2a3f5f",
             "gridcolor": "white",
             "linecolor": "white",
             "minorgridcolor": "white",
             "startlinecolor": "#2a3f5f"
            },
            "baxis": {
             "endlinecolor": "#2a3f5f",
             "gridcolor": "white",
             "linecolor": "white",
             "minorgridcolor": "white",
             "startlinecolor": "#2a3f5f"
            },
            "type": "carpet"
           }
          ],
          "choropleth": [
           {
            "colorbar": {
             "outlinewidth": 0,
             "ticks": ""
            },
            "type": "choropleth"
           }
          ],
          "contour": [
           {
            "colorbar": {
             "outlinewidth": 0,
             "ticks": ""
            },
            "colorscale": [
             [
              0,
              "#0d0887"
             ],
             [
              0.1111111111111111,
              "#46039f"
             ],
             [
              0.2222222222222222,
              "#7201a8"
             ],
             [
              0.3333333333333333,
              "#9c179e"
             ],
             [
              0.4444444444444444,
              "#bd3786"
             ],
             [
              0.5555555555555556,
              "#d8576b"
             ],
             [
              0.6666666666666666,
              "#ed7953"
             ],
             [
              0.7777777777777778,
              "#fb9f3a"
             ],
             [
              0.8888888888888888,
              "#fdca26"
             ],
             [
              1,
              "#f0f921"
             ]
            ],
            "type": "contour"
           }
          ],
          "contourcarpet": [
           {
            "colorbar": {
             "outlinewidth": 0,
             "ticks": ""
            },
            "type": "contourcarpet"
           }
          ],
          "heatmap": [
           {
            "colorbar": {
             "outlinewidth": 0,
             "ticks": ""
            },
            "colorscale": [
             [
              0,
              "#0d0887"
             ],
             [
              0.1111111111111111,
              "#46039f"
             ],
             [
              0.2222222222222222,
              "#7201a8"
             ],
             [
              0.3333333333333333,
              "#9c179e"
             ],
             [
              0.4444444444444444,
              "#bd3786"
             ],
             [
              0.5555555555555556,
              "#d8576b"
             ],
             [
              0.6666666666666666,
              "#ed7953"
             ],
             [
              0.7777777777777778,
              "#fb9f3a"
             ],
             [
              0.8888888888888888,
              "#fdca26"
             ],
             [
              1,
              "#f0f921"
             ]
            ],
            "type": "heatmap"
           }
          ],
          "heatmapgl": [
           {
            "colorbar": {
             "outlinewidth": 0,
             "ticks": ""
            },
            "colorscale": [
             [
              0,
              "#0d0887"
             ],
             [
              0.1111111111111111,
              "#46039f"
             ],
             [
              0.2222222222222222,
              "#7201a8"
             ],
             [
              0.3333333333333333,
              "#9c179e"
             ],
             [
              0.4444444444444444,
              "#bd3786"
             ],
             [
              0.5555555555555556,
              "#d8576b"
             ],
             [
              0.6666666666666666,
              "#ed7953"
             ],
             [
              0.7777777777777778,
              "#fb9f3a"
             ],
             [
              0.8888888888888888,
              "#fdca26"
             ],
             [
              1,
              "#f0f921"
             ]
            ],
            "type": "heatmapgl"
           }
          ],
          "histogram": [
           {
            "marker": {
             "pattern": {
              "fillmode": "overlay",
              "size": 10,
              "solidity": 0.2
             }
            },
            "type": "histogram"
           }
          ],
          "histogram2d": [
           {
            "colorbar": {
             "outlinewidth": 0,
             "ticks": ""
            },
            "colorscale": [
             [
              0,
              "#0d0887"
             ],
             [
              0.1111111111111111,
              "#46039f"
             ],
             [
              0.2222222222222222,
              "#7201a8"
             ],
             [
              0.3333333333333333,
              "#9c179e"
             ],
             [
              0.4444444444444444,
              "#bd3786"
             ],
             [
              0.5555555555555556,
              "#d8576b"
             ],
             [
              0.6666666666666666,
              "#ed7953"
             ],
             [
              0.7777777777777778,
              "#fb9f3a"
             ],
             [
              0.8888888888888888,
              "#fdca26"
             ],
             [
              1,
              "#f0f921"
             ]
            ],
            "type": "histogram2d"
           }
          ],
          "histogram2dcontour": [
           {
            "colorbar": {
             "outlinewidth": 0,
             "ticks": ""
            },
            "colorscale": [
             [
              0,
              "#0d0887"
             ],
             [
              0.1111111111111111,
              "#46039f"
             ],
             [
              0.2222222222222222,
              "#7201a8"
             ],
             [
              0.3333333333333333,
              "#9c179e"
             ],
             [
              0.4444444444444444,
              "#bd3786"
             ],
             [
              0.5555555555555556,
              "#d8576b"
             ],
             [
              0.6666666666666666,
              "#ed7953"
             ],
             [
              0.7777777777777778,
              "#fb9f3a"
             ],
             [
              0.8888888888888888,
              "#fdca26"
             ],
             [
              1,
              "#f0f921"
             ]
            ],
            "type": "histogram2dcontour"
           }
          ],
          "mesh3d": [
           {
            "colorbar": {
             "outlinewidth": 0,
             "ticks": ""
            },
            "type": "mesh3d"
           }
          ],
          "parcoords": [
           {
            "line": {
             "colorbar": {
              "outlinewidth": 0,
              "ticks": ""
             }
            },
            "type": "parcoords"
           }
          ],
          "pie": [
           {
            "automargin": true,
            "type": "pie"
           }
          ],
          "scatter": [
           {
            "fillpattern": {
             "fillmode": "overlay",
             "size": 10,
             "solidity": 0.2
            },
            "type": "scatter"
           }
          ],
          "scatter3d": [
           {
            "line": {
             "colorbar": {
              "outlinewidth": 0,
              "ticks": ""
             }
            },
            "marker": {
             "colorbar": {
              "outlinewidth": 0,
              "ticks": ""
             }
            },
            "type": "scatter3d"
           }
          ],
          "scattercarpet": [
           {
            "marker": {
             "colorbar": {
              "outlinewidth": 0,
              "ticks": ""
             }
            },
            "type": "scattercarpet"
           }
          ],
          "scattergeo": [
           {
            "marker": {
             "colorbar": {
              "outlinewidth": 0,
              "ticks": ""
             }
            },
            "type": "scattergeo"
           }
          ],
          "scattergl": [
           {
            "marker": {
             "colorbar": {
              "outlinewidth": 0,
              "ticks": ""
             }
            },
            "type": "scattergl"
           }
          ],
          "scattermapbox": [
           {
            "marker": {
             "colorbar": {
              "outlinewidth": 0,
              "ticks": ""
             }
            },
            "type": "scattermapbox"
           }
          ],
          "scatterpolar": [
           {
            "marker": {
             "colorbar": {
              "outlinewidth": 0,
              "ticks": ""
             }
            },
            "type": "scatterpolar"
           }
          ],
          "scatterpolargl": [
           {
            "marker": {
             "colorbar": {
              "outlinewidth": 0,
              "ticks": ""
             }
            },
            "type": "scatterpolargl"
           }
          ],
          "scatterternary": [
           {
            "marker": {
             "colorbar": {
              "outlinewidth": 0,
              "ticks": ""
             }
            },
            "type": "scatterternary"
           }
          ],
          "surface": [
           {
            "colorbar": {
             "outlinewidth": 0,
             "ticks": ""
            },
            "colorscale": [
             [
              0,
              "#0d0887"
             ],
             [
              0.1111111111111111,
              "#46039f"
             ],
             [
              0.2222222222222222,
              "#7201a8"
             ],
             [
              0.3333333333333333,
              "#9c179e"
             ],
             [
              0.4444444444444444,
              "#bd3786"
             ],
             [
              0.5555555555555556,
              "#d8576b"
             ],
             [
              0.6666666666666666,
              "#ed7953"
             ],
             [
              0.7777777777777778,
              "#fb9f3a"
             ],
             [
              0.8888888888888888,
              "#fdca26"
             ],
             [
              1,
              "#f0f921"
             ]
            ],
            "type": "surface"
           }
          ],
          "table": [
           {
            "cells": {
             "fill": {
              "color": "#EBF0F8"
             },
             "line": {
              "color": "white"
             }
            },
            "header": {
             "fill": {
              "color": "#C8D4E3"
             },
             "line": {
              "color": "white"
             }
            },
            "type": "table"
           }
          ]
         },
         "layout": {
          "annotationdefaults": {
           "arrowcolor": "#2a3f5f",
           "arrowhead": 0,
           "arrowwidth": 1
          },
          "autotypenumbers": "strict",
          "coloraxis": {
           "colorbar": {
            "outlinewidth": 0,
            "ticks": ""
           }
          },
          "colorscale": {
           "diverging": [
            [
             0,
             "#8e0152"
            ],
            [
             0.1,
             "#c51b7d"
            ],
            [
             0.2,
             "#de77ae"
            ],
            [
             0.3,
             "#f1b6da"
            ],
            [
             0.4,
             "#fde0ef"
            ],
            [
             0.5,
             "#f7f7f7"
            ],
            [
             0.6,
             "#e6f5d0"
            ],
            [
             0.7,
             "#b8e186"
            ],
            [
             0.8,
             "#7fbc41"
            ],
            [
             0.9,
             "#4d9221"
            ],
            [
             1,
             "#276419"
            ]
           ],
           "sequential": [
            [
             0,
             "#0d0887"
            ],
            [
             0.1111111111111111,
             "#46039f"
            ],
            [
             0.2222222222222222,
             "#7201a8"
            ],
            [
             0.3333333333333333,
             "#9c179e"
            ],
            [
             0.4444444444444444,
             "#bd3786"
            ],
            [
             0.5555555555555556,
             "#d8576b"
            ],
            [
             0.6666666666666666,
             "#ed7953"
            ],
            [
             0.7777777777777778,
             "#fb9f3a"
            ],
            [
             0.8888888888888888,
             "#fdca26"
            ],
            [
             1,
             "#f0f921"
            ]
           ],
           "sequentialminus": [
            [
             0,
             "#0d0887"
            ],
            [
             0.1111111111111111,
             "#46039f"
            ],
            [
             0.2222222222222222,
             "#7201a8"
            ],
            [
             0.3333333333333333,
             "#9c179e"
            ],
            [
             0.4444444444444444,
             "#bd3786"
            ],
            [
             0.5555555555555556,
             "#d8576b"
            ],
            [
             0.6666666666666666,
             "#ed7953"
            ],
            [
             0.7777777777777778,
             "#fb9f3a"
            ],
            [
             0.8888888888888888,
             "#fdca26"
            ],
            [
             1,
             "#f0f921"
            ]
           ]
          },
          "colorway": [
           "#636efa",
           "#EF553B",
           "#00cc96",
           "#ab63fa",
           "#FFA15A",
           "#19d3f3",
           "#FF6692",
           "#B6E880",
           "#FF97FF",
           "#FECB52"
          ],
          "font": {
           "color": "#2a3f5f"
          },
          "geo": {
           "bgcolor": "white",
           "lakecolor": "white",
           "landcolor": "#E5ECF6",
           "showlakes": true,
           "showland": true,
           "subunitcolor": "white"
          },
          "hoverlabel": {
           "align": "left"
          },
          "hovermode": "closest",
          "mapbox": {
           "style": "light"
          },
          "paper_bgcolor": "white",
          "plot_bgcolor": "#E5ECF6",
          "polar": {
           "angularaxis": {
            "gridcolor": "white",
            "linecolor": "white",
            "ticks": ""
           },
           "bgcolor": "#E5ECF6",
           "radialaxis": {
            "gridcolor": "white",
            "linecolor": "white",
            "ticks": ""
           }
          },
          "scene": {
           "xaxis": {
            "backgroundcolor": "#E5ECF6",
            "gridcolor": "white",
            "gridwidth": 2,
            "linecolor": "white",
            "showbackground": true,
            "ticks": "",
            "zerolinecolor": "white"
           },
           "yaxis": {
            "backgroundcolor": "#E5ECF6",
            "gridcolor": "white",
            "gridwidth": 2,
            "linecolor": "white",
            "showbackground": true,
            "ticks": "",
            "zerolinecolor": "white"
           },
           "zaxis": {
            "backgroundcolor": "#E5ECF6",
            "gridcolor": "white",
            "gridwidth": 2,
            "linecolor": "white",
            "showbackground": true,
            "ticks": "",
            "zerolinecolor": "white"
           }
          },
          "shapedefaults": {
           "line": {
            "color": "#2a3f5f"
           }
          },
          "ternary": {
           "aaxis": {
            "gridcolor": "white",
            "linecolor": "white",
            "ticks": ""
           },
           "baxis": {
            "gridcolor": "white",
            "linecolor": "white",
            "ticks": ""
           },
           "bgcolor": "#E5ECF6",
           "caxis": {
            "gridcolor": "white",
            "linecolor": "white",
            "ticks": ""
           }
          },
          "title": {
           "x": 0.05
          },
          "xaxis": {
           "automargin": true,
           "gridcolor": "white",
           "linecolor": "white",
           "ticks": "",
           "title": {
            "standoff": 15
           },
           "zerolinecolor": "white",
           "zerolinewidth": 2
          },
          "yaxis": {
           "automargin": true,
           "gridcolor": "white",
           "linecolor": "white",
           "ticks": "",
           "title": {
            "standoff": 15
           },
           "zerolinecolor": "white",
           "zerolinewidth": 2
          }
         }
        },
        "xaxis": {
         "anchor": "y",
         "domain": [
          0,
          1
         ],
         "title": {
          "text": "Dias de Duração"
         }
        },
        "yaxis": {
         "anchor": "x",
         "domain": [
          0,
          1
         ],
         "title": {
          "text": "Diâmetro"
         }
        }
       }
      }
     },
     "metadata": {},
     "output_type": "display_data"
    }
   ],
   "source": [
    "px.scatter(duracao_com_medidas, x='Dias de Duração', y='Diâmetro',  color='Dias de Duração',color_continuous_scale='peach', size='Diâmetro')"
   ]
  },
  {
   "cell_type": "markdown",
   "metadata": {},
   "source": [
    "> Os gráficos indicam baixa variância nos dados e/ou ausência de um relacionamento claro entre as variáveis."
   ]
  },
  {
   "cell_type": "markdown",
   "metadata": {},
   "source": [
    "> Duração da ordem não é influenciada pela 'complexidade' do frasco."
   ]
  },
  {
   "cell_type": "markdown",
   "metadata": {},
   "source": [
    "# \"Prevendo\" a temperatura da gota"
   ]
  },
  {
   "cell_type": "markdown",
   "metadata": {},
   "source": [
    "### Transformando todos os dados das colunas de PV para float64"
   ]
  },
  {
   "cell_type": "code",
   "execution_count": 70,
   "metadata": {},
   "outputs": [
    {
     "name": "stdout",
     "output_type": "stream",
     "text": [
      "Tras-PV (F°)      float64\n",
      "Fritas-PV (F°)    float64\n",
      "Agit-PV (F°)      float64\n",
      "Meio-PV (F°)      float64\n",
      "Frente-PV (F°)    float64\n",
      "dtype: object\n"
     ]
    }
   ],
   "source": [
    "cols = ['Tras-PV (F°)', 'Fritas-PV (F°)', 'Agit-PV (F°)', 'Meio-PV (F°)', 'Frente-PV (F°)']\n",
    "df_resumo_geral[cols] = df_resumo_geral[cols].apply(pd.to_numeric, errors='coerce')\n",
    "print(df_resumo_geral[cols].dtypes)"
   ]
  },
  {
   "cell_type": "markdown",
   "metadata": {},
   "source": [
    "### Calculando regressão"
   ]
  },
  {
   "cell_type": "code",
   "execution_count": 71,
   "metadata": {},
   "outputs": [],
   "source": [
    "# Cria um array de índices baseado no número de colunas\n",
    "# Representa as posições dos defeitos ou categorias para análise\n",
    "x = np.arange(len(cols))  \n",
    "\n",
    "# Extrai os valores da primeira linha (geralmente resumo ou agregação) para as colunas selecionadas\n",
    "# Esses valores podem representar métricas como contagem ou média para os defeitos\n",
    "y = df_resumo_geral[cols].iloc[0].values  \n",
    "\n",
    "# Realiza o ajuste de uma linha de regressão (reta) com base nos pontos (x, y)\n",
    "# np.polyfit retorna o coeficiente angular (slope) e o coeficiente linear (intercept) para uma linha do tipo y = mx + b\n",
    "slope, intercept = np.polyfit(x, y, 1)\n",
    "\n",
    "# Calcula os valores da linha de regressão com base na fórmula da reta: y = mx + b\n",
    "linha_regressao = slope * x + intercept\n"
   ]
  },
  {
   "cell_type": "markdown",
   "metadata": {},
   "source": [
    "### Gráfico de regressão das temperaturas"
   ]
  },
  {
   "cell_type": "code",
   "execution_count": 72,
   "metadata": {},
   "outputs": [
    {
     "data": {
      "application/vnd.plotly.v1+json": {
       "config": {
        "plotlyServerURL": "https://plot.ly"
       },
       "data": [
        {
         "line": {
          "color": "blue"
         },
         "marker": {
          "color": "blue",
          "size": 10
         },
         "mode": "markers+lines",
         "name": "Temperaturas (dados reais)",
         "type": "scatter",
         "x": [
          0,
          1,
          2,
          3,
          4
         ],
         "y": [
          2341.1,
          2302.9,
          2258.9,
          2201.6,
          2176.4
         ]
        },
        {
         "line": {
          "color": "red",
          "dash": "dash"
         },
         "mode": "lines",
         "name": "Linha de Regressão\n y = -43.07x + 2342.32",
         "type": "scatter",
         "x": [
          0,
          1,
          2,
          3,
          4
         ],
         "y": [
          2342.319999999999,
          2299.2499999999986,
          2256.1799999999985,
          2213.1099999999988,
          2170.0399999999986
         ]
        }
       ],
       "layout": {
        "margin": {
         "b": 100,
         "l": 40,
         "r": 40,
         "t": 40
        },
        "showlegend": true,
        "template": {
         "data": {
          "bar": [
           {
            "error_x": {
             "color": "#2a3f5f"
            },
            "error_y": {
             "color": "#2a3f5f"
            },
            "marker": {
             "line": {
              "color": "#E5ECF6",
              "width": 0.5
             },
             "pattern": {
              "fillmode": "overlay",
              "size": 10,
              "solidity": 0.2
             }
            },
            "type": "bar"
           }
          ],
          "barpolar": [
           {
            "marker": {
             "line": {
              "color": "#E5ECF6",
              "width": 0.5
             },
             "pattern": {
              "fillmode": "overlay",
              "size": 10,
              "solidity": 0.2
             }
            },
            "type": "barpolar"
           }
          ],
          "carpet": [
           {
            "aaxis": {
             "endlinecolor": "#2a3f5f",
             "gridcolor": "white",
             "linecolor": "white",
             "minorgridcolor": "white",
             "startlinecolor": "#2a3f5f"
            },
            "baxis": {
             "endlinecolor": "#2a3f5f",
             "gridcolor": "white",
             "linecolor": "white",
             "minorgridcolor": "white",
             "startlinecolor": "#2a3f5f"
            },
            "type": "carpet"
           }
          ],
          "choropleth": [
           {
            "colorbar": {
             "outlinewidth": 0,
             "ticks": ""
            },
            "type": "choropleth"
           }
          ],
          "contour": [
           {
            "colorbar": {
             "outlinewidth": 0,
             "ticks": ""
            },
            "colorscale": [
             [
              0,
              "#0d0887"
             ],
             [
              0.1111111111111111,
              "#46039f"
             ],
             [
              0.2222222222222222,
              "#7201a8"
             ],
             [
              0.3333333333333333,
              "#9c179e"
             ],
             [
              0.4444444444444444,
              "#bd3786"
             ],
             [
              0.5555555555555556,
              "#d8576b"
             ],
             [
              0.6666666666666666,
              "#ed7953"
             ],
             [
              0.7777777777777778,
              "#fb9f3a"
             ],
             [
              0.8888888888888888,
              "#fdca26"
             ],
             [
              1,
              "#f0f921"
             ]
            ],
            "type": "contour"
           }
          ],
          "contourcarpet": [
           {
            "colorbar": {
             "outlinewidth": 0,
             "ticks": ""
            },
            "type": "contourcarpet"
           }
          ],
          "heatmap": [
           {
            "colorbar": {
             "outlinewidth": 0,
             "ticks": ""
            },
            "colorscale": [
             [
              0,
              "#0d0887"
             ],
             [
              0.1111111111111111,
              "#46039f"
             ],
             [
              0.2222222222222222,
              "#7201a8"
             ],
             [
              0.3333333333333333,
              "#9c179e"
             ],
             [
              0.4444444444444444,
              "#bd3786"
             ],
             [
              0.5555555555555556,
              "#d8576b"
             ],
             [
              0.6666666666666666,
              "#ed7953"
             ],
             [
              0.7777777777777778,
              "#fb9f3a"
             ],
             [
              0.8888888888888888,
              "#fdca26"
             ],
             [
              1,
              "#f0f921"
             ]
            ],
            "type": "heatmap"
           }
          ],
          "heatmapgl": [
           {
            "colorbar": {
             "outlinewidth": 0,
             "ticks": ""
            },
            "colorscale": [
             [
              0,
              "#0d0887"
             ],
             [
              0.1111111111111111,
              "#46039f"
             ],
             [
              0.2222222222222222,
              "#7201a8"
             ],
             [
              0.3333333333333333,
              "#9c179e"
             ],
             [
              0.4444444444444444,
              "#bd3786"
             ],
             [
              0.5555555555555556,
              "#d8576b"
             ],
             [
              0.6666666666666666,
              "#ed7953"
             ],
             [
              0.7777777777777778,
              "#fb9f3a"
             ],
             [
              0.8888888888888888,
              "#fdca26"
             ],
             [
              1,
              "#f0f921"
             ]
            ],
            "type": "heatmapgl"
           }
          ],
          "histogram": [
           {
            "marker": {
             "pattern": {
              "fillmode": "overlay",
              "size": 10,
              "solidity": 0.2
             }
            },
            "type": "histogram"
           }
          ],
          "histogram2d": [
           {
            "colorbar": {
             "outlinewidth": 0,
             "ticks": ""
            },
            "colorscale": [
             [
              0,
              "#0d0887"
             ],
             [
              0.1111111111111111,
              "#46039f"
             ],
             [
              0.2222222222222222,
              "#7201a8"
             ],
             [
              0.3333333333333333,
              "#9c179e"
             ],
             [
              0.4444444444444444,
              "#bd3786"
             ],
             [
              0.5555555555555556,
              "#d8576b"
             ],
             [
              0.6666666666666666,
              "#ed7953"
             ],
             [
              0.7777777777777778,
              "#fb9f3a"
             ],
             [
              0.8888888888888888,
              "#fdca26"
             ],
             [
              1,
              "#f0f921"
             ]
            ],
            "type": "histogram2d"
           }
          ],
          "histogram2dcontour": [
           {
            "colorbar": {
             "outlinewidth": 0,
             "ticks": ""
            },
            "colorscale": [
             [
              0,
              "#0d0887"
             ],
             [
              0.1111111111111111,
              "#46039f"
             ],
             [
              0.2222222222222222,
              "#7201a8"
             ],
             [
              0.3333333333333333,
              "#9c179e"
             ],
             [
              0.4444444444444444,
              "#bd3786"
             ],
             [
              0.5555555555555556,
              "#d8576b"
             ],
             [
              0.6666666666666666,
              "#ed7953"
             ],
             [
              0.7777777777777778,
              "#fb9f3a"
             ],
             [
              0.8888888888888888,
              "#fdca26"
             ],
             [
              1,
              "#f0f921"
             ]
            ],
            "type": "histogram2dcontour"
           }
          ],
          "mesh3d": [
           {
            "colorbar": {
             "outlinewidth": 0,
             "ticks": ""
            },
            "type": "mesh3d"
           }
          ],
          "parcoords": [
           {
            "line": {
             "colorbar": {
              "outlinewidth": 0,
              "ticks": ""
             }
            },
            "type": "parcoords"
           }
          ],
          "pie": [
           {
            "automargin": true,
            "type": "pie"
           }
          ],
          "scatter": [
           {
            "fillpattern": {
             "fillmode": "overlay",
             "size": 10,
             "solidity": 0.2
            },
            "type": "scatter"
           }
          ],
          "scatter3d": [
           {
            "line": {
             "colorbar": {
              "outlinewidth": 0,
              "ticks": ""
             }
            },
            "marker": {
             "colorbar": {
              "outlinewidth": 0,
              "ticks": ""
             }
            },
            "type": "scatter3d"
           }
          ],
          "scattercarpet": [
           {
            "marker": {
             "colorbar": {
              "outlinewidth": 0,
              "ticks": ""
             }
            },
            "type": "scattercarpet"
           }
          ],
          "scattergeo": [
           {
            "marker": {
             "colorbar": {
              "outlinewidth": 0,
              "ticks": ""
             }
            },
            "type": "scattergeo"
           }
          ],
          "scattergl": [
           {
            "marker": {
             "colorbar": {
              "outlinewidth": 0,
              "ticks": ""
             }
            },
            "type": "scattergl"
           }
          ],
          "scattermapbox": [
           {
            "marker": {
             "colorbar": {
              "outlinewidth": 0,
              "ticks": ""
             }
            },
            "type": "scattermapbox"
           }
          ],
          "scatterpolar": [
           {
            "marker": {
             "colorbar": {
              "outlinewidth": 0,
              "ticks": ""
             }
            },
            "type": "scatterpolar"
           }
          ],
          "scatterpolargl": [
           {
            "marker": {
             "colorbar": {
              "outlinewidth": 0,
              "ticks": ""
             }
            },
            "type": "scatterpolargl"
           }
          ],
          "scatterternary": [
           {
            "marker": {
             "colorbar": {
              "outlinewidth": 0,
              "ticks": ""
             }
            },
            "type": "scatterternary"
           }
          ],
          "surface": [
           {
            "colorbar": {
             "outlinewidth": 0,
             "ticks": ""
            },
            "colorscale": [
             [
              0,
              "#0d0887"
             ],
             [
              0.1111111111111111,
              "#46039f"
             ],
             [
              0.2222222222222222,
              "#7201a8"
             ],
             [
              0.3333333333333333,
              "#9c179e"
             ],
             [
              0.4444444444444444,
              "#bd3786"
             ],
             [
              0.5555555555555556,
              "#d8576b"
             ],
             [
              0.6666666666666666,
              "#ed7953"
             ],
             [
              0.7777777777777778,
              "#fb9f3a"
             ],
             [
              0.8888888888888888,
              "#fdca26"
             ],
             [
              1,
              "#f0f921"
             ]
            ],
            "type": "surface"
           }
          ],
          "table": [
           {
            "cells": {
             "fill": {
              "color": "#EBF0F8"
             },
             "line": {
              "color": "white"
             }
            },
            "header": {
             "fill": {
              "color": "#C8D4E3"
             },
             "line": {
              "color": "white"
             }
            },
            "type": "table"
           }
          ]
         },
         "layout": {
          "annotationdefaults": {
           "arrowcolor": "#2a3f5f",
           "arrowhead": 0,
           "arrowwidth": 1
          },
          "autotypenumbers": "strict",
          "coloraxis": {
           "colorbar": {
            "outlinewidth": 0,
            "ticks": ""
           }
          },
          "colorscale": {
           "diverging": [
            [
             0,
             "#8e0152"
            ],
            [
             0.1,
             "#c51b7d"
            ],
            [
             0.2,
             "#de77ae"
            ],
            [
             0.3,
             "#f1b6da"
            ],
            [
             0.4,
             "#fde0ef"
            ],
            [
             0.5,
             "#f7f7f7"
            ],
            [
             0.6,
             "#e6f5d0"
            ],
            [
             0.7,
             "#b8e186"
            ],
            [
             0.8,
             "#7fbc41"
            ],
            [
             0.9,
             "#4d9221"
            ],
            [
             1,
             "#276419"
            ]
           ],
           "sequential": [
            [
             0,
             "#0d0887"
            ],
            [
             0.1111111111111111,
             "#46039f"
            ],
            [
             0.2222222222222222,
             "#7201a8"
            ],
            [
             0.3333333333333333,
             "#9c179e"
            ],
            [
             0.4444444444444444,
             "#bd3786"
            ],
            [
             0.5555555555555556,
             "#d8576b"
            ],
            [
             0.6666666666666666,
             "#ed7953"
            ],
            [
             0.7777777777777778,
             "#fb9f3a"
            ],
            [
             0.8888888888888888,
             "#fdca26"
            ],
            [
             1,
             "#f0f921"
            ]
           ],
           "sequentialminus": [
            [
             0,
             "#0d0887"
            ],
            [
             0.1111111111111111,
             "#46039f"
            ],
            [
             0.2222222222222222,
             "#7201a8"
            ],
            [
             0.3333333333333333,
             "#9c179e"
            ],
            [
             0.4444444444444444,
             "#bd3786"
            ],
            [
             0.5555555555555556,
             "#d8576b"
            ],
            [
             0.6666666666666666,
             "#ed7953"
            ],
            [
             0.7777777777777778,
             "#fb9f3a"
            ],
            [
             0.8888888888888888,
             "#fdca26"
            ],
            [
             1,
             "#f0f921"
            ]
           ]
          },
          "colorway": [
           "#636efa",
           "#EF553B",
           "#00cc96",
           "#ab63fa",
           "#FFA15A",
           "#19d3f3",
           "#FF6692",
           "#B6E880",
           "#FF97FF",
           "#FECB52"
          ],
          "font": {
           "color": "#2a3f5f"
          },
          "geo": {
           "bgcolor": "white",
           "lakecolor": "white",
           "landcolor": "#E5ECF6",
           "showlakes": true,
           "showland": true,
           "subunitcolor": "white"
          },
          "hoverlabel": {
           "align": "left"
          },
          "hovermode": "closest",
          "mapbox": {
           "style": "light"
          },
          "paper_bgcolor": "white",
          "plot_bgcolor": "#E5ECF6",
          "polar": {
           "angularaxis": {
            "gridcolor": "white",
            "linecolor": "white",
            "ticks": ""
           },
           "bgcolor": "#E5ECF6",
           "radialaxis": {
            "gridcolor": "white",
            "linecolor": "white",
            "ticks": ""
           }
          },
          "scene": {
           "xaxis": {
            "backgroundcolor": "#E5ECF6",
            "gridcolor": "white",
            "gridwidth": 2,
            "linecolor": "white",
            "showbackground": true,
            "ticks": "",
            "zerolinecolor": "white"
           },
           "yaxis": {
            "backgroundcolor": "#E5ECF6",
            "gridcolor": "white",
            "gridwidth": 2,
            "linecolor": "white",
            "showbackground": true,
            "ticks": "",
            "zerolinecolor": "white"
           },
           "zaxis": {
            "backgroundcolor": "#E5ECF6",
            "gridcolor": "white",
            "gridwidth": 2,
            "linecolor": "white",
            "showbackground": true,
            "ticks": "",
            "zerolinecolor": "white"
           }
          },
          "shapedefaults": {
           "line": {
            "color": "#2a3f5f"
           }
          },
          "ternary": {
           "aaxis": {
            "gridcolor": "white",
            "linecolor": "white",
            "ticks": ""
           },
           "baxis": {
            "gridcolor": "white",
            "linecolor": "white",
            "ticks": ""
           },
           "bgcolor": "#E5ECF6",
           "caxis": {
            "gridcolor": "white",
            "linecolor": "white",
            "ticks": ""
           }
          },
          "title": {
           "x": 0.05
          },
          "xaxis": {
           "automargin": true,
           "gridcolor": "white",
           "linecolor": "white",
           "ticks": "",
           "title": {
            "standoff": 15
           },
           "zerolinecolor": "white",
           "zerolinewidth": 2
          },
          "yaxis": {
           "automargin": true,
           "gridcolor": "white",
           "linecolor": "white",
           "ticks": "",
           "title": {
            "standoff": 15
           },
           "zerolinecolor": "white",
           "zerolinewidth": 2
          }
         }
        },
        "title": {
         "text": "Taxa de Variação nas Temperaturas"
        },
        "xaxis": {
         "tickangle": -45,
         "tickmode": "array",
         "ticktext": [
          "Tras-PV (F°)",
          "Fritas-PV (F°)",
          "Agit-PV (F°)",
          "Meio-PV (F°)",
          "Frente-PV (F°)"
         ],
         "tickvals": [
          0,
          1,
          2,
          3,
          4
         ],
         "title": {
          "text": "Posição (Colunas)"
         }
        },
        "yaxis": {
         "title": {
          "text": "Temperatura (°F)"
         }
        }
       }
      }
     },
     "metadata": {},
     "output_type": "display_data"
    }
   ],
   "source": [
    "fig = go.Figure()\n",
    "\n",
    "fig.add_trace(go.Scatter(x=x, y=y, mode='markers+lines', name='Temperaturas (dados reais)', \n",
    "                         line=dict(color='blue'), marker=dict(color='blue', size=10)))\n",
    "\n",
    "fig.add_trace(go.Scatter(x=x, y=linha_regressao, mode='lines', name=f'Linha de Regressão\\n y = {slope:.2f}x + {intercept:.2f}', \n",
    "                         line=dict(color='red', dash='dash')))\n",
    "\n",
    "fig.update_layout(\n",
    "    title='Taxa de Variação nas Temperaturas',\n",
    "    xaxis=dict(tickmode='array', tickvals=x, ticktext=cols, title='Posição (Colunas)'),\n",
    "    yaxis=dict(title='Temperatura (°F)'),\n",
    "    showlegend=True,\n",
    "    template='plotly',\n",
    "    xaxis_tickangle=-45,\n",
    "    margin=dict(l=40, r=40, t=40, b=100)\n",
    ")\n",
    "\n",
    "fig.show()"
   ]
  },
  {
   "cell_type": "markdown",
   "metadata": {},
   "source": [
    "\n",
    "> A linha de regressão mostra a tendência geral das temperaturas 'PV' nas colunas do DataFrame. A taxa de variação (inclinação) é **-43.07°F por posição**, o que significa que, em média, as temperaturas diminuem 43,07°F a cada etapa do feeder.\n"
   ]
  },
  {
   "cell_type": "markdown",
   "metadata": {},
   "source": [
    "### Calculando próxima temperatura (da gota) com base na linha de regressão"
   ]
  },
  {
   "cell_type": "code",
   "execution_count": 73,
   "metadata": {},
   "outputs": [],
   "source": [
    "# Função para prever a próxima temperatura com base nos dados da linha\n",
    "def prever_proxima_temp(row):\n",
    "    try:\n",
    "        # Cria um array de índices baseado no número de colunas\n",
    "        # x representa as posições das variáveis independentes (tempo, por exemplo)\n",
    "        x = np.arange(len(cols))\n",
    "        \n",
    "        # Obtém os valores da linha para as colunas especificadas e converte para float\n",
    "        # y representa os valores observados das variáveis dependentes (temperaturas, por exemplo)\n",
    "        y = row[cols].astype(float).values\n",
    "        \n",
    "        # Realiza o ajuste de uma linha de regressão (grau 1) para os pontos (x, y)\n",
    "        # Retorna o coeficiente angular (slope) e o coeficiente linear (intercept)\n",
    "        slope, intercept = np.polyfit(x, y, 1)\n",
    "        \n",
    "        # Calcula a previsão para a próxima posição (len(cols)), que é o próximo índice após os existentes\n",
    "        proxima_temp = slope * (len(cols)) + intercept\n",
    "        \n",
    "        # Retorna o valor previsto para a próxima temperatura\n",
    "        return proxima_temp\n",
    "    except Exception as e:\n",
    "        # Trata erros potencialmente causados por dados inválidos ou outros problemas\n",
    "        print(f\"Erro com os dados: x={x}, y={y}, erro={e}\")\n",
    "        # Retorna NaN (Not a Number) para indicar a impossibilidade de realizar a previsão\n",
    "        return np.nan\n",
    "\n",
    "# Aplica a função 'prever_proxima_temp' a cada linha do DataFrame\n",
    "# Cria uma nova coluna 'Proxima_Temperatura' com os valores previstos\n",
    "df_resumo_geral.loc[:, 'Proxima_Temperatura'] = df_resumo_geral.apply(prever_proxima_temp, axis=1)\n"
   ]
  },
  {
   "cell_type": "code",
   "execution_count": 74,
   "metadata": {},
   "outputs": [
    {
     "data": {
      "text/html": [
       "<div>\n",
       "<style scoped>\n",
       "    .dataframe tbody tr th:only-of-type {\n",
       "        vertical-align: middle;\n",
       "    }\n",
       "\n",
       "    .dataframe tbody tr th {\n",
       "        vertical-align: top;\n",
       "    }\n",
       "\n",
       "    .dataframe thead th {\n",
       "        text-align: right;\n",
       "    }\n",
       "</style>\n",
       "<table border=\"1\" class=\"dataframe\">\n",
       "  <thead>\n",
       "    <tr style=\"text-align: right;\">\n",
       "      <th></th>\n",
       "      <th></th>\n",
       "      <th></th>\n",
       "      <th>Temperatura (F°)</th>\n",
       "      <th>Proxima_Temperatura</th>\n",
       "    </tr>\n",
       "    <tr>\n",
       "      <th>Ordem de prod</th>\n",
       "      <th>Ref. do Artigo</th>\n",
       "      <th>Data de prod</th>\n",
       "      <th></th>\n",
       "      <th></th>\n",
       "    </tr>\n",
       "  </thead>\n",
       "  <tbody>\n",
       "    <tr>\n",
       "      <th rowspan=\"5\" valign=\"top\">192970</th>\n",
       "      <th rowspan=\"5\" valign=\"top\">C0516.0000R</th>\n",
       "      <th>2024-01-03</th>\n",
       "      <td>2505.02</td>\n",
       "      <td>2126.97</td>\n",
       "    </tr>\n",
       "    <tr>\n",
       "      <th>2024-01-04</th>\n",
       "      <td>3094.52</td>\n",
       "      <td>2118.92</td>\n",
       "    </tr>\n",
       "    <tr>\n",
       "      <th>2024-01-05</th>\n",
       "      <td>3369.74</td>\n",
       "      <td>2125.00</td>\n",
       "    </tr>\n",
       "    <tr>\n",
       "      <th>2024-01-06</th>\n",
       "      <td>3335.18</td>\n",
       "      <td>2125.40</td>\n",
       "    </tr>\n",
       "    <tr>\n",
       "      <th>2024-01-07</th>\n",
       "      <td>3340.94</td>\n",
       "      <td>2126.76</td>\n",
       "    </tr>\n",
       "    <tr>\n",
       "      <th>...</th>\n",
       "      <th>...</th>\n",
       "      <th>...</th>\n",
       "      <td>...</td>\n",
       "      <td>...</td>\n",
       "    </tr>\n",
       "    <tr>\n",
       "      <th rowspan=\"5\" valign=\"top\">194121</th>\n",
       "      <th rowspan=\"5\" valign=\"top\">C0516.0000R</th>\n",
       "      <th>2024-06-26</th>\n",
       "      <td>1940.00</td>\n",
       "      <td>2154.44</td>\n",
       "    </tr>\n",
       "    <tr>\n",
       "      <th>2024-06-27</th>\n",
       "      <td>2056.28</td>\n",
       "      <td>2152.32</td>\n",
       "    </tr>\n",
       "    <tr>\n",
       "      <th>2024-06-28</th>\n",
       "      <td>2015.42</td>\n",
       "      <td>2145.60</td>\n",
       "    </tr>\n",
       "    <tr>\n",
       "      <th>2024-06-29</th>\n",
       "      <td>2020.28</td>\n",
       "      <td>2145.60</td>\n",
       "    </tr>\n",
       "    <tr>\n",
       "      <th>2024-06-30</th>\n",
       "      <td>2055.56</td>\n",
       "      <td>2148.00</td>\n",
       "    </tr>\n",
       "  </tbody>\n",
       "</table>\n",
       "<p>200 rows × 2 columns</p>\n",
       "</div>"
      ],
      "text/plain": [
       "                                           Temperatura (F°)  \\\n",
       "Ordem de prod Ref. do Artigo Data de prod                     \n",
       "192970        C0516.0000R    2024-01-03             2505.02   \n",
       "                             2024-01-04             3094.52   \n",
       "                             2024-01-05             3369.74   \n",
       "                             2024-01-06             3335.18   \n",
       "                             2024-01-07             3340.94   \n",
       "...                                                     ...   \n",
       "194121        C0516.0000R    2024-06-26             1940.00   \n",
       "                             2024-06-27             2056.28   \n",
       "                             2024-06-28             2015.42   \n",
       "                             2024-06-29             2020.28   \n",
       "                             2024-06-30             2055.56   \n",
       "\n",
       "                                           Proxima_Temperatura  \n",
       "Ordem de prod Ref. do Artigo Data de prod                       \n",
       "192970        C0516.0000R    2024-01-03                2126.97  \n",
       "                             2024-01-04                2118.92  \n",
       "                             2024-01-05                2125.00  \n",
       "                             2024-01-06                2125.40  \n",
       "                             2024-01-07                2126.76  \n",
       "...                                                        ...  \n",
       "194121        C0516.0000R    2024-06-26                2154.44  \n",
       "                             2024-06-27                2152.32  \n",
       "                             2024-06-28                2145.60  \n",
       "                             2024-06-29                2145.60  \n",
       "                             2024-06-30                2148.00  \n",
       "\n",
       "[200 rows x 2 columns]"
      ]
     },
     "execution_count": 74,
     "metadata": {},
     "output_type": "execute_result"
    }
   ],
   "source": [
    "df_resumo_geral[['Temperatura (F°)', 'Proxima_Temperatura']]"
   ]
  },
  {
   "cell_type": "markdown",
   "metadata": {},
   "source": [
    "### Substituição das colunas"
   ]
  },
  {
   "cell_type": "code",
   "execution_count": 75,
   "metadata": {},
   "outputs": [],
   "source": [
    "df_resumo_geral.drop(columns='Temperatura (F°)', inplace=True)"
   ]
  },
  {
   "cell_type": "code",
   "execution_count": 76,
   "metadata": {},
   "outputs": [],
   "source": [
    "df_resumo_geral.rename(columns={'Proxima_Temperatura': 'Temperatura (F°)'}, inplace=True)"
   ]
  },
  {
   "cell_type": "markdown",
   "metadata": {},
   "source": [
    "### Reordenando Dataframe"
   ]
  },
  {
   "cell_type": "code",
   "execution_count": 77,
   "metadata": {},
   "outputs": [],
   "source": [
    "nova_ordem = [\n",
    "    'Gotas cortadas (toneladas)', \n",
    "    'Peso médio (g)', \n",
    "    'Cortes por minuto', \n",
    "    'Comprimento médio (mm)', \n",
    "    'Diâmetro', \n",
    "    'Temperatura (F°)', \n",
    "    'Tras-PV (F°)', \n",
    "    'Fritas-PV (F°)', \n",
    "    'Agit-PV (F°)', \n",
    "    'Meio-PV (F°)', \n",
    "    'Frente-PV (F°)', \n",
    "    'Total de Defeitos no Dia', \n",
    "    'Defeito Mais Frequente do Dia'\n",
    "]\n",
    "\n",
    "df_resumo_geral = df_resumo_geral[nova_ordem]"
   ]
  },
  {
   "cell_type": "code",
   "execution_count": 78,
   "metadata": {},
   "outputs": [
    {
     "data": {
      "text/html": [
       "<div>\n",
       "<style scoped>\n",
       "    .dataframe tbody tr th:only-of-type {\n",
       "        vertical-align: middle;\n",
       "    }\n",
       "\n",
       "    .dataframe tbody tr th {\n",
       "        vertical-align: top;\n",
       "    }\n",
       "\n",
       "    .dataframe thead th {\n",
       "        text-align: right;\n",
       "    }\n",
       "</style>\n",
       "<table border=\"1\" class=\"dataframe\">\n",
       "  <thead>\n",
       "    <tr style=\"text-align: right;\">\n",
       "      <th></th>\n",
       "      <th></th>\n",
       "      <th></th>\n",
       "      <th>Gotas cortadas (toneladas)</th>\n",
       "      <th>Peso médio (g)</th>\n",
       "      <th>Cortes por minuto</th>\n",
       "      <th>Comprimento médio (mm)</th>\n",
       "      <th>Diâmetro</th>\n",
       "      <th>Temperatura (F°)</th>\n",
       "      <th>Tras-PV (F°)</th>\n",
       "      <th>Fritas-PV (F°)</th>\n",
       "      <th>Agit-PV (F°)</th>\n",
       "      <th>Meio-PV (F°)</th>\n",
       "      <th>Frente-PV (F°)</th>\n",
       "      <th>Total de Defeitos no Dia</th>\n",
       "      <th>Defeito Mais Frequente do Dia</th>\n",
       "    </tr>\n",
       "    <tr>\n",
       "      <th>Ordem de prod</th>\n",
       "      <th>Ref. do Artigo</th>\n",
       "      <th>Data de prod</th>\n",
       "      <th></th>\n",
       "      <th></th>\n",
       "      <th></th>\n",
       "      <th></th>\n",
       "      <th></th>\n",
       "      <th></th>\n",
       "      <th></th>\n",
       "      <th></th>\n",
       "      <th></th>\n",
       "      <th></th>\n",
       "      <th></th>\n",
       "      <th></th>\n",
       "      <th></th>\n",
       "    </tr>\n",
       "  </thead>\n",
       "  <tbody>\n",
       "    <tr>\n",
       "      <th rowspan=\"5\" valign=\"top\">192970</th>\n",
       "      <th rowspan=\"5\" valign=\"top\">C0516.0000R</th>\n",
       "      <th>2024-01-03</th>\n",
       "      <td>20.948</td>\n",
       "      <td>169.3</td>\n",
       "      <td>90.0</td>\n",
       "      <td>110.4</td>\n",
       "      <td>32.5</td>\n",
       "      <td>2126.97</td>\n",
       "      <td>2341.1</td>\n",
       "      <td>2302.9</td>\n",
       "      <td>2258.9</td>\n",
       "      <td>2201.6</td>\n",
       "      <td>2176.4</td>\n",
       "      <td>222</td>\n",
       "      <td>Sujo de óleo</td>\n",
       "    </tr>\n",
       "    <tr>\n",
       "      <th>2024-01-04</th>\n",
       "      <td>21.022</td>\n",
       "      <td>169.7</td>\n",
       "      <td>89.0</td>\n",
       "      <td>85.6</td>\n",
       "      <td>18.1</td>\n",
       "      <td>2118.92</td>\n",
       "      <td>2349.6</td>\n",
       "      <td>2299.8</td>\n",
       "      <td>2249.2</td>\n",
       "      <td>2201.0</td>\n",
       "      <td>2173.0</td>\n",
       "      <td>249</td>\n",
       "      <td>Sujo de óleo</td>\n",
       "    </tr>\n",
       "    <tr>\n",
       "      <th>2024-01-05</th>\n",
       "      <td>21.449</td>\n",
       "      <td>173.6</td>\n",
       "      <td>86.0</td>\n",
       "      <td>140.5</td>\n",
       "      <td>32.9</td>\n",
       "      <td>2125.00</td>\n",
       "      <td>2350.0</td>\n",
       "      <td>2300.0</td>\n",
       "      <td>2250.0</td>\n",
       "      <td>2210.0</td>\n",
       "      <td>2175.0</td>\n",
       "      <td>268</td>\n",
       "      <td>Sujo de óleo</td>\n",
       "    </tr>\n",
       "    <tr>\n",
       "      <th>2024-01-06</th>\n",
       "      <td>21.526</td>\n",
       "      <td>170.2</td>\n",
       "      <td>86.0</td>\n",
       "      <td>144.7</td>\n",
       "      <td>32.7</td>\n",
       "      <td>2125.40</td>\n",
       "      <td>2350.0</td>\n",
       "      <td>2300.0</td>\n",
       "      <td>2250.0</td>\n",
       "      <td>2210.0</td>\n",
       "      <td>2175.5</td>\n",
       "      <td>242</td>\n",
       "      <td>Sujo de óleo</td>\n",
       "    </tr>\n",
       "    <tr>\n",
       "      <th>2024-01-07</th>\n",
       "      <td>21.439</td>\n",
       "      <td>171.7</td>\n",
       "      <td>86.7</td>\n",
       "      <td>141.5</td>\n",
       "      <td>30.2</td>\n",
       "      <td>2126.76</td>\n",
       "      <td>2349.6</td>\n",
       "      <td>2300.0</td>\n",
       "      <td>2250.0</td>\n",
       "      <td>2210.0</td>\n",
       "      <td>2177.0</td>\n",
       "      <td>232</td>\n",
       "      <td>Sujo de óleo</td>\n",
       "    </tr>\n",
       "    <tr>\n",
       "      <th>...</th>\n",
       "      <th>...</th>\n",
       "      <th>...</th>\n",
       "      <td>...</td>\n",
       "      <td>...</td>\n",
       "      <td>...</td>\n",
       "      <td>...</td>\n",
       "      <td>...</td>\n",
       "      <td>...</td>\n",
       "      <td>...</td>\n",
       "      <td>...</td>\n",
       "      <td>...</td>\n",
       "      <td>...</td>\n",
       "      <td>...</td>\n",
       "      <td>...</td>\n",
       "      <td>...</td>\n",
       "    </tr>\n",
       "    <tr>\n",
       "      <th rowspan=\"5\" valign=\"top\">194121</th>\n",
       "      <th rowspan=\"5\" valign=\"top\">C0516.0000R</th>\n",
       "      <th>2024-06-26</th>\n",
       "      <td>21.412</td>\n",
       "      <td>169.0</td>\n",
       "      <td>88.0</td>\n",
       "      <td>124.3</td>\n",
       "      <td>32.6</td>\n",
       "      <td>2154.44</td>\n",
       "      <td>2340.0</td>\n",
       "      <td>2300.0</td>\n",
       "      <td>2270.0</td>\n",
       "      <td>2230.0</td>\n",
       "      <td>2189.3</td>\n",
       "      <td>258</td>\n",
       "      <td>Sujo de óleo</td>\n",
       "    </tr>\n",
       "    <tr>\n",
       "      <th>2024-06-27</th>\n",
       "      <td>21.447</td>\n",
       "      <td>168.9</td>\n",
       "      <td>88.0</td>\n",
       "      <td>120.2</td>\n",
       "      <td>33.6</td>\n",
       "      <td>2152.32</td>\n",
       "      <td>2340.0</td>\n",
       "      <td>2300.0</td>\n",
       "      <td>2269.6</td>\n",
       "      <td>2229.6</td>\n",
       "      <td>2187.0</td>\n",
       "      <td>218</td>\n",
       "      <td>Sujo de óleo</td>\n",
       "    </tr>\n",
       "    <tr>\n",
       "      <th>2024-06-28</th>\n",
       "      <td>21.491</td>\n",
       "      <td>169.3</td>\n",
       "      <td>88.0</td>\n",
       "      <td>124.1</td>\n",
       "      <td>34.2</td>\n",
       "      <td>2145.60</td>\n",
       "      <td>2340.0</td>\n",
       "      <td>2300.0</td>\n",
       "      <td>2260.0</td>\n",
       "      <td>2220.0</td>\n",
       "      <td>2187.0</td>\n",
       "      <td>218</td>\n",
       "      <td>Sujo de óleo</td>\n",
       "    </tr>\n",
       "    <tr>\n",
       "      <th>2024-06-29</th>\n",
       "      <td>21.419</td>\n",
       "      <td>168.8</td>\n",
       "      <td>88.0</td>\n",
       "      <td>120.0</td>\n",
       "      <td>33.5</td>\n",
       "      <td>2145.60</td>\n",
       "      <td>2340.0</td>\n",
       "      <td>2300.0</td>\n",
       "      <td>2260.0</td>\n",
       "      <td>2220.0</td>\n",
       "      <td>2187.0</td>\n",
       "      <td>213</td>\n",
       "      <td>Sujo de óleo</td>\n",
       "    </tr>\n",
       "    <tr>\n",
       "      <th>2024-06-30</th>\n",
       "      <td>21.548</td>\n",
       "      <td>169.2</td>\n",
       "      <td>88.9</td>\n",
       "      <td>122.9</td>\n",
       "      <td>34.6</td>\n",
       "      <td>2148.00</td>\n",
       "      <td>2340.0</td>\n",
       "      <td>2300.0</td>\n",
       "      <td>2260.0</td>\n",
       "      <td>2220.0</td>\n",
       "      <td>2190.0</td>\n",
       "      <td>256</td>\n",
       "      <td>Sujo de óleo</td>\n",
       "    </tr>\n",
       "  </tbody>\n",
       "</table>\n",
       "<p>200 rows × 13 columns</p>\n",
       "</div>"
      ],
      "text/plain": [
       "                                           Gotas cortadas (toneladas)  \\\n",
       "Ordem de prod Ref. do Artigo Data de prod                               \n",
       "192970        C0516.0000R    2024-01-03                        20.948   \n",
       "                             2024-01-04                        21.022   \n",
       "                             2024-01-05                        21.449   \n",
       "                             2024-01-06                        21.526   \n",
       "                             2024-01-07                        21.439   \n",
       "...                                                               ...   \n",
       "194121        C0516.0000R    2024-06-26                        21.412   \n",
       "                             2024-06-27                        21.447   \n",
       "                             2024-06-28                        21.491   \n",
       "                             2024-06-29                        21.419   \n",
       "                             2024-06-30                        21.548   \n",
       "\n",
       "                                           Peso médio (g)  Cortes por minuto  \\\n",
       "Ordem de prod Ref. do Artigo Data de prod                                      \n",
       "192970        C0516.0000R    2024-01-03             169.3               90.0   \n",
       "                             2024-01-04             169.7               89.0   \n",
       "                             2024-01-05             173.6               86.0   \n",
       "                             2024-01-06             170.2               86.0   \n",
       "                             2024-01-07             171.7               86.7   \n",
       "...                                                   ...                ...   \n",
       "194121        C0516.0000R    2024-06-26             169.0               88.0   \n",
       "                             2024-06-27             168.9               88.0   \n",
       "                             2024-06-28             169.3               88.0   \n",
       "                             2024-06-29             168.8               88.0   \n",
       "                             2024-06-30             169.2               88.9   \n",
       "\n",
       "                                           Comprimento médio (mm)  Diâmetro  \\\n",
       "Ordem de prod Ref. do Artigo Data de prod                                     \n",
       "192970        C0516.0000R    2024-01-03                     110.4      32.5   \n",
       "                             2024-01-04                      85.6      18.1   \n",
       "                             2024-01-05                     140.5      32.9   \n",
       "                             2024-01-06                     144.7      32.7   \n",
       "                             2024-01-07                     141.5      30.2   \n",
       "...                                                           ...       ...   \n",
       "194121        C0516.0000R    2024-06-26                     124.3      32.6   \n",
       "                             2024-06-27                     120.2      33.6   \n",
       "                             2024-06-28                     124.1      34.2   \n",
       "                             2024-06-29                     120.0      33.5   \n",
       "                             2024-06-30                     122.9      34.6   \n",
       "\n",
       "                                           Temperatura (F°)  Tras-PV (F°)  \\\n",
       "Ordem de prod Ref. do Artigo Data de prod                                   \n",
       "192970        C0516.0000R    2024-01-03             2126.97        2341.1   \n",
       "                             2024-01-04             2118.92        2349.6   \n",
       "                             2024-01-05             2125.00        2350.0   \n",
       "                             2024-01-06             2125.40        2350.0   \n",
       "                             2024-01-07             2126.76        2349.6   \n",
       "...                                                     ...           ...   \n",
       "194121        C0516.0000R    2024-06-26             2154.44        2340.0   \n",
       "                             2024-06-27             2152.32        2340.0   \n",
       "                             2024-06-28             2145.60        2340.0   \n",
       "                             2024-06-29             2145.60        2340.0   \n",
       "                             2024-06-30             2148.00        2340.0   \n",
       "\n",
       "                                           Fritas-PV (F°)  Agit-PV (F°)  \\\n",
       "Ordem de prod Ref. do Artigo Data de prod                                 \n",
       "192970        C0516.0000R    2024-01-03            2302.9        2258.9   \n",
       "                             2024-01-04            2299.8        2249.2   \n",
       "                             2024-01-05            2300.0        2250.0   \n",
       "                             2024-01-06            2300.0        2250.0   \n",
       "                             2024-01-07            2300.0        2250.0   \n",
       "...                                                   ...           ...   \n",
       "194121        C0516.0000R    2024-06-26            2300.0        2270.0   \n",
       "                             2024-06-27            2300.0        2269.6   \n",
       "                             2024-06-28            2300.0        2260.0   \n",
       "                             2024-06-29            2300.0        2260.0   \n",
       "                             2024-06-30            2300.0        2260.0   \n",
       "\n",
       "                                           Meio-PV (F°)  Frente-PV (F°)  \\\n",
       "Ordem de prod Ref. do Artigo Data de prod                                 \n",
       "192970        C0516.0000R    2024-01-03          2201.6          2176.4   \n",
       "                             2024-01-04          2201.0          2173.0   \n",
       "                             2024-01-05          2210.0          2175.0   \n",
       "                             2024-01-06          2210.0          2175.5   \n",
       "                             2024-01-07          2210.0          2177.0   \n",
       "...                                                 ...             ...   \n",
       "194121        C0516.0000R    2024-06-26          2230.0          2189.3   \n",
       "                             2024-06-27          2229.6          2187.0   \n",
       "                             2024-06-28          2220.0          2187.0   \n",
       "                             2024-06-29          2220.0          2187.0   \n",
       "                             2024-06-30          2220.0          2190.0   \n",
       "\n",
       "                                           Total de Defeitos no Dia  \\\n",
       "Ordem de prod Ref. do Artigo Data de prod                             \n",
       "192970        C0516.0000R    2024-01-03                         222   \n",
       "                             2024-01-04                         249   \n",
       "                             2024-01-05                         268   \n",
       "                             2024-01-06                         242   \n",
       "                             2024-01-07                         232   \n",
       "...                                                             ...   \n",
       "194121        C0516.0000R    2024-06-26                         258   \n",
       "                             2024-06-27                         218   \n",
       "                             2024-06-28                         218   \n",
       "                             2024-06-29                         213   \n",
       "                             2024-06-30                         256   \n",
       "\n",
       "                                          Defeito Mais Frequente do Dia  \n",
       "Ordem de prod Ref. do Artigo Data de prod                                \n",
       "192970        C0516.0000R    2024-01-03                    Sujo de óleo  \n",
       "                             2024-01-04                    Sujo de óleo  \n",
       "                             2024-01-05                    Sujo de óleo  \n",
       "                             2024-01-06                    Sujo de óleo  \n",
       "                             2024-01-07                    Sujo de óleo  \n",
       "...                                                                 ...  \n",
       "194121        C0516.0000R    2024-06-26                    Sujo de óleo  \n",
       "                             2024-06-27                    Sujo de óleo  \n",
       "                             2024-06-28                    Sujo de óleo  \n",
       "                             2024-06-29                    Sujo de óleo  \n",
       "                             2024-06-30                    Sujo de óleo  \n",
       "\n",
       "[200 rows x 13 columns]"
      ]
     },
     "execution_count": 78,
     "metadata": {},
     "output_type": "execute_result"
    }
   ],
   "source": [
    "df_resumo_geral"
   ]
  },
  {
   "cell_type": "markdown",
   "metadata": {},
   "source": [
    "### Resetando índice para criação do gráfico"
   ]
  },
  {
   "cell_type": "code",
   "execution_count": 79,
   "metadata": {},
   "outputs": [],
   "source": [
    "df_resumo_geral_reset = df_resumo_geral.reset_index()"
   ]
  },
  {
   "cell_type": "markdown",
   "metadata": {},
   "source": [
    "### Gráfico de quantidade de defeitos por cada variável de medida da gota, visualizar como cada variável afeta a quantidade de defeitos"
   ]
  },
  {
   "cell_type": "code",
   "execution_count": 80,
   "metadata": {},
   "outputs": [
    {
     "data": {
      "application/vnd.plotly.v1+json": {
       "config": {
        "plotlyServerURL": "https://plot.ly"
       },
       "data": [
        {
         "line": {
          "color": "blue"
         },
         "mode": "lines",
         "name": "Defeitos no Dia (Suavizado)",
         "type": "scatter",
         "x": [
          "2024-06-30T00:00:00",
          "2024-06-29T00:00:00",
          "2024-06-28T00:00:00",
          "2024-06-27T00:00:00",
          "2024-06-26T00:00:00",
          "2024-06-25T00:00:00",
          "2024-06-25T00:00:00",
          "2024-06-24T00:00:00",
          "2024-06-22T00:00:00",
          "2024-06-21T00:00:00",
          "2024-06-20T00:00:00",
          "2024-06-19T00:00:00",
          "2024-06-18T00:00:00",
          "2024-06-17T00:00:00",
          "2024-06-16T00:00:00",
          "2024-06-15T00:00:00",
          "2024-06-15T00:00:00",
          "2024-06-14T00:00:00",
          "2024-06-13T00:00:00",
          "2024-06-12T00:00:00",
          "2024-06-11T00:00:00",
          "2024-06-10T00:00:00",
          "2024-06-09T00:00:00",
          "2024-06-08T00:00:00",
          "2024-06-07T00:00:00",
          "2024-06-06T00:00:00",
          "2024-06-05T00:00:00",
          "2024-06-04T00:00:00",
          "2024-06-03T00:00:00",
          "2024-06-02T00:00:00",
          "2024-06-02T00:00:00",
          "2024-06-01T00:00:00",
          "2024-05-31T00:00:00",
          "2024-05-31T00:00:00",
          "2024-05-30T00:00:00",
          "2024-05-29T00:00:00",
          "2024-05-28T00:00:00",
          "2024-05-25T00:00:00",
          "2024-05-25T00:00:00",
          "2024-05-24T00:00:00",
          "2024-05-23T00:00:00",
          "2024-05-22T00:00:00",
          "2024-05-21T00:00:00",
          "2024-05-20T00:00:00",
          "2024-05-19T00:00:00",
          "2024-05-18T00:00:00",
          "2024-05-17T00:00:00",
          "2024-05-16T00:00:00",
          "2024-05-15T00:00:00",
          "2024-05-15T00:00:00",
          "2024-05-14T00:00:00",
          "2024-05-13T00:00:00",
          "2024-05-12T00:00:00",
          "2024-05-11T00:00:00",
          "2024-05-10T00:00:00",
          "2024-05-09T00:00:00",
          "2024-05-08T00:00:00",
          "2024-05-07T00:00:00",
          "2024-05-06T00:00:00",
          "2024-05-05T00:00:00",
          "2024-05-04T00:00:00",
          "2024-05-03T00:00:00",
          "2024-05-02T00:00:00",
          "2024-05-02T00:00:00",
          "2024-05-01T00:00:00",
          "2024-04-30T00:00:00",
          "2024-04-29T00:00:00",
          "2024-04-28T00:00:00",
          "2024-04-28T00:00:00",
          "2024-04-27T00:00:00",
          "2024-04-26T00:00:00",
          "2024-04-26T00:00:00",
          "2024-04-25T00:00:00",
          "2024-04-24T00:00:00",
          "2024-04-24T00:00:00",
          "2024-04-23T00:00:00",
          "2024-04-22T00:00:00",
          "2024-04-22T00:00:00",
          "2024-04-21T00:00:00",
          "2024-04-20T00:00:00",
          "2024-04-20T00:00:00",
          "2024-04-19T00:00:00",
          "2024-04-18T00:00:00",
          "2024-04-18T00:00:00",
          "2024-04-17T00:00:00",
          "2024-04-16T00:00:00",
          "2024-04-15T00:00:00",
          "2024-04-14T00:00:00",
          "2024-04-13T00:00:00",
          "2024-04-12T00:00:00",
          "2024-04-11T00:00:00",
          "2024-04-11T00:00:00",
          "2024-04-10T00:00:00",
          "2024-04-09T00:00:00",
          "2024-04-08T00:00:00",
          "2024-04-08T00:00:00",
          "2024-04-07T00:00:00",
          "2024-04-06T00:00:00",
          "2024-04-05T00:00:00",
          "2024-04-04T00:00:00",
          "2024-04-04T00:00:00",
          "2024-04-03T00:00:00",
          "2024-04-02T00:00:00",
          "2024-04-01T00:00:00",
          "2024-03-30T00:00:00",
          "2024-03-29T00:00:00",
          "2024-03-28T00:00:00",
          "2024-03-27T00:00:00",
          "2024-03-26T00:00:00",
          "2024-03-25T00:00:00",
          "2024-03-25T00:00:00",
          "2024-03-24T00:00:00",
          "2024-03-23T00:00:00",
          "2024-03-22T00:00:00",
          "2024-03-21T00:00:00",
          "2024-03-20T00:00:00",
          "2024-03-19T00:00:00",
          "2024-03-18T00:00:00",
          "2024-03-17T00:00:00",
          "2024-03-16T00:00:00",
          "2024-03-15T00:00:00",
          "2024-03-14T00:00:00",
          "2024-03-13T00:00:00",
          "2024-03-13T00:00:00",
          "2024-03-12T00:00:00",
          "2024-03-11T00:00:00",
          "2024-03-11T00:00:00",
          "2024-03-10T00:00:00",
          "2024-03-09T00:00:00",
          "2024-03-08T00:00:00",
          "2024-03-07T00:00:00",
          "2024-03-06T00:00:00",
          "2024-03-05T00:00:00",
          "2024-03-04T00:00:00",
          "2024-03-03T00:00:00",
          "2024-03-02T00:00:00",
          "2024-03-01T00:00:00",
          "2024-02-29T00:00:00",
          "2024-02-28T00:00:00",
          "2024-02-27T00:00:00",
          "2024-02-26T00:00:00",
          "2024-02-25T00:00:00",
          "2024-02-24T00:00:00",
          "2024-02-23T00:00:00",
          "2024-02-22T00:00:00",
          "2024-02-21T00:00:00",
          "2024-02-21T00:00:00",
          "2024-02-20T00:00:00",
          "2024-02-19T00:00:00",
          "2024-02-18T00:00:00",
          "2024-02-17T00:00:00",
          "2024-02-16T00:00:00",
          "2024-02-14T00:00:00",
          "2024-02-14T00:00:00",
          "2024-02-13T00:00:00",
          "2024-02-12T00:00:00",
          "2024-02-11T00:00:00",
          "2024-02-10T00:00:00",
          "2024-02-09T00:00:00",
          "2024-02-08T00:00:00",
          "2024-02-08T00:00:00",
          "2024-02-07T00:00:00",
          "2024-02-06T00:00:00",
          "2024-02-05T00:00:00",
          "2024-02-04T00:00:00",
          "2024-02-03T00:00:00",
          "2024-02-02T00:00:00",
          "2024-02-01T00:00:00",
          "2024-01-31T00:00:00",
          "2024-01-30T00:00:00",
          "2024-01-29T00:00:00",
          "2024-01-28T00:00:00",
          "2024-01-28T00:00:00",
          "2024-01-27T00:00:00",
          "2024-01-26T00:00:00",
          "2024-01-25T00:00:00",
          "2024-01-22T00:00:00",
          "2024-01-21T00:00:00",
          "2024-01-20T00:00:00",
          "2024-01-19T00:00:00",
          "2024-01-18T00:00:00",
          "2024-01-17T00:00:00",
          "2024-01-16T00:00:00",
          "2024-01-15T00:00:00",
          "2024-01-14T00:00:00",
          "2024-01-13T00:00:00",
          "2024-01-12T00:00:00",
          "2024-01-11T00:00:00",
          "2024-01-11T00:00:00",
          "2024-01-10T00:00:00",
          "2024-01-09T00:00:00",
          "2024-01-08T00:00:00",
          "2024-01-07T00:00:00",
          "2024-01-06T00:00:00",
          "2024-01-05T00:00:00",
          "2024-01-04T00:00:00",
          "2024-01-03T00:00:00",
          "2024-01-03T00:00:00",
          "2024-01-02T00:00:00",
          "2024-01-01T00:00:00"
         ],
         "y": [
          null,
          null,
          null,
          244.14285714285714,
          241,
          239.57142857142858,
          219.71428571428572,
          216.57142857142858,
          207.28571428571428,
          197.42857142857142,
          180.14285714285714,
          175.85714285714286,
          181.42857142857142,
          204.71428571428572,
          204.57142857142858,
          202.57142857142858,
          197.85714285714286,
          203.14285714285714,
          202.28571428571428,
          201.85714285714286,
          210.57142857142858,
          217.42857142857142,
          231.42857142857142,
          241.14285714285714,
          243.57142857142858,
          245.14285714285714,
          234.85714285714286,
          215.42857142857142,
          211,
          206.14285714285714,
          206.71428571428572,
          210.28571428571428,
          205.85714285714286,
          212,
          225.42857142857142,
          232.42857142857142,
          226,
          216.85714285714286,
          211.85714285714286,
          219.42857142857142,
          218.42857142857142,
          218.85714285714286,
          211.85714285714286,
          214.14285714285714,
          238.85714285714286,
          243.42857142857142,
          243,
          240.85714285714286,
          231,
          223.28571428571428,
          213.85714285714286,
          189.57142857142858,
          183.28571428571428,
          177.85714285714286,
          178.14285714285714,
          177.71428571428572,
          186.28571428571428,
          211.42857142857142,
          235.85714285714286,
          239.57142857142858,
          242.42857142857142,
          241.42857142857142,
          242.42857142857142,
          239.57142857142858,
          223.42857142857142,
          203.14285714285714,
          211.14285714285714,
          209,
          210.71428571428572,
          217.14285714285714,
          224.42857142857142,
          229.85714285714286,
          246.57142857142858,
          250.71428571428572,
          265,
          269.42857142857144,
          268,
          265.85714285714283,
          256.2857142857143,
          238,
          224.42857142857142,
          207.28571428571428,
          199.14285714285714,
          192,
          186,
          185.57142857142858,
          186.42857142857142,
          182.85714285714286,
          182.85714285714286,
          185.85714285714286,
          189,
          190.85714285714286,
          194.57142857142858,
          192.42857142857142,
          198,
          207.28571428571428,
          196.28571428571428,
          183,
          194.85714285714286,
          210.85714285714286,
          214.42857142857142,
          209,
          198.42857142857142,
          204.28571428571428,
          215,
          204.14285714285714,
          186.28571428571428,
          182.85714285714286,
          194.28571428571428,
          203.42857142857142,
          219.28571428571428,
          235,
          227.85714285714286,
          224.57142857142858,
          223.57142857142858,
          216.42857142857142,
          212.57142857142858,
          202.85714285714286,
          187.14285714285714,
          188.71428571428572,
          189.28571428571428,
          189.85714285714286,
          180.85714285714286,
          172.28571428571428,
          169.42857142857142,
          164.85714285714286,
          167.14285714285714,
          168.71428571428572,
          161,
          163.71428571428572,
          166.28571428571428,
          167.14285714285714,
          172.28571428571428,
          169.28571428571428,
          170.28571428571428,
          176.28571428571428,
          181,
          182.28571428571428,
          184.42857142857142,
          187.14285714285714,
          194.14285714285714,
          209.14285714285714,
          209.57142857142858,
          207.42857142857142,
          214.28571428571428,
          216.28571428571428,
          218.85714285714286,
          223.42857142857142,
          217.42857142857142,
          209.14285714285714,
          200.85714285714286,
          213.28571428571428,
          223,
          229.85714285714286,
          233.71428571428572,
          241,
          258.14285714285717,
          275.2857142857143,
          249.85714285714286,
          233.57142857142858,
          221.28571428571428,
          210.57142857142858,
          193.71428571428572,
          190.57142857142858,
          184.71428571428572,
          199.28571428571428,
          204.28571428571428,
          211.71428571428572,
          224.57142857142858,
          239.42857142857142,
          249,
          256.7142857142857,
          253.71428571428572,
          252.57142857142858,
          249.85714285714286,
          240.28571428571428,
          229,
          218.71428571428572,
          210.57142857142858,
          213.85714285714286,
          219,
          220,
          212.42857142857142,
          216.42857142857142,
          227.57142857142858,
          241.14285714285714,
          239.85714285714286,
          234.42857142857142,
          234.14285714285714,
          242.85714285714286,
          243.14285714285714,
          239.57142857142858,
          233.28571428571428,
          233.28571428571428,
          237.71428571428572,
          234,
          223.57142857142858,
          null,
          null,
          null
         ]
        },
        {
         "line": {
          "color": "red",
          "dash": "dash"
         },
         "mode": "lines",
         "name": "Temperatura (F°) (Suavizado)",
         "type": "scatter",
         "x": [
          "2024-06-30T00:00:00",
          "2024-06-29T00:00:00",
          "2024-06-28T00:00:00",
          "2024-06-27T00:00:00",
          "2024-06-26T00:00:00",
          "2024-06-25T00:00:00",
          "2024-06-25T00:00:00",
          "2024-06-24T00:00:00",
          "2024-06-22T00:00:00",
          "2024-06-21T00:00:00",
          "2024-06-20T00:00:00",
          "2024-06-19T00:00:00",
          "2024-06-18T00:00:00",
          "2024-06-17T00:00:00",
          "2024-06-16T00:00:00",
          "2024-06-15T00:00:00",
          "2024-06-15T00:00:00",
          "2024-06-14T00:00:00",
          "2024-06-13T00:00:00",
          "2024-06-12T00:00:00",
          "2024-06-11T00:00:00",
          "2024-06-10T00:00:00",
          "2024-06-09T00:00:00",
          "2024-06-08T00:00:00",
          "2024-06-07T00:00:00",
          "2024-06-06T00:00:00",
          "2024-06-05T00:00:00",
          "2024-06-04T00:00:00",
          "2024-06-03T00:00:00",
          "2024-06-02T00:00:00",
          "2024-06-02T00:00:00",
          "2024-06-01T00:00:00",
          "2024-05-31T00:00:00",
          "2024-05-31T00:00:00",
          "2024-05-30T00:00:00",
          "2024-05-29T00:00:00",
          "2024-05-28T00:00:00",
          "2024-05-25T00:00:00",
          "2024-05-25T00:00:00",
          "2024-05-24T00:00:00",
          "2024-05-23T00:00:00",
          "2024-05-22T00:00:00",
          "2024-05-21T00:00:00",
          "2024-05-20T00:00:00",
          "2024-05-19T00:00:00",
          "2024-05-18T00:00:00",
          "2024-05-17T00:00:00",
          "2024-05-16T00:00:00",
          "2024-05-15T00:00:00",
          "2024-05-15T00:00:00",
          "2024-05-14T00:00:00",
          "2024-05-13T00:00:00",
          "2024-05-12T00:00:00",
          "2024-05-11T00:00:00",
          "2024-05-10T00:00:00",
          "2024-05-09T00:00:00",
          "2024-05-08T00:00:00",
          "2024-05-07T00:00:00",
          "2024-05-06T00:00:00",
          "2024-05-05T00:00:00",
          "2024-05-04T00:00:00",
          "2024-05-03T00:00:00",
          "2024-05-02T00:00:00",
          "2024-05-02T00:00:00",
          "2024-05-01T00:00:00",
          "2024-04-30T00:00:00",
          "2024-04-29T00:00:00",
          "2024-04-28T00:00:00",
          "2024-04-28T00:00:00",
          "2024-04-27T00:00:00",
          "2024-04-26T00:00:00",
          "2024-04-26T00:00:00",
          "2024-04-25T00:00:00",
          "2024-04-24T00:00:00",
          "2024-04-24T00:00:00",
          "2024-04-23T00:00:00",
          "2024-04-22T00:00:00",
          "2024-04-22T00:00:00",
          "2024-04-21T00:00:00",
          "2024-04-20T00:00:00",
          "2024-04-20T00:00:00",
          "2024-04-19T00:00:00",
          "2024-04-18T00:00:00",
          "2024-04-18T00:00:00",
          "2024-04-17T00:00:00",
          "2024-04-16T00:00:00",
          "2024-04-15T00:00:00",
          "2024-04-14T00:00:00",
          "2024-04-13T00:00:00",
          "2024-04-12T00:00:00",
          "2024-04-11T00:00:00",
          "2024-04-11T00:00:00",
          "2024-04-10T00:00:00",
          "2024-04-09T00:00:00",
          "2024-04-08T00:00:00",
          "2024-04-08T00:00:00",
          "2024-04-07T00:00:00",
          "2024-04-06T00:00:00",
          "2024-04-05T00:00:00",
          "2024-04-04T00:00:00",
          "2024-04-04T00:00:00",
          "2024-04-03T00:00:00",
          "2024-04-02T00:00:00",
          "2024-04-01T00:00:00",
          "2024-03-30T00:00:00",
          "2024-03-29T00:00:00",
          "2024-03-28T00:00:00",
          "2024-03-27T00:00:00",
          "2024-03-26T00:00:00",
          "2024-03-25T00:00:00",
          "2024-03-25T00:00:00",
          "2024-03-24T00:00:00",
          "2024-03-23T00:00:00",
          "2024-03-22T00:00:00",
          "2024-03-21T00:00:00",
          "2024-03-20T00:00:00",
          "2024-03-19T00:00:00",
          "2024-03-18T00:00:00",
          "2024-03-17T00:00:00",
          "2024-03-16T00:00:00",
          "2024-03-15T00:00:00",
          "2024-03-14T00:00:00",
          "2024-03-13T00:00:00",
          "2024-03-13T00:00:00",
          "2024-03-12T00:00:00",
          "2024-03-11T00:00:00",
          "2024-03-11T00:00:00",
          "2024-03-10T00:00:00",
          "2024-03-09T00:00:00",
          "2024-03-08T00:00:00",
          "2024-03-07T00:00:00",
          "2024-03-06T00:00:00",
          "2024-03-05T00:00:00",
          "2024-03-04T00:00:00",
          "2024-03-03T00:00:00",
          "2024-03-02T00:00:00",
          "2024-03-01T00:00:00",
          "2024-02-29T00:00:00",
          "2024-02-28T00:00:00",
          "2024-02-27T00:00:00",
          "2024-02-26T00:00:00",
          "2024-02-25T00:00:00",
          "2024-02-24T00:00:00",
          "2024-02-23T00:00:00",
          "2024-02-22T00:00:00",
          "2024-02-21T00:00:00",
          "2024-02-21T00:00:00",
          "2024-02-20T00:00:00",
          "2024-02-19T00:00:00",
          "2024-02-18T00:00:00",
          "2024-02-17T00:00:00",
          "2024-02-16T00:00:00",
          "2024-02-14T00:00:00",
          "2024-02-14T00:00:00",
          "2024-02-13T00:00:00",
          "2024-02-12T00:00:00",
          "2024-02-11T00:00:00",
          "2024-02-10T00:00:00",
          "2024-02-09T00:00:00",
          "2024-02-08T00:00:00",
          "2024-02-08T00:00:00",
          "2024-02-07T00:00:00",
          "2024-02-06T00:00:00",
          "2024-02-05T00:00:00",
          "2024-02-04T00:00:00",
          "2024-02-03T00:00:00",
          "2024-02-02T00:00:00",
          "2024-02-01T00:00:00",
          "2024-01-31T00:00:00",
          "2024-01-30T00:00:00",
          "2024-01-29T00:00:00",
          "2024-01-28T00:00:00",
          "2024-01-28T00:00:00",
          "2024-01-27T00:00:00",
          "2024-01-26T00:00:00",
          "2024-01-25T00:00:00",
          "2024-01-22T00:00:00",
          "2024-01-21T00:00:00",
          "2024-01-20T00:00:00",
          "2024-01-19T00:00:00",
          "2024-01-18T00:00:00",
          "2024-01-17T00:00:00",
          "2024-01-16T00:00:00",
          "2024-01-15T00:00:00",
          "2024-01-14T00:00:00",
          "2024-01-13T00:00:00",
          "2024-01-12T00:00:00",
          "2024-01-11T00:00:00",
          "2024-01-11T00:00:00",
          "2024-01-10T00:00:00",
          "2024-01-09T00:00:00",
          "2024-01-08T00:00:00",
          "2024-01-07T00:00:00",
          "2024-01-06T00:00:00",
          "2024-01-05T00:00:00",
          "2024-01-04T00:00:00",
          "2024-01-03T00:00:00",
          "2024-01-03T00:00:00",
          "2024-01-02T00:00:00",
          "2024-01-01T00:00:00"
         ],
         "y": [
          null,
          null,
          null,
          2149.642857142856,
          2150.819999999999,
          2157.1714285714274,
          2158.062857142856,
          2161.3099999999986,
          2160.4499999999994,
          2158.9114285714277,
          2156.0871428571418,
          2152.4814285714274,
          2143.975714285713,
          2140.929999999999,
          2134.5799999999986,
          2133.6485714285704,
          2133.965714285713,
          2135.6371428571415,
          2137.2114285714274,
          2138.5585714285703,
          2140.3114285714273,
          2141.485714285713,
          2141.5914285714275,
          2142.225714285713,
          2142.375714285713,
          2142.515714285713,
          2143.2014285714276,
          2142.802857142856,
          2143.1142857142845,
          2141.3071428571416,
          2138.9257142857127,
          2133.81857142857,
          2128.8185714285696,
          2123.5685714285696,
          2122.1099999999983,
          2120.50857142857,
          2124.475714285713,
          2128.1914285714274,
          2135.04857142857,
          2141.905714285713,
          2148.759999999999,
          2152.45857142857,
          2156.202857142856,
          2155.951428571427,
          2159.2542857142844,
          2157.987142857142,
          2156.7199999999984,
          2152.9514285714276,
          2149.2257142857134,
          2145.4542857142847,
          2141.682857142856,
          2134.60857142857,
          2133.1042857142847,
          2132.462857142856,
          2134.1999999999994,
          2135.6299999999987,
          2137.259999999999,
          2141.6114285714275,
          2145.262857142856,
          2150.7642857142846,
          2155.4028571428557,
          2161.95857142857,
          2168.835714285713,
          2175.5357142857133,
          2179.9599999999987,
          2185.0842857142848,
          2187.4185714285704,
          2185.297142857142,
          2181.384285714285,
          2176.7585714285706,
          2171.099999999999,
          2164.9957142857133,
          2159.23857142857,
          2151.2857142857133,
          2147.7885714285703,
          2146.2014285714276,
          2142.8428571428562,
          2140.7285714285704,
          2135.807142857142,
          2129.5114285714276,
          2124.737142857142,
          2123.139999999999,
          2121.8685714285702,
          2123.03857142857,
          2124.08857142857,
          2127.9099999999985,
          2132.687142857141,
          2136.804285714284,
          2137.744285714284,
          2136.85857142857,
          2135.6942857142844,
          2134.2371428571414,
          2132.8285714285703,
          2131.5385714285703,
          2131.6657142857134,
          2131.8442857142845,
          2133.399999999999,
          2134.219999999999,
          2141.231428571428,
          2149.8542857142847,
          2152.2614285714276,
          2154.1042857142847,
          2155.882857142856,
          2155.8871428571415,
          2156.967142857142,
          2152.8871428571415,
          2148.83857142857,
          2150.6271428571417,
          2153.6271428571417,
          2156.562857142856,
          2160.6699999999987,
          2165.1899999999987,
          2169.9171428571417,
          2172.957142857141,
          2176.3371428571418,
          2178.9271428571415,
          2181.5871428571418,
          2182.1599999999985,
          2181.9599999999987,
          2178.4585714285704,
          2174.9885714285706,
          2169.8014285714276,
          2163.077142857142,
          2156.359999999999,
          2148.627142857142,
          2141.2999999999993,
          2136.1014285714277,
          2130.8985714285704,
          2127.7299999999987,
          2125.8985714285704,
          2123.8014285714276,
          2123.6442857142843,
          2122.2414285714276,
          2120.9185714285704,
          2120.9385714285704,
          2120.652857142856,
          2121.215714285713,
          2121.979999999999,
          2122.75857142857,
          2124.7542857142844,
          2126.819999999999,
          2127.227142857141,
          2130.8771428571417,
          2132.2899999999986,
          2137.3285714285707,
          2142.3499999999995,
          2147.3785714285705,
          2152.391428571428,
          2156.981428571428,
          2157.189999999999,
          2159.1814285714277,
          2153.92857142857,
          2148.082857142856,
          2140.4928571428563,
          2133.7099999999987,
          2129.3685714285702,
          2132.405714285713,
          2134.6614285714277,
          2142.457142857142,
          2145.099999999999,
          2148.911428571427,
          2151.8942857142847,
          2153.17857142857,
          2148.211428571428,
          2143.7557142857136,
          2137.592857142856,
          2137.157142857142,
          2138.1657142857134,
          2140.0214285714274,
          2141.589999999999,
          2144.8871428571415,
          2150.714285714285,
          2158.917142857142,
          2148.849999999999,
          2145.0514285714276,
          2140.759999999999,
          2136.7557142857136,
          2131.539999999999,
          2123.9157142857134,
          2113.7657142857133,
          2121.991428571428,
          2123.3914285714277,
          2124.677142857142,
          2125.9514285714276,
          2126.3685714285707,
          2126.739999999999,
          2127.1114285714275,
          2127.377142857142,
          2127.297142857142,
          2126.9771428571416,
          2126.4742857142846,
          2126.2457142857133,
          2125.1485714285704,
          2127.4285714285706,
          2127.481428571428,
          2136.384285714285,
          2145.3328571428565,
          null,
          null,
          null
         ],
         "yaxis": "y2"
        }
       ],
       "layout": {
        "legend": {
         "orientation": "h",
         "title": {
          "text": "Legenda:"
         },
         "x": 0.5,
         "xanchor": "center",
         "y": -0.6,
         "yanchor": "bottom"
        },
        "template": {
         "data": {
          "bar": [
           {
            "error_x": {
             "color": "#2a3f5f"
            },
            "error_y": {
             "color": "#2a3f5f"
            },
            "marker": {
             "line": {
              "color": "white",
              "width": 0.5
             },
             "pattern": {
              "fillmode": "overlay",
              "size": 10,
              "solidity": 0.2
             }
            },
            "type": "bar"
           }
          ],
          "barpolar": [
           {
            "marker": {
             "line": {
              "color": "white",
              "width": 0.5
             },
             "pattern": {
              "fillmode": "overlay",
              "size": 10,
              "solidity": 0.2
             }
            },
            "type": "barpolar"
           }
          ],
          "carpet": [
           {
            "aaxis": {
             "endlinecolor": "#2a3f5f",
             "gridcolor": "#C8D4E3",
             "linecolor": "#C8D4E3",
             "minorgridcolor": "#C8D4E3",
             "startlinecolor": "#2a3f5f"
            },
            "baxis": {
             "endlinecolor": "#2a3f5f",
             "gridcolor": "#C8D4E3",
             "linecolor": "#C8D4E3",
             "minorgridcolor": "#C8D4E3",
             "startlinecolor": "#2a3f5f"
            },
            "type": "carpet"
           }
          ],
          "choropleth": [
           {
            "colorbar": {
             "outlinewidth": 0,
             "ticks": ""
            },
            "type": "choropleth"
           }
          ],
          "contour": [
           {
            "colorbar": {
             "outlinewidth": 0,
             "ticks": ""
            },
            "colorscale": [
             [
              0,
              "#0d0887"
             ],
             [
              0.1111111111111111,
              "#46039f"
             ],
             [
              0.2222222222222222,
              "#7201a8"
             ],
             [
              0.3333333333333333,
              "#9c179e"
             ],
             [
              0.4444444444444444,
              "#bd3786"
             ],
             [
              0.5555555555555556,
              "#d8576b"
             ],
             [
              0.6666666666666666,
              "#ed7953"
             ],
             [
              0.7777777777777778,
              "#fb9f3a"
             ],
             [
              0.8888888888888888,
              "#fdca26"
             ],
             [
              1,
              "#f0f921"
             ]
            ],
            "type": "contour"
           }
          ],
          "contourcarpet": [
           {
            "colorbar": {
             "outlinewidth": 0,
             "ticks": ""
            },
            "type": "contourcarpet"
           }
          ],
          "heatmap": [
           {
            "colorbar": {
             "outlinewidth": 0,
             "ticks": ""
            },
            "colorscale": [
             [
              0,
              "#0d0887"
             ],
             [
              0.1111111111111111,
              "#46039f"
             ],
             [
              0.2222222222222222,
              "#7201a8"
             ],
             [
              0.3333333333333333,
              "#9c179e"
             ],
             [
              0.4444444444444444,
              "#bd3786"
             ],
             [
              0.5555555555555556,
              "#d8576b"
             ],
             [
              0.6666666666666666,
              "#ed7953"
             ],
             [
              0.7777777777777778,
              "#fb9f3a"
             ],
             [
              0.8888888888888888,
              "#fdca26"
             ],
             [
              1,
              "#f0f921"
             ]
            ],
            "type": "heatmap"
           }
          ],
          "heatmapgl": [
           {
            "colorbar": {
             "outlinewidth": 0,
             "ticks": ""
            },
            "colorscale": [
             [
              0,
              "#0d0887"
             ],
             [
              0.1111111111111111,
              "#46039f"
             ],
             [
              0.2222222222222222,
              "#7201a8"
             ],
             [
              0.3333333333333333,
              "#9c179e"
             ],
             [
              0.4444444444444444,
              "#bd3786"
             ],
             [
              0.5555555555555556,
              "#d8576b"
             ],
             [
              0.6666666666666666,
              "#ed7953"
             ],
             [
              0.7777777777777778,
              "#fb9f3a"
             ],
             [
              0.8888888888888888,
              "#fdca26"
             ],
             [
              1,
              "#f0f921"
             ]
            ],
            "type": "heatmapgl"
           }
          ],
          "histogram": [
           {
            "marker": {
             "pattern": {
              "fillmode": "overlay",
              "size": 10,
              "solidity": 0.2
             }
            },
            "type": "histogram"
           }
          ],
          "histogram2d": [
           {
            "colorbar": {
             "outlinewidth": 0,
             "ticks": ""
            },
            "colorscale": [
             [
              0,
              "#0d0887"
             ],
             [
              0.1111111111111111,
              "#46039f"
             ],
             [
              0.2222222222222222,
              "#7201a8"
             ],
             [
              0.3333333333333333,
              "#9c179e"
             ],
             [
              0.4444444444444444,
              "#bd3786"
             ],
             [
              0.5555555555555556,
              "#d8576b"
             ],
             [
              0.6666666666666666,
              "#ed7953"
             ],
             [
              0.7777777777777778,
              "#fb9f3a"
             ],
             [
              0.8888888888888888,
              "#fdca26"
             ],
             [
              1,
              "#f0f921"
             ]
            ],
            "type": "histogram2d"
           }
          ],
          "histogram2dcontour": [
           {
            "colorbar": {
             "outlinewidth": 0,
             "ticks": ""
            },
            "colorscale": [
             [
              0,
              "#0d0887"
             ],
             [
              0.1111111111111111,
              "#46039f"
             ],
             [
              0.2222222222222222,
              "#7201a8"
             ],
             [
              0.3333333333333333,
              "#9c179e"
             ],
             [
              0.4444444444444444,
              "#bd3786"
             ],
             [
              0.5555555555555556,
              "#d8576b"
             ],
             [
              0.6666666666666666,
              "#ed7953"
             ],
             [
              0.7777777777777778,
              "#fb9f3a"
             ],
             [
              0.8888888888888888,
              "#fdca26"
             ],
             [
              1,
              "#f0f921"
             ]
            ],
            "type": "histogram2dcontour"
           }
          ],
          "mesh3d": [
           {
            "colorbar": {
             "outlinewidth": 0,
             "ticks": ""
            },
            "type": "mesh3d"
           }
          ],
          "parcoords": [
           {
            "line": {
             "colorbar": {
              "outlinewidth": 0,
              "ticks": ""
             }
            },
            "type": "parcoords"
           }
          ],
          "pie": [
           {
            "automargin": true,
            "type": "pie"
           }
          ],
          "scatter": [
           {
            "fillpattern": {
             "fillmode": "overlay",
             "size": 10,
             "solidity": 0.2
            },
            "type": "scatter"
           }
          ],
          "scatter3d": [
           {
            "line": {
             "colorbar": {
              "outlinewidth": 0,
              "ticks": ""
             }
            },
            "marker": {
             "colorbar": {
              "outlinewidth": 0,
              "ticks": ""
             }
            },
            "type": "scatter3d"
           }
          ],
          "scattercarpet": [
           {
            "marker": {
             "colorbar": {
              "outlinewidth": 0,
              "ticks": ""
             }
            },
            "type": "scattercarpet"
           }
          ],
          "scattergeo": [
           {
            "marker": {
             "colorbar": {
              "outlinewidth": 0,
              "ticks": ""
             }
            },
            "type": "scattergeo"
           }
          ],
          "scattergl": [
           {
            "marker": {
             "colorbar": {
              "outlinewidth": 0,
              "ticks": ""
             }
            },
            "type": "scattergl"
           }
          ],
          "scattermapbox": [
           {
            "marker": {
             "colorbar": {
              "outlinewidth": 0,
              "ticks": ""
             }
            },
            "type": "scattermapbox"
           }
          ],
          "scatterpolar": [
           {
            "marker": {
             "colorbar": {
              "outlinewidth": 0,
              "ticks": ""
             }
            },
            "type": "scatterpolar"
           }
          ],
          "scatterpolargl": [
           {
            "marker": {
             "colorbar": {
              "outlinewidth": 0,
              "ticks": ""
             }
            },
            "type": "scatterpolargl"
           }
          ],
          "scatterternary": [
           {
            "marker": {
             "colorbar": {
              "outlinewidth": 0,
              "ticks": ""
             }
            },
            "type": "scatterternary"
           }
          ],
          "surface": [
           {
            "colorbar": {
             "outlinewidth": 0,
             "ticks": ""
            },
            "colorscale": [
             [
              0,
              "#0d0887"
             ],
             [
              0.1111111111111111,
              "#46039f"
             ],
             [
              0.2222222222222222,
              "#7201a8"
             ],
             [
              0.3333333333333333,
              "#9c179e"
             ],
             [
              0.4444444444444444,
              "#bd3786"
             ],
             [
              0.5555555555555556,
              "#d8576b"
             ],
             [
              0.6666666666666666,
              "#ed7953"
             ],
             [
              0.7777777777777778,
              "#fb9f3a"
             ],
             [
              0.8888888888888888,
              "#fdca26"
             ],
             [
              1,
              "#f0f921"
             ]
            ],
            "type": "surface"
           }
          ],
          "table": [
           {
            "cells": {
             "fill": {
              "color": "#EBF0F8"
             },
             "line": {
              "color": "white"
             }
            },
            "header": {
             "fill": {
              "color": "#C8D4E3"
             },
             "line": {
              "color": "white"
             }
            },
            "type": "table"
           }
          ]
         },
         "layout": {
          "annotationdefaults": {
           "arrowcolor": "#2a3f5f",
           "arrowhead": 0,
           "arrowwidth": 1
          },
          "autotypenumbers": "strict",
          "coloraxis": {
           "colorbar": {
            "outlinewidth": 0,
            "ticks": ""
           }
          },
          "colorscale": {
           "diverging": [
            [
             0,
             "#8e0152"
            ],
            [
             0.1,
             "#c51b7d"
            ],
            [
             0.2,
             "#de77ae"
            ],
            [
             0.3,
             "#f1b6da"
            ],
            [
             0.4,
             "#fde0ef"
            ],
            [
             0.5,
             "#f7f7f7"
            ],
            [
             0.6,
             "#e6f5d0"
            ],
            [
             0.7,
             "#b8e186"
            ],
            [
             0.8,
             "#7fbc41"
            ],
            [
             0.9,
             "#4d9221"
            ],
            [
             1,
             "#276419"
            ]
           ],
           "sequential": [
            [
             0,
             "#0d0887"
            ],
            [
             0.1111111111111111,
             "#46039f"
            ],
            [
             0.2222222222222222,
             "#7201a8"
            ],
            [
             0.3333333333333333,
             "#9c179e"
            ],
            [
             0.4444444444444444,
             "#bd3786"
            ],
            [
             0.5555555555555556,
             "#d8576b"
            ],
            [
             0.6666666666666666,
             "#ed7953"
            ],
            [
             0.7777777777777778,
             "#fb9f3a"
            ],
            [
             0.8888888888888888,
             "#fdca26"
            ],
            [
             1,
             "#f0f921"
            ]
           ],
           "sequentialminus": [
            [
             0,
             "#0d0887"
            ],
            [
             0.1111111111111111,
             "#46039f"
            ],
            [
             0.2222222222222222,
             "#7201a8"
            ],
            [
             0.3333333333333333,
             "#9c179e"
            ],
            [
             0.4444444444444444,
             "#bd3786"
            ],
            [
             0.5555555555555556,
             "#d8576b"
            ],
            [
             0.6666666666666666,
             "#ed7953"
            ],
            [
             0.7777777777777778,
             "#fb9f3a"
            ],
            [
             0.8888888888888888,
             "#fdca26"
            ],
            [
             1,
             "#f0f921"
            ]
           ]
          },
          "colorway": [
           "#636efa",
           "#EF553B",
           "#00cc96",
           "#ab63fa",
           "#FFA15A",
           "#19d3f3",
           "#FF6692",
           "#B6E880",
           "#FF97FF",
           "#FECB52"
          ],
          "font": {
           "color": "#2a3f5f"
          },
          "geo": {
           "bgcolor": "white",
           "lakecolor": "white",
           "landcolor": "white",
           "showlakes": true,
           "showland": true,
           "subunitcolor": "#C8D4E3"
          },
          "hoverlabel": {
           "align": "left"
          },
          "hovermode": "closest",
          "mapbox": {
           "style": "light"
          },
          "paper_bgcolor": "white",
          "plot_bgcolor": "white",
          "polar": {
           "angularaxis": {
            "gridcolor": "#EBF0F8",
            "linecolor": "#EBF0F8",
            "ticks": ""
           },
           "bgcolor": "white",
           "radialaxis": {
            "gridcolor": "#EBF0F8",
            "linecolor": "#EBF0F8",
            "ticks": ""
           }
          },
          "scene": {
           "xaxis": {
            "backgroundcolor": "white",
            "gridcolor": "#DFE8F3",
            "gridwidth": 2,
            "linecolor": "#EBF0F8",
            "showbackground": true,
            "ticks": "",
            "zerolinecolor": "#EBF0F8"
           },
           "yaxis": {
            "backgroundcolor": "white",
            "gridcolor": "#DFE8F3",
            "gridwidth": 2,
            "linecolor": "#EBF0F8",
            "showbackground": true,
            "ticks": "",
            "zerolinecolor": "#EBF0F8"
           },
           "zaxis": {
            "backgroundcolor": "white",
            "gridcolor": "#DFE8F3",
            "gridwidth": 2,
            "linecolor": "#EBF0F8",
            "showbackground": true,
            "ticks": "",
            "zerolinecolor": "#EBF0F8"
           }
          },
          "shapedefaults": {
           "line": {
            "color": "#2a3f5f"
           }
          },
          "ternary": {
           "aaxis": {
            "gridcolor": "#DFE8F3",
            "linecolor": "#A2B1C6",
            "ticks": ""
           },
           "baxis": {
            "gridcolor": "#DFE8F3",
            "linecolor": "#A2B1C6",
            "ticks": ""
           },
           "bgcolor": "white",
           "caxis": {
            "gridcolor": "#DFE8F3",
            "linecolor": "#A2B1C6",
            "ticks": ""
           }
          },
          "title": {
           "x": 0.05
          },
          "xaxis": {
           "automargin": true,
           "gridcolor": "#EBF0F8",
           "linecolor": "#EBF0F8",
           "ticks": "",
           "title": {
            "standoff": 15
           },
           "zerolinecolor": "#EBF0F8",
           "zerolinewidth": 2
          },
          "yaxis": {
           "automargin": true,
           "gridcolor": "#EBF0F8",
           "linecolor": "#EBF0F8",
           "ticks": "",
           "title": {
            "standoff": 15
           },
           "zerolinecolor": "#EBF0F8",
           "zerolinewidth": 2
          }
         }
        },
        "title": {
         "text": "Total de Defeitos por Data e Relação com Temperatura (F°) (Suavizado)"
        },
        "xaxis": {
         "title": {
          "text": "Data"
         }
        },
        "yaxis": {
         "title": {
          "text": "Quantidade de Defeitos"
         }
        },
        "yaxis2": {
         "overlaying": "y",
         "side": "right",
         "title": {
          "text": "Temperatura (F°)"
         }
        }
       }
      }
     },
     "metadata": {},
     "output_type": "display_data"
    },
    {
     "data": {
      "application/vnd.plotly.v1+json": {
       "config": {
        "plotlyServerURL": "https://plot.ly"
       },
       "data": [
        {
         "line": {
          "color": "blue"
         },
         "mode": "lines",
         "name": "Defeitos no Dia (Suavizado)",
         "type": "scatter",
         "x": [
          "2024-06-30T00:00:00",
          "2024-06-29T00:00:00",
          "2024-06-28T00:00:00",
          "2024-06-27T00:00:00",
          "2024-06-26T00:00:00",
          "2024-06-25T00:00:00",
          "2024-06-25T00:00:00",
          "2024-06-24T00:00:00",
          "2024-06-22T00:00:00",
          "2024-06-21T00:00:00",
          "2024-06-20T00:00:00",
          "2024-06-19T00:00:00",
          "2024-06-18T00:00:00",
          "2024-06-17T00:00:00",
          "2024-06-16T00:00:00",
          "2024-06-15T00:00:00",
          "2024-06-15T00:00:00",
          "2024-06-14T00:00:00",
          "2024-06-13T00:00:00",
          "2024-06-12T00:00:00",
          "2024-06-11T00:00:00",
          "2024-06-10T00:00:00",
          "2024-06-09T00:00:00",
          "2024-06-08T00:00:00",
          "2024-06-07T00:00:00",
          "2024-06-06T00:00:00",
          "2024-06-05T00:00:00",
          "2024-06-04T00:00:00",
          "2024-06-03T00:00:00",
          "2024-06-02T00:00:00",
          "2024-06-02T00:00:00",
          "2024-06-01T00:00:00",
          "2024-05-31T00:00:00",
          "2024-05-31T00:00:00",
          "2024-05-30T00:00:00",
          "2024-05-29T00:00:00",
          "2024-05-28T00:00:00",
          "2024-05-25T00:00:00",
          "2024-05-25T00:00:00",
          "2024-05-24T00:00:00",
          "2024-05-23T00:00:00",
          "2024-05-22T00:00:00",
          "2024-05-21T00:00:00",
          "2024-05-20T00:00:00",
          "2024-05-19T00:00:00",
          "2024-05-18T00:00:00",
          "2024-05-17T00:00:00",
          "2024-05-16T00:00:00",
          "2024-05-15T00:00:00",
          "2024-05-15T00:00:00",
          "2024-05-14T00:00:00",
          "2024-05-13T00:00:00",
          "2024-05-12T00:00:00",
          "2024-05-11T00:00:00",
          "2024-05-10T00:00:00",
          "2024-05-09T00:00:00",
          "2024-05-08T00:00:00",
          "2024-05-07T00:00:00",
          "2024-05-06T00:00:00",
          "2024-05-05T00:00:00",
          "2024-05-04T00:00:00",
          "2024-05-03T00:00:00",
          "2024-05-02T00:00:00",
          "2024-05-02T00:00:00",
          "2024-05-01T00:00:00",
          "2024-04-30T00:00:00",
          "2024-04-29T00:00:00",
          "2024-04-28T00:00:00",
          "2024-04-28T00:00:00",
          "2024-04-27T00:00:00",
          "2024-04-26T00:00:00",
          "2024-04-26T00:00:00",
          "2024-04-25T00:00:00",
          "2024-04-24T00:00:00",
          "2024-04-24T00:00:00",
          "2024-04-23T00:00:00",
          "2024-04-22T00:00:00",
          "2024-04-22T00:00:00",
          "2024-04-21T00:00:00",
          "2024-04-20T00:00:00",
          "2024-04-20T00:00:00",
          "2024-04-19T00:00:00",
          "2024-04-18T00:00:00",
          "2024-04-18T00:00:00",
          "2024-04-17T00:00:00",
          "2024-04-16T00:00:00",
          "2024-04-15T00:00:00",
          "2024-04-14T00:00:00",
          "2024-04-13T00:00:00",
          "2024-04-12T00:00:00",
          "2024-04-11T00:00:00",
          "2024-04-11T00:00:00",
          "2024-04-10T00:00:00",
          "2024-04-09T00:00:00",
          "2024-04-08T00:00:00",
          "2024-04-08T00:00:00",
          "2024-04-07T00:00:00",
          "2024-04-06T00:00:00",
          "2024-04-05T00:00:00",
          "2024-04-04T00:00:00",
          "2024-04-04T00:00:00",
          "2024-04-03T00:00:00",
          "2024-04-02T00:00:00",
          "2024-04-01T00:00:00",
          "2024-03-30T00:00:00",
          "2024-03-29T00:00:00",
          "2024-03-28T00:00:00",
          "2024-03-27T00:00:00",
          "2024-03-26T00:00:00",
          "2024-03-25T00:00:00",
          "2024-03-25T00:00:00",
          "2024-03-24T00:00:00",
          "2024-03-23T00:00:00",
          "2024-03-22T00:00:00",
          "2024-03-21T00:00:00",
          "2024-03-20T00:00:00",
          "2024-03-19T00:00:00",
          "2024-03-18T00:00:00",
          "2024-03-17T00:00:00",
          "2024-03-16T00:00:00",
          "2024-03-15T00:00:00",
          "2024-03-14T00:00:00",
          "2024-03-13T00:00:00",
          "2024-03-13T00:00:00",
          "2024-03-12T00:00:00",
          "2024-03-11T00:00:00",
          "2024-03-11T00:00:00",
          "2024-03-10T00:00:00",
          "2024-03-09T00:00:00",
          "2024-03-08T00:00:00",
          "2024-03-07T00:00:00",
          "2024-03-06T00:00:00",
          "2024-03-05T00:00:00",
          "2024-03-04T00:00:00",
          "2024-03-03T00:00:00",
          "2024-03-02T00:00:00",
          "2024-03-01T00:00:00",
          "2024-02-29T00:00:00",
          "2024-02-28T00:00:00",
          "2024-02-27T00:00:00",
          "2024-02-26T00:00:00",
          "2024-02-25T00:00:00",
          "2024-02-24T00:00:00",
          "2024-02-23T00:00:00",
          "2024-02-22T00:00:00",
          "2024-02-21T00:00:00",
          "2024-02-21T00:00:00",
          "2024-02-20T00:00:00",
          "2024-02-19T00:00:00",
          "2024-02-18T00:00:00",
          "2024-02-17T00:00:00",
          "2024-02-16T00:00:00",
          "2024-02-14T00:00:00",
          "2024-02-14T00:00:00",
          "2024-02-13T00:00:00",
          "2024-02-12T00:00:00",
          "2024-02-11T00:00:00",
          "2024-02-10T00:00:00",
          "2024-02-09T00:00:00",
          "2024-02-08T00:00:00",
          "2024-02-08T00:00:00",
          "2024-02-07T00:00:00",
          "2024-02-06T00:00:00",
          "2024-02-05T00:00:00",
          "2024-02-04T00:00:00",
          "2024-02-03T00:00:00",
          "2024-02-02T00:00:00",
          "2024-02-01T00:00:00",
          "2024-01-31T00:00:00",
          "2024-01-30T00:00:00",
          "2024-01-29T00:00:00",
          "2024-01-28T00:00:00",
          "2024-01-28T00:00:00",
          "2024-01-27T00:00:00",
          "2024-01-26T00:00:00",
          "2024-01-25T00:00:00",
          "2024-01-22T00:00:00",
          "2024-01-21T00:00:00",
          "2024-01-20T00:00:00",
          "2024-01-19T00:00:00",
          "2024-01-18T00:00:00",
          "2024-01-17T00:00:00",
          "2024-01-16T00:00:00",
          "2024-01-15T00:00:00",
          "2024-01-14T00:00:00",
          "2024-01-13T00:00:00",
          "2024-01-12T00:00:00",
          "2024-01-11T00:00:00",
          "2024-01-11T00:00:00",
          "2024-01-10T00:00:00",
          "2024-01-09T00:00:00",
          "2024-01-08T00:00:00",
          "2024-01-07T00:00:00",
          "2024-01-06T00:00:00",
          "2024-01-05T00:00:00",
          "2024-01-04T00:00:00",
          "2024-01-03T00:00:00",
          "2024-01-03T00:00:00",
          "2024-01-02T00:00:00",
          "2024-01-01T00:00:00"
         ],
         "y": [
          null,
          null,
          null,
          244.14285714285714,
          241,
          239.57142857142858,
          219.71428571428572,
          216.57142857142858,
          207.28571428571428,
          197.42857142857142,
          180.14285714285714,
          175.85714285714286,
          181.42857142857142,
          204.71428571428572,
          204.57142857142858,
          202.57142857142858,
          197.85714285714286,
          203.14285714285714,
          202.28571428571428,
          201.85714285714286,
          210.57142857142858,
          217.42857142857142,
          231.42857142857142,
          241.14285714285714,
          243.57142857142858,
          245.14285714285714,
          234.85714285714286,
          215.42857142857142,
          211,
          206.14285714285714,
          206.71428571428572,
          210.28571428571428,
          205.85714285714286,
          212,
          225.42857142857142,
          232.42857142857142,
          226,
          216.85714285714286,
          211.85714285714286,
          219.42857142857142,
          218.42857142857142,
          218.85714285714286,
          211.85714285714286,
          214.14285714285714,
          238.85714285714286,
          243.42857142857142,
          243,
          240.85714285714286,
          231,
          223.28571428571428,
          213.85714285714286,
          189.57142857142858,
          183.28571428571428,
          177.85714285714286,
          178.14285714285714,
          177.71428571428572,
          186.28571428571428,
          211.42857142857142,
          235.85714285714286,
          239.57142857142858,
          242.42857142857142,
          241.42857142857142,
          242.42857142857142,
          239.57142857142858,
          223.42857142857142,
          203.14285714285714,
          211.14285714285714,
          209,
          210.71428571428572,
          217.14285714285714,
          224.42857142857142,
          229.85714285714286,
          246.57142857142858,
          250.71428571428572,
          265,
          269.42857142857144,
          268,
          265.85714285714283,
          256.2857142857143,
          238,
          224.42857142857142,
          207.28571428571428,
          199.14285714285714,
          192,
          186,
          185.57142857142858,
          186.42857142857142,
          182.85714285714286,
          182.85714285714286,
          185.85714285714286,
          189,
          190.85714285714286,
          194.57142857142858,
          192.42857142857142,
          198,
          207.28571428571428,
          196.28571428571428,
          183,
          194.85714285714286,
          210.85714285714286,
          214.42857142857142,
          209,
          198.42857142857142,
          204.28571428571428,
          215,
          204.14285714285714,
          186.28571428571428,
          182.85714285714286,
          194.28571428571428,
          203.42857142857142,
          219.28571428571428,
          235,
          227.85714285714286,
          224.57142857142858,
          223.57142857142858,
          216.42857142857142,
          212.57142857142858,
          202.85714285714286,
          187.14285714285714,
          188.71428571428572,
          189.28571428571428,
          189.85714285714286,
          180.85714285714286,
          172.28571428571428,
          169.42857142857142,
          164.85714285714286,
          167.14285714285714,
          168.71428571428572,
          161,
          163.71428571428572,
          166.28571428571428,
          167.14285714285714,
          172.28571428571428,
          169.28571428571428,
          170.28571428571428,
          176.28571428571428,
          181,
          182.28571428571428,
          184.42857142857142,
          187.14285714285714,
          194.14285714285714,
          209.14285714285714,
          209.57142857142858,
          207.42857142857142,
          214.28571428571428,
          216.28571428571428,
          218.85714285714286,
          223.42857142857142,
          217.42857142857142,
          209.14285714285714,
          200.85714285714286,
          213.28571428571428,
          223,
          229.85714285714286,
          233.71428571428572,
          241,
          258.14285714285717,
          275.2857142857143,
          249.85714285714286,
          233.57142857142858,
          221.28571428571428,
          210.57142857142858,
          193.71428571428572,
          190.57142857142858,
          184.71428571428572,
          199.28571428571428,
          204.28571428571428,
          211.71428571428572,
          224.57142857142858,
          239.42857142857142,
          249,
          256.7142857142857,
          253.71428571428572,
          252.57142857142858,
          249.85714285714286,
          240.28571428571428,
          229,
          218.71428571428572,
          210.57142857142858,
          213.85714285714286,
          219,
          220,
          212.42857142857142,
          216.42857142857142,
          227.57142857142858,
          241.14285714285714,
          239.85714285714286,
          234.42857142857142,
          234.14285714285714,
          242.85714285714286,
          243.14285714285714,
          239.57142857142858,
          233.28571428571428,
          233.28571428571428,
          237.71428571428572,
          234,
          223.57142857142858,
          null,
          null,
          null
         ]
        },
        {
         "line": {
          "color": "green",
          "dash": "dash"
         },
         "mode": "lines",
         "name": "Diâmetro (Suavizado)",
         "type": "scatter",
         "x": [
          "2024-06-30T00:00:00",
          "2024-06-29T00:00:00",
          "2024-06-28T00:00:00",
          "2024-06-27T00:00:00",
          "2024-06-26T00:00:00",
          "2024-06-25T00:00:00",
          "2024-06-25T00:00:00",
          "2024-06-24T00:00:00",
          "2024-06-22T00:00:00",
          "2024-06-21T00:00:00",
          "2024-06-20T00:00:00",
          "2024-06-19T00:00:00",
          "2024-06-18T00:00:00",
          "2024-06-17T00:00:00",
          "2024-06-16T00:00:00",
          "2024-06-15T00:00:00",
          "2024-06-15T00:00:00",
          "2024-06-14T00:00:00",
          "2024-06-13T00:00:00",
          "2024-06-12T00:00:00",
          "2024-06-11T00:00:00",
          "2024-06-10T00:00:00",
          "2024-06-09T00:00:00",
          "2024-06-08T00:00:00",
          "2024-06-07T00:00:00",
          "2024-06-06T00:00:00",
          "2024-06-05T00:00:00",
          "2024-06-04T00:00:00",
          "2024-06-03T00:00:00",
          "2024-06-02T00:00:00",
          "2024-06-02T00:00:00",
          "2024-06-01T00:00:00",
          "2024-05-31T00:00:00",
          "2024-05-31T00:00:00",
          "2024-05-30T00:00:00",
          "2024-05-29T00:00:00",
          "2024-05-28T00:00:00",
          "2024-05-25T00:00:00",
          "2024-05-25T00:00:00",
          "2024-05-24T00:00:00",
          "2024-05-23T00:00:00",
          "2024-05-22T00:00:00",
          "2024-05-21T00:00:00",
          "2024-05-20T00:00:00",
          "2024-05-19T00:00:00",
          "2024-05-18T00:00:00",
          "2024-05-17T00:00:00",
          "2024-05-16T00:00:00",
          "2024-05-15T00:00:00",
          "2024-05-15T00:00:00",
          "2024-05-14T00:00:00",
          "2024-05-13T00:00:00",
          "2024-05-12T00:00:00",
          "2024-05-11T00:00:00",
          "2024-05-10T00:00:00",
          "2024-05-09T00:00:00",
          "2024-05-08T00:00:00",
          "2024-05-07T00:00:00",
          "2024-05-06T00:00:00",
          "2024-05-05T00:00:00",
          "2024-05-04T00:00:00",
          "2024-05-03T00:00:00",
          "2024-05-02T00:00:00",
          "2024-05-02T00:00:00",
          "2024-05-01T00:00:00",
          "2024-04-30T00:00:00",
          "2024-04-29T00:00:00",
          "2024-04-28T00:00:00",
          "2024-04-28T00:00:00",
          "2024-04-27T00:00:00",
          "2024-04-26T00:00:00",
          "2024-04-26T00:00:00",
          "2024-04-25T00:00:00",
          "2024-04-24T00:00:00",
          "2024-04-24T00:00:00",
          "2024-04-23T00:00:00",
          "2024-04-22T00:00:00",
          "2024-04-22T00:00:00",
          "2024-04-21T00:00:00",
          "2024-04-20T00:00:00",
          "2024-04-20T00:00:00",
          "2024-04-19T00:00:00",
          "2024-04-18T00:00:00",
          "2024-04-18T00:00:00",
          "2024-04-17T00:00:00",
          "2024-04-16T00:00:00",
          "2024-04-15T00:00:00",
          "2024-04-14T00:00:00",
          "2024-04-13T00:00:00",
          "2024-04-12T00:00:00",
          "2024-04-11T00:00:00",
          "2024-04-11T00:00:00",
          "2024-04-10T00:00:00",
          "2024-04-09T00:00:00",
          "2024-04-08T00:00:00",
          "2024-04-08T00:00:00",
          "2024-04-07T00:00:00",
          "2024-04-06T00:00:00",
          "2024-04-05T00:00:00",
          "2024-04-04T00:00:00",
          "2024-04-04T00:00:00",
          "2024-04-03T00:00:00",
          "2024-04-02T00:00:00",
          "2024-04-01T00:00:00",
          "2024-03-30T00:00:00",
          "2024-03-29T00:00:00",
          "2024-03-28T00:00:00",
          "2024-03-27T00:00:00",
          "2024-03-26T00:00:00",
          "2024-03-25T00:00:00",
          "2024-03-25T00:00:00",
          "2024-03-24T00:00:00",
          "2024-03-23T00:00:00",
          "2024-03-22T00:00:00",
          "2024-03-21T00:00:00",
          "2024-03-20T00:00:00",
          "2024-03-19T00:00:00",
          "2024-03-18T00:00:00",
          "2024-03-17T00:00:00",
          "2024-03-16T00:00:00",
          "2024-03-15T00:00:00",
          "2024-03-14T00:00:00",
          "2024-03-13T00:00:00",
          "2024-03-13T00:00:00",
          "2024-03-12T00:00:00",
          "2024-03-11T00:00:00",
          "2024-03-11T00:00:00",
          "2024-03-10T00:00:00",
          "2024-03-09T00:00:00",
          "2024-03-08T00:00:00",
          "2024-03-07T00:00:00",
          "2024-03-06T00:00:00",
          "2024-03-05T00:00:00",
          "2024-03-04T00:00:00",
          "2024-03-03T00:00:00",
          "2024-03-02T00:00:00",
          "2024-03-01T00:00:00",
          "2024-02-29T00:00:00",
          "2024-02-28T00:00:00",
          "2024-02-27T00:00:00",
          "2024-02-26T00:00:00",
          "2024-02-25T00:00:00",
          "2024-02-24T00:00:00",
          "2024-02-23T00:00:00",
          "2024-02-22T00:00:00",
          "2024-02-21T00:00:00",
          "2024-02-21T00:00:00",
          "2024-02-20T00:00:00",
          "2024-02-19T00:00:00",
          "2024-02-18T00:00:00",
          "2024-02-17T00:00:00",
          "2024-02-16T00:00:00",
          "2024-02-14T00:00:00",
          "2024-02-14T00:00:00",
          "2024-02-13T00:00:00",
          "2024-02-12T00:00:00",
          "2024-02-11T00:00:00",
          "2024-02-10T00:00:00",
          "2024-02-09T00:00:00",
          "2024-02-08T00:00:00",
          "2024-02-08T00:00:00",
          "2024-02-07T00:00:00",
          "2024-02-06T00:00:00",
          "2024-02-05T00:00:00",
          "2024-02-04T00:00:00",
          "2024-02-03T00:00:00",
          "2024-02-02T00:00:00",
          "2024-02-01T00:00:00",
          "2024-01-31T00:00:00",
          "2024-01-30T00:00:00",
          "2024-01-29T00:00:00",
          "2024-01-28T00:00:00",
          "2024-01-28T00:00:00",
          "2024-01-27T00:00:00",
          "2024-01-26T00:00:00",
          "2024-01-25T00:00:00",
          "2024-01-22T00:00:00",
          "2024-01-21T00:00:00",
          "2024-01-20T00:00:00",
          "2024-01-19T00:00:00",
          "2024-01-18T00:00:00",
          "2024-01-17T00:00:00",
          "2024-01-16T00:00:00",
          "2024-01-15T00:00:00",
          "2024-01-14T00:00:00",
          "2024-01-13T00:00:00",
          "2024-01-12T00:00:00",
          "2024-01-11T00:00:00",
          "2024-01-11T00:00:00",
          "2024-01-10T00:00:00",
          "2024-01-09T00:00:00",
          "2024-01-08T00:00:00",
          "2024-01-07T00:00:00",
          "2024-01-06T00:00:00",
          "2024-01-05T00:00:00",
          "2024-01-04T00:00:00",
          "2024-01-03T00:00:00",
          "2024-01-03T00:00:00",
          "2024-01-02T00:00:00",
          "2024-01-01T00:00:00"
         ],
         "y": [
          null,
          null,
          null,
          33.128571428571426,
          33.614285714285714,
          32.800000000000004,
          30.185714285714283,
          31.414285714285715,
          32.4,
          33.57142857142857,
          34.67142857142857,
          34.77142857142857,
          35.457142857142856,
          37.84285714285715,
          37.228571428571435,
          37.24285714285714,
          37.17142857142857,
          37.12857142857143,
          37.028571428571425,
          37.9,
          38.22857142857142,
          37.74285714285714,
          38.028571428571425,
          37.728571428571435,
          37.67142857142857,
          37.67142857142857,
          37.385714285714286,
          37.642857142857146,
          38.01428571428572,
          36.98571428571428,
          36.57142857142857,
          36.84285714285714,
          37.214285714285715,
          37.77142857142858,
          38.18571428571429,
          38.542857142857144,
          39.08571428571429,
          39.628571428571426,
          39.371428571428574,
          39.214285714285715,
          39.142857142857146,
          38.67142857142857,
          38.300000000000004,
          38.114285714285714,
          38.228571428571435,
          38.142857142857146,
          37.957142857142856,
          37.9,
          38.38571428571429,
          38.728571428571435,
          39.07142857142857,
          39.1,
          39.228571428571435,
          39.4,
          39.371428571428574,
          39.41428571428571,
          39.142857142857146,
          38.4,
          38.05714285714286,
          37.628571428571426,
          37.15714285714286,
          36.871428571428574,
          36.55714285714286,
          36.6,
          37.01428571428572,
          37.04285714285714,
          37.31428571428571,
          37.17142857142857,
          36.82857142857143,
          36.357142857142854,
          35.41428571428572,
          34.58571428571428,
          34.3,
          34.042857142857144,
          34.2,
          33.371428571428574,
          32.94285714285714,
          32.98571428571429,
          34.642857142857146,
          35.371428571428574,
          35.92857142857143,
          36.44285714285714,
          37.92857142857143,
          39.05714285714286,
          40.128571428571426,
          39.6,
          38.55714285714286,
          38,
          37.48571428571428,
          37.385714285714286,
          37.271428571428565,
          37.25714285714286,
          37.228571428571435,
          38.199999999999996,
          38.67142857142857,
          39.10000000000001,
          39.114285714285714,
          39.18571428571429,
          39.300000000000004,
          39.42857142857143,
          39.371428571428574,
          39.48571428571428,
          39.51428571428572,
          39.614285714285714,
          39.61428571428571,
          39.614285714285714,
          39.3,
          39.07142857142857,
          39.22857142857142,
          39.5,
          39.58571428571429,
          39.75714285714286,
          39.285714285714285,
          39.528571428571425,
          39.785714285714285,
          39.39999999999999,
          39.028571428571425,
          38.9,
          38.885714285714286,
          39.08571428571429,
          38.871428571428574,
          38.971428571428575,
          38.41428571428571,
          37.857142857142854,
          37.25714285714286,
          36.55714285714286,
          36.18571428571428,
          35.8,
          35.07142857142857,
          35.05714285714286,
          34.971428571428575,
          34.8,
          34.642857142857146,
          34.58571428571428,
          34.67142857142857,
          34.714285714285715,
          33.35714285714286,
          33.42857142857143,
          33.471428571428575,
          33.4,
          33.17142857142857,
          32.08571428571428,
          30.714285714285715,
          30.785714285714285,
          31.7,
          32.614285714285714,
          33.542857142857144,
          34.44285714285714,
          36.114285714285714,
          33.82857142857143,
          31.54285714285714,
          25.67142857142857,
          19.842857142857138,
          14.514285714285714,
          13.642857142857142,
          10.614285714285714,
          12.185714285714285,
          13.757142857142854,
          18.642857142857142,
          23.585714285714285,
          28.457142857142856,
          28.942857142857147,
          31.571428571428573,
          33.91428571428572,
          36.214285714285715,
          36.55714285714286,
          36.614285714285714,
          36.628571428571426,
          36.74285714285714,
          36.82857142857143,
          37.1,
          37.357142857142854,
          36.74285714285714,
          36.67142857142857,
          36.22857142857143,
          35.74285714285714,
          35.57142857142857,
          35.17142857142857,
          34.800000000000004,
          35.4,
          35.642857142857146,
          36.15714285714286,
          36.12857142857143,
          36.02857142857143,
          35.7,
          35.4,
          34.9,
          34.42857142857143,
          33.699999999999996,
          33.15714285714286,
          32.72857142857143,
          32.58571428571428,
          30.328571428571426,
          30.25714285714286,
          30.2,
          31.5,
          33.128571428571426,
          null,
          null,
          null
         ],
         "yaxis": "y2"
        }
       ],
       "layout": {
        "legend": {
         "orientation": "h",
         "title": {
          "text": "Legenda:"
         },
         "x": 0.5,
         "xanchor": "center",
         "y": -0.6,
         "yanchor": "bottom"
        },
        "template": {
         "data": {
          "bar": [
           {
            "error_x": {
             "color": "#2a3f5f"
            },
            "error_y": {
             "color": "#2a3f5f"
            },
            "marker": {
             "line": {
              "color": "white",
              "width": 0.5
             },
             "pattern": {
              "fillmode": "overlay",
              "size": 10,
              "solidity": 0.2
             }
            },
            "type": "bar"
           }
          ],
          "barpolar": [
           {
            "marker": {
             "line": {
              "color": "white",
              "width": 0.5
             },
             "pattern": {
              "fillmode": "overlay",
              "size": 10,
              "solidity": 0.2
             }
            },
            "type": "barpolar"
           }
          ],
          "carpet": [
           {
            "aaxis": {
             "endlinecolor": "#2a3f5f",
             "gridcolor": "#C8D4E3",
             "linecolor": "#C8D4E3",
             "minorgridcolor": "#C8D4E3",
             "startlinecolor": "#2a3f5f"
            },
            "baxis": {
             "endlinecolor": "#2a3f5f",
             "gridcolor": "#C8D4E3",
             "linecolor": "#C8D4E3",
             "minorgridcolor": "#C8D4E3",
             "startlinecolor": "#2a3f5f"
            },
            "type": "carpet"
           }
          ],
          "choropleth": [
           {
            "colorbar": {
             "outlinewidth": 0,
             "ticks": ""
            },
            "type": "choropleth"
           }
          ],
          "contour": [
           {
            "colorbar": {
             "outlinewidth": 0,
             "ticks": ""
            },
            "colorscale": [
             [
              0,
              "#0d0887"
             ],
             [
              0.1111111111111111,
              "#46039f"
             ],
             [
              0.2222222222222222,
              "#7201a8"
             ],
             [
              0.3333333333333333,
              "#9c179e"
             ],
             [
              0.4444444444444444,
              "#bd3786"
             ],
             [
              0.5555555555555556,
              "#d8576b"
             ],
             [
              0.6666666666666666,
              "#ed7953"
             ],
             [
              0.7777777777777778,
              "#fb9f3a"
             ],
             [
              0.8888888888888888,
              "#fdca26"
             ],
             [
              1,
              "#f0f921"
             ]
            ],
            "type": "contour"
           }
          ],
          "contourcarpet": [
           {
            "colorbar": {
             "outlinewidth": 0,
             "ticks": ""
            },
            "type": "contourcarpet"
           }
          ],
          "heatmap": [
           {
            "colorbar": {
             "outlinewidth": 0,
             "ticks": ""
            },
            "colorscale": [
             [
              0,
              "#0d0887"
             ],
             [
              0.1111111111111111,
              "#46039f"
             ],
             [
              0.2222222222222222,
              "#7201a8"
             ],
             [
              0.3333333333333333,
              "#9c179e"
             ],
             [
              0.4444444444444444,
              "#bd3786"
             ],
             [
              0.5555555555555556,
              "#d8576b"
             ],
             [
              0.6666666666666666,
              "#ed7953"
             ],
             [
              0.7777777777777778,
              "#fb9f3a"
             ],
             [
              0.8888888888888888,
              "#fdca26"
             ],
             [
              1,
              "#f0f921"
             ]
            ],
            "type": "heatmap"
           }
          ],
          "heatmapgl": [
           {
            "colorbar": {
             "outlinewidth": 0,
             "ticks": ""
            },
            "colorscale": [
             [
              0,
              "#0d0887"
             ],
             [
              0.1111111111111111,
              "#46039f"
             ],
             [
              0.2222222222222222,
              "#7201a8"
             ],
             [
              0.3333333333333333,
              "#9c179e"
             ],
             [
              0.4444444444444444,
              "#bd3786"
             ],
             [
              0.5555555555555556,
              "#d8576b"
             ],
             [
              0.6666666666666666,
              "#ed7953"
             ],
             [
              0.7777777777777778,
              "#fb9f3a"
             ],
             [
              0.8888888888888888,
              "#fdca26"
             ],
             [
              1,
              "#f0f921"
             ]
            ],
            "type": "heatmapgl"
           }
          ],
          "histogram": [
           {
            "marker": {
             "pattern": {
              "fillmode": "overlay",
              "size": 10,
              "solidity": 0.2
             }
            },
            "type": "histogram"
           }
          ],
          "histogram2d": [
           {
            "colorbar": {
             "outlinewidth": 0,
             "ticks": ""
            },
            "colorscale": [
             [
              0,
              "#0d0887"
             ],
             [
              0.1111111111111111,
              "#46039f"
             ],
             [
              0.2222222222222222,
              "#7201a8"
             ],
             [
              0.3333333333333333,
              "#9c179e"
             ],
             [
              0.4444444444444444,
              "#bd3786"
             ],
             [
              0.5555555555555556,
              "#d8576b"
             ],
             [
              0.6666666666666666,
              "#ed7953"
             ],
             [
              0.7777777777777778,
              "#fb9f3a"
             ],
             [
              0.8888888888888888,
              "#fdca26"
             ],
             [
              1,
              "#f0f921"
             ]
            ],
            "type": "histogram2d"
           }
          ],
          "histogram2dcontour": [
           {
            "colorbar": {
             "outlinewidth": 0,
             "ticks": ""
            },
            "colorscale": [
             [
              0,
              "#0d0887"
             ],
             [
              0.1111111111111111,
              "#46039f"
             ],
             [
              0.2222222222222222,
              "#7201a8"
             ],
             [
              0.3333333333333333,
              "#9c179e"
             ],
             [
              0.4444444444444444,
              "#bd3786"
             ],
             [
              0.5555555555555556,
              "#d8576b"
             ],
             [
              0.6666666666666666,
              "#ed7953"
             ],
             [
              0.7777777777777778,
              "#fb9f3a"
             ],
             [
              0.8888888888888888,
              "#fdca26"
             ],
             [
              1,
              "#f0f921"
             ]
            ],
            "type": "histogram2dcontour"
           }
          ],
          "mesh3d": [
           {
            "colorbar": {
             "outlinewidth": 0,
             "ticks": ""
            },
            "type": "mesh3d"
           }
          ],
          "parcoords": [
           {
            "line": {
             "colorbar": {
              "outlinewidth": 0,
              "ticks": ""
             }
            },
            "type": "parcoords"
           }
          ],
          "pie": [
           {
            "automargin": true,
            "type": "pie"
           }
          ],
          "scatter": [
           {
            "fillpattern": {
             "fillmode": "overlay",
             "size": 10,
             "solidity": 0.2
            },
            "type": "scatter"
           }
          ],
          "scatter3d": [
           {
            "line": {
             "colorbar": {
              "outlinewidth": 0,
              "ticks": ""
             }
            },
            "marker": {
             "colorbar": {
              "outlinewidth": 0,
              "ticks": ""
             }
            },
            "type": "scatter3d"
           }
          ],
          "scattercarpet": [
           {
            "marker": {
             "colorbar": {
              "outlinewidth": 0,
              "ticks": ""
             }
            },
            "type": "scattercarpet"
           }
          ],
          "scattergeo": [
           {
            "marker": {
             "colorbar": {
              "outlinewidth": 0,
              "ticks": ""
             }
            },
            "type": "scattergeo"
           }
          ],
          "scattergl": [
           {
            "marker": {
             "colorbar": {
              "outlinewidth": 0,
              "ticks": ""
             }
            },
            "type": "scattergl"
           }
          ],
          "scattermapbox": [
           {
            "marker": {
             "colorbar": {
              "outlinewidth": 0,
              "ticks": ""
             }
            },
            "type": "scattermapbox"
           }
          ],
          "scatterpolar": [
           {
            "marker": {
             "colorbar": {
              "outlinewidth": 0,
              "ticks": ""
             }
            },
            "type": "scatterpolar"
           }
          ],
          "scatterpolargl": [
           {
            "marker": {
             "colorbar": {
              "outlinewidth": 0,
              "ticks": ""
             }
            },
            "type": "scatterpolargl"
           }
          ],
          "scatterternary": [
           {
            "marker": {
             "colorbar": {
              "outlinewidth": 0,
              "ticks": ""
             }
            },
            "type": "scatterternary"
           }
          ],
          "surface": [
           {
            "colorbar": {
             "outlinewidth": 0,
             "ticks": ""
            },
            "colorscale": [
             [
              0,
              "#0d0887"
             ],
             [
              0.1111111111111111,
              "#46039f"
             ],
             [
              0.2222222222222222,
              "#7201a8"
             ],
             [
              0.3333333333333333,
              "#9c179e"
             ],
             [
              0.4444444444444444,
              "#bd3786"
             ],
             [
              0.5555555555555556,
              "#d8576b"
             ],
             [
              0.6666666666666666,
              "#ed7953"
             ],
             [
              0.7777777777777778,
              "#fb9f3a"
             ],
             [
              0.8888888888888888,
              "#fdca26"
             ],
             [
              1,
              "#f0f921"
             ]
            ],
            "type": "surface"
           }
          ],
          "table": [
           {
            "cells": {
             "fill": {
              "color": "#EBF0F8"
             },
             "line": {
              "color": "white"
             }
            },
            "header": {
             "fill": {
              "color": "#C8D4E3"
             },
             "line": {
              "color": "white"
             }
            },
            "type": "table"
           }
          ]
         },
         "layout": {
          "annotationdefaults": {
           "arrowcolor": "#2a3f5f",
           "arrowhead": 0,
           "arrowwidth": 1
          },
          "autotypenumbers": "strict",
          "coloraxis": {
           "colorbar": {
            "outlinewidth": 0,
            "ticks": ""
           }
          },
          "colorscale": {
           "diverging": [
            [
             0,
             "#8e0152"
            ],
            [
             0.1,
             "#c51b7d"
            ],
            [
             0.2,
             "#de77ae"
            ],
            [
             0.3,
             "#f1b6da"
            ],
            [
             0.4,
             "#fde0ef"
            ],
            [
             0.5,
             "#f7f7f7"
            ],
            [
             0.6,
             "#e6f5d0"
            ],
            [
             0.7,
             "#b8e186"
            ],
            [
             0.8,
             "#7fbc41"
            ],
            [
             0.9,
             "#4d9221"
            ],
            [
             1,
             "#276419"
            ]
           ],
           "sequential": [
            [
             0,
             "#0d0887"
            ],
            [
             0.1111111111111111,
             "#46039f"
            ],
            [
             0.2222222222222222,
             "#7201a8"
            ],
            [
             0.3333333333333333,
             "#9c179e"
            ],
            [
             0.4444444444444444,
             "#bd3786"
            ],
            [
             0.5555555555555556,
             "#d8576b"
            ],
            [
             0.6666666666666666,
             "#ed7953"
            ],
            [
             0.7777777777777778,
             "#fb9f3a"
            ],
            [
             0.8888888888888888,
             "#fdca26"
            ],
            [
             1,
             "#f0f921"
            ]
           ],
           "sequentialminus": [
            [
             0,
             "#0d0887"
            ],
            [
             0.1111111111111111,
             "#46039f"
            ],
            [
             0.2222222222222222,
             "#7201a8"
            ],
            [
             0.3333333333333333,
             "#9c179e"
            ],
            [
             0.4444444444444444,
             "#bd3786"
            ],
            [
             0.5555555555555556,
             "#d8576b"
            ],
            [
             0.6666666666666666,
             "#ed7953"
            ],
            [
             0.7777777777777778,
             "#fb9f3a"
            ],
            [
             0.8888888888888888,
             "#fdca26"
            ],
            [
             1,
             "#f0f921"
            ]
           ]
          },
          "colorway": [
           "#636efa",
           "#EF553B",
           "#00cc96",
           "#ab63fa",
           "#FFA15A",
           "#19d3f3",
           "#FF6692",
           "#B6E880",
           "#FF97FF",
           "#FECB52"
          ],
          "font": {
           "color": "#2a3f5f"
          },
          "geo": {
           "bgcolor": "white",
           "lakecolor": "white",
           "landcolor": "white",
           "showlakes": true,
           "showland": true,
           "subunitcolor": "#C8D4E3"
          },
          "hoverlabel": {
           "align": "left"
          },
          "hovermode": "closest",
          "mapbox": {
           "style": "light"
          },
          "paper_bgcolor": "white",
          "plot_bgcolor": "white",
          "polar": {
           "angularaxis": {
            "gridcolor": "#EBF0F8",
            "linecolor": "#EBF0F8",
            "ticks": ""
           },
           "bgcolor": "white",
           "radialaxis": {
            "gridcolor": "#EBF0F8",
            "linecolor": "#EBF0F8",
            "ticks": ""
           }
          },
          "scene": {
           "xaxis": {
            "backgroundcolor": "white",
            "gridcolor": "#DFE8F3",
            "gridwidth": 2,
            "linecolor": "#EBF0F8",
            "showbackground": true,
            "ticks": "",
            "zerolinecolor": "#EBF0F8"
           },
           "yaxis": {
            "backgroundcolor": "white",
            "gridcolor": "#DFE8F3",
            "gridwidth": 2,
            "linecolor": "#EBF0F8",
            "showbackground": true,
            "ticks": "",
            "zerolinecolor": "#EBF0F8"
           },
           "zaxis": {
            "backgroundcolor": "white",
            "gridcolor": "#DFE8F3",
            "gridwidth": 2,
            "linecolor": "#EBF0F8",
            "showbackground": true,
            "ticks": "",
            "zerolinecolor": "#EBF0F8"
           }
          },
          "shapedefaults": {
           "line": {
            "color": "#2a3f5f"
           }
          },
          "ternary": {
           "aaxis": {
            "gridcolor": "#DFE8F3",
            "linecolor": "#A2B1C6",
            "ticks": ""
           },
           "baxis": {
            "gridcolor": "#DFE8F3",
            "linecolor": "#A2B1C6",
            "ticks": ""
           },
           "bgcolor": "white",
           "caxis": {
            "gridcolor": "#DFE8F3",
            "linecolor": "#A2B1C6",
            "ticks": ""
           }
          },
          "title": {
           "x": 0.05
          },
          "xaxis": {
           "automargin": true,
           "gridcolor": "#EBF0F8",
           "linecolor": "#EBF0F8",
           "ticks": "",
           "title": {
            "standoff": 15
           },
           "zerolinecolor": "#EBF0F8",
           "zerolinewidth": 2
          },
          "yaxis": {
           "automargin": true,
           "gridcolor": "#EBF0F8",
           "linecolor": "#EBF0F8",
           "ticks": "",
           "title": {
            "standoff": 15
           },
           "zerolinecolor": "#EBF0F8",
           "zerolinewidth": 2
          }
         }
        },
        "title": {
         "text": "Total de Defeitos por Data e Relação com Diâmetro (Suavizado)"
        },
        "xaxis": {
         "title": {
          "text": "Data"
         }
        },
        "yaxis": {
         "title": {
          "text": "Quantidade de Defeitos"
         }
        },
        "yaxis2": {
         "overlaying": "y",
         "side": "right",
         "title": {
          "text": "Diâmetro"
         }
        }
       }
      }
     },
     "metadata": {},
     "output_type": "display_data"
    },
    {
     "data": {
      "application/vnd.plotly.v1+json": {
       "config": {
        "plotlyServerURL": "https://plot.ly"
       },
       "data": [
        {
         "line": {
          "color": "blue"
         },
         "mode": "lines",
         "name": "Defeitos no Dia (Suavizado)",
         "type": "scatter",
         "x": [
          "2024-06-30T00:00:00",
          "2024-06-29T00:00:00",
          "2024-06-28T00:00:00",
          "2024-06-27T00:00:00",
          "2024-06-26T00:00:00",
          "2024-06-25T00:00:00",
          "2024-06-25T00:00:00",
          "2024-06-24T00:00:00",
          "2024-06-22T00:00:00",
          "2024-06-21T00:00:00",
          "2024-06-20T00:00:00",
          "2024-06-19T00:00:00",
          "2024-06-18T00:00:00",
          "2024-06-17T00:00:00",
          "2024-06-16T00:00:00",
          "2024-06-15T00:00:00",
          "2024-06-15T00:00:00",
          "2024-06-14T00:00:00",
          "2024-06-13T00:00:00",
          "2024-06-12T00:00:00",
          "2024-06-11T00:00:00",
          "2024-06-10T00:00:00",
          "2024-06-09T00:00:00",
          "2024-06-08T00:00:00",
          "2024-06-07T00:00:00",
          "2024-06-06T00:00:00",
          "2024-06-05T00:00:00",
          "2024-06-04T00:00:00",
          "2024-06-03T00:00:00",
          "2024-06-02T00:00:00",
          "2024-06-02T00:00:00",
          "2024-06-01T00:00:00",
          "2024-05-31T00:00:00",
          "2024-05-31T00:00:00",
          "2024-05-30T00:00:00",
          "2024-05-29T00:00:00",
          "2024-05-28T00:00:00",
          "2024-05-25T00:00:00",
          "2024-05-25T00:00:00",
          "2024-05-24T00:00:00",
          "2024-05-23T00:00:00",
          "2024-05-22T00:00:00",
          "2024-05-21T00:00:00",
          "2024-05-20T00:00:00",
          "2024-05-19T00:00:00",
          "2024-05-18T00:00:00",
          "2024-05-17T00:00:00",
          "2024-05-16T00:00:00",
          "2024-05-15T00:00:00",
          "2024-05-15T00:00:00",
          "2024-05-14T00:00:00",
          "2024-05-13T00:00:00",
          "2024-05-12T00:00:00",
          "2024-05-11T00:00:00",
          "2024-05-10T00:00:00",
          "2024-05-09T00:00:00",
          "2024-05-08T00:00:00",
          "2024-05-07T00:00:00",
          "2024-05-06T00:00:00",
          "2024-05-05T00:00:00",
          "2024-05-04T00:00:00",
          "2024-05-03T00:00:00",
          "2024-05-02T00:00:00",
          "2024-05-02T00:00:00",
          "2024-05-01T00:00:00",
          "2024-04-30T00:00:00",
          "2024-04-29T00:00:00",
          "2024-04-28T00:00:00",
          "2024-04-28T00:00:00",
          "2024-04-27T00:00:00",
          "2024-04-26T00:00:00",
          "2024-04-26T00:00:00",
          "2024-04-25T00:00:00",
          "2024-04-24T00:00:00",
          "2024-04-24T00:00:00",
          "2024-04-23T00:00:00",
          "2024-04-22T00:00:00",
          "2024-04-22T00:00:00",
          "2024-04-21T00:00:00",
          "2024-04-20T00:00:00",
          "2024-04-20T00:00:00",
          "2024-04-19T00:00:00",
          "2024-04-18T00:00:00",
          "2024-04-18T00:00:00",
          "2024-04-17T00:00:00",
          "2024-04-16T00:00:00",
          "2024-04-15T00:00:00",
          "2024-04-14T00:00:00",
          "2024-04-13T00:00:00",
          "2024-04-12T00:00:00",
          "2024-04-11T00:00:00",
          "2024-04-11T00:00:00",
          "2024-04-10T00:00:00",
          "2024-04-09T00:00:00",
          "2024-04-08T00:00:00",
          "2024-04-08T00:00:00",
          "2024-04-07T00:00:00",
          "2024-04-06T00:00:00",
          "2024-04-05T00:00:00",
          "2024-04-04T00:00:00",
          "2024-04-04T00:00:00",
          "2024-04-03T00:00:00",
          "2024-04-02T00:00:00",
          "2024-04-01T00:00:00",
          "2024-03-30T00:00:00",
          "2024-03-29T00:00:00",
          "2024-03-28T00:00:00",
          "2024-03-27T00:00:00",
          "2024-03-26T00:00:00",
          "2024-03-25T00:00:00",
          "2024-03-25T00:00:00",
          "2024-03-24T00:00:00",
          "2024-03-23T00:00:00",
          "2024-03-22T00:00:00",
          "2024-03-21T00:00:00",
          "2024-03-20T00:00:00",
          "2024-03-19T00:00:00",
          "2024-03-18T00:00:00",
          "2024-03-17T00:00:00",
          "2024-03-16T00:00:00",
          "2024-03-15T00:00:00",
          "2024-03-14T00:00:00",
          "2024-03-13T00:00:00",
          "2024-03-13T00:00:00",
          "2024-03-12T00:00:00",
          "2024-03-11T00:00:00",
          "2024-03-11T00:00:00",
          "2024-03-10T00:00:00",
          "2024-03-09T00:00:00",
          "2024-03-08T00:00:00",
          "2024-03-07T00:00:00",
          "2024-03-06T00:00:00",
          "2024-03-05T00:00:00",
          "2024-03-04T00:00:00",
          "2024-03-03T00:00:00",
          "2024-03-02T00:00:00",
          "2024-03-01T00:00:00",
          "2024-02-29T00:00:00",
          "2024-02-28T00:00:00",
          "2024-02-27T00:00:00",
          "2024-02-26T00:00:00",
          "2024-02-25T00:00:00",
          "2024-02-24T00:00:00",
          "2024-02-23T00:00:00",
          "2024-02-22T00:00:00",
          "2024-02-21T00:00:00",
          "2024-02-21T00:00:00",
          "2024-02-20T00:00:00",
          "2024-02-19T00:00:00",
          "2024-02-18T00:00:00",
          "2024-02-17T00:00:00",
          "2024-02-16T00:00:00",
          "2024-02-14T00:00:00",
          "2024-02-14T00:00:00",
          "2024-02-13T00:00:00",
          "2024-02-12T00:00:00",
          "2024-02-11T00:00:00",
          "2024-02-10T00:00:00",
          "2024-02-09T00:00:00",
          "2024-02-08T00:00:00",
          "2024-02-08T00:00:00",
          "2024-02-07T00:00:00",
          "2024-02-06T00:00:00",
          "2024-02-05T00:00:00",
          "2024-02-04T00:00:00",
          "2024-02-03T00:00:00",
          "2024-02-02T00:00:00",
          "2024-02-01T00:00:00",
          "2024-01-31T00:00:00",
          "2024-01-30T00:00:00",
          "2024-01-29T00:00:00",
          "2024-01-28T00:00:00",
          "2024-01-28T00:00:00",
          "2024-01-27T00:00:00",
          "2024-01-26T00:00:00",
          "2024-01-25T00:00:00",
          "2024-01-22T00:00:00",
          "2024-01-21T00:00:00",
          "2024-01-20T00:00:00",
          "2024-01-19T00:00:00",
          "2024-01-18T00:00:00",
          "2024-01-17T00:00:00",
          "2024-01-16T00:00:00",
          "2024-01-15T00:00:00",
          "2024-01-14T00:00:00",
          "2024-01-13T00:00:00",
          "2024-01-12T00:00:00",
          "2024-01-11T00:00:00",
          "2024-01-11T00:00:00",
          "2024-01-10T00:00:00",
          "2024-01-09T00:00:00",
          "2024-01-08T00:00:00",
          "2024-01-07T00:00:00",
          "2024-01-06T00:00:00",
          "2024-01-05T00:00:00",
          "2024-01-04T00:00:00",
          "2024-01-03T00:00:00",
          "2024-01-03T00:00:00",
          "2024-01-02T00:00:00",
          "2024-01-01T00:00:00"
         ],
         "y": [
          null,
          null,
          null,
          244.14285714285714,
          241,
          239.57142857142858,
          219.71428571428572,
          216.57142857142858,
          207.28571428571428,
          197.42857142857142,
          180.14285714285714,
          175.85714285714286,
          181.42857142857142,
          204.71428571428572,
          204.57142857142858,
          202.57142857142858,
          197.85714285714286,
          203.14285714285714,
          202.28571428571428,
          201.85714285714286,
          210.57142857142858,
          217.42857142857142,
          231.42857142857142,
          241.14285714285714,
          243.57142857142858,
          245.14285714285714,
          234.85714285714286,
          215.42857142857142,
          211,
          206.14285714285714,
          206.71428571428572,
          210.28571428571428,
          205.85714285714286,
          212,
          225.42857142857142,
          232.42857142857142,
          226,
          216.85714285714286,
          211.85714285714286,
          219.42857142857142,
          218.42857142857142,
          218.85714285714286,
          211.85714285714286,
          214.14285714285714,
          238.85714285714286,
          243.42857142857142,
          243,
          240.85714285714286,
          231,
          223.28571428571428,
          213.85714285714286,
          189.57142857142858,
          183.28571428571428,
          177.85714285714286,
          178.14285714285714,
          177.71428571428572,
          186.28571428571428,
          211.42857142857142,
          235.85714285714286,
          239.57142857142858,
          242.42857142857142,
          241.42857142857142,
          242.42857142857142,
          239.57142857142858,
          223.42857142857142,
          203.14285714285714,
          211.14285714285714,
          209,
          210.71428571428572,
          217.14285714285714,
          224.42857142857142,
          229.85714285714286,
          246.57142857142858,
          250.71428571428572,
          265,
          269.42857142857144,
          268,
          265.85714285714283,
          256.2857142857143,
          238,
          224.42857142857142,
          207.28571428571428,
          199.14285714285714,
          192,
          186,
          185.57142857142858,
          186.42857142857142,
          182.85714285714286,
          182.85714285714286,
          185.85714285714286,
          189,
          190.85714285714286,
          194.57142857142858,
          192.42857142857142,
          198,
          207.28571428571428,
          196.28571428571428,
          183,
          194.85714285714286,
          210.85714285714286,
          214.42857142857142,
          209,
          198.42857142857142,
          204.28571428571428,
          215,
          204.14285714285714,
          186.28571428571428,
          182.85714285714286,
          194.28571428571428,
          203.42857142857142,
          219.28571428571428,
          235,
          227.85714285714286,
          224.57142857142858,
          223.57142857142858,
          216.42857142857142,
          212.57142857142858,
          202.85714285714286,
          187.14285714285714,
          188.71428571428572,
          189.28571428571428,
          189.85714285714286,
          180.85714285714286,
          172.28571428571428,
          169.42857142857142,
          164.85714285714286,
          167.14285714285714,
          168.71428571428572,
          161,
          163.71428571428572,
          166.28571428571428,
          167.14285714285714,
          172.28571428571428,
          169.28571428571428,
          170.28571428571428,
          176.28571428571428,
          181,
          182.28571428571428,
          184.42857142857142,
          187.14285714285714,
          194.14285714285714,
          209.14285714285714,
          209.57142857142858,
          207.42857142857142,
          214.28571428571428,
          216.28571428571428,
          218.85714285714286,
          223.42857142857142,
          217.42857142857142,
          209.14285714285714,
          200.85714285714286,
          213.28571428571428,
          223,
          229.85714285714286,
          233.71428571428572,
          241,
          258.14285714285717,
          275.2857142857143,
          249.85714285714286,
          233.57142857142858,
          221.28571428571428,
          210.57142857142858,
          193.71428571428572,
          190.57142857142858,
          184.71428571428572,
          199.28571428571428,
          204.28571428571428,
          211.71428571428572,
          224.57142857142858,
          239.42857142857142,
          249,
          256.7142857142857,
          253.71428571428572,
          252.57142857142858,
          249.85714285714286,
          240.28571428571428,
          229,
          218.71428571428572,
          210.57142857142858,
          213.85714285714286,
          219,
          220,
          212.42857142857142,
          216.42857142857142,
          227.57142857142858,
          241.14285714285714,
          239.85714285714286,
          234.42857142857142,
          234.14285714285714,
          242.85714285714286,
          243.14285714285714,
          239.57142857142858,
          233.28571428571428,
          233.28571428571428,
          237.71428571428572,
          234,
          223.57142857142858,
          null,
          null,
          null
         ]
        },
        {
         "line": {
          "color": "orange",
          "dash": "dash"
         },
         "mode": "lines",
         "name": "Comprimento Médio (mm) (Suavizado)",
         "type": "scatter",
         "x": [
          "2024-06-30T00:00:00",
          "2024-06-29T00:00:00",
          "2024-06-28T00:00:00",
          "2024-06-27T00:00:00",
          "2024-06-26T00:00:00",
          "2024-06-25T00:00:00",
          "2024-06-25T00:00:00",
          "2024-06-24T00:00:00",
          "2024-06-22T00:00:00",
          "2024-06-21T00:00:00",
          "2024-06-20T00:00:00",
          "2024-06-19T00:00:00",
          "2024-06-18T00:00:00",
          "2024-06-17T00:00:00",
          "2024-06-16T00:00:00",
          "2024-06-15T00:00:00",
          "2024-06-15T00:00:00",
          "2024-06-14T00:00:00",
          "2024-06-13T00:00:00",
          "2024-06-12T00:00:00",
          "2024-06-11T00:00:00",
          "2024-06-10T00:00:00",
          "2024-06-09T00:00:00",
          "2024-06-08T00:00:00",
          "2024-06-07T00:00:00",
          "2024-06-06T00:00:00",
          "2024-06-05T00:00:00",
          "2024-06-04T00:00:00",
          "2024-06-03T00:00:00",
          "2024-06-02T00:00:00",
          "2024-06-02T00:00:00",
          "2024-06-01T00:00:00",
          "2024-05-31T00:00:00",
          "2024-05-31T00:00:00",
          "2024-05-30T00:00:00",
          "2024-05-29T00:00:00",
          "2024-05-28T00:00:00",
          "2024-05-25T00:00:00",
          "2024-05-25T00:00:00",
          "2024-05-24T00:00:00",
          "2024-05-23T00:00:00",
          "2024-05-22T00:00:00",
          "2024-05-21T00:00:00",
          "2024-05-20T00:00:00",
          "2024-05-19T00:00:00",
          "2024-05-18T00:00:00",
          "2024-05-17T00:00:00",
          "2024-05-16T00:00:00",
          "2024-05-15T00:00:00",
          "2024-05-15T00:00:00",
          "2024-05-14T00:00:00",
          "2024-05-13T00:00:00",
          "2024-05-12T00:00:00",
          "2024-05-11T00:00:00",
          "2024-05-10T00:00:00",
          "2024-05-09T00:00:00",
          "2024-05-08T00:00:00",
          "2024-05-07T00:00:00",
          "2024-05-06T00:00:00",
          "2024-05-05T00:00:00",
          "2024-05-04T00:00:00",
          "2024-05-03T00:00:00",
          "2024-05-02T00:00:00",
          "2024-05-02T00:00:00",
          "2024-05-01T00:00:00",
          "2024-04-30T00:00:00",
          "2024-04-29T00:00:00",
          "2024-04-28T00:00:00",
          "2024-04-28T00:00:00",
          "2024-04-27T00:00:00",
          "2024-04-26T00:00:00",
          "2024-04-26T00:00:00",
          "2024-04-25T00:00:00",
          "2024-04-24T00:00:00",
          "2024-04-24T00:00:00",
          "2024-04-23T00:00:00",
          "2024-04-22T00:00:00",
          "2024-04-22T00:00:00",
          "2024-04-21T00:00:00",
          "2024-04-20T00:00:00",
          "2024-04-20T00:00:00",
          "2024-04-19T00:00:00",
          "2024-04-18T00:00:00",
          "2024-04-18T00:00:00",
          "2024-04-17T00:00:00",
          "2024-04-16T00:00:00",
          "2024-04-15T00:00:00",
          "2024-04-14T00:00:00",
          "2024-04-13T00:00:00",
          "2024-04-12T00:00:00",
          "2024-04-11T00:00:00",
          "2024-04-11T00:00:00",
          "2024-04-10T00:00:00",
          "2024-04-09T00:00:00",
          "2024-04-08T00:00:00",
          "2024-04-08T00:00:00",
          "2024-04-07T00:00:00",
          "2024-04-06T00:00:00",
          "2024-04-05T00:00:00",
          "2024-04-04T00:00:00",
          "2024-04-04T00:00:00",
          "2024-04-03T00:00:00",
          "2024-04-02T00:00:00",
          "2024-04-01T00:00:00",
          "2024-03-30T00:00:00",
          "2024-03-29T00:00:00",
          "2024-03-28T00:00:00",
          "2024-03-27T00:00:00",
          "2024-03-26T00:00:00",
          "2024-03-25T00:00:00",
          "2024-03-25T00:00:00",
          "2024-03-24T00:00:00",
          "2024-03-23T00:00:00",
          "2024-03-22T00:00:00",
          "2024-03-21T00:00:00",
          "2024-03-20T00:00:00",
          "2024-03-19T00:00:00",
          "2024-03-18T00:00:00",
          "2024-03-17T00:00:00",
          "2024-03-16T00:00:00",
          "2024-03-15T00:00:00",
          "2024-03-14T00:00:00",
          "2024-03-13T00:00:00",
          "2024-03-13T00:00:00",
          "2024-03-12T00:00:00",
          "2024-03-11T00:00:00",
          "2024-03-11T00:00:00",
          "2024-03-10T00:00:00",
          "2024-03-09T00:00:00",
          "2024-03-08T00:00:00",
          "2024-03-07T00:00:00",
          "2024-03-06T00:00:00",
          "2024-03-05T00:00:00",
          "2024-03-04T00:00:00",
          "2024-03-03T00:00:00",
          "2024-03-02T00:00:00",
          "2024-03-01T00:00:00",
          "2024-02-29T00:00:00",
          "2024-02-28T00:00:00",
          "2024-02-27T00:00:00",
          "2024-02-26T00:00:00",
          "2024-02-25T00:00:00",
          "2024-02-24T00:00:00",
          "2024-02-23T00:00:00",
          "2024-02-22T00:00:00",
          "2024-02-21T00:00:00",
          "2024-02-21T00:00:00",
          "2024-02-20T00:00:00",
          "2024-02-19T00:00:00",
          "2024-02-18T00:00:00",
          "2024-02-17T00:00:00",
          "2024-02-16T00:00:00",
          "2024-02-14T00:00:00",
          "2024-02-14T00:00:00",
          "2024-02-13T00:00:00",
          "2024-02-12T00:00:00",
          "2024-02-11T00:00:00",
          "2024-02-10T00:00:00",
          "2024-02-09T00:00:00",
          "2024-02-08T00:00:00",
          "2024-02-08T00:00:00",
          "2024-02-07T00:00:00",
          "2024-02-06T00:00:00",
          "2024-02-05T00:00:00",
          "2024-02-04T00:00:00",
          "2024-02-03T00:00:00",
          "2024-02-02T00:00:00",
          "2024-02-01T00:00:00",
          "2024-01-31T00:00:00",
          "2024-01-30T00:00:00",
          "2024-01-29T00:00:00",
          "2024-01-28T00:00:00",
          "2024-01-28T00:00:00",
          "2024-01-27T00:00:00",
          "2024-01-26T00:00:00",
          "2024-01-25T00:00:00",
          "2024-01-22T00:00:00",
          "2024-01-21T00:00:00",
          "2024-01-20T00:00:00",
          "2024-01-19T00:00:00",
          "2024-01-18T00:00:00",
          "2024-01-17T00:00:00",
          "2024-01-16T00:00:00",
          "2024-01-15T00:00:00",
          "2024-01-14T00:00:00",
          "2024-01-13T00:00:00",
          "2024-01-12T00:00:00",
          "2024-01-11T00:00:00",
          "2024-01-11T00:00:00",
          "2024-01-10T00:00:00",
          "2024-01-09T00:00:00",
          "2024-01-08T00:00:00",
          "2024-01-07T00:00:00",
          "2024-01-06T00:00:00",
          "2024-01-05T00:00:00",
          "2024-01-04T00:00:00",
          "2024-01-03T00:00:00",
          "2024-01-03T00:00:00",
          "2024-01-02T00:00:00",
          "2024-01-01T00:00:00"
         ],
         "y": [
          null,
          null,
          null,
          113.78571428571429,
          106.88571428571429,
          98.61428571428573,
          85.07142857142857,
          79.22857142857143,
          72.9,
          76.31428571428572,
          79.89999999999999,
          86.15714285714286,
          87.15714285714284,
          92.84285714285714,
          92.4857142857143,
          92.01428571428572,
          86.55714285714285,
          80.88571428571429,
          74.52857142857144,
          75.2,
          76.81428571428572,
          75.25714285714287,
          76.02857142857144,
          78.81428571428572,
          82.38571428571429,
          86.70000000000002,
          90.78571428571429,
          93.92857142857143,
          98.58571428571429,
          99.2,
          97.5857142857143,
          96.62857142857142,
          95.58571428571427,
          94.57142857142857,
          91.81428571428572,
          89.61428571428571,
          87.34285714285714,
          84.95714285714287,
          81.04285714285713,
          76.88571428571429,
          72.81428571428572,
          72.24285714285715,
          71.75714285714285,
          72.88571428571429,
          72.71428571428571,
          74.22857142857143,
          75.89999999999999,
          81.51428571428572,
          84.84285714285716,
          87.37142857142858,
          89.55714285714285,
          93.07142857142857,
          95,
          96.8142857142857,
          94.41428571428573,
          92,
          89.64285714285714,
          92.08571428571429,
          95.60000000000001,
          95.88571428571429,
          96.28571428571429,
          95.72857142857144,
          95.81428571428572,
          96.2,
          93.34285714285714,
          89.5,
          89.04285714285713,
          87.65714285714286,
          87.62857142857145,
          87.24285714285715,
          87.21428571428571,
          86.15714285714286,
          90.01428571428572,
          90.02857142857144,
          90.97142857142856,
          84.89999999999999,
          81.15714285714286,
          77.41428571428571,
          77.47142857142856,
          73.31428571428572,
          72.87142857142858,
          73.97142857142856,
          81.92857142857143,
          87.94285714285715,
          94.32857142857144,
          96.65714285714286,
          98.04285714285716,
          98.77142857142857,
          97.95714285714287,
          97.6857142857143,
          97.78571428571429,
          97.91428571428571,
          98.29999999999998,
          99.04285714285713,
          100.22857142857143,
          101.05714285714285,
          98.64285714285712,
          95.72857142857141,
          92.67142857142856,
          89.71428571428571,
          88.07142857142857,
          86.3142857142857,
          85.67142857142858,
          87.24285714285713,
          88.88571428571427,
          89.95714285714284,
          90.74285714285713,
          90.10000000000001,
          89.14285714285714,
          87.25714285714287,
          86.60000000000001,
          86.7,
          86.68571428571428,
          87.48571428571428,
          88.18571428571428,
          90.08571428571429,
          92.3,
          93.41428571428571,
          93.01428571428572,
          94.32857142857142,
          95.01428571428572,
          95.5,
          95.45714285714287,
          95.27142857142857,
          98.04285714285713,
          101.7,
          104.01428571428572,
          106.27142857142857,
          109,
          111.91428571428571,
          115.35714285714286,
          116.78571428571429,
          117.94285714285715,
          119.34285714285714,
          120.21428571428571,
          121.10000000000001,
          116.78571428571429,
          117.31428571428572,
          117.87142857142858,
          119.11428571428571,
          120.47142857142856,
          118.71428571428571,
          111.82857142857142,
          109.92857142857143,
          104.55714285714285,
          98.97142857142858,
          92.9,
          86.84285714285714,
          84.51428571428572,
          77.51428571428572,
          70.51428571428572,
          58.18571428571429,
          45.614285714285714,
          34.48571428571428,
          41.699999999999996,
          41.128571428571426,
          44.371428571428574,
          47.614285714285714,
          58.371428571428574,
          70.9,
          83.52857142857144,
          77.68571428571428,
          79.45714285714287,
          87,
          94.82857142857144,
          98.77142857142857,
          99.78571428571429,
          99.84285714285714,
          99.21428571428571,
          98.72857142857143,
          97.54285714285713,
          96.17142857142858,
          93.21428571428571,
          94.65714285714286,
          95.78571428571429,
          97.54285714285716,
          97.71428571428571,
          98.4857142857143,
          99.17142857142856,
          101.47142857142856,
          100.71428571428571,
          99.32857142857142,
          96.29999999999998,
          95.97142857142856,
          98.01428571428572,
          100.04285714285716,
          104.14285714285714,
          108.25714285714287,
          114.34285714285716,
          122.07142857142857,
          129.14285714285714,
          133.37142857142857,
          129.75714285714284,
          127.38571428571427,
          124.81428571428572,
          115.8142857142857,
          106.77142857142857,
          null,
          null,
          null
         ],
         "yaxis": "y2"
        }
       ],
       "layout": {
        "legend": {
         "orientation": "h",
         "title": {
          "text": "Legenda:"
         },
         "x": 0.5,
         "xanchor": "center",
         "y": -0.6,
         "yanchor": "bottom"
        },
        "template": {
         "data": {
          "bar": [
           {
            "error_x": {
             "color": "#2a3f5f"
            },
            "error_y": {
             "color": "#2a3f5f"
            },
            "marker": {
             "line": {
              "color": "white",
              "width": 0.5
             },
             "pattern": {
              "fillmode": "overlay",
              "size": 10,
              "solidity": 0.2
             }
            },
            "type": "bar"
           }
          ],
          "barpolar": [
           {
            "marker": {
             "line": {
              "color": "white",
              "width": 0.5
             },
             "pattern": {
              "fillmode": "overlay",
              "size": 10,
              "solidity": 0.2
             }
            },
            "type": "barpolar"
           }
          ],
          "carpet": [
           {
            "aaxis": {
             "endlinecolor": "#2a3f5f",
             "gridcolor": "#C8D4E3",
             "linecolor": "#C8D4E3",
             "minorgridcolor": "#C8D4E3",
             "startlinecolor": "#2a3f5f"
            },
            "baxis": {
             "endlinecolor": "#2a3f5f",
             "gridcolor": "#C8D4E3",
             "linecolor": "#C8D4E3",
             "minorgridcolor": "#C8D4E3",
             "startlinecolor": "#2a3f5f"
            },
            "type": "carpet"
           }
          ],
          "choropleth": [
           {
            "colorbar": {
             "outlinewidth": 0,
             "ticks": ""
            },
            "type": "choropleth"
           }
          ],
          "contour": [
           {
            "colorbar": {
             "outlinewidth": 0,
             "ticks": ""
            },
            "colorscale": [
             [
              0,
              "#0d0887"
             ],
             [
              0.1111111111111111,
              "#46039f"
             ],
             [
              0.2222222222222222,
              "#7201a8"
             ],
             [
              0.3333333333333333,
              "#9c179e"
             ],
             [
              0.4444444444444444,
              "#bd3786"
             ],
             [
              0.5555555555555556,
              "#d8576b"
             ],
             [
              0.6666666666666666,
              "#ed7953"
             ],
             [
              0.7777777777777778,
              "#fb9f3a"
             ],
             [
              0.8888888888888888,
              "#fdca26"
             ],
             [
              1,
              "#f0f921"
             ]
            ],
            "type": "contour"
           }
          ],
          "contourcarpet": [
           {
            "colorbar": {
             "outlinewidth": 0,
             "ticks": ""
            },
            "type": "contourcarpet"
           }
          ],
          "heatmap": [
           {
            "colorbar": {
             "outlinewidth": 0,
             "ticks": ""
            },
            "colorscale": [
             [
              0,
              "#0d0887"
             ],
             [
              0.1111111111111111,
              "#46039f"
             ],
             [
              0.2222222222222222,
              "#7201a8"
             ],
             [
              0.3333333333333333,
              "#9c179e"
             ],
             [
              0.4444444444444444,
              "#bd3786"
             ],
             [
              0.5555555555555556,
              "#d8576b"
             ],
             [
              0.6666666666666666,
              "#ed7953"
             ],
             [
              0.7777777777777778,
              "#fb9f3a"
             ],
             [
              0.8888888888888888,
              "#fdca26"
             ],
             [
              1,
              "#f0f921"
             ]
            ],
            "type": "heatmap"
           }
          ],
          "heatmapgl": [
           {
            "colorbar": {
             "outlinewidth": 0,
             "ticks": ""
            },
            "colorscale": [
             [
              0,
              "#0d0887"
             ],
             [
              0.1111111111111111,
              "#46039f"
             ],
             [
              0.2222222222222222,
              "#7201a8"
             ],
             [
              0.3333333333333333,
              "#9c179e"
             ],
             [
              0.4444444444444444,
              "#bd3786"
             ],
             [
              0.5555555555555556,
              "#d8576b"
             ],
             [
              0.6666666666666666,
              "#ed7953"
             ],
             [
              0.7777777777777778,
              "#fb9f3a"
             ],
             [
              0.8888888888888888,
              "#fdca26"
             ],
             [
              1,
              "#f0f921"
             ]
            ],
            "type": "heatmapgl"
           }
          ],
          "histogram": [
           {
            "marker": {
             "pattern": {
              "fillmode": "overlay",
              "size": 10,
              "solidity": 0.2
             }
            },
            "type": "histogram"
           }
          ],
          "histogram2d": [
           {
            "colorbar": {
             "outlinewidth": 0,
             "ticks": ""
            },
            "colorscale": [
             [
              0,
              "#0d0887"
             ],
             [
              0.1111111111111111,
              "#46039f"
             ],
             [
              0.2222222222222222,
              "#7201a8"
             ],
             [
              0.3333333333333333,
              "#9c179e"
             ],
             [
              0.4444444444444444,
              "#bd3786"
             ],
             [
              0.5555555555555556,
              "#d8576b"
             ],
             [
              0.6666666666666666,
              "#ed7953"
             ],
             [
              0.7777777777777778,
              "#fb9f3a"
             ],
             [
              0.8888888888888888,
              "#fdca26"
             ],
             [
              1,
              "#f0f921"
             ]
            ],
            "type": "histogram2d"
           }
          ],
          "histogram2dcontour": [
           {
            "colorbar": {
             "outlinewidth": 0,
             "ticks": ""
            },
            "colorscale": [
             [
              0,
              "#0d0887"
             ],
             [
              0.1111111111111111,
              "#46039f"
             ],
             [
              0.2222222222222222,
              "#7201a8"
             ],
             [
              0.3333333333333333,
              "#9c179e"
             ],
             [
              0.4444444444444444,
              "#bd3786"
             ],
             [
              0.5555555555555556,
              "#d8576b"
             ],
             [
              0.6666666666666666,
              "#ed7953"
             ],
             [
              0.7777777777777778,
              "#fb9f3a"
             ],
             [
              0.8888888888888888,
              "#fdca26"
             ],
             [
              1,
              "#f0f921"
             ]
            ],
            "type": "histogram2dcontour"
           }
          ],
          "mesh3d": [
           {
            "colorbar": {
             "outlinewidth": 0,
             "ticks": ""
            },
            "type": "mesh3d"
           }
          ],
          "parcoords": [
           {
            "line": {
             "colorbar": {
              "outlinewidth": 0,
              "ticks": ""
             }
            },
            "type": "parcoords"
           }
          ],
          "pie": [
           {
            "automargin": true,
            "type": "pie"
           }
          ],
          "scatter": [
           {
            "fillpattern": {
             "fillmode": "overlay",
             "size": 10,
             "solidity": 0.2
            },
            "type": "scatter"
           }
          ],
          "scatter3d": [
           {
            "line": {
             "colorbar": {
              "outlinewidth": 0,
              "ticks": ""
             }
            },
            "marker": {
             "colorbar": {
              "outlinewidth": 0,
              "ticks": ""
             }
            },
            "type": "scatter3d"
           }
          ],
          "scattercarpet": [
           {
            "marker": {
             "colorbar": {
              "outlinewidth": 0,
              "ticks": ""
             }
            },
            "type": "scattercarpet"
           }
          ],
          "scattergeo": [
           {
            "marker": {
             "colorbar": {
              "outlinewidth": 0,
              "ticks": ""
             }
            },
            "type": "scattergeo"
           }
          ],
          "scattergl": [
           {
            "marker": {
             "colorbar": {
              "outlinewidth": 0,
              "ticks": ""
             }
            },
            "type": "scattergl"
           }
          ],
          "scattermapbox": [
           {
            "marker": {
             "colorbar": {
              "outlinewidth": 0,
              "ticks": ""
             }
            },
            "type": "scattermapbox"
           }
          ],
          "scatterpolar": [
           {
            "marker": {
             "colorbar": {
              "outlinewidth": 0,
              "ticks": ""
             }
            },
            "type": "scatterpolar"
           }
          ],
          "scatterpolargl": [
           {
            "marker": {
             "colorbar": {
              "outlinewidth": 0,
              "ticks": ""
             }
            },
            "type": "scatterpolargl"
           }
          ],
          "scatterternary": [
           {
            "marker": {
             "colorbar": {
              "outlinewidth": 0,
              "ticks": ""
             }
            },
            "type": "scatterternary"
           }
          ],
          "surface": [
           {
            "colorbar": {
             "outlinewidth": 0,
             "ticks": ""
            },
            "colorscale": [
             [
              0,
              "#0d0887"
             ],
             [
              0.1111111111111111,
              "#46039f"
             ],
             [
              0.2222222222222222,
              "#7201a8"
             ],
             [
              0.3333333333333333,
              "#9c179e"
             ],
             [
              0.4444444444444444,
              "#bd3786"
             ],
             [
              0.5555555555555556,
              "#d8576b"
             ],
             [
              0.6666666666666666,
              "#ed7953"
             ],
             [
              0.7777777777777778,
              "#fb9f3a"
             ],
             [
              0.8888888888888888,
              "#fdca26"
             ],
             [
              1,
              "#f0f921"
             ]
            ],
            "type": "surface"
           }
          ],
          "table": [
           {
            "cells": {
             "fill": {
              "color": "#EBF0F8"
             },
             "line": {
              "color": "white"
             }
            },
            "header": {
             "fill": {
              "color": "#C8D4E3"
             },
             "line": {
              "color": "white"
             }
            },
            "type": "table"
           }
          ]
         },
         "layout": {
          "annotationdefaults": {
           "arrowcolor": "#2a3f5f",
           "arrowhead": 0,
           "arrowwidth": 1
          },
          "autotypenumbers": "strict",
          "coloraxis": {
           "colorbar": {
            "outlinewidth": 0,
            "ticks": ""
           }
          },
          "colorscale": {
           "diverging": [
            [
             0,
             "#8e0152"
            ],
            [
             0.1,
             "#c51b7d"
            ],
            [
             0.2,
             "#de77ae"
            ],
            [
             0.3,
             "#f1b6da"
            ],
            [
             0.4,
             "#fde0ef"
            ],
            [
             0.5,
             "#f7f7f7"
            ],
            [
             0.6,
             "#e6f5d0"
            ],
            [
             0.7,
             "#b8e186"
            ],
            [
             0.8,
             "#7fbc41"
            ],
            [
             0.9,
             "#4d9221"
            ],
            [
             1,
             "#276419"
            ]
           ],
           "sequential": [
            [
             0,
             "#0d0887"
            ],
            [
             0.1111111111111111,
             "#46039f"
            ],
            [
             0.2222222222222222,
             "#7201a8"
            ],
            [
             0.3333333333333333,
             "#9c179e"
            ],
            [
             0.4444444444444444,
             "#bd3786"
            ],
            [
             0.5555555555555556,
             "#d8576b"
            ],
            [
             0.6666666666666666,
             "#ed7953"
            ],
            [
             0.7777777777777778,
             "#fb9f3a"
            ],
            [
             0.8888888888888888,
             "#fdca26"
            ],
            [
             1,
             "#f0f921"
            ]
           ],
           "sequentialminus": [
            [
             0,
             "#0d0887"
            ],
            [
             0.1111111111111111,
             "#46039f"
            ],
            [
             0.2222222222222222,
             "#7201a8"
            ],
            [
             0.3333333333333333,
             "#9c179e"
            ],
            [
             0.4444444444444444,
             "#bd3786"
            ],
            [
             0.5555555555555556,
             "#d8576b"
            ],
            [
             0.6666666666666666,
             "#ed7953"
            ],
            [
             0.7777777777777778,
             "#fb9f3a"
            ],
            [
             0.8888888888888888,
             "#fdca26"
            ],
            [
             1,
             "#f0f921"
            ]
           ]
          },
          "colorway": [
           "#636efa",
           "#EF553B",
           "#00cc96",
           "#ab63fa",
           "#FFA15A",
           "#19d3f3",
           "#FF6692",
           "#B6E880",
           "#FF97FF",
           "#FECB52"
          ],
          "font": {
           "color": "#2a3f5f"
          },
          "geo": {
           "bgcolor": "white",
           "lakecolor": "white",
           "landcolor": "white",
           "showlakes": true,
           "showland": true,
           "subunitcolor": "#C8D4E3"
          },
          "hoverlabel": {
           "align": "left"
          },
          "hovermode": "closest",
          "mapbox": {
           "style": "light"
          },
          "paper_bgcolor": "white",
          "plot_bgcolor": "white",
          "polar": {
           "angularaxis": {
            "gridcolor": "#EBF0F8",
            "linecolor": "#EBF0F8",
            "ticks": ""
           },
           "bgcolor": "white",
           "radialaxis": {
            "gridcolor": "#EBF0F8",
            "linecolor": "#EBF0F8",
            "ticks": ""
           }
          },
          "scene": {
           "xaxis": {
            "backgroundcolor": "white",
            "gridcolor": "#DFE8F3",
            "gridwidth": 2,
            "linecolor": "#EBF0F8",
            "showbackground": true,
            "ticks": "",
            "zerolinecolor": "#EBF0F8"
           },
           "yaxis": {
            "backgroundcolor": "white",
            "gridcolor": "#DFE8F3",
            "gridwidth": 2,
            "linecolor": "#EBF0F8",
            "showbackground": true,
            "ticks": "",
            "zerolinecolor": "#EBF0F8"
           },
           "zaxis": {
            "backgroundcolor": "white",
            "gridcolor": "#DFE8F3",
            "gridwidth": 2,
            "linecolor": "#EBF0F8",
            "showbackground": true,
            "ticks": "",
            "zerolinecolor": "#EBF0F8"
           }
          },
          "shapedefaults": {
           "line": {
            "color": "#2a3f5f"
           }
          },
          "ternary": {
           "aaxis": {
            "gridcolor": "#DFE8F3",
            "linecolor": "#A2B1C6",
            "ticks": ""
           },
           "baxis": {
            "gridcolor": "#DFE8F3",
            "linecolor": "#A2B1C6",
            "ticks": ""
           },
           "bgcolor": "white",
           "caxis": {
            "gridcolor": "#DFE8F3",
            "linecolor": "#A2B1C6",
            "ticks": ""
           }
          },
          "title": {
           "x": 0.05
          },
          "xaxis": {
           "automargin": true,
           "gridcolor": "#EBF0F8",
           "linecolor": "#EBF0F8",
           "ticks": "",
           "title": {
            "standoff": 15
           },
           "zerolinecolor": "#EBF0F8",
           "zerolinewidth": 2
          },
          "yaxis": {
           "automargin": true,
           "gridcolor": "#EBF0F8",
           "linecolor": "#EBF0F8",
           "ticks": "",
           "title": {
            "standoff": 15
           },
           "zerolinecolor": "#EBF0F8",
           "zerolinewidth": 2
          }
         }
        },
        "title": {
         "text": "Total de Defeitos por Data e Relação com Comprimento Médio (mm) (Suavizado)"
        },
        "xaxis": {
         "title": {
          "text": "Data"
         }
        },
        "yaxis": {
         "title": {
          "text": "Quantidade de Defeitos"
         }
        },
        "yaxis2": {
         "overlaying": "y",
         "side": "right",
         "title": {
          "text": "Comprimento Médio (mm)"
         }
        }
       }
      }
     },
     "metadata": {},
     "output_type": "display_data"
    },
    {
     "data": {
      "application/vnd.plotly.v1+json": {
       "config": {
        "plotlyServerURL": "https://plot.ly"
       },
       "data": [
        {
         "line": {
          "color": "blue"
         },
         "mode": "lines",
         "name": "Defeitos no Dia (Suavizado)",
         "type": "scatter",
         "x": [
          "2024-06-30T00:00:00",
          "2024-06-29T00:00:00",
          "2024-06-28T00:00:00",
          "2024-06-27T00:00:00",
          "2024-06-26T00:00:00",
          "2024-06-25T00:00:00",
          "2024-06-25T00:00:00",
          "2024-06-24T00:00:00",
          "2024-06-22T00:00:00",
          "2024-06-21T00:00:00",
          "2024-06-20T00:00:00",
          "2024-06-19T00:00:00",
          "2024-06-18T00:00:00",
          "2024-06-17T00:00:00",
          "2024-06-16T00:00:00",
          "2024-06-15T00:00:00",
          "2024-06-15T00:00:00",
          "2024-06-14T00:00:00",
          "2024-06-13T00:00:00",
          "2024-06-12T00:00:00",
          "2024-06-11T00:00:00",
          "2024-06-10T00:00:00",
          "2024-06-09T00:00:00",
          "2024-06-08T00:00:00",
          "2024-06-07T00:00:00",
          "2024-06-06T00:00:00",
          "2024-06-05T00:00:00",
          "2024-06-04T00:00:00",
          "2024-06-03T00:00:00",
          "2024-06-02T00:00:00",
          "2024-06-02T00:00:00",
          "2024-06-01T00:00:00",
          "2024-05-31T00:00:00",
          "2024-05-31T00:00:00",
          "2024-05-30T00:00:00",
          "2024-05-29T00:00:00",
          "2024-05-28T00:00:00",
          "2024-05-25T00:00:00",
          "2024-05-25T00:00:00",
          "2024-05-24T00:00:00",
          "2024-05-23T00:00:00",
          "2024-05-22T00:00:00",
          "2024-05-21T00:00:00",
          "2024-05-20T00:00:00",
          "2024-05-19T00:00:00",
          "2024-05-18T00:00:00",
          "2024-05-17T00:00:00",
          "2024-05-16T00:00:00",
          "2024-05-15T00:00:00",
          "2024-05-15T00:00:00",
          "2024-05-14T00:00:00",
          "2024-05-13T00:00:00",
          "2024-05-12T00:00:00",
          "2024-05-11T00:00:00",
          "2024-05-10T00:00:00",
          "2024-05-09T00:00:00",
          "2024-05-08T00:00:00",
          "2024-05-07T00:00:00",
          "2024-05-06T00:00:00",
          "2024-05-05T00:00:00",
          "2024-05-04T00:00:00",
          "2024-05-03T00:00:00",
          "2024-05-02T00:00:00",
          "2024-05-02T00:00:00",
          "2024-05-01T00:00:00",
          "2024-04-30T00:00:00",
          "2024-04-29T00:00:00",
          "2024-04-28T00:00:00",
          "2024-04-28T00:00:00",
          "2024-04-27T00:00:00",
          "2024-04-26T00:00:00",
          "2024-04-26T00:00:00",
          "2024-04-25T00:00:00",
          "2024-04-24T00:00:00",
          "2024-04-24T00:00:00",
          "2024-04-23T00:00:00",
          "2024-04-22T00:00:00",
          "2024-04-22T00:00:00",
          "2024-04-21T00:00:00",
          "2024-04-20T00:00:00",
          "2024-04-20T00:00:00",
          "2024-04-19T00:00:00",
          "2024-04-18T00:00:00",
          "2024-04-18T00:00:00",
          "2024-04-17T00:00:00",
          "2024-04-16T00:00:00",
          "2024-04-15T00:00:00",
          "2024-04-14T00:00:00",
          "2024-04-13T00:00:00",
          "2024-04-12T00:00:00",
          "2024-04-11T00:00:00",
          "2024-04-11T00:00:00",
          "2024-04-10T00:00:00",
          "2024-04-09T00:00:00",
          "2024-04-08T00:00:00",
          "2024-04-08T00:00:00",
          "2024-04-07T00:00:00",
          "2024-04-06T00:00:00",
          "2024-04-05T00:00:00",
          "2024-04-04T00:00:00",
          "2024-04-04T00:00:00",
          "2024-04-03T00:00:00",
          "2024-04-02T00:00:00",
          "2024-04-01T00:00:00",
          "2024-03-30T00:00:00",
          "2024-03-29T00:00:00",
          "2024-03-28T00:00:00",
          "2024-03-27T00:00:00",
          "2024-03-26T00:00:00",
          "2024-03-25T00:00:00",
          "2024-03-25T00:00:00",
          "2024-03-24T00:00:00",
          "2024-03-23T00:00:00",
          "2024-03-22T00:00:00",
          "2024-03-21T00:00:00",
          "2024-03-20T00:00:00",
          "2024-03-19T00:00:00",
          "2024-03-18T00:00:00",
          "2024-03-17T00:00:00",
          "2024-03-16T00:00:00",
          "2024-03-15T00:00:00",
          "2024-03-14T00:00:00",
          "2024-03-13T00:00:00",
          "2024-03-13T00:00:00",
          "2024-03-12T00:00:00",
          "2024-03-11T00:00:00",
          "2024-03-11T00:00:00",
          "2024-03-10T00:00:00",
          "2024-03-09T00:00:00",
          "2024-03-08T00:00:00",
          "2024-03-07T00:00:00",
          "2024-03-06T00:00:00",
          "2024-03-05T00:00:00",
          "2024-03-04T00:00:00",
          "2024-03-03T00:00:00",
          "2024-03-02T00:00:00",
          "2024-03-01T00:00:00",
          "2024-02-29T00:00:00",
          "2024-02-28T00:00:00",
          "2024-02-27T00:00:00",
          "2024-02-26T00:00:00",
          "2024-02-25T00:00:00",
          "2024-02-24T00:00:00",
          "2024-02-23T00:00:00",
          "2024-02-22T00:00:00",
          "2024-02-21T00:00:00",
          "2024-02-21T00:00:00",
          "2024-02-20T00:00:00",
          "2024-02-19T00:00:00",
          "2024-02-18T00:00:00",
          "2024-02-17T00:00:00",
          "2024-02-16T00:00:00",
          "2024-02-14T00:00:00",
          "2024-02-14T00:00:00",
          "2024-02-13T00:00:00",
          "2024-02-12T00:00:00",
          "2024-02-11T00:00:00",
          "2024-02-10T00:00:00",
          "2024-02-09T00:00:00",
          "2024-02-08T00:00:00",
          "2024-02-08T00:00:00",
          "2024-02-07T00:00:00",
          "2024-02-06T00:00:00",
          "2024-02-05T00:00:00",
          "2024-02-04T00:00:00",
          "2024-02-03T00:00:00",
          "2024-02-02T00:00:00",
          "2024-02-01T00:00:00",
          "2024-01-31T00:00:00",
          "2024-01-30T00:00:00",
          "2024-01-29T00:00:00",
          "2024-01-28T00:00:00",
          "2024-01-28T00:00:00",
          "2024-01-27T00:00:00",
          "2024-01-26T00:00:00",
          "2024-01-25T00:00:00",
          "2024-01-22T00:00:00",
          "2024-01-21T00:00:00",
          "2024-01-20T00:00:00",
          "2024-01-19T00:00:00",
          "2024-01-18T00:00:00",
          "2024-01-17T00:00:00",
          "2024-01-16T00:00:00",
          "2024-01-15T00:00:00",
          "2024-01-14T00:00:00",
          "2024-01-13T00:00:00",
          "2024-01-12T00:00:00",
          "2024-01-11T00:00:00",
          "2024-01-11T00:00:00",
          "2024-01-10T00:00:00",
          "2024-01-09T00:00:00",
          "2024-01-08T00:00:00",
          "2024-01-07T00:00:00",
          "2024-01-06T00:00:00",
          "2024-01-05T00:00:00",
          "2024-01-04T00:00:00",
          "2024-01-03T00:00:00",
          "2024-01-03T00:00:00",
          "2024-01-02T00:00:00",
          "2024-01-01T00:00:00"
         ],
         "y": [
          null,
          null,
          null,
          244.14285714285714,
          241,
          239.57142857142858,
          219.71428571428572,
          216.57142857142858,
          207.28571428571428,
          197.42857142857142,
          180.14285714285714,
          175.85714285714286,
          181.42857142857142,
          204.71428571428572,
          204.57142857142858,
          202.57142857142858,
          197.85714285714286,
          203.14285714285714,
          202.28571428571428,
          201.85714285714286,
          210.57142857142858,
          217.42857142857142,
          231.42857142857142,
          241.14285714285714,
          243.57142857142858,
          245.14285714285714,
          234.85714285714286,
          215.42857142857142,
          211,
          206.14285714285714,
          206.71428571428572,
          210.28571428571428,
          205.85714285714286,
          212,
          225.42857142857142,
          232.42857142857142,
          226,
          216.85714285714286,
          211.85714285714286,
          219.42857142857142,
          218.42857142857142,
          218.85714285714286,
          211.85714285714286,
          214.14285714285714,
          238.85714285714286,
          243.42857142857142,
          243,
          240.85714285714286,
          231,
          223.28571428571428,
          213.85714285714286,
          189.57142857142858,
          183.28571428571428,
          177.85714285714286,
          178.14285714285714,
          177.71428571428572,
          186.28571428571428,
          211.42857142857142,
          235.85714285714286,
          239.57142857142858,
          242.42857142857142,
          241.42857142857142,
          242.42857142857142,
          239.57142857142858,
          223.42857142857142,
          203.14285714285714,
          211.14285714285714,
          209,
          210.71428571428572,
          217.14285714285714,
          224.42857142857142,
          229.85714285714286,
          246.57142857142858,
          250.71428571428572,
          265,
          269.42857142857144,
          268,
          265.85714285714283,
          256.2857142857143,
          238,
          224.42857142857142,
          207.28571428571428,
          199.14285714285714,
          192,
          186,
          185.57142857142858,
          186.42857142857142,
          182.85714285714286,
          182.85714285714286,
          185.85714285714286,
          189,
          190.85714285714286,
          194.57142857142858,
          192.42857142857142,
          198,
          207.28571428571428,
          196.28571428571428,
          183,
          194.85714285714286,
          210.85714285714286,
          214.42857142857142,
          209,
          198.42857142857142,
          204.28571428571428,
          215,
          204.14285714285714,
          186.28571428571428,
          182.85714285714286,
          194.28571428571428,
          203.42857142857142,
          219.28571428571428,
          235,
          227.85714285714286,
          224.57142857142858,
          223.57142857142858,
          216.42857142857142,
          212.57142857142858,
          202.85714285714286,
          187.14285714285714,
          188.71428571428572,
          189.28571428571428,
          189.85714285714286,
          180.85714285714286,
          172.28571428571428,
          169.42857142857142,
          164.85714285714286,
          167.14285714285714,
          168.71428571428572,
          161,
          163.71428571428572,
          166.28571428571428,
          167.14285714285714,
          172.28571428571428,
          169.28571428571428,
          170.28571428571428,
          176.28571428571428,
          181,
          182.28571428571428,
          184.42857142857142,
          187.14285714285714,
          194.14285714285714,
          209.14285714285714,
          209.57142857142858,
          207.42857142857142,
          214.28571428571428,
          216.28571428571428,
          218.85714285714286,
          223.42857142857142,
          217.42857142857142,
          209.14285714285714,
          200.85714285714286,
          213.28571428571428,
          223,
          229.85714285714286,
          233.71428571428572,
          241,
          258.14285714285717,
          275.2857142857143,
          249.85714285714286,
          233.57142857142858,
          221.28571428571428,
          210.57142857142858,
          193.71428571428572,
          190.57142857142858,
          184.71428571428572,
          199.28571428571428,
          204.28571428571428,
          211.71428571428572,
          224.57142857142858,
          239.42857142857142,
          249,
          256.7142857142857,
          253.71428571428572,
          252.57142857142858,
          249.85714285714286,
          240.28571428571428,
          229,
          218.71428571428572,
          210.57142857142858,
          213.85714285714286,
          219,
          220,
          212.42857142857142,
          216.42857142857142,
          227.57142857142858,
          241.14285714285714,
          239.85714285714286,
          234.42857142857142,
          234.14285714285714,
          242.85714285714286,
          243.14285714285714,
          239.57142857142858,
          233.28571428571428,
          233.28571428571428,
          237.71428571428572,
          234,
          223.57142857142858,
          null,
          null,
          null
         ]
        },
        {
         "line": {
          "color": "purple",
          "dash": "dash"
         },
         "mode": "lines",
         "name": "Peso Médio (g) (Suavizado)",
         "type": "scatter",
         "x": [
          "2024-06-30T00:00:00",
          "2024-06-29T00:00:00",
          "2024-06-28T00:00:00",
          "2024-06-27T00:00:00",
          "2024-06-26T00:00:00",
          "2024-06-25T00:00:00",
          "2024-06-25T00:00:00",
          "2024-06-24T00:00:00",
          "2024-06-22T00:00:00",
          "2024-06-21T00:00:00",
          "2024-06-20T00:00:00",
          "2024-06-19T00:00:00",
          "2024-06-18T00:00:00",
          "2024-06-17T00:00:00",
          "2024-06-16T00:00:00",
          "2024-06-15T00:00:00",
          "2024-06-15T00:00:00",
          "2024-06-14T00:00:00",
          "2024-06-13T00:00:00",
          "2024-06-12T00:00:00",
          "2024-06-11T00:00:00",
          "2024-06-10T00:00:00",
          "2024-06-09T00:00:00",
          "2024-06-08T00:00:00",
          "2024-06-07T00:00:00",
          "2024-06-06T00:00:00",
          "2024-06-05T00:00:00",
          "2024-06-04T00:00:00",
          "2024-06-03T00:00:00",
          "2024-06-02T00:00:00",
          "2024-06-02T00:00:00",
          "2024-06-01T00:00:00",
          "2024-05-31T00:00:00",
          "2024-05-31T00:00:00",
          "2024-05-30T00:00:00",
          "2024-05-29T00:00:00",
          "2024-05-28T00:00:00",
          "2024-05-25T00:00:00",
          "2024-05-25T00:00:00",
          "2024-05-24T00:00:00",
          "2024-05-23T00:00:00",
          "2024-05-22T00:00:00",
          "2024-05-21T00:00:00",
          "2024-05-20T00:00:00",
          "2024-05-19T00:00:00",
          "2024-05-18T00:00:00",
          "2024-05-17T00:00:00",
          "2024-05-16T00:00:00",
          "2024-05-15T00:00:00",
          "2024-05-15T00:00:00",
          "2024-05-14T00:00:00",
          "2024-05-13T00:00:00",
          "2024-05-12T00:00:00",
          "2024-05-11T00:00:00",
          "2024-05-10T00:00:00",
          "2024-05-09T00:00:00",
          "2024-05-08T00:00:00",
          "2024-05-07T00:00:00",
          "2024-05-06T00:00:00",
          "2024-05-05T00:00:00",
          "2024-05-04T00:00:00",
          "2024-05-03T00:00:00",
          "2024-05-02T00:00:00",
          "2024-05-02T00:00:00",
          "2024-05-01T00:00:00",
          "2024-04-30T00:00:00",
          "2024-04-29T00:00:00",
          "2024-04-28T00:00:00",
          "2024-04-28T00:00:00",
          "2024-04-27T00:00:00",
          "2024-04-26T00:00:00",
          "2024-04-26T00:00:00",
          "2024-04-25T00:00:00",
          "2024-04-24T00:00:00",
          "2024-04-24T00:00:00",
          "2024-04-23T00:00:00",
          "2024-04-22T00:00:00",
          "2024-04-22T00:00:00",
          "2024-04-21T00:00:00",
          "2024-04-20T00:00:00",
          "2024-04-20T00:00:00",
          "2024-04-19T00:00:00",
          "2024-04-18T00:00:00",
          "2024-04-18T00:00:00",
          "2024-04-17T00:00:00",
          "2024-04-16T00:00:00",
          "2024-04-15T00:00:00",
          "2024-04-14T00:00:00",
          "2024-04-13T00:00:00",
          "2024-04-12T00:00:00",
          "2024-04-11T00:00:00",
          "2024-04-11T00:00:00",
          "2024-04-10T00:00:00",
          "2024-04-09T00:00:00",
          "2024-04-08T00:00:00",
          "2024-04-08T00:00:00",
          "2024-04-07T00:00:00",
          "2024-04-06T00:00:00",
          "2024-04-05T00:00:00",
          "2024-04-04T00:00:00",
          "2024-04-04T00:00:00",
          "2024-04-03T00:00:00",
          "2024-04-02T00:00:00",
          "2024-04-01T00:00:00",
          "2024-03-30T00:00:00",
          "2024-03-29T00:00:00",
          "2024-03-28T00:00:00",
          "2024-03-27T00:00:00",
          "2024-03-26T00:00:00",
          "2024-03-25T00:00:00",
          "2024-03-25T00:00:00",
          "2024-03-24T00:00:00",
          "2024-03-23T00:00:00",
          "2024-03-22T00:00:00",
          "2024-03-21T00:00:00",
          "2024-03-20T00:00:00",
          "2024-03-19T00:00:00",
          "2024-03-18T00:00:00",
          "2024-03-17T00:00:00",
          "2024-03-16T00:00:00",
          "2024-03-15T00:00:00",
          "2024-03-14T00:00:00",
          "2024-03-13T00:00:00",
          "2024-03-13T00:00:00",
          "2024-03-12T00:00:00",
          "2024-03-11T00:00:00",
          "2024-03-11T00:00:00",
          "2024-03-10T00:00:00",
          "2024-03-09T00:00:00",
          "2024-03-08T00:00:00",
          "2024-03-07T00:00:00",
          "2024-03-06T00:00:00",
          "2024-03-05T00:00:00",
          "2024-03-04T00:00:00",
          "2024-03-03T00:00:00",
          "2024-03-02T00:00:00",
          "2024-03-01T00:00:00",
          "2024-02-29T00:00:00",
          "2024-02-28T00:00:00",
          "2024-02-27T00:00:00",
          "2024-02-26T00:00:00",
          "2024-02-25T00:00:00",
          "2024-02-24T00:00:00",
          "2024-02-23T00:00:00",
          "2024-02-22T00:00:00",
          "2024-02-21T00:00:00",
          "2024-02-21T00:00:00",
          "2024-02-20T00:00:00",
          "2024-02-19T00:00:00",
          "2024-02-18T00:00:00",
          "2024-02-17T00:00:00",
          "2024-02-16T00:00:00",
          "2024-02-14T00:00:00",
          "2024-02-14T00:00:00",
          "2024-02-13T00:00:00",
          "2024-02-12T00:00:00",
          "2024-02-11T00:00:00",
          "2024-02-10T00:00:00",
          "2024-02-09T00:00:00",
          "2024-02-08T00:00:00",
          "2024-02-08T00:00:00",
          "2024-02-07T00:00:00",
          "2024-02-06T00:00:00",
          "2024-02-05T00:00:00",
          "2024-02-04T00:00:00",
          "2024-02-03T00:00:00",
          "2024-02-02T00:00:00",
          "2024-02-01T00:00:00",
          "2024-01-31T00:00:00",
          "2024-01-30T00:00:00",
          "2024-01-29T00:00:00",
          "2024-01-28T00:00:00",
          "2024-01-28T00:00:00",
          "2024-01-27T00:00:00",
          "2024-01-26T00:00:00",
          "2024-01-25T00:00:00",
          "2024-01-22T00:00:00",
          "2024-01-21T00:00:00",
          "2024-01-20T00:00:00",
          "2024-01-19T00:00:00",
          "2024-01-18T00:00:00",
          "2024-01-17T00:00:00",
          "2024-01-16T00:00:00",
          "2024-01-15T00:00:00",
          "2024-01-14T00:00:00",
          "2024-01-13T00:00:00",
          "2024-01-12T00:00:00",
          "2024-01-11T00:00:00",
          "2024-01-11T00:00:00",
          "2024-01-10T00:00:00",
          "2024-01-09T00:00:00",
          "2024-01-08T00:00:00",
          "2024-01-07T00:00:00",
          "2024-01-06T00:00:00",
          "2024-01-05T00:00:00",
          "2024-01-04T00:00:00",
          "2024-01-03T00:00:00",
          "2024-01-03T00:00:00",
          "2024-01-02T00:00:00",
          "2024-01-01T00:00:00"
         ],
         "y": [
          null,
          null,
          null,
          161.91428571428574,
          155.1285714285714,
          148.44285714285712,
          148.32857142857145,
          148.41428571428574,
          148.5,
          152.57142857142858,
          163.47142857142856,
          174.1,
          176.15714285714284,
          180.14285714285714,
          175.47142857142856,
          170.70000000000002,
          162.17142857142858,
          153.6142857142857,
          145.11428571428573,
          145.1,
          136.55714285714285,
          141.7,
          147.25714285714284,
          153.31428571428572,
          159.51428571428573,
          165.78571428571428,
          172.07142857142858,
          177.34285714285713,
          177.45714285714286,
          177.05714285714288,
          179.7428571428571,
          182.3857142857143,
          185.04285714285714,
          187.6,
          181.78571428571428,
          185.3857142857143,
          179.74285714285716,
          170.42857142857142,
          161.1,
          151.68571428571428,
          142.3,
          142.25714285714284,
          132.84285714285716,
          132.78571428571428,
          132.45714285714286,
          131.92857142857142,
          137.8857142857143,
          143.92857142857142,
          149.9714285714286,
          155.9,
          161.77142857142857,
          167.9857142857143,
          174.4,
          174.38571428571433,
          174.34285714285716,
          174.31428571428572,
          174.25714285714284,
          176.45714285714283,
          178.52857142857144,
          175.1857142857143,
          177.14285714285714,
          173.98571428571427,
          170.67142857142858,
          167.4,
          162.9857142857143,
          157.5142857142857,
          158.47142857142856,
          154.18571428571428,
          149.07142857142858,
          144.05714285714285,
          139.1,
          139.71428571428572,
          141.28571428571428,
          141.8714285714286,
          137.00000000000003,
          138.04285714285714,
          150.29999999999998,
          151.3857142857143,
          157.1,
          162.15714285714284,
          168.05714285714285,
          178.44285714285715,
          188.9,
          188.08571428571432,
          198.51428571428573,
          197.7428571428571,
          197.72857142857146,
          196.34285714285716,
          196.14285714285714,
          195.58571428571426,
          195.05714285714285,
          194.47142857142856,
          193.94285714285715,
          193.42857142857142,
          193.15714285714284,
          192.79999999999998,
          192.64285714285714,
          189.9857142857143,
          187.28571428571428,
          184.48571428571427,
          181.5,
          178.68571428571428,
          175.64285714285714,
          172.7571428571429,
          172.44285714285712,
          172.1285714285714,
          171.81428571428572,
          171.94285714285712,
          172.07142857142858,
          172.1142857142857,
          172.21428571428572,
          172.20000000000002,
          172.3857142857143,
          172.58571428571426,
          172.57142857142858,
          172.67142857142858,
          172.78571428571428,
          172.64285714285717,
          172.31428571428572,
          172.07142857142858,
          175.20000000000002,
          178.24285714285716,
          177.82857142857142,
          179.34285714285716,
          179.07142857142858,
          179.07142857142858,
          178.91428571428574,
          175.4,
          171.87142857142857,
          171.7571428571429,
          169.75714285714284,
          169.72857142857143,
          169.72857142857143,
          169.62857142857143,
          169.5,
          169.5142857142857,
          169.6142857142857,
          169.72857142857143,
          169.87142857142857,
          169.91428571428574,
          170.04285714285717,
          170.32857142857142,
          170.58571428571426,
          170.58571428571432,
          170.74285714285716,
          170.9,
          171.14285714285714,
          171.34285714285716,
          171.41428571428568,
          171.42857142857142,
          174.38571428571427,
          177.28571428571428,
          180.15714285714284,
          183.0142857142857,
          185.72857142857143,
          188.4857142857143,
          181.44285714285715,
          181.52857142857144,
          171.55714285714285,
          168.57142857142858,
          165.64285714285714,
          162.81428571428572,
          160,
          166.97142857142856,
          164.1,
          171.20000000000002,
          171.09999999999997,
          171.04285714285714,
          170.94285714285712,
          170.70000000000002,
          170.62857142857143,
          170.58571428571426,
          170.7,
          167.67142857142858,
          164.47142857142856,
          161.2,
          158.08571428571426,
          154.8857142857143,
          151.45714285714286,
          147.82857142857142,
          147.5,
          147.17142857142855,
          147.3142857142857,
          147.41428571428574,
          147.0142857142857,
          150.15714285714284,
          153.34285714285716,
          156.62857142857143,
          159.57142857142858,
          162.8857142857143,
          165.9857142857143,
          170.02857142857144,
          170.1,
          169.87142857142857,
          169.82857142857142,
          170.08571428571426,
          169.6142857142857,
          null,
          null,
          null
         ],
         "yaxis": "y2"
        }
       ],
       "layout": {
        "legend": {
         "orientation": "h",
         "title": {
          "text": "Legenda:"
         },
         "x": 0.5,
         "xanchor": "center",
         "y": -0.6,
         "yanchor": "bottom"
        },
        "template": {
         "data": {
          "bar": [
           {
            "error_x": {
             "color": "#2a3f5f"
            },
            "error_y": {
             "color": "#2a3f5f"
            },
            "marker": {
             "line": {
              "color": "white",
              "width": 0.5
             },
             "pattern": {
              "fillmode": "overlay",
              "size": 10,
              "solidity": 0.2
             }
            },
            "type": "bar"
           }
          ],
          "barpolar": [
           {
            "marker": {
             "line": {
              "color": "white",
              "width": 0.5
             },
             "pattern": {
              "fillmode": "overlay",
              "size": 10,
              "solidity": 0.2
             }
            },
            "type": "barpolar"
           }
          ],
          "carpet": [
           {
            "aaxis": {
             "endlinecolor": "#2a3f5f",
             "gridcolor": "#C8D4E3",
             "linecolor": "#C8D4E3",
             "minorgridcolor": "#C8D4E3",
             "startlinecolor": "#2a3f5f"
            },
            "baxis": {
             "endlinecolor": "#2a3f5f",
             "gridcolor": "#C8D4E3",
             "linecolor": "#C8D4E3",
             "minorgridcolor": "#C8D4E3",
             "startlinecolor": "#2a3f5f"
            },
            "type": "carpet"
           }
          ],
          "choropleth": [
           {
            "colorbar": {
             "outlinewidth": 0,
             "ticks": ""
            },
            "type": "choropleth"
           }
          ],
          "contour": [
           {
            "colorbar": {
             "outlinewidth": 0,
             "ticks": ""
            },
            "colorscale": [
             [
              0,
              "#0d0887"
             ],
             [
              0.1111111111111111,
              "#46039f"
             ],
             [
              0.2222222222222222,
              "#7201a8"
             ],
             [
              0.3333333333333333,
              "#9c179e"
             ],
             [
              0.4444444444444444,
              "#bd3786"
             ],
             [
              0.5555555555555556,
              "#d8576b"
             ],
             [
              0.6666666666666666,
              "#ed7953"
             ],
             [
              0.7777777777777778,
              "#fb9f3a"
             ],
             [
              0.8888888888888888,
              "#fdca26"
             ],
             [
              1,
              "#f0f921"
             ]
            ],
            "type": "contour"
           }
          ],
          "contourcarpet": [
           {
            "colorbar": {
             "outlinewidth": 0,
             "ticks": ""
            },
            "type": "contourcarpet"
           }
          ],
          "heatmap": [
           {
            "colorbar": {
             "outlinewidth": 0,
             "ticks": ""
            },
            "colorscale": [
             [
              0,
              "#0d0887"
             ],
             [
              0.1111111111111111,
              "#46039f"
             ],
             [
              0.2222222222222222,
              "#7201a8"
             ],
             [
              0.3333333333333333,
              "#9c179e"
             ],
             [
              0.4444444444444444,
              "#bd3786"
             ],
             [
              0.5555555555555556,
              "#d8576b"
             ],
             [
              0.6666666666666666,
              "#ed7953"
             ],
             [
              0.7777777777777778,
              "#fb9f3a"
             ],
             [
              0.8888888888888888,
              "#fdca26"
             ],
             [
              1,
              "#f0f921"
             ]
            ],
            "type": "heatmap"
           }
          ],
          "heatmapgl": [
           {
            "colorbar": {
             "outlinewidth": 0,
             "ticks": ""
            },
            "colorscale": [
             [
              0,
              "#0d0887"
             ],
             [
              0.1111111111111111,
              "#46039f"
             ],
             [
              0.2222222222222222,
              "#7201a8"
             ],
             [
              0.3333333333333333,
              "#9c179e"
             ],
             [
              0.4444444444444444,
              "#bd3786"
             ],
             [
              0.5555555555555556,
              "#d8576b"
             ],
             [
              0.6666666666666666,
              "#ed7953"
             ],
             [
              0.7777777777777778,
              "#fb9f3a"
             ],
             [
              0.8888888888888888,
              "#fdca26"
             ],
             [
              1,
              "#f0f921"
             ]
            ],
            "type": "heatmapgl"
           }
          ],
          "histogram": [
           {
            "marker": {
             "pattern": {
              "fillmode": "overlay",
              "size": 10,
              "solidity": 0.2
             }
            },
            "type": "histogram"
           }
          ],
          "histogram2d": [
           {
            "colorbar": {
             "outlinewidth": 0,
             "ticks": ""
            },
            "colorscale": [
             [
              0,
              "#0d0887"
             ],
             [
              0.1111111111111111,
              "#46039f"
             ],
             [
              0.2222222222222222,
              "#7201a8"
             ],
             [
              0.3333333333333333,
              "#9c179e"
             ],
             [
              0.4444444444444444,
              "#bd3786"
             ],
             [
              0.5555555555555556,
              "#d8576b"
             ],
             [
              0.6666666666666666,
              "#ed7953"
             ],
             [
              0.7777777777777778,
              "#fb9f3a"
             ],
             [
              0.8888888888888888,
              "#fdca26"
             ],
             [
              1,
              "#f0f921"
             ]
            ],
            "type": "histogram2d"
           }
          ],
          "histogram2dcontour": [
           {
            "colorbar": {
             "outlinewidth": 0,
             "ticks": ""
            },
            "colorscale": [
             [
              0,
              "#0d0887"
             ],
             [
              0.1111111111111111,
              "#46039f"
             ],
             [
              0.2222222222222222,
              "#7201a8"
             ],
             [
              0.3333333333333333,
              "#9c179e"
             ],
             [
              0.4444444444444444,
              "#bd3786"
             ],
             [
              0.5555555555555556,
              "#d8576b"
             ],
             [
              0.6666666666666666,
              "#ed7953"
             ],
             [
              0.7777777777777778,
              "#fb9f3a"
             ],
             [
              0.8888888888888888,
              "#fdca26"
             ],
             [
              1,
              "#f0f921"
             ]
            ],
            "type": "histogram2dcontour"
           }
          ],
          "mesh3d": [
           {
            "colorbar": {
             "outlinewidth": 0,
             "ticks": ""
            },
            "type": "mesh3d"
           }
          ],
          "parcoords": [
           {
            "line": {
             "colorbar": {
              "outlinewidth": 0,
              "ticks": ""
             }
            },
            "type": "parcoords"
           }
          ],
          "pie": [
           {
            "automargin": true,
            "type": "pie"
           }
          ],
          "scatter": [
           {
            "fillpattern": {
             "fillmode": "overlay",
             "size": 10,
             "solidity": 0.2
            },
            "type": "scatter"
           }
          ],
          "scatter3d": [
           {
            "line": {
             "colorbar": {
              "outlinewidth": 0,
              "ticks": ""
             }
            },
            "marker": {
             "colorbar": {
              "outlinewidth": 0,
              "ticks": ""
             }
            },
            "type": "scatter3d"
           }
          ],
          "scattercarpet": [
           {
            "marker": {
             "colorbar": {
              "outlinewidth": 0,
              "ticks": ""
             }
            },
            "type": "scattercarpet"
           }
          ],
          "scattergeo": [
           {
            "marker": {
             "colorbar": {
              "outlinewidth": 0,
              "ticks": ""
             }
            },
            "type": "scattergeo"
           }
          ],
          "scattergl": [
           {
            "marker": {
             "colorbar": {
              "outlinewidth": 0,
              "ticks": ""
             }
            },
            "type": "scattergl"
           }
          ],
          "scattermapbox": [
           {
            "marker": {
             "colorbar": {
              "outlinewidth": 0,
              "ticks": ""
             }
            },
            "type": "scattermapbox"
           }
          ],
          "scatterpolar": [
           {
            "marker": {
             "colorbar": {
              "outlinewidth": 0,
              "ticks": ""
             }
            },
            "type": "scatterpolar"
           }
          ],
          "scatterpolargl": [
           {
            "marker": {
             "colorbar": {
              "outlinewidth": 0,
              "ticks": ""
             }
            },
            "type": "scatterpolargl"
           }
          ],
          "scatterternary": [
           {
            "marker": {
             "colorbar": {
              "outlinewidth": 0,
              "ticks": ""
             }
            },
            "type": "scatterternary"
           }
          ],
          "surface": [
           {
            "colorbar": {
             "outlinewidth": 0,
             "ticks": ""
            },
            "colorscale": [
             [
              0,
              "#0d0887"
             ],
             [
              0.1111111111111111,
              "#46039f"
             ],
             [
              0.2222222222222222,
              "#7201a8"
             ],
             [
              0.3333333333333333,
              "#9c179e"
             ],
             [
              0.4444444444444444,
              "#bd3786"
             ],
             [
              0.5555555555555556,
              "#d8576b"
             ],
             [
              0.6666666666666666,
              "#ed7953"
             ],
             [
              0.7777777777777778,
              "#fb9f3a"
             ],
             [
              0.8888888888888888,
              "#fdca26"
             ],
             [
              1,
              "#f0f921"
             ]
            ],
            "type": "surface"
           }
          ],
          "table": [
           {
            "cells": {
             "fill": {
              "color": "#EBF0F8"
             },
             "line": {
              "color": "white"
             }
            },
            "header": {
             "fill": {
              "color": "#C8D4E3"
             },
             "line": {
              "color": "white"
             }
            },
            "type": "table"
           }
          ]
         },
         "layout": {
          "annotationdefaults": {
           "arrowcolor": "#2a3f5f",
           "arrowhead": 0,
           "arrowwidth": 1
          },
          "autotypenumbers": "strict",
          "coloraxis": {
           "colorbar": {
            "outlinewidth": 0,
            "ticks": ""
           }
          },
          "colorscale": {
           "diverging": [
            [
             0,
             "#8e0152"
            ],
            [
             0.1,
             "#c51b7d"
            ],
            [
             0.2,
             "#de77ae"
            ],
            [
             0.3,
             "#f1b6da"
            ],
            [
             0.4,
             "#fde0ef"
            ],
            [
             0.5,
             "#f7f7f7"
            ],
            [
             0.6,
             "#e6f5d0"
            ],
            [
             0.7,
             "#b8e186"
            ],
            [
             0.8,
             "#7fbc41"
            ],
            [
             0.9,
             "#4d9221"
            ],
            [
             1,
             "#276419"
            ]
           ],
           "sequential": [
            [
             0,
             "#0d0887"
            ],
            [
             0.1111111111111111,
             "#46039f"
            ],
            [
             0.2222222222222222,
             "#7201a8"
            ],
            [
             0.3333333333333333,
             "#9c179e"
            ],
            [
             0.4444444444444444,
             "#bd3786"
            ],
            [
             0.5555555555555556,
             "#d8576b"
            ],
            [
             0.6666666666666666,
             "#ed7953"
            ],
            [
             0.7777777777777778,
             "#fb9f3a"
            ],
            [
             0.8888888888888888,
             "#fdca26"
            ],
            [
             1,
             "#f0f921"
            ]
           ],
           "sequentialminus": [
            [
             0,
             "#0d0887"
            ],
            [
             0.1111111111111111,
             "#46039f"
            ],
            [
             0.2222222222222222,
             "#7201a8"
            ],
            [
             0.3333333333333333,
             "#9c179e"
            ],
            [
             0.4444444444444444,
             "#bd3786"
            ],
            [
             0.5555555555555556,
             "#d8576b"
            ],
            [
             0.6666666666666666,
             "#ed7953"
            ],
            [
             0.7777777777777778,
             "#fb9f3a"
            ],
            [
             0.8888888888888888,
             "#fdca26"
            ],
            [
             1,
             "#f0f921"
            ]
           ]
          },
          "colorway": [
           "#636efa",
           "#EF553B",
           "#00cc96",
           "#ab63fa",
           "#FFA15A",
           "#19d3f3",
           "#FF6692",
           "#B6E880",
           "#FF97FF",
           "#FECB52"
          ],
          "font": {
           "color": "#2a3f5f"
          },
          "geo": {
           "bgcolor": "white",
           "lakecolor": "white",
           "landcolor": "white",
           "showlakes": true,
           "showland": true,
           "subunitcolor": "#C8D4E3"
          },
          "hoverlabel": {
           "align": "left"
          },
          "hovermode": "closest",
          "mapbox": {
           "style": "light"
          },
          "paper_bgcolor": "white",
          "plot_bgcolor": "white",
          "polar": {
           "angularaxis": {
            "gridcolor": "#EBF0F8",
            "linecolor": "#EBF0F8",
            "ticks": ""
           },
           "bgcolor": "white",
           "radialaxis": {
            "gridcolor": "#EBF0F8",
            "linecolor": "#EBF0F8",
            "ticks": ""
           }
          },
          "scene": {
           "xaxis": {
            "backgroundcolor": "white",
            "gridcolor": "#DFE8F3",
            "gridwidth": 2,
            "linecolor": "#EBF0F8",
            "showbackground": true,
            "ticks": "",
            "zerolinecolor": "#EBF0F8"
           },
           "yaxis": {
            "backgroundcolor": "white",
            "gridcolor": "#DFE8F3",
            "gridwidth": 2,
            "linecolor": "#EBF0F8",
            "showbackground": true,
            "ticks": "",
            "zerolinecolor": "#EBF0F8"
           },
           "zaxis": {
            "backgroundcolor": "white",
            "gridcolor": "#DFE8F3",
            "gridwidth": 2,
            "linecolor": "#EBF0F8",
            "showbackground": true,
            "ticks": "",
            "zerolinecolor": "#EBF0F8"
           }
          },
          "shapedefaults": {
           "line": {
            "color": "#2a3f5f"
           }
          },
          "ternary": {
           "aaxis": {
            "gridcolor": "#DFE8F3",
            "linecolor": "#A2B1C6",
            "ticks": ""
           },
           "baxis": {
            "gridcolor": "#DFE8F3",
            "linecolor": "#A2B1C6",
            "ticks": ""
           },
           "bgcolor": "white",
           "caxis": {
            "gridcolor": "#DFE8F3",
            "linecolor": "#A2B1C6",
            "ticks": ""
           }
          },
          "title": {
           "x": 0.05
          },
          "xaxis": {
           "automargin": true,
           "gridcolor": "#EBF0F8",
           "linecolor": "#EBF0F8",
           "ticks": "",
           "title": {
            "standoff": 15
           },
           "zerolinecolor": "#EBF0F8",
           "zerolinewidth": 2
          },
          "yaxis": {
           "automargin": true,
           "gridcolor": "#EBF0F8",
           "linecolor": "#EBF0F8",
           "ticks": "",
           "title": {
            "standoff": 15
           },
           "zerolinecolor": "#EBF0F8",
           "zerolinewidth": 2
          }
         }
        },
        "title": {
         "text": "Total de Defeitos por Data e Relação com Peso Médio (g) (Suavizado)"
        },
        "xaxis": {
         "title": {
          "text": "Data"
         }
        },
        "yaxis": {
         "title": {
          "text": "Quantidade de Defeitos"
         }
        },
        "yaxis2": {
         "overlaying": "y",
         "side": "right",
         "title": {
          "text": "Peso Médio (g)"
         }
        }
       }
      }
     },
     "metadata": {},
     "output_type": "display_data"
    }
   ],
   "source": [
    "# Suavização com Média Móvel\n",
    "def aplicar_media_movel(series, janela=5):\n",
    "    return series.rolling(window=janela, center=True).mean()\n",
    "\n",
    "# Ordenando os dados\n",
    "df_resumo_geral_reset = df_resumo_geral_reset.sort_values(\"Data de prod\", ascending=False)\n",
    "\n",
    "# Configuração das variáveis\n",
    "variaveis = [\n",
    "    {\"coluna\": \"Temperatura (F°)\", \"cor\": \"red\", \"nome\": \"Temperatura (F°)\"},\n",
    "    {\"coluna\": \"Diâmetro\", \"cor\": \"green\", \"nome\": \"Diâmetro\"},\n",
    "    {\"coluna\": \"Comprimento médio (mm)\", \"cor\": \"orange\", \"nome\": \"Comprimento Médio (mm)\"},\n",
    "    {\"coluna\": \"Peso médio (g)\", \"cor\": \"purple\", \"nome\": \"Peso Médio (g)\"}\n",
    "]\n",
    "\n",
    "# Tamanho da janela para a suavização\n",
    "janela_suavizacao = 7\n",
    "\n",
    "for var in variaveis:\n",
    "    fig = go.Figure()\n",
    "\n",
    "    # Suavizando as séries temporais\n",
    "    defeitos_suavizados = aplicar_media_movel(df_resumo_geral_reset[\"Total de Defeitos no Dia\"], janela=janela_suavizacao)\n",
    "    coluna_suavizada = aplicar_media_movel(df_resumo_geral_reset[var[\"coluna\"]], janela=janela_suavizacao)\n",
    "\n",
    "    # Gráfico dos defeitos suavizados\n",
    "    fig.add_trace(\n",
    "        go.Scatter(\n",
    "            x=df_resumo_geral_reset[\"Data de prod\"],\n",
    "            y=defeitos_suavizados,\n",
    "            mode=\"lines\",\n",
    "            name=\"Defeitos no Dia (Suavizado)\",\n",
    "            line=dict(color=\"blue\")\n",
    "        )\n",
    "    )\n",
    "\n",
    "    # Gráfico da variável suavizada\n",
    "    fig.add_trace(\n",
    "        go.Scatter(\n",
    "            x=df_resumo_geral_reset[\"Data de prod\"],\n",
    "            y=coluna_suavizada,\n",
    "            mode=\"lines\",\n",
    "            name=f\"{var['nome']} (Suavizado)\",\n",
    "            line=dict(color=var[\"cor\"], dash=\"dash\"),\n",
    "            yaxis=\"y2\"\n",
    "        )\n",
    "    )\n",
    "\n",
    "    # Atualizando o layout\n",
    "    fig.update_layout(\n",
    "        title=f\"Total de Defeitos por Data e Relação com {var['nome']} (Suavizado)\",\n",
    "        xaxis=dict(title=\"Data\"),\n",
    "        yaxis=dict(\n",
    "            title=\"Quantidade de Defeitos\"\n",
    "        ),\n",
    "        yaxis2=dict(\n",
    "            title=var[\"nome\"],\n",
    "            overlaying=\"y\",\n",
    "            side=\"right\"\n",
    "        ),\n",
    "        legend_title=\"Legenda:\",\n",
    "        template=\"plotly_white\"\n",
    "    )\n",
    "\n",
    "    fig.update_layout(\n",
    "    legend=dict(\n",
    "        orientation=\"h\",  # Orientação horizontal\n",
    "        yanchor=\"bottom\",  # Ancoragem no fundo\n",
    "        y=-0.6,  # Posiciona abaixo do gráfico\n",
    "        xanchor=\"center\",  # Centraliza horizontalmente\n",
    "        x=0.5  # Posição horizontal central\n",
    "        )\n",
    "    )\n",
    "\n",
    "\n",
    "    # Exibindo o gráfico\n",
    "    fig.show()\n"
   ]
  },
  {
   "cell_type": "markdown",
   "metadata": {},
   "source": [
    "### Analisando se a coluna `Total de Defeitos no Dia` é afetada pela `Temperatura (F°)`"
   ]
  },
  {
   "cell_type": "code",
   "execution_count": 81,
   "metadata": {},
   "outputs": [
    {
     "data": {
      "application/vnd.plotly.v1+json": {
       "config": {
        "plotlyServerURL": "https://plot.ly"
       },
       "data": [
        {
         "customdata": [
          [
           "Sujo de óleo"
          ],
          [
           "Sujo de óleo"
          ],
          [
           "Sujo de óleo"
          ],
          [
           "Sujo de óleo"
          ],
          [
           "Sujo de óleo"
          ],
          [
           "Sujo de óleo"
          ],
          [
           "Sujo de óleo"
          ],
          [
           "Sujo de óleo"
          ],
          [
           "Parada de Máquina em Troca"
          ],
          [
           "Sujo de óleo"
          ],
          [
           "Sujo de óleo"
          ],
          [
           "Sujo de óleo"
          ],
          [
           "Parada de Máquina em Troca"
          ],
          [
           "Sujo de óleo"
          ],
          [
           "Sujo de óleo"
          ],
          [
           "Sujo de óleo"
          ],
          [
           "Sujo de óleo"
          ],
          [
           "Sujo de óleo"
          ],
          [
           "Sujo de óleo"
          ],
          [
           "Sujo de óleo"
          ],
          [
           "Sujo de óleo"
          ],
          [
           "Sujo de óleo"
          ],
          [
           "Sujo de óleo"
          ],
          [
           "Sujo de óleo"
          ],
          [
           "Sujo de óleo"
          ],
          [
           "Sujo de óleo"
          ],
          [
           "Sujo de óleo"
          ],
          [
           "Sujo de óleo"
          ],
          [
           "Sujo de óleo"
          ],
          [
           "Falta de seção"
          ],
          [
           "Sujo de óleo"
          ],
          [
           "Sujo de óleo"
          ],
          [
           "Sujo de óleo"
          ],
          [
           "Sujo de óleo"
          ],
          [
           "Sujo de óleo"
          ],
          [
           "Sujo de óleo"
          ],
          [
           "Sujo de óleo"
          ],
          [
           "Sujo de óleo"
          ],
          [
           "Falta de seção"
          ],
          [
           "Fora de cor"
          ],
          [
           "Fora de cor"
          ],
          [
           "Sujo de óleo"
          ],
          [
           "Sujo de óleo"
          ],
          [
           "Sujo de óleo"
          ],
          [
           "Sujo de óleo"
          ],
          [
           "Sujo de óleo"
          ],
          [
           "Parada de Máquina em Troca"
          ],
          [
           "Falta de seção"
          ],
          [
           "Sujo de óleo"
          ],
          [
           "Trinca por choque térmico"
          ],
          [
           "Sujo de óleo"
          ],
          [
           "Sujo de óleo"
          ],
          [
           "Sujo de óleo"
          ],
          [
           "Falta de seção"
          ],
          [
           "Sujo de óleo"
          ],
          [
           "Sujo de óleo"
          ],
          [
           "Sujo de óleo"
          ],
          [
           "Sujo de óleo"
          ],
          [
           "Sujo de óleo"
          ],
          [
           "Sujo de óleo"
          ],
          [
           "Sujo de óleo"
          ],
          [
           "Sujo de óleo"
          ],
          [
           "Sujo de óleo"
          ],
          [
           "Sujo de óleo"
          ],
          [
           "Sujo de óleo"
          ],
          [
           "Sujo de óleo"
          ],
          [
           "Sujo de óleo"
          ],
          [
           "Parada de Máquina em Troca"
          ],
          [
           "Sujo de óleo"
          ],
          [
           "Sujo de óleo"
          ],
          [
           "Sujo de óleo"
          ],
          [
           "Sujo de óleo"
          ],
          [
           "Sujo de óleo"
          ],
          [
           "Falta de seção"
          ],
          [
           "Sujo de óleo"
          ],
          [
           "Sujo de óleo"
          ],
          [
           "Sujo de óleo"
          ],
          [
           "Fora de cor"
          ],
          [
           "Trinca por choque térmico"
          ],
          [
           "Trinca por choque térmico"
          ],
          [
           "Sujo de óleo"
          ],
          [
           "Sujo de óleo"
          ],
          [
           "Sujo de óleo"
          ],
          [
           "Sujo de óleo"
          ],
          [
           "Sujo de óleo"
          ],
          [
           "Sujo de óleo"
          ],
          [
           "Sujo de óleo"
          ],
          [
           "Sujo de óleo"
          ],
          [
           "Sujo de óleo"
          ],
          [
           "Sujo de óleo"
          ],
          [
           "Sujo de óleo"
          ],
          [
           "Sujo de óleo"
          ],
          [
           "Sujo de óleo"
          ],
          [
           "Sujo de óleo"
          ],
          [
           "Sujo de óleo"
          ],
          [
           "Sujo de óleo"
          ],
          [
           "Sujo de óleo"
          ],
          [
           "Sujo de óleo"
          ],
          [
           "Parada de Máquina em Troca"
          ],
          [
           "Sujo de óleo"
          ],
          [
           "Sujo de óleo"
          ],
          [
           "Sujo de óleo"
          ],
          [
           "Sujo de óleo"
          ],
          [
           "Sujo de óleo"
          ],
          [
           "Sujo de óleo"
          ],
          [
           "Sujo de óleo"
          ],
          [
           "Sujo de óleo"
          ],
          [
           "Sujo de óleo"
          ],
          [
           "Sujo de óleo"
          ],
          [
           "Sujo de óleo"
          ],
          [
           "Sujo de óleo"
          ],
          [
           "Sujo de óleo"
          ],
          [
           "Sujo de óleo"
          ],
          [
           "Sujo de óleo"
          ],
          [
           "Sujo de óleo"
          ],
          [
           "Sujo de óleo"
          ],
          [
           "Sujo de óleo"
          ],
          [
           "Sujo de óleo"
          ],
          [
           "Sujo de óleo"
          ],
          [
           "Sujo de óleo"
          ],
          [
           "Dobra"
          ],
          [
           "Dobra"
          ],
          [
           "Parada de Máquina em Troca"
          ],
          [
           "Sujo de óleo"
          ],
          [
           "Sujo de óleo"
          ],
          [
           "Dobra"
          ],
          [
           "Parada de Máquina em Troca"
          ],
          [
           "Sujo de óleo"
          ],
          [
           "Parada de Máquina em Troca"
          ],
          [
           "Sujo de óleo"
          ],
          [
           "Sujo de óleo"
          ],
          [
           "Sujo de óleo"
          ],
          [
           "Sujo de óleo"
          ],
          [
           "Sujo de óleo"
          ],
          [
           "Sujo de óleo"
          ],
          [
           "Sujo de óleo"
          ],
          [
           "Sujo de óleo"
          ],
          [
           "Dobra"
          ],
          [
           "Dobra"
          ],
          [
           "Sujo de óleo"
          ],
          [
           "Sujo de óleo"
          ],
          [
           "Sujo de óleo"
          ],
          [
           "Dobra"
          ],
          [
           "Sujo de óleo"
          ],
          [
           "Sujo de óleo"
          ],
          [
           "Sujo de óleo"
          ],
          [
           "Sujo de óleo"
          ],
          [
           "Gargalo fraco"
          ],
          [
           "Sujo de óleo"
          ],
          [
           "Sujo de óleo"
          ],
          [
           "Sujo de óleo"
          ],
          [
           "Sujo de óleo"
          ],
          [
           "Sujo de óleo"
          ],
          [
           "Sujo de óleo"
          ],
          [
           "Sujo de óleo"
          ],
          [
           "Sujo de óleo"
          ],
          [
           "Sujo de óleo"
          ],
          [
           "Sujo de óleo"
          ],
          [
           "Sujo de óleo"
          ],
          [
           "Sujo de óleo"
          ],
          [
           "Sujo de óleo"
          ],
          [
           "Dobra"
          ],
          [
           "Gargalo fraco"
          ],
          [
           "Sujo de óleo"
          ],
          [
           "Sujo de óleo"
          ],
          [
           "Sujo de óleo"
          ],
          [
           "Parada de Máquina em Troca"
          ],
          [
           "Racho no desenho"
          ],
          [
           "Sujo de óleo"
          ],
          [
           "Sujo de óleo"
          ],
          [
           "Sujo de óleo"
          ],
          [
           "Sujo de óleo"
          ],
          [
           "Sujo de óleo"
          ],
          [
           "Sujo de óleo"
          ],
          [
           "Parada de Máquina em Troca"
          ],
          [
           "Parada de Máquina em Troca"
          ],
          [
           "Sujo de óleo"
          ],
          [
           "Sujo de óleo"
          ],
          [
           "Sujo de óleo"
          ],
          [
           "Sujo de óleo"
          ],
          [
           "Parada de Máquina em Troca"
          ],
          [
           "Sujo de óleo"
          ],
          [
           "Sujo de óleo"
          ],
          [
           "Sujo de óleo"
          ],
          [
           "Sujo de óleo"
          ],
          [
           "Sujo de óleo"
          ],
          [
           "Sujo de óleo"
          ],
          [
           "Sujo de óleo"
          ],
          [
           "Sujo de óleo"
          ],
          [
           "Sujo de óleo"
          ],
          [
           "Sujo de óleo"
          ],
          [
           "Fora de cor"
          ],
          [
           "Sujo de óleo"
          ],
          [
           "Aglomerado de bolhas"
          ],
          [
           "Aglomerado de bolhas"
          ],
          [
           "Sujo de óleo"
          ],
          [
           "Sujo de óleo"
          ],
          [
           "Sujo de óleo"
          ],
          [
           "Sujo de óleo"
          ],
          [
           "Sujo de óleo"
          ]
         ],
         "hovertemplate": "Temperatura (F°)=%{marker.color}<br>Total de Defeitos no Dia=%{marker.size}<br>Defeito Mais Frequente do Dia=%{customdata[0]}<extra></extra>",
         "legendgroup": "",
         "marker": {
          "color": [
           2126.9699999999984,
           2118.9199999999996,
           2124.999999999999,
           2125.399999999999,
           2126.759999999999,
           2126.759999999999,
           2126.599999999999,
           2126.599999999999,
           2126.599999999999,
           2189.399999999999,
           2189.0799999999986,
           2142.5599999999995,
           2126.599999999999,
           2128.9199999999987,
           2128.9999999999995,
           2127.3199999999983,
           2124.7399999999993,
           2123.9999999999995,
           2123.9999999999995,
           2123.6799999999994,
           2119.9999999999986,
           2119.9999999999986,
           2117.5199999999986,
           2067.1599999999994,
           2195.0499999999993,
           2177.3699999999994,
           2160.1899999999987,
           2150.039999999999,
           2148.029999999999,
           2144.1099999999988,
           2137.6299999999987,
           2137.6299999999987,
           2136.579999999999,
           2137.1099999999988,
           2137.0499999999993,
           2137.0499999999993,
           2137.0499999999993,
           2140.679999999998,
           2180.7699999999995,
           2171.8799999999987,
           2167.7699999999995,
           2128.059999999999,
           2116.1699999999987,
           2110.369999999999,
           2122.179999999999,
           2126.1999999999994,
           2151.9799999999987,
           2138.0399999999995,
           2126.3199999999993,
           2128.559999999999,
           2128.2999999999984,
           2127.9499999999985,
           2127.699999999998,
           2128.149999999999,
           2123.6099999999983,
           2123.4699999999993,
           2114.099999999999,
           2114.3299999999995,
           2122.499999999999,
           2122.3499999999985,
           2124.2099999999987,
           2125.6099999999988,
           2123.329999999999,
           2123.359999999999,
           2124.1499999999983,
           2123.599999999999,
           2137.029999999999,
           2150.6199999999985,
           2158.4499999999985,
           2163.649999999999,
           2163.4999999999995,
           2163.0999999999995,
           2162.9699999999993,
           2149.1599999999994,
           2137.029999999999,
           2147.7899999999986,
           2159.75,
           2176.8399999999983,
           2173.719999999999,
           2165.4299999999985,
           2165.969999999999,
           2160.439999999999,
           2159.75,
           2175.439999999999,
           2177.729999999998,
           2184.049999999998,
           2184.0999999999995,
           2184.0999999999995,
           2184.039999999998,
           2184.2599999999993,
           2131.179999999999,
           2140.099999999999,
           2140.5999999999985,
           2140.8499999999976,
           2140.049999999998,
           2140.249999999998,
           2124.599999999999,
           2106.659999999999,
           2148.299999999999,
           2155.369999999999,
           2160.2599999999993,
           2191.0999999999995,
           2179.729999999999,
           2137.64,
           2162.7599999999984,
           2151.1699999999987,
           2145.199999999999,
           2144.969999999999,
           2144.8799999999987,
           2144.969999999999,
           2147.9199999999983,
           2144.9399999999996,
           2132.429999999999,
           2132.069999999999,
           2131.0699999999993,
           2130.739999999999,
           2130.6499999999987,
           2131.8999999999983,
           2134.0499999999993,
           2131.179999999999,
           2133.499999999998,
           2149.1499999999987,
           2135.7799999999997,
           2102.3599999999983,
           2113.8499999999995,
           2131.8599999999988,
           2135.7799999999997,
           2150.729999999998,
           2148.299999999999,
           2160.2599999999993,
           2191.449999999999,
           2191.029999999999,
           2191.029999999999,
           2187.909999999999,
           2187.749999999999,
           2187.6499999999996,
           2175.1099999999983,
           2147.1299999999987,
           2179.119999999999,
           2155.9999999999986,
           2155.9999999999986,
           2155.679999999999,
           2155.9799999999987,
           2155.9999999999986,
           2155.9999999999986,
           2155.9999999999986,
           2157.759999999999,
           2129.789999999999,
           2175.1099999999983,
           2155.1599999999985,
           2160.059999999999,
           2141.009999999999,
           2139.609999999998,
           2141.7599999999998,
           2142.64,
           2136.5999999999985,
           2129.599999999999,
           2129.599999999999,
           2129.599999999999,
           2129.599999999999,
           2129.599999999999,
           2147.1299999999987,
           2129.789999999999,
           2107.9999999999986,
           2107.9999999999986,
           2107.9999999999986,
           2129.989999999998,
           2142.7899999999986,
           2139.949999999998,
           2142.0199999999986,
           2142.699999999999,
           2142.2199999999993,
           2141.899999999999,
           2130.5999999999995,
           2130.519999999998,
           2129.989999999998,
           2140.9999999999986,
           2139.999999999999,
           2142.64,
           2138.819999999999,
           2130.519999999998,
           2130.9999999999986,
           2130.9999999999986,
           2139.999999999998,
           2144.7499999999986,
           2142.999999999999,
           2143.749999999998,
           2146.659999999999,
           2148.42,
           2175.049999999999,
           2151.8399999999983,
           2190.0599999999995,
           2156.24,
           2150.7699999999986,
           2150.7699999999986,
           2154.4399999999987,
           2152.3199999999993,
           2145.5999999999985,
           2145.5999999999985,
           2147.999999999998
          ],
          "coloraxis": "coloraxis",
          "size": [
           222,
           249,
           268,
           242,
           232,
           229,
           191,
           222,
           293,
           159,
           203,
           222,
           293,
           240,
           171,
           231,
           229,
           231,
           198,
           215,
           212,
           224,
           224,
           193,
           208,
           255,
           287,
           291,
           291,
           243,
           201,
           229,
           201,
           220,
           187,
           201,
           191,
           166,
           127,
           242,
           242,
           305,
           276,
           277,
           280,
           305,
           122,
           180,
           296,
           217,
           211,
           198,
           170,
           195,
           177,
           191,
           168,
           192,
           183,
           161,
           162,
           135,
           184,
           189,
           156,
           177,
           143,
           122,
           254,
           249,
           229,
           212,
           218,
           180,
           143,
           189,
           173,
           298,
           265,
           230,
           256,
           192,
           173,
           188,
           197,
           203,
           206,
           185,
           169,
           162,
           175,
           206,
           179,
           192,
           184,
           169,
           175,
           200,
           249,
           244,
           195,
           317,
           288,
           113,
           192,
           212,
           188,
           154,
           166,
           176,
           216,
           113,
           240,
           214,
           191,
           205,
           205,
           206,
           190,
           175,
           234,
           226,
           295,
           200,
           182,
           234,
           295,
           328,
           249,
           195,
           266,
           211,
           211,
           198,
           199,
           183,
           210,
           228,
           352,
           214,
           212,
           264,
           203,
           231,
           196,
           179,
           198,
           261,
           210,
           353,
           324,
           218,
           192,
           190,
           190,
           184,
           182,
           148,
           158,
           195,
           188,
           228,
           261,
           210,
           178,
           231,
           243,
           303,
           239,
           198,
           189,
           171,
           179,
           195,
           242,
           243,
           212,
           167,
           277,
           243,
           242,
           204,
           152,
           204,
           167,
           209,
           206,
           239,
           193,
           196,
           79,
           203,
           234,
           273,
           273,
           258,
           218,
           218,
           213,
           256
          ],
          "sizemode": "area",
          "sizeref": 0.8825,
          "symbol": "circle"
         },
         "mode": "markers",
         "name": "",
         "orientation": "v",
         "showlegend": false,
         "type": "scatter",
         "x": [
          2126.9699999999984,
          2118.9199999999996,
          2124.999999999999,
          2125.399999999999,
          2126.759999999999,
          2126.759999999999,
          2126.599999999999,
          2126.599999999999,
          2126.599999999999,
          2189.399999999999,
          2189.0799999999986,
          2142.5599999999995,
          2126.599999999999,
          2128.9199999999987,
          2128.9999999999995,
          2127.3199999999983,
          2124.7399999999993,
          2123.9999999999995,
          2123.9999999999995,
          2123.6799999999994,
          2119.9999999999986,
          2119.9999999999986,
          2117.5199999999986,
          2067.1599999999994,
          2195.0499999999993,
          2177.3699999999994,
          2160.1899999999987,
          2150.039999999999,
          2148.029999999999,
          2144.1099999999988,
          2137.6299999999987,
          2137.6299999999987,
          2136.579999999999,
          2137.1099999999988,
          2137.0499999999993,
          2137.0499999999993,
          2137.0499999999993,
          2140.679999999998,
          2180.7699999999995,
          2171.8799999999987,
          2167.7699999999995,
          2128.059999999999,
          2116.1699999999987,
          2110.369999999999,
          2122.179999999999,
          2126.1999999999994,
          2151.9799999999987,
          2138.0399999999995,
          2126.3199999999993,
          2128.559999999999,
          2128.2999999999984,
          2127.9499999999985,
          2127.699999999998,
          2128.149999999999,
          2123.6099999999983,
          2123.4699999999993,
          2114.099999999999,
          2114.3299999999995,
          2122.499999999999,
          2122.3499999999985,
          2124.2099999999987,
          2125.6099999999988,
          2123.329999999999,
          2123.359999999999,
          2124.1499999999983,
          2123.599999999999,
          2137.029999999999,
          2150.6199999999985,
          2158.4499999999985,
          2163.649999999999,
          2163.4999999999995,
          2163.0999999999995,
          2162.9699999999993,
          2149.1599999999994,
          2137.029999999999,
          2147.7899999999986,
          2159.75,
          2176.8399999999983,
          2173.719999999999,
          2165.4299999999985,
          2165.969999999999,
          2160.439999999999,
          2159.75,
          2175.439999999999,
          2177.729999999998,
          2184.049999999998,
          2184.0999999999995,
          2184.0999999999995,
          2184.039999999998,
          2184.2599999999993,
          2131.179999999999,
          2140.099999999999,
          2140.5999999999985,
          2140.8499999999976,
          2140.049999999998,
          2140.249999999998,
          2124.599999999999,
          2106.659999999999,
          2148.299999999999,
          2155.369999999999,
          2160.2599999999993,
          2191.0999999999995,
          2179.729999999999,
          2137.64,
          2162.7599999999984,
          2151.1699999999987,
          2145.199999999999,
          2144.969999999999,
          2144.8799999999987,
          2144.969999999999,
          2147.9199999999983,
          2144.9399999999996,
          2132.429999999999,
          2132.069999999999,
          2131.0699999999993,
          2130.739999999999,
          2130.6499999999987,
          2131.8999999999983,
          2134.0499999999993,
          2131.179999999999,
          2133.499999999998,
          2149.1499999999987,
          2135.7799999999997,
          2102.3599999999983,
          2113.8499999999995,
          2131.8599999999988,
          2135.7799999999997,
          2150.729999999998,
          2148.299999999999,
          2160.2599999999993,
          2191.449999999999,
          2191.029999999999,
          2191.029999999999,
          2187.909999999999,
          2187.749999999999,
          2187.6499999999996,
          2175.1099999999983,
          2147.1299999999987,
          2179.119999999999,
          2155.9999999999986,
          2155.9999999999986,
          2155.679999999999,
          2155.9799999999987,
          2155.9999999999986,
          2155.9999999999986,
          2155.9999999999986,
          2157.759999999999,
          2129.789999999999,
          2175.1099999999983,
          2155.1599999999985,
          2160.059999999999,
          2141.009999999999,
          2139.609999999998,
          2141.7599999999998,
          2142.64,
          2136.5999999999985,
          2129.599999999999,
          2129.599999999999,
          2129.599999999999,
          2129.599999999999,
          2129.599999999999,
          2147.1299999999987,
          2129.789999999999,
          2107.9999999999986,
          2107.9999999999986,
          2107.9999999999986,
          2129.989999999998,
          2142.7899999999986,
          2139.949999999998,
          2142.0199999999986,
          2142.699999999999,
          2142.2199999999993,
          2141.899999999999,
          2130.5999999999995,
          2130.519999999998,
          2129.989999999998,
          2140.9999999999986,
          2139.999999999999,
          2142.64,
          2138.819999999999,
          2130.519999999998,
          2130.9999999999986,
          2130.9999999999986,
          2139.999999999998,
          2144.7499999999986,
          2142.999999999999,
          2143.749999999998,
          2146.659999999999,
          2148.42,
          2175.049999999999,
          2151.8399999999983,
          2190.0599999999995,
          2156.24,
          2150.7699999999986,
          2150.7699999999986,
          2154.4399999999987,
          2152.3199999999993,
          2145.5999999999985,
          2145.5999999999985,
          2147.999999999998
         ],
         "xaxis": "x",
         "y": [
          222,
          249,
          268,
          242,
          232,
          229,
          191,
          222,
          293,
          159,
          203,
          222,
          293,
          240,
          171,
          231,
          229,
          231,
          198,
          215,
          212,
          224,
          224,
          193,
          208,
          255,
          287,
          291,
          291,
          243,
          201,
          229,
          201,
          220,
          187,
          201,
          191,
          166,
          127,
          242,
          242,
          305,
          276,
          277,
          280,
          305,
          122,
          180,
          296,
          217,
          211,
          198,
          170,
          195,
          177,
          191,
          168,
          192,
          183,
          161,
          162,
          135,
          184,
          189,
          156,
          177,
          143,
          122,
          254,
          249,
          229,
          212,
          218,
          180,
          143,
          189,
          173,
          298,
          265,
          230,
          256,
          192,
          173,
          188,
          197,
          203,
          206,
          185,
          169,
          162,
          175,
          206,
          179,
          192,
          184,
          169,
          175,
          200,
          249,
          244,
          195,
          317,
          288,
          113,
          192,
          212,
          188,
          154,
          166,
          176,
          216,
          113,
          240,
          214,
          191,
          205,
          205,
          206,
          190,
          175,
          234,
          226,
          295,
          200,
          182,
          234,
          295,
          328,
          249,
          195,
          266,
          211,
          211,
          198,
          199,
          183,
          210,
          228,
          352,
          214,
          212,
          264,
          203,
          231,
          196,
          179,
          198,
          261,
          210,
          353,
          324,
          218,
          192,
          190,
          190,
          184,
          182,
          148,
          158,
          195,
          188,
          228,
          261,
          210,
          178,
          231,
          243,
          303,
          239,
          198,
          189,
          171,
          179,
          195,
          242,
          243,
          212,
          167,
          277,
          243,
          242,
          204,
          152,
          204,
          167,
          209,
          206,
          239,
          193,
          196,
          79,
          203,
          234,
          273,
          273,
          258,
          218,
          218,
          213,
          256
         ],
         "yaxis": "y"
        }
       ],
       "layout": {
        "coloraxis": {
         "colorbar": {
          "title": {
           "text": "Temperatura (F°)"
          }
         },
         "colorscale": [
          [
           0,
           "rgb(246, 210, 169)"
          ],
          [
           0.16666666666666666,
           "rgb(245, 183, 142)"
          ],
          [
           0.3333333333333333,
           "rgb(241, 156, 124)"
          ],
          [
           0.5,
           "rgb(234, 129, 113)"
          ],
          [
           0.6666666666666666,
           "rgb(221, 104, 108)"
          ],
          [
           0.8333333333333334,
           "rgb(202, 82, 104)"
          ],
          [
           1,
           "rgb(177, 63, 100)"
          ]
         ]
        },
        "legend": {
         "itemsizing": "constant",
         "tracegroupgap": 0
        },
        "template": {
         "data": {
          "bar": [
           {
            "error_x": {
             "color": "#2a3f5f"
            },
            "error_y": {
             "color": "#2a3f5f"
            },
            "marker": {
             "line": {
              "color": "#E5ECF6",
              "width": 0.5
             },
             "pattern": {
              "fillmode": "overlay",
              "size": 10,
              "solidity": 0.2
             }
            },
            "type": "bar"
           }
          ],
          "barpolar": [
           {
            "marker": {
             "line": {
              "color": "#E5ECF6",
              "width": 0.5
             },
             "pattern": {
              "fillmode": "overlay",
              "size": 10,
              "solidity": 0.2
             }
            },
            "type": "barpolar"
           }
          ],
          "carpet": [
           {
            "aaxis": {
             "endlinecolor": "#2a3f5f",
             "gridcolor": "white",
             "linecolor": "white",
             "minorgridcolor": "white",
             "startlinecolor": "#2a3f5f"
            },
            "baxis": {
             "endlinecolor": "#2a3f5f",
             "gridcolor": "white",
             "linecolor": "white",
             "minorgridcolor": "white",
             "startlinecolor": "#2a3f5f"
            },
            "type": "carpet"
           }
          ],
          "choropleth": [
           {
            "colorbar": {
             "outlinewidth": 0,
             "ticks": ""
            },
            "type": "choropleth"
           }
          ],
          "contour": [
           {
            "colorbar": {
             "outlinewidth": 0,
             "ticks": ""
            },
            "colorscale": [
             [
              0,
              "#0d0887"
             ],
             [
              0.1111111111111111,
              "#46039f"
             ],
             [
              0.2222222222222222,
              "#7201a8"
             ],
             [
              0.3333333333333333,
              "#9c179e"
             ],
             [
              0.4444444444444444,
              "#bd3786"
             ],
             [
              0.5555555555555556,
              "#d8576b"
             ],
             [
              0.6666666666666666,
              "#ed7953"
             ],
             [
              0.7777777777777778,
              "#fb9f3a"
             ],
             [
              0.8888888888888888,
              "#fdca26"
             ],
             [
              1,
              "#f0f921"
             ]
            ],
            "type": "contour"
           }
          ],
          "contourcarpet": [
           {
            "colorbar": {
             "outlinewidth": 0,
             "ticks": ""
            },
            "type": "contourcarpet"
           }
          ],
          "heatmap": [
           {
            "colorbar": {
             "outlinewidth": 0,
             "ticks": ""
            },
            "colorscale": [
             [
              0,
              "#0d0887"
             ],
             [
              0.1111111111111111,
              "#46039f"
             ],
             [
              0.2222222222222222,
              "#7201a8"
             ],
             [
              0.3333333333333333,
              "#9c179e"
             ],
             [
              0.4444444444444444,
              "#bd3786"
             ],
             [
              0.5555555555555556,
              "#d8576b"
             ],
             [
              0.6666666666666666,
              "#ed7953"
             ],
             [
              0.7777777777777778,
              "#fb9f3a"
             ],
             [
              0.8888888888888888,
              "#fdca26"
             ],
             [
              1,
              "#f0f921"
             ]
            ],
            "type": "heatmap"
           }
          ],
          "heatmapgl": [
           {
            "colorbar": {
             "outlinewidth": 0,
             "ticks": ""
            },
            "colorscale": [
             [
              0,
              "#0d0887"
             ],
             [
              0.1111111111111111,
              "#46039f"
             ],
             [
              0.2222222222222222,
              "#7201a8"
             ],
             [
              0.3333333333333333,
              "#9c179e"
             ],
             [
              0.4444444444444444,
              "#bd3786"
             ],
             [
              0.5555555555555556,
              "#d8576b"
             ],
             [
              0.6666666666666666,
              "#ed7953"
             ],
             [
              0.7777777777777778,
              "#fb9f3a"
             ],
             [
              0.8888888888888888,
              "#fdca26"
             ],
             [
              1,
              "#f0f921"
             ]
            ],
            "type": "heatmapgl"
           }
          ],
          "histogram": [
           {
            "marker": {
             "pattern": {
              "fillmode": "overlay",
              "size": 10,
              "solidity": 0.2
             }
            },
            "type": "histogram"
           }
          ],
          "histogram2d": [
           {
            "colorbar": {
             "outlinewidth": 0,
             "ticks": ""
            },
            "colorscale": [
             [
              0,
              "#0d0887"
             ],
             [
              0.1111111111111111,
              "#46039f"
             ],
             [
              0.2222222222222222,
              "#7201a8"
             ],
             [
              0.3333333333333333,
              "#9c179e"
             ],
             [
              0.4444444444444444,
              "#bd3786"
             ],
             [
              0.5555555555555556,
              "#d8576b"
             ],
             [
              0.6666666666666666,
              "#ed7953"
             ],
             [
              0.7777777777777778,
              "#fb9f3a"
             ],
             [
              0.8888888888888888,
              "#fdca26"
             ],
             [
              1,
              "#f0f921"
             ]
            ],
            "type": "histogram2d"
           }
          ],
          "histogram2dcontour": [
           {
            "colorbar": {
             "outlinewidth": 0,
             "ticks": ""
            },
            "colorscale": [
             [
              0,
              "#0d0887"
             ],
             [
              0.1111111111111111,
              "#46039f"
             ],
             [
              0.2222222222222222,
              "#7201a8"
             ],
             [
              0.3333333333333333,
              "#9c179e"
             ],
             [
              0.4444444444444444,
              "#bd3786"
             ],
             [
              0.5555555555555556,
              "#d8576b"
             ],
             [
              0.6666666666666666,
              "#ed7953"
             ],
             [
              0.7777777777777778,
              "#fb9f3a"
             ],
             [
              0.8888888888888888,
              "#fdca26"
             ],
             [
              1,
              "#f0f921"
             ]
            ],
            "type": "histogram2dcontour"
           }
          ],
          "mesh3d": [
           {
            "colorbar": {
             "outlinewidth": 0,
             "ticks": ""
            },
            "type": "mesh3d"
           }
          ],
          "parcoords": [
           {
            "line": {
             "colorbar": {
              "outlinewidth": 0,
              "ticks": ""
             }
            },
            "type": "parcoords"
           }
          ],
          "pie": [
           {
            "automargin": true,
            "type": "pie"
           }
          ],
          "scatter": [
           {
            "fillpattern": {
             "fillmode": "overlay",
             "size": 10,
             "solidity": 0.2
            },
            "type": "scatter"
           }
          ],
          "scatter3d": [
           {
            "line": {
             "colorbar": {
              "outlinewidth": 0,
              "ticks": ""
             }
            },
            "marker": {
             "colorbar": {
              "outlinewidth": 0,
              "ticks": ""
             }
            },
            "type": "scatter3d"
           }
          ],
          "scattercarpet": [
           {
            "marker": {
             "colorbar": {
              "outlinewidth": 0,
              "ticks": ""
             }
            },
            "type": "scattercarpet"
           }
          ],
          "scattergeo": [
           {
            "marker": {
             "colorbar": {
              "outlinewidth": 0,
              "ticks": ""
             }
            },
            "type": "scattergeo"
           }
          ],
          "scattergl": [
           {
            "marker": {
             "colorbar": {
              "outlinewidth": 0,
              "ticks": ""
             }
            },
            "type": "scattergl"
           }
          ],
          "scattermapbox": [
           {
            "marker": {
             "colorbar": {
              "outlinewidth": 0,
              "ticks": ""
             }
            },
            "type": "scattermapbox"
           }
          ],
          "scatterpolar": [
           {
            "marker": {
             "colorbar": {
              "outlinewidth": 0,
              "ticks": ""
             }
            },
            "type": "scatterpolar"
           }
          ],
          "scatterpolargl": [
           {
            "marker": {
             "colorbar": {
              "outlinewidth": 0,
              "ticks": ""
             }
            },
            "type": "scatterpolargl"
           }
          ],
          "scatterternary": [
           {
            "marker": {
             "colorbar": {
              "outlinewidth": 0,
              "ticks": ""
             }
            },
            "type": "scatterternary"
           }
          ],
          "surface": [
           {
            "colorbar": {
             "outlinewidth": 0,
             "ticks": ""
            },
            "colorscale": [
             [
              0,
              "#0d0887"
             ],
             [
              0.1111111111111111,
              "#46039f"
             ],
             [
              0.2222222222222222,
              "#7201a8"
             ],
             [
              0.3333333333333333,
              "#9c179e"
             ],
             [
              0.4444444444444444,
              "#bd3786"
             ],
             [
              0.5555555555555556,
              "#d8576b"
             ],
             [
              0.6666666666666666,
              "#ed7953"
             ],
             [
              0.7777777777777778,
              "#fb9f3a"
             ],
             [
              0.8888888888888888,
              "#fdca26"
             ],
             [
              1,
              "#f0f921"
             ]
            ],
            "type": "surface"
           }
          ],
          "table": [
           {
            "cells": {
             "fill": {
              "color": "#EBF0F8"
             },
             "line": {
              "color": "white"
             }
            },
            "header": {
             "fill": {
              "color": "#C8D4E3"
             },
             "line": {
              "color": "white"
             }
            },
            "type": "table"
           }
          ]
         },
         "layout": {
          "annotationdefaults": {
           "arrowcolor": "#2a3f5f",
           "arrowhead": 0,
           "arrowwidth": 1
          },
          "autotypenumbers": "strict",
          "coloraxis": {
           "colorbar": {
            "outlinewidth": 0,
            "ticks": ""
           }
          },
          "colorscale": {
           "diverging": [
            [
             0,
             "#8e0152"
            ],
            [
             0.1,
             "#c51b7d"
            ],
            [
             0.2,
             "#de77ae"
            ],
            [
             0.3,
             "#f1b6da"
            ],
            [
             0.4,
             "#fde0ef"
            ],
            [
             0.5,
             "#f7f7f7"
            ],
            [
             0.6,
             "#e6f5d0"
            ],
            [
             0.7,
             "#b8e186"
            ],
            [
             0.8,
             "#7fbc41"
            ],
            [
             0.9,
             "#4d9221"
            ],
            [
             1,
             "#276419"
            ]
           ],
           "sequential": [
            [
             0,
             "#0d0887"
            ],
            [
             0.1111111111111111,
             "#46039f"
            ],
            [
             0.2222222222222222,
             "#7201a8"
            ],
            [
             0.3333333333333333,
             "#9c179e"
            ],
            [
             0.4444444444444444,
             "#bd3786"
            ],
            [
             0.5555555555555556,
             "#d8576b"
            ],
            [
             0.6666666666666666,
             "#ed7953"
            ],
            [
             0.7777777777777778,
             "#fb9f3a"
            ],
            [
             0.8888888888888888,
             "#fdca26"
            ],
            [
             1,
             "#f0f921"
            ]
           ],
           "sequentialminus": [
            [
             0,
             "#0d0887"
            ],
            [
             0.1111111111111111,
             "#46039f"
            ],
            [
             0.2222222222222222,
             "#7201a8"
            ],
            [
             0.3333333333333333,
             "#9c179e"
            ],
            [
             0.4444444444444444,
             "#bd3786"
            ],
            [
             0.5555555555555556,
             "#d8576b"
            ],
            [
             0.6666666666666666,
             "#ed7953"
            ],
            [
             0.7777777777777778,
             "#fb9f3a"
            ],
            [
             0.8888888888888888,
             "#fdca26"
            ],
            [
             1,
             "#f0f921"
            ]
           ]
          },
          "colorway": [
           "#636efa",
           "#EF553B",
           "#00cc96",
           "#ab63fa",
           "#FFA15A",
           "#19d3f3",
           "#FF6692",
           "#B6E880",
           "#FF97FF",
           "#FECB52"
          ],
          "font": {
           "color": "#2a3f5f"
          },
          "geo": {
           "bgcolor": "white",
           "lakecolor": "white",
           "landcolor": "#E5ECF6",
           "showlakes": true,
           "showland": true,
           "subunitcolor": "white"
          },
          "hoverlabel": {
           "align": "left"
          },
          "hovermode": "closest",
          "mapbox": {
           "style": "light"
          },
          "paper_bgcolor": "white",
          "plot_bgcolor": "#E5ECF6",
          "polar": {
           "angularaxis": {
            "gridcolor": "white",
            "linecolor": "white",
            "ticks": ""
           },
           "bgcolor": "#E5ECF6",
           "radialaxis": {
            "gridcolor": "white",
            "linecolor": "white",
            "ticks": ""
           }
          },
          "scene": {
           "xaxis": {
            "backgroundcolor": "#E5ECF6",
            "gridcolor": "white",
            "gridwidth": 2,
            "linecolor": "white",
            "showbackground": true,
            "ticks": "",
            "zerolinecolor": "white"
           },
           "yaxis": {
            "backgroundcolor": "#E5ECF6",
            "gridcolor": "white",
            "gridwidth": 2,
            "linecolor": "white",
            "showbackground": true,
            "ticks": "",
            "zerolinecolor": "white"
           },
           "zaxis": {
            "backgroundcolor": "#E5ECF6",
            "gridcolor": "white",
            "gridwidth": 2,
            "linecolor": "white",
            "showbackground": true,
            "ticks": "",
            "zerolinecolor": "white"
           }
          },
          "shapedefaults": {
           "line": {
            "color": "#2a3f5f"
           }
          },
          "ternary": {
           "aaxis": {
            "gridcolor": "white",
            "linecolor": "white",
            "ticks": ""
           },
           "baxis": {
            "gridcolor": "white",
            "linecolor": "white",
            "ticks": ""
           },
           "bgcolor": "#E5ECF6",
           "caxis": {
            "gridcolor": "white",
            "linecolor": "white",
            "ticks": ""
           }
          },
          "title": {
           "x": 0.05
          },
          "xaxis": {
           "automargin": true,
           "gridcolor": "white",
           "linecolor": "white",
           "ticks": "",
           "title": {
            "standoff": 15
           },
           "zerolinecolor": "white",
           "zerolinewidth": 2
          },
          "yaxis": {
           "automargin": true,
           "gridcolor": "white",
           "linecolor": "white",
           "ticks": "",
           "title": {
            "standoff": 15
           },
           "zerolinecolor": "white",
           "zerolinewidth": 2
          }
         }
        },
        "title": {
         "text": "Dispersão: Total de Defeitos vs Temperatura da Gota"
        },
        "xaxis": {
         "anchor": "y",
         "domain": [
          0,
          1
         ],
         "title": {
          "text": "Temperatura (F°)"
         }
        },
        "yaxis": {
         "anchor": "x",
         "domain": [
          0,
          1
         ],
         "title": {
          "text": "Total de Defeitos no Dia"
         }
        }
       }
      }
     },
     "metadata": {},
     "output_type": "display_data"
    }
   ],
   "source": [
    "fig = px.scatter(\n",
    "    df_resumo_geral,\n",
    "    x=\"Temperatura (F°)\", \n",
    "    y=\"Total de Defeitos no Dia\",\n",
    "    title=\"Dispersão: Total de Defeitos vs Temperatura da Gota\",\n",
    "    labels={\"Temperatura (F°)\": \"Temperatura (F°)\", \"Total de Defeitos no Dia\": \"Total de Defeitos no Dia\"},\n",
    "    hover_data=[\"Defeito Mais Frequente do Dia\"],\n",
    "    color='Temperatura (F°)',\n",
    "    color_continuous_scale='redor',\n",
    "    size='Total de Defeitos no Dia'\n",
    ")\n",
    "\n",
    "fig.show()"
   ]
  },
  {
   "cell_type": "markdown",
   "metadata": {},
   "source": [
    "# Criando Dataframe com todas as informações de defeitos e medidas das gotas, para entender cada defeito"
   ]
  },
  {
   "cell_type": "code",
   "execution_count": 82,
   "metadata": {},
   "outputs": [
    {
     "data": {
      "text/html": [
       "<div>\n",
       "<style scoped>\n",
       "    .dataframe tbody tr th:only-of-type {\n",
       "        vertical-align: middle;\n",
       "    }\n",
       "\n",
       "    .dataframe tbody tr th {\n",
       "        vertical-align: top;\n",
       "    }\n",
       "\n",
       "    .dataframe thead th {\n",
       "        text-align: right;\n",
       "    }\n",
       "</style>\n",
       "<table border=\"1\" class=\"dataframe\">\n",
       "  <thead>\n",
       "    <tr style=\"text-align: right;\">\n",
       "      <th></th>\n",
       "      <th></th>\n",
       "      <th></th>\n",
       "      <th></th>\n",
       "      <th>Quantidade</th>\n",
       "    </tr>\n",
       "    <tr>\n",
       "      <th>Ordem de trabalhos</th>\n",
       "      <th>Ref. do artigo</th>\n",
       "      <th>Data</th>\n",
       "      <th>Defeito</th>\n",
       "      <th></th>\n",
       "    </tr>\n",
       "  </thead>\n",
       "  <tbody>\n",
       "    <tr>\n",
       "      <th rowspan=\"5\" valign=\"top\">192970</th>\n",
       "      <th rowspan=\"5\" valign=\"top\">C0516.0000R</th>\n",
       "      <th rowspan=\"5\" valign=\"top\">2024-01-03</th>\n",
       "      <th>Cava no ombro</th>\n",
       "      <td>10</td>\n",
       "    </tr>\n",
       "    <tr>\n",
       "      <th>Corpo torto</th>\n",
       "      <td>6</td>\n",
       "    </tr>\n",
       "    <tr>\n",
       "      <th>Costura</th>\n",
       "      <td>3</td>\n",
       "    </tr>\n",
       "    <tr>\n",
       "      <th>Costura desencontrada</th>\n",
       "      <td>7</td>\n",
       "    </tr>\n",
       "    <tr>\n",
       "      <th>Dobra</th>\n",
       "      <td>10</td>\n",
       "    </tr>\n",
       "  </tbody>\n",
       "</table>\n",
       "</div>"
      ],
      "text/plain": [
       "                                                                    Quantidade\n",
       "Ordem de trabalhos Ref. do artigo Data       Defeito                          \n",
       "192970             C0516.0000R    2024-01-03 Cava no ombro                  10\n",
       "                                             Corpo torto                     6\n",
       "                                             Costura                         3\n",
       "                                             Costura desencontrada           7\n",
       "                                             Dobra                          10"
      ]
     },
     "execution_count": 82,
     "metadata": {},
     "output_type": "execute_result"
    }
   ],
   "source": [
    "frequencia_defeitos.head()"
   ]
  },
  {
   "cell_type": "code",
   "execution_count": 83,
   "metadata": {},
   "outputs": [
    {
     "data": {
      "text/html": [
       "<div>\n",
       "<style scoped>\n",
       "    .dataframe tbody tr th:only-of-type {\n",
       "        vertical-align: middle;\n",
       "    }\n",
       "\n",
       "    .dataframe tbody tr th {\n",
       "        vertical-align: top;\n",
       "    }\n",
       "\n",
       "    .dataframe thead th {\n",
       "        text-align: right;\n",
       "    }\n",
       "</style>\n",
       "<table border=\"1\" class=\"dataframe\">\n",
       "  <thead>\n",
       "    <tr style=\"text-align: right;\">\n",
       "      <th></th>\n",
       "      <th>Ordem de trabalhos</th>\n",
       "      <th>Ref. do artigo</th>\n",
       "      <th>Data</th>\n",
       "      <th>Defeito</th>\n",
       "      <th>Quantidade</th>\n",
       "    </tr>\n",
       "  </thead>\n",
       "  <tbody>\n",
       "    <tr>\n",
       "      <th>3251</th>\n",
       "      <td>193782</td>\n",
       "      <td>C1265.0000R</td>\n",
       "      <td>2024-05-16</td>\n",
       "      <td>Dobra</td>\n",
       "      <td>147</td>\n",
       "    </tr>\n",
       "    <tr>\n",
       "      <th>962</th>\n",
       "      <td>193207</td>\n",
       "      <td>C1298.0000R</td>\n",
       "      <td>2024-02-04</td>\n",
       "      <td>Sujo de óleo</td>\n",
       "      <td>139</td>\n",
       "    </tr>\n",
       "    <tr>\n",
       "      <th>294</th>\n",
       "      <td>193112</td>\n",
       "      <td>C1164.0000R</td>\n",
       "      <td>2024-01-02</td>\n",
       "      <td>Sujo de óleo</td>\n",
       "      <td>125</td>\n",
       "    </tr>\n",
       "    <tr>\n",
       "      <th>2185</th>\n",
       "      <td>193463</td>\n",
       "      <td>C1298.0000R</td>\n",
       "      <td>2024-03-17</td>\n",
       "      <td>Sujo de óleo</td>\n",
       "      <td>119</td>\n",
       "    </tr>\n",
       "    <tr>\n",
       "      <th>1233</th>\n",
       "      <td>193209</td>\n",
       "      <td>C0509.0000R</td>\n",
       "      <td>2024-02-13</td>\n",
       "      <td>Sujo de óleo</td>\n",
       "      <td>115</td>\n",
       "    </tr>\n",
       "    <tr>\n",
       "      <th>...</th>\n",
       "      <td>...</td>\n",
       "      <td>...</td>\n",
       "      <td>...</td>\n",
       "      <td>...</td>\n",
       "      <td>...</td>\n",
       "    </tr>\n",
       "    <tr>\n",
       "      <th>1730</th>\n",
       "      <td>193368</td>\n",
       "      <td>C1137.0000R</td>\n",
       "      <td>2024-02-15</td>\n",
       "      <td>Frio</td>\n",
       "      <td>1</td>\n",
       "    </tr>\n",
       "    <tr>\n",
       "      <th>1734</th>\n",
       "      <td>193368</td>\n",
       "      <td>C1137.0000R</td>\n",
       "      <td>2024-02-15</td>\n",
       "      <td>Largura +</td>\n",
       "      <td>1</td>\n",
       "    </tr>\n",
       "    <tr>\n",
       "      <th>3554</th>\n",
       "      <td>193784</td>\n",
       "      <td>C1203.0000R</td>\n",
       "      <td>2024-05-05</td>\n",
       "      <td>Trinca por choque térmico</td>\n",
       "      <td>1</td>\n",
       "    </tr>\n",
       "    <tr>\n",
       "      <th>1746</th>\n",
       "      <td>193368</td>\n",
       "      <td>C1137.0000R</td>\n",
       "      <td>2024-02-15</td>\n",
       "      <td>Racho no fundo</td>\n",
       "      <td>1</td>\n",
       "    </tr>\n",
       "    <tr>\n",
       "      <th>4686</th>\n",
       "      <td>194121</td>\n",
       "      <td>C0516.0000R</td>\n",
       "      <td>2024-07-01</td>\n",
       "      <td>Bolha</td>\n",
       "      <td>1</td>\n",
       "    </tr>\n",
       "  </tbody>\n",
       "</table>\n",
       "<p>4687 rows × 5 columns</p>\n",
       "</div>"
      ],
      "text/plain": [
       "      Ordem de trabalhos Ref. do artigo        Data  \\\n",
       "3251              193782    C1265.0000R  2024-05-16   \n",
       "962               193207    C1298.0000R  2024-02-04   \n",
       "294               193112    C1164.0000R  2024-01-02   \n",
       "2185              193463    C1298.0000R  2024-03-17   \n",
       "1233              193209    C0509.0000R  2024-02-13   \n",
       "...                  ...            ...         ...   \n",
       "1730              193368    C1137.0000R  2024-02-15   \n",
       "1734              193368    C1137.0000R  2024-02-15   \n",
       "3554              193784    C1203.0000R  2024-05-05   \n",
       "1746              193368    C1137.0000R  2024-02-15   \n",
       "4686              194121    C0516.0000R  2024-07-01   \n",
       "\n",
       "                        Defeito  Quantidade  \n",
       "3251                      Dobra         147  \n",
       "962                Sujo de óleo         139  \n",
       "294                Sujo de óleo         125  \n",
       "2185               Sujo de óleo         119  \n",
       "1233               Sujo de óleo         115  \n",
       "...                         ...         ...  \n",
       "1730                       Frio           1  \n",
       "1734                  Largura +           1  \n",
       "3554  Trinca por choque térmico           1  \n",
       "1746             Racho no fundo           1  \n",
       "4686                      Bolha           1  \n",
       "\n",
       "[4687 rows x 5 columns]"
      ]
     },
     "execution_count": 83,
     "metadata": {},
     "output_type": "execute_result"
    }
   ],
   "source": [
    "frequencia_defeitos_reset.sort_values('Quantidade', ascending=False)"
   ]
  },
  {
   "cell_type": "markdown",
   "metadata": {},
   "source": [
    "### Unindo Dataframes on=['Ordem de prod', 'Ref. do Artigo', 'Data de prod']"
   ]
  },
  {
   "cell_type": "code",
   "execution_count": 84,
   "metadata": {},
   "outputs": [],
   "source": [
    "frequencia_defeitos_reset.rename(columns={\n",
    "    'Ordem de trabalhos': 'Ordem de prod',\n",
    "    'Ref. do artigo': 'Ref. do Artigo',\n",
    "    'Data': 'Data de prod'\n",
    "}, inplace=True)\n",
    "\n",
    "frequencia_defeitos_reset['Data de prod'] = pd.to_datetime(frequencia_defeitos_reset['Data de prod'])\n",
    "df_resumo_geral_reset['Data de prod'] = pd.to_datetime(df_resumo_geral_reset['Data de prod'])\n",
    "\n",
    "df_combinado_defeitos_medidas = pd.merge(frequencia_defeitos_reset, df_resumo_geral_reset, \n",
    "                     on=['Ordem de prod', 'Ref. do Artigo', 'Data de prod'], \n",
    "                     how='left')"
   ]
  },
  {
   "cell_type": "markdown",
   "metadata": {},
   "source": [
    "### Tratando linha com valores NaN no Dataframe"
   ]
  },
  {
   "cell_type": "code",
   "execution_count": 85,
   "metadata": {},
   "outputs": [],
   "source": [
    "df_combinado_defeitos_medidas = df_combinado_defeitos_medidas.dropna(subset=['Total de Defeitos no Dia'])\n",
    "df_combinado_defeitos_medidas['Total de Defeitos no Dia'] = df_combinado_defeitos_medidas['Total de Defeitos no Dia'].astype(int)"
   ]
  },
  {
   "cell_type": "markdown",
   "metadata": {},
   "source": [
    "### Setando os índices "
   ]
  },
  {
   "cell_type": "code",
   "execution_count": 86,
   "metadata": {},
   "outputs": [],
   "source": [
    "colunas_indice = ['Ordem de prod', 'Ref. do Artigo', 'Data de prod', 'Total de Defeitos no Dia', 'Defeito Mais Frequente do Dia', 'Gotas cortadas (toneladas)', 'Temperatura (F°)', 'Peso médio (g)', 'Comprimento médio (mm)', 'Diâmetro']\n",
    "\n",
    "df_combinado_defeitos_medidas = df_combinado_defeitos_medidas.drop(columns=['Cortes por minuto', 'Tras-PV (F°)', 'Fritas-PV (F°)', 'Agit-PV (F°)', 'Meio-PV (F°)', 'Frente-PV (F°)'])\n",
    "\n",
    "df_combinado_defeitos_medidas = df_combinado_defeitos_medidas.set_index(colunas_indice)"
   ]
  },
  {
   "cell_type": "code",
   "execution_count": 87,
   "metadata": {},
   "outputs": [
    {
     "data": {
      "text/plain": [
       "Index(['Defeito', 'Quantidade'], dtype='object')"
      ]
     },
     "execution_count": 87,
     "metadata": {},
     "output_type": "execute_result"
    }
   ],
   "source": [
    "df_combinado_defeitos_medidas.columns"
   ]
  },
  {
   "cell_type": "code",
   "execution_count": 88,
   "metadata": {},
   "outputs": [],
   "source": [
    "df_combinado_defeitos_medidas_reset = df_combinado_defeitos_medidas.reset_index()"
   ]
  },
  {
   "cell_type": "markdown",
   "metadata": {},
   "source": [
    "## Criando Dataframe para análise completa dos defeitos e medidas "
   ]
  },
  {
   "cell_type": "markdown",
   "metadata": {},
   "source": [
    "### `pivot_table` cria uma tabela em que cada defeito será uma coluna, e as variáveis numéricas são agrupadas nas linhas. \n",
    "\n",
    "A função aggfunc='sum' soma as quantidades de defeitos para cada combinação de parâmetros."
   ]
  },
  {
   "cell_type": "code",
   "execution_count": 89,
   "metadata": {},
   "outputs": [],
   "source": [
    "df_defeitos_medidas_geral = df_combinado_defeitos_medidas_reset.pivot_table(\n",
    "    values='Quantidade', \n",
    "    index=['Ordem de prod', 'Ref. do Artigo', 'Data de prod', 'Temperatura (F°)', 'Peso médio (g)', \n",
    "           'Comprimento médio (mm)', 'Diâmetro', 'Gotas cortadas (toneladas)', 'Total de Defeitos no Dia', 'Defeito Mais Frequente do Dia'],\n",
    "    columns='Defeito', \n",
    "    aggfunc='sum',\n",
    "    fill_value=0\n",
    ")"
   ]
  },
  {
   "cell_type": "code",
   "execution_count": 90,
   "metadata": {},
   "outputs": [],
   "source": [
    "df_defeitos_medidas_geral.index.name = None"
   ]
  },
  {
   "cell_type": "code",
   "execution_count": 91,
   "metadata": {},
   "outputs": [
    {
     "data": {
      "text/html": [
       "<div>\n",
       "<style scoped>\n",
       "    .dataframe tbody tr th:only-of-type {\n",
       "        vertical-align: middle;\n",
       "    }\n",
       "\n",
       "    .dataframe tbody tr th {\n",
       "        vertical-align: top;\n",
       "    }\n",
       "\n",
       "    .dataframe thead th {\n",
       "        text-align: right;\n",
       "    }\n",
       "</style>\n",
       "<table border=\"1\" class=\"dataframe\">\n",
       "  <thead>\n",
       "    <tr style=\"text-align: right;\">\n",
       "      <th></th>\n",
       "      <th></th>\n",
       "      <th></th>\n",
       "      <th></th>\n",
       "      <th></th>\n",
       "      <th></th>\n",
       "      <th></th>\n",
       "      <th></th>\n",
       "      <th></th>\n",
       "      <th>Defeito</th>\n",
       "      <th>Aderido</th>\n",
       "      <th>Aglomerado de bolhas</th>\n",
       "      <th>Altura abaixo do mínimo</th>\n",
       "      <th>Altura acima do máximo</th>\n",
       "      <th>Alça deformada</th>\n",
       "      <th>Amassado</th>\n",
       "      <th>Anel deformado</th>\n",
       "      <th>Atrito</th>\n",
       "      <th>Batido</th>\n",
       "      <th>Boca abaixo do mínimo</th>\n",
       "      <th>...</th>\n",
       "      <th>T abaixo do mínimo</th>\n",
       "      <th>T acima do máximo</th>\n",
       "      <th>Terminação deformada</th>\n",
       "      <th>Terminação fora de centro</th>\n",
       "      <th>Terminação suja</th>\n",
       "      <th>Terminação torta</th>\n",
       "      <th>Trinca por choque térmico</th>\n",
       "      <th>Volume abaixo do mínimo</th>\n",
       "      <th>Volume acima do máximo</th>\n",
       "      <th>Áspero</th>\n",
       "    </tr>\n",
       "    <tr>\n",
       "      <th>Ordem de prod</th>\n",
       "      <th>Ref. do Artigo</th>\n",
       "      <th>Data de prod</th>\n",
       "      <th>Temperatura (F°)</th>\n",
       "      <th>Peso médio (g)</th>\n",
       "      <th>Comprimento médio (mm)</th>\n",
       "      <th>Diâmetro</th>\n",
       "      <th>Gotas cortadas (toneladas)</th>\n",
       "      <th>Total de Defeitos no Dia</th>\n",
       "      <th>Defeito Mais Frequente do Dia</th>\n",
       "      <th></th>\n",
       "      <th></th>\n",
       "      <th></th>\n",
       "      <th></th>\n",
       "      <th></th>\n",
       "      <th></th>\n",
       "      <th></th>\n",
       "      <th></th>\n",
       "      <th></th>\n",
       "      <th></th>\n",
       "      <th></th>\n",
       "      <th></th>\n",
       "      <th></th>\n",
       "      <th></th>\n",
       "      <th></th>\n",
       "      <th></th>\n",
       "      <th></th>\n",
       "      <th></th>\n",
       "      <th></th>\n",
       "      <th></th>\n",
       "      <th></th>\n",
       "    </tr>\n",
       "  </thead>\n",
       "  <tbody>\n",
       "    <tr>\n",
       "      <th rowspan=\"5\" valign=\"top\">192970</th>\n",
       "      <th rowspan=\"5\" valign=\"top\">C0516.0000R</th>\n",
       "      <th>2024-01-03</th>\n",
       "      <th>2126.97</th>\n",
       "      <th>169.3</th>\n",
       "      <th>110.4</th>\n",
       "      <th>32.5</th>\n",
       "      <th>20.948</th>\n",
       "      <th>222</th>\n",
       "      <th>Sujo de óleo</th>\n",
       "      <td>0</td>\n",
       "      <td>0</td>\n",
       "      <td>0</td>\n",
       "      <td>0</td>\n",
       "      <td>0</td>\n",
       "      <td>0</td>\n",
       "      <td>0</td>\n",
       "      <td>0</td>\n",
       "      <td>0</td>\n",
       "      <td>0</td>\n",
       "      <td>...</td>\n",
       "      <td>3</td>\n",
       "      <td>0</td>\n",
       "      <td>0</td>\n",
       "      <td>0</td>\n",
       "      <td>0</td>\n",
       "      <td>0</td>\n",
       "      <td>5</td>\n",
       "      <td>0</td>\n",
       "      <td>0</td>\n",
       "      <td>0</td>\n",
       "    </tr>\n",
       "    <tr>\n",
       "      <th>2024-01-04</th>\n",
       "      <th>2118.92</th>\n",
       "      <th>169.7</th>\n",
       "      <th>85.6</th>\n",
       "      <th>18.1</th>\n",
       "      <th>21.022</th>\n",
       "      <th>249</th>\n",
       "      <th>Sujo de óleo</th>\n",
       "      <td>0</td>\n",
       "      <td>0</td>\n",
       "      <td>0</td>\n",
       "      <td>0</td>\n",
       "      <td>0</td>\n",
       "      <td>0</td>\n",
       "      <td>0</td>\n",
       "      <td>0</td>\n",
       "      <td>6</td>\n",
       "      <td>0</td>\n",
       "      <td>...</td>\n",
       "      <td>0</td>\n",
       "      <td>0</td>\n",
       "      <td>1</td>\n",
       "      <td>0</td>\n",
       "      <td>1</td>\n",
       "      <td>0</td>\n",
       "      <td>14</td>\n",
       "      <td>0</td>\n",
       "      <td>1</td>\n",
       "      <td>0</td>\n",
       "    </tr>\n",
       "    <tr>\n",
       "      <th>2024-01-05</th>\n",
       "      <th>2125.00</th>\n",
       "      <th>173.6</th>\n",
       "      <th>140.5</th>\n",
       "      <th>32.9</th>\n",
       "      <th>21.449</th>\n",
       "      <th>268</th>\n",
       "      <th>Sujo de óleo</th>\n",
       "      <td>0</td>\n",
       "      <td>0</td>\n",
       "      <td>0</td>\n",
       "      <td>0</td>\n",
       "      <td>0</td>\n",
       "      <td>0</td>\n",
       "      <td>0</td>\n",
       "      <td>0</td>\n",
       "      <td>1</td>\n",
       "      <td>0</td>\n",
       "      <td>...</td>\n",
       "      <td>0</td>\n",
       "      <td>2</td>\n",
       "      <td>0</td>\n",
       "      <td>0</td>\n",
       "      <td>2</td>\n",
       "      <td>0</td>\n",
       "      <td>16</td>\n",
       "      <td>0</td>\n",
       "      <td>0</td>\n",
       "      <td>0</td>\n",
       "    </tr>\n",
       "    <tr>\n",
       "      <th>2024-01-06</th>\n",
       "      <th>2125.40</th>\n",
       "      <th>170.2</th>\n",
       "      <th>144.7</th>\n",
       "      <th>32.7</th>\n",
       "      <th>21.526</th>\n",
       "      <th>242</th>\n",
       "      <th>Sujo de óleo</th>\n",
       "      <td>0</td>\n",
       "      <td>0</td>\n",
       "      <td>0</td>\n",
       "      <td>0</td>\n",
       "      <td>0</td>\n",
       "      <td>0</td>\n",
       "      <td>0</td>\n",
       "      <td>0</td>\n",
       "      <td>0</td>\n",
       "      <td>0</td>\n",
       "      <td>...</td>\n",
       "      <td>2</td>\n",
       "      <td>0</td>\n",
       "      <td>0</td>\n",
       "      <td>0</td>\n",
       "      <td>2</td>\n",
       "      <td>0</td>\n",
       "      <td>20</td>\n",
       "      <td>0</td>\n",
       "      <td>0</td>\n",
       "      <td>0</td>\n",
       "    </tr>\n",
       "    <tr>\n",
       "      <th>2024-01-07</th>\n",
       "      <th>2126.76</th>\n",
       "      <th>171.7</th>\n",
       "      <th>141.5</th>\n",
       "      <th>30.2</th>\n",
       "      <th>21.439</th>\n",
       "      <th>232</th>\n",
       "      <th>Sujo de óleo</th>\n",
       "      <td>0</td>\n",
       "      <td>0</td>\n",
       "      <td>0</td>\n",
       "      <td>0</td>\n",
       "      <td>0</td>\n",
       "      <td>0</td>\n",
       "      <td>0</td>\n",
       "      <td>6</td>\n",
       "      <td>0</td>\n",
       "      <td>0</td>\n",
       "      <td>...</td>\n",
       "      <td>1</td>\n",
       "      <td>2</td>\n",
       "      <td>0</td>\n",
       "      <td>0</td>\n",
       "      <td>0</td>\n",
       "      <td>0</td>\n",
       "      <td>8</td>\n",
       "      <td>0</td>\n",
       "      <td>1</td>\n",
       "      <td>0</td>\n",
       "    </tr>\n",
       "  </tbody>\n",
       "</table>\n",
       "<p>5 rows × 127 columns</p>\n",
       "</div>"
      ],
      "text/plain": [
       "Defeito                                                                                                                                                                                      Aderido  \\\n",
       "Ordem de prod Ref. do Artigo Data de prod Temperatura (F°) Peso médio (g) Comprimento médio (mm) Diâmetro Gotas cortadas (toneladas) Total de Defeitos no Dia Defeito Mais Frequente do Dia            \n",
       "192970        C0516.0000R    2024-01-03   2126.97          169.3          110.4                  32.5     20.948                     222                      Sujo de óleo                         0   \n",
       "                             2024-01-04   2118.92          169.7          85.6                   18.1     21.022                     249                      Sujo de óleo                         0   \n",
       "                             2024-01-05   2125.00          173.6          140.5                  32.9     21.449                     268                      Sujo de óleo                         0   \n",
       "                             2024-01-06   2125.40          170.2          144.7                  32.7     21.526                     242                      Sujo de óleo                         0   \n",
       "                             2024-01-07   2126.76          171.7          141.5                  30.2     21.439                     232                      Sujo de óleo                         0   \n",
       "\n",
       "Defeito                                                                                                                                                                                      Aglomerado de bolhas  \\\n",
       "Ordem de prod Ref. do Artigo Data de prod Temperatura (F°) Peso médio (g) Comprimento médio (mm) Diâmetro Gotas cortadas (toneladas) Total de Defeitos no Dia Defeito Mais Frequente do Dia                         \n",
       "192970        C0516.0000R    2024-01-03   2126.97          169.3          110.4                  32.5     20.948                     222                      Sujo de óleo                                      0   \n",
       "                             2024-01-04   2118.92          169.7          85.6                   18.1     21.022                     249                      Sujo de óleo                                      0   \n",
       "                             2024-01-05   2125.00          173.6          140.5                  32.9     21.449                     268                      Sujo de óleo                                      0   \n",
       "                             2024-01-06   2125.40          170.2          144.7                  32.7     21.526                     242                      Sujo de óleo                                      0   \n",
       "                             2024-01-07   2126.76          171.7          141.5                  30.2     21.439                     232                      Sujo de óleo                                      0   \n",
       "\n",
       "Defeito                                                                                                                                                                                      Altura abaixo do mínimo  \\\n",
       "Ordem de prod Ref. do Artigo Data de prod Temperatura (F°) Peso médio (g) Comprimento médio (mm) Diâmetro Gotas cortadas (toneladas) Total de Defeitos no Dia Defeito Mais Frequente do Dia                            \n",
       "192970        C0516.0000R    2024-01-03   2126.97          169.3          110.4                  32.5     20.948                     222                      Sujo de óleo                                         0   \n",
       "                             2024-01-04   2118.92          169.7          85.6                   18.1     21.022                     249                      Sujo de óleo                                         0   \n",
       "                             2024-01-05   2125.00          173.6          140.5                  32.9     21.449                     268                      Sujo de óleo                                         0   \n",
       "                             2024-01-06   2125.40          170.2          144.7                  32.7     21.526                     242                      Sujo de óleo                                         0   \n",
       "                             2024-01-07   2126.76          171.7          141.5                  30.2     21.439                     232                      Sujo de óleo                                         0   \n",
       "\n",
       "Defeito                                                                                                                                                                                      Altura acima do máximo  \\\n",
       "Ordem de prod Ref. do Artigo Data de prod Temperatura (F°) Peso médio (g) Comprimento médio (mm) Diâmetro Gotas cortadas (toneladas) Total de Defeitos no Dia Defeito Mais Frequente do Dia                           \n",
       "192970        C0516.0000R    2024-01-03   2126.97          169.3          110.4                  32.5     20.948                     222                      Sujo de óleo                                        0   \n",
       "                             2024-01-04   2118.92          169.7          85.6                   18.1     21.022                     249                      Sujo de óleo                                        0   \n",
       "                             2024-01-05   2125.00          173.6          140.5                  32.9     21.449                     268                      Sujo de óleo                                        0   \n",
       "                             2024-01-06   2125.40          170.2          144.7                  32.7     21.526                     242                      Sujo de óleo                                        0   \n",
       "                             2024-01-07   2126.76          171.7          141.5                  30.2     21.439                     232                      Sujo de óleo                                        0   \n",
       "\n",
       "Defeito                                                                                                                                                                                      Alça deformada  \\\n",
       "Ordem de prod Ref. do Artigo Data de prod Temperatura (F°) Peso médio (g) Comprimento médio (mm) Diâmetro Gotas cortadas (toneladas) Total de Defeitos no Dia Defeito Mais Frequente do Dia                   \n",
       "192970        C0516.0000R    2024-01-03   2126.97          169.3          110.4                  32.5     20.948                     222                      Sujo de óleo                                0   \n",
       "                             2024-01-04   2118.92          169.7          85.6                   18.1     21.022                     249                      Sujo de óleo                                0   \n",
       "                             2024-01-05   2125.00          173.6          140.5                  32.9     21.449                     268                      Sujo de óleo                                0   \n",
       "                             2024-01-06   2125.40          170.2          144.7                  32.7     21.526                     242                      Sujo de óleo                                0   \n",
       "                             2024-01-07   2126.76          171.7          141.5                  30.2     21.439                     232                      Sujo de óleo                                0   \n",
       "\n",
       "Defeito                                                                                                                                                                                      Amassado  \\\n",
       "Ordem de prod Ref. do Artigo Data de prod Temperatura (F°) Peso médio (g) Comprimento médio (mm) Diâmetro Gotas cortadas (toneladas) Total de Defeitos no Dia Defeito Mais Frequente do Dia             \n",
       "192970        C0516.0000R    2024-01-03   2126.97          169.3          110.4                  32.5     20.948                     222                      Sujo de óleo                          0   \n",
       "                             2024-01-04   2118.92          169.7          85.6                   18.1     21.022                     249                      Sujo de óleo                          0   \n",
       "                             2024-01-05   2125.00          173.6          140.5                  32.9     21.449                     268                      Sujo de óleo                          0   \n",
       "                             2024-01-06   2125.40          170.2          144.7                  32.7     21.526                     242                      Sujo de óleo                          0   \n",
       "                             2024-01-07   2126.76          171.7          141.5                  30.2     21.439                     232                      Sujo de óleo                          0   \n",
       "\n",
       "Defeito                                                                                                                                                                                      Anel deformado  \\\n",
       "Ordem de prod Ref. do Artigo Data de prod Temperatura (F°) Peso médio (g) Comprimento médio (mm) Diâmetro Gotas cortadas (toneladas) Total de Defeitos no Dia Defeito Mais Frequente do Dia                   \n",
       "192970        C0516.0000R    2024-01-03   2126.97          169.3          110.4                  32.5     20.948                     222                      Sujo de óleo                                0   \n",
       "                             2024-01-04   2118.92          169.7          85.6                   18.1     21.022                     249                      Sujo de óleo                                0   \n",
       "                             2024-01-05   2125.00          173.6          140.5                  32.9     21.449                     268                      Sujo de óleo                                0   \n",
       "                             2024-01-06   2125.40          170.2          144.7                  32.7     21.526                     242                      Sujo de óleo                                0   \n",
       "                             2024-01-07   2126.76          171.7          141.5                  30.2     21.439                     232                      Sujo de óleo                                0   \n",
       "\n",
       "Defeito                                                                                                                                                                                      Atrito  \\\n",
       "Ordem de prod Ref. do Artigo Data de prod Temperatura (F°) Peso médio (g) Comprimento médio (mm) Diâmetro Gotas cortadas (toneladas) Total de Defeitos no Dia Defeito Mais Frequente do Dia           \n",
       "192970        C0516.0000R    2024-01-03   2126.97          169.3          110.4                  32.5     20.948                     222                      Sujo de óleo                        0   \n",
       "                             2024-01-04   2118.92          169.7          85.6                   18.1     21.022                     249                      Sujo de óleo                        0   \n",
       "                             2024-01-05   2125.00          173.6          140.5                  32.9     21.449                     268                      Sujo de óleo                        0   \n",
       "                             2024-01-06   2125.40          170.2          144.7                  32.7     21.526                     242                      Sujo de óleo                        0   \n",
       "                             2024-01-07   2126.76          171.7          141.5                  30.2     21.439                     232                      Sujo de óleo                        6   \n",
       "\n",
       "Defeito                                                                                                                                                                                      Batido  \\\n",
       "Ordem de prod Ref. do Artigo Data de prod Temperatura (F°) Peso médio (g) Comprimento médio (mm) Diâmetro Gotas cortadas (toneladas) Total de Defeitos no Dia Defeito Mais Frequente do Dia           \n",
       "192970        C0516.0000R    2024-01-03   2126.97          169.3          110.4                  32.5     20.948                     222                      Sujo de óleo                        0   \n",
       "                             2024-01-04   2118.92          169.7          85.6                   18.1     21.022                     249                      Sujo de óleo                        6   \n",
       "                             2024-01-05   2125.00          173.6          140.5                  32.9     21.449                     268                      Sujo de óleo                        1   \n",
       "                             2024-01-06   2125.40          170.2          144.7                  32.7     21.526                     242                      Sujo de óleo                        0   \n",
       "                             2024-01-07   2126.76          171.7          141.5                  30.2     21.439                     232                      Sujo de óleo                        0   \n",
       "\n",
       "Defeito                                                                                                                                                                                      Boca abaixo do mínimo  \\\n",
       "Ordem de prod Ref. do Artigo Data de prod Temperatura (F°) Peso médio (g) Comprimento médio (mm) Diâmetro Gotas cortadas (toneladas) Total de Defeitos no Dia Defeito Mais Frequente do Dia                          \n",
       "192970        C0516.0000R    2024-01-03   2126.97          169.3          110.4                  32.5     20.948                     222                      Sujo de óleo                                       0   \n",
       "                             2024-01-04   2118.92          169.7          85.6                   18.1     21.022                     249                      Sujo de óleo                                       0   \n",
       "                             2024-01-05   2125.00          173.6          140.5                  32.9     21.449                     268                      Sujo de óleo                                       0   \n",
       "                             2024-01-06   2125.40          170.2          144.7                  32.7     21.526                     242                      Sujo de óleo                                       0   \n",
       "                             2024-01-07   2126.76          171.7          141.5                  30.2     21.439                     232                      Sujo de óleo                                       0   \n",
       "\n",
       "Defeito                                                                                                                                                                                      ...  \\\n",
       "Ordem de prod Ref. do Artigo Data de prod Temperatura (F°) Peso médio (g) Comprimento médio (mm) Diâmetro Gotas cortadas (toneladas) Total de Defeitos no Dia Defeito Mais Frequente do Dia  ...   \n",
       "192970        C0516.0000R    2024-01-03   2126.97          169.3          110.4                  32.5     20.948                     222                      Sujo de óleo                   ...   \n",
       "                             2024-01-04   2118.92          169.7          85.6                   18.1     21.022                     249                      Sujo de óleo                   ...   \n",
       "                             2024-01-05   2125.00          173.6          140.5                  32.9     21.449                     268                      Sujo de óleo                   ...   \n",
       "                             2024-01-06   2125.40          170.2          144.7                  32.7     21.526                     242                      Sujo de óleo                   ...   \n",
       "                             2024-01-07   2126.76          171.7          141.5                  30.2     21.439                     232                      Sujo de óleo                   ...   \n",
       "\n",
       "Defeito                                                                                                                                                                                      T abaixo do mínimo  \\\n",
       "Ordem de prod Ref. do Artigo Data de prod Temperatura (F°) Peso médio (g) Comprimento médio (mm) Diâmetro Gotas cortadas (toneladas) Total de Defeitos no Dia Defeito Mais Frequente do Dia                       \n",
       "192970        C0516.0000R    2024-01-03   2126.97          169.3          110.4                  32.5     20.948                     222                      Sujo de óleo                                    3   \n",
       "                             2024-01-04   2118.92          169.7          85.6                   18.1     21.022                     249                      Sujo de óleo                                    0   \n",
       "                             2024-01-05   2125.00          173.6          140.5                  32.9     21.449                     268                      Sujo de óleo                                    0   \n",
       "                             2024-01-06   2125.40          170.2          144.7                  32.7     21.526                     242                      Sujo de óleo                                    2   \n",
       "                             2024-01-07   2126.76          171.7          141.5                  30.2     21.439                     232                      Sujo de óleo                                    1   \n",
       "\n",
       "Defeito                                                                                                                                                                                      T acima do máximo  \\\n",
       "Ordem de prod Ref. do Artigo Data de prod Temperatura (F°) Peso médio (g) Comprimento médio (mm) Diâmetro Gotas cortadas (toneladas) Total de Defeitos no Dia Defeito Mais Frequente do Dia                      \n",
       "192970        C0516.0000R    2024-01-03   2126.97          169.3          110.4                  32.5     20.948                     222                      Sujo de óleo                                   0   \n",
       "                             2024-01-04   2118.92          169.7          85.6                   18.1     21.022                     249                      Sujo de óleo                                   0   \n",
       "                             2024-01-05   2125.00          173.6          140.5                  32.9     21.449                     268                      Sujo de óleo                                   2   \n",
       "                             2024-01-06   2125.40          170.2          144.7                  32.7     21.526                     242                      Sujo de óleo                                   0   \n",
       "                             2024-01-07   2126.76          171.7          141.5                  30.2     21.439                     232                      Sujo de óleo                                   2   \n",
       "\n",
       "Defeito                                                                                                                                                                                      Terminação deformada  \\\n",
       "Ordem de prod Ref. do Artigo Data de prod Temperatura (F°) Peso médio (g) Comprimento médio (mm) Diâmetro Gotas cortadas (toneladas) Total de Defeitos no Dia Defeito Mais Frequente do Dia                         \n",
       "192970        C0516.0000R    2024-01-03   2126.97          169.3          110.4                  32.5     20.948                     222                      Sujo de óleo                                      0   \n",
       "                             2024-01-04   2118.92          169.7          85.6                   18.1     21.022                     249                      Sujo de óleo                                      1   \n",
       "                             2024-01-05   2125.00          173.6          140.5                  32.9     21.449                     268                      Sujo de óleo                                      0   \n",
       "                             2024-01-06   2125.40          170.2          144.7                  32.7     21.526                     242                      Sujo de óleo                                      0   \n",
       "                             2024-01-07   2126.76          171.7          141.5                  30.2     21.439                     232                      Sujo de óleo                                      0   \n",
       "\n",
       "Defeito                                                                                                                                                                                      Terminação fora de centro  \\\n",
       "Ordem de prod Ref. do Artigo Data de prod Temperatura (F°) Peso médio (g) Comprimento médio (mm) Diâmetro Gotas cortadas (toneladas) Total de Defeitos no Dia Defeito Mais Frequente do Dia                              \n",
       "192970        C0516.0000R    2024-01-03   2126.97          169.3          110.4                  32.5     20.948                     222                      Sujo de óleo                                           0   \n",
       "                             2024-01-04   2118.92          169.7          85.6                   18.1     21.022                     249                      Sujo de óleo                                           0   \n",
       "                             2024-01-05   2125.00          173.6          140.5                  32.9     21.449                     268                      Sujo de óleo                                           0   \n",
       "                             2024-01-06   2125.40          170.2          144.7                  32.7     21.526                     242                      Sujo de óleo                                           0   \n",
       "                             2024-01-07   2126.76          171.7          141.5                  30.2     21.439                     232                      Sujo de óleo                                           0   \n",
       "\n",
       "Defeito                                                                                                                                                                                      Terminação suja  \\\n",
       "Ordem de prod Ref. do Artigo Data de prod Temperatura (F°) Peso médio (g) Comprimento médio (mm) Diâmetro Gotas cortadas (toneladas) Total de Defeitos no Dia Defeito Mais Frequente do Dia                    \n",
       "192970        C0516.0000R    2024-01-03   2126.97          169.3          110.4                  32.5     20.948                     222                      Sujo de óleo                                 0   \n",
       "                             2024-01-04   2118.92          169.7          85.6                   18.1     21.022                     249                      Sujo de óleo                                 1   \n",
       "                             2024-01-05   2125.00          173.6          140.5                  32.9     21.449                     268                      Sujo de óleo                                 2   \n",
       "                             2024-01-06   2125.40          170.2          144.7                  32.7     21.526                     242                      Sujo de óleo                                 2   \n",
       "                             2024-01-07   2126.76          171.7          141.5                  30.2     21.439                     232                      Sujo de óleo                                 0   \n",
       "\n",
       "Defeito                                                                                                                                                                                      Terminação torta  \\\n",
       "Ordem de prod Ref. do Artigo Data de prod Temperatura (F°) Peso médio (g) Comprimento médio (mm) Diâmetro Gotas cortadas (toneladas) Total de Defeitos no Dia Defeito Mais Frequente do Dia                     \n",
       "192970        C0516.0000R    2024-01-03   2126.97          169.3          110.4                  32.5     20.948                     222                      Sujo de óleo                                  0   \n",
       "                             2024-01-04   2118.92          169.7          85.6                   18.1     21.022                     249                      Sujo de óleo                                  0   \n",
       "                             2024-01-05   2125.00          173.6          140.5                  32.9     21.449                     268                      Sujo de óleo                                  0   \n",
       "                             2024-01-06   2125.40          170.2          144.7                  32.7     21.526                     242                      Sujo de óleo                                  0   \n",
       "                             2024-01-07   2126.76          171.7          141.5                  30.2     21.439                     232                      Sujo de óleo                                  0   \n",
       "\n",
       "Defeito                                                                                                                                                                                      Trinca por choque térmico  \\\n",
       "Ordem de prod Ref. do Artigo Data de prod Temperatura (F°) Peso médio (g) Comprimento médio (mm) Diâmetro Gotas cortadas (toneladas) Total de Defeitos no Dia Defeito Mais Frequente do Dia                              \n",
       "192970        C0516.0000R    2024-01-03   2126.97          169.3          110.4                  32.5     20.948                     222                      Sujo de óleo                                           5   \n",
       "                             2024-01-04   2118.92          169.7          85.6                   18.1     21.022                     249                      Sujo de óleo                                          14   \n",
       "                             2024-01-05   2125.00          173.6          140.5                  32.9     21.449                     268                      Sujo de óleo                                          16   \n",
       "                             2024-01-06   2125.40          170.2          144.7                  32.7     21.526                     242                      Sujo de óleo                                          20   \n",
       "                             2024-01-07   2126.76          171.7          141.5                  30.2     21.439                     232                      Sujo de óleo                                           8   \n",
       "\n",
       "Defeito                                                                                                                                                                                      Volume abaixo do mínimo  \\\n",
       "Ordem de prod Ref. do Artigo Data de prod Temperatura (F°) Peso médio (g) Comprimento médio (mm) Diâmetro Gotas cortadas (toneladas) Total de Defeitos no Dia Defeito Mais Frequente do Dia                            \n",
       "192970        C0516.0000R    2024-01-03   2126.97          169.3          110.4                  32.5     20.948                     222                      Sujo de óleo                                         0   \n",
       "                             2024-01-04   2118.92          169.7          85.6                   18.1     21.022                     249                      Sujo de óleo                                         0   \n",
       "                             2024-01-05   2125.00          173.6          140.5                  32.9     21.449                     268                      Sujo de óleo                                         0   \n",
       "                             2024-01-06   2125.40          170.2          144.7                  32.7     21.526                     242                      Sujo de óleo                                         0   \n",
       "                             2024-01-07   2126.76          171.7          141.5                  30.2     21.439                     232                      Sujo de óleo                                         0   \n",
       "\n",
       "Defeito                                                                                                                                                                                      Volume acima do máximo  \\\n",
       "Ordem de prod Ref. do Artigo Data de prod Temperatura (F°) Peso médio (g) Comprimento médio (mm) Diâmetro Gotas cortadas (toneladas) Total de Defeitos no Dia Defeito Mais Frequente do Dia                           \n",
       "192970        C0516.0000R    2024-01-03   2126.97          169.3          110.4                  32.5     20.948                     222                      Sujo de óleo                                        0   \n",
       "                             2024-01-04   2118.92          169.7          85.6                   18.1     21.022                     249                      Sujo de óleo                                        1   \n",
       "                             2024-01-05   2125.00          173.6          140.5                  32.9     21.449                     268                      Sujo de óleo                                        0   \n",
       "                             2024-01-06   2125.40          170.2          144.7                  32.7     21.526                     242                      Sujo de óleo                                        0   \n",
       "                             2024-01-07   2126.76          171.7          141.5                  30.2     21.439                     232                      Sujo de óleo                                        1   \n",
       "\n",
       "Defeito                                                                                                                                                                                      Áspero  \n",
       "Ordem de prod Ref. do Artigo Data de prod Temperatura (F°) Peso médio (g) Comprimento médio (mm) Diâmetro Gotas cortadas (toneladas) Total de Defeitos no Dia Defeito Mais Frequente do Dia          \n",
       "192970        C0516.0000R    2024-01-03   2126.97          169.3          110.4                  32.5     20.948                     222                      Sujo de óleo                        0  \n",
       "                             2024-01-04   2118.92          169.7          85.6                   18.1     21.022                     249                      Sujo de óleo                        0  \n",
       "                             2024-01-05   2125.00          173.6          140.5                  32.9     21.449                     268                      Sujo de óleo                        0  \n",
       "                             2024-01-06   2125.40          170.2          144.7                  32.7     21.526                     242                      Sujo de óleo                        0  \n",
       "                             2024-01-07   2126.76          171.7          141.5                  30.2     21.439                     232                      Sujo de óleo                        0  \n",
       "\n",
       "[5 rows x 127 columns]"
      ]
     },
     "execution_count": 91,
     "metadata": {},
     "output_type": "execute_result"
    }
   ],
   "source": [
    "df_defeitos_medidas_geral.head()"
   ]
  },
  {
   "cell_type": "markdown",
   "metadata": {},
   "source": [
    "### Ordenando por colunas com mais defeitos"
   ]
  },
  {
   "cell_type": "code",
   "execution_count": 92,
   "metadata": {},
   "outputs": [],
   "source": [
    "colunas_ordered = df_defeitos_medidas_geral.sum(axis=0).sort_values(ascending=False).index\n",
    "df_defeitos_medidas_geral = df_defeitos_medidas_geral[colunas_ordered]"
   ]
  },
  {
   "cell_type": "code",
   "execution_count": 93,
   "metadata": {},
   "outputs": [
    {
     "data": {
      "text/html": [
       "<div>\n",
       "<style scoped>\n",
       "    .dataframe tbody tr th:only-of-type {\n",
       "        vertical-align: middle;\n",
       "    }\n",
       "\n",
       "    .dataframe tbody tr th {\n",
       "        vertical-align: top;\n",
       "    }\n",
       "\n",
       "    .dataframe thead th {\n",
       "        text-align: right;\n",
       "    }\n",
       "</style>\n",
       "<table border=\"1\" class=\"dataframe\">\n",
       "  <thead>\n",
       "    <tr style=\"text-align: right;\">\n",
       "      <th></th>\n",
       "      <th></th>\n",
       "      <th></th>\n",
       "      <th></th>\n",
       "      <th></th>\n",
       "      <th></th>\n",
       "      <th></th>\n",
       "      <th></th>\n",
       "      <th></th>\n",
       "      <th>Defeito</th>\n",
       "      <th>Sujo de óleo</th>\n",
       "      <th>Rugas</th>\n",
       "      <th>Racho na terminação</th>\n",
       "      <th>Trinca por choque térmico</th>\n",
       "      <th>Dobra</th>\n",
       "      <th>Falta de seção</th>\n",
       "      <th>Bolha</th>\n",
       "      <th>Sardas</th>\n",
       "      <th>Dobra aberta no gargalo</th>\n",
       "      <th>Lascado em produção</th>\n",
       "      <th>...</th>\n",
       "      <th>Bolha aberta interna</th>\n",
       "      <th>Cascão cortante</th>\n",
       "      <th>Espessura abaixo do mínimo</th>\n",
       "      <th>Fundo deformado</th>\n",
       "      <th>Bolha na alça</th>\n",
       "      <th>Ferrugem no corpo</th>\n",
       "      <th>Fagulha</th>\n",
       "      <th>Alça deformada</th>\n",
       "      <th>Instabilidade</th>\n",
       "      <th>Crú</th>\n",
       "    </tr>\n",
       "    <tr>\n",
       "      <th>Ordem de prod</th>\n",
       "      <th>Ref. do Artigo</th>\n",
       "      <th>Data de prod</th>\n",
       "      <th>Temperatura (F°)</th>\n",
       "      <th>Peso médio (g)</th>\n",
       "      <th>Comprimento médio (mm)</th>\n",
       "      <th>Diâmetro</th>\n",
       "      <th>Gotas cortadas (toneladas)</th>\n",
       "      <th>Total de Defeitos no Dia</th>\n",
       "      <th>Defeito Mais Frequente do Dia</th>\n",
       "      <th></th>\n",
       "      <th></th>\n",
       "      <th></th>\n",
       "      <th></th>\n",
       "      <th></th>\n",
       "      <th></th>\n",
       "      <th></th>\n",
       "      <th></th>\n",
       "      <th></th>\n",
       "      <th></th>\n",
       "      <th></th>\n",
       "      <th></th>\n",
       "      <th></th>\n",
       "      <th></th>\n",
       "      <th></th>\n",
       "      <th></th>\n",
       "      <th></th>\n",
       "      <th></th>\n",
       "      <th></th>\n",
       "      <th></th>\n",
       "      <th></th>\n",
       "    </tr>\n",
       "  </thead>\n",
       "  <tbody>\n",
       "    <tr>\n",
       "      <th rowspan=\"5\" valign=\"top\">192970</th>\n",
       "      <th rowspan=\"5\" valign=\"top\">C0516.0000R</th>\n",
       "      <th>2024-01-03</th>\n",
       "      <th>2126.97</th>\n",
       "      <th>169.3</th>\n",
       "      <th>110.4</th>\n",
       "      <th>32.5</th>\n",
       "      <th>20.948</th>\n",
       "      <th>222</th>\n",
       "      <th>Sujo de óleo</th>\n",
       "      <td>31</td>\n",
       "      <td>23</td>\n",
       "      <td>1</td>\n",
       "      <td>5</td>\n",
       "      <td>10</td>\n",
       "      <td>13</td>\n",
       "      <td>0</td>\n",
       "      <td>2</td>\n",
       "      <td>1</td>\n",
       "      <td>0</td>\n",
       "      <td>...</td>\n",
       "      <td>0</td>\n",
       "      <td>0</td>\n",
       "      <td>0</td>\n",
       "      <td>0</td>\n",
       "      <td>0</td>\n",
       "      <td>0</td>\n",
       "      <td>0</td>\n",
       "      <td>0</td>\n",
       "      <td>0</td>\n",
       "      <td>0</td>\n",
       "    </tr>\n",
       "    <tr>\n",
       "      <th>2024-01-04</th>\n",
       "      <th>2118.92</th>\n",
       "      <th>169.7</th>\n",
       "      <th>85.6</th>\n",
       "      <th>18.1</th>\n",
       "      <th>21.022</th>\n",
       "      <th>249</th>\n",
       "      <th>Sujo de óleo</th>\n",
       "      <td>49</td>\n",
       "      <td>15</td>\n",
       "      <td>6</td>\n",
       "      <td>14</td>\n",
       "      <td>11</td>\n",
       "      <td>34</td>\n",
       "      <td>2</td>\n",
       "      <td>7</td>\n",
       "      <td>0</td>\n",
       "      <td>1</td>\n",
       "      <td>...</td>\n",
       "      <td>0</td>\n",
       "      <td>0</td>\n",
       "      <td>0</td>\n",
       "      <td>0</td>\n",
       "      <td>0</td>\n",
       "      <td>0</td>\n",
       "      <td>0</td>\n",
       "      <td>0</td>\n",
       "      <td>0</td>\n",
       "      <td>0</td>\n",
       "    </tr>\n",
       "    <tr>\n",
       "      <th>2024-01-05</th>\n",
       "      <th>2125.00</th>\n",
       "      <th>173.6</th>\n",
       "      <th>140.5</th>\n",
       "      <th>32.9</th>\n",
       "      <th>21.449</th>\n",
       "      <th>268</th>\n",
       "      <th>Sujo de óleo</th>\n",
       "      <td>49</td>\n",
       "      <td>25</td>\n",
       "      <td>3</td>\n",
       "      <td>16</td>\n",
       "      <td>0</td>\n",
       "      <td>31</td>\n",
       "      <td>2</td>\n",
       "      <td>17</td>\n",
       "      <td>0</td>\n",
       "      <td>0</td>\n",
       "      <td>...</td>\n",
       "      <td>0</td>\n",
       "      <td>0</td>\n",
       "      <td>0</td>\n",
       "      <td>0</td>\n",
       "      <td>0</td>\n",
       "      <td>0</td>\n",
       "      <td>0</td>\n",
       "      <td>0</td>\n",
       "      <td>0</td>\n",
       "      <td>0</td>\n",
       "    </tr>\n",
       "    <tr>\n",
       "      <th>2024-01-06</th>\n",
       "      <th>2125.40</th>\n",
       "      <th>170.2</th>\n",
       "      <th>144.7</th>\n",
       "      <th>32.7</th>\n",
       "      <th>21.526</th>\n",
       "      <th>242</th>\n",
       "      <th>Sujo de óleo</th>\n",
       "      <td>73</td>\n",
       "      <td>20</td>\n",
       "      <td>5</td>\n",
       "      <td>20</td>\n",
       "      <td>7</td>\n",
       "      <td>20</td>\n",
       "      <td>2</td>\n",
       "      <td>6</td>\n",
       "      <td>0</td>\n",
       "      <td>3</td>\n",
       "      <td>...</td>\n",
       "      <td>0</td>\n",
       "      <td>0</td>\n",
       "      <td>0</td>\n",
       "      <td>0</td>\n",
       "      <td>0</td>\n",
       "      <td>0</td>\n",
       "      <td>0</td>\n",
       "      <td>0</td>\n",
       "      <td>0</td>\n",
       "      <td>0</td>\n",
       "    </tr>\n",
       "    <tr>\n",
       "      <th>2024-01-07</th>\n",
       "      <th>2126.76</th>\n",
       "      <th>171.7</th>\n",
       "      <th>141.5</th>\n",
       "      <th>30.2</th>\n",
       "      <th>21.439</th>\n",
       "      <th>232</th>\n",
       "      <th>Sujo de óleo</th>\n",
       "      <td>49</td>\n",
       "      <td>24</td>\n",
       "      <td>0</td>\n",
       "      <td>8</td>\n",
       "      <td>10</td>\n",
       "      <td>14</td>\n",
       "      <td>3</td>\n",
       "      <td>6</td>\n",
       "      <td>0</td>\n",
       "      <td>1</td>\n",
       "      <td>...</td>\n",
       "      <td>0</td>\n",
       "      <td>0</td>\n",
       "      <td>0</td>\n",
       "      <td>0</td>\n",
       "      <td>0</td>\n",
       "      <td>0</td>\n",
       "      <td>0</td>\n",
       "      <td>0</td>\n",
       "      <td>0</td>\n",
       "      <td>0</td>\n",
       "    </tr>\n",
       "  </tbody>\n",
       "</table>\n",
       "<p>5 rows × 127 columns</p>\n",
       "</div>"
      ],
      "text/plain": [
       "Defeito                                                                                                                                                                                      Sujo de óleo  \\\n",
       "Ordem de prod Ref. do Artigo Data de prod Temperatura (F°) Peso médio (g) Comprimento médio (mm) Diâmetro Gotas cortadas (toneladas) Total de Defeitos no Dia Defeito Mais Frequente do Dia                 \n",
       "192970        C0516.0000R    2024-01-03   2126.97          169.3          110.4                  32.5     20.948                     222                      Sujo de óleo                             31   \n",
       "                             2024-01-04   2118.92          169.7          85.6                   18.1     21.022                     249                      Sujo de óleo                             49   \n",
       "                             2024-01-05   2125.00          173.6          140.5                  32.9     21.449                     268                      Sujo de óleo                             49   \n",
       "                             2024-01-06   2125.40          170.2          144.7                  32.7     21.526                     242                      Sujo de óleo                             73   \n",
       "                             2024-01-07   2126.76          171.7          141.5                  30.2     21.439                     232                      Sujo de óleo                             49   \n",
       "\n",
       "Defeito                                                                                                                                                                                      Rugas  \\\n",
       "Ordem de prod Ref. do Artigo Data de prod Temperatura (F°) Peso médio (g) Comprimento médio (mm) Diâmetro Gotas cortadas (toneladas) Total de Defeitos no Dia Defeito Mais Frequente do Dia          \n",
       "192970        C0516.0000R    2024-01-03   2126.97          169.3          110.4                  32.5     20.948                     222                      Sujo de óleo                      23   \n",
       "                             2024-01-04   2118.92          169.7          85.6                   18.1     21.022                     249                      Sujo de óleo                      15   \n",
       "                             2024-01-05   2125.00          173.6          140.5                  32.9     21.449                     268                      Sujo de óleo                      25   \n",
       "                             2024-01-06   2125.40          170.2          144.7                  32.7     21.526                     242                      Sujo de óleo                      20   \n",
       "                             2024-01-07   2126.76          171.7          141.5                  30.2     21.439                     232                      Sujo de óleo                      24   \n",
       "\n",
       "Defeito                                                                                                                                                                                      Racho na terminação  \\\n",
       "Ordem de prod Ref. do Artigo Data de prod Temperatura (F°) Peso médio (g) Comprimento médio (mm) Diâmetro Gotas cortadas (toneladas) Total de Defeitos no Dia Defeito Mais Frequente do Dia                        \n",
       "192970        C0516.0000R    2024-01-03   2126.97          169.3          110.4                  32.5     20.948                     222                      Sujo de óleo                                     1   \n",
       "                             2024-01-04   2118.92          169.7          85.6                   18.1     21.022                     249                      Sujo de óleo                                     6   \n",
       "                             2024-01-05   2125.00          173.6          140.5                  32.9     21.449                     268                      Sujo de óleo                                     3   \n",
       "                             2024-01-06   2125.40          170.2          144.7                  32.7     21.526                     242                      Sujo de óleo                                     5   \n",
       "                             2024-01-07   2126.76          171.7          141.5                  30.2     21.439                     232                      Sujo de óleo                                     0   \n",
       "\n",
       "Defeito                                                                                                                                                                                      Trinca por choque térmico  \\\n",
       "Ordem de prod Ref. do Artigo Data de prod Temperatura (F°) Peso médio (g) Comprimento médio (mm) Diâmetro Gotas cortadas (toneladas) Total de Defeitos no Dia Defeito Mais Frequente do Dia                              \n",
       "192970        C0516.0000R    2024-01-03   2126.97          169.3          110.4                  32.5     20.948                     222                      Sujo de óleo                                           5   \n",
       "                             2024-01-04   2118.92          169.7          85.6                   18.1     21.022                     249                      Sujo de óleo                                          14   \n",
       "                             2024-01-05   2125.00          173.6          140.5                  32.9     21.449                     268                      Sujo de óleo                                          16   \n",
       "                             2024-01-06   2125.40          170.2          144.7                  32.7     21.526                     242                      Sujo de óleo                                          20   \n",
       "                             2024-01-07   2126.76          171.7          141.5                  30.2     21.439                     232                      Sujo de óleo                                           8   \n",
       "\n",
       "Defeito                                                                                                                                                                                      Dobra  \\\n",
       "Ordem de prod Ref. do Artigo Data de prod Temperatura (F°) Peso médio (g) Comprimento médio (mm) Diâmetro Gotas cortadas (toneladas) Total de Defeitos no Dia Defeito Mais Frequente do Dia          \n",
       "192970        C0516.0000R    2024-01-03   2126.97          169.3          110.4                  32.5     20.948                     222                      Sujo de óleo                      10   \n",
       "                             2024-01-04   2118.92          169.7          85.6                   18.1     21.022                     249                      Sujo de óleo                      11   \n",
       "                             2024-01-05   2125.00          173.6          140.5                  32.9     21.449                     268                      Sujo de óleo                       0   \n",
       "                             2024-01-06   2125.40          170.2          144.7                  32.7     21.526                     242                      Sujo de óleo                       7   \n",
       "                             2024-01-07   2126.76          171.7          141.5                  30.2     21.439                     232                      Sujo de óleo                      10   \n",
       "\n",
       "Defeito                                                                                                                                                                                      Falta de seção  \\\n",
       "Ordem de prod Ref. do Artigo Data de prod Temperatura (F°) Peso médio (g) Comprimento médio (mm) Diâmetro Gotas cortadas (toneladas) Total de Defeitos no Dia Defeito Mais Frequente do Dia                   \n",
       "192970        C0516.0000R    2024-01-03   2126.97          169.3          110.4                  32.5     20.948                     222                      Sujo de óleo                               13   \n",
       "                             2024-01-04   2118.92          169.7          85.6                   18.1     21.022                     249                      Sujo de óleo                               34   \n",
       "                             2024-01-05   2125.00          173.6          140.5                  32.9     21.449                     268                      Sujo de óleo                               31   \n",
       "                             2024-01-06   2125.40          170.2          144.7                  32.7     21.526                     242                      Sujo de óleo                               20   \n",
       "                             2024-01-07   2126.76          171.7          141.5                  30.2     21.439                     232                      Sujo de óleo                               14   \n",
       "\n",
       "Defeito                                                                                                                                                                                      Bolha  \\\n",
       "Ordem de prod Ref. do Artigo Data de prod Temperatura (F°) Peso médio (g) Comprimento médio (mm) Diâmetro Gotas cortadas (toneladas) Total de Defeitos no Dia Defeito Mais Frequente do Dia          \n",
       "192970        C0516.0000R    2024-01-03   2126.97          169.3          110.4                  32.5     20.948                     222                      Sujo de óleo                       0   \n",
       "                             2024-01-04   2118.92          169.7          85.6                   18.1     21.022                     249                      Sujo de óleo                       2   \n",
       "                             2024-01-05   2125.00          173.6          140.5                  32.9     21.449                     268                      Sujo de óleo                       2   \n",
       "                             2024-01-06   2125.40          170.2          144.7                  32.7     21.526                     242                      Sujo de óleo                       2   \n",
       "                             2024-01-07   2126.76          171.7          141.5                  30.2     21.439                     232                      Sujo de óleo                       3   \n",
       "\n",
       "Defeito                                                                                                                                                                                      Sardas  \\\n",
       "Ordem de prod Ref. do Artigo Data de prod Temperatura (F°) Peso médio (g) Comprimento médio (mm) Diâmetro Gotas cortadas (toneladas) Total de Defeitos no Dia Defeito Mais Frequente do Dia           \n",
       "192970        C0516.0000R    2024-01-03   2126.97          169.3          110.4                  32.5     20.948                     222                      Sujo de óleo                        2   \n",
       "                             2024-01-04   2118.92          169.7          85.6                   18.1     21.022                     249                      Sujo de óleo                        7   \n",
       "                             2024-01-05   2125.00          173.6          140.5                  32.9     21.449                     268                      Sujo de óleo                       17   \n",
       "                             2024-01-06   2125.40          170.2          144.7                  32.7     21.526                     242                      Sujo de óleo                        6   \n",
       "                             2024-01-07   2126.76          171.7          141.5                  30.2     21.439                     232                      Sujo de óleo                        6   \n",
       "\n",
       "Defeito                                                                                                                                                                                      Dobra aberta no gargalo  \\\n",
       "Ordem de prod Ref. do Artigo Data de prod Temperatura (F°) Peso médio (g) Comprimento médio (mm) Diâmetro Gotas cortadas (toneladas) Total de Defeitos no Dia Defeito Mais Frequente do Dia                            \n",
       "192970        C0516.0000R    2024-01-03   2126.97          169.3          110.4                  32.5     20.948                     222                      Sujo de óleo                                         1   \n",
       "                             2024-01-04   2118.92          169.7          85.6                   18.1     21.022                     249                      Sujo de óleo                                         0   \n",
       "                             2024-01-05   2125.00          173.6          140.5                  32.9     21.449                     268                      Sujo de óleo                                         0   \n",
       "                             2024-01-06   2125.40          170.2          144.7                  32.7     21.526                     242                      Sujo de óleo                                         0   \n",
       "                             2024-01-07   2126.76          171.7          141.5                  30.2     21.439                     232                      Sujo de óleo                                         0   \n",
       "\n",
       "Defeito                                                                                                                                                                                      Lascado em produção  \\\n",
       "Ordem de prod Ref. do Artigo Data de prod Temperatura (F°) Peso médio (g) Comprimento médio (mm) Diâmetro Gotas cortadas (toneladas) Total de Defeitos no Dia Defeito Mais Frequente do Dia                        \n",
       "192970        C0516.0000R    2024-01-03   2126.97          169.3          110.4                  32.5     20.948                     222                      Sujo de óleo                                     0   \n",
       "                             2024-01-04   2118.92          169.7          85.6                   18.1     21.022                     249                      Sujo de óleo                                     1   \n",
       "                             2024-01-05   2125.00          173.6          140.5                  32.9     21.449                     268                      Sujo de óleo                                     0   \n",
       "                             2024-01-06   2125.40          170.2          144.7                  32.7     21.526                     242                      Sujo de óleo                                     3   \n",
       "                             2024-01-07   2126.76          171.7          141.5                  30.2     21.439                     232                      Sujo de óleo                                     1   \n",
       "\n",
       "Defeito                                                                                                                                                                                      ...  \\\n",
       "Ordem de prod Ref. do Artigo Data de prod Temperatura (F°) Peso médio (g) Comprimento médio (mm) Diâmetro Gotas cortadas (toneladas) Total de Defeitos no Dia Defeito Mais Frequente do Dia  ...   \n",
       "192970        C0516.0000R    2024-01-03   2126.97          169.3          110.4                  32.5     20.948                     222                      Sujo de óleo                   ...   \n",
       "                             2024-01-04   2118.92          169.7          85.6                   18.1     21.022                     249                      Sujo de óleo                   ...   \n",
       "                             2024-01-05   2125.00          173.6          140.5                  32.9     21.449                     268                      Sujo de óleo                   ...   \n",
       "                             2024-01-06   2125.40          170.2          144.7                  32.7     21.526                     242                      Sujo de óleo                   ...   \n",
       "                             2024-01-07   2126.76          171.7          141.5                  30.2     21.439                     232                      Sujo de óleo                   ...   \n",
       "\n",
       "Defeito                                                                                                                                                                                      Bolha aberta interna  \\\n",
       "Ordem de prod Ref. do Artigo Data de prod Temperatura (F°) Peso médio (g) Comprimento médio (mm) Diâmetro Gotas cortadas (toneladas) Total de Defeitos no Dia Defeito Mais Frequente do Dia                         \n",
       "192970        C0516.0000R    2024-01-03   2126.97          169.3          110.4                  32.5     20.948                     222                      Sujo de óleo                                      0   \n",
       "                             2024-01-04   2118.92          169.7          85.6                   18.1     21.022                     249                      Sujo de óleo                                      0   \n",
       "                             2024-01-05   2125.00          173.6          140.5                  32.9     21.449                     268                      Sujo de óleo                                      0   \n",
       "                             2024-01-06   2125.40          170.2          144.7                  32.7     21.526                     242                      Sujo de óleo                                      0   \n",
       "                             2024-01-07   2126.76          171.7          141.5                  30.2     21.439                     232                      Sujo de óleo                                      0   \n",
       "\n",
       "Defeito                                                                                                                                                                                      Cascão cortante  \\\n",
       "Ordem de prod Ref. do Artigo Data de prod Temperatura (F°) Peso médio (g) Comprimento médio (mm) Diâmetro Gotas cortadas (toneladas) Total de Defeitos no Dia Defeito Mais Frequente do Dia                    \n",
       "192970        C0516.0000R    2024-01-03   2126.97          169.3          110.4                  32.5     20.948                     222                      Sujo de óleo                                 0   \n",
       "                             2024-01-04   2118.92          169.7          85.6                   18.1     21.022                     249                      Sujo de óleo                                 0   \n",
       "                             2024-01-05   2125.00          173.6          140.5                  32.9     21.449                     268                      Sujo de óleo                                 0   \n",
       "                             2024-01-06   2125.40          170.2          144.7                  32.7     21.526                     242                      Sujo de óleo                                 0   \n",
       "                             2024-01-07   2126.76          171.7          141.5                  30.2     21.439                     232                      Sujo de óleo                                 0   \n",
       "\n",
       "Defeito                                                                                                                                                                                      Espessura abaixo do mínimo  \\\n",
       "Ordem de prod Ref. do Artigo Data de prod Temperatura (F°) Peso médio (g) Comprimento médio (mm) Diâmetro Gotas cortadas (toneladas) Total de Defeitos no Dia Defeito Mais Frequente do Dia                               \n",
       "192970        C0516.0000R    2024-01-03   2126.97          169.3          110.4                  32.5     20.948                     222                      Sujo de óleo                                            0   \n",
       "                             2024-01-04   2118.92          169.7          85.6                   18.1     21.022                     249                      Sujo de óleo                                            0   \n",
       "                             2024-01-05   2125.00          173.6          140.5                  32.9     21.449                     268                      Sujo de óleo                                            0   \n",
       "                             2024-01-06   2125.40          170.2          144.7                  32.7     21.526                     242                      Sujo de óleo                                            0   \n",
       "                             2024-01-07   2126.76          171.7          141.5                  30.2     21.439                     232                      Sujo de óleo                                            0   \n",
       "\n",
       "Defeito                                                                                                                                                                                      Fundo deformado  \\\n",
       "Ordem de prod Ref. do Artigo Data de prod Temperatura (F°) Peso médio (g) Comprimento médio (mm) Diâmetro Gotas cortadas (toneladas) Total de Defeitos no Dia Defeito Mais Frequente do Dia                    \n",
       "192970        C0516.0000R    2024-01-03   2126.97          169.3          110.4                  32.5     20.948                     222                      Sujo de óleo                                 0   \n",
       "                             2024-01-04   2118.92          169.7          85.6                   18.1     21.022                     249                      Sujo de óleo                                 0   \n",
       "                             2024-01-05   2125.00          173.6          140.5                  32.9     21.449                     268                      Sujo de óleo                                 0   \n",
       "                             2024-01-06   2125.40          170.2          144.7                  32.7     21.526                     242                      Sujo de óleo                                 0   \n",
       "                             2024-01-07   2126.76          171.7          141.5                  30.2     21.439                     232                      Sujo de óleo                                 0   \n",
       "\n",
       "Defeito                                                                                                                                                                                      Bolha na alça  \\\n",
       "Ordem de prod Ref. do Artigo Data de prod Temperatura (F°) Peso médio (g) Comprimento médio (mm) Diâmetro Gotas cortadas (toneladas) Total de Defeitos no Dia Defeito Mais Frequente do Dia                  \n",
       "192970        C0516.0000R    2024-01-03   2126.97          169.3          110.4                  32.5     20.948                     222                      Sujo de óleo                               0   \n",
       "                             2024-01-04   2118.92          169.7          85.6                   18.1     21.022                     249                      Sujo de óleo                               0   \n",
       "                             2024-01-05   2125.00          173.6          140.5                  32.9     21.449                     268                      Sujo de óleo                               0   \n",
       "                             2024-01-06   2125.40          170.2          144.7                  32.7     21.526                     242                      Sujo de óleo                               0   \n",
       "                             2024-01-07   2126.76          171.7          141.5                  30.2     21.439                     232                      Sujo de óleo                               0   \n",
       "\n",
       "Defeito                                                                                                                                                                                      Ferrugem no corpo  \\\n",
       "Ordem de prod Ref. do Artigo Data de prod Temperatura (F°) Peso médio (g) Comprimento médio (mm) Diâmetro Gotas cortadas (toneladas) Total de Defeitos no Dia Defeito Mais Frequente do Dia                      \n",
       "192970        C0516.0000R    2024-01-03   2126.97          169.3          110.4                  32.5     20.948                     222                      Sujo de óleo                                   0   \n",
       "                             2024-01-04   2118.92          169.7          85.6                   18.1     21.022                     249                      Sujo de óleo                                   0   \n",
       "                             2024-01-05   2125.00          173.6          140.5                  32.9     21.449                     268                      Sujo de óleo                                   0   \n",
       "                             2024-01-06   2125.40          170.2          144.7                  32.7     21.526                     242                      Sujo de óleo                                   0   \n",
       "                             2024-01-07   2126.76          171.7          141.5                  30.2     21.439                     232                      Sujo de óleo                                   0   \n",
       "\n",
       "Defeito                                                                                                                                                                                      Fagulha  \\\n",
       "Ordem de prod Ref. do Artigo Data de prod Temperatura (F°) Peso médio (g) Comprimento médio (mm) Diâmetro Gotas cortadas (toneladas) Total de Defeitos no Dia Defeito Mais Frequente do Dia            \n",
       "192970        C0516.0000R    2024-01-03   2126.97          169.3          110.4                  32.5     20.948                     222                      Sujo de óleo                         0   \n",
       "                             2024-01-04   2118.92          169.7          85.6                   18.1     21.022                     249                      Sujo de óleo                         0   \n",
       "                             2024-01-05   2125.00          173.6          140.5                  32.9     21.449                     268                      Sujo de óleo                         0   \n",
       "                             2024-01-06   2125.40          170.2          144.7                  32.7     21.526                     242                      Sujo de óleo                         0   \n",
       "                             2024-01-07   2126.76          171.7          141.5                  30.2     21.439                     232                      Sujo de óleo                         0   \n",
       "\n",
       "Defeito                                                                                                                                                                                      Alça deformada  \\\n",
       "Ordem de prod Ref. do Artigo Data de prod Temperatura (F°) Peso médio (g) Comprimento médio (mm) Diâmetro Gotas cortadas (toneladas) Total de Defeitos no Dia Defeito Mais Frequente do Dia                   \n",
       "192970        C0516.0000R    2024-01-03   2126.97          169.3          110.4                  32.5     20.948                     222                      Sujo de óleo                                0   \n",
       "                             2024-01-04   2118.92          169.7          85.6                   18.1     21.022                     249                      Sujo de óleo                                0   \n",
       "                             2024-01-05   2125.00          173.6          140.5                  32.9     21.449                     268                      Sujo de óleo                                0   \n",
       "                             2024-01-06   2125.40          170.2          144.7                  32.7     21.526                     242                      Sujo de óleo                                0   \n",
       "                             2024-01-07   2126.76          171.7          141.5                  30.2     21.439                     232                      Sujo de óleo                                0   \n",
       "\n",
       "Defeito                                                                                                                                                                                      Instabilidade  \\\n",
       "Ordem de prod Ref. do Artigo Data de prod Temperatura (F°) Peso médio (g) Comprimento médio (mm) Diâmetro Gotas cortadas (toneladas) Total de Defeitos no Dia Defeito Mais Frequente do Dia                  \n",
       "192970        C0516.0000R    2024-01-03   2126.97          169.3          110.4                  32.5     20.948                     222                      Sujo de óleo                               0   \n",
       "                             2024-01-04   2118.92          169.7          85.6                   18.1     21.022                     249                      Sujo de óleo                               0   \n",
       "                             2024-01-05   2125.00          173.6          140.5                  32.9     21.449                     268                      Sujo de óleo                               0   \n",
       "                             2024-01-06   2125.40          170.2          144.7                  32.7     21.526                     242                      Sujo de óleo                               0   \n",
       "                             2024-01-07   2126.76          171.7          141.5                  30.2     21.439                     232                      Sujo de óleo                               0   \n",
       "\n",
       "Defeito                                                                                                                                                                                      Crú  \n",
       "Ordem de prod Ref. do Artigo Data de prod Temperatura (F°) Peso médio (g) Comprimento médio (mm) Diâmetro Gotas cortadas (toneladas) Total de Defeitos no Dia Defeito Mais Frequente do Dia       \n",
       "192970        C0516.0000R    2024-01-03   2126.97          169.3          110.4                  32.5     20.948                     222                      Sujo de óleo                     0  \n",
       "                             2024-01-04   2118.92          169.7          85.6                   18.1     21.022                     249                      Sujo de óleo                     0  \n",
       "                             2024-01-05   2125.00          173.6          140.5                  32.9     21.449                     268                      Sujo de óleo                     0  \n",
       "                             2024-01-06   2125.40          170.2          144.7                  32.7     21.526                     242                      Sujo de óleo                     0  \n",
       "                             2024-01-07   2126.76          171.7          141.5                  30.2     21.439                     232                      Sujo de óleo                     0  \n",
       "\n",
       "[5 rows x 127 columns]"
      ]
     },
     "execution_count": 93,
     "metadata": {},
     "output_type": "execute_result"
    }
   ],
   "source": [
    "df_defeitos_medidas_geral.head()"
   ]
  },
  {
   "cell_type": "markdown",
   "metadata": {},
   "source": [
    "### Resetando índex para criação dos gráficos e modelo"
   ]
  },
  {
   "cell_type": "code",
   "execution_count": 94,
   "metadata": {},
   "outputs": [],
   "source": [
    "df_defeitos_medidas_geral_reset = df_defeitos_medidas_geral.reset_index()"
   ]
  },
  {
   "cell_type": "markdown",
   "metadata": {},
   "source": [
    "Retransformando a coluna de Total para integer"
   ]
  },
  {
   "cell_type": "code",
   "execution_count": 95,
   "metadata": {},
   "outputs": [],
   "source": [
    "df_defeitos_medidas_geral_reset['Total de Defeitos no Dia'] = df_defeitos_medidas_geral_reset['Total de Defeitos no Dia'].astype(np.int32)"
   ]
  },
  {
   "cell_type": "markdown",
   "metadata": {},
   "source": [
    "### Dataframe numérico para correlação"
   ]
  },
  {
   "cell_type": "code",
   "execution_count": 96,
   "metadata": {},
   "outputs": [],
   "source": [
    "df_numerico = df_defeitos_medidas_geral_reset.select_dtypes(include=['number'])"
   ]
  },
  {
   "cell_type": "markdown",
   "metadata": {},
   "source": [
    "### Exportando excel para tratar índice 'Defeito'"
   ]
  },
  {
   "cell_type": "code",
   "execution_count": 97,
   "metadata": {},
   "outputs": [],
   "source": [
    "df_numerico.to_excel('../df_numerico.xlsx')"
   ]
  },
  {
   "cell_type": "markdown",
   "metadata": {},
   "source": [
    "### Importando excel sem índice 'Defeito'"
   ]
  },
  {
   "cell_type": "code",
   "execution_count": 98,
   "metadata": {},
   "outputs": [],
   "source": [
    "df_salvacao = pd.read_excel('../dados/df_salvacao.xlsx')"
   ]
  },
  {
   "cell_type": "markdown",
   "metadata": {},
   "source": [
    "### Drop na coluna/índice Ordem de prod"
   ]
  },
  {
   "cell_type": "code",
   "execution_count": 99,
   "metadata": {},
   "outputs": [],
   "source": [
    "df_salvacao.drop(columns='Ordem de prod', inplace=True)"
   ]
  },
  {
   "cell_type": "markdown",
   "metadata": {},
   "source": [
    "### Filtrando 30 principais defeitos"
   ]
  },
  {
   "cell_type": "code",
   "execution_count": 100,
   "metadata": {},
   "outputs": [],
   "source": [
    "selected_columns = df_salvacao.columns[:30]\n",
    "df_selected = df_salvacao[selected_columns]"
   ]
  },
  {
   "cell_type": "markdown",
   "metadata": {},
   "source": [
    "## Correlação"
   ]
  },
  {
   "cell_type": "code",
   "execution_count": 101,
   "metadata": {},
   "outputs": [
    {
     "data": {
      "application/vnd.plotly.v1+json": {
       "config": {
        "plotlyServerURL": "https://plot.ly"
       },
       "data": [
        {
         "coloraxis": "coloraxis",
         "hovertemplate": "x: %{x}<br>y: %{y}<br>Correlação: %{z}<extra></extra>",
         "name": "0",
         "type": "heatmap",
         "x": [
          "Temperatura (F°)",
          "Peso médio (g)",
          "Comprimento médio (mm)",
          "Diâmetro",
          "Gotas cortadas (toneladas)",
          "Total de Defeitos no Dia",
          "Sujo de óleo",
          "Rugas",
          "Racho na terminação",
          "Trinca por choque térmico",
          "Dobra",
          "Falta de seção",
          "Bolha",
          "Sardas",
          "Dobra aberta no gargalo",
          "Lascado em produção",
          "Racho no espelho",
          "Pinta preta",
          "Parada de Máquina em Troca",
          "Bolha aberta",
          "Racho abaixo",
          "Racho na rosca",
          "Marca brilhante",
          "Pedra",
          "Fora de cor",
          "Marca de escova",
          "T abaixo do mínimo",
          "Marca de molde",
          "Racho no ombro",
          "Sujo de molde"
         ],
         "xaxis": "x",
         "y": [
          "Temperatura (F°)",
          "Peso médio (g)",
          "Comprimento médio (mm)",
          "Diâmetro",
          "Gotas cortadas (toneladas)",
          "Total de Defeitos no Dia",
          "Sujo de óleo",
          "Rugas",
          "Racho na terminação",
          "Trinca por choque térmico",
          "Dobra",
          "Falta de seção",
          "Bolha",
          "Sardas",
          "Dobra aberta no gargalo",
          "Lascado em produção",
          "Racho no espelho",
          "Pinta preta",
          "Parada de Máquina em Troca",
          "Bolha aberta",
          "Racho abaixo",
          "Racho na rosca",
          "Marca brilhante",
          "Pedra",
          "Fora de cor",
          "Marca de escova",
          "T abaixo do mínimo",
          "Marca de molde",
          "Racho no ombro",
          "Sujo de molde"
         ],
         "yaxis": "y",
         "z": [
          [
           1,
           -0.24057054146414453,
           -0.26614397313802535,
           0.16469583842853738,
           -0.06607967388742401,
           0.07676990949969846,
           -0.0051501715382567415,
           0.10135657699378987,
           0.14652266177915968,
           -0.07719099240949447,
           0.13420778543888742,
           -0.027113392452558883,
           0.12973056868492094,
           -0.07939194147623109,
           0.1208298586406146,
           -0.31013998541678883,
           0.09398888911622211,
           -0.1559796152715802,
           -0.008631468815649317,
           -0.015360032209383931,
           -0.1824976408405865,
           -0.06959493297872969,
           -0.05430790117666427,
           0.08488965780386477,
           0.17824899582886874,
           -0.21470086196458502,
           0.060055755425010265,
           0.09314935959127739,
           -0.00731702549423738,
           0.15207578495152213
          ],
          [
           -0.24057054146414453,
           1,
           0.18045809828344037,
           -0.017775745569093483,
           0.100364360983253,
           -0.12312656396412,
           0.0316834914061377,
           0.14481140004460896,
           0.01034889011860137,
           0.046410376111202536,
           -0.3292404876086801,
           0.042126949121999546,
           -0.16470136033981234,
           0.08765706207658402,
           0.024393337794624843,
           0.01812371825465086,
           0.02306429104444834,
           0.008918040816497313,
           -0.03417917775169588,
           0.08258859460170723,
           0.2157199113795451,
           0.18147753708135497,
           0.005497170000618935,
           -0.0666662651856199,
           0.01481560021646158,
           -0.0511374369095798,
           -0.05694350483321768,
           -0.09865353463268452,
           -0.10412677738601427,
           -0.03745533555361936
          ],
          [
           -0.26614397313802535,
           0.18045809828344037,
           1,
           0.4811844327501409,
           0.16188772634975238,
           -0.008279705703308977,
           0.1109588959508256,
           0.2358848524601545,
           0.087291491507916,
           0.2854273551359067,
           -0.2687868755057646,
           0.1023387652019811,
           -0.07079895614235279,
           0.0802645290809795,
           -0.06563073193313419,
           0.26614112696787007,
           -0.020274605752740194,
           0.1258813310516745,
           -0.12195970925596678,
           0.050743146949366776,
           0.06067465587142365,
           -0.2106657719888058,
           0.15086415061543704,
           -0.0052468029290374365,
           -0.12689325990976083,
           0.22813092589286485,
           -0.11022155140449216,
           0.10496287880915285,
           0.015795299240930268,
           -0.028846251046569165
          ],
          [
           0.16469583842853738,
           -0.017775745569093483,
           0.4811844327501409,
           1,
           0.08337999918955381,
           -0.11279181803943873,
           0.2957657149618427,
           0.1503049851233513,
           0.2976159487317693,
           -0.10795813052104047,
           -0.061990658187563975,
           -0.07219710955256357,
           0.2408265356505524,
           -0.1480078393273682,
           -0.014545695727315157,
           -0.139181344906934,
           0.17663573476877695,
           0.13617117879751678,
           -0.07554026953839281,
           0.07238835021777067,
           -0.1764680202151639,
           -0.2380939261209399,
           -0.20170317584985475,
           0.08433433103017494,
           -0.11041978615818072,
           -0.09718685691588602,
           -0.15430813803961366,
           -0.040644606193423215,
           -0.09310300624292768,
           0.01826093594173565
          ],
          [
           -0.06607967388742401,
           0.100364360983253,
           0.16188772634975238,
           0.08337999918955381,
           1,
           0.06302044859652277,
           0.42972452083608315,
           0.18542415005863835,
           0.326058993924995,
           0.1828816194990397,
           0.14393031529884526,
           0.19469537601849154,
           0.2086699930049551,
           0.24217656629777165,
           0.1477677551261193,
           0.1700118595353453,
           0.19591440767185614,
           0.3579796000165001,
           0.027319421387894977,
           0.25623383074839745,
           0.22707173134998457,
           0.13527121197698266,
           0.15957626118436247,
           0.2492002084440496,
           -0.06486783551294398,
           0.16038600181978746,
           0.010660225909188964,
           0.16985219995450188,
           0.0479947593209866,
           0.0013081660152047263
          ],
          [
           0.07676990949969846,
           -0.12312656396412,
           -0.008279705703308977,
           -0.11279181803943873,
           0.06302044859652277,
           1,
           -0.017318465566152554,
           0.24906969604503906,
           0.22055892508829172,
           0.15437178595626433,
           0.29506019906914654,
           0.22906121185691766,
           0.047295054062949815,
           0.23746053122328664,
           0.32557097133825263,
           -0.13787508648123062,
           0.17592256451946228,
           -0.028083989975317494,
           0.20308702955704144,
           0.020856577132333184,
           0.2656038100057892,
           0.18328958386196034,
           0.230320009999036,
           0.0808978891896715,
           0.12079923552885673,
           -0.04563862318941698,
           0.16334765802327653,
           0.18105320826104648,
           0.06363566774691068,
           0.18953153763256136
          ],
          [
           -0.0051501715382567415,
           0.0316834914061377,
           0.1109588959508256,
           0.2957657149618427,
           0.42972452083608315,
           -0.017318465566152554,
           1,
           0.11900760424455083,
           0.24398041821870622,
           -0.0607391532624005,
           0.08103503370114105,
           -0.05000093401695084,
           0.2689109710099225,
           0.26147383405444724,
           0.143183816924947,
           0.08576402651855547,
           0.13266487713744124,
           0.32136389644640473,
           -0.34094502198188864,
           0.2819570017431641,
           0.16533173865039325,
           0.2245743119311093,
           -0.08562507103034729,
           0.22839194496392254,
           -0.31211308509922286,
           -0.12270795899993346,
           0.07618887007011595,
           -0.15798999691426951,
           -0.06141830576094099,
           -0.011626948788960234
          ],
          [
           0.10135657699378987,
           0.14481140004460896,
           0.2358848524601545,
           0.1503049851233513,
           0.18542415005863835,
           0.24906969604503906,
           0.11900760424455083,
           1,
           0.052802759130559665,
           0.14106445726250727,
           -0.16474283645967652,
           0.15672708725117274,
           -0.015937425362477914,
           0.053928938358261895,
           -0.04676418374273251,
           -0.03352712691121246,
           -0.12964613874790284,
           -0.09105057131625482,
           -0.06857711306370591,
           0.09963931439497152,
           0.18124180243489652,
           0.027994658514292527,
           0.20870193660375425,
           0.20122717080031513,
           -0.006438164461988345,
           0.09295869725347612,
           0.014580384084657078,
           0.24231829771045738,
           0.04294914223375041,
           0.1999175391682063
          ],
          [
           0.14652266177915968,
           0.01034889011860137,
           0.087291491507916,
           0.2976159487317693,
           0.326058993924995,
           0.22055892508829172,
           0.24398041821870622,
           0.052802759130559665,
           1,
           0.0233382732954559,
           0.06131111138403398,
           -0.0464472990272532,
           0.37722411441912895,
           0.16493361877993884,
           0.13709119327981545,
           -0.07172439732679034,
           0.43212795681037824,
           0.2186646700917578,
           -0.0018122556815131014,
           0.22839333423417102,
           0.06455374239859799,
           0.29260055921458006,
           -0.06797987613745704,
           0.2354547980568271,
           -0.09357780324371581,
           -0.11579849809015201,
           0.04782931669356937,
           -0.02473083072070116,
           -0.017967903812676395,
           0.10027442456661576
          ],
          [
           -0.07719099240949447,
           0.046410376111202536,
           0.2854273551359067,
           -0.10795813052104047,
           0.1828816194990397,
           0.15437178595626433,
           -0.0607391532624005,
           0.14106445726250727,
           0.0233382732954559,
           1,
           -0.08987942593727806,
           0.16297493063031912,
           -0.22078453694979883,
           0.06202851416208367,
           -0.0930423037263563,
           0.26947008007908824,
           -0.11587482129195811,
           0.133409321674656,
           -0.12482492668895635,
           -0.08399112857527426,
           -0.04290792725478845,
           -0.09381793777912302,
           0.19946071064942536,
           -0.06772586137792523,
           -0.014048759804860384,
           0.18482182986031057,
           -0.023579616049698226,
           0.08379617050698734,
           0.25399676688914996,
           -0.06258202729969561
          ],
          [
           0.13420778543888742,
           -0.3292404876086801,
           -0.2687868755057646,
           -0.061990658187563975,
           0.14393031529884526,
           0.29506019906914654,
           0.08103503370114105,
           -0.16474283645967652,
           0.06131111138403398,
           -0.08987942593727806,
           1,
           0.037052244980842766,
           0.2344109194598549,
           -0.03795274355271215,
           0.3227476995672216,
           -0.0655455781577277,
           0.09105764687444384,
           -0.06598768412957305,
           -0.00673246014941452,
           -0.06623227419897436,
           0.07034852690814161,
           0.07682427451060472,
           0.061694921738033204,
           -0.01986439217523752,
           -0.06978475712242839,
           -0.0035516620815878256,
           0.006693353122494053,
           -0.013477490168718506,
           -0.0030570462313680414,
           -0.1136555526902983
          ],
          [
           -0.027113392452558883,
           0.042126949121999546,
           0.1023387652019811,
           -0.07219710955256357,
           0.19469537601849154,
           0.22906121185691766,
           -0.05000093401695084,
           0.15672708725117274,
           -0.0464472990272532,
           0.16297493063031912,
           0.037052244980842766,
           1,
           -0.09248176714129824,
           -0.015670099182228246,
           0.045868789552941866,
           0.10167193971481307,
           0.04511510882999124,
           -0.10118713190074953,
           -0.07109936485255641,
           0.029738419440076158,
           0.12380684574077505,
           0.006887353629050558,
           0.09383609838518442,
           -0.0743933463278822,
           -0.04515793526426153,
           0.07678471528171794,
           0.07841887781585871,
           0.2557929720503,
           0.08906176149993059,
           0.05977638338753354
          ],
          [
           0.12973056868492094,
           -0.16470136033981234,
           -0.07079895614235279,
           0.2408265356505524,
           0.2086699930049551,
           0.047295054062949815,
           0.2689109710099225,
           -0.015937425362477914,
           0.37722411441912895,
           -0.22078453694979883,
           0.2344109194598549,
           -0.09248176714129824,
           1,
           0.009879996833918905,
           0.12274843902035758,
           -0.014761245975314202,
           0.35420183333538136,
           0.06521777549269134,
           -0.14400957692191554,
           0.25823762984579846,
           0.006190984679316925,
           0.11871476940997788,
           -0.06889188227046969,
           0.23431395838183727,
           -0.06492380048849455,
           -0.00153934783747997,
           -0.015630144661691492,
           -0.044909635772584146,
           0.0417405339471786,
           0.09983653758393884
          ],
          [
           -0.07939194147623109,
           0.08765706207658402,
           0.0802645290809795,
           -0.1480078393273682,
           0.24217656629777165,
           0.23746053122328664,
           0.26147383405444724,
           0.053928938358261895,
           0.16493361877993884,
           0.06202851416208367,
           -0.03795274355271215,
           -0.015670099182228246,
           0.009879996833918905,
           1,
           0.1570280914958308,
           -0.05678889961107303,
           0.07963881020147105,
           0.3118666828554555,
           -0.1435562730631802,
           0.015359227419971673,
           0.17384473878322168,
           0.2166269926159715,
           0.03963673578329659,
           0.09178401844304362,
           -0.10672120412223585,
           -0.05530703793753182,
           0.20050389941726615,
           0.05544275185564028,
           -0.10190796916309129,
           0.13641003564622514
          ],
          [
           0.1208298586406146,
           0.024393337794624843,
           -0.06563073193313419,
           -0.014545695727315157,
           0.1477677551261193,
           0.32557097133825263,
           0.143183816924947,
           -0.04676418374273251,
           0.13709119327981545,
           -0.0930423037263563,
           0.3227476995672216,
           0.045868789552941866,
           0.12274843902035758,
           0.1570280914958308,
           1,
           -0.018492539612478005,
           0.16995095068123334,
           -0.02741118695062222,
           0.11097471206585573,
           0.002751778841827825,
           0.19964392677253887,
           0.2642648667656699,
           0.04944175188724566,
           -0.07329419387152544,
           -0.0733478083505944,
           -0.15695738333986461,
           0.11026347967153109,
           0.04560608648977564,
           0.11542656165057631,
           -0.04568677026659758
          ],
          [
           -0.31013998541678883,
           0.01812371825465086,
           0.26614112696787007,
           -0.139181344906934,
           0.1700118595353453,
           -0.13787508648123062,
           0.08576402651855547,
           -0.03352712691121246,
           -0.07172439732679034,
           0.26947008007908824,
           -0.0655455781577277,
           0.10167193971481307,
           -0.014761245975314202,
           -0.05678889961107303,
           -0.018492539612478005,
           1,
           -0.08724848585614939,
           0.008101108856639741,
           -0.12108242729485863,
           0.0002668472113333989,
           0.039211287508488325,
           -0.02059294326596917,
           0.10211864611961383,
           -0.030046899074954565,
           -0.11071153038792629,
           0.174674546717952,
           0.010616531791952787,
           -0.06012602937497697,
           0.18486595568343703,
           -0.08280330332058763
          ],
          [
           0.09398888911622211,
           0.02306429104444834,
           -0.020274605752740194,
           0.17663573476877695,
           0.19591440767185614,
           0.17592256451946228,
           0.13266487713744124,
           -0.12964613874790284,
           0.43212795681037824,
           -0.11587482129195811,
           0.09105764687444384,
           0.04511510882999124,
           0.35420183333538136,
           0.07963881020147105,
           0.16995095068123334,
           -0.08724848585614939,
           1,
           0.06115453121697217,
           0.006084951418826544,
           0.1296797820728506,
           0.09488692686794802,
           0.058398336434019656,
           -0.1173030370692112,
           0.005655839774985787,
           -0.05398771004331592,
           -0.1282248144037136,
           -0.0864424300681009,
           -0.04374200556046723,
           -0.10286008820495102,
           -0.06972495858986999
          ],
          [
           -0.1559796152715802,
           0.008918040816497313,
           0.1258813310516745,
           0.13617117879751678,
           0.3579796000165001,
           -0.028083989975317494,
           0.32136389644640473,
           -0.09105057131625482,
           0.2186646700917578,
           0.133409321674656,
           -0.06598768412957305,
           -0.10118713190074953,
           0.06521777549269134,
           0.3118666828554555,
           -0.02741118695062222,
           0.008101108856639741,
           0.06115453121697217,
           1,
           -0.1624471766717144,
           0.11180488319176017,
           0.14302352055358666,
           0.1252879992689895,
           0.002231254115778495,
           0.25502802979911715,
           -0.10785649655197037,
           -0.054632780570438175,
           0.02297024378021554,
           -0.08784741200925225,
           -0.017818384708790044,
           -0.017770751052906694
          ],
          [
           -0.008631468815649317,
           -0.03417917775169588,
           -0.12195970925596678,
           -0.07554026953839281,
           0.027319421387894977,
           0.20308702955704144,
           -0.34094502198188864,
           -0.06857711306370591,
           -0.0018122556815131014,
           -0.12482492668895635,
           -0.00673246014941452,
           -0.07109936485255641,
           -0.14400957692191554,
           -0.1435562730631802,
           0.11097471206585573,
           -0.12108242729485863,
           0.006084951418826544,
           -0.1624471766717144,
           1,
           -0.021947482401776613,
           -0.05489565594394055,
           -0.10931677555231409,
           -0.00844872764628529,
           -0.09292204246915207,
           0.1470742051286001,
           -0.054619114176423574,
           -0.11403430228705058,
           -0.004807282629463795,
           -0.10098624334281076,
           0.03713481792901557
          ],
          [
           -0.015360032209383931,
           0.08258859460170723,
           0.050743146949366776,
           0.07238835021777067,
           0.25623383074839745,
           0.020856577132333184,
           0.2819570017431641,
           0.09963931439497152,
           0.22839333423417102,
           -0.08399112857527426,
           -0.06623227419897436,
           0.029738419440076158,
           0.25823762984579846,
           0.015359227419971673,
           0.002751778841827825,
           0.0002668472113333989,
           0.1296797820728506,
           0.11180488319176017,
           -0.021947482401776613,
           1,
           0.22960204743477294,
           0.09642518949783423,
           0.06616600080010952,
           0.19433945522876261,
           -0.1306248696501512,
           0.1386591281790341,
           0.0013378562763004965,
           0.031309875907436516,
           -0.022612273877528875,
           0.003303726532506286
          ],
          [
           -0.1824976408405865,
           0.2157199113795451,
           0.06067465587142365,
           -0.1764680202151639,
           0.22707173134998457,
           0.2656038100057892,
           0.16533173865039325,
           0.18124180243489652,
           0.06455374239859799,
           -0.04290792725478845,
           0.07034852690814161,
           0.12380684574077505,
           0.006190984679316925,
           0.17384473878322168,
           0.19964392677253887,
           0.039211287508488325,
           0.09488692686794802,
           0.14302352055358666,
           -0.05489565594394055,
           0.22960204743477294,
           1,
           0.29272458619881864,
           0.06435434938779339,
           0.07206072667626905,
           -0.10269403102886686,
           -0.04732908552091888,
           0.04929841686166395,
           0.11088524478373418,
           -0.0008577012158902302,
           -0.04101671923649417
          ],
          [
           -0.06959493297872969,
           0.18147753708135497,
           -0.2106657719888058,
           -0.2380939261209399,
           0.13527121197698266,
           0.18328958386196034,
           0.2245743119311093,
           0.027994658514292527,
           0.29260055921458006,
           -0.09381793777912302,
           0.07682427451060472,
           0.006887353629050558,
           0.11871476940997788,
           0.2166269926159715,
           0.2642648667656699,
           -0.02059294326596917,
           0.058398336434019656,
           0.1252879992689895,
           -0.10931677555231409,
           0.09642518949783423,
           0.29272458619881864,
           1,
           0.002169204582915589,
           0.2658372768701818,
           -0.035308733211019,
           -0.16748732448425202,
           0.3077405902161705,
           -0.08429639870561316,
           -0.049223109326016125,
           0.11078031277211034
          ],
          [
           -0.05430790117666427,
           0.005497170000618935,
           0.15086415061543704,
           -0.20170317584985475,
           0.15957626118436247,
           0.230320009999036,
           -0.08562507103034729,
           0.20870193660375425,
           -0.06797987613745704,
           0.19946071064942536,
           0.061694921738033204,
           0.09383609838518442,
           -0.06889188227046969,
           0.03963673578329659,
           0.04944175188724566,
           0.10211864611961383,
           -0.1173030370692112,
           0.002231254115778495,
           -0.00844872764628529,
           0.06616600080010952,
           0.06435434938779339,
           0.002169204582915589,
           1,
           0.06347874002241376,
           0.0034713028846051703,
           0.4044096550255925,
           -0.008589288500775423,
           0.16688656112460176,
           0.02291814642752637,
           -0.07046757433883814
          ],
          [
           0.08488965780386477,
           -0.0666662651856199,
           -0.0052468029290374365,
           0.08433433103017494,
           0.2492002084440496,
           0.0808978891896715,
           0.22839194496392254,
           0.20122717080031513,
           0.2354547980568271,
           -0.06772586137792523,
           -0.01986439217523752,
           -0.0743933463278822,
           0.23431395838183727,
           0.09178401844304362,
           -0.07329419387152544,
           -0.030046899074954565,
           0.005655839774985787,
           0.25502802979911715,
           -0.09292204246915207,
           0.19433945522876261,
           0.07206072667626905,
           0.2658372768701818,
           0.06347874002241376,
           1,
           -0.08276225301669954,
           -0.023043064165834466,
           -0.0414046868896032,
           -0.006609044169023598,
           -0.043123222125352766,
           0.053122359057842974
          ],
          [
           0.17824899582886874,
           0.01481560021646158,
           -0.12689325990976083,
           -0.11041978615818072,
           -0.06486783551294398,
           0.12079923552885673,
           -0.31211308509922286,
           -0.006438164461988345,
           -0.09357780324371581,
           -0.014048759804860384,
           -0.06978475712242839,
           -0.04515793526426153,
           -0.06492380048849455,
           -0.10672120412223585,
           -0.0733478083505944,
           -0.11071153038792629,
           -0.05398771004331592,
           -0.10785649655197037,
           0.1470742051286001,
           -0.1306248696501512,
           -0.10269403102886686,
           -0.035308733211019,
           0.0034713028846051703,
           -0.08276225301669954,
           1,
           -0.046198698859354265,
           0.09120844839693375,
           0.09135702284118624,
           0.021876433939150057,
           0.15603328792246904
          ],
          [
           -0.21470086196458502,
           -0.0511374369095798,
           0.22813092589286485,
           -0.09718685691588602,
           0.16038600181978746,
           -0.04563862318941698,
           -0.12270795899993346,
           0.09295869725347612,
           -0.11579849809015201,
           0.18482182986031057,
           -0.0035516620815878256,
           0.07678471528171794,
           -0.00153934783747997,
           -0.05530703793753182,
           -0.15695738333986461,
           0.174674546717952,
           -0.1282248144037136,
           -0.054632780570438175,
           -0.054619114176423574,
           0.1386591281790341,
           -0.04732908552091888,
           -0.16748732448425202,
           0.4044096550255925,
           -0.023043064165834466,
           -0.046198698859354265,
           1,
           -0.08727509871201022,
           0.1949383498329659,
           -0.011332836583942055,
           -0.08519455880467708
          ],
          [
           0.060055755425010265,
           -0.05694350483321768,
           -0.11022155140449216,
           -0.15430813803961366,
           0.010660225909188964,
           0.16334765802327653,
           0.07618887007011595,
           0.014580384084657078,
           0.04782931669356937,
           -0.023579616049698226,
           0.006693353122494053,
           0.07841887781585871,
           -0.015630144661691492,
           0.20050389941726615,
           0.11026347967153109,
           0.010616531791952787,
           -0.0864424300681009,
           0.02297024378021554,
           -0.11403430228705058,
           0.0013378562763004965,
           0.04929841686166395,
           0.3077405902161705,
           -0.008589288500775423,
           -0.0414046868896032,
           0.09120844839693375,
           -0.08727509871201022,
           1,
           0.021344429726314725,
           0.016267935569468425,
           0.3865344278474651
          ],
          [
           0.09314935959127739,
           -0.09865353463268452,
           0.10496287880915285,
           -0.040644606193423215,
           0.16985219995450188,
           0.18105320826104648,
           -0.15798999691426951,
           0.24231829771045738,
           -0.02473083072070116,
           0.08379617050698734,
           -0.013477490168718506,
           0.2557929720503,
           -0.044909635772584146,
           0.05544275185564028,
           0.04560608648977564,
           -0.06012602937497697,
           -0.04374200556046723,
           -0.08784741200925225,
           -0.004807282629463795,
           0.031309875907436516,
           0.11088524478373418,
           -0.08429639870561316,
           0.16688656112460176,
           -0.006609044169023598,
           0.09135702284118624,
           0.1949383498329659,
           0.021344429726314725,
           1,
           0.18870297348562984,
           0.20977498100686004
          ],
          [
           -0.00731702549423738,
           -0.10412677738601427,
           0.015795299240930268,
           -0.09310300624292768,
           0.0479947593209866,
           0.06363566774691068,
           -0.06141830576094099,
           0.04294914223375041,
           -0.017967903812676395,
           0.25399676688914996,
           -0.0030570462313680414,
           0.08906176149993059,
           0.0417405339471786,
           -0.10190796916309129,
           0.11542656165057631,
           0.18486595568343703,
           -0.10286008820495102,
           -0.017818384708790044,
           -0.10098624334281076,
           -0.022612273877528875,
           -0.0008577012158902302,
           -0.049223109326016125,
           0.02291814642752637,
           -0.043123222125352766,
           0.021876433939150057,
           -0.011332836583942055,
           0.016267935569468425,
           0.18870297348562984,
           1,
           0.13136472477476588
          ],
          [
           0.15207578495152213,
           -0.03745533555361936,
           -0.028846251046569165,
           0.01826093594173565,
           0.0013081660152047263,
           0.18953153763256136,
           -0.011626948788960234,
           0.1999175391682063,
           0.10027442456661576,
           -0.06258202729969561,
           -0.1136555526902983,
           0.05977638338753354,
           0.09983653758393884,
           0.13641003564622514,
           -0.04568677026659758,
           -0.08280330332058763,
           -0.06972495858986999,
           -0.017770751052906694,
           0.03713481792901557,
           0.003303726532506286,
           -0.04101671923649417,
           0.11078031277211034,
           -0.07046757433883814,
           0.053122359057842974,
           0.15603328792246904,
           -0.08519455880467708,
           0.3865344278474651,
           0.20977498100686004,
           0.13136472477476588,
           1
          ]
         ]
        }
       ],
       "layout": {
        "coloraxis": {
         "colorbar": {
          "title": {
           "text": "Correlação"
          }
         },
         "colorscale": [
          [
           0,
           "rgb(3, 35, 51)"
          ],
          [
           0.09090909090909091,
           "rgb(13, 48, 100)"
          ],
          [
           0.18181818181818182,
           "rgb(53, 50, 155)"
          ],
          [
           0.2727272727272727,
           "rgb(93, 62, 153)"
          ],
          [
           0.36363636363636365,
           "rgb(126, 77, 143)"
          ],
          [
           0.45454545454545453,
           "rgb(158, 89, 135)"
          ],
          [
           0.5454545454545454,
           "rgb(193, 100, 121)"
          ],
          [
           0.6363636363636364,
           "rgb(225, 113, 97)"
          ],
          [
           0.7272727272727273,
           "rgb(246, 139, 69)"
          ],
          [
           0.8181818181818182,
           "rgb(251, 173, 60)"
          ],
          [
           0.9090909090909091,
           "rgb(246, 211, 70)"
          ],
          [
           1,
           "rgb(231, 250, 90)"
          ]
         ]
        },
        "font": {
         "size": 14
        },
        "height": 1000,
        "margin": {
         "b": 100,
         "l": 100,
         "r": 50,
         "t": 50
        },
        "template": {
         "data": {
          "bar": [
           {
            "error_x": {
             "color": "#2a3f5f"
            },
            "error_y": {
             "color": "#2a3f5f"
            },
            "marker": {
             "line": {
              "color": "#E5ECF6",
              "width": 0.5
             },
             "pattern": {
              "fillmode": "overlay",
              "size": 10,
              "solidity": 0.2
             }
            },
            "type": "bar"
           }
          ],
          "barpolar": [
           {
            "marker": {
             "line": {
              "color": "#E5ECF6",
              "width": 0.5
             },
             "pattern": {
              "fillmode": "overlay",
              "size": 10,
              "solidity": 0.2
             }
            },
            "type": "barpolar"
           }
          ],
          "carpet": [
           {
            "aaxis": {
             "endlinecolor": "#2a3f5f",
             "gridcolor": "white",
             "linecolor": "white",
             "minorgridcolor": "white",
             "startlinecolor": "#2a3f5f"
            },
            "baxis": {
             "endlinecolor": "#2a3f5f",
             "gridcolor": "white",
             "linecolor": "white",
             "minorgridcolor": "white",
             "startlinecolor": "#2a3f5f"
            },
            "type": "carpet"
           }
          ],
          "choropleth": [
           {
            "colorbar": {
             "outlinewidth": 0,
             "ticks": ""
            },
            "type": "choropleth"
           }
          ],
          "contour": [
           {
            "colorbar": {
             "outlinewidth": 0,
             "ticks": ""
            },
            "colorscale": [
             [
              0,
              "#0d0887"
             ],
             [
              0.1111111111111111,
              "#46039f"
             ],
             [
              0.2222222222222222,
              "#7201a8"
             ],
             [
              0.3333333333333333,
              "#9c179e"
             ],
             [
              0.4444444444444444,
              "#bd3786"
             ],
             [
              0.5555555555555556,
              "#d8576b"
             ],
             [
              0.6666666666666666,
              "#ed7953"
             ],
             [
              0.7777777777777778,
              "#fb9f3a"
             ],
             [
              0.8888888888888888,
              "#fdca26"
             ],
             [
              1,
              "#f0f921"
             ]
            ],
            "type": "contour"
           }
          ],
          "contourcarpet": [
           {
            "colorbar": {
             "outlinewidth": 0,
             "ticks": ""
            },
            "type": "contourcarpet"
           }
          ],
          "heatmap": [
           {
            "colorbar": {
             "outlinewidth": 0,
             "ticks": ""
            },
            "colorscale": [
             [
              0,
              "#0d0887"
             ],
             [
              0.1111111111111111,
              "#46039f"
             ],
             [
              0.2222222222222222,
              "#7201a8"
             ],
             [
              0.3333333333333333,
              "#9c179e"
             ],
             [
              0.4444444444444444,
              "#bd3786"
             ],
             [
              0.5555555555555556,
              "#d8576b"
             ],
             [
              0.6666666666666666,
              "#ed7953"
             ],
             [
              0.7777777777777778,
              "#fb9f3a"
             ],
             [
              0.8888888888888888,
              "#fdca26"
             ],
             [
              1,
              "#f0f921"
             ]
            ],
            "type": "heatmap"
           }
          ],
          "heatmapgl": [
           {
            "colorbar": {
             "outlinewidth": 0,
             "ticks": ""
            },
            "colorscale": [
             [
              0,
              "#0d0887"
             ],
             [
              0.1111111111111111,
              "#46039f"
             ],
             [
              0.2222222222222222,
              "#7201a8"
             ],
             [
              0.3333333333333333,
              "#9c179e"
             ],
             [
              0.4444444444444444,
              "#bd3786"
             ],
             [
              0.5555555555555556,
              "#d8576b"
             ],
             [
              0.6666666666666666,
              "#ed7953"
             ],
             [
              0.7777777777777778,
              "#fb9f3a"
             ],
             [
              0.8888888888888888,
              "#fdca26"
             ],
             [
              1,
              "#f0f921"
             ]
            ],
            "type": "heatmapgl"
           }
          ],
          "histogram": [
           {
            "marker": {
             "pattern": {
              "fillmode": "overlay",
              "size": 10,
              "solidity": 0.2
             }
            },
            "type": "histogram"
           }
          ],
          "histogram2d": [
           {
            "colorbar": {
             "outlinewidth": 0,
             "ticks": ""
            },
            "colorscale": [
             [
              0,
              "#0d0887"
             ],
             [
              0.1111111111111111,
              "#46039f"
             ],
             [
              0.2222222222222222,
              "#7201a8"
             ],
             [
              0.3333333333333333,
              "#9c179e"
             ],
             [
              0.4444444444444444,
              "#bd3786"
             ],
             [
              0.5555555555555556,
              "#d8576b"
             ],
             [
              0.6666666666666666,
              "#ed7953"
             ],
             [
              0.7777777777777778,
              "#fb9f3a"
             ],
             [
              0.8888888888888888,
              "#fdca26"
             ],
             [
              1,
              "#f0f921"
             ]
            ],
            "type": "histogram2d"
           }
          ],
          "histogram2dcontour": [
           {
            "colorbar": {
             "outlinewidth": 0,
             "ticks": ""
            },
            "colorscale": [
             [
              0,
              "#0d0887"
             ],
             [
              0.1111111111111111,
              "#46039f"
             ],
             [
              0.2222222222222222,
              "#7201a8"
             ],
             [
              0.3333333333333333,
              "#9c179e"
             ],
             [
              0.4444444444444444,
              "#bd3786"
             ],
             [
              0.5555555555555556,
              "#d8576b"
             ],
             [
              0.6666666666666666,
              "#ed7953"
             ],
             [
              0.7777777777777778,
              "#fb9f3a"
             ],
             [
              0.8888888888888888,
              "#fdca26"
             ],
             [
              1,
              "#f0f921"
             ]
            ],
            "type": "histogram2dcontour"
           }
          ],
          "mesh3d": [
           {
            "colorbar": {
             "outlinewidth": 0,
             "ticks": ""
            },
            "type": "mesh3d"
           }
          ],
          "parcoords": [
           {
            "line": {
             "colorbar": {
              "outlinewidth": 0,
              "ticks": ""
             }
            },
            "type": "parcoords"
           }
          ],
          "pie": [
           {
            "automargin": true,
            "type": "pie"
           }
          ],
          "scatter": [
           {
            "fillpattern": {
             "fillmode": "overlay",
             "size": 10,
             "solidity": 0.2
            },
            "type": "scatter"
           }
          ],
          "scatter3d": [
           {
            "line": {
             "colorbar": {
              "outlinewidth": 0,
              "ticks": ""
             }
            },
            "marker": {
             "colorbar": {
              "outlinewidth": 0,
              "ticks": ""
             }
            },
            "type": "scatter3d"
           }
          ],
          "scattercarpet": [
           {
            "marker": {
             "colorbar": {
              "outlinewidth": 0,
              "ticks": ""
             }
            },
            "type": "scattercarpet"
           }
          ],
          "scattergeo": [
           {
            "marker": {
             "colorbar": {
              "outlinewidth": 0,
              "ticks": ""
             }
            },
            "type": "scattergeo"
           }
          ],
          "scattergl": [
           {
            "marker": {
             "colorbar": {
              "outlinewidth": 0,
              "ticks": ""
             }
            },
            "type": "scattergl"
           }
          ],
          "scattermapbox": [
           {
            "marker": {
             "colorbar": {
              "outlinewidth": 0,
              "ticks": ""
             }
            },
            "type": "scattermapbox"
           }
          ],
          "scatterpolar": [
           {
            "marker": {
             "colorbar": {
              "outlinewidth": 0,
              "ticks": ""
             }
            },
            "type": "scatterpolar"
           }
          ],
          "scatterpolargl": [
           {
            "marker": {
             "colorbar": {
              "outlinewidth": 0,
              "ticks": ""
             }
            },
            "type": "scatterpolargl"
           }
          ],
          "scatterternary": [
           {
            "marker": {
             "colorbar": {
              "outlinewidth": 0,
              "ticks": ""
             }
            },
            "type": "scatterternary"
           }
          ],
          "surface": [
           {
            "colorbar": {
             "outlinewidth": 0,
             "ticks": ""
            },
            "colorscale": [
             [
              0,
              "#0d0887"
             ],
             [
              0.1111111111111111,
              "#46039f"
             ],
             [
              0.2222222222222222,
              "#7201a8"
             ],
             [
              0.3333333333333333,
              "#9c179e"
             ],
             [
              0.4444444444444444,
              "#bd3786"
             ],
             [
              0.5555555555555556,
              "#d8576b"
             ],
             [
              0.6666666666666666,
              "#ed7953"
             ],
             [
              0.7777777777777778,
              "#fb9f3a"
             ],
             [
              0.8888888888888888,
              "#fdca26"
             ],
             [
              1,
              "#f0f921"
             ]
            ],
            "type": "surface"
           }
          ],
          "table": [
           {
            "cells": {
             "fill": {
              "color": "#EBF0F8"
             },
             "line": {
              "color": "white"
             }
            },
            "header": {
             "fill": {
              "color": "#C8D4E3"
             },
             "line": {
              "color": "white"
             }
            },
            "type": "table"
           }
          ]
         },
         "layout": {
          "annotationdefaults": {
           "arrowcolor": "#2a3f5f",
           "arrowhead": 0,
           "arrowwidth": 1
          },
          "autotypenumbers": "strict",
          "coloraxis": {
           "colorbar": {
            "outlinewidth": 0,
            "ticks": ""
           }
          },
          "colorscale": {
           "diverging": [
            [
             0,
             "#8e0152"
            ],
            [
             0.1,
             "#c51b7d"
            ],
            [
             0.2,
             "#de77ae"
            ],
            [
             0.3,
             "#f1b6da"
            ],
            [
             0.4,
             "#fde0ef"
            ],
            [
             0.5,
             "#f7f7f7"
            ],
            [
             0.6,
             "#e6f5d0"
            ],
            [
             0.7,
             "#b8e186"
            ],
            [
             0.8,
             "#7fbc41"
            ],
            [
             0.9,
             "#4d9221"
            ],
            [
             1,
             "#276419"
            ]
           ],
           "sequential": [
            [
             0,
             "#0d0887"
            ],
            [
             0.1111111111111111,
             "#46039f"
            ],
            [
             0.2222222222222222,
             "#7201a8"
            ],
            [
             0.3333333333333333,
             "#9c179e"
            ],
            [
             0.4444444444444444,
             "#bd3786"
            ],
            [
             0.5555555555555556,
             "#d8576b"
            ],
            [
             0.6666666666666666,
             "#ed7953"
            ],
            [
             0.7777777777777778,
             "#fb9f3a"
            ],
            [
             0.8888888888888888,
             "#fdca26"
            ],
            [
             1,
             "#f0f921"
            ]
           ],
           "sequentialminus": [
            [
             0,
             "#0d0887"
            ],
            [
             0.1111111111111111,
             "#46039f"
            ],
            [
             0.2222222222222222,
             "#7201a8"
            ],
            [
             0.3333333333333333,
             "#9c179e"
            ],
            [
             0.4444444444444444,
             "#bd3786"
            ],
            [
             0.5555555555555556,
             "#d8576b"
            ],
            [
             0.6666666666666666,
             "#ed7953"
            ],
            [
             0.7777777777777778,
             "#fb9f3a"
            ],
            [
             0.8888888888888888,
             "#fdca26"
            ],
            [
             1,
             "#f0f921"
            ]
           ]
          },
          "colorway": [
           "#636efa",
           "#EF553B",
           "#00cc96",
           "#ab63fa",
           "#FFA15A",
           "#19d3f3",
           "#FF6692",
           "#B6E880",
           "#FF97FF",
           "#FECB52"
          ],
          "font": {
           "color": "#2a3f5f"
          },
          "geo": {
           "bgcolor": "white",
           "lakecolor": "white",
           "landcolor": "#E5ECF6",
           "showlakes": true,
           "showland": true,
           "subunitcolor": "white"
          },
          "hoverlabel": {
           "align": "left"
          },
          "hovermode": "closest",
          "mapbox": {
           "style": "light"
          },
          "paper_bgcolor": "white",
          "plot_bgcolor": "#E5ECF6",
          "polar": {
           "angularaxis": {
            "gridcolor": "white",
            "linecolor": "white",
            "ticks": ""
           },
           "bgcolor": "#E5ECF6",
           "radialaxis": {
            "gridcolor": "white",
            "linecolor": "white",
            "ticks": ""
           }
          },
          "scene": {
           "xaxis": {
            "backgroundcolor": "#E5ECF6",
            "gridcolor": "white",
            "gridwidth": 2,
            "linecolor": "white",
            "showbackground": true,
            "ticks": "",
            "zerolinecolor": "white"
           },
           "yaxis": {
            "backgroundcolor": "#E5ECF6",
            "gridcolor": "white",
            "gridwidth": 2,
            "linecolor": "white",
            "showbackground": true,
            "ticks": "",
            "zerolinecolor": "white"
           },
           "zaxis": {
            "backgroundcolor": "#E5ECF6",
            "gridcolor": "white",
            "gridwidth": 2,
            "linecolor": "white",
            "showbackground": true,
            "ticks": "",
            "zerolinecolor": "white"
           }
          },
          "shapedefaults": {
           "line": {
            "color": "#2a3f5f"
           }
          },
          "ternary": {
           "aaxis": {
            "gridcolor": "white",
            "linecolor": "white",
            "ticks": ""
           },
           "baxis": {
            "gridcolor": "white",
            "linecolor": "white",
            "ticks": ""
           },
           "bgcolor": "#E5ECF6",
           "caxis": {
            "gridcolor": "white",
            "linecolor": "white",
            "ticks": ""
           }
          },
          "title": {
           "x": 0.05
          },
          "xaxis": {
           "automargin": true,
           "gridcolor": "white",
           "linecolor": "white",
           "ticks": "",
           "title": {
            "standoff": 15
           },
           "zerolinecolor": "white",
           "zerolinewidth": 2
          },
          "yaxis": {
           "automargin": true,
           "gridcolor": "white",
           "linecolor": "white",
           "ticks": "",
           "title": {
            "standoff": 15
           },
           "zerolinecolor": "white",
           "zerolinewidth": 2
          }
         }
        },
        "title": {
         "font": {
          "size": 18
         },
         "text": "Mapa de Calor de Correlação (Top 30 Colunas)"
        },
        "width": 1200,
        "xaxis": {
         "anchor": "y",
         "domain": [
          0,
          1
         ],
         "title": {
          "text": "Variáveis"
         }
        },
        "yaxis": {
         "anchor": "x",
         "autorange": "reversed",
         "domain": [
          0,
          1
         ],
         "title": {
          "text": "Variáveis"
         }
        }
       }
      }
     },
     "metadata": {},
     "output_type": "display_data"
    }
   ],
   "source": [
    "correlation_matrix = df_selected.corr()\n",
    "\n",
    "# Criar o heatmap interativo com Plotly\n",
    "fig = px.imshow(\n",
    "    correlation_matrix,\n",
    "    color_continuous_scale=\"thermal\",  # Esquema de cores\n",
    "    labels=dict(color=\"Correlação\"),\n",
    "    title=\"Mapa de Calor de Correlação (Top 30 Colunas)\",\n",
    "    aspect=\"auto\"\n",
    ")\n",
    "\n",
    "# Ajustar layout para acomodar todas as colunas\n",
    "fig.update_layout(\n",
    "    xaxis_title=\"Variáveis\",\n",
    "    yaxis_title=\"Variáveis\",\n",
    "    title_font=dict(size=18),\n",
    "    font=dict(size=14),\n",
    "    height=1000,  # Aumentar altura para melhor visualização\n",
    "    width=1200,   # Aumentar largura para incluir todas as colunas\n",
    "    margin=dict(t=50, l=100, r=50, b=100)  # Ajustar margens\n",
    ")\n",
    "\n",
    "# Exibir o gráfico\n",
    "fig.show()"
   ]
  },
  {
   "cell_type": "markdown",
   "metadata": {},
   "source": [
    "### Trabalhando com as 50 maiores correlações com as variáveis de medidas da gota"
   ]
  },
  {
   "cell_type": "markdown",
   "metadata": {},
   "source": [
    "Definir as variáveis de interesse"
   ]
  },
  {
   "cell_type": "code",
   "execution_count": 102,
   "metadata": {},
   "outputs": [],
   "source": [
    "variaveis_interesse = ['Temperatura (F°)', 'Peso médio (g)', 'Comprimento médio (mm)', 'Diâmetro', 'Sujo de óleo']"
   ]
  },
  {
   "cell_type": "code",
   "execution_count": 103,
   "metadata": {},
   "outputs": [
    {
     "data": {
      "text/plain": [
       "Comprimento médio (mm)  Diâmetro                      0.481184\n",
       "Diâmetro                Comprimento médio (mm)        0.481184\n",
       "Peso médio (g)          Aderido                       0.451243\n",
       "Diâmetro                Racho na costura              0.436624\n",
       "                        Martelado                     0.436087\n",
       "Sujo de óleo            Gotas cortadas (toneladas)    0.429725\n",
       "Diâmetro                Frio                          0.405468\n",
       "Comprimento médio (mm)  Ombro deformado               0.368777\n",
       "Diâmetro                Racho no anel                 0.364949\n",
       "                        Frasco caído na esteira       0.356875\n",
       "Sujo de óleo            Parada de Máquina em Troca    0.340945\n",
       "Comprimento médio (mm)  Ombro mal cheio               0.339534\n",
       "Peso médio (g)          Dobra                         0.329240\n",
       "Sujo de óleo            Pinta preta                   0.321364\n",
       "Comprimento médio (mm)  Cava no ombro                 0.313657\n",
       "Sujo de óleo            Fora de cor                   0.312113\n",
       "Temperatura (F°)        Lascado em produção           0.310140\n",
       "Diâmetro                Racho na terminação           0.297616\n",
       "Sujo de óleo            Diâmetro                      0.295766\n",
       "Diâmetro                Sujo de óleo                  0.295766\n",
       "Comprimento médio (mm)  Racho na costura              0.291330\n",
       "Temperatura (F°)        Terminação suja               0.291064\n",
       "Comprimento médio (mm)  Trinca por choque térmico     0.285427\n",
       "Sujo de óleo            Bolha aberta                  0.281957\n",
       "                        Bolha                         0.268911\n",
       "Comprimento médio (mm)  Dobra                         0.268787\n",
       "Temperatura (F°)        Comprimento médio (mm)        0.266144\n",
       "Comprimento médio (mm)  Temperatura (F°)              0.266144\n",
       "                        Lascado em produção           0.266141\n",
       "                        Frio                          0.264599\n",
       "                        Dupla costura                 0.264146\n",
       "Sujo de óleo            Sardas                        0.261474\n",
       "Peso médio (g)          Cascão                        0.260642\n",
       "Diâmetro                Terminação deformada          0.253781\n",
       "                        Onda no fundo                 0.253699\n",
       "Peso médio (g)          Parede irregular              0.249746\n",
       "Comprimento médio (mm)  Racho no anel                 0.249249\n",
       "Temperatura (F°)        Cava no ombro                 0.245499\n",
       "Comprimento médio (mm)  Frasco caído na esteira       0.244909\n",
       "Sujo de óleo            Racho na terminação           0.243980\n",
       "Diâmetro                Bolha                         0.240827\n",
       "Peso médio (g)          Temperatura (F°)              0.240571\n",
       "Temperatura (F°)        Peso médio (g)                0.240571\n",
       "Diâmetro                Racho no fundo                0.240206\n",
       "Comprimento médio (mm)  Aderido                       0.238749\n",
       "Diâmetro                Racho na rosca                0.238094\n",
       "Comprimento médio (mm)  Rugas                         0.235885\n",
       "Temperatura (F°)        Fundo irregular               0.230792\n",
       "Diâmetro                Parada de Máquina Diversa     0.229527\n",
       "Sujo de óleo            Pedra                         0.228392\n",
       "dtype: float64"
      ]
     },
     "execution_count": 103,
     "metadata": {},
     "output_type": "execute_result"
    }
   ],
   "source": [
    "# Calcular a matriz de correlação\n",
    "correlacao = df_salvacao.corr()\n",
    "\n",
    "# Filtrar as correlações para as variáveis de interesse\n",
    "correlacoes_interesse = correlacao[variaveis_interesse].unstack()\n",
    "\n",
    "# Remover autocorrelações\n",
    "correlacoes_interesse = correlacoes_interesse[\n",
    "    correlacoes_interesse.index.get_level_values(0) != correlacoes_interesse.index.get_level_values(1)\n",
    "]\n",
    "\n",
    "# Manter apenas as correlações relacionadas às variáveis de interesse\n",
    "correlacoes_interesse = correlacoes_interesse.loc[\n",
    "    correlacoes_interesse.index.get_level_values(0).isin(variaveis_interesse)\n",
    "]\n",
    "\n",
    "# Ordenar as correlações em ordem decrescente pelo valor absoluto\n",
    "correlacoes_interesse = correlacoes_interesse.abs().sort_values(ascending=False)\n",
    "\n",
    "# Selecionar as 50 maiores correlações\n",
    "top_50 = correlacoes_interesse.head(50)\n",
    "\n",
    "# Exibir as 50 maiores correlações sem duplicatas\n",
    "top_50\n"
   ]
  },
  {
   "cell_type": "markdown",
   "metadata": {},
   "source": [
    "Transformar em Dataframe"
   ]
  },
  {
   "cell_type": "code",
   "execution_count": 104,
   "metadata": {},
   "outputs": [
    {
     "data": {
      "text/html": [
       "<div>\n",
       "<style scoped>\n",
       "    .dataframe tbody tr th:only-of-type {\n",
       "        vertical-align: middle;\n",
       "    }\n",
       "\n",
       "    .dataframe tbody tr th {\n",
       "        vertical-align: top;\n",
       "    }\n",
       "\n",
       "    .dataframe thead th {\n",
       "        text-align: right;\n",
       "    }\n",
       "</style>\n",
       "<table border=\"1\" class=\"dataframe\">\n",
       "  <thead>\n",
       "    <tr style=\"text-align: right;\">\n",
       "      <th></th>\n",
       "      <th>Variável 1</th>\n",
       "      <th>Variável 2</th>\n",
       "      <th>Correlação</th>\n",
       "    </tr>\n",
       "  </thead>\n",
       "  <tbody>\n",
       "    <tr>\n",
       "      <th>0</th>\n",
       "      <td>Comprimento médio (mm)</td>\n",
       "      <td>Diâmetro</td>\n",
       "      <td>0.481184</td>\n",
       "    </tr>\n",
       "    <tr>\n",
       "      <th>1</th>\n",
       "      <td>Diâmetro</td>\n",
       "      <td>Comprimento médio (mm)</td>\n",
       "      <td>0.481184</td>\n",
       "    </tr>\n",
       "    <tr>\n",
       "      <th>2</th>\n",
       "      <td>Peso médio (g)</td>\n",
       "      <td>Aderido</td>\n",
       "      <td>0.451243</td>\n",
       "    </tr>\n",
       "    <tr>\n",
       "      <th>3</th>\n",
       "      <td>Diâmetro</td>\n",
       "      <td>Racho na costura</td>\n",
       "      <td>0.436624</td>\n",
       "    </tr>\n",
       "    <tr>\n",
       "      <th>4</th>\n",
       "      <td>Diâmetro</td>\n",
       "      <td>Martelado</td>\n",
       "      <td>0.436087</td>\n",
       "    </tr>\n",
       "    <tr>\n",
       "      <th>5</th>\n",
       "      <td>Sujo de óleo</td>\n",
       "      <td>Gotas cortadas (toneladas)</td>\n",
       "      <td>0.429725</td>\n",
       "    </tr>\n",
       "    <tr>\n",
       "      <th>6</th>\n",
       "      <td>Diâmetro</td>\n",
       "      <td>Frio</td>\n",
       "      <td>0.405468</td>\n",
       "    </tr>\n",
       "    <tr>\n",
       "      <th>7</th>\n",
       "      <td>Comprimento médio (mm)</td>\n",
       "      <td>Ombro deformado</td>\n",
       "      <td>0.368777</td>\n",
       "    </tr>\n",
       "    <tr>\n",
       "      <th>8</th>\n",
       "      <td>Diâmetro</td>\n",
       "      <td>Racho no anel</td>\n",
       "      <td>0.364949</td>\n",
       "    </tr>\n",
       "    <tr>\n",
       "      <th>9</th>\n",
       "      <td>Diâmetro</td>\n",
       "      <td>Frasco caído na esteira</td>\n",
       "      <td>0.356875</td>\n",
       "    </tr>\n",
       "    <tr>\n",
       "      <th>10</th>\n",
       "      <td>Sujo de óleo</td>\n",
       "      <td>Parada de Máquina em Troca</td>\n",
       "      <td>0.340945</td>\n",
       "    </tr>\n",
       "    <tr>\n",
       "      <th>11</th>\n",
       "      <td>Comprimento médio (mm)</td>\n",
       "      <td>Ombro mal cheio</td>\n",
       "      <td>0.339534</td>\n",
       "    </tr>\n",
       "    <tr>\n",
       "      <th>12</th>\n",
       "      <td>Peso médio (g)</td>\n",
       "      <td>Dobra</td>\n",
       "      <td>0.329240</td>\n",
       "    </tr>\n",
       "    <tr>\n",
       "      <th>13</th>\n",
       "      <td>Sujo de óleo</td>\n",
       "      <td>Pinta preta</td>\n",
       "      <td>0.321364</td>\n",
       "    </tr>\n",
       "    <tr>\n",
       "      <th>14</th>\n",
       "      <td>Comprimento médio (mm)</td>\n",
       "      <td>Cava no ombro</td>\n",
       "      <td>0.313657</td>\n",
       "    </tr>\n",
       "    <tr>\n",
       "      <th>15</th>\n",
       "      <td>Sujo de óleo</td>\n",
       "      <td>Fora de cor</td>\n",
       "      <td>0.312113</td>\n",
       "    </tr>\n",
       "    <tr>\n",
       "      <th>16</th>\n",
       "      <td>Temperatura (F°)</td>\n",
       "      <td>Lascado em produção</td>\n",
       "      <td>0.310140</td>\n",
       "    </tr>\n",
       "    <tr>\n",
       "      <th>17</th>\n",
       "      <td>Diâmetro</td>\n",
       "      <td>Racho na terminação</td>\n",
       "      <td>0.297616</td>\n",
       "    </tr>\n",
       "    <tr>\n",
       "      <th>18</th>\n",
       "      <td>Sujo de óleo</td>\n",
       "      <td>Diâmetro</td>\n",
       "      <td>0.295766</td>\n",
       "    </tr>\n",
       "    <tr>\n",
       "      <th>19</th>\n",
       "      <td>Diâmetro</td>\n",
       "      <td>Sujo de óleo</td>\n",
       "      <td>0.295766</td>\n",
       "    </tr>\n",
       "    <tr>\n",
       "      <th>20</th>\n",
       "      <td>Comprimento médio (mm)</td>\n",
       "      <td>Racho na costura</td>\n",
       "      <td>0.291330</td>\n",
       "    </tr>\n",
       "    <tr>\n",
       "      <th>21</th>\n",
       "      <td>Temperatura (F°)</td>\n",
       "      <td>Terminação suja</td>\n",
       "      <td>0.291064</td>\n",
       "    </tr>\n",
       "    <tr>\n",
       "      <th>22</th>\n",
       "      <td>Comprimento médio (mm)</td>\n",
       "      <td>Trinca por choque térmico</td>\n",
       "      <td>0.285427</td>\n",
       "    </tr>\n",
       "    <tr>\n",
       "      <th>23</th>\n",
       "      <td>Sujo de óleo</td>\n",
       "      <td>Bolha aberta</td>\n",
       "      <td>0.281957</td>\n",
       "    </tr>\n",
       "    <tr>\n",
       "      <th>24</th>\n",
       "      <td>Sujo de óleo</td>\n",
       "      <td>Bolha</td>\n",
       "      <td>0.268911</td>\n",
       "    </tr>\n",
       "    <tr>\n",
       "      <th>25</th>\n",
       "      <td>Comprimento médio (mm)</td>\n",
       "      <td>Dobra</td>\n",
       "      <td>0.268787</td>\n",
       "    </tr>\n",
       "    <tr>\n",
       "      <th>26</th>\n",
       "      <td>Temperatura (F°)</td>\n",
       "      <td>Comprimento médio (mm)</td>\n",
       "      <td>0.266144</td>\n",
       "    </tr>\n",
       "    <tr>\n",
       "      <th>27</th>\n",
       "      <td>Comprimento médio (mm)</td>\n",
       "      <td>Temperatura (F°)</td>\n",
       "      <td>0.266144</td>\n",
       "    </tr>\n",
       "    <tr>\n",
       "      <th>28</th>\n",
       "      <td>Comprimento médio (mm)</td>\n",
       "      <td>Lascado em produção</td>\n",
       "      <td>0.266141</td>\n",
       "    </tr>\n",
       "    <tr>\n",
       "      <th>29</th>\n",
       "      <td>Comprimento médio (mm)</td>\n",
       "      <td>Frio</td>\n",
       "      <td>0.264599</td>\n",
       "    </tr>\n",
       "    <tr>\n",
       "      <th>30</th>\n",
       "      <td>Comprimento médio (mm)</td>\n",
       "      <td>Dupla costura</td>\n",
       "      <td>0.264146</td>\n",
       "    </tr>\n",
       "    <tr>\n",
       "      <th>31</th>\n",
       "      <td>Sujo de óleo</td>\n",
       "      <td>Sardas</td>\n",
       "      <td>0.261474</td>\n",
       "    </tr>\n",
       "    <tr>\n",
       "      <th>32</th>\n",
       "      <td>Peso médio (g)</td>\n",
       "      <td>Cascão</td>\n",
       "      <td>0.260642</td>\n",
       "    </tr>\n",
       "    <tr>\n",
       "      <th>33</th>\n",
       "      <td>Diâmetro</td>\n",
       "      <td>Terminação deformada</td>\n",
       "      <td>0.253781</td>\n",
       "    </tr>\n",
       "    <tr>\n",
       "      <th>34</th>\n",
       "      <td>Diâmetro</td>\n",
       "      <td>Onda no fundo</td>\n",
       "      <td>0.253699</td>\n",
       "    </tr>\n",
       "    <tr>\n",
       "      <th>35</th>\n",
       "      <td>Peso médio (g)</td>\n",
       "      <td>Parede irregular</td>\n",
       "      <td>0.249746</td>\n",
       "    </tr>\n",
       "    <tr>\n",
       "      <th>36</th>\n",
       "      <td>Comprimento médio (mm)</td>\n",
       "      <td>Racho no anel</td>\n",
       "      <td>0.249249</td>\n",
       "    </tr>\n",
       "    <tr>\n",
       "      <th>37</th>\n",
       "      <td>Temperatura (F°)</td>\n",
       "      <td>Cava no ombro</td>\n",
       "      <td>0.245499</td>\n",
       "    </tr>\n",
       "    <tr>\n",
       "      <th>38</th>\n",
       "      <td>Comprimento médio (mm)</td>\n",
       "      <td>Frasco caído na esteira</td>\n",
       "      <td>0.244909</td>\n",
       "    </tr>\n",
       "    <tr>\n",
       "      <th>39</th>\n",
       "      <td>Sujo de óleo</td>\n",
       "      <td>Racho na terminação</td>\n",
       "      <td>0.243980</td>\n",
       "    </tr>\n",
       "    <tr>\n",
       "      <th>40</th>\n",
       "      <td>Diâmetro</td>\n",
       "      <td>Bolha</td>\n",
       "      <td>0.240827</td>\n",
       "    </tr>\n",
       "    <tr>\n",
       "      <th>41</th>\n",
       "      <td>Peso médio (g)</td>\n",
       "      <td>Temperatura (F°)</td>\n",
       "      <td>0.240571</td>\n",
       "    </tr>\n",
       "    <tr>\n",
       "      <th>42</th>\n",
       "      <td>Temperatura (F°)</td>\n",
       "      <td>Peso médio (g)</td>\n",
       "      <td>0.240571</td>\n",
       "    </tr>\n",
       "    <tr>\n",
       "      <th>43</th>\n",
       "      <td>Diâmetro</td>\n",
       "      <td>Racho no fundo</td>\n",
       "      <td>0.240206</td>\n",
       "    </tr>\n",
       "    <tr>\n",
       "      <th>44</th>\n",
       "      <td>Comprimento médio (mm)</td>\n",
       "      <td>Aderido</td>\n",
       "      <td>0.238749</td>\n",
       "    </tr>\n",
       "    <tr>\n",
       "      <th>45</th>\n",
       "      <td>Diâmetro</td>\n",
       "      <td>Racho na rosca</td>\n",
       "      <td>0.238094</td>\n",
       "    </tr>\n",
       "    <tr>\n",
       "      <th>46</th>\n",
       "      <td>Comprimento médio (mm)</td>\n",
       "      <td>Rugas</td>\n",
       "      <td>0.235885</td>\n",
       "    </tr>\n",
       "    <tr>\n",
       "      <th>47</th>\n",
       "      <td>Temperatura (F°)</td>\n",
       "      <td>Fundo irregular</td>\n",
       "      <td>0.230792</td>\n",
       "    </tr>\n",
       "    <tr>\n",
       "      <th>48</th>\n",
       "      <td>Diâmetro</td>\n",
       "      <td>Parada de Máquina Diversa</td>\n",
       "      <td>0.229527</td>\n",
       "    </tr>\n",
       "    <tr>\n",
       "      <th>49</th>\n",
       "      <td>Sujo de óleo</td>\n",
       "      <td>Pedra</td>\n",
       "      <td>0.228392</td>\n",
       "    </tr>\n",
       "  </tbody>\n",
       "</table>\n",
       "</div>"
      ],
      "text/plain": [
       "                Variável 1                  Variável 2  Correlação\n",
       "0   Comprimento médio (mm)                    Diâmetro    0.481184\n",
       "1                 Diâmetro      Comprimento médio (mm)    0.481184\n",
       "2           Peso médio (g)                     Aderido    0.451243\n",
       "3                 Diâmetro            Racho na costura    0.436624\n",
       "4                 Diâmetro                   Martelado    0.436087\n",
       "5             Sujo de óleo  Gotas cortadas (toneladas)    0.429725\n",
       "6                 Diâmetro                        Frio    0.405468\n",
       "7   Comprimento médio (mm)             Ombro deformado    0.368777\n",
       "8                 Diâmetro               Racho no anel    0.364949\n",
       "9                 Diâmetro     Frasco caído na esteira    0.356875\n",
       "10            Sujo de óleo  Parada de Máquina em Troca    0.340945\n",
       "11  Comprimento médio (mm)             Ombro mal cheio    0.339534\n",
       "12          Peso médio (g)                       Dobra    0.329240\n",
       "13            Sujo de óleo                 Pinta preta    0.321364\n",
       "14  Comprimento médio (mm)               Cava no ombro    0.313657\n",
       "15            Sujo de óleo                 Fora de cor    0.312113\n",
       "16        Temperatura (F°)         Lascado em produção    0.310140\n",
       "17                Diâmetro         Racho na terminação    0.297616\n",
       "18            Sujo de óleo                    Diâmetro    0.295766\n",
       "19                Diâmetro                Sujo de óleo    0.295766\n",
       "20  Comprimento médio (mm)            Racho na costura    0.291330\n",
       "21        Temperatura (F°)             Terminação suja    0.291064\n",
       "22  Comprimento médio (mm)   Trinca por choque térmico    0.285427\n",
       "23            Sujo de óleo                Bolha aberta    0.281957\n",
       "24            Sujo de óleo                       Bolha    0.268911\n",
       "25  Comprimento médio (mm)                       Dobra    0.268787\n",
       "26        Temperatura (F°)      Comprimento médio (mm)    0.266144\n",
       "27  Comprimento médio (mm)            Temperatura (F°)    0.266144\n",
       "28  Comprimento médio (mm)         Lascado em produção    0.266141\n",
       "29  Comprimento médio (mm)                        Frio    0.264599\n",
       "30  Comprimento médio (mm)               Dupla costura    0.264146\n",
       "31            Sujo de óleo                      Sardas    0.261474\n",
       "32          Peso médio (g)                      Cascão    0.260642\n",
       "33                Diâmetro        Terminação deformada    0.253781\n",
       "34                Diâmetro               Onda no fundo    0.253699\n",
       "35          Peso médio (g)            Parede irregular    0.249746\n",
       "36  Comprimento médio (mm)               Racho no anel    0.249249\n",
       "37        Temperatura (F°)               Cava no ombro    0.245499\n",
       "38  Comprimento médio (mm)     Frasco caído na esteira    0.244909\n",
       "39            Sujo de óleo         Racho na terminação    0.243980\n",
       "40                Diâmetro                       Bolha    0.240827\n",
       "41          Peso médio (g)            Temperatura (F°)    0.240571\n",
       "42        Temperatura (F°)              Peso médio (g)    0.240571\n",
       "43                Diâmetro              Racho no fundo    0.240206\n",
       "44  Comprimento médio (mm)                     Aderido    0.238749\n",
       "45                Diâmetro              Racho na rosca    0.238094\n",
       "46  Comprimento médio (mm)                       Rugas    0.235885\n",
       "47        Temperatura (F°)             Fundo irregular    0.230792\n",
       "48                Diâmetro   Parada de Máquina Diversa    0.229527\n",
       "49            Sujo de óleo                       Pedra    0.228392"
      ]
     },
     "execution_count": 104,
     "metadata": {},
     "output_type": "execute_result"
    }
   ],
   "source": [
    "top_50_df = top_50.reset_index()\n",
    "top_50_df.columns = ['Variável 1', 'Variável 2', 'Correlação']\n",
    "\n",
    "top_50_df"
   ]
  },
  {
   "cell_type": "markdown",
   "metadata": {},
   "source": [
    "Gráfico de correlações"
   ]
  },
  {
   "cell_type": "code",
   "execution_count": null,
   "metadata": {},
   "outputs": [],
   "source": [
    "top_50_df = top_50_df.sort_values(by='Correlação', ascending=False)"
   ]
  },
  {
   "cell_type": "code",
   "execution_count": 106,
   "metadata": {},
   "outputs": [
    {
     "data": {
      "application/vnd.plotly.v1+json": {
       "config": {
        "plotlyServerURL": "https://plot.ly"
       },
       "data": [
        {
         "alignmentgroup": "True",
         "hovertemplate": "Correlação=%{marker.color}<br>y=%{y}<extra></extra>",
         "legendgroup": "",
         "marker": {
          "color": [
           0.22839194496392254,
           0.22952674252786218,
           0.23079176209764124,
           0.2358848524601545,
           0.2380939261209399,
           0.23874893212895573,
           0.2402063197614163,
           0.24057054146414453,
           0.24057054146414453,
           0.2408265356505524,
           0.24398041821870622,
           0.2449090812082329,
           0.2454988060156071,
           0.2492488510984925,
           0.24974646136672612,
           0.25369912356577456,
           0.25378149689708135,
           0.26064153672317486,
           0.26147383405444724,
           0.26414635493084115,
           0.2645985749858665,
           0.26614112696787007,
           0.26614397313802535,
           0.26614397313802535,
           0.2687868755057646,
           0.2689109710099225,
           0.2819570017431641,
           0.2854273551359067,
           0.2910643743449705,
           0.2913302777606812,
           0.2957657149618427,
           0.2957657149618427,
           0.2976159487317693,
           0.31013998541678883,
           0.31211308509922286,
           0.3136565141788972,
           0.32136389644640473,
           0.3292404876086801,
           0.3395341087171652,
           0.34094502198188864,
           0.35687520910441334,
           0.3649491430353707,
           0.3687772145646903,
           0.4054676895626407,
           0.42972452083608315,
           0.4360871483171134,
           0.4366239911774924,
           0.45124292192903576,
           0.4811844327501409,
           0.4811844327501409
          ],
          "coloraxis": "coloraxis",
          "pattern": {
           "shape": ""
          }
         },
         "name": "",
         "offsetgroup": "",
         "orientation": "h",
         "showlegend": false,
         "textposition": "auto",
         "type": "bar",
         "x": [
          0.22839194496392254,
          0.22952674252786218,
          0.23079176209764124,
          0.2358848524601545,
          0.2380939261209399,
          0.23874893212895573,
          0.2402063197614163,
          0.24057054146414453,
          0.24057054146414453,
          0.2408265356505524,
          0.24398041821870622,
          0.2449090812082329,
          0.2454988060156071,
          0.2492488510984925,
          0.24974646136672612,
          0.25369912356577456,
          0.25378149689708135,
          0.26064153672317486,
          0.26147383405444724,
          0.26414635493084115,
          0.2645985749858665,
          0.26614112696787007,
          0.26614397313802535,
          0.26614397313802535,
          0.2687868755057646,
          0.2689109710099225,
          0.2819570017431641,
          0.2854273551359067,
          0.2910643743449705,
          0.2913302777606812,
          0.2957657149618427,
          0.2957657149618427,
          0.2976159487317693,
          0.31013998541678883,
          0.31211308509922286,
          0.3136565141788972,
          0.32136389644640473,
          0.3292404876086801,
          0.3395341087171652,
          0.34094502198188864,
          0.35687520910441334,
          0.3649491430353707,
          0.3687772145646903,
          0.4054676895626407,
          0.42972452083608315,
          0.4360871483171134,
          0.4366239911774924,
          0.45124292192903576,
          0.4811844327501409,
          0.4811844327501409
         ],
         "xaxis": "x",
         "y": [
          "Sujo de óleo vs Pedra",
          "Diâmetro vs Parada de Máquina Diversa",
          "Temperatura (F°) vs Fundo irregular",
          "Comprimento médio (mm) vs Rugas",
          "Diâmetro vs Racho na rosca",
          "Comprimento médio (mm) vs Aderido",
          "Diâmetro vs Racho no fundo",
          "Temperatura (F°) vs Peso médio (g)",
          "Peso médio (g) vs Temperatura (F°)",
          "Diâmetro vs Bolha",
          "Sujo de óleo vs Racho na terminação",
          "Comprimento médio (mm) vs Frasco caído na esteira",
          "Temperatura (F°) vs Cava no ombro",
          "Comprimento médio (mm) vs Racho no anel",
          "Peso médio (g) vs Parede irregular",
          "Diâmetro vs Onda no fundo",
          "Diâmetro vs Terminação deformada",
          "Peso médio (g) vs Cascão",
          "Sujo de óleo vs Sardas",
          "Comprimento médio (mm) vs Dupla costura",
          "Comprimento médio (mm) vs Frio",
          "Comprimento médio (mm) vs Lascado em produção",
          "Comprimento médio (mm) vs Temperatura (F°)",
          "Temperatura (F°) vs Comprimento médio (mm)",
          "Comprimento médio (mm) vs Dobra",
          "Sujo de óleo vs Bolha",
          "Sujo de óleo vs Bolha aberta",
          "Comprimento médio (mm) vs Trinca por choque térmico",
          "Temperatura (F°) vs Terminação suja",
          "Comprimento médio (mm) vs Racho na costura",
          "Diâmetro vs Sujo de óleo",
          "Sujo de óleo vs Diâmetro",
          "Diâmetro vs Racho na terminação",
          "Temperatura (F°) vs Lascado em produção",
          "Sujo de óleo vs Fora de cor",
          "Comprimento médio (mm) vs Cava no ombro",
          "Sujo de óleo vs Pinta preta",
          "Peso médio (g) vs Dobra",
          "Comprimento médio (mm) vs Ombro mal cheio",
          "Sujo de óleo vs Parada de Máquina em Troca",
          "Diâmetro vs Frasco caído na esteira",
          "Diâmetro vs Racho no anel",
          "Comprimento médio (mm) vs Ombro deformado",
          "Diâmetro vs Frio",
          "Sujo de óleo vs Gotas cortadas (toneladas)",
          "Diâmetro vs Martelado",
          "Diâmetro vs Racho na costura",
          "Peso médio (g) vs Aderido",
          "Diâmetro vs Comprimento médio (mm)",
          "Comprimento médio (mm) vs Diâmetro"
         ],
         "yaxis": "y"
        }
       ],
       "layout": {
        "barmode": "relative",
        "coloraxis": {
         "colorbar": {
          "title": {
           "text": "Correlação"
          }
         },
         "colorscale": [
          [
           0,
           "rgb(253, 224, 197)"
          ],
          [
           0.16666666666666666,
           "rgb(250, 203, 166)"
          ],
          [
           0.3333333333333333,
           "rgb(248, 181, 139)"
          ],
          [
           0.5,
           "rgb(245, 158, 114)"
          ],
          [
           0.6666666666666666,
           "rgb(242, 133, 93)"
          ],
          [
           0.8333333333333334,
           "rgb(239, 106, 76)"
          ],
          [
           1,
           "rgb(235, 74, 64)"
          ]
         ]
        },
        "font": {
         "size": 12
        },
        "height": 800,
        "legend": {
         "tracegroupgap": 0
        },
        "margin": {
         "l": 150,
         "t": 50
        },
        "template": {
         "data": {
          "bar": [
           {
            "error_x": {
             "color": "#2a3f5f"
            },
            "error_y": {
             "color": "#2a3f5f"
            },
            "marker": {
             "line": {
              "color": "#E5ECF6",
              "width": 0.5
             },
             "pattern": {
              "fillmode": "overlay",
              "size": 10,
              "solidity": 0.2
             }
            },
            "type": "bar"
           }
          ],
          "barpolar": [
           {
            "marker": {
             "line": {
              "color": "#E5ECF6",
              "width": 0.5
             },
             "pattern": {
              "fillmode": "overlay",
              "size": 10,
              "solidity": 0.2
             }
            },
            "type": "barpolar"
           }
          ],
          "carpet": [
           {
            "aaxis": {
             "endlinecolor": "#2a3f5f",
             "gridcolor": "white",
             "linecolor": "white",
             "minorgridcolor": "white",
             "startlinecolor": "#2a3f5f"
            },
            "baxis": {
             "endlinecolor": "#2a3f5f",
             "gridcolor": "white",
             "linecolor": "white",
             "minorgridcolor": "white",
             "startlinecolor": "#2a3f5f"
            },
            "type": "carpet"
           }
          ],
          "choropleth": [
           {
            "colorbar": {
             "outlinewidth": 0,
             "ticks": ""
            },
            "type": "choropleth"
           }
          ],
          "contour": [
           {
            "colorbar": {
             "outlinewidth": 0,
             "ticks": ""
            },
            "colorscale": [
             [
              0,
              "#0d0887"
             ],
             [
              0.1111111111111111,
              "#46039f"
             ],
             [
              0.2222222222222222,
              "#7201a8"
             ],
             [
              0.3333333333333333,
              "#9c179e"
             ],
             [
              0.4444444444444444,
              "#bd3786"
             ],
             [
              0.5555555555555556,
              "#d8576b"
             ],
             [
              0.6666666666666666,
              "#ed7953"
             ],
             [
              0.7777777777777778,
              "#fb9f3a"
             ],
             [
              0.8888888888888888,
              "#fdca26"
             ],
             [
              1,
              "#f0f921"
             ]
            ],
            "type": "contour"
           }
          ],
          "contourcarpet": [
           {
            "colorbar": {
             "outlinewidth": 0,
             "ticks": ""
            },
            "type": "contourcarpet"
           }
          ],
          "heatmap": [
           {
            "colorbar": {
             "outlinewidth": 0,
             "ticks": ""
            },
            "colorscale": [
             [
              0,
              "#0d0887"
             ],
             [
              0.1111111111111111,
              "#46039f"
             ],
             [
              0.2222222222222222,
              "#7201a8"
             ],
             [
              0.3333333333333333,
              "#9c179e"
             ],
             [
              0.4444444444444444,
              "#bd3786"
             ],
             [
              0.5555555555555556,
              "#d8576b"
             ],
             [
              0.6666666666666666,
              "#ed7953"
             ],
             [
              0.7777777777777778,
              "#fb9f3a"
             ],
             [
              0.8888888888888888,
              "#fdca26"
             ],
             [
              1,
              "#f0f921"
             ]
            ],
            "type": "heatmap"
           }
          ],
          "heatmapgl": [
           {
            "colorbar": {
             "outlinewidth": 0,
             "ticks": ""
            },
            "colorscale": [
             [
              0,
              "#0d0887"
             ],
             [
              0.1111111111111111,
              "#46039f"
             ],
             [
              0.2222222222222222,
              "#7201a8"
             ],
             [
              0.3333333333333333,
              "#9c179e"
             ],
             [
              0.4444444444444444,
              "#bd3786"
             ],
             [
              0.5555555555555556,
              "#d8576b"
             ],
             [
              0.6666666666666666,
              "#ed7953"
             ],
             [
              0.7777777777777778,
              "#fb9f3a"
             ],
             [
              0.8888888888888888,
              "#fdca26"
             ],
             [
              1,
              "#f0f921"
             ]
            ],
            "type": "heatmapgl"
           }
          ],
          "histogram": [
           {
            "marker": {
             "pattern": {
              "fillmode": "overlay",
              "size": 10,
              "solidity": 0.2
             }
            },
            "type": "histogram"
           }
          ],
          "histogram2d": [
           {
            "colorbar": {
             "outlinewidth": 0,
             "ticks": ""
            },
            "colorscale": [
             [
              0,
              "#0d0887"
             ],
             [
              0.1111111111111111,
              "#46039f"
             ],
             [
              0.2222222222222222,
              "#7201a8"
             ],
             [
              0.3333333333333333,
              "#9c179e"
             ],
             [
              0.4444444444444444,
              "#bd3786"
             ],
             [
              0.5555555555555556,
              "#d8576b"
             ],
             [
              0.6666666666666666,
              "#ed7953"
             ],
             [
              0.7777777777777778,
              "#fb9f3a"
             ],
             [
              0.8888888888888888,
              "#fdca26"
             ],
             [
              1,
              "#f0f921"
             ]
            ],
            "type": "histogram2d"
           }
          ],
          "histogram2dcontour": [
           {
            "colorbar": {
             "outlinewidth": 0,
             "ticks": ""
            },
            "colorscale": [
             [
              0,
              "#0d0887"
             ],
             [
              0.1111111111111111,
              "#46039f"
             ],
             [
              0.2222222222222222,
              "#7201a8"
             ],
             [
              0.3333333333333333,
              "#9c179e"
             ],
             [
              0.4444444444444444,
              "#bd3786"
             ],
             [
              0.5555555555555556,
              "#d8576b"
             ],
             [
              0.6666666666666666,
              "#ed7953"
             ],
             [
              0.7777777777777778,
              "#fb9f3a"
             ],
             [
              0.8888888888888888,
              "#fdca26"
             ],
             [
              1,
              "#f0f921"
             ]
            ],
            "type": "histogram2dcontour"
           }
          ],
          "mesh3d": [
           {
            "colorbar": {
             "outlinewidth": 0,
             "ticks": ""
            },
            "type": "mesh3d"
           }
          ],
          "parcoords": [
           {
            "line": {
             "colorbar": {
              "outlinewidth": 0,
              "ticks": ""
             }
            },
            "type": "parcoords"
           }
          ],
          "pie": [
           {
            "automargin": true,
            "type": "pie"
           }
          ],
          "scatter": [
           {
            "fillpattern": {
             "fillmode": "overlay",
             "size": 10,
             "solidity": 0.2
            },
            "type": "scatter"
           }
          ],
          "scatter3d": [
           {
            "line": {
             "colorbar": {
              "outlinewidth": 0,
              "ticks": ""
             }
            },
            "marker": {
             "colorbar": {
              "outlinewidth": 0,
              "ticks": ""
             }
            },
            "type": "scatter3d"
           }
          ],
          "scattercarpet": [
           {
            "marker": {
             "colorbar": {
              "outlinewidth": 0,
              "ticks": ""
             }
            },
            "type": "scattercarpet"
           }
          ],
          "scattergeo": [
           {
            "marker": {
             "colorbar": {
              "outlinewidth": 0,
              "ticks": ""
             }
            },
            "type": "scattergeo"
           }
          ],
          "scattergl": [
           {
            "marker": {
             "colorbar": {
              "outlinewidth": 0,
              "ticks": ""
             }
            },
            "type": "scattergl"
           }
          ],
          "scattermapbox": [
           {
            "marker": {
             "colorbar": {
              "outlinewidth": 0,
              "ticks": ""
             }
            },
            "type": "scattermapbox"
           }
          ],
          "scatterpolar": [
           {
            "marker": {
             "colorbar": {
              "outlinewidth": 0,
              "ticks": ""
             }
            },
            "type": "scatterpolar"
           }
          ],
          "scatterpolargl": [
           {
            "marker": {
             "colorbar": {
              "outlinewidth": 0,
              "ticks": ""
             }
            },
            "type": "scatterpolargl"
           }
          ],
          "scatterternary": [
           {
            "marker": {
             "colorbar": {
              "outlinewidth": 0,
              "ticks": ""
             }
            },
            "type": "scatterternary"
           }
          ],
          "surface": [
           {
            "colorbar": {
             "outlinewidth": 0,
             "ticks": ""
            },
            "colorscale": [
             [
              0,
              "#0d0887"
             ],
             [
              0.1111111111111111,
              "#46039f"
             ],
             [
              0.2222222222222222,
              "#7201a8"
             ],
             [
              0.3333333333333333,
              "#9c179e"
             ],
             [
              0.4444444444444444,
              "#bd3786"
             ],
             [
              0.5555555555555556,
              "#d8576b"
             ],
             [
              0.6666666666666666,
              "#ed7953"
             ],
             [
              0.7777777777777778,
              "#fb9f3a"
             ],
             [
              0.8888888888888888,
              "#fdca26"
             ],
             [
              1,
              "#f0f921"
             ]
            ],
            "type": "surface"
           }
          ],
          "table": [
           {
            "cells": {
             "fill": {
              "color": "#EBF0F8"
             },
             "line": {
              "color": "white"
             }
            },
            "header": {
             "fill": {
              "color": "#C8D4E3"
             },
             "line": {
              "color": "white"
             }
            },
            "type": "table"
           }
          ]
         },
         "layout": {
          "annotationdefaults": {
           "arrowcolor": "#2a3f5f",
           "arrowhead": 0,
           "arrowwidth": 1
          },
          "autotypenumbers": "strict",
          "coloraxis": {
           "colorbar": {
            "outlinewidth": 0,
            "ticks": ""
           }
          },
          "colorscale": {
           "diverging": [
            [
             0,
             "#8e0152"
            ],
            [
             0.1,
             "#c51b7d"
            ],
            [
             0.2,
             "#de77ae"
            ],
            [
             0.3,
             "#f1b6da"
            ],
            [
             0.4,
             "#fde0ef"
            ],
            [
             0.5,
             "#f7f7f7"
            ],
            [
             0.6,
             "#e6f5d0"
            ],
            [
             0.7,
             "#b8e186"
            ],
            [
             0.8,
             "#7fbc41"
            ],
            [
             0.9,
             "#4d9221"
            ],
            [
             1,
             "#276419"
            ]
           ],
           "sequential": [
            [
             0,
             "#0d0887"
            ],
            [
             0.1111111111111111,
             "#46039f"
            ],
            [
             0.2222222222222222,
             "#7201a8"
            ],
            [
             0.3333333333333333,
             "#9c179e"
            ],
            [
             0.4444444444444444,
             "#bd3786"
            ],
            [
             0.5555555555555556,
             "#d8576b"
            ],
            [
             0.6666666666666666,
             "#ed7953"
            ],
            [
             0.7777777777777778,
             "#fb9f3a"
            ],
            [
             0.8888888888888888,
             "#fdca26"
            ],
            [
             1,
             "#f0f921"
            ]
           ],
           "sequentialminus": [
            [
             0,
             "#0d0887"
            ],
            [
             0.1111111111111111,
             "#46039f"
            ],
            [
             0.2222222222222222,
             "#7201a8"
            ],
            [
             0.3333333333333333,
             "#9c179e"
            ],
            [
             0.4444444444444444,
             "#bd3786"
            ],
            [
             0.5555555555555556,
             "#d8576b"
            ],
            [
             0.6666666666666666,
             "#ed7953"
            ],
            [
             0.7777777777777778,
             "#fb9f3a"
            ],
            [
             0.8888888888888888,
             "#fdca26"
            ],
            [
             1,
             "#f0f921"
            ]
           ]
          },
          "colorway": [
           "#636efa",
           "#EF553B",
           "#00cc96",
           "#ab63fa",
           "#FFA15A",
           "#19d3f3",
           "#FF6692",
           "#B6E880",
           "#FF97FF",
           "#FECB52"
          ],
          "font": {
           "color": "#2a3f5f"
          },
          "geo": {
           "bgcolor": "white",
           "lakecolor": "white",
           "landcolor": "#E5ECF6",
           "showlakes": true,
           "showland": true,
           "subunitcolor": "white"
          },
          "hoverlabel": {
           "align": "left"
          },
          "hovermode": "closest",
          "mapbox": {
           "style": "light"
          },
          "paper_bgcolor": "white",
          "plot_bgcolor": "#E5ECF6",
          "polar": {
           "angularaxis": {
            "gridcolor": "white",
            "linecolor": "white",
            "ticks": ""
           },
           "bgcolor": "#E5ECF6",
           "radialaxis": {
            "gridcolor": "white",
            "linecolor": "white",
            "ticks": ""
           }
          },
          "scene": {
           "xaxis": {
            "backgroundcolor": "#E5ECF6",
            "gridcolor": "white",
            "gridwidth": 2,
            "linecolor": "white",
            "showbackground": true,
            "ticks": "",
            "zerolinecolor": "white"
           },
           "yaxis": {
            "backgroundcolor": "#E5ECF6",
            "gridcolor": "white",
            "gridwidth": 2,
            "linecolor": "white",
            "showbackground": true,
            "ticks": "",
            "zerolinecolor": "white"
           },
           "zaxis": {
            "backgroundcolor": "#E5ECF6",
            "gridcolor": "white",
            "gridwidth": 2,
            "linecolor": "white",
            "showbackground": true,
            "ticks": "",
            "zerolinecolor": "white"
           }
          },
          "shapedefaults": {
           "line": {
            "color": "#2a3f5f"
           }
          },
          "ternary": {
           "aaxis": {
            "gridcolor": "white",
            "linecolor": "white",
            "ticks": ""
           },
           "baxis": {
            "gridcolor": "white",
            "linecolor": "white",
            "ticks": ""
           },
           "bgcolor": "#E5ECF6",
           "caxis": {
            "gridcolor": "white",
            "linecolor": "white",
            "ticks": ""
           }
          },
          "title": {
           "x": 0.05
          },
          "xaxis": {
           "automargin": true,
           "gridcolor": "white",
           "linecolor": "white",
           "ticks": "",
           "title": {
            "standoff": 15
           },
           "zerolinecolor": "white",
           "zerolinewidth": 2
          },
          "yaxis": {
           "automargin": true,
           "gridcolor": "white",
           "linecolor": "white",
           "ticks": "",
           "title": {
            "standoff": 15
           },
           "zerolinecolor": "white",
           "zerolinewidth": 2
          }
         }
        },
        "title": {
         "font": {
          "size": 18
         },
         "text": "Top 50 Correlações"
        },
        "width": 800,
        "xaxis": {
         "anchor": "y",
         "domain": [
          0,
          1
         ],
         "title": {
          "text": "Correlação"
         }
        },
        "yaxis": {
         "anchor": "x",
         "domain": [
          0,
          1
         ],
         "title": {
          "text": "Pares de Variáveis"
         }
        }
       }
      }
     },
     "metadata": {},
     "output_type": "display_data"
    }
   ],
   "source": [
    "fig = px.bar(\n",
    "    top_50_df,\n",
    "    x='Correlação',\n",
    "    y=top_50_df['Variável 1'] + ' vs ' + top_50_df['Variável 2'],\n",
    "    orientation='h',\n",
    "    title=\"Top 50 Correlações\",\n",
    "    color='Correlação',\n",
    "    color_continuous_scale='Peach'\n",
    ")\n",
    "\n",
    "fig.update_layout(\n",
    "    xaxis_title=\"Correlação\",\n",
    "    yaxis_title=\"Pares de Variáveis\",\n",
    "    title_font=dict(size=18),\n",
    "    font=dict(size=12),\n",
    "    height=800,\n",
    "    width=800,\n",
    "    margin=dict(t=50, l=150)\n",
    ")\n",
    "\n",
    "fig.show()"
   ]
  },
  {
   "cell_type": "markdown",
   "metadata": {},
   "source": [
    "Defeitos críticos"
   ]
  },
  {
   "cell_type": "code",
   "execution_count": 107,
   "metadata": {},
   "outputs": [],
   "source": [
    "df_critico_agrupado = df.query('Criticidade == \"Critico\"').groupby('Defeito')['Criticidade'].value_counts().sort_values(ascending=False).reset_index(name='Contagem').head(20)"
   ]
  },
  {
   "cell_type": "code",
   "execution_count": 108,
   "metadata": {},
   "outputs": [
    {
     "data": {
      "application/vnd.plotly.v1+json": {
       "config": {
        "plotlyServerURL": "https://plot.ly"
       },
       "data": [
        {
         "alignmentgroup": "True",
         "hovertemplate": "Defeito=%{x}<br>Contagem=%{marker.color}<extra></extra>",
         "legendgroup": "",
         "marker": {
          "color": [
           181,
           98,
           85,
           27,
           18,
           14,
           11,
           9,
           8,
           3,
           3,
           2,
           2,
           1,
           1,
           1
          ],
          "coloraxis": "coloraxis",
          "pattern": {
           "shape": ""
          }
         },
         "name": "",
         "offsetgroup": "",
         "orientation": "v",
         "showlegend": false,
         "text": [
          181,
          98,
          85,
          27,
          18,
          14,
          11,
          9,
          8,
          3,
          3,
          2,
          2,
          1,
          1,
          1
         ],
         "textposition": "outside",
         "type": "bar",
         "x": [
          "Aderido",
          "Racho na trava",
          "Volume abaixo do mínimo",
          "Quebrado",
          "Sujo de óleo lambuzado",
          "Gaiola",
          "Costura cortante",
          "Rebarba na terminação",
          "Rebarba cortante",
          "Bolha aberta no espelho",
          "Rebarba interna",
          "Bolha aberta interna",
          "Sujeira interna",
          "Cascão cortante",
          "Crú",
          "Fagulha"
         ],
         "xaxis": "x",
         "y": [
          181,
          98,
          85,
          27,
          18,
          14,
          11,
          9,
          8,
          3,
          3,
          2,
          2,
          1,
          1,
          1
         ],
         "yaxis": "y"
        }
       ],
       "layout": {
        "barmode": "relative",
        "coloraxis": {
         "colorbar": {
          "title": {
           "text": "Contagem"
          }
         },
         "colorscale": [
          [
           0,
           "rgb(253, 224, 197)"
          ],
          [
           0.16666666666666666,
           "rgb(250, 203, 166)"
          ],
          [
           0.3333333333333333,
           "rgb(248, 181, 139)"
          ],
          [
           0.5,
           "rgb(245, 158, 114)"
          ],
          [
           0.6666666666666666,
           "rgb(242, 133, 93)"
          ],
          [
           0.8333333333333334,
           "rgb(239, 106, 76)"
          ],
          [
           1,
           "rgb(235, 74, 64)"
          ]
         ]
        },
        "legend": {
         "tracegroupgap": 0
        },
        "template": {
         "data": {
          "bar": [
           {
            "error_x": {
             "color": "#2a3f5f"
            },
            "error_y": {
             "color": "#2a3f5f"
            },
            "marker": {
             "line": {
              "color": "#E5ECF6",
              "width": 0.5
             },
             "pattern": {
              "fillmode": "overlay",
              "size": 10,
              "solidity": 0.2
             }
            },
            "type": "bar"
           }
          ],
          "barpolar": [
           {
            "marker": {
             "line": {
              "color": "#E5ECF6",
              "width": 0.5
             },
             "pattern": {
              "fillmode": "overlay",
              "size": 10,
              "solidity": 0.2
             }
            },
            "type": "barpolar"
           }
          ],
          "carpet": [
           {
            "aaxis": {
             "endlinecolor": "#2a3f5f",
             "gridcolor": "white",
             "linecolor": "white",
             "minorgridcolor": "white",
             "startlinecolor": "#2a3f5f"
            },
            "baxis": {
             "endlinecolor": "#2a3f5f",
             "gridcolor": "white",
             "linecolor": "white",
             "minorgridcolor": "white",
             "startlinecolor": "#2a3f5f"
            },
            "type": "carpet"
           }
          ],
          "choropleth": [
           {
            "colorbar": {
             "outlinewidth": 0,
             "ticks": ""
            },
            "type": "choropleth"
           }
          ],
          "contour": [
           {
            "colorbar": {
             "outlinewidth": 0,
             "ticks": ""
            },
            "colorscale": [
             [
              0,
              "#0d0887"
             ],
             [
              0.1111111111111111,
              "#46039f"
             ],
             [
              0.2222222222222222,
              "#7201a8"
             ],
             [
              0.3333333333333333,
              "#9c179e"
             ],
             [
              0.4444444444444444,
              "#bd3786"
             ],
             [
              0.5555555555555556,
              "#d8576b"
             ],
             [
              0.6666666666666666,
              "#ed7953"
             ],
             [
              0.7777777777777778,
              "#fb9f3a"
             ],
             [
              0.8888888888888888,
              "#fdca26"
             ],
             [
              1,
              "#f0f921"
             ]
            ],
            "type": "contour"
           }
          ],
          "contourcarpet": [
           {
            "colorbar": {
             "outlinewidth": 0,
             "ticks": ""
            },
            "type": "contourcarpet"
           }
          ],
          "heatmap": [
           {
            "colorbar": {
             "outlinewidth": 0,
             "ticks": ""
            },
            "colorscale": [
             [
              0,
              "#0d0887"
             ],
             [
              0.1111111111111111,
              "#46039f"
             ],
             [
              0.2222222222222222,
              "#7201a8"
             ],
             [
              0.3333333333333333,
              "#9c179e"
             ],
             [
              0.4444444444444444,
              "#bd3786"
             ],
             [
              0.5555555555555556,
              "#d8576b"
             ],
             [
              0.6666666666666666,
              "#ed7953"
             ],
             [
              0.7777777777777778,
              "#fb9f3a"
             ],
             [
              0.8888888888888888,
              "#fdca26"
             ],
             [
              1,
              "#f0f921"
             ]
            ],
            "type": "heatmap"
           }
          ],
          "heatmapgl": [
           {
            "colorbar": {
             "outlinewidth": 0,
             "ticks": ""
            },
            "colorscale": [
             [
              0,
              "#0d0887"
             ],
             [
              0.1111111111111111,
              "#46039f"
             ],
             [
              0.2222222222222222,
              "#7201a8"
             ],
             [
              0.3333333333333333,
              "#9c179e"
             ],
             [
              0.4444444444444444,
              "#bd3786"
             ],
             [
              0.5555555555555556,
              "#d8576b"
             ],
             [
              0.6666666666666666,
              "#ed7953"
             ],
             [
              0.7777777777777778,
              "#fb9f3a"
             ],
             [
              0.8888888888888888,
              "#fdca26"
             ],
             [
              1,
              "#f0f921"
             ]
            ],
            "type": "heatmapgl"
           }
          ],
          "histogram": [
           {
            "marker": {
             "pattern": {
              "fillmode": "overlay",
              "size": 10,
              "solidity": 0.2
             }
            },
            "type": "histogram"
           }
          ],
          "histogram2d": [
           {
            "colorbar": {
             "outlinewidth": 0,
             "ticks": ""
            },
            "colorscale": [
             [
              0,
              "#0d0887"
             ],
             [
              0.1111111111111111,
              "#46039f"
             ],
             [
              0.2222222222222222,
              "#7201a8"
             ],
             [
              0.3333333333333333,
              "#9c179e"
             ],
             [
              0.4444444444444444,
              "#bd3786"
             ],
             [
              0.5555555555555556,
              "#d8576b"
             ],
             [
              0.6666666666666666,
              "#ed7953"
             ],
             [
              0.7777777777777778,
              "#fb9f3a"
             ],
             [
              0.8888888888888888,
              "#fdca26"
             ],
             [
              1,
              "#f0f921"
             ]
            ],
            "type": "histogram2d"
           }
          ],
          "histogram2dcontour": [
           {
            "colorbar": {
             "outlinewidth": 0,
             "ticks": ""
            },
            "colorscale": [
             [
              0,
              "#0d0887"
             ],
             [
              0.1111111111111111,
              "#46039f"
             ],
             [
              0.2222222222222222,
              "#7201a8"
             ],
             [
              0.3333333333333333,
              "#9c179e"
             ],
             [
              0.4444444444444444,
              "#bd3786"
             ],
             [
              0.5555555555555556,
              "#d8576b"
             ],
             [
              0.6666666666666666,
              "#ed7953"
             ],
             [
              0.7777777777777778,
              "#fb9f3a"
             ],
             [
              0.8888888888888888,
              "#fdca26"
             ],
             [
              1,
              "#f0f921"
             ]
            ],
            "type": "histogram2dcontour"
           }
          ],
          "mesh3d": [
           {
            "colorbar": {
             "outlinewidth": 0,
             "ticks": ""
            },
            "type": "mesh3d"
           }
          ],
          "parcoords": [
           {
            "line": {
             "colorbar": {
              "outlinewidth": 0,
              "ticks": ""
             }
            },
            "type": "parcoords"
           }
          ],
          "pie": [
           {
            "automargin": true,
            "type": "pie"
           }
          ],
          "scatter": [
           {
            "fillpattern": {
             "fillmode": "overlay",
             "size": 10,
             "solidity": 0.2
            },
            "type": "scatter"
           }
          ],
          "scatter3d": [
           {
            "line": {
             "colorbar": {
              "outlinewidth": 0,
              "ticks": ""
             }
            },
            "marker": {
             "colorbar": {
              "outlinewidth": 0,
              "ticks": ""
             }
            },
            "type": "scatter3d"
           }
          ],
          "scattercarpet": [
           {
            "marker": {
             "colorbar": {
              "outlinewidth": 0,
              "ticks": ""
             }
            },
            "type": "scattercarpet"
           }
          ],
          "scattergeo": [
           {
            "marker": {
             "colorbar": {
              "outlinewidth": 0,
              "ticks": ""
             }
            },
            "type": "scattergeo"
           }
          ],
          "scattergl": [
           {
            "marker": {
             "colorbar": {
              "outlinewidth": 0,
              "ticks": ""
             }
            },
            "type": "scattergl"
           }
          ],
          "scattermapbox": [
           {
            "marker": {
             "colorbar": {
              "outlinewidth": 0,
              "ticks": ""
             }
            },
            "type": "scattermapbox"
           }
          ],
          "scatterpolar": [
           {
            "marker": {
             "colorbar": {
              "outlinewidth": 0,
              "ticks": ""
             }
            },
            "type": "scatterpolar"
           }
          ],
          "scatterpolargl": [
           {
            "marker": {
             "colorbar": {
              "outlinewidth": 0,
              "ticks": ""
             }
            },
            "type": "scatterpolargl"
           }
          ],
          "scatterternary": [
           {
            "marker": {
             "colorbar": {
              "outlinewidth": 0,
              "ticks": ""
             }
            },
            "type": "scatterternary"
           }
          ],
          "surface": [
           {
            "colorbar": {
             "outlinewidth": 0,
             "ticks": ""
            },
            "colorscale": [
             [
              0,
              "#0d0887"
             ],
             [
              0.1111111111111111,
              "#46039f"
             ],
             [
              0.2222222222222222,
              "#7201a8"
             ],
             [
              0.3333333333333333,
              "#9c179e"
             ],
             [
              0.4444444444444444,
              "#bd3786"
             ],
             [
              0.5555555555555556,
              "#d8576b"
             ],
             [
              0.6666666666666666,
              "#ed7953"
             ],
             [
              0.7777777777777778,
              "#fb9f3a"
             ],
             [
              0.8888888888888888,
              "#fdca26"
             ],
             [
              1,
              "#f0f921"
             ]
            ],
            "type": "surface"
           }
          ],
          "table": [
           {
            "cells": {
             "fill": {
              "color": "#EBF0F8"
             },
             "line": {
              "color": "white"
             }
            },
            "header": {
             "fill": {
              "color": "#C8D4E3"
             },
             "line": {
              "color": "white"
             }
            },
            "type": "table"
           }
          ]
         },
         "layout": {
          "annotationdefaults": {
           "arrowcolor": "#2a3f5f",
           "arrowhead": 0,
           "arrowwidth": 1
          },
          "autotypenumbers": "strict",
          "coloraxis": {
           "colorbar": {
            "outlinewidth": 0,
            "ticks": ""
           }
          },
          "colorscale": {
           "diverging": [
            [
             0,
             "#8e0152"
            ],
            [
             0.1,
             "#c51b7d"
            ],
            [
             0.2,
             "#de77ae"
            ],
            [
             0.3,
             "#f1b6da"
            ],
            [
             0.4,
             "#fde0ef"
            ],
            [
             0.5,
             "#f7f7f7"
            ],
            [
             0.6,
             "#e6f5d0"
            ],
            [
             0.7,
             "#b8e186"
            ],
            [
             0.8,
             "#7fbc41"
            ],
            [
             0.9,
             "#4d9221"
            ],
            [
             1,
             "#276419"
            ]
           ],
           "sequential": [
            [
             0,
             "#0d0887"
            ],
            [
             0.1111111111111111,
             "#46039f"
            ],
            [
             0.2222222222222222,
             "#7201a8"
            ],
            [
             0.3333333333333333,
             "#9c179e"
            ],
            [
             0.4444444444444444,
             "#bd3786"
            ],
            [
             0.5555555555555556,
             "#d8576b"
            ],
            [
             0.6666666666666666,
             "#ed7953"
            ],
            [
             0.7777777777777778,
             "#fb9f3a"
            ],
            [
             0.8888888888888888,
             "#fdca26"
            ],
            [
             1,
             "#f0f921"
            ]
           ],
           "sequentialminus": [
            [
             0,
             "#0d0887"
            ],
            [
             0.1111111111111111,
             "#46039f"
            ],
            [
             0.2222222222222222,
             "#7201a8"
            ],
            [
             0.3333333333333333,
             "#9c179e"
            ],
            [
             0.4444444444444444,
             "#bd3786"
            ],
            [
             0.5555555555555556,
             "#d8576b"
            ],
            [
             0.6666666666666666,
             "#ed7953"
            ],
            [
             0.7777777777777778,
             "#fb9f3a"
            ],
            [
             0.8888888888888888,
             "#fdca26"
            ],
            [
             1,
             "#f0f921"
            ]
           ]
          },
          "colorway": [
           "#636efa",
           "#EF553B",
           "#00cc96",
           "#ab63fa",
           "#FFA15A",
           "#19d3f3",
           "#FF6692",
           "#B6E880",
           "#FF97FF",
           "#FECB52"
          ],
          "font": {
           "color": "#2a3f5f"
          },
          "geo": {
           "bgcolor": "white",
           "lakecolor": "white",
           "landcolor": "#E5ECF6",
           "showlakes": true,
           "showland": true,
           "subunitcolor": "white"
          },
          "hoverlabel": {
           "align": "left"
          },
          "hovermode": "closest",
          "mapbox": {
           "style": "light"
          },
          "paper_bgcolor": "white",
          "plot_bgcolor": "#E5ECF6",
          "polar": {
           "angularaxis": {
            "gridcolor": "white",
            "linecolor": "white",
            "ticks": ""
           },
           "bgcolor": "#E5ECF6",
           "radialaxis": {
            "gridcolor": "white",
            "linecolor": "white",
            "ticks": ""
           }
          },
          "scene": {
           "xaxis": {
            "backgroundcolor": "#E5ECF6",
            "gridcolor": "white",
            "gridwidth": 2,
            "linecolor": "white",
            "showbackground": true,
            "ticks": "",
            "zerolinecolor": "white"
           },
           "yaxis": {
            "backgroundcolor": "#E5ECF6",
            "gridcolor": "white",
            "gridwidth": 2,
            "linecolor": "white",
            "showbackground": true,
            "ticks": "",
            "zerolinecolor": "white"
           },
           "zaxis": {
            "backgroundcolor": "#E5ECF6",
            "gridcolor": "white",
            "gridwidth": 2,
            "linecolor": "white",
            "showbackground": true,
            "ticks": "",
            "zerolinecolor": "white"
           }
          },
          "shapedefaults": {
           "line": {
            "color": "#2a3f5f"
           }
          },
          "ternary": {
           "aaxis": {
            "gridcolor": "white",
            "linecolor": "white",
            "ticks": ""
           },
           "baxis": {
            "gridcolor": "white",
            "linecolor": "white",
            "ticks": ""
           },
           "bgcolor": "#E5ECF6",
           "caxis": {
            "gridcolor": "white",
            "linecolor": "white",
            "ticks": ""
           }
          },
          "title": {
           "x": 0.05
          },
          "xaxis": {
           "automargin": true,
           "gridcolor": "white",
           "linecolor": "white",
           "ticks": "",
           "title": {
            "standoff": 15
           },
           "zerolinecolor": "white",
           "zerolinewidth": 2
          },
          "yaxis": {
           "automargin": true,
           "gridcolor": "white",
           "linecolor": "white",
           "ticks": "",
           "title": {
            "standoff": 15
           },
           "zerolinecolor": "white",
           "zerolinewidth": 2
          }
         }
        },
        "title": {
         "text": "Frequência de Defeitos Criticos"
        },
        "xaxis": {
         "anchor": "y",
         "domain": [
          0,
          1
         ],
         "title": {
          "text": "Defeito"
         }
        },
        "yaxis": {
         "anchor": "x",
         "domain": [
          0,
          1
         ],
         "title": {
          "text": "Contagem"
         }
        }
       }
      }
     },
     "metadata": {},
     "output_type": "display_data"
    }
   ],
   "source": [
    "fig = px.bar(df_critico_agrupado, \n",
    "             x='Defeito', \n",
    "             y='Contagem', \n",
    "             color='Contagem', \n",
    "             title='Frequência de Defeitos Criticos', \n",
    "             color_continuous_scale='peach',\n",
    "             text='Contagem')\n",
    "\n",
    "# Ajustando o posicionamento do texto\n",
    "fig.update_traces(textposition='outside')  # ou 'inside' para colocar o texto dentro da barra\n",
    "\n",
    "# Exibindo o gráfico\n",
    "fig.show()"
   ]
  },
  {
   "cell_type": "markdown",
   "metadata": {},
   "source": [
    "## Focar em defeitos influenciados por medidas"
   ]
  },
  {
   "cell_type": "markdown",
   "metadata": {},
   "source": [
    "### Correlações mais interessantes, levando em consideração criticidade e frequência:\n",
    "\n",
    "- Peso vs Aderido\n",
    " \n",
    "- Peso vs Dobra\n",
    " \n",
    "- Diâmetro vs Racho na Terminação\n",
    " \n",
    "- Diâmetro vs Sujo de Óleo\n",
    " \n",
    "- Comprimento vs Trinca por Choque Térmico\n",
    " \n",
    "- Comprimento vs Ombro mal cheio\n",
    " \n",
    "- Temperatura vs Lascado em produção"
   ]
  },
  {
   "cell_type": "markdown",
   "metadata": {},
   "source": [
    "Aderido:"
   ]
  },
  {
   "cell_type": "code",
   "execution_count": 109,
   "metadata": {},
   "outputs": [
    {
     "data": {
      "text/html": [
       "<div>\n",
       "<style scoped>\n",
       "    .dataframe tbody tr th:only-of-type {\n",
       "        vertical-align: middle;\n",
       "    }\n",
       "\n",
       "    .dataframe tbody tr th {\n",
       "        vertical-align: top;\n",
       "    }\n",
       "\n",
       "    .dataframe thead th {\n",
       "        text-align: right;\n",
       "    }\n",
       "</style>\n",
       "<table border=\"1\" class=\"dataframe\">\n",
       "  <thead>\n",
       "    <tr style=\"text-align: right;\">\n",
       "      <th>Defeito</th>\n",
       "      <th>Ref. do Artigo</th>\n",
       "      <th>Data de prod</th>\n",
       "      <th>Aderido</th>\n",
       "    </tr>\n",
       "  </thead>\n",
       "  <tbody>\n",
       "    <tr>\n",
       "      <th>6</th>\n",
       "      <td>C0516.0000R</td>\n",
       "      <td>2024-01-09</td>\n",
       "      <td>2</td>\n",
       "    </tr>\n",
       "    <tr>\n",
       "      <th>14</th>\n",
       "      <td>C1280.0000R</td>\n",
       "      <td>2024-01-13</td>\n",
       "      <td>1</td>\n",
       "    </tr>\n",
       "    <tr>\n",
       "      <th>16</th>\n",
       "      <td>C1280.0000R</td>\n",
       "      <td>2024-01-15</td>\n",
       "      <td>1</td>\n",
       "    </tr>\n",
       "    <tr>\n",
       "      <th>38</th>\n",
       "      <td>C0104.0000R</td>\n",
       "      <td>2024-02-07</td>\n",
       "      <td>2</td>\n",
       "    </tr>\n",
       "    <tr>\n",
       "      <th>51</th>\n",
       "      <td>C0516.0000R</td>\n",
       "      <td>2024-02-25</td>\n",
       "      <td>1</td>\n",
       "    </tr>\n",
       "    <tr>\n",
       "      <th>52</th>\n",
       "      <td>C0516.0000R</td>\n",
       "      <td>2024-02-26</td>\n",
       "      <td>2</td>\n",
       "    </tr>\n",
       "    <tr>\n",
       "      <th>54</th>\n",
       "      <td>C0516.0000R</td>\n",
       "      <td>2024-02-28</td>\n",
       "      <td>1</td>\n",
       "    </tr>\n",
       "    <tr>\n",
       "      <th>55</th>\n",
       "      <td>C0516.0000R</td>\n",
       "      <td>2024-02-29</td>\n",
       "      <td>3</td>\n",
       "    </tr>\n",
       "    <tr>\n",
       "      <th>65</th>\n",
       "      <td>C0516.0000R</td>\n",
       "      <td>2024-03-10</td>\n",
       "      <td>1</td>\n",
       "    </tr>\n",
       "    <tr>\n",
       "      <th>78</th>\n",
       "      <td>C1284.0000R</td>\n",
       "      <td>2024-03-22</td>\n",
       "      <td>1</td>\n",
       "    </tr>\n",
       "    <tr>\n",
       "      <th>98</th>\n",
       "      <td>C1332.0000V</td>\n",
       "      <td>2024-04-24</td>\n",
       "      <td>6</td>\n",
       "    </tr>\n",
       "    <tr>\n",
       "      <th>99</th>\n",
       "      <td>C1332.0000V</td>\n",
       "      <td>2024-04-25</td>\n",
       "      <td>2</td>\n",
       "    </tr>\n",
       "    <tr>\n",
       "      <th>105</th>\n",
       "      <td>C1137.0000R</td>\n",
       "      <td>2024-03-26</td>\n",
       "      <td>1</td>\n",
       "    </tr>\n",
       "    <tr>\n",
       "      <th>121</th>\n",
       "      <td>C1239.0000V</td>\n",
       "      <td>2024-04-21</td>\n",
       "      <td>17</td>\n",
       "    </tr>\n",
       "    <tr>\n",
       "      <th>124</th>\n",
       "      <td>C1349.0000V</td>\n",
       "      <td>2024-04-19</td>\n",
       "      <td>1</td>\n",
       "    </tr>\n",
       "    <tr>\n",
       "      <th>127</th>\n",
       "      <td>C1299.0000R</td>\n",
       "      <td>2024-04-23</td>\n",
       "      <td>1</td>\n",
       "    </tr>\n",
       "    <tr>\n",
       "      <th>130</th>\n",
       "      <td>C0139.0000R</td>\n",
       "      <td>2024-04-27</td>\n",
       "      <td>1</td>\n",
       "    </tr>\n",
       "    <tr>\n",
       "      <th>132</th>\n",
       "      <td>C0529.0000R</td>\n",
       "      <td>2024-04-28</td>\n",
       "      <td>3</td>\n",
       "    </tr>\n",
       "    <tr>\n",
       "      <th>133</th>\n",
       "      <td>C0529.0000R</td>\n",
       "      <td>2024-04-29</td>\n",
       "      <td>1</td>\n",
       "    </tr>\n",
       "    <tr>\n",
       "      <th>134</th>\n",
       "      <td>C0529.0000R</td>\n",
       "      <td>2024-04-30</td>\n",
       "      <td>4</td>\n",
       "    </tr>\n",
       "    <tr>\n",
       "      <th>137</th>\n",
       "      <td>C1265.0000R</td>\n",
       "      <td>2024-05-15</td>\n",
       "      <td>7</td>\n",
       "    </tr>\n",
       "    <tr>\n",
       "      <th>138</th>\n",
       "      <td>C1265.0000R</td>\n",
       "      <td>2024-05-16</td>\n",
       "      <td>12</td>\n",
       "    </tr>\n",
       "    <tr>\n",
       "      <th>139</th>\n",
       "      <td>C1265.0000R</td>\n",
       "      <td>2024-05-17</td>\n",
       "      <td>6</td>\n",
       "    </tr>\n",
       "    <tr>\n",
       "      <th>140</th>\n",
       "      <td>C1265.0000R</td>\n",
       "      <td>2024-05-18</td>\n",
       "      <td>9</td>\n",
       "    </tr>\n",
       "    <tr>\n",
       "      <th>141</th>\n",
       "      <td>C1265.0000R</td>\n",
       "      <td>2024-05-19</td>\n",
       "      <td>11</td>\n",
       "    </tr>\n",
       "    <tr>\n",
       "      <th>142</th>\n",
       "      <td>C1265.0000R</td>\n",
       "      <td>2024-05-20</td>\n",
       "      <td>14</td>\n",
       "    </tr>\n",
       "    <tr>\n",
       "      <th>143</th>\n",
       "      <td>C1265.0000R</td>\n",
       "      <td>2024-05-21</td>\n",
       "      <td>21</td>\n",
       "    </tr>\n",
       "    <tr>\n",
       "      <th>144</th>\n",
       "      <td>C1265.0000R</td>\n",
       "      <td>2024-05-22</td>\n",
       "      <td>9</td>\n",
       "    </tr>\n",
       "    <tr>\n",
       "      <th>145</th>\n",
       "      <td>C1265.0000R</td>\n",
       "      <td>2024-05-23</td>\n",
       "      <td>4</td>\n",
       "    </tr>\n",
       "    <tr>\n",
       "      <th>146</th>\n",
       "      <td>C1265.0000R</td>\n",
       "      <td>2024-05-24</td>\n",
       "      <td>4</td>\n",
       "    </tr>\n",
       "    <tr>\n",
       "      <th>147</th>\n",
       "      <td>C1265.0000R</td>\n",
       "      <td>2024-05-25</td>\n",
       "      <td>3</td>\n",
       "    </tr>\n",
       "    <tr>\n",
       "      <th>152</th>\n",
       "      <td>C1203.0000R</td>\n",
       "      <td>2024-05-06</td>\n",
       "      <td>2</td>\n",
       "    </tr>\n",
       "    <tr>\n",
       "      <th>157</th>\n",
       "      <td>C1203.0000R</td>\n",
       "      <td>2024-05-11</td>\n",
       "      <td>1</td>\n",
       "    </tr>\n",
       "    <tr>\n",
       "      <th>167</th>\n",
       "      <td>C1268.0000R</td>\n",
       "      <td>2024-06-08</td>\n",
       "      <td>1</td>\n",
       "    </tr>\n",
       "    <tr>\n",
       "      <th>168</th>\n",
       "      <td>C1268.0000R</td>\n",
       "      <td>2024-06-09</td>\n",
       "      <td>2</td>\n",
       "    </tr>\n",
       "    <tr>\n",
       "      <th>169</th>\n",
       "      <td>C1268.0000R</td>\n",
       "      <td>2024-06-10</td>\n",
       "      <td>2</td>\n",
       "    </tr>\n",
       "    <tr>\n",
       "      <th>170</th>\n",
       "      <td>C1268.0000R</td>\n",
       "      <td>2024-06-11</td>\n",
       "      <td>5</td>\n",
       "    </tr>\n",
       "    <tr>\n",
       "      <th>171</th>\n",
       "      <td>C1268.0000R</td>\n",
       "      <td>2024-06-12</td>\n",
       "      <td>1</td>\n",
       "    </tr>\n",
       "    <tr>\n",
       "      <th>176</th>\n",
       "      <td>C1172.0000R</td>\n",
       "      <td>2024-06-01</td>\n",
       "      <td>2</td>\n",
       "    </tr>\n",
       "    <tr>\n",
       "      <th>179</th>\n",
       "      <td>C1203.0000R</td>\n",
       "      <td>2024-06-07</td>\n",
       "      <td>8</td>\n",
       "    </tr>\n",
       "    <tr>\n",
       "      <th>183</th>\n",
       "      <td>C1165.0000R</td>\n",
       "      <td>2024-06-18</td>\n",
       "      <td>1</td>\n",
       "    </tr>\n",
       "    <tr>\n",
       "      <th>195</th>\n",
       "      <td>C0516.0000R</td>\n",
       "      <td>2024-06-26</td>\n",
       "      <td>1</td>\n",
       "    </tr>\n",
       "    <tr>\n",
       "      <th>196</th>\n",
       "      <td>C0516.0000R</td>\n",
       "      <td>2024-06-27</td>\n",
       "      <td>1</td>\n",
       "    </tr>\n",
       "    <tr>\n",
       "      <th>198</th>\n",
       "      <td>C0516.0000R</td>\n",
       "      <td>2024-06-29</td>\n",
       "      <td>1</td>\n",
       "    </tr>\n",
       "    <tr>\n",
       "      <th>199</th>\n",
       "      <td>C0516.0000R</td>\n",
       "      <td>2024-06-30</td>\n",
       "      <td>1</td>\n",
       "    </tr>\n",
       "  </tbody>\n",
       "</table>\n",
       "</div>"
      ],
      "text/plain": [
       "Defeito Ref. do Artigo Data de prod  Aderido\n",
       "6          C0516.0000R   2024-01-09        2\n",
       "14         C1280.0000R   2024-01-13        1\n",
       "16         C1280.0000R   2024-01-15        1\n",
       "38         C0104.0000R   2024-02-07        2\n",
       "51         C0516.0000R   2024-02-25        1\n",
       "52         C0516.0000R   2024-02-26        2\n",
       "54         C0516.0000R   2024-02-28        1\n",
       "55         C0516.0000R   2024-02-29        3\n",
       "65         C0516.0000R   2024-03-10        1\n",
       "78         C1284.0000R   2024-03-22        1\n",
       "98         C1332.0000V   2024-04-24        6\n",
       "99         C1332.0000V   2024-04-25        2\n",
       "105        C1137.0000R   2024-03-26        1\n",
       "121        C1239.0000V   2024-04-21       17\n",
       "124        C1349.0000V   2024-04-19        1\n",
       "127        C1299.0000R   2024-04-23        1\n",
       "130        C0139.0000R   2024-04-27        1\n",
       "132        C0529.0000R   2024-04-28        3\n",
       "133        C0529.0000R   2024-04-29        1\n",
       "134        C0529.0000R   2024-04-30        4\n",
       "137        C1265.0000R   2024-05-15        7\n",
       "138        C1265.0000R   2024-05-16       12\n",
       "139        C1265.0000R   2024-05-17        6\n",
       "140        C1265.0000R   2024-05-18        9\n",
       "141        C1265.0000R   2024-05-19       11\n",
       "142        C1265.0000R   2024-05-20       14\n",
       "143        C1265.0000R   2024-05-21       21\n",
       "144        C1265.0000R   2024-05-22        9\n",
       "145        C1265.0000R   2024-05-23        4\n",
       "146        C1265.0000R   2024-05-24        4\n",
       "147        C1265.0000R   2024-05-25        3\n",
       "152        C1203.0000R   2024-05-06        2\n",
       "157        C1203.0000R   2024-05-11        1\n",
       "167        C1268.0000R   2024-06-08        1\n",
       "168        C1268.0000R   2024-06-09        2\n",
       "169        C1268.0000R   2024-06-10        2\n",
       "170        C1268.0000R   2024-06-11        5\n",
       "171        C1268.0000R   2024-06-12        1\n",
       "176        C1172.0000R   2024-06-01        2\n",
       "179        C1203.0000R   2024-06-07        8\n",
       "183        C1165.0000R   2024-06-18        1\n",
       "195        C0516.0000R   2024-06-26        1\n",
       "196        C0516.0000R   2024-06-27        1\n",
       "198        C0516.0000R   2024-06-29        1\n",
       "199        C0516.0000R   2024-06-30        1"
      ]
     },
     "execution_count": 109,
     "metadata": {},
     "output_type": "execute_result"
    }
   ],
   "source": [
    "df_defeitos_medidas_geral_reset.loc[df_defeitos_medidas_geral_reset['Aderido'] > 0, ['Ref. do Artigo','Data de prod', 'Aderido']]"
   ]
  }
 ],
 "metadata": {
  "kernelspec": {
   "display_name": "base",
   "language": "python",
   "name": "python3"
  },
  "language_info": {
   "codemirror_mode": {
    "name": "ipython",
    "version": 3
   },
   "file_extension": ".py",
   "mimetype": "text/x-python",
   "name": "python",
   "nbconvert_exporter": "python",
   "pygments_lexer": "ipython3",
   "version": "3.12.7"
  }
 },
 "nbformat": 4,
 "nbformat_minor": 2
}
