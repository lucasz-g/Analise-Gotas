{
 "cells": [
  {
   "cell_type": "code",
   "execution_count": 35,
   "metadata": {},
   "outputs": [],
   "source": [
    "import pandas as pd\n",
    "import matplotlib.pyplot  as plt\n",
    "import numpy as np\n",
    "import plotly.express as px"
   ]
  },
  {
   "cell_type": "code",
   "execution_count": 36,
   "metadata": {},
   "outputs": [],
   "source": [
    "dados = pd.read_csv('./dados_formatados.csv')"
   ]
  },
  {
   "cell_type": "code",
   "execution_count": 37,
   "metadata": {},
   "outputs": [],
   "source": [
    "df = pd.DataFrame(dados)"
   ]
  },
  {
   "cell_type": "code",
   "execution_count": 38,
   "metadata": {},
   "outputs": [
    {
     "data": {
      "text/html": [
       "<div>\n",
       "<style scoped>\n",
       "    .dataframe tbody tr th:only-of-type {\n",
       "        vertical-align: middle;\n",
       "    }\n",
       "\n",
       "    .dataframe tbody tr th {\n",
       "        vertical-align: top;\n",
       "    }\n",
       "\n",
       "    .dataframe thead th {\n",
       "        text-align: right;\n",
       "    }\n",
       "</style>\n",
       "<table border=\"1\" class=\"dataframe\">\n",
       "  <thead>\n",
       "    <tr style=\"text-align: right;\">\n",
       "      <th></th>\n",
       "      <th>Linha de prod</th>\n",
       "      <th>Ordem de prod</th>\n",
       "      <th>Data de prod</th>\n",
       "      <th>Gotas cortadas (toneladas)</th>\n",
       "      <th>Peso médio (Kg)</th>\n",
       "      <th>Cortes por minuto</th>\n",
       "      <th>Comprimento médio (mm)</th>\n",
       "      <th>Diâmetro</th>\n",
       "      <th>Temperatura (F°)</th>\n",
       "      <th>Tras-PV (F°)</th>\n",
       "      <th>Fritas-PV (F°)</th>\n",
       "      <th>Agit-PV (F°)</th>\n",
       "      <th>Meio-PV (F°)</th>\n",
       "      <th>Frente-PV (F°)</th>\n",
       "    </tr>\n",
       "  </thead>\n",
       "  <tbody>\n",
       "    <tr>\n",
       "      <th>0</th>\n",
       "      <td>B1</td>\n",
       "      <td>193112</td>\n",
       "      <td>2024-01-01</td>\n",
       "      <td>21.8905</td>\n",
       "      <td>168.4</td>\n",
       "      <td>90.0</td>\n",
       "      <td>78.2</td>\n",
       "      <td>41.6</td>\n",
       "      <td>2059.52</td>\n",
       "      <td>2320.0</td>\n",
       "      <td>2310.0</td>\n",
       "      <td>2280.0</td>\n",
       "      <td>2260.0</td>\n",
       "      <td>2203.0</td>\n",
       "    </tr>\n",
       "    <tr>\n",
       "      <th>1</th>\n",
       "      <td>B1</td>\n",
       "      <td>193112</td>\n",
       "      <td>2024-01-02</td>\n",
       "      <td>21.8574</td>\n",
       "      <td>168.3</td>\n",
       "      <td>90.0</td>\n",
       "      <td>77.6</td>\n",
       "      <td>41.6</td>\n",
       "      <td>2053.04</td>\n",
       "      <td>2320.0</td>\n",
       "      <td>2310.0</td>\n",
       "      <td>2280.0</td>\n",
       "      <td>2260.0</td>\n",
       "      <td>2202.6</td>\n",
       "    </tr>\n",
       "    <tr>\n",
       "      <th>2</th>\n",
       "      <td>B1</td>\n",
       "      <td>193112</td>\n",
       "      <td>2024-01-03</td>\n",
       "      <td>0.9849</td>\n",
       "      <td>167.8</td>\n",
       "      <td>90.0</td>\n",
       "      <td>110.4</td>\n",
       "      <td>32.5</td>\n",
       "      <td>2505.02</td>\n",
       "      <td>2341.1</td>\n",
       "      <td>2302.9</td>\n",
       "      <td>2258.9</td>\n",
       "      <td>2220.3</td>\n",
       "      <td>2184.2</td>\n",
       "    </tr>\n",
       "    <tr>\n",
       "      <th>3</th>\n",
       "      <td>B1</td>\n",
       "      <td>192970</td>\n",
       "      <td>2024-01-03</td>\n",
       "      <td>20.9484</td>\n",
       "      <td>169.3</td>\n",
       "      <td>90.0</td>\n",
       "      <td>110.4</td>\n",
       "      <td>32.5</td>\n",
       "      <td>2505.02</td>\n",
       "      <td>2341.1</td>\n",
       "      <td>2302.9</td>\n",
       "      <td>2258.9</td>\n",
       "      <td>2201.6</td>\n",
       "      <td>2176.4</td>\n",
       "    </tr>\n",
       "    <tr>\n",
       "      <th>4</th>\n",
       "      <td>B1</td>\n",
       "      <td>192970</td>\n",
       "      <td>2024-01-04</td>\n",
       "      <td>21.0216</td>\n",
       "      <td>169.7</td>\n",
       "      <td>89.0</td>\n",
       "      <td>85.6</td>\n",
       "      <td>18.1</td>\n",
       "      <td>3094.52</td>\n",
       "      <td>2349.6</td>\n",
       "      <td>2299.8</td>\n",
       "      <td>2249.2</td>\n",
       "      <td>2201.0</td>\n",
       "      <td>2173.0</td>\n",
       "    </tr>\n",
       "  </tbody>\n",
       "</table>\n",
       "</div>"
      ],
      "text/plain": [
       "  Linha de prod  Ordem de prod Data de prod  Gotas cortadas (toneladas)  \\\n",
       "0            B1         193112   2024-01-01                     21.8905   \n",
       "1            B1         193112   2024-01-02                     21.8574   \n",
       "2            B1         193112   2024-01-03                      0.9849   \n",
       "3            B1         192970   2024-01-03                     20.9484   \n",
       "4            B1         192970   2024-01-04                     21.0216   \n",
       "\n",
       "   Peso médio (Kg)  Cortes por minuto  Comprimento médio (mm)  Diâmetro  \\\n",
       "0            168.4               90.0                    78.2      41.6   \n",
       "1            168.3               90.0                    77.6      41.6   \n",
       "2            167.8               90.0                   110.4      32.5   \n",
       "3            169.3               90.0                   110.4      32.5   \n",
       "4            169.7               89.0                    85.6      18.1   \n",
       "\n",
       "   Temperatura (F°)  Tras-PV (F°)  Fritas-PV (F°)  Agit-PV (F°)  Meio-PV (F°)  \\\n",
       "0           2059.52        2320.0          2310.0        2280.0        2260.0   \n",
       "1           2053.04        2320.0          2310.0        2280.0        2260.0   \n",
       "2           2505.02        2341.1          2302.9        2258.9        2220.3   \n",
       "3           2505.02        2341.1          2302.9        2258.9        2201.6   \n",
       "4           3094.52        2349.6          2299.8        2249.2        2201.0   \n",
       "\n",
       "   Frente-PV (F°)  \n",
       "0          2203.0  \n",
       "1          2202.6  \n",
       "2          2184.2  \n",
       "3          2176.4  \n",
       "4          2173.0  "
      ]
     },
     "execution_count": 38,
     "metadata": {},
     "output_type": "execute_result"
    }
   ],
   "source": [
    "df.head()"
   ]
  },
  {
   "cell_type": "markdown",
   "metadata": {},
   "source": [
    "# Tratamento"
   ]
  },
  {
   "cell_type": "markdown",
   "metadata": {},
   "source": [
    "### Renomeando e Transformando colunas"
   ]
  },
  {
   "cell_type": "code",
   "execution_count": 39,
   "metadata": {},
   "outputs": [],
   "source": [
    "df['Data de prod'] = pd.to_datetime(df['Data de prod'])\n",
    "df['Ordem de prod'] = df['Ordem de prod'].astype(str)\n",
    "# df = df.rename(columns={'Gotas cortadas (unid.)': 'Gotas cortadas (toneladas)', 'Velocidade média (corte/min)': 'Cortes por minuto'})"
   ]
  },
  {
   "cell_type": "code",
   "execution_count": 40,
   "metadata": {},
   "outputs": [
    {
     "data": {
      "text/plain": [
       "Linha de prod                         object\n",
       "Ordem de prod                         object\n",
       "Data de prod                  datetime64[ns]\n",
       "Gotas cortadas (toneladas)           float64\n",
       "Peso médio (Kg)                      float64\n",
       "Cortes por minuto                    float64\n",
       "Comprimento médio (mm)               float64\n",
       "Diâmetro                             float64\n",
       "Temperatura (F°)                     float64\n",
       "Tras-PV (F°)                         float64\n",
       "Fritas-PV (F°)                       float64\n",
       "Agit-PV (F°)                         float64\n",
       "Meio-PV (F°)                         float64\n",
       "Frente-PV (F°)                       float64\n",
       "dtype: object"
      ]
     },
     "execution_count": 40,
     "metadata": {},
     "output_type": "execute_result"
    }
   ],
   "source": [
    "df.dtypes"
   ]
  },
  {
   "cell_type": "code",
   "execution_count": 41,
   "metadata": {},
   "outputs": [
    {
     "data": {
      "text/plain": [
       "array(['B1'], dtype=object)"
      ]
     },
     "execution_count": 41,
     "metadata": {},
     "output_type": "execute_result"
    }
   ],
   "source": [
    "df['Linha de prod'].unique()"
   ]
  },
  {
   "cell_type": "code",
   "execution_count": 42,
   "metadata": {},
   "outputs": [
    {
     "data": {
      "text/html": [
       "<div>\n",
       "<style scoped>\n",
       "    .dataframe tbody tr th:only-of-type {\n",
       "        vertical-align: middle;\n",
       "    }\n",
       "\n",
       "    .dataframe tbody tr th {\n",
       "        vertical-align: top;\n",
       "    }\n",
       "\n",
       "    .dataframe thead th {\n",
       "        text-align: right;\n",
       "    }\n",
       "</style>\n",
       "<table border=\"1\" class=\"dataframe\">\n",
       "  <thead>\n",
       "    <tr style=\"text-align: right;\">\n",
       "      <th></th>\n",
       "      <th>Linha de prod</th>\n",
       "      <th>Ordem de prod</th>\n",
       "      <th>Data de prod</th>\n",
       "      <th>Gotas cortadas (toneladas)</th>\n",
       "      <th>Peso médio (Kg)</th>\n",
       "      <th>Cortes por minuto</th>\n",
       "      <th>Comprimento médio (mm)</th>\n",
       "      <th>Diâmetro</th>\n",
       "      <th>Temperatura (F°)</th>\n",
       "      <th>Tras-PV (F°)</th>\n",
       "      <th>Fritas-PV (F°)</th>\n",
       "      <th>Agit-PV (F°)</th>\n",
       "      <th>Meio-PV (F°)</th>\n",
       "      <th>Frente-PV (F°)</th>\n",
       "    </tr>\n",
       "  </thead>\n",
       "  <tbody>\n",
       "    <tr>\n",
       "      <th>0</th>\n",
       "      <td>False</td>\n",
       "      <td>False</td>\n",
       "      <td>False</td>\n",
       "      <td>False</td>\n",
       "      <td>False</td>\n",
       "      <td>False</td>\n",
       "      <td>False</td>\n",
       "      <td>False</td>\n",
       "      <td>False</td>\n",
       "      <td>False</td>\n",
       "      <td>False</td>\n",
       "      <td>False</td>\n",
       "      <td>False</td>\n",
       "      <td>False</td>\n",
       "    </tr>\n",
       "    <tr>\n",
       "      <th>1</th>\n",
       "      <td>False</td>\n",
       "      <td>False</td>\n",
       "      <td>False</td>\n",
       "      <td>False</td>\n",
       "      <td>False</td>\n",
       "      <td>False</td>\n",
       "      <td>False</td>\n",
       "      <td>False</td>\n",
       "      <td>False</td>\n",
       "      <td>False</td>\n",
       "      <td>False</td>\n",
       "      <td>False</td>\n",
       "      <td>False</td>\n",
       "      <td>False</td>\n",
       "    </tr>\n",
       "    <tr>\n",
       "      <th>2</th>\n",
       "      <td>False</td>\n",
       "      <td>False</td>\n",
       "      <td>False</td>\n",
       "      <td>False</td>\n",
       "      <td>False</td>\n",
       "      <td>False</td>\n",
       "      <td>False</td>\n",
       "      <td>False</td>\n",
       "      <td>False</td>\n",
       "      <td>False</td>\n",
       "      <td>False</td>\n",
       "      <td>False</td>\n",
       "      <td>False</td>\n",
       "      <td>False</td>\n",
       "    </tr>\n",
       "    <tr>\n",
       "      <th>3</th>\n",
       "      <td>False</td>\n",
       "      <td>False</td>\n",
       "      <td>False</td>\n",
       "      <td>False</td>\n",
       "      <td>False</td>\n",
       "      <td>False</td>\n",
       "      <td>False</td>\n",
       "      <td>False</td>\n",
       "      <td>False</td>\n",
       "      <td>False</td>\n",
       "      <td>False</td>\n",
       "      <td>False</td>\n",
       "      <td>False</td>\n",
       "      <td>False</td>\n",
       "    </tr>\n",
       "    <tr>\n",
       "      <th>4</th>\n",
       "      <td>False</td>\n",
       "      <td>False</td>\n",
       "      <td>False</td>\n",
       "      <td>False</td>\n",
       "      <td>False</td>\n",
       "      <td>False</td>\n",
       "      <td>False</td>\n",
       "      <td>False</td>\n",
       "      <td>False</td>\n",
       "      <td>False</td>\n",
       "      <td>False</td>\n",
       "      <td>False</td>\n",
       "      <td>False</td>\n",
       "      <td>False</td>\n",
       "    </tr>\n",
       "    <tr>\n",
       "      <th>...</th>\n",
       "      <td>...</td>\n",
       "      <td>...</td>\n",
       "      <td>...</td>\n",
       "      <td>...</td>\n",
       "      <td>...</td>\n",
       "      <td>...</td>\n",
       "      <td>...</td>\n",
       "      <td>...</td>\n",
       "      <td>...</td>\n",
       "      <td>...</td>\n",
       "      <td>...</td>\n",
       "      <td>...</td>\n",
       "      <td>...</td>\n",
       "      <td>...</td>\n",
       "    </tr>\n",
       "    <tr>\n",
       "      <th>195</th>\n",
       "      <td>False</td>\n",
       "      <td>False</td>\n",
       "      <td>False</td>\n",
       "      <td>False</td>\n",
       "      <td>False</td>\n",
       "      <td>False</td>\n",
       "      <td>False</td>\n",
       "      <td>False</td>\n",
       "      <td>False</td>\n",
       "      <td>False</td>\n",
       "      <td>False</td>\n",
       "      <td>False</td>\n",
       "      <td>False</td>\n",
       "      <td>False</td>\n",
       "    </tr>\n",
       "    <tr>\n",
       "      <th>196</th>\n",
       "      <td>False</td>\n",
       "      <td>False</td>\n",
       "      <td>False</td>\n",
       "      <td>False</td>\n",
       "      <td>False</td>\n",
       "      <td>False</td>\n",
       "      <td>False</td>\n",
       "      <td>False</td>\n",
       "      <td>False</td>\n",
       "      <td>False</td>\n",
       "      <td>False</td>\n",
       "      <td>False</td>\n",
       "      <td>False</td>\n",
       "      <td>False</td>\n",
       "    </tr>\n",
       "    <tr>\n",
       "      <th>197</th>\n",
       "      <td>False</td>\n",
       "      <td>False</td>\n",
       "      <td>False</td>\n",
       "      <td>False</td>\n",
       "      <td>False</td>\n",
       "      <td>False</td>\n",
       "      <td>False</td>\n",
       "      <td>False</td>\n",
       "      <td>False</td>\n",
       "      <td>False</td>\n",
       "      <td>False</td>\n",
       "      <td>False</td>\n",
       "      <td>False</td>\n",
       "      <td>False</td>\n",
       "    </tr>\n",
       "    <tr>\n",
       "      <th>198</th>\n",
       "      <td>False</td>\n",
       "      <td>False</td>\n",
       "      <td>False</td>\n",
       "      <td>False</td>\n",
       "      <td>False</td>\n",
       "      <td>False</td>\n",
       "      <td>False</td>\n",
       "      <td>False</td>\n",
       "      <td>False</td>\n",
       "      <td>False</td>\n",
       "      <td>False</td>\n",
       "      <td>False</td>\n",
       "      <td>False</td>\n",
       "      <td>False</td>\n",
       "    </tr>\n",
       "    <tr>\n",
       "      <th>199</th>\n",
       "      <td>False</td>\n",
       "      <td>False</td>\n",
       "      <td>False</td>\n",
       "      <td>False</td>\n",
       "      <td>False</td>\n",
       "      <td>False</td>\n",
       "      <td>False</td>\n",
       "      <td>False</td>\n",
       "      <td>False</td>\n",
       "      <td>False</td>\n",
       "      <td>False</td>\n",
       "      <td>False</td>\n",
       "      <td>False</td>\n",
       "      <td>False</td>\n",
       "    </tr>\n",
       "  </tbody>\n",
       "</table>\n",
       "<p>200 rows × 14 columns</p>\n",
       "</div>"
      ],
      "text/plain": [
       "     Linha de prod  Ordem de prod  Data de prod  Gotas cortadas (toneladas)  \\\n",
       "0            False          False         False                       False   \n",
       "1            False          False         False                       False   \n",
       "2            False          False         False                       False   \n",
       "3            False          False         False                       False   \n",
       "4            False          False         False                       False   \n",
       "..             ...            ...           ...                         ...   \n",
       "195          False          False         False                       False   \n",
       "196          False          False         False                       False   \n",
       "197          False          False         False                       False   \n",
       "198          False          False         False                       False   \n",
       "199          False          False         False                       False   \n",
       "\n",
       "     Peso médio (Kg)  Cortes por minuto  Comprimento médio (mm)  Diâmetro  \\\n",
       "0              False              False                   False     False   \n",
       "1              False              False                   False     False   \n",
       "2              False              False                   False     False   \n",
       "3              False              False                   False     False   \n",
       "4              False              False                   False     False   \n",
       "..               ...                ...                     ...       ...   \n",
       "195            False              False                   False     False   \n",
       "196            False              False                   False     False   \n",
       "197            False              False                   False     False   \n",
       "198            False              False                   False     False   \n",
       "199            False              False                   False     False   \n",
       "\n",
       "     Temperatura (F°)  Tras-PV (F°)  Fritas-PV (F°)  Agit-PV (F°)  \\\n",
       "0               False         False           False         False   \n",
       "1               False         False           False         False   \n",
       "2               False         False           False         False   \n",
       "3               False         False           False         False   \n",
       "4               False         False           False         False   \n",
       "..                ...           ...             ...           ...   \n",
       "195             False         False           False         False   \n",
       "196             False         False           False         False   \n",
       "197             False         False           False         False   \n",
       "198             False         False           False         False   \n",
       "199             False         False           False         False   \n",
       "\n",
       "     Meio-PV (F°)  Frente-PV (F°)  \n",
       "0           False           False  \n",
       "1           False           False  \n",
       "2           False           False  \n",
       "3           False           False  \n",
       "4           False           False  \n",
       "..            ...             ...  \n",
       "195         False           False  \n",
       "196         False           False  \n",
       "197         False           False  \n",
       "198         False           False  \n",
       "199         False           False  \n",
       "\n",
       "[200 rows x 14 columns]"
      ]
     },
     "execution_count": 42,
     "metadata": {},
     "output_type": "execute_result"
    }
   ],
   "source": [
    "df.isnull()"
   ]
  },
  {
   "cell_type": "markdown",
   "metadata": {},
   "source": [
    "### Reordenando DataFrame"
   ]
  },
  {
   "cell_type": "code",
   "execution_count": 43,
   "metadata": {},
   "outputs": [],
   "source": [
    "# cols = df.columns.tolist()\n",
    "# cols_no_pv = [col for col in cols if \"PV\" not in col]\n",
    "# cols_pv = [col for col in cols if \"PV\" in col]\n",
    "# new_order = cols_no_pv + cols_pv\n",
    "\n",
    "# df = df[new_order]"
   ]
  },
  {
   "cell_type": "code",
   "execution_count": 44,
   "metadata": {},
   "outputs": [
    {
     "data": {
      "text/html": [
       "<div>\n",
       "<style scoped>\n",
       "    .dataframe tbody tr th:only-of-type {\n",
       "        vertical-align: middle;\n",
       "    }\n",
       "\n",
       "    .dataframe tbody tr th {\n",
       "        vertical-align: top;\n",
       "    }\n",
       "\n",
       "    .dataframe thead th {\n",
       "        text-align: right;\n",
       "    }\n",
       "</style>\n",
       "<table border=\"1\" class=\"dataframe\">\n",
       "  <thead>\n",
       "    <tr style=\"text-align: right;\">\n",
       "      <th></th>\n",
       "      <th>Gotas cortadas (toneladas)</th>\n",
       "      <th>Peso médio (Kg)</th>\n",
       "      <th>Cortes por minuto</th>\n",
       "      <th>Comprimento médio (mm)</th>\n",
       "      <th>Diâmetro</th>\n",
       "      <th>Temperatura (F°)</th>\n",
       "      <th>Tras-PV (F°)</th>\n",
       "      <th>Fritas-PV (F°)</th>\n",
       "      <th>Agit-PV (F°)</th>\n",
       "      <th>Meio-PV (F°)</th>\n",
       "      <th>Frente-PV (F°)</th>\n",
       "    </tr>\n",
       "  </thead>\n",
       "  <tbody>\n",
       "    <tr>\n",
       "      <th>count</th>\n",
       "      <td>200.00</td>\n",
       "      <td>200.00</td>\n",
       "      <td>200.00</td>\n",
       "      <td>200.00</td>\n",
       "      <td>200.00</td>\n",
       "      <td>200.00</td>\n",
       "      <td>200.00</td>\n",
       "      <td>200.00</td>\n",
       "      <td>200.00</td>\n",
       "      <td>200.00</td>\n",
       "      <td>200.00</td>\n",
       "    </tr>\n",
       "    <tr>\n",
       "      <th>mean</th>\n",
       "      <td>17.97</td>\n",
       "      <td>167.76</td>\n",
       "      <td>86.94</td>\n",
       "      <td>92.48</td>\n",
       "      <td>35.49</td>\n",
       "      <td>2034.46</td>\n",
       "      <td>2344.91</td>\n",
       "      <td>2308.48</td>\n",
       "      <td>2267.16</td>\n",
       "      <td>2230.63</td>\n",
       "      <td>2179.99</td>\n",
       "    </tr>\n",
       "    <tr>\n",
       "      <th>std</th>\n",
       "      <td>6.24</td>\n",
       "      <td>20.75</td>\n",
       "      <td>14.01</td>\n",
       "      <td>22.47</td>\n",
       "      <td>6.57</td>\n",
       "      <td>339.86</td>\n",
       "      <td>19.16</td>\n",
       "      <td>16.80</td>\n",
       "      <td>19.75</td>\n",
       "      <td>21.98</td>\n",
       "      <td>15.92</td>\n",
       "    </tr>\n",
       "    <tr>\n",
       "      <th>min</th>\n",
       "      <td>0.74</td>\n",
       "      <td>116.30</td>\n",
       "      <td>58.70</td>\n",
       "      <td>0.00</td>\n",
       "      <td>0.00</td>\n",
       "      <td>640.22</td>\n",
       "      <td>2249.90</td>\n",
       "      <td>2270.00</td>\n",
       "      <td>2208.50</td>\n",
       "      <td>2112.70</td>\n",
       "      <td>2115.30</td>\n",
       "    </tr>\n",
       "    <tr>\n",
       "      <th>25%</th>\n",
       "      <td>14.95</td>\n",
       "      <td>160.60</td>\n",
       "      <td>78.15</td>\n",
       "      <td>83.10</td>\n",
       "      <td>34.20</td>\n",
       "      <td>1920.96</td>\n",
       "      <td>2331.90</td>\n",
       "      <td>2300.00</td>\n",
       "      <td>2250.00</td>\n",
       "      <td>2213.67</td>\n",
       "      <td>2171.90</td>\n",
       "    </tr>\n",
       "    <tr>\n",
       "      <th>50%</th>\n",
       "      <td>20.32</td>\n",
       "      <td>171.05</td>\n",
       "      <td>88.00</td>\n",
       "      <td>93.00</td>\n",
       "      <td>37.00</td>\n",
       "      <td>2010.74</td>\n",
       "      <td>2349.60</td>\n",
       "      <td>2302.25</td>\n",
       "      <td>2264.10</td>\n",
       "      <td>2230.00</td>\n",
       "      <td>2176.05</td>\n",
       "    </tr>\n",
       "    <tr>\n",
       "      <th>75%</th>\n",
       "      <td>21.55</td>\n",
       "      <td>174.80</td>\n",
       "      <td>96.00</td>\n",
       "      <td>102.40</td>\n",
       "      <td>39.30</td>\n",
       "      <td>2152.27</td>\n",
       "      <td>2354.80</td>\n",
       "      <td>2321.70</td>\n",
       "      <td>2281.15</td>\n",
       "      <td>2242.82</td>\n",
       "      <td>2187.00</td>\n",
       "    </tr>\n",
       "    <tr>\n",
       "      <th>max</th>\n",
       "      <td>26.05</td>\n",
       "      <td>203.00</td>\n",
       "      <td>124.00</td>\n",
       "      <td>144.70</td>\n",
       "      <td>42.80</td>\n",
       "      <td>3369.74</td>\n",
       "      <td>2390.00</td>\n",
       "      <td>2360.10</td>\n",
       "      <td>2301.20</td>\n",
       "      <td>2286.90</td>\n",
       "      <td>2223.00</td>\n",
       "    </tr>\n",
       "  </tbody>\n",
       "</table>\n",
       "</div>"
      ],
      "text/plain": [
       "       Gotas cortadas (toneladas)  Peso médio (Kg)  Cortes por minuto  \\\n",
       "count                      200.00           200.00             200.00   \n",
       "mean                        17.97           167.76              86.94   \n",
       "std                          6.24            20.75              14.01   \n",
       "min                          0.74           116.30              58.70   \n",
       "25%                         14.95           160.60              78.15   \n",
       "50%                         20.32           171.05              88.00   \n",
       "75%                         21.55           174.80              96.00   \n",
       "max                         26.05           203.00             124.00   \n",
       "\n",
       "       Comprimento médio (mm)  Diâmetro  Temperatura (F°)  Tras-PV (F°)  \\\n",
       "count                  200.00    200.00            200.00        200.00   \n",
       "mean                    92.48     35.49           2034.46       2344.91   \n",
       "std                     22.47      6.57            339.86         19.16   \n",
       "min                      0.00      0.00            640.22       2249.90   \n",
       "25%                     83.10     34.20           1920.96       2331.90   \n",
       "50%                     93.00     37.00           2010.74       2349.60   \n",
       "75%                    102.40     39.30           2152.27       2354.80   \n",
       "max                    144.70     42.80           3369.74       2390.00   \n",
       "\n",
       "       Fritas-PV (F°)  Agit-PV (F°)  Meio-PV (F°)  Frente-PV (F°)  \n",
       "count          200.00        200.00        200.00          200.00  \n",
       "mean          2308.48       2267.16       2230.63         2179.99  \n",
       "std             16.80         19.75         21.98           15.92  \n",
       "min           2270.00       2208.50       2112.70         2115.30  \n",
       "25%           2300.00       2250.00       2213.67         2171.90  \n",
       "50%           2302.25       2264.10       2230.00         2176.05  \n",
       "75%           2321.70       2281.15       2242.82         2187.00  \n",
       "max           2360.10       2301.20       2286.90         2223.00  "
      ]
     },
     "execution_count": 44,
     "metadata": {},
     "output_type": "execute_result"
    }
   ],
   "source": [
    "df_numerico = df.select_dtypes(include=[np.number])\n",
    "\n",
    "df_numerico.describe().round(2)"
   ]
  },
  {
   "cell_type": "markdown",
   "metadata": {},
   "source": [
    "# Correlação"
   ]
  },
  {
   "cell_type": "code",
   "execution_count": 45,
   "metadata": {},
   "outputs": [
    {
     "data": {
      "application/vnd.plotly.v1+json": {
       "config": {
        "plotlyServerURL": "https://plot.ly"
       },
       "data": [
        {
         "coloraxis": "coloraxis",
         "hovertemplate": "x: %{x}<br>y: %{y}<br>Correlação: %{z}<extra></extra>",
         "name": "0",
         "texttemplate": "%{z}",
         "type": "heatmap",
         "x": [
          "Gotas cortadas (toneladas)",
          "Peso médio (Kg)",
          "Cortes por minuto",
          "Comprimento médio (mm)",
          "Diâmetro",
          "Temperatura (F°)",
          "Tras-PV (F°)",
          "Fritas-PV (F°)",
          "Agit-PV (F°)",
          "Meio-PV (F°)",
          "Frente-PV (F°)"
         ],
         "xaxis": "x",
         "y": [
          "Gotas cortadas (toneladas)",
          "Peso médio (Kg)",
          "Cortes por minuto",
          "Comprimento médio (mm)",
          "Diâmetro",
          "Temperatura (F°)",
          "Tras-PV (F°)",
          "Fritas-PV (F°)",
          "Agit-PV (F°)",
          "Meio-PV (F°)",
          "Frente-PV (F°)"
         ],
         "yaxis": "y",
         "z": [
          [
           1,
           0.10036597056422611,
           0.22236124500476495,
           0.16188695152576887,
           0.08337791611438412,
           0.007291072510337419,
           -0.14183669299328372,
           -0.11885254713222436,
           -0.22029518426209785,
           -0.1289073613291851,
           -0.03151162255261296
          ],
          [
           0.10036597056422611,
           1,
           -0.5936160637871482,
           0.18045809828344078,
           -0.0177757455690938,
           0.10812147140700881,
           -0.19722024347775172,
           -0.3023578787502713,
           -0.21756446520377914,
           -0.17284308617182476,
           -0.3424790170905792
          ],
          [
           0.22236124500476495,
           -0.5936160637871482,
           1,
           -0.11771170002281646,
           -0.017033555436053695,
           -0.0932662701183852,
           -0.16003954621819996,
           -0.08756057946149642,
           -0.14607812645980522,
           -0.12849232684310927,
           0.19880709533300045
          ],
          [
           0.16188695152576887,
           0.18045809828344078,
           -0.11771170002281646,
           1,
           0.48118443275014283,
           0.03229120539234329,
           0.09052027727755693,
           -0.07514467870908266,
           -0.24933390762906651,
           -0.3192051134096866,
           -0.045850936603473884
          ],
          [
           0.08337791611438412,
           -0.0177757455690938,
           -0.017033555436053695,
           0.48118443275014283,
           1,
           -0.16631096344073254,
           0.19577020562763145,
           0.23790044170019098,
           0.21311582248343236,
           0.08538948451620165,
           0.28361068802661754
          ],
          [
           0.007291072510337419,
           0.10812147140700881,
           -0.0932662701183852,
           0.03229120539234329,
           -0.16631096344073254,
           1,
           -0.17490358941057765,
           -0.07491463639839671,
           0.12505768492710456,
           0.08878465271462058,
           -0.042044488546897206
          ],
          [
           -0.14183669299328372,
           -0.19722024347775172,
           -0.16003954621819996,
           0.09052027727755693,
           0.19577020562763145,
           -0.17490358941057765,
           1,
           0.6250185018794423,
           0.41017648891807595,
           0.19455133309457878,
           0.37802326095319716
          ],
          [
           -0.11885254713222436,
           -0.3023578787502713,
           -0.08756057946149642,
           -0.07514467870908266,
           0.23790044170019098,
           -0.07491463639839671,
           0.6250185018794423,
           1,
           0.7291303016416787,
           0.5583816998344424,
           0.46286311770014416
          ],
          [
           -0.22029518426209785,
           -0.21756446520377914,
           -0.14607812645980522,
           -0.24933390762906651,
           0.21311582248343236,
           0.12505768492710456,
           0.41017648891807595,
           0.7291303016416787,
           1,
           0.7653078080641166,
           0.4516416329395865
          ],
          [
           -0.1289073613291851,
           -0.17284308617182476,
           -0.12849232684310927,
           -0.3192051134096866,
           0.08538948451620165,
           0.08878465271462058,
           0.19455133309457878,
           0.5583816998344424,
           0.7653078080641166,
           1,
           0.5111300997213694
          ],
          [
           -0.03151162255261296,
           -0.3424790170905792,
           0.19880709533300045,
           -0.045850936603473884,
           0.28361068802661754,
           -0.042044488546897206,
           0.37802326095319716,
           0.46286311770014416,
           0.4516416329395865,
           0.5111300997213694,
           1
          ]
         ]
        }
       ],
       "layout": {
        "coloraxis": {
         "colorbar": {
          "title": {
           "text": "Correlação"
          }
         },
         "colorscale": [
          [
           0,
           "#440154"
          ],
          [
           0.1111111111111111,
           "#482878"
          ],
          [
           0.2222222222222222,
           "#3e4989"
          ],
          [
           0.3333333333333333,
           "#31688e"
          ],
          [
           0.4444444444444444,
           "#26828e"
          ],
          [
           0.5555555555555556,
           "#1f9e89"
          ],
          [
           0.6666666666666666,
           "#35b779"
          ],
          [
           0.7777777777777778,
           "#6ece58"
          ],
          [
           0.8888888888888888,
           "#b5de2b"
          ],
          [
           1,
           "#fde725"
          ]
         ]
        },
        "margin": {
         "t": 60
        },
        "template": {
         "data": {
          "bar": [
           {
            "error_x": {
             "color": "#2a3f5f"
            },
            "error_y": {
             "color": "#2a3f5f"
            },
            "marker": {
             "line": {
              "color": "#E5ECF6",
              "width": 0.5
             },
             "pattern": {
              "fillmode": "overlay",
              "size": 10,
              "solidity": 0.2
             }
            },
            "type": "bar"
           }
          ],
          "barpolar": [
           {
            "marker": {
             "line": {
              "color": "#E5ECF6",
              "width": 0.5
             },
             "pattern": {
              "fillmode": "overlay",
              "size": 10,
              "solidity": 0.2
             }
            },
            "type": "barpolar"
           }
          ],
          "carpet": [
           {
            "aaxis": {
             "endlinecolor": "#2a3f5f",
             "gridcolor": "white",
             "linecolor": "white",
             "minorgridcolor": "white",
             "startlinecolor": "#2a3f5f"
            },
            "baxis": {
             "endlinecolor": "#2a3f5f",
             "gridcolor": "white",
             "linecolor": "white",
             "minorgridcolor": "white",
             "startlinecolor": "#2a3f5f"
            },
            "type": "carpet"
           }
          ],
          "choropleth": [
           {
            "colorbar": {
             "outlinewidth": 0,
             "ticks": ""
            },
            "type": "choropleth"
           }
          ],
          "contour": [
           {
            "colorbar": {
             "outlinewidth": 0,
             "ticks": ""
            },
            "colorscale": [
             [
              0,
              "#0d0887"
             ],
             [
              0.1111111111111111,
              "#46039f"
             ],
             [
              0.2222222222222222,
              "#7201a8"
             ],
             [
              0.3333333333333333,
              "#9c179e"
             ],
             [
              0.4444444444444444,
              "#bd3786"
             ],
             [
              0.5555555555555556,
              "#d8576b"
             ],
             [
              0.6666666666666666,
              "#ed7953"
             ],
             [
              0.7777777777777778,
              "#fb9f3a"
             ],
             [
              0.8888888888888888,
              "#fdca26"
             ],
             [
              1,
              "#f0f921"
             ]
            ],
            "type": "contour"
           }
          ],
          "contourcarpet": [
           {
            "colorbar": {
             "outlinewidth": 0,
             "ticks": ""
            },
            "type": "contourcarpet"
           }
          ],
          "heatmap": [
           {
            "colorbar": {
             "outlinewidth": 0,
             "ticks": ""
            },
            "colorscale": [
             [
              0,
              "#0d0887"
             ],
             [
              0.1111111111111111,
              "#46039f"
             ],
             [
              0.2222222222222222,
              "#7201a8"
             ],
             [
              0.3333333333333333,
              "#9c179e"
             ],
             [
              0.4444444444444444,
              "#bd3786"
             ],
             [
              0.5555555555555556,
              "#d8576b"
             ],
             [
              0.6666666666666666,
              "#ed7953"
             ],
             [
              0.7777777777777778,
              "#fb9f3a"
             ],
             [
              0.8888888888888888,
              "#fdca26"
             ],
             [
              1,
              "#f0f921"
             ]
            ],
            "type": "heatmap"
           }
          ],
          "heatmapgl": [
           {
            "colorbar": {
             "outlinewidth": 0,
             "ticks": ""
            },
            "colorscale": [
             [
              0,
              "#0d0887"
             ],
             [
              0.1111111111111111,
              "#46039f"
             ],
             [
              0.2222222222222222,
              "#7201a8"
             ],
             [
              0.3333333333333333,
              "#9c179e"
             ],
             [
              0.4444444444444444,
              "#bd3786"
             ],
             [
              0.5555555555555556,
              "#d8576b"
             ],
             [
              0.6666666666666666,
              "#ed7953"
             ],
             [
              0.7777777777777778,
              "#fb9f3a"
             ],
             [
              0.8888888888888888,
              "#fdca26"
             ],
             [
              1,
              "#f0f921"
             ]
            ],
            "type": "heatmapgl"
           }
          ],
          "histogram": [
           {
            "marker": {
             "pattern": {
              "fillmode": "overlay",
              "size": 10,
              "solidity": 0.2
             }
            },
            "type": "histogram"
           }
          ],
          "histogram2d": [
           {
            "colorbar": {
             "outlinewidth": 0,
             "ticks": ""
            },
            "colorscale": [
             [
              0,
              "#0d0887"
             ],
             [
              0.1111111111111111,
              "#46039f"
             ],
             [
              0.2222222222222222,
              "#7201a8"
             ],
             [
              0.3333333333333333,
              "#9c179e"
             ],
             [
              0.4444444444444444,
              "#bd3786"
             ],
             [
              0.5555555555555556,
              "#d8576b"
             ],
             [
              0.6666666666666666,
              "#ed7953"
             ],
             [
              0.7777777777777778,
              "#fb9f3a"
             ],
             [
              0.8888888888888888,
              "#fdca26"
             ],
             [
              1,
              "#f0f921"
             ]
            ],
            "type": "histogram2d"
           }
          ],
          "histogram2dcontour": [
           {
            "colorbar": {
             "outlinewidth": 0,
             "ticks": ""
            },
            "colorscale": [
             [
              0,
              "#0d0887"
             ],
             [
              0.1111111111111111,
              "#46039f"
             ],
             [
              0.2222222222222222,
              "#7201a8"
             ],
             [
              0.3333333333333333,
              "#9c179e"
             ],
             [
              0.4444444444444444,
              "#bd3786"
             ],
             [
              0.5555555555555556,
              "#d8576b"
             ],
             [
              0.6666666666666666,
              "#ed7953"
             ],
             [
              0.7777777777777778,
              "#fb9f3a"
             ],
             [
              0.8888888888888888,
              "#fdca26"
             ],
             [
              1,
              "#f0f921"
             ]
            ],
            "type": "histogram2dcontour"
           }
          ],
          "mesh3d": [
           {
            "colorbar": {
             "outlinewidth": 0,
             "ticks": ""
            },
            "type": "mesh3d"
           }
          ],
          "parcoords": [
           {
            "line": {
             "colorbar": {
              "outlinewidth": 0,
              "ticks": ""
             }
            },
            "type": "parcoords"
           }
          ],
          "pie": [
           {
            "automargin": true,
            "type": "pie"
           }
          ],
          "scatter": [
           {
            "fillpattern": {
             "fillmode": "overlay",
             "size": 10,
             "solidity": 0.2
            },
            "type": "scatter"
           }
          ],
          "scatter3d": [
           {
            "line": {
             "colorbar": {
              "outlinewidth": 0,
              "ticks": ""
             }
            },
            "marker": {
             "colorbar": {
              "outlinewidth": 0,
              "ticks": ""
             }
            },
            "type": "scatter3d"
           }
          ],
          "scattercarpet": [
           {
            "marker": {
             "colorbar": {
              "outlinewidth": 0,
              "ticks": ""
             }
            },
            "type": "scattercarpet"
           }
          ],
          "scattergeo": [
           {
            "marker": {
             "colorbar": {
              "outlinewidth": 0,
              "ticks": ""
             }
            },
            "type": "scattergeo"
           }
          ],
          "scattergl": [
           {
            "marker": {
             "colorbar": {
              "outlinewidth": 0,
              "ticks": ""
             }
            },
            "type": "scattergl"
           }
          ],
          "scattermapbox": [
           {
            "marker": {
             "colorbar": {
              "outlinewidth": 0,
              "ticks": ""
             }
            },
            "type": "scattermapbox"
           }
          ],
          "scatterpolar": [
           {
            "marker": {
             "colorbar": {
              "outlinewidth": 0,
              "ticks": ""
             }
            },
            "type": "scatterpolar"
           }
          ],
          "scatterpolargl": [
           {
            "marker": {
             "colorbar": {
              "outlinewidth": 0,
              "ticks": ""
             }
            },
            "type": "scatterpolargl"
           }
          ],
          "scatterternary": [
           {
            "marker": {
             "colorbar": {
              "outlinewidth": 0,
              "ticks": ""
             }
            },
            "type": "scatterternary"
           }
          ],
          "surface": [
           {
            "colorbar": {
             "outlinewidth": 0,
             "ticks": ""
            },
            "colorscale": [
             [
              0,
              "#0d0887"
             ],
             [
              0.1111111111111111,
              "#46039f"
             ],
             [
              0.2222222222222222,
              "#7201a8"
             ],
             [
              0.3333333333333333,
              "#9c179e"
             ],
             [
              0.4444444444444444,
              "#bd3786"
             ],
             [
              0.5555555555555556,
              "#d8576b"
             ],
             [
              0.6666666666666666,
              "#ed7953"
             ],
             [
              0.7777777777777778,
              "#fb9f3a"
             ],
             [
              0.8888888888888888,
              "#fdca26"
             ],
             [
              1,
              "#f0f921"
             ]
            ],
            "type": "surface"
           }
          ],
          "table": [
           {
            "cells": {
             "fill": {
              "color": "#EBF0F8"
             },
             "line": {
              "color": "white"
             }
            },
            "header": {
             "fill": {
              "color": "#C8D4E3"
             },
             "line": {
              "color": "white"
             }
            },
            "type": "table"
           }
          ]
         },
         "layout": {
          "annotationdefaults": {
           "arrowcolor": "#2a3f5f",
           "arrowhead": 0,
           "arrowwidth": 1
          },
          "autotypenumbers": "strict",
          "coloraxis": {
           "colorbar": {
            "outlinewidth": 0,
            "ticks": ""
           }
          },
          "colorscale": {
           "diverging": [
            [
             0,
             "#8e0152"
            ],
            [
             0.1,
             "#c51b7d"
            ],
            [
             0.2,
             "#de77ae"
            ],
            [
             0.3,
             "#f1b6da"
            ],
            [
             0.4,
             "#fde0ef"
            ],
            [
             0.5,
             "#f7f7f7"
            ],
            [
             0.6,
             "#e6f5d0"
            ],
            [
             0.7,
             "#b8e186"
            ],
            [
             0.8,
             "#7fbc41"
            ],
            [
             0.9,
             "#4d9221"
            ],
            [
             1,
             "#276419"
            ]
           ],
           "sequential": [
            [
             0,
             "#0d0887"
            ],
            [
             0.1111111111111111,
             "#46039f"
            ],
            [
             0.2222222222222222,
             "#7201a8"
            ],
            [
             0.3333333333333333,
             "#9c179e"
            ],
            [
             0.4444444444444444,
             "#bd3786"
            ],
            [
             0.5555555555555556,
             "#d8576b"
            ],
            [
             0.6666666666666666,
             "#ed7953"
            ],
            [
             0.7777777777777778,
             "#fb9f3a"
            ],
            [
             0.8888888888888888,
             "#fdca26"
            ],
            [
             1,
             "#f0f921"
            ]
           ],
           "sequentialminus": [
            [
             0,
             "#0d0887"
            ],
            [
             0.1111111111111111,
             "#46039f"
            ],
            [
             0.2222222222222222,
             "#7201a8"
            ],
            [
             0.3333333333333333,
             "#9c179e"
            ],
            [
             0.4444444444444444,
             "#bd3786"
            ],
            [
             0.5555555555555556,
             "#d8576b"
            ],
            [
             0.6666666666666666,
             "#ed7953"
            ],
            [
             0.7777777777777778,
             "#fb9f3a"
            ],
            [
             0.8888888888888888,
             "#fdca26"
            ],
            [
             1,
             "#f0f921"
            ]
           ]
          },
          "colorway": [
           "#636efa",
           "#EF553B",
           "#00cc96",
           "#ab63fa",
           "#FFA15A",
           "#19d3f3",
           "#FF6692",
           "#B6E880",
           "#FF97FF",
           "#FECB52"
          ],
          "font": {
           "color": "#2a3f5f"
          },
          "geo": {
           "bgcolor": "white",
           "lakecolor": "white",
           "landcolor": "#E5ECF6",
           "showlakes": true,
           "showland": true,
           "subunitcolor": "white"
          },
          "hoverlabel": {
           "align": "left"
          },
          "hovermode": "closest",
          "mapbox": {
           "style": "light"
          },
          "paper_bgcolor": "white",
          "plot_bgcolor": "#E5ECF6",
          "polar": {
           "angularaxis": {
            "gridcolor": "white",
            "linecolor": "white",
            "ticks": ""
           },
           "bgcolor": "#E5ECF6",
           "radialaxis": {
            "gridcolor": "white",
            "linecolor": "white",
            "ticks": ""
           }
          },
          "scene": {
           "xaxis": {
            "backgroundcolor": "#E5ECF6",
            "gridcolor": "white",
            "gridwidth": 2,
            "linecolor": "white",
            "showbackground": true,
            "ticks": "",
            "zerolinecolor": "white"
           },
           "yaxis": {
            "backgroundcolor": "#E5ECF6",
            "gridcolor": "white",
            "gridwidth": 2,
            "linecolor": "white",
            "showbackground": true,
            "ticks": "",
            "zerolinecolor": "white"
           },
           "zaxis": {
            "backgroundcolor": "#E5ECF6",
            "gridcolor": "white",
            "gridwidth": 2,
            "linecolor": "white",
            "showbackground": true,
            "ticks": "",
            "zerolinecolor": "white"
           }
          },
          "shapedefaults": {
           "line": {
            "color": "#2a3f5f"
           }
          },
          "ternary": {
           "aaxis": {
            "gridcolor": "white",
            "linecolor": "white",
            "ticks": ""
           },
           "baxis": {
            "gridcolor": "white",
            "linecolor": "white",
            "ticks": ""
           },
           "bgcolor": "#E5ECF6",
           "caxis": {
            "gridcolor": "white",
            "linecolor": "white",
            "ticks": ""
           }
          },
          "title": {
           "x": 0.05
          },
          "xaxis": {
           "automargin": true,
           "gridcolor": "white",
           "linecolor": "white",
           "ticks": "",
           "title": {
            "standoff": 15
           },
           "zerolinecolor": "white",
           "zerolinewidth": 2
          },
          "yaxis": {
           "automargin": true,
           "gridcolor": "white",
           "linecolor": "white",
           "ticks": "",
           "title": {
            "standoff": 15
           },
           "zerolinecolor": "white",
           "zerolinewidth": 2
          }
         }
        },
        "xaxis": {
         "anchor": "y",
         "constrain": "domain",
         "domain": [
          0,
          1
         ],
         "scaleanchor": "y"
        },
        "yaxis": {
         "anchor": "x",
         "autorange": "reversed",
         "constrain": "domain",
         "domain": [
          0,
          1
         ]
        }
       }
      }
     },
     "metadata": {},
     "output_type": "display_data"
    }
   ],
   "source": [
    "correlation_matrix = df_numerico.corr()\n",
    "\n",
    "fig = px.imshow(\n",
    "    correlation_matrix,\n",
    "    text_auto=True,\n",
    "    color_continuous_scale=\"Viridis\",\n",
    "    labels=dict(color=\"Correlação\"),\n",
    ")\n",
    "\n",
    "fig.show()"
   ]
  },
  {
   "cell_type": "markdown",
   "metadata": {},
   "source": [
    "# Agrupando por Mês e Ordem de Produção  "
   ]
  },
  {
   "cell_type": "markdown",
   "metadata": {},
   "source": [
    "## Médias "
   ]
  },
  {
   "cell_type": "code",
   "execution_count": 46,
   "metadata": {},
   "outputs": [
    {
     "data": {
      "text/html": [
       "<div>\n",
       "<style scoped>\n",
       "    .dataframe tbody tr th:only-of-type {\n",
       "        vertical-align: middle;\n",
       "    }\n",
       "\n",
       "    .dataframe tbody tr th {\n",
       "        vertical-align: top;\n",
       "    }\n",
       "\n",
       "    .dataframe thead th {\n",
       "        text-align: right;\n",
       "    }\n",
       "</style>\n",
       "<table border=\"1\" class=\"dataframe\">\n",
       "  <thead>\n",
       "    <tr style=\"text-align: right;\">\n",
       "      <th></th>\n",
       "      <th></th>\n",
       "      <th>Gotas cortadas (toneladas)</th>\n",
       "      <th>Peso médio (Kg)</th>\n",
       "      <th>Cortes por minuto</th>\n",
       "      <th>Comprimento médio (mm)</th>\n",
       "      <th>Diâmetro</th>\n",
       "      <th>Temperatura (F°)</th>\n",
       "      <th>Tras-PV (F°)</th>\n",
       "      <th>Fritas-PV (F°)</th>\n",
       "      <th>Agit-PV (F°)</th>\n",
       "      <th>Meio-PV (F°)</th>\n",
       "      <th>Frente-PV (F°)</th>\n",
       "    </tr>\n",
       "    <tr>\n",
       "      <th>Mês</th>\n",
       "      <th>Ordem de prod</th>\n",
       "      <th></th>\n",
       "      <th></th>\n",
       "      <th></th>\n",
       "      <th></th>\n",
       "      <th></th>\n",
       "      <th></th>\n",
       "      <th></th>\n",
       "      <th></th>\n",
       "      <th></th>\n",
       "      <th></th>\n",
       "      <th></th>\n",
       "    </tr>\n",
       "  </thead>\n",
       "  <tbody>\n",
       "    <tr>\n",
       "      <th rowspan=\"5\" valign=\"top\">1</th>\n",
       "      <th>192970</th>\n",
       "      <td>19.865</td>\n",
       "      <td>169.91</td>\n",
       "      <td>87.33</td>\n",
       "      <td>125.51</td>\n",
       "      <td>30.97</td>\n",
       "      <td>2662.56</td>\n",
       "      <td>2348.88</td>\n",
       "      <td>2300.30</td>\n",
       "      <td>2250.90</td>\n",
       "      <td>2208.07</td>\n",
       "      <td>2176.10</td>\n",
       "    </tr>\n",
       "    <tr>\n",
       "      <th>193112</th>\n",
       "      <td>14.911</td>\n",
       "      <td>168.17</td>\n",
       "      <td>90.00</td>\n",
       "      <td>88.73</td>\n",
       "      <td>38.57</td>\n",
       "      <td>2205.86</td>\n",
       "      <td>2327.03</td>\n",
       "      <td>2307.63</td>\n",
       "      <td>2272.97</td>\n",
       "      <td>2246.77</td>\n",
       "      <td>2196.60</td>\n",
       "    </tr>\n",
       "    <tr>\n",
       "      <th>193164</th>\n",
       "      <td>19.677</td>\n",
       "      <td>147.47</td>\n",
       "      <td>95.24</td>\n",
       "      <td>100.12</td>\n",
       "      <td>35.43</td>\n",
       "      <td>1744.15</td>\n",
       "      <td>2350.00</td>\n",
       "      <td>2299.89</td>\n",
       "      <td>2246.67</td>\n",
       "      <td>2201.89</td>\n",
       "      <td>2173.90</td>\n",
       "    </tr>\n",
       "    <tr>\n",
       "      <th>193206</th>\n",
       "      <td>18.578</td>\n",
       "      <td>171.15</td>\n",
       "      <td>89.35</td>\n",
       "      <td>90.40</td>\n",
       "      <td>36.88</td>\n",
       "      <td>2284.43</td>\n",
       "      <td>2315.75</td>\n",
       "      <td>2322.15</td>\n",
       "      <td>2280.57</td>\n",
       "      <td>2258.52</td>\n",
       "      <td>2179.75</td>\n",
       "    </tr>\n",
       "    <tr>\n",
       "      <th>193207</th>\n",
       "      <td>13.275</td>\n",
       "      <td>170.50</td>\n",
       "      <td>60.22</td>\n",
       "      <td>98.45</td>\n",
       "      <td>36.58</td>\n",
       "      <td>2270.16</td>\n",
       "      <td>2345.88</td>\n",
       "      <td>2328.38</td>\n",
       "      <td>2296.57</td>\n",
       "      <td>2251.32</td>\n",
       "      <td>2160.07</td>\n",
       "    </tr>\n",
       "    <tr>\n",
       "      <th rowspan=\"5\" valign=\"top\">2</th>\n",
       "      <th>193207</th>\n",
       "      <td>13.969</td>\n",
       "      <td>171.12</td>\n",
       "      <td>59.82</td>\n",
       "      <td>98.08</td>\n",
       "      <td>36.55</td>\n",
       "      <td>2218.07</td>\n",
       "      <td>2350.00</td>\n",
       "      <td>2329.97</td>\n",
       "      <td>2299.92</td>\n",
       "      <td>2244.27</td>\n",
       "      <td>2160.58</td>\n",
       "    </tr>\n",
       "    <tr>\n",
       "      <th>193208</th>\n",
       "      <td>9.872</td>\n",
       "      <td>122.10</td>\n",
       "      <td>82.40</td>\n",
       "      <td>61.00</td>\n",
       "      <td>27.45</td>\n",
       "      <td>2179.31</td>\n",
       "      <td>2350.00</td>\n",
       "      <td>2306.35</td>\n",
       "      <td>2287.45</td>\n",
       "      <td>2257.50</td>\n",
       "      <td>2200.90</td>\n",
       "    </tr>\n",
       "    <tr>\n",
       "      <th>193209</th>\n",
       "      <td>17.402</td>\n",
       "      <td>191.36</td>\n",
       "      <td>78.00</td>\n",
       "      <td>44.37</td>\n",
       "      <td>12.19</td>\n",
       "      <td>2012.13</td>\n",
       "      <td>2342.77</td>\n",
       "      <td>2294.00</td>\n",
       "      <td>2254.57</td>\n",
       "      <td>2231.21</td>\n",
       "      <td>2164.76</td>\n",
       "    </tr>\n",
       "    <tr>\n",
       "      <th>193342</th>\n",
       "      <td>21.498</td>\n",
       "      <td>170.20</td>\n",
       "      <td>88.37</td>\n",
       "      <td>113.77</td>\n",
       "      <td>31.78</td>\n",
       "      <td>2000.76</td>\n",
       "      <td>2336.27</td>\n",
       "      <td>2300.00</td>\n",
       "      <td>2241.42</td>\n",
       "      <td>2211.76</td>\n",
       "      <td>2172.94</td>\n",
       "    </tr>\n",
       "    <tr>\n",
       "      <th>193368</th>\n",
       "      <td>21.095</td>\n",
       "      <td>171.59</td>\n",
       "      <td>99.04</td>\n",
       "      <td>77.51</td>\n",
       "      <td>33.83</td>\n",
       "      <td>2077.62</td>\n",
       "      <td>2314.71</td>\n",
       "      <td>2292.40</td>\n",
       "      <td>2259.54</td>\n",
       "      <td>2231.44</td>\n",
       "      <td>2182.84</td>\n",
       "    </tr>\n",
       "    <tr>\n",
       "      <th rowspan=\"5\" valign=\"top\">3</th>\n",
       "      <th>193342</th>\n",
       "      <td>19.571</td>\n",
       "      <td>169.75</td>\n",
       "      <td>87.85</td>\n",
       "      <td>115.77</td>\n",
       "      <td>34.79</td>\n",
       "      <td>1808.99</td>\n",
       "      <td>2341.15</td>\n",
       "      <td>2301.97</td>\n",
       "      <td>2241.85</td>\n",
       "      <td>2211.11</td>\n",
       "      <td>2169.85</td>\n",
       "    </tr>\n",
       "    <tr>\n",
       "      <th>193459</th>\n",
       "      <td>12.529</td>\n",
       "      <td>190.83</td>\n",
       "      <td>60.23</td>\n",
       "      <td>96.67</td>\n",
       "      <td>37.57</td>\n",
       "      <td>1342.28</td>\n",
       "      <td>2358.63</td>\n",
       "      <td>2326.43</td>\n",
       "      <td>2283.10</td>\n",
       "      <td>2252.13</td>\n",
       "      <td>2177.00</td>\n",
       "    </tr>\n",
       "    <tr>\n",
       "      <th>193462</th>\n",
       "      <td>18.197</td>\n",
       "      <td>172.44</td>\n",
       "      <td>89.48</td>\n",
       "      <td>86.08</td>\n",
       "      <td>40.20</td>\n",
       "      <td>2194.16</td>\n",
       "      <td>2338.72</td>\n",
       "      <td>2305.72</td>\n",
       "      <td>2275.56</td>\n",
       "      <td>2234.28</td>\n",
       "      <td>2202.86</td>\n",
       "    </tr>\n",
       "    <tr>\n",
       "      <th>193463</th>\n",
       "      <td>13.674</td>\n",
       "      <td>172.20</td>\n",
       "      <td>59.84</td>\n",
       "      <td>93.64</td>\n",
       "      <td>38.75</td>\n",
       "      <td>2202.85</td>\n",
       "      <td>2364.78</td>\n",
       "      <td>2329.70</td>\n",
       "      <td>2299.88</td>\n",
       "      <td>2269.14</td>\n",
       "      <td>2204.40</td>\n",
       "    </tr>\n",
       "    <tr>\n",
       "      <th>193594</th>\n",
       "      <td>19.100</td>\n",
       "      <td>171.77</td>\n",
       "      <td>79.87</td>\n",
       "      <td>90.52</td>\n",
       "      <td>39.32</td>\n",
       "      <td>2032.67</td>\n",
       "      <td>2321.18</td>\n",
       "      <td>2280.12</td>\n",
       "      <td>2250.45</td>\n",
       "      <td>2221.07</td>\n",
       "      <td>2181.07</td>\n",
       "    </tr>\n",
       "    <tr>\n",
       "      <th rowspan=\"11\" valign=\"top\">4</th>\n",
       "      <th>193533</th>\n",
       "      <td>20.996</td>\n",
       "      <td>196.69</td>\n",
       "      <td>88.09</td>\n",
       "      <td>97.51</td>\n",
       "      <td>38.26</td>\n",
       "      <td>2141.20</td>\n",
       "      <td>2333.10</td>\n",
       "      <td>2295.04</td>\n",
       "      <td>2255.01</td>\n",
       "      <td>2212.38</td>\n",
       "      <td>2173.24</td>\n",
       "    </tr>\n",
       "    <tr>\n",
       "      <th>193535</th>\n",
       "      <td>16.004</td>\n",
       "      <td>116.43</td>\n",
       "      <td>123.07</td>\n",
       "      <td>84.00</td>\n",
       "      <td>33.60</td>\n",
       "      <td>2057.48</td>\n",
       "      <td>2341.03</td>\n",
       "      <td>2306.53</td>\n",
       "      <td>2286.80</td>\n",
       "      <td>2247.90</td>\n",
       "      <td>2175.50</td>\n",
       "    </tr>\n",
       "    <tr>\n",
       "      <th>193537</th>\n",
       "      <td>16.929</td>\n",
       "      <td>173.90</td>\n",
       "      <td>96.57</td>\n",
       "      <td>81.03</td>\n",
       "      <td>39.53</td>\n",
       "      <td>1984.10</td>\n",
       "      <td>2359.90</td>\n",
       "      <td>2326.77</td>\n",
       "      <td>2288.10</td>\n",
       "      <td>2262.93</td>\n",
       "      <td>2196.30</td>\n",
       "    </tr>\n",
       "    <tr>\n",
       "      <th>193594</th>\n",
       "      <td>14.049</td>\n",
       "      <td>172.10</td>\n",
       "      <td>78.40</td>\n",
       "      <td>92.10</td>\n",
       "      <td>39.20</td>\n",
       "      <td>2029.10</td>\n",
       "      <td>2321.80</td>\n",
       "      <td>2282.20</td>\n",
       "      <td>2251.50</td>\n",
       "      <td>2227.20</td>\n",
       "      <td>2176.20</td>\n",
       "    </tr>\n",
       "    <tr>\n",
       "      <th>193619</th>\n",
       "      <td>21.523</td>\n",
       "      <td>192.58</td>\n",
       "      <td>88.00</td>\n",
       "      <td>97.54</td>\n",
       "      <td>39.26</td>\n",
       "      <td>2030.76</td>\n",
       "      <td>2359.94</td>\n",
       "      <td>2320.22</td>\n",
       "      <td>2280.00</td>\n",
       "      <td>2226.32</td>\n",
       "      <td>2176.36</td>\n",
       "    </tr>\n",
       "    <tr>\n",
       "      <th>193671</th>\n",
       "      <td>11.756</td>\n",
       "      <td>193.02</td>\n",
       "      <td>60.00</td>\n",
       "      <td>98.28</td>\n",
       "      <td>38.17</td>\n",
       "      <td>2313.82</td>\n",
       "      <td>2358.70</td>\n",
       "      <td>2321.48</td>\n",
       "      <td>2274.07</td>\n",
       "      <td>2224.68</td>\n",
       "      <td>2175.52</td>\n",
       "    </tr>\n",
       "    <tr>\n",
       "      <th>193686</th>\n",
       "      <td>13.240</td>\n",
       "      <td>124.10</td>\n",
       "      <td>105.03</td>\n",
       "      <td>63.90</td>\n",
       "      <td>32.33</td>\n",
       "      <td>2113.88</td>\n",
       "      <td>2330.17</td>\n",
       "      <td>2300.37</td>\n",
       "      <td>2263.37</td>\n",
       "      <td>2225.07</td>\n",
       "      <td>2170.47</td>\n",
       "    </tr>\n",
       "    <tr>\n",
       "      <th>193688</th>\n",
       "      <td>13.908</td>\n",
       "      <td>202.47</td>\n",
       "      <td>70.83</td>\n",
       "      <td>76.57</td>\n",
       "      <td>38.13</td>\n",
       "      <td>2201.90</td>\n",
       "      <td>2330.00</td>\n",
       "      <td>2277.00</td>\n",
       "      <td>2244.63</td>\n",
       "      <td>2200.63</td>\n",
       "      <td>2158.10</td>\n",
       "    </tr>\n",
       "    <tr>\n",
       "      <th>193689</th>\n",
       "      <td>15.638</td>\n",
       "      <td>161.77</td>\n",
       "      <td>103.17</td>\n",
       "      <td>97.67</td>\n",
       "      <td>34.13</td>\n",
       "      <td>2018.12</td>\n",
       "      <td>2330.00</td>\n",
       "      <td>2302.03</td>\n",
       "      <td>2268.77</td>\n",
       "      <td>2227.73</td>\n",
       "      <td>2174.40</td>\n",
       "    </tr>\n",
       "    <tr>\n",
       "      <th>193692</th>\n",
       "      <td>14.500</td>\n",
       "      <td>158.03</td>\n",
       "      <td>94.40</td>\n",
       "      <td>89.23</td>\n",
       "      <td>36.70</td>\n",
       "      <td>2029.82</td>\n",
       "      <td>2349.87</td>\n",
       "      <td>2310.00</td>\n",
       "      <td>2290.00</td>\n",
       "      <td>2261.80</td>\n",
       "      <td>2203.70</td>\n",
       "    </tr>\n",
       "    <tr>\n",
       "      <th>193694</th>\n",
       "      <td>19.701</td>\n",
       "      <td>150.93</td>\n",
       "      <td>103.10</td>\n",
       "      <td>86.83</td>\n",
       "      <td>37.53</td>\n",
       "      <td>2069.36</td>\n",
       "      <td>2349.87</td>\n",
       "      <td>2310.00</td>\n",
       "      <td>2290.00</td>\n",
       "      <td>2265.50</td>\n",
       "      <td>2211.37</td>\n",
       "    </tr>\n",
       "    <tr>\n",
       "      <th rowspan=\"6\" valign=\"top\">5</th>\n",
       "      <th>193694</th>\n",
       "      <td>15.832</td>\n",
       "      <td>151.65</td>\n",
       "      <td>94.35</td>\n",
       "      <td>90.15</td>\n",
       "      <td>36.80</td>\n",
       "      <td>2096.96</td>\n",
       "      <td>2350.00</td>\n",
       "      <td>2310.00</td>\n",
       "      <td>2286.80</td>\n",
       "      <td>2260.20</td>\n",
       "      <td>2206.15</td>\n",
       "    </tr>\n",
       "    <tr>\n",
       "      <th>193782</th>\n",
       "      <td>17.014</td>\n",
       "      <td>132.28</td>\n",
       "      <td>99.25</td>\n",
       "      <td>73.79</td>\n",
       "      <td>38.35</td>\n",
       "      <td>1805.33</td>\n",
       "      <td>2369.95</td>\n",
       "      <td>2333.38</td>\n",
       "      <td>2286.45</td>\n",
       "      <td>2239.84</td>\n",
       "      <td>2198.94</td>\n",
       "    </tr>\n",
       "    <tr>\n",
       "      <th>193783</th>\n",
       "      <td>20.045</td>\n",
       "      <td>188.67</td>\n",
       "      <td>95.53</td>\n",
       "      <td>107.80</td>\n",
       "      <td>35.67</td>\n",
       "      <td>2007.62</td>\n",
       "      <td>2355.73</td>\n",
       "      <td>2315.93</td>\n",
       "      <td>2280.43</td>\n",
       "      <td>2247.77</td>\n",
       "      <td>2196.70</td>\n",
       "    </tr>\n",
       "    <tr>\n",
       "      <th>193784</th>\n",
       "      <td>17.378</td>\n",
       "      <td>174.43</td>\n",
       "      <td>75.55</td>\n",
       "      <td>92.07</td>\n",
       "      <td>39.18</td>\n",
       "      <td>1922.54</td>\n",
       "      <td>2377.69</td>\n",
       "      <td>2314.29</td>\n",
       "      <td>2270.44</td>\n",
       "      <td>2240.39</td>\n",
       "      <td>2180.36</td>\n",
       "    </tr>\n",
       "    <tr>\n",
       "      <th>193852</th>\n",
       "      <td>17.225</td>\n",
       "      <td>198.52</td>\n",
       "      <td>73.34</td>\n",
       "      <td>91.56</td>\n",
       "      <td>39.16</td>\n",
       "      <td>1621.87</td>\n",
       "      <td>2333.50</td>\n",
       "      <td>2287.56</td>\n",
       "      <td>2247.74</td>\n",
       "      <td>2206.28</td>\n",
       "      <td>2157.78</td>\n",
       "    </tr>\n",
       "    <tr>\n",
       "      <th>193937</th>\n",
       "      <td>18.987</td>\n",
       "      <td>172.30</td>\n",
       "      <td>91.80</td>\n",
       "      <td>86.40</td>\n",
       "      <td>34.40</td>\n",
       "      <td>1992.20</td>\n",
       "      <td>2336.30</td>\n",
       "      <td>2299.00</td>\n",
       "      <td>2259.00</td>\n",
       "      <td>2213.70</td>\n",
       "      <td>2169.70</td>\n",
       "    </tr>\n",
       "    <tr>\n",
       "      <th rowspan=\"8\" valign=\"top\">6</th>\n",
       "      <th>193882</th>\n",
       "      <td>19.104</td>\n",
       "      <td>136.54</td>\n",
       "      <td>109.60</td>\n",
       "      <td>75.85</td>\n",
       "      <td>37.52</td>\n",
       "      <td>2112.17</td>\n",
       "      <td>2349.11</td>\n",
       "      <td>2318.26</td>\n",
       "      <td>2275.75</td>\n",
       "      <td>2228.84</td>\n",
       "      <td>2176.24</td>\n",
       "    </tr>\n",
       "    <tr>\n",
       "      <th>193937</th>\n",
       "      <td>14.278</td>\n",
       "      <td>173.55</td>\n",
       "      <td>83.65</td>\n",
       "      <td>100.45</td>\n",
       "      <td>36.90</td>\n",
       "      <td>1917.59</td>\n",
       "      <td>2335.95</td>\n",
       "      <td>2307.95</td>\n",
       "      <td>2265.95</td>\n",
       "      <td>2220.25</td>\n",
       "      <td>2177.95</td>\n",
       "    </tr>\n",
       "    <tr>\n",
       "      <th>193972</th>\n",
       "      <td>22.299</td>\n",
       "      <td>173.95</td>\n",
       "      <td>100.00</td>\n",
       "      <td>74.00</td>\n",
       "      <td>38.05</td>\n",
       "      <td>2113.52</td>\n",
       "      <td>2360.00</td>\n",
       "      <td>2330.00</td>\n",
       "      <td>2285.05</td>\n",
       "      <td>2230.80</td>\n",
       "      <td>2181.65</td>\n",
       "    </tr>\n",
       "    <tr>\n",
       "      <th>193973</th>\n",
       "      <td>23.127</td>\n",
       "      <td>196.38</td>\n",
       "      <td>88.48</td>\n",
       "      <td>105.38</td>\n",
       "      <td>37.65</td>\n",
       "      <td>1983.96</td>\n",
       "      <td>2331.57</td>\n",
       "      <td>2301.50</td>\n",
       "      <td>2265.00</td>\n",
       "      <td>2212.50</td>\n",
       "      <td>2170.82</td>\n",
       "    </tr>\n",
       "    <tr>\n",
       "      <th>194029</th>\n",
       "      <td>20.314</td>\n",
       "      <td>180.00</td>\n",
       "      <td>91.20</td>\n",
       "      <td>101.78</td>\n",
       "      <td>37.67</td>\n",
       "      <td>1943.02</td>\n",
       "      <td>2323.45</td>\n",
       "      <td>2301.85</td>\n",
       "      <td>2253.30</td>\n",
       "      <td>2232.05</td>\n",
       "      <td>2171.78</td>\n",
       "    </tr>\n",
       "    <tr>\n",
       "      <th>194057</th>\n",
       "      <td>22.080</td>\n",
       "      <td>169.20</td>\n",
       "      <td>89.93</td>\n",
       "      <td>62.87</td>\n",
       "      <td>32.53</td>\n",
       "      <td>2465.90</td>\n",
       "      <td>2296.70</td>\n",
       "      <td>2297.10</td>\n",
       "      <td>2248.10</td>\n",
       "      <td>2259.53</td>\n",
       "      <td>2159.30</td>\n",
       "    </tr>\n",
       "    <tr>\n",
       "      <th>194113</th>\n",
       "      <td>12.375</td>\n",
       "      <td>121.27</td>\n",
       "      <td>103.13</td>\n",
       "      <td>76.40</td>\n",
       "      <td>32.50</td>\n",
       "      <td>1503.20</td>\n",
       "      <td>2360.73</td>\n",
       "      <td>2341.40</td>\n",
       "      <td>2271.50</td>\n",
       "      <td>2245.03</td>\n",
       "      <td>2209.13</td>\n",
       "    </tr>\n",
       "    <tr>\n",
       "      <th>194121</th>\n",
       "      <td>21.171</td>\n",
       "      <td>168.88</td>\n",
       "      <td>88.23</td>\n",
       "      <td>117.33</td>\n",
       "      <td>33.37</td>\n",
       "      <td>2042.30</td>\n",
       "      <td>2341.92</td>\n",
       "      <td>2302.85</td>\n",
       "      <td>2264.93</td>\n",
       "      <td>2224.93</td>\n",
       "      <td>2188.82</td>\n",
       "    </tr>\n",
       "  </tbody>\n",
       "</table>\n",
       "</div>"
      ],
      "text/plain": [
       "                   Gotas cortadas (toneladas)  Peso médio (Kg)  \\\n",
       "Mês Ordem de prod                                                \n",
       "1   192970                             19.865           169.91   \n",
       "    193112                             14.911           168.17   \n",
       "    193164                             19.677           147.47   \n",
       "    193206                             18.578           171.15   \n",
       "    193207                             13.275           170.50   \n",
       "2   193207                             13.969           171.12   \n",
       "    193208                              9.872           122.10   \n",
       "    193209                             17.402           191.36   \n",
       "    193342                             21.498           170.20   \n",
       "    193368                             21.095           171.59   \n",
       "3   193342                             19.571           169.75   \n",
       "    193459                             12.529           190.83   \n",
       "    193462                             18.197           172.44   \n",
       "    193463                             13.674           172.20   \n",
       "    193594                             19.100           171.77   \n",
       "4   193533                             20.996           196.69   \n",
       "    193535                             16.004           116.43   \n",
       "    193537                             16.929           173.90   \n",
       "    193594                             14.049           172.10   \n",
       "    193619                             21.523           192.58   \n",
       "    193671                             11.756           193.02   \n",
       "    193686                             13.240           124.10   \n",
       "    193688                             13.908           202.47   \n",
       "    193689                             15.638           161.77   \n",
       "    193692                             14.500           158.03   \n",
       "    193694                             19.701           150.93   \n",
       "5   193694                             15.832           151.65   \n",
       "    193782                             17.014           132.28   \n",
       "    193783                             20.045           188.67   \n",
       "    193784                             17.378           174.43   \n",
       "    193852                             17.225           198.52   \n",
       "    193937                             18.987           172.30   \n",
       "6   193882                             19.104           136.54   \n",
       "    193937                             14.278           173.55   \n",
       "    193972                             22.299           173.95   \n",
       "    193973                             23.127           196.38   \n",
       "    194029                             20.314           180.00   \n",
       "    194057                             22.080           169.20   \n",
       "    194113                             12.375           121.27   \n",
       "    194121                             21.171           168.88   \n",
       "\n",
       "                   Cortes por minuto  Comprimento médio (mm)  Diâmetro  \\\n",
       "Mês Ordem de prod                                                        \n",
       "1   192970                     87.33                  125.51     30.97   \n",
       "    193112                     90.00                   88.73     38.57   \n",
       "    193164                     95.24                  100.12     35.43   \n",
       "    193206                     89.35                   90.40     36.88   \n",
       "    193207                     60.22                   98.45     36.58   \n",
       "2   193207                     59.82                   98.08     36.55   \n",
       "    193208                     82.40                   61.00     27.45   \n",
       "    193209                     78.00                   44.37     12.19   \n",
       "    193342                     88.37                  113.77     31.78   \n",
       "    193368                     99.04                   77.51     33.83   \n",
       "3   193342                     87.85                  115.77     34.79   \n",
       "    193459                     60.23                   96.67     37.57   \n",
       "    193462                     89.48                   86.08     40.20   \n",
       "    193463                     59.84                   93.64     38.75   \n",
       "    193594                     79.87                   90.52     39.32   \n",
       "4   193533                     88.09                   97.51     38.26   \n",
       "    193535                    123.07                   84.00     33.60   \n",
       "    193537                     96.57                   81.03     39.53   \n",
       "    193594                     78.40                   92.10     39.20   \n",
       "    193619                     88.00                   97.54     39.26   \n",
       "    193671                     60.00                   98.28     38.17   \n",
       "    193686                    105.03                   63.90     32.33   \n",
       "    193688                     70.83                   76.57     38.13   \n",
       "    193689                    103.17                   97.67     34.13   \n",
       "    193692                     94.40                   89.23     36.70   \n",
       "    193694                    103.10                   86.83     37.53   \n",
       "5   193694                     94.35                   90.15     36.80   \n",
       "    193782                     99.25                   73.79     38.35   \n",
       "    193783                     95.53                  107.80     35.67   \n",
       "    193784                     75.55                   92.07     39.18   \n",
       "    193852                     73.34                   91.56     39.16   \n",
       "    193937                     91.80                   86.40     34.40   \n",
       "6   193882                    109.60                   75.85     37.52   \n",
       "    193937                     83.65                  100.45     36.90   \n",
       "    193972                    100.00                   74.00     38.05   \n",
       "    193973                     88.48                  105.38     37.65   \n",
       "    194029                     91.20                  101.78     37.67   \n",
       "    194057                     89.93                   62.87     32.53   \n",
       "    194113                    103.13                   76.40     32.50   \n",
       "    194121                     88.23                  117.33     33.37   \n",
       "\n",
       "                   Temperatura (F°)  Tras-PV (F°)  Fritas-PV (F°)  \\\n",
       "Mês Ordem de prod                                                   \n",
       "1   192970                  2662.56       2348.88         2300.30   \n",
       "    193112                  2205.86       2327.03         2307.63   \n",
       "    193164                  1744.15       2350.00         2299.89   \n",
       "    193206                  2284.43       2315.75         2322.15   \n",
       "    193207                  2270.16       2345.88         2328.38   \n",
       "2   193207                  2218.07       2350.00         2329.97   \n",
       "    193208                  2179.31       2350.00         2306.35   \n",
       "    193209                  2012.13       2342.77         2294.00   \n",
       "    193342                  2000.76       2336.27         2300.00   \n",
       "    193368                  2077.62       2314.71         2292.40   \n",
       "3   193342                  1808.99       2341.15         2301.97   \n",
       "    193459                  1342.28       2358.63         2326.43   \n",
       "    193462                  2194.16       2338.72         2305.72   \n",
       "    193463                  2202.85       2364.78         2329.70   \n",
       "    193594                  2032.67       2321.18         2280.12   \n",
       "4   193533                  2141.20       2333.10         2295.04   \n",
       "    193535                  2057.48       2341.03         2306.53   \n",
       "    193537                  1984.10       2359.90         2326.77   \n",
       "    193594                  2029.10       2321.80         2282.20   \n",
       "    193619                  2030.76       2359.94         2320.22   \n",
       "    193671                  2313.82       2358.70         2321.48   \n",
       "    193686                  2113.88       2330.17         2300.37   \n",
       "    193688                  2201.90       2330.00         2277.00   \n",
       "    193689                  2018.12       2330.00         2302.03   \n",
       "    193692                  2029.82       2349.87         2310.00   \n",
       "    193694                  2069.36       2349.87         2310.00   \n",
       "5   193694                  2096.96       2350.00         2310.00   \n",
       "    193782                  1805.33       2369.95         2333.38   \n",
       "    193783                  2007.62       2355.73         2315.93   \n",
       "    193784                  1922.54       2377.69         2314.29   \n",
       "    193852                  1621.87       2333.50         2287.56   \n",
       "    193937                  1992.20       2336.30         2299.00   \n",
       "6   193882                  2112.17       2349.11         2318.26   \n",
       "    193937                  1917.59       2335.95         2307.95   \n",
       "    193972                  2113.52       2360.00         2330.00   \n",
       "    193973                  1983.96       2331.57         2301.50   \n",
       "    194029                  1943.02       2323.45         2301.85   \n",
       "    194057                  2465.90       2296.70         2297.10   \n",
       "    194113                  1503.20       2360.73         2341.40   \n",
       "    194121                  2042.30       2341.92         2302.85   \n",
       "\n",
       "                   Agit-PV (F°)  Meio-PV (F°)  Frente-PV (F°)  \n",
       "Mês Ordem de prod                                              \n",
       "1   192970              2250.90       2208.07         2176.10  \n",
       "    193112              2272.97       2246.77         2196.60  \n",
       "    193164              2246.67       2201.89         2173.90  \n",
       "    193206              2280.57       2258.52         2179.75  \n",
       "    193207              2296.57       2251.32         2160.07  \n",
       "2   193207              2299.92       2244.27         2160.58  \n",
       "    193208              2287.45       2257.50         2200.90  \n",
       "    193209              2254.57       2231.21         2164.76  \n",
       "    193342              2241.42       2211.76         2172.94  \n",
       "    193368              2259.54       2231.44         2182.84  \n",
       "3   193342              2241.85       2211.11         2169.85  \n",
       "    193459              2283.10       2252.13         2177.00  \n",
       "    193462              2275.56       2234.28         2202.86  \n",
       "    193463              2299.88       2269.14         2204.40  \n",
       "    193594              2250.45       2221.07         2181.07  \n",
       "4   193533              2255.01       2212.38         2173.24  \n",
       "    193535              2286.80       2247.90         2175.50  \n",
       "    193537              2288.10       2262.93         2196.30  \n",
       "    193594              2251.50       2227.20         2176.20  \n",
       "    193619              2280.00       2226.32         2176.36  \n",
       "    193671              2274.07       2224.68         2175.52  \n",
       "    193686              2263.37       2225.07         2170.47  \n",
       "    193688              2244.63       2200.63         2158.10  \n",
       "    193689              2268.77       2227.73         2174.40  \n",
       "    193692              2290.00       2261.80         2203.70  \n",
       "    193694              2290.00       2265.50         2211.37  \n",
       "5   193694              2286.80       2260.20         2206.15  \n",
       "    193782              2286.45       2239.84         2198.94  \n",
       "    193783              2280.43       2247.77         2196.70  \n",
       "    193784              2270.44       2240.39         2180.36  \n",
       "    193852              2247.74       2206.28         2157.78  \n",
       "    193937              2259.00       2213.70         2169.70  \n",
       "6   193882              2275.75       2228.84         2176.24  \n",
       "    193937              2265.95       2220.25         2177.95  \n",
       "    193972              2285.05       2230.80         2181.65  \n",
       "    193973              2265.00       2212.50         2170.82  \n",
       "    194029              2253.30       2232.05         2171.78  \n",
       "    194057              2248.10       2259.53         2159.30  \n",
       "    194113              2271.50       2245.03         2209.13  \n",
       "    194121              2264.93       2224.93         2188.82  "
      ]
     },
     "execution_count": 46,
     "metadata": {},
     "output_type": "execute_result"
    }
   ],
   "source": [
    "df_valores_mensais = df.copy()\n",
    "\n",
    "df_valores_mensais.loc[:, 'Dia'] = df['Data de prod'].dt.day\n",
    "df_valores_mensais.loc[:, 'Mês'] = df['Data de prod'].dt.month\n",
    "\n",
    "colunas_numericas = df_numerico.columns.to_list()\n",
    "\n",
    "media_mensal_ordem = df_valores_mensais.groupby(['Mês', 'Ordem de prod'])[colunas_numericas].mean()\n",
    "\n",
    "media_mensal_ordem.iloc[:, 0] = media_mensal_ordem.iloc[:, 0].round(3)\n",
    "\n",
    "media_mensal_ordem.iloc[:, 1:] = media_mensal_ordem.iloc[:, 1:].round(2)\n",
    "\n",
    "media_mensal_ordem = media_mensal_ordem.sort_values(by=['Mês', 'Ordem de prod'])\n",
    "\n",
    "media_mensal_ordem"
   ]
  },
  {
   "cell_type": "code",
   "execution_count": 47,
   "metadata": {},
   "outputs": [],
   "source": [
    "media_mensal_ordem_reset = media_mensal_ordem.reset_index()\n"
   ]
  },
  {
   "cell_type": "markdown",
   "metadata": {},
   "source": [
    "### Exportando para Excel"
   ]
  },
  {
   "cell_type": "code",
   "execution_count": 48,
   "metadata": {},
   "outputs": [],
   "source": [
    "# with pd.ExcelWriter('media_mensal_.xlsx', engine='xlsxwriter') as writer:\n",
    "#     media_mensal_ordem.to_excel(writer, sheet_name='Média Mensal por Ordem', index=True)\n",
    "\n",
    "#     workbook  = writer.book\n",
    "#     worksheet = writer.sheets['Média Mensal por Ordem']\n",
    "    \n",
    "#     for col in range(len(media_mensal_ordem.columns)):\n",
    "#         worksheet.set_column(col, col, 20) \n",
    "    \n",
    "#     worksheet.set_column(0, 1, 20)"
   ]
  },
  {
   "cell_type": "markdown",
   "metadata": {},
   "source": [
    "## Totais \n"
   ]
  },
  {
   "cell_type": "code",
   "execution_count": 49,
   "metadata": {},
   "outputs": [
    {
     "data": {
      "text/html": [
       "<div>\n",
       "<style scoped>\n",
       "    .dataframe tbody tr th:only-of-type {\n",
       "        vertical-align: middle;\n",
       "    }\n",
       "\n",
       "    .dataframe tbody tr th {\n",
       "        vertical-align: top;\n",
       "    }\n",
       "\n",
       "    .dataframe thead th {\n",
       "        text-align: right;\n",
       "    }\n",
       "</style>\n",
       "<table border=\"1\" class=\"dataframe\">\n",
       "  <thead>\n",
       "    <tr style=\"text-align: right;\">\n",
       "      <th></th>\n",
       "      <th></th>\n",
       "      <th>Gotas cortadas (toneladas)</th>\n",
       "    </tr>\n",
       "    <tr>\n",
       "      <th>Mês</th>\n",
       "      <th>Ordem de prod</th>\n",
       "      <th></th>\n",
       "    </tr>\n",
       "  </thead>\n",
       "  <tbody>\n",
       "    <tr>\n",
       "      <th rowspan=\"5\" valign=\"top\">1</th>\n",
       "      <th>192970</th>\n",
       "      <td>178.787</td>\n",
       "    </tr>\n",
       "    <tr>\n",
       "      <th>193112</th>\n",
       "      <td>44.733</td>\n",
       "    </tr>\n",
       "    <tr>\n",
       "      <th>193164</th>\n",
       "      <td>236.125</td>\n",
       "    </tr>\n",
       "    <tr>\n",
       "      <th>193206</th>\n",
       "      <td>74.312</td>\n",
       "    </tr>\n",
       "    <tr>\n",
       "      <th>193207</th>\n",
       "      <td>53.100</td>\n",
       "    </tr>\n",
       "    <tr>\n",
       "      <th rowspan=\"5\" valign=\"top\">2</th>\n",
       "      <th>193207</th>\n",
       "      <td>83.814</td>\n",
       "    </tr>\n",
       "    <tr>\n",
       "      <th>193208</th>\n",
       "      <td>19.744</td>\n",
       "    </tr>\n",
       "    <tr>\n",
       "      <th>193209</th>\n",
       "      <td>121.813</td>\n",
       "    </tr>\n",
       "    <tr>\n",
       "      <th>193342</th>\n",
       "      <td>193.479</td>\n",
       "    </tr>\n",
       "    <tr>\n",
       "      <th>193368</th>\n",
       "      <td>147.662</td>\n",
       "    </tr>\n",
       "    <tr>\n",
       "      <th rowspan=\"5\" valign=\"top\">3</th>\n",
       "      <th>193342</th>\n",
       "      <td>215.277</td>\n",
       "    </tr>\n",
       "    <tr>\n",
       "      <th>193459</th>\n",
       "      <td>37.587</td>\n",
       "    </tr>\n",
       "    <tr>\n",
       "      <th>193462</th>\n",
       "      <td>90.983</td>\n",
       "    </tr>\n",
       "    <tr>\n",
       "      <th>193463</th>\n",
       "      <td>109.396</td>\n",
       "    </tr>\n",
       "    <tr>\n",
       "      <th>193594</th>\n",
       "      <td>114.600</td>\n",
       "    </tr>\n",
       "    <tr>\n",
       "      <th rowspan=\"11\" valign=\"top\">4</th>\n",
       "      <th>193533</th>\n",
       "      <td>167.971</td>\n",
       "    </tr>\n",
       "    <tr>\n",
       "      <th>193535</th>\n",
       "      <td>48.013</td>\n",
       "    </tr>\n",
       "    <tr>\n",
       "      <th>193537</th>\n",
       "      <td>50.788</td>\n",
       "    </tr>\n",
       "    <tr>\n",
       "      <th>193594</th>\n",
       "      <td>14.049</td>\n",
       "    </tr>\n",
       "    <tr>\n",
       "      <th>193619</th>\n",
       "      <td>107.617</td>\n",
       "    </tr>\n",
       "    <tr>\n",
       "      <th>193671</th>\n",
       "      <td>47.026</td>\n",
       "    </tr>\n",
       "    <tr>\n",
       "      <th>193686</th>\n",
       "      <td>39.719</td>\n",
       "    </tr>\n",
       "    <tr>\n",
       "      <th>193688</th>\n",
       "      <td>41.725</td>\n",
       "    </tr>\n",
       "    <tr>\n",
       "      <th>193689</th>\n",
       "      <td>46.915</td>\n",
       "    </tr>\n",
       "    <tr>\n",
       "      <th>193692</th>\n",
       "      <td>43.501</td>\n",
       "    </tr>\n",
       "    <tr>\n",
       "      <th>193694</th>\n",
       "      <td>59.103</td>\n",
       "    </tr>\n",
       "    <tr>\n",
       "      <th rowspan=\"6\" valign=\"top\">5</th>\n",
       "      <th>193694</th>\n",
       "      <td>31.664</td>\n",
       "    </tr>\n",
       "    <tr>\n",
       "      <th>193782</th>\n",
       "      <td>187.151</td>\n",
       "    </tr>\n",
       "    <tr>\n",
       "      <th>193783</th>\n",
       "      <td>60.136</td>\n",
       "    </tr>\n",
       "    <tr>\n",
       "      <th>193784</th>\n",
       "      <td>191.157</td>\n",
       "    </tr>\n",
       "    <tr>\n",
       "      <th>193852</th>\n",
       "      <td>86.126</td>\n",
       "    </tr>\n",
       "    <tr>\n",
       "      <th>193937</th>\n",
       "      <td>18.987</td>\n",
       "    </tr>\n",
       "    <tr>\n",
       "      <th rowspan=\"8\" valign=\"top\">6</th>\n",
       "      <th>193882</th>\n",
       "      <td>152.828</td>\n",
       "    </tr>\n",
       "    <tr>\n",
       "      <th>193937</th>\n",
       "      <td>28.556</td>\n",
       "    </tr>\n",
       "    <tr>\n",
       "      <th>193972</th>\n",
       "      <td>44.599</td>\n",
       "    </tr>\n",
       "    <tr>\n",
       "      <th>193973</th>\n",
       "      <td>92.506</td>\n",
       "    </tr>\n",
       "    <tr>\n",
       "      <th>194029</th>\n",
       "      <td>81.256</td>\n",
       "    </tr>\n",
       "    <tr>\n",
       "      <th>194057</th>\n",
       "      <td>66.240</td>\n",
       "    </tr>\n",
       "    <tr>\n",
       "      <th>194113</th>\n",
       "      <td>37.126</td>\n",
       "    </tr>\n",
       "    <tr>\n",
       "      <th>194121</th>\n",
       "      <td>127.026</td>\n",
       "    </tr>\n",
       "  </tbody>\n",
       "</table>\n",
       "</div>"
      ],
      "text/plain": [
       "                   Gotas cortadas (toneladas)\n",
       "Mês Ordem de prod                            \n",
       "1   192970                            178.787\n",
       "    193112                             44.733\n",
       "    193164                            236.125\n",
       "    193206                             74.312\n",
       "    193207                             53.100\n",
       "2   193207                             83.814\n",
       "    193208                             19.744\n",
       "    193209                            121.813\n",
       "    193342                            193.479\n",
       "    193368                            147.662\n",
       "3   193342                            215.277\n",
       "    193459                             37.587\n",
       "    193462                             90.983\n",
       "    193463                            109.396\n",
       "    193594                            114.600\n",
       "4   193533                            167.971\n",
       "    193535                             48.013\n",
       "    193537                             50.788\n",
       "    193594                             14.049\n",
       "    193619                            107.617\n",
       "    193671                             47.026\n",
       "    193686                             39.719\n",
       "    193688                             41.725\n",
       "    193689                             46.915\n",
       "    193692                             43.501\n",
       "    193694                             59.103\n",
       "5   193694                             31.664\n",
       "    193782                            187.151\n",
       "    193783                             60.136\n",
       "    193784                            191.157\n",
       "    193852                             86.126\n",
       "    193937                             18.987\n",
       "6   193882                            152.828\n",
       "    193937                             28.556\n",
       "    193972                             44.599\n",
       "    193973                             92.506\n",
       "    194029                             81.256\n",
       "    194057                             66.240\n",
       "    194113                             37.126\n",
       "    194121                            127.026"
      ]
     },
     "execution_count": 49,
     "metadata": {},
     "output_type": "execute_result"
    }
   ],
   "source": [
    "total_mensal_ordem = df_valores_mensais.groupby(['Mês', 'Ordem de prod'])[['Gotas cortadas (toneladas)']].sum().round(3)\n",
    "\n",
    "total_mensal_ordem = total_mensal_ordem.sort_index()\n",
    "\n",
    "total_mensal_ordem"
   ]
  },
  {
   "cell_type": "markdown",
   "metadata": {},
   "source": [
    "# Agrupando somente por mês"
   ]
  },
  {
   "cell_type": "markdown",
   "metadata": {},
   "source": [
    "## Médias"
   ]
  },
  {
   "cell_type": "code",
   "execution_count": 50,
   "metadata": {},
   "outputs": [
    {
     "data": {
      "text/html": [
       "<div>\n",
       "<style scoped>\n",
       "    .dataframe tbody tr th:only-of-type {\n",
       "        vertical-align: middle;\n",
       "    }\n",
       "\n",
       "    .dataframe tbody tr th {\n",
       "        vertical-align: top;\n",
       "    }\n",
       "\n",
       "    .dataframe thead th {\n",
       "        text-align: right;\n",
       "    }\n",
       "</style>\n",
       "<table border=\"1\" class=\"dataframe\">\n",
       "  <thead>\n",
       "    <tr style=\"text-align: right;\">\n",
       "      <th></th>\n",
       "      <th>Gotas cortadas (toneladas)</th>\n",
       "      <th>Peso médio (Kg)</th>\n",
       "      <th>Cortes por minuto</th>\n",
       "      <th>Comprimento médio (mm)</th>\n",
       "      <th>Diâmetro</th>\n",
       "      <th>Temperatura (F°)</th>\n",
       "      <th>Tras-PV (F°)</th>\n",
       "      <th>Fritas-PV (F°)</th>\n",
       "      <th>Agit-PV (F°)</th>\n",
       "      <th>Meio-PV (F°)</th>\n",
       "      <th>Frente-PV (F°)</th>\n",
       "    </tr>\n",
       "    <tr>\n",
       "      <th>Mês</th>\n",
       "      <th></th>\n",
       "      <th></th>\n",
       "      <th></th>\n",
       "      <th></th>\n",
       "      <th></th>\n",
       "      <th></th>\n",
       "      <th></th>\n",
       "      <th></th>\n",
       "      <th></th>\n",
       "      <th></th>\n",
       "      <th></th>\n",
       "    </tr>\n",
       "  </thead>\n",
       "  <tbody>\n",
       "    <tr>\n",
       "      <th>1</th>\n",
       "      <td>17.261</td>\n",
       "      <td>165.44</td>\n",
       "      <td>84.43</td>\n",
       "      <td>100.64</td>\n",
       "      <td>35.69</td>\n",
       "      <td>2233.43</td>\n",
       "      <td>2337.51</td>\n",
       "      <td>2311.67</td>\n",
       "      <td>2269.54</td>\n",
       "      <td>2233.31</td>\n",
       "      <td>2177.28</td>\n",
       "    </tr>\n",
       "    <tr>\n",
       "      <th>2</th>\n",
       "      <td>16.767</td>\n",
       "      <td>165.27</td>\n",
       "      <td>81.53</td>\n",
       "      <td>78.95</td>\n",
       "      <td>28.36</td>\n",
       "      <td>2097.58</td>\n",
       "      <td>2338.75</td>\n",
       "      <td>2304.54</td>\n",
       "      <td>2268.58</td>\n",
       "      <td>2235.24</td>\n",
       "      <td>2176.40</td>\n",
       "    </tr>\n",
       "    <tr>\n",
       "      <th>3</th>\n",
       "      <td>16.614</td>\n",
       "      <td>175.40</td>\n",
       "      <td>75.45</td>\n",
       "      <td>96.54</td>\n",
       "      <td>38.13</td>\n",
       "      <td>1916.19</td>\n",
       "      <td>2344.89</td>\n",
       "      <td>2308.79</td>\n",
       "      <td>2270.17</td>\n",
       "      <td>2237.55</td>\n",
       "      <td>2187.04</td>\n",
       "    </tr>\n",
       "    <tr>\n",
       "      <th>4</th>\n",
       "      <td>16.204</td>\n",
       "      <td>167.46</td>\n",
       "      <td>91.88</td>\n",
       "      <td>87.70</td>\n",
       "      <td>36.99</td>\n",
       "      <td>2089.96</td>\n",
       "      <td>2342.22</td>\n",
       "      <td>2304.69</td>\n",
       "      <td>2272.02</td>\n",
       "      <td>2234.74</td>\n",
       "      <td>2181.01</td>\n",
       "    </tr>\n",
       "    <tr>\n",
       "      <th>5</th>\n",
       "      <td>17.747</td>\n",
       "      <td>169.64</td>\n",
       "      <td>88.30</td>\n",
       "      <td>90.30</td>\n",
       "      <td>37.26</td>\n",
       "      <td>1907.75</td>\n",
       "      <td>2353.86</td>\n",
       "      <td>2310.03</td>\n",
       "      <td>2271.81</td>\n",
       "      <td>2234.70</td>\n",
       "      <td>2184.94</td>\n",
       "    </tr>\n",
       "    <tr>\n",
       "      <th>6</th>\n",
       "      <td>19.344</td>\n",
       "      <td>164.97</td>\n",
       "      <td>94.28</td>\n",
       "      <td>89.26</td>\n",
       "      <td>35.77</td>\n",
       "      <td>2010.21</td>\n",
       "      <td>2337.43</td>\n",
       "      <td>2312.61</td>\n",
       "      <td>2266.20</td>\n",
       "      <td>2231.74</td>\n",
       "      <td>2179.46</td>\n",
       "    </tr>\n",
       "  </tbody>\n",
       "</table>\n",
       "</div>"
      ],
      "text/plain": [
       "     Gotas cortadas (toneladas)  Peso médio (Kg)  Cortes por minuto  \\\n",
       "Mês                                                                   \n",
       "1                        17.261           165.44              84.43   \n",
       "2                        16.767           165.27              81.53   \n",
       "3                        16.614           175.40              75.45   \n",
       "4                        16.204           167.46              91.88   \n",
       "5                        17.747           169.64              88.30   \n",
       "6                        19.344           164.97              94.28   \n",
       "\n",
       "     Comprimento médio (mm)  Diâmetro  Temperatura (F°)  Tras-PV (F°)  \\\n",
       "Mês                                                                     \n",
       "1                    100.64     35.69           2233.43       2337.51   \n",
       "2                     78.95     28.36           2097.58       2338.75   \n",
       "3                     96.54     38.13           1916.19       2344.89   \n",
       "4                     87.70     36.99           2089.96       2342.22   \n",
       "5                     90.30     37.26           1907.75       2353.86   \n",
       "6                     89.26     35.77           2010.21       2337.43   \n",
       "\n",
       "     Fritas-PV (F°)  Agit-PV (F°)  Meio-PV (F°)  Frente-PV (F°)  \n",
       "Mês                                                              \n",
       "1           2311.67       2269.54       2233.31         2177.28  \n",
       "2           2304.54       2268.58       2235.24         2176.40  \n",
       "3           2308.79       2270.17       2237.55         2187.04  \n",
       "4           2304.69       2272.02       2234.74         2181.01  \n",
       "5           2310.03       2271.81       2234.70         2184.94  \n",
       "6           2312.61       2266.20       2231.74         2179.46  "
      ]
     },
     "execution_count": 50,
     "metadata": {},
     "output_type": "execute_result"
    }
   ],
   "source": [
    "media_mensal = media_mensal_ordem.groupby('Mês')[colunas_numericas].mean()\n",
    "\n",
    "media_mensal.iloc[:, 0] = media_mensal.iloc[:, 0].round(3)\n",
    "\n",
    "media_mensal.iloc[:, 1:] = media_mensal.iloc[:, 1:].round(2)\n",
    "\n",
    "media_mensal"
   ]
  },
  {
   "cell_type": "code",
   "execution_count": 51,
   "metadata": {},
   "outputs": [
    {
     "data": {
      "application/vnd.plotly.v1+json": {
       "config": {
        "plotlyServerURL": "https://plot.ly"
       },
       "data": [
        {
         "alignmentgroup": "True",
         "hovertemplate": "Mês=%{x}<br>Gotas Cortadas (toneladas)=%{y}<extra></extra>",
         "legendgroup": "",
         "marker": {
          "color": "#636efa",
          "pattern": {
           "shape": ""
          }
         },
         "name": "",
         "offsetgroup": "",
         "orientation": "v",
         "showlegend": false,
         "textposition": "auto",
         "type": "bar",
         "x": [
          1,
          2,
          3,
          4,
          5,
          6
         ],
         "xaxis": "x",
         "y": [
          17.261,
          16.767,
          16.614,
          16.204,
          17.747,
          19.344
         ],
         "yaxis": "y"
        }
       ],
       "layout": {
        "barmode": "group",
        "legend": {
         "tracegroupgap": 0
        },
        "template": {
         "data": {
          "bar": [
           {
            "error_x": {
             "color": "#2a3f5f"
            },
            "error_y": {
             "color": "#2a3f5f"
            },
            "marker": {
             "line": {
              "color": "#E5ECF6",
              "width": 0.5
             },
             "pattern": {
              "fillmode": "overlay",
              "size": 10,
              "solidity": 0.2
             }
            },
            "type": "bar"
           }
          ],
          "barpolar": [
           {
            "marker": {
             "line": {
              "color": "#E5ECF6",
              "width": 0.5
             },
             "pattern": {
              "fillmode": "overlay",
              "size": 10,
              "solidity": 0.2
             }
            },
            "type": "barpolar"
           }
          ],
          "carpet": [
           {
            "aaxis": {
             "endlinecolor": "#2a3f5f",
             "gridcolor": "white",
             "linecolor": "white",
             "minorgridcolor": "white",
             "startlinecolor": "#2a3f5f"
            },
            "baxis": {
             "endlinecolor": "#2a3f5f",
             "gridcolor": "white",
             "linecolor": "white",
             "minorgridcolor": "white",
             "startlinecolor": "#2a3f5f"
            },
            "type": "carpet"
           }
          ],
          "choropleth": [
           {
            "colorbar": {
             "outlinewidth": 0,
             "ticks": ""
            },
            "type": "choropleth"
           }
          ],
          "contour": [
           {
            "colorbar": {
             "outlinewidth": 0,
             "ticks": ""
            },
            "colorscale": [
             [
              0,
              "#0d0887"
             ],
             [
              0.1111111111111111,
              "#46039f"
             ],
             [
              0.2222222222222222,
              "#7201a8"
             ],
             [
              0.3333333333333333,
              "#9c179e"
             ],
             [
              0.4444444444444444,
              "#bd3786"
             ],
             [
              0.5555555555555556,
              "#d8576b"
             ],
             [
              0.6666666666666666,
              "#ed7953"
             ],
             [
              0.7777777777777778,
              "#fb9f3a"
             ],
             [
              0.8888888888888888,
              "#fdca26"
             ],
             [
              1,
              "#f0f921"
             ]
            ],
            "type": "contour"
           }
          ],
          "contourcarpet": [
           {
            "colorbar": {
             "outlinewidth": 0,
             "ticks": ""
            },
            "type": "contourcarpet"
           }
          ],
          "heatmap": [
           {
            "colorbar": {
             "outlinewidth": 0,
             "ticks": ""
            },
            "colorscale": [
             [
              0,
              "#0d0887"
             ],
             [
              0.1111111111111111,
              "#46039f"
             ],
             [
              0.2222222222222222,
              "#7201a8"
             ],
             [
              0.3333333333333333,
              "#9c179e"
             ],
             [
              0.4444444444444444,
              "#bd3786"
             ],
             [
              0.5555555555555556,
              "#d8576b"
             ],
             [
              0.6666666666666666,
              "#ed7953"
             ],
             [
              0.7777777777777778,
              "#fb9f3a"
             ],
             [
              0.8888888888888888,
              "#fdca26"
             ],
             [
              1,
              "#f0f921"
             ]
            ],
            "type": "heatmap"
           }
          ],
          "heatmapgl": [
           {
            "colorbar": {
             "outlinewidth": 0,
             "ticks": ""
            },
            "colorscale": [
             [
              0,
              "#0d0887"
             ],
             [
              0.1111111111111111,
              "#46039f"
             ],
             [
              0.2222222222222222,
              "#7201a8"
             ],
             [
              0.3333333333333333,
              "#9c179e"
             ],
             [
              0.4444444444444444,
              "#bd3786"
             ],
             [
              0.5555555555555556,
              "#d8576b"
             ],
             [
              0.6666666666666666,
              "#ed7953"
             ],
             [
              0.7777777777777778,
              "#fb9f3a"
             ],
             [
              0.8888888888888888,
              "#fdca26"
             ],
             [
              1,
              "#f0f921"
             ]
            ],
            "type": "heatmapgl"
           }
          ],
          "histogram": [
           {
            "marker": {
             "pattern": {
              "fillmode": "overlay",
              "size": 10,
              "solidity": 0.2
             }
            },
            "type": "histogram"
           }
          ],
          "histogram2d": [
           {
            "colorbar": {
             "outlinewidth": 0,
             "ticks": ""
            },
            "colorscale": [
             [
              0,
              "#0d0887"
             ],
             [
              0.1111111111111111,
              "#46039f"
             ],
             [
              0.2222222222222222,
              "#7201a8"
             ],
             [
              0.3333333333333333,
              "#9c179e"
             ],
             [
              0.4444444444444444,
              "#bd3786"
             ],
             [
              0.5555555555555556,
              "#d8576b"
             ],
             [
              0.6666666666666666,
              "#ed7953"
             ],
             [
              0.7777777777777778,
              "#fb9f3a"
             ],
             [
              0.8888888888888888,
              "#fdca26"
             ],
             [
              1,
              "#f0f921"
             ]
            ],
            "type": "histogram2d"
           }
          ],
          "histogram2dcontour": [
           {
            "colorbar": {
             "outlinewidth": 0,
             "ticks": ""
            },
            "colorscale": [
             [
              0,
              "#0d0887"
             ],
             [
              0.1111111111111111,
              "#46039f"
             ],
             [
              0.2222222222222222,
              "#7201a8"
             ],
             [
              0.3333333333333333,
              "#9c179e"
             ],
             [
              0.4444444444444444,
              "#bd3786"
             ],
             [
              0.5555555555555556,
              "#d8576b"
             ],
             [
              0.6666666666666666,
              "#ed7953"
             ],
             [
              0.7777777777777778,
              "#fb9f3a"
             ],
             [
              0.8888888888888888,
              "#fdca26"
             ],
             [
              1,
              "#f0f921"
             ]
            ],
            "type": "histogram2dcontour"
           }
          ],
          "mesh3d": [
           {
            "colorbar": {
             "outlinewidth": 0,
             "ticks": ""
            },
            "type": "mesh3d"
           }
          ],
          "parcoords": [
           {
            "line": {
             "colorbar": {
              "outlinewidth": 0,
              "ticks": ""
             }
            },
            "type": "parcoords"
           }
          ],
          "pie": [
           {
            "automargin": true,
            "type": "pie"
           }
          ],
          "scatter": [
           {
            "fillpattern": {
             "fillmode": "overlay",
             "size": 10,
             "solidity": 0.2
            },
            "type": "scatter"
           }
          ],
          "scatter3d": [
           {
            "line": {
             "colorbar": {
              "outlinewidth": 0,
              "ticks": ""
             }
            },
            "marker": {
             "colorbar": {
              "outlinewidth": 0,
              "ticks": ""
             }
            },
            "type": "scatter3d"
           }
          ],
          "scattercarpet": [
           {
            "marker": {
             "colorbar": {
              "outlinewidth": 0,
              "ticks": ""
             }
            },
            "type": "scattercarpet"
           }
          ],
          "scattergeo": [
           {
            "marker": {
             "colorbar": {
              "outlinewidth": 0,
              "ticks": ""
             }
            },
            "type": "scattergeo"
           }
          ],
          "scattergl": [
           {
            "marker": {
             "colorbar": {
              "outlinewidth": 0,
              "ticks": ""
             }
            },
            "type": "scattergl"
           }
          ],
          "scattermapbox": [
           {
            "marker": {
             "colorbar": {
              "outlinewidth": 0,
              "ticks": ""
             }
            },
            "type": "scattermapbox"
           }
          ],
          "scatterpolar": [
           {
            "marker": {
             "colorbar": {
              "outlinewidth": 0,
              "ticks": ""
             }
            },
            "type": "scatterpolar"
           }
          ],
          "scatterpolargl": [
           {
            "marker": {
             "colorbar": {
              "outlinewidth": 0,
              "ticks": ""
             }
            },
            "type": "scatterpolargl"
           }
          ],
          "scatterternary": [
           {
            "marker": {
             "colorbar": {
              "outlinewidth": 0,
              "ticks": ""
             }
            },
            "type": "scatterternary"
           }
          ],
          "surface": [
           {
            "colorbar": {
             "outlinewidth": 0,
             "ticks": ""
            },
            "colorscale": [
             [
              0,
              "#0d0887"
             ],
             [
              0.1111111111111111,
              "#46039f"
             ],
             [
              0.2222222222222222,
              "#7201a8"
             ],
             [
              0.3333333333333333,
              "#9c179e"
             ],
             [
              0.4444444444444444,
              "#bd3786"
             ],
             [
              0.5555555555555556,
              "#d8576b"
             ],
             [
              0.6666666666666666,
              "#ed7953"
             ],
             [
              0.7777777777777778,
              "#fb9f3a"
             ],
             [
              0.8888888888888888,
              "#fdca26"
             ],
             [
              1,
              "#f0f921"
             ]
            ],
            "type": "surface"
           }
          ],
          "table": [
           {
            "cells": {
             "fill": {
              "color": "#EBF0F8"
             },
             "line": {
              "color": "white"
             }
            },
            "header": {
             "fill": {
              "color": "#C8D4E3"
             },
             "line": {
              "color": "white"
             }
            },
            "type": "table"
           }
          ]
         },
         "layout": {
          "annotationdefaults": {
           "arrowcolor": "#2a3f5f",
           "arrowhead": 0,
           "arrowwidth": 1
          },
          "autotypenumbers": "strict",
          "coloraxis": {
           "colorbar": {
            "outlinewidth": 0,
            "ticks": ""
           }
          },
          "colorscale": {
           "diverging": [
            [
             0,
             "#8e0152"
            ],
            [
             0.1,
             "#c51b7d"
            ],
            [
             0.2,
             "#de77ae"
            ],
            [
             0.3,
             "#f1b6da"
            ],
            [
             0.4,
             "#fde0ef"
            ],
            [
             0.5,
             "#f7f7f7"
            ],
            [
             0.6,
             "#e6f5d0"
            ],
            [
             0.7,
             "#b8e186"
            ],
            [
             0.8,
             "#7fbc41"
            ],
            [
             0.9,
             "#4d9221"
            ],
            [
             1,
             "#276419"
            ]
           ],
           "sequential": [
            [
             0,
             "#0d0887"
            ],
            [
             0.1111111111111111,
             "#46039f"
            ],
            [
             0.2222222222222222,
             "#7201a8"
            ],
            [
             0.3333333333333333,
             "#9c179e"
            ],
            [
             0.4444444444444444,
             "#bd3786"
            ],
            [
             0.5555555555555556,
             "#d8576b"
            ],
            [
             0.6666666666666666,
             "#ed7953"
            ],
            [
             0.7777777777777778,
             "#fb9f3a"
            ],
            [
             0.8888888888888888,
             "#fdca26"
            ],
            [
             1,
             "#f0f921"
            ]
           ],
           "sequentialminus": [
            [
             0,
             "#0d0887"
            ],
            [
             0.1111111111111111,
             "#46039f"
            ],
            [
             0.2222222222222222,
             "#7201a8"
            ],
            [
             0.3333333333333333,
             "#9c179e"
            ],
            [
             0.4444444444444444,
             "#bd3786"
            ],
            [
             0.5555555555555556,
             "#d8576b"
            ],
            [
             0.6666666666666666,
             "#ed7953"
            ],
            [
             0.7777777777777778,
             "#fb9f3a"
            ],
            [
             0.8888888888888888,
             "#fdca26"
            ],
            [
             1,
             "#f0f921"
            ]
           ]
          },
          "colorway": [
           "#636efa",
           "#EF553B",
           "#00cc96",
           "#ab63fa",
           "#FFA15A",
           "#19d3f3",
           "#FF6692",
           "#B6E880",
           "#FF97FF",
           "#FECB52"
          ],
          "font": {
           "color": "#2a3f5f"
          },
          "geo": {
           "bgcolor": "white",
           "lakecolor": "white",
           "landcolor": "#E5ECF6",
           "showlakes": true,
           "showland": true,
           "subunitcolor": "white"
          },
          "hoverlabel": {
           "align": "left"
          },
          "hovermode": "closest",
          "mapbox": {
           "style": "light"
          },
          "paper_bgcolor": "white",
          "plot_bgcolor": "#E5ECF6",
          "polar": {
           "angularaxis": {
            "gridcolor": "white",
            "linecolor": "white",
            "ticks": ""
           },
           "bgcolor": "#E5ECF6",
           "radialaxis": {
            "gridcolor": "white",
            "linecolor": "white",
            "ticks": ""
           }
          },
          "scene": {
           "xaxis": {
            "backgroundcolor": "#E5ECF6",
            "gridcolor": "white",
            "gridwidth": 2,
            "linecolor": "white",
            "showbackground": true,
            "ticks": "",
            "zerolinecolor": "white"
           },
           "yaxis": {
            "backgroundcolor": "#E5ECF6",
            "gridcolor": "white",
            "gridwidth": 2,
            "linecolor": "white",
            "showbackground": true,
            "ticks": "",
            "zerolinecolor": "white"
           },
           "zaxis": {
            "backgroundcolor": "#E5ECF6",
            "gridcolor": "white",
            "gridwidth": 2,
            "linecolor": "white",
            "showbackground": true,
            "ticks": "",
            "zerolinecolor": "white"
           }
          },
          "shapedefaults": {
           "line": {
            "color": "#2a3f5f"
           }
          },
          "ternary": {
           "aaxis": {
            "gridcolor": "white",
            "linecolor": "white",
            "ticks": ""
           },
           "baxis": {
            "gridcolor": "white",
            "linecolor": "white",
            "ticks": ""
           },
           "bgcolor": "#E5ECF6",
           "caxis": {
            "gridcolor": "white",
            "linecolor": "white",
            "ticks": ""
           }
          },
          "title": {
           "x": 0.05
          },
          "xaxis": {
           "automargin": true,
           "gridcolor": "white",
           "linecolor": "white",
           "ticks": "",
           "title": {
            "standoff": 15
           },
           "zerolinecolor": "white",
           "zerolinewidth": 2
          },
          "yaxis": {
           "automargin": true,
           "gridcolor": "white",
           "linecolor": "white",
           "ticks": "",
           "title": {
            "standoff": 15
           },
           "zerolinecolor": "white",
           "zerolinewidth": 2
          }
         }
        },
        "title": {
         "text": "Gotas Cortadas por Mês"
        },
        "xaxis": {
         "anchor": "y",
         "domain": [
          0,
          1
         ],
         "title": {
          "text": "Mês"
         }
        },
        "yaxis": {
         "anchor": "x",
         "domain": [
          0,
          1
         ],
         "title": {
          "text": "Gotas Cortadas (toneladas)"
         }
        }
       }
      }
     },
     "metadata": {},
     "output_type": "display_data"
    },
    {
     "data": {
      "application/vnd.plotly.v1+json": {
       "config": {
        "plotlyServerURL": "https://plot.ly"
       },
       "data": [
        {
         "alignmentgroup": "True",
         "hovertemplate": "variable=Tras-PV (F°)<br>Mês=%{x}<br>Temperatura (F°)=%{y}<extra></extra>",
         "legendgroup": "Tras-PV (F°)",
         "marker": {
          "color": "#636efa",
          "pattern": {
           "shape": ""
          }
         },
         "name": "Tras-PV (F°)",
         "offsetgroup": "Tras-PV (F°)",
         "orientation": "v",
         "showlegend": true,
         "textposition": "auto",
         "type": "bar",
         "x": [
          1,
          2,
          3,
          4,
          5,
          6
         ],
         "xaxis": "x",
         "y": [
          2337.51,
          2338.75,
          2344.89,
          2342.22,
          2353.86,
          2337.43
         ],
         "yaxis": "y"
        },
        {
         "alignmentgroup": "True",
         "hovertemplate": "variable=Fritas-PV (F°)<br>Mês=%{x}<br>Temperatura (F°)=%{y}<extra></extra>",
         "legendgroup": "Fritas-PV (F°)",
         "marker": {
          "color": "#EF553B",
          "pattern": {
           "shape": ""
          }
         },
         "name": "Fritas-PV (F°)",
         "offsetgroup": "Fritas-PV (F°)",
         "orientation": "v",
         "showlegend": true,
         "textposition": "auto",
         "type": "bar",
         "x": [
          1,
          2,
          3,
          4,
          5,
          6
         ],
         "xaxis": "x",
         "y": [
          2311.67,
          2304.54,
          2308.79,
          2304.69,
          2310.03,
          2312.61
         ],
         "yaxis": "y"
        },
        {
         "alignmentgroup": "True",
         "hovertemplate": "variable=Agit-PV (F°)<br>Mês=%{x}<br>Temperatura (F°)=%{y}<extra></extra>",
         "legendgroup": "Agit-PV (F°)",
         "marker": {
          "color": "#00cc96",
          "pattern": {
           "shape": ""
          }
         },
         "name": "Agit-PV (F°)",
         "offsetgroup": "Agit-PV (F°)",
         "orientation": "v",
         "showlegend": true,
         "textposition": "auto",
         "type": "bar",
         "x": [
          1,
          2,
          3,
          4,
          5,
          6
         ],
         "xaxis": "x",
         "y": [
          2269.54,
          2268.58,
          2270.17,
          2272.02,
          2271.81,
          2266.2
         ],
         "yaxis": "y"
        },
        {
         "alignmentgroup": "True",
         "hovertemplate": "variable=Meio-PV (F°)<br>Mês=%{x}<br>Temperatura (F°)=%{y}<extra></extra>",
         "legendgroup": "Meio-PV (F°)",
         "marker": {
          "color": "#ab63fa",
          "pattern": {
           "shape": ""
          }
         },
         "name": "Meio-PV (F°)",
         "offsetgroup": "Meio-PV (F°)",
         "orientation": "v",
         "showlegend": true,
         "textposition": "auto",
         "type": "bar",
         "x": [
          1,
          2,
          3,
          4,
          5,
          6
         ],
         "xaxis": "x",
         "y": [
          2233.31,
          2235.24,
          2237.55,
          2234.74,
          2234.7,
          2231.74
         ],
         "yaxis": "y"
        },
        {
         "alignmentgroup": "True",
         "hovertemplate": "variable=Frente-PV (F°)<br>Mês=%{x}<br>Temperatura (F°)=%{y}<extra></extra>",
         "legendgroup": "Frente-PV (F°)",
         "marker": {
          "color": "#FFA15A",
          "pattern": {
           "shape": ""
          }
         },
         "name": "Frente-PV (F°)",
         "offsetgroup": "Frente-PV (F°)",
         "orientation": "v",
         "showlegend": true,
         "textposition": "auto",
         "type": "bar",
         "x": [
          1,
          2,
          3,
          4,
          5,
          6
         ],
         "xaxis": "x",
         "y": [
          2177.28,
          2176.4,
          2187.04,
          2181.01,
          2184.94,
          2179.46
         ],
         "yaxis": "y"
        }
       ],
       "layout": {
        "barmode": "group",
        "legend": {
         "title": {
          "text": "variable"
         },
         "tracegroupgap": 0
        },
        "template": {
         "data": {
          "bar": [
           {
            "error_x": {
             "color": "#2a3f5f"
            },
            "error_y": {
             "color": "#2a3f5f"
            },
            "marker": {
             "line": {
              "color": "#E5ECF6",
              "width": 0.5
             },
             "pattern": {
              "fillmode": "overlay",
              "size": 10,
              "solidity": 0.2
             }
            },
            "type": "bar"
           }
          ],
          "barpolar": [
           {
            "marker": {
             "line": {
              "color": "#E5ECF6",
              "width": 0.5
             },
             "pattern": {
              "fillmode": "overlay",
              "size": 10,
              "solidity": 0.2
             }
            },
            "type": "barpolar"
           }
          ],
          "carpet": [
           {
            "aaxis": {
             "endlinecolor": "#2a3f5f",
             "gridcolor": "white",
             "linecolor": "white",
             "minorgridcolor": "white",
             "startlinecolor": "#2a3f5f"
            },
            "baxis": {
             "endlinecolor": "#2a3f5f",
             "gridcolor": "white",
             "linecolor": "white",
             "minorgridcolor": "white",
             "startlinecolor": "#2a3f5f"
            },
            "type": "carpet"
           }
          ],
          "choropleth": [
           {
            "colorbar": {
             "outlinewidth": 0,
             "ticks": ""
            },
            "type": "choropleth"
           }
          ],
          "contour": [
           {
            "colorbar": {
             "outlinewidth": 0,
             "ticks": ""
            },
            "colorscale": [
             [
              0,
              "#0d0887"
             ],
             [
              0.1111111111111111,
              "#46039f"
             ],
             [
              0.2222222222222222,
              "#7201a8"
             ],
             [
              0.3333333333333333,
              "#9c179e"
             ],
             [
              0.4444444444444444,
              "#bd3786"
             ],
             [
              0.5555555555555556,
              "#d8576b"
             ],
             [
              0.6666666666666666,
              "#ed7953"
             ],
             [
              0.7777777777777778,
              "#fb9f3a"
             ],
             [
              0.8888888888888888,
              "#fdca26"
             ],
             [
              1,
              "#f0f921"
             ]
            ],
            "type": "contour"
           }
          ],
          "contourcarpet": [
           {
            "colorbar": {
             "outlinewidth": 0,
             "ticks": ""
            },
            "type": "contourcarpet"
           }
          ],
          "heatmap": [
           {
            "colorbar": {
             "outlinewidth": 0,
             "ticks": ""
            },
            "colorscale": [
             [
              0,
              "#0d0887"
             ],
             [
              0.1111111111111111,
              "#46039f"
             ],
             [
              0.2222222222222222,
              "#7201a8"
             ],
             [
              0.3333333333333333,
              "#9c179e"
             ],
             [
              0.4444444444444444,
              "#bd3786"
             ],
             [
              0.5555555555555556,
              "#d8576b"
             ],
             [
              0.6666666666666666,
              "#ed7953"
             ],
             [
              0.7777777777777778,
              "#fb9f3a"
             ],
             [
              0.8888888888888888,
              "#fdca26"
             ],
             [
              1,
              "#f0f921"
             ]
            ],
            "type": "heatmap"
           }
          ],
          "heatmapgl": [
           {
            "colorbar": {
             "outlinewidth": 0,
             "ticks": ""
            },
            "colorscale": [
             [
              0,
              "#0d0887"
             ],
             [
              0.1111111111111111,
              "#46039f"
             ],
             [
              0.2222222222222222,
              "#7201a8"
             ],
             [
              0.3333333333333333,
              "#9c179e"
             ],
             [
              0.4444444444444444,
              "#bd3786"
             ],
             [
              0.5555555555555556,
              "#d8576b"
             ],
             [
              0.6666666666666666,
              "#ed7953"
             ],
             [
              0.7777777777777778,
              "#fb9f3a"
             ],
             [
              0.8888888888888888,
              "#fdca26"
             ],
             [
              1,
              "#f0f921"
             ]
            ],
            "type": "heatmapgl"
           }
          ],
          "histogram": [
           {
            "marker": {
             "pattern": {
              "fillmode": "overlay",
              "size": 10,
              "solidity": 0.2
             }
            },
            "type": "histogram"
           }
          ],
          "histogram2d": [
           {
            "colorbar": {
             "outlinewidth": 0,
             "ticks": ""
            },
            "colorscale": [
             [
              0,
              "#0d0887"
             ],
             [
              0.1111111111111111,
              "#46039f"
             ],
             [
              0.2222222222222222,
              "#7201a8"
             ],
             [
              0.3333333333333333,
              "#9c179e"
             ],
             [
              0.4444444444444444,
              "#bd3786"
             ],
             [
              0.5555555555555556,
              "#d8576b"
             ],
             [
              0.6666666666666666,
              "#ed7953"
             ],
             [
              0.7777777777777778,
              "#fb9f3a"
             ],
             [
              0.8888888888888888,
              "#fdca26"
             ],
             [
              1,
              "#f0f921"
             ]
            ],
            "type": "histogram2d"
           }
          ],
          "histogram2dcontour": [
           {
            "colorbar": {
             "outlinewidth": 0,
             "ticks": ""
            },
            "colorscale": [
             [
              0,
              "#0d0887"
             ],
             [
              0.1111111111111111,
              "#46039f"
             ],
             [
              0.2222222222222222,
              "#7201a8"
             ],
             [
              0.3333333333333333,
              "#9c179e"
             ],
             [
              0.4444444444444444,
              "#bd3786"
             ],
             [
              0.5555555555555556,
              "#d8576b"
             ],
             [
              0.6666666666666666,
              "#ed7953"
             ],
             [
              0.7777777777777778,
              "#fb9f3a"
             ],
             [
              0.8888888888888888,
              "#fdca26"
             ],
             [
              1,
              "#f0f921"
             ]
            ],
            "type": "histogram2dcontour"
           }
          ],
          "mesh3d": [
           {
            "colorbar": {
             "outlinewidth": 0,
             "ticks": ""
            },
            "type": "mesh3d"
           }
          ],
          "parcoords": [
           {
            "line": {
             "colorbar": {
              "outlinewidth": 0,
              "ticks": ""
             }
            },
            "type": "parcoords"
           }
          ],
          "pie": [
           {
            "automargin": true,
            "type": "pie"
           }
          ],
          "scatter": [
           {
            "fillpattern": {
             "fillmode": "overlay",
             "size": 10,
             "solidity": 0.2
            },
            "type": "scatter"
           }
          ],
          "scatter3d": [
           {
            "line": {
             "colorbar": {
              "outlinewidth": 0,
              "ticks": ""
             }
            },
            "marker": {
             "colorbar": {
              "outlinewidth": 0,
              "ticks": ""
             }
            },
            "type": "scatter3d"
           }
          ],
          "scattercarpet": [
           {
            "marker": {
             "colorbar": {
              "outlinewidth": 0,
              "ticks": ""
             }
            },
            "type": "scattercarpet"
           }
          ],
          "scattergeo": [
           {
            "marker": {
             "colorbar": {
              "outlinewidth": 0,
              "ticks": ""
             }
            },
            "type": "scattergeo"
           }
          ],
          "scattergl": [
           {
            "marker": {
             "colorbar": {
              "outlinewidth": 0,
              "ticks": ""
             }
            },
            "type": "scattergl"
           }
          ],
          "scattermapbox": [
           {
            "marker": {
             "colorbar": {
              "outlinewidth": 0,
              "ticks": ""
             }
            },
            "type": "scattermapbox"
           }
          ],
          "scatterpolar": [
           {
            "marker": {
             "colorbar": {
              "outlinewidth": 0,
              "ticks": ""
             }
            },
            "type": "scatterpolar"
           }
          ],
          "scatterpolargl": [
           {
            "marker": {
             "colorbar": {
              "outlinewidth": 0,
              "ticks": ""
             }
            },
            "type": "scatterpolargl"
           }
          ],
          "scatterternary": [
           {
            "marker": {
             "colorbar": {
              "outlinewidth": 0,
              "ticks": ""
             }
            },
            "type": "scatterternary"
           }
          ],
          "surface": [
           {
            "colorbar": {
             "outlinewidth": 0,
             "ticks": ""
            },
            "colorscale": [
             [
              0,
              "#0d0887"
             ],
             [
              0.1111111111111111,
              "#46039f"
             ],
             [
              0.2222222222222222,
              "#7201a8"
             ],
             [
              0.3333333333333333,
              "#9c179e"
             ],
             [
              0.4444444444444444,
              "#bd3786"
             ],
             [
              0.5555555555555556,
              "#d8576b"
             ],
             [
              0.6666666666666666,
              "#ed7953"
             ],
             [
              0.7777777777777778,
              "#fb9f3a"
             ],
             [
              0.8888888888888888,
              "#fdca26"
             ],
             [
              1,
              "#f0f921"
             ]
            ],
            "type": "surface"
           }
          ],
          "table": [
           {
            "cells": {
             "fill": {
              "color": "#EBF0F8"
             },
             "line": {
              "color": "white"
             }
            },
            "header": {
             "fill": {
              "color": "#C8D4E3"
             },
             "line": {
              "color": "white"
             }
            },
            "type": "table"
           }
          ]
         },
         "layout": {
          "annotationdefaults": {
           "arrowcolor": "#2a3f5f",
           "arrowhead": 0,
           "arrowwidth": 1
          },
          "autotypenumbers": "strict",
          "coloraxis": {
           "colorbar": {
            "outlinewidth": 0,
            "ticks": ""
           }
          },
          "colorscale": {
           "diverging": [
            [
             0,
             "#8e0152"
            ],
            [
             0.1,
             "#c51b7d"
            ],
            [
             0.2,
             "#de77ae"
            ],
            [
             0.3,
             "#f1b6da"
            ],
            [
             0.4,
             "#fde0ef"
            ],
            [
             0.5,
             "#f7f7f7"
            ],
            [
             0.6,
             "#e6f5d0"
            ],
            [
             0.7,
             "#b8e186"
            ],
            [
             0.8,
             "#7fbc41"
            ],
            [
             0.9,
             "#4d9221"
            ],
            [
             1,
             "#276419"
            ]
           ],
           "sequential": [
            [
             0,
             "#0d0887"
            ],
            [
             0.1111111111111111,
             "#46039f"
            ],
            [
             0.2222222222222222,
             "#7201a8"
            ],
            [
             0.3333333333333333,
             "#9c179e"
            ],
            [
             0.4444444444444444,
             "#bd3786"
            ],
            [
             0.5555555555555556,
             "#d8576b"
            ],
            [
             0.6666666666666666,
             "#ed7953"
            ],
            [
             0.7777777777777778,
             "#fb9f3a"
            ],
            [
             0.8888888888888888,
             "#fdca26"
            ],
            [
             1,
             "#f0f921"
            ]
           ],
           "sequentialminus": [
            [
             0,
             "#0d0887"
            ],
            [
             0.1111111111111111,
             "#46039f"
            ],
            [
             0.2222222222222222,
             "#7201a8"
            ],
            [
             0.3333333333333333,
             "#9c179e"
            ],
            [
             0.4444444444444444,
             "#bd3786"
            ],
            [
             0.5555555555555556,
             "#d8576b"
            ],
            [
             0.6666666666666666,
             "#ed7953"
            ],
            [
             0.7777777777777778,
             "#fb9f3a"
            ],
            [
             0.8888888888888888,
             "#fdca26"
            ],
            [
             1,
             "#f0f921"
            ]
           ]
          },
          "colorway": [
           "#636efa",
           "#EF553B",
           "#00cc96",
           "#ab63fa",
           "#FFA15A",
           "#19d3f3",
           "#FF6692",
           "#B6E880",
           "#FF97FF",
           "#FECB52"
          ],
          "font": {
           "color": "#2a3f5f"
          },
          "geo": {
           "bgcolor": "white",
           "lakecolor": "white",
           "landcolor": "#E5ECF6",
           "showlakes": true,
           "showland": true,
           "subunitcolor": "white"
          },
          "hoverlabel": {
           "align": "left"
          },
          "hovermode": "closest",
          "mapbox": {
           "style": "light"
          },
          "paper_bgcolor": "white",
          "plot_bgcolor": "#E5ECF6",
          "polar": {
           "angularaxis": {
            "gridcolor": "white",
            "linecolor": "white",
            "ticks": ""
           },
           "bgcolor": "#E5ECF6",
           "radialaxis": {
            "gridcolor": "white",
            "linecolor": "white",
            "ticks": ""
           }
          },
          "scene": {
           "xaxis": {
            "backgroundcolor": "#E5ECF6",
            "gridcolor": "white",
            "gridwidth": 2,
            "linecolor": "white",
            "showbackground": true,
            "ticks": "",
            "zerolinecolor": "white"
           },
           "yaxis": {
            "backgroundcolor": "#E5ECF6",
            "gridcolor": "white",
            "gridwidth": 2,
            "linecolor": "white",
            "showbackground": true,
            "ticks": "",
            "zerolinecolor": "white"
           },
           "zaxis": {
            "backgroundcolor": "#E5ECF6",
            "gridcolor": "white",
            "gridwidth": 2,
            "linecolor": "white",
            "showbackground": true,
            "ticks": "",
            "zerolinecolor": "white"
           }
          },
          "shapedefaults": {
           "line": {
            "color": "#2a3f5f"
           }
          },
          "ternary": {
           "aaxis": {
            "gridcolor": "white",
            "linecolor": "white",
            "ticks": ""
           },
           "baxis": {
            "gridcolor": "white",
            "linecolor": "white",
            "ticks": ""
           },
           "bgcolor": "#E5ECF6",
           "caxis": {
            "gridcolor": "white",
            "linecolor": "white",
            "ticks": ""
           }
          },
          "title": {
           "x": 0.05
          },
          "xaxis": {
           "automargin": true,
           "gridcolor": "white",
           "linecolor": "white",
           "ticks": "",
           "title": {
            "standoff": 15
           },
           "zerolinecolor": "white",
           "zerolinewidth": 2
          },
          "yaxis": {
           "automargin": true,
           "gridcolor": "white",
           "linecolor": "white",
           "ticks": "",
           "title": {
            "standoff": 15
           },
           "zerolinecolor": "white",
           "zerolinewidth": 2
          }
         }
        },
        "title": {
         "text": "Temperaturas de PV por Mês"
        },
        "xaxis": {
         "anchor": "y",
         "domain": [
          0,
          1
         ],
         "title": {
          "text": "Mês"
         }
        },
        "yaxis": {
         "anchor": "x",
         "domain": [
          0,
          1
         ],
         "title": {
          "text": "Temperatura (F°)"
         }
        }
       }
      }
     },
     "metadata": {},
     "output_type": "display_data"
    },
    {
     "data": {
      "application/vnd.plotly.v1+json": {
       "config": {
        "plotlyServerURL": "https://plot.ly"
       },
       "data": [
        {
         "alignmentgroup": "True",
         "hovertemplate": "variable=Peso médio (Kg)<br>Mês=%{x}<br>Valor=%{y}<extra></extra>",
         "legendgroup": "Peso médio (Kg)",
         "marker": {
          "color": "#636efa",
          "pattern": {
           "shape": ""
          }
         },
         "name": "Peso médio (Kg)",
         "offsetgroup": "Peso médio (Kg)",
         "orientation": "v",
         "showlegend": true,
         "textposition": "auto",
         "type": "bar",
         "x": [
          1,
          2,
          3,
          4,
          5,
          6
         ],
         "xaxis": "x",
         "y": [
          165.44,
          165.27,
          175.4,
          167.46,
          169.64,
          164.97
         ],
         "yaxis": "y"
        },
        {
         "alignmentgroup": "True",
         "hovertemplate": "variable=Cortes por minuto<br>Mês=%{x}<br>Valor=%{y}<extra></extra>",
         "legendgroup": "Cortes por minuto",
         "marker": {
          "color": "#EF553B",
          "pattern": {
           "shape": ""
          }
         },
         "name": "Cortes por minuto",
         "offsetgroup": "Cortes por minuto",
         "orientation": "v",
         "showlegend": true,
         "textposition": "auto",
         "type": "bar",
         "x": [
          1,
          2,
          3,
          4,
          5,
          6
         ],
         "xaxis": "x",
         "y": [
          84.43,
          81.53,
          75.45,
          91.88,
          88.3,
          94.28
         ],
         "yaxis": "y"
        },
        {
         "alignmentgroup": "True",
         "hovertemplate": "variable=Comprimento médio (mm)<br>Mês=%{x}<br>Valor=%{y}<extra></extra>",
         "legendgroup": "Comprimento médio (mm)",
         "marker": {
          "color": "#00cc96",
          "pattern": {
           "shape": ""
          }
         },
         "name": "Comprimento médio (mm)",
         "offsetgroup": "Comprimento médio (mm)",
         "orientation": "v",
         "showlegend": true,
         "textposition": "auto",
         "type": "bar",
         "x": [
          1,
          2,
          3,
          4,
          5,
          6
         ],
         "xaxis": "x",
         "y": [
          100.64,
          78.95,
          96.54,
          87.7,
          90.3,
          89.26
         ],
         "yaxis": "y"
        },
        {
         "alignmentgroup": "True",
         "hovertemplate": "variable=Diâmetro<br>Mês=%{x}<br>Valor=%{y}<extra></extra>",
         "legendgroup": "Diâmetro",
         "marker": {
          "color": "#ab63fa",
          "pattern": {
           "shape": ""
          }
         },
         "name": "Diâmetro",
         "offsetgroup": "Diâmetro",
         "orientation": "v",
         "showlegend": true,
         "textposition": "auto",
         "type": "bar",
         "x": [
          1,
          2,
          3,
          4,
          5,
          6
         ],
         "xaxis": "x",
         "y": [
          35.69,
          28.36,
          38.13,
          36.99,
          37.26,
          35.77
         ],
         "yaxis": "y"
        }
       ],
       "layout": {
        "barmode": "group",
        "legend": {
         "title": {
          "text": "variable"
         },
         "tracegroupgap": 0
        },
        "template": {
         "data": {
          "bar": [
           {
            "error_x": {
             "color": "#2a3f5f"
            },
            "error_y": {
             "color": "#2a3f5f"
            },
            "marker": {
             "line": {
              "color": "#E5ECF6",
              "width": 0.5
             },
             "pattern": {
              "fillmode": "overlay",
              "size": 10,
              "solidity": 0.2
             }
            },
            "type": "bar"
           }
          ],
          "barpolar": [
           {
            "marker": {
             "line": {
              "color": "#E5ECF6",
              "width": 0.5
             },
             "pattern": {
              "fillmode": "overlay",
              "size": 10,
              "solidity": 0.2
             }
            },
            "type": "barpolar"
           }
          ],
          "carpet": [
           {
            "aaxis": {
             "endlinecolor": "#2a3f5f",
             "gridcolor": "white",
             "linecolor": "white",
             "minorgridcolor": "white",
             "startlinecolor": "#2a3f5f"
            },
            "baxis": {
             "endlinecolor": "#2a3f5f",
             "gridcolor": "white",
             "linecolor": "white",
             "minorgridcolor": "white",
             "startlinecolor": "#2a3f5f"
            },
            "type": "carpet"
           }
          ],
          "choropleth": [
           {
            "colorbar": {
             "outlinewidth": 0,
             "ticks": ""
            },
            "type": "choropleth"
           }
          ],
          "contour": [
           {
            "colorbar": {
             "outlinewidth": 0,
             "ticks": ""
            },
            "colorscale": [
             [
              0,
              "#0d0887"
             ],
             [
              0.1111111111111111,
              "#46039f"
             ],
             [
              0.2222222222222222,
              "#7201a8"
             ],
             [
              0.3333333333333333,
              "#9c179e"
             ],
             [
              0.4444444444444444,
              "#bd3786"
             ],
             [
              0.5555555555555556,
              "#d8576b"
             ],
             [
              0.6666666666666666,
              "#ed7953"
             ],
             [
              0.7777777777777778,
              "#fb9f3a"
             ],
             [
              0.8888888888888888,
              "#fdca26"
             ],
             [
              1,
              "#f0f921"
             ]
            ],
            "type": "contour"
           }
          ],
          "contourcarpet": [
           {
            "colorbar": {
             "outlinewidth": 0,
             "ticks": ""
            },
            "type": "contourcarpet"
           }
          ],
          "heatmap": [
           {
            "colorbar": {
             "outlinewidth": 0,
             "ticks": ""
            },
            "colorscale": [
             [
              0,
              "#0d0887"
             ],
             [
              0.1111111111111111,
              "#46039f"
             ],
             [
              0.2222222222222222,
              "#7201a8"
             ],
             [
              0.3333333333333333,
              "#9c179e"
             ],
             [
              0.4444444444444444,
              "#bd3786"
             ],
             [
              0.5555555555555556,
              "#d8576b"
             ],
             [
              0.6666666666666666,
              "#ed7953"
             ],
             [
              0.7777777777777778,
              "#fb9f3a"
             ],
             [
              0.8888888888888888,
              "#fdca26"
             ],
             [
              1,
              "#f0f921"
             ]
            ],
            "type": "heatmap"
           }
          ],
          "heatmapgl": [
           {
            "colorbar": {
             "outlinewidth": 0,
             "ticks": ""
            },
            "colorscale": [
             [
              0,
              "#0d0887"
             ],
             [
              0.1111111111111111,
              "#46039f"
             ],
             [
              0.2222222222222222,
              "#7201a8"
             ],
             [
              0.3333333333333333,
              "#9c179e"
             ],
             [
              0.4444444444444444,
              "#bd3786"
             ],
             [
              0.5555555555555556,
              "#d8576b"
             ],
             [
              0.6666666666666666,
              "#ed7953"
             ],
             [
              0.7777777777777778,
              "#fb9f3a"
             ],
             [
              0.8888888888888888,
              "#fdca26"
             ],
             [
              1,
              "#f0f921"
             ]
            ],
            "type": "heatmapgl"
           }
          ],
          "histogram": [
           {
            "marker": {
             "pattern": {
              "fillmode": "overlay",
              "size": 10,
              "solidity": 0.2
             }
            },
            "type": "histogram"
           }
          ],
          "histogram2d": [
           {
            "colorbar": {
             "outlinewidth": 0,
             "ticks": ""
            },
            "colorscale": [
             [
              0,
              "#0d0887"
             ],
             [
              0.1111111111111111,
              "#46039f"
             ],
             [
              0.2222222222222222,
              "#7201a8"
             ],
             [
              0.3333333333333333,
              "#9c179e"
             ],
             [
              0.4444444444444444,
              "#bd3786"
             ],
             [
              0.5555555555555556,
              "#d8576b"
             ],
             [
              0.6666666666666666,
              "#ed7953"
             ],
             [
              0.7777777777777778,
              "#fb9f3a"
             ],
             [
              0.8888888888888888,
              "#fdca26"
             ],
             [
              1,
              "#f0f921"
             ]
            ],
            "type": "histogram2d"
           }
          ],
          "histogram2dcontour": [
           {
            "colorbar": {
             "outlinewidth": 0,
             "ticks": ""
            },
            "colorscale": [
             [
              0,
              "#0d0887"
             ],
             [
              0.1111111111111111,
              "#46039f"
             ],
             [
              0.2222222222222222,
              "#7201a8"
             ],
             [
              0.3333333333333333,
              "#9c179e"
             ],
             [
              0.4444444444444444,
              "#bd3786"
             ],
             [
              0.5555555555555556,
              "#d8576b"
             ],
             [
              0.6666666666666666,
              "#ed7953"
             ],
             [
              0.7777777777777778,
              "#fb9f3a"
             ],
             [
              0.8888888888888888,
              "#fdca26"
             ],
             [
              1,
              "#f0f921"
             ]
            ],
            "type": "histogram2dcontour"
           }
          ],
          "mesh3d": [
           {
            "colorbar": {
             "outlinewidth": 0,
             "ticks": ""
            },
            "type": "mesh3d"
           }
          ],
          "parcoords": [
           {
            "line": {
             "colorbar": {
              "outlinewidth": 0,
              "ticks": ""
             }
            },
            "type": "parcoords"
           }
          ],
          "pie": [
           {
            "automargin": true,
            "type": "pie"
           }
          ],
          "scatter": [
           {
            "fillpattern": {
             "fillmode": "overlay",
             "size": 10,
             "solidity": 0.2
            },
            "type": "scatter"
           }
          ],
          "scatter3d": [
           {
            "line": {
             "colorbar": {
              "outlinewidth": 0,
              "ticks": ""
             }
            },
            "marker": {
             "colorbar": {
              "outlinewidth": 0,
              "ticks": ""
             }
            },
            "type": "scatter3d"
           }
          ],
          "scattercarpet": [
           {
            "marker": {
             "colorbar": {
              "outlinewidth": 0,
              "ticks": ""
             }
            },
            "type": "scattercarpet"
           }
          ],
          "scattergeo": [
           {
            "marker": {
             "colorbar": {
              "outlinewidth": 0,
              "ticks": ""
             }
            },
            "type": "scattergeo"
           }
          ],
          "scattergl": [
           {
            "marker": {
             "colorbar": {
              "outlinewidth": 0,
              "ticks": ""
             }
            },
            "type": "scattergl"
           }
          ],
          "scattermapbox": [
           {
            "marker": {
             "colorbar": {
              "outlinewidth": 0,
              "ticks": ""
             }
            },
            "type": "scattermapbox"
           }
          ],
          "scatterpolar": [
           {
            "marker": {
             "colorbar": {
              "outlinewidth": 0,
              "ticks": ""
             }
            },
            "type": "scatterpolar"
           }
          ],
          "scatterpolargl": [
           {
            "marker": {
             "colorbar": {
              "outlinewidth": 0,
              "ticks": ""
             }
            },
            "type": "scatterpolargl"
           }
          ],
          "scatterternary": [
           {
            "marker": {
             "colorbar": {
              "outlinewidth": 0,
              "ticks": ""
             }
            },
            "type": "scatterternary"
           }
          ],
          "surface": [
           {
            "colorbar": {
             "outlinewidth": 0,
             "ticks": ""
            },
            "colorscale": [
             [
              0,
              "#0d0887"
             ],
             [
              0.1111111111111111,
              "#46039f"
             ],
             [
              0.2222222222222222,
              "#7201a8"
             ],
             [
              0.3333333333333333,
              "#9c179e"
             ],
             [
              0.4444444444444444,
              "#bd3786"
             ],
             [
              0.5555555555555556,
              "#d8576b"
             ],
             [
              0.6666666666666666,
              "#ed7953"
             ],
             [
              0.7777777777777778,
              "#fb9f3a"
             ],
             [
              0.8888888888888888,
              "#fdca26"
             ],
             [
              1,
              "#f0f921"
             ]
            ],
            "type": "surface"
           }
          ],
          "table": [
           {
            "cells": {
             "fill": {
              "color": "#EBF0F8"
             },
             "line": {
              "color": "white"
             }
            },
            "header": {
             "fill": {
              "color": "#C8D4E3"
             },
             "line": {
              "color": "white"
             }
            },
            "type": "table"
           }
          ]
         },
         "layout": {
          "annotationdefaults": {
           "arrowcolor": "#2a3f5f",
           "arrowhead": 0,
           "arrowwidth": 1
          },
          "autotypenumbers": "strict",
          "coloraxis": {
           "colorbar": {
            "outlinewidth": 0,
            "ticks": ""
           }
          },
          "colorscale": {
           "diverging": [
            [
             0,
             "#8e0152"
            ],
            [
             0.1,
             "#c51b7d"
            ],
            [
             0.2,
             "#de77ae"
            ],
            [
             0.3,
             "#f1b6da"
            ],
            [
             0.4,
             "#fde0ef"
            ],
            [
             0.5,
             "#f7f7f7"
            ],
            [
             0.6,
             "#e6f5d0"
            ],
            [
             0.7,
             "#b8e186"
            ],
            [
             0.8,
             "#7fbc41"
            ],
            [
             0.9,
             "#4d9221"
            ],
            [
             1,
             "#276419"
            ]
           ],
           "sequential": [
            [
             0,
             "#0d0887"
            ],
            [
             0.1111111111111111,
             "#46039f"
            ],
            [
             0.2222222222222222,
             "#7201a8"
            ],
            [
             0.3333333333333333,
             "#9c179e"
            ],
            [
             0.4444444444444444,
             "#bd3786"
            ],
            [
             0.5555555555555556,
             "#d8576b"
            ],
            [
             0.6666666666666666,
             "#ed7953"
            ],
            [
             0.7777777777777778,
             "#fb9f3a"
            ],
            [
             0.8888888888888888,
             "#fdca26"
            ],
            [
             1,
             "#f0f921"
            ]
           ],
           "sequentialminus": [
            [
             0,
             "#0d0887"
            ],
            [
             0.1111111111111111,
             "#46039f"
            ],
            [
             0.2222222222222222,
             "#7201a8"
            ],
            [
             0.3333333333333333,
             "#9c179e"
            ],
            [
             0.4444444444444444,
             "#bd3786"
            ],
            [
             0.5555555555555556,
             "#d8576b"
            ],
            [
             0.6666666666666666,
             "#ed7953"
            ],
            [
             0.7777777777777778,
             "#fb9f3a"
            ],
            [
             0.8888888888888888,
             "#fdca26"
            ],
            [
             1,
             "#f0f921"
            ]
           ]
          },
          "colorway": [
           "#636efa",
           "#EF553B",
           "#00cc96",
           "#ab63fa",
           "#FFA15A",
           "#19d3f3",
           "#FF6692",
           "#B6E880",
           "#FF97FF",
           "#FECB52"
          ],
          "font": {
           "color": "#2a3f5f"
          },
          "geo": {
           "bgcolor": "white",
           "lakecolor": "white",
           "landcolor": "#E5ECF6",
           "showlakes": true,
           "showland": true,
           "subunitcolor": "white"
          },
          "hoverlabel": {
           "align": "left"
          },
          "hovermode": "closest",
          "mapbox": {
           "style": "light"
          },
          "paper_bgcolor": "white",
          "plot_bgcolor": "#E5ECF6",
          "polar": {
           "angularaxis": {
            "gridcolor": "white",
            "linecolor": "white",
            "ticks": ""
           },
           "bgcolor": "#E5ECF6",
           "radialaxis": {
            "gridcolor": "white",
            "linecolor": "white",
            "ticks": ""
           }
          },
          "scene": {
           "xaxis": {
            "backgroundcolor": "#E5ECF6",
            "gridcolor": "white",
            "gridwidth": 2,
            "linecolor": "white",
            "showbackground": true,
            "ticks": "",
            "zerolinecolor": "white"
           },
           "yaxis": {
            "backgroundcolor": "#E5ECF6",
            "gridcolor": "white",
            "gridwidth": 2,
            "linecolor": "white",
            "showbackground": true,
            "ticks": "",
            "zerolinecolor": "white"
           },
           "zaxis": {
            "backgroundcolor": "#E5ECF6",
            "gridcolor": "white",
            "gridwidth": 2,
            "linecolor": "white",
            "showbackground": true,
            "ticks": "",
            "zerolinecolor": "white"
           }
          },
          "shapedefaults": {
           "line": {
            "color": "#2a3f5f"
           }
          },
          "ternary": {
           "aaxis": {
            "gridcolor": "white",
            "linecolor": "white",
            "ticks": ""
           },
           "baxis": {
            "gridcolor": "white",
            "linecolor": "white",
            "ticks": ""
           },
           "bgcolor": "#E5ECF6",
           "caxis": {
            "gridcolor": "white",
            "linecolor": "white",
            "ticks": ""
           }
          },
          "title": {
           "x": 0.05
          },
          "xaxis": {
           "automargin": true,
           "gridcolor": "white",
           "linecolor": "white",
           "ticks": "",
           "title": {
            "standoff": 15
           },
           "zerolinecolor": "white",
           "zerolinewidth": 2
          },
          "yaxis": {
           "automargin": true,
           "gridcolor": "white",
           "linecolor": "white",
           "ticks": "",
           "title": {
            "standoff": 15
           },
           "zerolinecolor": "white",
           "zerolinewidth": 2
          }
         }
        },
        "title": {
         "text": "Medidas da Gota por Mês"
        },
        "xaxis": {
         "anchor": "y",
         "domain": [
          0,
          1
         ],
         "title": {
          "text": "Mês"
         }
        },
        "yaxis": {
         "anchor": "x",
         "domain": [
          0,
          1
         ],
         "title": {
          "text": "Valor"
         }
        }
       }
      }
     },
     "metadata": {},
     "output_type": "display_data"
    }
   ],
   "source": [
    "# Média de gotas cortadas por mês\n",
    "fig_gotas = px.bar(\n",
    "    media_mensal, \n",
    "    x=media_mensal.index,\n",
    "    y='Gotas cortadas (toneladas)',\n",
    "    title=\"Gotas Cortadas por Mês\",\n",
    "    labels={'Mês': 'Mês', 'Gotas cortadas (toneladas)': 'Gotas Cortadas (toneladas)'},\n",
    "    barmode='group'\n",
    ")\n",
    "fig_gotas.show()\n",
    "\n",
    "# Médias de PV por mês\n",
    "fig_pv = px.bar(\n",
    "    media_mensal, \n",
    "    x=media_mensal.index, \n",
    "    y=['Tras-PV (F°)', 'Fritas-PV (F°)', 'Agit-PV (F°)', 'Meio-PV (F°)', 'Frente-PV (F°)'], \n",
    "    title=\"Temperaturas de PV por Mês\",\n",
    "    labels={'Mês': 'Mês', 'value': 'Temperatura (F°)'},\n",
    "    barmode='group'\n",
    ")\n",
    "fig_pv.show()\n",
    "\n",
    "# Médias das propriedades da gota por mês\n",
    "fig_medidas = px.bar(\n",
    "    media_mensal, \n",
    "    x=media_mensal.index, \n",
    "    y=['Peso médio (Kg)', 'Cortes por minuto', 'Comprimento médio (mm)', 'Diâmetro'],\n",
    "    title=\"Medidas da Gota por Mês\",\n",
    "    labels={'Mês': 'Mês', 'value': 'Valor'},\n",
    "    barmode='group'\n",
    ")\n",
    "fig_medidas.show()"
   ]
  },
  {
   "cell_type": "markdown",
   "metadata": {},
   "source": [
    "## Totais"
   ]
  },
  {
   "cell_type": "code",
   "execution_count": 52,
   "metadata": {},
   "outputs": [],
   "source": [
    "total_mensal_gotas = total_mensal_ordem.groupby('Mês')[['Gotas cortadas (toneladas)']].sum().sort_values('Gotas cortadas (toneladas)', ascending=False)"
   ]
  },
  {
   "cell_type": "code",
   "execution_count": 53,
   "metadata": {},
   "outputs": [
    {
     "data": {
      "text/html": [
       "<div>\n",
       "<style scoped>\n",
       "    .dataframe tbody tr th:only-of-type {\n",
       "        vertical-align: middle;\n",
       "    }\n",
       "\n",
       "    .dataframe tbody tr th {\n",
       "        vertical-align: top;\n",
       "    }\n",
       "\n",
       "    .dataframe thead th {\n",
       "        text-align: right;\n",
       "    }\n",
       "</style>\n",
       "<table border=\"1\" class=\"dataframe\">\n",
       "  <thead>\n",
       "    <tr style=\"text-align: right;\">\n",
       "      <th></th>\n",
       "      <th>Gotas cortadas (toneladas)</th>\n",
       "    </tr>\n",
       "    <tr>\n",
       "      <th>Mês</th>\n",
       "      <th></th>\n",
       "    </tr>\n",
       "  </thead>\n",
       "  <tbody>\n",
       "    <tr>\n",
       "      <th>4</th>\n",
       "      <td>666.427</td>\n",
       "    </tr>\n",
       "    <tr>\n",
       "      <th>6</th>\n",
       "      <td>630.137</td>\n",
       "    </tr>\n",
       "    <tr>\n",
       "      <th>1</th>\n",
       "      <td>587.057</td>\n",
       "    </tr>\n",
       "    <tr>\n",
       "      <th>5</th>\n",
       "      <td>575.221</td>\n",
       "    </tr>\n",
       "    <tr>\n",
       "      <th>3</th>\n",
       "      <td>567.843</td>\n",
       "    </tr>\n",
       "    <tr>\n",
       "      <th>2</th>\n",
       "      <td>566.512</td>\n",
       "    </tr>\n",
       "  </tbody>\n",
       "</table>\n",
       "</div>"
      ],
      "text/plain": [
       "     Gotas cortadas (toneladas)\n",
       "Mês                            \n",
       "4                       666.427\n",
       "6                       630.137\n",
       "1                       587.057\n",
       "5                       575.221\n",
       "3                       567.843\n",
       "2                       566.512"
      ]
     },
     "execution_count": 53,
     "metadata": {},
     "output_type": "execute_result"
    }
   ],
   "source": [
    "total_mensal_gotas"
   ]
  },
  {
   "cell_type": "code",
   "execution_count": 54,
   "metadata": {},
   "outputs": [
    {
     "data": {
      "application/vnd.plotly.v1+json": {
       "config": {
        "plotlyServerURL": "https://plot.ly"
       },
       "data": [
        {
         "alignmentgroup": "True",
         "hovertemplate": "Mês=%{x}<br>Total de Gotas Cortadas=%{marker.color}<extra></extra>",
         "legendgroup": "",
         "marker": {
          "color": [
           666.427,
           630.137,
           587.057,
           575.221,
           567.843,
           566.5120000000001
          ],
          "coloraxis": "coloraxis",
          "pattern": {
           "shape": ""
          }
         },
         "name": "",
         "offsetgroup": "",
         "orientation": "v",
         "showlegend": false,
         "textposition": "auto",
         "type": "bar",
         "x": [
          4,
          6,
          1,
          5,
          3,
          2
         ],
         "xaxis": "x",
         "y": [
          666.427,
          630.137,
          587.057,
          575.221,
          567.843,
          566.5120000000001
         ],
         "yaxis": "y"
        }
       ],
       "layout": {
        "barmode": "relative",
        "coloraxis": {
         "colorbar": {
          "title": {
           "text": "Total de Gotas Cortadas"
          }
         },
         "colorscale": [
          [
           0,
           "#0d0887"
          ],
          [
           0.1111111111111111,
           "#46039f"
          ],
          [
           0.2222222222222222,
           "#7201a8"
          ],
          [
           0.3333333333333333,
           "#9c179e"
          ],
          [
           0.4444444444444444,
           "#bd3786"
          ],
          [
           0.5555555555555556,
           "#d8576b"
          ],
          [
           0.6666666666666666,
           "#ed7953"
          ],
          [
           0.7777777777777778,
           "#fb9f3a"
          ],
          [
           0.8888888888888888,
           "#fdca26"
          ],
          [
           1,
           "#f0f921"
          ]
         ]
        },
        "legend": {
         "tracegroupgap": 0
        },
        "template": {
         "data": {
          "bar": [
           {
            "error_x": {
             "color": "#2a3f5f"
            },
            "error_y": {
             "color": "#2a3f5f"
            },
            "marker": {
             "line": {
              "color": "#E5ECF6",
              "width": 0.5
             },
             "pattern": {
              "fillmode": "overlay",
              "size": 10,
              "solidity": 0.2
             }
            },
            "type": "bar"
           }
          ],
          "barpolar": [
           {
            "marker": {
             "line": {
              "color": "#E5ECF6",
              "width": 0.5
             },
             "pattern": {
              "fillmode": "overlay",
              "size": 10,
              "solidity": 0.2
             }
            },
            "type": "barpolar"
           }
          ],
          "carpet": [
           {
            "aaxis": {
             "endlinecolor": "#2a3f5f",
             "gridcolor": "white",
             "linecolor": "white",
             "minorgridcolor": "white",
             "startlinecolor": "#2a3f5f"
            },
            "baxis": {
             "endlinecolor": "#2a3f5f",
             "gridcolor": "white",
             "linecolor": "white",
             "minorgridcolor": "white",
             "startlinecolor": "#2a3f5f"
            },
            "type": "carpet"
           }
          ],
          "choropleth": [
           {
            "colorbar": {
             "outlinewidth": 0,
             "ticks": ""
            },
            "type": "choropleth"
           }
          ],
          "contour": [
           {
            "colorbar": {
             "outlinewidth": 0,
             "ticks": ""
            },
            "colorscale": [
             [
              0,
              "#0d0887"
             ],
             [
              0.1111111111111111,
              "#46039f"
             ],
             [
              0.2222222222222222,
              "#7201a8"
             ],
             [
              0.3333333333333333,
              "#9c179e"
             ],
             [
              0.4444444444444444,
              "#bd3786"
             ],
             [
              0.5555555555555556,
              "#d8576b"
             ],
             [
              0.6666666666666666,
              "#ed7953"
             ],
             [
              0.7777777777777778,
              "#fb9f3a"
             ],
             [
              0.8888888888888888,
              "#fdca26"
             ],
             [
              1,
              "#f0f921"
             ]
            ],
            "type": "contour"
           }
          ],
          "contourcarpet": [
           {
            "colorbar": {
             "outlinewidth": 0,
             "ticks": ""
            },
            "type": "contourcarpet"
           }
          ],
          "heatmap": [
           {
            "colorbar": {
             "outlinewidth": 0,
             "ticks": ""
            },
            "colorscale": [
             [
              0,
              "#0d0887"
             ],
             [
              0.1111111111111111,
              "#46039f"
             ],
             [
              0.2222222222222222,
              "#7201a8"
             ],
             [
              0.3333333333333333,
              "#9c179e"
             ],
             [
              0.4444444444444444,
              "#bd3786"
             ],
             [
              0.5555555555555556,
              "#d8576b"
             ],
             [
              0.6666666666666666,
              "#ed7953"
             ],
             [
              0.7777777777777778,
              "#fb9f3a"
             ],
             [
              0.8888888888888888,
              "#fdca26"
             ],
             [
              1,
              "#f0f921"
             ]
            ],
            "type": "heatmap"
           }
          ],
          "heatmapgl": [
           {
            "colorbar": {
             "outlinewidth": 0,
             "ticks": ""
            },
            "colorscale": [
             [
              0,
              "#0d0887"
             ],
             [
              0.1111111111111111,
              "#46039f"
             ],
             [
              0.2222222222222222,
              "#7201a8"
             ],
             [
              0.3333333333333333,
              "#9c179e"
             ],
             [
              0.4444444444444444,
              "#bd3786"
             ],
             [
              0.5555555555555556,
              "#d8576b"
             ],
             [
              0.6666666666666666,
              "#ed7953"
             ],
             [
              0.7777777777777778,
              "#fb9f3a"
             ],
             [
              0.8888888888888888,
              "#fdca26"
             ],
             [
              1,
              "#f0f921"
             ]
            ],
            "type": "heatmapgl"
           }
          ],
          "histogram": [
           {
            "marker": {
             "pattern": {
              "fillmode": "overlay",
              "size": 10,
              "solidity": 0.2
             }
            },
            "type": "histogram"
           }
          ],
          "histogram2d": [
           {
            "colorbar": {
             "outlinewidth": 0,
             "ticks": ""
            },
            "colorscale": [
             [
              0,
              "#0d0887"
             ],
             [
              0.1111111111111111,
              "#46039f"
             ],
             [
              0.2222222222222222,
              "#7201a8"
             ],
             [
              0.3333333333333333,
              "#9c179e"
             ],
             [
              0.4444444444444444,
              "#bd3786"
             ],
             [
              0.5555555555555556,
              "#d8576b"
             ],
             [
              0.6666666666666666,
              "#ed7953"
             ],
             [
              0.7777777777777778,
              "#fb9f3a"
             ],
             [
              0.8888888888888888,
              "#fdca26"
             ],
             [
              1,
              "#f0f921"
             ]
            ],
            "type": "histogram2d"
           }
          ],
          "histogram2dcontour": [
           {
            "colorbar": {
             "outlinewidth": 0,
             "ticks": ""
            },
            "colorscale": [
             [
              0,
              "#0d0887"
             ],
             [
              0.1111111111111111,
              "#46039f"
             ],
             [
              0.2222222222222222,
              "#7201a8"
             ],
             [
              0.3333333333333333,
              "#9c179e"
             ],
             [
              0.4444444444444444,
              "#bd3786"
             ],
             [
              0.5555555555555556,
              "#d8576b"
             ],
             [
              0.6666666666666666,
              "#ed7953"
             ],
             [
              0.7777777777777778,
              "#fb9f3a"
             ],
             [
              0.8888888888888888,
              "#fdca26"
             ],
             [
              1,
              "#f0f921"
             ]
            ],
            "type": "histogram2dcontour"
           }
          ],
          "mesh3d": [
           {
            "colorbar": {
             "outlinewidth": 0,
             "ticks": ""
            },
            "type": "mesh3d"
           }
          ],
          "parcoords": [
           {
            "line": {
             "colorbar": {
              "outlinewidth": 0,
              "ticks": ""
             }
            },
            "type": "parcoords"
           }
          ],
          "pie": [
           {
            "automargin": true,
            "type": "pie"
           }
          ],
          "scatter": [
           {
            "fillpattern": {
             "fillmode": "overlay",
             "size": 10,
             "solidity": 0.2
            },
            "type": "scatter"
           }
          ],
          "scatter3d": [
           {
            "line": {
             "colorbar": {
              "outlinewidth": 0,
              "ticks": ""
             }
            },
            "marker": {
             "colorbar": {
              "outlinewidth": 0,
              "ticks": ""
             }
            },
            "type": "scatter3d"
           }
          ],
          "scattercarpet": [
           {
            "marker": {
             "colorbar": {
              "outlinewidth": 0,
              "ticks": ""
             }
            },
            "type": "scattercarpet"
           }
          ],
          "scattergeo": [
           {
            "marker": {
             "colorbar": {
              "outlinewidth": 0,
              "ticks": ""
             }
            },
            "type": "scattergeo"
           }
          ],
          "scattergl": [
           {
            "marker": {
             "colorbar": {
              "outlinewidth": 0,
              "ticks": ""
             }
            },
            "type": "scattergl"
           }
          ],
          "scattermapbox": [
           {
            "marker": {
             "colorbar": {
              "outlinewidth": 0,
              "ticks": ""
             }
            },
            "type": "scattermapbox"
           }
          ],
          "scatterpolar": [
           {
            "marker": {
             "colorbar": {
              "outlinewidth": 0,
              "ticks": ""
             }
            },
            "type": "scatterpolar"
           }
          ],
          "scatterpolargl": [
           {
            "marker": {
             "colorbar": {
              "outlinewidth": 0,
              "ticks": ""
             }
            },
            "type": "scatterpolargl"
           }
          ],
          "scatterternary": [
           {
            "marker": {
             "colorbar": {
              "outlinewidth": 0,
              "ticks": ""
             }
            },
            "type": "scatterternary"
           }
          ],
          "surface": [
           {
            "colorbar": {
             "outlinewidth": 0,
             "ticks": ""
            },
            "colorscale": [
             [
              0,
              "#0d0887"
             ],
             [
              0.1111111111111111,
              "#46039f"
             ],
             [
              0.2222222222222222,
              "#7201a8"
             ],
             [
              0.3333333333333333,
              "#9c179e"
             ],
             [
              0.4444444444444444,
              "#bd3786"
             ],
             [
              0.5555555555555556,
              "#d8576b"
             ],
             [
              0.6666666666666666,
              "#ed7953"
             ],
             [
              0.7777777777777778,
              "#fb9f3a"
             ],
             [
              0.8888888888888888,
              "#fdca26"
             ],
             [
              1,
              "#f0f921"
             ]
            ],
            "type": "surface"
           }
          ],
          "table": [
           {
            "cells": {
             "fill": {
              "color": "#EBF0F8"
             },
             "line": {
              "color": "white"
             }
            },
            "header": {
             "fill": {
              "color": "#C8D4E3"
             },
             "line": {
              "color": "white"
             }
            },
            "type": "table"
           }
          ]
         },
         "layout": {
          "annotationdefaults": {
           "arrowcolor": "#2a3f5f",
           "arrowhead": 0,
           "arrowwidth": 1
          },
          "autotypenumbers": "strict",
          "coloraxis": {
           "colorbar": {
            "outlinewidth": 0,
            "ticks": ""
           }
          },
          "colorscale": {
           "diverging": [
            [
             0,
             "#8e0152"
            ],
            [
             0.1,
             "#c51b7d"
            ],
            [
             0.2,
             "#de77ae"
            ],
            [
             0.3,
             "#f1b6da"
            ],
            [
             0.4,
             "#fde0ef"
            ],
            [
             0.5,
             "#f7f7f7"
            ],
            [
             0.6,
             "#e6f5d0"
            ],
            [
             0.7,
             "#b8e186"
            ],
            [
             0.8,
             "#7fbc41"
            ],
            [
             0.9,
             "#4d9221"
            ],
            [
             1,
             "#276419"
            ]
           ],
           "sequential": [
            [
             0,
             "#0d0887"
            ],
            [
             0.1111111111111111,
             "#46039f"
            ],
            [
             0.2222222222222222,
             "#7201a8"
            ],
            [
             0.3333333333333333,
             "#9c179e"
            ],
            [
             0.4444444444444444,
             "#bd3786"
            ],
            [
             0.5555555555555556,
             "#d8576b"
            ],
            [
             0.6666666666666666,
             "#ed7953"
            ],
            [
             0.7777777777777778,
             "#fb9f3a"
            ],
            [
             0.8888888888888888,
             "#fdca26"
            ],
            [
             1,
             "#f0f921"
            ]
           ],
           "sequentialminus": [
            [
             0,
             "#0d0887"
            ],
            [
             0.1111111111111111,
             "#46039f"
            ],
            [
             0.2222222222222222,
             "#7201a8"
            ],
            [
             0.3333333333333333,
             "#9c179e"
            ],
            [
             0.4444444444444444,
             "#bd3786"
            ],
            [
             0.5555555555555556,
             "#d8576b"
            ],
            [
             0.6666666666666666,
             "#ed7953"
            ],
            [
             0.7777777777777778,
             "#fb9f3a"
            ],
            [
             0.8888888888888888,
             "#fdca26"
            ],
            [
             1,
             "#f0f921"
            ]
           ]
          },
          "colorway": [
           "#636efa",
           "#EF553B",
           "#00cc96",
           "#ab63fa",
           "#FFA15A",
           "#19d3f3",
           "#FF6692",
           "#B6E880",
           "#FF97FF",
           "#FECB52"
          ],
          "font": {
           "color": "#2a3f5f"
          },
          "geo": {
           "bgcolor": "white",
           "lakecolor": "white",
           "landcolor": "#E5ECF6",
           "showlakes": true,
           "showland": true,
           "subunitcolor": "white"
          },
          "hoverlabel": {
           "align": "left"
          },
          "hovermode": "closest",
          "mapbox": {
           "style": "light"
          },
          "paper_bgcolor": "white",
          "plot_bgcolor": "#E5ECF6",
          "polar": {
           "angularaxis": {
            "gridcolor": "white",
            "linecolor": "white",
            "ticks": ""
           },
           "bgcolor": "#E5ECF6",
           "radialaxis": {
            "gridcolor": "white",
            "linecolor": "white",
            "ticks": ""
           }
          },
          "scene": {
           "xaxis": {
            "backgroundcolor": "#E5ECF6",
            "gridcolor": "white",
            "gridwidth": 2,
            "linecolor": "white",
            "showbackground": true,
            "ticks": "",
            "zerolinecolor": "white"
           },
           "yaxis": {
            "backgroundcolor": "#E5ECF6",
            "gridcolor": "white",
            "gridwidth": 2,
            "linecolor": "white",
            "showbackground": true,
            "ticks": "",
            "zerolinecolor": "white"
           },
           "zaxis": {
            "backgroundcolor": "#E5ECF6",
            "gridcolor": "white",
            "gridwidth": 2,
            "linecolor": "white",
            "showbackground": true,
            "ticks": "",
            "zerolinecolor": "white"
           }
          },
          "shapedefaults": {
           "line": {
            "color": "#2a3f5f"
           }
          },
          "ternary": {
           "aaxis": {
            "gridcolor": "white",
            "linecolor": "white",
            "ticks": ""
           },
           "baxis": {
            "gridcolor": "white",
            "linecolor": "white",
            "ticks": ""
           },
           "bgcolor": "#E5ECF6",
           "caxis": {
            "gridcolor": "white",
            "linecolor": "white",
            "ticks": ""
           }
          },
          "title": {
           "x": 0.05
          },
          "xaxis": {
           "automargin": true,
           "gridcolor": "white",
           "linecolor": "white",
           "ticks": "",
           "title": {
            "standoff": 15
           },
           "zerolinecolor": "white",
           "zerolinewidth": 2
          },
          "yaxis": {
           "automargin": true,
           "gridcolor": "white",
           "linecolor": "white",
           "ticks": "",
           "title": {
            "standoff": 15
           },
           "zerolinecolor": "white",
           "zerolinewidth": 2
          }
         }
        },
        "title": {
         "text": "Total de Gotas Cortadas por Mês"
        },
        "xaxis": {
         "anchor": "y",
         "domain": [
          0,
          1
         ],
         "title": {
          "text": "Mês"
         }
        },
        "yaxis": {
         "anchor": "x",
         "domain": [
          0,
          1
         ],
         "title": {
          "text": "Total de Gotas Cortadas"
         }
        }
       }
      }
     },
     "metadata": {},
     "output_type": "display_data"
    }
   ],
   "source": [
    "fig = px.bar(total_mensal_gotas, \n",
    "             x=total_mensal_gotas.index, \n",
    "             y='Gotas cortadas (toneladas)', \n",
    "             title='Total de Gotas Cortadas por Mês', \n",
    "             labels={'Mês': 'Mês', 'Gotas cortadas (toneladas)': 'Total de Gotas Cortadas'},\n",
    "             color='Gotas cortadas (toneladas)')\n",
    "\n",
    "fig.show()"
   ]
  },
  {
   "cell_type": "markdown",
   "metadata": {},
   "source": [
    "# Agrupando somente por Ordem de Produção"
   ]
  },
  {
   "cell_type": "markdown",
   "metadata": {},
   "source": [
    "## Médias"
   ]
  },
  {
   "cell_type": "code",
   "execution_count": 55,
   "metadata": {},
   "outputs": [
    {
     "data": {
      "text/html": [
       "<div>\n",
       "<style scoped>\n",
       "    .dataframe tbody tr th:only-of-type {\n",
       "        vertical-align: middle;\n",
       "    }\n",
       "\n",
       "    .dataframe tbody tr th {\n",
       "        vertical-align: top;\n",
       "    }\n",
       "\n",
       "    .dataframe thead th {\n",
       "        text-align: right;\n",
       "    }\n",
       "</style>\n",
       "<table border=\"1\" class=\"dataframe\">\n",
       "  <thead>\n",
       "    <tr style=\"text-align: right;\">\n",
       "      <th></th>\n",
       "      <th>Gotas cortadas (toneladas)</th>\n",
       "      <th>Peso médio (Kg)</th>\n",
       "      <th>Cortes por minuto</th>\n",
       "      <th>Comprimento médio (mm)</th>\n",
       "      <th>Diâmetro</th>\n",
       "      <th>Temperatura (F°)</th>\n",
       "      <th>Tras-PV (F°)</th>\n",
       "      <th>Fritas-PV (F°)</th>\n",
       "      <th>Agit-PV (F°)</th>\n",
       "      <th>Meio-PV (F°)</th>\n",
       "      <th>Frente-PV (F°)</th>\n",
       "    </tr>\n",
       "    <tr>\n",
       "      <th>Ordem de prod</th>\n",
       "      <th></th>\n",
       "      <th></th>\n",
       "      <th></th>\n",
       "      <th></th>\n",
       "      <th></th>\n",
       "      <th></th>\n",
       "      <th></th>\n",
       "      <th></th>\n",
       "      <th></th>\n",
       "      <th></th>\n",
       "      <th></th>\n",
       "    </tr>\n",
       "  </thead>\n",
       "  <tbody>\n",
       "    <tr>\n",
       "      <th>192970</th>\n",
       "      <td>19.865</td>\n",
       "      <td>169.91</td>\n",
       "      <td>87.33</td>\n",
       "      <td>125.51</td>\n",
       "      <td>30.97</td>\n",
       "      <td>2662.56</td>\n",
       "      <td>2348.88</td>\n",
       "      <td>2300.30</td>\n",
       "      <td>2250.90</td>\n",
       "      <td>2208.07</td>\n",
       "      <td>2176.10</td>\n",
       "    </tr>\n",
       "    <tr>\n",
       "      <th>193112</th>\n",
       "      <td>14.911</td>\n",
       "      <td>168.17</td>\n",
       "      <td>90.00</td>\n",
       "      <td>88.73</td>\n",
       "      <td>38.57</td>\n",
       "      <td>2205.86</td>\n",
       "      <td>2327.03</td>\n",
       "      <td>2307.63</td>\n",
       "      <td>2272.97</td>\n",
       "      <td>2246.77</td>\n",
       "      <td>2196.60</td>\n",
       "    </tr>\n",
       "    <tr>\n",
       "      <th>193164</th>\n",
       "      <td>19.677</td>\n",
       "      <td>147.47</td>\n",
       "      <td>95.24</td>\n",
       "      <td>100.12</td>\n",
       "      <td>35.43</td>\n",
       "      <td>1744.15</td>\n",
       "      <td>2350.00</td>\n",
       "      <td>2299.89</td>\n",
       "      <td>2246.67</td>\n",
       "      <td>2201.89</td>\n",
       "      <td>2173.90</td>\n",
       "    </tr>\n",
       "    <tr>\n",
       "      <th>193206</th>\n",
       "      <td>18.578</td>\n",
       "      <td>171.15</td>\n",
       "      <td>89.35</td>\n",
       "      <td>90.40</td>\n",
       "      <td>36.88</td>\n",
       "      <td>2284.43</td>\n",
       "      <td>2315.75</td>\n",
       "      <td>2322.15</td>\n",
       "      <td>2280.57</td>\n",
       "      <td>2258.52</td>\n",
       "      <td>2179.75</td>\n",
       "    </tr>\n",
       "    <tr>\n",
       "      <th>193207</th>\n",
       "      <td>13.691</td>\n",
       "      <td>170.87</td>\n",
       "      <td>59.98</td>\n",
       "      <td>98.23</td>\n",
       "      <td>36.56</td>\n",
       "      <td>2238.91</td>\n",
       "      <td>2348.35</td>\n",
       "      <td>2329.33</td>\n",
       "      <td>2298.58</td>\n",
       "      <td>2247.09</td>\n",
       "      <td>2160.38</td>\n",
       "    </tr>\n",
       "    <tr>\n",
       "      <th>193208</th>\n",
       "      <td>9.872</td>\n",
       "      <td>122.10</td>\n",
       "      <td>82.40</td>\n",
       "      <td>61.00</td>\n",
       "      <td>27.45</td>\n",
       "      <td>2179.31</td>\n",
       "      <td>2350.00</td>\n",
       "      <td>2306.35</td>\n",
       "      <td>2287.45</td>\n",
       "      <td>2257.50</td>\n",
       "      <td>2200.90</td>\n",
       "    </tr>\n",
       "    <tr>\n",
       "      <th>193209</th>\n",
       "      <td>17.402</td>\n",
       "      <td>191.36</td>\n",
       "      <td>78.00</td>\n",
       "      <td>44.37</td>\n",
       "      <td>12.19</td>\n",
       "      <td>2012.13</td>\n",
       "      <td>2342.77</td>\n",
       "      <td>2294.00</td>\n",
       "      <td>2254.57</td>\n",
       "      <td>2231.21</td>\n",
       "      <td>2164.76</td>\n",
       "    </tr>\n",
       "    <tr>\n",
       "      <th>193342</th>\n",
       "      <td>20.438</td>\n",
       "      <td>169.96</td>\n",
       "      <td>88.08</td>\n",
       "      <td>114.87</td>\n",
       "      <td>33.44</td>\n",
       "      <td>1895.29</td>\n",
       "      <td>2338.96</td>\n",
       "      <td>2301.08</td>\n",
       "      <td>2241.66</td>\n",
       "      <td>2211.40</td>\n",
       "      <td>2171.24</td>\n",
       "    </tr>\n",
       "    <tr>\n",
       "      <th>193368</th>\n",
       "      <td>21.095</td>\n",
       "      <td>171.59</td>\n",
       "      <td>99.04</td>\n",
       "      <td>77.51</td>\n",
       "      <td>33.83</td>\n",
       "      <td>2077.62</td>\n",
       "      <td>2314.71</td>\n",
       "      <td>2292.40</td>\n",
       "      <td>2259.54</td>\n",
       "      <td>2231.44</td>\n",
       "      <td>2182.84</td>\n",
       "    </tr>\n",
       "    <tr>\n",
       "      <th>193459</th>\n",
       "      <td>12.529</td>\n",
       "      <td>190.83</td>\n",
       "      <td>60.23</td>\n",
       "      <td>96.67</td>\n",
       "      <td>37.57</td>\n",
       "      <td>1342.28</td>\n",
       "      <td>2358.63</td>\n",
       "      <td>2326.43</td>\n",
       "      <td>2283.10</td>\n",
       "      <td>2252.13</td>\n",
       "      <td>2177.00</td>\n",
       "    </tr>\n",
       "    <tr>\n",
       "      <th>193462</th>\n",
       "      <td>18.197</td>\n",
       "      <td>172.44</td>\n",
       "      <td>89.48</td>\n",
       "      <td>86.08</td>\n",
       "      <td>40.20</td>\n",
       "      <td>2194.16</td>\n",
       "      <td>2338.72</td>\n",
       "      <td>2305.72</td>\n",
       "      <td>2275.56</td>\n",
       "      <td>2234.28</td>\n",
       "      <td>2202.86</td>\n",
       "    </tr>\n",
       "    <tr>\n",
       "      <th>193463</th>\n",
       "      <td>13.674</td>\n",
       "      <td>172.20</td>\n",
       "      <td>59.84</td>\n",
       "      <td>93.64</td>\n",
       "      <td>38.75</td>\n",
       "      <td>2202.85</td>\n",
       "      <td>2364.78</td>\n",
       "      <td>2329.70</td>\n",
       "      <td>2299.88</td>\n",
       "      <td>2269.14</td>\n",
       "      <td>2204.40</td>\n",
       "    </tr>\n",
       "    <tr>\n",
       "      <th>193533</th>\n",
       "      <td>20.996</td>\n",
       "      <td>196.69</td>\n",
       "      <td>88.09</td>\n",
       "      <td>97.51</td>\n",
       "      <td>38.26</td>\n",
       "      <td>2141.20</td>\n",
       "      <td>2333.10</td>\n",
       "      <td>2295.04</td>\n",
       "      <td>2255.01</td>\n",
       "      <td>2212.38</td>\n",
       "      <td>2173.24</td>\n",
       "    </tr>\n",
       "    <tr>\n",
       "      <th>193535</th>\n",
       "      <td>16.004</td>\n",
       "      <td>116.43</td>\n",
       "      <td>123.07</td>\n",
       "      <td>84.00</td>\n",
       "      <td>33.60</td>\n",
       "      <td>2057.48</td>\n",
       "      <td>2341.03</td>\n",
       "      <td>2306.53</td>\n",
       "      <td>2286.80</td>\n",
       "      <td>2247.90</td>\n",
       "      <td>2175.50</td>\n",
       "    </tr>\n",
       "    <tr>\n",
       "      <th>193537</th>\n",
       "      <td>16.929</td>\n",
       "      <td>173.90</td>\n",
       "      <td>96.57</td>\n",
       "      <td>81.03</td>\n",
       "      <td>39.53</td>\n",
       "      <td>1984.10</td>\n",
       "      <td>2359.90</td>\n",
       "      <td>2326.77</td>\n",
       "      <td>2288.10</td>\n",
       "      <td>2262.93</td>\n",
       "      <td>2196.30</td>\n",
       "    </tr>\n",
       "    <tr>\n",
       "      <th>193594</th>\n",
       "      <td>18.378</td>\n",
       "      <td>171.81</td>\n",
       "      <td>79.66</td>\n",
       "      <td>90.74</td>\n",
       "      <td>39.30</td>\n",
       "      <td>2032.16</td>\n",
       "      <td>2321.27</td>\n",
       "      <td>2280.41</td>\n",
       "      <td>2250.60</td>\n",
       "      <td>2221.94</td>\n",
       "      <td>2180.37</td>\n",
       "    </tr>\n",
       "    <tr>\n",
       "      <th>193619</th>\n",
       "      <td>21.523</td>\n",
       "      <td>192.58</td>\n",
       "      <td>88.00</td>\n",
       "      <td>97.54</td>\n",
       "      <td>39.26</td>\n",
       "      <td>2030.76</td>\n",
       "      <td>2359.94</td>\n",
       "      <td>2320.22</td>\n",
       "      <td>2280.00</td>\n",
       "      <td>2226.32</td>\n",
       "      <td>2176.36</td>\n",
       "    </tr>\n",
       "    <tr>\n",
       "      <th>193671</th>\n",
       "      <td>11.756</td>\n",
       "      <td>193.02</td>\n",
       "      <td>60.00</td>\n",
       "      <td>98.28</td>\n",
       "      <td>38.17</td>\n",
       "      <td>2313.82</td>\n",
       "      <td>2358.70</td>\n",
       "      <td>2321.48</td>\n",
       "      <td>2274.07</td>\n",
       "      <td>2224.68</td>\n",
       "      <td>2175.52</td>\n",
       "    </tr>\n",
       "    <tr>\n",
       "      <th>193686</th>\n",
       "      <td>13.240</td>\n",
       "      <td>124.10</td>\n",
       "      <td>105.03</td>\n",
       "      <td>63.90</td>\n",
       "      <td>32.33</td>\n",
       "      <td>2113.88</td>\n",
       "      <td>2330.17</td>\n",
       "      <td>2300.37</td>\n",
       "      <td>2263.37</td>\n",
       "      <td>2225.07</td>\n",
       "      <td>2170.47</td>\n",
       "    </tr>\n",
       "    <tr>\n",
       "      <th>193688</th>\n",
       "      <td>13.908</td>\n",
       "      <td>202.47</td>\n",
       "      <td>70.83</td>\n",
       "      <td>76.57</td>\n",
       "      <td>38.13</td>\n",
       "      <td>2201.90</td>\n",
       "      <td>2330.00</td>\n",
       "      <td>2277.00</td>\n",
       "      <td>2244.63</td>\n",
       "      <td>2200.63</td>\n",
       "      <td>2158.10</td>\n",
       "    </tr>\n",
       "    <tr>\n",
       "      <th>193689</th>\n",
       "      <td>15.638</td>\n",
       "      <td>161.77</td>\n",
       "      <td>103.17</td>\n",
       "      <td>97.67</td>\n",
       "      <td>34.13</td>\n",
       "      <td>2018.12</td>\n",
       "      <td>2330.00</td>\n",
       "      <td>2302.03</td>\n",
       "      <td>2268.77</td>\n",
       "      <td>2227.73</td>\n",
       "      <td>2174.40</td>\n",
       "    </tr>\n",
       "    <tr>\n",
       "      <th>193692</th>\n",
       "      <td>14.500</td>\n",
       "      <td>158.03</td>\n",
       "      <td>94.40</td>\n",
       "      <td>89.23</td>\n",
       "      <td>36.70</td>\n",
       "      <td>2029.82</td>\n",
       "      <td>2349.87</td>\n",
       "      <td>2310.00</td>\n",
       "      <td>2290.00</td>\n",
       "      <td>2261.80</td>\n",
       "      <td>2203.70</td>\n",
       "    </tr>\n",
       "    <tr>\n",
       "      <th>193694</th>\n",
       "      <td>18.154</td>\n",
       "      <td>151.22</td>\n",
       "      <td>99.60</td>\n",
       "      <td>88.16</td>\n",
       "      <td>37.24</td>\n",
       "      <td>2080.40</td>\n",
       "      <td>2349.92</td>\n",
       "      <td>2310.00</td>\n",
       "      <td>2288.72</td>\n",
       "      <td>2263.38</td>\n",
       "      <td>2209.28</td>\n",
       "    </tr>\n",
       "    <tr>\n",
       "      <th>193782</th>\n",
       "      <td>17.014</td>\n",
       "      <td>132.28</td>\n",
       "      <td>99.25</td>\n",
       "      <td>73.79</td>\n",
       "      <td>38.35</td>\n",
       "      <td>1805.33</td>\n",
       "      <td>2369.95</td>\n",
       "      <td>2333.38</td>\n",
       "      <td>2286.45</td>\n",
       "      <td>2239.84</td>\n",
       "      <td>2198.94</td>\n",
       "    </tr>\n",
       "    <tr>\n",
       "      <th>193783</th>\n",
       "      <td>20.045</td>\n",
       "      <td>188.67</td>\n",
       "      <td>95.53</td>\n",
       "      <td>107.80</td>\n",
       "      <td>35.67</td>\n",
       "      <td>2007.62</td>\n",
       "      <td>2355.73</td>\n",
       "      <td>2315.93</td>\n",
       "      <td>2280.43</td>\n",
       "      <td>2247.77</td>\n",
       "      <td>2196.70</td>\n",
       "    </tr>\n",
       "    <tr>\n",
       "      <th>193784</th>\n",
       "      <td>17.378</td>\n",
       "      <td>174.43</td>\n",
       "      <td>75.55</td>\n",
       "      <td>92.07</td>\n",
       "      <td>39.18</td>\n",
       "      <td>1922.54</td>\n",
       "      <td>2377.69</td>\n",
       "      <td>2314.29</td>\n",
       "      <td>2270.44</td>\n",
       "      <td>2240.39</td>\n",
       "      <td>2180.36</td>\n",
       "    </tr>\n",
       "    <tr>\n",
       "      <th>193852</th>\n",
       "      <td>17.225</td>\n",
       "      <td>198.52</td>\n",
       "      <td>73.34</td>\n",
       "      <td>91.56</td>\n",
       "      <td>39.16</td>\n",
       "      <td>1621.87</td>\n",
       "      <td>2333.50</td>\n",
       "      <td>2287.56</td>\n",
       "      <td>2247.74</td>\n",
       "      <td>2206.28</td>\n",
       "      <td>2157.78</td>\n",
       "    </tr>\n",
       "    <tr>\n",
       "      <th>193882</th>\n",
       "      <td>19.104</td>\n",
       "      <td>136.54</td>\n",
       "      <td>109.60</td>\n",
       "      <td>75.85</td>\n",
       "      <td>37.52</td>\n",
       "      <td>2112.17</td>\n",
       "      <td>2349.11</td>\n",
       "      <td>2318.26</td>\n",
       "      <td>2275.75</td>\n",
       "      <td>2228.84</td>\n",
       "      <td>2176.24</td>\n",
       "    </tr>\n",
       "    <tr>\n",
       "      <th>193937</th>\n",
       "      <td>15.848</td>\n",
       "      <td>173.13</td>\n",
       "      <td>86.37</td>\n",
       "      <td>95.77</td>\n",
       "      <td>36.07</td>\n",
       "      <td>1942.46</td>\n",
       "      <td>2336.07</td>\n",
       "      <td>2304.97</td>\n",
       "      <td>2263.63</td>\n",
       "      <td>2218.07</td>\n",
       "      <td>2175.20</td>\n",
       "    </tr>\n",
       "    <tr>\n",
       "      <th>193972</th>\n",
       "      <td>22.299</td>\n",
       "      <td>173.95</td>\n",
       "      <td>100.00</td>\n",
       "      <td>74.00</td>\n",
       "      <td>38.05</td>\n",
       "      <td>2113.52</td>\n",
       "      <td>2360.00</td>\n",
       "      <td>2330.00</td>\n",
       "      <td>2285.05</td>\n",
       "      <td>2230.80</td>\n",
       "      <td>2181.65</td>\n",
       "    </tr>\n",
       "    <tr>\n",
       "      <th>193973</th>\n",
       "      <td>23.127</td>\n",
       "      <td>196.38</td>\n",
       "      <td>88.48</td>\n",
       "      <td>105.38</td>\n",
       "      <td>37.65</td>\n",
       "      <td>1983.96</td>\n",
       "      <td>2331.57</td>\n",
       "      <td>2301.50</td>\n",
       "      <td>2265.00</td>\n",
       "      <td>2212.50</td>\n",
       "      <td>2170.82</td>\n",
       "    </tr>\n",
       "    <tr>\n",
       "      <th>194029</th>\n",
       "      <td>20.314</td>\n",
       "      <td>180.00</td>\n",
       "      <td>91.20</td>\n",
       "      <td>101.78</td>\n",
       "      <td>37.67</td>\n",
       "      <td>1943.02</td>\n",
       "      <td>2323.45</td>\n",
       "      <td>2301.85</td>\n",
       "      <td>2253.30</td>\n",
       "      <td>2232.05</td>\n",
       "      <td>2171.78</td>\n",
       "    </tr>\n",
       "    <tr>\n",
       "      <th>194057</th>\n",
       "      <td>22.080</td>\n",
       "      <td>169.20</td>\n",
       "      <td>89.93</td>\n",
       "      <td>62.87</td>\n",
       "      <td>32.53</td>\n",
       "      <td>2465.90</td>\n",
       "      <td>2296.70</td>\n",
       "      <td>2297.10</td>\n",
       "      <td>2248.10</td>\n",
       "      <td>2259.53</td>\n",
       "      <td>2159.30</td>\n",
       "    </tr>\n",
       "    <tr>\n",
       "      <th>194113</th>\n",
       "      <td>12.375</td>\n",
       "      <td>121.27</td>\n",
       "      <td>103.13</td>\n",
       "      <td>76.40</td>\n",
       "      <td>32.50</td>\n",
       "      <td>1503.20</td>\n",
       "      <td>2360.73</td>\n",
       "      <td>2341.40</td>\n",
       "      <td>2271.50</td>\n",
       "      <td>2245.03</td>\n",
       "      <td>2209.13</td>\n",
       "    </tr>\n",
       "    <tr>\n",
       "      <th>194121</th>\n",
       "      <td>21.171</td>\n",
       "      <td>168.88</td>\n",
       "      <td>88.23</td>\n",
       "      <td>117.33</td>\n",
       "      <td>33.37</td>\n",
       "      <td>2042.30</td>\n",
       "      <td>2341.92</td>\n",
       "      <td>2302.85</td>\n",
       "      <td>2264.93</td>\n",
       "      <td>2224.93</td>\n",
       "      <td>2188.82</td>\n",
       "    </tr>\n",
       "  </tbody>\n",
       "</table>\n",
       "</div>"
      ],
      "text/plain": [
       "               Gotas cortadas (toneladas)  Peso médio (Kg)  Cortes por minuto  \\\n",
       "Ordem de prod                                                                   \n",
       "192970                             19.865           169.91              87.33   \n",
       "193112                             14.911           168.17              90.00   \n",
       "193164                             19.677           147.47              95.24   \n",
       "193206                             18.578           171.15              89.35   \n",
       "193207                             13.691           170.87              59.98   \n",
       "193208                              9.872           122.10              82.40   \n",
       "193209                             17.402           191.36              78.00   \n",
       "193342                             20.438           169.96              88.08   \n",
       "193368                             21.095           171.59              99.04   \n",
       "193459                             12.529           190.83              60.23   \n",
       "193462                             18.197           172.44              89.48   \n",
       "193463                             13.674           172.20              59.84   \n",
       "193533                             20.996           196.69              88.09   \n",
       "193535                             16.004           116.43             123.07   \n",
       "193537                             16.929           173.90              96.57   \n",
       "193594                             18.378           171.81              79.66   \n",
       "193619                             21.523           192.58              88.00   \n",
       "193671                             11.756           193.02              60.00   \n",
       "193686                             13.240           124.10             105.03   \n",
       "193688                             13.908           202.47              70.83   \n",
       "193689                             15.638           161.77             103.17   \n",
       "193692                             14.500           158.03              94.40   \n",
       "193694                             18.154           151.22              99.60   \n",
       "193782                             17.014           132.28              99.25   \n",
       "193783                             20.045           188.67              95.53   \n",
       "193784                             17.378           174.43              75.55   \n",
       "193852                             17.225           198.52              73.34   \n",
       "193882                             19.104           136.54             109.60   \n",
       "193937                             15.848           173.13              86.37   \n",
       "193972                             22.299           173.95             100.00   \n",
       "193973                             23.127           196.38              88.48   \n",
       "194029                             20.314           180.00              91.20   \n",
       "194057                             22.080           169.20              89.93   \n",
       "194113                             12.375           121.27             103.13   \n",
       "194121                             21.171           168.88              88.23   \n",
       "\n",
       "               Comprimento médio (mm)  Diâmetro  Temperatura (F°)  \\\n",
       "Ordem de prod                                                       \n",
       "192970                         125.51     30.97           2662.56   \n",
       "193112                          88.73     38.57           2205.86   \n",
       "193164                         100.12     35.43           1744.15   \n",
       "193206                          90.40     36.88           2284.43   \n",
       "193207                          98.23     36.56           2238.91   \n",
       "193208                          61.00     27.45           2179.31   \n",
       "193209                          44.37     12.19           2012.13   \n",
       "193342                         114.87     33.44           1895.29   \n",
       "193368                          77.51     33.83           2077.62   \n",
       "193459                          96.67     37.57           1342.28   \n",
       "193462                          86.08     40.20           2194.16   \n",
       "193463                          93.64     38.75           2202.85   \n",
       "193533                          97.51     38.26           2141.20   \n",
       "193535                          84.00     33.60           2057.48   \n",
       "193537                          81.03     39.53           1984.10   \n",
       "193594                          90.74     39.30           2032.16   \n",
       "193619                          97.54     39.26           2030.76   \n",
       "193671                          98.28     38.17           2313.82   \n",
       "193686                          63.90     32.33           2113.88   \n",
       "193688                          76.57     38.13           2201.90   \n",
       "193689                          97.67     34.13           2018.12   \n",
       "193692                          89.23     36.70           2029.82   \n",
       "193694                          88.16     37.24           2080.40   \n",
       "193782                          73.79     38.35           1805.33   \n",
       "193783                         107.80     35.67           2007.62   \n",
       "193784                          92.07     39.18           1922.54   \n",
       "193852                          91.56     39.16           1621.87   \n",
       "193882                          75.85     37.52           2112.17   \n",
       "193937                          95.77     36.07           1942.46   \n",
       "193972                          74.00     38.05           2113.52   \n",
       "193973                         105.38     37.65           1983.96   \n",
       "194029                         101.78     37.67           1943.02   \n",
       "194057                          62.87     32.53           2465.90   \n",
       "194113                          76.40     32.50           1503.20   \n",
       "194121                         117.33     33.37           2042.30   \n",
       "\n",
       "               Tras-PV (F°)  Fritas-PV (F°)  Agit-PV (F°)  Meio-PV (F°)  \\\n",
       "Ordem de prod                                                             \n",
       "192970              2348.88         2300.30       2250.90       2208.07   \n",
       "193112              2327.03         2307.63       2272.97       2246.77   \n",
       "193164              2350.00         2299.89       2246.67       2201.89   \n",
       "193206              2315.75         2322.15       2280.57       2258.52   \n",
       "193207              2348.35         2329.33       2298.58       2247.09   \n",
       "193208              2350.00         2306.35       2287.45       2257.50   \n",
       "193209              2342.77         2294.00       2254.57       2231.21   \n",
       "193342              2338.96         2301.08       2241.66       2211.40   \n",
       "193368              2314.71         2292.40       2259.54       2231.44   \n",
       "193459              2358.63         2326.43       2283.10       2252.13   \n",
       "193462              2338.72         2305.72       2275.56       2234.28   \n",
       "193463              2364.78         2329.70       2299.88       2269.14   \n",
       "193533              2333.10         2295.04       2255.01       2212.38   \n",
       "193535              2341.03         2306.53       2286.80       2247.90   \n",
       "193537              2359.90         2326.77       2288.10       2262.93   \n",
       "193594              2321.27         2280.41       2250.60       2221.94   \n",
       "193619              2359.94         2320.22       2280.00       2226.32   \n",
       "193671              2358.70         2321.48       2274.07       2224.68   \n",
       "193686              2330.17         2300.37       2263.37       2225.07   \n",
       "193688              2330.00         2277.00       2244.63       2200.63   \n",
       "193689              2330.00         2302.03       2268.77       2227.73   \n",
       "193692              2349.87         2310.00       2290.00       2261.80   \n",
       "193694              2349.92         2310.00       2288.72       2263.38   \n",
       "193782              2369.95         2333.38       2286.45       2239.84   \n",
       "193783              2355.73         2315.93       2280.43       2247.77   \n",
       "193784              2377.69         2314.29       2270.44       2240.39   \n",
       "193852              2333.50         2287.56       2247.74       2206.28   \n",
       "193882              2349.11         2318.26       2275.75       2228.84   \n",
       "193937              2336.07         2304.97       2263.63       2218.07   \n",
       "193972              2360.00         2330.00       2285.05       2230.80   \n",
       "193973              2331.57         2301.50       2265.00       2212.50   \n",
       "194029              2323.45         2301.85       2253.30       2232.05   \n",
       "194057              2296.70         2297.10       2248.10       2259.53   \n",
       "194113              2360.73         2341.40       2271.50       2245.03   \n",
       "194121              2341.92         2302.85       2264.93       2224.93   \n",
       "\n",
       "               Frente-PV (F°)  \n",
       "Ordem de prod                  \n",
       "192970                2176.10  \n",
       "193112                2196.60  \n",
       "193164                2173.90  \n",
       "193206                2179.75  \n",
       "193207                2160.38  \n",
       "193208                2200.90  \n",
       "193209                2164.76  \n",
       "193342                2171.24  \n",
       "193368                2182.84  \n",
       "193459                2177.00  \n",
       "193462                2202.86  \n",
       "193463                2204.40  \n",
       "193533                2173.24  \n",
       "193535                2175.50  \n",
       "193537                2196.30  \n",
       "193594                2180.37  \n",
       "193619                2176.36  \n",
       "193671                2175.52  \n",
       "193686                2170.47  \n",
       "193688                2158.10  \n",
       "193689                2174.40  \n",
       "193692                2203.70  \n",
       "193694                2209.28  \n",
       "193782                2198.94  \n",
       "193783                2196.70  \n",
       "193784                2180.36  \n",
       "193852                2157.78  \n",
       "193882                2176.24  \n",
       "193937                2175.20  \n",
       "193972                2181.65  \n",
       "193973                2170.82  \n",
       "194029                2171.78  \n",
       "194057                2159.30  \n",
       "194113                2209.13  \n",
       "194121                2188.82  "
      ]
     },
     "execution_count": 55,
     "metadata": {},
     "output_type": "execute_result"
    }
   ],
   "source": [
    "media_ordem = df_valores_mensais.groupby('Ordem de prod')[colunas_numericas].mean()\n",
    "\n",
    "media_ordem.iloc[:, 0] = media_ordem.iloc[:, 0].round(3)\n",
    "\n",
    "media_ordem.iloc[:, 1:] = media_ordem.iloc[:, 1:].round(2)\n",
    "\n",
    "media_ordem"
   ]
  },
  {
   "cell_type": "markdown",
   "metadata": {},
   "source": [
    "## Totais"
   ]
  },
  {
   "cell_type": "code",
   "execution_count": 56,
   "metadata": {},
   "outputs": [
    {
     "data": {
      "text/html": [
       "<div>\n",
       "<style scoped>\n",
       "    .dataframe tbody tr th:only-of-type {\n",
       "        vertical-align: middle;\n",
       "    }\n",
       "\n",
       "    .dataframe tbody tr th {\n",
       "        vertical-align: top;\n",
       "    }\n",
       "\n",
       "    .dataframe thead th {\n",
       "        text-align: right;\n",
       "    }\n",
       "</style>\n",
       "<table border=\"1\" class=\"dataframe\">\n",
       "  <thead>\n",
       "    <tr style=\"text-align: right;\">\n",
       "      <th></th>\n",
       "      <th>Gotas cortadas (toneladas)</th>\n",
       "    </tr>\n",
       "    <tr>\n",
       "      <th>Ordem de prod</th>\n",
       "      <th></th>\n",
       "    </tr>\n",
       "  </thead>\n",
       "  <tbody>\n",
       "    <tr>\n",
       "      <th>193342</th>\n",
       "      <td>408.756</td>\n",
       "    </tr>\n",
       "    <tr>\n",
       "      <th>193164</th>\n",
       "      <td>236.125</td>\n",
       "    </tr>\n",
       "    <tr>\n",
       "      <th>193784</th>\n",
       "      <td>191.157</td>\n",
       "    </tr>\n",
       "    <tr>\n",
       "      <th>193782</th>\n",
       "      <td>187.151</td>\n",
       "    </tr>\n",
       "    <tr>\n",
       "      <th>192970</th>\n",
       "      <td>178.787</td>\n",
       "    </tr>\n",
       "    <tr>\n",
       "      <th>193533</th>\n",
       "      <td>167.971</td>\n",
       "    </tr>\n",
       "    <tr>\n",
       "      <th>193882</th>\n",
       "      <td>152.828</td>\n",
       "    </tr>\n",
       "    <tr>\n",
       "      <th>193368</th>\n",
       "      <td>147.662</td>\n",
       "    </tr>\n",
       "    <tr>\n",
       "      <th>193207</th>\n",
       "      <td>136.914</td>\n",
       "    </tr>\n",
       "    <tr>\n",
       "      <th>193594</th>\n",
       "      <td>128.649</td>\n",
       "    </tr>\n",
       "    <tr>\n",
       "      <th>194121</th>\n",
       "      <td>127.026</td>\n",
       "    </tr>\n",
       "    <tr>\n",
       "      <th>193209</th>\n",
       "      <td>121.813</td>\n",
       "    </tr>\n",
       "    <tr>\n",
       "      <th>193463</th>\n",
       "      <td>109.396</td>\n",
       "    </tr>\n",
       "    <tr>\n",
       "      <th>193619</th>\n",
       "      <td>107.617</td>\n",
       "    </tr>\n",
       "    <tr>\n",
       "      <th>193973</th>\n",
       "      <td>92.506</td>\n",
       "    </tr>\n",
       "    <tr>\n",
       "      <th>193462</th>\n",
       "      <td>90.983</td>\n",
       "    </tr>\n",
       "    <tr>\n",
       "      <th>193694</th>\n",
       "      <td>90.768</td>\n",
       "    </tr>\n",
       "    <tr>\n",
       "      <th>193852</th>\n",
       "      <td>86.126</td>\n",
       "    </tr>\n",
       "    <tr>\n",
       "      <th>194029</th>\n",
       "      <td>81.256</td>\n",
       "    </tr>\n",
       "    <tr>\n",
       "      <th>193206</th>\n",
       "      <td>74.312</td>\n",
       "    </tr>\n",
       "    <tr>\n",
       "      <th>194057</th>\n",
       "      <td>66.240</td>\n",
       "    </tr>\n",
       "    <tr>\n",
       "      <th>193783</th>\n",
       "      <td>60.136</td>\n",
       "    </tr>\n",
       "    <tr>\n",
       "      <th>193537</th>\n",
       "      <td>50.788</td>\n",
       "    </tr>\n",
       "    <tr>\n",
       "      <th>193535</th>\n",
       "      <td>48.013</td>\n",
       "    </tr>\n",
       "    <tr>\n",
       "      <th>193937</th>\n",
       "      <td>47.543</td>\n",
       "    </tr>\n",
       "    <tr>\n",
       "      <th>193671</th>\n",
       "      <td>47.026</td>\n",
       "    </tr>\n",
       "    <tr>\n",
       "      <th>193689</th>\n",
       "      <td>46.915</td>\n",
       "    </tr>\n",
       "    <tr>\n",
       "      <th>193112</th>\n",
       "      <td>44.733</td>\n",
       "    </tr>\n",
       "    <tr>\n",
       "      <th>193972</th>\n",
       "      <td>44.599</td>\n",
       "    </tr>\n",
       "    <tr>\n",
       "      <th>193692</th>\n",
       "      <td>43.501</td>\n",
       "    </tr>\n",
       "    <tr>\n",
       "      <th>193688</th>\n",
       "      <td>41.725</td>\n",
       "    </tr>\n",
       "    <tr>\n",
       "      <th>193686</th>\n",
       "      <td>39.719</td>\n",
       "    </tr>\n",
       "    <tr>\n",
       "      <th>193459</th>\n",
       "      <td>37.587</td>\n",
       "    </tr>\n",
       "    <tr>\n",
       "      <th>194113</th>\n",
       "      <td>37.126</td>\n",
       "    </tr>\n",
       "    <tr>\n",
       "      <th>193208</th>\n",
       "      <td>19.744</td>\n",
       "    </tr>\n",
       "  </tbody>\n",
       "</table>\n",
       "</div>"
      ],
      "text/plain": [
       "               Gotas cortadas (toneladas)\n",
       "Ordem de prod                            \n",
       "193342                            408.756\n",
       "193164                            236.125\n",
       "193784                            191.157\n",
       "193782                            187.151\n",
       "192970                            178.787\n",
       "193533                            167.971\n",
       "193882                            152.828\n",
       "193368                            147.662\n",
       "193207                            136.914\n",
       "193594                            128.649\n",
       "194121                            127.026\n",
       "193209                            121.813\n",
       "193463                            109.396\n",
       "193619                            107.617\n",
       "193973                             92.506\n",
       "193462                             90.983\n",
       "193694                             90.768\n",
       "193852                             86.126\n",
       "194029                             81.256\n",
       "193206                             74.312\n",
       "194057                             66.240\n",
       "193783                             60.136\n",
       "193537                             50.788\n",
       "193535                             48.013\n",
       "193937                             47.543\n",
       "193671                             47.026\n",
       "193689                             46.915\n",
       "193112                             44.733\n",
       "193972                             44.599\n",
       "193692                             43.501\n",
       "193688                             41.725\n",
       "193686                             39.719\n",
       "193459                             37.587\n",
       "194113                             37.126\n",
       "193208                             19.744"
      ]
     },
     "execution_count": 56,
     "metadata": {},
     "output_type": "execute_result"
    }
   ],
   "source": [
    "total_ordem = df_valores_mensais.groupby('Ordem de prod')[colunas_numericas].sum()\n",
    "total_ordem['Gotas cortadas (toneladas)'] = total_ordem['Gotas cortadas (toneladas)'].round(3)\n",
    "total_ordem[['Gotas cortadas (toneladas)']].sort_values('Gotas cortadas (toneladas)', ascending=False)"
   ]
  },
  {
   "cell_type": "markdown",
   "metadata": {},
   "source": [
    "# Comportamento das temperaturas"
   ]
  },
  {
   "cell_type": "markdown",
   "metadata": {},
   "source": [
    "## Comportamento diário"
   ]
  },
  {
   "cell_type": "markdown",
   "metadata": {},
   "source": [
    "### Médias diárias das temperaturas por cada etapa"
   ]
  },
  {
   "cell_type": "code",
   "execution_count": 57,
   "metadata": {},
   "outputs": [
    {
     "data": {
      "application/vnd.plotly.v1+json": {
       "config": {
        "plotlyServerURL": "https://plot.ly"
       },
       "data": [
        {
         "alignmentgroup": "True",
         "hovertemplate": "Etapas=%{x}<br>Temperatura Média (F°)=%{y}<extra></extra>",
         "legendgroup": "Tras-PV (F°)",
         "marker": {
          "color": "#636efa",
          "pattern": {
           "shape": ""
          }
         },
         "name": "Tras-PV (F°)",
         "offsetgroup": "Tras-PV (F°)",
         "orientation": "v",
         "showlegend": true,
         "textposition": "auto",
         "type": "bar",
         "x": [
          "Tras-PV (F°)"
         ],
         "xaxis": "x",
         "y": [
          2344.9055
         ],
         "yaxis": "y"
        },
        {
         "alignmentgroup": "True",
         "hovertemplate": "Etapas=%{x}<br>Temperatura Média (F°)=%{y}<extra></extra>",
         "legendgroup": "Fritas-PV (F°)",
         "marker": {
          "color": "#EF553B",
          "pattern": {
           "shape": ""
          }
         },
         "name": "Fritas-PV (F°)",
         "offsetgroup": "Fritas-PV (F°)",
         "orientation": "v",
         "showlegend": true,
         "textposition": "auto",
         "type": "bar",
         "x": [
          "Fritas-PV (F°)"
         ],
         "xaxis": "x",
         "y": [
          2308.4809999999998
         ],
         "yaxis": "y"
        },
        {
         "alignmentgroup": "True",
         "hovertemplate": "Etapas=%{x}<br>Temperatura Média (F°)=%{y}<extra></extra>",
         "legendgroup": "Agit-PV (F°)",
         "marker": {
          "color": "#00cc96",
          "pattern": {
           "shape": ""
          }
         },
         "name": "Agit-PV (F°)",
         "offsetgroup": "Agit-PV (F°)",
         "orientation": "v",
         "showlegend": true,
         "textposition": "auto",
         "type": "bar",
         "x": [
          "Agit-PV (F°)"
         ],
         "xaxis": "x",
         "y": [
          2267.159
         ],
         "yaxis": "y"
        },
        {
         "alignmentgroup": "True",
         "hovertemplate": "Etapas=%{x}<br>Temperatura Média (F°)=%{y}<extra></extra>",
         "legendgroup": "Meio-PV (F°)",
         "marker": {
          "color": "#ab63fa",
          "pattern": {
           "shape": ""
          }
         },
         "name": "Meio-PV (F°)",
         "offsetgroup": "Meio-PV (F°)",
         "orientation": "v",
         "showlegend": true,
         "textposition": "auto",
         "type": "bar",
         "x": [
          "Meio-PV (F°)"
         ],
         "xaxis": "x",
         "y": [
          2230.6315000000004
         ],
         "yaxis": "y"
        },
        {
         "alignmentgroup": "True",
         "hovertemplate": "Etapas=%{x}<br>Temperatura Média (F°)=%{y}<extra></extra>",
         "legendgroup": "Frente-PV (F°)",
         "marker": {
          "color": "#FFA15A",
          "pattern": {
           "shape": ""
          }
         },
         "name": "Frente-PV (F°)",
         "offsetgroup": "Frente-PV (F°)",
         "orientation": "v",
         "showlegend": true,
         "textposition": "auto",
         "type": "bar",
         "x": [
          "Frente-PV (F°)"
         ],
         "xaxis": "x",
         "y": [
          2179.9875
         ],
         "yaxis": "y"
        },
        {
         "alignmentgroup": "True",
         "hovertemplate": "Etapas=%{x}<br>Temperatura Média (F°)=%{y}<extra></extra>",
         "legendgroup": "Temperatura (F°)",
         "marker": {
          "color": "#19d3f3",
          "pattern": {
           "shape": ""
          }
         },
         "name": "Temperatura (F°)",
         "offsetgroup": "Temperatura (F°)",
         "orientation": "v",
         "showlegend": true,
         "textposition": "auto",
         "type": "bar",
         "x": [
          "Temperatura (F°)"
         ],
         "xaxis": "x",
         "y": [
          2034.4568000000002
         ],
         "yaxis": "y"
        }
       ],
       "layout": {
        "barmode": "relative",
        "legend": {
         "title": {
          "text": "Etapas"
         },
         "tracegroupgap": 0
        },
        "template": {
         "data": {
          "bar": [
           {
            "error_x": {
             "color": "#2a3f5f"
            },
            "error_y": {
             "color": "#2a3f5f"
            },
            "marker": {
             "line": {
              "color": "#E5ECF6",
              "width": 0.5
             },
             "pattern": {
              "fillmode": "overlay",
              "size": 10,
              "solidity": 0.2
             }
            },
            "type": "bar"
           }
          ],
          "barpolar": [
           {
            "marker": {
             "line": {
              "color": "#E5ECF6",
              "width": 0.5
             },
             "pattern": {
              "fillmode": "overlay",
              "size": 10,
              "solidity": 0.2
             }
            },
            "type": "barpolar"
           }
          ],
          "carpet": [
           {
            "aaxis": {
             "endlinecolor": "#2a3f5f",
             "gridcolor": "white",
             "linecolor": "white",
             "minorgridcolor": "white",
             "startlinecolor": "#2a3f5f"
            },
            "baxis": {
             "endlinecolor": "#2a3f5f",
             "gridcolor": "white",
             "linecolor": "white",
             "minorgridcolor": "white",
             "startlinecolor": "#2a3f5f"
            },
            "type": "carpet"
           }
          ],
          "choropleth": [
           {
            "colorbar": {
             "outlinewidth": 0,
             "ticks": ""
            },
            "type": "choropleth"
           }
          ],
          "contour": [
           {
            "colorbar": {
             "outlinewidth": 0,
             "ticks": ""
            },
            "colorscale": [
             [
              0,
              "#0d0887"
             ],
             [
              0.1111111111111111,
              "#46039f"
             ],
             [
              0.2222222222222222,
              "#7201a8"
             ],
             [
              0.3333333333333333,
              "#9c179e"
             ],
             [
              0.4444444444444444,
              "#bd3786"
             ],
             [
              0.5555555555555556,
              "#d8576b"
             ],
             [
              0.6666666666666666,
              "#ed7953"
             ],
             [
              0.7777777777777778,
              "#fb9f3a"
             ],
             [
              0.8888888888888888,
              "#fdca26"
             ],
             [
              1,
              "#f0f921"
             ]
            ],
            "type": "contour"
           }
          ],
          "contourcarpet": [
           {
            "colorbar": {
             "outlinewidth": 0,
             "ticks": ""
            },
            "type": "contourcarpet"
           }
          ],
          "heatmap": [
           {
            "colorbar": {
             "outlinewidth": 0,
             "ticks": ""
            },
            "colorscale": [
             [
              0,
              "#0d0887"
             ],
             [
              0.1111111111111111,
              "#46039f"
             ],
             [
              0.2222222222222222,
              "#7201a8"
             ],
             [
              0.3333333333333333,
              "#9c179e"
             ],
             [
              0.4444444444444444,
              "#bd3786"
             ],
             [
              0.5555555555555556,
              "#d8576b"
             ],
             [
              0.6666666666666666,
              "#ed7953"
             ],
             [
              0.7777777777777778,
              "#fb9f3a"
             ],
             [
              0.8888888888888888,
              "#fdca26"
             ],
             [
              1,
              "#f0f921"
             ]
            ],
            "type": "heatmap"
           }
          ],
          "heatmapgl": [
           {
            "colorbar": {
             "outlinewidth": 0,
             "ticks": ""
            },
            "colorscale": [
             [
              0,
              "#0d0887"
             ],
             [
              0.1111111111111111,
              "#46039f"
             ],
             [
              0.2222222222222222,
              "#7201a8"
             ],
             [
              0.3333333333333333,
              "#9c179e"
             ],
             [
              0.4444444444444444,
              "#bd3786"
             ],
             [
              0.5555555555555556,
              "#d8576b"
             ],
             [
              0.6666666666666666,
              "#ed7953"
             ],
             [
              0.7777777777777778,
              "#fb9f3a"
             ],
             [
              0.8888888888888888,
              "#fdca26"
             ],
             [
              1,
              "#f0f921"
             ]
            ],
            "type": "heatmapgl"
           }
          ],
          "histogram": [
           {
            "marker": {
             "pattern": {
              "fillmode": "overlay",
              "size": 10,
              "solidity": 0.2
             }
            },
            "type": "histogram"
           }
          ],
          "histogram2d": [
           {
            "colorbar": {
             "outlinewidth": 0,
             "ticks": ""
            },
            "colorscale": [
             [
              0,
              "#0d0887"
             ],
             [
              0.1111111111111111,
              "#46039f"
             ],
             [
              0.2222222222222222,
              "#7201a8"
             ],
             [
              0.3333333333333333,
              "#9c179e"
             ],
             [
              0.4444444444444444,
              "#bd3786"
             ],
             [
              0.5555555555555556,
              "#d8576b"
             ],
             [
              0.6666666666666666,
              "#ed7953"
             ],
             [
              0.7777777777777778,
              "#fb9f3a"
             ],
             [
              0.8888888888888888,
              "#fdca26"
             ],
             [
              1,
              "#f0f921"
             ]
            ],
            "type": "histogram2d"
           }
          ],
          "histogram2dcontour": [
           {
            "colorbar": {
             "outlinewidth": 0,
             "ticks": ""
            },
            "colorscale": [
             [
              0,
              "#0d0887"
             ],
             [
              0.1111111111111111,
              "#46039f"
             ],
             [
              0.2222222222222222,
              "#7201a8"
             ],
             [
              0.3333333333333333,
              "#9c179e"
             ],
             [
              0.4444444444444444,
              "#bd3786"
             ],
             [
              0.5555555555555556,
              "#d8576b"
             ],
             [
              0.6666666666666666,
              "#ed7953"
             ],
             [
              0.7777777777777778,
              "#fb9f3a"
             ],
             [
              0.8888888888888888,
              "#fdca26"
             ],
             [
              1,
              "#f0f921"
             ]
            ],
            "type": "histogram2dcontour"
           }
          ],
          "mesh3d": [
           {
            "colorbar": {
             "outlinewidth": 0,
             "ticks": ""
            },
            "type": "mesh3d"
           }
          ],
          "parcoords": [
           {
            "line": {
             "colorbar": {
              "outlinewidth": 0,
              "ticks": ""
             }
            },
            "type": "parcoords"
           }
          ],
          "pie": [
           {
            "automargin": true,
            "type": "pie"
           }
          ],
          "scatter": [
           {
            "fillpattern": {
             "fillmode": "overlay",
             "size": 10,
             "solidity": 0.2
            },
            "type": "scatter"
           }
          ],
          "scatter3d": [
           {
            "line": {
             "colorbar": {
              "outlinewidth": 0,
              "ticks": ""
             }
            },
            "marker": {
             "colorbar": {
              "outlinewidth": 0,
              "ticks": ""
             }
            },
            "type": "scatter3d"
           }
          ],
          "scattercarpet": [
           {
            "marker": {
             "colorbar": {
              "outlinewidth": 0,
              "ticks": ""
             }
            },
            "type": "scattercarpet"
           }
          ],
          "scattergeo": [
           {
            "marker": {
             "colorbar": {
              "outlinewidth": 0,
              "ticks": ""
             }
            },
            "type": "scattergeo"
           }
          ],
          "scattergl": [
           {
            "marker": {
             "colorbar": {
              "outlinewidth": 0,
              "ticks": ""
             }
            },
            "type": "scattergl"
           }
          ],
          "scattermapbox": [
           {
            "marker": {
             "colorbar": {
              "outlinewidth": 0,
              "ticks": ""
             }
            },
            "type": "scattermapbox"
           }
          ],
          "scatterpolar": [
           {
            "marker": {
             "colorbar": {
              "outlinewidth": 0,
              "ticks": ""
             }
            },
            "type": "scatterpolar"
           }
          ],
          "scatterpolargl": [
           {
            "marker": {
             "colorbar": {
              "outlinewidth": 0,
              "ticks": ""
             }
            },
            "type": "scatterpolargl"
           }
          ],
          "scatterternary": [
           {
            "marker": {
             "colorbar": {
              "outlinewidth": 0,
              "ticks": ""
             }
            },
            "type": "scatterternary"
           }
          ],
          "surface": [
           {
            "colorbar": {
             "outlinewidth": 0,
             "ticks": ""
            },
            "colorscale": [
             [
              0,
              "#0d0887"
             ],
             [
              0.1111111111111111,
              "#46039f"
             ],
             [
              0.2222222222222222,
              "#7201a8"
             ],
             [
              0.3333333333333333,
              "#9c179e"
             ],
             [
              0.4444444444444444,
              "#bd3786"
             ],
             [
              0.5555555555555556,
              "#d8576b"
             ],
             [
              0.6666666666666666,
              "#ed7953"
             ],
             [
              0.7777777777777778,
              "#fb9f3a"
             ],
             [
              0.8888888888888888,
              "#fdca26"
             ],
             [
              1,
              "#f0f921"
             ]
            ],
            "type": "surface"
           }
          ],
          "table": [
           {
            "cells": {
             "fill": {
              "color": "#EBF0F8"
             },
             "line": {
              "color": "white"
             }
            },
            "header": {
             "fill": {
              "color": "#C8D4E3"
             },
             "line": {
              "color": "white"
             }
            },
            "type": "table"
           }
          ]
         },
         "layout": {
          "annotationdefaults": {
           "arrowcolor": "#2a3f5f",
           "arrowhead": 0,
           "arrowwidth": 1
          },
          "autotypenumbers": "strict",
          "coloraxis": {
           "colorbar": {
            "outlinewidth": 0,
            "ticks": ""
           }
          },
          "colorscale": {
           "diverging": [
            [
             0,
             "#8e0152"
            ],
            [
             0.1,
             "#c51b7d"
            ],
            [
             0.2,
             "#de77ae"
            ],
            [
             0.3,
             "#f1b6da"
            ],
            [
             0.4,
             "#fde0ef"
            ],
            [
             0.5,
             "#f7f7f7"
            ],
            [
             0.6,
             "#e6f5d0"
            ],
            [
             0.7,
             "#b8e186"
            ],
            [
             0.8,
             "#7fbc41"
            ],
            [
             0.9,
             "#4d9221"
            ],
            [
             1,
             "#276419"
            ]
           ],
           "sequential": [
            [
             0,
             "#0d0887"
            ],
            [
             0.1111111111111111,
             "#46039f"
            ],
            [
             0.2222222222222222,
             "#7201a8"
            ],
            [
             0.3333333333333333,
             "#9c179e"
            ],
            [
             0.4444444444444444,
             "#bd3786"
            ],
            [
             0.5555555555555556,
             "#d8576b"
            ],
            [
             0.6666666666666666,
             "#ed7953"
            ],
            [
             0.7777777777777778,
             "#fb9f3a"
            ],
            [
             0.8888888888888888,
             "#fdca26"
            ],
            [
             1,
             "#f0f921"
            ]
           ],
           "sequentialminus": [
            [
             0,
             "#0d0887"
            ],
            [
             0.1111111111111111,
             "#46039f"
            ],
            [
             0.2222222222222222,
             "#7201a8"
            ],
            [
             0.3333333333333333,
             "#9c179e"
            ],
            [
             0.4444444444444444,
             "#bd3786"
            ],
            [
             0.5555555555555556,
             "#d8576b"
            ],
            [
             0.6666666666666666,
             "#ed7953"
            ],
            [
             0.7777777777777778,
             "#fb9f3a"
            ],
            [
             0.8888888888888888,
             "#fdca26"
            ],
            [
             1,
             "#f0f921"
            ]
           ]
          },
          "colorway": [
           "#636efa",
           "#EF553B",
           "#00cc96",
           "#ab63fa",
           "#FFA15A",
           "#19d3f3",
           "#FF6692",
           "#B6E880",
           "#FF97FF",
           "#FECB52"
          ],
          "font": {
           "color": "#2a3f5f"
          },
          "geo": {
           "bgcolor": "white",
           "lakecolor": "white",
           "landcolor": "#E5ECF6",
           "showlakes": true,
           "showland": true,
           "subunitcolor": "white"
          },
          "hoverlabel": {
           "align": "left"
          },
          "hovermode": "closest",
          "mapbox": {
           "style": "light"
          },
          "paper_bgcolor": "white",
          "plot_bgcolor": "#E5ECF6",
          "polar": {
           "angularaxis": {
            "gridcolor": "white",
            "linecolor": "white",
            "ticks": ""
           },
           "bgcolor": "#E5ECF6",
           "radialaxis": {
            "gridcolor": "white",
            "linecolor": "white",
            "ticks": ""
           }
          },
          "scene": {
           "xaxis": {
            "backgroundcolor": "#E5ECF6",
            "gridcolor": "white",
            "gridwidth": 2,
            "linecolor": "white",
            "showbackground": true,
            "ticks": "",
            "zerolinecolor": "white"
           },
           "yaxis": {
            "backgroundcolor": "#E5ECF6",
            "gridcolor": "white",
            "gridwidth": 2,
            "linecolor": "white",
            "showbackground": true,
            "ticks": "",
            "zerolinecolor": "white"
           },
           "zaxis": {
            "backgroundcolor": "#E5ECF6",
            "gridcolor": "white",
            "gridwidth": 2,
            "linecolor": "white",
            "showbackground": true,
            "ticks": "",
            "zerolinecolor": "white"
           }
          },
          "shapedefaults": {
           "line": {
            "color": "#2a3f5f"
           }
          },
          "ternary": {
           "aaxis": {
            "gridcolor": "white",
            "linecolor": "white",
            "ticks": ""
           },
           "baxis": {
            "gridcolor": "white",
            "linecolor": "white",
            "ticks": ""
           },
           "bgcolor": "#E5ECF6",
           "caxis": {
            "gridcolor": "white",
            "linecolor": "white",
            "ticks": ""
           }
          },
          "title": {
           "x": 0.05
          },
          "xaxis": {
           "automargin": true,
           "gridcolor": "white",
           "linecolor": "white",
           "ticks": "",
           "title": {
            "standoff": 15
           },
           "zerolinecolor": "white",
           "zerolinewidth": 2
          },
          "yaxis": {
           "automargin": true,
           "gridcolor": "white",
           "linecolor": "white",
           "ticks": "",
           "title": {
            "standoff": 15
           },
           "zerolinecolor": "white",
           "zerolinewidth": 2
          }
         }
        },
        "title": {
         "text": "Média Diária das Temperaturas (PV)"
        },
        "xaxis": {
         "anchor": "y",
         "categoryarray": [
          "Tras-PV (F°)",
          "Fritas-PV (F°)",
          "Agit-PV (F°)",
          "Meio-PV (F°)",
          "Frente-PV (F°)",
          "Temperatura (F°)"
         ],
         "categoryorder": "array",
         "domain": [
          0,
          1
         ],
         "title": {
          "text": "Etapas"
         }
        },
        "yaxis": {
         "anchor": "x",
         "domain": [
          0,
          1
         ],
         "title": {
          "text": "Temperatura Média (F°)"
         }
        }
       }
      }
     },
     "metadata": {},
     "output_type": "display_data"
    }
   ],
   "source": [
    "media_diaria_temperaturas = df_valores_mensais[['Tras-PV (F°)', 'Fritas-PV (F°)', 'Agit-PV (F°)', \n",
    "                                                'Meio-PV (F°)', 'Frente-PV (F°)', 'Temperatura (F°)']].mean()\n",
    "\n",
    "df_temperaturas = media_diaria_temperaturas.reset_index()\n",
    "df_temperaturas.columns = ['Etapa', 'Temperatura Média (F°)']\n",
    "\n",
    "fig_temperaturas_diarias = px.bar(\n",
    "    df_temperaturas, \n",
    "    x='Etapa', \n",
    "    y='Temperatura Média (F°)', \n",
    "    title=\"Média Diária das Temperaturas (PV)\",\n",
    "    labels={'Etapa': 'Etapas', 'Temperatura Média (F°)': 'Temperatura Média (F°)'},\n",
    "    color='Etapa' \n",
    ")\n",
    "\n",
    "fig_temperaturas_diarias.show()"
   ]
  },
  {
   "cell_type": "markdown",
   "metadata": {},
   "source": [
    "### Diferença média das temperaturas nas etapas "
   ]
  },
  {
   "cell_type": "code",
   "execution_count": 58,
   "metadata": {},
   "outputs": [
    {
     "data": {
      "text/html": [
       "<div>\n",
       "<style scoped>\n",
       "    .dataframe tbody tr th:only-of-type {\n",
       "        vertical-align: middle;\n",
       "    }\n",
       "\n",
       "    .dataframe tbody tr th {\n",
       "        vertical-align: top;\n",
       "    }\n",
       "\n",
       "    .dataframe thead th {\n",
       "        text-align: right;\n",
       "    }\n",
       "</style>\n",
       "<table border=\"1\" class=\"dataframe\">\n",
       "  <thead>\n",
       "    <tr style=\"text-align: right;\">\n",
       "      <th></th>\n",
       "      <th>Diferença</th>\n",
       "      <th>Valor Médio (F°)</th>\n",
       "    </tr>\n",
       "  </thead>\n",
       "  <tbody>\n",
       "    <tr>\n",
       "      <th>0</th>\n",
       "      <td>Tras-Fritas (F°)</td>\n",
       "      <td>36.42</td>\n",
       "    </tr>\n",
       "    <tr>\n",
       "      <th>1</th>\n",
       "      <td>Fritas-Agitador (F°)</td>\n",
       "      <td>41.32</td>\n",
       "    </tr>\n",
       "    <tr>\n",
       "      <th>2</th>\n",
       "      <td>Agitador-Meio (F°)</td>\n",
       "      <td>36.53</td>\n",
       "    </tr>\n",
       "    <tr>\n",
       "      <th>3</th>\n",
       "      <td>Meio-Frente (F°)</td>\n",
       "      <td>50.64</td>\n",
       "    </tr>\n",
       "    <tr>\n",
       "      <th>4</th>\n",
       "      <td>Frente-Gota (F°)</td>\n",
       "      <td>145.53</td>\n",
       "    </tr>\n",
       "  </tbody>\n",
       "</table>\n",
       "</div>"
      ],
      "text/plain": [
       "              Diferença  Valor Médio (F°)\n",
       "0      Tras-Fritas (F°)             36.42\n",
       "1  Fritas-Agitador (F°)             41.32\n",
       "2    Agitador-Meio (F°)             36.53\n",
       "3      Meio-Frente (F°)             50.64\n",
       "4      Frente-Gota (F°)            145.53"
      ]
     },
     "execution_count": 58,
     "metadata": {},
     "output_type": "execute_result"
    }
   ],
   "source": [
    "dif_tras_fritas = media_diaria_temperaturas['Tras-PV (F°)'] - media_diaria_temperaturas['Fritas-PV (F°)']\n",
    "dif_fritas_agit = media_diaria_temperaturas['Fritas-PV (F°)'] - media_diaria_temperaturas['Agit-PV (F°)']\n",
    "dif_agit_meio = media_diaria_temperaturas['Agit-PV (F°)'] - media_diaria_temperaturas['Meio-PV (F°)']\n",
    "dif_meio_frente = media_diaria_temperaturas['Meio-PV (F°)'] - media_diaria_temperaturas['Frente-PV (F°)']\n",
    "dif_frente_gota = media_diaria_temperaturas['Frente-PV (F°)'] - media_diaria_temperaturas['Temperatura (F°)']\n",
    "\n",
    "df_media_dif_temperaturas = pd.DataFrame({\n",
    "    'Diferença': ['Tras-Fritas (F°)', 'Fritas-Agitador (F°)', 'Agitador-Meio (F°)', 'Meio-Frente (F°)', 'Frente-Gota (F°)'],\n",
    "    'Valor Médio (F°)': [dif_tras_fritas, dif_fritas_agit, dif_agit_meio, dif_meio_frente, dif_frente_gota]\n",
    "}).round(2)\n",
    "\n",
    "df_media_dif_temperaturas"
   ]
  },
  {
   "cell_type": "code",
   "execution_count": 59,
   "metadata": {},
   "outputs": [
    {
     "data": {
      "application/vnd.plotly.v1+json": {
       "config": {
        "plotlyServerURL": "https://plot.ly"
       },
       "data": [
        {
         "alignmentgroup": "True",
         "hovertemplate": "Diferenças=%{x}<br>Temperatura Média de Diferença (F°)=%{y}<extra></extra>",
         "legendgroup": "Tras-Fritas (F°)",
         "marker": {
          "color": "#636efa",
          "pattern": {
           "shape": ""
          }
         },
         "name": "Tras-Fritas (F°)",
         "offsetgroup": "Tras-Fritas (F°)",
         "orientation": "v",
         "showlegend": true,
         "textposition": "auto",
         "type": "bar",
         "x": [
          "Tras-Fritas (F°)"
         ],
         "xaxis": "x",
         "y": [
          36.42
         ],
         "yaxis": "y"
        },
        {
         "alignmentgroup": "True",
         "hovertemplate": "Diferenças=%{x}<br>Temperatura Média de Diferença (F°)=%{y}<extra></extra>",
         "legendgroup": "Fritas-Agitador (F°)",
         "marker": {
          "color": "#EF553B",
          "pattern": {
           "shape": ""
          }
         },
         "name": "Fritas-Agitador (F°)",
         "offsetgroup": "Fritas-Agitador (F°)",
         "orientation": "v",
         "showlegend": true,
         "textposition": "auto",
         "type": "bar",
         "x": [
          "Fritas-Agitador (F°)"
         ],
         "xaxis": "x",
         "y": [
          41.32
         ],
         "yaxis": "y"
        },
        {
         "alignmentgroup": "True",
         "hovertemplate": "Diferenças=%{x}<br>Temperatura Média de Diferença (F°)=%{y}<extra></extra>",
         "legendgroup": "Agitador-Meio (F°)",
         "marker": {
          "color": "#00cc96",
          "pattern": {
           "shape": ""
          }
         },
         "name": "Agitador-Meio (F°)",
         "offsetgroup": "Agitador-Meio (F°)",
         "orientation": "v",
         "showlegend": true,
         "textposition": "auto",
         "type": "bar",
         "x": [
          "Agitador-Meio (F°)"
         ],
         "xaxis": "x",
         "y": [
          36.53
         ],
         "yaxis": "y"
        },
        {
         "alignmentgroup": "True",
         "hovertemplate": "Diferenças=%{x}<br>Temperatura Média de Diferença (F°)=%{y}<extra></extra>",
         "legendgroup": "Meio-Frente (F°)",
         "marker": {
          "color": "#ab63fa",
          "pattern": {
           "shape": ""
          }
         },
         "name": "Meio-Frente (F°)",
         "offsetgroup": "Meio-Frente (F°)",
         "orientation": "v",
         "showlegend": true,
         "textposition": "auto",
         "type": "bar",
         "x": [
          "Meio-Frente (F°)"
         ],
         "xaxis": "x",
         "y": [
          50.64
         ],
         "yaxis": "y"
        },
        {
         "alignmentgroup": "True",
         "hovertemplate": "Diferenças=%{x}<br>Temperatura Média de Diferença (F°)=%{y}<extra></extra>",
         "legendgroup": "Frente-Gota (F°)",
         "marker": {
          "color": "#FFA15A",
          "pattern": {
           "shape": ""
          }
         },
         "name": "Frente-Gota (F°)",
         "offsetgroup": "Frente-Gota (F°)",
         "orientation": "v",
         "showlegend": true,
         "textposition": "auto",
         "type": "bar",
         "x": [
          "Frente-Gota (F°)"
         ],
         "xaxis": "x",
         "y": [
          145.53
         ],
         "yaxis": "y"
        }
       ],
       "layout": {
        "barmode": "relative",
        "legend": {
         "title": {
          "text": "Diferenças"
         },
         "tracegroupgap": 0
        },
        "template": {
         "data": {
          "bar": [
           {
            "error_x": {
             "color": "#2a3f5f"
            },
            "error_y": {
             "color": "#2a3f5f"
            },
            "marker": {
             "line": {
              "color": "#E5ECF6",
              "width": 0.5
             },
             "pattern": {
              "fillmode": "overlay",
              "size": 10,
              "solidity": 0.2
             }
            },
            "type": "bar"
           }
          ],
          "barpolar": [
           {
            "marker": {
             "line": {
              "color": "#E5ECF6",
              "width": 0.5
             },
             "pattern": {
              "fillmode": "overlay",
              "size": 10,
              "solidity": 0.2
             }
            },
            "type": "barpolar"
           }
          ],
          "carpet": [
           {
            "aaxis": {
             "endlinecolor": "#2a3f5f",
             "gridcolor": "white",
             "linecolor": "white",
             "minorgridcolor": "white",
             "startlinecolor": "#2a3f5f"
            },
            "baxis": {
             "endlinecolor": "#2a3f5f",
             "gridcolor": "white",
             "linecolor": "white",
             "minorgridcolor": "white",
             "startlinecolor": "#2a3f5f"
            },
            "type": "carpet"
           }
          ],
          "choropleth": [
           {
            "colorbar": {
             "outlinewidth": 0,
             "ticks": ""
            },
            "type": "choropleth"
           }
          ],
          "contour": [
           {
            "colorbar": {
             "outlinewidth": 0,
             "ticks": ""
            },
            "colorscale": [
             [
              0,
              "#0d0887"
             ],
             [
              0.1111111111111111,
              "#46039f"
             ],
             [
              0.2222222222222222,
              "#7201a8"
             ],
             [
              0.3333333333333333,
              "#9c179e"
             ],
             [
              0.4444444444444444,
              "#bd3786"
             ],
             [
              0.5555555555555556,
              "#d8576b"
             ],
             [
              0.6666666666666666,
              "#ed7953"
             ],
             [
              0.7777777777777778,
              "#fb9f3a"
             ],
             [
              0.8888888888888888,
              "#fdca26"
             ],
             [
              1,
              "#f0f921"
             ]
            ],
            "type": "contour"
           }
          ],
          "contourcarpet": [
           {
            "colorbar": {
             "outlinewidth": 0,
             "ticks": ""
            },
            "type": "contourcarpet"
           }
          ],
          "heatmap": [
           {
            "colorbar": {
             "outlinewidth": 0,
             "ticks": ""
            },
            "colorscale": [
             [
              0,
              "#0d0887"
             ],
             [
              0.1111111111111111,
              "#46039f"
             ],
             [
              0.2222222222222222,
              "#7201a8"
             ],
             [
              0.3333333333333333,
              "#9c179e"
             ],
             [
              0.4444444444444444,
              "#bd3786"
             ],
             [
              0.5555555555555556,
              "#d8576b"
             ],
             [
              0.6666666666666666,
              "#ed7953"
             ],
             [
              0.7777777777777778,
              "#fb9f3a"
             ],
             [
              0.8888888888888888,
              "#fdca26"
             ],
             [
              1,
              "#f0f921"
             ]
            ],
            "type": "heatmap"
           }
          ],
          "heatmapgl": [
           {
            "colorbar": {
             "outlinewidth": 0,
             "ticks": ""
            },
            "colorscale": [
             [
              0,
              "#0d0887"
             ],
             [
              0.1111111111111111,
              "#46039f"
             ],
             [
              0.2222222222222222,
              "#7201a8"
             ],
             [
              0.3333333333333333,
              "#9c179e"
             ],
             [
              0.4444444444444444,
              "#bd3786"
             ],
             [
              0.5555555555555556,
              "#d8576b"
             ],
             [
              0.6666666666666666,
              "#ed7953"
             ],
             [
              0.7777777777777778,
              "#fb9f3a"
             ],
             [
              0.8888888888888888,
              "#fdca26"
             ],
             [
              1,
              "#f0f921"
             ]
            ],
            "type": "heatmapgl"
           }
          ],
          "histogram": [
           {
            "marker": {
             "pattern": {
              "fillmode": "overlay",
              "size": 10,
              "solidity": 0.2
             }
            },
            "type": "histogram"
           }
          ],
          "histogram2d": [
           {
            "colorbar": {
             "outlinewidth": 0,
             "ticks": ""
            },
            "colorscale": [
             [
              0,
              "#0d0887"
             ],
             [
              0.1111111111111111,
              "#46039f"
             ],
             [
              0.2222222222222222,
              "#7201a8"
             ],
             [
              0.3333333333333333,
              "#9c179e"
             ],
             [
              0.4444444444444444,
              "#bd3786"
             ],
             [
              0.5555555555555556,
              "#d8576b"
             ],
             [
              0.6666666666666666,
              "#ed7953"
             ],
             [
              0.7777777777777778,
              "#fb9f3a"
             ],
             [
              0.8888888888888888,
              "#fdca26"
             ],
             [
              1,
              "#f0f921"
             ]
            ],
            "type": "histogram2d"
           }
          ],
          "histogram2dcontour": [
           {
            "colorbar": {
             "outlinewidth": 0,
             "ticks": ""
            },
            "colorscale": [
             [
              0,
              "#0d0887"
             ],
             [
              0.1111111111111111,
              "#46039f"
             ],
             [
              0.2222222222222222,
              "#7201a8"
             ],
             [
              0.3333333333333333,
              "#9c179e"
             ],
             [
              0.4444444444444444,
              "#bd3786"
             ],
             [
              0.5555555555555556,
              "#d8576b"
             ],
             [
              0.6666666666666666,
              "#ed7953"
             ],
             [
              0.7777777777777778,
              "#fb9f3a"
             ],
             [
              0.8888888888888888,
              "#fdca26"
             ],
             [
              1,
              "#f0f921"
             ]
            ],
            "type": "histogram2dcontour"
           }
          ],
          "mesh3d": [
           {
            "colorbar": {
             "outlinewidth": 0,
             "ticks": ""
            },
            "type": "mesh3d"
           }
          ],
          "parcoords": [
           {
            "line": {
             "colorbar": {
              "outlinewidth": 0,
              "ticks": ""
             }
            },
            "type": "parcoords"
           }
          ],
          "pie": [
           {
            "automargin": true,
            "type": "pie"
           }
          ],
          "scatter": [
           {
            "fillpattern": {
             "fillmode": "overlay",
             "size": 10,
             "solidity": 0.2
            },
            "type": "scatter"
           }
          ],
          "scatter3d": [
           {
            "line": {
             "colorbar": {
              "outlinewidth": 0,
              "ticks": ""
             }
            },
            "marker": {
             "colorbar": {
              "outlinewidth": 0,
              "ticks": ""
             }
            },
            "type": "scatter3d"
           }
          ],
          "scattercarpet": [
           {
            "marker": {
             "colorbar": {
              "outlinewidth": 0,
              "ticks": ""
             }
            },
            "type": "scattercarpet"
           }
          ],
          "scattergeo": [
           {
            "marker": {
             "colorbar": {
              "outlinewidth": 0,
              "ticks": ""
             }
            },
            "type": "scattergeo"
           }
          ],
          "scattergl": [
           {
            "marker": {
             "colorbar": {
              "outlinewidth": 0,
              "ticks": ""
             }
            },
            "type": "scattergl"
           }
          ],
          "scattermapbox": [
           {
            "marker": {
             "colorbar": {
              "outlinewidth": 0,
              "ticks": ""
             }
            },
            "type": "scattermapbox"
           }
          ],
          "scatterpolar": [
           {
            "marker": {
             "colorbar": {
              "outlinewidth": 0,
              "ticks": ""
             }
            },
            "type": "scatterpolar"
           }
          ],
          "scatterpolargl": [
           {
            "marker": {
             "colorbar": {
              "outlinewidth": 0,
              "ticks": ""
             }
            },
            "type": "scatterpolargl"
           }
          ],
          "scatterternary": [
           {
            "marker": {
             "colorbar": {
              "outlinewidth": 0,
              "ticks": ""
             }
            },
            "type": "scatterternary"
           }
          ],
          "surface": [
           {
            "colorbar": {
             "outlinewidth": 0,
             "ticks": ""
            },
            "colorscale": [
             [
              0,
              "#0d0887"
             ],
             [
              0.1111111111111111,
              "#46039f"
             ],
             [
              0.2222222222222222,
              "#7201a8"
             ],
             [
              0.3333333333333333,
              "#9c179e"
             ],
             [
              0.4444444444444444,
              "#bd3786"
             ],
             [
              0.5555555555555556,
              "#d8576b"
             ],
             [
              0.6666666666666666,
              "#ed7953"
             ],
             [
              0.7777777777777778,
              "#fb9f3a"
             ],
             [
              0.8888888888888888,
              "#fdca26"
             ],
             [
              1,
              "#f0f921"
             ]
            ],
            "type": "surface"
           }
          ],
          "table": [
           {
            "cells": {
             "fill": {
              "color": "#EBF0F8"
             },
             "line": {
              "color": "white"
             }
            },
            "header": {
             "fill": {
              "color": "#C8D4E3"
             },
             "line": {
              "color": "white"
             }
            },
            "type": "table"
           }
          ]
         },
         "layout": {
          "annotationdefaults": {
           "arrowcolor": "#2a3f5f",
           "arrowhead": 0,
           "arrowwidth": 1
          },
          "autotypenumbers": "strict",
          "coloraxis": {
           "colorbar": {
            "outlinewidth": 0,
            "ticks": ""
           }
          },
          "colorscale": {
           "diverging": [
            [
             0,
             "#8e0152"
            ],
            [
             0.1,
             "#c51b7d"
            ],
            [
             0.2,
             "#de77ae"
            ],
            [
             0.3,
             "#f1b6da"
            ],
            [
             0.4,
             "#fde0ef"
            ],
            [
             0.5,
             "#f7f7f7"
            ],
            [
             0.6,
             "#e6f5d0"
            ],
            [
             0.7,
             "#b8e186"
            ],
            [
             0.8,
             "#7fbc41"
            ],
            [
             0.9,
             "#4d9221"
            ],
            [
             1,
             "#276419"
            ]
           ],
           "sequential": [
            [
             0,
             "#0d0887"
            ],
            [
             0.1111111111111111,
             "#46039f"
            ],
            [
             0.2222222222222222,
             "#7201a8"
            ],
            [
             0.3333333333333333,
             "#9c179e"
            ],
            [
             0.4444444444444444,
             "#bd3786"
            ],
            [
             0.5555555555555556,
             "#d8576b"
            ],
            [
             0.6666666666666666,
             "#ed7953"
            ],
            [
             0.7777777777777778,
             "#fb9f3a"
            ],
            [
             0.8888888888888888,
             "#fdca26"
            ],
            [
             1,
             "#f0f921"
            ]
           ],
           "sequentialminus": [
            [
             0,
             "#0d0887"
            ],
            [
             0.1111111111111111,
             "#46039f"
            ],
            [
             0.2222222222222222,
             "#7201a8"
            ],
            [
             0.3333333333333333,
             "#9c179e"
            ],
            [
             0.4444444444444444,
             "#bd3786"
            ],
            [
             0.5555555555555556,
             "#d8576b"
            ],
            [
             0.6666666666666666,
             "#ed7953"
            ],
            [
             0.7777777777777778,
             "#fb9f3a"
            ],
            [
             0.8888888888888888,
             "#fdca26"
            ],
            [
             1,
             "#f0f921"
            ]
           ]
          },
          "colorway": [
           "#636efa",
           "#EF553B",
           "#00cc96",
           "#ab63fa",
           "#FFA15A",
           "#19d3f3",
           "#FF6692",
           "#B6E880",
           "#FF97FF",
           "#FECB52"
          ],
          "font": {
           "color": "#2a3f5f"
          },
          "geo": {
           "bgcolor": "white",
           "lakecolor": "white",
           "landcolor": "#E5ECF6",
           "showlakes": true,
           "showland": true,
           "subunitcolor": "white"
          },
          "hoverlabel": {
           "align": "left"
          },
          "hovermode": "closest",
          "mapbox": {
           "style": "light"
          },
          "paper_bgcolor": "white",
          "plot_bgcolor": "#E5ECF6",
          "polar": {
           "angularaxis": {
            "gridcolor": "white",
            "linecolor": "white",
            "ticks": ""
           },
           "bgcolor": "#E5ECF6",
           "radialaxis": {
            "gridcolor": "white",
            "linecolor": "white",
            "ticks": ""
           }
          },
          "scene": {
           "xaxis": {
            "backgroundcolor": "#E5ECF6",
            "gridcolor": "white",
            "gridwidth": 2,
            "linecolor": "white",
            "showbackground": true,
            "ticks": "",
            "zerolinecolor": "white"
           },
           "yaxis": {
            "backgroundcolor": "#E5ECF6",
            "gridcolor": "white",
            "gridwidth": 2,
            "linecolor": "white",
            "showbackground": true,
            "ticks": "",
            "zerolinecolor": "white"
           },
           "zaxis": {
            "backgroundcolor": "#E5ECF6",
            "gridcolor": "white",
            "gridwidth": 2,
            "linecolor": "white",
            "showbackground": true,
            "ticks": "",
            "zerolinecolor": "white"
           }
          },
          "shapedefaults": {
           "line": {
            "color": "#2a3f5f"
           }
          },
          "ternary": {
           "aaxis": {
            "gridcolor": "white",
            "linecolor": "white",
            "ticks": ""
           },
           "baxis": {
            "gridcolor": "white",
            "linecolor": "white",
            "ticks": ""
           },
           "bgcolor": "#E5ECF6",
           "caxis": {
            "gridcolor": "white",
            "linecolor": "white",
            "ticks": ""
           }
          },
          "title": {
           "x": 0.05
          },
          "xaxis": {
           "automargin": true,
           "gridcolor": "white",
           "linecolor": "white",
           "ticks": "",
           "title": {
            "standoff": 15
           },
           "zerolinecolor": "white",
           "zerolinewidth": 2
          },
          "yaxis": {
           "automargin": true,
           "gridcolor": "white",
           "linecolor": "white",
           "ticks": "",
           "title": {
            "standoff": 15
           },
           "zerolinecolor": "white",
           "zerolinewidth": 2
          }
         }
        },
        "title": {
         "text": "Média das Diferenças de Temperaturas entre Etapas (PV)"
        },
        "xaxis": {
         "anchor": "y",
         "categoryarray": [
          "Tras-Fritas (F°)",
          "Fritas-Agitador (F°)",
          "Agitador-Meio (F°)",
          "Meio-Frente (F°)",
          "Frente-Gota (F°)"
         ],
         "categoryorder": "array",
         "domain": [
          0,
          1
         ],
         "title": {
          "text": "Diferenças"
         }
        },
        "yaxis": {
         "anchor": "x",
         "domain": [
          0,
          1
         ],
         "title": {
          "text": "Temperatura Média de Diferença (F°)"
         }
        }
       }
      }
     },
     "metadata": {},
     "output_type": "display_data"
    }
   ],
   "source": [
    "fig_dif_temperaturas = px.bar(\n",
    "    df_media_dif_temperaturas,\n",
    "    x='Diferença',\n",
    "    y='Valor Médio (F°)',\n",
    "    title=\"Média das Diferenças de Temperaturas entre Etapas (PV)\",\n",
    "    labels={'Diferença': 'Diferenças', 'Valor Médio (F°)': 'Temperatura Média de Diferença (F°)'},\n",
    "    color='Diferença' \n",
    ")\n",
    "\n",
    "fig_dif_temperaturas.show()"
   ]
  },
  {
   "cell_type": "markdown",
   "metadata": {},
   "source": [
    "## Comportamento mensal"
   ]
  },
  {
   "cell_type": "code",
   "execution_count": 60,
   "metadata": {},
   "outputs": [
    {
     "data": {
      "text/html": [
       "<div>\n",
       "<style scoped>\n",
       "    .dataframe tbody tr th:only-of-type {\n",
       "        vertical-align: middle;\n",
       "    }\n",
       "\n",
       "    .dataframe tbody tr th {\n",
       "        vertical-align: top;\n",
       "    }\n",
       "\n",
       "    .dataframe thead th {\n",
       "        text-align: right;\n",
       "    }\n",
       "</style>\n",
       "<table border=\"1\" class=\"dataframe\">\n",
       "  <thead>\n",
       "    <tr style=\"text-align: right;\">\n",
       "      <th></th>\n",
       "      <th>Linha de prod</th>\n",
       "      <th>Ordem de prod</th>\n",
       "      <th>Data de prod</th>\n",
       "      <th>Gotas cortadas (toneladas)</th>\n",
       "      <th>Peso médio (Kg)</th>\n",
       "      <th>Cortes por minuto</th>\n",
       "      <th>Comprimento médio (mm)</th>\n",
       "      <th>Diâmetro</th>\n",
       "      <th>Temperatura (F°)</th>\n",
       "      <th>Tras-PV (F°)</th>\n",
       "      <th>...</th>\n",
       "      <th>Agit-PV (F°)</th>\n",
       "      <th>Meio-PV (F°)</th>\n",
       "      <th>Frente-PV (F°)</th>\n",
       "      <th>Dia</th>\n",
       "      <th>Mês</th>\n",
       "      <th>Diferença Tras-Fritas</th>\n",
       "      <th>Diferença Fritas-Agit</th>\n",
       "      <th>Diferença Agit-Meio</th>\n",
       "      <th>Diferença Meio-Frente</th>\n",
       "      <th>Diferença Frente-Gota</th>\n",
       "    </tr>\n",
       "  </thead>\n",
       "  <tbody>\n",
       "    <tr>\n",
       "      <th>0</th>\n",
       "      <td>B1</td>\n",
       "      <td>193112</td>\n",
       "      <td>2024-01-01</td>\n",
       "      <td>21.8905</td>\n",
       "      <td>168.4</td>\n",
       "      <td>90.0</td>\n",
       "      <td>78.2</td>\n",
       "      <td>41.6</td>\n",
       "      <td>2059.52</td>\n",
       "      <td>2320.0</td>\n",
       "      <td>...</td>\n",
       "      <td>2280.0</td>\n",
       "      <td>2260.0</td>\n",
       "      <td>2203.0</td>\n",
       "      <td>1</td>\n",
       "      <td>1</td>\n",
       "      <td>10.0</td>\n",
       "      <td>30.0</td>\n",
       "      <td>20.0</td>\n",
       "      <td>57.0</td>\n",
       "      <td>143.48</td>\n",
       "    </tr>\n",
       "    <tr>\n",
       "      <th>1</th>\n",
       "      <td>B1</td>\n",
       "      <td>193112</td>\n",
       "      <td>2024-01-02</td>\n",
       "      <td>21.8574</td>\n",
       "      <td>168.3</td>\n",
       "      <td>90.0</td>\n",
       "      <td>77.6</td>\n",
       "      <td>41.6</td>\n",
       "      <td>2053.04</td>\n",
       "      <td>2320.0</td>\n",
       "      <td>...</td>\n",
       "      <td>2280.0</td>\n",
       "      <td>2260.0</td>\n",
       "      <td>2202.6</td>\n",
       "      <td>2</td>\n",
       "      <td>1</td>\n",
       "      <td>10.0</td>\n",
       "      <td>30.0</td>\n",
       "      <td>20.0</td>\n",
       "      <td>57.4</td>\n",
       "      <td>149.56</td>\n",
       "    </tr>\n",
       "    <tr>\n",
       "      <th>2</th>\n",
       "      <td>B1</td>\n",
       "      <td>193112</td>\n",
       "      <td>2024-01-03</td>\n",
       "      <td>0.9849</td>\n",
       "      <td>167.8</td>\n",
       "      <td>90.0</td>\n",
       "      <td>110.4</td>\n",
       "      <td>32.5</td>\n",
       "      <td>2505.02</td>\n",
       "      <td>2341.1</td>\n",
       "      <td>...</td>\n",
       "      <td>2258.9</td>\n",
       "      <td>2220.3</td>\n",
       "      <td>2184.2</td>\n",
       "      <td>3</td>\n",
       "      <td>1</td>\n",
       "      <td>38.2</td>\n",
       "      <td>44.0</td>\n",
       "      <td>38.6</td>\n",
       "      <td>36.1</td>\n",
       "      <td>-320.82</td>\n",
       "    </tr>\n",
       "    <tr>\n",
       "      <th>3</th>\n",
       "      <td>B1</td>\n",
       "      <td>192970</td>\n",
       "      <td>2024-01-03</td>\n",
       "      <td>20.9484</td>\n",
       "      <td>169.3</td>\n",
       "      <td>90.0</td>\n",
       "      <td>110.4</td>\n",
       "      <td>32.5</td>\n",
       "      <td>2505.02</td>\n",
       "      <td>2341.1</td>\n",
       "      <td>...</td>\n",
       "      <td>2258.9</td>\n",
       "      <td>2201.6</td>\n",
       "      <td>2176.4</td>\n",
       "      <td>3</td>\n",
       "      <td>1</td>\n",
       "      <td>38.2</td>\n",
       "      <td>44.0</td>\n",
       "      <td>57.3</td>\n",
       "      <td>25.2</td>\n",
       "      <td>-328.62</td>\n",
       "    </tr>\n",
       "    <tr>\n",
       "      <th>4</th>\n",
       "      <td>B1</td>\n",
       "      <td>192970</td>\n",
       "      <td>2024-01-04</td>\n",
       "      <td>21.0216</td>\n",
       "      <td>169.7</td>\n",
       "      <td>89.0</td>\n",
       "      <td>85.6</td>\n",
       "      <td>18.1</td>\n",
       "      <td>3094.52</td>\n",
       "      <td>2349.6</td>\n",
       "      <td>...</td>\n",
       "      <td>2249.2</td>\n",
       "      <td>2201.0</td>\n",
       "      <td>2173.0</td>\n",
       "      <td>4</td>\n",
       "      <td>1</td>\n",
       "      <td>49.8</td>\n",
       "      <td>50.6</td>\n",
       "      <td>48.2</td>\n",
       "      <td>28.0</td>\n",
       "      <td>-921.52</td>\n",
       "    </tr>\n",
       "    <tr>\n",
       "      <th>...</th>\n",
       "      <td>...</td>\n",
       "      <td>...</td>\n",
       "      <td>...</td>\n",
       "      <td>...</td>\n",
       "      <td>...</td>\n",
       "      <td>...</td>\n",
       "      <td>...</td>\n",
       "      <td>...</td>\n",
       "      <td>...</td>\n",
       "      <td>...</td>\n",
       "      <td>...</td>\n",
       "      <td>...</td>\n",
       "      <td>...</td>\n",
       "      <td>...</td>\n",
       "      <td>...</td>\n",
       "      <td>...</td>\n",
       "      <td>...</td>\n",
       "      <td>...</td>\n",
       "      <td>...</td>\n",
       "      <td>...</td>\n",
       "      <td>...</td>\n",
       "    </tr>\n",
       "    <tr>\n",
       "      <th>195</th>\n",
       "      <td>B1</td>\n",
       "      <td>194121</td>\n",
       "      <td>2024-06-26</td>\n",
       "      <td>21.4124</td>\n",
       "      <td>169.0</td>\n",
       "      <td>88.0</td>\n",
       "      <td>124.3</td>\n",
       "      <td>32.6</td>\n",
       "      <td>1940.00</td>\n",
       "      <td>2340.0</td>\n",
       "      <td>...</td>\n",
       "      <td>2270.0</td>\n",
       "      <td>2230.0</td>\n",
       "      <td>2189.3</td>\n",
       "      <td>26</td>\n",
       "      <td>6</td>\n",
       "      <td>40.0</td>\n",
       "      <td>30.0</td>\n",
       "      <td>40.0</td>\n",
       "      <td>40.7</td>\n",
       "      <td>249.30</td>\n",
       "    </tr>\n",
       "    <tr>\n",
       "      <th>196</th>\n",
       "      <td>B1</td>\n",
       "      <td>194121</td>\n",
       "      <td>2024-06-27</td>\n",
       "      <td>21.4471</td>\n",
       "      <td>168.9</td>\n",
       "      <td>88.0</td>\n",
       "      <td>120.2</td>\n",
       "      <td>33.6</td>\n",
       "      <td>2056.28</td>\n",
       "      <td>2340.0</td>\n",
       "      <td>...</td>\n",
       "      <td>2269.6</td>\n",
       "      <td>2229.6</td>\n",
       "      <td>2187.0</td>\n",
       "      <td>27</td>\n",
       "      <td>6</td>\n",
       "      <td>40.0</td>\n",
       "      <td>30.4</td>\n",
       "      <td>40.0</td>\n",
       "      <td>42.6</td>\n",
       "      <td>130.72</td>\n",
       "    </tr>\n",
       "    <tr>\n",
       "      <th>197</th>\n",
       "      <td>B1</td>\n",
       "      <td>194121</td>\n",
       "      <td>2024-06-28</td>\n",
       "      <td>21.4906</td>\n",
       "      <td>169.3</td>\n",
       "      <td>88.0</td>\n",
       "      <td>124.1</td>\n",
       "      <td>34.2</td>\n",
       "      <td>2015.42</td>\n",
       "      <td>2340.0</td>\n",
       "      <td>...</td>\n",
       "      <td>2260.0</td>\n",
       "      <td>2220.0</td>\n",
       "      <td>2187.0</td>\n",
       "      <td>28</td>\n",
       "      <td>6</td>\n",
       "      <td>40.0</td>\n",
       "      <td>40.0</td>\n",
       "      <td>40.0</td>\n",
       "      <td>33.0</td>\n",
       "      <td>171.58</td>\n",
       "    </tr>\n",
       "    <tr>\n",
       "      <th>198</th>\n",
       "      <td>B1</td>\n",
       "      <td>194121</td>\n",
       "      <td>2024-06-29</td>\n",
       "      <td>21.4194</td>\n",
       "      <td>168.8</td>\n",
       "      <td>88.0</td>\n",
       "      <td>120.0</td>\n",
       "      <td>33.5</td>\n",
       "      <td>2020.28</td>\n",
       "      <td>2340.0</td>\n",
       "      <td>...</td>\n",
       "      <td>2260.0</td>\n",
       "      <td>2220.0</td>\n",
       "      <td>2187.0</td>\n",
       "      <td>29</td>\n",
       "      <td>6</td>\n",
       "      <td>40.0</td>\n",
       "      <td>40.0</td>\n",
       "      <td>40.0</td>\n",
       "      <td>33.0</td>\n",
       "      <td>166.72</td>\n",
       "    </tr>\n",
       "    <tr>\n",
       "      <th>199</th>\n",
       "      <td>B1</td>\n",
       "      <td>194121</td>\n",
       "      <td>2024-06-30</td>\n",
       "      <td>21.5485</td>\n",
       "      <td>169.2</td>\n",
       "      <td>88.9</td>\n",
       "      <td>122.9</td>\n",
       "      <td>34.6</td>\n",
       "      <td>2055.56</td>\n",
       "      <td>2340.0</td>\n",
       "      <td>...</td>\n",
       "      <td>2260.0</td>\n",
       "      <td>2220.0</td>\n",
       "      <td>2190.0</td>\n",
       "      <td>30</td>\n",
       "      <td>6</td>\n",
       "      <td>40.0</td>\n",
       "      <td>40.0</td>\n",
       "      <td>40.0</td>\n",
       "      <td>30.0</td>\n",
       "      <td>134.44</td>\n",
       "    </tr>\n",
       "  </tbody>\n",
       "</table>\n",
       "<p>200 rows × 21 columns</p>\n",
       "</div>"
      ],
      "text/plain": [
       "    Linha de prod Ordem de prod Data de prod  Gotas cortadas (toneladas)  \\\n",
       "0              B1        193112   2024-01-01                     21.8905   \n",
       "1              B1        193112   2024-01-02                     21.8574   \n",
       "2              B1        193112   2024-01-03                      0.9849   \n",
       "3              B1        192970   2024-01-03                     20.9484   \n",
       "4              B1        192970   2024-01-04                     21.0216   \n",
       "..            ...           ...          ...                         ...   \n",
       "195            B1        194121   2024-06-26                     21.4124   \n",
       "196            B1        194121   2024-06-27                     21.4471   \n",
       "197            B1        194121   2024-06-28                     21.4906   \n",
       "198            B1        194121   2024-06-29                     21.4194   \n",
       "199            B1        194121   2024-06-30                     21.5485   \n",
       "\n",
       "     Peso médio (Kg)  Cortes por minuto  Comprimento médio (mm)  Diâmetro  \\\n",
       "0              168.4               90.0                    78.2      41.6   \n",
       "1              168.3               90.0                    77.6      41.6   \n",
       "2              167.8               90.0                   110.4      32.5   \n",
       "3              169.3               90.0                   110.4      32.5   \n",
       "4              169.7               89.0                    85.6      18.1   \n",
       "..               ...                ...                     ...       ...   \n",
       "195            169.0               88.0                   124.3      32.6   \n",
       "196            168.9               88.0                   120.2      33.6   \n",
       "197            169.3               88.0                   124.1      34.2   \n",
       "198            168.8               88.0                   120.0      33.5   \n",
       "199            169.2               88.9                   122.9      34.6   \n",
       "\n",
       "     Temperatura (F°)  Tras-PV (F°)  ...  Agit-PV (F°)  Meio-PV (F°)  \\\n",
       "0             2059.52        2320.0  ...        2280.0        2260.0   \n",
       "1             2053.04        2320.0  ...        2280.0        2260.0   \n",
       "2             2505.02        2341.1  ...        2258.9        2220.3   \n",
       "3             2505.02        2341.1  ...        2258.9        2201.6   \n",
       "4             3094.52        2349.6  ...        2249.2        2201.0   \n",
       "..                ...           ...  ...           ...           ...   \n",
       "195           1940.00        2340.0  ...        2270.0        2230.0   \n",
       "196           2056.28        2340.0  ...        2269.6        2229.6   \n",
       "197           2015.42        2340.0  ...        2260.0        2220.0   \n",
       "198           2020.28        2340.0  ...        2260.0        2220.0   \n",
       "199           2055.56        2340.0  ...        2260.0        2220.0   \n",
       "\n",
       "     Frente-PV (F°)  Dia  Mês  Diferença Tras-Fritas  Diferença Fritas-Agit  \\\n",
       "0            2203.0    1    1                   10.0                   30.0   \n",
       "1            2202.6    2    1                   10.0                   30.0   \n",
       "2            2184.2    3    1                   38.2                   44.0   \n",
       "3            2176.4    3    1                   38.2                   44.0   \n",
       "4            2173.0    4    1                   49.8                   50.6   \n",
       "..              ...  ...  ...                    ...                    ...   \n",
       "195          2189.3   26    6                   40.0                   30.0   \n",
       "196          2187.0   27    6                   40.0                   30.4   \n",
       "197          2187.0   28    6                   40.0                   40.0   \n",
       "198          2187.0   29    6                   40.0                   40.0   \n",
       "199          2190.0   30    6                   40.0                   40.0   \n",
       "\n",
       "     Diferença Agit-Meio  Diferença Meio-Frente  Diferença Frente-Gota  \n",
       "0                   20.0                   57.0                 143.48  \n",
       "1                   20.0                   57.4                 149.56  \n",
       "2                   38.6                   36.1                -320.82  \n",
       "3                   57.3                   25.2                -328.62  \n",
       "4                   48.2                   28.0                -921.52  \n",
       "..                   ...                    ...                    ...  \n",
       "195                 40.0                   40.7                 249.30  \n",
       "196                 40.0                   42.6                 130.72  \n",
       "197                 40.0                   33.0                 171.58  \n",
       "198                 40.0                   33.0                 166.72  \n",
       "199                 40.0                   30.0                 134.44  \n",
       "\n",
       "[200 rows x 21 columns]"
      ]
     },
     "execution_count": 60,
     "metadata": {},
     "output_type": "execute_result"
    }
   ],
   "source": [
    "df_valores_mensais['Diferença Tras-Fritas'] = df_valores_mensais['Tras-PV (F°)'] - df_valores_mensais['Fritas-PV (F°)']\n",
    "df_valores_mensais['Diferença Fritas-Agit'] = df_valores_mensais['Fritas-PV (F°)'] - df_valores_mensais['Agit-PV (F°)']\n",
    "df_valores_mensais['Diferença Agit-Meio'] = df_valores_mensais['Agit-PV (F°)'] - df_valores_mensais['Meio-PV (F°)']\n",
    "df_valores_mensais['Diferença Meio-Frente'] = df_valores_mensais['Meio-PV (F°)'] - df_valores_mensais['Frente-PV (F°)']\n",
    "df_valores_mensais['Diferença Frente-Gota'] = df_valores_mensais['Frente-PV (F°)'] - df_valores_mensais['Temperatura (F°)']\n",
    "\n",
    "df_valores_mensais"
   ]
  },
  {
   "cell_type": "markdown",
   "metadata": {},
   "source": [
    "### Média mensal das temperaturas"
   ]
  },
  {
   "cell_type": "code",
   "execution_count": 61,
   "metadata": {},
   "outputs": [
    {
     "data": {
      "application/vnd.plotly.v1+json": {
       "config": {
        "plotlyServerURL": "https://plot.ly"
       },
       "data": [
        {
         "alignmentgroup": "True",
         "hovertemplate": "Etapa=Diferença Tras-Fritas<br>Mês=%{x}<br>Diferença (F°)=%{y}<extra></extra>",
         "legendgroup": "Diferença Tras-Fritas",
         "marker": {
          "color": "#636efa",
          "pattern": {
           "shape": ""
          }
         },
         "name": "Diferença Tras-Fritas",
         "offsetgroup": "Diferença Tras-Fritas",
         "orientation": "v",
         "showlegend": true,
         "textposition": "auto",
         "type": "bar",
         "x": [
          1,
          2,
          3,
          4,
          5,
          6
         ],
         "xaxis": "x",
         "y": [
          35.66,
          33.27,
          36.96,
          37.59,
          47.45,
          26.9
         ],
         "yaxis": "y"
        },
        {
         "alignmentgroup": "True",
         "hovertemplate": "Etapa=Diferença Fritas-Agit<br>Mês=%{x}<br>Diferença (F°)=%{y}<extra></extra>",
         "legendgroup": "Diferença Fritas-Agit",
         "marker": {
          "color": "#EF553B",
          "pattern": {
           "shape": ""
          }
         },
         "name": "Diferença Fritas-Agit",
         "offsetgroup": "Diferença Fritas-Agit",
         "orientation": "v",
         "showlegend": true,
         "textposition": "auto",
         "type": "bar",
         "x": [
          1,
          2,
          3,
          4,
          5,
          6
         ],
         "xaxis": "x",
         "y": [
          46.27,
          40.36,
          41.17,
          34.48,
          42.14,
          44.95
         ],
         "yaxis": "y"
        },
        {
         "alignmentgroup": "True",
         "hovertemplate": "Etapa=Diferença Agit-Meio<br>Mês=%{x}<br>Diferença (F°)=%{y}<extra></extra>",
         "legendgroup": "Diferença Agit-Meio",
         "marker": {
          "color": "#00cc96",
          "pattern": {
           "shape": ""
          }
         },
         "name": "Diferença Agit-Meio",
         "offsetgroup": "Diferença Agit-Meio",
         "orientation": "v",
         "showlegend": true,
         "textposition": "auto",
         "type": "bar",
         "x": [
          1,
          2,
          3,
          4,
          5,
          6
         ],
         "xaxis": "x",
         "y": [
          39.71,
          32.94,
          32.11,
          39.79,
          37.79,
          36.1
         ],
         "yaxis": "y"
        },
        {
         "alignmentgroup": "True",
         "hovertemplate": "Etapa=Diferença Meio-Frente<br>Mês=%{x}<br>Diferença (F°)=%{y}<extra></extra>",
         "legendgroup": "Diferença Meio-Frente",
         "marker": {
          "color": "#ab63fa",
          "pattern": {
           "shape": ""
          }
         },
         "name": "Diferença Meio-Frente",
         "offsetgroup": "Diferença Meio-Frente",
         "orientation": "v",
         "showlegend": true,
         "textposition": "auto",
         "type": "bar",
         "x": [
          1,
          2,
          3,
          4,
          5,
          6
         ],
         "xaxis": "x",
         "y": [
          45.44,
          57.1,
          48.31,
          51.68,
          50.24,
          51.14
         ],
         "yaxis": "y"
        }
       ],
       "layout": {
        "barmode": "group",
        "legend": {
         "title": {
          "text": "Etapa"
         },
         "tracegroupgap": 0
        },
        "template": {
         "data": {
          "bar": [
           {
            "error_x": {
             "color": "#2a3f5f"
            },
            "error_y": {
             "color": "#2a3f5f"
            },
            "marker": {
             "line": {
              "color": "#E5ECF6",
              "width": 0.5
             },
             "pattern": {
              "fillmode": "overlay",
              "size": 10,
              "solidity": 0.2
             }
            },
            "type": "bar"
           }
          ],
          "barpolar": [
           {
            "marker": {
             "line": {
              "color": "#E5ECF6",
              "width": 0.5
             },
             "pattern": {
              "fillmode": "overlay",
              "size": 10,
              "solidity": 0.2
             }
            },
            "type": "barpolar"
           }
          ],
          "carpet": [
           {
            "aaxis": {
             "endlinecolor": "#2a3f5f",
             "gridcolor": "white",
             "linecolor": "white",
             "minorgridcolor": "white",
             "startlinecolor": "#2a3f5f"
            },
            "baxis": {
             "endlinecolor": "#2a3f5f",
             "gridcolor": "white",
             "linecolor": "white",
             "minorgridcolor": "white",
             "startlinecolor": "#2a3f5f"
            },
            "type": "carpet"
           }
          ],
          "choropleth": [
           {
            "colorbar": {
             "outlinewidth": 0,
             "ticks": ""
            },
            "type": "choropleth"
           }
          ],
          "contour": [
           {
            "colorbar": {
             "outlinewidth": 0,
             "ticks": ""
            },
            "colorscale": [
             [
              0,
              "#0d0887"
             ],
             [
              0.1111111111111111,
              "#46039f"
             ],
             [
              0.2222222222222222,
              "#7201a8"
             ],
             [
              0.3333333333333333,
              "#9c179e"
             ],
             [
              0.4444444444444444,
              "#bd3786"
             ],
             [
              0.5555555555555556,
              "#d8576b"
             ],
             [
              0.6666666666666666,
              "#ed7953"
             ],
             [
              0.7777777777777778,
              "#fb9f3a"
             ],
             [
              0.8888888888888888,
              "#fdca26"
             ],
             [
              1,
              "#f0f921"
             ]
            ],
            "type": "contour"
           }
          ],
          "contourcarpet": [
           {
            "colorbar": {
             "outlinewidth": 0,
             "ticks": ""
            },
            "type": "contourcarpet"
           }
          ],
          "heatmap": [
           {
            "colorbar": {
             "outlinewidth": 0,
             "ticks": ""
            },
            "colorscale": [
             [
              0,
              "#0d0887"
             ],
             [
              0.1111111111111111,
              "#46039f"
             ],
             [
              0.2222222222222222,
              "#7201a8"
             ],
             [
              0.3333333333333333,
              "#9c179e"
             ],
             [
              0.4444444444444444,
              "#bd3786"
             ],
             [
              0.5555555555555556,
              "#d8576b"
             ],
             [
              0.6666666666666666,
              "#ed7953"
             ],
             [
              0.7777777777777778,
              "#fb9f3a"
             ],
             [
              0.8888888888888888,
              "#fdca26"
             ],
             [
              1,
              "#f0f921"
             ]
            ],
            "type": "heatmap"
           }
          ],
          "heatmapgl": [
           {
            "colorbar": {
             "outlinewidth": 0,
             "ticks": ""
            },
            "colorscale": [
             [
              0,
              "#0d0887"
             ],
             [
              0.1111111111111111,
              "#46039f"
             ],
             [
              0.2222222222222222,
              "#7201a8"
             ],
             [
              0.3333333333333333,
              "#9c179e"
             ],
             [
              0.4444444444444444,
              "#bd3786"
             ],
             [
              0.5555555555555556,
              "#d8576b"
             ],
             [
              0.6666666666666666,
              "#ed7953"
             ],
             [
              0.7777777777777778,
              "#fb9f3a"
             ],
             [
              0.8888888888888888,
              "#fdca26"
             ],
             [
              1,
              "#f0f921"
             ]
            ],
            "type": "heatmapgl"
           }
          ],
          "histogram": [
           {
            "marker": {
             "pattern": {
              "fillmode": "overlay",
              "size": 10,
              "solidity": 0.2
             }
            },
            "type": "histogram"
           }
          ],
          "histogram2d": [
           {
            "colorbar": {
             "outlinewidth": 0,
             "ticks": ""
            },
            "colorscale": [
             [
              0,
              "#0d0887"
             ],
             [
              0.1111111111111111,
              "#46039f"
             ],
             [
              0.2222222222222222,
              "#7201a8"
             ],
             [
              0.3333333333333333,
              "#9c179e"
             ],
             [
              0.4444444444444444,
              "#bd3786"
             ],
             [
              0.5555555555555556,
              "#d8576b"
             ],
             [
              0.6666666666666666,
              "#ed7953"
             ],
             [
              0.7777777777777778,
              "#fb9f3a"
             ],
             [
              0.8888888888888888,
              "#fdca26"
             ],
             [
              1,
              "#f0f921"
             ]
            ],
            "type": "histogram2d"
           }
          ],
          "histogram2dcontour": [
           {
            "colorbar": {
             "outlinewidth": 0,
             "ticks": ""
            },
            "colorscale": [
             [
              0,
              "#0d0887"
             ],
             [
              0.1111111111111111,
              "#46039f"
             ],
             [
              0.2222222222222222,
              "#7201a8"
             ],
             [
              0.3333333333333333,
              "#9c179e"
             ],
             [
              0.4444444444444444,
              "#bd3786"
             ],
             [
              0.5555555555555556,
              "#d8576b"
             ],
             [
              0.6666666666666666,
              "#ed7953"
             ],
             [
              0.7777777777777778,
              "#fb9f3a"
             ],
             [
              0.8888888888888888,
              "#fdca26"
             ],
             [
              1,
              "#f0f921"
             ]
            ],
            "type": "histogram2dcontour"
           }
          ],
          "mesh3d": [
           {
            "colorbar": {
             "outlinewidth": 0,
             "ticks": ""
            },
            "type": "mesh3d"
           }
          ],
          "parcoords": [
           {
            "line": {
             "colorbar": {
              "outlinewidth": 0,
              "ticks": ""
             }
            },
            "type": "parcoords"
           }
          ],
          "pie": [
           {
            "automargin": true,
            "type": "pie"
           }
          ],
          "scatter": [
           {
            "fillpattern": {
             "fillmode": "overlay",
             "size": 10,
             "solidity": 0.2
            },
            "type": "scatter"
           }
          ],
          "scatter3d": [
           {
            "line": {
             "colorbar": {
              "outlinewidth": 0,
              "ticks": ""
             }
            },
            "marker": {
             "colorbar": {
              "outlinewidth": 0,
              "ticks": ""
             }
            },
            "type": "scatter3d"
           }
          ],
          "scattercarpet": [
           {
            "marker": {
             "colorbar": {
              "outlinewidth": 0,
              "ticks": ""
             }
            },
            "type": "scattercarpet"
           }
          ],
          "scattergeo": [
           {
            "marker": {
             "colorbar": {
              "outlinewidth": 0,
              "ticks": ""
             }
            },
            "type": "scattergeo"
           }
          ],
          "scattergl": [
           {
            "marker": {
             "colorbar": {
              "outlinewidth": 0,
              "ticks": ""
             }
            },
            "type": "scattergl"
           }
          ],
          "scattermapbox": [
           {
            "marker": {
             "colorbar": {
              "outlinewidth": 0,
              "ticks": ""
             }
            },
            "type": "scattermapbox"
           }
          ],
          "scatterpolar": [
           {
            "marker": {
             "colorbar": {
              "outlinewidth": 0,
              "ticks": ""
             }
            },
            "type": "scatterpolar"
           }
          ],
          "scatterpolargl": [
           {
            "marker": {
             "colorbar": {
              "outlinewidth": 0,
              "ticks": ""
             }
            },
            "type": "scatterpolargl"
           }
          ],
          "scatterternary": [
           {
            "marker": {
             "colorbar": {
              "outlinewidth": 0,
              "ticks": ""
             }
            },
            "type": "scatterternary"
           }
          ],
          "surface": [
           {
            "colorbar": {
             "outlinewidth": 0,
             "ticks": ""
            },
            "colorscale": [
             [
              0,
              "#0d0887"
             ],
             [
              0.1111111111111111,
              "#46039f"
             ],
             [
              0.2222222222222222,
              "#7201a8"
             ],
             [
              0.3333333333333333,
              "#9c179e"
             ],
             [
              0.4444444444444444,
              "#bd3786"
             ],
             [
              0.5555555555555556,
              "#d8576b"
             ],
             [
              0.6666666666666666,
              "#ed7953"
             ],
             [
              0.7777777777777778,
              "#fb9f3a"
             ],
             [
              0.8888888888888888,
              "#fdca26"
             ],
             [
              1,
              "#f0f921"
             ]
            ],
            "type": "surface"
           }
          ],
          "table": [
           {
            "cells": {
             "fill": {
              "color": "#EBF0F8"
             },
             "line": {
              "color": "white"
             }
            },
            "header": {
             "fill": {
              "color": "#C8D4E3"
             },
             "line": {
              "color": "white"
             }
            },
            "type": "table"
           }
          ]
         },
         "layout": {
          "annotationdefaults": {
           "arrowcolor": "#2a3f5f",
           "arrowhead": 0,
           "arrowwidth": 1
          },
          "autotypenumbers": "strict",
          "coloraxis": {
           "colorbar": {
            "outlinewidth": 0,
            "ticks": ""
           }
          },
          "colorscale": {
           "diverging": [
            [
             0,
             "#8e0152"
            ],
            [
             0.1,
             "#c51b7d"
            ],
            [
             0.2,
             "#de77ae"
            ],
            [
             0.3,
             "#f1b6da"
            ],
            [
             0.4,
             "#fde0ef"
            ],
            [
             0.5,
             "#f7f7f7"
            ],
            [
             0.6,
             "#e6f5d0"
            ],
            [
             0.7,
             "#b8e186"
            ],
            [
             0.8,
             "#7fbc41"
            ],
            [
             0.9,
             "#4d9221"
            ],
            [
             1,
             "#276419"
            ]
           ],
           "sequential": [
            [
             0,
             "#0d0887"
            ],
            [
             0.1111111111111111,
             "#46039f"
            ],
            [
             0.2222222222222222,
             "#7201a8"
            ],
            [
             0.3333333333333333,
             "#9c179e"
            ],
            [
             0.4444444444444444,
             "#bd3786"
            ],
            [
             0.5555555555555556,
             "#d8576b"
            ],
            [
             0.6666666666666666,
             "#ed7953"
            ],
            [
             0.7777777777777778,
             "#fb9f3a"
            ],
            [
             0.8888888888888888,
             "#fdca26"
            ],
            [
             1,
             "#f0f921"
            ]
           ],
           "sequentialminus": [
            [
             0,
             "#0d0887"
            ],
            [
             0.1111111111111111,
             "#46039f"
            ],
            [
             0.2222222222222222,
             "#7201a8"
            ],
            [
             0.3333333333333333,
             "#9c179e"
            ],
            [
             0.4444444444444444,
             "#bd3786"
            ],
            [
             0.5555555555555556,
             "#d8576b"
            ],
            [
             0.6666666666666666,
             "#ed7953"
            ],
            [
             0.7777777777777778,
             "#fb9f3a"
            ],
            [
             0.8888888888888888,
             "#fdca26"
            ],
            [
             1,
             "#f0f921"
            ]
           ]
          },
          "colorway": [
           "#636efa",
           "#EF553B",
           "#00cc96",
           "#ab63fa",
           "#FFA15A",
           "#19d3f3",
           "#FF6692",
           "#B6E880",
           "#FF97FF",
           "#FECB52"
          ],
          "font": {
           "color": "#2a3f5f"
          },
          "geo": {
           "bgcolor": "white",
           "lakecolor": "white",
           "landcolor": "#E5ECF6",
           "showlakes": true,
           "showland": true,
           "subunitcolor": "white"
          },
          "hoverlabel": {
           "align": "left"
          },
          "hovermode": "closest",
          "mapbox": {
           "style": "light"
          },
          "paper_bgcolor": "white",
          "plot_bgcolor": "#E5ECF6",
          "polar": {
           "angularaxis": {
            "gridcolor": "white",
            "linecolor": "white",
            "ticks": ""
           },
           "bgcolor": "#E5ECF6",
           "radialaxis": {
            "gridcolor": "white",
            "linecolor": "white",
            "ticks": ""
           }
          },
          "scene": {
           "xaxis": {
            "backgroundcolor": "#E5ECF6",
            "gridcolor": "white",
            "gridwidth": 2,
            "linecolor": "white",
            "showbackground": true,
            "ticks": "",
            "zerolinecolor": "white"
           },
           "yaxis": {
            "backgroundcolor": "#E5ECF6",
            "gridcolor": "white",
            "gridwidth": 2,
            "linecolor": "white",
            "showbackground": true,
            "ticks": "",
            "zerolinecolor": "white"
           },
           "zaxis": {
            "backgroundcolor": "#E5ECF6",
            "gridcolor": "white",
            "gridwidth": 2,
            "linecolor": "white",
            "showbackground": true,
            "ticks": "",
            "zerolinecolor": "white"
           }
          },
          "shapedefaults": {
           "line": {
            "color": "#2a3f5f"
           }
          },
          "ternary": {
           "aaxis": {
            "gridcolor": "white",
            "linecolor": "white",
            "ticks": ""
           },
           "baxis": {
            "gridcolor": "white",
            "linecolor": "white",
            "ticks": ""
           },
           "bgcolor": "#E5ECF6",
           "caxis": {
            "gridcolor": "white",
            "linecolor": "white",
            "ticks": ""
           }
          },
          "title": {
           "x": 0.05
          },
          "xaxis": {
           "automargin": true,
           "gridcolor": "white",
           "linecolor": "white",
           "ticks": "",
           "title": {
            "standoff": 15
           },
           "zerolinecolor": "white",
           "zerolinewidth": 2
          },
          "yaxis": {
           "automargin": true,
           "gridcolor": "white",
           "linecolor": "white",
           "ticks": "",
           "title": {
            "standoff": 15
           },
           "zerolinecolor": "white",
           "zerolinewidth": 2
          }
         }
        },
        "title": {
         "text": "Diferença Linear entre as Etapas por Mês"
        },
        "xaxis": {
         "anchor": "y",
         "domain": [
          0,
          1
         ],
         "title": {
          "text": "Mês"
         }
        },
        "yaxis": {
         "anchor": "x",
         "domain": [
          0,
          1
         ],
         "title": {
          "text": "Diferença (F°)"
         }
        }
       }
      }
     },
     "metadata": {},
     "output_type": "display_data"
    }
   ],
   "source": [
    "media_diferenca_pvs_mensal = df_valores_mensais.groupby('Mês')[['Diferença Tras-Fritas', 'Diferença Fritas-Agit', \n",
    "                                                          'Diferença Agit-Meio', 'Diferença Meio-Frente']].mean().round(2)\n",
    "\n",
    "fig_diferenca_linear = px.bar(\n",
    "    media_diferenca_pvs_mensal, \n",
    "    x=media_diferenca_pvs_mensal.index, \n",
    "    y=media_diferenca_pvs_mensal.columns, \n",
    "    title=\"Diferença Linear entre as Etapas por Mês\",\n",
    "    labels={'Mês': 'Mês', 'value': 'Diferença (F°)', 'variable': 'Etapa'},\n",
    "    barmode='group'\n",
    ")\n",
    "\n",
    "fig_diferenca_linear.show()"
   ]
  },
  {
   "cell_type": "markdown",
   "metadata": {},
   "source": [
    "# Trabalhando com Frente-PV e Temperatura da gota "
   ]
  },
  {
   "cell_type": "markdown",
   "metadata": {},
   "source": [
    "### Estatísticas "
   ]
  },
  {
   "cell_type": "code",
   "execution_count": 62,
   "metadata": {},
   "outputs": [
    {
     "data": {
      "text/html": [
       "<div>\n",
       "<style scoped>\n",
       "    .dataframe tbody tr th:only-of-type {\n",
       "        vertical-align: middle;\n",
       "    }\n",
       "\n",
       "    .dataframe tbody tr th {\n",
       "        vertical-align: top;\n",
       "    }\n",
       "\n",
       "    .dataframe thead th {\n",
       "        text-align: right;\n",
       "    }\n",
       "</style>\n",
       "<table border=\"1\" class=\"dataframe\">\n",
       "  <thead>\n",
       "    <tr style=\"text-align: right;\">\n",
       "      <th></th>\n",
       "      <th>Temperatura (F°)</th>\n",
       "      <th>Frente-PV (F°)</th>\n",
       "    </tr>\n",
       "  </thead>\n",
       "  <tbody>\n",
       "    <tr>\n",
       "      <th>Média</th>\n",
       "      <td>2034.46</td>\n",
       "      <td>2179.99</td>\n",
       "    </tr>\n",
       "    <tr>\n",
       "      <th>Mediana</th>\n",
       "      <td>2010.74</td>\n",
       "      <td>2176.05</td>\n",
       "    </tr>\n",
       "    <tr>\n",
       "      <th>Desvio Padrão</th>\n",
       "      <td>339.86</td>\n",
       "      <td>15.92</td>\n",
       "    </tr>\n",
       "  </tbody>\n",
       "</table>\n",
       "</div>"
      ],
      "text/plain": [
       "               Temperatura (F°)  Frente-PV (F°)\n",
       "Média                   2034.46         2179.99\n",
       "Mediana                 2010.74         2176.05\n",
       "Desvio Padrão            339.86           15.92"
      ]
     },
     "execution_count": 62,
     "metadata": {},
     "output_type": "execute_result"
    }
   ],
   "source": [
    "df_frente_gota = df_valores_mensais[['Temperatura (F°)', 'Frente-PV (F°)', 'Mês']]\n",
    "\n",
    "df_estatisticas_agrupado = pd.DataFrame({\n",
    "    'Média': df_frente_gota[['Temperatura (F°)', 'Frente-PV (F°)']].mean().round(2),\n",
    "    'Mediana': df_frente_gota[['Temperatura (F°)', 'Frente-PV (F°)']].median().round(2),\n",
    "    'Desvio Padrão': df_frente_gota[['Temperatura (F°)', 'Frente-PV (F°)']].std().round(2)\n",
    "}).T \n",
    "\n",
    "df_estatisticas_agrupado"
   ]
  },
  {
   "cell_type": "markdown",
   "metadata": {},
   "source": [
    "### Estatísticas por Mês"
   ]
  },
  {
   "cell_type": "code",
   "execution_count": 63,
   "metadata": {},
   "outputs": [
    {
     "data": {
      "text/html": [
       "<div>\n",
       "<style scoped>\n",
       "    .dataframe tbody tr th:only-of-type {\n",
       "        vertical-align: middle;\n",
       "    }\n",
       "\n",
       "    .dataframe tbody tr th {\n",
       "        vertical-align: top;\n",
       "    }\n",
       "\n",
       "    .dataframe thead th {\n",
       "        text-align: right;\n",
       "    }\n",
       "</style>\n",
       "<table border=\"1\" class=\"dataframe\">\n",
       "  <thead>\n",
       "    <tr style=\"text-align: right;\">\n",
       "      <th></th>\n",
       "      <th>Média Temperatura (F°)</th>\n",
       "      <th>Mediana Temperatura (F°)</th>\n",
       "      <th>Desvio Padrão Temperatura (F°)</th>\n",
       "      <th>Média Frente-PV (F°)</th>\n",
       "      <th>Mediana Frente-PV (F°)</th>\n",
       "      <th>Desvio Padrão Frente-PV (F°)</th>\n",
       "    </tr>\n",
       "    <tr>\n",
       "      <th>Mês</th>\n",
       "      <th></th>\n",
       "      <th></th>\n",
       "      <th></th>\n",
       "      <th></th>\n",
       "      <th></th>\n",
       "      <th></th>\n",
       "    </tr>\n",
       "  </thead>\n",
       "  <tbody>\n",
       "    <tr>\n",
       "      <th>1</th>\n",
       "      <td>2179.02</td>\n",
       "      <td>2056.28</td>\n",
       "      <td>526.34</td>\n",
       "      <td>2175.65</td>\n",
       "      <td>2176.15</td>\n",
       "      <td>10.64</td>\n",
       "    </tr>\n",
       "    <tr>\n",
       "      <th>2</th>\n",
       "      <td>2074.26</td>\n",
       "      <td>1970.78</td>\n",
       "      <td>193.82</td>\n",
       "      <td>2172.74</td>\n",
       "      <td>2175.00</td>\n",
       "      <td>13.55</td>\n",
       "    </tr>\n",
       "    <tr>\n",
       "      <th>3</th>\n",
       "      <td>1961.07</td>\n",
       "      <td>2002.10</td>\n",
       "      <td>353.02</td>\n",
       "      <td>2185.92</td>\n",
       "      <td>2175.00</td>\n",
       "      <td>16.89</td>\n",
       "    </tr>\n",
       "    <tr>\n",
       "      <th>4</th>\n",
       "      <td>2102.35</td>\n",
       "      <td>2085.26</td>\n",
       "      <td>126.41</td>\n",
       "      <td>2179.88</td>\n",
       "      <td>2175.00</td>\n",
       "      <td>15.78</td>\n",
       "    </tr>\n",
       "    <tr>\n",
       "      <th>5</th>\n",
       "      <td>1858.33</td>\n",
       "      <td>1927.40</td>\n",
       "      <td>292.72</td>\n",
       "      <td>2185.86</td>\n",
       "      <td>2180.00</td>\n",
       "      <td>17.53</td>\n",
       "    </tr>\n",
       "    <tr>\n",
       "      <th>6</th>\n",
       "      <td>2025.89</td>\n",
       "      <td>2028.65</td>\n",
       "      <td>351.56</td>\n",
       "      <td>2179.30</td>\n",
       "      <td>2176.70</td>\n",
       "      <td>16.55</td>\n",
       "    </tr>\n",
       "  </tbody>\n",
       "</table>\n",
       "</div>"
      ],
      "text/plain": [
       "     Média Temperatura (F°)  Mediana Temperatura (F°)  \\\n",
       "Mês                                                     \n",
       "1                   2179.02                   2056.28   \n",
       "2                   2074.26                   1970.78   \n",
       "3                   1961.07                   2002.10   \n",
       "4                   2102.35                   2085.26   \n",
       "5                   1858.33                   1927.40   \n",
       "6                   2025.89                   2028.65   \n",
       "\n",
       "     Desvio Padrão Temperatura (F°)  Média Frente-PV (F°)  \\\n",
       "Mês                                                         \n",
       "1                            526.34               2175.65   \n",
       "2                            193.82               2172.74   \n",
       "3                            353.02               2185.92   \n",
       "4                            126.41               2179.88   \n",
       "5                            292.72               2185.86   \n",
       "6                            351.56               2179.30   \n",
       "\n",
       "     Mediana Frente-PV (F°)  Desvio Padrão Frente-PV (F°)  \n",
       "Mês                                                        \n",
       "1                   2176.15                         10.64  \n",
       "2                   2175.00                         13.55  \n",
       "3                   2175.00                         16.89  \n",
       "4                   2175.00                         15.78  \n",
       "5                   2180.00                         17.53  \n",
       "6                   2176.70                         16.55  "
      ]
     },
     "execution_count": 63,
     "metadata": {},
     "output_type": "execute_result"
    }
   ],
   "source": [
    "df_estatisticas_agrupado = df_frente_gota.groupby('Mês').agg(\n",
    "    Média=('Temperatura (F°)', 'mean'),\n",
    "    Mediana=('Temperatura (F°)', 'median'),\n",
    "    Desvio_Padrão=('Temperatura (F°)', 'std'),\n",
    ").round(2)\n",
    "\n",
    "df_estatisticas_frente_pv = df_frente_gota.groupby('Mês').agg(\n",
    "    Média=('Frente-PV (F°)', 'mean'),\n",
    "    Mediana=('Frente-PV (F°)', 'median'),\n",
    "    Desvio_Padrão=('Frente-PV (F°)', 'std'),\n",
    ").round(2)\n",
    "\n",
    "df_estatisticas_completo = pd.concat([df_estatisticas_agrupado, df_estatisticas_frente_pv], axis=1)\n",
    "\n",
    "df_estatisticas_completo.columns = [\n",
    "    'Média Temperatura (F°)', 'Mediana Temperatura (F°)', 'Desvio Padrão Temperatura (F°)', \n",
    "    'Média Frente-PV (F°)', 'Mediana Frente-PV (F°)', 'Desvio Padrão Frente-PV (F°)'\n",
    "]\n",
    "\n",
    "df_estatisticas_completo"
   ]
  },
  {
   "cell_type": "code",
   "execution_count": 64,
   "metadata": {},
   "outputs": [
    {
     "data": {
      "application/vnd.plotly.v1+json": {
       "config": {
        "plotlyServerURL": "https://plot.ly"
       },
       "data": [
        {
         "alignmentgroup": "True",
         "hovertemplate": "Colunas=Média Temperatura (F°)<br>Mês=%{x}<br>Valor Médio=%{y}<extra></extra>",
         "legendgroup": "Média Temperatura (F°)",
         "marker": {
          "color": "#636efa",
          "pattern": {
           "shape": ""
          }
         },
         "name": "Média Temperatura (F°)",
         "offsetgroup": "Média Temperatura (F°)",
         "orientation": "v",
         "showlegend": true,
         "textposition": "auto",
         "type": "bar",
         "x": [
          1,
          2,
          3,
          4,
          5,
          6
         ],
         "xaxis": "x",
         "y": [
          2179.02,
          2074.26,
          1961.07,
          2102.35,
          1858.33,
          2025.89
         ],
         "yaxis": "y"
        },
        {
         "alignmentgroup": "True",
         "hovertemplate": "Colunas=Média Frente-PV (F°)<br>Mês=%{x}<br>Valor Médio=%{y}<extra></extra>",
         "legendgroup": "Média Frente-PV (F°)",
         "marker": {
          "color": "#EF553B",
          "pattern": {
           "shape": ""
          }
         },
         "name": "Média Frente-PV (F°)",
         "offsetgroup": "Média Frente-PV (F°)",
         "orientation": "v",
         "showlegend": true,
         "textposition": "auto",
         "type": "bar",
         "x": [
          1,
          2,
          3,
          4,
          5,
          6
         ],
         "xaxis": "x",
         "y": [
          2175.65,
          2172.74,
          2185.92,
          2179.88,
          2185.86,
          2179.3
         ],
         "yaxis": "y"
        }
       ],
       "layout": {
        "barmode": "group",
        "legend": {
         "title": {
          "text": "Colunas"
         },
         "tracegroupgap": 0
        },
        "template": {
         "data": {
          "bar": [
           {
            "error_x": {
             "color": "#2a3f5f"
            },
            "error_y": {
             "color": "#2a3f5f"
            },
            "marker": {
             "line": {
              "color": "#E5ECF6",
              "width": 0.5
             },
             "pattern": {
              "fillmode": "overlay",
              "size": 10,
              "solidity": 0.2
             }
            },
            "type": "bar"
           }
          ],
          "barpolar": [
           {
            "marker": {
             "line": {
              "color": "#E5ECF6",
              "width": 0.5
             },
             "pattern": {
              "fillmode": "overlay",
              "size": 10,
              "solidity": 0.2
             }
            },
            "type": "barpolar"
           }
          ],
          "carpet": [
           {
            "aaxis": {
             "endlinecolor": "#2a3f5f",
             "gridcolor": "white",
             "linecolor": "white",
             "minorgridcolor": "white",
             "startlinecolor": "#2a3f5f"
            },
            "baxis": {
             "endlinecolor": "#2a3f5f",
             "gridcolor": "white",
             "linecolor": "white",
             "minorgridcolor": "white",
             "startlinecolor": "#2a3f5f"
            },
            "type": "carpet"
           }
          ],
          "choropleth": [
           {
            "colorbar": {
             "outlinewidth": 0,
             "ticks": ""
            },
            "type": "choropleth"
           }
          ],
          "contour": [
           {
            "colorbar": {
             "outlinewidth": 0,
             "ticks": ""
            },
            "colorscale": [
             [
              0,
              "#0d0887"
             ],
             [
              0.1111111111111111,
              "#46039f"
             ],
             [
              0.2222222222222222,
              "#7201a8"
             ],
             [
              0.3333333333333333,
              "#9c179e"
             ],
             [
              0.4444444444444444,
              "#bd3786"
             ],
             [
              0.5555555555555556,
              "#d8576b"
             ],
             [
              0.6666666666666666,
              "#ed7953"
             ],
             [
              0.7777777777777778,
              "#fb9f3a"
             ],
             [
              0.8888888888888888,
              "#fdca26"
             ],
             [
              1,
              "#f0f921"
             ]
            ],
            "type": "contour"
           }
          ],
          "contourcarpet": [
           {
            "colorbar": {
             "outlinewidth": 0,
             "ticks": ""
            },
            "type": "contourcarpet"
           }
          ],
          "heatmap": [
           {
            "colorbar": {
             "outlinewidth": 0,
             "ticks": ""
            },
            "colorscale": [
             [
              0,
              "#0d0887"
             ],
             [
              0.1111111111111111,
              "#46039f"
             ],
             [
              0.2222222222222222,
              "#7201a8"
             ],
             [
              0.3333333333333333,
              "#9c179e"
             ],
             [
              0.4444444444444444,
              "#bd3786"
             ],
             [
              0.5555555555555556,
              "#d8576b"
             ],
             [
              0.6666666666666666,
              "#ed7953"
             ],
             [
              0.7777777777777778,
              "#fb9f3a"
             ],
             [
              0.8888888888888888,
              "#fdca26"
             ],
             [
              1,
              "#f0f921"
             ]
            ],
            "type": "heatmap"
           }
          ],
          "heatmapgl": [
           {
            "colorbar": {
             "outlinewidth": 0,
             "ticks": ""
            },
            "colorscale": [
             [
              0,
              "#0d0887"
             ],
             [
              0.1111111111111111,
              "#46039f"
             ],
             [
              0.2222222222222222,
              "#7201a8"
             ],
             [
              0.3333333333333333,
              "#9c179e"
             ],
             [
              0.4444444444444444,
              "#bd3786"
             ],
             [
              0.5555555555555556,
              "#d8576b"
             ],
             [
              0.6666666666666666,
              "#ed7953"
             ],
             [
              0.7777777777777778,
              "#fb9f3a"
             ],
             [
              0.8888888888888888,
              "#fdca26"
             ],
             [
              1,
              "#f0f921"
             ]
            ],
            "type": "heatmapgl"
           }
          ],
          "histogram": [
           {
            "marker": {
             "pattern": {
              "fillmode": "overlay",
              "size": 10,
              "solidity": 0.2
             }
            },
            "type": "histogram"
           }
          ],
          "histogram2d": [
           {
            "colorbar": {
             "outlinewidth": 0,
             "ticks": ""
            },
            "colorscale": [
             [
              0,
              "#0d0887"
             ],
             [
              0.1111111111111111,
              "#46039f"
             ],
             [
              0.2222222222222222,
              "#7201a8"
             ],
             [
              0.3333333333333333,
              "#9c179e"
             ],
             [
              0.4444444444444444,
              "#bd3786"
             ],
             [
              0.5555555555555556,
              "#d8576b"
             ],
             [
              0.6666666666666666,
              "#ed7953"
             ],
             [
              0.7777777777777778,
              "#fb9f3a"
             ],
             [
              0.8888888888888888,
              "#fdca26"
             ],
             [
              1,
              "#f0f921"
             ]
            ],
            "type": "histogram2d"
           }
          ],
          "histogram2dcontour": [
           {
            "colorbar": {
             "outlinewidth": 0,
             "ticks": ""
            },
            "colorscale": [
             [
              0,
              "#0d0887"
             ],
             [
              0.1111111111111111,
              "#46039f"
             ],
             [
              0.2222222222222222,
              "#7201a8"
             ],
             [
              0.3333333333333333,
              "#9c179e"
             ],
             [
              0.4444444444444444,
              "#bd3786"
             ],
             [
              0.5555555555555556,
              "#d8576b"
             ],
             [
              0.6666666666666666,
              "#ed7953"
             ],
             [
              0.7777777777777778,
              "#fb9f3a"
             ],
             [
              0.8888888888888888,
              "#fdca26"
             ],
             [
              1,
              "#f0f921"
             ]
            ],
            "type": "histogram2dcontour"
           }
          ],
          "mesh3d": [
           {
            "colorbar": {
             "outlinewidth": 0,
             "ticks": ""
            },
            "type": "mesh3d"
           }
          ],
          "parcoords": [
           {
            "line": {
             "colorbar": {
              "outlinewidth": 0,
              "ticks": ""
             }
            },
            "type": "parcoords"
           }
          ],
          "pie": [
           {
            "automargin": true,
            "type": "pie"
           }
          ],
          "scatter": [
           {
            "fillpattern": {
             "fillmode": "overlay",
             "size": 10,
             "solidity": 0.2
            },
            "type": "scatter"
           }
          ],
          "scatter3d": [
           {
            "line": {
             "colorbar": {
              "outlinewidth": 0,
              "ticks": ""
             }
            },
            "marker": {
             "colorbar": {
              "outlinewidth": 0,
              "ticks": ""
             }
            },
            "type": "scatter3d"
           }
          ],
          "scattercarpet": [
           {
            "marker": {
             "colorbar": {
              "outlinewidth": 0,
              "ticks": ""
             }
            },
            "type": "scattercarpet"
           }
          ],
          "scattergeo": [
           {
            "marker": {
             "colorbar": {
              "outlinewidth": 0,
              "ticks": ""
             }
            },
            "type": "scattergeo"
           }
          ],
          "scattergl": [
           {
            "marker": {
             "colorbar": {
              "outlinewidth": 0,
              "ticks": ""
             }
            },
            "type": "scattergl"
           }
          ],
          "scattermapbox": [
           {
            "marker": {
             "colorbar": {
              "outlinewidth": 0,
              "ticks": ""
             }
            },
            "type": "scattermapbox"
           }
          ],
          "scatterpolar": [
           {
            "marker": {
             "colorbar": {
              "outlinewidth": 0,
              "ticks": ""
             }
            },
            "type": "scatterpolar"
           }
          ],
          "scatterpolargl": [
           {
            "marker": {
             "colorbar": {
              "outlinewidth": 0,
              "ticks": ""
             }
            },
            "type": "scatterpolargl"
           }
          ],
          "scatterternary": [
           {
            "marker": {
             "colorbar": {
              "outlinewidth": 0,
              "ticks": ""
             }
            },
            "type": "scatterternary"
           }
          ],
          "surface": [
           {
            "colorbar": {
             "outlinewidth": 0,
             "ticks": ""
            },
            "colorscale": [
             [
              0,
              "#0d0887"
             ],
             [
              0.1111111111111111,
              "#46039f"
             ],
             [
              0.2222222222222222,
              "#7201a8"
             ],
             [
              0.3333333333333333,
              "#9c179e"
             ],
             [
              0.4444444444444444,
              "#bd3786"
             ],
             [
              0.5555555555555556,
              "#d8576b"
             ],
             [
              0.6666666666666666,
              "#ed7953"
             ],
             [
              0.7777777777777778,
              "#fb9f3a"
             ],
             [
              0.8888888888888888,
              "#fdca26"
             ],
             [
              1,
              "#f0f921"
             ]
            ],
            "type": "surface"
           }
          ],
          "table": [
           {
            "cells": {
             "fill": {
              "color": "#EBF0F8"
             },
             "line": {
              "color": "white"
             }
            },
            "header": {
             "fill": {
              "color": "#C8D4E3"
             },
             "line": {
              "color": "white"
             }
            },
            "type": "table"
           }
          ]
         },
         "layout": {
          "annotationdefaults": {
           "arrowcolor": "#2a3f5f",
           "arrowhead": 0,
           "arrowwidth": 1
          },
          "autotypenumbers": "strict",
          "coloraxis": {
           "colorbar": {
            "outlinewidth": 0,
            "ticks": ""
           }
          },
          "colorscale": {
           "diverging": [
            [
             0,
             "#8e0152"
            ],
            [
             0.1,
             "#c51b7d"
            ],
            [
             0.2,
             "#de77ae"
            ],
            [
             0.3,
             "#f1b6da"
            ],
            [
             0.4,
             "#fde0ef"
            ],
            [
             0.5,
             "#f7f7f7"
            ],
            [
             0.6,
             "#e6f5d0"
            ],
            [
             0.7,
             "#b8e186"
            ],
            [
             0.8,
             "#7fbc41"
            ],
            [
             0.9,
             "#4d9221"
            ],
            [
             1,
             "#276419"
            ]
           ],
           "sequential": [
            [
             0,
             "#0d0887"
            ],
            [
             0.1111111111111111,
             "#46039f"
            ],
            [
             0.2222222222222222,
             "#7201a8"
            ],
            [
             0.3333333333333333,
             "#9c179e"
            ],
            [
             0.4444444444444444,
             "#bd3786"
            ],
            [
             0.5555555555555556,
             "#d8576b"
            ],
            [
             0.6666666666666666,
             "#ed7953"
            ],
            [
             0.7777777777777778,
             "#fb9f3a"
            ],
            [
             0.8888888888888888,
             "#fdca26"
            ],
            [
             1,
             "#f0f921"
            ]
           ],
           "sequentialminus": [
            [
             0,
             "#0d0887"
            ],
            [
             0.1111111111111111,
             "#46039f"
            ],
            [
             0.2222222222222222,
             "#7201a8"
            ],
            [
             0.3333333333333333,
             "#9c179e"
            ],
            [
             0.4444444444444444,
             "#bd3786"
            ],
            [
             0.5555555555555556,
             "#d8576b"
            ],
            [
             0.6666666666666666,
             "#ed7953"
            ],
            [
             0.7777777777777778,
             "#fb9f3a"
            ],
            [
             0.8888888888888888,
             "#fdca26"
            ],
            [
             1,
             "#f0f921"
            ]
           ]
          },
          "colorway": [
           "#636efa",
           "#EF553B",
           "#00cc96",
           "#ab63fa",
           "#FFA15A",
           "#19d3f3",
           "#FF6692",
           "#B6E880",
           "#FF97FF",
           "#FECB52"
          ],
          "font": {
           "color": "#2a3f5f"
          },
          "geo": {
           "bgcolor": "white",
           "lakecolor": "white",
           "landcolor": "#E5ECF6",
           "showlakes": true,
           "showland": true,
           "subunitcolor": "white"
          },
          "hoverlabel": {
           "align": "left"
          },
          "hovermode": "closest",
          "mapbox": {
           "style": "light"
          },
          "paper_bgcolor": "white",
          "plot_bgcolor": "#E5ECF6",
          "polar": {
           "angularaxis": {
            "gridcolor": "white",
            "linecolor": "white",
            "ticks": ""
           },
           "bgcolor": "#E5ECF6",
           "radialaxis": {
            "gridcolor": "white",
            "linecolor": "white",
            "ticks": ""
           }
          },
          "scene": {
           "xaxis": {
            "backgroundcolor": "#E5ECF6",
            "gridcolor": "white",
            "gridwidth": 2,
            "linecolor": "white",
            "showbackground": true,
            "ticks": "",
            "zerolinecolor": "white"
           },
           "yaxis": {
            "backgroundcolor": "#E5ECF6",
            "gridcolor": "white",
            "gridwidth": 2,
            "linecolor": "white",
            "showbackground": true,
            "ticks": "",
            "zerolinecolor": "white"
           },
           "zaxis": {
            "backgroundcolor": "#E5ECF6",
            "gridcolor": "white",
            "gridwidth": 2,
            "linecolor": "white",
            "showbackground": true,
            "ticks": "",
            "zerolinecolor": "white"
           }
          },
          "shapedefaults": {
           "line": {
            "color": "#2a3f5f"
           }
          },
          "ternary": {
           "aaxis": {
            "gridcolor": "white",
            "linecolor": "white",
            "ticks": ""
           },
           "baxis": {
            "gridcolor": "white",
            "linecolor": "white",
            "ticks": ""
           },
           "bgcolor": "#E5ECF6",
           "caxis": {
            "gridcolor": "white",
            "linecolor": "white",
            "ticks": ""
           }
          },
          "title": {
           "x": 0.05
          },
          "xaxis": {
           "automargin": true,
           "gridcolor": "white",
           "linecolor": "white",
           "ticks": "",
           "title": {
            "standoff": 15
           },
           "zerolinecolor": "white",
           "zerolinewidth": 2
          },
          "yaxis": {
           "automargin": true,
           "gridcolor": "white",
           "linecolor": "white",
           "ticks": "",
           "title": {
            "standoff": 15
           },
           "zerolinecolor": "white",
           "zerolinewidth": 2
          }
         }
        },
        "title": {
         "text": "Média Temperatura e Frente-PV por Mês"
        },
        "xaxis": {
         "anchor": "y",
         "domain": [
          0,
          1
         ],
         "title": {
          "text": "Mês"
         }
        },
        "yaxis": {
         "anchor": "x",
         "domain": [
          0,
          1
         ],
         "title": {
          "text": "Valor Médio"
         }
        }
       }
      }
     },
     "metadata": {},
     "output_type": "display_data"
    },
    {
     "data": {
      "application/vnd.plotly.v1+json": {
       "config": {
        "plotlyServerURL": "https://plot.ly"
       },
       "data": [
        {
         "alignmentgroup": "True",
         "hovertemplate": "Colunas=Mediana Temperatura (F°)<br>Mês=%{x}<br>Valor Mediano=%{y}<extra></extra>",
         "legendgroup": "Mediana Temperatura (F°)",
         "marker": {
          "color": "#636efa",
          "pattern": {
           "shape": ""
          }
         },
         "name": "Mediana Temperatura (F°)",
         "offsetgroup": "Mediana Temperatura (F°)",
         "orientation": "v",
         "showlegend": true,
         "textposition": "auto",
         "type": "bar",
         "x": [
          1,
          2,
          3,
          4,
          5,
          6
         ],
         "xaxis": "x",
         "y": [
          2056.28,
          1970.78,
          2002.1,
          2085.26,
          1927.4,
          2028.65
         ],
         "yaxis": "y"
        },
        {
         "alignmentgroup": "True",
         "hovertemplate": "Colunas=Mediana Frente-PV (F°)<br>Mês=%{x}<br>Valor Mediano=%{y}<extra></extra>",
         "legendgroup": "Mediana Frente-PV (F°)",
         "marker": {
          "color": "#EF553B",
          "pattern": {
           "shape": ""
          }
         },
         "name": "Mediana Frente-PV (F°)",
         "offsetgroup": "Mediana Frente-PV (F°)",
         "orientation": "v",
         "showlegend": true,
         "textposition": "auto",
         "type": "bar",
         "x": [
          1,
          2,
          3,
          4,
          5,
          6
         ],
         "xaxis": "x",
         "y": [
          2176.15,
          2175,
          2175,
          2175,
          2180,
          2176.7
         ],
         "yaxis": "y"
        }
       ],
       "layout": {
        "barmode": "group",
        "legend": {
         "title": {
          "text": "Colunas"
         },
         "tracegroupgap": 0
        },
        "template": {
         "data": {
          "bar": [
           {
            "error_x": {
             "color": "#2a3f5f"
            },
            "error_y": {
             "color": "#2a3f5f"
            },
            "marker": {
             "line": {
              "color": "#E5ECF6",
              "width": 0.5
             },
             "pattern": {
              "fillmode": "overlay",
              "size": 10,
              "solidity": 0.2
             }
            },
            "type": "bar"
           }
          ],
          "barpolar": [
           {
            "marker": {
             "line": {
              "color": "#E5ECF6",
              "width": 0.5
             },
             "pattern": {
              "fillmode": "overlay",
              "size": 10,
              "solidity": 0.2
             }
            },
            "type": "barpolar"
           }
          ],
          "carpet": [
           {
            "aaxis": {
             "endlinecolor": "#2a3f5f",
             "gridcolor": "white",
             "linecolor": "white",
             "minorgridcolor": "white",
             "startlinecolor": "#2a3f5f"
            },
            "baxis": {
             "endlinecolor": "#2a3f5f",
             "gridcolor": "white",
             "linecolor": "white",
             "minorgridcolor": "white",
             "startlinecolor": "#2a3f5f"
            },
            "type": "carpet"
           }
          ],
          "choropleth": [
           {
            "colorbar": {
             "outlinewidth": 0,
             "ticks": ""
            },
            "type": "choropleth"
           }
          ],
          "contour": [
           {
            "colorbar": {
             "outlinewidth": 0,
             "ticks": ""
            },
            "colorscale": [
             [
              0,
              "#0d0887"
             ],
             [
              0.1111111111111111,
              "#46039f"
             ],
             [
              0.2222222222222222,
              "#7201a8"
             ],
             [
              0.3333333333333333,
              "#9c179e"
             ],
             [
              0.4444444444444444,
              "#bd3786"
             ],
             [
              0.5555555555555556,
              "#d8576b"
             ],
             [
              0.6666666666666666,
              "#ed7953"
             ],
             [
              0.7777777777777778,
              "#fb9f3a"
             ],
             [
              0.8888888888888888,
              "#fdca26"
             ],
             [
              1,
              "#f0f921"
             ]
            ],
            "type": "contour"
           }
          ],
          "contourcarpet": [
           {
            "colorbar": {
             "outlinewidth": 0,
             "ticks": ""
            },
            "type": "contourcarpet"
           }
          ],
          "heatmap": [
           {
            "colorbar": {
             "outlinewidth": 0,
             "ticks": ""
            },
            "colorscale": [
             [
              0,
              "#0d0887"
             ],
             [
              0.1111111111111111,
              "#46039f"
             ],
             [
              0.2222222222222222,
              "#7201a8"
             ],
             [
              0.3333333333333333,
              "#9c179e"
             ],
             [
              0.4444444444444444,
              "#bd3786"
             ],
             [
              0.5555555555555556,
              "#d8576b"
             ],
             [
              0.6666666666666666,
              "#ed7953"
             ],
             [
              0.7777777777777778,
              "#fb9f3a"
             ],
             [
              0.8888888888888888,
              "#fdca26"
             ],
             [
              1,
              "#f0f921"
             ]
            ],
            "type": "heatmap"
           }
          ],
          "heatmapgl": [
           {
            "colorbar": {
             "outlinewidth": 0,
             "ticks": ""
            },
            "colorscale": [
             [
              0,
              "#0d0887"
             ],
             [
              0.1111111111111111,
              "#46039f"
             ],
             [
              0.2222222222222222,
              "#7201a8"
             ],
             [
              0.3333333333333333,
              "#9c179e"
             ],
             [
              0.4444444444444444,
              "#bd3786"
             ],
             [
              0.5555555555555556,
              "#d8576b"
             ],
             [
              0.6666666666666666,
              "#ed7953"
             ],
             [
              0.7777777777777778,
              "#fb9f3a"
             ],
             [
              0.8888888888888888,
              "#fdca26"
             ],
             [
              1,
              "#f0f921"
             ]
            ],
            "type": "heatmapgl"
           }
          ],
          "histogram": [
           {
            "marker": {
             "pattern": {
              "fillmode": "overlay",
              "size": 10,
              "solidity": 0.2
             }
            },
            "type": "histogram"
           }
          ],
          "histogram2d": [
           {
            "colorbar": {
             "outlinewidth": 0,
             "ticks": ""
            },
            "colorscale": [
             [
              0,
              "#0d0887"
             ],
             [
              0.1111111111111111,
              "#46039f"
             ],
             [
              0.2222222222222222,
              "#7201a8"
             ],
             [
              0.3333333333333333,
              "#9c179e"
             ],
             [
              0.4444444444444444,
              "#bd3786"
             ],
             [
              0.5555555555555556,
              "#d8576b"
             ],
             [
              0.6666666666666666,
              "#ed7953"
             ],
             [
              0.7777777777777778,
              "#fb9f3a"
             ],
             [
              0.8888888888888888,
              "#fdca26"
             ],
             [
              1,
              "#f0f921"
             ]
            ],
            "type": "histogram2d"
           }
          ],
          "histogram2dcontour": [
           {
            "colorbar": {
             "outlinewidth": 0,
             "ticks": ""
            },
            "colorscale": [
             [
              0,
              "#0d0887"
             ],
             [
              0.1111111111111111,
              "#46039f"
             ],
             [
              0.2222222222222222,
              "#7201a8"
             ],
             [
              0.3333333333333333,
              "#9c179e"
             ],
             [
              0.4444444444444444,
              "#bd3786"
             ],
             [
              0.5555555555555556,
              "#d8576b"
             ],
             [
              0.6666666666666666,
              "#ed7953"
             ],
             [
              0.7777777777777778,
              "#fb9f3a"
             ],
             [
              0.8888888888888888,
              "#fdca26"
             ],
             [
              1,
              "#f0f921"
             ]
            ],
            "type": "histogram2dcontour"
           }
          ],
          "mesh3d": [
           {
            "colorbar": {
             "outlinewidth": 0,
             "ticks": ""
            },
            "type": "mesh3d"
           }
          ],
          "parcoords": [
           {
            "line": {
             "colorbar": {
              "outlinewidth": 0,
              "ticks": ""
             }
            },
            "type": "parcoords"
           }
          ],
          "pie": [
           {
            "automargin": true,
            "type": "pie"
           }
          ],
          "scatter": [
           {
            "fillpattern": {
             "fillmode": "overlay",
             "size": 10,
             "solidity": 0.2
            },
            "type": "scatter"
           }
          ],
          "scatter3d": [
           {
            "line": {
             "colorbar": {
              "outlinewidth": 0,
              "ticks": ""
             }
            },
            "marker": {
             "colorbar": {
              "outlinewidth": 0,
              "ticks": ""
             }
            },
            "type": "scatter3d"
           }
          ],
          "scattercarpet": [
           {
            "marker": {
             "colorbar": {
              "outlinewidth": 0,
              "ticks": ""
             }
            },
            "type": "scattercarpet"
           }
          ],
          "scattergeo": [
           {
            "marker": {
             "colorbar": {
              "outlinewidth": 0,
              "ticks": ""
             }
            },
            "type": "scattergeo"
           }
          ],
          "scattergl": [
           {
            "marker": {
             "colorbar": {
              "outlinewidth": 0,
              "ticks": ""
             }
            },
            "type": "scattergl"
           }
          ],
          "scattermapbox": [
           {
            "marker": {
             "colorbar": {
              "outlinewidth": 0,
              "ticks": ""
             }
            },
            "type": "scattermapbox"
           }
          ],
          "scatterpolar": [
           {
            "marker": {
             "colorbar": {
              "outlinewidth": 0,
              "ticks": ""
             }
            },
            "type": "scatterpolar"
           }
          ],
          "scatterpolargl": [
           {
            "marker": {
             "colorbar": {
              "outlinewidth": 0,
              "ticks": ""
             }
            },
            "type": "scatterpolargl"
           }
          ],
          "scatterternary": [
           {
            "marker": {
             "colorbar": {
              "outlinewidth": 0,
              "ticks": ""
             }
            },
            "type": "scatterternary"
           }
          ],
          "surface": [
           {
            "colorbar": {
             "outlinewidth": 0,
             "ticks": ""
            },
            "colorscale": [
             [
              0,
              "#0d0887"
             ],
             [
              0.1111111111111111,
              "#46039f"
             ],
             [
              0.2222222222222222,
              "#7201a8"
             ],
             [
              0.3333333333333333,
              "#9c179e"
             ],
             [
              0.4444444444444444,
              "#bd3786"
             ],
             [
              0.5555555555555556,
              "#d8576b"
             ],
             [
              0.6666666666666666,
              "#ed7953"
             ],
             [
              0.7777777777777778,
              "#fb9f3a"
             ],
             [
              0.8888888888888888,
              "#fdca26"
             ],
             [
              1,
              "#f0f921"
             ]
            ],
            "type": "surface"
           }
          ],
          "table": [
           {
            "cells": {
             "fill": {
              "color": "#EBF0F8"
             },
             "line": {
              "color": "white"
             }
            },
            "header": {
             "fill": {
              "color": "#C8D4E3"
             },
             "line": {
              "color": "white"
             }
            },
            "type": "table"
           }
          ]
         },
         "layout": {
          "annotationdefaults": {
           "arrowcolor": "#2a3f5f",
           "arrowhead": 0,
           "arrowwidth": 1
          },
          "autotypenumbers": "strict",
          "coloraxis": {
           "colorbar": {
            "outlinewidth": 0,
            "ticks": ""
           }
          },
          "colorscale": {
           "diverging": [
            [
             0,
             "#8e0152"
            ],
            [
             0.1,
             "#c51b7d"
            ],
            [
             0.2,
             "#de77ae"
            ],
            [
             0.3,
             "#f1b6da"
            ],
            [
             0.4,
             "#fde0ef"
            ],
            [
             0.5,
             "#f7f7f7"
            ],
            [
             0.6,
             "#e6f5d0"
            ],
            [
             0.7,
             "#b8e186"
            ],
            [
             0.8,
             "#7fbc41"
            ],
            [
             0.9,
             "#4d9221"
            ],
            [
             1,
             "#276419"
            ]
           ],
           "sequential": [
            [
             0,
             "#0d0887"
            ],
            [
             0.1111111111111111,
             "#46039f"
            ],
            [
             0.2222222222222222,
             "#7201a8"
            ],
            [
             0.3333333333333333,
             "#9c179e"
            ],
            [
             0.4444444444444444,
             "#bd3786"
            ],
            [
             0.5555555555555556,
             "#d8576b"
            ],
            [
             0.6666666666666666,
             "#ed7953"
            ],
            [
             0.7777777777777778,
             "#fb9f3a"
            ],
            [
             0.8888888888888888,
             "#fdca26"
            ],
            [
             1,
             "#f0f921"
            ]
           ],
           "sequentialminus": [
            [
             0,
             "#0d0887"
            ],
            [
             0.1111111111111111,
             "#46039f"
            ],
            [
             0.2222222222222222,
             "#7201a8"
            ],
            [
             0.3333333333333333,
             "#9c179e"
            ],
            [
             0.4444444444444444,
             "#bd3786"
            ],
            [
             0.5555555555555556,
             "#d8576b"
            ],
            [
             0.6666666666666666,
             "#ed7953"
            ],
            [
             0.7777777777777778,
             "#fb9f3a"
            ],
            [
             0.8888888888888888,
             "#fdca26"
            ],
            [
             1,
             "#f0f921"
            ]
           ]
          },
          "colorway": [
           "#636efa",
           "#EF553B",
           "#00cc96",
           "#ab63fa",
           "#FFA15A",
           "#19d3f3",
           "#FF6692",
           "#B6E880",
           "#FF97FF",
           "#FECB52"
          ],
          "font": {
           "color": "#2a3f5f"
          },
          "geo": {
           "bgcolor": "white",
           "lakecolor": "white",
           "landcolor": "#E5ECF6",
           "showlakes": true,
           "showland": true,
           "subunitcolor": "white"
          },
          "hoverlabel": {
           "align": "left"
          },
          "hovermode": "closest",
          "mapbox": {
           "style": "light"
          },
          "paper_bgcolor": "white",
          "plot_bgcolor": "#E5ECF6",
          "polar": {
           "angularaxis": {
            "gridcolor": "white",
            "linecolor": "white",
            "ticks": ""
           },
           "bgcolor": "#E5ECF6",
           "radialaxis": {
            "gridcolor": "white",
            "linecolor": "white",
            "ticks": ""
           }
          },
          "scene": {
           "xaxis": {
            "backgroundcolor": "#E5ECF6",
            "gridcolor": "white",
            "gridwidth": 2,
            "linecolor": "white",
            "showbackground": true,
            "ticks": "",
            "zerolinecolor": "white"
           },
           "yaxis": {
            "backgroundcolor": "#E5ECF6",
            "gridcolor": "white",
            "gridwidth": 2,
            "linecolor": "white",
            "showbackground": true,
            "ticks": "",
            "zerolinecolor": "white"
           },
           "zaxis": {
            "backgroundcolor": "#E5ECF6",
            "gridcolor": "white",
            "gridwidth": 2,
            "linecolor": "white",
            "showbackground": true,
            "ticks": "",
            "zerolinecolor": "white"
           }
          },
          "shapedefaults": {
           "line": {
            "color": "#2a3f5f"
           }
          },
          "ternary": {
           "aaxis": {
            "gridcolor": "white",
            "linecolor": "white",
            "ticks": ""
           },
           "baxis": {
            "gridcolor": "white",
            "linecolor": "white",
            "ticks": ""
           },
           "bgcolor": "#E5ECF6",
           "caxis": {
            "gridcolor": "white",
            "linecolor": "white",
            "ticks": ""
           }
          },
          "title": {
           "x": 0.05
          },
          "xaxis": {
           "automargin": true,
           "gridcolor": "white",
           "linecolor": "white",
           "ticks": "",
           "title": {
            "standoff": 15
           },
           "zerolinecolor": "white",
           "zerolinewidth": 2
          },
          "yaxis": {
           "automargin": true,
           "gridcolor": "white",
           "linecolor": "white",
           "ticks": "",
           "title": {
            "standoff": 15
           },
           "zerolinecolor": "white",
           "zerolinewidth": 2
          }
         }
        },
        "title": {
         "text": "Mediana Temperatura e Frente-PV por Mês"
        },
        "xaxis": {
         "anchor": "y",
         "domain": [
          0,
          1
         ],
         "title": {
          "text": "Mês"
         }
        },
        "yaxis": {
         "anchor": "x",
         "domain": [
          0,
          1
         ],
         "title": {
          "text": "Valor Mediano"
         }
        }
       }
      }
     },
     "metadata": {},
     "output_type": "display_data"
    },
    {
     "data": {
      "application/vnd.plotly.v1+json": {
       "config": {
        "plotlyServerURL": "https://plot.ly"
       },
       "data": [
        {
         "alignmentgroup": "True",
         "hovertemplate": "Colunas=Desvio Padrão Temperatura (F°)<br>Mês=%{x}<br>Desvio Padrão=%{y}<extra></extra>",
         "legendgroup": "Desvio Padrão Temperatura (F°)",
         "marker": {
          "color": "#636efa",
          "pattern": {
           "shape": ""
          }
         },
         "name": "Desvio Padrão Temperatura (F°)",
         "offsetgroup": "Desvio Padrão Temperatura (F°)",
         "orientation": "v",
         "showlegend": true,
         "textposition": "auto",
         "type": "bar",
         "x": [
          1,
          2,
          3,
          4,
          5,
          6
         ],
         "xaxis": "x",
         "y": [
          526.34,
          193.82,
          353.02,
          126.41,
          292.72,
          351.56
         ],
         "yaxis": "y"
        },
        {
         "alignmentgroup": "True",
         "hovertemplate": "Colunas=Desvio Padrão Frente-PV (F°)<br>Mês=%{x}<br>Desvio Padrão=%{y}<extra></extra>",
         "legendgroup": "Desvio Padrão Frente-PV (F°)",
         "marker": {
          "color": "#EF553B",
          "pattern": {
           "shape": ""
          }
         },
         "name": "Desvio Padrão Frente-PV (F°)",
         "offsetgroup": "Desvio Padrão Frente-PV (F°)",
         "orientation": "v",
         "showlegend": true,
         "textposition": "auto",
         "type": "bar",
         "x": [
          1,
          2,
          3,
          4,
          5,
          6
         ],
         "xaxis": "x",
         "y": [
          10.64,
          13.55,
          16.89,
          15.78,
          17.53,
          16.55
         ],
         "yaxis": "y"
        }
       ],
       "layout": {
        "barmode": "group",
        "legend": {
         "title": {
          "text": "Colunas"
         },
         "tracegroupgap": 0
        },
        "template": {
         "data": {
          "bar": [
           {
            "error_x": {
             "color": "#2a3f5f"
            },
            "error_y": {
             "color": "#2a3f5f"
            },
            "marker": {
             "line": {
              "color": "#E5ECF6",
              "width": 0.5
             },
             "pattern": {
              "fillmode": "overlay",
              "size": 10,
              "solidity": 0.2
             }
            },
            "type": "bar"
           }
          ],
          "barpolar": [
           {
            "marker": {
             "line": {
              "color": "#E5ECF6",
              "width": 0.5
             },
             "pattern": {
              "fillmode": "overlay",
              "size": 10,
              "solidity": 0.2
             }
            },
            "type": "barpolar"
           }
          ],
          "carpet": [
           {
            "aaxis": {
             "endlinecolor": "#2a3f5f",
             "gridcolor": "white",
             "linecolor": "white",
             "minorgridcolor": "white",
             "startlinecolor": "#2a3f5f"
            },
            "baxis": {
             "endlinecolor": "#2a3f5f",
             "gridcolor": "white",
             "linecolor": "white",
             "minorgridcolor": "white",
             "startlinecolor": "#2a3f5f"
            },
            "type": "carpet"
           }
          ],
          "choropleth": [
           {
            "colorbar": {
             "outlinewidth": 0,
             "ticks": ""
            },
            "type": "choropleth"
           }
          ],
          "contour": [
           {
            "colorbar": {
             "outlinewidth": 0,
             "ticks": ""
            },
            "colorscale": [
             [
              0,
              "#0d0887"
             ],
             [
              0.1111111111111111,
              "#46039f"
             ],
             [
              0.2222222222222222,
              "#7201a8"
             ],
             [
              0.3333333333333333,
              "#9c179e"
             ],
             [
              0.4444444444444444,
              "#bd3786"
             ],
             [
              0.5555555555555556,
              "#d8576b"
             ],
             [
              0.6666666666666666,
              "#ed7953"
             ],
             [
              0.7777777777777778,
              "#fb9f3a"
             ],
             [
              0.8888888888888888,
              "#fdca26"
             ],
             [
              1,
              "#f0f921"
             ]
            ],
            "type": "contour"
           }
          ],
          "contourcarpet": [
           {
            "colorbar": {
             "outlinewidth": 0,
             "ticks": ""
            },
            "type": "contourcarpet"
           }
          ],
          "heatmap": [
           {
            "colorbar": {
             "outlinewidth": 0,
             "ticks": ""
            },
            "colorscale": [
             [
              0,
              "#0d0887"
             ],
             [
              0.1111111111111111,
              "#46039f"
             ],
             [
              0.2222222222222222,
              "#7201a8"
             ],
             [
              0.3333333333333333,
              "#9c179e"
             ],
             [
              0.4444444444444444,
              "#bd3786"
             ],
             [
              0.5555555555555556,
              "#d8576b"
             ],
             [
              0.6666666666666666,
              "#ed7953"
             ],
             [
              0.7777777777777778,
              "#fb9f3a"
             ],
             [
              0.8888888888888888,
              "#fdca26"
             ],
             [
              1,
              "#f0f921"
             ]
            ],
            "type": "heatmap"
           }
          ],
          "heatmapgl": [
           {
            "colorbar": {
             "outlinewidth": 0,
             "ticks": ""
            },
            "colorscale": [
             [
              0,
              "#0d0887"
             ],
             [
              0.1111111111111111,
              "#46039f"
             ],
             [
              0.2222222222222222,
              "#7201a8"
             ],
             [
              0.3333333333333333,
              "#9c179e"
             ],
             [
              0.4444444444444444,
              "#bd3786"
             ],
             [
              0.5555555555555556,
              "#d8576b"
             ],
             [
              0.6666666666666666,
              "#ed7953"
             ],
             [
              0.7777777777777778,
              "#fb9f3a"
             ],
             [
              0.8888888888888888,
              "#fdca26"
             ],
             [
              1,
              "#f0f921"
             ]
            ],
            "type": "heatmapgl"
           }
          ],
          "histogram": [
           {
            "marker": {
             "pattern": {
              "fillmode": "overlay",
              "size": 10,
              "solidity": 0.2
             }
            },
            "type": "histogram"
           }
          ],
          "histogram2d": [
           {
            "colorbar": {
             "outlinewidth": 0,
             "ticks": ""
            },
            "colorscale": [
             [
              0,
              "#0d0887"
             ],
             [
              0.1111111111111111,
              "#46039f"
             ],
             [
              0.2222222222222222,
              "#7201a8"
             ],
             [
              0.3333333333333333,
              "#9c179e"
             ],
             [
              0.4444444444444444,
              "#bd3786"
             ],
             [
              0.5555555555555556,
              "#d8576b"
             ],
             [
              0.6666666666666666,
              "#ed7953"
             ],
             [
              0.7777777777777778,
              "#fb9f3a"
             ],
             [
              0.8888888888888888,
              "#fdca26"
             ],
             [
              1,
              "#f0f921"
             ]
            ],
            "type": "histogram2d"
           }
          ],
          "histogram2dcontour": [
           {
            "colorbar": {
             "outlinewidth": 0,
             "ticks": ""
            },
            "colorscale": [
             [
              0,
              "#0d0887"
             ],
             [
              0.1111111111111111,
              "#46039f"
             ],
             [
              0.2222222222222222,
              "#7201a8"
             ],
             [
              0.3333333333333333,
              "#9c179e"
             ],
             [
              0.4444444444444444,
              "#bd3786"
             ],
             [
              0.5555555555555556,
              "#d8576b"
             ],
             [
              0.6666666666666666,
              "#ed7953"
             ],
             [
              0.7777777777777778,
              "#fb9f3a"
             ],
             [
              0.8888888888888888,
              "#fdca26"
             ],
             [
              1,
              "#f0f921"
             ]
            ],
            "type": "histogram2dcontour"
           }
          ],
          "mesh3d": [
           {
            "colorbar": {
             "outlinewidth": 0,
             "ticks": ""
            },
            "type": "mesh3d"
           }
          ],
          "parcoords": [
           {
            "line": {
             "colorbar": {
              "outlinewidth": 0,
              "ticks": ""
             }
            },
            "type": "parcoords"
           }
          ],
          "pie": [
           {
            "automargin": true,
            "type": "pie"
           }
          ],
          "scatter": [
           {
            "fillpattern": {
             "fillmode": "overlay",
             "size": 10,
             "solidity": 0.2
            },
            "type": "scatter"
           }
          ],
          "scatter3d": [
           {
            "line": {
             "colorbar": {
              "outlinewidth": 0,
              "ticks": ""
             }
            },
            "marker": {
             "colorbar": {
              "outlinewidth": 0,
              "ticks": ""
             }
            },
            "type": "scatter3d"
           }
          ],
          "scattercarpet": [
           {
            "marker": {
             "colorbar": {
              "outlinewidth": 0,
              "ticks": ""
             }
            },
            "type": "scattercarpet"
           }
          ],
          "scattergeo": [
           {
            "marker": {
             "colorbar": {
              "outlinewidth": 0,
              "ticks": ""
             }
            },
            "type": "scattergeo"
           }
          ],
          "scattergl": [
           {
            "marker": {
             "colorbar": {
              "outlinewidth": 0,
              "ticks": ""
             }
            },
            "type": "scattergl"
           }
          ],
          "scattermapbox": [
           {
            "marker": {
             "colorbar": {
              "outlinewidth": 0,
              "ticks": ""
             }
            },
            "type": "scattermapbox"
           }
          ],
          "scatterpolar": [
           {
            "marker": {
             "colorbar": {
              "outlinewidth": 0,
              "ticks": ""
             }
            },
            "type": "scatterpolar"
           }
          ],
          "scatterpolargl": [
           {
            "marker": {
             "colorbar": {
              "outlinewidth": 0,
              "ticks": ""
             }
            },
            "type": "scatterpolargl"
           }
          ],
          "scatterternary": [
           {
            "marker": {
             "colorbar": {
              "outlinewidth": 0,
              "ticks": ""
             }
            },
            "type": "scatterternary"
           }
          ],
          "surface": [
           {
            "colorbar": {
             "outlinewidth": 0,
             "ticks": ""
            },
            "colorscale": [
             [
              0,
              "#0d0887"
             ],
             [
              0.1111111111111111,
              "#46039f"
             ],
             [
              0.2222222222222222,
              "#7201a8"
             ],
             [
              0.3333333333333333,
              "#9c179e"
             ],
             [
              0.4444444444444444,
              "#bd3786"
             ],
             [
              0.5555555555555556,
              "#d8576b"
             ],
             [
              0.6666666666666666,
              "#ed7953"
             ],
             [
              0.7777777777777778,
              "#fb9f3a"
             ],
             [
              0.8888888888888888,
              "#fdca26"
             ],
             [
              1,
              "#f0f921"
             ]
            ],
            "type": "surface"
           }
          ],
          "table": [
           {
            "cells": {
             "fill": {
              "color": "#EBF0F8"
             },
             "line": {
              "color": "white"
             }
            },
            "header": {
             "fill": {
              "color": "#C8D4E3"
             },
             "line": {
              "color": "white"
             }
            },
            "type": "table"
           }
          ]
         },
         "layout": {
          "annotationdefaults": {
           "arrowcolor": "#2a3f5f",
           "arrowhead": 0,
           "arrowwidth": 1
          },
          "autotypenumbers": "strict",
          "coloraxis": {
           "colorbar": {
            "outlinewidth": 0,
            "ticks": ""
           }
          },
          "colorscale": {
           "diverging": [
            [
             0,
             "#8e0152"
            ],
            [
             0.1,
             "#c51b7d"
            ],
            [
             0.2,
             "#de77ae"
            ],
            [
             0.3,
             "#f1b6da"
            ],
            [
             0.4,
             "#fde0ef"
            ],
            [
             0.5,
             "#f7f7f7"
            ],
            [
             0.6,
             "#e6f5d0"
            ],
            [
             0.7,
             "#b8e186"
            ],
            [
             0.8,
             "#7fbc41"
            ],
            [
             0.9,
             "#4d9221"
            ],
            [
             1,
             "#276419"
            ]
           ],
           "sequential": [
            [
             0,
             "#0d0887"
            ],
            [
             0.1111111111111111,
             "#46039f"
            ],
            [
             0.2222222222222222,
             "#7201a8"
            ],
            [
             0.3333333333333333,
             "#9c179e"
            ],
            [
             0.4444444444444444,
             "#bd3786"
            ],
            [
             0.5555555555555556,
             "#d8576b"
            ],
            [
             0.6666666666666666,
             "#ed7953"
            ],
            [
             0.7777777777777778,
             "#fb9f3a"
            ],
            [
             0.8888888888888888,
             "#fdca26"
            ],
            [
             1,
             "#f0f921"
            ]
           ],
           "sequentialminus": [
            [
             0,
             "#0d0887"
            ],
            [
             0.1111111111111111,
             "#46039f"
            ],
            [
             0.2222222222222222,
             "#7201a8"
            ],
            [
             0.3333333333333333,
             "#9c179e"
            ],
            [
             0.4444444444444444,
             "#bd3786"
            ],
            [
             0.5555555555555556,
             "#d8576b"
            ],
            [
             0.6666666666666666,
             "#ed7953"
            ],
            [
             0.7777777777777778,
             "#fb9f3a"
            ],
            [
             0.8888888888888888,
             "#fdca26"
            ],
            [
             1,
             "#f0f921"
            ]
           ]
          },
          "colorway": [
           "#636efa",
           "#EF553B",
           "#00cc96",
           "#ab63fa",
           "#FFA15A",
           "#19d3f3",
           "#FF6692",
           "#B6E880",
           "#FF97FF",
           "#FECB52"
          ],
          "font": {
           "color": "#2a3f5f"
          },
          "geo": {
           "bgcolor": "white",
           "lakecolor": "white",
           "landcolor": "#E5ECF6",
           "showlakes": true,
           "showland": true,
           "subunitcolor": "white"
          },
          "hoverlabel": {
           "align": "left"
          },
          "hovermode": "closest",
          "mapbox": {
           "style": "light"
          },
          "paper_bgcolor": "white",
          "plot_bgcolor": "#E5ECF6",
          "polar": {
           "angularaxis": {
            "gridcolor": "white",
            "linecolor": "white",
            "ticks": ""
           },
           "bgcolor": "#E5ECF6",
           "radialaxis": {
            "gridcolor": "white",
            "linecolor": "white",
            "ticks": ""
           }
          },
          "scene": {
           "xaxis": {
            "backgroundcolor": "#E5ECF6",
            "gridcolor": "white",
            "gridwidth": 2,
            "linecolor": "white",
            "showbackground": true,
            "ticks": "",
            "zerolinecolor": "white"
           },
           "yaxis": {
            "backgroundcolor": "#E5ECF6",
            "gridcolor": "white",
            "gridwidth": 2,
            "linecolor": "white",
            "showbackground": true,
            "ticks": "",
            "zerolinecolor": "white"
           },
           "zaxis": {
            "backgroundcolor": "#E5ECF6",
            "gridcolor": "white",
            "gridwidth": 2,
            "linecolor": "white",
            "showbackground": true,
            "ticks": "",
            "zerolinecolor": "white"
           }
          },
          "shapedefaults": {
           "line": {
            "color": "#2a3f5f"
           }
          },
          "ternary": {
           "aaxis": {
            "gridcolor": "white",
            "linecolor": "white",
            "ticks": ""
           },
           "baxis": {
            "gridcolor": "white",
            "linecolor": "white",
            "ticks": ""
           },
           "bgcolor": "#E5ECF6",
           "caxis": {
            "gridcolor": "white",
            "linecolor": "white",
            "ticks": ""
           }
          },
          "title": {
           "x": 0.05
          },
          "xaxis": {
           "automargin": true,
           "gridcolor": "white",
           "linecolor": "white",
           "ticks": "",
           "title": {
            "standoff": 15
           },
           "zerolinecolor": "white",
           "zerolinewidth": 2
          },
          "yaxis": {
           "automargin": true,
           "gridcolor": "white",
           "linecolor": "white",
           "ticks": "",
           "title": {
            "standoff": 15
           },
           "zerolinecolor": "white",
           "zerolinewidth": 2
          }
         }
        },
        "title": {
         "text": "Desvio Padrão Temperatura e Frente-PV por Mês"
        },
        "xaxis": {
         "anchor": "y",
         "domain": [
          0,
          1
         ],
         "title": {
          "text": "Mês"
         }
        },
        "yaxis": {
         "anchor": "x",
         "domain": [
          0,
          1
         ],
         "title": {
          "text": "Desvio Padrão"
         }
        }
       }
      }
     },
     "metadata": {},
     "output_type": "display_data"
    }
   ],
   "source": [
    "fig_media = px.bar(df_estatisticas_completo, \n",
    "                   x=df_estatisticas_completo.index, \n",
    "                   y=['Média Temperatura (F°)', 'Média Frente-PV (F°)'],\n",
    "                   title='Média Temperatura e Frente-PV por Mês',\n",
    "                   labels={'x': 'Mês', 'value': 'Valor Médio', 'variable': 'Colunas'},\n",
    "                   barmode='group')\n",
    "fig_media.show()\n",
    "\n",
    "fig_mediana = px.bar(df_estatisticas_completo, \n",
    "                     x=df_estatisticas_completo.index, \n",
    "                     y=['Mediana Temperatura (F°)', 'Mediana Frente-PV (F°)'],\n",
    "                     title='Mediana Temperatura e Frente-PV por Mês',\n",
    "                     labels={'x': 'Mês', 'value': 'Valor Mediano', 'variable': 'Colunas'},\n",
    "                     barmode='group')\n",
    "fig_mediana.show()\n",
    "\n",
    "fig_desvio = px.bar(df_estatisticas_completo, \n",
    "                    x=df_estatisticas_completo.index, \n",
    "                    y=['Desvio Padrão Temperatura (F°)', 'Desvio Padrão Frente-PV (F°)'],\n",
    "                    title='Desvio Padrão Temperatura e Frente-PV por Mês',\n",
    "                    labels={'x': 'Mês', 'value': 'Desvio Padrão', 'variable': 'Colunas'},\n",
    "                    barmode='group')\n",
    "fig_desvio.show()"
   ]
  },
  {
   "cell_type": "markdown",
   "metadata": {},
   "source": [
    "## Diferença das Temperaturas"
   ]
  },
  {
   "cell_type": "markdown",
   "metadata": {},
   "source": [
    "### Média de Diferença de Temperatura por Mês"
   ]
  },
  {
   "cell_type": "code",
   "execution_count": 65,
   "metadata": {},
   "outputs": [
    {
     "data": {
      "application/vnd.plotly.v1+json": {
       "config": {
        "plotlyServerURL": "https://plot.ly"
       },
       "data": [
        {
         "alignmentgroup": "True",
         "hovertemplate": "Mês=%{x}<br>Diferença (F°)=%{marker.color}<extra></extra>",
         "legendgroup": "",
         "marker": {
          "color": [
           -3.37,
           98.48,
           224.84,
           77.53,
           327.53,
           153.41
          ],
          "coloraxis": "coloraxis",
          "pattern": {
           "shape": ""
          }
         },
         "name": "",
         "offsetgroup": "",
         "orientation": "v",
         "showlegend": false,
         "text": [
          -3.37,
          98.48,
          224.84,
          77.53,
          327.53,
          153.41
         ],
         "textposition": "auto",
         "type": "bar",
         "x": [
          1,
          2,
          3,
          4,
          5,
          6
         ],
         "xaxis": "x",
         "y": [
          -3.37,
          98.48,
          224.84,
          77.53,
          327.53,
          153.41
         ],
         "yaxis": "y"
        }
       ],
       "layout": {
        "barmode": "relative",
        "coloraxis": {
         "colorbar": {
          "title": {
           "text": "Diferença (F°)"
          }
         },
         "colorscale": [
          [
           0,
           "#0d0887"
          ],
          [
           0.1111111111111111,
           "#46039f"
          ],
          [
           0.2222222222222222,
           "#7201a8"
          ],
          [
           0.3333333333333333,
           "#9c179e"
          ],
          [
           0.4444444444444444,
           "#bd3786"
          ],
          [
           0.5555555555555556,
           "#d8576b"
          ],
          [
           0.6666666666666666,
           "#ed7953"
          ],
          [
           0.7777777777777778,
           "#fb9f3a"
          ],
          [
           0.8888888888888888,
           "#fdca26"
          ],
          [
           1,
           "#f0f921"
          ]
         ]
        },
        "legend": {
         "tracegroupgap": 0
        },
        "template": {
         "data": {
          "bar": [
           {
            "error_x": {
             "color": "#2a3f5f"
            },
            "error_y": {
             "color": "#2a3f5f"
            },
            "marker": {
             "line": {
              "color": "#E5ECF6",
              "width": 0.5
             },
             "pattern": {
              "fillmode": "overlay",
              "size": 10,
              "solidity": 0.2
             }
            },
            "type": "bar"
           }
          ],
          "barpolar": [
           {
            "marker": {
             "line": {
              "color": "#E5ECF6",
              "width": 0.5
             },
             "pattern": {
              "fillmode": "overlay",
              "size": 10,
              "solidity": 0.2
             }
            },
            "type": "barpolar"
           }
          ],
          "carpet": [
           {
            "aaxis": {
             "endlinecolor": "#2a3f5f",
             "gridcolor": "white",
             "linecolor": "white",
             "minorgridcolor": "white",
             "startlinecolor": "#2a3f5f"
            },
            "baxis": {
             "endlinecolor": "#2a3f5f",
             "gridcolor": "white",
             "linecolor": "white",
             "minorgridcolor": "white",
             "startlinecolor": "#2a3f5f"
            },
            "type": "carpet"
           }
          ],
          "choropleth": [
           {
            "colorbar": {
             "outlinewidth": 0,
             "ticks": ""
            },
            "type": "choropleth"
           }
          ],
          "contour": [
           {
            "colorbar": {
             "outlinewidth": 0,
             "ticks": ""
            },
            "colorscale": [
             [
              0,
              "#0d0887"
             ],
             [
              0.1111111111111111,
              "#46039f"
             ],
             [
              0.2222222222222222,
              "#7201a8"
             ],
             [
              0.3333333333333333,
              "#9c179e"
             ],
             [
              0.4444444444444444,
              "#bd3786"
             ],
             [
              0.5555555555555556,
              "#d8576b"
             ],
             [
              0.6666666666666666,
              "#ed7953"
             ],
             [
              0.7777777777777778,
              "#fb9f3a"
             ],
             [
              0.8888888888888888,
              "#fdca26"
             ],
             [
              1,
              "#f0f921"
             ]
            ],
            "type": "contour"
           }
          ],
          "contourcarpet": [
           {
            "colorbar": {
             "outlinewidth": 0,
             "ticks": ""
            },
            "type": "contourcarpet"
           }
          ],
          "heatmap": [
           {
            "colorbar": {
             "outlinewidth": 0,
             "ticks": ""
            },
            "colorscale": [
             [
              0,
              "#0d0887"
             ],
             [
              0.1111111111111111,
              "#46039f"
             ],
             [
              0.2222222222222222,
              "#7201a8"
             ],
             [
              0.3333333333333333,
              "#9c179e"
             ],
             [
              0.4444444444444444,
              "#bd3786"
             ],
             [
              0.5555555555555556,
              "#d8576b"
             ],
             [
              0.6666666666666666,
              "#ed7953"
             ],
             [
              0.7777777777777778,
              "#fb9f3a"
             ],
             [
              0.8888888888888888,
              "#fdca26"
             ],
             [
              1,
              "#f0f921"
             ]
            ],
            "type": "heatmap"
           }
          ],
          "heatmapgl": [
           {
            "colorbar": {
             "outlinewidth": 0,
             "ticks": ""
            },
            "colorscale": [
             [
              0,
              "#0d0887"
             ],
             [
              0.1111111111111111,
              "#46039f"
             ],
             [
              0.2222222222222222,
              "#7201a8"
             ],
             [
              0.3333333333333333,
              "#9c179e"
             ],
             [
              0.4444444444444444,
              "#bd3786"
             ],
             [
              0.5555555555555556,
              "#d8576b"
             ],
             [
              0.6666666666666666,
              "#ed7953"
             ],
             [
              0.7777777777777778,
              "#fb9f3a"
             ],
             [
              0.8888888888888888,
              "#fdca26"
             ],
             [
              1,
              "#f0f921"
             ]
            ],
            "type": "heatmapgl"
           }
          ],
          "histogram": [
           {
            "marker": {
             "pattern": {
              "fillmode": "overlay",
              "size": 10,
              "solidity": 0.2
             }
            },
            "type": "histogram"
           }
          ],
          "histogram2d": [
           {
            "colorbar": {
             "outlinewidth": 0,
             "ticks": ""
            },
            "colorscale": [
             [
              0,
              "#0d0887"
             ],
             [
              0.1111111111111111,
              "#46039f"
             ],
             [
              0.2222222222222222,
              "#7201a8"
             ],
             [
              0.3333333333333333,
              "#9c179e"
             ],
             [
              0.4444444444444444,
              "#bd3786"
             ],
             [
              0.5555555555555556,
              "#d8576b"
             ],
             [
              0.6666666666666666,
              "#ed7953"
             ],
             [
              0.7777777777777778,
              "#fb9f3a"
             ],
             [
              0.8888888888888888,
              "#fdca26"
             ],
             [
              1,
              "#f0f921"
             ]
            ],
            "type": "histogram2d"
           }
          ],
          "histogram2dcontour": [
           {
            "colorbar": {
             "outlinewidth": 0,
             "ticks": ""
            },
            "colorscale": [
             [
              0,
              "#0d0887"
             ],
             [
              0.1111111111111111,
              "#46039f"
             ],
             [
              0.2222222222222222,
              "#7201a8"
             ],
             [
              0.3333333333333333,
              "#9c179e"
             ],
             [
              0.4444444444444444,
              "#bd3786"
             ],
             [
              0.5555555555555556,
              "#d8576b"
             ],
             [
              0.6666666666666666,
              "#ed7953"
             ],
             [
              0.7777777777777778,
              "#fb9f3a"
             ],
             [
              0.8888888888888888,
              "#fdca26"
             ],
             [
              1,
              "#f0f921"
             ]
            ],
            "type": "histogram2dcontour"
           }
          ],
          "mesh3d": [
           {
            "colorbar": {
             "outlinewidth": 0,
             "ticks": ""
            },
            "type": "mesh3d"
           }
          ],
          "parcoords": [
           {
            "line": {
             "colorbar": {
              "outlinewidth": 0,
              "ticks": ""
             }
            },
            "type": "parcoords"
           }
          ],
          "pie": [
           {
            "automargin": true,
            "type": "pie"
           }
          ],
          "scatter": [
           {
            "fillpattern": {
             "fillmode": "overlay",
             "size": 10,
             "solidity": 0.2
            },
            "type": "scatter"
           }
          ],
          "scatter3d": [
           {
            "line": {
             "colorbar": {
              "outlinewidth": 0,
              "ticks": ""
             }
            },
            "marker": {
             "colorbar": {
              "outlinewidth": 0,
              "ticks": ""
             }
            },
            "type": "scatter3d"
           }
          ],
          "scattercarpet": [
           {
            "marker": {
             "colorbar": {
              "outlinewidth": 0,
              "ticks": ""
             }
            },
            "type": "scattercarpet"
           }
          ],
          "scattergeo": [
           {
            "marker": {
             "colorbar": {
              "outlinewidth": 0,
              "ticks": ""
             }
            },
            "type": "scattergeo"
           }
          ],
          "scattergl": [
           {
            "marker": {
             "colorbar": {
              "outlinewidth": 0,
              "ticks": ""
             }
            },
            "type": "scattergl"
           }
          ],
          "scattermapbox": [
           {
            "marker": {
             "colorbar": {
              "outlinewidth": 0,
              "ticks": ""
             }
            },
            "type": "scattermapbox"
           }
          ],
          "scatterpolar": [
           {
            "marker": {
             "colorbar": {
              "outlinewidth": 0,
              "ticks": ""
             }
            },
            "type": "scatterpolar"
           }
          ],
          "scatterpolargl": [
           {
            "marker": {
             "colorbar": {
              "outlinewidth": 0,
              "ticks": ""
             }
            },
            "type": "scatterpolargl"
           }
          ],
          "scatterternary": [
           {
            "marker": {
             "colorbar": {
              "outlinewidth": 0,
              "ticks": ""
             }
            },
            "type": "scatterternary"
           }
          ],
          "surface": [
           {
            "colorbar": {
             "outlinewidth": 0,
             "ticks": ""
            },
            "colorscale": [
             [
              0,
              "#0d0887"
             ],
             [
              0.1111111111111111,
              "#46039f"
             ],
             [
              0.2222222222222222,
              "#7201a8"
             ],
             [
              0.3333333333333333,
              "#9c179e"
             ],
             [
              0.4444444444444444,
              "#bd3786"
             ],
             [
              0.5555555555555556,
              "#d8576b"
             ],
             [
              0.6666666666666666,
              "#ed7953"
             ],
             [
              0.7777777777777778,
              "#fb9f3a"
             ],
             [
              0.8888888888888888,
              "#fdca26"
             ],
             [
              1,
              "#f0f921"
             ]
            ],
            "type": "surface"
           }
          ],
          "table": [
           {
            "cells": {
             "fill": {
              "color": "#EBF0F8"
             },
             "line": {
              "color": "white"
             }
            },
            "header": {
             "fill": {
              "color": "#C8D4E3"
             },
             "line": {
              "color": "white"
             }
            },
            "type": "table"
           }
          ]
         },
         "layout": {
          "annotationdefaults": {
           "arrowcolor": "#2a3f5f",
           "arrowhead": 0,
           "arrowwidth": 1
          },
          "autotypenumbers": "strict",
          "coloraxis": {
           "colorbar": {
            "outlinewidth": 0,
            "ticks": ""
           }
          },
          "colorscale": {
           "diverging": [
            [
             0,
             "#8e0152"
            ],
            [
             0.1,
             "#c51b7d"
            ],
            [
             0.2,
             "#de77ae"
            ],
            [
             0.3,
             "#f1b6da"
            ],
            [
             0.4,
             "#fde0ef"
            ],
            [
             0.5,
             "#f7f7f7"
            ],
            [
             0.6,
             "#e6f5d0"
            ],
            [
             0.7,
             "#b8e186"
            ],
            [
             0.8,
             "#7fbc41"
            ],
            [
             0.9,
             "#4d9221"
            ],
            [
             1,
             "#276419"
            ]
           ],
           "sequential": [
            [
             0,
             "#0d0887"
            ],
            [
             0.1111111111111111,
             "#46039f"
            ],
            [
             0.2222222222222222,
             "#7201a8"
            ],
            [
             0.3333333333333333,
             "#9c179e"
            ],
            [
             0.4444444444444444,
             "#bd3786"
            ],
            [
             0.5555555555555556,
             "#d8576b"
            ],
            [
             0.6666666666666666,
             "#ed7953"
            ],
            [
             0.7777777777777778,
             "#fb9f3a"
            ],
            [
             0.8888888888888888,
             "#fdca26"
            ],
            [
             1,
             "#f0f921"
            ]
           ],
           "sequentialminus": [
            [
             0,
             "#0d0887"
            ],
            [
             0.1111111111111111,
             "#46039f"
            ],
            [
             0.2222222222222222,
             "#7201a8"
            ],
            [
             0.3333333333333333,
             "#9c179e"
            ],
            [
             0.4444444444444444,
             "#bd3786"
            ],
            [
             0.5555555555555556,
             "#d8576b"
            ],
            [
             0.6666666666666666,
             "#ed7953"
            ],
            [
             0.7777777777777778,
             "#fb9f3a"
            ],
            [
             0.8888888888888888,
             "#fdca26"
            ],
            [
             1,
             "#f0f921"
            ]
           ]
          },
          "colorway": [
           "#636efa",
           "#EF553B",
           "#00cc96",
           "#ab63fa",
           "#FFA15A",
           "#19d3f3",
           "#FF6692",
           "#B6E880",
           "#FF97FF",
           "#FECB52"
          ],
          "font": {
           "color": "#2a3f5f"
          },
          "geo": {
           "bgcolor": "white",
           "lakecolor": "white",
           "landcolor": "#E5ECF6",
           "showlakes": true,
           "showland": true,
           "subunitcolor": "white"
          },
          "hoverlabel": {
           "align": "left"
          },
          "hovermode": "closest",
          "mapbox": {
           "style": "light"
          },
          "paper_bgcolor": "white",
          "plot_bgcolor": "#E5ECF6",
          "polar": {
           "angularaxis": {
            "gridcolor": "white",
            "linecolor": "white",
            "ticks": ""
           },
           "bgcolor": "#E5ECF6",
           "radialaxis": {
            "gridcolor": "white",
            "linecolor": "white",
            "ticks": ""
           }
          },
          "scene": {
           "xaxis": {
            "backgroundcolor": "#E5ECF6",
            "gridcolor": "white",
            "gridwidth": 2,
            "linecolor": "white",
            "showbackground": true,
            "ticks": "",
            "zerolinecolor": "white"
           },
           "yaxis": {
            "backgroundcolor": "#E5ECF6",
            "gridcolor": "white",
            "gridwidth": 2,
            "linecolor": "white",
            "showbackground": true,
            "ticks": "",
            "zerolinecolor": "white"
           },
           "zaxis": {
            "backgroundcolor": "#E5ECF6",
            "gridcolor": "white",
            "gridwidth": 2,
            "linecolor": "white",
            "showbackground": true,
            "ticks": "",
            "zerolinecolor": "white"
           }
          },
          "shapedefaults": {
           "line": {
            "color": "#2a3f5f"
           }
          },
          "ternary": {
           "aaxis": {
            "gridcolor": "white",
            "linecolor": "white",
            "ticks": ""
           },
           "baxis": {
            "gridcolor": "white",
            "linecolor": "white",
            "ticks": ""
           },
           "bgcolor": "#E5ECF6",
           "caxis": {
            "gridcolor": "white",
            "linecolor": "white",
            "ticks": ""
           }
          },
          "title": {
           "x": 0.05
          },
          "xaxis": {
           "automargin": true,
           "gridcolor": "white",
           "linecolor": "white",
           "ticks": "",
           "title": {
            "standoff": 15
           },
           "zerolinecolor": "white",
           "zerolinewidth": 2
          },
          "yaxis": {
           "automargin": true,
           "gridcolor": "white",
           "linecolor": "white",
           "ticks": "",
           "title": {
            "standoff": 15
           },
           "zerolinecolor": "white",
           "zerolinewidth": 2
          }
         }
        },
        "title": {
         "text": "Média da Diferença Frente-Gota por Mês"
        },
        "xaxis": {
         "anchor": "y",
         "domain": [
          0,
          1
         ],
         "title": {
          "text": "Mês"
         }
        },
        "yaxis": {
         "anchor": "x",
         "domain": [
          0,
          1
         ],
         "title": {
          "text": "Diferença (F°)"
         }
        }
       }
      }
     },
     "metadata": {},
     "output_type": "display_data"
    }
   ],
   "source": [
    "df_dif_media_frente_gota = df_valores_mensais.groupby('Mês')[['Diferença Frente-Gota']].mean().round(2)\n",
    "df_dif_media_frente_gota.rename(columns={'Diferença Frente-Gota': 'Diferença Média Frente-Gota'}, inplace=True)\n",
    "\n",
    "px.bar(\n",
    "    df_dif_media_frente_gota,\n",
    "    x=df_dif_media_frente_gota.index,\n",
    "    y='Diferença Média Frente-Gota',\n",
    "    title=\"Média da Diferença Frente-Gota por Mês\",\n",
    "    labels={'Mês': 'Mês', 'Diferença Média Frente-Gota': 'Diferença (F°)'},\n",
    "    color='Diferença Média Frente-Gota',\n",
    "    text='Diferença Média Frente-Gota'\n",
    ")"
   ]
  },
  {
   "cell_type": "markdown",
   "metadata": {},
   "source": [
    "#### Explicação dos valores negativos:\n",
    "Ao calcular a média mensal de uma diferença, o valor pode ser negativo dependendo dos dados. Isso ocorre porque a média é baseada nas subtrações de `'Frente-PV (F°)'` e `'Temperatura (F°)'` ao longo de cada mês, e pode haver períodos em que a `'Temperatura (F°)'` seja maior do que `'Frente-PV (F°)'` em algumas observações, resultando em valores negativos.\n",
    "\n",
    "#### Exemplo:\n",
    "Para o mês 1, temos um valor de **-3.37** para a diferença mensal, o que significa que, em média, em algumas datas dentro desse mês, a `'Temperatura (F°)'` foi maior que a `'Frente-PV (F°)'`, o que causou uma diferença negativa."
   ]
  },
  {
   "cell_type": "markdown",
   "metadata": {},
   "source": [
    "### Mediana da Diferença de Temperatura por Mês"
   ]
  },
  {
   "cell_type": "code",
   "execution_count": 66,
   "metadata": {},
   "outputs": [
    {
     "data": {
      "application/vnd.plotly.v1+json": {
       "config": {
        "plotlyServerURL": "https://plot.ly"
       },
       "data": [
        {
         "alignmentgroup": "True",
         "hovertemplate": "Mês=%{x}<br>Diferença Mediana Frente-Gota=%{marker.color}<extra></extra>",
         "legendgroup": "",
         "marker": {
          "color": [
           146.52,
           204.22,
           172.7,
           92.24,
           265.42,
           152.56
          ],
          "coloraxis": "coloraxis",
          "pattern": {
           "shape": ""
          }
         },
         "name": "",
         "offsetgroup": "",
         "orientation": "v",
         "showlegend": false,
         "text": [
          146.52,
          204.22,
          172.7,
          92.24,
          265.42,
          152.56
         ],
         "textposition": "auto",
         "type": "bar",
         "x": [
          1,
          2,
          3,
          4,
          5,
          6
         ],
         "xaxis": "x",
         "y": [
          146.52,
          204.22,
          172.7,
          92.24,
          265.42,
          152.56
         ],
         "yaxis": "y"
        }
       ],
       "layout": {
        "barmode": "relative",
        "coloraxis": {
         "colorbar": {
          "title": {
           "text": "Diferença Mediana Frente-Gota"
          }
         },
         "colorscale": [
          [
           0,
           "#0d0887"
          ],
          [
           0.1111111111111111,
           "#46039f"
          ],
          [
           0.2222222222222222,
           "#7201a8"
          ],
          [
           0.3333333333333333,
           "#9c179e"
          ],
          [
           0.4444444444444444,
           "#bd3786"
          ],
          [
           0.5555555555555556,
           "#d8576b"
          ],
          [
           0.6666666666666666,
           "#ed7953"
          ],
          [
           0.7777777777777778,
           "#fb9f3a"
          ],
          [
           0.8888888888888888,
           "#fdca26"
          ],
          [
           1,
           "#f0f921"
          ]
         ]
        },
        "legend": {
         "tracegroupgap": 0
        },
        "template": {
         "data": {
          "bar": [
           {
            "error_x": {
             "color": "#2a3f5f"
            },
            "error_y": {
             "color": "#2a3f5f"
            },
            "marker": {
             "line": {
              "color": "#E5ECF6",
              "width": 0.5
             },
             "pattern": {
              "fillmode": "overlay",
              "size": 10,
              "solidity": 0.2
             }
            },
            "type": "bar"
           }
          ],
          "barpolar": [
           {
            "marker": {
             "line": {
              "color": "#E5ECF6",
              "width": 0.5
             },
             "pattern": {
              "fillmode": "overlay",
              "size": 10,
              "solidity": 0.2
             }
            },
            "type": "barpolar"
           }
          ],
          "carpet": [
           {
            "aaxis": {
             "endlinecolor": "#2a3f5f",
             "gridcolor": "white",
             "linecolor": "white",
             "minorgridcolor": "white",
             "startlinecolor": "#2a3f5f"
            },
            "baxis": {
             "endlinecolor": "#2a3f5f",
             "gridcolor": "white",
             "linecolor": "white",
             "minorgridcolor": "white",
             "startlinecolor": "#2a3f5f"
            },
            "type": "carpet"
           }
          ],
          "choropleth": [
           {
            "colorbar": {
             "outlinewidth": 0,
             "ticks": ""
            },
            "type": "choropleth"
           }
          ],
          "contour": [
           {
            "colorbar": {
             "outlinewidth": 0,
             "ticks": ""
            },
            "colorscale": [
             [
              0,
              "#0d0887"
             ],
             [
              0.1111111111111111,
              "#46039f"
             ],
             [
              0.2222222222222222,
              "#7201a8"
             ],
             [
              0.3333333333333333,
              "#9c179e"
             ],
             [
              0.4444444444444444,
              "#bd3786"
             ],
             [
              0.5555555555555556,
              "#d8576b"
             ],
             [
              0.6666666666666666,
              "#ed7953"
             ],
             [
              0.7777777777777778,
              "#fb9f3a"
             ],
             [
              0.8888888888888888,
              "#fdca26"
             ],
             [
              1,
              "#f0f921"
             ]
            ],
            "type": "contour"
           }
          ],
          "contourcarpet": [
           {
            "colorbar": {
             "outlinewidth": 0,
             "ticks": ""
            },
            "type": "contourcarpet"
           }
          ],
          "heatmap": [
           {
            "colorbar": {
             "outlinewidth": 0,
             "ticks": ""
            },
            "colorscale": [
             [
              0,
              "#0d0887"
             ],
             [
              0.1111111111111111,
              "#46039f"
             ],
             [
              0.2222222222222222,
              "#7201a8"
             ],
             [
              0.3333333333333333,
              "#9c179e"
             ],
             [
              0.4444444444444444,
              "#bd3786"
             ],
             [
              0.5555555555555556,
              "#d8576b"
             ],
             [
              0.6666666666666666,
              "#ed7953"
             ],
             [
              0.7777777777777778,
              "#fb9f3a"
             ],
             [
              0.8888888888888888,
              "#fdca26"
             ],
             [
              1,
              "#f0f921"
             ]
            ],
            "type": "heatmap"
           }
          ],
          "heatmapgl": [
           {
            "colorbar": {
             "outlinewidth": 0,
             "ticks": ""
            },
            "colorscale": [
             [
              0,
              "#0d0887"
             ],
             [
              0.1111111111111111,
              "#46039f"
             ],
             [
              0.2222222222222222,
              "#7201a8"
             ],
             [
              0.3333333333333333,
              "#9c179e"
             ],
             [
              0.4444444444444444,
              "#bd3786"
             ],
             [
              0.5555555555555556,
              "#d8576b"
             ],
             [
              0.6666666666666666,
              "#ed7953"
             ],
             [
              0.7777777777777778,
              "#fb9f3a"
             ],
             [
              0.8888888888888888,
              "#fdca26"
             ],
             [
              1,
              "#f0f921"
             ]
            ],
            "type": "heatmapgl"
           }
          ],
          "histogram": [
           {
            "marker": {
             "pattern": {
              "fillmode": "overlay",
              "size": 10,
              "solidity": 0.2
             }
            },
            "type": "histogram"
           }
          ],
          "histogram2d": [
           {
            "colorbar": {
             "outlinewidth": 0,
             "ticks": ""
            },
            "colorscale": [
             [
              0,
              "#0d0887"
             ],
             [
              0.1111111111111111,
              "#46039f"
             ],
             [
              0.2222222222222222,
              "#7201a8"
             ],
             [
              0.3333333333333333,
              "#9c179e"
             ],
             [
              0.4444444444444444,
              "#bd3786"
             ],
             [
              0.5555555555555556,
              "#d8576b"
             ],
             [
              0.6666666666666666,
              "#ed7953"
             ],
             [
              0.7777777777777778,
              "#fb9f3a"
             ],
             [
              0.8888888888888888,
              "#fdca26"
             ],
             [
              1,
              "#f0f921"
             ]
            ],
            "type": "histogram2d"
           }
          ],
          "histogram2dcontour": [
           {
            "colorbar": {
             "outlinewidth": 0,
             "ticks": ""
            },
            "colorscale": [
             [
              0,
              "#0d0887"
             ],
             [
              0.1111111111111111,
              "#46039f"
             ],
             [
              0.2222222222222222,
              "#7201a8"
             ],
             [
              0.3333333333333333,
              "#9c179e"
             ],
             [
              0.4444444444444444,
              "#bd3786"
             ],
             [
              0.5555555555555556,
              "#d8576b"
             ],
             [
              0.6666666666666666,
              "#ed7953"
             ],
             [
              0.7777777777777778,
              "#fb9f3a"
             ],
             [
              0.8888888888888888,
              "#fdca26"
             ],
             [
              1,
              "#f0f921"
             ]
            ],
            "type": "histogram2dcontour"
           }
          ],
          "mesh3d": [
           {
            "colorbar": {
             "outlinewidth": 0,
             "ticks": ""
            },
            "type": "mesh3d"
           }
          ],
          "parcoords": [
           {
            "line": {
             "colorbar": {
              "outlinewidth": 0,
              "ticks": ""
             }
            },
            "type": "parcoords"
           }
          ],
          "pie": [
           {
            "automargin": true,
            "type": "pie"
           }
          ],
          "scatter": [
           {
            "fillpattern": {
             "fillmode": "overlay",
             "size": 10,
             "solidity": 0.2
            },
            "type": "scatter"
           }
          ],
          "scatter3d": [
           {
            "line": {
             "colorbar": {
              "outlinewidth": 0,
              "ticks": ""
             }
            },
            "marker": {
             "colorbar": {
              "outlinewidth": 0,
              "ticks": ""
             }
            },
            "type": "scatter3d"
           }
          ],
          "scattercarpet": [
           {
            "marker": {
             "colorbar": {
              "outlinewidth": 0,
              "ticks": ""
             }
            },
            "type": "scattercarpet"
           }
          ],
          "scattergeo": [
           {
            "marker": {
             "colorbar": {
              "outlinewidth": 0,
              "ticks": ""
             }
            },
            "type": "scattergeo"
           }
          ],
          "scattergl": [
           {
            "marker": {
             "colorbar": {
              "outlinewidth": 0,
              "ticks": ""
             }
            },
            "type": "scattergl"
           }
          ],
          "scattermapbox": [
           {
            "marker": {
             "colorbar": {
              "outlinewidth": 0,
              "ticks": ""
             }
            },
            "type": "scattermapbox"
           }
          ],
          "scatterpolar": [
           {
            "marker": {
             "colorbar": {
              "outlinewidth": 0,
              "ticks": ""
             }
            },
            "type": "scatterpolar"
           }
          ],
          "scatterpolargl": [
           {
            "marker": {
             "colorbar": {
              "outlinewidth": 0,
              "ticks": ""
             }
            },
            "type": "scatterpolargl"
           }
          ],
          "scatterternary": [
           {
            "marker": {
             "colorbar": {
              "outlinewidth": 0,
              "ticks": ""
             }
            },
            "type": "scatterternary"
           }
          ],
          "surface": [
           {
            "colorbar": {
             "outlinewidth": 0,
             "ticks": ""
            },
            "colorscale": [
             [
              0,
              "#0d0887"
             ],
             [
              0.1111111111111111,
              "#46039f"
             ],
             [
              0.2222222222222222,
              "#7201a8"
             ],
             [
              0.3333333333333333,
              "#9c179e"
             ],
             [
              0.4444444444444444,
              "#bd3786"
             ],
             [
              0.5555555555555556,
              "#d8576b"
             ],
             [
              0.6666666666666666,
              "#ed7953"
             ],
             [
              0.7777777777777778,
              "#fb9f3a"
             ],
             [
              0.8888888888888888,
              "#fdca26"
             ],
             [
              1,
              "#f0f921"
             ]
            ],
            "type": "surface"
           }
          ],
          "table": [
           {
            "cells": {
             "fill": {
              "color": "#EBF0F8"
             },
             "line": {
              "color": "white"
             }
            },
            "header": {
             "fill": {
              "color": "#C8D4E3"
             },
             "line": {
              "color": "white"
             }
            },
            "type": "table"
           }
          ]
         },
         "layout": {
          "annotationdefaults": {
           "arrowcolor": "#2a3f5f",
           "arrowhead": 0,
           "arrowwidth": 1
          },
          "autotypenumbers": "strict",
          "coloraxis": {
           "colorbar": {
            "outlinewidth": 0,
            "ticks": ""
           }
          },
          "colorscale": {
           "diverging": [
            [
             0,
             "#8e0152"
            ],
            [
             0.1,
             "#c51b7d"
            ],
            [
             0.2,
             "#de77ae"
            ],
            [
             0.3,
             "#f1b6da"
            ],
            [
             0.4,
             "#fde0ef"
            ],
            [
             0.5,
             "#f7f7f7"
            ],
            [
             0.6,
             "#e6f5d0"
            ],
            [
             0.7,
             "#b8e186"
            ],
            [
             0.8,
             "#7fbc41"
            ],
            [
             0.9,
             "#4d9221"
            ],
            [
             1,
             "#276419"
            ]
           ],
           "sequential": [
            [
             0,
             "#0d0887"
            ],
            [
             0.1111111111111111,
             "#46039f"
            ],
            [
             0.2222222222222222,
             "#7201a8"
            ],
            [
             0.3333333333333333,
             "#9c179e"
            ],
            [
             0.4444444444444444,
             "#bd3786"
            ],
            [
             0.5555555555555556,
             "#d8576b"
            ],
            [
             0.6666666666666666,
             "#ed7953"
            ],
            [
             0.7777777777777778,
             "#fb9f3a"
            ],
            [
             0.8888888888888888,
             "#fdca26"
            ],
            [
             1,
             "#f0f921"
            ]
           ],
           "sequentialminus": [
            [
             0,
             "#0d0887"
            ],
            [
             0.1111111111111111,
             "#46039f"
            ],
            [
             0.2222222222222222,
             "#7201a8"
            ],
            [
             0.3333333333333333,
             "#9c179e"
            ],
            [
             0.4444444444444444,
             "#bd3786"
            ],
            [
             0.5555555555555556,
             "#d8576b"
            ],
            [
             0.6666666666666666,
             "#ed7953"
            ],
            [
             0.7777777777777778,
             "#fb9f3a"
            ],
            [
             0.8888888888888888,
             "#fdca26"
            ],
            [
             1,
             "#f0f921"
            ]
           ]
          },
          "colorway": [
           "#636efa",
           "#EF553B",
           "#00cc96",
           "#ab63fa",
           "#FFA15A",
           "#19d3f3",
           "#FF6692",
           "#B6E880",
           "#FF97FF",
           "#FECB52"
          ],
          "font": {
           "color": "#2a3f5f"
          },
          "geo": {
           "bgcolor": "white",
           "lakecolor": "white",
           "landcolor": "#E5ECF6",
           "showlakes": true,
           "showland": true,
           "subunitcolor": "white"
          },
          "hoverlabel": {
           "align": "left"
          },
          "hovermode": "closest",
          "mapbox": {
           "style": "light"
          },
          "paper_bgcolor": "white",
          "plot_bgcolor": "#E5ECF6",
          "polar": {
           "angularaxis": {
            "gridcolor": "white",
            "linecolor": "white",
            "ticks": ""
           },
           "bgcolor": "#E5ECF6",
           "radialaxis": {
            "gridcolor": "white",
            "linecolor": "white",
            "ticks": ""
           }
          },
          "scene": {
           "xaxis": {
            "backgroundcolor": "#E5ECF6",
            "gridcolor": "white",
            "gridwidth": 2,
            "linecolor": "white",
            "showbackground": true,
            "ticks": "",
            "zerolinecolor": "white"
           },
           "yaxis": {
            "backgroundcolor": "#E5ECF6",
            "gridcolor": "white",
            "gridwidth": 2,
            "linecolor": "white",
            "showbackground": true,
            "ticks": "",
            "zerolinecolor": "white"
           },
           "zaxis": {
            "backgroundcolor": "#E5ECF6",
            "gridcolor": "white",
            "gridwidth": 2,
            "linecolor": "white",
            "showbackground": true,
            "ticks": "",
            "zerolinecolor": "white"
           }
          },
          "shapedefaults": {
           "line": {
            "color": "#2a3f5f"
           }
          },
          "ternary": {
           "aaxis": {
            "gridcolor": "white",
            "linecolor": "white",
            "ticks": ""
           },
           "baxis": {
            "gridcolor": "white",
            "linecolor": "white",
            "ticks": ""
           },
           "bgcolor": "#E5ECF6",
           "caxis": {
            "gridcolor": "white",
            "linecolor": "white",
            "ticks": ""
           }
          },
          "title": {
           "x": 0.05
          },
          "xaxis": {
           "automargin": true,
           "gridcolor": "white",
           "linecolor": "white",
           "ticks": "",
           "title": {
            "standoff": 15
           },
           "zerolinecolor": "white",
           "zerolinewidth": 2
          },
          "yaxis": {
           "automargin": true,
           "gridcolor": "white",
           "linecolor": "white",
           "ticks": "",
           "title": {
            "standoff": 15
           },
           "zerolinecolor": "white",
           "zerolinewidth": 2
          }
         }
        },
        "title": {
         "text": "Mediana da Diferença Frente-Gota por Mês"
        },
        "xaxis": {
         "anchor": "y",
         "domain": [
          0,
          1
         ],
         "title": {
          "text": "Mês"
         }
        },
        "yaxis": {
         "anchor": "x",
         "domain": [
          0,
          1
         ],
         "title": {
          "text": "Diferença Mediana Frente-Gota"
         }
        }
       }
      }
     },
     "metadata": {},
     "output_type": "display_data"
    }
   ],
   "source": [
    "df_dif_mediana_frente_gota = df_valores_mensais.groupby('Mês')[['Diferença Frente-Gota']].median().round(2)\n",
    "df_dif_mediana_frente_gota.rename(columns={'Diferença Frente-Gota': 'Diferença Mediana Frente-Gota'}, inplace=True)\n",
    "\n",
    "px.bar(\n",
    "    df_dif_mediana_frente_gota,\n",
    "    x=df_dif_mediana_frente_gota.index,\n",
    "    y='Diferença Mediana Frente-Gota',\n",
    "    title=\"Mediana da Diferença Frente-Gota por Mês\",\n",
    "    labels={'Mês': 'Mês', 'Diferença Mediana Frente-Gota': 'Diferença Mediana Frente-Gota'},\n",
    "    color='Diferença Mediana Frente-Gota',\n",
    "    text='Diferença Mediana Frente-Gota'\n",
    ")"
   ]
  },
  {
   "cell_type": "markdown",
   "metadata": {},
   "source": [
    "### Desvio Padrão da Diferença de Temperatura por Mês"
   ]
  },
  {
   "cell_type": "code",
   "execution_count": 67,
   "metadata": {},
   "outputs": [
    {
     "data": {
      "application/vnd.plotly.v1+json": {
       "config": {
        "plotlyServerURL": "https://plot.ly"
       },
       "data": [
        {
         "alignmentgroup": "True",
         "hovertemplate": "Mês=%{x}<br>Desvio Padrão Frente-Gota (F°)=%{marker.color}<extra></extra>",
         "legendgroup": "",
         "marker": {
          "color": [
           525.68,
           193.23,
           343.68,
           132.08,
           286.89,
           363.77
          ],
          "coloraxis": "coloraxis",
          "pattern": {
           "shape": ""
          }
         },
         "name": "",
         "offsetgroup": "",
         "orientation": "v",
         "showlegend": false,
         "text": [
          525.68,
          193.23,
          343.68,
          132.08,
          286.89,
          363.77
         ],
         "textposition": "auto",
         "type": "bar",
         "x": [
          1,
          2,
          3,
          4,
          5,
          6
         ],
         "xaxis": "x",
         "y": [
          525.68,
          193.23,
          343.68,
          132.08,
          286.89,
          363.77
         ],
         "yaxis": "y"
        }
       ],
       "layout": {
        "barmode": "relative",
        "coloraxis": {
         "colorbar": {
          "title": {
           "text": "Desvio Padrão Frente-Gota (F°)"
          }
         },
         "colorscale": [
          [
           0,
           "#0d0887"
          ],
          [
           0.1111111111111111,
           "#46039f"
          ],
          [
           0.2222222222222222,
           "#7201a8"
          ],
          [
           0.3333333333333333,
           "#9c179e"
          ],
          [
           0.4444444444444444,
           "#bd3786"
          ],
          [
           0.5555555555555556,
           "#d8576b"
          ],
          [
           0.6666666666666666,
           "#ed7953"
          ],
          [
           0.7777777777777778,
           "#fb9f3a"
          ],
          [
           0.8888888888888888,
           "#fdca26"
          ],
          [
           1,
           "#f0f921"
          ]
         ]
        },
        "legend": {
         "tracegroupgap": 0
        },
        "template": {
         "data": {
          "bar": [
           {
            "error_x": {
             "color": "#2a3f5f"
            },
            "error_y": {
             "color": "#2a3f5f"
            },
            "marker": {
             "line": {
              "color": "#E5ECF6",
              "width": 0.5
             },
             "pattern": {
              "fillmode": "overlay",
              "size": 10,
              "solidity": 0.2
             }
            },
            "type": "bar"
           }
          ],
          "barpolar": [
           {
            "marker": {
             "line": {
              "color": "#E5ECF6",
              "width": 0.5
             },
             "pattern": {
              "fillmode": "overlay",
              "size": 10,
              "solidity": 0.2
             }
            },
            "type": "barpolar"
           }
          ],
          "carpet": [
           {
            "aaxis": {
             "endlinecolor": "#2a3f5f",
             "gridcolor": "white",
             "linecolor": "white",
             "minorgridcolor": "white",
             "startlinecolor": "#2a3f5f"
            },
            "baxis": {
             "endlinecolor": "#2a3f5f",
             "gridcolor": "white",
             "linecolor": "white",
             "minorgridcolor": "white",
             "startlinecolor": "#2a3f5f"
            },
            "type": "carpet"
           }
          ],
          "choropleth": [
           {
            "colorbar": {
             "outlinewidth": 0,
             "ticks": ""
            },
            "type": "choropleth"
           }
          ],
          "contour": [
           {
            "colorbar": {
             "outlinewidth": 0,
             "ticks": ""
            },
            "colorscale": [
             [
              0,
              "#0d0887"
             ],
             [
              0.1111111111111111,
              "#46039f"
             ],
             [
              0.2222222222222222,
              "#7201a8"
             ],
             [
              0.3333333333333333,
              "#9c179e"
             ],
             [
              0.4444444444444444,
              "#bd3786"
             ],
             [
              0.5555555555555556,
              "#d8576b"
             ],
             [
              0.6666666666666666,
              "#ed7953"
             ],
             [
              0.7777777777777778,
              "#fb9f3a"
             ],
             [
              0.8888888888888888,
              "#fdca26"
             ],
             [
              1,
              "#f0f921"
             ]
            ],
            "type": "contour"
           }
          ],
          "contourcarpet": [
           {
            "colorbar": {
             "outlinewidth": 0,
             "ticks": ""
            },
            "type": "contourcarpet"
           }
          ],
          "heatmap": [
           {
            "colorbar": {
             "outlinewidth": 0,
             "ticks": ""
            },
            "colorscale": [
             [
              0,
              "#0d0887"
             ],
             [
              0.1111111111111111,
              "#46039f"
             ],
             [
              0.2222222222222222,
              "#7201a8"
             ],
             [
              0.3333333333333333,
              "#9c179e"
             ],
             [
              0.4444444444444444,
              "#bd3786"
             ],
             [
              0.5555555555555556,
              "#d8576b"
             ],
             [
              0.6666666666666666,
              "#ed7953"
             ],
             [
              0.7777777777777778,
              "#fb9f3a"
             ],
             [
              0.8888888888888888,
              "#fdca26"
             ],
             [
              1,
              "#f0f921"
             ]
            ],
            "type": "heatmap"
           }
          ],
          "heatmapgl": [
           {
            "colorbar": {
             "outlinewidth": 0,
             "ticks": ""
            },
            "colorscale": [
             [
              0,
              "#0d0887"
             ],
             [
              0.1111111111111111,
              "#46039f"
             ],
             [
              0.2222222222222222,
              "#7201a8"
             ],
             [
              0.3333333333333333,
              "#9c179e"
             ],
             [
              0.4444444444444444,
              "#bd3786"
             ],
             [
              0.5555555555555556,
              "#d8576b"
             ],
             [
              0.6666666666666666,
              "#ed7953"
             ],
             [
              0.7777777777777778,
              "#fb9f3a"
             ],
             [
              0.8888888888888888,
              "#fdca26"
             ],
             [
              1,
              "#f0f921"
             ]
            ],
            "type": "heatmapgl"
           }
          ],
          "histogram": [
           {
            "marker": {
             "pattern": {
              "fillmode": "overlay",
              "size": 10,
              "solidity": 0.2
             }
            },
            "type": "histogram"
           }
          ],
          "histogram2d": [
           {
            "colorbar": {
             "outlinewidth": 0,
             "ticks": ""
            },
            "colorscale": [
             [
              0,
              "#0d0887"
             ],
             [
              0.1111111111111111,
              "#46039f"
             ],
             [
              0.2222222222222222,
              "#7201a8"
             ],
             [
              0.3333333333333333,
              "#9c179e"
             ],
             [
              0.4444444444444444,
              "#bd3786"
             ],
             [
              0.5555555555555556,
              "#d8576b"
             ],
             [
              0.6666666666666666,
              "#ed7953"
             ],
             [
              0.7777777777777778,
              "#fb9f3a"
             ],
             [
              0.8888888888888888,
              "#fdca26"
             ],
             [
              1,
              "#f0f921"
             ]
            ],
            "type": "histogram2d"
           }
          ],
          "histogram2dcontour": [
           {
            "colorbar": {
             "outlinewidth": 0,
             "ticks": ""
            },
            "colorscale": [
             [
              0,
              "#0d0887"
             ],
             [
              0.1111111111111111,
              "#46039f"
             ],
             [
              0.2222222222222222,
              "#7201a8"
             ],
             [
              0.3333333333333333,
              "#9c179e"
             ],
             [
              0.4444444444444444,
              "#bd3786"
             ],
             [
              0.5555555555555556,
              "#d8576b"
             ],
             [
              0.6666666666666666,
              "#ed7953"
             ],
             [
              0.7777777777777778,
              "#fb9f3a"
             ],
             [
              0.8888888888888888,
              "#fdca26"
             ],
             [
              1,
              "#f0f921"
             ]
            ],
            "type": "histogram2dcontour"
           }
          ],
          "mesh3d": [
           {
            "colorbar": {
             "outlinewidth": 0,
             "ticks": ""
            },
            "type": "mesh3d"
           }
          ],
          "parcoords": [
           {
            "line": {
             "colorbar": {
              "outlinewidth": 0,
              "ticks": ""
             }
            },
            "type": "parcoords"
           }
          ],
          "pie": [
           {
            "automargin": true,
            "type": "pie"
           }
          ],
          "scatter": [
           {
            "fillpattern": {
             "fillmode": "overlay",
             "size": 10,
             "solidity": 0.2
            },
            "type": "scatter"
           }
          ],
          "scatter3d": [
           {
            "line": {
             "colorbar": {
              "outlinewidth": 0,
              "ticks": ""
             }
            },
            "marker": {
             "colorbar": {
              "outlinewidth": 0,
              "ticks": ""
             }
            },
            "type": "scatter3d"
           }
          ],
          "scattercarpet": [
           {
            "marker": {
             "colorbar": {
              "outlinewidth": 0,
              "ticks": ""
             }
            },
            "type": "scattercarpet"
           }
          ],
          "scattergeo": [
           {
            "marker": {
             "colorbar": {
              "outlinewidth": 0,
              "ticks": ""
             }
            },
            "type": "scattergeo"
           }
          ],
          "scattergl": [
           {
            "marker": {
             "colorbar": {
              "outlinewidth": 0,
              "ticks": ""
             }
            },
            "type": "scattergl"
           }
          ],
          "scattermapbox": [
           {
            "marker": {
             "colorbar": {
              "outlinewidth": 0,
              "ticks": ""
             }
            },
            "type": "scattermapbox"
           }
          ],
          "scatterpolar": [
           {
            "marker": {
             "colorbar": {
              "outlinewidth": 0,
              "ticks": ""
             }
            },
            "type": "scatterpolar"
           }
          ],
          "scatterpolargl": [
           {
            "marker": {
             "colorbar": {
              "outlinewidth": 0,
              "ticks": ""
             }
            },
            "type": "scatterpolargl"
           }
          ],
          "scatterternary": [
           {
            "marker": {
             "colorbar": {
              "outlinewidth": 0,
              "ticks": ""
             }
            },
            "type": "scatterternary"
           }
          ],
          "surface": [
           {
            "colorbar": {
             "outlinewidth": 0,
             "ticks": ""
            },
            "colorscale": [
             [
              0,
              "#0d0887"
             ],
             [
              0.1111111111111111,
              "#46039f"
             ],
             [
              0.2222222222222222,
              "#7201a8"
             ],
             [
              0.3333333333333333,
              "#9c179e"
             ],
             [
              0.4444444444444444,
              "#bd3786"
             ],
             [
              0.5555555555555556,
              "#d8576b"
             ],
             [
              0.6666666666666666,
              "#ed7953"
             ],
             [
              0.7777777777777778,
              "#fb9f3a"
             ],
             [
              0.8888888888888888,
              "#fdca26"
             ],
             [
              1,
              "#f0f921"
             ]
            ],
            "type": "surface"
           }
          ],
          "table": [
           {
            "cells": {
             "fill": {
              "color": "#EBF0F8"
             },
             "line": {
              "color": "white"
             }
            },
            "header": {
             "fill": {
              "color": "#C8D4E3"
             },
             "line": {
              "color": "white"
             }
            },
            "type": "table"
           }
          ]
         },
         "layout": {
          "annotationdefaults": {
           "arrowcolor": "#2a3f5f",
           "arrowhead": 0,
           "arrowwidth": 1
          },
          "autotypenumbers": "strict",
          "coloraxis": {
           "colorbar": {
            "outlinewidth": 0,
            "ticks": ""
           }
          },
          "colorscale": {
           "diverging": [
            [
             0,
             "#8e0152"
            ],
            [
             0.1,
             "#c51b7d"
            ],
            [
             0.2,
             "#de77ae"
            ],
            [
             0.3,
             "#f1b6da"
            ],
            [
             0.4,
             "#fde0ef"
            ],
            [
             0.5,
             "#f7f7f7"
            ],
            [
             0.6,
             "#e6f5d0"
            ],
            [
             0.7,
             "#b8e186"
            ],
            [
             0.8,
             "#7fbc41"
            ],
            [
             0.9,
             "#4d9221"
            ],
            [
             1,
             "#276419"
            ]
           ],
           "sequential": [
            [
             0,
             "#0d0887"
            ],
            [
             0.1111111111111111,
             "#46039f"
            ],
            [
             0.2222222222222222,
             "#7201a8"
            ],
            [
             0.3333333333333333,
             "#9c179e"
            ],
            [
             0.4444444444444444,
             "#bd3786"
            ],
            [
             0.5555555555555556,
             "#d8576b"
            ],
            [
             0.6666666666666666,
             "#ed7953"
            ],
            [
             0.7777777777777778,
             "#fb9f3a"
            ],
            [
             0.8888888888888888,
             "#fdca26"
            ],
            [
             1,
             "#f0f921"
            ]
           ],
           "sequentialminus": [
            [
             0,
             "#0d0887"
            ],
            [
             0.1111111111111111,
             "#46039f"
            ],
            [
             0.2222222222222222,
             "#7201a8"
            ],
            [
             0.3333333333333333,
             "#9c179e"
            ],
            [
             0.4444444444444444,
             "#bd3786"
            ],
            [
             0.5555555555555556,
             "#d8576b"
            ],
            [
             0.6666666666666666,
             "#ed7953"
            ],
            [
             0.7777777777777778,
             "#fb9f3a"
            ],
            [
             0.8888888888888888,
             "#fdca26"
            ],
            [
             1,
             "#f0f921"
            ]
           ]
          },
          "colorway": [
           "#636efa",
           "#EF553B",
           "#00cc96",
           "#ab63fa",
           "#FFA15A",
           "#19d3f3",
           "#FF6692",
           "#B6E880",
           "#FF97FF",
           "#FECB52"
          ],
          "font": {
           "color": "#2a3f5f"
          },
          "geo": {
           "bgcolor": "white",
           "lakecolor": "white",
           "landcolor": "#E5ECF6",
           "showlakes": true,
           "showland": true,
           "subunitcolor": "white"
          },
          "hoverlabel": {
           "align": "left"
          },
          "hovermode": "closest",
          "mapbox": {
           "style": "light"
          },
          "paper_bgcolor": "white",
          "plot_bgcolor": "#E5ECF6",
          "polar": {
           "angularaxis": {
            "gridcolor": "white",
            "linecolor": "white",
            "ticks": ""
           },
           "bgcolor": "#E5ECF6",
           "radialaxis": {
            "gridcolor": "white",
            "linecolor": "white",
            "ticks": ""
           }
          },
          "scene": {
           "xaxis": {
            "backgroundcolor": "#E5ECF6",
            "gridcolor": "white",
            "gridwidth": 2,
            "linecolor": "white",
            "showbackground": true,
            "ticks": "",
            "zerolinecolor": "white"
           },
           "yaxis": {
            "backgroundcolor": "#E5ECF6",
            "gridcolor": "white",
            "gridwidth": 2,
            "linecolor": "white",
            "showbackground": true,
            "ticks": "",
            "zerolinecolor": "white"
           },
           "zaxis": {
            "backgroundcolor": "#E5ECF6",
            "gridcolor": "white",
            "gridwidth": 2,
            "linecolor": "white",
            "showbackground": true,
            "ticks": "",
            "zerolinecolor": "white"
           }
          },
          "shapedefaults": {
           "line": {
            "color": "#2a3f5f"
           }
          },
          "ternary": {
           "aaxis": {
            "gridcolor": "white",
            "linecolor": "white",
            "ticks": ""
           },
           "baxis": {
            "gridcolor": "white",
            "linecolor": "white",
            "ticks": ""
           },
           "bgcolor": "#E5ECF6",
           "caxis": {
            "gridcolor": "white",
            "linecolor": "white",
            "ticks": ""
           }
          },
          "title": {
           "x": 0.05
          },
          "xaxis": {
           "automargin": true,
           "gridcolor": "white",
           "linecolor": "white",
           "ticks": "",
           "title": {
            "standoff": 15
           },
           "zerolinecolor": "white",
           "zerolinewidth": 2
          },
          "yaxis": {
           "automargin": true,
           "gridcolor": "white",
           "linecolor": "white",
           "ticks": "",
           "title": {
            "standoff": 15
           },
           "zerolinecolor": "white",
           "zerolinewidth": 2
          }
         }
        },
        "title": {
         "text": "Desvio Padrão da Diferença Frente-Gota por Mês"
        },
        "xaxis": {
         "anchor": "y",
         "domain": [
          0,
          1
         ],
         "title": {
          "text": "Mês"
         }
        },
        "yaxis": {
         "anchor": "x",
         "domain": [
          0,
          1
         ],
         "title": {
          "text": "Desvio Padrão Frente-Gota (F°)"
         }
        }
       }
      }
     },
     "metadata": {},
     "output_type": "display_data"
    }
   ],
   "source": [
    "df_dif_std_frente_gota = df_valores_mensais.groupby('Mês')[['Diferença Frente-Gota']].std().round(2)\n",
    "df_dif_std_frente_gota.rename(columns={'Diferença Frente-Gota': 'Diferença Desvio Padrão Frente-Gota'}, inplace=True)\n",
    "df_dif_std_frente_gota\n",
    "\n",
    "px.bar(\n",
    "    df_dif_std_frente_gota,\n",
    "    x=df_dif_std_frente_gota.index,\n",
    "    y='Diferença Desvio Padrão Frente-Gota',\n",
    "    title=\"Desvio Padrão da Diferença Frente-Gota por Mês\",\n",
    "    labels={'Mês': 'Mês', 'Diferença Desvio Padrão Frente-Gota': 'Desvio Padrão Frente-Gota (F°)'},\n",
    "    color='Diferença Desvio Padrão Frente-Gota',\n",
    "    text='Diferença Desvio Padrão Frente-Gota'\n",
    ")"
   ]
  },
  {
   "cell_type": "markdown",
   "metadata": {},
   "source": [
    "## Analisando a Diferença Negativa"
   ]
  },
  {
   "cell_type": "code",
   "execution_count": 68,
   "metadata": {},
   "outputs": [
    {
     "data": {
      "image/png": "[encoded data removed]",
      "text/plain": [
       "<Figure size 1000x600 with 1 Axes>"
      ]
     },
     "metadata": {},
     "output_type": "display_data"
    },
    {
     "data": {
      "application/vnd.plotly.v1+json": {
       "config": {
        "plotlyServerURL": "https://plot.ly"
       },
       "data": [
        {
         "hovertemplate": "Data de prod=%{x}<br>Diferença Frente-Gota=%{y}<extra></extra>",
         "legendgroup": "",
         "marker": {
          "color": "#636efa",
          "symbol": "circle"
         },
         "mode": "markers",
         "name": "",
         "orientation": "v",
         "showlegend": false,
         "type": "scatter",
         "x": [
          "2024-01-01T00:00:00",
          "2024-01-02T00:00:00",
          "2024-01-03T00:00:00",
          "2024-01-03T00:00:00",
          "2024-01-04T00:00:00",
          "2024-01-05T00:00:00",
          "2024-01-06T00:00:00",
          "2024-01-07T00:00:00",
          "2024-01-08T00:00:00",
          "2024-01-09T00:00:00",
          "2024-01-10T00:00:00",
          "2024-01-11T00:00:00",
          "2024-01-11T00:00:00",
          "2024-01-12T00:00:00",
          "2024-01-13T00:00:00",
          "2024-01-14T00:00:00",
          "2024-01-15T00:00:00",
          "2024-01-16T00:00:00",
          "2024-01-17T00:00:00",
          "2024-01-18T00:00:00",
          "2024-01-19T00:00:00",
          "2024-01-20T00:00:00",
          "2024-01-21T00:00:00",
          "2024-01-22T00:00:00",
          "2024-01-25T00:00:00",
          "2024-01-26T00:00:00",
          "2024-01-27T00:00:00",
          "2024-01-28T00:00:00",
          "2024-01-28T00:00:00",
          "2024-01-29T00:00:00",
          "2024-01-30T00:00:00",
          "2024-01-31T00:00:00",
          "2024-02-01T00:00:00",
          "2024-02-02T00:00:00",
          "2024-02-03T00:00:00",
          "2024-02-04T00:00:00",
          "2024-02-05T00:00:00",
          "2024-02-06T00:00:00",
          "2024-02-07T00:00:00",
          "2024-02-08T00:00:00",
          "2024-02-08T00:00:00",
          "2024-02-09T00:00:00",
          "2024-02-10T00:00:00",
          "2024-02-11T00:00:00",
          "2024-02-12T00:00:00",
          "2024-02-13T00:00:00",
          "2024-02-14T00:00:00",
          "2024-02-14T00:00:00",
          "2024-02-16T00:00:00",
          "2024-02-17T00:00:00",
          "2024-02-18T00:00:00",
          "2024-02-19T00:00:00",
          "2024-02-20T00:00:00",
          "2024-02-21T00:00:00",
          "2024-02-21T00:00:00",
          "2024-02-22T00:00:00",
          "2024-02-23T00:00:00",
          "2024-02-24T00:00:00",
          "2024-02-25T00:00:00",
          "2024-02-26T00:00:00",
          "2024-02-27T00:00:00",
          "2024-02-28T00:00:00",
          "2024-02-29T00:00:00",
          "2024-03-01T00:00:00",
          "2024-03-02T00:00:00",
          "2024-03-03T00:00:00",
          "2024-03-04T00:00:00",
          "2024-03-05T00:00:00",
          "2024-03-06T00:00:00",
          "2024-03-07T00:00:00",
          "2024-03-08T00:00:00",
          "2024-03-09T00:00:00",
          "2024-03-10T00:00:00",
          "2024-03-11T00:00:00",
          "2024-03-11T00:00:00",
          "2024-03-12T00:00:00",
          "2024-03-13T00:00:00",
          "2024-03-13T00:00:00",
          "2024-03-14T00:00:00",
          "2024-03-15T00:00:00",
          "2024-03-16T00:00:00",
          "2024-03-17T00:00:00",
          "2024-03-18T00:00:00",
          "2024-03-19T00:00:00",
          "2024-03-20T00:00:00",
          "2024-03-21T00:00:00",
          "2024-03-22T00:00:00",
          "2024-03-23T00:00:00",
          "2024-03-24T00:00:00",
          "2024-03-25T00:00:00",
          "2024-03-25T00:00:00",
          "2024-03-26T00:00:00",
          "2024-03-27T00:00:00",
          "2024-03-28T00:00:00",
          "2024-03-29T00:00:00",
          "2024-03-30T00:00:00",
          "2024-04-01T00:00:00",
          "2024-04-02T00:00:00",
          "2024-04-03T00:00:00",
          "2024-04-04T00:00:00",
          "2024-04-04T00:00:00",
          "2024-04-05T00:00:00",
          "2024-04-06T00:00:00",
          "2024-04-07T00:00:00",
          "2024-04-08T00:00:00",
          "2024-04-08T00:00:00",
          "2024-04-09T00:00:00",
          "2024-04-10T00:00:00",
          "2024-04-11T00:00:00",
          "2024-04-11T00:00:00",
          "2024-04-12T00:00:00",
          "2024-04-13T00:00:00",
          "2024-04-14T00:00:00",
          "2024-04-15T00:00:00",
          "2024-04-16T00:00:00",
          "2024-04-17T00:00:00",
          "2024-04-18T00:00:00",
          "2024-04-18T00:00:00",
          "2024-04-19T00:00:00",
          "2024-04-20T00:00:00",
          "2024-04-20T00:00:00",
          "2024-04-21T00:00:00",
          "2024-04-22T00:00:00",
          "2024-04-22T00:00:00",
          "2024-04-23T00:00:00",
          "2024-04-24T00:00:00",
          "2024-04-24T00:00:00",
          "2024-04-25T00:00:00",
          "2024-04-26T00:00:00",
          "2024-04-26T00:00:00",
          "2024-04-27T00:00:00",
          "2024-04-28T00:00:00",
          "2024-04-28T00:00:00",
          "2024-04-29T00:00:00",
          "2024-04-30T00:00:00",
          "2024-05-01T00:00:00",
          "2024-05-02T00:00:00",
          "2024-05-02T00:00:00",
          "2024-05-03T00:00:00",
          "2024-05-04T00:00:00",
          "2024-05-05T00:00:00",
          "2024-05-06T00:00:00",
          "2024-05-07T00:00:00",
          "2024-05-08T00:00:00",
          "2024-05-09T00:00:00",
          "2024-05-10T00:00:00",
          "2024-05-11T00:00:00",
          "2024-05-12T00:00:00",
          "2024-05-13T00:00:00",
          "2024-05-14T00:00:00",
          "2024-05-15T00:00:00",
          "2024-05-15T00:00:00",
          "2024-05-16T00:00:00",
          "2024-05-17T00:00:00",
          "2024-05-18T00:00:00",
          "2024-05-19T00:00:00",
          "2024-05-20T00:00:00",
          "2024-05-21T00:00:00",
          "2024-05-22T00:00:00",
          "2024-05-23T00:00:00",
          "2024-05-24T00:00:00",
          "2024-05-25T00:00:00",
          "2024-05-25T00:00:00",
          "2024-05-28T00:00:00",
          "2024-05-29T00:00:00",
          "2024-05-30T00:00:00",
          "2024-05-31T00:00:00",
          "2024-05-31T00:00:00",
          "2024-06-01T00:00:00",
          "2024-06-02T00:00:00",
          "2024-06-02T00:00:00",
          "2024-06-03T00:00:00",
          "2024-06-04T00:00:00",
          "2024-06-05T00:00:00",
          "2024-06-06T00:00:00",
          "2024-06-07T00:00:00",
          "2024-06-08T00:00:00",
          "2024-06-09T00:00:00",
          "2024-06-10T00:00:00",
          "2024-06-11T00:00:00",
          "2024-06-12T00:00:00",
          "2024-06-13T00:00:00",
          "2024-06-14T00:00:00",
          "2024-06-15T00:00:00",
          "2024-06-15T00:00:00",
          "2024-06-16T00:00:00",
          "2024-06-17T00:00:00",
          "2024-06-18T00:00:00",
          "2024-06-19T00:00:00",
          "2024-06-20T00:00:00",
          "2024-06-21T00:00:00",
          "2024-06-22T00:00:00",
          "2024-06-24T00:00:00",
          "2024-06-25T00:00:00",
          "2024-06-25T00:00:00",
          "2024-06-26T00:00:00",
          "2024-06-27T00:00:00",
          "2024-06-28T00:00:00",
          "2024-06-29T00:00:00",
          "2024-06-30T00:00:00"
         ],
         "xaxis": "x",
         "y": [
          143.47999999999956,
          149.55999999999995,
          -320.8200000000006,
          -328.62000000000035,
          -921.5200000000004,
          -1194.7399999999998,
          -1159.6799999999998,
          -1163.94,
          -342.2399999999998,
          275.52,
          255.3599999999999,
          201.72000000000003,
          201.72000000000003,
          283.6400000000001,
          258.72,
          288.4799999999998,
          294.58000000000015,
          282.3399999999999,
          309.70000000000005,
          315.5999999999999,
          389.48,
          841.0999999999999,
          868.0600000000002,
          823.6399999999999,
          -206.84000000000015,
          -56,
          -48.63999999999987,
          -107.23999999999978,
          -107.23999999999978,
          -128.3800000000001,
          -150.52000000000044,
          -54.220000000000255,
          -69.86000000000013,
          -81.32000000000016,
          -66.92000000000007,
          -69.98000000000002,
          -68.72000000000025,
          11.879999999999654,
          21.09999999999991,
          22.079999999999472,
          22.079999999999472,
          195.62000000000012,
          307.65999999999985,
          286.02,
          278.4000000000001,
          294.5999999999999,
          -315.98,
          -315.98,
          264.44000000000005,
          259.94000000000005,
          244.0999999999999,
          241.4000000000001,
          256.52,
          -213.8800000000001,
          -227.7800000000002,
          217.9000000000001,
          204.22000000000003,
          204.22000000000003,
          223.29999999999995,
          229.05999999999995,
          225.6400000000001,
          229.25999999999976,
          243.83999999999992,
          245.01999999999998,
          239.31999999999994,
          259.52,
          280.03999999999996,
          298.03999999999974,
          285.8199999999997,
          273.7199999999998,
          264.8599999999999,
          257.55999999999995,
          264.76,
          1300.7199999999998,
          1300.7199999999998,
          1018.98,
          184.46000000000004,
          184.46000000000004,
          -30.860000000000127,
          -26.5,
          -20.340000000000146,
          -22.320000000000164,
          0.36000000000012733,
          -14.039999999999964,
          -58.320000000000164,
          -271.62000000000035,
          92.51999999999998,
          70.80000000000018,
          54.539999999999964,
          97.26000000000022,
          100.15999999999985,
          127.07999999999993,
          166.42000000000007,
          143.01999999999998,
          181,
          172.70000000000027,
          147.0999999999999,
          182.16000000000008,
          192.74,
          261.7000000000003,
          261.7000000000003,
          134.20000000000005,
          135.0999999999999,
          128.44000000000005,
          68.57999999999993,
          68.57999999999993,
          -157.76000000000022,
          -231.5999999999999,
          -232.3800000000001,
          -232.3800000000001,
          32.86000000000013,
          84.15999999999985,
          80.19999999999982,
          89.73999999999978,
          101.26000000000022,
          88.65999999999985,
          11.83999999999969,
          11.83999999999969,
          -74.94000000000005,
          -68.30000000000018,
          -68.30000000000018,
          -10.66000000000031,
          248.7199999999998,
          248.7199999999998,
          126.0600000000004,
          94.0600000000004,
          94.0600000000004,
          167.75999999999976,
          92.23999999999978,
          92.23999999999978,
          219.55999999999995,
          209.83999999999992,
          209.83999999999992,
          135.36000000000013,
          80.82000000000016,
          98.27999999999975,
          120.09999999999991,
          120.09999999999991,
          227.2800000000002,
          219.86000000000013,
          265.4200000000001,
          194.68000000000006,
          130.4599999999998,
          120.94000000000005,
          103.23999999999978,
          326.94000000000005,
          473.6400000000001,
          432.41999999999985,
          363.8399999999999,
          237.1199999999999,
          187.3599999999999,
          187.3599999999999,
          319.51999999999975,
          312.3800000000001,
          294.20000000000005,
          268.05999999999995,
          293.48,
          272.5999999999999,
          327.8599999999999,
          369.0799999999999,
          354.53999999999974,
          1330.62,
          1330.62,
          715.0799999999999,
          220.26,
          236.0999999999999,
          177.49999999999977,
          177.49999999999977,
          272.22,
          248.5,
          248.5,
          237.01999999999998,
          224.42000000000007,
          205.0999999999999,
          112.62000000000035,
          23.639999999999873,
          -104.0600000000004,
          22.59999999999991,
          22.979999999999563,
          44.2199999999998,
          50.63999999999987,
          53.11999999999989,
          188.1199999999999,
          234.92000000000007,
          234.92000000000007,
          265.6400000000001,
          162.1400000000001,
          84.73999999999978,
          79.15999999999985,
          142.98000000000002,
          -1141.9399999999996,
          1571.5800000000002,
          519.8800000000001,
          26.33999999999969,
          26.33999999999969,
          249.30000000000018,
          130.7199999999998,
          171.5799999999997,
          166.72000000000003,
          134.4399999999996
         ],
         "yaxis": "y"
        }
       ],
       "layout": {
        "legend": {
         "tracegroupgap": 0
        },
        "template": {
         "data": {
          "bar": [
           {
            "error_x": {
             "color": "#2a3f5f"
            },
            "error_y": {
             "color": "#2a3f5f"
            },
            "marker": {
             "line": {
              "color": "#E5ECF6",
              "width": 0.5
             },
             "pattern": {
              "fillmode": "overlay",
              "size": 10,
              "solidity": 0.2
             }
            },
            "type": "bar"
           }
          ],
          "barpolar": [
           {
            "marker": {
             "line": {
              "color": "#E5ECF6",
              "width": 0.5
             },
             "pattern": {
              "fillmode": "overlay",
              "size": 10,
              "solidity": 0.2
             }
            },
            "type": "barpolar"
           }
          ],
          "carpet": [
           {
            "aaxis": {
             "endlinecolor": "#2a3f5f",
             "gridcolor": "white",
             "linecolor": "white",
             "minorgridcolor": "white",
             "startlinecolor": "#2a3f5f"
            },
            "baxis": {
             "endlinecolor": "#2a3f5f",
             "gridcolor": "white",
             "linecolor": "white",
             "minorgridcolor": "white",
             "startlinecolor": "#2a3f5f"
            },
            "type": "carpet"
           }
          ],
          "choropleth": [
           {
            "colorbar": {
             "outlinewidth": 0,
             "ticks": ""
            },
            "type": "choropleth"
           }
          ],
          "contour": [
           {
            "colorbar": {
             "outlinewidth": 0,
             "ticks": ""
            },
            "colorscale": [
             [
              0,
              "#0d0887"
             ],
             [
              0.1111111111111111,
              "#46039f"
             ],
             [
              0.2222222222222222,
              "#7201a8"
             ],
             [
              0.3333333333333333,
              "#9c179e"
             ],
             [
              0.4444444444444444,
              "#bd3786"
             ],
             [
              0.5555555555555556,
              "#d8576b"
             ],
             [
              0.6666666666666666,
              "#ed7953"
             ],
             [
              0.7777777777777778,
              "#fb9f3a"
             ],
             [
              0.8888888888888888,
              "#fdca26"
             ],
             [
              1,
              "#f0f921"
             ]
            ],
            "type": "contour"
           }
          ],
          "contourcarpet": [
           {
            "colorbar": {
             "outlinewidth": 0,
             "ticks": ""
            },
            "type": "contourcarpet"
           }
          ],
          "heatmap": [
           {
            "colorbar": {
             "outlinewidth": 0,
             "ticks": ""
            },
            "colorscale": [
             [
              0,
              "#0d0887"
             ],
             [
              0.1111111111111111,
              "#46039f"
             ],
             [
              0.2222222222222222,
              "#7201a8"
             ],
             [
              0.3333333333333333,
              "#9c179e"
             ],
             [
              0.4444444444444444,
              "#bd3786"
             ],
             [
              0.5555555555555556,
              "#d8576b"
             ],
             [
              0.6666666666666666,
              "#ed7953"
             ],
             [
              0.7777777777777778,
              "#fb9f3a"
             ],
             [
              0.8888888888888888,
              "#fdca26"
             ],
             [
              1,
              "#f0f921"
             ]
            ],
            "type": "heatmap"
           }
          ],
          "heatmapgl": [
           {
            "colorbar": {
             "outlinewidth": 0,
             "ticks": ""
            },
            "colorscale": [
             [
              0,
              "#0d0887"
             ],
             [
              0.1111111111111111,
              "#46039f"
             ],
             [
              0.2222222222222222,
              "#7201a8"
             ],
             [
              0.3333333333333333,
              "#9c179e"
             ],
             [
              0.4444444444444444,
              "#bd3786"
             ],
             [
              0.5555555555555556,
              "#d8576b"
             ],
             [
              0.6666666666666666,
              "#ed7953"
             ],
             [
              0.7777777777777778,
              "#fb9f3a"
             ],
             [
              0.8888888888888888,
              "#fdca26"
             ],
             [
              1,
              "#f0f921"
             ]
            ],
            "type": "heatmapgl"
           }
          ],
          "histogram": [
           {
            "marker": {
             "pattern": {
              "fillmode": "overlay",
              "size": 10,
              "solidity": 0.2
             }
            },
            "type": "histogram"
           }
          ],
          "histogram2d": [
           {
            "colorbar": {
             "outlinewidth": 0,
             "ticks": ""
            },
            "colorscale": [
             [
              0,
              "#0d0887"
             ],
             [
              0.1111111111111111,
              "#46039f"
             ],
             [
              0.2222222222222222,
              "#7201a8"
             ],
             [
              0.3333333333333333,
              "#9c179e"
             ],
             [
              0.4444444444444444,
              "#bd3786"
             ],
             [
              0.5555555555555556,
              "#d8576b"
             ],
             [
              0.6666666666666666,
              "#ed7953"
             ],
             [
              0.7777777777777778,
              "#fb9f3a"
             ],
             [
              0.8888888888888888,
              "#fdca26"
             ],
             [
              1,
              "#f0f921"
             ]
            ],
            "type": "histogram2d"
           }
          ],
          "histogram2dcontour": [
           {
            "colorbar": {
             "outlinewidth": 0,
             "ticks": ""
            },
            "colorscale": [
             [
              0,
              "#0d0887"
             ],
             [
              0.1111111111111111,
              "#46039f"
             ],
             [
              0.2222222222222222,
              "#7201a8"
             ],
             [
              0.3333333333333333,
              "#9c179e"
             ],
             [
              0.4444444444444444,
              "#bd3786"
             ],
             [
              0.5555555555555556,
              "#d8576b"
             ],
             [
              0.6666666666666666,
              "#ed7953"
             ],
             [
              0.7777777777777778,
              "#fb9f3a"
             ],
             [
              0.8888888888888888,
              "#fdca26"
             ],
             [
              1,
              "#f0f921"
             ]
            ],
            "type": "histogram2dcontour"
           }
          ],
          "mesh3d": [
           {
            "colorbar": {
             "outlinewidth": 0,
             "ticks": ""
            },
            "type": "mesh3d"
           }
          ],
          "parcoords": [
           {
            "line": {
             "colorbar": {
              "outlinewidth": 0,
              "ticks": ""
             }
            },
            "type": "parcoords"
           }
          ],
          "pie": [
           {
            "automargin": true,
            "type": "pie"
           }
          ],
          "scatter": [
           {
            "fillpattern": {
             "fillmode": "overlay",
             "size": 10,
             "solidity": 0.2
            },
            "type": "scatter"
           }
          ],
          "scatter3d": [
           {
            "line": {
             "colorbar": {
              "outlinewidth": 0,
              "ticks": ""
             }
            },
            "marker": {
             "colorbar": {
              "outlinewidth": 0,
              "ticks": ""
             }
            },
            "type": "scatter3d"
           }
          ],
          "scattercarpet": [
           {
            "marker": {
             "colorbar": {
              "outlinewidth": 0,
              "ticks": ""
             }
            },
            "type": "scattercarpet"
           }
          ],
          "scattergeo": [
           {
            "marker": {
             "colorbar": {
              "outlinewidth": 0,
              "ticks": ""
             }
            },
            "type": "scattergeo"
           }
          ],
          "scattergl": [
           {
            "marker": {
             "colorbar": {
              "outlinewidth": 0,
              "ticks": ""
             }
            },
            "type": "scattergl"
           }
          ],
          "scattermapbox": [
           {
            "marker": {
             "colorbar": {
              "outlinewidth": 0,
              "ticks": ""
             }
            },
            "type": "scattermapbox"
           }
          ],
          "scatterpolar": [
           {
            "marker": {
             "colorbar": {
              "outlinewidth": 0,
              "ticks": ""
             }
            },
            "type": "scatterpolar"
           }
          ],
          "scatterpolargl": [
           {
            "marker": {
             "colorbar": {
              "outlinewidth": 0,
              "ticks": ""
             }
            },
            "type": "scatterpolargl"
           }
          ],
          "scatterternary": [
           {
            "marker": {
             "colorbar": {
              "outlinewidth": 0,
              "ticks": ""
             }
            },
            "type": "scatterternary"
           }
          ],
          "surface": [
           {
            "colorbar": {
             "outlinewidth": 0,
             "ticks": ""
            },
            "colorscale": [
             [
              0,
              "#0d0887"
             ],
             [
              0.1111111111111111,
              "#46039f"
             ],
             [
              0.2222222222222222,
              "#7201a8"
             ],
             [
              0.3333333333333333,
              "#9c179e"
             ],
             [
              0.4444444444444444,
              "#bd3786"
             ],
             [
              0.5555555555555556,
              "#d8576b"
             ],
             [
              0.6666666666666666,
              "#ed7953"
             ],
             [
              0.7777777777777778,
              "#fb9f3a"
             ],
             [
              0.8888888888888888,
              "#fdca26"
             ],
             [
              1,
              "#f0f921"
             ]
            ],
            "type": "surface"
           }
          ],
          "table": [
           {
            "cells": {
             "fill": {
              "color": "#EBF0F8"
             },
             "line": {
              "color": "white"
             }
            },
            "header": {
             "fill": {
              "color": "#C8D4E3"
             },
             "line": {
              "color": "white"
             }
            },
            "type": "table"
           }
          ]
         },
         "layout": {
          "annotationdefaults": {
           "arrowcolor": "#2a3f5f",
           "arrowhead": 0,
           "arrowwidth": 1
          },
          "autotypenumbers": "strict",
          "coloraxis": {
           "colorbar": {
            "outlinewidth": 0,
            "ticks": ""
           }
          },
          "colorscale": {
           "diverging": [
            [
             0,
             "#8e0152"
            ],
            [
             0.1,
             "#c51b7d"
            ],
            [
             0.2,
             "#de77ae"
            ],
            [
             0.3,
             "#f1b6da"
            ],
            [
             0.4,
             "#fde0ef"
            ],
            [
             0.5,
             "#f7f7f7"
            ],
            [
             0.6,
             "#e6f5d0"
            ],
            [
             0.7,
             "#b8e186"
            ],
            [
             0.8,
             "#7fbc41"
            ],
            [
             0.9,
             "#4d9221"
            ],
            [
             1,
             "#276419"
            ]
           ],
           "sequential": [
            [
             0,
             "#0d0887"
            ],
            [
             0.1111111111111111,
             "#46039f"
            ],
            [
             0.2222222222222222,
             "#7201a8"
            ],
            [
             0.3333333333333333,
             "#9c179e"
            ],
            [
             0.4444444444444444,
             "#bd3786"
            ],
            [
             0.5555555555555556,
             "#d8576b"
            ],
            [
             0.6666666666666666,
             "#ed7953"
            ],
            [
             0.7777777777777778,
             "#fb9f3a"
            ],
            [
             0.8888888888888888,
             "#fdca26"
            ],
            [
             1,
             "#f0f921"
            ]
           ],
           "sequentialminus": [
            [
             0,
             "#0d0887"
            ],
            [
             0.1111111111111111,
             "#46039f"
            ],
            [
             0.2222222222222222,
             "#7201a8"
            ],
            [
             0.3333333333333333,
             "#9c179e"
            ],
            [
             0.4444444444444444,
             "#bd3786"
            ],
            [
             0.5555555555555556,
             "#d8576b"
            ],
            [
             0.6666666666666666,
             "#ed7953"
            ],
            [
             0.7777777777777778,
             "#fb9f3a"
            ],
            [
             0.8888888888888888,
             "#fdca26"
            ],
            [
             1,
             "#f0f921"
            ]
           ]
          },
          "colorway": [
           "#636efa",
           "#EF553B",
           "#00cc96",
           "#ab63fa",
           "#FFA15A",
           "#19d3f3",
           "#FF6692",
           "#B6E880",
           "#FF97FF",
           "#FECB52"
          ],
          "font": {
           "color": "#2a3f5f"
          },
          "geo": {
           "bgcolor": "white",
           "lakecolor": "white",
           "landcolor": "#E5ECF6",
           "showlakes": true,
           "showland": true,
           "subunitcolor": "white"
          },
          "hoverlabel": {
           "align": "left"
          },
          "hovermode": "closest",
          "mapbox": {
           "style": "light"
          },
          "paper_bgcolor": "white",
          "plot_bgcolor": "#E5ECF6",
          "polar": {
           "angularaxis": {
            "gridcolor": "white",
            "linecolor": "white",
            "ticks": ""
           },
           "bgcolor": "#E5ECF6",
           "radialaxis": {
            "gridcolor": "white",
            "linecolor": "white",
            "ticks": ""
           }
          },
          "scene": {
           "xaxis": {
            "backgroundcolor": "#E5ECF6",
            "gridcolor": "white",
            "gridwidth": 2,
            "linecolor": "white",
            "showbackground": true,
            "ticks": "",
            "zerolinecolor": "white"
           },
           "yaxis": {
            "backgroundcolor": "#E5ECF6",
            "gridcolor": "white",
            "gridwidth": 2,
            "linecolor": "white",
            "showbackground": true,
            "ticks": "",
            "zerolinecolor": "white"
           },
           "zaxis": {
            "backgroundcolor": "#E5ECF6",
            "gridcolor": "white",
            "gridwidth": 2,
            "linecolor": "white",
            "showbackground": true,
            "ticks": "",
            "zerolinecolor": "white"
           }
          },
          "shapedefaults": {
           "line": {
            "color": "#2a3f5f"
           }
          },
          "ternary": {
           "aaxis": {
            "gridcolor": "white",
            "linecolor": "white",
            "ticks": ""
           },
           "baxis": {
            "gridcolor": "white",
            "linecolor": "white",
            "ticks": ""
           },
           "bgcolor": "#E5ECF6",
           "caxis": {
            "gridcolor": "white",
            "linecolor": "white",
            "ticks": ""
           }
          },
          "title": {
           "x": 0.05
          },
          "xaxis": {
           "automargin": true,
           "gridcolor": "white",
           "linecolor": "white",
           "ticks": "",
           "title": {
            "standoff": 15
           },
           "zerolinecolor": "white",
           "zerolinewidth": 2
          },
          "yaxis": {
           "automargin": true,
           "gridcolor": "white",
           "linecolor": "white",
           "ticks": "",
           "title": {
            "standoff": 15
           },
           "zerolinecolor": "white",
           "zerolinewidth": 2
          }
         }
        },
        "title": {
         "text": "Diferença Frente-Gota"
        },
        "xaxis": {
         "anchor": "y",
         "domain": [
          0,
          1
         ],
         "title": {
          "text": "Data de prod"
         }
        },
        "yaxis": {
         "anchor": "x",
         "domain": [
          0,
          1
         ],
         "title": {
          "text": "Diferença Frente-Gota"
         }
        }
       }
      }
     },
     "metadata": {},
     "output_type": "display_data"
    }
   ],
   "source": [
    "import seaborn as sns\n",
    "\n",
    "plt.figure(figsize=(10, 6))\n",
    "\n",
    "sns.boxplot(\n",
    "    y=df_valores_mensais['Temperatura (F°)']\n",
    ")\n",
    "\n",
    "plt.title('Boxplot das Temperaturas')\n",
    "plt.ylabel('Temperatura (F°)')\n",
    "\n",
    "plt.show()\n",
    "px.scatter(data_frame=df_valores_mensais, x=df_valores_mensais['Data de prod'], y=df_valores_mensais['Diferença Frente-Gota'], title='Diferença Frente-Gota')"
   ]
  },
  {
   "cell_type": "markdown",
   "metadata": {},
   "source": [
    "### Dias com Diferença Negativa"
   ]
  },
  {
   "cell_type": "code",
   "execution_count": 69,
   "metadata": {},
   "outputs": [
    {
     "data": {
      "application/vnd.plotly.v1+json": {
       "config": {
        "plotlyServerURL": "https://plot.ly"
       },
       "data": [
        {
         "hovertemplate": "Data de prod=%{x}<br>Diferença Frente-Gota=%{y}<extra></extra>",
         "legendgroup": "",
         "marker": {
          "color": "#636efa",
          "symbol": "circle"
         },
         "mode": "markers",
         "name": "",
         "orientation": "v",
         "showlegend": false,
         "type": "scatter",
         "x": [
          "2024-01-03T00:00:00",
          "2024-01-03T00:00:00",
          "2024-01-04T00:00:00",
          "2024-01-05T00:00:00",
          "2024-01-06T00:00:00",
          "2024-01-07T00:00:00",
          "2024-01-08T00:00:00",
          "2024-01-25T00:00:00",
          "2024-01-26T00:00:00",
          "2024-01-27T00:00:00",
          "2024-01-28T00:00:00",
          "2024-01-28T00:00:00",
          "2024-01-29T00:00:00",
          "2024-01-30T00:00:00",
          "2024-01-31T00:00:00",
          "2024-02-01T00:00:00",
          "2024-02-02T00:00:00",
          "2024-02-03T00:00:00",
          "2024-02-04T00:00:00",
          "2024-02-05T00:00:00",
          "2024-02-14T00:00:00",
          "2024-02-14T00:00:00",
          "2024-02-21T00:00:00",
          "2024-02-21T00:00:00",
          "2024-03-14T00:00:00",
          "2024-03-15T00:00:00",
          "2024-03-16T00:00:00",
          "2024-03-17T00:00:00",
          "2024-03-19T00:00:00",
          "2024-03-20T00:00:00",
          "2024-03-21T00:00:00",
          "2024-04-09T00:00:00",
          "2024-04-10T00:00:00",
          "2024-04-11T00:00:00",
          "2024-04-11T00:00:00",
          "2024-04-19T00:00:00",
          "2024-04-20T00:00:00",
          "2024-04-20T00:00:00",
          "2024-04-21T00:00:00",
          "2024-06-08T00:00:00",
          "2024-06-21T00:00:00"
         ],
         "xaxis": "x",
         "y": [
          -320.8200000000006,
          -328.62000000000035,
          -921.5200000000004,
          -1194.7399999999998,
          -1159.6799999999998,
          -1163.94,
          -342.2399999999998,
          -206.84000000000015,
          -56,
          -48.63999999999987,
          -107.23999999999978,
          -107.23999999999978,
          -128.3800000000001,
          -150.52000000000044,
          -54.220000000000255,
          -69.86000000000013,
          -81.32000000000016,
          -66.92000000000007,
          -69.98000000000002,
          -68.72000000000025,
          -315.98,
          -315.98,
          -213.8800000000001,
          -227.7800000000002,
          -30.860000000000127,
          -26.5,
          -20.340000000000146,
          -22.320000000000164,
          -14.039999999999964,
          -58.320000000000164,
          -271.62000000000035,
          -157.76000000000022,
          -231.5999999999999,
          -232.3800000000001,
          -232.3800000000001,
          -74.94000000000005,
          -68.30000000000018,
          -68.30000000000018,
          -10.66000000000031,
          -104.0600000000004,
          -1141.9399999999996
         ],
         "yaxis": "y"
        }
       ],
       "layout": {
        "legend": {
         "tracegroupgap": 0
        },
        "template": {
         "data": {
          "bar": [
           {
            "error_x": {
             "color": "#2a3f5f"
            },
            "error_y": {
             "color": "#2a3f5f"
            },
            "marker": {
             "line": {
              "color": "#E5ECF6",
              "width": 0.5
             },
             "pattern": {
              "fillmode": "overlay",
              "size": 10,
              "solidity": 0.2
             }
            },
            "type": "bar"
           }
          ],
          "barpolar": [
           {
            "marker": {
             "line": {
              "color": "#E5ECF6",
              "width": 0.5
             },
             "pattern": {
              "fillmode": "overlay",
              "size": 10,
              "solidity": 0.2
             }
            },
            "type": "barpolar"
           }
          ],
          "carpet": [
           {
            "aaxis": {
             "endlinecolor": "#2a3f5f",
             "gridcolor": "white",
             "linecolor": "white",
             "minorgridcolor": "white",
             "startlinecolor": "#2a3f5f"
            },
            "baxis": {
             "endlinecolor": "#2a3f5f",
             "gridcolor": "white",
             "linecolor": "white",
             "minorgridcolor": "white",
             "startlinecolor": "#2a3f5f"
            },
            "type": "carpet"
           }
          ],
          "choropleth": [
           {
            "colorbar": {
             "outlinewidth": 0,
             "ticks": ""
            },
            "type": "choropleth"
           }
          ],
          "contour": [
           {
            "colorbar": {
             "outlinewidth": 0,
             "ticks": ""
            },
            "colorscale": [
             [
              0,
              "#0d0887"
             ],
             [
              0.1111111111111111,
              "#46039f"
             ],
             [
              0.2222222222222222,
              "#7201a8"
             ],
             [
              0.3333333333333333,
              "#9c179e"
             ],
             [
              0.4444444444444444,
              "#bd3786"
             ],
             [
              0.5555555555555556,
              "#d8576b"
             ],
             [
              0.6666666666666666,
              "#ed7953"
             ],
             [
              0.7777777777777778,
              "#fb9f3a"
             ],
             [
              0.8888888888888888,
              "#fdca26"
             ],
             [
              1,
              "#f0f921"
             ]
            ],
            "type": "contour"
           }
          ],
          "contourcarpet": [
           {
            "colorbar": {
             "outlinewidth": 0,
             "ticks": ""
            },
            "type": "contourcarpet"
           }
          ],
          "heatmap": [
           {
            "colorbar": {
             "outlinewidth": 0,
             "ticks": ""
            },
            "colorscale": [
             [
              0,
              "#0d0887"
             ],
             [
              0.1111111111111111,
              "#46039f"
             ],
             [
              0.2222222222222222,
              "#7201a8"
             ],
             [
              0.3333333333333333,
              "#9c179e"
             ],
             [
              0.4444444444444444,
              "#bd3786"
             ],
             [
              0.5555555555555556,
              "#d8576b"
             ],
             [
              0.6666666666666666,
              "#ed7953"
             ],
             [
              0.7777777777777778,
              "#fb9f3a"
             ],
             [
              0.8888888888888888,
              "#fdca26"
             ],
             [
              1,
              "#f0f921"
             ]
            ],
            "type": "heatmap"
           }
          ],
          "heatmapgl": [
           {
            "colorbar": {
             "outlinewidth": 0,
             "ticks": ""
            },
            "colorscale": [
             [
              0,
              "#0d0887"
             ],
             [
              0.1111111111111111,
              "#46039f"
             ],
             [
              0.2222222222222222,
              "#7201a8"
             ],
             [
              0.3333333333333333,
              "#9c179e"
             ],
             [
              0.4444444444444444,
              "#bd3786"
             ],
             [
              0.5555555555555556,
              "#d8576b"
             ],
             [
              0.6666666666666666,
              "#ed7953"
             ],
             [
              0.7777777777777778,
              "#fb9f3a"
             ],
             [
              0.8888888888888888,
              "#fdca26"
             ],
             [
              1,
              "#f0f921"
             ]
            ],
            "type": "heatmapgl"
           }
          ],
          "histogram": [
           {
            "marker": {
             "pattern": {
              "fillmode": "overlay",
              "size": 10,
              "solidity": 0.2
             }
            },
            "type": "histogram"
           }
          ],
          "histogram2d": [
           {
            "colorbar": {
             "outlinewidth": 0,
             "ticks": ""
            },
            "colorscale": [
             [
              0,
              "#0d0887"
             ],
             [
              0.1111111111111111,
              "#46039f"
             ],
             [
              0.2222222222222222,
              "#7201a8"
             ],
             [
              0.3333333333333333,
              "#9c179e"
             ],
             [
              0.4444444444444444,
              "#bd3786"
             ],
             [
              0.5555555555555556,
              "#d8576b"
             ],
             [
              0.6666666666666666,
              "#ed7953"
             ],
             [
              0.7777777777777778,
              "#fb9f3a"
             ],
             [
              0.8888888888888888,
              "#fdca26"
             ],
             [
              1,
              "#f0f921"
             ]
            ],
            "type": "histogram2d"
           }
          ],
          "histogram2dcontour": [
           {
            "colorbar": {
             "outlinewidth": 0,
             "ticks": ""
            },
            "colorscale": [
             [
              0,
              "#0d0887"
             ],
             [
              0.1111111111111111,
              "#46039f"
             ],
             [
              0.2222222222222222,
              "#7201a8"
             ],
             [
              0.3333333333333333,
              "#9c179e"
             ],
             [
              0.4444444444444444,
              "#bd3786"
             ],
             [
              0.5555555555555556,
              "#d8576b"
             ],
             [
              0.6666666666666666,
              "#ed7953"
             ],
             [
              0.7777777777777778,
              "#fb9f3a"
             ],
             [
              0.8888888888888888,
              "#fdca26"
             ],
             [
              1,
              "#f0f921"
             ]
            ],
            "type": "histogram2dcontour"
           }
          ],
          "mesh3d": [
           {
            "colorbar": {
             "outlinewidth": 0,
             "ticks": ""
            },
            "type": "mesh3d"
           }
          ],
          "parcoords": [
           {
            "line": {
             "colorbar": {
              "outlinewidth": 0,
              "ticks": ""
             }
            },
            "type": "parcoords"
           }
          ],
          "pie": [
           {
            "automargin": true,
            "type": "pie"
           }
          ],
          "scatter": [
           {
            "fillpattern": {
             "fillmode": "overlay",
             "size": 10,
             "solidity": 0.2
            },
            "type": "scatter"
           }
          ],
          "scatter3d": [
           {
            "line": {
             "colorbar": {
              "outlinewidth": 0,
              "ticks": ""
             }
            },
            "marker": {
             "colorbar": {
              "outlinewidth": 0,
              "ticks": ""
             }
            },
            "type": "scatter3d"
           }
          ],
          "scattercarpet": [
           {
            "marker": {
             "colorbar": {
              "outlinewidth": 0,
              "ticks": ""
             }
            },
            "type": "scattercarpet"
           }
          ],
          "scattergeo": [
           {
            "marker": {
             "colorbar": {
              "outlinewidth": 0,
              "ticks": ""
             }
            },
            "type": "scattergeo"
           }
          ],
          "scattergl": [
           {
            "marker": {
             "colorbar": {
              "outlinewidth": 0,
              "ticks": ""
             }
            },
            "type": "scattergl"
           }
          ],
          "scattermapbox": [
           {
            "marker": {
             "colorbar": {
              "outlinewidth": 0,
              "ticks": ""
             }
            },
            "type": "scattermapbox"
           }
          ],
          "scatterpolar": [
           {
            "marker": {
             "colorbar": {
              "outlinewidth": 0,
              "ticks": ""
             }
            },
            "type": "scatterpolar"
           }
          ],
          "scatterpolargl": [
           {
            "marker": {
             "colorbar": {
              "outlinewidth": 0,
              "ticks": ""
             }
            },
            "type": "scatterpolargl"
           }
          ],
          "scatterternary": [
           {
            "marker": {
             "colorbar": {
              "outlinewidth": 0,
              "ticks": ""
             }
            },
            "type": "scatterternary"
           }
          ],
          "surface": [
           {
            "colorbar": {
             "outlinewidth": 0,
             "ticks": ""
            },
            "colorscale": [
             [
              0,
              "#0d0887"
             ],
             [
              0.1111111111111111,
              "#46039f"
             ],
             [
              0.2222222222222222,
              "#7201a8"
             ],
             [
              0.3333333333333333,
              "#9c179e"
             ],
             [
              0.4444444444444444,
              "#bd3786"
             ],
             [
              0.5555555555555556,
              "#d8576b"
             ],
             [
              0.6666666666666666,
              "#ed7953"
             ],
             [
              0.7777777777777778,
              "#fb9f3a"
             ],
             [
              0.8888888888888888,
              "#fdca26"
             ],
             [
              1,
              "#f0f921"
             ]
            ],
            "type": "surface"
           }
          ],
          "table": [
           {
            "cells": {
             "fill": {
              "color": "#EBF0F8"
             },
             "line": {
              "color": "white"
             }
            },
            "header": {
             "fill": {
              "color": "#C8D4E3"
             },
             "line": {
              "color": "white"
             }
            },
            "type": "table"
           }
          ]
         },
         "layout": {
          "annotationdefaults": {
           "arrowcolor": "#2a3f5f",
           "arrowhead": 0,
           "arrowwidth": 1
          },
          "autotypenumbers": "strict",
          "coloraxis": {
           "colorbar": {
            "outlinewidth": 0,
            "ticks": ""
           }
          },
          "colorscale": {
           "diverging": [
            [
             0,
             "#8e0152"
            ],
            [
             0.1,
             "#c51b7d"
            ],
            [
             0.2,
             "#de77ae"
            ],
            [
             0.3,
             "#f1b6da"
            ],
            [
             0.4,
             "#fde0ef"
            ],
            [
             0.5,
             "#f7f7f7"
            ],
            [
             0.6,
             "#e6f5d0"
            ],
            [
             0.7,
             "#b8e186"
            ],
            [
             0.8,
             "#7fbc41"
            ],
            [
             0.9,
             "#4d9221"
            ],
            [
             1,
             "#276419"
            ]
           ],
           "sequential": [
            [
             0,
             "#0d0887"
            ],
            [
             0.1111111111111111,
             "#46039f"
            ],
            [
             0.2222222222222222,
             "#7201a8"
            ],
            [
             0.3333333333333333,
             "#9c179e"
            ],
            [
             0.4444444444444444,
             "#bd3786"
            ],
            [
             0.5555555555555556,
             "#d8576b"
            ],
            [
             0.6666666666666666,
             "#ed7953"
            ],
            [
             0.7777777777777778,
             "#fb9f3a"
            ],
            [
             0.8888888888888888,
             "#fdca26"
            ],
            [
             1,
             "#f0f921"
            ]
           ],
           "sequentialminus": [
            [
             0,
             "#0d0887"
            ],
            [
             0.1111111111111111,
             "#46039f"
            ],
            [
             0.2222222222222222,
             "#7201a8"
            ],
            [
             0.3333333333333333,
             "#9c179e"
            ],
            [
             0.4444444444444444,
             "#bd3786"
            ],
            [
             0.5555555555555556,
             "#d8576b"
            ],
            [
             0.6666666666666666,
             "#ed7953"
            ],
            [
             0.7777777777777778,
             "#fb9f3a"
            ],
            [
             0.8888888888888888,
             "#fdca26"
            ],
            [
             1,
             "#f0f921"
            ]
           ]
          },
          "colorway": [
           "#636efa",
           "#EF553B",
           "#00cc96",
           "#ab63fa",
           "#FFA15A",
           "#19d3f3",
           "#FF6692",
           "#B6E880",
           "#FF97FF",
           "#FECB52"
          ],
          "font": {
           "color": "#2a3f5f"
          },
          "geo": {
           "bgcolor": "white",
           "lakecolor": "white",
           "landcolor": "#E5ECF6",
           "showlakes": true,
           "showland": true,
           "subunitcolor": "white"
          },
          "hoverlabel": {
           "align": "left"
          },
          "hovermode": "closest",
          "mapbox": {
           "style": "light"
          },
          "paper_bgcolor": "white",
          "plot_bgcolor": "#E5ECF6",
          "polar": {
           "angularaxis": {
            "gridcolor": "white",
            "linecolor": "white",
            "ticks": ""
           },
           "bgcolor": "#E5ECF6",
           "radialaxis": {
            "gridcolor": "white",
            "linecolor": "white",
            "ticks": ""
           }
          },
          "scene": {
           "xaxis": {
            "backgroundcolor": "#E5ECF6",
            "gridcolor": "white",
            "gridwidth": 2,
            "linecolor": "white",
            "showbackground": true,
            "ticks": "",
            "zerolinecolor": "white"
           },
           "yaxis": {
            "backgroundcolor": "#E5ECF6",
            "gridcolor": "white",
            "gridwidth": 2,
            "linecolor": "white",
            "showbackground": true,
            "ticks": "",
            "zerolinecolor": "white"
           },
           "zaxis": {
            "backgroundcolor": "#E5ECF6",
            "gridcolor": "white",
            "gridwidth": 2,
            "linecolor": "white",
            "showbackground": true,
            "ticks": "",
            "zerolinecolor": "white"
           }
          },
          "shapedefaults": {
           "line": {
            "color": "#2a3f5f"
           }
          },
          "ternary": {
           "aaxis": {
            "gridcolor": "white",
            "linecolor": "white",
            "ticks": ""
           },
           "baxis": {
            "gridcolor": "white",
            "linecolor": "white",
            "ticks": ""
           },
           "bgcolor": "#E5ECF6",
           "caxis": {
            "gridcolor": "white",
            "linecolor": "white",
            "ticks": ""
           }
          },
          "title": {
           "x": 0.05
          },
          "xaxis": {
           "automargin": true,
           "gridcolor": "white",
           "linecolor": "white",
           "ticks": "",
           "title": {
            "standoff": 15
           },
           "zerolinecolor": "white",
           "zerolinewidth": 2
          },
          "yaxis": {
           "automargin": true,
           "gridcolor": "white",
           "linecolor": "white",
           "ticks": "",
           "title": {
            "standoff": 15
           },
           "zerolinecolor": "white",
           "zerolinewidth": 2
          }
         }
        },
        "title": {
         "text": "Datas com Diferença Frente-Gota Negativa"
        },
        "xaxis": {
         "anchor": "y",
         "domain": [
          0,
          1
         ],
         "title": {
          "text": "Data de prod"
         }
        },
        "yaxis": {
         "anchor": "x",
         "domain": [
          0,
          1
         ],
         "title": {
          "text": "Diferença Frente-Gota"
         }
        }
       }
      }
     },
     "metadata": {},
     "output_type": "display_data"
    }
   ],
   "source": [
    "dias_diferenca_negativa = df_valores_mensais.loc[df_valores_mensais['Diferença Frente-Gota'] < 0, ['Data de prod', 'Ordem de prod', 'Frente-PV (F°)', 'Temperatura (F°)', 'Diferença Frente-Gota']]\n",
    "\n",
    "px.scatter(data_frame=dias_diferenca_negativa, x=dias_diferenca_negativa['Data de prod'], y=dias_diferenca_negativa['Diferença Frente-Gota'], title='Datas com Diferença Frente-Gota Negativa')"
   ]
  },
  {
   "cell_type": "markdown",
   "metadata": {},
   "source": [
    "### Os outliers"
   ]
  },
  {
   "cell_type": "code",
   "execution_count": 70,
   "metadata": {},
   "outputs": [
    {
     "data": {
      "text/html": [
       "<div>\n",
       "<style scoped>\n",
       "    .dataframe tbody tr th:only-of-type {\n",
       "        vertical-align: middle;\n",
       "    }\n",
       "\n",
       "    .dataframe tbody tr th {\n",
       "        vertical-align: top;\n",
       "    }\n",
       "\n",
       "    .dataframe thead th {\n",
       "        text-align: right;\n",
       "    }\n",
       "</style>\n",
       "<table border=\"1\" class=\"dataframe\">\n",
       "  <thead>\n",
       "    <tr style=\"text-align: right;\">\n",
       "      <th></th>\n",
       "      <th>Ordem de prod</th>\n",
       "      <th>Data de prod</th>\n",
       "      <th>Temperatura (F°)</th>\n",
       "      <th>Frente-PV (F°)</th>\n",
       "      <th>Diferença Frente-Gota</th>\n",
       "      <th>Gotas cortadas (toneladas)</th>\n",
       "      <th>Peso médio (Kg)</th>\n",
       "      <th>Cortes por minuto</th>\n",
       "      <th>Comprimento médio (mm)</th>\n",
       "      <th>Diâmetro</th>\n",
       "    </tr>\n",
       "  </thead>\n",
       "  <tbody>\n",
       "    <tr>\n",
       "      <th>4</th>\n",
       "      <td>192970</td>\n",
       "      <td>2024-01-04</td>\n",
       "      <td>3094.52</td>\n",
       "      <td>2173.0</td>\n",
       "      <td>-921.52</td>\n",
       "      <td>21.0216</td>\n",
       "      <td>169.7</td>\n",
       "      <td>89.0</td>\n",
       "      <td>85.6</td>\n",
       "      <td>18.1</td>\n",
       "    </tr>\n",
       "    <tr>\n",
       "      <th>5</th>\n",
       "      <td>192970</td>\n",
       "      <td>2024-01-05</td>\n",
       "      <td>3369.74</td>\n",
       "      <td>2175.0</td>\n",
       "      <td>-1194.74</td>\n",
       "      <td>21.4492</td>\n",
       "      <td>173.6</td>\n",
       "      <td>86.0</td>\n",
       "      <td>140.5</td>\n",
       "      <td>32.9</td>\n",
       "    </tr>\n",
       "    <tr>\n",
       "      <th>6</th>\n",
       "      <td>192970</td>\n",
       "      <td>2024-01-06</td>\n",
       "      <td>3335.18</td>\n",
       "      <td>2175.5</td>\n",
       "      <td>-1159.68</td>\n",
       "      <td>21.5256</td>\n",
       "      <td>170.2</td>\n",
       "      <td>86.0</td>\n",
       "      <td>144.7</td>\n",
       "      <td>32.7</td>\n",
       "    </tr>\n",
       "    <tr>\n",
       "      <th>7</th>\n",
       "      <td>192970</td>\n",
       "      <td>2024-01-07</td>\n",
       "      <td>3340.94</td>\n",
       "      <td>2177.0</td>\n",
       "      <td>-1163.94</td>\n",
       "      <td>21.4387</td>\n",
       "      <td>171.7</td>\n",
       "      <td>86.7</td>\n",
       "      <td>141.5</td>\n",
       "      <td>30.2</td>\n",
       "    </tr>\n",
       "    <tr>\n",
       "      <th>190</th>\n",
       "      <td>194057</td>\n",
       "      <td>2024-06-21</td>\n",
       "      <td>3257.24</td>\n",
       "      <td>2115.3</td>\n",
       "      <td>-1141.94</td>\n",
       "      <td>22.1942</td>\n",
       "      <td>168.5</td>\n",
       "      <td>87.4</td>\n",
       "      <td>29.3</td>\n",
       "      <td>15.9</td>\n",
       "    </tr>\n",
       "  </tbody>\n",
       "</table>\n",
       "</div>"
      ],
      "text/plain": [
       "    Ordem de prod Data de prod  Temperatura (F°)  Frente-PV (F°)  \\\n",
       "4          192970   2024-01-04           3094.52          2173.0   \n",
       "5          192970   2024-01-05           3369.74          2175.0   \n",
       "6          192970   2024-01-06           3335.18          2175.5   \n",
       "7          192970   2024-01-07           3340.94          2177.0   \n",
       "190        194057   2024-06-21           3257.24          2115.3   \n",
       "\n",
       "     Diferença Frente-Gota  Gotas cortadas (toneladas)  Peso médio (Kg)  \\\n",
       "4                  -921.52                     21.0216            169.7   \n",
       "5                 -1194.74                     21.4492            173.6   \n",
       "6                 -1159.68                     21.5256            170.2   \n",
       "7                 -1163.94                     21.4387            171.7   \n",
       "190               -1141.94                     22.1942            168.5   \n",
       "\n",
       "     Cortes por minuto  Comprimento médio (mm)  Diâmetro  \n",
       "4                 89.0                    85.6      18.1  \n",
       "5                 86.0                   140.5      32.9  \n",
       "6                 86.0                   144.7      32.7  \n",
       "7                 86.7                   141.5      30.2  \n",
       "190               87.4                    29.3      15.9  "
      ]
     },
     "execution_count": 70,
     "metadata": {},
     "output_type": "execute_result"
    }
   ],
   "source": [
    "colunas_gota = ['Ordem de prod', 'Data de prod', 'Temperatura (F°)', 'Frente-PV (F°)', 'Diferença Frente-Gota', 'Gotas cortadas (toneladas)', 'Peso médio (Kg)', 'Cortes por minuto', 'Comprimento médio (mm)', 'Diâmetro']\n",
    "\n",
    "df_valores_mensais.loc[df_valores_mensais['Diferença Frente-Gota'] <= -800, colunas_gota]\n"
   ]
  },
  {
   "cell_type": "markdown",
   "metadata": {},
   "source": [
    "Ordem 192970"
   ]
  },
  {
   "cell_type": "code",
   "execution_count": 71,
   "metadata": {},
   "outputs": [
    {
     "data": {
      "text/html": [
       "<div>\n",
       "<style scoped>\n",
       "    .dataframe tbody tr th:only-of-type {\n",
       "        vertical-align: middle;\n",
       "    }\n",
       "\n",
       "    .dataframe tbody tr th {\n",
       "        vertical-align: top;\n",
       "    }\n",
       "\n",
       "    .dataframe thead th {\n",
       "        text-align: right;\n",
       "    }\n",
       "</style>\n",
       "<table border=\"1\" class=\"dataframe\">\n",
       "  <thead>\n",
       "    <tr style=\"text-align: right;\">\n",
       "      <th></th>\n",
       "      <th>Ordem de prod</th>\n",
       "      <th>Data de prod</th>\n",
       "      <th>Temperatura (F°)</th>\n",
       "      <th>Frente-PV (F°)</th>\n",
       "      <th>Diferença Frente-Gota</th>\n",
       "      <th>Gotas cortadas (toneladas)</th>\n",
       "      <th>Peso médio (Kg)</th>\n",
       "      <th>Cortes por minuto</th>\n",
       "      <th>Comprimento médio (mm)</th>\n",
       "      <th>Diâmetro</th>\n",
       "    </tr>\n",
       "  </thead>\n",
       "  <tbody>\n",
       "    <tr>\n",
       "      <th>3</th>\n",
       "      <td>192970</td>\n",
       "      <td>2024-01-03</td>\n",
       "      <td>2505.02</td>\n",
       "      <td>2176.4</td>\n",
       "      <td>-328.62</td>\n",
       "      <td>20.9484</td>\n",
       "      <td>169.3</td>\n",
       "      <td>90.0</td>\n",
       "      <td>110.4</td>\n",
       "      <td>32.5</td>\n",
       "    </tr>\n",
       "    <tr>\n",
       "      <th>4</th>\n",
       "      <td>192970</td>\n",
       "      <td>2024-01-04</td>\n",
       "      <td>3094.52</td>\n",
       "      <td>2173.0</td>\n",
       "      <td>-921.52</td>\n",
       "      <td>21.0216</td>\n",
       "      <td>169.7</td>\n",
       "      <td>89.0</td>\n",
       "      <td>85.6</td>\n",
       "      <td>18.1</td>\n",
       "    </tr>\n",
       "    <tr>\n",
       "      <th>5</th>\n",
       "      <td>192970</td>\n",
       "      <td>2024-01-05</td>\n",
       "      <td>3369.74</td>\n",
       "      <td>2175.0</td>\n",
       "      <td>-1194.74</td>\n",
       "      <td>21.4492</td>\n",
       "      <td>173.6</td>\n",
       "      <td>86.0</td>\n",
       "      <td>140.5</td>\n",
       "      <td>32.9</td>\n",
       "    </tr>\n",
       "    <tr>\n",
       "      <th>6</th>\n",
       "      <td>192970</td>\n",
       "      <td>2024-01-06</td>\n",
       "      <td>3335.18</td>\n",
       "      <td>2175.5</td>\n",
       "      <td>-1159.68</td>\n",
       "      <td>21.5256</td>\n",
       "      <td>170.2</td>\n",
       "      <td>86.0</td>\n",
       "      <td>144.7</td>\n",
       "      <td>32.7</td>\n",
       "    </tr>\n",
       "    <tr>\n",
       "      <th>7</th>\n",
       "      <td>192970</td>\n",
       "      <td>2024-01-07</td>\n",
       "      <td>3340.94</td>\n",
       "      <td>2177.0</td>\n",
       "      <td>-1163.94</td>\n",
       "      <td>21.4387</td>\n",
       "      <td>171.7</td>\n",
       "      <td>86.7</td>\n",
       "      <td>141.5</td>\n",
       "      <td>30.2</td>\n",
       "    </tr>\n",
       "    <tr>\n",
       "      <th>8</th>\n",
       "      <td>192970</td>\n",
       "      <td>2024-01-08</td>\n",
       "      <td>2519.24</td>\n",
       "      <td>2177.0</td>\n",
       "      <td>-342.24</td>\n",
       "      <td>21.5064</td>\n",
       "      <td>166.5</td>\n",
       "      <td>87.8</td>\n",
       "      <td>140.6</td>\n",
       "      <td>32.5</td>\n",
       "    </tr>\n",
       "    <tr>\n",
       "      <th>9</th>\n",
       "      <td>192970</td>\n",
       "      <td>2024-01-09</td>\n",
       "      <td>1901.48</td>\n",
       "      <td>2177.0</td>\n",
       "      <td>275.52</td>\n",
       "      <td>21.5235</td>\n",
       "      <td>169.6</td>\n",
       "      <td>88.0</td>\n",
       "      <td>128.4</td>\n",
       "      <td>32.9</td>\n",
       "    </tr>\n",
       "    <tr>\n",
       "      <th>10</th>\n",
       "      <td>192970</td>\n",
       "      <td>2024-01-10</td>\n",
       "      <td>1921.64</td>\n",
       "      <td>2177.0</td>\n",
       "      <td>255.36</td>\n",
       "      <td>21.4267</td>\n",
       "      <td>169.4</td>\n",
       "      <td>88.0</td>\n",
       "      <td>127.0</td>\n",
       "      <td>33.0</td>\n",
       "    </tr>\n",
       "    <tr>\n",
       "      <th>12</th>\n",
       "      <td>192970</td>\n",
       "      <td>2024-01-11</td>\n",
       "      <td>1975.28</td>\n",
       "      <td>2177.0</td>\n",
       "      <td>201.72</td>\n",
       "      <td>7.9468</td>\n",
       "      <td>169.2</td>\n",
       "      <td>84.5</td>\n",
       "      <td>110.9</td>\n",
       "      <td>33.9</td>\n",
       "    </tr>\n",
       "  </tbody>\n",
       "</table>\n",
       "</div>"
      ],
      "text/plain": [
       "   Ordem de prod Data de prod  Temperatura (F°)  Frente-PV (F°)  \\\n",
       "3         192970   2024-01-03           2505.02          2176.4   \n",
       "4         192970   2024-01-04           3094.52          2173.0   \n",
       "5         192970   2024-01-05           3369.74          2175.0   \n",
       "6         192970   2024-01-06           3335.18          2175.5   \n",
       "7         192970   2024-01-07           3340.94          2177.0   \n",
       "8         192970   2024-01-08           2519.24          2177.0   \n",
       "9         192970   2024-01-09           1901.48          2177.0   \n",
       "10        192970   2024-01-10           1921.64          2177.0   \n",
       "12        192970   2024-01-11           1975.28          2177.0   \n",
       "\n",
       "    Diferença Frente-Gota  Gotas cortadas (toneladas)  Peso médio (Kg)  \\\n",
       "3                 -328.62                     20.9484            169.3   \n",
       "4                 -921.52                     21.0216            169.7   \n",
       "5                -1194.74                     21.4492            173.6   \n",
       "6                -1159.68                     21.5256            170.2   \n",
       "7                -1163.94                     21.4387            171.7   \n",
       "8                 -342.24                     21.5064            166.5   \n",
       "9                  275.52                     21.5235            169.6   \n",
       "10                 255.36                     21.4267            169.4   \n",
       "12                 201.72                      7.9468            169.2   \n",
       "\n",
       "    Cortes por minuto  Comprimento médio (mm)  Diâmetro  \n",
       "3                90.0                   110.4      32.5  \n",
       "4                89.0                    85.6      18.1  \n",
       "5                86.0                   140.5      32.9  \n",
       "6                86.0                   144.7      32.7  \n",
       "7                86.7                   141.5      30.2  \n",
       "8                87.8                   140.6      32.5  \n",
       "9                88.0                   128.4      32.9  \n",
       "10               88.0                   127.0      33.0  \n",
       "12               84.5                   110.9      33.9  "
      ]
     },
     "execution_count": 71,
     "metadata": {},
     "output_type": "execute_result"
    }
   ],
   "source": [
    "df_valores_mensais.loc[df_valores_mensais['Ordem de prod'] == '192970', colunas_gota]"
   ]
  },
  {
   "cell_type": "markdown",
   "metadata": {},
   "source": [
    "# Trabalhando com database de qualidade"
   ]
  },
  {
   "cell_type": "code",
   "execution_count": 118,
   "metadata": {},
   "outputs": [
    {
     "data": {
      "text/html": [
       "<div>\n",
       "<style scoped>\n",
       "    .dataframe tbody tr th:only-of-type {\n",
       "        vertical-align: middle;\n",
       "    }\n",
       "\n",
       "    .dataframe tbody tr th {\n",
       "        vertical-align: top;\n",
       "    }\n",
       "\n",
       "    .dataframe thead th {\n",
       "        text-align: right;\n",
       "    }\n",
       "</style>\n",
       "<table border=\"1\" class=\"dataframe\">\n",
       "  <thead>\n",
       "    <tr style=\"text-align: right;\">\n",
       "      <th></th>\n",
       "      <th></th>\n",
       "      <th></th>\n",
       "      <th>Empac.-reescol.</th>\n",
       "      <th>Empacotado</th>\n",
       "      <th>Entra. do recozi.</th>\n",
       "      <th>Entrada AF</th>\n",
       "      <th>Frascos aprovados</th>\n",
       "      <th>Frascos produzidos</th>\n",
       "      <th>Frascos reprovados</th>\n",
       "      <th>Gotas cortadas</th>\n",
       "      <th>Paletes aprovados</th>\n",
       "      <th>Paletes reprovados</th>\n",
       "      <th>...</th>\n",
       "      <th>Recozi.</th>\n",
       "      <th>Reescolhido</th>\n",
       "      <th>Rej. Argos</th>\n",
       "      <th>Rej. aut.</th>\n",
       "      <th>Rej. Emhart</th>\n",
       "      <th>Rej. EVO NEO</th>\n",
       "      <th>Tot. rej. esc. aut.</th>\n",
       "      <th>Total parada seção</th>\n",
       "      <th>Total Rej. AF</th>\n",
       "      <th>Transferência AQ</th>\n",
       "    </tr>\n",
       "  </thead>\n",
       "  <tbody>\n",
       "    <tr>\n",
       "      <th rowspan=\"40\" valign=\"top\">B1</th>\n",
       "      <th rowspan=\"9\" valign=\"top\">192970</th>\n",
       "      <th>2024-01-03</th>\n",
       "      <td>1.6948</td>\n",
       "      <td>1.6948</td>\n",
       "      <td>12.2051</td>\n",
       "      <td>8.5257</td>\n",
       "      <td>1.0671</td>\n",
       "      <td>1.6948</td>\n",
       "      <td>0.3564</td>\n",
       "      <td>20.9484</td>\n",
       "      <td>0.0005</td>\n",
       "      <td>0.0002</td>\n",
       "      <td>...</td>\n",
       "      <td>111.5911</td>\n",
       "      <td>0</td>\n",
       "      <td>1.6118</td>\n",
       "      <td>0</td>\n",
       "      <td>0</td>\n",
       "      <td>3.1621</td>\n",
       "      <td>4.7740</td>\n",
       "      <td>0</td>\n",
       "      <td>6.8309</td>\n",
       "      <td>8.7433</td>\n",
       "    </tr>\n",
       "    <tr>\n",
       "      <th>2024-01-04</th>\n",
       "      <td>6.9028</td>\n",
       "      <td>6.9028</td>\n",
       "      <td>16.1446</td>\n",
       "      <td>13.9903</td>\n",
       "      <td>6.7325</td>\n",
       "      <td>6.9028</td>\n",
       "      <td>0.0000</td>\n",
       "      <td>21.0216</td>\n",
       "      <td>0.0032</td>\n",
       "      <td>0.0000</td>\n",
       "      <td>...</td>\n",
       "      <td>109.9592</td>\n",
       "      <td>0</td>\n",
       "      <td>1.0592</td>\n",
       "      <td>0</td>\n",
       "      <td>0</td>\n",
       "      <td>3.0289</td>\n",
       "      <td>4.0881</td>\n",
       "      <td>0</td>\n",
       "      <td>7.0875</td>\n",
       "      <td>4.8770</td>\n",
       "    </tr>\n",
       "    <tr>\n",
       "      <th>2024-01-05</th>\n",
       "      <td>6.2779</td>\n",
       "      <td>6.2779</td>\n",
       "      <td>16.8795</td>\n",
       "      <td>12.3638</td>\n",
       "      <td>6.4151</td>\n",
       "      <td>6.2779</td>\n",
       "      <td>0.0000</td>\n",
       "      <td>21.4492</td>\n",
       "      <td>0.0030</td>\n",
       "      <td>0.0000</td>\n",
       "      <td>...</td>\n",
       "      <td>109.9308</td>\n",
       "      <td>0</td>\n",
       "      <td>1.0322</td>\n",
       "      <td>0</td>\n",
       "      <td>0</td>\n",
       "      <td>3.0409</td>\n",
       "      <td>4.0730</td>\n",
       "      <td>0</td>\n",
       "      <td>6.0859</td>\n",
       "      <td>4.5696</td>\n",
       "    </tr>\n",
       "    <tr>\n",
       "      <th>2024-01-06</th>\n",
       "      <td>7.9480</td>\n",
       "      <td>7.9480</td>\n",
       "      <td>17.3240</td>\n",
       "      <td>15.2663</td>\n",
       "      <td>7.8450</td>\n",
       "      <td>7.9480</td>\n",
       "      <td>0.0000</td>\n",
       "      <td>21.5256</td>\n",
       "      <td>0.0037</td>\n",
       "      <td>0.0000</td>\n",
       "      <td>...</td>\n",
       "      <td>110.3116</td>\n",
       "      <td>0</td>\n",
       "      <td>2.0806</td>\n",
       "      <td>0</td>\n",
       "      <td>0</td>\n",
       "      <td>4.0214</td>\n",
       "      <td>6.1020</td>\n",
       "      <td>0</td>\n",
       "      <td>7.3183</td>\n",
       "      <td>4.2016</td>\n",
       "    </tr>\n",
       "    <tr>\n",
       "      <th>2024-01-07</th>\n",
       "      <td>4.5498</td>\n",
       "      <td>4.5498</td>\n",
       "      <td>14.5250</td>\n",
       "      <td>10.3543</td>\n",
       "      <td>4.2588</td>\n",
       "      <td>4.5498</td>\n",
       "      <td>0.3549</td>\n",
       "      <td>21.4387</td>\n",
       "      <td>0.0020</td>\n",
       "      <td>0.0002</td>\n",
       "      <td>...</td>\n",
       "      <td>109.7947</td>\n",
       "      <td>0</td>\n",
       "      <td>0.7333</td>\n",
       "      <td>0</td>\n",
       "      <td>0</td>\n",
       "      <td>1.8965</td>\n",
       "      <td>2.6298</td>\n",
       "      <td>0</td>\n",
       "      <td>5.8045</td>\n",
       "      <td>6.9136</td>\n",
       "    </tr>\n",
       "    <tr>\n",
       "      <th>2024-01-08</th>\n",
       "      <td>11.7513</td>\n",
       "      <td>11.7513</td>\n",
       "      <td>19.5315</td>\n",
       "      <td>17.9165</td>\n",
       "      <td>10.6915</td>\n",
       "      <td>11.7513</td>\n",
       "      <td>0.7098</td>\n",
       "      <td>21.5064</td>\n",
       "      <td>0.0051</td>\n",
       "      <td>0.0003</td>\n",
       "      <td>...</td>\n",
       "      <td>101.5342</td>\n",
       "      <td>0</td>\n",
       "      <td>1.3445</td>\n",
       "      <td>0</td>\n",
       "      <td>0</td>\n",
       "      <td>2.2614</td>\n",
       "      <td>3.6059</td>\n",
       "      <td>0</td>\n",
       "      <td>6.1652</td>\n",
       "      <td>1.9749</td>\n",
       "    </tr>\n",
       "    <tr>\n",
       "      <th>2024-01-09</th>\n",
       "      <td>11.7991</td>\n",
       "      <td>11.7991</td>\n",
       "      <td>18.4374</td>\n",
       "      <td>15.7430</td>\n",
       "      <td>11.3895</td>\n",
       "      <td>11.7991</td>\n",
       "      <td>0.3564</td>\n",
       "      <td>21.5235</td>\n",
       "      <td>0.0054</td>\n",
       "      <td>0.0002</td>\n",
       "      <td>...</td>\n",
       "      <td>98.7199</td>\n",
       "      <td>0</td>\n",
       "      <td>0.9198</td>\n",
       "      <td>0</td>\n",
       "      <td>0</td>\n",
       "      <td>1.4145</td>\n",
       "      <td>2.3343</td>\n",
       "      <td>0</td>\n",
       "      <td>3.9439</td>\n",
       "      <td>3.0861</td>\n",
       "    </tr>\n",
       "    <tr>\n",
       "      <th>2024-01-10</th>\n",
       "      <td>11.0273</td>\n",
       "      <td>11.0273</td>\n",
       "      <td>18.1368</td>\n",
       "      <td>15.6171</td>\n",
       "      <td>10.9916</td>\n",
       "      <td>11.0273</td>\n",
       "      <td>0.0000</td>\n",
       "      <td>21.4267</td>\n",
       "      <td>0.0052</td>\n",
       "      <td>0.0000</td>\n",
       "      <td>...</td>\n",
       "      <td>98.2733</td>\n",
       "      <td>0</td>\n",
       "      <td>1.1014</td>\n",
       "      <td>0</td>\n",
       "      <td>0</td>\n",
       "      <td>1.7418</td>\n",
       "      <td>2.8432</td>\n",
       "      <td>0</td>\n",
       "      <td>4.5898</td>\n",
       "      <td>3.2898</td>\n",
       "    </tr>\n",
       "    <tr>\n",
       "      <th>2024-01-11</th>\n",
       "      <td>3.1466</td>\n",
       "      <td>3.1466</td>\n",
       "      <td>6.7617</td>\n",
       "      <td>5.7997</td>\n",
       "      <td>2.1306</td>\n",
       "      <td>3.1466</td>\n",
       "      <td>1.0659</td>\n",
       "      <td>7.9468</td>\n",
       "      <td>0.0010</td>\n",
       "      <td>0.0005</td>\n",
       "      <td>...</td>\n",
       "      <td>36.4425</td>\n",
       "      <td>0</td>\n",
       "      <td>0.5601</td>\n",
       "      <td>0</td>\n",
       "      <td>0</td>\n",
       "      <td>1.1267</td>\n",
       "      <td>1.6868</td>\n",
       "      <td>0</td>\n",
       "      <td>2.6531</td>\n",
       "      <td>1.1851</td>\n",
       "    </tr>\n",
       "    <tr>\n",
       "      <th>Total</th>\n",
       "      <th>2024-01-11</th>\n",
       "      <td>65.0976</td>\n",
       "      <td>65.0976</td>\n",
       "      <td>139.9456</td>\n",
       "      <td>115.5767</td>\n",
       "      <td>61.5217</td>\n",
       "      <td>65.0976</td>\n",
       "      <td>2.8434</td>\n",
       "      <td>178.7869</td>\n",
       "      <td>0.0291</td>\n",
       "      <td>0.0014</td>\n",
       "      <td>...</td>\n",
       "      <td>886.5573</td>\n",
       "      <td>0</td>\n",
       "      <td>10.4429</td>\n",
       "      <td>0</td>\n",
       "      <td>0</td>\n",
       "      <td>21.6942</td>\n",
       "      <td>32.1371</td>\n",
       "      <td>0</td>\n",
       "      <td>50.4791</td>\n",
       "      <td>38.8410</td>\n",
       "    </tr>\n",
       "    <tr>\n",
       "      <th rowspan=\"3\" valign=\"top\">193112</th>\n",
       "      <th>2024-01-01</th>\n",
       "      <td>14.5165</td>\n",
       "      <td>14.5165</td>\n",
       "      <td>20.3353</td>\n",
       "      <td>19.5466</td>\n",
       "      <td>12.9457</td>\n",
       "      <td>14.5165</td>\n",
       "      <td>0.0000</td>\n",
       "      <td>21.8905</td>\n",
       "      <td>0.0034</td>\n",
       "      <td>0.0000</td>\n",
       "      <td>...</td>\n",
       "      <td>111.9245</td>\n",
       "      <td>0</td>\n",
       "      <td>1.4490</td>\n",
       "      <td>0</td>\n",
       "      <td>0</td>\n",
       "      <td>0.7372</td>\n",
       "      <td>2.1862</td>\n",
       "      <td>0</td>\n",
       "      <td>5.0300</td>\n",
       "      <td>1.5552</td>\n",
       "    </tr>\n",
       "    <tr>\n",
       "      <th>2024-01-02</th>\n",
       "      <td>14.8343</td>\n",
       "      <td>14.8343</td>\n",
       "      <td>20.6406</td>\n",
       "      <td>19.7696</td>\n",
       "      <td>14.2299</td>\n",
       "      <td>14.8343</td>\n",
       "      <td>0.0000</td>\n",
       "      <td>21.8574</td>\n",
       "      <td>0.0037</td>\n",
       "      <td>0.0000</td>\n",
       "      <td>...</td>\n",
       "      <td>111.7178</td>\n",
       "      <td>0</td>\n",
       "      <td>1.1143</td>\n",
       "      <td>0</td>\n",
       "      <td>0</td>\n",
       "      <td>0.4727</td>\n",
       "      <td>1.5870</td>\n",
       "      <td>0</td>\n",
       "      <td>4.9353</td>\n",
       "      <td>1.2168</td>\n",
       "    </tr>\n",
       "    <tr>\n",
       "      <th>2024-01-03</th>\n",
       "      <td>0.7067</td>\n",
       "      <td>0.7067</td>\n",
       "      <td>0.8504</td>\n",
       "      <td>0.9462</td>\n",
       "      <td>0.0000</td>\n",
       "      <td>0.7067</td>\n",
       "      <td>0.0000</td>\n",
       "      <td>0.9849</td>\n",
       "      <td>0.0000</td>\n",
       "      <td>0.0000</td>\n",
       "      <td>...</td>\n",
       "      <td>5.0350</td>\n",
       "      <td>0</td>\n",
       "      <td>0.0289</td>\n",
       "      <td>0</td>\n",
       "      <td>0</td>\n",
       "      <td>0.0495</td>\n",
       "      <td>0.0784</td>\n",
       "      <td>0</td>\n",
       "      <td>0.2395</td>\n",
       "      <td>0.1345</td>\n",
       "    </tr>\n",
       "    <tr>\n",
       "      <th>Total</th>\n",
       "      <th>2024-01-03</th>\n",
       "      <td>30.0575</td>\n",
       "      <td>30.0575</td>\n",
       "      <td>41.8263</td>\n",
       "      <td>40.2624</td>\n",
       "      <td>27.1756</td>\n",
       "      <td>30.0575</td>\n",
       "      <td>0.0000</td>\n",
       "      <td>44.7328</td>\n",
       "      <td>0.0071</td>\n",
       "      <td>0.0000</td>\n",
       "      <td>...</td>\n",
       "      <td>228.6773</td>\n",
       "      <td>0</td>\n",
       "      <td>2.5922</td>\n",
       "      <td>0</td>\n",
       "      <td>0</td>\n",
       "      <td>1.2594</td>\n",
       "      <td>3.8516</td>\n",
       "      <td>0</td>\n",
       "      <td>10.2048</td>\n",
       "      <td>2.9065</td>\n",
       "    </tr>\n",
       "    <tr>\n",
       "      <th rowspan=\"14\" valign=\"top\">193164</th>\n",
       "      <th>2024-01-11</th>\n",
       "      <td>3.4612</td>\n",
       "      <td>3.4612</td>\n",
       "      <td>7.3959</td>\n",
       "      <td>6.7018</td>\n",
       "      <td>3.1973</td>\n",
       "      <td>3.4612</td>\n",
       "      <td>0.0000</td>\n",
       "      <td>12.4944</td>\n",
       "      <td>0.0013</td>\n",
       "      <td>0.0000</td>\n",
       "      <td>...</td>\n",
       "      <td>46.8264</td>\n",
       "      <td>0</td>\n",
       "      <td>0.5137</td>\n",
       "      <td>0</td>\n",
       "      <td>0</td>\n",
       "      <td>1.3569</td>\n",
       "      <td>1.8706</td>\n",
       "      <td>0</td>\n",
       "      <td>3.2406</td>\n",
       "      <td>5.0985</td>\n",
       "    </tr>\n",
       "    <tr>\n",
       "      <th>2024-01-12</th>\n",
       "      <td>12.5454</td>\n",
       "      <td>12.5454</td>\n",
       "      <td>18.4572</td>\n",
       "      <td>16.4558</td>\n",
       "      <td>11.7233</td>\n",
       "      <td>12.5454</td>\n",
       "      <td>0.7105</td>\n",
       "      <td>20.0448</td>\n",
       "      <td>0.0048</td>\n",
       "      <td>0.0003</td>\n",
       "      <td>...</td>\n",
       "      <td>68.3458</td>\n",
       "      <td>0</td>\n",
       "      <td>0.7547</td>\n",
       "      <td>0</td>\n",
       "      <td>0</td>\n",
       "      <td>1.7459</td>\n",
       "      <td>2.5007</td>\n",
       "      <td>0</td>\n",
       "      <td>3.9104</td>\n",
       "      <td>1.5876</td>\n",
       "    </tr>\n",
       "    <tr>\n",
       "      <th>2024-01-13</th>\n",
       "      <td>10.7895</td>\n",
       "      <td>10.7895</td>\n",
       "      <td>15.5705</td>\n",
       "      <td>14.5391</td>\n",
       "      <td>9.5820</td>\n",
       "      <td>10.7895</td>\n",
       "      <td>1.0696</td>\n",
       "      <td>20.2870</td>\n",
       "      <td>0.0039</td>\n",
       "      <td>0.0004</td>\n",
       "      <td>...</td>\n",
       "      <td>68.7752</td>\n",
       "      <td>0</td>\n",
       "      <td>0.7693</td>\n",
       "      <td>0</td>\n",
       "      <td>0</td>\n",
       "      <td>1.9630</td>\n",
       "      <td>2.7323</td>\n",
       "      <td>0</td>\n",
       "      <td>3.7496</td>\n",
       "      <td>4.7164</td>\n",
       "    </tr>\n",
       "    <tr>\n",
       "      <th>2024-01-14</th>\n",
       "      <td>13.3980</td>\n",
       "      <td>13.3980</td>\n",
       "      <td>18.5158</td>\n",
       "      <td>17.5942</td>\n",
       "      <td>11.3574</td>\n",
       "      <td>13.3980</td>\n",
       "      <td>1.7814</td>\n",
       "      <td>20.1206</td>\n",
       "      <td>0.0046</td>\n",
       "      <td>0.0007</td>\n",
       "      <td>...</td>\n",
       "      <td>69.5456</td>\n",
       "      <td>0</td>\n",
       "      <td>1.4083</td>\n",
       "      <td>0</td>\n",
       "      <td>0</td>\n",
       "      <td>1.8235</td>\n",
       "      <td>3.2318</td>\n",
       "      <td>0</td>\n",
       "      <td>4.1962</td>\n",
       "      <td>1.6048</td>\n",
       "    </tr>\n",
       "    <tr>\n",
       "      <th>2024-01-15</th>\n",
       "      <td>12.6431</td>\n",
       "      <td>12.6431</td>\n",
       "      <td>18.2183</td>\n",
       "      <td>17.3540</td>\n",
       "      <td>12.2204</td>\n",
       "      <td>12.6431</td>\n",
       "      <td>0.0000</td>\n",
       "      <td>20.2607</td>\n",
       "      <td>0.0050</td>\n",
       "      <td>0.0000</td>\n",
       "      <td>...</td>\n",
       "      <td>73.4785</td>\n",
       "      <td>0</td>\n",
       "      <td>1.6720</td>\n",
       "      <td>0</td>\n",
       "      <td>0</td>\n",
       "      <td>1.6916</td>\n",
       "      <td>3.3636</td>\n",
       "      <td>0</td>\n",
       "      <td>4.7108</td>\n",
       "      <td>2.0424</td>\n",
       "    </tr>\n",
       "    <tr>\n",
       "      <th>2024-01-16</th>\n",
       "      <td>13.3544</td>\n",
       "      <td>13.3544</td>\n",
       "      <td>18.8488</td>\n",
       "      <td>17.7521</td>\n",
       "      <td>11.2074</td>\n",
       "      <td>13.3544</td>\n",
       "      <td>2.5341</td>\n",
       "      <td>20.4030</td>\n",
       "      <td>0.0046</td>\n",
       "      <td>0.0010</td>\n",
       "      <td>...</td>\n",
       "      <td>73.1523</td>\n",
       "      <td>0</td>\n",
       "      <td>1.8544</td>\n",
       "      <td>0</td>\n",
       "      <td>0</td>\n",
       "      <td>1.6863</td>\n",
       "      <td>3.5407</td>\n",
       "      <td>0</td>\n",
       "      <td>4.3977</td>\n",
       "      <td>1.5542</td>\n",
       "    </tr>\n",
       "    <tr>\n",
       "      <th>2024-01-17</th>\n",
       "      <td>15.0068</td>\n",
       "      <td>15.0068</td>\n",
       "      <td>19.5092</td>\n",
       "      <td>7.9555</td>\n",
       "      <td>14.8156</td>\n",
       "      <td>15.0068</td>\n",
       "      <td>0.0000</td>\n",
       "      <td>20.3996</td>\n",
       "      <td>0.0060</td>\n",
       "      <td>0.0000</td>\n",
       "      <td>...</td>\n",
       "      <td>73.7050</td>\n",
       "      <td>0</td>\n",
       "      <td>1.7356</td>\n",
       "      <td>0</td>\n",
       "      <td>0</td>\n",
       "      <td>0.4675</td>\n",
       "      <td>2.2031</td>\n",
       "      <td>0</td>\n",
       "      <td>-7.0513</td>\n",
       "      <td>0.8904</td>\n",
       "    </tr>\n",
       "    <tr>\n",
       "      <th>2024-01-18</th>\n",
       "      <td>15.0169</td>\n",
       "      <td>15.0169</td>\n",
       "      <td>19.1175</td>\n",
       "      <td>3.6045</td>\n",
       "      <td>14.1342</td>\n",
       "      <td>15.0169</td>\n",
       "      <td>0.3604</td>\n",
       "      <td>20.4293</td>\n",
       "      <td>0.0058</td>\n",
       "      <td>0.0001</td>\n",
       "      <td>...</td>\n",
       "      <td>73.8308</td>\n",
       "      <td>0</td>\n",
       "      <td>1.2858</td>\n",
       "      <td>0</td>\n",
       "      <td>0</td>\n",
       "      <td>0.1548</td>\n",
       "      <td>1.4406</td>\n",
       "      <td>0</td>\n",
       "      <td>-11.4124</td>\n",
       "      <td>1.3118</td>\n",
       "    </tr>\n",
       "    <tr>\n",
       "      <th>2024-01-19</th>\n",
       "      <td>12.0574</td>\n",
       "      <td>12.0574</td>\n",
       "      <td>17.4100</td>\n",
       "      <td>15.5315</td>\n",
       "      <td>11.2283</td>\n",
       "      <td>12.0574</td>\n",
       "      <td>0.7322</td>\n",
       "      <td>20.4644</td>\n",
       "      <td>0.0046</td>\n",
       "      <td>0.0003</td>\n",
       "      <td>...</td>\n",
       "      <td>73.9795</td>\n",
       "      <td>0</td>\n",
       "      <td>1.5908</td>\n",
       "      <td>0</td>\n",
       "      <td>0</td>\n",
       "      <td>0.9304</td>\n",
       "      <td>2.5212</td>\n",
       "      <td>0</td>\n",
       "      <td>3.4741</td>\n",
       "      <td>3.0544</td>\n",
       "    </tr>\n",
       "    <tr>\n",
       "      <th>2024-01-20</th>\n",
       "      <td>13.3491</td>\n",
       "      <td>13.3491</td>\n",
       "      <td>19.0989</td>\n",
       "      <td>17.5048</td>\n",
       "      <td>12.3188</td>\n",
       "      <td>13.3491</td>\n",
       "      <td>1.3685</td>\n",
       "      <td>20.3529</td>\n",
       "      <td>0.0050</td>\n",
       "      <td>0.0006</td>\n",
       "      <td>...</td>\n",
       "      <td>73.5466</td>\n",
       "      <td>0</td>\n",
       "      <td>1.4834</td>\n",
       "      <td>0</td>\n",
       "      <td>0</td>\n",
       "      <td>1.2765</td>\n",
       "      <td>2.7599</td>\n",
       "      <td>0</td>\n",
       "      <td>4.1556</td>\n",
       "      <td>1.2539</td>\n",
       "    </tr>\n",
       "    <tr>\n",
       "      <th>2024-01-21</th>\n",
       "      <td>14.8158</td>\n",
       "      <td>14.8158</td>\n",
       "      <td>19.1612</td>\n",
       "      <td>18.5548</td>\n",
       "      <td>6.5150</td>\n",
       "      <td>14.8158</td>\n",
       "      <td>0.0000</td>\n",
       "      <td>20.4216</td>\n",
       "      <td>0.0027</td>\n",
       "      <td>0.0000</td>\n",
       "      <td>...</td>\n",
       "      <td>73.7684</td>\n",
       "      <td>0</td>\n",
       "      <td>1.5543</td>\n",
       "      <td>0</td>\n",
       "      <td>0</td>\n",
       "      <td>1.1374</td>\n",
       "      <td>2.6917</td>\n",
       "      <td>0</td>\n",
       "      <td>3.7390</td>\n",
       "      <td>1.2604</td>\n",
       "    </tr>\n",
       "    <tr>\n",
       "      <th>2024-01-22</th>\n",
       "      <td>13.0427</td>\n",
       "      <td>13.0427</td>\n",
       "      <td>18.8733</td>\n",
       "      <td>15.9669</td>\n",
       "      <td>0.0000</td>\n",
       "      <td>13.0427</td>\n",
       "      <td>0.0000</td>\n",
       "      <td>20.4466</td>\n",
       "      <td>0.0000</td>\n",
       "      <td>0.0000</td>\n",
       "      <td>...</td>\n",
       "      <td>73.8651</td>\n",
       "      <td>0</td>\n",
       "      <td>2.1079</td>\n",
       "      <td>0</td>\n",
       "      <td>0</td>\n",
       "      <td>1.4817</td>\n",
       "      <td>3.5895</td>\n",
       "      <td>0</td>\n",
       "      <td>2.9242</td>\n",
       "      <td>1.5733</td>\n",
       "    </tr>\n",
       "    <tr>\n",
       "      <th>2024-01-23</th>\n",
       "      <td>1.6585</td>\n",
       "      <td>1.6585</td>\n",
       "      <td>1.7541</td>\n",
       "      <td>2.1888</td>\n",
       "      <td>0.0000</td>\n",
       "      <td>1.6585</td>\n",
       "      <td>0.0000</td>\n",
       "      <td>5.3177</td>\n",
       "      <td>0.0000</td>\n",
       "      <td>0.0000</td>\n",
       "      <td>...</td>\n",
       "      <td>21.2425</td>\n",
       "      <td>0</td>\n",
       "      <td>0.1373</td>\n",
       "      <td>0</td>\n",
       "      <td>0</td>\n",
       "      <td>0.1379</td>\n",
       "      <td>0.2752</td>\n",
       "      <td>0</td>\n",
       "      <td>0.5303</td>\n",
       "      <td>3.5636</td>\n",
       "    </tr>\n",
       "    <tr>\n",
       "      <th>2024-01-24</th>\n",
       "      <td>0.0000</td>\n",
       "      <td>0.0000</td>\n",
       "      <td>0.0000</td>\n",
       "      <td>0.0000</td>\n",
       "      <td>0.0000</td>\n",
       "      <td>0.0000</td>\n",
       "      <td>0.0000</td>\n",
       "      <td>0.0000</td>\n",
       "      <td>0.0000</td>\n",
       "      <td>0.0000</td>\n",
       "      <td>...</td>\n",
       "      <td>113.5294</td>\n",
       "      <td>0</td>\n",
       "      <td>0.0000</td>\n",
       "      <td>0</td>\n",
       "      <td>0</td>\n",
       "      <td>0.0000</td>\n",
       "      <td>0.0000</td>\n",
       "      <td>0</td>\n",
       "      <td>0.0000</td>\n",
       "      <td>0.0000</td>\n",
       "    </tr>\n",
       "    <tr>\n",
       "      <th>Total</th>\n",
       "      <th>2024-01-24</th>\n",
       "      <td>151.1388</td>\n",
       "      <td>151.1388</td>\n",
       "      <td>211.9307</td>\n",
       "      <td>171.7038</td>\n",
       "      <td>118.2997</td>\n",
       "      <td>151.1388</td>\n",
       "      <td>8.5567</td>\n",
       "      <td>241.4426</td>\n",
       "      <td>0.0483</td>\n",
       "      <td>0.0034</td>\n",
       "      <td>...</td>\n",
       "      <td>977.5911</td>\n",
       "      <td>0</td>\n",
       "      <td>16.8675</td>\n",
       "      <td>0</td>\n",
       "      <td>0</td>\n",
       "      <td>15.8534</td>\n",
       "      <td>32.7209</td>\n",
       "      <td>0</td>\n",
       "      <td>20.5648</td>\n",
       "      <td>29.5117</td>\n",
       "    </tr>\n",
       "    <tr>\n",
       "      <th rowspan=\"5\" valign=\"top\">193206</th>\n",
       "      <th>2024-01-24</th>\n",
       "      <td>0.0000</td>\n",
       "      <td>0.0000</td>\n",
       "      <td>0.0000</td>\n",
       "      <td>0.0000</td>\n",
       "      <td>0.0000</td>\n",
       "      <td>0.0000</td>\n",
       "      <td>0.0000</td>\n",
       "      <td>3.0128</td>\n",
       "      <td>0.0000</td>\n",
       "      <td>0.0000</td>\n",
       "      <td>...</td>\n",
       "      <td>13.4277</td>\n",
       "      <td>0</td>\n",
       "      <td>0.0000</td>\n",
       "      <td>0</td>\n",
       "      <td>0</td>\n",
       "      <td>0.0000</td>\n",
       "      <td>0.0000</td>\n",
       "      <td>0</td>\n",
       "      <td>0.0000</td>\n",
       "      <td>3.0128</td>\n",
       "    </tr>\n",
       "    <tr>\n",
       "      <th>2024-01-25</th>\n",
       "      <td>4.1109</td>\n",
       "      <td>4.1109</td>\n",
       "      <td>13.6606</td>\n",
       "      <td>10.2282</td>\n",
       "      <td>3.4452</td>\n",
       "      <td>4.1109</td>\n",
       "      <td>0.0000</td>\n",
       "      <td>22.4059</td>\n",
       "      <td>0.0012</td>\n",
       "      <td>0.0000</td>\n",
       "      <td>...</td>\n",
       "      <td>127.0733</td>\n",
       "      <td>0</td>\n",
       "      <td>1.7395</td>\n",
       "      <td>0</td>\n",
       "      <td>0</td>\n",
       "      <td>2.8444</td>\n",
       "      <td>4.5839</td>\n",
       "      <td>0</td>\n",
       "      <td>6.1173</td>\n",
       "      <td>8.7453</td>\n",
       "    </tr>\n",
       "    <tr>\n",
       "      <th>2024-01-26</th>\n",
       "      <td>11.5933</td>\n",
       "      <td>11.5933</td>\n",
       "      <td>19.0055</td>\n",
       "      <td>16.3615</td>\n",
       "      <td>11.3227</td>\n",
       "      <td>11.5933</td>\n",
       "      <td>0.0000</td>\n",
       "      <td>21.2259</td>\n",
       "      <td>0.0039</td>\n",
       "      <td>0.0000</td>\n",
       "      <td>...</td>\n",
       "      <td>124.3124</td>\n",
       "      <td>0</td>\n",
       "      <td>1.2547</td>\n",
       "      <td>0</td>\n",
       "      <td>0</td>\n",
       "      <td>2.2356</td>\n",
       "      <td>3.4903</td>\n",
       "      <td>0</td>\n",
       "      <td>4.7682</td>\n",
       "      <td>2.2204</td>\n",
       "    </tr>\n",
       "    <tr>\n",
       "      <th>2024-01-27</th>\n",
       "      <td>11.4307</td>\n",
       "      <td>11.4307</td>\n",
       "      <td>19.9182</td>\n",
       "      <td>17.6900</td>\n",
       "      <td>11.2932</td>\n",
       "      <td>11.4307</td>\n",
       "      <td>0.0000</td>\n",
       "      <td>22.0823</td>\n",
       "      <td>0.0039</td>\n",
       "      <td>0.0000</td>\n",
       "      <td>...</td>\n",
       "      <td>128.7214</td>\n",
       "      <td>0</td>\n",
       "      <td>1.2584</td>\n",
       "      <td>0</td>\n",
       "      <td>0</td>\n",
       "      <td>3.0434</td>\n",
       "      <td>4.3018</td>\n",
       "      <td>0</td>\n",
       "      <td>6.2592</td>\n",
       "      <td>2.1641</td>\n",
       "    </tr>\n",
       "    <tr>\n",
       "      <th>2024-01-28</th>\n",
       "      <td>3.5475</td>\n",
       "      <td>3.5475</td>\n",
       "      <td>6.7768</td>\n",
       "      <td>6.1628</td>\n",
       "      <td>2.4694</td>\n",
       "      <td>3.5475</td>\n",
       "      <td>0.9871</td>\n",
       "      <td>8.5983</td>\n",
       "      <td>0.0009</td>\n",
       "      <td>0.0003</td>\n",
       "      <td>...</td>\n",
       "      <td>51.5069</td>\n",
       "      <td>0</td>\n",
       "      <td>0.7074</td>\n",
       "      <td>0</td>\n",
       "      <td>0</td>\n",
       "      <td>1.4087</td>\n",
       "      <td>2.1161</td>\n",
       "      <td>0</td>\n",
       "      <td>2.6153</td>\n",
       "      <td>1.8214</td>\n",
       "    </tr>\n",
       "    <tr>\n",
       "      <th>Total</th>\n",
       "      <th>2024-01-28</th>\n",
       "      <td>30.6824</td>\n",
       "      <td>30.6824</td>\n",
       "      <td>59.3611</td>\n",
       "      <td>50.4425</td>\n",
       "      <td>28.5305</td>\n",
       "      <td>30.6824</td>\n",
       "      <td>0.9871</td>\n",
       "      <td>77.3252</td>\n",
       "      <td>0.0099</td>\n",
       "      <td>0.0003</td>\n",
       "      <td>...</td>\n",
       "      <td>445.0417</td>\n",
       "      <td>0</td>\n",
       "      <td>4.9600</td>\n",
       "      <td>0</td>\n",
       "      <td>0</td>\n",
       "      <td>9.5321</td>\n",
       "      <td>14.4921</td>\n",
       "      <td>0</td>\n",
       "      <td>19.7600</td>\n",
       "      <td>17.9640</td>\n",
       "    </tr>\n",
       "    <tr>\n",
       "      <th rowspan=\"4\" valign=\"top\">193207</th>\n",
       "      <th>2024-01-28</th>\n",
       "      <td>1.2759</td>\n",
       "      <td>1.2759</td>\n",
       "      <td>6.2237</td>\n",
       "      <td>4.9184</td>\n",
       "      <td>0.9795</td>\n",
       "      <td>1.2759</td>\n",
       "      <td>0.0000</td>\n",
       "      <td>8.8231</td>\n",
       "      <td>0.0003</td>\n",
       "      <td>0.0000</td>\n",
       "      <td>...</td>\n",
       "      <td>64.5593</td>\n",
       "      <td>0</td>\n",
       "      <td>0.1815</td>\n",
       "      <td>0</td>\n",
       "      <td>0</td>\n",
       "      <td>1.6881</td>\n",
       "      <td>1.8696</td>\n",
       "      <td>0</td>\n",
       "      <td>3.6425</td>\n",
       "      <td>2.5993</td>\n",
       "    </tr>\n",
       "    <tr>\n",
       "      <th>2024-01-29</th>\n",
       "      <td>4.1009</td>\n",
       "      <td>4.1009</td>\n",
       "      <td>9.6603</td>\n",
       "      <td>8.2107</td>\n",
       "      <td>3.9156</td>\n",
       "      <td>4.1009</td>\n",
       "      <td>0.0000</td>\n",
       "      <td>14.7408</td>\n",
       "      <td>0.0014</td>\n",
       "      <td>0.0000</td>\n",
       "      <td>...</td>\n",
       "      <td>113.1486</td>\n",
       "      <td>0</td>\n",
       "      <td>0.4655</td>\n",
       "      <td>0</td>\n",
       "      <td>0</td>\n",
       "      <td>0.9177</td>\n",
       "      <td>1.3833</td>\n",
       "      <td>0</td>\n",
       "      <td>4.1097</td>\n",
       "      <td>5.0805</td>\n",
       "    </tr>\n",
       "    <tr>\n",
       "      <th>2024-01-30</th>\n",
       "      <td>5.4854</td>\n",
       "      <td>5.4854</td>\n",
       "      <td>10.6626</td>\n",
       "      <td>9.8275</td>\n",
       "      <td>5.3929</td>\n",
       "      <td>5.4854</td>\n",
       "      <td>0.0000</td>\n",
       "      <td>14.6850</td>\n",
       "      <td>0.0019</td>\n",
       "      <td>0.0000</td>\n",
       "      <td>...</td>\n",
       "      <td>113.0466</td>\n",
       "      <td>0</td>\n",
       "      <td>0.4929</td>\n",
       "      <td>0</td>\n",
       "      <td>0</td>\n",
       "      <td>1.2255</td>\n",
       "      <td>1.7184</td>\n",
       "      <td>0</td>\n",
       "      <td>4.3421</td>\n",
       "      <td>4.0224</td>\n",
       "    </tr>\n",
       "    <tr>\n",
       "      <th>2024-01-31</th>\n",
       "      <td>6.8520</td>\n",
       "      <td>6.8520</td>\n",
       "      <td>13.1953</td>\n",
       "      <td>11.9468</td>\n",
       "      <td>5.4312</td>\n",
       "      <td>6.8520</td>\n",
       "      <td>1.4912</td>\n",
       "      <td>14.8511</td>\n",
       "      <td>0.0019</td>\n",
       "      <td>0.0005</td>\n",
       "      <td>...</td>\n",
       "      <td>114.3739</td>\n",
       "      <td>0</td>\n",
       "      <td>0.5268</td>\n",
       "      <td>0</td>\n",
       "      <td>0</td>\n",
       "      <td>1.2663</td>\n",
       "      <td>1.7931</td>\n",
       "      <td>0</td>\n",
       "      <td>5.0948</td>\n",
       "      <td>1.6558</td>\n",
       "    </tr>\n",
       "    <tr>\n",
       "      <th>Total</th>\n",
       "      <th>2024-01-31</th>\n",
       "      <td>17.7142</td>\n",
       "      <td>17.7142</td>\n",
       "      <td>39.7419</td>\n",
       "      <td>34.9034</td>\n",
       "      <td>15.7192</td>\n",
       "      <td>17.7142</td>\n",
       "      <td>1.4912</td>\n",
       "      <td>53.1000</td>\n",
       "      <td>0.0055</td>\n",
       "      <td>0.0005</td>\n",
       "      <td>...</td>\n",
       "      <td>405.1284</td>\n",
       "      <td>0</td>\n",
       "      <td>1.6667</td>\n",
       "      <td>0</td>\n",
       "      <td>0</td>\n",
       "      <td>5.0976</td>\n",
       "      <td>6.7644</td>\n",
       "      <td>0</td>\n",
       "      <td>17.1891</td>\n",
       "      <td>13.3580</td>\n",
       "    </tr>\n",
       "    <tr>\n",
       "      <th rowspan=\"2\" valign=\"top\">Total</th>\n",
       "      <th rowspan=\"2\" valign=\"top\">Total</th>\n",
       "      <th>2024-01-31</th>\n",
       "      <td>294.6905</td>\n",
       "      <td>294.6905</td>\n",
       "      <td>492.8056</td>\n",
       "      <td>412.8888</td>\n",
       "      <td>251.2467</td>\n",
       "      <td>294.6905</td>\n",
       "      <td>13.8784</td>\n",
       "      <td>595.3875</td>\n",
       "      <td>0.0999</td>\n",
       "      <td>0.0056</td>\n",
       "      <td>...</td>\n",
       "      <td>2942.9958</td>\n",
       "      <td>0</td>\n",
       "      <td>36.5293</td>\n",
       "      <td>0</td>\n",
       "      <td>0</td>\n",
       "      <td>53.4367</td>\n",
       "      <td>89.9661</td>\n",
       "      <td>0</td>\n",
       "      <td>118.1978</td>\n",
       "      <td>102.5812</td>\n",
       "    </tr>\n",
       "    <tr>\n",
       "      <th>2024-01-31</th>\n",
       "      <td>294.6905</td>\n",
       "      <td>294.6905</td>\n",
       "      <td>492.8056</td>\n",
       "      <td>412.8888</td>\n",
       "      <td>251.2467</td>\n",
       "      <td>294.6905</td>\n",
       "      <td>13.8784</td>\n",
       "      <td>595.3875</td>\n",
       "      <td>0.0999</td>\n",
       "      <td>0.0056</td>\n",
       "      <td>...</td>\n",
       "      <td>2942.9958</td>\n",
       "      <td>0</td>\n",
       "      <td>36.5293</td>\n",
       "      <td>0</td>\n",
       "      <td>0</td>\n",
       "      <td>53.4367</td>\n",
       "      <td>89.9661</td>\n",
       "      <td>0</td>\n",
       "      <td>118.1978</td>\n",
       "      <td>102.5812</td>\n",
       "    </tr>\n",
       "  </tbody>\n",
       "</table>\n",
       "<p>42 rows × 22 columns</p>\n",
       "</div>"
      ],
      "text/plain": [
       "                         Empac.-reescol.  Empacotado  Entra. do recozi.  \\\n",
       "B1    192970 2024-01-03           1.6948      1.6948            12.2051   \n",
       "             2024-01-04           6.9028      6.9028            16.1446   \n",
       "             2024-01-05           6.2779      6.2779            16.8795   \n",
       "             2024-01-06           7.9480      7.9480            17.3240   \n",
       "             2024-01-07           4.5498      4.5498            14.5250   \n",
       "             2024-01-08          11.7513     11.7513            19.5315   \n",
       "             2024-01-09          11.7991     11.7991            18.4374   \n",
       "             2024-01-10          11.0273     11.0273            18.1368   \n",
       "             2024-01-11           3.1466      3.1466             6.7617   \n",
       "      Total  2024-01-11          65.0976     65.0976           139.9456   \n",
       "      193112 2024-01-01          14.5165     14.5165            20.3353   \n",
       "             2024-01-02          14.8343     14.8343            20.6406   \n",
       "             2024-01-03           0.7067      0.7067             0.8504   \n",
       "      Total  2024-01-03          30.0575     30.0575            41.8263   \n",
       "      193164 2024-01-11           3.4612      3.4612             7.3959   \n",
       "             2024-01-12          12.5454     12.5454            18.4572   \n",
       "             2024-01-13          10.7895     10.7895            15.5705   \n",
       "             2024-01-14          13.3980     13.3980            18.5158   \n",
       "             2024-01-15          12.6431     12.6431            18.2183   \n",
       "             2024-01-16          13.3544     13.3544            18.8488   \n",
       "             2024-01-17          15.0068     15.0068            19.5092   \n",
       "             2024-01-18          15.0169     15.0169            19.1175   \n",
       "             2024-01-19          12.0574     12.0574            17.4100   \n",
       "             2024-01-20          13.3491     13.3491            19.0989   \n",
       "             2024-01-21          14.8158     14.8158            19.1612   \n",
       "             2024-01-22          13.0427     13.0427            18.8733   \n",
       "             2024-01-23           1.6585      1.6585             1.7541   \n",
       "             2024-01-24           0.0000      0.0000             0.0000   \n",
       "      Total  2024-01-24         151.1388    151.1388           211.9307   \n",
       "      193206 2024-01-24           0.0000      0.0000             0.0000   \n",
       "             2024-01-25           4.1109      4.1109            13.6606   \n",
       "             2024-01-26          11.5933     11.5933            19.0055   \n",
       "             2024-01-27          11.4307     11.4307            19.9182   \n",
       "             2024-01-28           3.5475      3.5475             6.7768   \n",
       "      Total  2024-01-28          30.6824     30.6824            59.3611   \n",
       "      193207 2024-01-28           1.2759      1.2759             6.2237   \n",
       "             2024-01-29           4.1009      4.1009             9.6603   \n",
       "             2024-01-30           5.4854      5.4854            10.6626   \n",
       "             2024-01-31           6.8520      6.8520            13.1953   \n",
       "      Total  2024-01-31          17.7142     17.7142            39.7419   \n",
       "Total Total  2024-01-31         294.6905    294.6905           492.8056   \n",
       "             2024-01-31         294.6905    294.6905           492.8056   \n",
       "\n",
       "                         Entrada AF  Frascos aprovados  Frascos produzidos  \\\n",
       "B1    192970 2024-01-03      8.5257             1.0671              1.6948   \n",
       "             2024-01-04     13.9903             6.7325              6.9028   \n",
       "             2024-01-05     12.3638             6.4151              6.2779   \n",
       "             2024-01-06     15.2663             7.8450              7.9480   \n",
       "             2024-01-07     10.3543             4.2588              4.5498   \n",
       "             2024-01-08     17.9165            10.6915             11.7513   \n",
       "             2024-01-09     15.7430            11.3895             11.7991   \n",
       "             2024-01-10     15.6171            10.9916             11.0273   \n",
       "             2024-01-11      5.7997             2.1306              3.1466   \n",
       "      Total  2024-01-11    115.5767            61.5217             65.0976   \n",
       "      193112 2024-01-01     19.5466            12.9457             14.5165   \n",
       "             2024-01-02     19.7696            14.2299             14.8343   \n",
       "             2024-01-03      0.9462             0.0000              0.7067   \n",
       "      Total  2024-01-03     40.2624            27.1756             30.0575   \n",
       "      193164 2024-01-11      6.7018             3.1973              3.4612   \n",
       "             2024-01-12     16.4558            11.7233             12.5454   \n",
       "             2024-01-13     14.5391             9.5820             10.7895   \n",
       "             2024-01-14     17.5942            11.3574             13.3980   \n",
       "             2024-01-15     17.3540            12.2204             12.6431   \n",
       "             2024-01-16     17.7521            11.2074             13.3544   \n",
       "             2024-01-17      7.9555            14.8156             15.0068   \n",
       "             2024-01-18      3.6045            14.1342             15.0169   \n",
       "             2024-01-19     15.5315            11.2283             12.0574   \n",
       "             2024-01-20     17.5048            12.3188             13.3491   \n",
       "             2024-01-21     18.5548             6.5150             14.8158   \n",
       "             2024-01-22     15.9669             0.0000             13.0427   \n",
       "             2024-01-23      2.1888             0.0000              1.6585   \n",
       "             2024-01-24      0.0000             0.0000              0.0000   \n",
       "      Total  2024-01-24    171.7038           118.2997            151.1388   \n",
       "      193206 2024-01-24      0.0000             0.0000              0.0000   \n",
       "             2024-01-25     10.2282             3.4452              4.1109   \n",
       "             2024-01-26     16.3615            11.3227             11.5933   \n",
       "             2024-01-27     17.6900            11.2932             11.4307   \n",
       "             2024-01-28      6.1628             2.4694              3.5475   \n",
       "      Total  2024-01-28     50.4425            28.5305             30.6824   \n",
       "      193207 2024-01-28      4.9184             0.9795              1.2759   \n",
       "             2024-01-29      8.2107             3.9156              4.1009   \n",
       "             2024-01-30      9.8275             5.3929              5.4854   \n",
       "             2024-01-31     11.9468             5.4312              6.8520   \n",
       "      Total  2024-01-31     34.9034            15.7192             17.7142   \n",
       "Total Total  2024-01-31    412.8888           251.2467            294.6905   \n",
       "             2024-01-31    412.8888           251.2467            294.6905   \n",
       "\n",
       "                         Frascos reprovados  Gotas cortadas  \\\n",
       "B1    192970 2024-01-03              0.3564         20.9484   \n",
       "             2024-01-04              0.0000         21.0216   \n",
       "             2024-01-05              0.0000         21.4492   \n",
       "             2024-01-06              0.0000         21.5256   \n",
       "             2024-01-07              0.3549         21.4387   \n",
       "             2024-01-08              0.7098         21.5064   \n",
       "             2024-01-09              0.3564         21.5235   \n",
       "             2024-01-10              0.0000         21.4267   \n",
       "             2024-01-11              1.0659          7.9468   \n",
       "      Total  2024-01-11              2.8434        178.7869   \n",
       "      193112 2024-01-01              0.0000         21.8905   \n",
       "             2024-01-02              0.0000         21.8574   \n",
       "             2024-01-03              0.0000          0.9849   \n",
       "      Total  2024-01-03              0.0000         44.7328   \n",
       "      193164 2024-01-11              0.0000         12.4944   \n",
       "             2024-01-12              0.7105         20.0448   \n",
       "             2024-01-13              1.0696         20.2870   \n",
       "             2024-01-14              1.7814         20.1206   \n",
       "             2024-01-15              0.0000         20.2607   \n",
       "             2024-01-16              2.5341         20.4030   \n",
       "             2024-01-17              0.0000         20.3996   \n",
       "             2024-01-18              0.3604         20.4293   \n",
       "             2024-01-19              0.7322         20.4644   \n",
       "             2024-01-20              1.3685         20.3529   \n",
       "             2024-01-21              0.0000         20.4216   \n",
       "             2024-01-22              0.0000         20.4466   \n",
       "             2024-01-23              0.0000          5.3177   \n",
       "             2024-01-24              0.0000          0.0000   \n",
       "      Total  2024-01-24              8.5567        241.4426   \n",
       "      193206 2024-01-24              0.0000          3.0128   \n",
       "             2024-01-25              0.0000         22.4059   \n",
       "             2024-01-26              0.0000         21.2259   \n",
       "             2024-01-27              0.0000         22.0823   \n",
       "             2024-01-28              0.9871          8.5983   \n",
       "      Total  2024-01-28              0.9871         77.3252   \n",
       "      193207 2024-01-28              0.0000          8.8231   \n",
       "             2024-01-29              0.0000         14.7408   \n",
       "             2024-01-30              0.0000         14.6850   \n",
       "             2024-01-31              1.4912         14.8511   \n",
       "      Total  2024-01-31              1.4912         53.1000   \n",
       "Total Total  2024-01-31             13.8784        595.3875   \n",
       "             2024-01-31             13.8784        595.3875   \n",
       "\n",
       "                         Paletes aprovados  Paletes reprovados  ...  \\\n",
       "B1    192970 2024-01-03             0.0005              0.0002  ...   \n",
       "             2024-01-04             0.0032              0.0000  ...   \n",
       "             2024-01-05             0.0030              0.0000  ...   \n",
       "             2024-01-06             0.0037              0.0000  ...   \n",
       "             2024-01-07             0.0020              0.0002  ...   \n",
       "             2024-01-08             0.0051              0.0003  ...   \n",
       "             2024-01-09             0.0054              0.0002  ...   \n",
       "             2024-01-10             0.0052              0.0000  ...   \n",
       "             2024-01-11             0.0010              0.0005  ...   \n",
       "      Total  2024-01-11             0.0291              0.0014  ...   \n",
       "      193112 2024-01-01             0.0034              0.0000  ...   \n",
       "             2024-01-02             0.0037              0.0000  ...   \n",
       "             2024-01-03             0.0000              0.0000  ...   \n",
       "      Total  2024-01-03             0.0071              0.0000  ...   \n",
       "      193164 2024-01-11             0.0013              0.0000  ...   \n",
       "             2024-01-12             0.0048              0.0003  ...   \n",
       "             2024-01-13             0.0039              0.0004  ...   \n",
       "             2024-01-14             0.0046              0.0007  ...   \n",
       "             2024-01-15             0.0050              0.0000  ...   \n",
       "             2024-01-16             0.0046              0.0010  ...   \n",
       "             2024-01-17             0.0060              0.0000  ...   \n",
       "             2024-01-18             0.0058              0.0001  ...   \n",
       "             2024-01-19             0.0046              0.0003  ...   \n",
       "             2024-01-20             0.0050              0.0006  ...   \n",
       "             2024-01-21             0.0027              0.0000  ...   \n",
       "             2024-01-22             0.0000              0.0000  ...   \n",
       "             2024-01-23             0.0000              0.0000  ...   \n",
       "             2024-01-24             0.0000              0.0000  ...   \n",
       "      Total  2024-01-24             0.0483              0.0034  ...   \n",
       "      193206 2024-01-24             0.0000              0.0000  ...   \n",
       "             2024-01-25             0.0012              0.0000  ...   \n",
       "             2024-01-26             0.0039              0.0000  ...   \n",
       "             2024-01-27             0.0039              0.0000  ...   \n",
       "             2024-01-28             0.0009              0.0003  ...   \n",
       "      Total  2024-01-28             0.0099              0.0003  ...   \n",
       "      193207 2024-01-28             0.0003              0.0000  ...   \n",
       "             2024-01-29             0.0014              0.0000  ...   \n",
       "             2024-01-30             0.0019              0.0000  ...   \n",
       "             2024-01-31             0.0019              0.0005  ...   \n",
       "      Total  2024-01-31             0.0055              0.0005  ...   \n",
       "Total Total  2024-01-31             0.0999              0.0056  ...   \n",
       "             2024-01-31             0.0999              0.0056  ...   \n",
       "\n",
       "                           Recozi.  Reescolhido  Rej. Argos  Rej. aut.  \\\n",
       "B1    192970 2024-01-03   111.5911            0      1.6118          0   \n",
       "             2024-01-04   109.9592            0      1.0592          0   \n",
       "             2024-01-05   109.9308            0      1.0322          0   \n",
       "             2024-01-06   110.3116            0      2.0806          0   \n",
       "             2024-01-07   109.7947            0      0.7333          0   \n",
       "             2024-01-08   101.5342            0      1.3445          0   \n",
       "             2024-01-09    98.7199            0      0.9198          0   \n",
       "             2024-01-10    98.2733            0      1.1014          0   \n",
       "             2024-01-11    36.4425            0      0.5601          0   \n",
       "      Total  2024-01-11   886.5573            0     10.4429          0   \n",
       "      193112 2024-01-01   111.9245            0      1.4490          0   \n",
       "             2024-01-02   111.7178            0      1.1143          0   \n",
       "             2024-01-03     5.0350            0      0.0289          0   \n",
       "      Total  2024-01-03   228.6773            0      2.5922          0   \n",
       "      193164 2024-01-11    46.8264            0      0.5137          0   \n",
       "             2024-01-12    68.3458            0      0.7547          0   \n",
       "             2024-01-13    68.7752            0      0.7693          0   \n",
       "             2024-01-14    69.5456            0      1.4083          0   \n",
       "             2024-01-15    73.4785            0      1.6720          0   \n",
       "             2024-01-16    73.1523            0      1.8544          0   \n",
       "             2024-01-17    73.7050            0      1.7356          0   \n",
       "             2024-01-18    73.8308            0      1.2858          0   \n",
       "             2024-01-19    73.9795            0      1.5908          0   \n",
       "             2024-01-20    73.5466            0      1.4834          0   \n",
       "             2024-01-21    73.7684            0      1.5543          0   \n",
       "             2024-01-22    73.8651            0      2.1079          0   \n",
       "             2024-01-23    21.2425            0      0.1373          0   \n",
       "             2024-01-24   113.5294            0      0.0000          0   \n",
       "      Total  2024-01-24   977.5911            0     16.8675          0   \n",
       "      193206 2024-01-24    13.4277            0      0.0000          0   \n",
       "             2024-01-25   127.0733            0      1.7395          0   \n",
       "             2024-01-26   124.3124            0      1.2547          0   \n",
       "             2024-01-27   128.7214            0      1.2584          0   \n",
       "             2024-01-28    51.5069            0      0.7074          0   \n",
       "      Total  2024-01-28   445.0417            0      4.9600          0   \n",
       "      193207 2024-01-28    64.5593            0      0.1815          0   \n",
       "             2024-01-29   113.1486            0      0.4655          0   \n",
       "             2024-01-30   113.0466            0      0.4929          0   \n",
       "             2024-01-31   114.3739            0      0.5268          0   \n",
       "      Total  2024-01-31   405.1284            0      1.6667          0   \n",
       "Total Total  2024-01-31  2942.9958            0     36.5293          0   \n",
       "             2024-01-31  2942.9958            0     36.5293          0   \n",
       "\n",
       "                         Rej. Emhart  Rej. EVO NEO  Tot. rej. esc. aut.  \\\n",
       "B1    192970 2024-01-03            0        3.1621               4.7740   \n",
       "             2024-01-04            0        3.0289               4.0881   \n",
       "             2024-01-05            0        3.0409               4.0730   \n",
       "             2024-01-06            0        4.0214               6.1020   \n",
       "             2024-01-07            0        1.8965               2.6298   \n",
       "             2024-01-08            0        2.2614               3.6059   \n",
       "             2024-01-09            0        1.4145               2.3343   \n",
       "             2024-01-10            0        1.7418               2.8432   \n",
       "             2024-01-11            0        1.1267               1.6868   \n",
       "      Total  2024-01-11            0       21.6942              32.1371   \n",
       "      193112 2024-01-01            0        0.7372               2.1862   \n",
       "             2024-01-02            0        0.4727               1.5870   \n",
       "             2024-01-03            0        0.0495               0.0784   \n",
       "      Total  2024-01-03            0        1.2594               3.8516   \n",
       "      193164 2024-01-11            0        1.3569               1.8706   \n",
       "             2024-01-12            0        1.7459               2.5007   \n",
       "             2024-01-13            0        1.9630               2.7323   \n",
       "             2024-01-14            0        1.8235               3.2318   \n",
       "             2024-01-15            0        1.6916               3.3636   \n",
       "             2024-01-16            0        1.6863               3.5407   \n",
       "             2024-01-17            0        0.4675               2.2031   \n",
       "             2024-01-18            0        0.1548               1.4406   \n",
       "             2024-01-19            0        0.9304               2.5212   \n",
       "             2024-01-20            0        1.2765               2.7599   \n",
       "             2024-01-21            0        1.1374               2.6917   \n",
       "             2024-01-22            0        1.4817               3.5895   \n",
       "             2024-01-23            0        0.1379               0.2752   \n",
       "             2024-01-24            0        0.0000               0.0000   \n",
       "      Total  2024-01-24            0       15.8534              32.7209   \n",
       "      193206 2024-01-24            0        0.0000               0.0000   \n",
       "             2024-01-25            0        2.8444               4.5839   \n",
       "             2024-01-26            0        2.2356               3.4903   \n",
       "             2024-01-27            0        3.0434               4.3018   \n",
       "             2024-01-28            0        1.4087               2.1161   \n",
       "      Total  2024-01-28            0        9.5321              14.4921   \n",
       "      193207 2024-01-28            0        1.6881               1.8696   \n",
       "             2024-01-29            0        0.9177               1.3833   \n",
       "             2024-01-30            0        1.2255               1.7184   \n",
       "             2024-01-31            0        1.2663               1.7931   \n",
       "      Total  2024-01-31            0        5.0976               6.7644   \n",
       "Total Total  2024-01-31            0       53.4367              89.9661   \n",
       "             2024-01-31            0       53.4367              89.9661   \n",
       "\n",
       "                         Total parada seção  Total Rej. AF  Transferência AQ  \n",
       "B1    192970 2024-01-03                   0         6.8309            8.7433  \n",
       "             2024-01-04                   0         7.0875            4.8770  \n",
       "             2024-01-05                   0         6.0859            4.5696  \n",
       "             2024-01-06                   0         7.3183            4.2016  \n",
       "             2024-01-07                   0         5.8045            6.9136  \n",
       "             2024-01-08                   0         6.1652            1.9749  \n",
       "             2024-01-09                   0         3.9439            3.0861  \n",
       "             2024-01-10                   0         4.5898            3.2898  \n",
       "             2024-01-11                   0         2.6531            1.1851  \n",
       "      Total  2024-01-11                   0        50.4791           38.8410  \n",
       "      193112 2024-01-01                   0         5.0300            1.5552  \n",
       "             2024-01-02                   0         4.9353            1.2168  \n",
       "             2024-01-03                   0         0.2395            0.1345  \n",
       "      Total  2024-01-03                   0        10.2048            2.9065  \n",
       "      193164 2024-01-11                   0         3.2406            5.0985  \n",
       "             2024-01-12                   0         3.9104            1.5876  \n",
       "             2024-01-13                   0         3.7496            4.7164  \n",
       "             2024-01-14                   0         4.1962            1.6048  \n",
       "             2024-01-15                   0         4.7108            2.0424  \n",
       "             2024-01-16                   0         4.3977            1.5542  \n",
       "             2024-01-17                   0        -7.0513            0.8904  \n",
       "             2024-01-18                   0       -11.4124            1.3118  \n",
       "             2024-01-19                   0         3.4741            3.0544  \n",
       "             2024-01-20                   0         4.1556            1.2539  \n",
       "             2024-01-21                   0         3.7390            1.2604  \n",
       "             2024-01-22                   0         2.9242            1.5733  \n",
       "             2024-01-23                   0         0.5303            3.5636  \n",
       "             2024-01-24                   0         0.0000            0.0000  \n",
       "      Total  2024-01-24                   0        20.5648           29.5117  \n",
       "      193206 2024-01-24                   0         0.0000            3.0128  \n",
       "             2024-01-25                   0         6.1173            8.7453  \n",
       "             2024-01-26                   0         4.7682            2.2204  \n",
       "             2024-01-27                   0         6.2592            2.1641  \n",
       "             2024-01-28                   0         2.6153            1.8214  \n",
       "      Total  2024-01-28                   0        19.7600           17.9640  \n",
       "      193207 2024-01-28                   0         3.6425            2.5993  \n",
       "             2024-01-29                   0         4.1097            5.0805  \n",
       "             2024-01-30                   0         4.3421            4.0224  \n",
       "             2024-01-31                   0         5.0948            1.6558  \n",
       "      Total  2024-01-31                   0        17.1891           13.3580  \n",
       "Total Total  2024-01-31                   0       118.1978          102.5812  \n",
       "             2024-01-31                   0       118.1978          102.5812  \n",
       "\n",
       "[42 rows x 22 columns]"
      ]
     },
     "execution_count": 118,
     "metadata": {},
     "output_type": "execute_result"
    }
   ],
   "source": [
    "dados_qualidade = pd.read_excel(\n",
    "    './dados/Extração B1_Peso+Velocidade_Analise.xlsx', \n",
    "    sheet_name='LossesAndOutputs', \n",
    "    header=0, \n",
    "    index_col=[0, 1, 2]  \n",
    ")\n",
    "\n",
    "dados_qualidade.rename(columns={'Unnamed: 2': 'Data'}, inplace=True)\n",
    "\n",
    "dados_qualidade"
   ]
  },
  {
   "cell_type": "markdown",
   "metadata": {},
   "source": [
    "### Redimensionando tabela"
   ]
  },
  {
   "cell_type": "code",
   "execution_count": 238,
   "metadata": {},
   "outputs": [
    {
     "data": {
      "text/html": [
       "<div>\n",
       "<style scoped>\n",
       "    .dataframe tbody tr th:only-of-type {\n",
       "        vertical-align: middle;\n",
       "    }\n",
       "\n",
       "    .dataframe tbody tr th {\n",
       "        vertical-align: top;\n",
       "    }\n",
       "\n",
       "    .dataframe thead th {\n",
       "        text-align: right;\n",
       "    }\n",
       "</style>\n",
       "<table border=\"1\" class=\"dataframe\">\n",
       "  <thead>\n",
       "    <tr style=\"text-align: right;\">\n",
       "      <th></th>\n",
       "      <th>Maquina</th>\n",
       "      <th>Ordem</th>\n",
       "      <th>Data</th>\n",
       "      <th>Empac.-reescol.</th>\n",
       "      <th>Empacotado</th>\n",
       "      <th>Entra. do recozi.</th>\n",
       "      <th>Entrada AF</th>\n",
       "      <th>Frascos aprovados</th>\n",
       "      <th>Frascos produzidos</th>\n",
       "      <th>Frascos reprovados</th>\n",
       "      <th>...</th>\n",
       "      <th>Recozi.</th>\n",
       "      <th>Reescolhido</th>\n",
       "      <th>Rej. Argos</th>\n",
       "      <th>Rej. aut.</th>\n",
       "      <th>Rej. Emhart</th>\n",
       "      <th>Rej. EVO NEO</th>\n",
       "      <th>Tot. rej. esc. aut.</th>\n",
       "      <th>Total parada seção</th>\n",
       "      <th>Total Rej. AF</th>\n",
       "      <th>Transferência AQ</th>\n",
       "    </tr>\n",
       "  </thead>\n",
       "  <tbody>\n",
       "    <tr>\n",
       "      <th>0</th>\n",
       "      <td>B1</td>\n",
       "      <td>192970</td>\n",
       "      <td>2024-01-03</td>\n",
       "      <td>1.6948</td>\n",
       "      <td>1.6948</td>\n",
       "      <td>12.2051</td>\n",
       "      <td>8.5257</td>\n",
       "      <td>1.0671</td>\n",
       "      <td>1.6948</td>\n",
       "      <td>0.3564</td>\n",
       "      <td>...</td>\n",
       "      <td>111.5911</td>\n",
       "      <td>0</td>\n",
       "      <td>1.6118</td>\n",
       "      <td>0</td>\n",
       "      <td>0</td>\n",
       "      <td>3.1621</td>\n",
       "      <td>4.7740</td>\n",
       "      <td>0</td>\n",
       "      <td>6.8309</td>\n",
       "      <td>8.7433</td>\n",
       "    </tr>\n",
       "    <tr>\n",
       "      <th>1</th>\n",
       "      <td>B1</td>\n",
       "      <td>192970</td>\n",
       "      <td>2024-01-04</td>\n",
       "      <td>6.9028</td>\n",
       "      <td>6.9028</td>\n",
       "      <td>16.1446</td>\n",
       "      <td>13.9903</td>\n",
       "      <td>6.7325</td>\n",
       "      <td>6.9028</td>\n",
       "      <td>0.0000</td>\n",
       "      <td>...</td>\n",
       "      <td>109.9592</td>\n",
       "      <td>0</td>\n",
       "      <td>1.0592</td>\n",
       "      <td>0</td>\n",
       "      <td>0</td>\n",
       "      <td>3.0289</td>\n",
       "      <td>4.0881</td>\n",
       "      <td>0</td>\n",
       "      <td>7.0875</td>\n",
       "      <td>4.8770</td>\n",
       "    </tr>\n",
       "    <tr>\n",
       "      <th>2</th>\n",
       "      <td>B1</td>\n",
       "      <td>192970</td>\n",
       "      <td>2024-01-05</td>\n",
       "      <td>6.2779</td>\n",
       "      <td>6.2779</td>\n",
       "      <td>16.8795</td>\n",
       "      <td>12.3638</td>\n",
       "      <td>6.4151</td>\n",
       "      <td>6.2779</td>\n",
       "      <td>0.0000</td>\n",
       "      <td>...</td>\n",
       "      <td>109.9308</td>\n",
       "      <td>0</td>\n",
       "      <td>1.0322</td>\n",
       "      <td>0</td>\n",
       "      <td>0</td>\n",
       "      <td>3.0409</td>\n",
       "      <td>4.0730</td>\n",
       "      <td>0</td>\n",
       "      <td>6.0859</td>\n",
       "      <td>4.5696</td>\n",
       "    </tr>\n",
       "    <tr>\n",
       "      <th>3</th>\n",
       "      <td>B1</td>\n",
       "      <td>192970</td>\n",
       "      <td>2024-01-06</td>\n",
       "      <td>7.9480</td>\n",
       "      <td>7.9480</td>\n",
       "      <td>17.3240</td>\n",
       "      <td>15.2663</td>\n",
       "      <td>7.8450</td>\n",
       "      <td>7.9480</td>\n",
       "      <td>0.0000</td>\n",
       "      <td>...</td>\n",
       "      <td>110.3116</td>\n",
       "      <td>0</td>\n",
       "      <td>2.0806</td>\n",
       "      <td>0</td>\n",
       "      <td>0</td>\n",
       "      <td>4.0214</td>\n",
       "      <td>6.1020</td>\n",
       "      <td>0</td>\n",
       "      <td>7.3183</td>\n",
       "      <td>4.2016</td>\n",
       "    </tr>\n",
       "    <tr>\n",
       "      <th>4</th>\n",
       "      <td>B1</td>\n",
       "      <td>192970</td>\n",
       "      <td>2024-01-07</td>\n",
       "      <td>4.5498</td>\n",
       "      <td>4.5498</td>\n",
       "      <td>14.5250</td>\n",
       "      <td>10.3543</td>\n",
       "      <td>4.2588</td>\n",
       "      <td>4.5498</td>\n",
       "      <td>0.3549</td>\n",
       "      <td>...</td>\n",
       "      <td>109.7947</td>\n",
       "      <td>0</td>\n",
       "      <td>0.7333</td>\n",
       "      <td>0</td>\n",
       "      <td>0</td>\n",
       "      <td>1.8965</td>\n",
       "      <td>2.6298</td>\n",
       "      <td>0</td>\n",
       "      <td>5.8045</td>\n",
       "      <td>6.9136</td>\n",
       "    </tr>\n",
       "    <tr>\n",
       "      <th>5</th>\n",
       "      <td>B1</td>\n",
       "      <td>192970</td>\n",
       "      <td>2024-01-08</td>\n",
       "      <td>11.7513</td>\n",
       "      <td>11.7513</td>\n",
       "      <td>19.5315</td>\n",
       "      <td>17.9165</td>\n",
       "      <td>10.6915</td>\n",
       "      <td>11.7513</td>\n",
       "      <td>0.7098</td>\n",
       "      <td>...</td>\n",
       "      <td>101.5342</td>\n",
       "      <td>0</td>\n",
       "      <td>1.3445</td>\n",
       "      <td>0</td>\n",
       "      <td>0</td>\n",
       "      <td>2.2614</td>\n",
       "      <td>3.6059</td>\n",
       "      <td>0</td>\n",
       "      <td>6.1652</td>\n",
       "      <td>1.9749</td>\n",
       "    </tr>\n",
       "    <tr>\n",
       "      <th>6</th>\n",
       "      <td>B1</td>\n",
       "      <td>192970</td>\n",
       "      <td>2024-01-09</td>\n",
       "      <td>11.7991</td>\n",
       "      <td>11.7991</td>\n",
       "      <td>18.4374</td>\n",
       "      <td>15.7430</td>\n",
       "      <td>11.3895</td>\n",
       "      <td>11.7991</td>\n",
       "      <td>0.3564</td>\n",
       "      <td>...</td>\n",
       "      <td>98.7199</td>\n",
       "      <td>0</td>\n",
       "      <td>0.9198</td>\n",
       "      <td>0</td>\n",
       "      <td>0</td>\n",
       "      <td>1.4145</td>\n",
       "      <td>2.3343</td>\n",
       "      <td>0</td>\n",
       "      <td>3.9439</td>\n",
       "      <td>3.0861</td>\n",
       "    </tr>\n",
       "    <tr>\n",
       "      <th>7</th>\n",
       "      <td>B1</td>\n",
       "      <td>192970</td>\n",
       "      <td>2024-01-10</td>\n",
       "      <td>11.0273</td>\n",
       "      <td>11.0273</td>\n",
       "      <td>18.1368</td>\n",
       "      <td>15.6171</td>\n",
       "      <td>10.9916</td>\n",
       "      <td>11.0273</td>\n",
       "      <td>0.0000</td>\n",
       "      <td>...</td>\n",
       "      <td>98.2733</td>\n",
       "      <td>0</td>\n",
       "      <td>1.1014</td>\n",
       "      <td>0</td>\n",
       "      <td>0</td>\n",
       "      <td>1.7418</td>\n",
       "      <td>2.8432</td>\n",
       "      <td>0</td>\n",
       "      <td>4.5898</td>\n",
       "      <td>3.2898</td>\n",
       "    </tr>\n",
       "    <tr>\n",
       "      <th>8</th>\n",
       "      <td>B1</td>\n",
       "      <td>192970</td>\n",
       "      <td>2024-01-11</td>\n",
       "      <td>3.1466</td>\n",
       "      <td>3.1466</td>\n",
       "      <td>6.7617</td>\n",
       "      <td>5.7997</td>\n",
       "      <td>2.1306</td>\n",
       "      <td>3.1466</td>\n",
       "      <td>1.0659</td>\n",
       "      <td>...</td>\n",
       "      <td>36.4425</td>\n",
       "      <td>0</td>\n",
       "      <td>0.5601</td>\n",
       "      <td>0</td>\n",
       "      <td>0</td>\n",
       "      <td>1.1267</td>\n",
       "      <td>1.6868</td>\n",
       "      <td>0</td>\n",
       "      <td>2.6531</td>\n",
       "      <td>1.1851</td>\n",
       "    </tr>\n",
       "    <tr>\n",
       "      <th>9</th>\n",
       "      <td>B1</td>\n",
       "      <td>193112</td>\n",
       "      <td>2024-01-01</td>\n",
       "      <td>14.5165</td>\n",
       "      <td>14.5165</td>\n",
       "      <td>20.3353</td>\n",
       "      <td>19.5466</td>\n",
       "      <td>12.9457</td>\n",
       "      <td>14.5165</td>\n",
       "      <td>0.0000</td>\n",
       "      <td>...</td>\n",
       "      <td>111.9245</td>\n",
       "      <td>0</td>\n",
       "      <td>1.4490</td>\n",
       "      <td>0</td>\n",
       "      <td>0</td>\n",
       "      <td>0.7372</td>\n",
       "      <td>2.1862</td>\n",
       "      <td>0</td>\n",
       "      <td>5.0300</td>\n",
       "      <td>1.5552</td>\n",
       "    </tr>\n",
       "    <tr>\n",
       "      <th>10</th>\n",
       "      <td>B1</td>\n",
       "      <td>193112</td>\n",
       "      <td>2024-01-02</td>\n",
       "      <td>14.8343</td>\n",
       "      <td>14.8343</td>\n",
       "      <td>20.6406</td>\n",
       "      <td>19.7696</td>\n",
       "      <td>14.2299</td>\n",
       "      <td>14.8343</td>\n",
       "      <td>0.0000</td>\n",
       "      <td>...</td>\n",
       "      <td>111.7178</td>\n",
       "      <td>0</td>\n",
       "      <td>1.1143</td>\n",
       "      <td>0</td>\n",
       "      <td>0</td>\n",
       "      <td>0.4727</td>\n",
       "      <td>1.5870</td>\n",
       "      <td>0</td>\n",
       "      <td>4.9353</td>\n",
       "      <td>1.2168</td>\n",
       "    </tr>\n",
       "    <tr>\n",
       "      <th>11</th>\n",
       "      <td>B1</td>\n",
       "      <td>193112</td>\n",
       "      <td>2024-01-03</td>\n",
       "      <td>0.7067</td>\n",
       "      <td>0.7067</td>\n",
       "      <td>0.8504</td>\n",
       "      <td>0.9462</td>\n",
       "      <td>0.0000</td>\n",
       "      <td>0.7067</td>\n",
       "      <td>0.0000</td>\n",
       "      <td>...</td>\n",
       "      <td>5.0350</td>\n",
       "      <td>0</td>\n",
       "      <td>0.0289</td>\n",
       "      <td>0</td>\n",
       "      <td>0</td>\n",
       "      <td>0.0495</td>\n",
       "      <td>0.0784</td>\n",
       "      <td>0</td>\n",
       "      <td>0.2395</td>\n",
       "      <td>0.1345</td>\n",
       "    </tr>\n",
       "    <tr>\n",
       "      <th>12</th>\n",
       "      <td>B1</td>\n",
       "      <td>193164</td>\n",
       "      <td>2024-01-11</td>\n",
       "      <td>3.4612</td>\n",
       "      <td>3.4612</td>\n",
       "      <td>7.3959</td>\n",
       "      <td>6.7018</td>\n",
       "      <td>3.1973</td>\n",
       "      <td>3.4612</td>\n",
       "      <td>0.0000</td>\n",
       "      <td>...</td>\n",
       "      <td>46.8264</td>\n",
       "      <td>0</td>\n",
       "      <td>0.5137</td>\n",
       "      <td>0</td>\n",
       "      <td>0</td>\n",
       "      <td>1.3569</td>\n",
       "      <td>1.8706</td>\n",
       "      <td>0</td>\n",
       "      <td>3.2406</td>\n",
       "      <td>5.0985</td>\n",
       "    </tr>\n",
       "    <tr>\n",
       "      <th>13</th>\n",
       "      <td>B1</td>\n",
       "      <td>193164</td>\n",
       "      <td>2024-01-12</td>\n",
       "      <td>12.5454</td>\n",
       "      <td>12.5454</td>\n",
       "      <td>18.4572</td>\n",
       "      <td>16.4558</td>\n",
       "      <td>11.7233</td>\n",
       "      <td>12.5454</td>\n",
       "      <td>0.7105</td>\n",
       "      <td>...</td>\n",
       "      <td>68.3458</td>\n",
       "      <td>0</td>\n",
       "      <td>0.7547</td>\n",
       "      <td>0</td>\n",
       "      <td>0</td>\n",
       "      <td>1.7459</td>\n",
       "      <td>2.5007</td>\n",
       "      <td>0</td>\n",
       "      <td>3.9104</td>\n",
       "      <td>1.5876</td>\n",
       "    </tr>\n",
       "    <tr>\n",
       "      <th>14</th>\n",
       "      <td>B1</td>\n",
       "      <td>193164</td>\n",
       "      <td>2024-01-13</td>\n",
       "      <td>10.7895</td>\n",
       "      <td>10.7895</td>\n",
       "      <td>15.5705</td>\n",
       "      <td>14.5391</td>\n",
       "      <td>9.5820</td>\n",
       "      <td>10.7895</td>\n",
       "      <td>1.0696</td>\n",
       "      <td>...</td>\n",
       "      <td>68.7752</td>\n",
       "      <td>0</td>\n",
       "      <td>0.7693</td>\n",
       "      <td>0</td>\n",
       "      <td>0</td>\n",
       "      <td>1.9630</td>\n",
       "      <td>2.7323</td>\n",
       "      <td>0</td>\n",
       "      <td>3.7496</td>\n",
       "      <td>4.7164</td>\n",
       "    </tr>\n",
       "    <tr>\n",
       "      <th>15</th>\n",
       "      <td>B1</td>\n",
       "      <td>193164</td>\n",
       "      <td>2024-01-14</td>\n",
       "      <td>13.3980</td>\n",
       "      <td>13.3980</td>\n",
       "      <td>18.5158</td>\n",
       "      <td>17.5942</td>\n",
       "      <td>11.3574</td>\n",
       "      <td>13.3980</td>\n",
       "      <td>1.7814</td>\n",
       "      <td>...</td>\n",
       "      <td>69.5456</td>\n",
       "      <td>0</td>\n",
       "      <td>1.4083</td>\n",
       "      <td>0</td>\n",
       "      <td>0</td>\n",
       "      <td>1.8235</td>\n",
       "      <td>3.2318</td>\n",
       "      <td>0</td>\n",
       "      <td>4.1962</td>\n",
       "      <td>1.6048</td>\n",
       "    </tr>\n",
       "    <tr>\n",
       "      <th>16</th>\n",
       "      <td>B1</td>\n",
       "      <td>193164</td>\n",
       "      <td>2024-01-15</td>\n",
       "      <td>12.6431</td>\n",
       "      <td>12.6431</td>\n",
       "      <td>18.2183</td>\n",
       "      <td>17.3540</td>\n",
       "      <td>12.2204</td>\n",
       "      <td>12.6431</td>\n",
       "      <td>0.0000</td>\n",
       "      <td>...</td>\n",
       "      <td>73.4785</td>\n",
       "      <td>0</td>\n",
       "      <td>1.6720</td>\n",
       "      <td>0</td>\n",
       "      <td>0</td>\n",
       "      <td>1.6916</td>\n",
       "      <td>3.3636</td>\n",
       "      <td>0</td>\n",
       "      <td>4.7108</td>\n",
       "      <td>2.0424</td>\n",
       "    </tr>\n",
       "    <tr>\n",
       "      <th>17</th>\n",
       "      <td>B1</td>\n",
       "      <td>193164</td>\n",
       "      <td>2024-01-16</td>\n",
       "      <td>13.3544</td>\n",
       "      <td>13.3544</td>\n",
       "      <td>18.8488</td>\n",
       "      <td>17.7521</td>\n",
       "      <td>11.2074</td>\n",
       "      <td>13.3544</td>\n",
       "      <td>2.5341</td>\n",
       "      <td>...</td>\n",
       "      <td>73.1523</td>\n",
       "      <td>0</td>\n",
       "      <td>1.8544</td>\n",
       "      <td>0</td>\n",
       "      <td>0</td>\n",
       "      <td>1.6863</td>\n",
       "      <td>3.5407</td>\n",
       "      <td>0</td>\n",
       "      <td>4.3977</td>\n",
       "      <td>1.5542</td>\n",
       "    </tr>\n",
       "    <tr>\n",
       "      <th>18</th>\n",
       "      <td>B1</td>\n",
       "      <td>193164</td>\n",
       "      <td>2024-01-17</td>\n",
       "      <td>15.0068</td>\n",
       "      <td>15.0068</td>\n",
       "      <td>19.5092</td>\n",
       "      <td>7.9555</td>\n",
       "      <td>14.8156</td>\n",
       "      <td>15.0068</td>\n",
       "      <td>0.0000</td>\n",
       "      <td>...</td>\n",
       "      <td>73.7050</td>\n",
       "      <td>0</td>\n",
       "      <td>1.7356</td>\n",
       "      <td>0</td>\n",
       "      <td>0</td>\n",
       "      <td>0.4675</td>\n",
       "      <td>2.2031</td>\n",
       "      <td>0</td>\n",
       "      <td>-7.0513</td>\n",
       "      <td>0.8904</td>\n",
       "    </tr>\n",
       "    <tr>\n",
       "      <th>19</th>\n",
       "      <td>B1</td>\n",
       "      <td>193164</td>\n",
       "      <td>2024-01-18</td>\n",
       "      <td>15.0169</td>\n",
       "      <td>15.0169</td>\n",
       "      <td>19.1175</td>\n",
       "      <td>3.6045</td>\n",
       "      <td>14.1342</td>\n",
       "      <td>15.0169</td>\n",
       "      <td>0.3604</td>\n",
       "      <td>...</td>\n",
       "      <td>73.8308</td>\n",
       "      <td>0</td>\n",
       "      <td>1.2858</td>\n",
       "      <td>0</td>\n",
       "      <td>0</td>\n",
       "      <td>0.1548</td>\n",
       "      <td>1.4406</td>\n",
       "      <td>0</td>\n",
       "      <td>-11.4124</td>\n",
       "      <td>1.3118</td>\n",
       "    </tr>\n",
       "    <tr>\n",
       "      <th>20</th>\n",
       "      <td>B1</td>\n",
       "      <td>193164</td>\n",
       "      <td>2024-01-19</td>\n",
       "      <td>12.0574</td>\n",
       "      <td>12.0574</td>\n",
       "      <td>17.4100</td>\n",
       "      <td>15.5315</td>\n",
       "      <td>11.2283</td>\n",
       "      <td>12.0574</td>\n",
       "      <td>0.7322</td>\n",
       "      <td>...</td>\n",
       "      <td>73.9795</td>\n",
       "      <td>0</td>\n",
       "      <td>1.5908</td>\n",
       "      <td>0</td>\n",
       "      <td>0</td>\n",
       "      <td>0.9304</td>\n",
       "      <td>2.5212</td>\n",
       "      <td>0</td>\n",
       "      <td>3.4741</td>\n",
       "      <td>3.0544</td>\n",
       "    </tr>\n",
       "    <tr>\n",
       "      <th>21</th>\n",
       "      <td>B1</td>\n",
       "      <td>193164</td>\n",
       "      <td>2024-01-20</td>\n",
       "      <td>13.3491</td>\n",
       "      <td>13.3491</td>\n",
       "      <td>19.0989</td>\n",
       "      <td>17.5048</td>\n",
       "      <td>12.3188</td>\n",
       "      <td>13.3491</td>\n",
       "      <td>1.3685</td>\n",
       "      <td>...</td>\n",
       "      <td>73.5466</td>\n",
       "      <td>0</td>\n",
       "      <td>1.4834</td>\n",
       "      <td>0</td>\n",
       "      <td>0</td>\n",
       "      <td>1.2765</td>\n",
       "      <td>2.7599</td>\n",
       "      <td>0</td>\n",
       "      <td>4.1556</td>\n",
       "      <td>1.2539</td>\n",
       "    </tr>\n",
       "    <tr>\n",
       "      <th>22</th>\n",
       "      <td>B1</td>\n",
       "      <td>193164</td>\n",
       "      <td>2024-01-21</td>\n",
       "      <td>14.8158</td>\n",
       "      <td>14.8158</td>\n",
       "      <td>19.1612</td>\n",
       "      <td>18.5548</td>\n",
       "      <td>6.5150</td>\n",
       "      <td>14.8158</td>\n",
       "      <td>0.0000</td>\n",
       "      <td>...</td>\n",
       "      <td>73.7684</td>\n",
       "      <td>0</td>\n",
       "      <td>1.5543</td>\n",
       "      <td>0</td>\n",
       "      <td>0</td>\n",
       "      <td>1.1374</td>\n",
       "      <td>2.6917</td>\n",
       "      <td>0</td>\n",
       "      <td>3.7390</td>\n",
       "      <td>1.2604</td>\n",
       "    </tr>\n",
       "    <tr>\n",
       "      <th>23</th>\n",
       "      <td>B1</td>\n",
       "      <td>193164</td>\n",
       "      <td>2024-01-22</td>\n",
       "      <td>13.0427</td>\n",
       "      <td>13.0427</td>\n",
       "      <td>18.8733</td>\n",
       "      <td>15.9669</td>\n",
       "      <td>0.0000</td>\n",
       "      <td>13.0427</td>\n",
       "      <td>0.0000</td>\n",
       "      <td>...</td>\n",
       "      <td>73.8651</td>\n",
       "      <td>0</td>\n",
       "      <td>2.1079</td>\n",
       "      <td>0</td>\n",
       "      <td>0</td>\n",
       "      <td>1.4817</td>\n",
       "      <td>3.5895</td>\n",
       "      <td>0</td>\n",
       "      <td>2.9242</td>\n",
       "      <td>1.5733</td>\n",
       "    </tr>\n",
       "    <tr>\n",
       "      <th>24</th>\n",
       "      <td>B1</td>\n",
       "      <td>193164</td>\n",
       "      <td>2024-01-23</td>\n",
       "      <td>1.6585</td>\n",
       "      <td>1.6585</td>\n",
       "      <td>1.7541</td>\n",
       "      <td>2.1888</td>\n",
       "      <td>0.0000</td>\n",
       "      <td>1.6585</td>\n",
       "      <td>0.0000</td>\n",
       "      <td>...</td>\n",
       "      <td>21.2425</td>\n",
       "      <td>0</td>\n",
       "      <td>0.1373</td>\n",
       "      <td>0</td>\n",
       "      <td>0</td>\n",
       "      <td>0.1379</td>\n",
       "      <td>0.2752</td>\n",
       "      <td>0</td>\n",
       "      <td>0.5303</td>\n",
       "      <td>3.5636</td>\n",
       "    </tr>\n",
       "    <tr>\n",
       "      <th>25</th>\n",
       "      <td>B1</td>\n",
       "      <td>193164</td>\n",
       "      <td>2024-01-24</td>\n",
       "      <td>0.0000</td>\n",
       "      <td>0.0000</td>\n",
       "      <td>0.0000</td>\n",
       "      <td>0.0000</td>\n",
       "      <td>0.0000</td>\n",
       "      <td>0.0000</td>\n",
       "      <td>0.0000</td>\n",
       "      <td>...</td>\n",
       "      <td>113.5294</td>\n",
       "      <td>0</td>\n",
       "      <td>0.0000</td>\n",
       "      <td>0</td>\n",
       "      <td>0</td>\n",
       "      <td>0.0000</td>\n",
       "      <td>0.0000</td>\n",
       "      <td>0</td>\n",
       "      <td>0.0000</td>\n",
       "      <td>0.0000</td>\n",
       "    </tr>\n",
       "    <tr>\n",
       "      <th>26</th>\n",
       "      <td>B1</td>\n",
       "      <td>193206</td>\n",
       "      <td>2024-01-24</td>\n",
       "      <td>0.0000</td>\n",
       "      <td>0.0000</td>\n",
       "      <td>0.0000</td>\n",
       "      <td>0.0000</td>\n",
       "      <td>0.0000</td>\n",
       "      <td>0.0000</td>\n",
       "      <td>0.0000</td>\n",
       "      <td>...</td>\n",
       "      <td>13.4277</td>\n",
       "      <td>0</td>\n",
       "      <td>0.0000</td>\n",
       "      <td>0</td>\n",
       "      <td>0</td>\n",
       "      <td>0.0000</td>\n",
       "      <td>0.0000</td>\n",
       "      <td>0</td>\n",
       "      <td>0.0000</td>\n",
       "      <td>3.0128</td>\n",
       "    </tr>\n",
       "    <tr>\n",
       "      <th>27</th>\n",
       "      <td>B1</td>\n",
       "      <td>193206</td>\n",
       "      <td>2024-01-25</td>\n",
       "      <td>4.1109</td>\n",
       "      <td>4.1109</td>\n",
       "      <td>13.6606</td>\n",
       "      <td>10.2282</td>\n",
       "      <td>3.4452</td>\n",
       "      <td>4.1109</td>\n",
       "      <td>0.0000</td>\n",
       "      <td>...</td>\n",
       "      <td>127.0733</td>\n",
       "      <td>0</td>\n",
       "      <td>1.7395</td>\n",
       "      <td>0</td>\n",
       "      <td>0</td>\n",
       "      <td>2.8444</td>\n",
       "      <td>4.5839</td>\n",
       "      <td>0</td>\n",
       "      <td>6.1173</td>\n",
       "      <td>8.7453</td>\n",
       "    </tr>\n",
       "    <tr>\n",
       "      <th>28</th>\n",
       "      <td>B1</td>\n",
       "      <td>193206</td>\n",
       "      <td>2024-01-26</td>\n",
       "      <td>11.5933</td>\n",
       "      <td>11.5933</td>\n",
       "      <td>19.0055</td>\n",
       "      <td>16.3615</td>\n",
       "      <td>11.3227</td>\n",
       "      <td>11.5933</td>\n",
       "      <td>0.0000</td>\n",
       "      <td>...</td>\n",
       "      <td>124.3124</td>\n",
       "      <td>0</td>\n",
       "      <td>1.2547</td>\n",
       "      <td>0</td>\n",
       "      <td>0</td>\n",
       "      <td>2.2356</td>\n",
       "      <td>3.4903</td>\n",
       "      <td>0</td>\n",
       "      <td>4.7682</td>\n",
       "      <td>2.2204</td>\n",
       "    </tr>\n",
       "    <tr>\n",
       "      <th>29</th>\n",
       "      <td>B1</td>\n",
       "      <td>193206</td>\n",
       "      <td>2024-01-27</td>\n",
       "      <td>11.4307</td>\n",
       "      <td>11.4307</td>\n",
       "      <td>19.9182</td>\n",
       "      <td>17.6900</td>\n",
       "      <td>11.2932</td>\n",
       "      <td>11.4307</td>\n",
       "      <td>0.0000</td>\n",
       "      <td>...</td>\n",
       "      <td>128.7214</td>\n",
       "      <td>0</td>\n",
       "      <td>1.2584</td>\n",
       "      <td>0</td>\n",
       "      <td>0</td>\n",
       "      <td>3.0434</td>\n",
       "      <td>4.3018</td>\n",
       "      <td>0</td>\n",
       "      <td>6.2592</td>\n",
       "      <td>2.1641</td>\n",
       "    </tr>\n",
       "    <tr>\n",
       "      <th>30</th>\n",
       "      <td>B1</td>\n",
       "      <td>193206</td>\n",
       "      <td>2024-01-28</td>\n",
       "      <td>3.5475</td>\n",
       "      <td>3.5475</td>\n",
       "      <td>6.7768</td>\n",
       "      <td>6.1628</td>\n",
       "      <td>2.4694</td>\n",
       "      <td>3.5475</td>\n",
       "      <td>0.9871</td>\n",
       "      <td>...</td>\n",
       "      <td>51.5069</td>\n",
       "      <td>0</td>\n",
       "      <td>0.7074</td>\n",
       "      <td>0</td>\n",
       "      <td>0</td>\n",
       "      <td>1.4087</td>\n",
       "      <td>2.1161</td>\n",
       "      <td>0</td>\n",
       "      <td>2.6153</td>\n",
       "      <td>1.8214</td>\n",
       "    </tr>\n",
       "    <tr>\n",
       "      <th>31</th>\n",
       "      <td>B1</td>\n",
       "      <td>193207</td>\n",
       "      <td>2024-01-28</td>\n",
       "      <td>1.2759</td>\n",
       "      <td>1.2759</td>\n",
       "      <td>6.2237</td>\n",
       "      <td>4.9184</td>\n",
       "      <td>0.9795</td>\n",
       "      <td>1.2759</td>\n",
       "      <td>0.0000</td>\n",
       "      <td>...</td>\n",
       "      <td>64.5593</td>\n",
       "      <td>0</td>\n",
       "      <td>0.1815</td>\n",
       "      <td>0</td>\n",
       "      <td>0</td>\n",
       "      <td>1.6881</td>\n",
       "      <td>1.8696</td>\n",
       "      <td>0</td>\n",
       "      <td>3.6425</td>\n",
       "      <td>2.5993</td>\n",
       "    </tr>\n",
       "    <tr>\n",
       "      <th>32</th>\n",
       "      <td>B1</td>\n",
       "      <td>193207</td>\n",
       "      <td>2024-01-29</td>\n",
       "      <td>4.1009</td>\n",
       "      <td>4.1009</td>\n",
       "      <td>9.6603</td>\n",
       "      <td>8.2107</td>\n",
       "      <td>3.9156</td>\n",
       "      <td>4.1009</td>\n",
       "      <td>0.0000</td>\n",
       "      <td>...</td>\n",
       "      <td>113.1486</td>\n",
       "      <td>0</td>\n",
       "      <td>0.4655</td>\n",
       "      <td>0</td>\n",
       "      <td>0</td>\n",
       "      <td>0.9177</td>\n",
       "      <td>1.3833</td>\n",
       "      <td>0</td>\n",
       "      <td>4.1097</td>\n",
       "      <td>5.0805</td>\n",
       "    </tr>\n",
       "    <tr>\n",
       "      <th>33</th>\n",
       "      <td>B1</td>\n",
       "      <td>193207</td>\n",
       "      <td>2024-01-30</td>\n",
       "      <td>5.4854</td>\n",
       "      <td>5.4854</td>\n",
       "      <td>10.6626</td>\n",
       "      <td>9.8275</td>\n",
       "      <td>5.3929</td>\n",
       "      <td>5.4854</td>\n",
       "      <td>0.0000</td>\n",
       "      <td>...</td>\n",
       "      <td>113.0466</td>\n",
       "      <td>0</td>\n",
       "      <td>0.4929</td>\n",
       "      <td>0</td>\n",
       "      <td>0</td>\n",
       "      <td>1.2255</td>\n",
       "      <td>1.7184</td>\n",
       "      <td>0</td>\n",
       "      <td>4.3421</td>\n",
       "      <td>4.0224</td>\n",
       "    </tr>\n",
       "    <tr>\n",
       "      <th>34</th>\n",
       "      <td>B1</td>\n",
       "      <td>193207</td>\n",
       "      <td>2024-01-31</td>\n",
       "      <td>6.8520</td>\n",
       "      <td>6.8520</td>\n",
       "      <td>13.1953</td>\n",
       "      <td>11.9468</td>\n",
       "      <td>5.4312</td>\n",
       "      <td>6.8520</td>\n",
       "      <td>1.4912</td>\n",
       "      <td>...</td>\n",
       "      <td>114.3739</td>\n",
       "      <td>0</td>\n",
       "      <td>0.5268</td>\n",
       "      <td>0</td>\n",
       "      <td>0</td>\n",
       "      <td>1.2663</td>\n",
       "      <td>1.7931</td>\n",
       "      <td>0</td>\n",
       "      <td>5.0948</td>\n",
       "      <td>1.6558</td>\n",
       "    </tr>\n",
       "  </tbody>\n",
       "</table>\n",
       "<p>35 rows × 25 columns</p>\n",
       "</div>"
      ],
      "text/plain": [
       "   Maquina   Ordem       Data  Empac.-reescol.  Empacotado  Entra. do recozi.  \\\n",
       "0       B1  192970 2024-01-03           1.6948      1.6948            12.2051   \n",
       "1       B1  192970 2024-01-04           6.9028      6.9028            16.1446   \n",
       "2       B1  192970 2024-01-05           6.2779      6.2779            16.8795   \n",
       "3       B1  192970 2024-01-06           7.9480      7.9480            17.3240   \n",
       "4       B1  192970 2024-01-07           4.5498      4.5498            14.5250   \n",
       "5       B1  192970 2024-01-08          11.7513     11.7513            19.5315   \n",
       "6       B1  192970 2024-01-09          11.7991     11.7991            18.4374   \n",
       "7       B1  192970 2024-01-10          11.0273     11.0273            18.1368   \n",
       "8       B1  192970 2024-01-11           3.1466      3.1466             6.7617   \n",
       "9       B1  193112 2024-01-01          14.5165     14.5165            20.3353   \n",
       "10      B1  193112 2024-01-02          14.8343     14.8343            20.6406   \n",
       "11      B1  193112 2024-01-03           0.7067      0.7067             0.8504   \n",
       "12      B1  193164 2024-01-11           3.4612      3.4612             7.3959   \n",
       "13      B1  193164 2024-01-12          12.5454     12.5454            18.4572   \n",
       "14      B1  193164 2024-01-13          10.7895     10.7895            15.5705   \n",
       "15      B1  193164 2024-01-14          13.3980     13.3980            18.5158   \n",
       "16      B1  193164 2024-01-15          12.6431     12.6431            18.2183   \n",
       "17      B1  193164 2024-01-16          13.3544     13.3544            18.8488   \n",
       "18      B1  193164 2024-01-17          15.0068     15.0068            19.5092   \n",
       "19      B1  193164 2024-01-18          15.0169     15.0169            19.1175   \n",
       "20      B1  193164 2024-01-19          12.0574     12.0574            17.4100   \n",
       "21      B1  193164 2024-01-20          13.3491     13.3491            19.0989   \n",
       "22      B1  193164 2024-01-21          14.8158     14.8158            19.1612   \n",
       "23      B1  193164 2024-01-22          13.0427     13.0427            18.8733   \n",
       "24      B1  193164 2024-01-23           1.6585      1.6585             1.7541   \n",
       "25      B1  193164 2024-01-24           0.0000      0.0000             0.0000   \n",
       "26      B1  193206 2024-01-24           0.0000      0.0000             0.0000   \n",
       "27      B1  193206 2024-01-25           4.1109      4.1109            13.6606   \n",
       "28      B1  193206 2024-01-26          11.5933     11.5933            19.0055   \n",
       "29      B1  193206 2024-01-27          11.4307     11.4307            19.9182   \n",
       "30      B1  193206 2024-01-28           3.5475      3.5475             6.7768   \n",
       "31      B1  193207 2024-01-28           1.2759      1.2759             6.2237   \n",
       "32      B1  193207 2024-01-29           4.1009      4.1009             9.6603   \n",
       "33      B1  193207 2024-01-30           5.4854      5.4854            10.6626   \n",
       "34      B1  193207 2024-01-31           6.8520      6.8520            13.1953   \n",
       "\n",
       "    Entrada AF  Frascos aprovados  Frascos produzidos  Frascos reprovados  \\\n",
       "0       8.5257             1.0671              1.6948              0.3564   \n",
       "1      13.9903             6.7325              6.9028              0.0000   \n",
       "2      12.3638             6.4151              6.2779              0.0000   \n",
       "3      15.2663             7.8450              7.9480              0.0000   \n",
       "4      10.3543             4.2588              4.5498              0.3549   \n",
       "5      17.9165            10.6915             11.7513              0.7098   \n",
       "6      15.7430            11.3895             11.7991              0.3564   \n",
       "7      15.6171            10.9916             11.0273              0.0000   \n",
       "8       5.7997             2.1306              3.1466              1.0659   \n",
       "9      19.5466            12.9457             14.5165              0.0000   \n",
       "10     19.7696            14.2299             14.8343              0.0000   \n",
       "11      0.9462             0.0000              0.7067              0.0000   \n",
       "12      6.7018             3.1973              3.4612              0.0000   \n",
       "13     16.4558            11.7233             12.5454              0.7105   \n",
       "14     14.5391             9.5820             10.7895              1.0696   \n",
       "15     17.5942            11.3574             13.3980              1.7814   \n",
       "16     17.3540            12.2204             12.6431              0.0000   \n",
       "17     17.7521            11.2074             13.3544              2.5341   \n",
       "18      7.9555            14.8156             15.0068              0.0000   \n",
       "19      3.6045            14.1342             15.0169              0.3604   \n",
       "20     15.5315            11.2283             12.0574              0.7322   \n",
       "21     17.5048            12.3188             13.3491              1.3685   \n",
       "22     18.5548             6.5150             14.8158              0.0000   \n",
       "23     15.9669             0.0000             13.0427              0.0000   \n",
       "24      2.1888             0.0000              1.6585              0.0000   \n",
       "25      0.0000             0.0000              0.0000              0.0000   \n",
       "26      0.0000             0.0000              0.0000              0.0000   \n",
       "27     10.2282             3.4452              4.1109              0.0000   \n",
       "28     16.3615            11.3227             11.5933              0.0000   \n",
       "29     17.6900            11.2932             11.4307              0.0000   \n",
       "30      6.1628             2.4694              3.5475              0.9871   \n",
       "31      4.9184             0.9795              1.2759              0.0000   \n",
       "32      8.2107             3.9156              4.1009              0.0000   \n",
       "33      9.8275             5.3929              5.4854              0.0000   \n",
       "34     11.9468             5.4312              6.8520              1.4912   \n",
       "\n",
       "    ...   Recozi.  Reescolhido  Rej. Argos  Rej. aut.  Rej. Emhart  \\\n",
       "0   ...  111.5911            0      1.6118          0            0   \n",
       "1   ...  109.9592            0      1.0592          0            0   \n",
       "2   ...  109.9308            0      1.0322          0            0   \n",
       "3   ...  110.3116            0      2.0806          0            0   \n",
       "4   ...  109.7947            0      0.7333          0            0   \n",
       "5   ...  101.5342            0      1.3445          0            0   \n",
       "6   ...   98.7199            0      0.9198          0            0   \n",
       "7   ...   98.2733            0      1.1014          0            0   \n",
       "8   ...   36.4425            0      0.5601          0            0   \n",
       "9   ...  111.9245            0      1.4490          0            0   \n",
       "10  ...  111.7178            0      1.1143          0            0   \n",
       "11  ...    5.0350            0      0.0289          0            0   \n",
       "12  ...   46.8264            0      0.5137          0            0   \n",
       "13  ...   68.3458            0      0.7547          0            0   \n",
       "14  ...   68.7752            0      0.7693          0            0   \n",
       "15  ...   69.5456            0      1.4083          0            0   \n",
       "16  ...   73.4785            0      1.6720          0            0   \n",
       "17  ...   73.1523            0      1.8544          0            0   \n",
       "18  ...   73.7050            0      1.7356          0            0   \n",
       "19  ...   73.8308            0      1.2858          0            0   \n",
       "20  ...   73.9795            0      1.5908          0            0   \n",
       "21  ...   73.5466            0      1.4834          0            0   \n",
       "22  ...   73.7684            0      1.5543          0            0   \n",
       "23  ...   73.8651            0      2.1079          0            0   \n",
       "24  ...   21.2425            0      0.1373          0            0   \n",
       "25  ...  113.5294            0      0.0000          0            0   \n",
       "26  ...   13.4277            0      0.0000          0            0   \n",
       "27  ...  127.0733            0      1.7395          0            0   \n",
       "28  ...  124.3124            0      1.2547          0            0   \n",
       "29  ...  128.7214            0      1.2584          0            0   \n",
       "30  ...   51.5069            0      0.7074          0            0   \n",
       "31  ...   64.5593            0      0.1815          0            0   \n",
       "32  ...  113.1486            0      0.4655          0            0   \n",
       "33  ...  113.0466            0      0.4929          0            0   \n",
       "34  ...  114.3739            0      0.5268          0            0   \n",
       "\n",
       "    Rej. EVO NEO  Tot. rej. esc. aut.  Total parada seção  Total Rej. AF  \\\n",
       "0         3.1621               4.7740                   0         6.8309   \n",
       "1         3.0289               4.0881                   0         7.0875   \n",
       "2         3.0409               4.0730                   0         6.0859   \n",
       "3         4.0214               6.1020                   0         7.3183   \n",
       "4         1.8965               2.6298                   0         5.8045   \n",
       "5         2.2614               3.6059                   0         6.1652   \n",
       "6         1.4145               2.3343                   0         3.9439   \n",
       "7         1.7418               2.8432                   0         4.5898   \n",
       "8         1.1267               1.6868                   0         2.6531   \n",
       "9         0.7372               2.1862                   0         5.0300   \n",
       "10        0.4727               1.5870                   0         4.9353   \n",
       "11        0.0495               0.0784                   0         0.2395   \n",
       "12        1.3569               1.8706                   0         3.2406   \n",
       "13        1.7459               2.5007                   0         3.9104   \n",
       "14        1.9630               2.7323                   0         3.7496   \n",
       "15        1.8235               3.2318                   0         4.1962   \n",
       "16        1.6916               3.3636                   0         4.7108   \n",
       "17        1.6863               3.5407                   0         4.3977   \n",
       "18        0.4675               2.2031                   0        -7.0513   \n",
       "19        0.1548               1.4406                   0       -11.4124   \n",
       "20        0.9304               2.5212                   0         3.4741   \n",
       "21        1.2765               2.7599                   0         4.1556   \n",
       "22        1.1374               2.6917                   0         3.7390   \n",
       "23        1.4817               3.5895                   0         2.9242   \n",
       "24        0.1379               0.2752                   0         0.5303   \n",
       "25        0.0000               0.0000                   0         0.0000   \n",
       "26        0.0000               0.0000                   0         0.0000   \n",
       "27        2.8444               4.5839                   0         6.1173   \n",
       "28        2.2356               3.4903                   0         4.7682   \n",
       "29        3.0434               4.3018                   0         6.2592   \n",
       "30        1.4087               2.1161                   0         2.6153   \n",
       "31        1.6881               1.8696                   0         3.6425   \n",
       "32        0.9177               1.3833                   0         4.1097   \n",
       "33        1.2255               1.7184                   0         4.3421   \n",
       "34        1.2663               1.7931                   0         5.0948   \n",
       "\n",
       "    Transferência AQ  \n",
       "0             8.7433  \n",
       "1             4.8770  \n",
       "2             4.5696  \n",
       "3             4.2016  \n",
       "4             6.9136  \n",
       "5             1.9749  \n",
       "6             3.0861  \n",
       "7             3.2898  \n",
       "8             1.1851  \n",
       "9             1.5552  \n",
       "10            1.2168  \n",
       "11            0.1345  \n",
       "12            5.0985  \n",
       "13            1.5876  \n",
       "14            4.7164  \n",
       "15            1.6048  \n",
       "16            2.0424  \n",
       "17            1.5542  \n",
       "18            0.8904  \n",
       "19            1.3118  \n",
       "20            3.0544  \n",
       "21            1.2539  \n",
       "22            1.2604  \n",
       "23            1.5733  \n",
       "24            3.5636  \n",
       "25            0.0000  \n",
       "26            3.0128  \n",
       "27            8.7453  \n",
       "28            2.2204  \n",
       "29            2.1641  \n",
       "30            1.8214  \n",
       "31            2.5993  \n",
       "32            5.0805  \n",
       "33            4.0224  \n",
       "34            1.6558  \n",
       "\n",
       "[35 rows x 25 columns]"
      ]
     },
     "execution_count": 238,
     "metadata": {},
     "output_type": "execute_result"
    }
   ],
   "source": [
    "dados_sem_totais = dados_qualidade[dados_qualidade.index.get_level_values(1) != \"Total\"]\n",
    "\n",
    "dados_totais = dados_qualidade[dados_qualidade.index.get_level_values(1) == \"Total\"]\n",
    "\n",
    "dados_formatados = dados_sem_totais.reset_index()\n",
    "dados_totais_reset = dados_totais.reset_index()\n",
    "\n",
    "dados_formatados.rename(columns={'level_0': 'Maquina', 'level_1': 'Ordem', 'level_2': 'Data'}, inplace=True)\n",
    "dados_formatados"
   ]
  },
  {
   "cell_type": "code",
   "execution_count": 234,
   "metadata": {},
   "outputs": [
    {
     "data": {
      "text/plain": [
       "['Entrada AF',\n",
       " 'Frascos aprovados',\n",
       " 'Frascos produzidos',\n",
       " 'Frascos reprovados',\n",
       " 'Gotas cortadas',\n",
       " 'Paletes aprovados',\n",
       " 'Paletes reprovados',\n",
       " 'Perdas AQ',\n",
       " 'Perdas recozi.',\n",
       " 'Recozi.',\n",
       " 'Reescolhido',\n",
       " 'Rej. Argos',\n",
       " 'Rej. aut.',\n",
       " 'Rej. Emhart',\n",
       " 'Rej. EVO NEO',\n",
       " 'Tot. rej. esc. aut.',\n",
       " 'Total parada seção',\n",
       " 'Total Rej. AF',\n",
       " 'Transferência AQ']"
      ]
     },
     "execution_count": 234,
     "metadata": {},
     "output_type": "execute_result"
    }
   ],
   "source": [
    "colunas_qualidade = dados_formatados.columns[3:].tolist()\n",
    "colunas_qualidade"
   ]
  },
  {
   "cell_type": "markdown",
   "metadata": {},
   "source": [
    "### Agrupando multi-index sem linhas de total"
   ]
  },
  {
   "cell_type": "code",
   "execution_count": 239,
   "metadata": {},
   "outputs": [
    {
     "data": {
      "text/html": [
       "<div>\n",
       "<style scoped>\n",
       "    .dataframe tbody tr th:only-of-type {\n",
       "        vertical-align: middle;\n",
       "    }\n",
       "\n",
       "    .dataframe tbody tr th {\n",
       "        vertical-align: top;\n",
       "    }\n",
       "\n",
       "    .dataframe thead th {\n",
       "        text-align: right;\n",
       "    }\n",
       "</style>\n",
       "<table border=\"1\" class=\"dataframe\">\n",
       "  <thead>\n",
       "    <tr style=\"text-align: right;\">\n",
       "      <th></th>\n",
       "      <th></th>\n",
       "      <th></th>\n",
       "      <th>Empac.-reescol.</th>\n",
       "      <th>Empacotado</th>\n",
       "      <th>Entra. do recozi.</th>\n",
       "      <th>Entrada AF</th>\n",
       "      <th>Frascos aprovados</th>\n",
       "      <th>Frascos produzidos</th>\n",
       "      <th>Frascos reprovados</th>\n",
       "      <th>Gotas cortadas</th>\n",
       "      <th>Paletes aprovados</th>\n",
       "      <th>Paletes reprovados</th>\n",
       "      <th>...</th>\n",
       "      <th>Recozi.</th>\n",
       "      <th>Reescolhido</th>\n",
       "      <th>Rej. Argos</th>\n",
       "      <th>Rej. aut.</th>\n",
       "      <th>Rej. Emhart</th>\n",
       "      <th>Rej. EVO NEO</th>\n",
       "      <th>Tot. rej. esc. aut.</th>\n",
       "      <th>Total parada seção</th>\n",
       "      <th>Total Rej. AF</th>\n",
       "      <th>Transferência AQ</th>\n",
       "    </tr>\n",
       "    <tr>\n",
       "      <th>Maquina</th>\n",
       "      <th>Ordem</th>\n",
       "      <th>Data</th>\n",
       "      <th></th>\n",
       "      <th></th>\n",
       "      <th></th>\n",
       "      <th></th>\n",
       "      <th></th>\n",
       "      <th></th>\n",
       "      <th></th>\n",
       "      <th></th>\n",
       "      <th></th>\n",
       "      <th></th>\n",
       "      <th></th>\n",
       "      <th></th>\n",
       "      <th></th>\n",
       "      <th></th>\n",
       "      <th></th>\n",
       "      <th></th>\n",
       "      <th></th>\n",
       "      <th></th>\n",
       "      <th></th>\n",
       "      <th></th>\n",
       "      <th></th>\n",
       "    </tr>\n",
       "  </thead>\n",
       "  <tbody>\n",
       "    <tr>\n",
       "      <th rowspan=\"35\" valign=\"top\">B1</th>\n",
       "      <th rowspan=\"9\" valign=\"top\">192970</th>\n",
       "      <th>2024-01-03</th>\n",
       "      <td>1.6948</td>\n",
       "      <td>1.6948</td>\n",
       "      <td>12.2051</td>\n",
       "      <td>8.5257</td>\n",
       "      <td>1.0671</td>\n",
       "      <td>1.6948</td>\n",
       "      <td>0.3564</td>\n",
       "      <td>20.9484</td>\n",
       "      <td>0.0005</td>\n",
       "      <td>0.0002</td>\n",
       "      <td>...</td>\n",
       "      <td>111.5911</td>\n",
       "      <td>0</td>\n",
       "      <td>1.6118</td>\n",
       "      <td>0</td>\n",
       "      <td>0</td>\n",
       "      <td>3.1621</td>\n",
       "      <td>4.7740</td>\n",
       "      <td>0</td>\n",
       "      <td>6.8309</td>\n",
       "      <td>8.7433</td>\n",
       "    </tr>\n",
       "    <tr>\n",
       "      <th>2024-01-04</th>\n",
       "      <td>6.9028</td>\n",
       "      <td>6.9028</td>\n",
       "      <td>16.1446</td>\n",
       "      <td>13.9903</td>\n",
       "      <td>6.7325</td>\n",
       "      <td>6.9028</td>\n",
       "      <td>0.0000</td>\n",
       "      <td>21.0216</td>\n",
       "      <td>0.0032</td>\n",
       "      <td>0.0000</td>\n",
       "      <td>...</td>\n",
       "      <td>109.9592</td>\n",
       "      <td>0</td>\n",
       "      <td>1.0592</td>\n",
       "      <td>0</td>\n",
       "      <td>0</td>\n",
       "      <td>3.0289</td>\n",
       "      <td>4.0881</td>\n",
       "      <td>0</td>\n",
       "      <td>7.0875</td>\n",
       "      <td>4.8770</td>\n",
       "    </tr>\n",
       "    <tr>\n",
       "      <th>2024-01-05</th>\n",
       "      <td>6.2779</td>\n",
       "      <td>6.2779</td>\n",
       "      <td>16.8795</td>\n",
       "      <td>12.3638</td>\n",
       "      <td>6.4151</td>\n",
       "      <td>6.2779</td>\n",
       "      <td>0.0000</td>\n",
       "      <td>21.4492</td>\n",
       "      <td>0.0030</td>\n",
       "      <td>0.0000</td>\n",
       "      <td>...</td>\n",
       "      <td>109.9308</td>\n",
       "      <td>0</td>\n",
       "      <td>1.0322</td>\n",
       "      <td>0</td>\n",
       "      <td>0</td>\n",
       "      <td>3.0409</td>\n",
       "      <td>4.0730</td>\n",
       "      <td>0</td>\n",
       "      <td>6.0859</td>\n",
       "      <td>4.5696</td>\n",
       "    </tr>\n",
       "    <tr>\n",
       "      <th>2024-01-06</th>\n",
       "      <td>7.9480</td>\n",
       "      <td>7.9480</td>\n",
       "      <td>17.3240</td>\n",
       "      <td>15.2663</td>\n",
       "      <td>7.8450</td>\n",
       "      <td>7.9480</td>\n",
       "      <td>0.0000</td>\n",
       "      <td>21.5256</td>\n",
       "      <td>0.0037</td>\n",
       "      <td>0.0000</td>\n",
       "      <td>...</td>\n",
       "      <td>110.3116</td>\n",
       "      <td>0</td>\n",
       "      <td>2.0806</td>\n",
       "      <td>0</td>\n",
       "      <td>0</td>\n",
       "      <td>4.0214</td>\n",
       "      <td>6.1020</td>\n",
       "      <td>0</td>\n",
       "      <td>7.3183</td>\n",
       "      <td>4.2016</td>\n",
       "    </tr>\n",
       "    <tr>\n",
       "      <th>2024-01-07</th>\n",
       "      <td>4.5498</td>\n",
       "      <td>4.5498</td>\n",
       "      <td>14.5250</td>\n",
       "      <td>10.3543</td>\n",
       "      <td>4.2588</td>\n",
       "      <td>4.5498</td>\n",
       "      <td>0.3549</td>\n",
       "      <td>21.4387</td>\n",
       "      <td>0.0020</td>\n",
       "      <td>0.0002</td>\n",
       "      <td>...</td>\n",
       "      <td>109.7947</td>\n",
       "      <td>0</td>\n",
       "      <td>0.7333</td>\n",
       "      <td>0</td>\n",
       "      <td>0</td>\n",
       "      <td>1.8965</td>\n",
       "      <td>2.6298</td>\n",
       "      <td>0</td>\n",
       "      <td>5.8045</td>\n",
       "      <td>6.9136</td>\n",
       "    </tr>\n",
       "    <tr>\n",
       "      <th>2024-01-08</th>\n",
       "      <td>11.7513</td>\n",
       "      <td>11.7513</td>\n",
       "      <td>19.5315</td>\n",
       "      <td>17.9165</td>\n",
       "      <td>10.6915</td>\n",
       "      <td>11.7513</td>\n",
       "      <td>0.7098</td>\n",
       "      <td>21.5064</td>\n",
       "      <td>0.0051</td>\n",
       "      <td>0.0003</td>\n",
       "      <td>...</td>\n",
       "      <td>101.5342</td>\n",
       "      <td>0</td>\n",
       "      <td>1.3445</td>\n",
       "      <td>0</td>\n",
       "      <td>0</td>\n",
       "      <td>2.2614</td>\n",
       "      <td>3.6059</td>\n",
       "      <td>0</td>\n",
       "      <td>6.1652</td>\n",
       "      <td>1.9749</td>\n",
       "    </tr>\n",
       "    <tr>\n",
       "      <th>2024-01-09</th>\n",
       "      <td>11.7991</td>\n",
       "      <td>11.7991</td>\n",
       "      <td>18.4374</td>\n",
       "      <td>15.7430</td>\n",
       "      <td>11.3895</td>\n",
       "      <td>11.7991</td>\n",
       "      <td>0.3564</td>\n",
       "      <td>21.5235</td>\n",
       "      <td>0.0054</td>\n",
       "      <td>0.0002</td>\n",
       "      <td>...</td>\n",
       "      <td>98.7199</td>\n",
       "      <td>0</td>\n",
       "      <td>0.9198</td>\n",
       "      <td>0</td>\n",
       "      <td>0</td>\n",
       "      <td>1.4145</td>\n",
       "      <td>2.3343</td>\n",
       "      <td>0</td>\n",
       "      <td>3.9439</td>\n",
       "      <td>3.0861</td>\n",
       "    </tr>\n",
       "    <tr>\n",
       "      <th>2024-01-10</th>\n",
       "      <td>11.0273</td>\n",
       "      <td>11.0273</td>\n",
       "      <td>18.1368</td>\n",
       "      <td>15.6171</td>\n",
       "      <td>10.9916</td>\n",
       "      <td>11.0273</td>\n",
       "      <td>0.0000</td>\n",
       "      <td>21.4267</td>\n",
       "      <td>0.0052</td>\n",
       "      <td>0.0000</td>\n",
       "      <td>...</td>\n",
       "      <td>98.2733</td>\n",
       "      <td>0</td>\n",
       "      <td>1.1014</td>\n",
       "      <td>0</td>\n",
       "      <td>0</td>\n",
       "      <td>1.7418</td>\n",
       "      <td>2.8432</td>\n",
       "      <td>0</td>\n",
       "      <td>4.5898</td>\n",
       "      <td>3.2898</td>\n",
       "    </tr>\n",
       "    <tr>\n",
       "      <th>2024-01-11</th>\n",
       "      <td>3.1466</td>\n",
       "      <td>3.1466</td>\n",
       "      <td>6.7617</td>\n",
       "      <td>5.7997</td>\n",
       "      <td>2.1306</td>\n",
       "      <td>3.1466</td>\n",
       "      <td>1.0659</td>\n",
       "      <td>7.9468</td>\n",
       "      <td>0.0010</td>\n",
       "      <td>0.0005</td>\n",
       "      <td>...</td>\n",
       "      <td>36.4425</td>\n",
       "      <td>0</td>\n",
       "      <td>0.5601</td>\n",
       "      <td>0</td>\n",
       "      <td>0</td>\n",
       "      <td>1.1267</td>\n",
       "      <td>1.6868</td>\n",
       "      <td>0</td>\n",
       "      <td>2.6531</td>\n",
       "      <td>1.1851</td>\n",
       "    </tr>\n",
       "    <tr>\n",
       "      <th rowspan=\"3\" valign=\"top\">193112</th>\n",
       "      <th>2024-01-01</th>\n",
       "      <td>14.5165</td>\n",
       "      <td>14.5165</td>\n",
       "      <td>20.3353</td>\n",
       "      <td>19.5466</td>\n",
       "      <td>12.9457</td>\n",
       "      <td>14.5165</td>\n",
       "      <td>0.0000</td>\n",
       "      <td>21.8905</td>\n",
       "      <td>0.0034</td>\n",
       "      <td>0.0000</td>\n",
       "      <td>...</td>\n",
       "      <td>111.9245</td>\n",
       "      <td>0</td>\n",
       "      <td>1.4490</td>\n",
       "      <td>0</td>\n",
       "      <td>0</td>\n",
       "      <td>0.7372</td>\n",
       "      <td>2.1862</td>\n",
       "      <td>0</td>\n",
       "      <td>5.0300</td>\n",
       "      <td>1.5552</td>\n",
       "    </tr>\n",
       "    <tr>\n",
       "      <th>2024-01-02</th>\n",
       "      <td>14.8343</td>\n",
       "      <td>14.8343</td>\n",
       "      <td>20.6406</td>\n",
       "      <td>19.7696</td>\n",
       "      <td>14.2299</td>\n",
       "      <td>14.8343</td>\n",
       "      <td>0.0000</td>\n",
       "      <td>21.8574</td>\n",
       "      <td>0.0037</td>\n",
       "      <td>0.0000</td>\n",
       "      <td>...</td>\n",
       "      <td>111.7178</td>\n",
       "      <td>0</td>\n",
       "      <td>1.1143</td>\n",
       "      <td>0</td>\n",
       "      <td>0</td>\n",
       "      <td>0.4727</td>\n",
       "      <td>1.5870</td>\n",
       "      <td>0</td>\n",
       "      <td>4.9353</td>\n",
       "      <td>1.2168</td>\n",
       "    </tr>\n",
       "    <tr>\n",
       "      <th>2024-01-03</th>\n",
       "      <td>0.7067</td>\n",
       "      <td>0.7067</td>\n",
       "      <td>0.8504</td>\n",
       "      <td>0.9462</td>\n",
       "      <td>0.0000</td>\n",
       "      <td>0.7067</td>\n",
       "      <td>0.0000</td>\n",
       "      <td>0.9849</td>\n",
       "      <td>0.0000</td>\n",
       "      <td>0.0000</td>\n",
       "      <td>...</td>\n",
       "      <td>5.0350</td>\n",
       "      <td>0</td>\n",
       "      <td>0.0289</td>\n",
       "      <td>0</td>\n",
       "      <td>0</td>\n",
       "      <td>0.0495</td>\n",
       "      <td>0.0784</td>\n",
       "      <td>0</td>\n",
       "      <td>0.2395</td>\n",
       "      <td>0.1345</td>\n",
       "    </tr>\n",
       "    <tr>\n",
       "      <th rowspan=\"14\" valign=\"top\">193164</th>\n",
       "      <th>2024-01-11</th>\n",
       "      <td>3.4612</td>\n",
       "      <td>3.4612</td>\n",
       "      <td>7.3959</td>\n",
       "      <td>6.7018</td>\n",
       "      <td>3.1973</td>\n",
       "      <td>3.4612</td>\n",
       "      <td>0.0000</td>\n",
       "      <td>12.4944</td>\n",
       "      <td>0.0013</td>\n",
       "      <td>0.0000</td>\n",
       "      <td>...</td>\n",
       "      <td>46.8264</td>\n",
       "      <td>0</td>\n",
       "      <td>0.5137</td>\n",
       "      <td>0</td>\n",
       "      <td>0</td>\n",
       "      <td>1.3569</td>\n",
       "      <td>1.8706</td>\n",
       "      <td>0</td>\n",
       "      <td>3.2406</td>\n",
       "      <td>5.0985</td>\n",
       "    </tr>\n",
       "    <tr>\n",
       "      <th>2024-01-12</th>\n",
       "      <td>12.5454</td>\n",
       "      <td>12.5454</td>\n",
       "      <td>18.4572</td>\n",
       "      <td>16.4558</td>\n",
       "      <td>11.7233</td>\n",
       "      <td>12.5454</td>\n",
       "      <td>0.7105</td>\n",
       "      <td>20.0448</td>\n",
       "      <td>0.0048</td>\n",
       "      <td>0.0003</td>\n",
       "      <td>...</td>\n",
       "      <td>68.3458</td>\n",
       "      <td>0</td>\n",
       "      <td>0.7547</td>\n",
       "      <td>0</td>\n",
       "      <td>0</td>\n",
       "      <td>1.7459</td>\n",
       "      <td>2.5007</td>\n",
       "      <td>0</td>\n",
       "      <td>3.9104</td>\n",
       "      <td>1.5876</td>\n",
       "    </tr>\n",
       "    <tr>\n",
       "      <th>2024-01-13</th>\n",
       "      <td>10.7895</td>\n",
       "      <td>10.7895</td>\n",
       "      <td>15.5705</td>\n",
       "      <td>14.5391</td>\n",
       "      <td>9.5820</td>\n",
       "      <td>10.7895</td>\n",
       "      <td>1.0696</td>\n",
       "      <td>20.2870</td>\n",
       "      <td>0.0039</td>\n",
       "      <td>0.0004</td>\n",
       "      <td>...</td>\n",
       "      <td>68.7752</td>\n",
       "      <td>0</td>\n",
       "      <td>0.7693</td>\n",
       "      <td>0</td>\n",
       "      <td>0</td>\n",
       "      <td>1.9630</td>\n",
       "      <td>2.7323</td>\n",
       "      <td>0</td>\n",
       "      <td>3.7496</td>\n",
       "      <td>4.7164</td>\n",
       "    </tr>\n",
       "    <tr>\n",
       "      <th>2024-01-14</th>\n",
       "      <td>13.3980</td>\n",
       "      <td>13.3980</td>\n",
       "      <td>18.5158</td>\n",
       "      <td>17.5942</td>\n",
       "      <td>11.3574</td>\n",
       "      <td>13.3980</td>\n",
       "      <td>1.7814</td>\n",
       "      <td>20.1206</td>\n",
       "      <td>0.0046</td>\n",
       "      <td>0.0007</td>\n",
       "      <td>...</td>\n",
       "      <td>69.5456</td>\n",
       "      <td>0</td>\n",
       "      <td>1.4083</td>\n",
       "      <td>0</td>\n",
       "      <td>0</td>\n",
       "      <td>1.8235</td>\n",
       "      <td>3.2318</td>\n",
       "      <td>0</td>\n",
       "      <td>4.1962</td>\n",
       "      <td>1.6048</td>\n",
       "    </tr>\n",
       "    <tr>\n",
       "      <th>2024-01-15</th>\n",
       "      <td>12.6431</td>\n",
       "      <td>12.6431</td>\n",
       "      <td>18.2183</td>\n",
       "      <td>17.3540</td>\n",
       "      <td>12.2204</td>\n",
       "      <td>12.6431</td>\n",
       "      <td>0.0000</td>\n",
       "      <td>20.2607</td>\n",
       "      <td>0.0050</td>\n",
       "      <td>0.0000</td>\n",
       "      <td>...</td>\n",
       "      <td>73.4785</td>\n",
       "      <td>0</td>\n",
       "      <td>1.6720</td>\n",
       "      <td>0</td>\n",
       "      <td>0</td>\n",
       "      <td>1.6916</td>\n",
       "      <td>3.3636</td>\n",
       "      <td>0</td>\n",
       "      <td>4.7108</td>\n",
       "      <td>2.0424</td>\n",
       "    </tr>\n",
       "    <tr>\n",
       "      <th>2024-01-16</th>\n",
       "      <td>13.3544</td>\n",
       "      <td>13.3544</td>\n",
       "      <td>18.8488</td>\n",
       "      <td>17.7521</td>\n",
       "      <td>11.2074</td>\n",
       "      <td>13.3544</td>\n",
       "      <td>2.5341</td>\n",
       "      <td>20.4030</td>\n",
       "      <td>0.0046</td>\n",
       "      <td>0.0010</td>\n",
       "      <td>...</td>\n",
       "      <td>73.1523</td>\n",
       "      <td>0</td>\n",
       "      <td>1.8544</td>\n",
       "      <td>0</td>\n",
       "      <td>0</td>\n",
       "      <td>1.6863</td>\n",
       "      <td>3.5407</td>\n",
       "      <td>0</td>\n",
       "      <td>4.3977</td>\n",
       "      <td>1.5542</td>\n",
       "    </tr>\n",
       "    <tr>\n",
       "      <th>2024-01-17</th>\n",
       "      <td>15.0068</td>\n",
       "      <td>15.0068</td>\n",
       "      <td>19.5092</td>\n",
       "      <td>7.9555</td>\n",
       "      <td>14.8156</td>\n",
       "      <td>15.0068</td>\n",
       "      <td>0.0000</td>\n",
       "      <td>20.3996</td>\n",
       "      <td>0.0060</td>\n",
       "      <td>0.0000</td>\n",
       "      <td>...</td>\n",
       "      <td>73.7050</td>\n",
       "      <td>0</td>\n",
       "      <td>1.7356</td>\n",
       "      <td>0</td>\n",
       "      <td>0</td>\n",
       "      <td>0.4675</td>\n",
       "      <td>2.2031</td>\n",
       "      <td>0</td>\n",
       "      <td>-7.0513</td>\n",
       "      <td>0.8904</td>\n",
       "    </tr>\n",
       "    <tr>\n",
       "      <th>2024-01-18</th>\n",
       "      <td>15.0169</td>\n",
       "      <td>15.0169</td>\n",
       "      <td>19.1175</td>\n",
       "      <td>3.6045</td>\n",
       "      <td>14.1342</td>\n",
       "      <td>15.0169</td>\n",
       "      <td>0.3604</td>\n",
       "      <td>20.4293</td>\n",
       "      <td>0.0058</td>\n",
       "      <td>0.0001</td>\n",
       "      <td>...</td>\n",
       "      <td>73.8308</td>\n",
       "      <td>0</td>\n",
       "      <td>1.2858</td>\n",
       "      <td>0</td>\n",
       "      <td>0</td>\n",
       "      <td>0.1548</td>\n",
       "      <td>1.4406</td>\n",
       "      <td>0</td>\n",
       "      <td>-11.4124</td>\n",
       "      <td>1.3118</td>\n",
       "    </tr>\n",
       "    <tr>\n",
       "      <th>2024-01-19</th>\n",
       "      <td>12.0574</td>\n",
       "      <td>12.0574</td>\n",
       "      <td>17.4100</td>\n",
       "      <td>15.5315</td>\n",
       "      <td>11.2283</td>\n",
       "      <td>12.0574</td>\n",
       "      <td>0.7322</td>\n",
       "      <td>20.4644</td>\n",
       "      <td>0.0046</td>\n",
       "      <td>0.0003</td>\n",
       "      <td>...</td>\n",
       "      <td>73.9795</td>\n",
       "      <td>0</td>\n",
       "      <td>1.5908</td>\n",
       "      <td>0</td>\n",
       "      <td>0</td>\n",
       "      <td>0.9304</td>\n",
       "      <td>2.5212</td>\n",
       "      <td>0</td>\n",
       "      <td>3.4741</td>\n",
       "      <td>3.0544</td>\n",
       "    </tr>\n",
       "    <tr>\n",
       "      <th>2024-01-20</th>\n",
       "      <td>13.3491</td>\n",
       "      <td>13.3491</td>\n",
       "      <td>19.0989</td>\n",
       "      <td>17.5048</td>\n",
       "      <td>12.3188</td>\n",
       "      <td>13.3491</td>\n",
       "      <td>1.3685</td>\n",
       "      <td>20.3529</td>\n",
       "      <td>0.0050</td>\n",
       "      <td>0.0006</td>\n",
       "      <td>...</td>\n",
       "      <td>73.5466</td>\n",
       "      <td>0</td>\n",
       "      <td>1.4834</td>\n",
       "      <td>0</td>\n",
       "      <td>0</td>\n",
       "      <td>1.2765</td>\n",
       "      <td>2.7599</td>\n",
       "      <td>0</td>\n",
       "      <td>4.1556</td>\n",
       "      <td>1.2539</td>\n",
       "    </tr>\n",
       "    <tr>\n",
       "      <th>2024-01-21</th>\n",
       "      <td>14.8158</td>\n",
       "      <td>14.8158</td>\n",
       "      <td>19.1612</td>\n",
       "      <td>18.5548</td>\n",
       "      <td>6.5150</td>\n",
       "      <td>14.8158</td>\n",
       "      <td>0.0000</td>\n",
       "      <td>20.4216</td>\n",
       "      <td>0.0027</td>\n",
       "      <td>0.0000</td>\n",
       "      <td>...</td>\n",
       "      <td>73.7684</td>\n",
       "      <td>0</td>\n",
       "      <td>1.5543</td>\n",
       "      <td>0</td>\n",
       "      <td>0</td>\n",
       "      <td>1.1374</td>\n",
       "      <td>2.6917</td>\n",
       "      <td>0</td>\n",
       "      <td>3.7390</td>\n",
       "      <td>1.2604</td>\n",
       "    </tr>\n",
       "    <tr>\n",
       "      <th>2024-01-22</th>\n",
       "      <td>13.0427</td>\n",
       "      <td>13.0427</td>\n",
       "      <td>18.8733</td>\n",
       "      <td>15.9669</td>\n",
       "      <td>0.0000</td>\n",
       "      <td>13.0427</td>\n",
       "      <td>0.0000</td>\n",
       "      <td>20.4466</td>\n",
       "      <td>0.0000</td>\n",
       "      <td>0.0000</td>\n",
       "      <td>...</td>\n",
       "      <td>73.8651</td>\n",
       "      <td>0</td>\n",
       "      <td>2.1079</td>\n",
       "      <td>0</td>\n",
       "      <td>0</td>\n",
       "      <td>1.4817</td>\n",
       "      <td>3.5895</td>\n",
       "      <td>0</td>\n",
       "      <td>2.9242</td>\n",
       "      <td>1.5733</td>\n",
       "    </tr>\n",
       "    <tr>\n",
       "      <th>2024-01-23</th>\n",
       "      <td>1.6585</td>\n",
       "      <td>1.6585</td>\n",
       "      <td>1.7541</td>\n",
       "      <td>2.1888</td>\n",
       "      <td>0.0000</td>\n",
       "      <td>1.6585</td>\n",
       "      <td>0.0000</td>\n",
       "      <td>5.3177</td>\n",
       "      <td>0.0000</td>\n",
       "      <td>0.0000</td>\n",
       "      <td>...</td>\n",
       "      <td>21.2425</td>\n",
       "      <td>0</td>\n",
       "      <td>0.1373</td>\n",
       "      <td>0</td>\n",
       "      <td>0</td>\n",
       "      <td>0.1379</td>\n",
       "      <td>0.2752</td>\n",
       "      <td>0</td>\n",
       "      <td>0.5303</td>\n",
       "      <td>3.5636</td>\n",
       "    </tr>\n",
       "    <tr>\n",
       "      <th>2024-01-24</th>\n",
       "      <td>0.0000</td>\n",
       "      <td>0.0000</td>\n",
       "      <td>0.0000</td>\n",
       "      <td>0.0000</td>\n",
       "      <td>0.0000</td>\n",
       "      <td>0.0000</td>\n",
       "      <td>0.0000</td>\n",
       "      <td>0.0000</td>\n",
       "      <td>0.0000</td>\n",
       "      <td>0.0000</td>\n",
       "      <td>...</td>\n",
       "      <td>113.5294</td>\n",
       "      <td>0</td>\n",
       "      <td>0.0000</td>\n",
       "      <td>0</td>\n",
       "      <td>0</td>\n",
       "      <td>0.0000</td>\n",
       "      <td>0.0000</td>\n",
       "      <td>0</td>\n",
       "      <td>0.0000</td>\n",
       "      <td>0.0000</td>\n",
       "    </tr>\n",
       "    <tr>\n",
       "      <th rowspan=\"5\" valign=\"top\">193206</th>\n",
       "      <th>2024-01-24</th>\n",
       "      <td>0.0000</td>\n",
       "      <td>0.0000</td>\n",
       "      <td>0.0000</td>\n",
       "      <td>0.0000</td>\n",
       "      <td>0.0000</td>\n",
       "      <td>0.0000</td>\n",
       "      <td>0.0000</td>\n",
       "      <td>3.0128</td>\n",
       "      <td>0.0000</td>\n",
       "      <td>0.0000</td>\n",
       "      <td>...</td>\n",
       "      <td>13.4277</td>\n",
       "      <td>0</td>\n",
       "      <td>0.0000</td>\n",
       "      <td>0</td>\n",
       "      <td>0</td>\n",
       "      <td>0.0000</td>\n",
       "      <td>0.0000</td>\n",
       "      <td>0</td>\n",
       "      <td>0.0000</td>\n",
       "      <td>3.0128</td>\n",
       "    </tr>\n",
       "    <tr>\n",
       "      <th>2024-01-25</th>\n",
       "      <td>4.1109</td>\n",
       "      <td>4.1109</td>\n",
       "      <td>13.6606</td>\n",
       "      <td>10.2282</td>\n",
       "      <td>3.4452</td>\n",
       "      <td>4.1109</td>\n",
       "      <td>0.0000</td>\n",
       "      <td>22.4059</td>\n",
       "      <td>0.0012</td>\n",
       "      <td>0.0000</td>\n",
       "      <td>...</td>\n",
       "      <td>127.0733</td>\n",
       "      <td>0</td>\n",
       "      <td>1.7395</td>\n",
       "      <td>0</td>\n",
       "      <td>0</td>\n",
       "      <td>2.8444</td>\n",
       "      <td>4.5839</td>\n",
       "      <td>0</td>\n",
       "      <td>6.1173</td>\n",
       "      <td>8.7453</td>\n",
       "    </tr>\n",
       "    <tr>\n",
       "      <th>2024-01-26</th>\n",
       "      <td>11.5933</td>\n",
       "      <td>11.5933</td>\n",
       "      <td>19.0055</td>\n",
       "      <td>16.3615</td>\n",
       "      <td>11.3227</td>\n",
       "      <td>11.5933</td>\n",
       "      <td>0.0000</td>\n",
       "      <td>21.2259</td>\n",
       "      <td>0.0039</td>\n",
       "      <td>0.0000</td>\n",
       "      <td>...</td>\n",
       "      <td>124.3124</td>\n",
       "      <td>0</td>\n",
       "      <td>1.2547</td>\n",
       "      <td>0</td>\n",
       "      <td>0</td>\n",
       "      <td>2.2356</td>\n",
       "      <td>3.4903</td>\n",
       "      <td>0</td>\n",
       "      <td>4.7682</td>\n",
       "      <td>2.2204</td>\n",
       "    </tr>\n",
       "    <tr>\n",
       "      <th>2024-01-27</th>\n",
       "      <td>11.4307</td>\n",
       "      <td>11.4307</td>\n",
       "      <td>19.9182</td>\n",
       "      <td>17.6900</td>\n",
       "      <td>11.2932</td>\n",
       "      <td>11.4307</td>\n",
       "      <td>0.0000</td>\n",
       "      <td>22.0823</td>\n",
       "      <td>0.0039</td>\n",
       "      <td>0.0000</td>\n",
       "      <td>...</td>\n",
       "      <td>128.7214</td>\n",
       "      <td>0</td>\n",
       "      <td>1.2584</td>\n",
       "      <td>0</td>\n",
       "      <td>0</td>\n",
       "      <td>3.0434</td>\n",
       "      <td>4.3018</td>\n",
       "      <td>0</td>\n",
       "      <td>6.2592</td>\n",
       "      <td>2.1641</td>\n",
       "    </tr>\n",
       "    <tr>\n",
       "      <th>2024-01-28</th>\n",
       "      <td>3.5475</td>\n",
       "      <td>3.5475</td>\n",
       "      <td>6.7768</td>\n",
       "      <td>6.1628</td>\n",
       "      <td>2.4694</td>\n",
       "      <td>3.5475</td>\n",
       "      <td>0.9871</td>\n",
       "      <td>8.5983</td>\n",
       "      <td>0.0009</td>\n",
       "      <td>0.0003</td>\n",
       "      <td>...</td>\n",
       "      <td>51.5069</td>\n",
       "      <td>0</td>\n",
       "      <td>0.7074</td>\n",
       "      <td>0</td>\n",
       "      <td>0</td>\n",
       "      <td>1.4087</td>\n",
       "      <td>2.1161</td>\n",
       "      <td>0</td>\n",
       "      <td>2.6153</td>\n",
       "      <td>1.8214</td>\n",
       "    </tr>\n",
       "    <tr>\n",
       "      <th rowspan=\"4\" valign=\"top\">193207</th>\n",
       "      <th>2024-01-28</th>\n",
       "      <td>1.2759</td>\n",
       "      <td>1.2759</td>\n",
       "      <td>6.2237</td>\n",
       "      <td>4.9184</td>\n",
       "      <td>0.9795</td>\n",
       "      <td>1.2759</td>\n",
       "      <td>0.0000</td>\n",
       "      <td>8.8231</td>\n",
       "      <td>0.0003</td>\n",
       "      <td>0.0000</td>\n",
       "      <td>...</td>\n",
       "      <td>64.5593</td>\n",
       "      <td>0</td>\n",
       "      <td>0.1815</td>\n",
       "      <td>0</td>\n",
       "      <td>0</td>\n",
       "      <td>1.6881</td>\n",
       "      <td>1.8696</td>\n",
       "      <td>0</td>\n",
       "      <td>3.6425</td>\n",
       "      <td>2.5993</td>\n",
       "    </tr>\n",
       "    <tr>\n",
       "      <th>2024-01-29</th>\n",
       "      <td>4.1009</td>\n",
       "      <td>4.1009</td>\n",
       "      <td>9.6603</td>\n",
       "      <td>8.2107</td>\n",
       "      <td>3.9156</td>\n",
       "      <td>4.1009</td>\n",
       "      <td>0.0000</td>\n",
       "      <td>14.7408</td>\n",
       "      <td>0.0014</td>\n",
       "      <td>0.0000</td>\n",
       "      <td>...</td>\n",
       "      <td>113.1486</td>\n",
       "      <td>0</td>\n",
       "      <td>0.4655</td>\n",
       "      <td>0</td>\n",
       "      <td>0</td>\n",
       "      <td>0.9177</td>\n",
       "      <td>1.3833</td>\n",
       "      <td>0</td>\n",
       "      <td>4.1097</td>\n",
       "      <td>5.0805</td>\n",
       "    </tr>\n",
       "    <tr>\n",
       "      <th>2024-01-30</th>\n",
       "      <td>5.4854</td>\n",
       "      <td>5.4854</td>\n",
       "      <td>10.6626</td>\n",
       "      <td>9.8275</td>\n",
       "      <td>5.3929</td>\n",
       "      <td>5.4854</td>\n",
       "      <td>0.0000</td>\n",
       "      <td>14.6850</td>\n",
       "      <td>0.0019</td>\n",
       "      <td>0.0000</td>\n",
       "      <td>...</td>\n",
       "      <td>113.0466</td>\n",
       "      <td>0</td>\n",
       "      <td>0.4929</td>\n",
       "      <td>0</td>\n",
       "      <td>0</td>\n",
       "      <td>1.2255</td>\n",
       "      <td>1.7184</td>\n",
       "      <td>0</td>\n",
       "      <td>4.3421</td>\n",
       "      <td>4.0224</td>\n",
       "    </tr>\n",
       "    <tr>\n",
       "      <th>2024-01-31</th>\n",
       "      <td>6.8520</td>\n",
       "      <td>6.8520</td>\n",
       "      <td>13.1953</td>\n",
       "      <td>11.9468</td>\n",
       "      <td>5.4312</td>\n",
       "      <td>6.8520</td>\n",
       "      <td>1.4912</td>\n",
       "      <td>14.8511</td>\n",
       "      <td>0.0019</td>\n",
       "      <td>0.0005</td>\n",
       "      <td>...</td>\n",
       "      <td>114.3739</td>\n",
       "      <td>0</td>\n",
       "      <td>0.5268</td>\n",
       "      <td>0</td>\n",
       "      <td>0</td>\n",
       "      <td>1.2663</td>\n",
       "      <td>1.7931</td>\n",
       "      <td>0</td>\n",
       "      <td>5.0948</td>\n",
       "      <td>1.6558</td>\n",
       "    </tr>\n",
       "  </tbody>\n",
       "</table>\n",
       "<p>35 rows × 22 columns</p>\n",
       "</div>"
      ],
      "text/plain": [
       "                           Empac.-reescol.  Empacotado  Entra. do recozi.  \\\n",
       "Maquina Ordem  Data                                                         \n",
       "B1      192970 2024-01-03           1.6948      1.6948            12.2051   \n",
       "               2024-01-04           6.9028      6.9028            16.1446   \n",
       "               2024-01-05           6.2779      6.2779            16.8795   \n",
       "               2024-01-06           7.9480      7.9480            17.3240   \n",
       "               2024-01-07           4.5498      4.5498            14.5250   \n",
       "               2024-01-08          11.7513     11.7513            19.5315   \n",
       "               2024-01-09          11.7991     11.7991            18.4374   \n",
       "               2024-01-10          11.0273     11.0273            18.1368   \n",
       "               2024-01-11           3.1466      3.1466             6.7617   \n",
       "        193112 2024-01-01          14.5165     14.5165            20.3353   \n",
       "               2024-01-02          14.8343     14.8343            20.6406   \n",
       "               2024-01-03           0.7067      0.7067             0.8504   \n",
       "        193164 2024-01-11           3.4612      3.4612             7.3959   \n",
       "               2024-01-12          12.5454     12.5454            18.4572   \n",
       "               2024-01-13          10.7895     10.7895            15.5705   \n",
       "               2024-01-14          13.3980     13.3980            18.5158   \n",
       "               2024-01-15          12.6431     12.6431            18.2183   \n",
       "               2024-01-16          13.3544     13.3544            18.8488   \n",
       "               2024-01-17          15.0068     15.0068            19.5092   \n",
       "               2024-01-18          15.0169     15.0169            19.1175   \n",
       "               2024-01-19          12.0574     12.0574            17.4100   \n",
       "               2024-01-20          13.3491     13.3491            19.0989   \n",
       "               2024-01-21          14.8158     14.8158            19.1612   \n",
       "               2024-01-22          13.0427     13.0427            18.8733   \n",
       "               2024-01-23           1.6585      1.6585             1.7541   \n",
       "               2024-01-24           0.0000      0.0000             0.0000   \n",
       "        193206 2024-01-24           0.0000      0.0000             0.0000   \n",
       "               2024-01-25           4.1109      4.1109            13.6606   \n",
       "               2024-01-26          11.5933     11.5933            19.0055   \n",
       "               2024-01-27          11.4307     11.4307            19.9182   \n",
       "               2024-01-28           3.5475      3.5475             6.7768   \n",
       "        193207 2024-01-28           1.2759      1.2759             6.2237   \n",
       "               2024-01-29           4.1009      4.1009             9.6603   \n",
       "               2024-01-30           5.4854      5.4854            10.6626   \n",
       "               2024-01-31           6.8520      6.8520            13.1953   \n",
       "\n",
       "                           Entrada AF  Frascos aprovados  Frascos produzidos  \\\n",
       "Maquina Ordem  Data                                                            \n",
       "B1      192970 2024-01-03      8.5257             1.0671              1.6948   \n",
       "               2024-01-04     13.9903             6.7325              6.9028   \n",
       "               2024-01-05     12.3638             6.4151              6.2779   \n",
       "               2024-01-06     15.2663             7.8450              7.9480   \n",
       "               2024-01-07     10.3543             4.2588              4.5498   \n",
       "               2024-01-08     17.9165            10.6915             11.7513   \n",
       "               2024-01-09     15.7430            11.3895             11.7991   \n",
       "               2024-01-10     15.6171            10.9916             11.0273   \n",
       "               2024-01-11      5.7997             2.1306              3.1466   \n",
       "        193112 2024-01-01     19.5466            12.9457             14.5165   \n",
       "               2024-01-02     19.7696            14.2299             14.8343   \n",
       "               2024-01-03      0.9462             0.0000              0.7067   \n",
       "        193164 2024-01-11      6.7018             3.1973              3.4612   \n",
       "               2024-01-12     16.4558            11.7233             12.5454   \n",
       "               2024-01-13     14.5391             9.5820             10.7895   \n",
       "               2024-01-14     17.5942            11.3574             13.3980   \n",
       "               2024-01-15     17.3540            12.2204             12.6431   \n",
       "               2024-01-16     17.7521            11.2074             13.3544   \n",
       "               2024-01-17      7.9555            14.8156             15.0068   \n",
       "               2024-01-18      3.6045            14.1342             15.0169   \n",
       "               2024-01-19     15.5315            11.2283             12.0574   \n",
       "               2024-01-20     17.5048            12.3188             13.3491   \n",
       "               2024-01-21     18.5548             6.5150             14.8158   \n",
       "               2024-01-22     15.9669             0.0000             13.0427   \n",
       "               2024-01-23      2.1888             0.0000              1.6585   \n",
       "               2024-01-24      0.0000             0.0000              0.0000   \n",
       "        193206 2024-01-24      0.0000             0.0000              0.0000   \n",
       "               2024-01-25     10.2282             3.4452              4.1109   \n",
       "               2024-01-26     16.3615            11.3227             11.5933   \n",
       "               2024-01-27     17.6900            11.2932             11.4307   \n",
       "               2024-01-28      6.1628             2.4694              3.5475   \n",
       "        193207 2024-01-28      4.9184             0.9795              1.2759   \n",
       "               2024-01-29      8.2107             3.9156              4.1009   \n",
       "               2024-01-30      9.8275             5.3929              5.4854   \n",
       "               2024-01-31     11.9468             5.4312              6.8520   \n",
       "\n",
       "                           Frascos reprovados  Gotas cortadas  \\\n",
       "Maquina Ordem  Data                                             \n",
       "B1      192970 2024-01-03              0.3564         20.9484   \n",
       "               2024-01-04              0.0000         21.0216   \n",
       "               2024-01-05              0.0000         21.4492   \n",
       "               2024-01-06              0.0000         21.5256   \n",
       "               2024-01-07              0.3549         21.4387   \n",
       "               2024-01-08              0.7098         21.5064   \n",
       "               2024-01-09              0.3564         21.5235   \n",
       "               2024-01-10              0.0000         21.4267   \n",
       "               2024-01-11              1.0659          7.9468   \n",
       "        193112 2024-01-01              0.0000         21.8905   \n",
       "               2024-01-02              0.0000         21.8574   \n",
       "               2024-01-03              0.0000          0.9849   \n",
       "        193164 2024-01-11              0.0000         12.4944   \n",
       "               2024-01-12              0.7105         20.0448   \n",
       "               2024-01-13              1.0696         20.2870   \n",
       "               2024-01-14              1.7814         20.1206   \n",
       "               2024-01-15              0.0000         20.2607   \n",
       "               2024-01-16              2.5341         20.4030   \n",
       "               2024-01-17              0.0000         20.3996   \n",
       "               2024-01-18              0.3604         20.4293   \n",
       "               2024-01-19              0.7322         20.4644   \n",
       "               2024-01-20              1.3685         20.3529   \n",
       "               2024-01-21              0.0000         20.4216   \n",
       "               2024-01-22              0.0000         20.4466   \n",
       "               2024-01-23              0.0000          5.3177   \n",
       "               2024-01-24              0.0000          0.0000   \n",
       "        193206 2024-01-24              0.0000          3.0128   \n",
       "               2024-01-25              0.0000         22.4059   \n",
       "               2024-01-26              0.0000         21.2259   \n",
       "               2024-01-27              0.0000         22.0823   \n",
       "               2024-01-28              0.9871          8.5983   \n",
       "        193207 2024-01-28              0.0000          8.8231   \n",
       "               2024-01-29              0.0000         14.7408   \n",
       "               2024-01-30              0.0000         14.6850   \n",
       "               2024-01-31              1.4912         14.8511   \n",
       "\n",
       "                           Paletes aprovados  Paletes reprovados  ...  \\\n",
       "Maquina Ordem  Data                                               ...   \n",
       "B1      192970 2024-01-03             0.0005              0.0002  ...   \n",
       "               2024-01-04             0.0032              0.0000  ...   \n",
       "               2024-01-05             0.0030              0.0000  ...   \n",
       "               2024-01-06             0.0037              0.0000  ...   \n",
       "               2024-01-07             0.0020              0.0002  ...   \n",
       "               2024-01-08             0.0051              0.0003  ...   \n",
       "               2024-01-09             0.0054              0.0002  ...   \n",
       "               2024-01-10             0.0052              0.0000  ...   \n",
       "               2024-01-11             0.0010              0.0005  ...   \n",
       "        193112 2024-01-01             0.0034              0.0000  ...   \n",
       "               2024-01-02             0.0037              0.0000  ...   \n",
       "               2024-01-03             0.0000              0.0000  ...   \n",
       "        193164 2024-01-11             0.0013              0.0000  ...   \n",
       "               2024-01-12             0.0048              0.0003  ...   \n",
       "               2024-01-13             0.0039              0.0004  ...   \n",
       "               2024-01-14             0.0046              0.0007  ...   \n",
       "               2024-01-15             0.0050              0.0000  ...   \n",
       "               2024-01-16             0.0046              0.0010  ...   \n",
       "               2024-01-17             0.0060              0.0000  ...   \n",
       "               2024-01-18             0.0058              0.0001  ...   \n",
       "               2024-01-19             0.0046              0.0003  ...   \n",
       "               2024-01-20             0.0050              0.0006  ...   \n",
       "               2024-01-21             0.0027              0.0000  ...   \n",
       "               2024-01-22             0.0000              0.0000  ...   \n",
       "               2024-01-23             0.0000              0.0000  ...   \n",
       "               2024-01-24             0.0000              0.0000  ...   \n",
       "        193206 2024-01-24             0.0000              0.0000  ...   \n",
       "               2024-01-25             0.0012              0.0000  ...   \n",
       "               2024-01-26             0.0039              0.0000  ...   \n",
       "               2024-01-27             0.0039              0.0000  ...   \n",
       "               2024-01-28             0.0009              0.0003  ...   \n",
       "        193207 2024-01-28             0.0003              0.0000  ...   \n",
       "               2024-01-29             0.0014              0.0000  ...   \n",
       "               2024-01-30             0.0019              0.0000  ...   \n",
       "               2024-01-31             0.0019              0.0005  ...   \n",
       "\n",
       "                            Recozi.  Reescolhido  Rej. Argos  Rej. aut.  \\\n",
       "Maquina Ordem  Data                                                       \n",
       "B1      192970 2024-01-03  111.5911            0      1.6118          0   \n",
       "               2024-01-04  109.9592            0      1.0592          0   \n",
       "               2024-01-05  109.9308            0      1.0322          0   \n",
       "               2024-01-06  110.3116            0      2.0806          0   \n",
       "               2024-01-07  109.7947            0      0.7333          0   \n",
       "               2024-01-08  101.5342            0      1.3445          0   \n",
       "               2024-01-09   98.7199            0      0.9198          0   \n",
       "               2024-01-10   98.2733            0      1.1014          0   \n",
       "               2024-01-11   36.4425            0      0.5601          0   \n",
       "        193112 2024-01-01  111.9245            0      1.4490          0   \n",
       "               2024-01-02  111.7178            0      1.1143          0   \n",
       "               2024-01-03    5.0350            0      0.0289          0   \n",
       "        193164 2024-01-11   46.8264            0      0.5137          0   \n",
       "               2024-01-12   68.3458            0      0.7547          0   \n",
       "               2024-01-13   68.7752            0      0.7693          0   \n",
       "               2024-01-14   69.5456            0      1.4083          0   \n",
       "               2024-01-15   73.4785            0      1.6720          0   \n",
       "               2024-01-16   73.1523            0      1.8544          0   \n",
       "               2024-01-17   73.7050            0      1.7356          0   \n",
       "               2024-01-18   73.8308            0      1.2858          0   \n",
       "               2024-01-19   73.9795            0      1.5908          0   \n",
       "               2024-01-20   73.5466            0      1.4834          0   \n",
       "               2024-01-21   73.7684            0      1.5543          0   \n",
       "               2024-01-22   73.8651            0      2.1079          0   \n",
       "               2024-01-23   21.2425            0      0.1373          0   \n",
       "               2024-01-24  113.5294            0      0.0000          0   \n",
       "        193206 2024-01-24   13.4277            0      0.0000          0   \n",
       "               2024-01-25  127.0733            0      1.7395          0   \n",
       "               2024-01-26  124.3124            0      1.2547          0   \n",
       "               2024-01-27  128.7214            0      1.2584          0   \n",
       "               2024-01-28   51.5069            0      0.7074          0   \n",
       "        193207 2024-01-28   64.5593            0      0.1815          0   \n",
       "               2024-01-29  113.1486            0      0.4655          0   \n",
       "               2024-01-30  113.0466            0      0.4929          0   \n",
       "               2024-01-31  114.3739            0      0.5268          0   \n",
       "\n",
       "                           Rej. Emhart  Rej. EVO NEO  Tot. rej. esc. aut.  \\\n",
       "Maquina Ordem  Data                                                         \n",
       "B1      192970 2024-01-03            0        3.1621               4.7740   \n",
       "               2024-01-04            0        3.0289               4.0881   \n",
       "               2024-01-05            0        3.0409               4.0730   \n",
       "               2024-01-06            0        4.0214               6.1020   \n",
       "               2024-01-07            0        1.8965               2.6298   \n",
       "               2024-01-08            0        2.2614               3.6059   \n",
       "               2024-01-09            0        1.4145               2.3343   \n",
       "               2024-01-10            0        1.7418               2.8432   \n",
       "               2024-01-11            0        1.1267               1.6868   \n",
       "        193112 2024-01-01            0        0.7372               2.1862   \n",
       "               2024-01-02            0        0.4727               1.5870   \n",
       "               2024-01-03            0        0.0495               0.0784   \n",
       "        193164 2024-01-11            0        1.3569               1.8706   \n",
       "               2024-01-12            0        1.7459               2.5007   \n",
       "               2024-01-13            0        1.9630               2.7323   \n",
       "               2024-01-14            0        1.8235               3.2318   \n",
       "               2024-01-15            0        1.6916               3.3636   \n",
       "               2024-01-16            0        1.6863               3.5407   \n",
       "               2024-01-17            0        0.4675               2.2031   \n",
       "               2024-01-18            0        0.1548               1.4406   \n",
       "               2024-01-19            0        0.9304               2.5212   \n",
       "               2024-01-20            0        1.2765               2.7599   \n",
       "               2024-01-21            0        1.1374               2.6917   \n",
       "               2024-01-22            0        1.4817               3.5895   \n",
       "               2024-01-23            0        0.1379               0.2752   \n",
       "               2024-01-24            0        0.0000               0.0000   \n",
       "        193206 2024-01-24            0        0.0000               0.0000   \n",
       "               2024-01-25            0        2.8444               4.5839   \n",
       "               2024-01-26            0        2.2356               3.4903   \n",
       "               2024-01-27            0        3.0434               4.3018   \n",
       "               2024-01-28            0        1.4087               2.1161   \n",
       "        193207 2024-01-28            0        1.6881               1.8696   \n",
       "               2024-01-29            0        0.9177               1.3833   \n",
       "               2024-01-30            0        1.2255               1.7184   \n",
       "               2024-01-31            0        1.2663               1.7931   \n",
       "\n",
       "                           Total parada seção  Total Rej. AF  Transferência AQ  \n",
       "Maquina Ordem  Data                                                             \n",
       "B1      192970 2024-01-03                   0         6.8309            8.7433  \n",
       "               2024-01-04                   0         7.0875            4.8770  \n",
       "               2024-01-05                   0         6.0859            4.5696  \n",
       "               2024-01-06                   0         7.3183            4.2016  \n",
       "               2024-01-07                   0         5.8045            6.9136  \n",
       "               2024-01-08                   0         6.1652            1.9749  \n",
       "               2024-01-09                   0         3.9439            3.0861  \n",
       "               2024-01-10                   0         4.5898            3.2898  \n",
       "               2024-01-11                   0         2.6531            1.1851  \n",
       "        193112 2024-01-01                   0         5.0300            1.5552  \n",
       "               2024-01-02                   0         4.9353            1.2168  \n",
       "               2024-01-03                   0         0.2395            0.1345  \n",
       "        193164 2024-01-11                   0         3.2406            5.0985  \n",
       "               2024-01-12                   0         3.9104            1.5876  \n",
       "               2024-01-13                   0         3.7496            4.7164  \n",
       "               2024-01-14                   0         4.1962            1.6048  \n",
       "               2024-01-15                   0         4.7108            2.0424  \n",
       "               2024-01-16                   0         4.3977            1.5542  \n",
       "               2024-01-17                   0        -7.0513            0.8904  \n",
       "               2024-01-18                   0       -11.4124            1.3118  \n",
       "               2024-01-19                   0         3.4741            3.0544  \n",
       "               2024-01-20                   0         4.1556            1.2539  \n",
       "               2024-01-21                   0         3.7390            1.2604  \n",
       "               2024-01-22                   0         2.9242            1.5733  \n",
       "               2024-01-23                   0         0.5303            3.5636  \n",
       "               2024-01-24                   0         0.0000            0.0000  \n",
       "        193206 2024-01-24                   0         0.0000            3.0128  \n",
       "               2024-01-25                   0         6.1173            8.7453  \n",
       "               2024-01-26                   0         4.7682            2.2204  \n",
       "               2024-01-27                   0         6.2592            2.1641  \n",
       "               2024-01-28                   0         2.6153            1.8214  \n",
       "        193207 2024-01-28                   0         3.6425            2.5993  \n",
       "               2024-01-29                   0         4.1097            5.0805  \n",
       "               2024-01-30                   0         4.3421            4.0224  \n",
       "               2024-01-31                   0         5.0948            1.6558  \n",
       "\n",
       "[35 rows x 22 columns]"
      ]
     },
     "execution_count": 239,
     "metadata": {},
     "output_type": "execute_result"
    }
   ],
   "source": [
    "dados_formatados = dados_formatados.set_index(['Maquina', 'Ordem', 'Data'])\n",
    "dados_formatados"
   ]
  },
  {
   "cell_type": "markdown",
   "metadata": {},
   "source": [
    "### Ordem 192970"
   ]
  },
  {
   "cell_type": "code",
   "execution_count": 244,
   "metadata": {},
   "outputs": [],
   "source": [
    "index_ordem_192970 = dados_formatados.index.get_level_values(1) == '192970'\n",
    "qualidade_ordem_192970 = dados_formatados[index_ordem_192970]"
   ]
  },
  {
   "cell_type": "code",
   "execution_count": 245,
   "metadata": {},
   "outputs": [],
   "source": [
    "gotas_ordem_192970 = df_valores_mensais.loc[df_valores_mensais['Ordem de prod'] == '192970', colunas_gota]"
   ]
  },
  {
   "cell_type": "markdown",
   "metadata": {},
   "source": [
    "### Merge dos DataFrames"
   ]
  },
  {
   "cell_type": "code",
   "execution_count": 248,
   "metadata": {},
   "outputs": [],
   "source": [
    "qualidade_ordem_192970_reset = qualidade_ordem_192970.reset_index()\n",
    "\n",
    "df_combinado_192970 = pd.merge(\n",
    "    qualidade_ordem_192970_reset, \n",
    "    gotas_ordem_192970, \n",
    "    left_on=['Ordem', 'Data'],\n",
    "    right_on=['Ordem de prod', 'Data de prod'],\n",
    "    how='inner'\n",
    ")"
   ]
  },
  {
   "cell_type": "code",
   "execution_count": 253,
   "metadata": {},
   "outputs": [],
   "source": [
    "df_combinado_192970.drop(columns={'Ordem de prod', 'Data de prod'}, inplace=True)"
   ]
  },
  {
   "cell_type": "code",
   "execution_count": 254,
   "metadata": {},
   "outputs": [
    {
     "data": {
      "text/html": [
       "<div>\n",
       "<style scoped>\n",
       "    .dataframe tbody tr th:only-of-type {\n",
       "        vertical-align: middle;\n",
       "    }\n",
       "\n",
       "    .dataframe tbody tr th {\n",
       "        vertical-align: top;\n",
       "    }\n",
       "\n",
       "    .dataframe thead th {\n",
       "        text-align: right;\n",
       "    }\n",
       "</style>\n",
       "<table border=\"1\" class=\"dataframe\">\n",
       "  <thead>\n",
       "    <tr style=\"text-align: right;\">\n",
       "      <th></th>\n",
       "      <th>Maquina</th>\n",
       "      <th>Ordem</th>\n",
       "      <th>Data</th>\n",
       "      <th>Empac.-reescol.</th>\n",
       "      <th>Empacotado</th>\n",
       "      <th>Entra. do recozi.</th>\n",
       "      <th>Entrada AF</th>\n",
       "      <th>Frascos aprovados</th>\n",
       "      <th>Frascos produzidos</th>\n",
       "      <th>Frascos reprovados</th>\n",
       "      <th>...</th>\n",
       "      <th>Total Rej. AF</th>\n",
       "      <th>Transferência AQ</th>\n",
       "      <th>Temperatura (F°)</th>\n",
       "      <th>Frente-PV (F°)</th>\n",
       "      <th>Diferença Frente-Gota</th>\n",
       "      <th>Gotas cortadas (toneladas)</th>\n",
       "      <th>Peso médio (Kg)</th>\n",
       "      <th>Cortes por minuto</th>\n",
       "      <th>Comprimento médio (mm)</th>\n",
       "      <th>Diâmetro</th>\n",
       "    </tr>\n",
       "  </thead>\n",
       "  <tbody>\n",
       "    <tr>\n",
       "      <th>0</th>\n",
       "      <td>B1</td>\n",
       "      <td>192970</td>\n",
       "      <td>2024-01-03</td>\n",
       "      <td>1.6948</td>\n",
       "      <td>1.6948</td>\n",
       "      <td>12.2051</td>\n",
       "      <td>8.5257</td>\n",
       "      <td>1.0671</td>\n",
       "      <td>1.6948</td>\n",
       "      <td>0.3564</td>\n",
       "      <td>...</td>\n",
       "      <td>6.8309</td>\n",
       "      <td>8.7433</td>\n",
       "      <td>2505.02</td>\n",
       "      <td>2176.4</td>\n",
       "      <td>-328.62</td>\n",
       "      <td>20.9484</td>\n",
       "      <td>169.3</td>\n",
       "      <td>90.0</td>\n",
       "      <td>110.4</td>\n",
       "      <td>32.5</td>\n",
       "    </tr>\n",
       "    <tr>\n",
       "      <th>1</th>\n",
       "      <td>B1</td>\n",
       "      <td>192970</td>\n",
       "      <td>2024-01-04</td>\n",
       "      <td>6.9028</td>\n",
       "      <td>6.9028</td>\n",
       "      <td>16.1446</td>\n",
       "      <td>13.9903</td>\n",
       "      <td>6.7325</td>\n",
       "      <td>6.9028</td>\n",
       "      <td>0.0000</td>\n",
       "      <td>...</td>\n",
       "      <td>7.0875</td>\n",
       "      <td>4.8770</td>\n",
       "      <td>3094.52</td>\n",
       "      <td>2173.0</td>\n",
       "      <td>-921.52</td>\n",
       "      <td>21.0216</td>\n",
       "      <td>169.7</td>\n",
       "      <td>89.0</td>\n",
       "      <td>85.6</td>\n",
       "      <td>18.1</td>\n",
       "    </tr>\n",
       "    <tr>\n",
       "      <th>2</th>\n",
       "      <td>B1</td>\n",
       "      <td>192970</td>\n",
       "      <td>2024-01-05</td>\n",
       "      <td>6.2779</td>\n",
       "      <td>6.2779</td>\n",
       "      <td>16.8795</td>\n",
       "      <td>12.3638</td>\n",
       "      <td>6.4151</td>\n",
       "      <td>6.2779</td>\n",
       "      <td>0.0000</td>\n",
       "      <td>...</td>\n",
       "      <td>6.0859</td>\n",
       "      <td>4.5696</td>\n",
       "      <td>3369.74</td>\n",
       "      <td>2175.0</td>\n",
       "      <td>-1194.74</td>\n",
       "      <td>21.4492</td>\n",
       "      <td>173.6</td>\n",
       "      <td>86.0</td>\n",
       "      <td>140.5</td>\n",
       "      <td>32.9</td>\n",
       "    </tr>\n",
       "    <tr>\n",
       "      <th>3</th>\n",
       "      <td>B1</td>\n",
       "      <td>192970</td>\n",
       "      <td>2024-01-06</td>\n",
       "      <td>7.9480</td>\n",
       "      <td>7.9480</td>\n",
       "      <td>17.3240</td>\n",
       "      <td>15.2663</td>\n",
       "      <td>7.8450</td>\n",
       "      <td>7.9480</td>\n",
       "      <td>0.0000</td>\n",
       "      <td>...</td>\n",
       "      <td>7.3183</td>\n",
       "      <td>4.2016</td>\n",
       "      <td>3335.18</td>\n",
       "      <td>2175.5</td>\n",
       "      <td>-1159.68</td>\n",
       "      <td>21.5256</td>\n",
       "      <td>170.2</td>\n",
       "      <td>86.0</td>\n",
       "      <td>144.7</td>\n",
       "      <td>32.7</td>\n",
       "    </tr>\n",
       "    <tr>\n",
       "      <th>4</th>\n",
       "      <td>B1</td>\n",
       "      <td>192970</td>\n",
       "      <td>2024-01-07</td>\n",
       "      <td>4.5498</td>\n",
       "      <td>4.5498</td>\n",
       "      <td>14.5250</td>\n",
       "      <td>10.3543</td>\n",
       "      <td>4.2588</td>\n",
       "      <td>4.5498</td>\n",
       "      <td>0.3549</td>\n",
       "      <td>...</td>\n",
       "      <td>5.8045</td>\n",
       "      <td>6.9136</td>\n",
       "      <td>3340.94</td>\n",
       "      <td>2177.0</td>\n",
       "      <td>-1163.94</td>\n",
       "      <td>21.4387</td>\n",
       "      <td>171.7</td>\n",
       "      <td>86.7</td>\n",
       "      <td>141.5</td>\n",
       "      <td>30.2</td>\n",
       "    </tr>\n",
       "    <tr>\n",
       "      <th>5</th>\n",
       "      <td>B1</td>\n",
       "      <td>192970</td>\n",
       "      <td>2024-01-08</td>\n",
       "      <td>11.7513</td>\n",
       "      <td>11.7513</td>\n",
       "      <td>19.5315</td>\n",
       "      <td>17.9165</td>\n",
       "      <td>10.6915</td>\n",
       "      <td>11.7513</td>\n",
       "      <td>0.7098</td>\n",
       "      <td>...</td>\n",
       "      <td>6.1652</td>\n",
       "      <td>1.9749</td>\n",
       "      <td>2519.24</td>\n",
       "      <td>2177.0</td>\n",
       "      <td>-342.24</td>\n",
       "      <td>21.5064</td>\n",
       "      <td>166.5</td>\n",
       "      <td>87.8</td>\n",
       "      <td>140.6</td>\n",
       "      <td>32.5</td>\n",
       "    </tr>\n",
       "    <tr>\n",
       "      <th>6</th>\n",
       "      <td>B1</td>\n",
       "      <td>192970</td>\n",
       "      <td>2024-01-09</td>\n",
       "      <td>11.7991</td>\n",
       "      <td>11.7991</td>\n",
       "      <td>18.4374</td>\n",
       "      <td>15.7430</td>\n",
       "      <td>11.3895</td>\n",
       "      <td>11.7991</td>\n",
       "      <td>0.3564</td>\n",
       "      <td>...</td>\n",
       "      <td>3.9439</td>\n",
       "      <td>3.0861</td>\n",
       "      <td>1901.48</td>\n",
       "      <td>2177.0</td>\n",
       "      <td>275.52</td>\n",
       "      <td>21.5235</td>\n",
       "      <td>169.6</td>\n",
       "      <td>88.0</td>\n",
       "      <td>128.4</td>\n",
       "      <td>32.9</td>\n",
       "    </tr>\n",
       "    <tr>\n",
       "      <th>7</th>\n",
       "      <td>B1</td>\n",
       "      <td>192970</td>\n",
       "      <td>2024-01-10</td>\n",
       "      <td>11.0273</td>\n",
       "      <td>11.0273</td>\n",
       "      <td>18.1368</td>\n",
       "      <td>15.6171</td>\n",
       "      <td>10.9916</td>\n",
       "      <td>11.0273</td>\n",
       "      <td>0.0000</td>\n",
       "      <td>...</td>\n",
       "      <td>4.5898</td>\n",
       "      <td>3.2898</td>\n",
       "      <td>1921.64</td>\n",
       "      <td>2177.0</td>\n",
       "      <td>255.36</td>\n",
       "      <td>21.4267</td>\n",
       "      <td>169.4</td>\n",
       "      <td>88.0</td>\n",
       "      <td>127.0</td>\n",
       "      <td>33.0</td>\n",
       "    </tr>\n",
       "    <tr>\n",
       "      <th>8</th>\n",
       "      <td>B1</td>\n",
       "      <td>192970</td>\n",
       "      <td>2024-01-11</td>\n",
       "      <td>3.1466</td>\n",
       "      <td>3.1466</td>\n",
       "      <td>6.7617</td>\n",
       "      <td>5.7997</td>\n",
       "      <td>2.1306</td>\n",
       "      <td>3.1466</td>\n",
       "      <td>1.0659</td>\n",
       "      <td>...</td>\n",
       "      <td>2.6531</td>\n",
       "      <td>1.1851</td>\n",
       "      <td>1975.28</td>\n",
       "      <td>2177.0</td>\n",
       "      <td>201.72</td>\n",
       "      <td>7.9468</td>\n",
       "      <td>169.2</td>\n",
       "      <td>84.5</td>\n",
       "      <td>110.9</td>\n",
       "      <td>33.9</td>\n",
       "    </tr>\n",
       "  </tbody>\n",
       "</table>\n",
       "<p>9 rows × 33 columns</p>\n",
       "</div>"
      ],
      "text/plain": [
       "  Maquina   Ordem       Data  Empac.-reescol.  Empacotado  Entra. do recozi.  \\\n",
       "0      B1  192970 2024-01-03           1.6948      1.6948            12.2051   \n",
       "1      B1  192970 2024-01-04           6.9028      6.9028            16.1446   \n",
       "2      B1  192970 2024-01-05           6.2779      6.2779            16.8795   \n",
       "3      B1  192970 2024-01-06           7.9480      7.9480            17.3240   \n",
       "4      B1  192970 2024-01-07           4.5498      4.5498            14.5250   \n",
       "5      B1  192970 2024-01-08          11.7513     11.7513            19.5315   \n",
       "6      B1  192970 2024-01-09          11.7991     11.7991            18.4374   \n",
       "7      B1  192970 2024-01-10          11.0273     11.0273            18.1368   \n",
       "8      B1  192970 2024-01-11           3.1466      3.1466             6.7617   \n",
       "\n",
       "   Entrada AF  Frascos aprovados  Frascos produzidos  Frascos reprovados  ...  \\\n",
       "0      8.5257             1.0671              1.6948              0.3564  ...   \n",
       "1     13.9903             6.7325              6.9028              0.0000  ...   \n",
       "2     12.3638             6.4151              6.2779              0.0000  ...   \n",
       "3     15.2663             7.8450              7.9480              0.0000  ...   \n",
       "4     10.3543             4.2588              4.5498              0.3549  ...   \n",
       "5     17.9165            10.6915             11.7513              0.7098  ...   \n",
       "6     15.7430            11.3895             11.7991              0.3564  ...   \n",
       "7     15.6171            10.9916             11.0273              0.0000  ...   \n",
       "8      5.7997             2.1306              3.1466              1.0659  ...   \n",
       "\n",
       "   Total Rej. AF  Transferência AQ  Temperatura (F°)  Frente-PV (F°)  \\\n",
       "0         6.8309            8.7433           2505.02          2176.4   \n",
       "1         7.0875            4.8770           3094.52          2173.0   \n",
       "2         6.0859            4.5696           3369.74          2175.0   \n",
       "3         7.3183            4.2016           3335.18          2175.5   \n",
       "4         5.8045            6.9136           3340.94          2177.0   \n",
       "5         6.1652            1.9749           2519.24          2177.0   \n",
       "6         3.9439            3.0861           1901.48          2177.0   \n",
       "7         4.5898            3.2898           1921.64          2177.0   \n",
       "8         2.6531            1.1851           1975.28          2177.0   \n",
       "\n",
       "   Diferença Frente-Gota  Gotas cortadas (toneladas)  Peso médio (Kg)  \\\n",
       "0                -328.62                     20.9484            169.3   \n",
       "1                -921.52                     21.0216            169.7   \n",
       "2               -1194.74                     21.4492            173.6   \n",
       "3               -1159.68                     21.5256            170.2   \n",
       "4               -1163.94                     21.4387            171.7   \n",
       "5                -342.24                     21.5064            166.5   \n",
       "6                 275.52                     21.5235            169.6   \n",
       "7                 255.36                     21.4267            169.4   \n",
       "8                 201.72                      7.9468            169.2   \n",
       "\n",
       "   Cortes por minuto  Comprimento médio (mm)  Diâmetro  \n",
       "0               90.0                   110.4      32.5  \n",
       "1               89.0                    85.6      18.1  \n",
       "2               86.0                   140.5      32.9  \n",
       "3               86.0                   144.7      32.7  \n",
       "4               86.7                   141.5      30.2  \n",
       "5               87.8                   140.6      32.5  \n",
       "6               88.0                   128.4      32.9  \n",
       "7               88.0                   127.0      33.0  \n",
       "8               84.5                   110.9      33.9  \n",
       "\n",
       "[9 rows x 33 columns]"
      ]
     },
     "execution_count": 254,
     "metadata": {},
     "output_type": "execute_result"
    }
   ],
   "source": [
    "df_combinado_192970"
   ]
  }
 ],
 "metadata": {
  "kernelspec": {
   "display_name": "base",
   "language": "python",
   "name": "python3"
  },
  "language_info": {
   "codemirror_mode": {
    "name": "ipython",
    "version": 3
   },
   "file_extension": ".py",
   "mimetype": "text/x-python",
   "name": "python",
   "nbconvert_exporter": "python",
   "pygments_lexer": "ipython3",
   "version": "3.12.7"
  }
 },
 "nbformat": 4,
 "nbformat_minor": 2
}
